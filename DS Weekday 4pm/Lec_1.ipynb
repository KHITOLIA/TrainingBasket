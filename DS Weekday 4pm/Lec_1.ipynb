{
 "cells": [
  {
   "cell_type": "code",
   "execution_count": 5,
   "id": "964a8294-7cbc-41b6-9e76-e77cedfa7d30",
   "metadata": {},
   "outputs": [
    {
     "name": "stdout",
     "output_type": "stream",
     "text": [
      "odd\n"
     ]
    }
   ],
   "source": [
    "b = 53\n",
    "a = 2\n",
    "\n",
    "r = b - a*(b//a)\n",
    "if r == 1:\n",
    "    print(\"odd\")\n",
    "else:\n",
    "    print(\"even\")"
   ]
  },
  {
   "cell_type": "code",
   "execution_count": 2,
   "id": "7fa052b5-7f9f-4c1b-83fb-89c508f79e24",
   "metadata": {},
   "outputs": [
    {
     "data": {
      "text/plain": [
       "1"
      ]
     },
     "execution_count": 2,
     "metadata": {},
     "output_type": "execute_result"
    }
   ],
   "source": [
    "r"
   ]
  },
  {
   "cell_type": "code",
   "execution_count": 8,
   "id": "03b9c329-acfa-4391-802a-d5f3ae30b4f8",
   "metadata": {},
   "outputs": [
    {
     "name": "stdout",
     "output_type": "stream",
     "text": [
      "prime\n"
     ]
    }
   ],
   "source": [
    "num = 53\n",
    "for i in range(77//2,77):\n",
    "    if num%2==0:\n",
    "        print(\"not prime\")\n",
    "print(\"prime\")"
   ]
  },
  {
   "cell_type": "code",
   "execution_count": 9,
   "id": "c49f3b63-01e3-4b6a-8f16-4b776b634e3f",
   "metadata": {},
   "outputs": [],
   "source": [
    "n = 53\n",
    "fact = 0\n",
    "for i in range(1, n+1):\n",
    "    if n%i == 0 :\n",
    "        fact += 1\n",
    "        "
   ]
  },
  {
   "cell_type": "code",
   "execution_count": 10,
   "id": "2a3c0273-8dfa-44a7-836d-ef82fb1fa76a",
   "metadata": {},
   "outputs": [
    {
     "data": {
      "text/plain": [
       "2"
      ]
     },
     "execution_count": 10,
     "metadata": {},
     "output_type": "execute_result"
    }
   ],
   "source": [
    "fact"
   ]
  },
  {
   "cell_type": "code",
   "execution_count": 11,
   "id": "8c68a1a4-6b0b-4cec-ac92-bf9192e10629",
   "metadata": {},
   "outputs": [
    {
     "name": "stdout",
     "output_type": "stream",
     "text": [
      "prime\n"
     ]
    }
   ],
   "source": [
    "if fact > 2:\n",
    "    print(\"not a prime\")\n",
    "else:\n",
    "    print(\"prime\")"
   ]
  },
  {
   "cell_type": "code",
   "execution_count": 12,
   "id": "23f4d8a1-5bb5-45a5-b44b-24279b99e460",
   "metadata": {},
   "outputs": [
    {
     "data": {
      "text/plain": [
       "12345"
      ]
     },
     "execution_count": 12,
     "metadata": {},
     "output_type": "execute_result"
    }
   ],
   "source": [
    "12345\n"
   ]
  },
  {
   "cell_type": "code",
   "execution_count": 13,
   "id": "28ee385a-9178-448f-bc8b-0394758723f3",
   "metadata": {},
   "outputs": [
    {
     "data": {
      "text/plain": [
       "54321"
      ]
     },
     "execution_count": 13,
     "metadata": {},
     "output_type": "execute_result"
    }
   ],
   "source": [
    "54321"
   ]
  },
  {
   "cell_type": "code",
   "execution_count": 17,
   "id": "c54f1f72-84cc-46df-8257-2b47857c7b37",
   "metadata": {},
   "outputs": [
    {
     "ename": "SyntaxError",
     "evalue": "invalid non-printable character U+00A0 (2616414874.py, line 6)",
     "output_type": "error",
     "traceback": [
      "\u001b[1;36m  Cell \u001b[1;32mIn[17], line 6\u001b[1;36m\u001b[0m\n\u001b[1;33m    num = num//10\u001b[0m\n\u001b[1;37m       ^\u001b[0m\n\u001b[1;31mSyntaxError\u001b[0m\u001b[1;31m:\u001b[0m invalid non-printable character U+00A0\n"
     ]
    }
   ],
   "source": [
    "num = 12345\n",
    "su = 0\n",
    "while num!=0:\n",
    "    r = num%10\n",
    "    su = su*10 + r\n",
    "    num = num//10\n",
    "su"
   ]
  },
  {
   "cell_type": "code",
   "execution_count": 18,
   "id": "e7ed5d32-d226-4d65-be35-23218addeb7c",
   "metadata": {},
   "outputs": [],
   "source": [
    "n = 12345\n",
    "su = 0\n",
    "while num != 0:\n",
    "    r = num%10\n",
    "    su = su*10 + r\n",
    "    num = num//10"
   ]
  },
  {
   "cell_type": "code",
   "execution_count": 19,
   "id": "5e583339-09d7-41e0-a1b8-7b0fb56f03e8",
   "metadata": {},
   "outputs": [
    {
     "data": {
      "text/plain": [
       "54321"
      ]
     },
     "execution_count": 19,
     "metadata": {},
     "output_type": "execute_result"
    }
   ],
   "source": [
    "su"
   ]
  },
  {
   "cell_type": "code",
   "execution_count": 23,
   "id": "ab0efe16-5b37-46c8-9aff-fd33aa4e0cba",
   "metadata": {},
   "outputs": [],
   "source": [
    "st = \"this is data science\"\n",
    "rev = \"\"\n",
    "for i in st:\n",
    "    rev = i + rev"
   ]
  },
  {
   "cell_type": "code",
   "execution_count": 24,
   "id": "5e8159e3-7a42-4541-a093-f8a384c319d6",
   "metadata": {},
   "outputs": [
    {
     "data": {
      "text/plain": [
       "'ecneics atad si siht'"
      ]
     },
     "execution_count": 24,
     "metadata": {},
     "output_type": "execute_result"
    }
   ],
   "source": [
    "rev"
   ]
  },
  {
   "cell_type": "code",
   "execution_count": 25,
   "id": "d5f7737b-d3d4-4f44-b224-10b83ce54941",
   "metadata": {},
   "outputs": [
    {
     "data": {
      "text/plain": [
       "['this', 'is', 'data', 'science']"
      ]
     },
     "execution_count": 25,
     "metadata": {},
     "output_type": "execute_result"
    }
   ],
   "source": [
    "st.split()"
   ]
  },
  {
   "cell_type": "code",
   "execution_count": 29,
   "id": "f4ccee5f-55e3-4a47-8b60-ea0fe78bf7f0",
   "metadata": {},
   "outputs": [
    {
     "data": {
      "text/plain": [
       "'a'"
      ]
     },
     "execution_count": 29,
     "metadata": {},
     "output_type": "execute_result"
    }
   ],
   "source": [
    "chr(97)"
   ]
  },
  {
   "cell_type": "code",
   "execution_count": 30,
   "id": "5d699fa7-15d4-427d-8cf5-9ceb6d4fa155",
   "metadata": {},
   "outputs": [
    {
     "data": {
      "text/plain": [
       "'A'"
      ]
     },
     "execution_count": 30,
     "metadata": {},
     "output_type": "execute_result"
    }
   ],
   "source": [
    "chr(65)"
   ]
  },
  {
   "cell_type": "code",
   "execution_count": 31,
   "id": "12a7cc83-8f81-4d96-a577-97505c08e623",
   "metadata": {},
   "outputs": [
    {
     "data": {
      "text/plain": [
       "65"
      ]
     },
     "execution_count": 31,
     "metadata": {},
     "output_type": "execute_result"
    }
   ],
   "source": [
    "ord(\"A\")"
   ]
  },
  {
   "cell_type": "code",
   "execution_count": 34,
   "id": "6ab38438-b556-4e96-9d3c-f2e091fa025a",
   "metadata": {},
   "outputs": [
    {
     "data": {
      "text/plain": [
       "'a'"
      ]
     },
     "execution_count": 34,
     "metadata": {},
     "output_type": "execute_result"
    }
   ],
   "source": [
    "chr(ord(\"A\") + 32)"
   ]
  },
  {
   "cell_type": "code",
   "execution_count": 35,
   "id": "cdb46e5f-6578-40ef-b20b-ebbb44958666",
   "metadata": {},
   "outputs": [
    {
     "data": {
      "text/plain": [
       "'this is data science'"
      ]
     },
     "execution_count": 35,
     "metadata": {},
     "output_type": "execute_result"
    }
   ],
   "source": [
    "st"
   ]
  },
  {
   "cell_type": "code",
   "execution_count": 36,
   "id": "b56266d0-4860-4780-8861-f5a5c224c0ae",
   "metadata": {},
   "outputs": [
    {
     "name": "stdout",
     "output_type": "stream",
     "text": [
      "t  :  2\n",
      "h  :  1\n",
      "i  :  3\n",
      "y  :  1\n",
      "r  :  1\n",
      "   :  3\n",
      "s  :  3\n",
      "g  :  1\n",
      "n  :  1\n",
      "m  :  1\n"
     ]
    }
   ],
   "source": [
    "st = \"this is my string\"\n",
    "l = list(st)\n",
    "y = list(set(st))\n",
    "for i in y:\n",
    "    n = 0\n",
    "    for j in l:\n",
    "        if i == j:\n",
    "            n+=1\n",
    "    print(f\"{i}  :  {n}\")"
   ]
  },
  {
   "cell_type": "code",
   "execution_count": 37,
   "id": "c19c475f-c4af-422b-b6b7-2beec689f49d",
   "metadata": {},
   "outputs": [
    {
     "name": "stdout",
     "output_type": "stream",
     "text": [
      "count of  T 2\n",
      "count of  H 1\n",
      "count of  I 3\n",
      "count of  S 3\n",
      "count of    3\n",
      "count of  M 1\n",
      "count of  Y 1\n",
      "count of  R 1\n",
      "count of  N 1\n",
      "count of  G 1\n"
     ]
    }
   ],
   "source": [
    "st = st.upper()\n",
    "b = []\n",
    "for i in st:\n",
    "    if i not in b:\n",
    "        b.append(i)\n",
    "        print(\"count of \", i, st.count(i))"
   ]
  },
  {
   "cell_type": "code",
   "execution_count": 39,
   "id": "64783060-d359-4caa-80c1-49a5524acd5b",
   "metadata": {},
   "outputs": [],
   "source": [
    "l1 = [2,3,4,5,5,6,6,7]\n",
    "l2 = [2, 3, 5, 9, 10]\n",
    "# print common element from both list\n"
   ]
  },
  {
   "cell_type": "code",
   "execution_count": 42,
   "id": "e486cba6-6a24-4f45-9f26-afaf70179a22",
   "metadata": {},
   "outputs": [
    {
     "name": "stdout",
     "output_type": "stream",
     "text": [
      "2\n",
      "3\n",
      "5\n"
     ]
    }
   ],
   "source": [
    "l1 = [2,3,4,5,5,6,6,7]\n",
    "l2 = [2,3,5,9,10]\n",
    "l = []\n",
    "for i in l1:\n",
    "    if i not in l:\n",
    "        l += [i]\n",
    "# print(l)\n",
    "\n",
    "for i in l:\n",
    "    if i in l2:\n",
    "        print(i)"
   ]
  },
  {
   "cell_type": "code",
   "execution_count": null,
   "id": "ae491c3b-9920-453a-b6fb-8cd80ec8c647",
   "metadata": {},
   "outputs": [],
   "source": []
  }
 ],
 "metadata": {
  "kernelspec": {
   "display_name": "Python 3 (ipykernel)",
   "language": "python",
   "name": "python3"
  },
  "language_info": {
   "codemirror_mode": {
    "name": "ipython",
    "version": 3
   },
   "file_extension": ".py",
   "mimetype": "text/x-python",
   "name": "python",
   "nbconvert_exporter": "python",
   "pygments_lexer": "ipython3",
   "version": "3.12.7"
  }
 },
 "nbformat": 4,
 "nbformat_minor": 5
}
