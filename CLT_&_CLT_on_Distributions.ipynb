{
 "cells": [
  {
   "cell_type": "markdown",
   "id": "6a2b6e8b-9e87-49f9-b4aa-8798b85b0073",
   "metadata": {},
   "source": [
    "# Types of distribution\n",
    "# Discrete Distribution\n",
    "1. Bernaulli\n",
    "2. Binomial\n",
    "3. Poisson\n",
    "# Conitnous Distribution\n",
    "1. Uniform Distribution\n",
    "2. Exponential Distribution\n",
    "3. Log Normal Distribution\n",
    "4. Gamma Distribution"
   ]
  },
  {
   "cell_type": "code",
   "execution_count": 1,
   "id": "23c5d994-88ba-4581-9772-ce13dfd88d09",
   "metadata": {},
   "outputs": [],
   "source": [
    "import numpy as np\n",
    "import pandas as pd\n",
    "import matplotlib.pyplot as plt"
   ]
  },
  {
   "cell_type": "code",
   "execution_count": 2,
   "id": "9fa3b2f3-22db-4be5-8349-6c4cd439f584",
   "metadata": {},
   "outputs": [],
   "source": [
    "# Bernaulli Distribution"
   ]
  },
  {
   "cell_type": "code",
   "execution_count": 3,
   "id": "eb06a5c8-8c67-4004-a5d5-962b4ea9ddaa",
   "metadata": {},
   "outputs": [],
   "source": [
    "n = 10 # number of trials  coin toss 10 bar coin toss hora hai \n",
    "p = 0.8 # probability of success ,change this value as well\n",
    "size = 1000 # number of samples to generate\n",
    "\n",
    "binomial_dist = np.random.binomial(n, p , size)"
   ]
  },
  {
   "cell_type": "code",
   "execution_count": 4,
   "id": "9d32b25d-5a6f-49ff-8b34-9a35fb2e023d",
   "metadata": {},
   "outputs": [
    {
     "data": {
      "text/plain": [
       "array([ 8,  6,  9,  9,  7,  7,  8,  8,  9,  8,  8,  7,  9,  7,  7,  8,  8,\n",
       "        8,  8,  6,  7,  9, 10,  7,  9,  9,  8,  8,  9,  9,  7,  7,  7,  8,\n",
       "        8,  8, 10,  9,  5,  9,  9,  7,  8, 10, 10,  9,  7,  9,  8, 10, 10,\n",
       "        9,  8,  6,  8,  5,  7,  9,  6, 10, 10,  9,  8, 10,  9,  7, 10,  6,\n",
       "        8,  9,  7,  9,  6,  9,  7,  6,  8, 10,  7,  8, 10,  6,  6,  9,  6,\n",
       "        9,  7,  8,  9,  9,  6,  7,  8,  9,  9,  7,  9,  9,  8, 10, 10,  9,\n",
       "        8,  8,  7,  9,  8,  8,  8,  9,  7,  7,  8,  8,  8, 10,  9,  9, 10,\n",
       "        9,  9,  9,  8,  9,  7,  9,  5,  8,  7,  8,  6, 10,  7,  8,  9,  9,\n",
       "        9,  9,  7, 10,  9,  8, 10,  6,  7,  9,  9,  8,  8,  9, 10,  9,  7,\n",
       "       10,  7,  9,  8, 10,  8,  5,  7,  9,  8,  9,  9,  8,  9,  7,  7,  8,\n",
       "        8,  8,  9,  6,  8,  8,  9,  6,  7, 10,  9,  7,  7,  9,  8, 10,  7,\n",
       "        9, 10,  8,  9,  7, 10,  8, 10,  9,  8,  6,  7,  7,  9,  8,  6,  8,\n",
       "        8, 10,  9,  7,  7, 10,  7,  9,  7, 10,  8,  7,  8,  7,  6,  9,  9,\n",
       "        9,  7,  9,  6,  7,  7, 10, 10,  9,  5,  6,  9,  9,  7,  9,  8, 10,\n",
       "       10,  9,  8,  8,  8, 10,  8,  6,  9,  6,  8,  7,  8, 10,  9,  7,  8,\n",
       "        8,  7,  9,  8,  9,  9,  8,  9,  9,  7,  8,  8,  9, 10,  6,  5,  9,\n",
       "        9,  9,  8, 10, 10,  9, 10,  7,  8,  8,  9,  8,  8, 10,  7,  8,  8,\n",
       "       10, 10,  8,  9,  7,  7,  8,  8,  9, 10,  8,  8,  8, 10,  8,  9,  5,\n",
       "        9,  8,  7,  7,  8,  8,  8,  7,  6,  9,  8,  7,  7,  7,  6,  8,  8,\n",
       "       10,  7,  8,  8, 10,  8,  8,  8,  6,  8,  7, 10,  8,  8,  8,  8,  9,\n",
       "        8,  6,  9, 10,  8,  7, 10,  7, 10,  8,  8,  9,  8,  8,  7,  7,  9,\n",
       "        8, 10, 10,  7, 10,  8,  8,  6,  8,  8,  9,  9,  8,  7,  7,  7,  7,\n",
       "        8,  9,  7,  7,  5,  6,  9, 10,  8,  9,  8,  8,  8,  5,  8,  9,  8,\n",
       "        9,  8,  9,  7,  9, 10,  9,  9,  9,  9,  9,  7,  9,  8,  8,  9,  5,\n",
       "        8,  8,  8,  6,  7,  9,  5, 10,  7,  6,  9,  9,  6,  8,  9, 10,  8,\n",
       "        9,  8,  8,  7,  9, 10,  8,  8,  9,  7,  9,  6,  9, 10,  8,  8,  9,\n",
       "        9, 10,  8,  9,  7,  4,  9,  7,  8,  7,  9,  5,  7,  9,  6,  8,  8,\n",
       "        6,  7, 10,  8, 10,  9,  7, 10,  7,  8,  8,  8,  6,  9, 10,  7,  7,\n",
       "        8,  6, 10,  7,  9,  7,  8,  8,  7,  8,  9,  7,  9,  8,  9,  9,  9,\n",
       "        9,  6,  8,  8,  6, 10, 10,  8,  8,  9, 10,  9, 10,  6,  7,  8,  8,\n",
       "        9,  8,  9,  7,  8,  9,  9,  7,  8,  6,  9,  7,  5,  9,  6,  9,  8,\n",
       "        8,  9, 10,  7,  9,  6,  8, 10, 10,  8, 10,  6,  7,  8,  8,  6,  7,\n",
       "       10,  9,  7,  9,  7,  8,  8,  8,  9,  8, 10,  8,  8,  5,  6,  8,  8,\n",
       "        8, 10, 10,  9,  6,  5,  8,  8,  8,  9,  9,  9,  9, 10, 10,  9,  7,\n",
       "        8,  5,  9,  8, 10,  9, 10, 10,  9,  9, 10, 10,  9,  5, 10,  8,  7,\n",
       "        9,  7,  7,  9,  9,  8,  8,  8,  8,  8,  9,  8,  9,  6,  6,  8,  6,\n",
       "        7,  7,  5,  8,  8, 10,  7,  8, 10,  7,  8,  6,  8,  8, 10,  8, 10,\n",
       "        7, 10,  9,  7,  8,  8,  7,  9,  8,  8,  7, 10,  8,  8,  6, 10,  7,\n",
       "        9,  8,  7,  9,  6,  8,  9,  8,  7,  9,  5,  7,  8,  8, 10,  8,  9,\n",
       "        6,  9,  7,  9,  7,  9, 10,  8,  9,  7,  9,  9,  9, 10,  9,  8,  7,\n",
       "        8,  9,  8,  9,  9,  9,  9,  5,  8,  8, 10,  8,  6, 10,  7,  7,  8,\n",
       "        8,  8,  7,  9,  8, 10,  9,  8,  7,  9,  7,  7,  8,  8,  8,  9,  8,\n",
       "        9,  6,  9,  7,  6,  8,  7,  7,  7,  9,  9,  6,  7,  7,  8,  6,  9,\n",
       "        7,  9,  7,  7,  7,  8,  9,  7,  6,  8, 10,  9,  7, 10,  8,  9,  7,\n",
       "       10,  5,  8,  9,  5,  9,  8,  9,  7,  8,  7,  9,  6,  7,  7,  8,  7,\n",
       "        6,  8,  9,  5,  8,  7,  8, 10,  8,  8, 10,  9,  7, 10,  7,  6,  8,\n",
       "        6, 10,  6,  6,  8,  6,  9,  9,  8,  9,  8,  4,  6,  4,  6, 10,  7,\n",
       "        9,  9,  9,  9,  8,  7,  7,  6,  7,  8,  9,  9, 10, 10,  7,  8,  8,\n",
       "        8, 10,  8,  9,  9,  8,  9, 10,  8, 10, 10,  7,  9,  9,  7,  8,  9,\n",
       "        7,  8,  6,  9,  9,  9,  8,  9,  8,  8,  7,  7,  9,  8,  9,  8, 10,\n",
       "        9,  8,  8,  9,  8, 10,  8,  9, 10,  8,  8,  8,  8,  8,  9,  6,  9,\n",
       "        8,  9,  9,  8,  9,  7, 10, 10, 10,  8, 10,  8,  9,  7,  6,  9,  8,\n",
       "        6,  8,  8,  8,  9,  9, 10, 10,  9,  7,  8,  9, 10,  9,  9,  9,  9,\n",
       "        7,  8, 10,  8,  5,  7,  7,  8,  9,  8,  9,  9,  6,  8,  6,  9,  9,\n",
       "        7,  8,  8,  8,  8,  8,  9,  9,  7,  7,  6,  6,  6,  9,  9, 10,  9,\n",
       "        7,  8,  7,  7,  6, 10,  9,  8,  9,  8,  6,  7,  9,  9, 10,  8,  9,\n",
       "       10,  7,  8,  7,  6,  7,  9,  9,  7,  7,  7,  8,  8,  8,  9,  7,  8,\n",
       "        9,  7,  7,  9,  8,  9,  6,  8,  8,  7,  7, 10,  9,  8,  8,  8,  8,\n",
       "        7,  7,  9,  7,  8,  8,  6,  8,  8,  6,  8, 10,  8,  9])"
      ]
     },
     "execution_count": 4,
     "metadata": {},
     "output_type": "execute_result"
    }
   ],
   "source": [
    "binomial_dist  # here first wala 8 means pehli bar jab sikka toss kiya toh sucess kitni br aaaya 8 br"
   ]
  },
  {
   "cell_type": "code",
   "execution_count": 5,
   "id": "98ba90d8-810f-42ed-885c-576a5170e8e7",
   "metadata": {},
   "outputs": [
    {
     "data": {
      "image/png": "[encoded data removed]",
      "text/plain": [
       "<Figure size 640x480 with 1 Axes>"
      ]
     },
     "metadata": {},
     "output_type": "display_data"
    }
   ],
   "source": [
    "plt.hist(binomial_dist, density=True, edgecolor = 'yellow', color = 'black', label = 'Binomial Distribution')\n",
    "plt.xlabel('trials')\n",
    "plt.ylabel('Probability of success in each trial')\n",
    "plt.legend()\n",
    "plt.show()"
   ]
  },
  {
   "cell_type": "code",
   "execution_count": 6,
   "id": "f8060b85-1142-43d0-b1d1-e25805dc566f",
   "metadata": {},
   "outputs": [],
   "source": [
    "# Bernaulli Distribution"
   ]
  },
  {
   "cell_type": "code",
   "execution_count": 7,
   "id": "4dfefd17-a685-4713-a02a-cfa0d3cd4b5e",
   "metadata": {},
   "outputs": [],
   "source": [
    "n = 1 # only one trial\n",
    "p = 0.5 # Tossing a coin one time \n",
    "size = 1000 # sample size \n",
    "\n",
    "bernaulli_dist = np.random.binomial(n, p, size)"
   ]
  },
  {
   "cell_type": "code",
   "execution_count": 8,
   "id": "527eb1f9-a6c1-4c88-a961-b0447dbdebd2",
   "metadata": {},
   "outputs": [
    {
     "data": {
      "text/plain": [
       "array([1, 1, 0, 1, 0, 1, 1, 0, 0, 0, 1, 1, 1, 1, 1, 1, 0, 1, 0, 1, 0, 1,\n",
       "       0, 0, 1, 1, 0, 0, 1, 1, 1, 1, 1, 0, 0, 0, 0, 1, 0, 0, 1, 0, 0, 0,\n",
       "       1, 1, 1, 1, 1, 1, 0, 1, 0, 0, 0, 1, 0, 0, 1, 1, 0, 0, 1, 0, 0, 0,\n",
       "       0, 1, 0, 1, 0, 0, 1, 1, 1, 0, 1, 1, 1, 0, 0, 1, 1, 0, 0, 0, 1, 1,\n",
       "       0, 0, 1, 1, 0, 1, 0, 0, 0, 1, 1, 1, 0, 0, 0, 0, 1, 0, 1, 0, 0, 0,\n",
       "       1, 1, 0, 0, 0, 0, 1, 0, 0, 0, 0, 1, 1, 1, 0, 0, 0, 1, 0, 0, 1, 1,\n",
       "       1, 1, 0, 0, 0, 0, 1, 1, 1, 1, 1, 0, 0, 0, 1, 1, 1, 1, 0, 0, 0, 1,\n",
       "       0, 0, 1, 0, 0, 1, 0, 1, 0, 0, 0, 0, 1, 1, 0, 0, 1, 0, 1, 0, 0, 0,\n",
       "       0, 0, 1, 1, 1, 0, 1, 1, 1, 1, 1, 1, 1, 0, 1, 0, 0, 0, 1, 1, 0, 1,\n",
       "       0, 0, 0, 0, 1, 1, 0, 0, 0, 1, 1, 0, 0, 1, 1, 1, 1, 0, 0, 0, 1, 1,\n",
       "       1, 1, 0, 1, 1, 0, 1, 1, 1, 1, 0, 1, 1, 0, 0, 1, 1, 0, 0, 1, 0, 1,\n",
       "       1, 1, 1, 0, 1, 1, 0, 0, 1, 1, 0, 0, 0, 0, 0, 1, 1, 0, 1, 1, 0, 1,\n",
       "       1, 1, 1, 0, 0, 0, 0, 0, 1, 1, 1, 0, 1, 0, 0, 0, 1, 0, 1, 1, 1, 0,\n",
       "       1, 1, 1, 0, 0, 1, 1, 1, 1, 0, 1, 0, 0, 0, 1, 1, 0, 1, 0, 0, 0, 1,\n",
       "       0, 1, 0, 0, 0, 1, 0, 1, 0, 1, 1, 1, 1, 0, 0, 0, 0, 1, 1, 0, 0, 1,\n",
       "       0, 1, 0, 0, 1, 1, 1, 0, 0, 1, 0, 1, 1, 0, 0, 0, 0, 0, 0, 0, 0, 0,\n",
       "       0, 0, 0, 1, 1, 1, 1, 0, 0, 0, 1, 0, 1, 0, 1, 1, 1, 1, 1, 1, 0, 1,\n",
       "       0, 1, 1, 0, 0, 1, 0, 0, 1, 0, 0, 1, 0, 0, 0, 1, 0, 0, 1, 1, 1, 1,\n",
       "       1, 1, 1, 0, 1, 0, 1, 0, 0, 0, 1, 0, 1, 0, 0, 1, 1, 0, 0, 0, 0, 0,\n",
       "       0, 1, 0, 0, 1, 0, 0, 0, 0, 1, 0, 0, 1, 0, 1, 0, 1, 1, 0, 1, 0, 1,\n",
       "       0, 0, 1, 1, 1, 1, 0, 0, 0, 1, 0, 0, 1, 1, 1, 0, 0, 0, 0, 1, 1, 0,\n",
       "       1, 1, 1, 1, 0, 0, 0, 1, 1, 1, 1, 1, 0, 1, 1, 0, 1, 0, 0, 0, 0, 0,\n",
       "       0, 1, 1, 0, 0, 0, 1, 0, 0, 0, 1, 0, 1, 0, 1, 1, 0, 0, 1, 1, 0, 1,\n",
       "       1, 0, 1, 1, 0, 0, 0, 1, 0, 0, 1, 1, 1, 1, 1, 1, 0, 1, 0, 0, 1, 0,\n",
       "       0, 0, 1, 0, 0, 0, 0, 1, 1, 0, 1, 0, 0, 0, 1, 1, 1, 1, 1, 0, 0, 0,\n",
       "       1, 0, 1, 0, 0, 1, 0, 0, 0, 0, 0, 1, 0, 0, 1, 1, 0, 0, 1, 0, 0, 0,\n",
       "       0, 1, 1, 0, 1, 1, 0, 0, 0, 0, 0, 1, 1, 0, 1, 0, 1, 1, 0, 1, 0, 0,\n",
       "       0, 0, 0, 0, 1, 0, 0, 0, 1, 1, 1, 0, 1, 1, 1, 0, 1, 0, 0, 1, 0, 0,\n",
       "       1, 1, 1, 0, 1, 1, 0, 1, 1, 1, 1, 1, 1, 0, 0, 1, 0, 1, 0, 0, 1, 0,\n",
       "       0, 1, 0, 0, 1, 0, 0, 1, 0, 1, 0, 0, 1, 0, 1, 1, 1, 1, 0, 0, 0, 1,\n",
       "       1, 1, 1, 1, 0, 0, 0, 0, 0, 0, 0, 1, 1, 1, 1, 0, 1, 0, 0, 0, 0, 1,\n",
       "       0, 0, 0, 0, 0, 1, 1, 1, 0, 0, 0, 0, 1, 1, 1, 0, 0, 1, 0, 1, 0, 1,\n",
       "       1, 1, 1, 0, 1, 0, 1, 0, 0, 0, 1, 0, 0, 0, 0, 0, 1, 0, 1, 0, 1, 1,\n",
       "       1, 1, 1, 0, 1, 0, 0, 0, 0, 0, 0, 1, 1, 1, 1, 0, 1, 1, 0, 0, 0, 1,\n",
       "       0, 1, 0, 0, 1, 0, 0, 0, 0, 1, 0, 0, 0, 1, 0, 0, 0, 0, 0, 1, 0, 0,\n",
       "       0, 0, 1, 1, 1, 0, 1, 1, 0, 1, 1, 0, 1, 1, 0, 0, 0, 1, 1, 0, 0, 0,\n",
       "       1, 1, 1, 0, 0, 1, 0, 0, 1, 0, 0, 0, 1, 1, 0, 1, 0, 0, 0, 1, 1, 1,\n",
       "       1, 0, 1, 1, 0, 1, 1, 0, 0, 0, 0, 0, 1, 1, 1, 0, 0, 1, 1, 0, 1, 1,\n",
       "       1, 1, 0, 1, 0, 0, 1, 1, 0, 0, 0, 0, 0, 1, 0, 1, 0, 1, 0, 1, 0, 1,\n",
       "       1, 0, 1, 0, 0, 0, 0, 0, 1, 0, 1, 0, 0, 0, 1, 1, 1, 0, 1, 0, 0, 0,\n",
       "       0, 1, 1, 1, 0, 1, 1, 1, 1, 0, 0, 0, 0, 0, 0, 0, 0, 1, 0, 1, 1, 1,\n",
       "       0, 0, 1, 0, 0, 1, 0, 1, 1, 1, 1, 1, 0, 1, 0, 1, 0, 1, 0, 0, 0, 0,\n",
       "       1, 0, 0, 0, 1, 1, 1, 1, 0, 0, 0, 1, 0, 0, 0, 1, 1, 1, 1, 1, 1, 1,\n",
       "       0, 0, 0, 0, 0, 0, 0, 1, 0, 1, 1, 0, 0, 0, 0, 0, 0, 1, 0, 1, 1, 1,\n",
       "       1, 1, 1, 0, 1, 0, 0, 1, 1, 1, 1, 1, 1, 1, 1, 0, 0, 0, 0, 1, 0, 1,\n",
       "       1, 0, 0, 0, 0, 0, 1, 0, 1, 1])"
      ]
     },
     "execution_count": 8,
     "metadata": {},
     "output_type": "execute_result"
    }
   ],
   "source": [
    "bernaulli_dist"
   ]
  },
  {
   "cell_type": "code",
   "execution_count": 9,
   "id": "613c7a6f-4066-4e7e-a958-df0baa84b10d",
   "metadata": {},
   "outputs": [
    {
     "data": {
      "image/png": "[encoded data removed]",
      "text/plain": [
       "<Figure size 640x480 with 1 Axes>"
      ]
     },
     "metadata": {},
     "output_type": "display_data"
    }
   ],
   "source": [
    "plt.hist(bernaulli_dist, density=True, edgecolor = 'yellow', color = 'black', label = 'Bernaulli Distribution')\n",
    "plt.xlabel('trials')\n",
    "plt.ylabel('Probability of success in each trial')\n",
    "plt.legend()\n",
    "plt.show()"
   ]
  },
  {
   "cell_type": "code",
   "execution_count": 10,
   "id": "7804e36a-39c5-4788-b3ba-e91f5aff3b48",
   "metadata": {},
   "outputs": [],
   "source": [
    "# Poisson Distribution + CLT implementation"
   ]
  },
  {
   "cell_type": "code",
   "execution_count": 11,
   "id": "759a6f1d-74f9-464b-9e29-92766087d183",
   "metadata": {},
   "outputs": [],
   "source": [
    "# Set parameters\n",
    "num_samples = 1000\n",
    "sample_size = 500\n",
    "poisson_lambda = 5\n",
    "\n",
    "theoritical_mean =  poisson_lambda # now find the statistical parameter to check inference about the distribution using CLT\n",
    "theoritical_var = poisson_lambda \n",
    "\n",
    "poisson_dist = np.random.poisson(lam = poisson_lambda, size = (num_samples, sample_size))"
   ]
  },
  {
   "cell_type": "code",
   "execution_count": 12,
   "id": "a5da853b-2b61-4101-bb6f-365ae055fcc0",
   "metadata": {},
   "outputs": [
    {
     "data": {
      "text/plain": [
       "array([[4, 4, 4, ..., 1, 3, 9],\n",
       "       [6, 2, 8, ..., 3, 3, 4],\n",
       "       [6, 4, 3, ..., 4, 3, 4],\n",
       "       ...,\n",
       "       [3, 7, 3, ..., 6, 6, 5],\n",
       "       [5, 4, 4, ..., 2, 3, 7],\n",
       "       [7, 2, 6, ..., 8, 5, 6]])"
      ]
     },
     "execution_count": 12,
     "metadata": {},
     "output_type": "execute_result"
    }
   ],
   "source": [
    "poisson_dist"
   ]
  },
  {
   "cell_type": "code",
   "execution_count": 13,
   "id": "67b8d2b1-2829-4a72-afa1-b331576a1a7a",
   "metadata": {},
   "outputs": [],
   "source": [
    "# so here we cannot plot this graph directly we need to apply clt theoram here \n",
    "# find the mean of each sample and make a sample distribution then we can plot this distribution"
   ]
  },
  {
   "cell_type": "code",
   "execution_count": 14,
   "id": "3a70f682-3450-4b6f-a46c-43da6fa9e258",
   "metadata": {},
   "outputs": [],
   "source": [
    "poisson_sample_means = np.mean(poisson_dist, axis = 1)"
   ]
  },
  {
   "cell_type": "code",
   "execution_count": 15,
   "id": "ab43e184-3141-4319-9e5c-5985bd01eace",
   "metadata": {},
   "outputs": [
    {
     "data": {
      "image/png": "[encoded data removed]",
      "text/plain": [
       "<Figure size 640x480 with 1 Axes>"
      ]
     },
     "metadata": {},
     "output_type": "display_data"
    }
   ],
   "source": [
    "plt.hist(poisson_sample_means, density=True, edgecolor = 'yellow', color = 'black', label = 'Sample Mean Poisson Distribution')\n",
    "plt.title(\"Histogram of Sample Means(Poisson Distribution)\")\n",
    "plt.xlabel('Sample Means')\n",
    "plt.ylabel('Density')\n",
    "plt.legend()\n",
    "plt.show()"
   ]
  },
  {
   "cell_type": "code",
   "execution_count": 16,
   "id": "5cb68a3f-6444-42cb-82d5-2da67dd72bd9",
   "metadata": {},
   "outputs": [],
   "source": [
    "# Now check the inference about the distribution using CLT for finding the mean and variance"
   ]
  },
  {
   "cell_type": "code",
   "execution_count": 17,
   "id": "3972cdfc-325c-48a6-8e86-b2445109e1fa",
   "metadata": {},
   "outputs": [],
   "source": [
    "def poisson_clt(dist, lambda_param):\n",
    "    theoritical_mean = lambda_param\n",
    "    theoritical_var = lambda_param\n",
    "    sample_mean = np.mean(dist, axis = 1)\n",
    "    emperical_mean = np.mean(sample_mean)\n",
    "    emperical_var = np.var(sample_mean)\n",
    "    return emperical_mean, emperical_var"
   ]
  },
  {
   "cell_type": "code",
   "execution_count": 18,
   "id": "f309e0e7-5f34-4bcc-b0ed-15b1115b2bdb",
   "metadata": {},
   "outputs": [
    {
     "data": {
      "text/plain": [
       "(5.001664, 0.010971783103999998)"
      ]
     },
     "execution_count": 18,
     "metadata": {},
     "output_type": "execute_result"
    }
   ],
   "source": [
    "poisson_clt(poisson_dist,lambda_param=poisson_lambda)"
   ]
  },
  {
   "cell_type": "code",
   "execution_count": 19,
   "id": "a6691036-8571-4e3f-896e-d457c858988a",
   "metadata": {},
   "outputs": [
    {
     "data": {
      "text/plain": [
       "(5, 5)"
      ]
     },
     "execution_count": 19,
     "metadata": {},
     "output_type": "execute_result"
    }
   ],
   "source": [
    "theoritical_mean, theoritical_var"
   ]
  },
  {
   "cell_type": "code",
   "execution_count": 20,
   "id": "d9054dc9-932d-4396-9423-c3eba28f7f97",
   "metadata": {},
   "outputs": [],
   "source": [
    "# Uniform Distribution + CLT implementation"
   ]
  },
  {
   "cell_type": "code",
   "execution_count": 21,
   "id": "c82370c5-afd2-47f3-a7e0-433d6fd6e19d",
   "metadata": {},
   "outputs": [],
   "source": [
    "# Set Parameters\n",
    "num_samples = 1000\n",
    "sample_size = 100\n",
    "distribution_range = (0, 1)\n",
    "a = distribution_range[0]\n",
    "b = distribution_range[1]\n",
    "theoritical_mean = (a+b)/2\n",
    "theoritical_var = ((b-a)**2)/12\n",
    "\n",
    "uniform_dist = np.random.uniform(distribution_range[0], distribution_range[1], size = (num_samples, sample_size))"
   ]
  },
  {
   "cell_type": "code",
   "execution_count": 22,
   "id": "7bf3cef4-2a20-4e50-8566-af7b75f81a79",
   "metadata": {},
   "outputs": [
    {
     "data": {
      "text/plain": [
       "array([[0.21145613, 0.28365385, 0.14770532, ..., 0.5180474 , 0.58882169,\n",
       "        0.86165349],\n",
       "       [0.20388568, 0.42191203, 0.83074958, ..., 0.17486102, 0.51532595,\n",
       "        0.54853535],\n",
       "       [0.74928457, 0.09339641, 0.26408574, ..., 0.64760429, 0.71854202,\n",
       "        0.957577  ],\n",
       "       ...,\n",
       "       [0.63738945, 0.54311562, 0.36657433, ..., 0.36956272, 0.59951111,\n",
       "        0.91930001],\n",
       "       [0.00284004, 0.72463077, 0.24654324, ..., 0.32533071, 0.5144789 ,\n",
       "        0.07809729],\n",
       "       [0.91402255, 0.96603356, 0.78178153, ..., 0.19285779, 0.49201622,\n",
       "        0.53275937]])"
      ]
     },
     "execution_count": 22,
     "metadata": {},
     "output_type": "execute_result"
    }
   ],
   "source": [
    "uniform_dist"
   ]
  },
  {
   "cell_type": "code",
   "execution_count": 23,
   "id": "2ae7b270-18e7-4574-9e17-69071036a760",
   "metadata": {},
   "outputs": [],
   "source": [
    "# Again do the same thing here apply CLT theoram cuz histogram could not be possible at this moment\n",
    " # and the sample distribution will a normal Gaussian curve"
   ]
  },
  {
   "cell_type": "code",
   "execution_count": 24,
   "id": "e47a2421-a3dc-453c-9fd1-946d5dac5f52",
   "metadata": {},
   "outputs": [],
   "source": [
    "uniform_sample_means = np.mean(uniform_dist, axis = 1)"
   ]
  },
  {
   "cell_type": "code",
   "execution_count": 25,
   "id": "2d284a2f-b079-4673-bc48-e950828e4c00",
   "metadata": {},
   "outputs": [
    {
     "data": {
      "image/png": "[encoded data removed]",
      "text/plain": [
       "<Figure size 640x480 with 1 Axes>"
      ]
     },
     "metadata": {},
     "output_type": "display_data"
    }
   ],
   "source": [
    "plt.hist(uniform_sample_means, density=True, edgecolor = 'yellow', color = 'black', label = 'Sample Mean Uniform Distribution')\n",
    "plt.title(\"Histogram of Sample Means(Uniform Distribution)\")\n",
    "plt.xlabel('Sample Means')\n",
    "plt.ylabel('Density')\n",
    "plt.legend()\n",
    "plt.show()"
   ]
  },
  {
   "cell_type": "code",
   "execution_count": 26,
   "id": "ac07604a-f325-43bc-b1de-6ee90d2a1ed4",
   "metadata": {},
   "outputs": [],
   "source": [
    "def uniform_clt(dist, a, b):\n",
    "    theoritical_mean = (a+b)/2\n",
    "    theoritical_var = ((b-a)**2)/12\n",
    "    sample_mean = np.mean(dist, axis = 1)\n",
    "    sample_var = np.var(dist, axis = 1)\n",
    "    emperical_mean = np.mean(sample_mean)\n",
    "    emperical_var = np.var(sample_mean)\n",
    "    return emperical_mean, emperical_var"
   ]
  },
  {
   "cell_type": "code",
   "execution_count": 27,
   "id": "bdb55731-0639-4882-a872-4adfb6d0a731",
   "metadata": {},
   "outputs": [
    {
     "data": {
      "text/plain": [
       "(0.499647459017453, 0.0008355864747052245)"
      ]
     },
     "execution_count": 27,
     "metadata": {},
     "output_type": "execute_result"
    }
   ],
   "source": [
    "uniform_clt(uniform_dist, a, b)"
   ]
  },
  {
   "cell_type": "code",
   "execution_count": 28,
   "id": "5ef0f4be-9975-4557-8684-3e929236b36e",
   "metadata": {},
   "outputs": [
    {
     "name": "stdout",
     "output_type": "stream",
     "text": [
      "0.5 0.08333333333333333\n"
     ]
    }
   ],
   "source": [
    "print(theoritical_mean, theoritical_var )"
   ]
  },
  {
   "cell_type": "code",
   "execution_count": null,
   "id": "37c924e9-b6fe-408c-8ea4-dcec046ffef9",
   "metadata": {},
   "outputs": [],
   "source": []
  },
  {
   "cell_type": "code",
   "execution_count": 29,
   "id": "4cb1e3d6-ccf1-4834-a0bc-cfb86ab5bea4",
   "metadata": {},
   "outputs": [],
   "source": [
    "# Exponential Distribution + CLT implementation"
   ]
  },
  {
   "cell_type": "code",
   "execution_count": 30,
   "id": "5d8e099b-437f-47fc-a110-3d5aae353f44",
   "metadata": {},
   "outputs": [],
   "source": [
    "# Set parameters\n",
    "num_samples = 1000\n",
    "sample_size = 50\n",
    "lambda_param = 2\n",
    "\n",
    "theoritical_mean = 1/lambda_param\n",
    "theoritical_var = theoritical_mean\n",
    "\n",
    "expo_dist = np.random.exponential(scale = lambda_param, size = (num_samples, sample_size))"
   ]
  },
  {
   "cell_type": "code",
   "execution_count": 31,
   "id": "e7a73503-e1b4-4831-a0b8-5ba5e217fac0",
   "metadata": {},
   "outputs": [],
   "source": [
    "# Again do the same thing here apply CLT theoram cuz histogram could not be possible at this moment\n",
    " # and the sample distribution will a normal Gaussian curve"
   ]
  },
  {
   "cell_type": "code",
   "execution_count": 32,
   "id": "f7a2a80f-d9f7-4ea4-9f2b-6ec3d2830af4",
   "metadata": {},
   "outputs": [],
   "source": [
    "expo_sample_means = np.mean(expo_dist, axis = 1)"
   ]
  },
  {
   "cell_type": "code",
   "execution_count": 33,
   "id": "220ac28c-a172-40cb-9926-ecb0907491ef",
   "metadata": {},
   "outputs": [
    {
     "data": {
      "image/png": "[encoded data removed]",
      "text/plain": [
       "<Figure size 640x480 with 1 Axes>"
      ]
     },
     "metadata": {},
     "output_type": "display_data"
    }
   ],
   "source": [
    "plt.hist(expo_sample_means, density=True, edgecolor = 'yellow', color = 'black', label = 'Sample Mean Exponential Distribution')\n",
    "plt.title(\"Histogram of Sample Means(Exponential Distribution)\")\n",
    "plt.xlabel('Sample Means')\n",
    "plt.ylabel('Density')\n",
    "plt.legend()\n",
    "plt.show()"
   ]
  },
  {
   "cell_type": "code",
   "execution_count": 34,
   "id": "2115f04e-0b1a-4fea-924b-e54fc37f3f51",
   "metadata": {},
   "outputs": [],
   "source": [
    "def exponential_clt(dist, lambda_param):\n",
    "    theoritical_mean = 1/lambda_param\n",
    "    theoritical_var = theoritical_mean\n",
    "    sample_mean = np.mean(dist, axis = 1)\n",
    "    emperical_mean = np.mean(sample_mean)\n",
    "    emperical_var = np.var(sample_mean)\n",
    "    return emperical_mean, emperical_var"
   ]
  },
  {
   "cell_type": "code",
   "execution_count": 35,
   "id": "c636396e-bd31-404e-93e0-9efaa524c487",
   "metadata": {},
   "outputs": [
    {
     "data": {
      "text/plain": [
       "(2.0019865789043503, 0.08509273163381904)"
      ]
     },
     "execution_count": 35,
     "metadata": {},
     "output_type": "execute_result"
    }
   ],
   "source": [
    "exponential_clt(expo_dist, lambda_param)"
   ]
  },
  {
   "cell_type": "code",
   "execution_count": 36,
   "id": "b1914978-cf56-495f-8c74-6bcd18da7db4",
   "metadata": {},
   "outputs": [
    {
     "data": {
      "text/plain": [
       "(0.5, 0.5)"
      ]
     },
     "execution_count": 36,
     "metadata": {},
     "output_type": "execute_result"
    }
   ],
   "source": [
    "theoritical_mean, theoritical_var"
   ]
  },
  {
   "cell_type": "code",
   "execution_count": null,
   "id": "1d4e3133-9f95-4ebb-a41b-1b19c8f98448",
   "metadata": {},
   "outputs": [],
   "source": []
  },
  {
   "cell_type": "code",
   "execution_count": 37,
   "id": "7f354f9c-1aa0-41e7-a8ce-eb99fffc1b16",
   "metadata": {},
   "outputs": [],
   "source": [
    "# Log Normal Distribution"
   ]
  },
  {
   "cell_type": "code",
   "execution_count": 38,
   "id": "49d1eb78-74d6-4fe1-b313-e3031d6e81d9",
   "metadata": {},
   "outputs": [],
   "source": [
    "# Set parameters\n",
    "num_samples = 10000\n",
    "sample_size = 100\n",
    "\n",
    "mu = 0.5  # mean\n",
    "sigma = 0.7  # Variance\n",
    "\n",
    "theoritical_mean = np.exp(mu + (sigma ** 2) / 2)\n",
    "theoritical_var = (np.exp(sigma ** 2) - 1)\n",
    "\n",
    "log_normal_dist = np.random.lognormal(mu, sigma, size = (num_samples, sample_size))"
   ]
  },
  {
   "cell_type": "code",
   "execution_count": 52,
   "id": "2a6669da-382b-4f9e-9708-49e346c3e6e0",
   "metadata": {},
   "outputs": [],
   "source": [
    "log_normal_sample_mean = np.mean(log_normal_dist, axis = 1)"
   ]
  },
  {
   "cell_type": "code",
   "execution_count": 53,
   "id": "86c21108-3cd6-4b25-b97e-9e935fcbf7fd",
   "metadata": {},
   "outputs": [
    {
     "data": {
      "image/png": "[encoded data removed]",
      "text/plain": [
       "<Figure size 640x480 with 1 Axes>"
      ]
     },
     "metadata": {},
     "output_type": "display_data"
    }
   ],
   "source": [
    "plt.hist(log_normal_sample_mean, density=True, edgecolor = 'yellow', color = 'black', label = 'Sample Mean Log Normal Distribution')\n",
    "plt.title(\"Histogram of Sample Means(Log Normal Distribution)\")\n",
    "plt.xlabel('Sample Means')\n",
    "plt.ylabel('Density')\n",
    "plt.legend()\n",
    "plt.show()"
   ]
  },
  {
   "cell_type": "code",
   "execution_count": 54,
   "id": "6ac5e1a8-e9d5-4a02-80e6-740fa5ab17d4",
   "metadata": {},
   "outputs": [],
   "source": [
    "emperical_mean = np.mean(log_normal_sample_mean)\n",
    "emperical_var = np.var(log_normal_sample_mean)"
   ]
  },
  {
   "cell_type": "code",
   "execution_count": 55,
   "id": "da01930f-a017-44fe-b019-a8fbd91e4079",
   "metadata": {},
   "outputs": [
    {
     "name": "stdout",
     "output_type": "stream",
     "text": [
      "Theoretical mean: 2.0000\n",
      "Empirical mean: 2.1070\n",
      "\n",
      "\n",
      "Theoretical variance: 2.0000\n",
      "Empirical variance: 0.0278\n"
     ]
    }
   ],
   "source": [
    "# Compare the theoretical and empirical values\n",
    "print(f\"Theoretical mean: {theoritical_mean:.4f}\")\n",
    "print(f\"Empirical mean: {emperical_mean:.4f}\")\n",
    "print(f\"\\n\")\n",
    "print(f\"Theoretical variance: {theoritical_var:.4f}\")\n",
    "print(f\"Empirical variance: {emperical_var:.4f}\")"
   ]
  },
  {
   "cell_type": "code",
   "execution_count": null,
   "id": "968b4b88-2e68-4b80-94dc-8fbf54195352",
   "metadata": {},
   "outputs": [],
   "source": []
  },
  {
   "cell_type": "code",
   "execution_count": 43,
   "id": "145e38b4-d859-4776-ae1a-801f3721184c",
   "metadata": {},
   "outputs": [],
   "source": [
    "# Gamma Distribution"
   ]
  },
  {
   "cell_type": "code",
   "execution_count": 44,
   "id": "b1f8976a-93f2-412c-b645-dd82c1e50c5b",
   "metadata": {},
   "outputs": [],
   "source": [
    "# set parameters\n",
    "num_samples = 10000\n",
    "sample_size = 50\n",
    "\n",
    "gamma_shape = 2\n",
    "gamma_scale = 1\n",
    "\n",
    "theoritical_mean = gamma_shape * gamma_scale \n",
    "theoritical_var = (gamma_shape * gamma_scale ** 2)"
   ]
  },
  {
   "cell_type": "code",
   "execution_count": 45,
   "id": "d87cd71b-137e-47aa-8aed-8289fa5206e5",
   "metadata": {},
   "outputs": [],
   "source": [
    "gamma_dist = np.random.gamma(shape = gamma_shape, scale = gamma_scale, size = (num_samples, sample_size))"
   ]
  },
  {
   "cell_type": "code",
   "execution_count": 46,
   "id": "cd7b015a-78c1-422f-9af2-30127630b3c9",
   "metadata": {},
   "outputs": [],
   "source": [
    "gamma_sample_mean = np.mean(log_normal_dist, axis = 1)"
   ]
  },
  {
   "cell_type": "code",
   "execution_count": 47,
   "id": "056f7ea7-00cf-4708-849c-97efe5f5b61e",
   "metadata": {},
   "outputs": [],
   "source": [
    "emperical_mean = np.mean(gamma_sample_mean)\n",
    "emperical_var = np.var(gamma_sample_mean)"
   ]
  },
  {
   "cell_type": "code",
   "execution_count": 56,
   "id": "8aae0543-5e28-470b-80f0-86b227257ddb",
   "metadata": {},
   "outputs": [
    {
     "name": "stdout",
     "output_type": "stream",
     "text": [
      "Theoretical mean: 2.0000\n",
      "Empirical mean: 2.1070\n",
      "\n",
      "\n",
      "Theoretical variance: 2.0000\n",
      "Empirical variance: 0.0278\n"
     ]
    }
   ],
   "source": [
    "# Compare the theoretical and empirical values\n",
    "print(f\"Theoretical mean: {theoritical_mean:.4f}\")\n",
    "print(f\"Empirical mean: {emperical_mean:.4f}\")\n",
    "print(f\"\\n\")\n",
    "print(f\"Theoretical variance: {theoritical_var:.4f}\")\n",
    "print(f\"Empirical variance: {emperical_var:.4f}\")\n"
   ]
  },
  {
   "cell_type": "code",
   "execution_count": null,
   "id": "321f9432-1a47-4b4e-afe9-5675a58e9519",
   "metadata": {},
   "outputs": [],
   "source": []
  }
 ],
 "metadata": {
  "kernelspec": {
   "display_name": "Python 3 (ipykernel)",
   "language": "python",
   "name": "python3"
  },
  "language_info": {
   "codemirror_mode": {
    "name": "ipython",
    "version": 3
   },
   "file_extension": ".py",
   "mimetype": "text/x-python",
   "name": "python",
   "nbconvert_exporter": "python",
   "pygments_lexer": "ipython3",
   "version": "3.12.7"
  }
 },
 "nbformat": 4,
 "nbformat_minor": 5
}
