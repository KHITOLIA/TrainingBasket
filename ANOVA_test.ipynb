{
 "cells": [
  {
   "cell_type": "markdown",
   "id": "9367794b-8f1e-4a8b-a129-a86b7725ffcf",
   "metadata": {},
   "source": [
    "# ANOVA Test (Analysis of Variance, F-Test)\n",
    "📌 What It Does\n",
    "\n",
    "It checks whether the mean of a continuous feature is significantly different across groups (classes).\n",
    "In ML, we use it to test if a numerical feature is important for classification.\n",
    "\n",
    "📌 Formula for F-statistic\n",
    "F=Variance Within GroupsVariance Between Groups​\n",
    "\n",
    "If between-group variance is high compared to within-group variance → feature is useful.\n",
    "\n",
    "If not → feature doesn’t vary much across classes → less useful.\n",
    "\n",
    "📌 Requirements\n",
    "\n",
    "Feature should be continuous (Iris features are continuous).\n",
    "\n",
    "Target should be categorical (Iris species are categorical).\n",
    "\n",
    "Null Hypothesis \n",
    "𝐻\n",
    "0\n",
    "H\n",
    "0\n",
    "\t​\n",
    "\n",
    ": All groups (species) have the same mean feature value.\n",
    "Alternative Hypothesis \n",
    "𝐻\n",
    "1\n",
    "H\n",
    "1\n",
    "\t​\n",
    "\n",
    ": At least one group has a different mean.\n",
    "\n",
    "📌 Interpretation\n",
    "\n",
    "High F-score & p-value < 0.05 → feature significantly differs between species → good for classification.\n",
    "\n",
    "Low F-score & high p-value → feature does not vary much → less useful."
   ]
  },
  {
   "cell_type": "code",
   "execution_count": 3,
   "id": "ed10c764-34ca-407c-b416-0275e2bec59a",
   "metadata": {},
   "outputs": [],
   "source": [
    "from sklearn.datasets import load_iris\n",
    "import pandas as pd\n",
    "from sklearn.feature_selection import f_classif\n",
    "\n",
    "iris= load_iris()\n",
    "x = pd.DataFrame(iris.data, columns = iris.feature_names)\n",
    "y = pd.Series(iris.target, name = 'Species')"
   ]
  },
  {
   "cell_type": "code",
   "execution_count": 4,
   "id": "fca6b6d8-2654-4b94-97c9-2163616939b0",
   "metadata": {},
   "outputs": [],
   "source": [
    "f_score , p_value = f_classif(x, y)"
   ]
  },
  {
   "cell_type": "code",
   "execution_count": 5,
   "id": "9966a592-4be4-4baa-9335-6b7767cb55fb",
   "metadata": {},
   "outputs": [],
   "source": [
    "anova_result = pd.DataFrame({\n",
    "    'feature' : x.columns,\n",
    "    'f-score' : f_score,\n",
    "    'p-value' : p_value\n",
    "})"
   ]
  },
  {
   "cell_type": "code",
   "execution_count": 6,
   "id": "1b97981e-a901-49dc-a653-548eae49cdaf",
   "metadata": {},
   "outputs": [
    {
     "name": "stdout",
     "output_type": "stream",
     "text": [
      "\n",
      " Anova test Results {iris) : \n",
      "             feature      f-score       p-value\n",
      "0  sepal length (cm)   119.264502  1.669669e-31\n",
      "1   sepal width (cm)    49.160040  4.492017e-17\n",
      "2  petal length (cm)  1180.161182  2.856777e-91\n",
      "3   petal width (cm)   960.007147  4.169446e-85\n"
     ]
    }
   ],
   "source": [
    "print(\"\\n Anova test Results {iris) : \")\n",
    "print(anova_result)"
   ]
  },
  {
   "cell_type": "code",
   "execution_count": 18,
   "id": "26c87a1b-ff8c-4a91-a7c3-a322dba23d57",
   "metadata": {},
   "outputs": [
    {
     "data": {
      "text/html": [
       "<div>\n",
       "<style scoped>\n",
       "    .dataframe tbody tr th:only-of-type {\n",
       "        vertical-align: middle;\n",
       "    }\n",
       "\n",
       "    .dataframe tbody tr th {\n",
       "        vertical-align: top;\n",
       "    }\n",
       "\n",
       "    .dataframe thead th {\n",
       "        text-align: right;\n",
       "    }\n",
       "</style>\n",
       "<table border=\"1\" class=\"dataframe\">\n",
       "  <thead>\n",
       "    <tr style=\"text-align: right;\">\n",
       "      <th></th>\n",
       "      <th>feature</th>\n",
       "      <th>f-score</th>\n",
       "      <th>p-value</th>\n",
       "    </tr>\n",
       "  </thead>\n",
       "  <tbody>\n",
       "    <tr>\n",
       "      <th>0</th>\n",
       "      <td>sepal length (cm)</td>\n",
       "      <td>119.264502</td>\n",
       "      <td>1.669669e-31</td>\n",
       "    </tr>\n",
       "    <tr>\n",
       "      <th>1</th>\n",
       "      <td>sepal width (cm)</td>\n",
       "      <td>49.160040</td>\n",
       "      <td>4.492017e-17</td>\n",
       "    </tr>\n",
       "    <tr>\n",
       "      <th>2</th>\n",
       "      <td>petal length (cm)</td>\n",
       "      <td>1180.161182</td>\n",
       "      <td>2.856777e-91</td>\n",
       "    </tr>\n",
       "    <tr>\n",
       "      <th>3</th>\n",
       "      <td>petal width (cm)</td>\n",
       "      <td>960.007147</td>\n",
       "      <td>4.169446e-85</td>\n",
       "    </tr>\n",
       "  </tbody>\n",
       "</table>\n",
       "</div>"
      ],
      "text/plain": [
       "             feature      f-score       p-value\n",
       "0  sepal length (cm)   119.264502  1.669669e-31\n",
       "1   sepal width (cm)    49.160040  4.492017e-17\n",
       "2  petal length (cm)  1180.161182  2.856777e-91\n",
       "3   petal width (cm)   960.007147  4.169446e-85"
      ]
     },
     "execution_count": 18,
     "metadata": {},
     "output_type": "execute_result"
    }
   ],
   "source": [
    "anova_result"
   ]
  },
  {
   "cell_type": "code",
   "execution_count": 53,
   "id": "0aa16e98-4da0-482a-aaab-f70b4ff14b71",
   "metadata": {},
   "outputs": [
    {
     "name": "stdout",
     "output_type": "stream",
     "text": [
      "sepal length (cm)\n",
      "sepal width (cm)\n",
      "petal length (cm)\n",
      "petal width (cm)\n"
     ]
    }
   ],
   "source": [
    "for i in range(len(x.columns)):\n",
    "    if (anova_result[anova_result['feature'] == x.columns[i]]['p-value'].values[0]) < 0.05:\n",
    "        print(x.columns[i]) "
   ]
  },
  {
   "cell_type": "code",
   "execution_count": null,
   "id": "ed62772d-1956-42db-8d7f-9ef3175b6a50",
   "metadata": {},
   "outputs": [],
   "source": []
  },
  {
   "cell_type": "code",
   "execution_count": null,
   "id": "f3b2b426-44a9-4a09-aec3-a2a6e2aacddf",
   "metadata": {},
   "outputs": [],
   "source": []
  }
 ],
 "metadata": {
  "kernelspec": {
   "display_name": "Python 3 (ipykernel)",
   "language": "python",
   "name": "python3"
  },
  "language_info": {
   "codemirror_mode": {
    "name": "ipython",
    "version": 3
   },
   "file_extension": ".py",
   "mimetype": "text/x-python",
   "name": "python",
   "nbconvert_exporter": "python",
   "pygments_lexer": "ipython3",
   "version": "3.12.7"
  }
 },
 "nbformat": 4,
 "nbformat_minor": 5
}
