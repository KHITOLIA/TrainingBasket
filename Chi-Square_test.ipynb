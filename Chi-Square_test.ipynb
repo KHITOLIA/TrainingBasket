{
 "cells": [
  {
   "cell_type": "markdown",
   "id": "c19ff23d-d8bb-404a-a69f-4419c1e70956",
   "metadata": {},
   "source": [
    "# Why we use these tests in ML\n",
    "1. In machine learning, feature selection is a key step. Not all features contribute equally to prediction.\n",
    "\n",
    "2. Statistical tests like Chi-Square and ANOVA help us evaluate which features are most relevant to the target variable.\n",
    "\n",
    "3. Chi-Square Test → checks independence between a categorical feature and a categorical target.\n",
    "\n",
    "4. ANOVA Test → checks whether means of a continuous feature differ across multiple classes.\n",
    "\n",
    "# Chi-Square → categorical (feature ↔ target).\n",
    "\n",
    "# ANOVA → continuous features ↔ categorical target."
   ]
  },
  {
   "cell_type": "markdown",
   "id": "a8bf816e-be59-4b6a-87ba-1726907e3eb7",
   "metadata": {},
   "source": [
    "# Chi-Square Test (χ² Test of Independence)\n",
    "1. It checks whether two categorical variables are independent or related.\n",
    "    In ML, we use it to test if a feature and the target variable are dependent\n",
    "   (important) or independent (not useful).\n",
    "\n",
    "2. x^2 = sum of ((O - E)**2)/E\n",
    "\n",
    "3. O = Observed frequency (actual counts from data)\n",
    "4. E = Expected frequency (if the feature and target were independent)\n",
    "\n",
    "5. If χ² is large → observed values differ a lot from expected → dependent variables.\n",
    "If χ² is small → variables are independent.\n",
    "\n",
    "📌 Requirements\n",
    "\n",
    "Both variables should be categorical.\n",
    "(For Iris, features are continuous → we discretize them into bins).\n",
    "\n",
    "A target variable must be categorical (Iris species are categorical: Setosa, Versicolor, Virginica).\n",
    "\n",
    "Null Hypothesis \n",
    "𝐻\n",
    "0\n",
    "H\n",
    "0\n",
    "\t​\n",
    "\n",
    ": Feature and target are independent.\n",
    "Alternative Hypothesis \n",
    "𝐻\n",
    "1\n",
    "H\n",
    "1\n",
    "\t​\n",
    "\n",
    ": Feature and target are dependent.     \n",
    "6. p-value < 0.05 → Reject \n",
    "𝐻\n",
    "0\n",
    "H\n",
    "0\n",
    "\t​\n",
    "\n",
    ", the feature is significantly related to species.\n",
    "\n",
    "p-value > 0.05 → Fail to reject \n",
    "𝐻\n",
    "0\n",
    "H\n",
    "0\n",
    "\t​\n",
    "\n",
    ", feature may not be useful."
   ]
  },
  {
   "cell_type": "markdown",
   "id": "a2eca6b2-87e9-4e02-9181-8ee52451915e",
   "metadata": {},
   "source": [
    "# Code : "
   ]
  },
  {
   "cell_type": "code",
   "execution_count": 13,
   "id": "060c2a52-0e48-43d8-ac52-381763dac2d3",
   "metadata": {},
   "outputs": [],
   "source": [
    "import pandas as pd\n",
    "from sklearn.datasets import fetch_openml\n",
    "from sklearn.feature_selection import chi2\n",
    "from sklearn.preprocessing import LabelEncoder"
   ]
  },
  {
   "cell_type": "code",
   "execution_count": 14,
   "id": "1b1a462e-d75c-456d-b8b2-3146bfbc5bd7",
   "metadata": {},
   "outputs": [],
   "source": [
    "titanic_data = fetch_openml('titanic', version=1, as_frame=True)"
   ]
  },
  {
   "cell_type": "code",
   "execution_count": 15,
   "id": "c04ead10-9323-4026-9c65-25b663f716d0",
   "metadata": {},
   "outputs": [],
   "source": [
    "df = titanic_data.frame"
   ]
  },
  {
   "cell_type": "code",
   "execution_count": 16,
   "id": "c7441fe3-4600-44c0-98cb-5cb5072cbaac",
   "metadata": {},
   "outputs": [
    {
     "data": {
      "text/html": [
       "<div>\n",
       "<style scoped>\n",
       "    .dataframe tbody tr th:only-of-type {\n",
       "        vertical-align: middle;\n",
       "    }\n",
       "\n",
       "    .dataframe tbody tr th {\n",
       "        vertical-align: top;\n",
       "    }\n",
       "\n",
       "    .dataframe thead th {\n",
       "        text-align: right;\n",
       "    }\n",
       "</style>\n",
       "<table border=\"1\" class=\"dataframe\">\n",
       "  <thead>\n",
       "    <tr style=\"text-align: right;\">\n",
       "      <th></th>\n",
       "      <th>pclass</th>\n",
       "      <th>survived</th>\n",
       "      <th>name</th>\n",
       "      <th>sex</th>\n",
       "      <th>age</th>\n",
       "      <th>sibsp</th>\n",
       "      <th>parch</th>\n",
       "      <th>ticket</th>\n",
       "      <th>fare</th>\n",
       "      <th>cabin</th>\n",
       "      <th>embarked</th>\n",
       "      <th>boat</th>\n",
       "      <th>body</th>\n",
       "      <th>home.dest</th>\n",
       "    </tr>\n",
       "  </thead>\n",
       "  <tbody>\n",
       "    <tr>\n",
       "      <th>0</th>\n",
       "      <td>1</td>\n",
       "      <td>1</td>\n",
       "      <td>Allen, Miss. Elisabeth Walton</td>\n",
       "      <td>female</td>\n",
       "      <td>29.0000</td>\n",
       "      <td>0</td>\n",
       "      <td>0</td>\n",
       "      <td>24160</td>\n",
       "      <td>211.3375</td>\n",
       "      <td>B5</td>\n",
       "      <td>S</td>\n",
       "      <td>2</td>\n",
       "      <td>NaN</td>\n",
       "      <td>St Louis, MO</td>\n",
       "    </tr>\n",
       "    <tr>\n",
       "      <th>1</th>\n",
       "      <td>1</td>\n",
       "      <td>1</td>\n",
       "      <td>Allison, Master. Hudson Trevor</td>\n",
       "      <td>male</td>\n",
       "      <td>0.9167</td>\n",
       "      <td>1</td>\n",
       "      <td>2</td>\n",
       "      <td>113781</td>\n",
       "      <td>151.5500</td>\n",
       "      <td>C22 C26</td>\n",
       "      <td>S</td>\n",
       "      <td>11</td>\n",
       "      <td>NaN</td>\n",
       "      <td>Montreal, PQ / Chesterville, ON</td>\n",
       "    </tr>\n",
       "    <tr>\n",
       "      <th>2</th>\n",
       "      <td>1</td>\n",
       "      <td>0</td>\n",
       "      <td>Allison, Miss. Helen Loraine</td>\n",
       "      <td>female</td>\n",
       "      <td>2.0000</td>\n",
       "      <td>1</td>\n",
       "      <td>2</td>\n",
       "      <td>113781</td>\n",
       "      <td>151.5500</td>\n",
       "      <td>C22 C26</td>\n",
       "      <td>S</td>\n",
       "      <td>NaN</td>\n",
       "      <td>NaN</td>\n",
       "      <td>Montreal, PQ / Chesterville, ON</td>\n",
       "    </tr>\n",
       "    <tr>\n",
       "      <th>3</th>\n",
       "      <td>1</td>\n",
       "      <td>0</td>\n",
       "      <td>Allison, Mr. Hudson Joshua Creighton</td>\n",
       "      <td>male</td>\n",
       "      <td>30.0000</td>\n",
       "      <td>1</td>\n",
       "      <td>2</td>\n",
       "      <td>113781</td>\n",
       "      <td>151.5500</td>\n",
       "      <td>C22 C26</td>\n",
       "      <td>S</td>\n",
       "      <td>NaN</td>\n",
       "      <td>135.0</td>\n",
       "      <td>Montreal, PQ / Chesterville, ON</td>\n",
       "    </tr>\n",
       "    <tr>\n",
       "      <th>4</th>\n",
       "      <td>1</td>\n",
       "      <td>0</td>\n",
       "      <td>Allison, Mrs. Hudson J C (Bessie Waldo Daniels)</td>\n",
       "      <td>female</td>\n",
       "      <td>25.0000</td>\n",
       "      <td>1</td>\n",
       "      <td>2</td>\n",
       "      <td>113781</td>\n",
       "      <td>151.5500</td>\n",
       "      <td>C22 C26</td>\n",
       "      <td>S</td>\n",
       "      <td>NaN</td>\n",
       "      <td>NaN</td>\n",
       "      <td>Montreal, PQ / Chesterville, ON</td>\n",
       "    </tr>\n",
       "    <tr>\n",
       "      <th>...</th>\n",
       "      <td>...</td>\n",
       "      <td>...</td>\n",
       "      <td>...</td>\n",
       "      <td>...</td>\n",
       "      <td>...</td>\n",
       "      <td>...</td>\n",
       "      <td>...</td>\n",
       "      <td>...</td>\n",
       "      <td>...</td>\n",
       "      <td>...</td>\n",
       "      <td>...</td>\n",
       "      <td>...</td>\n",
       "      <td>...</td>\n",
       "      <td>...</td>\n",
       "    </tr>\n",
       "    <tr>\n",
       "      <th>1304</th>\n",
       "      <td>3</td>\n",
       "      <td>0</td>\n",
       "      <td>Zabour, Miss. Hileni</td>\n",
       "      <td>female</td>\n",
       "      <td>14.5000</td>\n",
       "      <td>1</td>\n",
       "      <td>0</td>\n",
       "      <td>2665</td>\n",
       "      <td>14.4542</td>\n",
       "      <td>NaN</td>\n",
       "      <td>C</td>\n",
       "      <td>NaN</td>\n",
       "      <td>328.0</td>\n",
       "      <td>NaN</td>\n",
       "    </tr>\n",
       "    <tr>\n",
       "      <th>1305</th>\n",
       "      <td>3</td>\n",
       "      <td>0</td>\n",
       "      <td>Zabour, Miss. Thamine</td>\n",
       "      <td>female</td>\n",
       "      <td>NaN</td>\n",
       "      <td>1</td>\n",
       "      <td>0</td>\n",
       "      <td>2665</td>\n",
       "      <td>14.4542</td>\n",
       "      <td>NaN</td>\n",
       "      <td>C</td>\n",
       "      <td>NaN</td>\n",
       "      <td>NaN</td>\n",
       "      <td>NaN</td>\n",
       "    </tr>\n",
       "    <tr>\n",
       "      <th>1306</th>\n",
       "      <td>3</td>\n",
       "      <td>0</td>\n",
       "      <td>Zakarian, Mr. Mapriededer</td>\n",
       "      <td>male</td>\n",
       "      <td>26.5000</td>\n",
       "      <td>0</td>\n",
       "      <td>0</td>\n",
       "      <td>2656</td>\n",
       "      <td>7.2250</td>\n",
       "      <td>NaN</td>\n",
       "      <td>C</td>\n",
       "      <td>NaN</td>\n",
       "      <td>304.0</td>\n",
       "      <td>NaN</td>\n",
       "    </tr>\n",
       "    <tr>\n",
       "      <th>1307</th>\n",
       "      <td>3</td>\n",
       "      <td>0</td>\n",
       "      <td>Zakarian, Mr. Ortin</td>\n",
       "      <td>male</td>\n",
       "      <td>27.0000</td>\n",
       "      <td>0</td>\n",
       "      <td>0</td>\n",
       "      <td>2670</td>\n",
       "      <td>7.2250</td>\n",
       "      <td>NaN</td>\n",
       "      <td>C</td>\n",
       "      <td>NaN</td>\n",
       "      <td>NaN</td>\n",
       "      <td>NaN</td>\n",
       "    </tr>\n",
       "    <tr>\n",
       "      <th>1308</th>\n",
       "      <td>3</td>\n",
       "      <td>0</td>\n",
       "      <td>Zimmerman, Mr. Leo</td>\n",
       "      <td>male</td>\n",
       "      <td>29.0000</td>\n",
       "      <td>0</td>\n",
       "      <td>0</td>\n",
       "      <td>315082</td>\n",
       "      <td>7.8750</td>\n",
       "      <td>NaN</td>\n",
       "      <td>S</td>\n",
       "      <td>NaN</td>\n",
       "      <td>NaN</td>\n",
       "      <td>NaN</td>\n",
       "    </tr>\n",
       "  </tbody>\n",
       "</table>\n",
       "<p>1309 rows × 14 columns</p>\n",
       "</div>"
      ],
      "text/plain": [
       "      pclass survived                                             name  \\\n",
       "0          1        1                    Allen, Miss. Elisabeth Walton   \n",
       "1          1        1                   Allison, Master. Hudson Trevor   \n",
       "2          1        0                     Allison, Miss. Helen Loraine   \n",
       "3          1        0             Allison, Mr. Hudson Joshua Creighton   \n",
       "4          1        0  Allison, Mrs. Hudson J C (Bessie Waldo Daniels)   \n",
       "...      ...      ...                                              ...   \n",
       "1304       3        0                             Zabour, Miss. Hileni   \n",
       "1305       3        0                            Zabour, Miss. Thamine   \n",
       "1306       3        0                        Zakarian, Mr. Mapriededer   \n",
       "1307       3        0                              Zakarian, Mr. Ortin   \n",
       "1308       3        0                               Zimmerman, Mr. Leo   \n",
       "\n",
       "         sex      age  sibsp  parch  ticket      fare    cabin embarked boat  \\\n",
       "0     female  29.0000      0      0   24160  211.3375       B5        S    2   \n",
       "1       male   0.9167      1      2  113781  151.5500  C22 C26        S   11   \n",
       "2     female   2.0000      1      2  113781  151.5500  C22 C26        S  NaN   \n",
       "3       male  30.0000      1      2  113781  151.5500  C22 C26        S  NaN   \n",
       "4     female  25.0000      1      2  113781  151.5500  C22 C26        S  NaN   \n",
       "...      ...      ...    ...    ...     ...       ...      ...      ...  ...   \n",
       "1304  female  14.5000      1      0    2665   14.4542      NaN        C  NaN   \n",
       "1305  female      NaN      1      0    2665   14.4542      NaN        C  NaN   \n",
       "1306    male  26.5000      0      0    2656    7.2250      NaN        C  NaN   \n",
       "1307    male  27.0000      0      0    2670    7.2250      NaN        C  NaN   \n",
       "1308    male  29.0000      0      0  315082    7.8750      NaN        S  NaN   \n",
       "\n",
       "       body                        home.dest  \n",
       "0       NaN                     St Louis, MO  \n",
       "1       NaN  Montreal, PQ / Chesterville, ON  \n",
       "2       NaN  Montreal, PQ / Chesterville, ON  \n",
       "3     135.0  Montreal, PQ / Chesterville, ON  \n",
       "4       NaN  Montreal, PQ / Chesterville, ON  \n",
       "...     ...                              ...  \n",
       "1304  328.0                              NaN  \n",
       "1305    NaN                              NaN  \n",
       "1306  304.0                              NaN  \n",
       "1307    NaN                              NaN  \n",
       "1308    NaN                              NaN  \n",
       "\n",
       "[1309 rows x 14 columns]"
      ]
     },
     "execution_count": 16,
     "metadata": {},
     "output_type": "execute_result"
    }
   ],
   "source": [
    "df"
   ]
  },
  {
   "cell_type": "code",
   "execution_count": 21,
   "id": "263cc4a9-0b82-4b5f-8fdb-7a01ac6ba53c",
   "metadata": {},
   "outputs": [],
   "source": [
    "categorical_df = df[['sex', 'pclass', 'embarked', 'survived']].dropna()"
   ]
  },
  {
   "cell_type": "code",
   "execution_count": 22,
   "id": "4c5f7403-fba7-4df5-bff1-43174f525950",
   "metadata": {},
   "outputs": [],
   "source": [
    "le = LabelEncoder()"
   ]
  },
  {
   "cell_type": "code",
   "execution_count": 24,
   "id": "dc0b3586-5f85-4806-8564-168c4ac3173e",
   "metadata": {},
   "outputs": [],
   "source": [
    "for col in categorical_df.columns:\n",
    "    categorical_df[col] = le.fit_transform(categorical_df[col])"
   ]
  },
  {
   "cell_type": "code",
   "execution_count": 25,
   "id": "198b3715-a544-46a6-a22a-3823f18a6838",
   "metadata": {},
   "outputs": [],
   "source": [
    "y = categorical_df['survived']\n",
    "x = categorical_df.drop(columns=['survived'])"
   ]
  },
  {
   "cell_type": "code",
   "execution_count": 26,
   "id": "b351b70b-b061-4ca9-a406-cfb5dbbc6003",
   "metadata": {},
   "outputs": [
    {
     "data": {
      "text/plain": [
       "(1307, 3)"
      ]
     },
     "execution_count": 26,
     "metadata": {},
     "output_type": "execute_result"
    }
   ],
   "source": [
    "x.shape"
   ]
  },
  {
   "cell_type": "code",
   "execution_count": 27,
   "id": "f2aa1b18-7540-479e-9b2d-52520f0e99ea",
   "metadata": {},
   "outputs": [
    {
     "data": {
      "text/plain": [
       "(1307,)"
      ]
     },
     "execution_count": 27,
     "metadata": {},
     "output_type": "execute_result"
    }
   ],
   "source": [
    "y.shape"
   ]
  },
  {
   "cell_type": "code",
   "execution_count": 29,
   "id": "b5a032da-7ddc-490a-8f5b-d63a6d807b58",
   "metadata": {},
   "outputs": [],
   "source": [
    "chi_score , p_value = chi2(x, y)"
   ]
  },
  {
   "cell_type": "code",
   "execution_count": 32,
   "id": "0132eaef-ccb9-477c-b372-79be7688c662",
   "metadata": {},
   "outputs": [],
   "source": [
    "chi2_result = pd.DataFrame({\n",
    "    'feature' : x.columns,\n",
    "    'chi2_score' : chi_score,\n",
    "    'p-value' : p_value\n",
    "})"
   ]
  },
  {
   "cell_type": "code",
   "execution_count": 33,
   "id": "6ec696e0-8166-485e-b130-40676c582d7a",
   "metadata": {},
   "outputs": [
    {
     "data": {
      "text/html": [
       "<div>\n",
       "<style scoped>\n",
       "    .dataframe tbody tr th:only-of-type {\n",
       "        vertical-align: middle;\n",
       "    }\n",
       "\n",
       "    .dataframe tbody tr th {\n",
       "        vertical-align: top;\n",
       "    }\n",
       "\n",
       "    .dataframe thead th {\n",
       "        text-align: right;\n",
       "    }\n",
       "</style>\n",
       "<table border=\"1\" class=\"dataframe\">\n",
       "  <thead>\n",
       "    <tr style=\"text-align: right;\">\n",
       "      <th></th>\n",
       "      <th>feature</th>\n",
       "      <th>chi2_score</th>\n",
       "      <th>p-value</th>\n",
       "    </tr>\n",
       "  </thead>\n",
       "  <tbody>\n",
       "    <tr>\n",
       "      <th>0</th>\n",
       "      <td>sex</td>\n",
       "      <td>129.090413</td>\n",
       "      <td>6.479844e-30</td>\n",
       "    </tr>\n",
       "    <tr>\n",
       "      <th>1</th>\n",
       "      <td>pclass</td>\n",
       "      <td>67.969990</td>\n",
       "      <td>1.660029e-16</td>\n",
       "    </tr>\n",
       "    <tr>\n",
       "      <th>2</th>\n",
       "      <td>embarked</td>\n",
       "      <td>18.147668</td>\n",
       "      <td>2.044196e-05</td>\n",
       "    </tr>\n",
       "  </tbody>\n",
       "</table>\n",
       "</div>"
      ],
      "text/plain": [
       "    feature  chi2_score       p-value\n",
       "0       sex  129.090413  6.479844e-30\n",
       "1    pclass   67.969990  1.660029e-16\n",
       "2  embarked   18.147668  2.044196e-05"
      ]
     },
     "execution_count": 33,
     "metadata": {},
     "output_type": "execute_result"
    }
   ],
   "source": [
    "chi2_result"
   ]
  },
  {
   "cell_type": "code",
   "execution_count": 49,
   "id": "b50f25d7-79b7-4e69-9684-a715e75b3b4b",
   "metadata": {},
   "outputs": [
    {
     "data": {
      "text/plain": [
       "2    True\n",
       "Name: p-value, dtype: bool"
      ]
     },
     "execution_count": 49,
     "metadata": {},
     "output_type": "execute_result"
    }
   ],
   "source": [
    "# chi2_result[chi2_result['feature'] == 'sex']['p-value'] < 0.05\n",
    "# chi2_result[chi2_result['feature'] == 'pclass']['p-value'] < 0.05\n",
    "chi2_result[chi2_result['feature'] == 'embarked']['p-value'] < 0.05\n"
   ]
  },
  {
   "cell_type": "code",
   "execution_count": 71,
   "id": "461b249b-9e9c-42d6-b521-2bf8631d9e18",
   "metadata": {},
   "outputs": [],
   "source": [
    "selected_feature = []\n",
    "for i in chi2_result.feature:\n",
    "    selected_feature.append((i, chi2_result[chi2_result['feature'] == i]['p-value'].values[0]))"
   ]
  },
  {
   "cell_type": "code",
   "execution_count": 72,
   "id": "884ec9ca-85ea-4fb9-8ff9-22a5a1ca9b2d",
   "metadata": {},
   "outputs": [
    {
     "data": {
      "text/plain": [
       "[('sex', 6.479844476671927e-30),\n",
       " ('pclass', 1.6600287122657094e-16),\n",
       " ('embarked', 2.0441962210904808e-05)]"
      ]
     },
     "execution_count": 72,
     "metadata": {},
     "output_type": "execute_result"
    }
   ],
   "source": [
    "selected_feature"
   ]
  },
  {
   "cell_type": "code",
   "execution_count": 74,
   "id": "b50889f9-f03b-481b-8879-6298ea3ab053",
   "metadata": {},
   "outputs": [
    {
     "name": "stdout",
     "output_type": "stream",
     "text": [
      "Significant effective feature names are sex\n",
      "Significant effective feature names are pclass\n",
      "Significant effective feature names are embarked\n"
     ]
    }
   ],
   "source": [
    "for items in selected_feature:\n",
    "    if items[1] < 0.05:\n",
    "        print(f'Significant effective feature names are {items[0]}')"
   ]
  },
  {
   "cell_type": "code",
   "execution_count": null,
   "id": "37278d2a-4317-41a3-ab58-241bdb78f1b3",
   "metadata": {},
   "outputs": [],
   "source": []
  }
 ],
 "metadata": {
  "kernelspec": {
   "display_name": "Python 3 (ipykernel)",
   "language": "python",
   "name": "python3"
  },
  "language_info": {
   "codemirror_mode": {
    "name": "ipython",
    "version": 3
   },
   "file_extension": ".py",
   "mimetype": "text/x-python",
   "name": "python",
   "nbconvert_exporter": "python",
   "pygments_lexer": "ipython3",
   "version": "3.12.7"
  }
 },
 "nbformat": 4,
 "nbformat_minor": 5
}
