{
 "cells": [
  {
   "cell_type": "code",
   "execution_count": 1,
   "id": "4dfd415b-156c-438e-9cf4-26c0971849fe",
   "metadata": {},
   "outputs": [],
   "source": [
    "def number_odd_even():\n",
    "\n",
    "  a = int(input(\"enter the number\"))\n",
    "\n",
    "  if (a // 4) * 4 == a:\n",
    "\n",
    "    print(\"this is a even number\")\n",
    "\n",
    "  else: \n",
    "\n",
    "    print(\"this is a odd number\")"
   ]
  },
  {
   "cell_type": "code",
   "execution_count": 4,
   "id": "9f7c9cf8-4be2-4c0b-8eef-aaaf3b4bc669",
   "metadata": {},
   "outputs": [
    {
     "name": "stdin",
     "output_type": "stream",
     "text": [
      "enter the number 90\n"
     ]
    },
    {
     "name": "stdout",
     "output_type": "stream",
     "text": [
      "this is a odd number\n"
     ]
    }
   ],
   "source": [
    "number_odd_even()"
   ]
  },
  {
   "cell_type": "code",
   "execution_count": 12,
   "id": "64b10e32-1bd9-44d1-8c03-ee6d979f9da9",
   "metadata": {},
   "outputs": [
    {
     "name": "stdin",
     "output_type": "stream",
     "text": [
      "Enter number:  90\n"
     ]
    },
    {
     "name": "stdout",
     "output_type": "stream",
     "text": [
      "Number is even\n"
     ]
    }
   ],
   "source": [
    " # 1. check number is even or odd without using modulus operator\n",
    "\n",
    "def even_odd_check(x):\n",
    "\n",
    "    y = x / 2\n",
    "\n",
    "    if x == 2 * int(y):\n",
    "\n",
    "        print(\"Number is even\")\n",
    "\n",
    "    else:\n",
    "\n",
    "        print(\"Number is odd\")\n",
    "\n",
    "num = float(input(\"Enter number: \"))\n",
    "\n",
    "even_odd_check(num)"
   ]
  },
  {
   "cell_type": "code",
   "execution_count": 9,
   "id": "f819982e-47b0-4482-8e23-4816c414ac21",
   "metadata": {},
   "outputs": [
    {
     "data": {
      "text/plain": [
       "23"
      ]
     },
     "execution_count": 9,
     "metadata": {},
     "output_type": "execute_result"
    }
   ],
   "source": [
    "int(23.5)"
   ]
  },
  {
   "cell_type": "code",
   "execution_count": 13,
   "id": "ca3ad25e-1528-4096-b063-75eb43ace576",
   "metadata": {},
   "outputs": [
    {
     "name": "stdin",
     "output_type": "stream",
     "text": [
      "Enter Percentage: 87\n"
     ]
    },
    {
     "name": "stdout",
     "output_type": "stream",
     "text": [
      "Grade is A+\n"
     ]
    }
   ],
   "source": [
    "# 2. make a grade calculator\n",
    "\n",
    "def grade_cal(x):\n",
    "\n",
    "  if (x<=100 and x>90):\n",
    "    print(\"Grade is A++\")\n",
    "  elif (x<=90 and x>80 ):\n",
    "    print(\"Grade is A+\")\n",
    "  elif (x<=80 and x>70 ):\n",
    "    print(\"Grade is B+\")\n",
    "  elif (x<=70 and x>60 ):\n",
    "    print(\"Grade is B+\")\n",
    "  elif (x<=60 and x>50 ):\n",
    "    print(\"Grade is B\")\n",
    "  elif (x<=50 and x>40 ):\n",
    "    print(\"Grade is C\")\n",
    "  elif (x<=40 and x>33 ):\n",
    "    print(\"Grade is D\")\n",
    "  else:\n",
    "    print(\"Grade is E - FAIL\")\n",
    "num = int(input(\"Enter Percentage:\"))\n",
    "\n",
    "grade_cal(num)"
   ]
  },
  {
   "cell_type": "code",
   "execution_count": 16,
   "id": "bf1c6a11-f82d-45f9-9075-02268f63e06a",
   "metadata": {},
   "outputs": [
    {
     "name": "stdin",
     "output_type": "stream",
     "text": [
      "enter your marks :  56\n"
     ]
    },
    {
     "name": "stdout",
     "output_type": "stream",
     "text": [
      "clear your back\n"
     ]
    }
   ],
   "source": [
    "def find_grade(a):\n",
    "\n",
    "  if 91<=a<=100:\n",
    "\n",
    "    print(\"Your Grade is A+\")\n",
    "\n",
    "  elif 81<=a<=90:\n",
    "\n",
    "    print(\"Your Grade is A\")\n",
    "\n",
    "  elif 71<=a<=80:\n",
    "\n",
    "    print(\"your Grade is B+\")\n",
    "\n",
    "  elif 61<=a<=70:\n",
    "\n",
    "    print(\"Your Grade is B\")\n",
    "\n",
    "  else:\n",
    "\n",
    "    print(\"clear your back\")\n",
    "\n",
    "a=int(input(\"enter your marks : \"))\n",
    "\n",
    "find_grade(a)"
   ]
  },
  {
   "cell_type": "code",
   "execution_count": 17,
   "id": "235069d3-ee41-4c2f-8188-f8ecb1f111c7",
   "metadata": {},
   "outputs": [
    {
     "name": "stdin",
     "output_type": "stream",
     "text": [
      "Enter 1st num:  8\n",
      "Enter 2nd num:  2\n",
      "Enter 3rd num:  10\n"
     ]
    },
    {
     "name": "stdout",
     "output_type": "stream",
     "text": [
      "C is max. of 3 numbers\n"
     ]
    }
   ],
   "source": [
    "# 3. max of three numbers\n",
    "\n",
    "def max_of_three(a,b,c):\n",
    "\n",
    "  if (a>b and a>c):\n",
    "\n",
    "    print(\"A is max. of 3 numbers\")\n",
    "\n",
    "  if (b>c and b>a):\n",
    "\n",
    "    print(\"B is max. of 3 numbers\")\n",
    "\n",
    "  if (c>a and c>b):\n",
    "\n",
    "    print(\"C is max. of 3 numbers\")\n",
    "\n",
    "A = int(input(\"Enter 1st num: \"))\n",
    "\n",
    "B = int(input(\"Enter 2nd num: \"))\n",
    "\n",
    "C = int(input(\"Enter 3rd num: \"))\n",
    "\n",
    "max_of_three(A,B,C)"
   ]
  },
  {
   "cell_type": "code",
   "execution_count": 19,
   "id": "7281b498-4ebc-4b2b-8cf0-af707b294c4b",
   "metadata": {},
   "outputs": [
    {
     "name": "stdout",
     "output_type": "stream",
     "text": [
      "maximum number is 34\n"
     ]
    }
   ],
   "source": [
    "a = 18\n",
    "\n",
    "b = 34\n",
    "\n",
    "c = 31\n",
    "\n",
    "maximum = max(a, b, c)\n",
    "\n",
    "print(\"maximum number is\", maximum)"
   ]
  },
  {
   "cell_type": "code",
   "execution_count": 22,
   "id": "22d3d77d-aa96-41ec-9195-f719c217d306",
   "metadata": {},
   "outputs": [
    {
     "name": "stdin",
     "output_type": "stream",
     "text": [
      "Enter a number :  09\n",
      "Enter a number :  08\n",
      "Enter a number :  10\n"
     ]
    },
    {
     "name": "stdout",
     "output_type": "stream",
     "text": [
      "c is the biggest number\n"
     ]
    }
   ],
   "source": [
    "def biggest_no(a,b,c):\n",
    "\n",
    "  if a>b:\n",
    "\n",
    "    if a>c:\n",
    "\n",
    "      print(\"a is the biggest number\")\n",
    "\n",
    "    else:\n",
    "\n",
    "      print(\"c is the biggest number\")\n",
    "\n",
    "  elif b>a:\n",
    "\n",
    "    if (b>c):\n",
    "\n",
    "      print(\"b is the biggest number\")\n",
    "\n",
    "    else:\n",
    "\n",
    "     print(\"c is the biggest number\")\n",
    "\n",
    "  else:\n",
    "\n",
    "    print(\"c is the biggest number\")\n",
    "\n",
    "a=int(input(\"Enter a number : \"))\n",
    "\n",
    "b=int(input(\"Enter a number : \"))\n",
    "\n",
    "c=int(input(\"Enter a number : \"))\n",
    "\n",
    "biggest_no(a,b,c)"
   ]
  },
  {
   "cell_type": "code",
   "execution_count": 32,
   "id": "ef63d342-2b64-4492-a475-6c39ffe0fecd",
   "metadata": {},
   "outputs": [
    {
     "name": "stdin",
     "output_type": "stream",
     "text": [
      "Enter year:  2024\n"
     ]
    },
    {
     "name": "stdout",
     "output_type": "stream",
     "text": [
      "Year is Leap Year\n"
     ]
    }
   ],
   "source": [
    "# 4. check a leap year\n",
    "\n",
    "def leap_year(y):\n",
    "\n",
    "    if (y % 4 == 0 and y % 100 != 0) or (y % 400 == 0):\n",
    "\n",
    "        print(\"Year is Leap Year\")\n",
    "\n",
    "    else:\n",
    "\n",
    "        print(\"Year is Non Leap Year\")\n",
    "\n",
    "year = int(input(\"Enter year: \"))\n",
    "\n",
    "leap_year(year)"
   ]
  },
  {
   "cell_type": "code",
   "execution_count": 37,
   "id": "1374f783-e4b1-4ee4-8e00-5b6c8677e0b9",
   "metadata": {},
   "outputs": [
    {
     "name": "stdin",
     "output_type": "stream",
     "text": [
      "Enter age:  5000\n"
     ]
    },
    {
     "name": "stdout",
     "output_type": "stream",
     "text": [
      "Senior\n"
     ]
    }
   ],
   "source": [
    "# 5. Categorize the Age Group\n",
    "\n",
    "# Age\n",
    "\n",
    "# 0-12: Child\n",
    "\n",
    "# 13–19: Teen\n",
    "\n",
    "# 20–59: Adult\n",
    "\n",
    "# 60+: Senior\n",
    "\n",
    "def categorize_age(age):\n",
    "\n",
    "    if (age >= 0 and age <= 12):\n",
    "\n",
    "        print(\"Child\")\n",
    "\n",
    "    elif (age >= 13 and age <= 19):\n",
    "\n",
    "        print(\"Teen\")\n",
    "\n",
    "    elif (age >= 20 and age <= 59):\n",
    "\n",
    "        print(\"Adult\")\n",
    "\n",
    "    elif (age >= 60):\n",
    "\n",
    "        print(\"Senior\")\n",
    "\n",
    "    else:\n",
    "\n",
    "        print(\"Invalid\")\n",
    "\n",
    "age_input = int(input(\"Enter age: \"))\n",
    "\n",
    "categorize_age(age_input)"
   ]
  },
  {
   "cell_type": "code",
   "execution_count": 40,
   "id": "c831fa39-0a3d-4e9b-9b20-7df93597b418",
   "metadata": {},
   "outputs": [
    {
     "name": "stdin",
     "output_type": "stream",
     "text": [
      "Enter side a:  92\n",
      "Enter side b:  87\n",
      "Enter side c:  87\n"
     ]
    },
    {
     "name": "stdout",
     "output_type": "stream",
     "text": [
      "Isosceles triangle\n"
     ]
    }
   ],
   "source": [
    "# 6. Check the type of triangle will\n",
    "\n",
    "def triangle_type(a, b, c):\n",
    "\n",
    "    if a + b > c and a + c > b and b + c > a:\n",
    "\n",
    "        if a == b == c:\n",
    "\n",
    "            print(\"Equilateral triangle\")\n",
    "\n",
    "        elif a == b or b == c or a == c:\n",
    "\n",
    "            print(\"Isosceles triangle\")\n",
    "\n",
    "        else:\n",
    "\n",
    "            print(\"Scalene triangle\")\n",
    "\n",
    "    else:\n",
    "\n",
    "        print(\"Not a valid triangle\")\n",
    "\n",
    "a = int(input(\"Enter side a: \"))\n",
    "\n",
    "b = int(input(\"Enter side b: \"))\n",
    "\n",
    "c = int(input(\"Enter side c: \"))\n",
    "\n",
    "triangle_type(a, b, c)"
   ]
  },
  {
   "cell_type": "code",
   "execution_count": 44,
   "id": "70441cb0-4200-46b6-b5d0-8fdcb1de21e3",
   "metadata": {},
   "outputs": [
    {
     "name": "stdin",
     "output_type": "stream",
     "text": [
      "Enter Principal amount (P):  10000\n",
      "Enter Rate of interest per year (R):  10\n",
      "Enter Time in years (T):  4\n"
     ]
    },
    {
     "name": "stdout",
     "output_type": "stream",
     "text": [
      "Simple Interest: 4000.0\n",
      "Low Interest\n"
     ]
    }
   ],
   "source": [
    "# 7. simple interest calculator if SI > 5000 print \"high interest\" else \"low interest\".\n",
    "\n",
    "def simple_interest(p, r, t):\n",
    "\n",
    "    si = (p * r * t) / 100\n",
    "\n",
    "    print(f\"Simple Interest: {si}\")  # F String\n",
    "\n",
    "    if si > 5000:\n",
    "\n",
    "        print(\"High Interest\")\n",
    "\n",
    "    else:\n",
    "\n",
    "        print(\"Low Interest\")\n",
    "\n",
    "p = float(input(\"Enter Principal amount (P): \"))\n",
    "\n",
    "r = float(input(\"Enter Rate of interest per year (R): \"))\n",
    "\n",
    "t = float(input(\"Enter Time in years (T): \"))\n",
    "\n",
    "simple_interest(p, r, t)"
   ]
  },
  {
   "cell_type": "code",
   "execution_count": null,
   "id": "6afdc36e-056b-4ee1-bc80-4c063a1317ea",
   "metadata": {},
   "outputs": [],
   "source": [
    "max"
   ]
  },
  {
   "cell_type": "markdown",
   "id": "471a7073-31d4-4570-ab70-ba90df4cd1b9",
   "metadata": {},
   "source": [
    "# Loops\n",
    "1. for\n",
    "2. while"
   ]
  },
  {
   "cell_type": "code",
   "execution_count": 50,
   "id": "b0852ef5-7a78-4655-9901-c55393b7e9e9",
   "metadata": {},
   "outputs": [
    {
     "name": "stdout",
     "output_type": "stream",
     "text": [
      "0\n",
      "1\n",
      "2\n",
      "3\n",
      "4\n"
     ]
    }
   ],
   "source": [
    "for i in range(0, 5):\n",
    "    print(i)"
   ]
  },
  {
   "cell_type": "code",
   "execution_count": 51,
   "id": "6fbec1c7-a426-4391-9a35-a00a54886dd5",
   "metadata": {},
   "outputs": [
    {
     "name": "stdout",
     "output_type": "stream",
     "text": [
      "Tushar\n",
      "Tushar\n",
      "Tushar\n",
      "Tushar\n",
      "Tushar\n"
     ]
    }
   ],
   "source": [
    "for i in range(0, 5):\n",
    "    print(\"Tushar\")"
   ]
  },
  {
   "cell_type": "code",
   "execution_count": 54,
   "id": "dd9ecd61-ed46-49b4-a2ea-b96c37005f74",
   "metadata": {},
   "outputs": [
    {
     "name": "stdin",
     "output_type": "stream",
     "text": [
      "enter any digit :  89\n"
     ]
    },
    {
     "name": "stdout",
     "output_type": "stream",
     "text": [
      "<class 'int'>\n"
     ]
    },
    {
     "name": "stdin",
     "output_type": "stream",
     "text": [
      "enter any digit :  32\n"
     ]
    },
    {
     "name": "stdout",
     "output_type": "stream",
     "text": [
      "<class 'int'>\n"
     ]
    },
    {
     "name": "stdin",
     "output_type": "stream",
     "text": [
      "enter any digit :  45\n"
     ]
    },
    {
     "name": "stdout",
     "output_type": "stream",
     "text": [
      "<class 'int'>\n"
     ]
    }
   ],
   "source": [
    "for i in range(0,3):\n",
    "\n",
    "  a=int(input(\"enter any digit : \"))\n",
    "\n",
    "  print(type(a))"
   ]
  },
  {
   "cell_type": "code",
   "execution_count": 55,
   "id": "47eaedc1-b5ee-4975-bccb-2f4fb522a44c",
   "metadata": {},
   "outputs": [
    {
     "name": "stdout",
     "output_type": "stream",
     "text": [
      "0\n",
      "1\n",
      "2\n"
     ]
    }
   ],
   "source": [
    "for aditya in range(0,3):\n",
    "    print(aditya)"
   ]
  },
  {
   "cell_type": "code",
   "execution_count": 56,
   "id": "792f60db-dfd5-4566-b47d-2911ff72065e",
   "metadata": {},
   "outputs": [
    {
     "name": "stdout",
     "output_type": "stream",
     "text": [
      "aditya\n",
      "aditya\n",
      "aditya\n"
     ]
    }
   ],
   "source": [
    "for aditya in range(0,3):\n",
    "    print(\"aditya\")"
   ]
  },
  {
   "cell_type": "code",
   "execution_count": 57,
   "id": "c5d5ce63-4f3e-442d-9348-80277b59e103",
   "metadata": {},
   "outputs": [
    {
     "name": "stdin",
     "output_type": "stream",
     "text": [
      "Enter num 89\n"
     ]
    },
    {
     "name": "stdout",
     "output_type": "stream",
     "text": [
      "<class 'int'>\n"
     ]
    },
    {
     "name": "stdin",
     "output_type": "stream",
     "text": [
      "Enter num 34\n"
     ]
    },
    {
     "name": "stdout",
     "output_type": "stream",
     "text": [
      "<class 'int'>\n"
     ]
    },
    {
     "name": "stdin",
     "output_type": "stream",
     "text": [
      "Enter num 21\n"
     ]
    },
    {
     "name": "stdout",
     "output_type": "stream",
     "text": [
      "<class 'int'>\n"
     ]
    },
    {
     "name": "stdin",
     "output_type": "stream",
     "text": [
      "Enter num 23\n"
     ]
    },
    {
     "name": "stdout",
     "output_type": "stream",
     "text": [
      "<class 'int'>\n"
     ]
    },
    {
     "name": "stdin",
     "output_type": "stream",
     "text": [
      "Enter num 4\n"
     ]
    },
    {
     "name": "stdout",
     "output_type": "stream",
     "text": [
      "<class 'int'>\n"
     ]
    }
   ],
   "source": [
    "for dg in range(0,5):\n",
    "    d = int(input(\"Enter num\"))\n",
    "    print(type(d))"
   ]
  },
  {
   "cell_type": "code",
   "execution_count": 60,
   "id": "b3baa5a1-758e-4be4-b596-61d3b19872f5",
   "metadata": {},
   "outputs": [
    {
     "name": "stdout",
     "output_type": "stream",
     "text": [
      "15\n"
     ]
    }
   ],
   "source": [
    "sum = 0\n",
    "for i in range(0,5):\n",
    "  sum=sum+i+1\n",
    "print(sum)"
   ]
  },
  {
   "cell_type": "code",
   "execution_count": 67,
   "id": "3435b205-3b65-4eed-99af-07b82b9f9020",
   "metadata": {},
   "outputs": [
    {
     "ename": "TypeError",
     "evalue": "'int' object is not callable",
     "output_type": "error",
     "traceback": [
      "\u001b[1;31m---------------------------------------------------------------------------\u001b[0m",
      "\u001b[1;31mTypeError\u001b[0m                                 Traceback (most recent call last)",
      "Cell \u001b[1;32mIn[67], line 3\u001b[0m\n\u001b[0;32m      1\u001b[0m \u001b[38;5;28;01mfor\u001b[39;00m i \u001b[38;5;129;01min\u001b[39;00m \u001b[38;5;28mrange\u001b[39m(\u001b[38;5;241m0\u001b[39m,\u001b[38;5;241m5\u001b[39m):\n\u001b[0;32m      2\u001b[0m     i \u001b[38;5;241m=\u001b[39m i\u001b[38;5;241m+\u001b[39m\u001b[38;5;241m1\u001b[39m\n\u001b[1;32m----> 3\u001b[0m     \u001b[38;5;28msum\u001b[39m(i)\n\u001b[0;32m      5\u001b[0m \u001b[38;5;28mprint\u001b[39m(\u001b[38;5;28msum\u001b[39m)\n",
      "\u001b[1;31mTypeError\u001b[0m: 'int' object is not callable"
     ]
    }
   ],
   "source": [
    "for i in range(0,5):\n",
    "    i = i+1\n",
    "    sum(i)\n",
    "\n",
    "print(sum)"
   ]
  },
  {
   "cell_type": "code",
   "execution_count": 65,
   "id": "9480d17a-0615-4e46-aa61-d4ff321bdcfc",
   "metadata": {},
   "outputs": [
    {
     "ename": "NameError",
     "evalue": "name 'a' is not defined",
     "output_type": "error",
     "traceback": [
      "\u001b[1;31m---------------------------------------------------------------------------\u001b[0m",
      "\u001b[1;31mNameError\u001b[0m                                 Traceback (most recent call last)",
      "Cell \u001b[1;32mIn[65], line 2\u001b[0m\n\u001b[0;32m      1\u001b[0m \u001b[38;5;28;01mfor\u001b[39;00m \u001b[38;5;28msum\u001b[39m \u001b[38;5;129;01min\u001b[39;00m \u001b[38;5;28mrange\u001b[39m(\u001b[38;5;241m0\u001b[39m, \u001b[38;5;241m5\u001b[39m):\n\u001b[1;32m----> 2\u001b[0m   \u001b[38;5;28msum\u001b[39m \u001b[38;5;241m=\u001b[39m a, b\n\u001b[0;32m      3\u001b[0m   \u001b[38;5;28mprint\u001b[39m(\u001b[38;5;28msum\u001b[39m)\n",
      "\u001b[1;31mNameError\u001b[0m: name 'a' is not defined"
     ]
    }
   ],
   "source": [
    "for sum in range(0, 5):\n",
    "  sum = a, b\n",
    "  print(sum)"
   ]
  },
  {
   "cell_type": "code",
   "execution_count": 63,
   "id": "bee07769-a1e7-4326-a041-3c4429091c86",
   "metadata": {},
   "outputs": [],
   "source": [
    "del(a)"
   ]
  },
  {
   "cell_type": "code",
   "execution_count": 64,
   "id": "e744bd33-1e50-469d-8e92-060741fa7439",
   "metadata": {},
   "outputs": [],
   "source": [
    "del(b)"
   ]
  },
  {
   "cell_type": "code",
   "execution_count": 68,
   "id": "f0c53108-6cf2-4abe-a50c-dda0ff8b351d",
   "metadata": {},
   "outputs": [],
   "source": [
    "def sumbetween(a,b):\n",
    "    sum_ = 0\n",
    "    for i in range(a, b+1):\n",
    "        sum_ = sum_ + i\n",
    "    print(sum_)    "
   ]
  },
  {
   "cell_type": "code",
   "execution_count": 70,
   "id": "c272ebe5-0d06-4d6e-b45e-6dde7199169a",
   "metadata": {},
   "outputs": [
    {
     "name": "stdout",
     "output_type": "stream",
     "text": [
      "5050\n"
     ]
    }
   ],
   "source": [
    "sumbetween(0, 100)"
   ]
  },
  {
   "cell_type": "code",
   "execution_count": 73,
   "id": "289324ea-74cf-4f36-abdb-ecea5c695f57",
   "metadata": {},
   "outputs": [
    {
     "name": "stdin",
     "output_type": "stream",
     "text": [
      " 3\n",
      " 10\n"
     ]
    }
   ],
   "source": [
    "a = int(input())\n",
    "b = int(input())"
   ]
  },
  {
   "cell_type": "code",
   "execution_count": 74,
   "id": "db649364-2bbc-48ce-b4d9-89af95b041f9",
   "metadata": {},
   "outputs": [
    {
     "name": "stdout",
     "output_type": "stream",
     "text": [
      "52\n"
     ]
    }
   ],
   "source": [
    "sumbetween(a,b)"
   ]
  },
  {
   "cell_type": "code",
   "execution_count": 75,
   "id": "e4a489d8-9f86-40a9-b162-5cd798bbe2ab",
   "metadata": {},
   "outputs": [
    {
     "data": {
      "text/plain": [
       "\u001b[1;31mType:\u001b[0m        int\n",
       "\u001b[1;31mString form:\u001b[0m 0\n",
       "\u001b[1;31mDocstring:\u001b[0m  \n",
       "int([x]) -> integer\n",
       "int(x, base=10) -> integer\n",
       "\n",
       "Convert a number or string to an integer, or return 0 if no arguments\n",
       "are given.  If x is a number, return x.__int__().  For floating-point\n",
       "numbers, this truncates towards zero.\n",
       "\n",
       "If x is not a number or if base is given, then x must be a string,\n",
       "bytes, or bytearray instance representing an integer literal in the\n",
       "given base.  The literal can be preceded by '+' or '-' and be surrounded\n",
       "by whitespace.  The base defaults to 10.  Valid bases are 0 and 2-36.\n",
       "Base 0 means to interpret the base from the string as an integer literal.\n",
       ">>> int('0b100', base=0)\n",
       "4"
      ]
     },
     "metadata": {},
     "output_type": "display_data"
    }
   ],
   "source": [
    "sum?\n"
   ]
  },
  {
   "cell_type": "code",
   "execution_count": null,
   "id": "ee552265-d09a-4f95-b426-d6e2ab2cb25e",
   "metadata": {},
   "outputs": [],
   "source": []
  }
 ],
 "metadata": {
  "kernelspec": {
   "display_name": "Python 3 (ipykernel)",
   "language": "python",
   "name": "python3"
  },
  "language_info": {
   "codemirror_mode": {
    "name": "ipython",
    "version": 3
   },
   "file_extension": ".py",
   "mimetype": "text/x-python",
   "name": "python",
   "nbconvert_exporter": "python",
   "pygments_lexer": "ipython3",
   "version": "3.12.7"
  }
 },
 "nbformat": 4,
 "nbformat_minor": 5
}
