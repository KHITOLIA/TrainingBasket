{
 "cells": [
  {
   "cell_type": "code",
   "execution_count": 1,
   "id": "48614176-99b4-45db-bbcb-758a41ceb907",
   "metadata": {},
   "outputs": [],
   "source": [
    "a = \"Training Basket\""
   ]
  },
  {
   "cell_type": "code",
   "execution_count": 2,
   "id": "040073df-197f-40e0-85f9-38ec79bf5ede",
   "metadata": {},
   "outputs": [
    {
     "name": "stdout",
     "output_type": "stream",
     "text": [
      "hello Training Basket\n"
     ]
    }
   ],
   "source": [
    "print(\"hello\", a)"
   ]
  },
  {
   "cell_type": "code",
   "execution_count": 7,
   "id": "77a8974a-acd9-4be1-89d9-d17fcd11ade4",
   "metadata": {},
   "outputs": [
    {
     "name": "stdout",
     "output_type": "stream",
     "text": [
      "hello Training Basket\n"
     ]
    }
   ],
   "source": [
    "print(\"hello\" + \" \" + a)"
   ]
  },
  {
   "cell_type": "markdown",
   "id": "e26ad96a-5dfe-483b-97a6-6a321f80fbed",
   "metadata": {},
   "source": [
    "# Functions"
   ]
  },
  {
   "cell_type": "code",
   "execution_count": 10,
   "id": "ec628dad-a954-4e4d-ada7-574778b51b07",
   "metadata": {},
   "outputs": [],
   "source": [
    "def sum(a,b):\n",
    "    print(a+b)"
   ]
  },
  {
   "cell_type": "code",
   "execution_count": 11,
   "id": "5e1e8d45-dc01-4483-868d-ef15cd0e4966",
   "metadata": {},
   "outputs": [
    {
     "name": "stdout",
     "output_type": "stream",
     "text": [
      "7\n"
     ]
    }
   ],
   "source": [
    "sum(3,4)"
   ]
  },
  {
   "cell_type": "code",
   "execution_count": 12,
   "id": "c358b500-014a-4366-a727-10d08783b569",
   "metadata": {},
   "outputs": [
    {
     "name": "stdout",
     "output_type": "stream",
     "text": [
      "7\n",
      "None\n"
     ]
    }
   ],
   "source": [
    "print(sum(3,4))"
   ]
  },
  {
   "cell_type": "code",
   "execution_count": 13,
   "id": "03a84fbd-7fd2-40b9-a528-a6481668b3f7",
   "metadata": {},
   "outputs": [],
   "source": [
    "def summer(a,b):\n",
    "    print(a+b)\n",
    "    print(a-b)\n",
    "    print(a,b)"
   ]
  },
  {
   "cell_type": "code",
   "execution_count": 14,
   "id": "0758e5d7-5d77-4ef5-bf66-e14aae74e3d6",
   "metadata": {},
   "outputs": [
    {
     "name": "stdout",
     "output_type": "stream",
     "text": [
      "9\n",
      "1\n",
      "5 4\n"
     ]
    }
   ],
   "source": [
    "summer(5, 4)  "
   ]
  },
  {
   "cell_type": "code",
   "execution_count": 19,
   "id": "839e74b7-14dd-478b-9f09-d23c2d4ab6ec",
   "metadata": {},
   "outputs": [
    {
     "name": "stdout",
     "output_type": "stream",
     "text": [
      "9\n",
      "-1\n",
      "4 5\n",
      "None\n"
     ]
    }
   ],
   "source": [
    "print(summer(4,5))"
   ]
  },
  {
   "cell_type": "code",
   "execution_count": 24,
   "id": "3e96cdec-d7af-4d5e-81c7-86ee28e504ea",
   "metadata": {},
   "outputs": [],
   "source": [
    "def summer(a,b):\n",
    "    # print(a+b)\n",
    "    # print(a-b)\n",
    "    return a,b"
   ]
  },
  {
   "cell_type": "code",
   "execution_count": 25,
   "id": "57b66e70-aca3-4421-842f-5a441e3052e0",
   "metadata": {},
   "outputs": [
    {
     "data": {
      "text/plain": [
       "(4, 3)"
      ]
     },
     "execution_count": 25,
     "metadata": {},
     "output_type": "execute_result"
    }
   ],
   "source": [
    "summer(4, 3)"
   ]
  },
  {
   "cell_type": "code",
   "execution_count": 26,
   "id": "e38c5d86-cf6d-4b34-88bf-43a3a6d4cc4b",
   "metadata": {},
   "outputs": [],
   "source": [
    "c = summer(4, 3)"
   ]
  },
  {
   "cell_type": "code",
   "execution_count": 27,
   "id": "7b99b93d-9f57-4b18-a4bc-90e6f438642b",
   "metadata": {},
   "outputs": [
    {
     "data": {
      "text/plain": [
       "(4, 3)"
      ]
     },
     "execution_count": 27,
     "metadata": {},
     "output_type": "execute_result"
    }
   ],
   "source": [
    "c"
   ]
  },
  {
   "cell_type": "code",
   "execution_count": 28,
   "id": "3016b3e4-3a0d-4272-bc35-7d542d6f1ad8",
   "metadata": {},
   "outputs": [],
   "source": [
    "def summer(a,b):\n",
    "    return a+b,a-b"
   ]
  },
  {
   "cell_type": "code",
   "execution_count": 31,
   "id": "ab28d4aa-2876-4225-bd8a-3792017b8ea7",
   "metadata": {},
   "outputs": [
    {
     "name": "stdout",
     "output_type": "stream",
     "text": [
      "(12, 4)\n"
     ]
    }
   ],
   "source": [
    "a, b = 8, 4\n",
    "print(summer(a, b))"
   ]
  },
  {
   "cell_type": "code",
   "execution_count": 32,
   "id": "26f82fa5-7c71-485d-b05f-8306ff331903",
   "metadata": {},
   "outputs": [],
   "source": [
    "# # You have to return your full name \n",
    "# a = \"first name\"\n",
    "# b = \"second name\"\n"
   ]
  },
  {
   "cell_type": "code",
   "execution_count": 39,
   "id": "b8c937d1-8fed-4dee-bebb-7e9e24d98d42",
   "metadata": {},
   "outputs": [
    {
     "data": {
      "text/plain": [
       "'Heemang Mehta'"
      ]
     },
     "execution_count": 39,
     "metadata": {},
     "output_type": "execute_result"
    }
   ],
   "source": [
    "def full_name(first, second):\n",
    "    return first + \" \" + second\n",
    "a = \"Heemang\"\n",
    "b = \"Mehta\"\n",
    "full_name(a, b)"
   ]
  },
  {
   "cell_type": "code",
   "execution_count": 37,
   "id": "73b0592e-f63a-4350-8b51-003cd0dd215f",
   "metadata": {},
   "outputs": [],
   "source": [
    "def fullname(first , second):\n",
    "    name = first + \" \" + second\n",
    "    return name"
   ]
  },
  {
   "cell_type": "code",
   "execution_count": 38,
   "id": "a47243b3-56e6-473e-8f0c-0f1fe117d8ba",
   "metadata": {},
   "outputs": [
    {
     "data": {
      "text/plain": [
       "'tushar khitoliya'"
      ]
     },
     "execution_count": 38,
     "metadata": {},
     "output_type": "execute_result"
    }
   ],
   "source": [
    "fullname(\"tushar\", \"khitoliya\")"
   ]
  },
  {
   "cell_type": "code",
   "execution_count": 41,
   "id": "c3d20052-368e-4bb0-815a-64a44c5bb77c",
   "metadata": {},
   "outputs": [
    {
     "name": "stdin",
     "output_type": "stream",
     "text": [
      "Enter your input here :  hello\n"
     ]
    },
    {
     "data": {
      "text/plain": [
       "'hello'"
      ]
     },
     "execution_count": 41,
     "metadata": {},
     "output_type": "execute_result"
    }
   ],
   "source": [
    "input(\"Enter your input here : \")"
   ]
  },
  {
   "cell_type": "code",
   "execution_count": 42,
   "id": "b03fbdcb-7199-4432-a31d-e2939cb97c04",
   "metadata": {},
   "outputs": [
    {
     "name": "stdin",
     "output_type": "stream",
     "text": [
      "Enter my first name :  Tushar\n",
      "Enter my second name :  Khitoliya\n"
     ]
    },
    {
     "data": {
      "text/plain": [
       "'Tushar Khitoliya'"
      ]
     },
     "execution_count": 42,
     "metadata": {},
     "output_type": "execute_result"
    }
   ],
   "source": [
    "a = input(\"Enter my first name : \")\n",
    "b = input(\"Enter my second name : \")\n",
    "fullname(a,b)"
   ]
  },
  {
   "cell_type": "code",
   "execution_count": 43,
   "id": "0fba8d9e-2813-4e1c-9fcb-f03a39a008fc",
   "metadata": {},
   "outputs": [
    {
     "name": "stdin",
     "output_type": "stream",
     "text": [
      "Enter your first name:  Tushar\n",
      "Enter your last name:  Khitoliya\n"
     ]
    },
    {
     "name": "stdout",
     "output_type": "stream",
     "text": [
      "Your full name: Tushar Khitoliya\n"
     ]
    }
   ],
   "source": [
    "def first_name(a):\n",
    "\n",
    "    return a \n",
    "\n",
    "a = input(\"Enter your first name: \")\n",
    "# print(\"Your first name:\", first_name(a))\n",
    "\n",
    "\n",
    "def last_name(b):\n",
    "\n",
    "    return b\n",
    "\n",
    "b = input(\"Enter your last name: \")\n",
    "# print(\"Your last name:\", last_name(b))\n",
    "\n",
    "\n",
    "def full_name(a, b):\n",
    "\n",
    "    return a + \" \" + b\n",
    "print(\"Your full name:\", full_name(a, b))"
   ]
  },
  {
   "cell_type": "code",
   "execution_count": 45,
   "id": "f1bf3b0e-20c2-4884-9cc0-ab8264b520e3",
   "metadata": {},
   "outputs": [],
   "source": [
    "def f1(first):\n",
    "    return first\n",
    "def f2(second):\n",
    "    return second\n",
    "def f3(first,second):\n",
    "    return first +\" \"+ second"
   ]
  },
  {
   "cell_type": "code",
   "execution_count": 48,
   "id": "fb77a36a-d277-4ac3-a399-f14bc31bd76a",
   "metadata": {},
   "outputs": [
    {
     "name": "stdin",
     "output_type": "stream",
     "text": [
      "enter your first name : Tushar\n",
      "enter your second name :  Khitoliya\n"
     ]
    },
    {
     "data": {
      "text/plain": [
       "'Tushar Khitoliya'"
      ]
     },
     "execution_count": 48,
     "metadata": {},
     "output_type": "execute_result"
    }
   ],
   "source": [
    "first = f1(input(\"enter your first name :\"))\n",
    "second = f2(input(\"enter your second name : \"))\n",
    "f3(first, second)"
   ]
  },
  {
   "cell_type": "code",
   "execution_count": 50,
   "id": "4dc15f0c-bee0-4962-a345-09871f93f736",
   "metadata": {},
   "outputs": [],
   "source": [
    "def summer(a,b):\n",
    "    print(a+b)\n",
    "    print(a-b)\n",
    "    return (a-b), (a+b)"
   ]
  },
  {
   "cell_type": "code",
   "execution_count": 51,
   "id": "552b0e0d-7c0b-4aba-8cea-105eaf515cbb",
   "metadata": {},
   "outputs": [
    {
     "name": "stdout",
     "output_type": "stream",
     "text": [
      "9\n",
      "1\n"
     ]
    },
    {
     "data": {
      "text/plain": [
       "(1, 9)"
      ]
     },
     "execution_count": 51,
     "metadata": {},
     "output_type": "execute_result"
    }
   ],
   "source": [
    "summer(5, 4)"
   ]
  },
  {
   "cell_type": "code",
   "execution_count": 60,
   "id": "bbc956d5-213a-40b4-8e92-963b7c3d5f21",
   "metadata": {},
   "outputs": [
    {
     "name": "stdout",
     "output_type": "stream",
     "text": [
      "14\n",
      "2\n"
     ]
    }
   ],
   "source": [
    "s , p = summer(8, 6)\n",
    "s = s + p\n",
    "p = p - 5"
   ]
  },
  {
   "cell_type": "code",
   "execution_count": 61,
   "id": "7f618391-0d42-4bd5-8c2a-84a47092c8ed",
   "metadata": {},
   "outputs": [
    {
     "data": {
      "text/plain": [
       "16"
      ]
     },
     "execution_count": 61,
     "metadata": {},
     "output_type": "execute_result"
    }
   ],
   "source": [
    "s"
   ]
  },
  {
   "cell_type": "code",
   "execution_count": 62,
   "id": "03f08e8d-4fd4-4b50-a6a2-176a0d2f5c5d",
   "metadata": {},
   "outputs": [
    {
     "data": {
      "text/plain": [
       "9"
      ]
     },
     "execution_count": 62,
     "metadata": {},
     "output_type": "execute_result"
    }
   ],
   "source": [
    "p"
   ]
  },
  {
   "cell_type": "code",
   "execution_count": 63,
   "id": "44dd9b31-8a8c-4910-b3fb-d2cae675cfbf",
   "metadata": {},
   "outputs": [],
   "source": [
    "# how to find the address of any object \n"
   ]
  },
  {
   "cell_type": "code",
   "execution_count": 66,
   "id": "861ddfc0-2394-4e51-8bd4-1657f7ed65db",
   "metadata": {},
   "outputs": [
    {
     "data": {
      "text/plain": [
       "2191320911424"
      ]
     },
     "execution_count": 66,
     "metadata": {},
     "output_type": "execute_result"
    }
   ],
   "source": [
    "id(a)"
   ]
  },
  {
   "cell_type": "code",
   "execution_count": 71,
   "id": "0fa624f6-98cd-4128-9a83-97222178997d",
   "metadata": {},
   "outputs": [
    {
     "data": {
      "text/plain": [
       "2191208026080"
      ]
     },
     "execution_count": 71,
     "metadata": {},
     "output_type": "execute_result"
    }
   ],
   "source": [
    "id(print)"
   ]
  },
  {
   "cell_type": "code",
   "execution_count": 68,
   "id": "b508c09a-e3a0-4c5a-b041-e90065fb60fe",
   "metadata": {},
   "outputs": [
    {
     "data": {
      "text/plain": [
       "2191324400512"
      ]
     },
     "execution_count": 68,
     "metadata": {},
     "output_type": "execute_result"
    }
   ],
   "source": [
    "id(summer)"
   ]
  },
  {
   "cell_type": "code",
   "execution_count": 69,
   "id": "19c2b78e-e73a-481a-8186-d577d9f2c245",
   "metadata": {},
   "outputs": [
    {
     "data": {
      "text/plain": [
       "2191304204320"
      ]
     },
     "execution_count": 69,
     "metadata": {},
     "output_type": "execute_result"
    }
   ],
   "source": [
    "id(sum)"
   ]
  },
  {
   "cell_type": "code",
   "execution_count": 72,
   "id": "f62d7061-f178-448c-967f-113d15bd0763",
   "metadata": {},
   "outputs": [
    {
     "data": {
      "text/plain": [
       "2191324402432"
      ]
     },
     "execution_count": 72,
     "metadata": {},
     "output_type": "execute_result"
    }
   ],
   "source": [
    "id(fullname)"
   ]
  },
  {
   "cell_type": "code",
   "execution_count": 73,
   "id": "2641ed73-b2b0-4296-bb3f-048128c93e80",
   "metadata": {},
   "outputs": [
    {
     "data": {
      "text/plain": [
       "2191326188080"
      ]
     },
     "execution_count": 73,
     "metadata": {},
     "output_type": "execute_result"
    }
   ],
   "source": [
    "id(\"tushar\")"
   ]
  },
  {
   "cell_type": "code",
   "execution_count": null,
   "id": "82832cf8-0a72-4e23-b13d-5c51260ddd25",
   "metadata": {},
   "outputs": [],
   "source": []
  },
  {
   "cell_type": "code",
   "execution_count": null,
   "id": "0e07978a-da36-4ff1-ace2-04d6d1775907",
   "metadata": {},
   "outputs": [],
   "source": []
  },
  {
   "cell_type": "code",
   "execution_count": null,
   "id": "9c6241dd-3b38-4971-ada6-a71b78a94cf1",
   "metadata": {},
   "outputs": [],
   "source": []
  },
  {
   "cell_type": "code",
   "execution_count": null,
   "id": "aec3b413-f6e3-4a5a-8898-7851d318f1a7",
   "metadata": {},
   "outputs": [],
   "source": []
  },
  {
   "cell_type": "code",
   "execution_count": null,
   "id": "ce69f1d5-7a1a-4f99-8ff7-920fc4bd5f9c",
   "metadata": {},
   "outputs": [],
   "source": []
  },
  {
   "cell_type": "code",
   "execution_count": null,
   "id": "0d3f93f6-091a-4171-bd49-65f62fad6753",
   "metadata": {},
   "outputs": [],
   "source": []
  }
 ],
 "metadata": {
  "kernelspec": {
   "display_name": "Python 3 (ipykernel)",
   "language": "python",
   "name": "python3"
  },
  "language_info": {
   "codemirror_mode": {
    "name": "ipython",
    "version": 3
   },
   "file_extension": ".py",
   "mimetype": "text/x-python",
   "name": "python",
   "nbconvert_exporter": "python",
   "pygments_lexer": "ipython3",
   "version": "3.12.7"
  }
 },
 "nbformat": 4,
 "nbformat_minor": 5
}
