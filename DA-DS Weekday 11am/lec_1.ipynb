{
 "cells": [
  {
   "cell_type": "markdown",
   "id": "4c2f54be-9817-491d-b82b-fe4f31c69504",
   "metadata": {},
   "source": [
    "# Variables"
   ]
  },
  {
   "cell_type": "code",
   "execution_count": 1,
   "id": "33797a3f-9b27-4b28-ba7b-026d94ec7099",
   "metadata": {},
   "outputs": [],
   "source": [
    "a = 1"
   ]
  },
  {
   "cell_type": "code",
   "execution_count": 2,
   "id": "6bd5c38f-8899-4542-beb9-8872f2be8dbb",
   "metadata": {},
   "outputs": [],
   "source": [
    "b = 'Aditya'  or \"abc\" or \"\"\"asbc\"\"\""
   ]
  },
  {
   "cell_type": "code",
   "execution_count": 3,
   "id": "42961374-91c3-4d80-ba22-6005afa11703",
   "metadata": {},
   "outputs": [],
   "source": [
    "c = 5.2"
   ]
  },
  {
   "cell_type": "code",
   "execution_count": 4,
   "id": "f3fe0f9a-0411-4ca8-ad17-58a8464dd8d8",
   "metadata": {},
   "outputs": [],
   "source": [
    "d = True"
   ]
  },
  {
   "cell_type": "code",
   "execution_count": 63,
   "id": "c2bd0d99-c82a-4c0f-bc37-5656973b9685",
   "metadata": {},
   "outputs": [],
   "source": [
    "# type of data :\n",
    "# integer \n",
    "# float \n",
    "# string\n",
    "# boolean"
   ]
  },
  {
   "cell_type": "code",
   "execution_count": null,
   "id": "27b7d34d-3d8e-4a6a-9576-62e9723eb976",
   "metadata": {},
   "outputs": [],
   "source": []
  },
  {
   "cell_type": "code",
   "execution_count": null,
   "id": "1590c74d-ae34-4c64-9606-a21a6e91c07c",
   "metadata": {},
   "outputs": [],
   "source": []
  },
  {
   "cell_type": "code",
   "execution_count": 8,
   "id": "eae80ad1-33ab-4d34-80d5-c8e0b7bf0b81",
   "metadata": {},
   "outputs": [
    {
     "data": {
      "text/plain": [
       "int"
      ]
     },
     "execution_count": 8,
     "metadata": {},
     "output_type": "execute_result"
    }
   ],
   "source": [
    "type(a)"
   ]
  },
  {
   "cell_type": "code",
   "execution_count": 9,
   "id": "9b89479a-3101-4663-bca4-677c44dccff1",
   "metadata": {},
   "outputs": [
    {
     "data": {
      "text/plain": [
       "str"
      ]
     },
     "execution_count": 9,
     "metadata": {},
     "output_type": "execute_result"
    }
   ],
   "source": [
    "type(b)"
   ]
  },
  {
   "cell_type": "code",
   "execution_count": 10,
   "id": "eb1ff677-3016-44b8-b391-5c196fe1c85f",
   "metadata": {},
   "outputs": [
    {
     "data": {
      "text/plain": [
       "float"
      ]
     },
     "execution_count": 10,
     "metadata": {},
     "output_type": "execute_result"
    }
   ],
   "source": [
    "type(c)"
   ]
  },
  {
   "cell_type": "code",
   "execution_count": 11,
   "id": "e902677b-181c-44ce-83e3-0284fff8546b",
   "metadata": {},
   "outputs": [
    {
     "data": {
      "text/plain": [
       "bool"
      ]
     },
     "execution_count": 11,
     "metadata": {},
     "output_type": "execute_result"
    }
   ],
   "source": [
    "type(d)"
   ]
  },
  {
   "cell_type": "code",
   "execution_count": 12,
   "id": "ff06d560-1a36-48f5-b3b9-d96eef1ab4bf",
   "metadata": {},
   "outputs": [
    {
     "data": {
      "text/plain": [
       "type"
      ]
     },
     "execution_count": 12,
     "metadata": {},
     "output_type": "execute_result"
    }
   ],
   "source": [
    "type"
   ]
  },
  {
   "cell_type": "code",
   "execution_count": 69,
   "id": "c6d0de46-da59-44f8-b967-6218fabcc9c2",
   "metadata": {},
   "outputs": [
    {
     "data": {
      "text/plain": [
       "(True, 5.2, 3)"
      ]
     },
     "execution_count": 69,
     "metadata": {},
     "output_type": "execute_result"
    }
   ],
   "source": [
    "d , c , a"
   ]
  },
  {
   "cell_type": "code",
   "execution_count": 70,
   "id": "eccdbcc9-0914-454f-87a6-dff9df58b0ae",
   "metadata": {},
   "outputs": [
    {
     "name": "stdout",
     "output_type": "stream",
     "text": [
      "True 5.2 3\n"
     ]
    }
   ],
   "source": [
    "print(d, c, a)"
   ]
  },
  {
   "cell_type": "code",
   "execution_count": 73,
   "id": "ede390f8-e6cc-4be3-9f8b-7ea6d108ff43",
   "metadata": {},
   "outputs": [
    {
     "data": {
      "text/plain": [
       "('hello', 45)"
      ]
     },
     "execution_count": 73,
     "metadata": {},
     "output_type": "execute_result"
    }
   ],
   "source": [
    "\"hello\",45"
   ]
  },
  {
   "cell_type": "code",
   "execution_count": 75,
   "id": "eccce46b-cb84-4db3-bf02-b2fba727890b",
   "metadata": {},
   "outputs": [
    {
     "name": "stdout",
     "output_type": "stream",
     "text": [
      "hello  Aditya\n"
     ]
    }
   ],
   "source": [
    "print(\"hello\",\" Aditya\")"
   ]
  },
  {
   "cell_type": "code",
   "execution_count": 21,
   "id": "56e113ce-019c-4c01-8d25-f7477ae3536b",
   "metadata": {},
   "outputs": [
    {
     "data": {
      "text/plain": [
       "\u001b[1;31mSignature:\u001b[0m \u001b[0mprint\u001b[0m\u001b[1;33m(\u001b[0m\u001b[1;33m*\u001b[0m\u001b[0margs\u001b[0m\u001b[1;33m,\u001b[0m \u001b[0msep\u001b[0m\u001b[1;33m=\u001b[0m\u001b[1;34m' '\u001b[0m\u001b[1;33m,\u001b[0m \u001b[0mend\u001b[0m\u001b[1;33m=\u001b[0m\u001b[1;34m'\\n'\u001b[0m\u001b[1;33m,\u001b[0m \u001b[0mfile\u001b[0m\u001b[1;33m=\u001b[0m\u001b[1;32mNone\u001b[0m\u001b[1;33m,\u001b[0m \u001b[0mflush\u001b[0m\u001b[1;33m=\u001b[0m\u001b[1;32mFalse\u001b[0m\u001b[1;33m)\u001b[0m\u001b[1;33m\u001b[0m\u001b[1;33m\u001b[0m\u001b[0m\n",
       "\u001b[1;31mDocstring:\u001b[0m\n",
       "Prints the values to a stream, or to sys.stdout by default.\n",
       "\n",
       "sep\n",
       "  string inserted between values, default a space.\n",
       "end\n",
       "  string appended after the last value, default a newline.\n",
       "file\n",
       "  a file-like object (stream); defaults to the current sys.stdout.\n",
       "flush\n",
       "  whether to forcibly flush the stream.\n",
       "\u001b[1;31mType:\u001b[0m      builtin_function_or_method"
      ]
     },
     "metadata": {},
     "output_type": "display_data"
    }
   ],
   "source": [
    "print?"
   ]
  },
  {
   "cell_type": "markdown",
   "id": "b15ad3e5-821f-4fb3-a397-c04d33748b2a",
   "metadata": {},
   "source": [
    "# Operators\n",
    "1. Arithmetic operators\n",
    "2. Logical Operators\n",
    "3. Comparison operators"
   ]
  },
  {
   "cell_type": "code",
   "execution_count": 23,
   "id": "6e7be3d1-fd16-4b83-9134-793958fb2a8a",
   "metadata": {},
   "outputs": [
    {
     "data": {
      "text/plain": [
       "6"
      ]
     },
     "execution_count": 23,
     "metadata": {},
     "output_type": "execute_result"
    }
   ],
   "source": [
    "2 + 4"
   ]
  },
  {
   "cell_type": "code",
   "execution_count": 24,
   "id": "b807faa3-4803-4016-aa27-465f9c3e88b8",
   "metadata": {},
   "outputs": [
    {
     "data": {
      "text/plain": [
       "2"
      ]
     },
     "execution_count": 24,
     "metadata": {},
     "output_type": "execute_result"
    }
   ],
   "source": [
    "4 - 2"
   ]
  },
  {
   "cell_type": "code",
   "execution_count": 25,
   "id": "78c92855-e7ed-45ca-9c93-ec3af889ea83",
   "metadata": {},
   "outputs": [
    {
     "data": {
      "text/plain": [
       "8"
      ]
     },
     "execution_count": 25,
     "metadata": {},
     "output_type": "execute_result"
    }
   ],
   "source": [
    "4*2"
   ]
  },
  {
   "cell_type": "code",
   "execution_count": 26,
   "id": "68113dd7-6bf7-4381-985f-ee88815ca033",
   "metadata": {},
   "outputs": [
    {
     "data": {
      "text/plain": [
       "2.0"
      ]
     },
     "execution_count": 26,
     "metadata": {},
     "output_type": "execute_result"
    }
   ],
   "source": [
    "4/2"
   ]
  },
  {
   "cell_type": "code",
   "execution_count": 77,
   "id": "1145666d-4a1c-43ec-a4cd-5d083d4ef201",
   "metadata": {},
   "outputs": [
    {
     "data": {
      "text/plain": [
       "1.0"
      ]
     },
     "execution_count": 77,
     "metadata": {},
     "output_type": "execute_result"
    }
   ],
   "source": [
    "4//2  # float division \n",
    "7.9//6"
   ]
  },
  {
   "cell_type": "code",
   "execution_count": 28,
   "id": "752248b7-0ab4-4115-889a-e1a286c413c9",
   "metadata": {},
   "outputs": [
    {
     "data": {
      "text/plain": [
       "1"
      ]
     },
     "execution_count": 28,
     "metadata": {},
     "output_type": "execute_result"
    }
   ],
   "source": [
    "23 % 2  # -> it will give you the reminder"
   ]
  },
  {
   "cell_type": "code",
   "execution_count": 37,
   "id": "0a7073a9-f862-4b9c-801e-84173863ebe7",
   "metadata": {},
   "outputs": [],
   "source": [
    "a = 3"
   ]
  },
  {
   "cell_type": "code",
   "execution_count": 38,
   "id": "9fcf6dab-9262-4c0e-be32-6b2278c371d6",
   "metadata": {},
   "outputs": [
    {
     "data": {
      "text/plain": [
       "'Aditya'"
      ]
     },
     "execution_count": 38,
     "metadata": {},
     "output_type": "execute_result"
    }
   ],
   "source": [
    "b"
   ]
  },
  {
   "cell_type": "code",
   "execution_count": 39,
   "id": "f2992047-9132-49ad-aec1-f0d2030055ea",
   "metadata": {},
   "outputs": [
    {
     "data": {
      "text/plain": [
       "5.2"
      ]
     },
     "execution_count": 39,
     "metadata": {},
     "output_type": "execute_result"
    }
   ],
   "source": [
    "c"
   ]
  },
  {
   "cell_type": "code",
   "execution_count": 40,
   "id": "62dbea29-b6df-4017-93c6-327d50e875a2",
   "metadata": {},
   "outputs": [
    {
     "data": {
      "text/plain": [
       "8.2"
      ]
     },
     "execution_count": 40,
     "metadata": {},
     "output_type": "execute_result"
    }
   ],
   "source": [
    "a + c"
   ]
  },
  {
   "cell_type": "code",
   "execution_count": 41,
   "id": "90418b26-18e8-4610-9b1e-fd0ddaf66227",
   "metadata": {},
   "outputs": [
    {
     "data": {
      "text/plain": [
       "'3Aditya'"
      ]
     },
     "execution_count": 41,
     "metadata": {},
     "output_type": "execute_result"
    }
   ],
   "source": [
    "str(a) + b   "
   ]
  },
  {
   "cell_type": "code",
   "execution_count": 42,
   "id": "32803c51-ec41-454c-bb66-acd329681e5b",
   "metadata": {},
   "outputs": [
    {
     "data": {
      "text/plain": [
       "-2.2"
      ]
     },
     "execution_count": 42,
     "metadata": {},
     "output_type": "execute_result"
    }
   ],
   "source": [
    "a - c"
   ]
  },
  {
   "cell_type": "code",
   "execution_count": 43,
   "id": "af39ecca-6714-45d9-8ebc-59d55d373573",
   "metadata": {},
   "outputs": [
    {
     "data": {
      "text/plain": [
       "15.600000000000001"
      ]
     },
     "execution_count": 43,
     "metadata": {},
     "output_type": "execute_result"
    }
   ],
   "source": [
    "a * c"
   ]
  },
  {
   "cell_type": "code",
   "execution_count": 44,
   "id": "0648d66e-5586-410b-ace3-75e625286ad2",
   "metadata": {},
   "outputs": [
    {
     "data": {
      "text/plain": [
       "1.7333333333333334"
      ]
     },
     "execution_count": 44,
     "metadata": {},
     "output_type": "execute_result"
    }
   ],
   "source": [
    "c / a"
   ]
  },
  {
   "cell_type": "code",
   "execution_count": 45,
   "id": "cbc421c2-d3e7-4f98-99ce-f720e12fd8b4",
   "metadata": {},
   "outputs": [
    {
     "data": {
      "text/plain": [
       "1.0"
      ]
     },
     "execution_count": 45,
     "metadata": {},
     "output_type": "execute_result"
    }
   ],
   "source": [
    "c // a"
   ]
  },
  {
   "cell_type": "code",
   "execution_count": 46,
   "id": "3f2776a0-0f33-4296-9c9f-0e55d90bce17",
   "metadata": {},
   "outputs": [
    {
     "data": {
      "text/plain": [
       "2.2"
      ]
     },
     "execution_count": 46,
     "metadata": {},
     "output_type": "execute_result"
    }
   ],
   "source": [
    "c % a"
   ]
  },
  {
   "cell_type": "code",
   "execution_count": 47,
   "id": "f48cfdb0-954d-4cd8-8b47-a8a41e475879",
   "metadata": {},
   "outputs": [],
   "source": [
    "# Logical operators"
   ]
  },
  {
   "cell_type": "code",
   "execution_count": 48,
   "id": "c6459239-ca73-4002-9e80-302d1c1f3a44",
   "metadata": {},
   "outputs": [],
   "source": [
    "# Comparison operators"
   ]
  },
  {
   "cell_type": "code",
   "execution_count": 49,
   "id": "f19f4a34-2205-47a8-9dbf-26c57d53dbd9",
   "metadata": {},
   "outputs": [
    {
     "data": {
      "text/plain": [
       "3"
      ]
     },
     "execution_count": 49,
     "metadata": {},
     "output_type": "execute_result"
    }
   ],
   "source": [
    "a"
   ]
  },
  {
   "cell_type": "code",
   "execution_count": 50,
   "id": "532c2987-847d-4154-b690-435d82793791",
   "metadata": {},
   "outputs": [
    {
     "data": {
      "text/plain": [
       "True"
      ]
     },
     "execution_count": 50,
     "metadata": {},
     "output_type": "execute_result"
    }
   ],
   "source": [
    "a > 2"
   ]
  },
  {
   "cell_type": "code",
   "execution_count": 51,
   "id": "b5331fc2-ba46-4169-9935-3c276bfd7c55",
   "metadata": {},
   "outputs": [
    {
     "data": {
      "text/plain": [
       "True"
      ]
     },
     "execution_count": 51,
     "metadata": {},
     "output_type": "execute_result"
    }
   ],
   "source": [
    "a < 5"
   ]
  },
  {
   "cell_type": "code",
   "execution_count": 52,
   "id": "38214cc8-106c-4606-8a77-b7487c8b86b5",
   "metadata": {},
   "outputs": [
    {
     "data": {
      "text/plain": [
       "False"
      ]
     },
     "execution_count": 52,
     "metadata": {},
     "output_type": "execute_result"
    }
   ],
   "source": [
    "a > 4"
   ]
  },
  {
   "cell_type": "code",
   "execution_count": 53,
   "id": "59588eb4-bd64-4d25-b0c3-05e48392fd95",
   "metadata": {},
   "outputs": [
    {
     "data": {
      "text/plain": [
       "False"
      ]
     },
     "execution_count": 53,
     "metadata": {},
     "output_type": "execute_result"
    }
   ],
   "source": [
    "a >= 4"
   ]
  },
  {
   "cell_type": "code",
   "execution_count": 54,
   "id": "377bc47e-e4a0-466d-9d35-de9c08214574",
   "metadata": {},
   "outputs": [
    {
     "data": {
      "text/plain": [
       "True"
      ]
     },
     "execution_count": 54,
     "metadata": {},
     "output_type": "execute_result"
    }
   ],
   "source": [
    "a <= 3"
   ]
  },
  {
   "cell_type": "code",
   "execution_count": 55,
   "id": "f16e4207-a26c-402a-bf42-eae8d478b13d",
   "metadata": {},
   "outputs": [
    {
     "data": {
      "text/plain": [
       "False"
      ]
     },
     "execution_count": 55,
     "metadata": {},
     "output_type": "execute_result"
    }
   ],
   "source": [
    "a == 2"
   ]
  },
  {
   "cell_type": "code",
   "execution_count": 56,
   "id": "76cd4fcc-2655-4dfc-a3cf-f53000f4a2c2",
   "metadata": {},
   "outputs": [],
   "source": [
    "a = 3"
   ]
  },
  {
   "cell_type": "code",
   "execution_count": 57,
   "id": "76ddef1a-429b-422f-b8a1-c6d1c7e58a2c",
   "metadata": {},
   "outputs": [
    {
     "data": {
      "text/plain": [
       "True"
      ]
     },
     "execution_count": 57,
     "metadata": {},
     "output_type": "execute_result"
    }
   ],
   "source": [
    "a != c "
   ]
  },
  {
   "cell_type": "code",
   "execution_count": 60,
   "id": "0583eff6-8e02-4a7b-9f9f-c358f1408656",
   "metadata": {},
   "outputs": [
    {
     "data": {
      "text/plain": [
       "11.5"
      ]
     },
     "execution_count": 60,
     "metadata": {},
     "output_type": "execute_result"
    }
   ],
   "source": [
    "23.0 / 2"
   ]
  },
  {
   "cell_type": "code",
   "execution_count": 78,
   "id": "8996dd83-ff69-4c36-95c1-0373196908dd",
   "metadata": {},
   "outputs": [],
   "source": [
    "a = 3 # -> assign the value to a\n"
   ]
  },
  {
   "cell_type": "code",
   "execution_count": 80,
   "id": "996652d3-4223-483c-a788-22bdcabfa014",
   "metadata": {},
   "outputs": [
    {
     "data": {
      "text/plain": [
       "False"
      ]
     },
     "execution_count": 80,
     "metadata": {},
     "output_type": "execute_result"
    }
   ],
   "source": [
    "a == 9\n",
    "# 3 == 9"
   ]
  },
  {
   "cell_type": "code",
   "execution_count": null,
   "id": "889cf900-f380-4e78-8b7e-3bbc36c2cfe9",
   "metadata": {},
   "outputs": [],
   "source": []
  }
 ],
 "metadata": {
  "kernelspec": {
   "display_name": "Python 3 (ipykernel)",
   "language": "python",
   "name": "python3"
  },
  "language_info": {
   "codemirror_mode": {
    "name": "ipython",
    "version": 3
   },
   "file_extension": ".py",
   "mimetype": "text/x-python",
   "name": "python",
   "nbconvert_exporter": "python",
   "pygments_lexer": "ipython3",
   "version": "3.12.7"
  }
 },
 "nbformat": 4,
 "nbformat_minor": 5
}
