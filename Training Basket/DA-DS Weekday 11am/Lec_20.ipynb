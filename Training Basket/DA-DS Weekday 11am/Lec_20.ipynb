{
 "cells": [
  {
   "cell_type": "code",
   "execution_count": 29,
   "id": "9735eeab-ac38-4201-aaed-a7f851893321",
   "metadata": {},
   "outputs": [
    {
     "data": {
      "text/plain": [
       "40"
      ]
     },
     "execution_count": 29,
     "metadata": {},
     "output_type": "execute_result"
    }
   ],
   "source": [
    "t = 'This is data analytics and data science1'\n",
    "len(t)"
   ]
  },
  {
   "cell_type": "code",
   "execution_count": 2,
   "id": "e50115f5-3659-4b41-81c0-f7909ef8e6b7",
   "metadata": {},
   "outputs": [],
   "source": [
    "st = '''Data analytics is the process of examining raw data to uncover patterns, draw conclusions, and make informed decisions. It involves collecting, transforming, and organizing data to derive insights and drive decision-making. Data analytics is a broad field encompassing various techniques and tools, including data science and data engineering. '''"
   ]
  },
  {
   "cell_type": "code",
   "execution_count": 26,
   "id": "54621d64-7be8-4c53-9c8b-53af8d58d519",
   "metadata": {},
   "outputs": [],
   "source": [
    "file = open('new_file1.txt', 'w')\n",
    "a = 0\n",
    "l = len(st)\n",
    "b = 50\n",
    "while l > 0 :\n",
    "    file.write(st[a:b])\n",
    "    # print((st[a:b]))\n",
    "    l = l - 50\n",
    "    a = b\n",
    "    b = b + 50\n",
    "file.close()"
   ]
  },
  {
   "cell_type": "code",
   "execution_count": 13,
   "id": "45b7790a-96dd-44ad-8ccc-ebda03e711f2",
   "metadata": {},
   "outputs": [],
   "source": [
    "file = open('python.txt', 'a')"
   ]
  },
  {
   "cell_type": "code",
   "execution_count": 14,
   "id": "2268b368-cb35-4a44-95f9-1e65d45ee70d",
   "metadata": {},
   "outputs": [
    {
     "data": {
      "text/plain": [
       "6"
      ]
     },
     "execution_count": 14,
     "metadata": {},
     "output_type": "execute_result"
    }
   ],
   "source": [
    "file.write(\" \" + \"Hello\")"
   ]
  },
  {
   "cell_type": "code",
   "execution_count": 15,
   "id": "4edc4987-d95b-46a0-8d70-368ba14f27a3",
   "metadata": {},
   "outputs": [],
   "source": [
    "file.close()"
   ]
  },
  {
   "cell_type": "code",
   "execution_count": 19,
   "id": "18f7a10c-b905-43cc-b0b7-d89b86cb6718",
   "metadata": {},
   "outputs": [
    {
     "data": {
      "text/plain": [
       "''"
      ]
     },
     "execution_count": 19,
     "metadata": {},
     "output_type": "execute_result"
    }
   ],
   "source": [
    "file = open(\"new_file1.txt\", 'r')\n",
    "file.read()"
   ]
  },
  {
   "cell_type": "code",
   "execution_count": 20,
   "id": "de5883d0-8467-4545-901c-36e6a52a6253",
   "metadata": {},
   "outputs": [],
   "source": [
    "file.close()"
   ]
  },
  {
   "cell_type": "code",
   "execution_count": 27,
   "id": "25fda0fb-3f9a-4e30-b091-63002e76fff8",
   "metadata": {},
   "outputs": [
    {
     "data": {
      "text/plain": [
       "'Data analytics is the process of examining raw data to uncover patterns, draw conclusions, and make informed decisions. It involves collecting, transforming, and organizing data to derive insights and drive decision-making. Data analytics is a broad field encompassing various techniques and tools, including data science and data engineering. '"
      ]
     },
     "execution_count": 27,
     "metadata": {},
     "output_type": "execute_result"
    }
   ],
   "source": [
    "file = open('new_file1.txt', 'r')\n",
    "file.read()"
   ]
  },
  {
   "cell_type": "code",
   "execution_count": 34,
   "id": "5dd78e63-6fdd-405e-90d9-4b7399e52498",
   "metadata": {},
   "outputs": [
    {
     "name": "stdin",
     "output_type": "stream",
     "text": [
      "enter the characters =  50\n",
      "enter the characters =  10\n",
      "enter the characters =  200\n",
      "enter the characters =  10\n",
      "enter the characters =  10\n",
      "enter the characters =  20\n",
      "enter the characters =  4\n",
      "enter the characters =  20\n",
      "enter the characters =  20\n"
     ]
    }
   ],
   "source": [
    "file = open('new_file1.txt', 'w')\n",
    "a = 0\n",
    "for i in range(len(st)):\n",
    "    n = int(input(\"enter the characters = \"))\n",
    "    part = st[a:a+n]\n",
    "    file.write(part)\n",
    "    a = a + n\n",
    "    if a >= len(st):\n",
    "        break\n",
    "file.close()        "
   ]
  },
  {
   "cell_type": "code",
   "execution_count": 35,
   "id": "afda97e8-8f7f-4cc7-8a6d-605497d9da0b",
   "metadata": {},
   "outputs": [
    {
     "data": {
      "text/plain": [
       "'Data analytics is the process of examining raw data to uncover patterns, draw conclusions, and make informed decisions. It involves collecting, transforming, and organizing data to derive insights and drive decision-making. Data analytics is a broad field encompassing various techniques and tools, including data science and data engineering. '"
      ]
     },
     "execution_count": 35,
     "metadata": {},
     "output_type": "execute_result"
    }
   ],
   "source": [
    "file = open('new_file1.txt', 'r')\n",
    "file.read()"
   ]
  },
  {
   "cell_type": "code",
   "execution_count": 36,
   "id": "fb2d8ac4-2949-497d-a852-3992aed0e413",
   "metadata": {},
   "outputs": [
    {
     "name": "stdout",
     "output_type": "stream",
     "text": [
      "Machine learning Hello\n"
     ]
    }
   ],
   "source": [
    "with open(\"python.txt\", 'w') as file:\n",
    "    print(file.read())"
   ]
  },
  {
   "cell_type": "code",
   "execution_count": 37,
   "id": "e5fc93e6-f070-4e28-8337-a64216dbb329",
   "metadata": {},
   "outputs": [
    {
     "name": "stdin",
     "output_type": "stream",
     "text": [
      "enter the characters =  10\n",
      "enter the characters =  200\n",
      "enter the characters =  200\n"
     ]
    }
   ],
   "source": [
    "with open('new_file1.txt', 'w') as file:\n",
    "        \n",
    "    a = 0\n",
    "    for i in range(len(st)):\n",
    "        n = int(input(\"enter the characters = \"))\n",
    "        part = st[a:a+n]\n",
    "        file.write(part)\n",
    "        a = a + n\n",
    "        if a >= len(st):\n",
    "            break"
   ]
  },
  {
   "cell_type": "code",
   "execution_count": 38,
   "id": "59815a7b-bd27-4a63-b773-7876327a9a5c",
   "metadata": {},
   "outputs": [
    {
     "data": {
      "text/plain": [
       "'Data analytics is the process of examining raw data to uncover patterns, draw conclusions, and make informed decisions. It involves collecting, transforming, and organizing data to derive insights and drive decision-making. Data analytics is a broad field encompassing various techniques and tools, including data science and data engineering. '"
      ]
     },
     "execution_count": 38,
     "metadata": {},
     "output_type": "execute_result"
    }
   ],
   "source": [
    "file = open('new_file1.txt', 'r')\n",
    "file.read()"
   ]
  },
  {
   "cell_type": "code",
   "execution_count": null,
   "id": "d350b0cc-18d2-4012-b856-310cb1f46970",
   "metadata": {},
   "outputs": [],
   "source": []
  }
 ],
 "metadata": {
  "kernelspec": {
   "display_name": "Python 3 (ipykernel)",
   "language": "python",
   "name": "python3"
  },
  "language_info": {
   "codemirror_mode": {
    "name": "ipython",
    "version": 3
   },
   "file_extension": ".py",
   "mimetype": "text/x-python",
   "name": "python",
   "nbconvert_exporter": "python",
   "pygments_lexer": "ipython3",
   "version": "3.12.7"
  }
 },
 "nbformat": 4,
 "nbformat_minor": 5
}
