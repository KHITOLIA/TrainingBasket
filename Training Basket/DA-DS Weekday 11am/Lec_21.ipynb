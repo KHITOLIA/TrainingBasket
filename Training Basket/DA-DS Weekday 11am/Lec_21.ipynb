{
 "cells": [
  {
   "cell_type": "code",
   "execution_count": 57,
   "id": "1af4f9d5-4f51-412a-a252-0d5ed4919cdc",
   "metadata": {},
   "outputs": [],
   "source": [
    "# a = int(input(\"Enter the number = \"))\n",
    "# print(f\"Mlutiplication table of {a}\")\n",
    "\n",
    "# for i in range(1, 11):\n",
    "#     print(f\"{a}*{i} = {a*i}\")\n",
    "\n",
    "# print(\"end of the program\")"
   ]
  },
  {
   "cell_type": "code",
   "execution_count": 65,
   "id": "d4ef9a7b-9e5d-49a1-baf8-032910e4cef8",
   "metadata": {},
   "outputs": [
    {
     "name": "stdin",
     "output_type": "stream",
     "text": [
      "enter the number =  123423asa\n"
     ]
    },
    {
     "name": "stdout",
     "output_type": "stream",
     "text": [
      "invalid literal for int() with base 10: '123423asa'\n"
     ]
    }
   ],
   "source": [
    "try:\n",
    "    num = int(input(\"enter the number = \"))\n",
    "    print(num)\n",
    "except Exception as e:\n",
    "    print(e)"
   ]
  },
  {
   "cell_type": "code",
   "execution_count": 66,
   "id": "0849d9df-cc2b-4bea-8fa0-63142811f1fb",
   "metadata": {},
   "outputs": [
    {
     "name": "stdin",
     "output_type": "stream",
     "text": [
      "enter the number =  23erdfsas\n"
     ]
    },
    {
     "name": "stdout",
     "output_type": "stream",
     "text": [
      "Invalid Input\n"
     ]
    }
   ],
   "source": [
    "try:\n",
    "    num = int(input(\"enter the number = \"))\n",
    "    print(num)\n",
    "except ValueError:\n",
    "    print(\"Invalid Input\")"
   ]
  },
  {
   "cell_type": "code",
   "execution_count": 70,
   "id": "3deccb75-a63a-4636-b3f7-6125412e7d45",
   "metadata": {},
   "outputs": [
    {
     "name": "stdin",
     "output_type": "stream",
     "text": [
      "enter the number =  6\n"
     ]
    },
    {
     "name": "stdout",
     "output_type": "stream",
     "text": [
      "Index Error\n"
     ]
    }
   ],
   "source": [
    "try:\n",
    "    num = int(input(\"enter the number = \"))\n",
    "    a = [2, 3, 4]\n",
    "    print(a[num])\n",
    "except ValueError:\n",
    "    print(\"Invalid Input\")\n",
    "\n",
    "except IndexError:\n",
    "    print(\"Index Error\")\n",
    "\n"
   ]
  },
  {
   "cell_type": "code",
   "execution_count": 78,
   "id": "562237a3-3632-4fac-8840-19c808e74605",
   "metadata": {},
   "outputs": [],
   "source": [
    "def divider(a, b):\n",
    "\n",
    "    try:\n",
    "        return a/b\n",
    "    except ZeroDivisionError:\n",
    "        print(\"Zero Division Error! Denominator = 0\")\n",
    "        return 0\n",
    "    except TypeError:\n",
    "        print(\"String Error\")\n",
    "    except AttributeError:\n",
    "        print(\"Name Error\")\n",
    "    finally:\n",
    "        c = int(input(\"Enter the denominator\"))\n",
    "        print(\"this will work now !\")\n",
    "        return a/c"
   ]
  },
  {
   "cell_type": "code",
   "execution_count": 80,
   "id": "d58b5c56-32a4-4786-9b1e-34b9b0982d0e",
   "metadata": {},
   "outputs": [
    {
     "name": "stdout",
     "output_type": "stream",
     "text": [
      "Zero Division Error! Denominator = 0\n"
     ]
    },
    {
     "name": "stdin",
     "output_type": "stream",
     "text": [
      "Enter the denominator 50\n"
     ]
    },
    {
     "name": "stdout",
     "output_type": "stream",
     "text": [
      "this will work now !\n"
     ]
    },
    {
     "data": {
      "text/plain": [
       "2.0"
      ]
     },
     "execution_count": 80,
     "metadata": {},
     "output_type": "execute_result"
    }
   ],
   "source": [
    "divider(100, 0)"
   ]
  },
  {
   "cell_type": "code",
   "execution_count": 107,
   "id": "7b26481c-b77c-4d02-bd2f-83c60b2c3549",
   "metadata": {},
   "outputs": [],
   "source": [
    "# try and except\n",
    "def divider(a, b):\n",
    "    \n",
    "    try:\n",
    "        if a == 0:\n",
    "            raise ZeroDivisionError('Dont enter 50 again')\n",
    "        return a/b\n",
    "    except:\n",
    "        print(\"Something is wrong!\")"
   ]
  },
  {
   "cell_type": "code",
   "execution_count": 108,
   "id": "2fbc7f85-6ff8-41d5-9e43-3124b1320a8c",
   "metadata": {},
   "outputs": [
    {
     "name": "stdout",
     "output_type": "stream",
     "text": [
      "something is wrong!\n",
      "None\n"
     ]
    }
   ],
   "source": [
    "print(divide(510, 0))"
   ]
  },
  {
   "cell_type": "code",
   "execution_count": 109,
   "id": "a74da54c-da79-4b90-bbff-9f1f8012590b",
   "metadata": {},
   "outputs": [
    {
     "ename": "ZeroDivisionError",
     "evalue": "Don't divide this by zero",
     "output_type": "error",
     "traceback": [
      "\u001b[1;31m---------------------------------------------------------------------------\u001b[0m",
      "\u001b[1;31mZeroDivisionError\u001b[0m                         Traceback (most recent call last)",
      "Cell \u001b[1;32mIn[109], line 3\u001b[0m\n\u001b[0;32m      1\u001b[0m a \u001b[38;5;241m=\u001b[39m \u001b[38;5;241m100\u001b[39m\n\u001b[0;32m      2\u001b[0m \u001b[38;5;28;01mif\u001b[39;00m a \u001b[38;5;241m==\u001b[39m \u001b[38;5;241m100\u001b[39m:\n\u001b[1;32m----> 3\u001b[0m     \u001b[38;5;28;01mraise\u001b[39;00m \u001b[38;5;167;01mZeroDivisionError\u001b[39;00m(\u001b[38;5;124m\"\u001b[39m\u001b[38;5;124mDon\u001b[39m\u001b[38;5;124m'\u001b[39m\u001b[38;5;124mt divide this by zero\u001b[39m\u001b[38;5;124m\"\u001b[39m)\n",
      "\u001b[1;31mZeroDivisionError\u001b[0m: Don't divide this by zero"
     ]
    }
   ],
   "source": [
    "a = 100\n",
    "if a == 100:\n",
    "    raise ZeroDivisionError(\"Don't divide this by zero\")\n",
    "    "
   ]
  },
  {
   "cell_type": "code",
   "execution_count": 120,
   "id": "ee509daf-b872-4056-8460-8b4b49398d87",
   "metadata": {},
   "outputs": [
    {
     "name": "stdout",
     "output_type": "stream",
     "text": [
      "<class 'str'>\n"
     ]
    }
   ],
   "source": [
    "with open('BTcode.json', 'r') as file:\n",
    "    text = file.read()\n",
    "    print(type(text))"
   ]
  },
  {
   "cell_type": "code",
   "execution_count": 121,
   "id": "f16b2ae7-24d2-4b04-a7f7-ec2af5ad8378",
   "metadata": {},
   "outputs": [
    {
     "name": "stdout",
     "output_type": "stream",
     "text": [
      "['round-off onto the springboard?', 'turning entry after round-off (turning in first flight phase)?', 'Facing the coming direction when handstand on vault (0.5 turn in first flight phase)?', 'Body keep stretched  during salto (stretched salto)?', 'Salto with turn?', 'Facing vault table after landing?', 'Salto with 1.5 turn?']\n",
      "<class 'dict'>\n"
     ]
    }
   ],
   "source": [
    "with open('BTcode.json', 'r') as file:\n",
    "    text = json.load(file)\n",
    "    print(text['0']['questions'])\n",
    "    print(type(text))"
   ]
  },
  {
   "cell_type": "code",
   "execution_count": 134,
   "id": "23df75a3-55e0-4812-aa81-2c77cde37bef",
   "metadata": {
    "scrolled": true
   },
   "outputs": [
    {
     "name": "stdout",
     "output_type": "stream",
     "text": [
      "('0', {'BTcode': '1111111', 'questions': ['round-off onto the springboard?', 'turning entry after round-off (turning in first flight phase)?', 'Facing the coming direction when handstand on vault (0.5 turn in first flight phase)?', 'Body keep stretched  during salto (stretched salto)?', 'Salto with turn?', 'Facing vault table after landing?', 'Salto with 1.5 turn?'], 'code': '6.00'})\n",
      "('1', {'BTcode': '1111110', 'questions': ['round-off onto the springboard?', 'turning entry after round-off (turning in first flight phase)?', 'Facing the coming direction when handstand on vault (0.5 turn in first flight phase)?', 'Body keep stretched  during salto (stretched salto)?', 'Salto with turn?', 'Facing vault table after landing?', 'Salto with 1.5 turn?'], 'code': '5.20'})\n",
      "('2', {'BTcode': '1111101', 'questions': ['round-off onto the springboard?', 'turning entry after round-off (turning in first flight phase)?', 'Facing the coming direction when handstand on vault (0.5 turn in first flight phase)?', 'Body keep stretched  during salto (stretched salto)?', 'Salto with turn?', 'Facing vault table after landing?', 'Salto with 1 turn?'], 'code': '5.60'})\n",
      "('3', {'BTcode': '1111100', 'questions': ['round-off onto the springboard?', 'turning entry after round-off (turning in first flight phase)?', 'Facing the coming direction when handstand on vault (0.5 turn in first flight phase)?', 'Body keep stretched  during salto (stretched salto)?', 'Salto with turn?', 'Facing vault table after landing?', 'Salto with 1 turn?'], 'code': '6.40'})\n",
      "('4', {'BTcode': '11110', 'questions': ['round-off onto the springboard?', 'turning entry after round-off (turning in first flight phase)?', 'Facing the coming direction when handstand on vault (0.5 turn in first flight phase)?', 'Body keep stretched  during salto (stretched salto)?', 'Salto with turn?'], 'code': '4.80'})\n",
      "('5', {'BTcode': '111011', 'questions': ['round-off onto the springboard?', 'turning entry after round-off (turning in first flight phase)?', 'Facing the coming direction when handstand on vault (0.5 turn in first flight phase)?', 'Body keep stretched  during salto (stretched salto)?', 'Salto piked  (body bent forward at the waist with the legs kept stretched )?', '0.5 turn with body being stretched before salto?'], 'code': '4.80'})\n",
      "('6', {'BTcode': '11101011', 'questions': ['round-off onto the springboard?', 'turning entry after round-off (turning in first flight phase)?', 'Facing the coming direction when handstand on vault (0.5 turn in first flight phase)?', 'Body keep stretched  during salto (stretched salto)?', 'Salto piked  (body bent forward at the waist with the legs kept stretched )?', '0.5 turn with body being stretched before salto?', 'Facing vault table after landing?', 'Salto with 1.5 turn?'], 'code': '5.60'})\n",
      "('7', {'BTcode': '11101010', 'questions': ['round-off onto the springboard?', 'turning entry after round-off (turning in first flight phase)?', 'Facing the coming direction when handstand on vault (0.5 turn in first flight phase)?', 'Body keep stretched  during salto (stretched salto)?', 'Salto piked  (body bent forward at the waist with the legs kept stretched )?', '0.5 turn with body being stretched before salto?', 'Facing vault table after landing?', 'Salto with 1.5 turn?'], 'code': '4.80'})\n",
      "('8', {'BTcode': '11101001', 'questions': ['round-off onto the springboard?', 'turning entry after round-off (turning in first flight phase)?', 'Facing the coming direction when handstand on vault (0.5 turn in first flight phase)?', 'Body keep stretched  during salto (stretched salto)?', 'Salto piked  (body bent forward at the waist with the legs kept stretched )?', '0.5 turn with body being stretched before salto?', 'Facing vault table after landing?', 'Salto with turn?'], 'code': '5.20'})\n",
      "('9', {'BTcode': '11101000', 'questions': ['round-off onto the springboard?', 'turning entry after round-off (turning in first flight phase)?', 'Facing the coming direction when handstand on vault (0.5 turn in first flight phase)?', 'Body keep stretched  during salto (stretched salto)?', 'Salto piked  (body bent forward at the waist with the legs kept stretched )?', '0.5 turn with body being stretched before salto?', 'Facing vault table after landing?', 'Salto with turn?'], 'code': '4.40'})\n",
      "('10', {'BTcode': '11100111', 'questions': ['round-off onto the springboard?', 'turning entry after round-off (turning in first flight phase)?', 'Facing the coming direction when handstand on vault (0.5 turn in first flight phase)?', 'Body keep stretched  during salto (stretched salto)?', 'Salto piked  (body bent forward at the waist with the legs kept stretched )?', 'Salto with turn?', 'Facing vault table after landing?', '1.5 turn?'], 'code': '5.40'})\n",
      "('11', {'BTcode': '11100110', 'questions': ['round-off onto the springboard?', 'turning entry after round-off (turning in first flight phase)?', 'Facing the coming direction when handstand on vault (0.5 turn in first flight phase)?', 'Body keep stretched  during salto (stretched salto)?', 'Salto piked  (body bent forward at the waist with the legs kept stretched )?', 'Salto with turn?', 'Facing vault table after landing?', '1.5 turn?'], 'code': '4.60'})\n",
      "('12', {'BTcode': '1110010', 'questions': ['round-off onto the springboard?', 'turning entry after round-off (turning in first flight phase)?', 'Facing the coming direction when handstand on vault (0.5 turn in first flight phase)?', 'Body keep stretched  during salto (stretched salto)?', 'Salto piked  (body bent forward at the waist with the legs kept stretched )?', 'Salto with turn?', 'Facing vault table after landing?'], 'code': '5.00'})\n",
      "('13', {'BTcode': '111000', 'questions': ['round-off onto the springboard?', 'turning entry after round-off (turning in first flight phase)?', 'Facing the coming direction when handstand on vault (0.5 turn in first flight phase)?', 'Body keep stretched  during salto (stretched salto)?', 'Salto piked  (body bent forward at the waist with the legs kept stretched )?', 'Salto with turn?'], 'code': '4.20'})\n",
      "('14', {'BTcode': '11011', 'questions': ['round-off onto the springboard?', 'turning entry after round-off (turning in first flight phase)?', 'Facing the coming direction when handstand on vault (0.5 turn in first flight phase)?', 'Body keep stretched during salto (stretched salto)?', 'Salto with turn?'], 'code': '5.40'})\n",
      "('15', {'BTcode': '11010', 'questions': ['round-off onto the springboard?', 'turning entry after round-off (turning in first flight phase)?', 'Facing the coming direction when handstand on vault (0.5 turn in first flight phase)?', 'Body keep stretched during salto (stretched salto)?', 'Salto with turn?'], 'code': '4.60'})\n",
      "('16', {'BTcode': '11001', 'questions': ['round-off onto the springboard?', 'turning entry after round-off (turning in first flight phase)?', 'Facing the coming direction when handstand on vault (0.5 turn in first flight phase)?', 'Body keep stretched during salto (stretched salto)?', 'Pike salto (body bent forward at the waist with the legs kept stretched )?'], 'code': '4.20'})\n",
      "('17', {'BTcode': '110001', 'questions': ['round-off onto the springboard?', 'turning entry after round-off (turning in first flight phase)?', 'Facing the coming direction when handstand on vault (0.5 turn in first flight phase)?', 'Body keep stretched during salto (stretched salto)?', 'Pike salto (body bent forward at the waist with the legs kept stretched )?', 'Salto with turn?'], 'code': '4.60'})\n",
      "('18', {'BTcode': '110000', 'questions': ['round-off onto the springboard?', 'turning entry after round-off (turning in first flight phase)?', 'Facing the coming direction when handstand on vault (0.5 turn in first flight phase)?', 'Body keep stretched during salto (stretched salto)?', 'Pike salto (body bent forward at the waist with the legs kept stretched )?', 'Salto with turn?'], 'code': '4.00'})\n",
      "('19', {'BTcode': '101111', 'questions': ['round-off onto the springboard?', 'turning entry after round-off (turning in first flight phase)?', 'Body keep stretched  during salto (stretched salto)?', 'Salto with turn?', 'Facing vault table after landing?', '2 turn?'], 'code': '5.40'})\n",
      "('20', {'BTcode': '101110', 'questions': ['round-off onto the springboard?', 'turning entry after round-off (turning in first flight phase)?', 'Body keep stretched  during salto (stretched salto)?', 'Salto with turn?', 'Facing vault table after landing?', '2 turn?'], 'code': '4.60'})\n",
      "('21', {'BTcode': '101101', 'questions': ['round-off onto the springboard?', 'turning entry after round-off (turning in first flight phase)?', 'Body keep stretched  during salto (stretched salto)?', 'Salto with turn?', 'Facing vault table after landing?', '1.5 turn?'], 'code': '5.00'})\n",
      "('22', {'BTcode': '1011001', 'questions': ['round-off onto the springboard?', 'turning entry after round-off (turning in first flight phase)?', 'Body keep stretched  during salto (stretched salto)?', 'Salto with turn?', 'Facing vault table after landing?', '1.5 turn?', '0.5 turn?'], 'code': '4.20'})\n",
      "('23', {'BTcode': '1011000', 'questions': ['round-off onto the springboard?', 'turning entry after round-off (turning in first flight phase)?', 'Body keep stretched  during salto (stretched salto)?', 'Salto with turn?', 'Facing vault table after landing?', '1.5 turn?', '0.5 turn?'], 'code': '5.80'})\n",
      "('24', {'BTcode': '1010', 'questions': ['round-off onto the springboard?', 'turning entry after round-off (turning in first flight phase)?', 'Body keep stretched  during salto (stretched salto)?', 'Salto with turn?'], 'code': '4.00'})\n",
      "('25', {'BTcode': '1001', 'questions': ['round-off onto the springboard?', 'turning entry after round-off (turning in first flight phase)?', 'Body keep stretched  during salto (stretched salto)?', 'Pike salto (body bent forward at the waist with the legs kept stretched )?'], 'code': '3.50'})\n",
      "('26', {'BTcode': '100011', 'questions': ['round-off onto the springboard?', 'turning entry after round-off (turning in first flight phase)?', 'Body keep stretched  during salto (stretched salto)?', 'Pike salto (body bent forward at the waist with the legs kept stretched )?', 'Salto with turn?', 'Facing vault table after landing?'], 'code': '3.90'})\n",
      "('27', {'BTcode': '1000101', 'questions': ['round-off onto the springboard?', 'turning entry after round-off (turning in first flight phase)?', 'Body keep stretched  during salto (stretched salto)?', 'Pike salto (body bent forward at the waist with the legs kept stretched )?', 'Salto with turn?', 'Facing vault table after landing?', '1.5 turn?'], 'code': '4.20'})\n",
      "('28', {'BTcode': '1000100', 'questions': ['round-off onto the springboard?', 'turning entry after round-off (turning in first flight phase)?', 'Body keep stretched  during salto (stretched salto)?', 'Pike salto (body bent forward at the waist with the legs kept stretched )?', 'Salto with turn?', 'Facing vault table after landing?', '1.5 turn?'], 'code': '3.60'})\n",
      "('29', {'BTcode': '10000', 'questions': ['round-off onto the springboard?', 'turning entry after round-off (turning in first flight phase)?', 'Body keep stretched  during salto (stretched salto)?', 'Pike salto (body bent forward at the waist with the legs kept stretched )?', 'Salto with turn?'], 'code': '3.30'})\n",
      "('30', {'BTcode': '011111', 'questions': ['round-off onto the springboard?', 'Tsukahara (front handspring with 0.5 or 0.25 turn in pre-flight) ?', 'Body keep stretched  during salto (stretched salto)?', 'Salto with turn?', 'Facing vault table after landing?', '2 turn?'], 'code': '5.60'})\n",
      "('31', {'BTcode': '011110', 'questions': ['round-off onto the springboard?', 'Tsukahara (front handspring with 0.5 or 0.25 turn in pre-flight) ?', 'Body keep stretched  during salto (stretched salto)?', 'Salto with turn?', 'Facing vault table after landing?', '2 turn?'], 'code': '4.80'})\n",
      "('32', {'BTcode': '011101', 'questions': ['round-off onto the springboard?', 'Tsukahara (front handspring with 0.5 or 0.25 turn in pre-flight) ?', 'Body keep stretched  during salto (stretched salto)?', 'Salto with turn?', 'Facing vault table after landing?', '1.5 turn?'], 'code': '5.20'})\n",
      "('33', {'BTcode': '0111001', 'questions': ['round-off onto the springboard?', 'Tsukahara (front handspring with 0.5 or 0.25 turn in pre-flight) ?', 'Body keep stretched  during salto (stretched salto)?', 'Salto with turn?', 'Facing vault table after landing?', '1.5 turn?', '0.5 turn?'], 'code': '4.40'})\n",
      "('34', {'BTcode': '0111000', 'questions': ['round-off onto the springboard?', 'Tsukahara (front handspring with 0.5 or 0.25 turn in pre-flight) ?', 'Body keep stretched  during salto (stretched salto)?', 'Salto with turn?', 'Facing vault table after landing?', '1.5 turn?', '0.5 turn?'], 'code': '6.00'})\n",
      "('35', {'BTcode': '01101', 'questions': ['round-off onto the springboard?', 'Tsukahara (front handspring with 0.5 or 0.25 turn in pre-flight) ?', 'Body keep stretched  during salto (stretched salto)?', 'Salto with turn?', 'Salto?'], 'code': '4.20'})\n",
      "('36', {'BTcode': '01100', 'questions': ['round-off onto the springboard?', 'Tsukahara (front handspring with 0.5 or 0.25 turn in pre-flight) ?', 'Body keep stretched  during salto (stretched salto)?', 'Salto with turn?', 'Salto?'], 'code': '3.20'})\n",
      "('37', {'BTcode': '0101', 'questions': ['round-off onto the springboard?', 'Tsukahara (front handspring with 0.5 or 0.25 turn in pre-flight) ?', 'Body keep stretched  during salto (stretched salto)?', 'Pike salto (body bent forward at the waist with the legs kept stretched )?'], 'code': '3.80'})\n",
      "('38', {'BTcode': '010011', 'questions': ['round-off onto the springboard?', 'Tsukahara (front handspring with 0.5 or 0.25 turn in pre-flight) ?', 'Body keep stretched  during salto (stretched salto)?', 'Pike salto (body bent forward at the waist with the legs kept stretched )?', 'Salto with turn?', 'Facing vault table after landing?'], 'code': '4.10'})\n",
      "('39', {'BTcode': '0100101', 'questions': ['round-off onto the springboard?', 'Tsukahara (front handspring with 0.5 or 0.25 turn in pre-flight) ?', 'Body keep stretched  during salto (stretched salto)?', 'Pike salto (body bent forward at the waist with the legs kept stretched )?', 'Salto with turn?', 'Facing vault table after landing?', '1.5 turn?'], 'code': '4.40'})\n",
      "('40', {'BTcode': '0100100', 'questions': ['round-off onto the springboard?', 'Tsukahara (front handspring with 0.5 or 0.25 turn in pre-flight) ?', 'Body keep stretched  during salto (stretched salto)?', 'Pike salto (body bent forward at the waist with the legs kept stretched )?', 'Salto with turn?', 'Facing vault table after landing?', '1.5 turn?'], 'code': '3.80'})\n",
      "('41', {'BTcode': '01000', 'questions': ['round-off onto the springboard?', 'Tsukahara (front handspring with 0.5 or 0.25 turn in pre-flight) ?', 'Body keep stretched  during salto (stretched salto)?', 'Pike salto (body bent forward at the waist with the legs kept stretched )?', 'Salto with turn?'], 'code': '3.50'})\n",
      "('42', {'BTcode': '001101', 'questions': ['round-off onto the springboard?', 'Tsukahara (front handspring with 0.5 or 0.25 turn in pre-flight) ?', 'Twisting body before touching the vault table?', 'Facing the opposite of the coming direction when handstand on vault?', 'With salto?', 'With turn?'], 'code': '2.80'})\n",
      "('43', {'BTcode': '001001', 'questions': ['round-off onto the springboard?', 'Tsukahara (front handspring with 0.5 or 0.25 turn in pre-flight) ?', 'Twisting body before touching the vault table?', 'Facing the opposite of the coming direction when handstand on vault?', 'With salto?', 'With turn?'], 'code': '4.00'})\n",
      "('44', {'BTcode': '001000', 'questions': ['round-off onto the springboard?', 'Tsukahara (front handspring with 0.5 or 0.25 turn in pre-flight) ?', 'Twisting body before touching the vault table?', 'Facing the opposite of the coming direction when handstand on vault?', 'With salto?', 'With turn?'], 'code': '3.60'})\n",
      "('45', {'BTcode': '00011111', 'questions': ['round-off onto the springboard?', 'Tsukahara (front handspring with 0.5 or 0.25 turn in pre-flight) ?', 'Twisting body before touching the vault table?', 'Salto off?', 'body keep stretched  during salto (stretched salto)?', 'Salto with turn?', 'Facing vault table after landing?', '1.5 turn?'], 'code': '5.80'})\n",
      "('46', {'BTcode': '00011110', 'questions': ['round-off onto the springboard?', 'Tsukahara (front handspring with 0.5 or 0.25 turn in pre-flight) ?', 'Twisting body before touching the vault table?', 'Salto off?', 'body keep stretched  during salto (stretched salto)?', 'Salto with turn?', 'Facing vault table after landing?', '1.5 turn?'], 'code': '5.00'})\n",
      "('47', {'BTcode': '0001110', 'questions': ['round-off onto the springboard?', 'Tsukahara (front handspring with 0.5 or 0.25 turn in pre-flight) ?', 'Twisting body before touching the vault table?', 'Salto off?', 'body keep stretched  during salto (stretched salto)?', 'Salto with turn?', 'Facing vault table after landing?'], 'code': '5.40'})\n",
      "('48', {'BTcode': '000110', 'questions': ['round-off onto the springboard?', 'Tsukahara (front handspring with 0.5 or 0.25 turn in pre-flight) ?', 'Twisting body before touching the vault table?', 'Salto off?', 'body keep stretched  during salto (stretched salto)?', 'Salto with turn?'], 'code': '4.60'})\n",
      "('49', {'BTcode': '00010111', 'questions': ['round-off onto the springboard?', 'Tsukahara (front handspring with 0.5 or 0.25 turn in pre-flight) ?', 'Twisting body before touching the vault table?', 'Salto off?', 'body keep stretched  during salto (stretched salto)?', 'Pike salto (body bent forward at the waist with the legs kept stretched )?', 'Salto with turn?', '0.5 turn with body being stretched before salto?'], 'code': '4.60'})\n",
      "('50', {'BTcode': '0001011011', 'questions': ['round-off onto the springboard?', 'Tsukahara (front handspring with 0.5 or 0.25 turn in pre-flight) ?', 'Twisting body before touching the vault table?', 'Salto off?', 'body keep stretched  during salto (stretched salto)?', 'Pike salto (body bent forward at the waist with the legs kept stretched )?', 'Salto with turn?', '0.5 turn with body being stretched before salto?', 'Facing vault table after landing?', '1.5 turn?'], 'code': '5.40'})\n",
      "('51', {'BTcode': '0001011010', 'questions': ['round-off onto the springboard?', 'Tsukahara (front handspring with 0.5 or 0.25 turn in pre-flight) ?', 'Twisting body before touching the vault table?', 'Salto off?', 'body keep stretched  during salto (stretched salto)?', 'Pike salto (body bent forward at the waist with the legs kept stretched )?', 'Salto with turn?', '0.5 turn with body being stretched before salto?', 'Facing vault table after landing?', '1.5 turn?'], 'code': '4.60'})\n",
      "('52', {'BTcode': '000101100', 'questions': ['round-off onto the springboard?', 'Tsukahara (front handspring with 0.5 or 0.25 turn in pre-flight) ?', 'Twisting body before touching the vault table?', 'Salto off?', 'body keep stretched  during salto (stretched salto)?', 'Pike salto (body bent forward at the waist with the legs kept stretched )?', 'Salto with turn?', '0.5 turn with body being stretched before salto?', 'Facing vault table after landing?'], 'code': '5.00'})\n",
      "('53', {'BTcode': '0001010', 'questions': ['round-off onto the springboard?', 'Tsukahara (front handspring with 0.5 or 0.25 turn in pre-flight) ?', 'Twisting body before touching the vault table?', 'Salto off?', 'body keep stretched  during salto (stretched salto)?', 'Pike salto (body bent forward at the waist with the legs kept stretched )?', 'Salto with turn?'], 'code': '4.20'})\n",
      "('54', {'BTcode': '00010011', 'questions': ['round-off onto the springboard?', 'Tsukahara (front handspring with 0.5 or 0.25 turn in pre-flight) ?', 'Twisting body before touching the vault table?', 'Salto off?', 'body keep stretched  during salto (stretched salto)?', 'Pike salto (body bent forward at the waist with the legs kept stretched )?', 'Salto with turn?', '0.5 turn with body being stretched before salto?'], 'code': '4.40'})\n",
      "('55', {'BTcode': '0001001011', 'questions': ['round-off onto the springboard?', 'Tsukahara (front handspring with 0.5 or 0.25 turn in pre-flight) ?', 'Twisting body before touching the vault table?', 'Salto off?', 'body keep stretched  during salto (stretched salto)?', 'Pike salto (body bent forward at the waist with the legs kept stretched )?', 'Salto with turn?', '0.5 turn with body being stretched before salto?', 'Facing vault table after landing?', '1.5 turn?'], 'code': '5.20'})\n",
      "('56', {'BTcode': '0001001010', 'questions': ['round-off onto the springboard?', 'Tsukahara (front handspring with 0.5 or 0.25 turn in pre-flight) ?', 'Twisting body before touching the vault table?', 'Salto off?', 'body keep stretched  during salto (stretched salto)?', 'Pike salto (body bent forward at the waist with the legs kept stretched )?', 'Salto with turn?', '0.5 turn with body being stretched before salto?', 'Facing vault table after landing?', '1.5 turn?'], 'code': '4.40'})\n",
      "('57', {'BTcode': '000100100', 'questions': ['round-off onto the springboard?', 'Tsukahara (front handspring with 0.5 or 0.25 turn in pre-flight) ?', 'Twisting body before touching the vault table?', 'Salto off?', 'body keep stretched  during salto (stretched salto)?', 'Pike salto (body bent forward at the waist with the legs kept stretched )?', 'Salto with turn?', '0.5 turn with body being stretched before salto?', 'Facing vault table after landing?'], 'code': '4.80'})\n",
      "('58', {'BTcode': '00010001', 'questions': ['round-off onto the springboard?', 'Tsukahara (front handspring with 0.5 or 0.25 turn in pre-flight) ?', 'Twisting body before touching the vault table?', 'Salto off?', 'body keep stretched  during salto (stretched salto)?', 'Pike salto (body bent forward at the waist with the legs kept stretched )?', 'Salto with turn?', 'Double salto tucked?'], 'code': '6.40'})\n",
      "('59', {'BTcode': '00010000', 'questions': ['round-off onto the springboard?', 'Tsukahara (front handspring with 0.5 or 0.25 turn in pre-flight) ?', 'Twisting body before touching the vault table?', 'Salto off?', 'body keep stretched  during salto (stretched salto)?', 'Pike salto (body bent forward at the waist with the legs kept stretched )?', 'Salto with turn?', 'Double salto tucked?'], 'code': '4.00'})\n",
      "('60', {'BTcode': '0000111', 'questions': ['round-off onto the springboard?', 'Tsukahara (front handspring with 0.5 or 0.25 turn in pre-flight) ?', 'Twisting body before touching the vault table?', 'Salto off?', 'body keep stretched  during flight?', 'With turn?', 'Facing vault table after landing?'], 'code': '3.60'})\n",
      "('61', {'BTcode': '00001101', 'questions': ['round-off onto the springboard?', 'Tsukahara (front handspring with 0.5 or 0.25 turn in pre-flight) ?', 'Twisting body before touching the vault table?', 'Salto off?', 'body keep stretched  during flight?', 'With turn?', 'Facing vault table after landing?', '2 turn?'], 'code': '4.00'})\n",
      "('62', {'BTcode': '00001100', 'questions': ['round-off onto the springboard?', 'Tsukahara (front handspring with 0.5 or 0.25 turn in pre-flight) ?', 'Twisting body before touching the vault table?', 'Salto off?', 'body keep stretched  during flight?', 'With turn?', 'Facing vault table after landing?', '2 turn?'], 'code': '3.00'})\n",
      "('63', {'BTcode': '000010', 'questions': ['round-off onto the springboard?', 'Tsukahara (front handspring with 0.5 or 0.25 turn in pre-flight) ?', 'Twisting body before touching the vault table?', 'Salto off?', 'body keep stretched  during flight?', 'With turn?'], 'code': '2.00'})\n",
      "('64', {'BTcode': '0000011', 'questions': ['round-off onto the springboard?', 'Tsukahara (front handspring with 0.5 or 0.25 turn in pre-flight) ?', 'Twisting body before touching the vault table?', 'Salto off?', 'body keep stretched  during flight?', 'With turn?', 'Facing vault table after landing?'], 'code': '2.80'})\n",
      "('65', {'BTcode': '0000010', 'questions': ['round-off onto the springboard?', 'Tsukahara (front handspring with 0.5 or 0.25 turn in pre-flight) ?', 'Twisting body before touching the vault table?', 'Salto off?', 'body keep stretched  during flight?', 'With turn?', 'Facing vault table after landing?'], 'code': '3.20'})\n",
      "('66', {'BTcode': '000000', 'questions': ['round-off onto the springboard?', 'Tsukahara (front handspring with 0.5 or 0.25 turn in pre-flight) ?', 'Twisting body before touching the vault table?', 'Salto off?', 'body keep stretched  during flight?', 'With turn?'], 'code': '2.40'})\n",
      "('67', {'BTcode': '1111111', 'questions': ['180 degree separation of thighs?', 'Are both legs straight when seperated?', 'Cross split?', 'Leap (do not jump with both feet) ?', 'With turn?', 'Switch leap?', '0.5 turn (facing different directions when take off and after landing) ?'], 'code': '1.304'})\n",
      "('68', {'BTcode': '1111110', 'questions': ['180 degree separation of thighs?', 'Are both legs straight when seperated?', 'Cross split?', 'Leap (do not jump with both feet) ?', 'With turn?', 'Switch leap?', '0.5 turn (facing different directions when take off and after landing) ?'], 'code': '1.404'})\n",
      "('69', {'BTcode': '11111011', 'questions': ['180 degree separation of thighs?', 'Are both legs straight when seperated?', 'Cross split?', 'Leap (do not jump with both feet) ?', 'With turn?', 'Switch leap?', '0.5 turn?', 'Is back leg above horizontal when splitting legs?'], 'code': '1.202'})\n",
      "('70', {'BTcode': '11111010', 'questions': ['180 degree separation of thighs?', 'Are both legs straight when seperated?', 'Cross split?', 'Leap (do not jump with both feet) ?', 'With turn?', 'Switch leap?', '0.5 turn?', 'Is back leg above horizontal when splitting legs?'], 'code': '1.201'})\n",
      "('71', {'BTcode': '111110011', 'questions': ['180 degree separation of thighs?', 'Are both legs straight when seperated?', 'Cross split?', 'Leap (do not jump with both feet) ?', 'With turn?', 'Switch leap?', '0.5 turn?', '1 turn?', 'land in split sit position?'], 'code': '1.302'})\n",
      "('72', {'BTcode': '111110010', 'questions': ['180 degree separation of thighs?', 'Are both legs straight when seperated?', 'Cross split?', 'Leap (do not jump with both feet) ?', 'With turn?', 'Switch leap?', '0.5 turn?', '1 turn?', 'land in split sit position?'], 'code': '1.301'})\n",
      "('73', {'BTcode': '11111000', 'questions': ['180 degree separation of thighs?', 'Are both legs straight when seperated?', 'Cross split?', 'Leap (do not jump with both feet) ?', 'With turn?', 'Switch leap?', '0.5 turn?', '1 turn?'], 'code': '1.401'})\n",
      "('74', {'BTcode': '111101', 'questions': ['180 degree separation of thighs?', 'Are both legs straight when seperated?', 'Cross split?', 'Leap (do not jump with both feet) ?', 'With turn?', 'Leap with leg change?'], 'code': '1.205'})\n",
      "('75', {'BTcode': '111100', 'questions': ['180 degree separation of thighs?', 'Are both legs straight when seperated?', 'Cross split?', 'Leap (do not jump with both feet) ?', 'With turn?', 'Leap with leg change?'], 'code': '1.101'})\n",
      "('76', {'BTcode': '11101', 'questions': ['180 degree separation of thighs?', 'Are both legs straight when seperated?', 'Cross split?', 'Leap (do not jump with both feet) ?', 'Tuck jump before separation of legs?'], 'code': '1.103'})\n",
      "('77', {'BTcode': '1110011', 'questions': ['180 degree separation of thighs?', 'Are both legs straight when seperated?', 'Cross split?', 'Leap (do not jump with both feet) ?', 'Tuck jump before separation of legs?', 'With turn?', '1 turn?'], 'code': '1.307'})\n",
      "('78', {'BTcode': '11100101', 'questions': ['180 degree separation of thighs?', 'Are both legs straight when seperated?', 'Cross split?', 'Leap (do not jump with both feet) ?', 'Tuck jump before separation of legs?', 'With turn?', '1 turn?', '0.5 turn?'], 'code': '1.207'})\n",
      "('79', {'BTcode': '11100100', 'questions': ['180 degree separation of thighs?', 'Are both legs straight when seperated?', 'Cross split?', 'Leap (do not jump with both feet) ?', 'Tuck jump before separation of legs?', 'With turn?', '1 turn?', '0.5 turn?'], 'code': '1.407'})\n",
      "('80', {'BTcode': '1110001', 'questions': ['180 degree separation of thighs?', 'Are both legs straight when seperated?', 'Cross split?', 'Leap (do not jump with both feet) ?', 'Tuck jump before separation of legs?', 'With turn?', 'Legs are not parallel to the floor when separation?'], 'code': '1.109'})\n",
      "('81', {'BTcode': '1110000', 'questions': ['180 degree separation of thighs?', 'Are both legs straight when seperated?', 'Cross split?', 'Leap (do not jump with both feet) ?', 'Tuck jump before separation of legs?', 'With turn?', 'Legs are not parallel to the floor when separation?'], 'code': '1.109'})\n",
      "('82', {'BTcode': '1101111', 'questions': ['180 degree separation of thighs?', 'Are both legs straight when seperated?', 'Cross split?', 'Leap (do not jump with both feet) ?', 'With turn?', 'Switch leap?', '1 turn?'], 'code': '1.404'})\n",
      "('83', {'BTcode': '1101110', 'questions': ['180 degree separation of thighs?', 'Are both legs straight when seperated?', 'Cross split?', 'Leap (do not jump with both feet) ?', 'With turn?', 'Switch leap?', '1 turn?'], 'code': '1.304'})\n",
      "('84', {'BTcode': '1101101', 'questions': ['180 degree separation of thighs?', 'Are both legs straight when seperated?', 'Cross split?', 'Leap (do not jump with both feet) ?', 'With turn?', 'Switch leap?', '1 turn?'], 'code': '1.301'})\n",
      "('85', {'BTcode': '110101', 'questions': ['180 degree separation of thighs?', 'Are both legs straight when seperated?', 'Cross split?', 'Leap (do not jump with both feet) ?', 'With turn?', 'Switch leap?'], 'code': '1.204'})\n",
      "('86', {'BTcode': '110100', 'questions': ['180 degree separation of thighs?', 'Are both legs straight when seperated?', 'Cross split?', 'Leap (do not jump with both feet) ?', 'With turn?', 'Switch leap?'], 'code': '1.104'})\n",
      "('87', {'BTcode': '1100111', 'questions': ['180 degree separation of thighs?', 'Are both legs straight when seperated?', 'Cross split?', 'Leap (do not jump with both feet) ?', 'With turn?', '1 turn?', 'land in front lying support?'], 'code': '1.208'})\n",
      "('88', {'BTcode': '1100110', 'questions': ['180 degree separation of thighs?', 'Are both legs straight when seperated?', 'Cross split?', 'Leap (do not jump with both feet) ?', 'With turn?', '1 turn?', 'land in front lying support?'], 'code': '1.307'})\n",
      "('89', {'BTcode': '11001011', 'questions': ['180 degree separation of thighs?', 'Are both legs straight when seperated?', 'Cross split?', 'Leap (do not jump with both feet) ?', 'With turn?', '1 turn?', '0.5 turn?', 'land in front lying support?'], 'code': '1.108'})\n",
      "('90', {'BTcode': '11001010', 'questions': ['180 degree separation of thighs?', 'Are both legs straight when seperated?', 'Cross split?', 'Leap (do not jump with both feet) ?', 'With turn?', '1 turn?', '0.5 turn?', 'land in front lying support?'], 'code': '1.207'})\n",
      "('91', {'BTcode': '1100100', 'questions': ['180 degree separation of thighs?', 'Are both legs straight when seperated?', 'Cross split?', 'Leap (do not jump with both feet) ?', 'With turn?', '1 turn?', '0.5 turn?'], 'code': '1.407'})\n",
      "('92', {'BTcode': '110001', 'questions': ['180 degree separation of thighs?', 'Are both legs straight when seperated?', 'Cross split?', 'Leap (do not jump with both feet) ?', 'With turn?', 'Land in front lying support?'], 'code': '1.108'})\n",
      "('93', {'BTcode': '110000', 'questions': ['180 degree separation of thighs?', 'Are both legs straight when seperated?', 'Cross split?', 'Leap (do not jump with both feet) ?', 'With turn?', 'Land in front lying support?'], 'code': '1.107'})\n",
      "('94', {'BTcode': '1011', 'questions': ['180 degree separation of thighs?', 'Are both legs straight when seperated?', 'Ring position (rear foot at head height, body arched and head dropped backward)?', 'Front leg bent?'], 'code': '1.209'})\n",
      "('95', {'BTcode': '1010111', 'questions': ['180 degree separation of thighs?', 'Are both legs straight when seperated?', 'Ring position (rear foot at head height, body arched and head dropped backward)?', 'Front leg bent?', 'leap?', 'With leg change?', 'With turn?'], 'code': '1.405'})\n",
      "('96', {'BTcode': '1010110', 'questions': ['180 degree separation of thighs?', 'Are both legs straight when seperated?', 'Ring position (rear foot at head height, body arched and head dropped backward)?', 'Front leg bent?', 'leap?', 'With leg change?', 'With turn?'], 'code': '1.305'})\n",
      "('97', {'BTcode': '1010101', 'questions': ['180 degree separation of thighs?', 'Are both legs straight when seperated?', 'Ring position (rear foot at head height, body arched and head dropped backward)?', 'Front leg bent?', 'leap?', 'With leg change?', 'With turn?'], 'code': '1.409'})\n",
      "('98', {'BTcode': '1010100', 'questions': ['180 degree separation of thighs?', 'Are both legs straight when seperated?', 'Ring position (rear foot at head height, body arched and head dropped backward)?', 'Front leg bent?', 'leap?', 'With leg change?', 'With turn?'], 'code': '1.309'})\n",
      "('99', {'BTcode': '101001', 'questions': ['180 degree separation of thighs?', 'Are both legs straight when seperated?', 'Ring position (rear foot at head height, body arched and head dropped backward)?', 'Front leg bent?', 'leap?', 'Front leg below horizontal?'], 'code': '1.209'})\n",
      "('100', {'BTcode': '10100011', 'questions': ['180 degree separation of thighs?', 'Are both legs straight when seperated?', 'Ring position (rear foot at head height, body arched and head dropped backward)?', 'Front leg bent?', 'leap?', 'Front leg below horizontal?', 'Yes with turn?', '0.5 turn?'], 'code': '1.309'})\n",
      "('101', {'BTcode': '10100010', 'questions': ['180 degree separation of thighs?', 'Are both legs straight when seperated?', 'Ring position (rear foot at head height, body arched and head dropped backward)?', 'Front leg bent?', 'leap?', 'Front leg below horizontal?', 'Yes with turn?', '0.5 turn?'], 'code': '1.409'})\n",
      "('102', {'BTcode': '1010000', 'questions': ['180 degree separation of thighs?', 'Are both legs straight when seperated?', 'Ring position (rear foot at head height, body arched and head dropped backward)?', 'Front leg bent?', 'leap?', 'Front leg below horizontal?', 'Yes with turn?'], 'code': '1.209'})\n",
      "('103', {'BTcode': '10011', 'questions': ['180 degree separation of thighs?', 'Are both legs straight when seperated?', 'Ring position (rear foot at head height, body arched and head dropped backward)?', 'jump?', 'With turn?'], 'code': '1.109'})\n",
      "('104', {'BTcode': '10010', 'questions': ['180 degree separation of thighs?', 'Are both legs straight when seperated?', 'Ring position (rear foot at head height, body arched and head dropped backward)?', 'jump?', 'With turn?'], 'code': '1.109'})\n",
      "('105', {'BTcode': '0111', 'questions': ['180 degree separation of thighs?', 'Both legs stay together in flight phase?', 'Tucked?', 'Land in front lying support?'], 'code': '1.313'})\n",
      "('106', {'BTcode': '01101', 'questions': ['180 degree separation of thighs?', 'Both legs stay together in flight phase?', 'Tucked?', 'Land in front lying support?', '1 turn?'], 'code': '1.213'})\n",
      "('107', {'BTcode': '01100', 'questions': ['180 degree separation of thighs?', 'Both legs stay together in flight phase?', 'Tucked?', 'Land in front lying support?', '1 turn?'], 'code': '1.313'})\n",
      "('108', {'BTcode': '01011', 'questions': ['180 degree separation of thighs?', 'Both legs stay together in flight phase?', 'Tucked?', 'Streched?', '1 turn?'], 'code': '1.210'})\n",
      "('109', {'BTcode': '01010', 'questions': ['180 degree separation of thighs?', 'Both legs stay together in flight phase?', 'Tucked?', 'Streched?', '1 turn?'], 'code': '1.310'})\n",
      "('110', {'BTcode': '010011', 'questions': ['180 degree separation of thighs?', 'Both legs stay together in flight phase?', 'Tucked?', 'Streched?', 'Piked?', 'With turn?'], 'code': '1.306'})\n",
      "('111', {'BTcode': '010010', 'questions': ['180 degree separation of thighs?', 'Both legs stay together in flight phase?', 'Tucked?', 'Streched?', 'Piked?', 'With turn?'], 'code': '1.106'})\n",
      "('112', {'BTcode': '01000', 'questions': ['180 degree separation of thighs?', 'Both legs stay together in flight phase?', 'Tucked?', 'Streched?', 'Piked?'], 'code': '1.206'})\n",
      "('113', {'BTcode': '00111', 'questions': ['180 degree separation of thighs?', 'Both legs stay together in flight phase?', 'To wolf position (one leg bent and the other extended straight, forward above horizontal with knees together)?', 'With turn?', 'land in front lying support?'], 'code': '1.214'})\n",
      "('114', {'BTcode': '001101', 'questions': ['180 degree separation of thighs?', 'Both legs stay together in flight phase?', 'To wolf position (one leg bent and the other extended straight, forward above horizontal with knees together)?', 'With turn?', 'land in front lying support?', '1 turn?'], 'code': '1.214'})\n",
      "('115', {'BTcode': '001100', 'questions': ['180 degree separation of thighs?', 'Both legs stay together in flight phase?', 'To wolf position (one leg bent and the other extended straight, forward above horizontal with knees together)?', 'With turn?', 'land in front lying support?', '1 turn?'], 'code': '1.414'})\n",
      "('116', {'BTcode': '00101', 'questions': ['180 degree separation of thighs?', 'Both legs stay together in flight phase?', 'To wolf position (one leg bent and the other extended straight, forward above horizontal with knees together)?', 'With turn?', 'Legs switched?'], 'code': '1.105'})\n",
      "('117', {'BTcode': '00100', 'questions': ['180 degree separation of thighs?', 'Both legs stay together in flight phase?', 'To wolf position (one leg bent and the other extended straight, forward above horizontal with knees together)?', 'With turn?', 'Legs switched?'], 'code': '1.114'})\n",
      "('118', {'BTcode': '0001111', 'questions': ['180 degree separation of thighs?', 'Both legs stay together in flight phase?', 'To wolf position (one leg bent and the other extended straight, forward above horizontal with knees together)?', 'Land in front lying support?', 'Take off with two feet?', 'With turn?', '0.5 turn?'], 'code': '1.108'})\n",
      "('119', {'BTcode': '0001110', 'questions': ['180 degree separation of thighs?', 'Both legs stay together in flight phase?', 'To wolf position (one leg bent and the other extended straight, forward above horizontal with knees together)?', 'Land in front lying support?', 'Take off with two feet?', 'With turn?', '0.5 turn?'], 'code': '1.208'})\n",
      "('120', {'BTcode': '000110', 'questions': ['180 degree separation of thighs?', 'Both legs stay together in flight phase?', 'To wolf position (one leg bent and the other extended straight, forward above horizontal with knees together)?', 'Land in front lying support?', 'Take off with two feet?', 'With turn?'], 'code': '1.108'})\n",
      "('121', {'BTcode': '000101', 'questions': ['180 degree separation of thighs?', 'Both legs stay together in flight phase?', 'To wolf position (one leg bent and the other extended straight, forward above horizontal with knees together)?', 'Land in front lying support?', 'Take off with two feet?', '1 turn?'], 'code': '1.108'})\n",
      "('122', {'BTcode': '000100', 'questions': ['180 degree separation of thighs?', 'Both legs stay together in flight phase?', 'To wolf position (one leg bent and the other extended straight, forward above horizontal with knees together)?', 'Land in front lying support?', 'Take off with two feet?', '1 turn?'], 'code': '1.208'})\n",
      "('123', {'BTcode': '0000111', 'questions': ['180 degree separation of thighs?', 'Both legs stay together in flight phase?', 'To wolf position (one leg bent and the other extended straight, forward above horizontal with knees together)?', 'Land in front lying support?', 'Cat leap (Leap with alternate leg change)?', 'With turn?', '1 turn?'], 'code': '1.211'})\n",
      "('124', {'BTcode': '0000110', 'questions': ['180 degree separation of thighs?', 'Both legs stay together in flight phase?', 'To wolf position (one leg bent and the other extended straight, forward above horizontal with knees together)?', 'Land in front lying support?', 'Cat leap (Leap with alternate leg change)?', 'With turn?', '1 turn?'], 'code': '1.311'})\n",
      "('125', {'BTcode': '000010', 'questions': ['180 degree separation of thighs?', 'Both legs stay together in flight phase?', 'To wolf position (one leg bent and the other extended straight, forward above horizontal with knees together)?', 'Land in front lying support?', 'Cat leap (Leap with alternate leg change)?', 'With turn?'], 'code': '1.111'})\n",
      "('126', {'BTcode': '0000011', 'questions': ['180 degree separation of thighs?', 'Both legs stay together in flight phase?', 'To wolf position (one leg bent and the other extended straight, forward above horizontal with knees together)?', 'Land in front lying support?', 'Cat leap (Leap with alternate leg change)?', 'Hop?', 'Land in arabesque?'], 'code': '1.112'})\n",
      "('127', {'BTcode': '00000101', 'questions': ['180 degree separation of thighs?', 'Both legs stay together in flight phase?', 'To wolf position (one leg bent and the other extended straight, forward above horizontal with knees together)?', 'Land in front lying support?', 'Cat leap (Leap with alternate leg change)?', 'Hop?', 'Land in arabesque?', '0.5 turn?'], 'code': '1.212'})\n",
      "('128', {'BTcode': '00000100', 'questions': ['180 degree separation of thighs?', 'Both legs stay together in flight phase?', 'To wolf position (one leg bent and the other extended straight, forward above horizontal with knees together)?', 'Land in front lying support?', 'Cat leap (Leap with alternate leg change)?', 'Hop?', 'Land in arabesque?', '0.5 turn?'], 'code': '1.312'})\n",
      "('129', {'BTcode': '00000011', 'questions': ['180 degree separation of thighs?', 'Both legs stay together in flight phase?', 'To wolf position (one leg bent and the other extended straight, forward above horizontal with knees together)?', 'Land in front lying support?', 'Cat leap (Leap with alternate leg change)?', 'Hop?', 'Butterfly (torso parallel to floor, slightly arched, legs straddled and feet above hip height during flight)?', 'Butterfly forward?'], 'code': '1.203'})\n",
      "('130', {'BTcode': '00000010', 'questions': ['180 degree separation of thighs?', 'Both legs stay together in flight phase?', 'To wolf position (one leg bent and the other extended straight, forward above horizontal with knees together)?', 'Land in front lying support?', 'Cat leap (Leap with alternate leg change)?', 'Hop?', 'Butterfly (torso parallel to floor, slightly arched, legs straddled and feet above hip height during flight)?', 'Butterfly forward?'], 'code': '1.203'})\n",
      "('131', {'BTcode': '111', 'questions': ['Heel over head?', 'Illusion (torso pivots down)?', '1 turn?'], 'code': '2.205'})\n",
      "('132', {'BTcode': '1101', 'questions': ['Heel over head?', 'Illusion (torso pivots down)?', '1 turn?', '2 turn?'], 'code': '02.300'})\n",
      "('133', {'BTcode': '101', 'questions': ['Heel over head?', 'Illusion (torso pivots down)?', '3 turn or more?'], 'code': '2.503'})\n",
      "('134', {'BTcode': '1001', 'questions': ['Heel over head?', 'Illusion (torso pivots down)?', '3 turn or more?', '2 turn?'], 'code': '2.403'})\n",
      "('135', {'BTcode': '1000', 'questions': ['Heel over head?', 'Illusion (torso pivots down)?', '3 turn or more?', '2 turn?'], 'code': '2.203'})\n",
      "('136', {'BTcode': '0111', 'questions': ['Heel over head?', 'Turn in tuck stand or on back?', 'Turn in tuck stand?', '3 turn?'], 'code': '2.406'})\n",
      "('137', {'BTcode': '011011', 'questions': ['Heel over head?', 'Turn in tuck stand or on back?', 'Turn in tuck stand?', '3 turn?', '2 turn?', 'Free leg straight?'], 'code': '2.406'})\n",
      "('138', {'BTcode': '011010', 'questions': ['Heel over head?', 'Turn in tuck stand or on back?', 'Turn in tuck stand?', '3 turn?', '2 turn?', 'Free leg straight?'], 'code': '2.206'})\n",
      "('139', {'BTcode': '01100', 'questions': ['Heel over head?', 'Turn in tuck stand or on back?', 'Turn in tuck stand?', '3 turn?', '2 turn?'], 'code': '2.106'})\n",
      "('140', {'BTcode': '0101', 'questions': ['Heel over head?', 'Turn in tuck stand or on back?', 'Turn in tuck stand?', '2 turn or more?'], 'code': '2.207'})\n",
      "('141', {'BTcode': '0100', 'questions': ['Heel over head?', 'Turn in tuck stand or on back?', 'Turn in tuck stand?', '2 turn or more?'], 'code': '2.107'})\n",
      "('142', {'BTcode': '0011', 'questions': ['Heel over head?', 'Turn in tuck stand or on back?', 'Free leg extended backward?', 'Is free leg held upward and backward by hand?'], 'code': '2.200'})\n",
      "('143', {'BTcode': '00101', 'questions': ['Heel over head?', 'Turn in tuck stand or on back?', 'Free leg extended backward?', 'Is free leg held upward and backward by hand?', '2 turn?'], 'code': '2.404'})\n",
      "('144', {'BTcode': '00100', 'questions': ['Heel over head?', 'Turn in tuck stand or on back?', 'Free leg extended backward?', 'Is free leg held upward and backward by hand?', '2 turn?'], 'code': '2.204'})\n",
      "('145', {'BTcode': '000111', 'questions': ['Heel over head?', 'Turn in tuck stand or on back?', 'Free leg extended backward?', 'Free leg below horizontal?', '3 turn or more?', '4 turn?'], 'code': '2.501'})\n",
      "('146', {'BTcode': '000110', 'questions': ['Heel over head?', 'Turn in tuck stand or on back?', 'Free leg extended backward?', 'Free leg below horizontal?', '3 turn or more?', '4 turn?'], 'code': '2.301'})\n",
      "('147', {'BTcode': '000101', 'questions': ['Heel over head?', 'Turn in tuck stand or on back?', 'Free leg extended backward?', 'Free leg below horizontal?', '3 turn or more?', '2 turn?'], 'code': '2.201'})\n",
      "('148', {'BTcode': '000100', 'questions': ['Heel over head?', 'Turn in tuck stand or on back?', 'Free leg extended backward?', 'Free leg below horizontal?', '3 turn or more?', '2 turn?'], 'code': '2.101'})\n",
      "('149', {'BTcode': '00001', 'questions': ['Heel over head?', 'Turn in tuck stand or on back?', 'Free leg extended backward?', 'Free leg below horizontal?', '2 turn or more?'], 'code': '2.402'})\n",
      "('150', {'BTcode': '00000', 'questions': ['Heel over head?', 'Turn in tuck stand or on back?', 'Free leg extended backward?', 'Free leg below horizontal?', '2 turn or more?'], 'code': '2.202'})\n",
      "('151', {'BTcode': '1', 'questions': ['tucked (legs are bent during flight)?'], 'code': '4.105'})\n",
      "('152', {'BTcode': '01', 'questions': ['tucked (legs are bent during flight)?', 'Piked?'], 'code': '4.105'})\n",
      "('153', {'BTcode': '001', 'questions': ['tucked (legs are bent during flight)?', 'Piked?', 'Aerial round-off?'], 'code': '4.104'})\n",
      "('154', {'BTcode': '000', 'questions': ['tucked (legs are bent during flight)?', 'Piked?', 'Aerial round-off?'], 'code': '4.104'})\n",
      "('155', {'BTcode': '1111', 'questions': ['Tuck salto?', 'Arabian (take-off backward with 0.5 twist before salto)?', 'Double salto?', 'Salto with 0.5 twist?'], 'code': '4.505'})\n",
      "('156', {'BTcode': '1110', 'questions': ['Tuck salto?', 'Arabian (take-off backward with 0.5 twist before salto)?', 'Double salto?', 'Salto with 0.5 twist?'], 'code': '4.505'})\n",
      "('157', {'BTcode': '110', 'questions': ['Tuck salto?', 'Arabian (take-off backward with 0.5 twist before salto)?', 'Double salto?'], 'code': '4.205'})\n",
      "('158', {'BTcode': '1011', 'questions': ['Tuck salto?', 'Arabian (take-off backward with 0.5 twist before salto)?', 'Double salto?', 'Salto with 0.5 twist (so that facing different directions before takeoff and after landing) ?'], 'code': '4.601'})\n",
      "('159', {'BTcode': '1010', 'questions': ['Tuck salto?', 'Arabian (take-off backward with 0.5 twist before salto)?', 'Double salto?', 'Salto with 0.5 twist (so that facing different directions before takeoff and after landing) ?'], 'code': '4.501'})\n",
      "('160', {'BTcode': '10011', 'questions': ['Tuck salto?', 'Arabian (take-off backward with 0.5 twist before salto)?', 'Double salto?', 'Salto with twist?', 'Salto with 1 twist?'], 'code': '4.201'})\n",
      "('161', {'BTcode': '100101', 'questions': ['Tuck salto?', 'Arabian (take-off backward with 0.5 twist before salto)?', 'Double salto?', 'Salto with twist?', 'Salto with 1 twist?', 'Salto with 1.5 twist?'], 'code': '4.301'})\n",
      "('162', {'BTcode': '100100', 'questions': ['Tuck salto?', 'Arabian (take-off backward with 0.5 twist before salto)?', 'Double salto?', 'Salto with twist?', 'Salto with 1 twist?', 'Salto with 1.5 twist?'], 'code': '4.201'})\n",
      "('163', {'BTcode': '1000', 'questions': ['Tuck salto?', 'Arabian (take-off backward with 0.5 twist before salto)?', 'Double salto?', 'Salto with twist?'], 'code': '4.101'})\n",
      "('164', {'BTcode': '0111', 'questions': ['Tuck salto?', 'Pike salto?', 'Arabian (take-off backward with 0.5 twist before salto)?', 'Double salto?'], 'code': '4.605'})\n",
      "('165', {'BTcode': '0110', 'questions': ['Tuck salto?', 'Pike salto?', 'Arabian (take-off backward with 0.5 twist before salto)?', 'Double salto?'], 'code': '4.205'})\n",
      "('166', {'BTcode': '0101', 'questions': ['Tuck salto?', 'Pike salto?', 'Arabian (take-off backward with 0.5 twist before salto)?', 'Double salto?'], 'code': '4.601'})\n",
      "('167', {'BTcode': '01001', 'questions': ['Tuck salto?', 'Pike salto?', 'Arabian (take-off backward with 0.5 twist before salto)?', 'Double salto?', 'Salto with 0.5 twist?'], 'code': '4.201'})\n",
      "('168', {'BTcode': '01000', 'questions': ['Tuck salto?', 'Pike salto?', 'Arabian (take-off backward with 0.5 twist before salto)?', 'Double salto?', 'Salto with 0.5 twist?'], 'code': '4.101'})\n",
      "('169', {'BTcode': '001', 'questions': ['Tuck salto?', 'Pike salto?', 'Walkover?'], 'code': '4.103'})\n",
      "('170', {'BTcode': '00011', 'questions': ['Tuck salto?', 'Pike salto?', 'Walkover?', 'Arabian (take-off backward with 0.5 twist before salto)?', 'Double salto?'], 'code': '4.805'})\n",
      "('171', {'BTcode': '0000111', 'questions': ['Tuck salto?', 'Pike salto?', 'Walkover?', 'Arabian (take-off backward with 0.5 twist before salto)?', 'Salto with twist?', 'Salto with integer twist (facing the same direction before takeoff and after landing)?', 'Salto with 2 twist?'], 'code': '4.402'})\n",
      "('172', {'BTcode': '0000110', 'questions': ['Tuck salto?', 'Pike salto?', 'Walkover?', 'Arabian (take-off backward with 0.5 twist before salto)?', 'Salto with twist?', 'Salto with integer twist (facing the same direction before takeoff and after landing)?', 'Salto with 2 twist?'], 'code': '4.302'})\n",
      "('173', {'BTcode': '0000101', 'questions': ['Tuck salto?', 'Pike salto?', 'Walkover?', 'Arabian (take-off backward with 0.5 twist before salto)?', 'Salto with twist?', 'Salto with integer twist (facing the same direction before takeoff and after landing)?', 'Salto with 2.5 twist?'], 'code': '4.502'})\n",
      "('174', {'BTcode': '00001001', 'questions': ['Tuck salto?', 'Pike salto?', 'Walkover?', 'Arabian (take-off backward with 0.5 twist before salto)?', 'Salto with twist?', 'Salto with integer twist (facing the same direction before takeoff and after landing)?', 'Salto with 2.5 twist?', 'Salto with 1.5 twist?'], 'code': '4.302'})\n",
      "('175', {'BTcode': '00001000', 'questions': ['Tuck salto?', 'Pike salto?', 'Walkover?', 'Arabian (take-off backward with 0.5 twist before salto)?', 'Salto with twist?', 'Salto with integer twist (facing the same direction before takeoff and after landing)?', 'Salto with 2.5 twist?', 'Salto with 1.5 twist?'], 'code': '4.202'})\n",
      "('176', {'BTcode': '000001', 'questions': ['Tuck salto?', 'Pike salto?', 'Walkover?', 'Arabian (take-off backward with 0.5 twist before salto)?', 'Salto with twist?', 'feet land successively?'], 'code': '4.202'})\n",
      "('177', {'BTcode': '000000', 'questions': ['Tuck salto?', 'Pike salto?', 'Walkover?', 'Arabian (take-off backward with 0.5 twist before salto)?', 'Salto with twist?', 'feet land successively?'], 'code': '4.202'})\n",
      "('178', {'BTcode': '11111', 'questions': ['Salto backward stretched?', 'Double salto?', 'Salto with twist?', 'Salto with integer twist (facing the same direction before takeoff and after landing)?', 'Salto with 2 twist?'], 'code': '5.903'})\n",
      "('179', {'BTcode': '11110', 'questions': ['Salto backward stretched?', 'Double salto?', 'Salto with twist?', 'Salto with integer twist (facing the same direction before takeoff and after landing)?', 'Salto with 2 twist?'], 'code': '5.803'})\n",
      "('180', {'BTcode': '1110', 'questions': ['Salto backward stretched?', 'Double salto?', 'Salto with twist?', 'Salto with integer twist (facing the same direction before takeoff and after landing)?'], 'code': '5.703'})\n",
      "('181', {'BTcode': '110', 'questions': ['Salto backward stretched?', 'Double salto?', 'Salto with twist?'], 'code': '5.603'})\n",
      "('182', {'BTcode': '10111', 'questions': ['Salto backward stretched?', 'Double salto?', 'Salto with integer twist (facing the same direction before takeoff and after landing)?', '2 or more twist?', '3 or more twist?'], 'code': '5.501'})\n",
      "('183', {'BTcode': '10110', 'questions': ['Salto backward stretched?', 'Double salto?', 'Salto with integer twist (facing the same direction before takeoff and after landing)?', '2 or more twist?', '3 or more twist?'], 'code': '5.301'})\n",
      "('184', {'BTcode': '10101', 'questions': ['Salto backward stretched?', 'Double salto?', 'Salto with integer twist (facing the same direction before takeoff and after landing)?', '2 or more twist?', '1 twist?'], 'code': '5.201'})\n",
      "('185', {'BTcode': '10100', 'questions': ['Salto backward stretched?', 'Double salto?', 'Salto with integer twist (facing the same direction before takeoff and after landing)?', '2 or more twist?', '1 twist?'], 'code': '5.101'})\n",
      "('186', {'BTcode': '1001', 'questions': ['Salto backward stretched?', 'Double salto?', 'Salto with integer twist (facing the same direction before takeoff and after landing)?', '3.5 or more twist?'], 'code': '5.601'})\n",
      "('187', {'BTcode': '10001', 'questions': ['Salto backward stretched?', 'Double salto?', 'Salto with integer twist (facing the same direction before takeoff and after landing)?', '3.5 or more twist?', '2.5 twist?'], 'code': '5.401'})\n",
      "('188', {'BTcode': '100001', 'questions': ['Salto backward stretched?', 'Double salto?', 'Salto with integer twist (facing the same direction before takeoff and after landing)?', '3.5 or more twist?', '2.5 twist?', '1.5 twist?'], 'code': '5.301'})\n",
      "('189', {'BTcode': '100000', 'questions': ['Salto backward stretched?', 'Double salto?', 'Salto with integer twist (facing the same direction before takeoff and after landing)?', '3.5 or more twist?', '2.5 twist?', '1.5 twist?'], 'code': '5.201'})\n",
      "('190', {'BTcode': '011111', 'questions': ['Salto backward stretched?', 'Salto backward tucked?', 'Double salto?', 'Salto with twist?', 'Salto with integer twist (facing the same direction before takeoff and after landing)?', '3 twist?'], 'code': '5.902'})\n",
      "('191', {'BTcode': '0111101', 'questions': ['Salto backward stretched?', 'Salto backward tucked?', 'Double salto?', 'Salto with twist?', 'Salto with integer twist (facing the same direction before takeoff and after landing)?', '3 twist?', '2 twist?'], 'code': '5.802'})\n",
      "('192', {'BTcode': '0111100', 'questions': ['Salto backward stretched?', 'Salto backward tucked?', 'Double salto?', 'Salto with twist?', 'Salto with integer twist (facing the same direction before takeoff and after landing)?', '3 twist?', '2 twist?'], 'code': '5.502'})\n",
      "('193', {'BTcode': '011101', 'questions': ['Salto backward stretched?', 'Salto backward tucked?', 'Double salto?', 'Salto with twist?', 'Salto with integer twist (facing the same direction before takeoff and after landing)?', '2.5 twist?'], 'code': '5.802'})\n",
      "('194', {'BTcode': '011100', 'questions': ['Salto backward stretched?', 'Salto backward tucked?', 'Double salto?', 'Salto with twist?', 'Salto with integer twist (facing the same direction before takeoff and after landing)?', '2.5 twist?'], 'code': '5.702'})\n",
      "('195', {'BTcode': '0110', 'questions': ['Salto backward stretched?', 'Salto backward tucked?', 'Double salto?', 'Salto with twist?'], 'code': '5.402'})\n",
      "('196', {'BTcode': '0101', 'questions': ['Salto backward stretched?', 'Salto backward tucked?', 'Double salto?', 'Salto with twist?'], 'code': '5.201'})\n",
      "('197', {'BTcode': '0100', 'questions': ['Salto backward stretched?', 'Salto backward tucked?', 'Double salto?', 'Salto with twist?'], 'code': '5.101'})\n",
      "('198', {'BTcode': '00111', 'questions': ['Salto backward stretched?', 'Salto backward tucked?', 'Salto backward piked?', 'Double salto?', 'Salto with twist?'], 'code': '5.502'})\n",
      "('199', {'BTcode': '00110', 'questions': ['Salto backward stretched?', 'Salto backward tucked?', 'Salto backward piked?', 'Double salto?', 'Salto with twist?'], 'code': '5.402'})\n",
      "('200', {'BTcode': '00100', 'questions': ['Salto backward stretched?', 'Salto backward tucked?', 'Salto backward piked?', 'Double salto?', 'Salto with twist?'], 'code': '5.101'})\n",
      "('201', {'BTcode': '00011', 'questions': ['Salto backward stretched?', 'Salto backward tucked?', 'Salto backward piked?', 'With twist?', '1 twist?'], 'code': '5.304'})\n",
      "('202', {'BTcode': '00010', 'questions': ['Salto backward stretched?', 'Salto backward tucked?', 'Salto backward piked?', 'With twist?', '1 twist?'], 'code': '5.204'})\n",
      "('203', {'BTcode': '0000', 'questions': ['Salto backward stretched?', 'Salto backward tucked?', 'Salto backward piked?', 'With twist?'], 'code': '5.104'})\n",
      "('204', {'BTcode': '111111', 'questions': ['180 degree separation of thighs?', 'Take off with two legs?', 'Are both legs straight when seperated?', 'cross split?', 'body arched and head dropped backward?', 'Take off and land in side position?'], 'code': '2.508'})\n",
      "('205', {'BTcode': '111110', 'questions': ['180 degree separation of thighs?', 'Take off with two legs?', 'Are both legs straight when seperated?', 'cross split?', 'body arched and head dropped backward?', 'Take off and land in side position?'], 'code': '2.408'})\n",
      "('206', {'BTcode': '1111011', 'questions': ['180 degree separation of thighs?', 'Take off with two legs?', 'Are both legs straight when seperated?', 'cross split?', 'body arched and head dropped backward?', 'Leg separation 180 on the diagonal to the floor?', 'Take off and land in side position?'], 'code': '2.208'})\n",
      "('207', {'BTcode': '1111010', 'questions': ['180 degree separation of thighs?', 'Take off with two legs?', 'Are both legs straight when seperated?', 'cross split?', 'body arched and head dropped backward?', 'Leg separation 180 on the diagonal to the floor?', 'Take off and land in side position?'], 'code': '2.108'})\n",
      "('208', {'BTcode': '111100111', 'questions': ['180 degree separation of thighs?', 'Take off with two legs?', 'Are both legs straight when seperated?', 'cross split?', 'body arched and head dropped backward?', 'Leg separation 180 on the diagonal to the floor?', 'With turn?', '0.5 turn?', 'Take off and land in side position?'], 'code': '2.402'})\n",
      "('209', {'BTcode': '111100110', 'questions': ['180 degree separation of thighs?', 'Take off with two legs?', 'Are both legs straight when seperated?', 'cross split?', 'body arched and head dropped backward?', 'Leg separation 180 on the diagonal to the floor?', 'With turn?', '0.5 turn?', 'Take off and land in side position?'], 'code': '2.302'})\n",
      "('210', {'BTcode': '111100101', 'questions': ['180 degree separation of thighs?', 'Take off with two legs?', 'Are both legs straight when seperated?', 'cross split?', 'body arched and head dropped backward?', 'Leg separation 180 on the diagonal to the floor?', 'With turn?', '0.5 turn?', 'Take off and land in side position?'], 'code': '2.502'})\n",
      "('211', {'BTcode': '111100100', 'questions': ['180 degree separation of thighs?', 'Take off with two legs?', 'Are both legs straight when seperated?', 'cross split?', 'body arched and head dropped backward?', 'Leg separation 180 on the diagonal to the floor?', 'With turn?', '0.5 turn?', 'Take off and land in side position?'], 'code': '2.402'})\n",
      "('212', {'BTcode': '11110001', 'questions': ['180 degree separation of thighs?', 'Take off with two legs?', 'Are both legs straight when seperated?', 'cross split?', 'body arched and head dropped backward?', 'Leg separation 180 on the diagonal to the floor?', 'With turn?', 'Take off and land in side position?'], 'code': '2.302'})\n",
      "('213', {'BTcode': '11110000', 'questions': ['180 degree separation of thighs?', 'Take off with two legs?', 'Are both legs straight when seperated?', 'cross split?', 'body arched and head dropped backward?', 'Leg separation 180 on the diagonal to the floor?', 'With turn?', 'Take off and land in side position?'], 'code': '2.202'})\n",
      "('214', {'BTcode': '1110111', 'questions': ['180 degree separation of thighs?', 'Take off with two legs?', 'Are both legs straight when seperated?', 'cross split?', 'With turn?', '0.5 turn?', 'Take off and land in side position?'], 'code': '2.403'})\n",
      "('215', {'BTcode': '1110110', 'questions': ['180 degree separation of thighs?', 'Take off with two legs?', 'Are both legs straight when seperated?', 'cross split?', 'With turn?', '0.5 turn?', 'Take off and land in side position?'], 'code': '2.303'})\n",
      "('216', {'BTcode': '1110101', 'questions': ['180 degree separation of thighs?', 'Take off with two legs?', 'Are both legs straight when seperated?', 'cross split?', 'With turn?', '0.5 turn?', 'Take off and land in side position?'], 'code': '2.503'})\n",
      "('217', {'BTcode': '1110100', 'questions': ['180 degree separation of thighs?', 'Take off with two legs?', 'Are both legs straight when seperated?', 'cross split?', 'With turn?', '0.5 turn?', 'Take off and land in side position?'], 'code': '2.403'})\n",
      "('218', {'BTcode': '111001', 'questions': ['180 degree separation of thighs?', 'Take off with two legs?', 'Are both legs straight when seperated?', 'cross split?', 'With turn?', 'Take off and land in side position?'], 'code': '2.303'})\n",
      "('219', {'BTcode': '111000', 'questions': ['180 degree separation of thighs?', 'Take off with two legs?', 'Are both legs straight when seperated?', 'cross split?', 'With turn?', 'Take off and land in side position?'], 'code': '2.203'})\n",
      "('220', {'BTcode': '1101', 'questions': ['180 degree separation of thighs?', 'Take off with two legs?', 'Are both legs straight when seperated?', 'staggering jump (front leg bent in ring position)?'], 'code': '2.208'})\n",
      "('221', {'BTcode': '11001', 'questions': ['180 degree separation of thighs?', 'Take off with two legs?', 'Are both legs straight when seperated?', 'staggering jump (front leg bent in ring position)?', 'Front leg below horizontal?'], 'code': '2.208'})\n",
      "('222', {'BTcode': '11000', 'questions': ['180 degree separation of thighs?', 'Take off with two legs?', 'Are both legs straight when seperated?', 'staggering jump (front leg bent in ring position)?', 'Front leg below horizontal?'], 'code': '2.408'})\n",
      "('223', {'BTcode': '1011111', 'questions': ['180 degree separation of thighs?', 'Take off with two legs?', 'Are both legs straight when seperated?', 'cross split?', 'With turn?', 'switch leap?', '0.5 turn (facing different directions when take off and after landing)?'], 'code': '2.405'})\n",
      "('224', {'BTcode': '1011110', 'questions': ['180 degree separation of thighs?', 'Take off with two legs?', 'Are both legs straight when seperated?', 'cross split?', 'With turn?', 'switch leap?', '0.5 turn (facing different directions when take off and after landing)?'], 'code': '2.405'})\n",
      "('225', {'BTcode': '10111011', 'questions': ['180 degree separation of thighs?', 'Take off with two legs?', 'Are both legs straight when seperated?', 'cross split?', 'With turn?', 'switch leap?', '0.5 turn (facing different directions when take off and after landing)?', 'Is back leg above horizontal when splitting legs?'], 'code': '2.404'})\n",
      "('226', {'BTcode': '10111010', 'questions': ['180 degree separation of thighs?', 'Take off with two legs?', 'Are both legs straight when seperated?', 'cross split?', 'With turn?', 'switch leap?', '0.5 turn (facing different directions when take off and after landing)?', 'Is back leg above horizontal when splitting legs?'], 'code': '2.301'})\n",
      "('227', {'BTcode': '1011100', 'questions': ['180 degree separation of thighs?', 'Take off with two legs?', 'Are both legs straight when seperated?', 'cross split?', 'With turn?', 'switch leap?', '0.5 turn (facing different directions when take off and after landing)?'], 'code': '2.501'})\n",
      "('228', {'BTcode': '101101', 'questions': ['180 degree separation of thighs?', 'Take off with two legs?', 'Are both legs straight when seperated?', 'cross split?', 'With turn?', 'switch leap?'], 'code': '2.305'})\n",
      "('229', {'BTcode': '1011001', 'questions': ['180 degree separation of thighs?', 'Take off with two legs?', 'Are both legs straight when seperated?', 'cross split?', 'With turn?', 'switch leap?', 'Is the front leg bent when taking off?'], 'code': '2.101'})\n",
      "('230', {'BTcode': '1011000', 'questions': ['180 degree separation of thighs?', 'Take off with two legs?', 'Are both legs straight when seperated?', 'cross split?', 'With turn?', 'switch leap?', 'Is the front leg bent when taking off?'], 'code': '2.201'})\n",
      "('231', {'BTcode': '101011', 'questions': ['180 degree separation of thighs?', 'Take off with two legs?', 'Are both legs straight when seperated?', 'cross split?', '0.5 turn?', 'switch leap?'], 'code': '2.506'})\n",
      "('232', {'BTcode': '101001', 'questions': ['180 degree separation of thighs?', 'Take off with two legs?', 'Are both legs straight when seperated?', 'cross split?', '0.5 turn?', 'switch leap?'], 'code': '2.306'})\n",
      "('233', {'BTcode': '101000', 'questions': ['180 degree separation of thighs?', 'Take off with two legs?', 'Are both legs straight when seperated?', 'cross split?', '0.5 turn?', 'switch leap?'], 'code': '2.206'})\n",
      "('234', {'BTcode': '1001', 'questions': ['180 degree separation of thighs?', 'Take off with two legs?', 'Are both legs straight when seperated?', 'Leap with change of legs?'], 'code': '2.505'})\n",
      "('235', {'BTcode': '1000', 'questions': ['180 degree separation of thighs?', 'Take off with two legs?', 'Are both legs straight when seperated?', 'Leap with change of legs?'], 'code': '2.401'})\n",
      "('236', {'BTcode': '01111', 'questions': ['180 degree separation of thighs?', 'Both legs stay together in flight phase?', 'Tuck?', '1 turn?', 'Take off and land in side position?'], 'code': '2.411'})\n",
      "('237', {'BTcode': '01110', 'questions': ['180 degree separation of thighs?', 'Both legs stay together in flight phase?', 'Tuck?', '1 turn?', 'Take off and land in side position?'], 'code': '2.311'})\n",
      "('238', {'BTcode': '011011', 'questions': ['180 degree separation of thighs?', 'Both legs stay together in flight phase?', 'Tuck?', '1 turn?', '1.5 turn?', 'Take off and land in side position?'], 'code': '2.411'})\n",
      "('239', {'BTcode': '011010', 'questions': ['180 degree separation of thighs?', 'Both legs stay together in flight phase?', 'Tuck?', '1 turn?', '1.5 turn?', 'Take off and land in side position?'], 'code': '2.411'})\n",
      "('240', {'BTcode': '0110011', 'questions': ['180 degree separation of thighs?', 'Both legs stay together in flight phase?', 'Tuck?', '1 turn?', '1.5 turn?', '0.5 turn?', 'Take off and land in side position?'], 'code': '2.311'})\n",
      "('241', {'BTcode': '0110010', 'questions': ['180 degree separation of thighs?', 'Both legs stay together in flight phase?', 'Tuck?', '1 turn?', '1.5 turn?', '0.5 turn?', 'Take off and land in side position?'], 'code': '2.211'})\n",
      "('242', {'BTcode': '011000', 'questions': ['180 degree separation of thighs?', 'Both legs stay together in flight phase?', 'Tuck?', '1 turn?', '1.5 turn?', '0.5 turn?'], 'code': '2.211'})\n",
      "('243', {'BTcode': '010111', 'questions': ['180 degree separation of thighs?', 'Both legs stay together in flight phase?', 'Tuck?', 'Pike jump?', '0.5 turn?', 'Take off and land in side position?'], 'code': '2.307'})\n",
      "('244', {'BTcode': '010110', 'questions': ['180 degree separation of thighs?', 'Both legs stay together in flight phase?', 'Tuck?', 'Pike jump?', '0.5 turn?', 'Take off and land in side position?'], 'code': '2.207'})\n",
      "('245', {'BTcode': '0101011', 'questions': ['180 degree separation of thighs?', 'Both legs stay together in flight phase?', 'Tuck?', 'Pike jump?', '0.5 turn?', '1 turn?', 'Take off and land in side position?'], 'code': '2.507'})\n",
      "('246', {'BTcode': '0101010', 'questions': ['180 degree separation of thighs?', 'Both legs stay together in flight phase?', 'Tuck?', 'Pike jump?', '0.5 turn?', '1 turn?', 'Take off and land in side position?'], 'code': '2.407'})\n",
      "('247', {'BTcode': '0101001', 'questions': ['180 degree separation of thighs?', 'Both legs stay together in flight phase?', 'Tuck?', 'Pike jump?', '0.5 turn?', '1 turn?', '0.75 turn?'], 'code': '2.207'})\n",
      "('248', {'BTcode': '0101000', 'questions': ['180 degree separation of thighs?', 'Both legs stay together in flight phase?', 'Tuck?', 'Pike jump?', '0.5 turn?', '1 turn?', '0.75 turn?'], 'code': '2.107'})\n",
      "('249', {'BTcode': '010011', 'questions': ['180 degree separation of thighs?', 'Both legs stay together in flight phase?', 'Tuck?', 'Pike jump?', 'Stretched jump?', '1 turn?'], 'code': '2.309'})\n",
      "('250', {'BTcode': '0100101', 'questions': ['180 degree separation of thighs?', 'Both legs stay together in flight phase?', 'Tuck?', 'Pike jump?', 'Stretched jump?', '1 turn?', '1.5 turn?'], 'code': '2.409'})\n",
      "('251', {'BTcode': '010001', 'questions': ['180 degree separation of thighs?', 'Both legs stay together in flight phase?', 'Tuck?', 'Pike jump?', 'Stretched jump?', 'sheep jump (jump with upper back arch and head release with feet to head height)?'], 'code': '2.308'})\n",
      "('252', {'BTcode': '00111', 'questions': ['180 degree separation of thighs?', 'Both legs stay together in flight phase?', 'To wolf position (hip angle at 45, knees together)?', 'With turn?', '1 turn?'], 'code': '2.412'})\n",
      "('253', {'BTcode': '001101', 'questions': ['180 degree separation of thighs?', 'Both legs stay together in flight phase?', 'To wolf position (hip angle at 45, knees together)?', 'With turn?', '1 turn?', '1.5 turn?'], 'code': '2.512'})\n",
      "('254', {'BTcode': '001100', 'questions': ['180 degree separation of thighs?', 'Both legs stay together in flight phase?', 'To wolf position (hip angle at 45, knees together)?', 'With turn?', '1 turn?', '1.5 turn?'], 'code': '2.212'})\n",
      "('255', {'BTcode': '00101', 'questions': ['180 degree separation of thighs?', 'Both legs stay together in flight phase?', 'To wolf position (hip angle at 45, knees together)?', 'With turn?', 'Leap with leg change?'], 'code': '2.105'})\n",
      "('256', {'BTcode': '00100', 'questions': ['180 degree separation of thighs?', 'Both legs stay together in flight phase?', 'To wolf position (hip angle at 45, knees together)?', 'With turn?', 'Leap with leg change?'], 'code': '2.112'})\n",
      "('257', {'BTcode': '000111', 'questions': ['180 degree separation of thighs?', 'Both legs stay together in flight phase?', 'To wolf position (hip angle at 45, knees together)?', 'Cat leap (Leap with alternate leg change)?', 'With turn?', '0.5 turn?'], 'code': '2.210'})\n",
      "('258', {'BTcode': '000110', 'questions': ['180 degree separation of thighs?', 'Both legs stay together in flight phase?', 'To wolf position (hip angle at 45, knees together)?', 'Cat leap (Leap with alternate leg change)?', 'With turn?', '0.5 turn?'], 'code': '2.310'})\n",
      "('259', {'BTcode': '00010', 'questions': ['180 degree separation of thighs?', 'Both legs stay together in flight phase?', 'To wolf position (hip angle at 45, knees together)?', 'Cat leap (Leap with alternate leg change)?', 'With turn?'], 'code': '2.110'})\n",
      "('260', {'BTcode': '00001', 'questions': ['180 degree separation of thighs?', 'Both legs stay together in flight phase?', 'To wolf position (hip angle at 45, knees together)?', 'Cat leap (Leap with alternate leg change)?', 'Land in arabesque?'], 'code': '2.204'})\n",
      "('261', {'BTcode': '000001', 'questions': ['180 degree separation of thighs?', 'Both legs stay together in flight phase?', 'To wolf position (hip angle at 45, knees together)?', 'Cat leap (Leap with alternate leg change)?', 'Land in arabesque?', '0.5 turn?'], 'code': '2.209'})\n",
      "('262', {'BTcode': '1111', 'questions': ['Turn with support leg straight?', 'Is free leg straight at or ever above horizontal?', 'Illusion (torso pivots down)?', '0.5 turn (facing different directions before and after turn) ?'], 'code': '3.206'})\n",
      "('263', {'BTcode': '1110', 'questions': ['Turn with support leg straight?', 'Is free leg straight at or ever above horizontal?', 'Illusion (torso pivots down)?', '0.5 turn (facing different directions before and after turn) ?'], 'code': '3.406'})\n",
      "('264', {'BTcode': '11011', 'questions': ['Turn with support leg straight?', 'Is free leg straight at or ever above horizontal?', 'Illusion (torso pivots down)?', 'Free leg held upward, heel over head?', '1.5 turn?'], 'code': '3.405'})\n",
      "('265', {'BTcode': '11010', 'questions': ['Turn with support leg straight?', 'Is free leg straight at or ever above horizontal?', 'Illusion (torso pivots down)?', 'Free leg held upward, heel over head?', '1.5 turn?'], 'code': '3.305'})\n",
      "('266', {'BTcode': '110011', 'questions': ['Turn with support leg straight?', 'Is free leg straight at or ever above horizontal?', 'Illusion (torso pivots down)?', 'Free leg held upward, heel over head?', 'Heel of free leg at horizontal?', '1.5 turn?'], 'code': '3.404'})\n",
      "('267', {'BTcode': '1100101', 'questions': ['Turn with support leg straight?', 'Is free leg straight at or ever above horizontal?', 'Illusion (torso pivots down)?', 'Free leg held upward, heel over head?', 'Heel of free leg at horizontal?', '1.5 turn?', '2 turn?'], 'code': '3.504'})\n",
      "('268', {'BTcode': '1100100', 'questions': ['Turn with support leg straight?', 'Is free leg straight at or ever above horizontal?', 'Illusion (torso pivots down)?', 'Free leg held upward, heel over head?', 'Heel of free leg at horizontal?', '1.5 turn?', '2 turn?'], 'code': '3.304'})\n",
      "('269', {'BTcode': '10111', 'questions': ['Turn with support leg straight?', 'Is free leg straight at or ever above horizontal?', 'Free leg below horizontal?', 'Either 2 turn or 3 turn?', '3 turn?'], 'code': '3.501'})\n",
      "('270', {'BTcode': '10110', 'questions': ['Turn with support leg straight?', 'Is free leg straight at or ever above horizontal?', 'Free leg below horizontal?', 'Either 2 turn or 3 turn?', '3 turn?'], 'code': '3.401'})\n",
      "('271', {'BTcode': '10101', 'questions': ['Turn with support leg straight?', 'Is free leg straight at or ever above horizontal?', 'Free leg below horizontal?', 'Either 2 turn or 3 turn?', '1.5 turn?'], 'code': '3.201'})\n",
      "('272', {'BTcode': '10100', 'questions': ['Turn with support leg straight?', 'Is free leg straight at or ever above horizontal?', 'Free leg below horizontal?', 'Either 2 turn or 3 turn?', '1.5 turn?'], 'code': '3.101'})\n",
      "('273', {'BTcode': '1001', 'questions': ['Turn with support leg straight?', 'Is free leg straight at or ever above horizontal?', 'Free leg below horizontal?', 'Is free leg held backward with hands?'], 'code': '3.403'})\n",
      "('274', {'BTcode': '10001', 'questions': ['Turn with support leg straight?', 'Is free leg straight at or ever above horizontal?', 'Free leg below horizontal?', 'Is free leg held backward with hands?', '1.5 turn?'], 'code': '3.402'})\n",
      "('275', {'BTcode': '10000', 'questions': ['Turn with support leg straight?', 'Is free leg straight at or ever above horizontal?', 'Free leg below horizontal?', 'Is free leg held backward with hands?', '1.5 turn?'], 'code': '3.302'})\n",
      "('276', {'BTcode': '0111', 'questions': ['Turn with support leg straight?', 'Turn in tuck stand?', '1.5 turn or 2.5 turn  (facing different directions before and after turn) ?', '2.5 turn?'], 'code': '3.408'})\n",
      "('277', {'BTcode': '0110', 'questions': ['Turn with support leg straight?', 'Turn in tuck stand?', '1.5 turn or 2.5 turn  (facing different directions before and after turn) ?', '2.5 turn?'], 'code': '3.308'})\n",
      "('278', {'BTcode': '0101', 'questions': ['Turn with support leg straight?', 'Turn in tuck stand?', '1.5 turn or 2.5 turn  (facing different directions before and after turn) ?', '3 turn?'], 'code': '3.408'})\n",
      "('279', {'BTcode': '01001', 'questions': ['Turn with support leg straight?', 'Turn in tuck stand?', '1.5 turn or 2.5 turn  (facing different directions before and after turn) ?', '3 turn?', '2 turn?'], 'code': '3.408'})\n",
      "('280', {'BTcode': '01000', 'questions': ['Turn with support leg straight?', 'Turn in tuck stand?', '1.5 turn or 2.5 turn  (facing different directions before and after turn) ?', '3 turn?', '2 turn?'], 'code': '3.208'})\n",
      "('281', {'BTcode': '0011', 'questions': ['Turn with support leg straight?', 'Turn in tuck stand?', 'Turn on knee?', '1.5 turn?'], 'code': '3.207'})\n",
      "('282', {'BTcode': '00101', 'questions': ['Turn with support leg straight?', 'Turn in tuck stand?', 'Turn on knee?', '1.5 turn?', '2 turn?'], 'code': '3.307'})\n",
      "('283', {'BTcode': '00100', 'questions': ['Turn with support leg straight?', 'Turn in tuck stand?', 'Turn on knee?', '1.5 turn?', '2 turn?'], 'code': '3.107'})\n",
      "('284', {'BTcode': '00011', 'questions': ['Turn with support leg straight?', 'Turn in tuck stand?', 'Turn on knee?', 'Turn in prone position?', '1.5 turn?'], 'code': '3.209'})\n",
      "('285', {'BTcode': '00010', 'questions': ['Turn with support leg straight?', 'Turn in tuck stand?', 'Turn on knee?', 'Turn in prone position?', '1.5 turn?'], 'code': '3.209'})\n",
      "('286', {'BTcode': '0000', 'questions': ['Turn with support leg straight?', 'Turn in tuck stand?', 'Turn on knee?', 'Turn in prone position?'], 'code': '3.409'})\n",
      "('287', {'BTcode': '111', 'questions': ['Salto backward?', 'Tuck salto (knees and hips are bent)?', 'Gainer salto (kick one leg forward before take-off)?'], 'code': '5.313'})\n"
     ]
    }
   ],
   "source": [
    "for i in text.items():\n",
    "    print(i)"
   ]
  },
  {
   "cell_type": "code",
   "execution_count": 139,
   "id": "7de22fd4-918b-4d63-a193-5d39d5841117",
   "metadata": {},
   "outputs": [],
   "source": [
    "d = {\n",
    "    1 : 'Hello',\n",
    "    2 : 'Hi',\n",
    "    3 : 'Tushar',\n",
    "}"
   ]
  },
  {
   "cell_type": "code",
   "execution_count": 140,
   "id": "ebee7bb4-0d5c-43fc-9560-a13ecdf3dd13",
   "metadata": {},
   "outputs": [],
   "source": [
    "d[4] = {1:'Random'}"
   ]
  },
  {
   "cell_type": "code",
   "execution_count": 143,
   "id": "9f18c440-b92b-413b-92c9-ef9462ef0d95",
   "metadata": {},
   "outputs": [
    {
     "data": {
      "text/plain": [
       "{1: 'Hello', 2: 'Hi', 3: 'Tushar', 4: {1: 'Random'}}"
      ]
     },
     "execution_count": 143,
     "metadata": {},
     "output_type": "execute_result"
    }
   ],
   "source": [
    "d"
   ]
  },
  {
   "cell_type": "code",
   "execution_count": 166,
   "id": "a6406565-6301-4cc4-be62-61dea61e7bc9",
   "metadata": {},
   "outputs": [],
   "source": [
    "with open('dummy.json', 'w') as file:\n",
    "    json.dump(d, file)"
   ]
  },
  {
   "cell_type": "code",
   "execution_count": 147,
   "id": "3f05bc9d-6349-4e69-bced-ba53fa38fb1d",
   "metadata": {},
   "outputs": [],
   "source": [
    "string = json.dumps(d)"
   ]
  },
  {
   "cell_type": "code",
   "execution_count": 148,
   "id": "46667e31-ceca-4dd8-9f3b-7e6af6566f5e",
   "metadata": {},
   "outputs": [
    {
     "data": {
      "text/plain": [
       "'{\"1\": \"Hello\", \"2\": \"Hi\", \"3\": \"Tushar\", \"4\": {\"1\": \"Random\"}}'"
      ]
     },
     "execution_count": 148,
     "metadata": {},
     "output_type": "execute_result"
    }
   ],
   "source": [
    "string"
   ]
  },
  {
   "cell_type": "code",
   "execution_count": 170,
   "id": "796aec28-6f06-4358-85aa-ef69a8789fae",
   "metadata": {},
   "outputs": [
    {
     "name": "stdout",
     "output_type": "stream",
     "text": [
      "\n"
     ]
    },
    {
     "data": {
      "text/plain": [
       "'{\"1\": \"Hello\", \"2\": \"Hi\", \"3\": \"Tushar\", \"4\": {\"1\": \"Random\"}}'"
      ]
     },
     "execution_count": 170,
     "metadata": {},
     "output_type": "execute_result"
    }
   ],
   "source": [
    "with open('dummy.json' ,'r') as f:\n",
    "    # print(json.load(f))\n",
    "    text = f.read()\n",
    "    print(f.read())\n",
    "text"
   ]
  },
  {
   "cell_type": "code",
   "execution_count": 168,
   "id": "d4c2927b-0ee1-4585-a1ea-c10080dd7da2",
   "metadata": {},
   "outputs": [
    {
     "data": {
      "text/plain": [
       "'{\"1\": \"Hello\", \"2\": \"Hi\", \"3\": \"Tushar\", \"4\": {\"1\": \"Random\"}}'"
      ]
     },
     "execution_count": 168,
     "metadata": {},
     "output_type": "execute_result"
    }
   ],
   "source": [
    "file = open('dummy.json', 'r')\n",
    "file.read()"
   ]
  },
  {
   "cell_type": "code",
   "execution_count": 180,
   "id": "7d50d857-d999-42d0-ad06-ebe0d6c66770",
   "metadata": {},
   "outputs": [],
   "source": [
    "import numpy as np\n",
    "d[5] = [i for i in range(5)]"
   ]
  },
  {
   "cell_type": "code",
   "execution_count": 181,
   "id": "b3d02a2a-8dff-4781-aba7-c354f05ccc6c",
   "metadata": {},
   "outputs": [
    {
     "data": {
      "text/plain": [
       "{1: 'Hello', 2: 'Hi', 3: 'Tushar', 4: {1: 'Random'}, 5: [0, 1, 2, 3, 4]}"
      ]
     },
     "execution_count": 181,
     "metadata": {},
     "output_type": "execute_result"
    }
   ],
   "source": [
    "d"
   ]
  },
  {
   "cell_type": "code",
   "execution_count": 182,
   "id": "52a4312e-c912-4f8d-ae61-ddc4d4a8e87a",
   "metadata": {},
   "outputs": [],
   "source": [
    "with open('dummy.json', 'w') as f:\n",
    "    json.dump(d, f)"
   ]
  },
  {
   "cell_type": "code",
   "execution_count": 185,
   "id": "0db388cd-36d1-433e-b32c-79031015e87c",
   "metadata": {},
   "outputs": [
    {
     "name": "stdout",
     "output_type": "stream",
     "text": [
      "{'1': 'Hello', '2': 'Hi', '3': 'Tushar', '4': {'1': 'Random'}, '5': [0, 1, 2, 3, 4]}\n"
     ]
    }
   ],
   "source": [
    "with open('dummy.json', 'r') as f:\n",
    "    print(json.load(f))"
   ]
  },
  {
   "cell_type": "code",
   "execution_count": 184,
   "id": "9f00fb37-598f-4126-8ba9-069e76bff43c",
   "metadata": {},
   "outputs": [
    {
     "data": {
      "text/plain": [
       "{'1': 'Hello',\n",
       " '2': 'Hi',\n",
       " '3': 'Tushar',\n",
       " '4': {'1': 'Random'},\n",
       " '5': [0, 1, 2, 3, 4]}"
      ]
     },
     "execution_count": 184,
     "metadata": {},
     "output_type": "execute_result"
    }
   ],
   "source": [
    "text"
   ]
  },
  {
   "cell_type": "code",
   "execution_count": 192,
   "id": "1e01423e-3246-4fbb-a28e-72aa5a99fa49",
   "metadata": {},
   "outputs": [],
   "source": [
    "with open('dummy.json', 'r') as f:\n",
    "    t = f.read()"
   ]
  },
  {
   "cell_type": "code",
   "execution_count": 195,
   "id": "0581198f-5b7c-4641-8f3c-8e91254c711d",
   "metadata": {},
   "outputs": [],
   "source": [
    "string = \"Supervised learning algorithms build a mathematical model of a set of data that contains both the inputs and the desired outputs.[39] The data is known as training data, and consists of a set of training examples. Each training example has one or more inputs and the desired output, also known as a supervisory signal. In the mathematical model, each training example is represented by an array or vector, sometimes called a feature vector, and the training data is represented by a matrix. Through iterative optimization of an objective function, supervised learning algorithms learn a function that can be used to predict the output associated with new inputs.[40] An optimal function will allow the algorithm to correctly determine the output for inputs that were not a part of the training data. An algorithm that improves the accuracy of its outputs or predictions over time is said to have learned to perform that task.[20]\""
   ]
  },
  {
   "cell_type": "code",
   "execution_count": 199,
   "id": "fba45f8d-5e46-4312-94cd-d584c68c7651",
   "metadata": {},
   "outputs": [],
   "source": [
    "idx = 0\n",
    "count = 1\n",
    "for i in range(len(string)):\n",
    "    if string[i] == '.':\n",
    "        d[count] = string[idx:idx+i]\n",
    "        idx = i + 1\n",
    "        count += 1\n",
    "        with open('dummy.json', 'w') as f:\n",
    "            json.dump(d, f)"
   ]
  },
  {
   "cell_type": "code",
   "execution_count": 200,
   "id": "00e53b78-6a9e-4657-8d21-293698180149",
   "metadata": {},
   "outputs": [
    {
     "data": {
      "text/plain": [
       "{1: 'Supervised learning algorithms build a mathematical model of a set of data that contains both the inputs and the desired outputs',\n",
       " 2: '[39] The data is known as training data, and consists of a set of training examples. Each training example has one or more inputs and the desired output, also known as a supervisory signal. In the mathematical mo',\n",
       " 3: ' Each training example has one or more inputs and the desired output, also known as a supervisory signal. In the mathematical model, each training example is represented by an array or vector, sometimes called a feature vector, and the training data is represented by a matrix. Through iterative optimization of an ob',\n",
       " 4: ' In the mathematical model, each training example is represented by an array or vector, sometimes called a feature vector, and the training data is represented by a matrix. Through iterative optimization of an objective function, supervised learning algorithms learn a function that can be used to predict the output associated with new inputs.[40] An optimal function will allow the algorithm to correctly determine the output for inputs that were not a part of the training data. An algo',\n",
       " 5: ' Through iterative optimization of an objective function, supervised learning algorithms learn a function that can be used to predict the output associated with new inputs.[40] An optimal function will allow the algorithm to correctly determine the output for inputs that were not a part of the training data. An algorithm that improves the accuracy of its outputs or predictions over time is said to have learned to perform that task.[20]',\n",
       " 6: '[40] An optimal function will allow the algorithm to correctly determine the output for inputs that were not a part of the training data. An algorithm that improves the accuracy of its outputs or predictions over time is said to have learned to perform that task.[20]',\n",
       " 7: ' An algorithm that improves the accuracy of its outputs or predictions over time is said to have learned to perform that task.[20]'}"
      ]
     },
     "execution_count": 200,
     "metadata": {},
     "output_type": "execute_result"
    }
   ],
   "source": [
    "d"
   ]
  },
  {
   "cell_type": "code",
   "execution_count": 210,
   "id": "c08ef6d9-b0c9-4f0f-8ecf-5ee362bccd59",
   "metadata": {},
   "outputs": [
    {
     "name": "stdout",
     "output_type": "stream",
     "text": [
      " An algorithm that improves the accuracy of its outputs or predictions over time is said to have learned to perform that task.[20]\n"
     ]
    }
   ],
   "source": [
    "with open('dummy.json', 'r') as f:\n",
    "    print(json.load(f)['7'])"
   ]
  },
  {
   "cell_type": "code",
   "execution_count": 3,
   "id": "4fa29b0e-e2d0-46b3-88ed-79db1a8a1d60",
   "metadata": {},
   "outputs": [],
   "source": [
    "data = '''Data analytics is the process of examining raw data to uncover patterns, draw conclusions, and make informed decisions. It involves collecting, transforming, and organizing data to derive insights and drive decision-making. Data analytics is a broad field encompassing various techniques and tools, including data science and data engineering'''\n",
    "with open(\"file.txt\", \"r\") as f:\n",
    "\n",
    "    data = f.read()\n",
    "\n",
    "for i in range(0, len(data), 50):\n",
    "\n",
    "    print(f\"Part {i//50 + 1}:\")\n",
    "\n",
    "    print(data[i:i+50])\n",
    "\n",
    "    print(\"-\" * 20)"
   ]
  },
  {
   "cell_type": "code",
   "execution_count": 7,
   "id": "4ef8b49f-2527-4479-9baf-bd35df97898c",
   "metadata": {},
   "outputs": [],
   "source": [
    "with open('BTcode.json') as f:\n",
    "    text = f.read()"
   ]
  },
  {
   "cell_type": "code",
   "execution_count": 10,
   "id": "3654c9fe-2b56-4ee8-aca1-072dbb696ed2",
   "metadata": {},
   "outputs": [
    {
     "data": {
      "text/plain": [
       "'{\\n    \"0\": {\\n        \"BTcode\": \"1111111\",\\n        \"questions\": [\\n            \"round-off onto the spr'"
      ]
     },
     "execution_count": 10,
     "metadata": {},
     "output_type": "execute_result"
    }
   ],
   "source": [
    "text[:100]"
   ]
  },
  {
   "cell_type": "code",
   "execution_count": 11,
   "id": "46fd5cb1-ba1f-48a9-ae8d-87f8e0838ea1",
   "metadata": {},
   "outputs": [
    {
     "data": {
      "text/plain": [
       "str"
      ]
     },
     "execution_count": 11,
     "metadata": {},
     "output_type": "execute_result"
    }
   ],
   "source": [
    "type(text)"
   ]
  },
  {
   "cell_type": "code",
   "execution_count": 21,
   "id": "ebfc735d-e299-4810-9f36-a5ee5e683532",
   "metadata": {},
   "outputs": [],
   "source": [
    "import json\n",
    "# with open('BTcode.json') as f:\n",
    "#     print(json.load(f))"
   ]
  },
  {
   "cell_type": "code",
   "execution_count": 25,
   "id": "2b841484-98a5-45ac-a63d-9bb6e7be1608",
   "metadata": {},
   "outputs": [],
   "source": [
    "with open('BTcode.json') as f:\n",
    "    text = json.load(f)"
   ]
  },
  {
   "cell_type": "code",
   "execution_count": 26,
   "id": "28037ac8-e1d1-4928-af44-ba197a44b733",
   "metadata": {},
   "outputs": [
    {
     "data": {
      "text/plain": [
       "dict"
      ]
     },
     "execution_count": 26,
     "metadata": {},
     "output_type": "execute_result"
    }
   ],
   "source": [
    "type(text)"
   ]
  },
  {
   "cell_type": "code",
   "execution_count": 34,
   "id": "2b53b4c6-664f-4e25-8273-6b3b5070ca56",
   "metadata": {},
   "outputs": [
    {
     "name": "stdout",
     "output_type": "stream",
     "text": [
      "{'BTcode': '1111111', 'questions': ['round-off onto the springboard?', 'turning entry after round-off (turning in first flight phase)?', 'Facing the coming direction when handstand on vault (0.5 turn in first flight phase)?', 'Body keep stretched  during salto (stretched salto)?', 'Salto with turn?', 'Facing vault table after landing?', 'Salto with 1.5 turn?'], 'code': '6.00'}\n",
      "{'BTcode': '1111110', 'questions': ['round-off onto the springboard?', 'turning entry after round-off (turning in first flight phase)?', 'Facing the coming direction when handstand on vault (0.5 turn in first flight phase)?', 'Body keep stretched  during salto (stretched salto)?', 'Salto with turn?', 'Facing vault table after landing?', 'Salto with 1.5 turn?'], 'code': '5.20'}\n",
      "{'BTcode': '1111101', 'questions': ['round-off onto the springboard?', 'turning entry after round-off (turning in first flight phase)?', 'Facing the coming direction when handstand on vault (0.5 turn in first flight phase)?', 'Body keep stretched  during salto (stretched salto)?', 'Salto with turn?', 'Facing vault table after landing?', 'Salto with 1 turn?'], 'code': '5.60'}\n",
      "{'BTcode': '1111100', 'questions': ['round-off onto the springboard?', 'turning entry after round-off (turning in first flight phase)?', 'Facing the coming direction when handstand on vault (0.5 turn in first flight phase)?', 'Body keep stretched  during salto (stretched salto)?', 'Salto with turn?', 'Facing vault table after landing?', 'Salto with 1 turn?'], 'code': '6.40'}\n",
      "{'BTcode': '11110', 'questions': ['round-off onto the springboard?', 'turning entry after round-off (turning in first flight phase)?', 'Facing the coming direction when handstand on vault (0.5 turn in first flight phase)?', 'Body keep stretched  during salto (stretched salto)?', 'Salto with turn?'], 'code': '4.80'}\n"
     ]
    }
   ],
   "source": [
    "count = 1\n",
    "for i in text.items():\n",
    "    print(i[1])\n",
    "    count = count + 1\n",
    "    if count > 5:\n",
    "        break"
   ]
  },
  {
   "cell_type": "code",
   "execution_count": 35,
   "id": "bfa27cfd-2b50-4b1e-abd2-3c4471694df3",
   "metadata": {},
   "outputs": [
    {
     "name": "stdout",
     "output_type": "stream",
     "text": [
      "0 : {'BTcode': '1111111', 'questions': ['round-off onto the springboard?', 'turning entry after round-off (turning in first flight phase)?', 'Facing the coming direction when handstand on vault (0.5 turn in first flight phase)?', 'Body keep stretched  during salto (stretched salto)?', 'Salto with turn?', 'Facing vault table after landing?', 'Salto with 1.5 turn?'], 'code': '6.00'}\n",
      "1 : {'BTcode': '1111110', 'questions': ['round-off onto the springboard?', 'turning entry after round-off (turning in first flight phase)?', 'Facing the coming direction when handstand on vault (0.5 turn in first flight phase)?', 'Body keep stretched  during salto (stretched salto)?', 'Salto with turn?', 'Facing vault table after landing?', 'Salto with 1.5 turn?'], 'code': '5.20'}\n",
      "2 : {'BTcode': '1111101', 'questions': ['round-off onto the springboard?', 'turning entry after round-off (turning in first flight phase)?', 'Facing the coming direction when handstand on vault (0.5 turn in first flight phase)?', 'Body keep stretched  during salto (stretched salto)?', 'Salto with turn?', 'Facing vault table after landing?', 'Salto with 1 turn?'], 'code': '5.60'}\n",
      "3 : {'BTcode': '1111100', 'questions': ['round-off onto the springboard?', 'turning entry after round-off (turning in first flight phase)?', 'Facing the coming direction when handstand on vault (0.5 turn in first flight phase)?', 'Body keep stretched  during salto (stretched salto)?', 'Salto with turn?', 'Facing vault table after landing?', 'Salto with 1 turn?'], 'code': '6.40'}\n",
      "4 : {'BTcode': '11110', 'questions': ['round-off onto the springboard?', 'turning entry after round-off (turning in first flight phase)?', 'Facing the coming direction when handstand on vault (0.5 turn in first flight phase)?', 'Body keep stretched  during salto (stretched salto)?', 'Salto with turn?'], 'code': '4.80'}\n"
     ]
    }
   ],
   "source": [
    "with open('BTcode.json') as f:\n",
    "\n",
    "    data = json.load(f)    \n",
    "\n",
    "for key in list(data)[:5]:\n",
    "\n",
    "    print(key, \":\", data[key])"
   ]
  },
  {
   "cell_type": "code",
   "execution_count": 37,
   "id": "58772c0f-554b-4d4c-be82-b3d5130f8257",
   "metadata": {},
   "outputs": [],
   "source": [
    "d = {\n",
    "    'aditya' : 'Data Analytics',\n",
    "    'heemang' : 'Data Science',\n",
    "    'varsha' : 'Full Stack',\n",
    "    'nandini' : 'Full Stack'\n",
    "}"
   ]
  },
  {
   "cell_type": "code",
   "execution_count": 51,
   "id": "a12afbed-7875-4bb0-8f3f-1c0ca1063912",
   "metadata": {},
   "outputs": [],
   "source": [
    "with open('file.json', 'w') as f:\n",
    "    json.dump(d,f)"
   ]
  },
  {
   "cell_type": "code",
   "execution_count": 52,
   "id": "9d3b53e3-1df7-42cd-821c-75c3814f65ce",
   "metadata": {},
   "outputs": [],
   "source": [
    "string = json.dumps(d)"
   ]
  },
  {
   "cell_type": "code",
   "execution_count": 53,
   "id": "d91cdab8-1c09-4321-a05c-464253ce2eaa",
   "metadata": {},
   "outputs": [
    {
     "data": {
      "text/plain": [
       "'{\"aditya\": \"Data Analytics\", \"heemang\": \"Data Science\", \"varsha\": \"Full Stack\", \"nandini\": \"Full Stack\"}'"
      ]
     },
     "execution_count": 53,
     "metadata": {},
     "output_type": "execute_result"
    }
   ],
   "source": [
    "string"
   ]
  },
  {
   "cell_type": "code",
   "execution_count": 54,
   "id": "b4aaf610-7384-497e-a06d-73557f625692",
   "metadata": {},
   "outputs": [],
   "source": [
    "with open('file.json', 'r') as f:\n",
    "    text = json.load(f)"
   ]
  },
  {
   "cell_type": "code",
   "execution_count": 55,
   "id": "5aade806-dac7-428d-ae52-0487aa8487ed",
   "metadata": {},
   "outputs": [
    {
     "data": {
      "text/plain": [
       "dict"
      ]
     },
     "execution_count": 55,
     "metadata": {},
     "output_type": "execute_result"
    }
   ],
   "source": [
    "type(text)"
   ]
  },
  {
   "cell_type": "code",
   "execution_count": 56,
   "id": "873930d3-0ab4-4cfb-89d7-db936950aaca",
   "metadata": {},
   "outputs": [
    {
     "data": {
      "text/plain": [
       "str"
      ]
     },
     "execution_count": 56,
     "metadata": {},
     "output_type": "execute_result"
    }
   ],
   "source": [
    "type(string)"
   ]
  },
  {
   "cell_type": "code",
   "execution_count": 57,
   "id": "42d12a4f-1006-4db9-9891-1b881da276dd",
   "metadata": {},
   "outputs": [],
   "source": [
    "data = '''Data analytics is the process of examining raw data to uncover patterns, draw conclusions, and make informed decisions. It involves collecting, transforming, and organizing data to derive insights and drive decision-making. Data analytics is a broad field encompassing various techniques and tools, including data science and data engineering'''"
   ]
  },
  {
   "cell_type": "code",
   "execution_count": 62,
   "id": "0162ee9d-8e97-4620-87c5-c13abc72156a",
   "metadata": {},
   "outputs": [],
   "source": [
    "chunks = {}\n",
    "key = 0\n",
    "for i in range(0, len(data), 50):\n",
    "    chunks[key] = data[i:i+50]\n",
    "    key = key+1\n",
    "\n",
    "with open(\"output.json\", \"w\") as f:\n",
    "\n",
    "    json.dump(chunks, f)"
   ]
  },
  {
   "cell_type": "code",
   "execution_count": 63,
   "id": "f5070309-2a10-4047-a510-b6f29e5ffc7d",
   "metadata": {},
   "outputs": [
    {
     "name": "stdout",
     "output_type": "stream",
     "text": [
      "{'0': 'Data analytics is the process of examining raw dat', '1': 'a to uncover patterns, draw conclusions, and make ', '2': 'informed decisions. It involves collecting, transf', '3': 'orming, and organizing data to derive insights and', '4': ' drive decision-making. Data analytics is a broad ', '5': 'field encompassing various techniques and tools, i', '6': 'ncluding data science and data engineering'}\n"
     ]
    }
   ],
   "source": [
    "with open('output.json', 'r') as f:\n",
    "    print(json.load(f))"
   ]
  },
  {
   "cell_type": "code",
   "execution_count": null,
   "id": "cb173b38-0a57-4a45-b689-542c8be87961",
   "metadata": {},
   "outputs": [],
   "source": []
  },
  {
   "cell_type": "code",
   "execution_count": 64,
   "id": "6ebf1790-a46c-445a-96ca-ed92f894ad36",
   "metadata": {},
   "outputs": [],
   "source": [
    "# Exception handling"
   ]
  },
  {
   "cell_type": "code",
   "execution_count": 66,
   "id": "5fc47b8f-fa07-4176-b4c3-9760754684c6",
   "metadata": {},
   "outputs": [
    {
     "name": "stdin",
     "output_type": "stream",
     "text": [
      "enter the number =  fkhg\n"
     ]
    },
    {
     "ename": "ValueError",
     "evalue": "invalid literal for int() with base 10: 'fkhg'",
     "output_type": "error",
     "traceback": [
      "\u001b[1;31m---------------------------------------------------------------------------\u001b[0m",
      "\u001b[1;31mValueError\u001b[0m                                Traceback (most recent call last)",
      "Cell \u001b[1;32mIn[66], line 1\u001b[0m\n\u001b[1;32m----> 1\u001b[0m a \u001b[38;5;241m=\u001b[39m \u001b[38;5;28mint\u001b[39m(\u001b[38;5;28minput\u001b[39m(\u001b[38;5;124m\"\u001b[39m\u001b[38;5;124menter the number = \u001b[39m\u001b[38;5;124m\"\u001b[39m))\n\u001b[0;32m      2\u001b[0m \u001b[38;5;28mprint\u001b[39m(\u001b[38;5;124mf\u001b[39m\u001b[38;5;124m\"\u001b[39m\u001b[38;5;124mtable of \u001b[39m\u001b[38;5;132;01m{\u001b[39;00ma\u001b[38;5;132;01m}\u001b[39;00m\u001b[38;5;124m : \u001b[39m\u001b[38;5;124m\"\u001b[39m)\n\u001b[0;32m      3\u001b[0m \u001b[38;5;28;01mfor\u001b[39;00m i \u001b[38;5;129;01min\u001b[39;00m \u001b[38;5;28mrange\u001b[39m(\u001b[38;5;241m1\u001b[39m, \u001b[38;5;241m11\u001b[39m):\n",
      "\u001b[1;31mValueError\u001b[0m: invalid literal for int() with base 10: 'fkhg'"
     ]
    }
   ],
   "source": [
    "a = int(input(\"enter the number = \"))\n",
    "print(f\"table of {a} : \")\n",
    "for i in range(1, 11):\n",
    "    print(f\"{a}*{i} = {a*i}\")"
   ]
  },
  {
   "cell_type": "code",
   "execution_count": 71,
   "id": "8d28b4a7-3712-4dd0-bd10-7905eb9ccada",
   "metadata": {},
   "outputs": [
    {
     "name": "stdin",
     "output_type": "stream",
     "text": [
      "enter the number =  we\n"
     ]
    },
    {
     "ename": "ValueError",
     "evalue": "invalid literal for int() with base 10: 'we'",
     "output_type": "error",
     "traceback": [
      "\u001b[1;31m---------------------------------------------------------------------------\u001b[0m",
      "\u001b[1;31mValueError\u001b[0m                                Traceback (most recent call last)",
      "Cell \u001b[1;32mIn[71], line 1\u001b[0m\n\u001b[1;32m----> 1\u001b[0m a \u001b[38;5;241m=\u001b[39m \u001b[38;5;28mint\u001b[39m(\u001b[38;5;28minput\u001b[39m(\u001b[38;5;124m\"\u001b[39m\u001b[38;5;124menter the number = \u001b[39m\u001b[38;5;124m\"\u001b[39m))\n\u001b[0;32m      2\u001b[0m \u001b[38;5;28mprint\u001b[39m(\u001b[38;5;124mf\u001b[39m\u001b[38;5;124m\"\u001b[39m\u001b[38;5;124mtable of \u001b[39m\u001b[38;5;132;01m{\u001b[39;00ma\u001b[38;5;132;01m}\u001b[39;00m\u001b[38;5;124m : \u001b[39m\u001b[38;5;124m\"\u001b[39m)\n\u001b[0;32m      4\u001b[0m \u001b[38;5;28;01mtry\u001b[39;00m:\n",
      "\u001b[1;31mValueError\u001b[0m: invalid literal for int() with base 10: 'we'"
     ]
    }
   ],
   "source": [
    "a = int(input(\"enter the number = \"))\n",
    "print(f\"table of {a} : \")\n",
    "\n",
    "try:\n",
    "    for i in range(1, 11):\n",
    "        print(f\"{a}*{i} = {a*i}\")\n",
    "except Exception as e:\n",
    "    print(e)"
   ]
  },
  {
   "cell_type": "code",
   "execution_count": 75,
   "id": "cff66914-beea-4dca-b5d8-514ce9efead3",
   "metadata": {},
   "outputs": [
    {
     "name": "stdin",
     "output_type": "stream",
     "text": [
      "enter the number =  as\n"
     ]
    },
    {
     "name": "stdout",
     "output_type": "stream",
     "text": [
      "invalid literal for int() with base 10: 'as'\n"
     ]
    }
   ],
   "source": [
    "try:\n",
    "    num = int(input(\"enter the number = \"))\n",
    "    print(num)\n",
    "except Exception as e:\n",
    "    print(e)"
   ]
  },
  {
   "cell_type": "code",
   "execution_count": 89,
   "id": "be7b6c2f-8e03-4c8a-93a7-61f1f66ce818",
   "metadata": {},
   "outputs": [],
   "source": [
    "def divider(a, b):\n",
    "\n",
    "    try:\n",
    "        return a/b\n",
    "    except Exception as e:\n",
    "        print(e)\n",
    "        \n",
    "    finally:\n",
    "        c = float(input(\"enter the denominator = \"))\n",
    "        print(\"Chalega hi chalega\")\n",
    "        return a/c"
   ]
  },
  {
   "cell_type": "code",
   "execution_count": 90,
   "id": "b19aaf6d-bd3a-446c-8fb8-a220b95cdff7",
   "metadata": {},
   "outputs": [
    {
     "name": "stdout",
     "output_type": "stream",
     "text": [
      "unsupported operand type(s) for /: 'int' and 'str'\n"
     ]
    },
    {
     "name": "stdin",
     "output_type": "stream",
     "text": [
      "enter the denominator =  10\n"
     ]
    },
    {
     "name": "stdout",
     "output_type": "stream",
     "text": [
      "Chalega hi chalega\n"
     ]
    },
    {
     "data": {
      "text/plain": [
       "10.0"
      ]
     },
     "execution_count": 90,
     "metadata": {},
     "output_type": "execute_result"
    }
   ],
   "source": [
    "divider(100, '20')"
   ]
  },
  {
   "cell_type": "code",
   "execution_count": 91,
   "id": "e3e80165-2d64-4c9e-9951-c6547623e69f",
   "metadata": {},
   "outputs": [
    {
     "ename": "OSError",
     "evalue": "Don't input 50",
     "output_type": "error",
     "traceback": [
      "\u001b[1;31m---------------------------------------------------------------------------\u001b[0m",
      "\u001b[1;31mOSError\u001b[0m                                   Traceback (most recent call last)",
      "Cell \u001b[1;32mIn[91], line 3\u001b[0m\n\u001b[0;32m      1\u001b[0m A \u001b[38;5;241m=\u001b[39m \u001b[38;5;241m10\u001b[39m\n\u001b[0;32m      2\u001b[0m \u001b[38;5;28;01mif\u001b[39;00m A \u001b[38;5;241m==\u001b[39m \u001b[38;5;241m10\u001b[39m:\n\u001b[1;32m----> 3\u001b[0m     \u001b[38;5;28;01mraise\u001b[39;00m \u001b[38;5;167;01mEnvironmentError\u001b[39;00m(\u001b[38;5;124m\"\u001b[39m\u001b[38;5;124mDon\u001b[39m\u001b[38;5;124m'\u001b[39m\u001b[38;5;124mt input 50\u001b[39m\u001b[38;5;124m\"\u001b[39m)\n",
      "\u001b[1;31mOSError\u001b[0m: Don't input 50"
     ]
    }
   ],
   "source": [
    "A = 10\n",
    "if A == 10:\n",
    "    raise EnvironmentError(\"Don't input 50\")"
   ]
  },
  {
   "cell_type": "code",
   "execution_count": 92,
   "id": "19cfe3d9-4260-4ac3-969c-5c64ff936ec6",
   "metadata": {},
   "outputs": [],
   "source": [
    "a = print"
   ]
  },
  {
   "cell_type": "code",
   "execution_count": 93,
   "id": "56eac4b6-bd51-4b87-9619-65aab58420c3",
   "metadata": {},
   "outputs": [
    {
     "name": "stdout",
     "output_type": "stream",
     "text": [
      "hello\n"
     ]
    }
   ],
   "source": [
    "a(\"hello\")"
   ]
  },
  {
   "cell_type": "code",
   "execution_count": 94,
   "id": "fc8634c0-fe1f-48c8-a84a-67795d3558f5",
   "metadata": {},
   "outputs": [],
   "source": [
    "x = 10"
   ]
  },
  {
   "cell_type": "code",
   "execution_count": 95,
   "id": "f5ec4199-6c2a-4214-8ac9-0c87f09d986a",
   "metadata": {},
   "outputs": [
    {
     "data": {
      "text/plain": [
       "int"
      ]
     },
     "execution_count": 95,
     "metadata": {},
     "output_type": "execute_result"
    }
   ],
   "source": [
    "type(x)"
   ]
  },
  {
   "cell_type": "code",
   "execution_count": null,
   "id": "dfc4023c-47d8-428e-b177-603599df3625",
   "metadata": {},
   "outputs": [],
   "source": []
  }
 ],
 "metadata": {
  "kernelspec": {
   "display_name": "Python 3 (ipykernel)",
   "language": "python",
   "name": "python3"
  },
  "language_info": {
   "codemirror_mode": {
    "name": "ipython",
    "version": 3
   },
   "file_extension": ".py",
   "mimetype": "text/x-python",
   "name": "python",
   "nbconvert_exporter": "python",
   "pygments_lexer": "ipython3",
   "version": "3.12.7"
  }
 },
 "nbformat": 4,
 "nbformat_minor": 5
}
