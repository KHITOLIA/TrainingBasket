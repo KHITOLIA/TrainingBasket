{
 "cells": [
  {
   "cell_type": "code",
   "execution_count": 1,
   "id": "2fcceebc-7aaa-455d-820f-5c5f22d34c0f",
   "metadata": {},
   "outputs": [],
   "source": [
    "import numpy as np"
   ]
  },
  {
   "cell_type": "code",
   "execution_count": 2,
   "id": "9b9a92f7-525b-478d-b149-5b6ef2562a9b",
   "metadata": {},
   "outputs": [],
   "source": [
    "# !pip install numpy"
   ]
  },
  {
   "cell_type": "code",
   "execution_count": 10,
   "id": "39271493-b590-4d92-8378-2c991644b639",
   "metadata": {},
   "outputs": [],
   "source": [
    "a = np.array([1, 2, 3, 4, 5])"
   ]
  },
  {
   "cell_type": "code",
   "execution_count": 11,
   "id": "04319300-7cbf-419e-95fd-bb3d856b66fa",
   "metadata": {},
   "outputs": [
    {
     "data": {
      "text/plain": [
       "array([1, 2, 3, 4, 5])"
      ]
     },
     "execution_count": 11,
     "metadata": {},
     "output_type": "execute_result"
    }
   ],
   "source": [
    "type(a)\n",
    "a"
   ]
  },
  {
   "cell_type": "code",
   "execution_count": 7,
   "id": "922089ad-15a1-4d3c-a7e1-eeabd041cedb",
   "metadata": {},
   "outputs": [
    {
     "data": {
      "text/plain": [
       "(5,)"
      ]
     },
     "execution_count": 7,
     "metadata": {},
     "output_type": "execute_result"
    }
   ],
   "source": [
    "a.shape  #  (anyvalue, ) it will treat it as a vector "
   ]
  },
  {
   "cell_type": "code",
   "execution_count": 13,
   "id": "a21ae261-9cfa-4764-a1fd-a294a979a933",
   "metadata": {},
   "outputs": [],
   "source": [
    "a = np.array([[1], [2], [3], [4], [5]])"
   ]
  },
  {
   "cell_type": "code",
   "execution_count": 14,
   "id": "460a5af1-5bf5-4bf4-ba8f-7fb6f57ea624",
   "metadata": {},
   "outputs": [
    {
     "data": {
      "text/plain": [
       "array([[1],\n",
       "       [2],\n",
       "       [3],\n",
       "       [4],\n",
       "       [5]])"
      ]
     },
     "execution_count": 14,
     "metadata": {},
     "output_type": "execute_result"
    }
   ],
   "source": [
    "a"
   ]
  },
  {
   "cell_type": "code",
   "execution_count": 15,
   "id": "8b789fdd-b91f-424e-b60c-8cd760a0839b",
   "metadata": {},
   "outputs": [
    {
     "data": {
      "text/plain": [
       "(5, 1)"
      ]
     },
     "execution_count": 15,
     "metadata": {},
     "output_type": "execute_result"
    }
   ],
   "source": [
    "a.shape"
   ]
  },
  {
   "cell_type": "code",
   "execution_count": 21,
   "id": "61be298d-4269-4e9e-9902-6dc29028e616",
   "metadata": {},
   "outputs": [
    {
     "data": {
      "text/plain": [
       "array([[0, 0, 0, 0, 0],\n",
       "       [0, 0, 0, 0, 0],\n",
       "       [0, 0, 0, 0, 0],\n",
       "       [0, 0, 0, 0, 0]])"
      ]
     },
     "execution_count": 21,
     "metadata": {},
     "output_type": "execute_result"
    }
   ],
   "source": [
    "np.zeros((4, 5), dtype = int)"
   ]
  },
  {
   "cell_type": "code",
   "execution_count": 24,
   "id": "1a001970-2f11-4630-8ff0-749fdc64fcb7",
   "metadata": {},
   "outputs": [
    {
     "data": {
      "text/plain": [
       "array([[3, 3],\n",
       "       [3, 3]])"
      ]
     },
     "execution_count": 24,
     "metadata": {},
     "output_type": "execute_result"
    }
   ],
   "source": [
    "np.full((2, 2), 3)"
   ]
  },
  {
   "cell_type": "code",
   "execution_count": 30,
   "id": "80404975-1a53-4d19-b715-3f7317ad309e",
   "metadata": {},
   "outputs": [
    {
     "data": {
      "text/plain": [
       "array([[1, 0, 0, 0],\n",
       "       [0, 1, 0, 0],\n",
       "       [0, 0, 1, 0],\n",
       "       [0, 0, 0, 1]])"
      ]
     },
     "execution_count": 30,
     "metadata": {},
     "output_type": "execute_result"
    }
   ],
   "source": [
    "np.eye(4, dtype = int)"
   ]
  },
  {
   "cell_type": "code",
   "execution_count": 43,
   "id": "4822dcdc-70a1-4316-b1da-2f55fd67c79b",
   "metadata": {},
   "outputs": [],
   "source": [
    "rn_mat = np.random.random((3, 5))   # [0, 1)"
   ]
  },
  {
   "cell_type": "code",
   "execution_count": 44,
   "id": "56f5ec19-7436-4e9e-8d00-68f36b62e6d2",
   "metadata": {},
   "outputs": [
    {
     "data": {
      "text/plain": [
       "array([[0.71064201, 0.1225293 , 0.89792625, 0.56920914, 0.77912462],\n",
       "       [0.14407405, 0.86033523, 0.83433423, 0.38185245, 0.43790274],\n",
       "       [0.95440972, 0.03646113, 0.91004792, 0.21624669, 0.8104309 ]])"
      ]
     },
     "execution_count": 44,
     "metadata": {},
     "output_type": "execute_result"
    }
   ],
   "source": [
    "rn_mat"
   ]
  },
  {
   "cell_type": "code",
   "execution_count": 45,
   "id": "3efe171d-190c-47bd-9c49-d44b03a62a62",
   "metadata": {},
   "outputs": [
    {
     "data": {
      "text/plain": [
       "(3, 5)"
      ]
     },
     "execution_count": 45,
     "metadata": {},
     "output_type": "execute_result"
    }
   ],
   "source": [
    "rn_mat.shape"
   ]
  },
  {
   "cell_type": "code",
   "execution_count": 46,
   "id": "b7ffaf92-7a68-4f3f-93a8-15f7ae17b745",
   "metadata": {},
   "outputs": [
    {
     "data": {
      "text/plain": [
       "array([0.71064201, 0.1225293 , 0.89792625, 0.56920914, 0.77912462])"
      ]
     },
     "execution_count": 46,
     "metadata": {},
     "output_type": "execute_result"
    }
   ],
   "source": [
    "rn_mat[0]"
   ]
  },
  {
   "cell_type": "code",
   "execution_count": 47,
   "id": "fb843240-233e-4433-a17b-732b4c70f404",
   "metadata": {},
   "outputs": [
    {
     "data": {
      "text/plain": [
       "array([0.14407405, 0.86033523, 0.83433423, 0.38185245, 0.43790274])"
      ]
     },
     "execution_count": 47,
     "metadata": {},
     "output_type": "execute_result"
    }
   ],
   "source": [
    "rn_mat[1]"
   ]
  },
  {
   "cell_type": "code",
   "execution_count": 48,
   "id": "3a9188f4-d108-4c9c-a18c-6788fb2225b1",
   "metadata": {},
   "outputs": [
    {
     "data": {
      "text/plain": [
       "array([0.95440972, 0.03646113, 0.91004792, 0.21624669, 0.8104309 ])"
      ]
     },
     "execution_count": 48,
     "metadata": {},
     "output_type": "execute_result"
    }
   ],
   "source": [
    "rn_mat[2]"
   ]
  },
  {
   "cell_type": "code",
   "execution_count": 50,
   "id": "1c32b236-3d8d-45fc-8c08-9bd13d3e115e",
   "metadata": {},
   "outputs": [
    {
     "data": {
      "text/plain": [
       "array([[0.71064201, 0.1225293 , 0.89792625, 0.56920914, 0.77912462],\n",
       "       [0.14407405, 0.86033523, 0.83433423, 0.38185245, 0.43790274],\n",
       "       [0.95440972, 0.03646113, 0.91004792, 0.21624669, 0.8104309 ]])"
      ]
     },
     "execution_count": 50,
     "metadata": {},
     "output_type": "execute_result"
    }
   ],
   "source": [
    "rn_mat"
   ]
  },
  {
   "cell_type": "code",
   "execution_count": 52,
   "id": "0e59af9e-f5a3-4810-a697-5f537ca6d9ac",
   "metadata": {},
   "outputs": [
    {
     "data": {
      "text/plain": [
       "0.8343342292420048"
      ]
     },
     "execution_count": 52,
     "metadata": {},
     "output_type": "execute_result"
    }
   ],
   "source": [
    "rn_mat[1, 2]  # ((0, 1, 2) -> row and (0, 1, 2, 3, 4) -> columns)"
   ]
  },
  {
   "cell_type": "code",
   "execution_count": 53,
   "id": "f8fdae2b-a157-4d4e-a3d9-cb584c857da2",
   "metadata": {},
   "outputs": [
    {
     "data": {
      "text/plain": [
       "0.7106420103011762"
      ]
     },
     "execution_count": 53,
     "metadata": {},
     "output_type": "execute_result"
    }
   ],
   "source": [
    "rn_mat[0, 0]"
   ]
  },
  {
   "cell_type": "code",
   "execution_count": 54,
   "id": "5c42e1ee-bfee-4edc-b28d-f5605ec394ee",
   "metadata": {},
   "outputs": [
    {
     "data": {
      "text/plain": [
       "0.2162466948431203"
      ]
     },
     "execution_count": 54,
     "metadata": {},
     "output_type": "execute_result"
    }
   ],
   "source": [
    "rn_mat[2, 3]"
   ]
  },
  {
   "cell_type": "code",
   "execution_count": 55,
   "id": "6cee3afb-4542-4787-a556-774ec408bca8",
   "metadata": {},
   "outputs": [
    {
     "data": {
      "text/plain": [
       "0.4379027429065123"
      ]
     },
     "execution_count": 55,
     "metadata": {},
     "output_type": "execute_result"
    }
   ],
   "source": [
    "rn_mat[1, 4]"
   ]
  },
  {
   "cell_type": "code",
   "execution_count": 59,
   "id": "8eefcb89-8084-4fc2-aede-b94e3d5522de",
   "metadata": {},
   "outputs": [],
   "source": [
    "rn_mat = np.random.random((6, 5))"
   ]
  },
  {
   "cell_type": "code",
   "execution_count": 60,
   "id": "ab6dba87-5d8f-4fca-8eb4-2330d0863445",
   "metadata": {},
   "outputs": [
    {
     "data": {
      "text/plain": [
       "array([[0.86452255, 0.42226857, 0.77947688, 0.73063587, 0.28223432],\n",
       "       [0.03957213, 0.48490841, 0.37674442, 0.96544211, 0.30373912],\n",
       "       [0.40991229, 0.09026695, 0.28907344, 0.84756442, 0.65847718],\n",
       "       [0.39777966, 0.26615392, 0.48405352, 0.65735825, 0.39439432],\n",
       "       [0.01902332, 0.75205992, 0.70916817, 0.33276012, 0.51899016],\n",
       "       [0.2935698 , 0.50731983, 0.94767596, 0.52008369, 0.16966858]])"
      ]
     },
     "execution_count": 60,
     "metadata": {},
     "output_type": "execute_result"
    }
   ],
   "source": [
    "rn_mat"
   ]
  },
  {
   "cell_type": "code",
   "execution_count": 61,
   "id": "3a0e80d3-45fd-4a14-8aee-d486ea9ce42c",
   "metadata": {},
   "outputs": [
    {
     "data": {
      "text/plain": [
       "array([[0.03957213, 0.48490841, 0.37674442, 0.96544211, 0.30373912],\n",
       "       [0.40991229, 0.09026695, 0.28907344, 0.84756442, 0.65847718]])"
      ]
     },
     "execution_count": 61,
     "metadata": {},
     "output_type": "execute_result"
    }
   ],
   "source": [
    "rn_mat[1:3, : 5]"
   ]
  },
  {
   "cell_type": "code",
   "execution_count": 64,
   "id": "cc06abbc-127e-4aab-bcd0-284569bb7dc8",
   "metadata": {},
   "outputs": [
    {
     "data": {
      "text/plain": [
       "array([[0.86452255, 0.42226857],\n",
       "       [0.03957213, 0.48490841],\n",
       "       [0.40991229, 0.09026695],\n",
       "       [0.39777966, 0.26615392],\n",
       "       [0.01902332, 0.75205992],\n",
       "       [0.2935698 , 0.50731983]])"
      ]
     },
     "execution_count": 64,
     "metadata": {},
     "output_type": "execute_result"
    }
   ],
   "source": [
    "idx = [0, 1]\n",
    "rn_mat[ : , idx ]"
   ]
  },
  {
   "cell_type": "code",
   "execution_count": 63,
   "id": "30a122f6-3423-4bfe-8594-3c346054b7b7",
   "metadata": {},
   "outputs": [
    {
     "data": {
      "text/plain": [
       "array([[0.86452255, 0.42226857],\n",
       "       [0.03957213, 0.48490841],\n",
       "       [0.40991229, 0.09026695],\n",
       "       [0.39777966, 0.26615392],\n",
       "       [0.01902332, 0.75205992],\n",
       "       [0.2935698 , 0.50731983]])"
      ]
     },
     "execution_count": 63,
     "metadata": {},
     "output_type": "execute_result"
    }
   ],
   "source": [
    "rn_mat[ : , : 2]"
   ]
  },
  {
   "cell_type": "code",
   "execution_count": 65,
   "id": "7d041ba7-4600-41aa-977d-e39a4cec4b43",
   "metadata": {},
   "outputs": [
    {
     "data": {
      "text/plain": [
       "(6, 5)"
      ]
     },
     "execution_count": 65,
     "metadata": {},
     "output_type": "execute_result"
    }
   ],
   "source": [
    "rn_mat.shape"
   ]
  },
  {
   "cell_type": "code",
   "execution_count": 68,
   "id": "a668d8c9-2d49-42ad-a2e8-257c0b5bb60c",
   "metadata": {},
   "outputs": [
    {
     "data": {
      "text/plain": [
       "array([[0.48405352, 0.65735825],\n",
       "       [0.70916817, 0.33276012]])"
      ]
     },
     "execution_count": 68,
     "metadata": {},
     "output_type": "execute_result"
    }
   ],
   "source": [
    "rn_mat[3:5, 2:4]"
   ]
  },
  {
   "cell_type": "code",
   "execution_count": 76,
   "id": "760c4cf6-0ed3-4ced-9730-71a1fca48890",
   "metadata": {},
   "outputs": [
    {
     "data": {
      "text/plain": [
       "(6, 1)"
      ]
     },
     "execution_count": 76,
     "metadata": {},
     "output_type": "execute_result"
    }
   ],
   "source": [
    "rn_mat[ : , 4:].shape"
   ]
  },
  {
   "cell_type": "code",
   "execution_count": 77,
   "id": "c57117d3-ac80-4eae-8cac-306bb3447573",
   "metadata": {},
   "outputs": [
    {
     "data": {
      "text/plain": [
       "array([0.2935698 , 0.50731983, 0.94767596, 0.52008369, 0.16966858])"
      ]
     },
     "execution_count": 77,
     "metadata": {},
     "output_type": "execute_result"
    }
   ],
   "source": [
    "rn_mat[-1]"
   ]
  },
  {
   "cell_type": "code",
   "execution_count": 78,
   "id": "9cc38704-81bf-4c15-a2fd-622d7f83a213",
   "metadata": {},
   "outputs": [],
   "source": [
    "x = np.array([[1, 2], \n",
    "              [3, 4]])\n",
    "y = np.array([[4, 7],\n",
    "              [3, 7]])\n"
   ]
  },
  {
   "cell_type": "code",
   "execution_count": 79,
   "id": "fc53822e-410b-4675-b246-b1cd5cd16f9e",
   "metadata": {},
   "outputs": [
    {
     "data": {
      "text/plain": [
       "array([[ 5,  9],\n",
       "       [ 6, 11]])"
      ]
     },
     "execution_count": 79,
     "metadata": {},
     "output_type": "execute_result"
    }
   ],
   "source": [
    "x + y"
   ]
  },
  {
   "cell_type": "code",
   "execution_count": 80,
   "id": "e9c0170d-7458-4ce9-a5db-07a52d0aa971",
   "metadata": {},
   "outputs": [
    {
     "data": {
      "text/plain": [
       "array([[-3, -5],\n",
       "       [ 0, -3]])"
      ]
     },
     "execution_count": 80,
     "metadata": {},
     "output_type": "execute_result"
    }
   ],
   "source": [
    "x - y"
   ]
  },
  {
   "cell_type": "code",
   "execution_count": 81,
   "id": "804bb789-9c36-496d-975d-6b3854c6e4b1",
   "metadata": {},
   "outputs": [
    {
     "data": {
      "text/plain": [
       "array([[ 4, 14],\n",
       "       [ 9, 28]])"
      ]
     },
     "execution_count": 81,
     "metadata": {},
     "output_type": "execute_result"
    }
   ],
   "source": [
    "x * y"
   ]
  },
  {
   "cell_type": "code",
   "execution_count": 82,
   "id": "9b07559b-6e67-4cae-ab28-edb61003d268",
   "metadata": {},
   "outputs": [
    {
     "data": {
      "text/plain": [
       "array([[0.25      , 0.28571429],\n",
       "       [1.        , 0.57142857]])"
      ]
     },
     "execution_count": 82,
     "metadata": {},
     "output_type": "execute_result"
    }
   ],
   "source": [
    "x/y"
   ]
  },
  {
   "cell_type": "code",
   "execution_count": 83,
   "id": "f2cf084e-1747-4c0a-aa79-9a1f4c256217",
   "metadata": {},
   "outputs": [
    {
     "data": {
      "text/plain": [
       "array([[ 5,  9],\n",
       "       [ 6, 11]])"
      ]
     },
     "execution_count": 83,
     "metadata": {},
     "output_type": "execute_result"
    }
   ],
   "source": [
    "np.add(x, y)"
   ]
  },
  {
   "cell_type": "code",
   "execution_count": 84,
   "id": "922d7547-48c7-4d16-82ff-d46c21450084",
   "metadata": {},
   "outputs": [
    {
     "data": {
      "text/plain": [
       "array([[-3, -5],\n",
       "       [ 0, -3]])"
      ]
     },
     "execution_count": 84,
     "metadata": {},
     "output_type": "execute_result"
    }
   ],
   "source": [
    "np.subtract(x, y)"
   ]
  },
  {
   "cell_type": "code",
   "execution_count": 85,
   "id": "f798a298-257b-49be-95b0-013ea43aa433",
   "metadata": {},
   "outputs": [
    {
     "data": {
      "text/plain": [
       "array([[3, 5],\n",
       "       [0, 3]])"
      ]
     },
     "execution_count": 85,
     "metadata": {},
     "output_type": "execute_result"
    }
   ],
   "source": [
    "np.subtract(y, x)"
   ]
  },
  {
   "cell_type": "code",
   "execution_count": 86,
   "id": "bb3c200b-d39f-400d-84a4-11e4b9b58a19",
   "metadata": {},
   "outputs": [
    {
     "data": {
      "text/plain": [
       "array([[ 4, 14],\n",
       "       [ 9, 28]])"
      ]
     },
     "execution_count": 86,
     "metadata": {},
     "output_type": "execute_result"
    }
   ],
   "source": [
    "np.multiply(x, y)"
   ]
  },
  {
   "cell_type": "code",
   "execution_count": 87,
   "id": "c773fc89-b11b-46ca-ac87-570d19d3a913",
   "metadata": {},
   "outputs": [
    {
     "data": {
      "text/plain": [
       "array([[0.25      , 0.28571429],\n",
       "       [1.        , 0.57142857]])"
      ]
     },
     "execution_count": 87,
     "metadata": {},
     "output_type": "execute_result"
    }
   ],
   "source": [
    "np.divide(x, y)"
   ]
  },
  {
   "cell_type": "code",
   "execution_count": 88,
   "id": "7e784e57-4fe7-4c77-ba8c-517675fe9d89",
   "metadata": {},
   "outputs": [
    {
     "data": {
      "text/plain": [
       "array([[4.  , 3.5 ],\n",
       "       [1.  , 1.75]])"
      ]
     },
     "execution_count": 88,
     "metadata": {},
     "output_type": "execute_result"
    }
   ],
   "source": [
    "np.divide(y, x)"
   ]
  },
  {
   "cell_type": "code",
   "execution_count": 92,
   "id": "5540f0b9-429d-4ff8-bafa-494e2dfd49aa",
   "metadata": {},
   "outputs": [
    {
     "data": {
      "text/plain": [
       "17.0"
      ]
     },
     "execution_count": 92,
     "metadata": {},
     "output_type": "execute_result"
    }
   ],
   "source": [
    "np.sqrt(289)"
   ]
  },
  {
   "cell_type": "code",
   "execution_count": 93,
   "id": "5aab879d-5538-419f-8d4f-85f7197cbbcd",
   "metadata": {},
   "outputs": [
    {
     "data": {
      "text/plain": [
       "array([[10, 21],\n",
       "       [24, 49]])"
      ]
     },
     "execution_count": 93,
     "metadata": {},
     "output_type": "execute_result"
    }
   ],
   "source": [
    "np.matmul(x, y)"
   ]
  },
  {
   "cell_type": "code",
   "execution_count": 94,
   "id": "0a832524-e9bd-4df6-b5fd-151c23d9de7b",
   "metadata": {},
   "outputs": [
    {
     "data": {
      "text/plain": [
       "array([[10, 21],\n",
       "       [24, 49]])"
      ]
     },
     "execution_count": 94,
     "metadata": {},
     "output_type": "execute_result"
    }
   ],
   "source": [
    "np.dot(x, y)"
   ]
  },
  {
   "cell_type": "code",
   "execution_count": 95,
   "id": "62494bdd-1ac3-4069-a6d3-e43f16286cdf",
   "metadata": {},
   "outputs": [
    {
     "data": {
      "text/plain": [
       "array([[10, 21],\n",
       "       [24, 49]])"
      ]
     },
     "execution_count": 95,
     "metadata": {},
     "output_type": "execute_result"
    }
   ],
   "source": [
    "x@y"
   ]
  },
  {
   "cell_type": "code",
   "execution_count": null,
   "id": "82e89649-7e01-4899-99d2-3c38484271b5",
   "metadata": {},
   "outputs": [],
   "source": []
  }
 ],
 "metadata": {
  "kernelspec": {
   "display_name": "Python 3 (ipykernel)",
   "language": "python",
   "name": "python3"
  },
  "language_info": {
   "codemirror_mode": {
    "name": "ipython",
    "version": 3
   },
   "file_extension": ".py",
   "mimetype": "text/x-python",
   "name": "python",
   "nbconvert_exporter": "python",
   "pygments_lexer": "ipython3",
   "version": "3.12.7"
  }
 },
 "nbformat": 4,
 "nbformat_minor": 5
}
