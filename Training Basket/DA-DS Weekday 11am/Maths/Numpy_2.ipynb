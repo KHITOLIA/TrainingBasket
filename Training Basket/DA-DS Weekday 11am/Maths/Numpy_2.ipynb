{
 "cells": [
  {
   "cell_type": "code",
   "execution_count": 1,
   "id": "84df4104-8fe7-4547-90da-3b6208ee5004",
   "metadata": {},
   "outputs": [],
   "source": [
    "# is it a lotte choco pie? or numerical python"
   ]
  },
  {
   "cell_type": "code",
   "execution_count": 2,
   "id": "c9a2555a-57f5-4645-a47d-df82b8ddaa42",
   "metadata": {},
   "outputs": [],
   "source": [
    "x = 2\n",
    "y = 3*x**2\n",
    "y_ = 6*x  "
   ]
  },
  {
   "cell_type": "code",
   "execution_count": 3,
   "id": "8a6d0e7c-1c3c-4bd9-a1d3-65a84aaad7ff",
   "metadata": {},
   "outputs": [
    {
     "data": {
      "text/plain": [
       "12"
      ]
     },
     "execution_count": 3,
     "metadata": {},
     "output_type": "execute_result"
    }
   ],
   "source": [
    "y"
   ]
  },
  {
   "cell_type": "code",
   "execution_count": 4,
   "id": "6ddc316d-39a7-4b2f-99d4-b93cdad44eb3",
   "metadata": {},
   "outputs": [
    {
     "data": {
      "text/plain": [
       "12"
      ]
     },
     "execution_count": 4,
     "metadata": {},
     "output_type": "execute_result"
    }
   ],
   "source": [
    "y_"
   ]
  },
  {
   "cell_type": "code",
   "execution_count": 17,
   "id": "b09284ea-a163-4c02-99bb-7aab54cfa700",
   "metadata": {},
   "outputs": [],
   "source": [
    "y = (9*x + 7)**2"
   ]
  },
  {
   "cell_type": "code",
   "execution_count": 18,
   "id": "f5088bff-f5ca-4af1-bd7a-df1e0124313a",
   "metadata": {},
   "outputs": [],
   "source": [
    "y_ = 18*(9*x + 7)"
   ]
  },
  {
   "cell_type": "code",
   "execution_count": 19,
   "id": "52d08f57-54e6-4a63-bde5-4fd98245b901",
   "metadata": {},
   "outputs": [
    {
     "data": {
      "text/plain": [
       "625"
      ]
     },
     "execution_count": 19,
     "metadata": {},
     "output_type": "execute_result"
    }
   ],
   "source": [
    "y"
   ]
  },
  {
   "cell_type": "code",
   "execution_count": 20,
   "id": "c3bab1c8-6c09-4efc-8e74-cb3dab3d7c95",
   "metadata": {},
   "outputs": [
    {
     "data": {
      "text/plain": [
       "450"
      ]
     },
     "execution_count": 20,
     "metadata": {},
     "output_type": "execute_result"
    }
   ],
   "source": [
    "y_"
   ]
  },
  {
   "cell_type": "code",
   "execution_count": 23,
   "id": "c755f951-fb8e-4a25-be79-e9d6adbe165e",
   "metadata": {},
   "outputs": [
    {
     "data": {
      "text/plain": [
       "0.28"
      ]
     },
     "execution_count": 23,
     "metadata": {},
     "output_type": "execute_result"
    }
   ],
   "source": [
    "(y-y_)/y"
   ]
  },
  {
   "cell_type": "code",
   "execution_count": 26,
   "id": "c4e8ca8d-bddf-45f7-9488-f20e4cbe8a4b",
   "metadata": {},
   "outputs": [],
   "source": [
    "# Numpy\n",
    "import numpy as np"
   ]
  },
  {
   "cell_type": "code",
   "execution_count": 27,
   "id": "a8aa32a7-9b89-4963-8036-43c3aac5db87",
   "metadata": {},
   "outputs": [],
   "source": [
    "a = np.array([1, 2, 3, 4, 5])\n",
    "b = np.array([1, 2, 3, 4, 5])"
   ]
  },
  {
   "cell_type": "code",
   "execution_count": 28,
   "id": "ca3bec66-9b23-4ccd-9493-703e2a72e305",
   "metadata": {},
   "outputs": [
    {
     "data": {
      "text/plain": [
       "55"
      ]
     },
     "execution_count": 28,
     "metadata": {},
     "output_type": "execute_result"
    }
   ],
   "source": [
    "a.dot(b)"
   ]
  },
  {
   "cell_type": "code",
   "execution_count": 29,
   "id": "3d0a4a90-6031-4736-813d-d2e813925609",
   "metadata": {},
   "outputs": [
    {
     "data": {
      "text/plain": [
       "55"
      ]
     },
     "execution_count": 29,
     "metadata": {},
     "output_type": "execute_result"
    }
   ],
   "source": [
    "1 + 4 + 9 + 16 + 25"
   ]
  },
  {
   "cell_type": "code",
   "execution_count": 31,
   "id": "265f716d-d773-4c2b-aca2-a01b340facd1",
   "metadata": {},
   "outputs": [
    {
     "data": {
      "text/plain": [
       "15"
      ]
     },
     "execution_count": 31,
     "metadata": {},
     "output_type": "execute_result"
    }
   ],
   "source": [
    "np.sum(a)"
   ]
  },
  {
   "cell_type": "code",
   "execution_count": 32,
   "id": "27de6d45-aa3a-4596-adcf-be2cd857993d",
   "metadata": {},
   "outputs": [],
   "source": [
    "x = np.array([[1, 2], \n",
    "              [3, 4]])\n",
    "y = np.array([[4, 7],\n",
    "              [3, 7]])\n"
   ]
  },
  {
   "cell_type": "code",
   "execution_count": 33,
   "id": "286fc43d-384d-4574-be03-180504e2608a",
   "metadata": {},
   "outputs": [
    {
     "data": {
      "text/plain": [
       "10"
      ]
     },
     "execution_count": 33,
     "metadata": {},
     "output_type": "execute_result"
    }
   ],
   "source": [
    "np.sum(x)"
   ]
  },
  {
   "cell_type": "code",
   "execution_count": 34,
   "id": "64726494-4387-40fa-9a03-e69aca7a969e",
   "metadata": {},
   "outputs": [
    {
     "data": {
      "text/plain": [
       "array([4, 6])"
      ]
     },
     "execution_count": 34,
     "metadata": {},
     "output_type": "execute_result"
    }
   ],
   "source": [
    "np.sum(x, axis = 0 )"
   ]
  },
  {
   "cell_type": "code",
   "execution_count": 35,
   "id": "0a7597a9-1e00-4d5c-86a4-037969f6aff9",
   "metadata": {},
   "outputs": [
    {
     "data": {
      "text/plain": [
       "array([3, 7])"
      ]
     },
     "execution_count": 35,
     "metadata": {},
     "output_type": "execute_result"
    }
   ],
   "source": [
    "np.sum(x, axis = 1 )"
   ]
  },
  {
   "cell_type": "code",
   "execution_count": 36,
   "id": "5eb57736-7556-46dc-a1b2-d10ee133404f",
   "metadata": {},
   "outputs": [
    {
     "data": {
      "text/plain": [
       "array([ 7, 14])"
      ]
     },
     "execution_count": 36,
     "metadata": {},
     "output_type": "execute_result"
    }
   ],
   "source": [
    "np.sum(y, axis = 0)"
   ]
  },
  {
   "cell_type": "code",
   "execution_count": 37,
   "id": "0e57e85a-6f02-4c24-8c6a-5acae62f2715",
   "metadata": {},
   "outputs": [
    {
     "data": {
      "text/plain": [
       "array([11, 10])"
      ]
     },
     "execution_count": 37,
     "metadata": {},
     "output_type": "execute_result"
    }
   ],
   "source": [
    "np.sum(y, axis = 1)"
   ]
  },
  {
   "cell_type": "code",
   "execution_count": 38,
   "id": "bfaacd62-2ae7-4bd8-a21b-d8324909d525",
   "metadata": {},
   "outputs": [
    {
     "data": {
      "text/plain": [
       "array([1, 2, 3, 4, 5])"
      ]
     },
     "execution_count": 38,
     "metadata": {},
     "output_type": "execute_result"
    }
   ],
   "source": [
    "a "
   ]
  },
  {
   "cell_type": "code",
   "execution_count": 41,
   "id": "10e35b05-9191-43a9-8ecb-2fd3c6c6c1da",
   "metadata": {},
   "outputs": [
    {
     "data": {
      "text/plain": [
       "array([ 1,  4,  9, 16, 25])"
      ]
     },
     "execution_count": 41,
     "metadata": {},
     "output_type": "execute_result"
    }
   ],
   "source": [
    "# b = a**2\n",
    "b"
   ]
  },
  {
   "cell_type": "code",
   "execution_count": 40,
   "id": "49c81956-b202-41fc-bf16-88e08e2f1c04",
   "metadata": {},
   "outputs": [
    {
     "data": {
      "text/plain": [
       "array([[ 1,  2,  3,  4,  5],\n",
       "       [ 1,  4,  9, 16, 25]])"
      ]
     },
     "execution_count": 40,
     "metadata": {},
     "output_type": "execute_result"
    }
   ],
   "source": [
    "np.stack((a, b), axis = 0)"
   ]
  },
  {
   "cell_type": "code",
   "execution_count": 49,
   "id": "5815c224-abae-4560-8628-135356aa73f3",
   "metadata": {},
   "outputs": [
    {
     "data": {
      "text/plain": [
       "array([[[1, 2],\n",
       "        [3, 4]],\n",
       "\n",
       "       [[4, 7],\n",
       "        [3, 7]]])"
      ]
     },
     "execution_count": 49,
     "metadata": {},
     "output_type": "execute_result"
    }
   ],
   "source": [
    "np.stack((x, y), axis = 0)"
   ]
  },
  {
   "cell_type": "code",
   "execution_count": 50,
   "id": "983faa01-d726-4e17-8586-290b4e9a694d",
   "metadata": {},
   "outputs": [
    {
     "data": {
      "text/plain": [
       "array([[[1, 2],\n",
       "        [4, 7]],\n",
       "\n",
       "       [[3, 4],\n",
       "        [3, 7]]])"
      ]
     },
     "execution_count": 50,
     "metadata": {},
     "output_type": "execute_result"
    }
   ],
   "source": [
    "np.stack((x, y), axis = 1)"
   ]
  },
  {
   "cell_type": "code",
   "execution_count": 51,
   "id": "d6572730-bac3-4bd9-8442-750cd3694787",
   "metadata": {},
   "outputs": [
    {
     "data": {
      "text/plain": [
       "array([1, 2, 3, 4, 5])"
      ]
     },
     "execution_count": 51,
     "metadata": {},
     "output_type": "execute_result"
    }
   ],
   "source": [
    "a"
   ]
  },
  {
   "cell_type": "code",
   "execution_count": 52,
   "id": "53c7da14-6211-4dd7-a66f-0c800f63f196",
   "metadata": {},
   "outputs": [
    {
     "data": {
      "text/plain": [
       "array([[1, 2],\n",
       "       [3, 4]])"
      ]
     },
     "execution_count": 52,
     "metadata": {},
     "output_type": "execute_result"
    }
   ],
   "source": [
    "x"
   ]
  },
  {
   "cell_type": "code",
   "execution_count": 53,
   "id": "daf7c624-ec10-456b-a22f-cbf8b40d3b85",
   "metadata": {},
   "outputs": [],
   "source": [
    "rn_mat = np.random.random((8, 3))"
   ]
  },
  {
   "cell_type": "code",
   "execution_count": 54,
   "id": "ed2f9daa-bcdf-436f-aa2b-c6a8d27292b8",
   "metadata": {},
   "outputs": [
    {
     "data": {
      "text/plain": [
       "array([[0.96898703, 0.26808651, 0.92976822],\n",
       "       [0.09963769, 0.48366771, 0.70414833],\n",
       "       [0.32500405, 0.86114903, 0.37352927],\n",
       "       [0.19736685, 0.13308594, 0.99768264],\n",
       "       [0.10296421, 0.81396798, 0.49374526],\n",
       "       [0.55420111, 0.57926995, 0.9244585 ],\n",
       "       [0.65845571, 0.97551635, 0.19826641],\n",
       "       [0.60456813, 0.24194581, 0.76627421]])"
      ]
     },
     "execution_count": 54,
     "metadata": {},
     "output_type": "execute_result"
    }
   ],
   "source": [
    "rn_mat"
   ]
  },
  {
   "cell_type": "code",
   "execution_count": 55,
   "id": "50c11d15-0e02-4a49-894a-cde38f83ab7a",
   "metadata": {},
   "outputs": [],
   "source": [
    "rn_mat_transpose = rn_mat.T"
   ]
  },
  {
   "cell_type": "code",
   "execution_count": 60,
   "id": "ae9bafd9-747f-4be5-a64f-bbde509904ac",
   "metadata": {},
   "outputs": [
    {
     "data": {
      "text/plain": [
       "array([[0.96898703, 0.09963769, 0.32500405, 0.19736685, 0.10296421,\n",
       "        0.55420111, 0.65845571, 0.60456813],\n",
       "       [0.26808651, 0.48366771, 0.86114903, 0.13308594, 0.81396798,\n",
       "        0.57926995, 0.97551635, 0.24194581],\n",
       "       [0.92976822, 0.70414833, 0.37352927, 0.99768264, 0.49374526,\n",
       "        0.9244585 , 0.19826641, 0.76627421]])"
      ]
     },
     "execution_count": 60,
     "metadata": {},
     "output_type": "execute_result"
    }
   ],
   "source": [
    "rn_mat_transpose"
   ]
  },
  {
   "cell_type": "code",
   "execution_count": 63,
   "id": "dbc086e1-c460-4d95-a2db-8671369dd8d1",
   "metadata": {},
   "outputs": [
    {
     "data": {
      "text/plain": [
       "array([[0.96898703, 0.26808651, 0.92976822],\n",
       "       [0.09963769, 0.48366771, 0.70414833],\n",
       "       [0.32500405, 0.86114903, 0.37352927],\n",
       "       [0.19736685, 0.13308594, 0.99768264],\n",
       "       [0.10296421, 0.81396798, 0.49374526],\n",
       "       [0.55420111, 0.57926995, 0.9244585 ],\n",
       "       [0.65845571, 0.97551635, 0.19826641],\n",
       "       [0.60456813, 0.24194581, 0.76627421]])"
      ]
     },
     "execution_count": 63,
     "metadata": {},
     "output_type": "execute_result"
    }
   ],
   "source": [
    "# rn_mat_reshape = rn_mat.reshape((3, 8))\n",
    "rn_mat"
   ]
  },
  {
   "cell_type": "code",
   "execution_count": 62,
   "id": "b4999515-7af2-41fd-847e-b02d8715191a",
   "metadata": {},
   "outputs": [
    {
     "data": {
      "text/plain": [
       "array([[0.96898703, 0.26808651, 0.92976822, 0.09963769, 0.48366771,\n",
       "        0.70414833, 0.32500405, 0.86114903],\n",
       "       [0.37352927, 0.19736685, 0.13308594, 0.99768264, 0.10296421,\n",
       "        0.81396798, 0.49374526, 0.55420111],\n",
       "       [0.57926995, 0.9244585 , 0.65845571, 0.97551635, 0.19826641,\n",
       "        0.60456813, 0.24194581, 0.76627421]])"
      ]
     },
     "execution_count": 62,
     "metadata": {},
     "output_type": "execute_result"
    }
   ],
   "source": [
    "rn_mat_reshape"
   ]
  },
  {
   "cell_type": "code",
   "execution_count": null,
   "id": "72051ef7-2539-4afe-a6ff-17ed956695a3",
   "metadata": {},
   "outputs": [],
   "source": []
  }
 ],
 "metadata": {
  "kernelspec": {
   "display_name": "Python 3 (ipykernel)",
   "language": "python",
   "name": "python3"
  },
  "language_info": {
   "codemirror_mode": {
    "name": "ipython",
    "version": 3
   },
   "file_extension": ".py",
   "mimetype": "text/x-python",
   "name": "python",
   "nbconvert_exporter": "python",
   "pygments_lexer": "ipython3",
   "version": "3.12.7"
  }
 },
 "nbformat": 4,
 "nbformat_minor": 5
}
