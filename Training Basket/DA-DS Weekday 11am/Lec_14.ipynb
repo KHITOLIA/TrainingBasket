{
 "cells": [
  {
   "cell_type": "code",
   "execution_count": null,
   "id": "47738a9f-ac61-4501-87ea-3764a57b724c",
   "metadata": {},
   "outputs": [],
   "source": [
    "st = \"is awesome\"\n",
    "\n",
    "vowels = ['a', 'e', 'i', 'o', 'u']\n",
    "\n",
    "words = []\n",
    "\n",
    "word = \"\"\n",
    "\n",
    "for ch in st:\n",
    "\n",
    "    if ch != \" \":\n",
    "\n",
    "        word += ch\n",
    "\n",
    "    else:\n",
    "\n",
    "        words.append(word)\n",
    "\n",
    "        word = \"\"\n",
    "\n",
    "if word != \"\":\n",
    "\n",
    "    words.append(word)\n",
    "\n",
    "score = 0\n",
    "\n",
    "for w in words:\n",
    "\n",
    "    vcount = 0\n",
    "\n",
    "    for ch in w:\n",
    "\n",
    "        if ch in vowels:\n",
    "\n",
    "            vcount += 1\n",
    "\n",
    "    if vcount % 2 == 0:\n",
    "\n",
    "        score += 2\n",
    "\n",
    "    else:\n",
    "\n",
    "        score += 1\n",
    "\n",
    "print(\"Score:\", score)"
   ]
  },
  {
   "cell_type": "code",
   "execution_count": null,
   "id": "427737c5-107a-415f-977c-6d4c8b2b221e",
   "metadata": {},
   "outputs": [],
   "source": [
    "st = \"is awesome\"\n",
    "words = st.split()\n",
    "vowels = 'aeiouAEIOU'\n",
    "total_score = 0\n",
    "for word in words:\n",
    "    vowel_count = 0\n",
    "    for char in word:\n",
    "        if char in vowels:\n",
    "            vowel_count += 1  \n",
    "    if vowel_count % 2 == 0:\n",
    "        total_score += 2\n",
    "    else:\n",
    "        total_score += 1    \n",
    "            "
   ]
  },
  {
   "cell_type": "code",
   "execution_count": null,
   "id": "80659713-24b6-44f8-9098-549de1193cad",
   "metadata": {},
   "outputs": [],
   "source": [
    "total_score"
   ]
  },
  {
   "cell_type": "code",
   "execution_count": null,
   "id": "1594e4ad-0bda-47ed-924b-63c7a4a46f39",
   "metadata": {},
   "outputs": [],
   "source": [
    "a = 1222311\n",
    "a = str(a)\n",
    "l = []\n",
    "l1 = []\n",
    "for i in a:\n",
    "    if i not in l1:\n",
    "        l1.append((i))\n",
    "\n",
    "for number in l1:\n",
    "    l.append((int(number), a.count(number)))"
   ]
  },
  {
   "cell_type": "code",
   "execution_count": null,
   "id": "25200163-a177-4b34-9cd3-bf2509f89acf",
   "metadata": {},
   "outputs": [],
   "source": [
    "l"
   ]
  },
  {
   "cell_type": "code",
   "execution_count": null,
   "id": "5a5c5b27-f1e8-40ad-b77d-1cffd62d8b21",
   "metadata": {},
   "outputs": [],
   "source": [
    "st = \"AABCAAADA\"\n",
    "l = len(st)/3\n",
    "i = 0\n",
    "n = 3\n",
    "a = \"\"\n",
    "while l > 0:\n",
    "    a = a + st[i:n-1]\n",
    "    i = n\n",
    "    n = n + 3\n",
    "    l = l - 1"
   ]
  },
  {
   "cell_type": "code",
   "execution_count": null,
   "id": "39e882d4-1977-4b07-aad2-0e7af5b398d9",
   "metadata": {},
   "outputs": [],
   "source": [
    "a"
   ]
  },
  {
   "cell_type": "code",
   "execution_count": null,
   "id": "b415a10a-d911-43d0-92da-83eafdd0a289",
   "metadata": {},
   "outputs": [],
   "source": [
    "count = 2\n",
    "for i in range(len(st)):\n",
    "    if i == count:\n",
    "        count+= 3\n",
    "        continue\n",
    "    else:\n",
    "        print(st[i], end = \"\")"
   ]
  },
  {
   "cell_type": "code",
   "execution_count": null,
   "id": "72a8b104-81b0-4482-84a6-7d490ea85f4b",
   "metadata": {},
   "outputs": [],
   "source": [
    "def find_angle(ab, bc):\n",
    "\n",
    "    ac = (ab**2 + bc**2) ** 0.5\n",
    "    cos_theta = ab / ac  \n",
    "    if round(cos_theta, 1) == 0.6:\n",
    "        angle = 53.13\n",
    "    elif round(cos_theta, 1) == 0.5:\n",
    "        angle = 60\n",
    "    elif round(cos_theta, 1) == 0.7:\n",
    "        angle = 45.57\n",
    "    else:\n",
    "        angle = \"Unknown (cos = \" + str(round(cos_theta, 2)) + \")\"\n",
    "\n",
    " \n",
    "\n",
    "    print(\"Angle ∠CAB is:\", angle, \"degrees\")"
   ]
  },
  {
   "cell_type": "code",
   "execution_count": null,
   "id": "d90a23f7-cb42-4cf1-9d82-355ec00f751d",
   "metadata": {},
   "outputs": [],
   "source": [
    "find_angle(3, 4)"
   ]
  },
  {
   "cell_type": "code",
   "execution_count": null,
   "id": "21a5e270-fce5-44c1-b8c5-a2f86f17696b",
   "metadata": {},
   "outputs": [],
   "source": [
    "import math"
   ]
  },
  {
   "cell_type": "code",
   "execution_count": null,
   "id": "8fed0579-bbbc-46ab-b3c0-9974ca261c93",
   "metadata": {},
   "outputs": [],
   "source": [
    "def angle_func(ab, bc):\n",
    "    tan0_acb = ab/bc\n",
    "    radian_tan0 = math.atan(tan0_acb) # when you want to find inverse of any angle\n",
    "    angle_c = math.degrees(radian_tan0)\n",
    "    angle_mbc = 180 - (90 + angle_c)  # angle sum property\n",
    "    return angle_mbc"
   ]
  },
  {
   "cell_type": "code",
   "execution_count": null,
   "id": "ac1133ad-549c-41fc-8132-2288b53d2b91",
   "metadata": {},
   "outputs": [],
   "source": [
    "angle_func(5, 4)"
   ]
  },
  {
   "cell_type": "code",
   "execution_count": 68,
   "id": "3f304b6a-256f-4243-b8ed-44e5f99df6f2",
   "metadata": {},
   "outputs": [],
   "source": [
    "st = \"programming is awesome\"\n",
    "words = st.split()\n",
    "vowels = 'aeiouAEIOU'\n",
    "total_score = 0\n",
    "for word in words:\n",
    "    vowel_count = 0\n",
    "    for char in word:\n",
    "        if char in vowels:\n",
    "            vowel_count += 1  \n",
    "    if vowel_count % 2 == 0:\n",
    "        total_score += 2\n",
    "    else:\n",
    "        total_score += 1    \n",
    "            "
   ]
  },
  {
   "cell_type": "code",
   "execution_count": 69,
   "id": "98d1ef43-6dee-42b5-aa86-89b778e96289",
   "metadata": {},
   "outputs": [],
   "source": [
    "# find all the prime numbers below 50\n",
    "# st = \"The quick fox jumps over the box\"\n",
    "# make a dict and consonants : 'consonants' and vowel : 'vowels'"
   ]
  },
  {
   "cell_type": "code",
   "execution_count": null,
   "id": "fe93fecd-2442-41c8-a1da-0fc34250dae0",
   "metadata": {},
   "outputs": [],
   "source": [
    "# t : 'c'\n",
    "# a : 'v'\n",
    "# don't accept the repeation"
   ]
  }
 ],
 "metadata": {
  "kernelspec": {
   "display_name": "Python 3 (ipykernel)",
   "language": "python",
   "name": "python3"
  },
  "language_info": {
   "codemirror_mode": {
    "name": "ipython",
    "version": 3
   },
   "file_extension": ".py",
   "mimetype": "text/x-python",
   "name": "python",
   "nbconvert_exporter": "python",
   "pygments_lexer": "ipython3",
   "version": "3.12.7"
  }
 },
 "nbformat": 4,
 "nbformat_minor": 5
}
