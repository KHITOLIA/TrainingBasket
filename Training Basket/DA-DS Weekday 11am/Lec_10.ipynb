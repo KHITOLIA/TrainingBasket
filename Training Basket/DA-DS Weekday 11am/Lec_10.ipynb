{
 "cells": [
  {
   "cell_type": "code",
   "execution_count": 12,
   "id": "8da19841-a27d-4cde-949e-104521b18af3",
   "metadata": {},
   "outputs": [
    {
     "name": "stdout",
     "output_type": "stream",
     "text": [
      "2\n",
      "3\n",
      "4\n",
      "Tushar\n",
      "7\n",
      "Heemang\n",
      "True\n",
      "49.98\n",
      "[2, 3, True, range(0, 6), 'hi']\n"
     ]
    }
   ],
   "source": [
    "l1 = [2, 3, 4, 'Tushar', 7, 'Heemang', True, 49.98, [2, 3, True, range(0, 6), 'hi']]\n",
    "for i in l1:\n",
    "    print(i)"
   ]
  },
  {
   "cell_type": "code",
   "execution_count": 2,
   "id": "88eb6e65-c10c-44c4-b863-2ed9042deb17",
   "metadata": {},
   "outputs": [],
   "source": [
    "l2 = []\n",
    "for i in l1:\n",
    "    l2.insert(0, i)\n",
    "    "
   ]
  },
  {
   "cell_type": "code",
   "execution_count": 3,
   "id": "afcc68a9-3e2c-4e13-bcbf-248b8832ac7d",
   "metadata": {},
   "outputs": [
    {
     "data": {
      "text/plain": [
       "[[2, 3, True, range(0, 6), 'hi'], 49.98, True, 'Heemang', 7, 'Tushar', 4, 3, 2]"
      ]
     },
     "execution_count": 3,
     "metadata": {},
     "output_type": "execute_result"
    }
   ],
   "source": [
    "l2"
   ]
  },
  {
   "cell_type": "code",
   "execution_count": 4,
   "id": "dbe6a193-158e-40b4-8cc9-d9a6aba31767",
   "metadata": {},
   "outputs": [],
   "source": [
    "st = 'This is data analysis'"
   ]
  },
  {
   "cell_type": "code",
   "execution_count": 6,
   "id": "fd058fbd-1110-4637-8531-997df771da78",
   "metadata": {},
   "outputs": [],
   "source": [
    "l = st.split()"
   ]
  },
  {
   "cell_type": "code",
   "execution_count": 7,
   "id": "080ed3cc-74cf-4ff3-a2a5-3cdc12f3c94f",
   "metadata": {},
   "outputs": [
    {
     "data": {
      "text/plain": [
       "['This', 'is', 'data', 'analysis']"
      ]
     },
     "execution_count": 7,
     "metadata": {},
     "output_type": "execute_result"
    }
   ],
   "source": [
    "l "
   ]
  },
  {
   "cell_type": "code",
   "execution_count": 8,
   "id": "85e2b93a-5928-4e39-9c6f-3f3be444c23f",
   "metadata": {},
   "outputs": [],
   "source": [
    "L = []\n",
    "for i in l:\n",
    "    L.insert(0, i)"
   ]
  },
  {
   "cell_type": "code",
   "execution_count": 9,
   "id": "282d52c9-3959-4833-8a22-6d24f48bf89d",
   "metadata": {},
   "outputs": [
    {
     "data": {
      "text/plain": [
       "['analysis', 'data', 'is', 'This']"
      ]
     },
     "execution_count": 9,
     "metadata": {},
     "output_type": "execute_result"
    }
   ],
   "source": [
    "L"
   ]
  },
  {
   "cell_type": "code",
   "execution_count": 13,
   "id": "9812dc27-4a62-45ff-a90f-a13234e68f1d",
   "metadata": {},
   "outputs": [
    {
     "data": {
      "text/plain": [
       "['This', 'is', 'data', 'analysis']"
      ]
     },
     "execution_count": 13,
     "metadata": {},
     "output_type": "execute_result"
    }
   ],
   "source": [
    "l"
   ]
  },
  {
   "cell_type": "code",
   "execution_count": 22,
   "id": "fe484544-dce8-4f7b-bd48-e46210e920a4",
   "metadata": {},
   "outputs": [
    {
     "name": "stdout",
     "output_type": "stream",
     "text": [
      "This\n"
     ]
    }
   ],
   "source": [
    "print(l[0])"
   ]
  },
  {
   "cell_type": "code",
   "execution_count": 15,
   "id": "41f17b3e-8f48-405c-b044-bea7907059c9",
   "metadata": {},
   "outputs": [
    {
     "data": {
      "text/plain": [
       "['This', 'is', 'data', 'analysis']"
      ]
     },
     "execution_count": 15,
     "metadata": {},
     "output_type": "execute_result"
    }
   ],
   "source": [
    "l"
   ]
  },
  {
   "cell_type": "code",
   "execution_count": 17,
   "id": "e53982d0-c13c-4b56-a130-5a036b80c3e5",
   "metadata": {},
   "outputs": [
    {
     "data": {
      "text/plain": [
       "['analysis', 'data', 'is', 'This']"
      ]
     },
     "execution_count": 17,
     "metadata": {},
     "output_type": "execute_result"
    }
   ],
   "source": [
    "L"
   ]
  },
  {
   "cell_type": "code",
   "execution_count": 32,
   "id": "8d6b9869-e3e8-4f56-a2e3-6162842dea7c",
   "metadata": {},
   "outputs": [
    {
     "name": "stdout",
     "output_type": "stream",
     "text": [
      "sisylana\n",
      "atad\n",
      "si\n",
      "sihT\n"
     ]
    }
   ],
   "source": [
    "lis = []\n",
    "for element in L:\n",
    "    rev_st = \"\"\n",
    "    for char in element:\n",
    "        rev_st = char + rev_st\n",
    "    print(rev_st)\n",
    "    lis.append(rev_st)"
   ]
  },
  {
   "cell_type": "code",
   "execution_count": 28,
   "id": "47d40960-de79-44cd-aeca-2fc87f3366b9",
   "metadata": {},
   "outputs": [],
   "source": [
    "rev = \"\"\n",
    "for i in l[0]:\n",
    "    rev = i + rev"
   ]
  },
  {
   "cell_type": "code",
   "execution_count": 33,
   "id": "8c520c16-075e-4b3d-aa76-e89c828efcad",
   "metadata": {},
   "outputs": [
    {
     "data": {
      "text/plain": [
       "['sisylana', 'atad', 'si', 'sihT']"
      ]
     },
     "execution_count": 33,
     "metadata": {},
     "output_type": "execute_result"
    }
   ],
   "source": [
    "lis"
   ]
  },
  {
   "cell_type": "code",
   "execution_count": 34,
   "id": "df604dad-1993-49c0-9e8e-943a0105ee85",
   "metadata": {},
   "outputs": [
    {
     "data": {
      "text/plain": [
       "'This is data analysis'"
      ]
     },
     "execution_count": 34,
     "metadata": {},
     "output_type": "execute_result"
    }
   ],
   "source": [
    "st"
   ]
  },
  {
   "cell_type": "code",
   "execution_count": 35,
   "id": "4850ad14-a4a4-4487-a354-c27a9363bc73",
   "metadata": {},
   "outputs": [],
   "source": [
    "st = st.upper()"
   ]
  },
  {
   "cell_type": "code",
   "execution_count": 36,
   "id": "5b1e376f-bb77-4ea1-888d-e76aad3415a6",
   "metadata": {},
   "outputs": [
    {
     "data": {
      "text/plain": [
       "'THIS IS DATA ANALYSIS'"
      ]
     },
     "execution_count": 36,
     "metadata": {},
     "output_type": "execute_result"
    }
   ],
   "source": [
    "st"
   ]
  },
  {
   "cell_type": "code",
   "execution_count": 37,
   "id": "9bf799d1-3fe0-48de-86d3-ab301224cca3",
   "metadata": {},
   "outputs": [
    {
     "name": "stdout",
     "output_type": "stream",
     "text": [
      "Occurence of  T 2\n",
      "Occurence of  H 1\n",
      "Occurence of  I 3\n",
      "Occurence of  S 4\n",
      "Occurence of    3\n",
      "Occurence of  D 1\n",
      "Occurence of  A 4\n",
      "Occurence of  N 1\n",
      "Occurence of  L 1\n",
      "Occurence of  Y 1\n"
     ]
    }
   ],
   "source": [
    "b = []\n",
    "for i in st:\n",
    "    if i not in b:\n",
    "        b.append(i)\n",
    "        no_occur = st.count(i)\n",
    "        print(\"Occurence of \", i , no_occur )"
   ]
  },
  {
   "cell_type": "code",
   "execution_count": 38,
   "id": "f7496eb8-4eb6-4316-949b-48fb456ea08f",
   "metadata": {},
   "outputs": [
    {
     "name": "stdout",
     "output_type": "stream",
     "text": [
      "The largest number is: 25\n"
     ]
    }
   ],
   "source": [
    "numbers = [5, 10, 12, 8, 25]\n",
    "\n",
    "largest = numbers[0]\n",
    "\n",
    "for i in range(1, len(numbers)):\n",
    "\n",
    "    if numbers[i] > largest:\n",
    "\n",
    "        largest = numbers[i]\n",
    "\n",
    "print(\"The largest number is:\", largest)"
   ]
  },
  {
   "cell_type": "code",
   "execution_count": 39,
   "id": "ea643b05-d844-4bfb-9f48-d6cef95967b8",
   "metadata": {},
   "outputs": [
    {
     "name": "stdout",
     "output_type": "stream",
     "text": [
      "25\n"
     ]
    }
   ],
   "source": [
    "L = [5, 10,12,8,25]\n",
    "large = max(L)\n",
    "print( large)"
   ]
  },
  {
   "cell_type": "code",
   "execution_count": 40,
   "id": "75ab5a2f-bbb9-45d9-8635-6ee485436769",
   "metadata": {},
   "outputs": [
    {
     "name": "stdout",
     "output_type": "stream",
     "text": [
      "25\n"
     ]
    }
   ],
   "source": [
    "numbers = [5, 10, 12, 8, 25]\n",
    "\n",
    "largest = numbers[0]\n",
    "for num in numbers:\n",
    "    if num > largest:\n",
    "        largest = num\n",
    "print(largest)        "
   ]
  },
  {
   "cell_type": "code",
   "execution_count": 47,
   "id": "2560c750-c542-46da-9ae8-6a1e6e8f2b4f",
   "metadata": {},
   "outputs": [
    {
     "name": "stdout",
     "output_type": "stream",
     "text": [
      "largest number 25\n"
     ]
    }
   ],
   "source": [
    "number = [5, 10, 12, 8, 25]\n",
    "\n",
    "maximum = number[0]\n",
    "\n",
    "for num in number:\n",
    "    if num > maximum:\n",
    "        maximum = num\n",
    "\n",
    "print(\"largest number\", maximum)"
   ]
  },
  {
   "cell_type": "code",
   "execution_count": 46,
   "id": "80883c82-62a8-47e9-ac1e-944e6e234966",
   "metadata": {},
   "outputs": [
    {
     "name": "stdout",
     "output_type": "stream",
     "text": [
      "largest number  25\n"
     ]
    }
   ],
   "source": [
    "number = [5, 10, 12, 8, 25]\n",
    "maximum = number[0]\n",
    "\n",
    "for num in number:\n",
    "    if num > maximum:\n",
    "        maximum = num\n",
    "print(\"largest number \", maximum)        "
   ]
  },
  {
   "cell_type": "code",
   "execution_count": 56,
   "id": "47cef0cf-a412-4992-a97c-7475ddd430ca",
   "metadata": {},
   "outputs": [],
   "source": [
    "a = [2,2,3,4,4,5,6]\n",
    "b = []\n",
    "for i in a:\n",
    "    if i not in b:\n",
    "        b.append(i)"
   ]
  },
  {
   "cell_type": "code",
   "execution_count": 57,
   "id": "31ee8078-3106-43d7-9a96-6572079bef6e",
   "metadata": {},
   "outputs": [
    {
     "data": {
      "text/plain": [
       "[2, 3, 4, 5, 6]"
      ]
     },
     "execution_count": 57,
     "metadata": {},
     "output_type": "execute_result"
    }
   ],
   "source": [
    "b"
   ]
  },
  {
   "cell_type": "code",
   "execution_count": 58,
   "id": "74064f31-116d-4faa-9e2e-693bc7676691",
   "metadata": {},
   "outputs": [],
   "source": [
    "a = [2,2,3,4,4,5,6]\n",
    "common = []\n",
    "for i in a:"
   ]
  },
  {
   "cell_type": "code",
   "execution_count": 60,
   "id": "b582f373-7cf3-49bb-a8bd-fd321ba3b4c1",
   "metadata": {},
   "outputs": [
    {
     "name": "stdout",
     "output_type": "stream",
     "text": [
      "Repeated values are: [2, 4]\n"
     ]
    }
   ],
   "source": [
    "a = [2, 2, 3, 4, 4, 5, 6, 8]\n",
    "\n",
    "repeated = []\n",
    "\n",
    "for i in range(len(a)):\n",
    "\n",
    "    for j in range(i + 1, len(a)):\n",
    "\n",
    "        if a[i] == a[j]:\n",
    "\n",
    "            repeated.append(a[i])\n",
    "\n",
    "print(\"Repeated values are:\", repeated)"
   ]
  },
  {
   "cell_type": "code",
   "execution_count": 61,
   "id": "a88885bc-f9fe-45ac-98da-facf3894f111",
   "metadata": {},
   "outputs": [],
   "source": [
    "# a = [2,2,3,4,5,6,6,7,7]\n",
    "# b = [3,4,4,5,5,6,7]\n",
    "# find the common element from both the list\n"
   ]
  },
  {
   "cell_type": "code",
   "execution_count": 64,
   "id": "8071e147-e4bc-4d5e-8ba6-d850761263e9",
   "metadata": {},
   "outputs": [
    {
     "ename": "NameError",
     "evalue": "name 'common' is not defined",
     "output_type": "error",
     "traceback": [
      "\u001b[1;31m---------------------------------------------------------------------------\u001b[0m",
      "\u001b[1;31mNameError\u001b[0m                                 Traceback (most recent call last)",
      "Cell \u001b[1;32mIn[64], line 13\u001b[0m\n\u001b[0;32m      9\u001b[0m     \u001b[38;5;28;01mif\u001b[39;00m element \u001b[38;5;129;01mnot\u001b[39;00m \u001b[38;5;129;01min\u001b[39;00m common:\n\u001b[0;32m     11\u001b[0m       a\u001b[38;5;241m.\u001b[39mappend(element)\n\u001b[1;32m---> 13\u001b[0m \u001b[38;5;28mprint\u001b[39m(\u001b[38;5;124m\"\u001b[39m\u001b[38;5;124mcommon element\u001b[39m\u001b[38;5;124m\"\u001b[39m, common)\n",
      "\u001b[1;31mNameError\u001b[0m: name 'common' is not defined"
     ]
    }
   ],
   "source": [
    "a = [2,2,3,4,5,6,6]\n",
    "\n",
    "b = []\n",
    "\n",
    "for element in a:\n",
    "\n",
    "  if element in b:\n",
    "\n",
    "    if element not in common:\n",
    "\n",
    "      a.append(element)\n",
    "\n",
    "      print(\"common element\", common)"
   ]
  },
  {
   "cell_type": "code",
   "execution_count": 65,
   "id": "27e2bd29-07b0-46db-949e-e49d10467d99",
   "metadata": {},
   "outputs": [],
   "source": [
    "a = []\n",
    "b = 0\n",
    "for i in range(1,10):\n",
    "    a.append(i)\n",
    "    b"
   ]
  },
  {
   "cell_type": "code",
   "execution_count": 66,
   "id": "590e3117-077f-4cc4-9e30-1ee2565b9413",
   "metadata": {},
   "outputs": [
    {
     "data": {
      "text/plain": [
       "[1, 2, 3, 4, 5, 6, 7, 8, 9]"
      ]
     },
     "execution_count": 66,
     "metadata": {},
     "output_type": "execute_result"
    }
   ],
   "source": [
    "a"
   ]
  },
  {
   "cell_type": "code",
   "execution_count": 67,
   "id": "ccfa860b-fb3c-4b30-b7b6-d18abf8de2c1",
   "metadata": {},
   "outputs": [
    {
     "data": {
      "text/plain": [
       "9"
      ]
     },
     "execution_count": 67,
     "metadata": {},
     "output_type": "execute_result"
    }
   ],
   "source": [
    "a.pop()"
   ]
  },
  {
   "cell_type": "code",
   "execution_count": 68,
   "id": "ae3685ef-f435-48f5-9777-672d1fb3ac8c",
   "metadata": {},
   "outputs": [
    {
     "data": {
      "text/plain": [
       "[1, 2, 3, 4, 5, 6, 7, 8]"
      ]
     },
     "execution_count": 68,
     "metadata": {},
     "output_type": "execute_result"
    }
   ],
   "source": [
    "a"
   ]
  },
  {
   "cell_type": "code",
   "execution_count": 69,
   "id": "9e9336e6-49bd-4930-8026-07b13bb163a8",
   "metadata": {},
   "outputs": [
    {
     "data": {
      "text/plain": [
       "5"
      ]
     },
     "execution_count": 69,
     "metadata": {},
     "output_type": "execute_result"
    }
   ],
   "source": [
    "a.pop(4)"
   ]
  },
  {
   "cell_type": "code",
   "execution_count": 70,
   "id": "e8c1ec4e-c508-411f-b7ec-54cf4599a835",
   "metadata": {},
   "outputs": [
    {
     "data": {
      "text/plain": [
       "[1, 2, 3, 4, 6, 7, 8]"
      ]
     },
     "execution_count": 70,
     "metadata": {},
     "output_type": "execute_result"
    }
   ],
   "source": [
    "a"
   ]
  },
  {
   "cell_type": "code",
   "execution_count": 71,
   "id": "aed93f2b-e850-4dfa-a21e-55378368c3d6",
   "metadata": {},
   "outputs": [
    {
     "data": {
      "text/plain": [
       "3"
      ]
     },
     "execution_count": 71,
     "metadata": {},
     "output_type": "execute_result"
    }
   ],
   "source": [
    "name = ['sumit', 'tushar','nagesh']\n",
    "len(name)"
   ]
  },
  {
   "cell_type": "code",
   "execution_count": 76,
   "id": "d6d77ba6-ef76-406b-9837-3aa5663385fe",
   "metadata": {},
   "outputs": [],
   "source": [
    "c = 0\n",
    "for i in range(len(name)):\n",
    "    if name[i] == 'Sumit':\n",
    "        c += 1\n",
    "    else:\n",
    "        pass"
   ]
  },
  {
   "cell_type": "code",
   "execution_count": 77,
   "id": "9e35c432-b3f0-4e27-b40e-06f361d7f416",
   "metadata": {},
   "outputs": [
    {
     "data": {
      "text/plain": [
       "0"
      ]
     },
     "execution_count": 77,
     "metadata": {},
     "output_type": "execute_result"
    }
   ],
   "source": [
    "c"
   ]
  },
  {
   "cell_type": "code",
   "execution_count": 87,
   "id": "1dd990bc-0750-4ac8-b8de-7982236ac579",
   "metadata": {},
   "outputs": [],
   "source": [
    "def sum(a,b):\n",
    "    return a+b"
   ]
  },
  {
   "cell_type": "code",
   "execution_count": 88,
   "id": "00b18400-aaeb-4cdb-a3e7-037a53d4eb35",
   "metadata": {},
   "outputs": [
    {
     "data": {
      "text/plain": [
       "7"
      ]
     },
     "execution_count": 88,
     "metadata": {},
     "output_type": "execute_result"
    }
   ],
   "source": [
    "sum(3,4)"
   ]
  },
  {
   "cell_type": "code",
   "execution_count": 89,
   "id": "8c55f9a0-62c6-4177-98ea-4a651e6aa0ce",
   "metadata": {},
   "outputs": [],
   "source": [
    "a = sum(3,4)"
   ]
  },
  {
   "cell_type": "code",
   "execution_count": 90,
   "id": "4756b96a-c362-48bf-8b8a-7c91fdd15da9",
   "metadata": {},
   "outputs": [
    {
     "name": "stdout",
     "output_type": "stream",
     "text": [
      "7\n"
     ]
    }
   ],
   "source": [
    "print(a)"
   ]
  },
  {
   "cell_type": "code",
   "execution_count": 93,
   "id": "14c0d942-665b-4b9d-9ca3-55c9a9894fdb",
   "metadata": {},
   "outputs": [
    {
     "name": "stdout",
     "output_type": "stream",
     "text": [
      "hey\n"
     ]
    }
   ],
   "source": [
    "a = 10\n",
    "if a< 8:\n",
    "    print(\"wow\")\n",
    "if a<5:\n",
    "    print(\"hi\")\n",
    "elif a<7:\n",
    "    print(\"hello\") \n",
    "else:\n",
    "    print(\"hey\")"
   ]
  },
  {
   "cell_type": "code",
   "execution_count": 106,
   "id": "c0113b18-2fd2-4ca2-b0b4-9b884e18d827",
   "metadata": {},
   "outputs": [
    {
     "name": "stdout",
     "output_type": "stream",
     "text": [
      "prime number\n"
     ]
    }
   ],
   "source": [
    "n = 53\n",
    "fact = 0\n",
    "for i in range(1, n+1):\n",
    "    if n%i == 0:\n",
    "        fact += 1\n",
    "if fact > 2:\n",
    "    print(\"Not prime number\")\n",
    "else:\n",
    "    print(\"prime number\")"
   ]
  },
  {
   "cell_type": "code",
   "execution_count": 105,
   "id": "9bb549f1-e360-4d77-8ff2-5d92f10515df",
   "metadata": {},
   "outputs": [
    {
     "data": {
      "text/plain": [
       "2"
      ]
     },
     "execution_count": 105,
     "metadata": {},
     "output_type": "execute_result"
    }
   ],
   "source": [
    "fact"
   ]
  },
  {
   "cell_type": "code",
   "execution_count": 114,
   "id": "e84970e1-cbb4-4411-a306-e81ead834728",
   "metadata": {},
   "outputs": [
    {
     "name": "stdin",
     "output_type": "stream",
     "text": [
      "enter  8\n"
     ]
    },
    {
     "name": "stdout",
     "output_type": "stream",
     "text": [
      "not a prime\n",
      "not a prime\n"
     ]
    }
   ],
   "source": [
    "n = int(input(\"enter \"))\n",
    "for i in range(2, 8):\n",
    "    if n%i == 0 and n!=i:\n",
    "        print(\"not a prime\")\n",
    "        "
   ]
  },
  {
   "cell_type": "code",
   "execution_count": 107,
   "id": "9a7d4b3c-9ef9-4a33-b8ac-b2f4cd3cc8af",
   "metadata": {},
   "outputs": [
    {
     "data": {
      "text/plain": [
       "12345"
      ]
     },
     "execution_count": 107,
     "metadata": {},
     "output_type": "execute_result"
    }
   ],
   "source": [
    "12345"
   ]
  },
  {
   "cell_type": "code",
   "execution_count": 112,
   "id": "abb44527-07ba-4dc0-bd29-116aaf42d5f4",
   "metadata": {},
   "outputs": [],
   "source": [
    "n = 2345\n",
    "digit = 0\n",
    "while (n > 0):\n",
    "    r = n%10 # reminder\n",
    "    n = n//10 # qoutioent\n",
    "    digit = digit*10 + r"
   ]
  },
  {
   "cell_type": "code",
   "execution_count": 113,
   "id": "aff30251-2277-4eac-af77-3716bd53df6e",
   "metadata": {},
   "outputs": [
    {
     "data": {
      "text/plain": [
       "5432"
      ]
     },
     "execution_count": 113,
     "metadata": {},
     "output_type": "execute_result"
    }
   ],
   "source": [
    "digit "
   ]
  },
  {
   "cell_type": "code",
   "execution_count": null,
   "id": "4e669bb4-215e-4850-8424-acdd7d50f79a",
   "metadata": {},
   "outputs": [],
   "source": []
  }
 ],
 "metadata": {
  "kernelspec": {
   "display_name": "Python 3 (ipykernel)",
   "language": "python",
   "name": "python3"
  },
  "language_info": {
   "codemirror_mode": {
    "name": "ipython",
    "version": 3
   },
   "file_extension": ".py",
   "mimetype": "text/x-python",
   "name": "python",
   "nbconvert_exporter": "python",
   "pygments_lexer": "ipython3",
   "version": "3.12.7"
  }
 },
 "nbformat": 4,
 "nbformat_minor": 5
}
