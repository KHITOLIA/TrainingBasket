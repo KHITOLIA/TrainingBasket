{
 "cells": [
  {
   "cell_type": "markdown",
   "id": "9ef9b9bb-da34-491c-8dba-354c90a0d95b",
   "metadata": {},
   "source": [
    "# Loop\n",
    "1. For\n",
    "2. While"
   ]
  },
  {
   "cell_type": "code",
   "execution_count": 4,
   "id": "06b4af9d-a203-46ec-a494-438c87aa6414",
   "metadata": {},
   "outputs": [
    {
     "name": "stdout",
     "output_type": "stream",
     "text": [
      "4321"
     ]
    }
   ],
   "source": [
    "a = 4 \n",
    "while a > 0:\n",
    "    print(a, end = \"\")\n",
    "    a = a - 1"
   ]
  },
  {
   "cell_type": "code",
   "execution_count": 6,
   "id": "de077a4f-1bde-4ada-b6d7-9bd999ed0636",
   "metadata": {},
   "outputs": [
    {
     "name": "stdout",
     "output_type": "stream",
     "text": [
      "0\n",
      "1\n",
      "2\n"
     ]
    }
   ],
   "source": [
    "for i in range(3):\n",
    "    if i==2:\n",
    "        for j in range(3):\n",
    "            print(j)"
   ]
  },
  {
   "cell_type": "code",
   "execution_count": 13,
   "id": "469da1ee-c1ee-434d-9aff-49eb6dc12c5a",
   "metadata": {},
   "outputs": [
    {
     "name": "stdout",
     "output_type": "stream",
     "text": [
      "0\n",
      "1\n",
      "Tushar\n"
     ]
    }
   ],
   "source": [
    "for i in range(500):\n",
    "    if i == 2:\n",
    "        print(\"Tushar\")\n",
    "        break\n",
    "    else:\n",
    "        print(i)"
   ]
  },
  {
   "cell_type": "code",
   "execution_count": 16,
   "id": "34a46297-79fa-4282-b031-eccae78e3212",
   "metadata": {},
   "outputs": [
    {
     "name": "stdin",
     "output_type": "stream",
     "text": [
      "enter the value :  6\n"
     ]
    },
    {
     "name": "stdout",
     "output_type": "stream",
     "text": [
      "6\n"
     ]
    },
    {
     "name": "stdin",
     "output_type": "stream",
     "text": [
      "enter the value :  8\n"
     ]
    },
    {
     "name": "stdout",
     "output_type": "stream",
     "text": [
      "8\n"
     ]
    },
    {
     "name": "stdin",
     "output_type": "stream",
     "text": [
      "enter the value :  7\n"
     ]
    },
    {
     "name": "stdout",
     "output_type": "stream",
     "text": [
      "Code goes to the next iteration\n"
     ]
    },
    {
     "name": "stdin",
     "output_type": "stream",
     "text": [
      "enter the value :  0\n"
     ]
    }
   ],
   "source": [
    "for i in range(10):\n",
    "    a = int(input(\"enter the value : \"))\n",
    "    if a == 7:\n",
    "        print(\"Code goes to the next iteration\")\n",
    "        continue\n",
    "    elif a == 0:\n",
    "        break\n",
    "    print(a)    "
   ]
  },
  {
   "cell_type": "code",
   "execution_count": 17,
   "id": "a091e032-587b-46a2-976c-838f9bcf6015",
   "metadata": {},
   "outputs": [
    {
     "name": "stdin",
     "output_type": "stream",
     "text": [
      "Enter your actual Password :  Tushar\n",
      "Enter the password :  dfds\n"
     ]
    },
    {
     "name": "stdout",
     "output_type": "stream",
     "text": [
      "Enter correct password\n"
     ]
    },
    {
     "name": "stdin",
     "output_type": "stream",
     "text": [
      "Enter the password :  asas\n"
     ]
    },
    {
     "name": "stdout",
     "output_type": "stream",
     "text": [
      "Enter correct password\n"
     ]
    },
    {
     "name": "stdin",
     "output_type": "stream",
     "text": [
      "Enter the password :  asa\n"
     ]
    },
    {
     "name": "stdout",
     "output_type": "stream",
     "text": [
      "Enter correct password\n"
     ]
    },
    {
     "name": "stdin",
     "output_type": "stream",
     "text": [
      "Enter the password :  asas\n"
     ]
    },
    {
     "name": "stdout",
     "output_type": "stream",
     "text": [
      "Enter correct password\n"
     ]
    },
    {
     "name": "stdin",
     "output_type": "stream",
     "text": [
      "Enter the password :  asas\n"
     ]
    },
    {
     "name": "stdout",
     "output_type": "stream",
     "text": [
      "Enter correct password\n"
     ]
    },
    {
     "name": "stdin",
     "output_type": "stream",
     "text": [
      "Enter the password :  ererere\n"
     ]
    },
    {
     "name": "stdout",
     "output_type": "stream",
     "text": [
      "Enter correct password\n"
     ]
    },
    {
     "name": "stdin",
     "output_type": "stream",
     "text": [
      "Enter the password :  ererer\n"
     ]
    },
    {
     "name": "stdout",
     "output_type": "stream",
     "text": [
      "Enter correct password\n"
     ]
    },
    {
     "name": "stdin",
     "output_type": "stream",
     "text": [
      "Enter the password :  rere\n"
     ]
    },
    {
     "name": "stdout",
     "output_type": "stream",
     "text": [
      "Enter correct password\n"
     ]
    },
    {
     "name": "stdin",
     "output_type": "stream",
     "text": [
      "Enter the password :  ererer\n"
     ]
    },
    {
     "name": "stdout",
     "output_type": "stream",
     "text": [
      "Enter correct password\n"
     ]
    },
    {
     "name": "stdin",
     "output_type": "stream",
     "text": [
      "Enter the password :  wewew\n"
     ]
    },
    {
     "name": "stdout",
     "output_type": "stream",
     "text": [
      "Enter correct password\n"
     ]
    }
   ],
   "source": [
    "a=input(\"Enter your actual Password : \")\n",
    "\n",
    "for i in range(10):\n",
    "  b=input(\"Enter the password : \")\n",
    "  if b!=a:\n",
    "    print(\"Enter correct password\")\n",
    "    continue\n",
    "  elif b==a:\n",
    "    print(\"Password is Correct\")\n",
    "    break"
   ]
  },
  {
   "cell_type": "code",
   "execution_count": 19,
   "id": "8c07104c-d6f8-4a77-86d8-bac833a4043a",
   "metadata": {},
   "outputs": [
    {
     "name": "stdin",
     "output_type": "stream",
     "text": [
      "Password:  wetetr\n"
     ]
    },
    {
     "name": "stdout",
     "output_type": "stream",
     "text": [
      "Password Incorrect\n",
      "Password Incorrect\n",
      "Password Incorrect\n",
      "Password Incorrect\n",
      "Password Incorrect\n"
     ]
    }
   ],
   "source": [
    "a=\"Heemang\"\n",
    "b = input(\"Password: \")\n",
    "for i in range(5):\n",
    "  if a!= b :\n",
    "    print (\"Password Incorrect\")\n",
    "\n",
    "    continue\n",
    "\n",
    "  elif a==b: \n",
    "\n",
    "    print (\"Password Correct\")\n",
    "\n",
    "    break\n",
    "\n",
    "  print(\"Hello\")"
   ]
  },
  {
   "cell_type": "code",
   "execution_count": 21,
   "id": "c87c072b-3ad0-45c6-bf93-89bd77def873",
   "metadata": {},
   "outputs": [
    {
     "name": "stdin",
     "output_type": "stream",
     "text": [
      "enter your password :  wererr\n",
      "enter your password :  Tushar\n"
     ]
    },
    {
     "name": "stdout",
     "output_type": "stream",
     "text": [
      "password authenticated\n"
     ]
    }
   ],
   "source": [
    "while 1:\n",
    "    password = input(\"enter your password : \")\n",
    "    if password == 'Tushar':\n",
    "        print(\"password authenticated\")\n",
    "        break"
   ]
  },
  {
   "cell_type": "code",
   "execution_count": 25,
   "id": "ee7d3bb5-a678-4ff2-bc97-93984473d6f5",
   "metadata": {},
   "outputs": [
    {
     "name": "stdin",
     "output_type": "stream",
     "text": [
      "enter your range :  50\n"
     ]
    },
    {
     "name": "stdout",
     "output_type": "stream",
     "text": [
      "Number of even no. are  25\n"
     ]
    }
   ],
   "source": [
    "count_even = 0\n",
    "n = int(input(\"enter your range : \"))\n",
    "for i in range(1,n+1):\n",
    "  if i%2==0:\n",
    "      count_even += 1\n",
    "print(\"Number of even no. are \", count_even)"
   ]
  },
  {
   "cell_type": "code",
   "execution_count": 26,
   "id": "48a2e90a-a21a-402e-8a12-9b7bb43b0900",
   "metadata": {},
   "outputs": [
    {
     "name": "stdout",
     "output_type": "stream",
     "text": [
      "5\n"
     ]
    }
   ],
   "source": [
    "count = 0\n",
    "for i in range(1,11):\n",
    "    if i%2 == 0:\n",
    "        count = count + 1\n",
    "print(count)"
   ]
  },
  {
   "cell_type": "code",
   "execution_count": 27,
   "id": "bb5e6c0a-5b2b-4cc8-b604-377cbae99e74",
   "metadata": {},
   "outputs": [
    {
     "name": "stdout",
     "output_type": "stream",
     "text": [
      "120\n"
     ]
    }
   ],
   "source": [
    "n = 5\n",
    "fact = 1\n",
    "num = 1\n",
    "for i in range(n):\n",
    "    fact = fact*num\n",
    "    num = num+1\n",
    "print(fact)"
   ]
  },
  {
   "cell_type": "code",
   "execution_count": 28,
   "id": "fd16de35-c784-4ae7-a7eb-c63be0fb8def",
   "metadata": {},
   "outputs": [
    {
     "name": "stdin",
     "output_type": "stream",
     "text": [
      "Enter any number to find the factorial :  5\n"
     ]
    },
    {
     "name": "stdout",
     "output_type": "stream",
     "text": [
      "120\n"
     ]
    }
   ],
   "source": [
    "a=int(input(\"Enter any number to find the factorial : \"))\n",
    "\n",
    "b=1\n",
    "while True:\n",
    "  if a==0:\n",
    "    break\n",
    "  else:\n",
    "    b=b*(a)\n",
    "    a=a-1\n",
    "    continue\n",
    "print(b)"
   ]
  },
  {
   "cell_type": "code",
   "execution_count": 38,
   "id": "a25d276f-3dd5-480e-8137-be3e6bfc6310",
   "metadata": {},
   "outputs": [
    {
     "name": "stdout",
     "output_type": "stream",
     "text": [
      "Factorial of 5: 120\n"
     ]
    }
   ],
   "source": [
    "def factorial(n):\n",
    "    \n",
    "    if n == 0:\n",
    "        return 1\n",
    "    else:\n",
    "        return n * factorial(n-1)\n",
    "\n",
    "print(\"Factorial of 5:\", factorial(5))"
   ]
  },
  {
   "cell_type": "code",
   "execution_count": 39,
   "id": "340d9317-e698-4a36-9e08-d887a0df0f13",
   "metadata": {},
   "outputs": [
    {
     "name": "stdin",
     "output_type": "stream",
     "text": [
      "Input the password:  Tasd\n"
     ]
    },
    {
     "name": "stdout",
     "output_type": "stream",
     "text": [
      "Wrong password.\n"
     ]
    },
    {
     "name": "stdin",
     "output_type": "stream",
     "text": [
      "Input the password:  rwerwr\n"
     ]
    },
    {
     "name": "stdout",
     "output_type": "stream",
     "text": [
      "Wrong password.\n"
     ]
    },
    {
     "name": "stdin",
     "output_type": "stream",
     "text": [
      "Input the password:  wrwer\n"
     ]
    },
    {
     "name": "stdout",
     "output_type": "stream",
     "text": [
      "Wrong password.\n",
      "Entered wrong password three times. Please wait 30 seconds.\n"
     ]
    }
   ],
   "source": [
    "import time\n",
    "def check_password():\n",
    "    \n",
    "    attempts = 0\n",
    "\n",
    "    while attempts < 3:\n",
    "        password = input(\"Input the password: \")\n",
    "        if password == \"Tushar\":\n",
    "            print(\"Right password, login successful.\")\n",
    "            break\n",
    "        else:\n",
    "            print(\"Wrong password.\")\n",
    "            attempts += 1\n",
    "\n",
    "    print(\"Entered wrong password three times. Please wait 30 seconds.\")\n",
    "    time.sleep(30)\n",
    "\n",
    "check_password()"
   ]
  },
  {
   "cell_type": "code",
   "execution_count": 41,
   "id": "c4f7ccce-8592-4adb-8cbf-09e8c4ed339f",
   "metadata": {},
   "outputs": [
    {
     "name": "stdin",
     "output_type": "stream",
     "text": [
      "Enter your password qwewr\n"
     ]
    },
    {
     "name": "stdout",
     "output_type": "stream",
     "text": [
      "Enter your correct password\n"
     ]
    },
    {
     "name": "stdin",
     "output_type": "stream",
     "text": [
      "Enter your password werwer\n"
     ]
    },
    {
     "name": "stdout",
     "output_type": "stream",
     "text": [
      "Enter your correct password\n"
     ]
    },
    {
     "name": "stdin",
     "output_type": "stream",
     "text": [
      "Enter your password werwer\n"
     ]
    },
    {
     "name": "stdout",
     "output_type": "stream",
     "text": [
      "Enter your correct password\n",
      "enter the wrong password three times wait for 5 seconds\n"
     ]
    },
    {
     "name": "stdin",
     "output_type": "stream",
     "text": [
      "Enter your password wdfdf\n"
     ]
    },
    {
     "name": "stdout",
     "output_type": "stream",
     "text": [
      "Enter your correct password\n"
     ]
    },
    {
     "name": "stdin",
     "output_type": "stream",
     "text": [
      "Enter your password fsdfs\n"
     ]
    },
    {
     "name": "stdout",
     "output_type": "stream",
     "text": [
      "Enter your correct password\n"
     ]
    },
    {
     "name": "stdin",
     "output_type": "stream",
     "text": [
      "Enter your password sfdfsd\n"
     ]
    },
    {
     "name": "stdout",
     "output_type": "stream",
     "text": [
      "Enter your correct password\n",
      "enter the wrong password three times wait for 5 seconds\n"
     ]
    },
    {
     "name": "stdin",
     "output_type": "stream",
     "text": [
      "Enter your password Tsasd\n"
     ]
    },
    {
     "name": "stdout",
     "output_type": "stream",
     "text": [
      "Enter your correct password\n"
     ]
    },
    {
     "name": "stdin",
     "output_type": "stream",
     "text": [
      "Enter your password Tushar\n"
     ]
    },
    {
     "name": "stdout",
     "output_type": "stream",
     "text": [
      "Login Successfully\n"
     ]
    }
   ],
   "source": [
    "import time\n",
    "def check_password():\n",
    "  # correct_password=int(input(\"Enter you Actual password\"))\n",
    "  attempt=0\n",
    "  while True:\n",
    "    password = input(\"Enter your password\")\n",
    "    if password==\"Tushar\":\n",
    "      print(\"Login Successfully\")\n",
    "      break\n",
    "    else:\n",
    "      print(\"Enter your correct password\")\n",
    "      attempt=attempt+1\n",
    "      if attempt==3:\n",
    "        print(\"enter the wrong password three times wait for 5 seconds\")\n",
    "        time.sleep(5)\n",
    "        attempt=0\n",
    "      if attempt == 5:\n",
    "          print(\"please wait for 5 sec more \")\n",
    "          time.sleep(10)\n",
    "check_password()"
   ]
  },
  {
   "cell_type": "code",
   "execution_count": 44,
   "id": "425d058b-01ea-4b41-a18d-0725c3d2bd62",
   "metadata": {},
   "outputs": [
    {
     "name": "stdin",
     "output_type": "stream",
     "text": [
      "enter your password :  wer\n"
     ]
    },
    {
     "name": "stdout",
     "output_type": "stream",
     "text": [
      "wrong credentials\n"
     ]
    },
    {
     "name": "stdin",
     "output_type": "stream",
     "text": [
      "enter your password :  wer\n"
     ]
    },
    {
     "name": "stdout",
     "output_type": "stream",
     "text": [
      "wrong credentials\n"
     ]
    },
    {
     "name": "stdin",
     "output_type": "stream",
     "text": [
      "enter your password :  wer\n"
     ]
    },
    {
     "name": "stdout",
     "output_type": "stream",
     "text": [
      "wrong credentials\n",
      "please wait for 5 sec!\n"
     ]
    },
    {
     "name": "stdin",
     "output_type": "stream",
     "text": [
      "enter your password :  wer\n"
     ]
    },
    {
     "name": "stdout",
     "output_type": "stream",
     "text": [
      "wrong credentials\n"
     ]
    },
    {
     "name": "stdin",
     "output_type": "stream",
     "text": [
      "enter your password :  wer\n"
     ]
    },
    {
     "name": "stdout",
     "output_type": "stream",
     "text": [
      "wrong credentials\n",
      "please wait for 10 sec\n"
     ]
    },
    {
     "name": "stdin",
     "output_type": "stream",
     "text": [
      "enter your password :  Tushar\n"
     ]
    },
    {
     "name": "stdout",
     "output_type": "stream",
     "text": [
      "login successfull\n"
     ]
    }
   ],
   "source": [
    "import time \n",
    "count = 0\n",
    "while True:\n",
    "    password = input(\"enter your password : \")\n",
    "    if password == \"Tushar\":\n",
    "        print(\"login successfull\")\n",
    "        break\n",
    "    else:\n",
    "        print(\"wrong credentials\")\n",
    "        count = count + 1\n",
    "        if count == 3:\n",
    "            print(\"please wait for 5 sec!\")\n",
    "            time.sleep(5)\n",
    "        if count == 5:\n",
    "            print(\"please wait for 10 sec\")\n",
    "            time.sleep(10)"
   ]
  },
  {
   "cell_type": "code",
   "execution_count": null,
   "id": "52fb8dc5-a352-46a3-ae66-8b30788c3ca8",
   "metadata": {},
   "outputs": [],
   "source": []
  }
 ],
 "metadata": {
  "kernelspec": {
   "display_name": "Python 3 (ipykernel)",
   "language": "python",
   "name": "python3"
  },
  "language_info": {
   "codemirror_mode": {
    "name": "ipython",
    "version": 3
   },
   "file_extension": ".py",
   "mimetype": "text/x-python",
   "name": "python",
   "nbconvert_exporter": "python",
   "pygments_lexer": "ipython3",
   "version": "3.12.7"
  }
 },
 "nbformat": 4,
 "nbformat_minor": 5
}
