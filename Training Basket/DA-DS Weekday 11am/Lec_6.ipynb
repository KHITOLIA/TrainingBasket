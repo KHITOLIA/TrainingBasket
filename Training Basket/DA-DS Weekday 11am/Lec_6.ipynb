{
 "cells": [
  {
   "cell_type": "markdown",
   "id": "9ef9b9bb-da34-491c-8dba-354c90a0d95b",
   "metadata": {},
   "source": [
    "# Loop\n",
    "1. For\n",
    "2. While"
   ]
  },
  {
   "cell_type": "code",
   "execution_count": 4,
   "id": "06b4af9d-a203-46ec-a494-438c87aa6414",
   "metadata": {},
   "outputs": [
    {
     "name": "stdout",
     "output_type": "stream",
     "text": [
      "4321"
     ]
    }
   ],
   "source": [
    "a = 4 \n",
    "while a > 0:\n",
    "    print(a, end = \"\")\n",
    "    a = a - 1"
   ]
  },
  {
   "cell_type": "code",
   "execution_count": 6,
   "id": "de077a4f-1bde-4ada-b6d7-9bd999ed0636",
   "metadata": {},
   "outputs": [
    {
     "name": "stdout",
     "output_type": "stream",
     "text": [
      "0\n",
      "1\n",
      "2\n"
     ]
    }
   ],
   "source": [
    "for i in range(3):\n",
    "    if i==2:\n",
    "        for j in range(3):\n",
    "            print(j)"
   ]
  },
  {
   "cell_type": "code",
   "execution_count": 13,
   "id": "469da1ee-c1ee-434d-9aff-49eb6dc12c5a",
   "metadata": {},
   "outputs": [
    {
     "name": "stdout",
     "output_type": "stream",
     "text": [
      "0\n",
      "1\n",
      "Tushar\n"
     ]
    }
   ],
   "source": [
    "for i in range(500):\n",
    "    if i == 2:\n",
    "        print(\"Tushar\")\n",
    "        break\n",
    "    else:\n",
    "        print(i)"
   ]
  },
  {
   "cell_type": "code",
   "execution_count": 16,
   "id": "34a46297-79fa-4282-b031-eccae78e3212",
   "metadata": {},
   "outputs": [
    {
     "name": "stdin",
     "output_type": "stream",
     "text": [
      "enter the value :  6\n"
     ]
    },
    {
     "name": "stdout",
     "output_type": "stream",
     "text": [
      "6\n"
     ]
    },
    {
     "name": "stdin",
     "output_type": "stream",
     "text": [
      "enter the value :  8\n"
     ]
    },
    {
     "name": "stdout",
     "output_type": "stream",
     "text": [
      "8\n"
     ]
    },
    {
     "name": "stdin",
     "output_type": "stream",
     "text": [
      "enter the value :  7\n"
     ]
    },
    {
     "name": "stdout",
     "output_type": "stream",
     "text": [
      "Code goes to the next iteration\n"
     ]
    },
    {
     "name": "stdin",
     "output_type": "stream",
     "text": [
      "enter the value :  0\n"
     ]
    }
   ],
   "source": [
    "for i in range(10):\n",
    "    a = int(input(\"enter the value : \"))\n",
    "    if a == 7:\n",
    "        print(\"Code goes to the next iteration\")\n",
    "        continue\n",
    "    elif a == 0:\n",
    "        break\n",
    "    print(a)    "
   ]
  },
  {
   "cell_type": "code",
   "execution_count": 17,
   "id": "a091e032-587b-46a2-976c-838f9bcf6015",
   "metadata": {},
   "outputs": [
    {
     "name": "stdin",
     "output_type": "stream",
     "text": [
      "Enter your actual Password :  Tushar\n",
      "Enter the password :  dfds\n"
     ]
    },
    {
     "name": "stdout",
     "output_type": "stream",
     "text": [
      "Enter correct password\n"
     ]
    },
    {
     "name": "stdin",
     "output_type": "stream",
     "text": [
      "Enter the password :  asas\n"
     ]
    },
    {
     "name": "stdout",
     "output_type": "stream",
     "text": [
      "Enter correct password\n"
     ]
    },
    {
     "name": "stdin",
     "output_type": "stream",
     "text": [
      "Enter the password :  asa\n"
     ]
    },
    {
     "name": "stdout",
     "output_type": "stream",
     "text": [
      "Enter correct password\n"
     ]
    },
    {
     "name": "stdin",
     "output_type": "stream",
     "text": [
      "Enter the password :  asas\n"
     ]
    },
    {
     "name": "stdout",
     "output_type": "stream",
     "text": [
      "Enter correct password\n"
     ]
    },
    {
     "name": "stdin",
     "output_type": "stream",
     "text": [
      "Enter the password :  asas\n"
     ]
    },
    {
     "name": "stdout",
     "output_type": "stream",
     "text": [
      "Enter correct password\n"
     ]
    },
    {
     "name": "stdin",
     "output_type": "stream",
     "text": [
      "Enter the password :  ererere\n"
     ]
    },
    {
     "name": "stdout",
     "output_type": "stream",
     "text": [
      "Enter correct password\n"
     ]
    },
    {
     "name": "stdin",
     "output_type": "stream",
     "text": [
      "Enter the password :  ererer\n"
     ]
    },
    {
     "name": "stdout",
     "output_type": "stream",
     "text": [
      "Enter correct password\n"
     ]
    },
    {
     "name": "stdin",
     "output_type": "stream",
     "text": [
      "Enter the password :  rere\n"
     ]
    },
    {
     "name": "stdout",
     "output_type": "stream",
     "text": [
      "Enter correct password\n"
     ]
    },
    {
     "name": "stdin",
     "output_type": "stream",
     "text": [
      "Enter the password :  ererer\n"
     ]
    },
    {
     "name": "stdout",
     "output_type": "stream",
     "text": [
      "Enter correct password\n"
     ]
    },
    {
     "name": "stdin",
     "output_type": "stream",
     "text": [
      "Enter the password :  wewew\n"
     ]
    },
    {
     "name": "stdout",
     "output_type": "stream",
     "text": [
      "Enter correct password\n"
     ]
    }
   ],
   "source": [
    "a=input(\"Enter your actual Password : \")\n",
    "\n",
    "for i in range(10):\n",
    "  b=input(\"Enter the password : \")\n",
    "  if b!=a:\n",
    "    print(\"Enter correct password\")\n",
    "    continue\n",
    "  elif b==a:\n",
    "    print(\"Password is Correct\")\n",
    "    break"
   ]
  },
  {
   "cell_type": "code",
   "execution_count": 19,
   "id": "8c07104c-d6f8-4a77-86d8-bac833a4043a",
   "metadata": {},
   "outputs": [
    {
     "name": "stdin",
     "output_type": "stream",
     "text": [
      "Password:  wetetr\n"
     ]
    },
    {
     "name": "stdout",
     "output_type": "stream",
     "text": [
      "Password Incorrect\n",
      "Password Incorrect\n",
      "Password Incorrect\n",
      "Password Incorrect\n",
      "Password Incorrect\n"
     ]
    }
   ],
   "source": [
    "a=\"Heemang\"\n",
    "b = input(\"Password: \")\n",
    "for i in range(5):\n",
    "  if a!= b :\n",
    "    print (\"Password Incorrect\")\n",
    "\n",
    "    continue\n",
    "\n",
    "  elif a==b: \n",
    "\n",
    "    print (\"Password Correct\")\n",
    "\n",
    "    break\n",
    "\n",
    "  print(\"Hello\")"
   ]
  },
  {
   "cell_type": "code",
   "execution_count": 21,
   "id": "c87c072b-3ad0-45c6-bf93-89bd77def873",
   "metadata": {},
   "outputs": [
    {
     "name": "stdin",
     "output_type": "stream",
     "text": [
      "enter your password :  wererr\n",
      "enter your password :  Tushar\n"
     ]
    },
    {
     "name": "stdout",
     "output_type": "stream",
     "text": [
      "password authenticated\n"
     ]
    }
   ],
   "source": [
    "while 1:\n",
    "    password = input(\"enter your password : \")\n",
    "    if password == 'Tushar':\n",
    "        print(\"password authenticated\")\n",
    "        break"
   ]
  },
  {
   "cell_type": "code",
   "execution_count": 25,
   "id": "ee7d3bb5-a678-4ff2-bc97-93984473d6f5",
   "metadata": {},
   "outputs": [
    {
     "name": "stdin",
     "output_type": "stream",
     "text": [
      "enter your range :  50\n"
     ]
    },
    {
     "name": "stdout",
     "output_type": "stream",
     "text": [
      "Number of even no. are  25\n"
     ]
    }
   ],
   "source": [
    "count_even = 0\n",
    "n = int(input(\"enter your range : \"))\n",
    "for i in range(1,n+1):\n",
    "  if i%2==0:\n",
    "      count_even += 1\n",
    "print(\"Number of even no. are \", count_even)"
   ]
  },
  {
   "cell_type": "code",
   "execution_count": 26,
   "id": "48a2e90a-a21a-402e-8a12-9b7bb43b0900",
   "metadata": {},
   "outputs": [
    {
     "name": "stdout",
     "output_type": "stream",
     "text": [
      "5\n"
     ]
    }
   ],
   "source": [
    "count = 0\n",
    "for i in range(1,11):\n",
    "    if i%2 == 0:\n",
    "        count = count + 1\n",
    "print(count)"
   ]
  },
  {
   "cell_type": "code",
   "execution_count": 27,
   "id": "bb5e6c0a-5b2b-4cc8-b604-377cbae99e74",
   "metadata": {},
   "outputs": [
    {
     "name": "stdout",
     "output_type": "stream",
     "text": [
      "120\n"
     ]
    }
   ],
   "source": [
    "n = 5\n",
    "fact = 1\n",
    "num = 1\n",
    "for i in range(n):\n",
    "    fact = fact*num\n",
    "    num = num+1\n",
    "print(fact)"
   ]
  },
  {
   "cell_type": "code",
   "execution_count": 28,
   "id": "fd16de35-c784-4ae7-a7eb-c63be0fb8def",
   "metadata": {},
   "outputs": [
    {
     "name": "stdin",
     "output_type": "stream",
     "text": [
      "Enter any number to find the factorial :  5\n"
     ]
    },
    {
     "name": "stdout",
     "output_type": "stream",
     "text": [
      "120\n"
     ]
    }
   ],
   "source": [
    "a=int(input(\"Enter any number to find the factorial : \"))\n",
    "\n",
    "b=1\n",
    "while True:\n",
    "  if a==0:\n",
    "    break\n",
    "  else:\n",
    "    b=b*(a)\n",
    "    a=a-1\n",
    "    continue\n",
    "print(b)"
   ]
  },
  {
   "cell_type": "code",
   "execution_count": 29,
   "id": "a25d276f-3dd5-480e-8137-be3e6bfc6310",
   "metadata": {},
   "outputs": [
    {
     "name": "stdout",
     "output_type": "stream",
     "text": [
      "Factorial of 5: 120\n"
     ]
    }
   ],
   "source": [
    "def factorial(n):\n",
    "    \n",
    "    if n == 0:\n",
    "        return 1\n",
    "    else:\n",
    "        return n * factorial(n-1)\n",
    "\n",
    "print(\"Factorial of 5:\", factorial(5))"
   ]
  },
  {
   "cell_type": "code",
   "execution_count": 30,
   "id": "6fdefa60-cd8f-4700-956e-b3c5944da825",
   "metadata": {},
   "outputs": [
    {
     "name": "stdout",
     "output_type": "stream",
     "text": [
      "8\n",
      "-3888\n",
      "-3888\n",
      "-3888\n"
     ]
    }
   ],
   "source": [
    "n = 4328\n",
    "c = 0\n",
    "for i in range(4):\n",
    "    if i == 0:\n",
    "        b = n\n",
    "    else:\n",
    "        b = c\n",
    "    c = n//10\n",
    "    var = b - (c*10)\n",
    "    print(var)"
   ]
  },
  {
   "cell_type": "code",
   "execution_count": 31,
   "id": "1d2f952e-6449-49ec-8bb0-fc2d0ae8d926",
   "metadata": {},
   "outputs": [
    {
     "name": "stdout",
     "output_type": "stream",
     "text": [
      "8\n",
      "2\n",
      "3\n",
      "4\n"
     ]
    }
   ],
   "source": [
    "n = 4328\n",
    "for i in range(4):\n",
    "    c = n//10\n",
    "    b = n - (c*10)\n",
    "    print(b)\n",
    "    n = c    "
   ]
  },
  {
   "cell_type": "code",
   "execution_count": 32,
   "id": "3e46bbf9-22ea-484a-933a-83980f6119bf",
   "metadata": {},
   "outputs": [
    {
     "data": {
      "text/plain": [
       "4"
      ]
     },
     "execution_count": 32,
     "metadata": {},
     "output_type": "execute_result"
    }
   ],
   "source": [
    "b"
   ]
  },
  {
   "cell_type": "code",
   "execution_count": 33,
   "id": "a1c8f042-379a-4058-a489-a12f1535ba55",
   "metadata": {},
   "outputs": [
    {
     "data": {
      "text/plain": [
       "8234"
      ]
     },
     "execution_count": 33,
     "metadata": {},
     "output_type": "execute_result"
    }
   ],
   "source": [
    "8234"
   ]
  },
  {
   "cell_type": "code",
   "execution_count": 34,
   "id": "5776ea3e-4960-4649-bbf5-5f0d0181db0b",
   "metadata": {},
   "outputs": [],
   "source": [
    "n = 12345\n",
    "digit = 0\n",
    "while (n > 0):\n",
    "    q = n//10\n",
    "    r = n%10\n",
    "    n = q\n",
    "    digit = digit*10 + r\n",
    "    "
   ]
  },
  {
   "cell_type": "code",
   "execution_count": 35,
   "id": "da5073a5-2410-4cff-8d0f-7632716c3b8b",
   "metadata": {},
   "outputs": [
    {
     "data": {
      "text/plain": [
       "54321"
      ]
     },
     "execution_count": 35,
     "metadata": {},
     "output_type": "execute_result"
    }
   ],
   "source": [
    "digit"
   ]
  },
  {
   "cell_type": "code",
   "execution_count": 36,
   "id": "9da874c9-4941-4d6e-898d-88e080ee6443",
   "metadata": {},
   "outputs": [
    {
     "data": {
      "text/plain": [
       "1"
      ]
     },
     "execution_count": 36,
     "metadata": {},
     "output_type": "execute_result"
    }
   ],
   "source": [
    "9 % 4"
   ]
  },
  {
   "cell_type": "code",
   "execution_count": 37,
   "id": "b8eaaf2f-db7a-4056-a8a9-4cdcde50c6ac",
   "metadata": {},
   "outputs": [
    {
     "data": {
      "text/plain": [
       "8"
      ]
     },
     "execution_count": 37,
     "metadata": {},
     "output_type": "execute_result"
    }
   ],
   "source": [
    "8%14"
   ]
  },
  {
   "cell_type": "code",
   "execution_count": null,
   "id": "340d9317-e698-4a36-9e08-d887a0df0f13",
   "metadata": {},
   "outputs": [],
   "source": []
  }
 ],
 "metadata": {
  "kernelspec": {
   "display_name": "Python 3 (ipykernel)",
   "language": "python",
   "name": "python3"
  },
  "language_info": {
   "codemirror_mode": {
    "name": "ipython",
    "version": 3
   },
   "file_extension": ".py",
   "mimetype": "text/x-python",
   "name": "python",
   "nbconvert_exporter": "python",
   "pygments_lexer": "ipython3",
   "version": "3.12.7"
  }
 },
 "nbformat": 4,
 "nbformat_minor": 5
}
