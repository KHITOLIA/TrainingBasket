{
 "cells": [
  {
   "cell_type": "code",
   "execution_count": 3,
   "id": "ea004ab4-a941-4d19-8df3-c1943bf0c1cb",
   "metadata": {},
   "outputs": [],
   "source": [
    "l1 = [2,3,4,5,6,6,5]\n",
    "l2 = [2,3,6,7,9]\n",
    "output = []\n",
    "for i in l1:\n",
    "    for j in l2:\n",
    "        if i == j:\n",
    "            output.append(i)"
   ]
  },
  {
   "cell_type": "code",
   "execution_count": 4,
   "id": "9862291b-fe57-4fd8-9772-b526a3e08dd1",
   "metadata": {},
   "outputs": [
    {
     "data": {
      "text/plain": [
       "[2, 3, 6, 6]"
      ]
     },
     "execution_count": 4,
     "metadata": {},
     "output_type": "execute_result"
    }
   ],
   "source": [
    "output"
   ]
  },
  {
   "cell_type": "code",
   "execution_count": 13,
   "id": "62d34dec-187b-46f9-a184-bd38a3e21b7a",
   "metadata": {},
   "outputs": [
    {
     "name": "stdout",
     "output_type": "stream",
     "text": [
      "common number [3, 4, 5, 6, 7]\n"
     ]
    }
   ],
   "source": [
    "a = [2 ,2, 3, 4, 5, 6, 6, 7, 8]\n",
    "\n",
    "b = [3, 4, 5, 5 ,6, 6, 7]\n",
    "\n",
    "c = []\n",
    "\n",
    "for i in a:\n",
    "\n",
    "  for s in b:\n",
    "\n",
    "    if i == s:\n",
    "\n",
    "      if i not in c:\n",
    "\n",
    "        c.append(i)\n",
    "print(\"common number\",c)"
   ]
  },
  {
   "cell_type": "code",
   "execution_count": 29,
   "id": "a8136558-d4b1-470f-8f91-b64142cc045c",
   "metadata": {},
   "outputs": [],
   "source": [
    "c = []\n"
   ]
  },
  {
   "cell_type": "code",
   "execution_count": 30,
   "id": "f401db57-a163-4029-9d4e-eb6722668eca",
   "metadata": {},
   "outputs": [],
   "source": [
    "a = [2 ,2, 3, 4, 5, 6, 6, 7, 8]\n",
    "b = [3, 4, 5, 5 ,6, 6, 7]\n",
    "\n",
    "for i in a:\n",
    "    for j in b:\n",
    "        if i == j:\n",
    "            c.append(i)"
   ]
  },
  {
   "cell_type": "code",
   "execution_count": 31,
   "id": "c48cb60c-7c53-4de1-8c1c-f6ad801041a6",
   "metadata": {},
   "outputs": [
    {
     "data": {
      "text/plain": [
       "[3, 4, 5, 5, 6, 6, 6, 6, 7]"
      ]
     },
     "execution_count": 31,
     "metadata": {},
     "output_type": "execute_result"
    }
   ],
   "source": [
    "c"
   ]
  },
  {
   "cell_type": "code",
   "execution_count": 37,
   "id": "669df240-fbdf-4f94-94ea-4d458387dcc3",
   "metadata": {},
   "outputs": [
    {
     "name": "stdout",
     "output_type": "stream",
     "text": [
      "Common elements : [3, 4, 5, 5, 6, 7, 7, 7]\n"
     ]
    }
   ],
   "source": [
    "a = [2, 2, 3, 4, 5, 5, 6, 7, 7, 7]\n",
    "b = [3, 4, 4, 5, 5, 6, 7,7, 7]\n",
    "common = []\n",
    "\n",
    "b_copy = b.copy()\n",
    "for item in a:\n",
    "\n",
    "    if item in b_copy:\n",
    "\n",
    "        common.append(item)\n",
    "\n",
    "        b_copy.remove(item) \n",
    "\n",
    "print(\"Common elements :\", common)"
   ]
  },
  {
   "cell_type": "code",
   "execution_count": 78,
   "id": "f68ac13c-d78a-4195-a05a-f0852e9f224d",
   "metadata": {},
   "outputs": [],
   "source": [
    "tup = (2,3,4,5,True, [1,2])"
   ]
  },
  {
   "cell_type": "code",
   "execution_count": 79,
   "id": "6c3f5be4-ce76-4803-8d17-5e6376760233",
   "metadata": {},
   "outputs": [
    {
     "ename": "TypeError",
     "evalue": "can only concatenate tuple (not \"int\") to tuple",
     "output_type": "error",
     "traceback": [
      "\u001b[1;31m---------------------------------------------------------------------------\u001b[0m",
      "\u001b[1;31mTypeError\u001b[0m                                 Traceback (most recent call last)",
      "Cell \u001b[1;32mIn[79], line 1\u001b[0m\n\u001b[1;32m----> 1\u001b[0m tup \u001b[38;5;241m=\u001b[39m tup \u001b[38;5;241m+\u001b[39m \u001b[38;5;241m1\u001b[39m\n",
      "\u001b[1;31mTypeError\u001b[0m: can only concatenate tuple (not \"int\") to tuple"
     ]
    }
   ],
   "source": [
    "tup = tup + 1"
   ]
  },
  {
   "cell_type": "code",
   "execution_count": 80,
   "id": "36761288-70b3-4d23-bd2a-1836f14e8b1a",
   "metadata": {},
   "outputs": [],
   "source": [
    "tup = tup + (1,)"
   ]
  },
  {
   "cell_type": "code",
   "execution_count": 81,
   "id": "032c315a-8502-4f85-93c7-3e03d77a9289",
   "metadata": {},
   "outputs": [
    {
     "data": {
      "text/plain": [
       "(2, 3, 4, 5, True, [1, 2], 1)"
      ]
     },
     "execution_count": 81,
     "metadata": {},
     "output_type": "execute_result"
    }
   ],
   "source": [
    "tup"
   ]
  },
  {
   "cell_type": "code",
   "execution_count": 82,
   "id": "10b80ddf-426c-4aa4-b640-30e20dac0d08",
   "metadata": {},
   "outputs": [
    {
     "ename": "TypeError",
     "evalue": "unsupported operand type(s) for -: 'tuple' and 'int'",
     "output_type": "error",
     "traceback": [
      "\u001b[1;31m---------------------------------------------------------------------------\u001b[0m",
      "\u001b[1;31mTypeError\u001b[0m                                 Traceback (most recent call last)",
      "Cell \u001b[1;32mIn[82], line 1\u001b[0m\n\u001b[1;32m----> 1\u001b[0m tup \u001b[38;5;241m=\u001b[39m tup \u001b[38;5;241m-\u001b[39m \u001b[38;5;241m1\u001b[39m\n",
      "\u001b[1;31mTypeError\u001b[0m: unsupported operand type(s) for -: 'tuple' and 'int'"
     ]
    }
   ],
   "source": [
    "tup = tup - 1"
   ]
  },
  {
   "cell_type": "code",
   "execution_count": 83,
   "id": "26ee0994-3f11-4007-bade-4271e82dd082",
   "metadata": {},
   "outputs": [
    {
     "data": {
      "text/plain": [
       "0"
      ]
     },
     "execution_count": 83,
     "metadata": {},
     "output_type": "execute_result"
    }
   ],
   "source": [
    "tup.count('1')"
   ]
  },
  {
   "cell_type": "code",
   "execution_count": 84,
   "id": "37101be8-e4a4-4b78-a4e1-52a42bef81d7",
   "metadata": {},
   "outputs": [],
   "source": [
    "tup = tup + (1,)"
   ]
  },
  {
   "cell_type": "code",
   "execution_count": 85,
   "id": "f33427f0-e569-410b-bc52-ee1a9b98c491",
   "metadata": {},
   "outputs": [
    {
     "data": {
      "text/plain": [
       "3"
      ]
     },
     "execution_count": 85,
     "metadata": {},
     "output_type": "execute_result"
    }
   ],
   "source": [
    "tup.count(True)"
   ]
  },
  {
   "cell_type": "code",
   "execution_count": 86,
   "id": "91c9a614-e854-4826-9bd8-0b91c1762f62",
   "metadata": {},
   "outputs": [
    {
     "data": {
      "text/plain": [
       "(2, 3, 4, 5, True, [1, 2], 1, 1)"
      ]
     },
     "execution_count": 86,
     "metadata": {},
     "output_type": "execute_result"
    }
   ],
   "source": [
    "tup"
   ]
  },
  {
   "cell_type": "code",
   "execution_count": 87,
   "id": "e1438bd3-cb93-4aaf-8a44-8fdb01cb99af",
   "metadata": {},
   "outputs": [
    {
     "data": {
      "text/plain": [
       "\u001b[1;31mSignature:\u001b[0m \u001b[0mtup\u001b[0m\u001b[1;33m.\u001b[0m\u001b[0mcount\u001b[0m\u001b[1;33m(\u001b[0m\u001b[0mvalue\u001b[0m\u001b[1;33m,\u001b[0m \u001b[1;33m/\u001b[0m\u001b[1;33m)\u001b[0m\u001b[1;33m\u001b[0m\u001b[1;33m\u001b[0m\u001b[0m\n",
       "\u001b[1;31mDocstring:\u001b[0m Return number of occurrences of value.\n",
       "\u001b[1;31mType:\u001b[0m      builtin_function_or_method"
      ]
     },
     "metadata": {},
     "output_type": "display_data"
    }
   ],
   "source": [
    "tup.count?"
   ]
  },
  {
   "cell_type": "code",
   "execution_count": 88,
   "id": "e702e132-97bf-437b-9085-de789c534e10",
   "metadata": {},
   "outputs": [
    {
     "data": {
      "text/plain": [
       "1"
      ]
     },
     "execution_count": 88,
     "metadata": {},
     "output_type": "execute_result"
    }
   ],
   "source": [
    "tup.count(2)"
   ]
  },
  {
   "cell_type": "code",
   "execution_count": 89,
   "id": "a7053460-9647-4ca6-8ab3-dbd1bffb3e3b",
   "metadata": {},
   "outputs": [],
   "source": [
    "tup = tup + (False,)"
   ]
  },
  {
   "cell_type": "code",
   "execution_count": 90,
   "id": "fff3ab5c-5f2f-44c2-8a20-873bbc25c725",
   "metadata": {},
   "outputs": [
    {
     "data": {
      "text/plain": [
       "(2, 3, 4, 5, True, [1, 2], 1, 1, False)"
      ]
     },
     "execution_count": 90,
     "metadata": {},
     "output_type": "execute_result"
    }
   ],
   "source": [
    "tup"
   ]
  },
  {
   "cell_type": "code",
   "execution_count": 91,
   "id": "55795294-311a-4942-b1ef-668a557c5b2f",
   "metadata": {},
   "outputs": [
    {
     "data": {
      "text/plain": [
       "1"
      ]
     },
     "execution_count": 91,
     "metadata": {},
     "output_type": "execute_result"
    }
   ],
   "source": [
    "tup.count(0)"
   ]
  },
  {
   "cell_type": "code",
   "execution_count": 67,
   "id": "0f293a4e-9f06-4b8c-a0c5-332ecc1edbec",
   "metadata": {},
   "outputs": [],
   "source": [
    "tup = str(tup)"
   ]
  },
  {
   "cell_type": "code",
   "execution_count": 68,
   "id": "099c9f39-0650-4701-985d-fddc9c780d88",
   "metadata": {},
   "outputs": [
    {
     "data": {
      "text/plain": [
       "str"
      ]
     },
     "execution_count": 68,
     "metadata": {},
     "output_type": "execute_result"
    }
   ],
   "source": [
    "type(tup)"
   ]
  },
  {
   "cell_type": "code",
   "execution_count": 69,
   "id": "8691ded9-e4e0-4607-853b-03b7e82ad597",
   "metadata": {},
   "outputs": [
    {
     "data": {
      "text/plain": [
       "'[2, 3, 4, 5, True, [1, 2], 1, 1, 1, 1, False]'"
      ]
     },
     "execution_count": 69,
     "metadata": {},
     "output_type": "execute_result"
    }
   ],
   "source": [
    "tup"
   ]
  },
  {
   "cell_type": "code",
   "execution_count": 77,
   "id": "e985292c-2352-41a8-b1bf-716cc5190e4c",
   "metadata": {},
   "outputs": [],
   "source": [
    "a = [4,5,6,3]\n",
    "b = \"\"\n",
    "for i in a:\n",
    "    b = b + \"\".join(str(i))"
   ]
  },
  {
   "cell_type": "code",
   "execution_count": 76,
   "id": "e80e3d93-62da-4047-816d-2268d42db729",
   "metadata": {},
   "outputs": [
    {
     "data": {
      "text/plain": [
       "'4563'"
      ]
     },
     "execution_count": 76,
     "metadata": {},
     "output_type": "execute_result"
    }
   ],
   "source": [
    "b"
   ]
  },
  {
   "cell_type": "code",
   "execution_count": 95,
   "id": "c82cc46c-7927-4c31-be9e-68c3cdfdbf3e",
   "metadata": {},
   "outputs": [
    {
     "data": {
      "text/plain": [
       "(2, 3, 4, 5, True, [1, 2], 1, 1, False)"
      ]
     },
     "execution_count": 95,
     "metadata": {},
     "output_type": "execute_result"
    }
   ],
   "source": [
    "tup"
   ]
  },
  {
   "cell_type": "code",
   "execution_count": 93,
   "id": "afdcd8f8-07ec-48f6-a867-0176fde297b4",
   "metadata": {},
   "outputs": [
    {
     "data": {
      "text/plain": [
       "2"
      ]
     },
     "execution_count": 93,
     "metadata": {},
     "output_type": "execute_result"
    }
   ],
   "source": [
    "tup[0]"
   ]
  },
  {
   "cell_type": "code",
   "execution_count": 94,
   "id": "3aa7e7b9-1f58-4a5d-bc88-d1abab00be01",
   "metadata": {},
   "outputs": [
    {
     "data": {
      "text/plain": [
       "(2, 3, 4)"
      ]
     },
     "execution_count": 94,
     "metadata": {},
     "output_type": "execute_result"
    }
   ],
   "source": [
    "tup[:3]"
   ]
  },
  {
   "cell_type": "code",
   "execution_count": 96,
   "id": "fc28e620-e83c-4275-8382-822dc18f3e85",
   "metadata": {},
   "outputs": [
    {
     "data": {
      "text/plain": [
       "(5, True, [1, 2], 1, 1, False)"
      ]
     },
     "execution_count": 96,
     "metadata": {},
     "output_type": "execute_result"
    }
   ],
   "source": [
    "tup[3:]"
   ]
  },
  {
   "cell_type": "code",
   "execution_count": 103,
   "id": "de918ce1-77e8-408b-8176-7a27b4485f97",
   "metadata": {},
   "outputs": [],
   "source": [
    "d = {\n",
    "    'a' : 29,\n",
    "    'b' : 50.8,\n",
    "    'c' : 'Training Basket',\n",
    "    'd' : True,\n",
    "    'e' : [2,3,4,8, range(8)],\n",
    "    'f' : {\n",
    "        '1' : 'AI',\n",
    "        '2' : 'ML'\n",
    "        \n",
    "    }\n",
    "    \n",
    "}"
   ]
  },
  {
   "cell_type": "code",
   "execution_count": 101,
   "id": "d72262e0-c196-4eb4-a26b-44aa3495596f",
   "metadata": {},
   "outputs": [
    {
     "data": {
      "text/plain": [
       "{'a': 29,\n",
       " 'b': 50.8,\n",
       " 'c': 'Training Basket',\n",
       " 'd': True,\n",
       " 'e': [2, 3, 4, 8, range(0, 8)],\n",
       " 'f': {'1': 'AI', '2': 'ML'}}"
      ]
     },
     "execution_count": 101,
     "metadata": {},
     "output_type": "execute_result"
    }
   ],
   "source": [
    "d"
   ]
  },
  {
   "cell_type": "code",
   "execution_count": 102,
   "id": "2524482d-59d7-45f3-807c-c59fb7fdcb3f",
   "metadata": {},
   "outputs": [
    {
     "data": {
      "text/plain": [
       "dict"
      ]
     },
     "execution_count": 102,
     "metadata": {},
     "output_type": "execute_result"
    }
   ],
   "source": [
    "type(d)"
   ]
  },
  {
   "cell_type": "code",
   "execution_count": 104,
   "id": "db089900-76e3-4184-85e4-454dfde02f73",
   "metadata": {},
   "outputs": [
    {
     "data": {
      "text/plain": [
       "{'1': 'AI', '2': 'ML'}"
      ]
     },
     "execution_count": 104,
     "metadata": {},
     "output_type": "execute_result"
    }
   ],
   "source": [
    "d['f']"
   ]
  },
  {
   "cell_type": "code",
   "execution_count": 107,
   "id": "8319a339-b77f-4670-b918-68601a531cd1",
   "metadata": {},
   "outputs": [
    {
     "data": {
      "text/plain": [
       "'AI'"
      ]
     },
     "execution_count": 107,
     "metadata": {},
     "output_type": "execute_result"
    }
   ],
   "source": [
    "d['f']['1']"
   ]
  },
  {
   "cell_type": "code",
   "execution_count": 114,
   "id": "690975f8-9ad8-40f3-9afb-9591b2a4be6a",
   "metadata": {},
   "outputs": [
    {
     "data": {
      "text/plain": [
       "dict_keys(['a', 'b', 'c', 'd', 'e', 'f'])"
      ]
     },
     "execution_count": 114,
     "metadata": {},
     "output_type": "execute_result"
    }
   ],
   "source": [
    "d.keys()"
   ]
  },
  {
   "cell_type": "code",
   "execution_count": 109,
   "id": "0a858bd5-7c4f-4afb-bad6-f0123861744a",
   "metadata": {},
   "outputs": [
    {
     "data": {
      "text/plain": [
       "dict_values([29, 50.8, 'Training Basket', True, [2, 3, 4, 8, range(0, 8)], {'1': 'AI', '2': 'ML'}])"
      ]
     },
     "execution_count": 109,
     "metadata": {},
     "output_type": "execute_result"
    }
   ],
   "source": [
    "d.values()"
   ]
  },
  {
   "cell_type": "code",
   "execution_count": 120,
   "id": "c858a5c3-4f8d-4985-af9a-76d0e39eef35",
   "metadata": {},
   "outputs": [
    {
     "name": "stdout",
     "output_type": "stream",
     "text": [
      "a 29\n",
      "b 50.8\n",
      "c Training Basket\n",
      "d True\n",
      "e [2, 3, 4, 8, range(0, 8)]\n",
      "f {'1': 'AI', '2': 'ML'}\n"
     ]
    }
   ],
   "source": [
    "for i in d.items():\n",
    "    print(i[0],i[1])"
   ]
  },
  {
   "cell_type": "code",
   "execution_count": 121,
   "id": "73709ca4-e5e2-4832-b745-7eb8af463f59",
   "metadata": {},
   "outputs": [
    {
     "data": {
      "text/plain": [
       "29"
      ]
     },
     "execution_count": 121,
     "metadata": {},
     "output_type": "execute_result"
    }
   ],
   "source": [
    "d.get('a')"
   ]
  },
  {
   "cell_type": "code",
   "execution_count": null,
   "id": "2ca283be-43e8-4ed3-803d-c8fa8717962d",
   "metadata": {},
   "outputs": [],
   "source": []
  }
 ],
 "metadata": {
  "kernelspec": {
   "display_name": "Python 3 (ipykernel)",
   "language": "python",
   "name": "python3"
  },
  "language_info": {
   "codemirror_mode": {
    "name": "ipython",
    "version": 3
   },
   "file_extension": ".py",
   "mimetype": "text/x-python",
   "name": "python",
   "nbconvert_exporter": "python",
   "pygments_lexer": "ipython3",
   "version": "3.12.7"
  }
 },
 "nbformat": 4,
 "nbformat_minor": 5
}
