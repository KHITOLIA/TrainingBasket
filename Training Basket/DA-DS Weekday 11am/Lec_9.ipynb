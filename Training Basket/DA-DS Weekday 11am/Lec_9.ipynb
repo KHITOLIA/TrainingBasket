{
 "cells": [
  {
   "cell_type": "code",
   "execution_count": null,
   "id": "68ae5455-c30b-4d07-a532-7d4924acbff3",
   "metadata": {},
   "outputs": [],
   "source": [
    "# String"
   ]
  },
  {
   "cell_type": "code",
   "execution_count": null,
   "id": "22f791b4-c220-4c1d-aad8-0bfd13903cab",
   "metadata": {},
   "outputs": [],
   "source": [
    "# convert the entire string to upper case\n"
   ]
  },
  {
   "cell_type": "code",
   "execution_count": null,
   "id": "6bd09107-4289-4714-b065-beacdcabe0ce",
   "metadata": {},
   "outputs": [],
   "source": [
    "def to_uppercase(sentence):\n",
    "\n",
    "    result = \"\"\n",
    "\n",
    "    for char in sentence:\n",
    "\n",
    "        if 'a' <= char <= 'z':\n",
    "\n",
    "            upper_char = chr(ord(char) - 32)\n",
    "\n",
    "            result += upper_char\n",
    "\n",
    "        else:\n",
    "\n",
    "            result += char\n",
    "\n",
    "    return result\n",
    "\n",
    "sentence = input(\"Enter a sentence: \")\n",
    "\n",
    "uppercase_sentence = to_uppercase(sentence)\n",
    "\n",
    "print(\"Uppercase version:\", uppercase_sentence)"
   ]
  },
  {
   "cell_type": "code",
   "execution_count": null,
   "id": "afc004af-d479-42ea-a870-23abb5eefaf3",
   "metadata": {},
   "outputs": [],
   "source": [
    "st = \"this is data analysis\"\n",
    "for i in st:\n",
    "    print(chr(ord(i) - 32), end = \" \")"
   ]
  },
  {
   "cell_type": "code",
   "execution_count": null,
   "id": "594a175d-f751-4050-8986-fc31ca5452e6",
   "metadata": {},
   "outputs": [],
   "source": [
    "def fun(a):\n",
    "    return a"
   ]
  },
  {
   "cell_type": "code",
   "execution_count": null,
   "id": "2df62282-5fea-4076-ac1d-c006746f466f",
   "metadata": {},
   "outputs": [],
   "source": [
    "A = print(fun(10))"
   ]
  },
  {
   "cell_type": "code",
   "execution_count": null,
   "id": "043e337e-e13a-4d4d-a86b-f5bdbb83eb32",
   "metadata": {},
   "outputs": [],
   "source": [
    "print(A)"
   ]
  },
  {
   "cell_type": "code",
   "execution_count": null,
   "id": "5a5d9aa2-a515-4768-a3bc-c611add88d16",
   "metadata": {},
   "outputs": [],
   "source": [
    "a = \"main hu giyaan\"\n",
    "\n",
    "count = 0\n",
    "\n",
    "for letter in a:\n",
    "\n",
    "  if letter == \"m\":\n",
    "\n",
    "   count += 1\n",
    "\n",
    "   print(\"number of 'm'\",count)"
   ]
  },
  {
   "cell_type": "code",
   "execution_count": null,
   "id": "5479da32-e943-4d91-88cc-cafe273b61a7",
   "metadata": {},
   "outputs": [],
   "source": [
    "st"
   ]
  },
  {
   "cell_type": "code",
   "execution_count": null,
   "id": "a2977b7b-37aa-4a62-ba02-fac82968076a",
   "metadata": {},
   "outputs": [],
   "source": [
    "st.replace('analysis', \"science\")"
   ]
  },
  {
   "cell_type": "code",
   "execution_count": null,
   "id": "bef4116e-3288-48f8-997b-e931968a7e93",
   "metadata": {},
   "outputs": [],
   "source": [
    "reversed(st)"
   ]
  },
  {
   "cell_type": "code",
   "execution_count": null,
   "id": "552a030b-8913-4ad8-9df0-0676c05a6cfe",
   "metadata": {},
   "outputs": [],
   "source": [
    "A = 'tushar'"
   ]
  },
  {
   "cell_type": "code",
   "execution_count": null,
   "id": "ddc9e313-8ad3-43e9-8fd0-f7394501b8cc",
   "metadata": {},
   "outputs": [],
   "source": [
    "A"
   ]
  },
  {
   "cell_type": "code",
   "execution_count": null,
   "id": "4e54a925-e561-47c0-9f18-5e1fcc6c8d0b",
   "metadata": {},
   "outputs": [],
   "source": [
    "def reverse_string(st):\n",
    "\n",
    "    reversed_str = \"\"\n",
    "\n",
    "    for char in st:\n",
    "\n",
    "        reversed_str = char + reversed_str\n",
    "\n",
    "    return reversed_str"
   ]
  },
  {
   "cell_type": "code",
   "execution_count": null,
   "id": "9208910d-8512-4a66-9eae-61d0c5a4c788",
   "metadata": {},
   "outputs": [],
   "source": [
    "reverse_string(\"this is data analysis\")"
   ]
  },
  {
   "cell_type": "code",
   "execution_count": null,
   "id": "3b8630e6-7d3f-4631-b49e-d4750bb6e14a",
   "metadata": {},
   "outputs": [],
   "source": [
    "word = \"hello\"\n",
    "\n",
    "reverse = \"\"\n",
    "\n",
    "for letter in word:\n",
    "\n",
    "  reverse = letter + reverse \n",
    "\n",
    "print( reverse)"
   ]
  },
  {
   "cell_type": "code",
   "execution_count": null,
   "id": "6d71fe11-8bf8-4e59-9f44-45fb388f0966",
   "metadata": {},
   "outputs": [],
   "source": [
    "a = \"apple\"\n",
    "\n",
    "for char in a:\n",
    "    print(\"Character is:\", char)"
   ]
  },
  {
   "cell_type": "code",
   "execution_count": null,
   "id": "5982bd5c-77fa-4689-a3cb-f9571bae31e4",
   "metadata": {},
   "outputs": [],
   "source": [
    "A = \"apple\"\n",
    "for character in A:\n",
    "    print(\"character is : \", character)"
   ]
  },
  {
   "cell_type": "code",
   "execution_count": null,
   "id": "1ae0b628-c791-4455-b032-19ae6b24a23c",
   "metadata": {},
   "outputs": [],
   "source": [
    "st"
   ]
  },
  {
   "cell_type": "code",
   "execution_count": null,
   "id": "82c3572b-e389-41a2-a86a-311a26db3b90",
   "metadata": {},
   "outputs": [],
   "source": [
    "st.capitalize()"
   ]
  },
  {
   "cell_type": "code",
   "execution_count": null,
   "id": "b8a60980-267e-41dd-85f1-f5b9396fbdfc",
   "metadata": {},
   "outputs": [],
   "source": [
    "st.isdigit()"
   ]
  },
  {
   "cell_type": "code",
   "execution_count": null,
   "id": "87affd25-443a-42d9-9e82-981077409f2e",
   "metadata": {},
   "outputs": [],
   "source": [
    "st.isalpha()"
   ]
  },
  {
   "cell_type": "code",
   "execution_count": null,
   "id": "12f26174-df15-436e-9ef3-7c69aa0b80d8",
   "metadata": {},
   "outputs": [],
   "source": [
    "st.endswith(\"data\")"
   ]
  },
  {
   "cell_type": "code",
   "execution_count": null,
   "id": "5a1d74f8-fd8a-471c-a3a0-395a5e2429fe",
   "metadata": {},
   "outputs": [],
   "source": [
    "st.endswith(\"analysis\")"
   ]
  },
  {
   "cell_type": "code",
   "execution_count": null,
   "id": "6a5267a0-863d-422b-8a61-490f9ff39979",
   "metadata": {},
   "outputs": [],
   "source": [
    "st.endswith(\"is\")"
   ]
  },
  {
   "cell_type": "code",
   "execution_count": null,
   "id": "4202eba9-e837-4393-9850-8ac4ce4f40bf",
   "metadata": {},
   "outputs": [],
   "source": [
    "st.endswith(\"ta\")"
   ]
  },
  {
   "cell_type": "code",
   "execution_count": null,
   "id": "c9b9f642-7c71-4003-987b-592c6fb44bc8",
   "metadata": {},
   "outputs": [],
   "source": [
    "# List"
   ]
  },
  {
   "cell_type": "code",
   "execution_count": null,
   "id": "a8a41965-14a3-4c2e-a011-f749372a546e",
   "metadata": {},
   "outputs": [],
   "source": [
    "l1 = [2, 3, 4, 7, 'Heemang', True, 49.98, [2, 3, True, range(6)] ]"
   ]
  },
  {
   "cell_type": "code",
   "execution_count": null,
   "id": "d6814e11-e286-41ec-96d3-c3c54a271ec6",
   "metadata": {},
   "outputs": [],
   "source": [
    "type(l1)"
   ]
  },
  {
   "cell_type": "code",
   "execution_count": null,
   "id": "4c88ad78-4eaf-41b1-b5b2-8c83e7e652a7",
   "metadata": {},
   "outputs": [],
   "source": [
    "st"
   ]
  },
  {
   "cell_type": "code",
   "execution_count": null,
   "id": "969085d6-3f2a-4142-8777-c114e1fcea7d",
   "metadata": {},
   "outputs": [],
   "source": [
    "st[9]"
   ]
  },
  {
   "cell_type": "code",
   "execution_count": null,
   "id": "bf7bbfd9-0d27-422a-8218-15bfa18b7f9f",
   "metadata": {},
   "outputs": [],
   "source": [
    "st[19]"
   ]
  },
  {
   "cell_type": "code",
   "execution_count": null,
   "id": "b9d7caec-1f14-410b-9078-6403318a7330",
   "metadata": {},
   "outputs": [],
   "source": [
    "st[24]"
   ]
  },
  {
   "cell_type": "code",
   "execution_count": null,
   "id": "519e7a3b-e5c2-4432-a26f-2bf1b906fa58",
   "metadata": {},
   "outputs": [],
   "source": [
    "len(st)"
   ]
  },
  {
   "cell_type": "code",
   "execution_count": null,
   "id": "b6388906-741d-430e-8388-2213d00c78fa",
   "metadata": {},
   "outputs": [],
   "source": [
    "st[-1]"
   ]
  },
  {
   "cell_type": "code",
   "execution_count": null,
   "id": "f4ae327e-9eb0-4605-9cb8-46152dd4778c",
   "metadata": {},
   "outputs": [],
   "source": [
    "st[-0]"
   ]
  },
  {
   "cell_type": "code",
   "execution_count": null,
   "id": "2601e4b7-3882-4ea9-84dc-3962ca65ca84",
   "metadata": {},
   "outputs": [],
   "source": [
    "st[-21]"
   ]
  },
  {
   "cell_type": "code",
   "execution_count": null,
   "id": "d0ac3693-59c2-4022-a1a9-7a3c1c32fcd3",
   "metadata": {},
   "outputs": [],
   "source": [
    "st[ : ]"
   ]
  },
  {
   "cell_type": "code",
   "execution_count": null,
   "id": "7638ec3e-4dd6-4819-a31e-53e3272f0425",
   "metadata": {},
   "outputs": [],
   "source": [
    "st[2 : ]"
   ]
  },
  {
   "cell_type": "code",
   "execution_count": null,
   "id": "bb47e814-f998-47c6-bfbc-8b70d86b5e4e",
   "metadata": {},
   "outputs": [],
   "source": [
    "st[ 2 : 10]"
   ]
  },
  {
   "cell_type": "code",
   "execution_count": null,
   "id": "902c0804-d0f9-46cc-823d-7bd6a2fff95e",
   "metadata": {},
   "outputs": [],
   "source": [
    "st[2 : -1]"
   ]
  },
  {
   "cell_type": "code",
   "execution_count": null,
   "id": "4aa885d5-21c6-44e5-85a0-ac2c27e6f163",
   "metadata": {},
   "outputs": [],
   "source": [
    "st[-9 : ]"
   ]
  },
  {
   "cell_type": "code",
   "execution_count": null,
   "id": "c448ae61-c718-4eb9-a12b-10d170349ca9",
   "metadata": {},
   "outputs": [],
   "source": [
    "st[ 2 : 0 ]"
   ]
  },
  {
   "cell_type": "code",
   "execution_count": null,
   "id": "c4113b92-b739-4de6-9a7b-2d33582cfa94",
   "metadata": {},
   "outputs": [],
   "source": [
    "st[ 0 : -21]"
   ]
  },
  {
   "cell_type": "code",
   "execution_count": null,
   "id": "7cb8591e-d5c4-4d82-b305-0f1229b77944",
   "metadata": {},
   "outputs": [],
   "source": [
    "l1 "
   ]
  },
  {
   "cell_type": "code",
   "execution_count": null,
   "id": "2939edd0-e348-4b49-b0a0-6ff6b3dded73",
   "metadata": {},
   "outputs": [],
   "source": [
    "l1[6]"
   ]
  },
  {
   "cell_type": "code",
   "execution_count": null,
   "id": "6b76724d-ca45-42ce-9ae0-c0aa8223889d",
   "metadata": {},
   "outputs": [],
   "source": [
    "l1[5]"
   ]
  },
  {
   "cell_type": "code",
   "execution_count": null,
   "id": "6e9036db-5a38-4aa0-a2ea-4efe49199ac0",
   "metadata": {},
   "outputs": [],
   "source": [
    "l1[7][2]"
   ]
  },
  {
   "cell_type": "code",
   "execution_count": null,
   "id": "4b9b7ea1-5046-4a0b-9da3-c2c6f7691a8e",
   "metadata": {},
   "outputs": [],
   "source": [
    "l1[:3]"
   ]
  },
  {
   "cell_type": "code",
   "execution_count": null,
   "id": "9029213f-3f9f-4a12-a13e-00ccfcd4af5b",
   "metadata": {},
   "outputs": [],
   "source": [
    "l1[ : ]"
   ]
  },
  {
   "cell_type": "code",
   "execution_count": null,
   "id": "809c05de-2ce1-46d2-91f4-22fbda06573a",
   "metadata": {},
   "outputs": [],
   "source": [
    "l1[7:][0][2]"
   ]
  },
  {
   "cell_type": "code",
   "execution_count": null,
   "id": "fa8f7e9e-2546-4944-a524-8685d3281634",
   "metadata": {},
   "outputs": [],
   "source": [
    "l1[ : ][7][2]"
   ]
  },
  {
   "cell_type": "code",
   "execution_count": null,
   "id": "eb5b923a-059e-4314-bad8-395756c0269f",
   "metadata": {},
   "outputs": [],
   "source": [
    "l1"
   ]
  },
  {
   "cell_type": "code",
   "execution_count": null,
   "id": "545dfb8f-afaa-4b53-9f30-06f3654b9d29",
   "metadata": {},
   "outputs": [],
   "source": [
    "l1.append(\"hi\")"
   ]
  },
  {
   "cell_type": "code",
   "execution_count": null,
   "id": "a6b3ddd5-a2a3-4513-9fd9-c7f3c44c3e8c",
   "metadata": {},
   "outputs": [],
   "source": [
    "l1"
   ]
  },
  {
   "cell_type": "code",
   "execution_count": null,
   "id": "ec22bb16-2165-4f81-81e2-f0b28072b2ae",
   "metadata": {},
   "outputs": [],
   "source": [
    "l1.insert(3, \"Tushar\")"
   ]
  },
  {
   "cell_type": "code",
   "execution_count": null,
   "id": "dabe1144-6f45-4c66-baf9-90da665adad0",
   "metadata": {},
   "outputs": [],
   "source": [
    "l1"
   ]
  },
  {
   "cell_type": "code",
   "execution_count": null,
   "id": "0960af8f-09d0-48d4-835f-f1f1532cf42e",
   "metadata": {},
   "outputs": [],
   "source": [
    "# question : reverese the given list"
   ]
  },
  {
   "cell_type": "code",
   "execution_count": null,
   "id": "ab740464-fd8a-45e5-943a-f54f1e3e8315",
   "metadata": {},
   "outputs": [],
   "source": [
    "l2 = []\n",
    "for i in l1:\n",
    "    # print(i)\n",
    "    l2.insert(0, i)\n",
    "l2    "
   ]
  },
  {
   "cell_type": "code",
   "execution_count": 140,
   "id": "57aa9d12-007c-4e06-9f2f-279a4642e04b",
   "metadata": {},
   "outputs": [
    {
     "data": {
      "text/plain": [
       "'this is data analysis'"
      ]
     },
     "execution_count": 140,
     "metadata": {},
     "output_type": "execute_result"
    }
   ],
   "source": [
    "st "
   ]
  },
  {
   "cell_type": "code",
   "execution_count": 141,
   "id": "ed7756da-6c17-4363-9ed1-85d3a95fe84a",
   "metadata": {},
   "outputs": [
    {
     "data": {
      "text/plain": [
       "'this is data analysis'"
      ]
     },
     "execution_count": 141,
     "metadata": {},
     "output_type": "execute_result"
    }
   ],
   "source": [
    "st"
   ]
  },
  {
   "cell_type": "code",
   "execution_count": 142,
   "id": "fa56c306-b139-47e6-b224-0786e2776ed8",
   "metadata": {},
   "outputs": [
    {
     "data": {
      "text/plain": [
       "['this', 'is', 'data', 'analysis']"
      ]
     },
     "execution_count": 142,
     "metadata": {},
     "output_type": "execute_result"
    }
   ],
   "source": [
    "st.split()"
   ]
  },
  {
   "cell_type": "code",
   "execution_count": 143,
   "id": "04e65a6c-0f47-42a7-be6c-aba52f625efa",
   "metadata": {},
   "outputs": [
    {
     "data": {
      "text/plain": [
       "[2, 3, 4, 'Tushar', 7, 'Heemang', True, 49.98, [2, 3, True, range(0, 6)], 'hi']"
      ]
     },
     "execution_count": 143,
     "metadata": {},
     "output_type": "execute_result"
    }
   ],
   "source": [
    "l1"
   ]
  },
  {
   "cell_type": "code",
   "execution_count": 144,
   "id": "3af9376b-153f-4946-8fe7-0f0a790962b9",
   "metadata": {},
   "outputs": [
    {
     "data": {
      "text/plain": [
       "'hi'"
      ]
     },
     "execution_count": 144,
     "metadata": {},
     "output_type": "execute_result"
    }
   ],
   "source": [
    "l1.pop()"
   ]
  },
  {
   "cell_type": "code",
   "execution_count": 145,
   "id": "672a3773-58c9-4107-b832-230e057f1b66",
   "metadata": {},
   "outputs": [
    {
     "data": {
      "text/plain": [
       "[2, 3, 4, 'Tushar', 7, 'Heemang', True, 49.98, [2, 3, True, range(0, 6)]]"
      ]
     },
     "execution_count": 145,
     "metadata": {},
     "output_type": "execute_result"
    }
   ],
   "source": [
    "l1"
   ]
  },
  {
   "cell_type": "code",
   "execution_count": 146,
   "id": "c7b537e2-d6c7-420c-82d2-c0089d95c6f8",
   "metadata": {},
   "outputs": [
    {
     "data": {
      "text/plain": [
       "49.98"
      ]
     },
     "execution_count": 146,
     "metadata": {},
     "output_type": "execute_result"
    }
   ],
   "source": [
    "l1.pop(-2)"
   ]
  },
  {
   "cell_type": "code",
   "execution_count": 147,
   "id": "87df01a6-d7f3-4f09-a356-eabf1babae7d",
   "metadata": {},
   "outputs": [],
   "source": [
    "l1.reverse()"
   ]
  },
  {
   "cell_type": "code",
   "execution_count": 148,
   "id": "15d88f94-aa1b-45b6-9fcd-4111fba4a9f0",
   "metadata": {},
   "outputs": [
    {
     "data": {
      "text/plain": [
       "[[2, 3, True, range(0, 6)], True, 'Heemang', 7, 'Tushar', 4, 3, 2]"
      ]
     },
     "execution_count": 148,
     "metadata": {},
     "output_type": "execute_result"
    }
   ],
   "source": [
    "l1"
   ]
  },
  {
   "cell_type": "code",
   "execution_count": 150,
   "id": "02a3c8ad-8eb5-446e-b1e9-273aa56e4cdd",
   "metadata": {},
   "outputs": [
    {
     "ename": "TypeError",
     "evalue": "'<' not supported between instances of 'bool' and 'list'",
     "output_type": "error",
     "traceback": [
      "\u001b[1;31m---------------------------------------------------------------------------\u001b[0m",
      "\u001b[1;31mTypeError\u001b[0m                                 Traceback (most recent call last)",
      "Cell \u001b[1;32mIn[150], line 1\u001b[0m\n\u001b[1;32m----> 1\u001b[0m \u001b[38;5;28msorted\u001b[39m(l1)\n",
      "\u001b[1;31mTypeError\u001b[0m: '<' not supported between instances of 'bool' and 'list'"
     ]
    }
   ],
   "source": [
    "sorted(l1)"
   ]
  },
  {
   "cell_type": "code",
   "execution_count": 153,
   "id": "4da59263-42d7-48ac-91ba-5e091a3d498d",
   "metadata": {},
   "outputs": [],
   "source": [
    "a = [9,2,5,7,3,32,91]"
   ]
  },
  {
   "cell_type": "code",
   "execution_count": 154,
   "id": "6346f00d-5032-4365-ae83-0aaa94f137b1",
   "metadata": {},
   "outputs": [
    {
     "data": {
      "text/plain": [
       "[2, 3, 5, 7, 9, 32, 91]"
      ]
     },
     "execution_count": 154,
     "metadata": {},
     "output_type": "execute_result"
    }
   ],
   "source": [
    "sorted(a)"
   ]
  },
  {
   "cell_type": "code",
   "execution_count": 155,
   "id": "455139d9-9f24-4b0b-b1d8-42253860ff9a",
   "metadata": {},
   "outputs": [
    {
     "data": {
      "text/plain": [
       "[91, 32, 9, 7, 5, 3, 2]"
      ]
     },
     "execution_count": 155,
     "metadata": {},
     "output_type": "execute_result"
    }
   ],
   "source": [
    "sorted(a, reverse=True)"
   ]
  },
  {
   "cell_type": "code",
   "execution_count": 156,
   "id": "24f8384c-4cfe-46ab-8bd9-eebb404eae78",
   "metadata": {},
   "outputs": [
    {
     "name": "stdout",
     "output_type": "stream",
     "text": [
      "[[2, 3, True, range(0, 6), 'hi'], 49.98, True, 'Heemang', 7, 'Tushar', 4, 3, 2]\n"
     ]
    }
   ],
   "source": [
    "l1 = [2, 3, 4, 'Tushar', 7, 'Heemang', True, 49.98, [2, 3, True, range(0, 6), 'hi']]\n",
    "\n",
    "reversed_list = list(reversed(l1))\n",
    "\n",
    "print(reversed_list)"
   ]
  },
  {
   "cell_type": "code",
   "execution_count": 159,
   "id": "9b3f0ee7-40e5-4788-a6a9-1186c32357b4",
   "metadata": {},
   "outputs": [
    {
     "data": {
      "text/plain": [
       "[[2, 3, True, range(0, 6), 'hi'], 49.98, True, 'Heemang', 7, 'Tushar', 4, 3, 2]"
      ]
     },
     "execution_count": 159,
     "metadata": {},
     "output_type": "execute_result"
    }
   ],
   "source": [
    "list(reversed(l1))"
   ]
  },
  {
   "cell_type": "code",
   "execution_count": null,
   "id": "06f7b106-0291-450e-a1ee-f53025cb200c",
   "metadata": {},
   "outputs": [],
   "source": []
  }
 ],
 "metadata": {
  "kernelspec": {
   "display_name": "Python 3 (ipykernel)",
   "language": "python",
   "name": "python3"
  },
  "language_info": {
   "codemirror_mode": {
    "name": "ipython",
    "version": 3
   },
   "file_extension": ".py",
   "mimetype": "text/x-python",
   "name": "python",
   "nbconvert_exporter": "python",
   "pygments_lexer": "ipython3",
   "version": "3.12.7"
  }
 },
 "nbformat": 4,
 "nbformat_minor": 5
}
