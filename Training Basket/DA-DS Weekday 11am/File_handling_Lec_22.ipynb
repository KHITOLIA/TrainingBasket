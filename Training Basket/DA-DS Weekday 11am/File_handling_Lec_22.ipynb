{
 "cells": [
  {
   "cell_type": "code",
   "execution_count": 73,
   "id": "cd1fd25d",
   "metadata": {},
   "outputs": [],
   "source": [
    "file = open('file.txt', 'r')"
   ]
  },
  {
   "cell_type": "code",
   "execution_count": 74,
   "id": "0ad278ef",
   "metadata": {},
   "outputs": [
    {
     "name": "stdout",
     "output_type": "stream",
     "text": [
      "<_io.TextIOWrapper name='file.txt' mode='r' encoding='UTF-8'>\n"
     ]
    }
   ],
   "source": [
    "print(file)"
   ]
  },
  {
   "cell_type": "code",
   "execution_count": 75,
   "id": "24421a95",
   "metadata": {},
   "outputs": [
    {
     "data": {
      "text/plain": [
       "'Hell'"
      ]
     },
     "execution_count": 75,
     "metadata": {},
     "output_type": "execute_result"
    }
   ],
   "source": [
    "file.read(4)"
   ]
  },
  {
   "cell_type": "code",
   "execution_count": 76,
   "id": "d9abce55",
   "metadata": {},
   "outputs": [
    {
     "data": {
      "text/plain": [
       "'o world!\\nGood evening!Machine Learning!'"
      ]
     },
     "execution_count": 76,
     "metadata": {},
     "output_type": "execute_result"
    }
   ],
   "source": [
    "file.read(-1)\n",
    "# file.read() # Same as line above"
   ]
  },
  {
   "cell_type": "code",
   "execution_count": 77,
   "id": "0e8c305f",
   "metadata": {},
   "outputs": [],
   "source": [
    "file.close()"
   ]
  },
  {
   "cell_type": "code",
   "execution_count": 17,
   "id": "467c1ccd",
   "metadata": {},
   "outputs": [
    {
     "name": "stdout",
     "output_type": "stream",
     "text": [
      "9\n"
     ]
    }
   ],
   "source": [
    "lst = [1,2,3,4,5,6,7,8,9]\n",
    "print(lst[-1])"
   ]
  },
  {
   "cell_type": "code",
   "execution_count": 31,
   "id": "4d8b5ac0",
   "metadata": {},
   "outputs": [],
   "source": [
    "file = open('file.txt')"
   ]
  },
  {
   "cell_type": "code",
   "execution_count": 32,
   "id": "34062a1f",
   "metadata": {},
   "outputs": [
    {
     "name": "stdout",
     "output_type": "stream",
     "text": [
      "Hello world!\n",
      "\n",
      "Good evening!\n"
     ]
    }
   ],
   "source": [
    "for _ in range(2):\n",
    "    print(file.readline())"
   ]
  },
  {
   "cell_type": "code",
   "execution_count": 33,
   "id": "9e5f1e83",
   "metadata": {},
   "outputs": [],
   "source": [
    "file.close()"
   ]
  },
  {
   "cell_type": "code",
   "execution_count": 34,
   "id": "199e76a0",
   "metadata": {},
   "outputs": [
    {
     "name": "stdout",
     "output_type": "stream",
     "text": [
      "H\n",
      "e\n",
      "l\n",
      "l\n",
      "o\n",
      " \n",
      "w\n",
      "o\n",
      "r\n",
      "l\n",
      "d\n",
      "!\n",
      "\n",
      "\n"
     ]
    }
   ],
   "source": [
    "file = open('file.txt', 'r')\n",
    "for i in file.readline():\n",
    "    print(i)\n",
    "file.close()"
   ]
  },
  {
   "cell_type": "code",
   "execution_count": 48,
   "id": "04423138",
   "metadata": {},
   "outputs": [
    {
     "name": "stdout",
     "output_type": "stream",
     "text": [
      "['Hello world!\\n', 'Good evening!']\n"
     ]
    }
   ],
   "source": [
    "file = open('file.txt', 'r')\n",
    "print(file.readlines(-1))\n",
    "file.close()"
   ]
  },
  {
   "cell_type": "code",
   "execution_count": 41,
   "id": "d222d9e5",
   "metadata": {},
   "outputs": [
    {
     "name": "stdout",
     "output_type": "stream",
     "text": [
      "Hello world!\n",
      "\n",
      "Good evening!\n"
     ]
    }
   ],
   "source": [
    "for i in file.readlines():\n",
    "    print(i)\n",
    "file.close()"
   ]
  },
  {
   "cell_type": "code",
   "execution_count": 42,
   "id": "2abad816",
   "metadata": {},
   "outputs": [],
   "source": [
    "file.readlines?"
   ]
  },
  {
   "cell_type": "code",
   "execution_count": 78,
   "id": "d84377f6",
   "metadata": {},
   "outputs": [
    {
     "name": "stdout",
     "output_type": "stream",
     "text": [
      "Hello \n"
     ]
    }
   ],
   "source": [
    "file = open('file.txt', 'r')\n",
    "print(file.read(6))"
   ]
  },
  {
   "cell_type": "code",
   "execution_count": 79,
   "id": "f2210fe8",
   "metadata": {},
   "outputs": [
    {
     "data": {
      "text/plain": [
       "'wo'"
      ]
     },
     "execution_count": 79,
     "metadata": {},
     "output_type": "execute_result"
    }
   ],
   "source": [
    "file.read(2)"
   ]
  },
  {
   "cell_type": "code",
   "execution_count": 80,
   "id": "137b9fc9",
   "metadata": {},
   "outputs": [
    {
     "name": "stdout",
     "output_type": "stream",
     "text": [
      "Hello\n"
     ]
    }
   ],
   "source": [
    "file.seek(0)\n",
    "print(file.read(5))"
   ]
  },
  {
   "cell_type": "code",
   "execution_count": 81,
   "id": "ac780c7a",
   "metadata": {},
   "outputs": [],
   "source": [
    "file.close()"
   ]
  },
  {
   "cell_type": "code",
   "execution_count": 63,
   "id": "6d27f5d2",
   "metadata": {},
   "outputs": [],
   "source": [
    "file = open('abhijeet.txt', 'w')"
   ]
  },
  {
   "cell_type": "code",
   "execution_count": 64,
   "id": "273c03c6",
   "metadata": {},
   "outputs": [
    {
     "name": "stdout",
     "output_type": "stream",
     "text": [
      "Enter stringHello\n",
      "Enter stringworld\n",
      "Enter stringAbhijeet\n"
     ]
    }
   ],
   "source": [
    "for i in range(3):\n",
    "    inp = input('Enter string')\n",
    "    file.write(inp + '\\n')"
   ]
  },
  {
   "cell_type": "code",
   "execution_count": 65,
   "id": "3bfab84b",
   "metadata": {},
   "outputs": [],
   "source": [
    "file.close()"
   ]
  },
  {
   "cell_type": "code",
   "execution_count": 66,
   "id": "e992105f",
   "metadata": {},
   "outputs": [],
   "source": [
    "file = open('file.txt', 'a')\n",
    "file.write('Machine Learning!')\n",
    "file.close()"
   ]
  },
  {
   "cell_type": "code",
   "execution_count": 67,
   "id": "82a9d43c",
   "metadata": {},
   "outputs": [],
   "source": [
    "with open('abhijeet.txt', 'w') as file:\n",
    "    file.write('Machine Learning is best!')"
   ]
  },
  {
   "cell_type": "code",
   "execution_count": 83,
   "id": "a9146eb8",
   "metadata": {},
   "outputs": [
    {
     "name": "stdout",
     "output_type": "stream",
     "text": [
      "Enter num100\n",
      "Enter num100\n",
      "Enter num100\n",
      "Enter num100\n",
      "Enter num100\n",
      "Enter num100\n",
      "Enter num100\n"
     ]
    }
   ],
   "source": [
    "string = 'Machine learning programs can perform tasks without being explicitly programmed to do so. It involves computers learning from data provided so that they carry out certain tasks. For simple tasks assigned to computers, it is possible to program algorithms telling the machine how to execute all steps required to solve the problem at hand; on the computers part, no learning is needed. For more advanced tasks, it can be challenging for a human to manually create the needed algorithms. In practice, it can turn out to be more effective to help the machine develop its own algorithm, rather than having human programmers specify every needed step.[11]'\n",
    "it = 0\n",
    "f = open('File.txt', 'w')\n",
    "while(1):  \n",
    "    n = int(input(\"Enter num\"))\n",
    "    \n",
    "    f.write(string[it:it+n])\n",
    "    it = it + n\n",
    "    if(it >= len(string)):\n",
    "        break"
   ]
  },
  {
   "cell_type": "code",
   "execution_count": 84,
   "id": "5e8b76f2",
   "metadata": {},
   "outputs": [],
   "source": [
    "f.close()"
   ]
  },
  {
   "cell_type": "code",
   "execution_count": 89,
   "id": "0577d0cb",
   "metadata": {},
   "outputs": [
    {
     "name": "stdout",
     "output_type": "stream",
     "text": [
      "Enter length: 100\n",
      "Enter length: 100\n",
      "Enter length: 100\n",
      "Enter length: 100\n",
      "Enter length: 100\n",
      "Enter length: 100\n",
      "Enter length: 100\n"
     ]
    }
   ],
   "source": [
    "file = open('wiki_ML.txt', 'w')\n",
    "\n",
    "# inp = 100\n",
    "string = 'Machine learning programs can perform tasks without being explicitly programmed to do so. It involves computers learning from data provided so that they carry out certain tasks. For simple tasks assigned to computers, it is possible to program algorithms telling the machine how to execute all steps required to solve the problem at hand; on the computers part, no learning is needed. For more advanced tasks, it can be challenging for a human to manually create the needed algorithms. In practice, it can turn out to be more effective to help the machine develop its own algorithm, rather than having human programmers specify every needed step.[11]'\n",
    "\n",
    "for i in range(len(string)):\n",
    "    if i*inp>=len(string):\n",
    "        break\n",
    "        \n",
    "    inp = int(input('Enter length: '))\n",
    "    part_string = string[i*inp : i*inp + inp]\n",
    "    file.write(part_string + '\\n')\n",
    "    \n",
    "file.close()"
   ]
  },
  {
   "cell_type": "code",
   "execution_count": 92,
   "id": "dcca4526",
   "metadata": {},
   "outputs": [
    {
     "name": "stdout",
     "output_type": "stream",
     "text": [
      "0 M\n",
      "1 a\n",
      "2 c\n",
      "3 h\n",
      "4 i\n",
      "5 n\n",
      "6 e\n",
      "7  \n",
      "8 l\n",
      "9 e\n",
      "10 a\n"
     ]
    }
   ],
   "source": [
    "for i, j in enumerate(string):\n",
    "    print(i, j)\n",
    "    if i == 10:\n",
    "        break"
   ]
  },
  {
   "cell_type": "code",
   "execution_count": 100,
   "id": "1c168e18",
   "metadata": {},
   "outputs": [
    {
     "data": {
      "text/plain": [
       "'t being explicitly programmed to do so. '"
      ]
     },
     "execution_count": 100,
     "metadata": {},
     "output_type": "execute_result"
    }
   ],
   "source": [
    "string[50:90]"
   ]
  },
  {
   "cell_type": "code",
   "execution_count": 101,
   "id": "a733068e",
   "metadata": {},
   "outputs": [
    {
     "data": {
      "text/plain": [
       "'Machine learning programs can perform tasks without being explicitly programmed to do so. It involves computers learning from data provided so that they carry out certain tasks. For simple tasks assigned to computers, it is possible to program algorithms telling the machine how to execute all steps required to solve the problem at hand; on the computers part, no learning is needed. For more advanced tasks, it can be challenging for a human to manually create the needed algorithms. In practice, it can turn out to be more effective to help the machine develop its own algorithm, rather than having human programmers specify every needed step.[11]'"
      ]
     },
     "execution_count": 101,
     "metadata": {},
     "output_type": "execute_result"
    }
   ],
   "source": [
    "string"
   ]
  },
  {
   "cell_type": "code",
   "execution_count": 150,
   "id": "59ecd4ac",
   "metadata": {},
   "outputs": [],
   "source": [
    "# try and except\n",
    "def divider(a, b):\n",
    "    \n",
    "    try:\n",
    "        return a/b\n",
    "    except ZeroDivisionError:\n",
    "        print(\"Zero Division Error! Denominator is 0\")\n",
    "        return 0\n",
    "    except TypeError:\n",
    "        print(\"String given\")\n",
    "    except AttributeError:\n",
    "        print(\"Name error\")\n",
    "    finally:\n",
    "        c = int(input('Enter Denominator: '))\n",
    "        print('Chalega hi chalega')\n",
    "#         return a/c\n",
    "#     return a/b"
   ]
  },
  {
   "cell_type": "code",
   "execution_count": 151,
   "id": "5c0e324e",
   "metadata": {},
   "outputs": [
    {
     "name": "stdout",
     "output_type": "stream",
     "text": [
      "Enter Denominator: 100\n",
      "Chalega hi chalega\n",
      "1.1111111111111112\n"
     ]
    }
   ],
   "source": [
    "a = divider(100, 90)\n",
    "print(a)"
   ]
  },
  {
   "cell_type": "code",
   "execution_count": 2,
   "id": "ed8bde01",
   "metadata": {},
   "outputs": [],
   "source": [
    "# try and except\n",
    "def divider(a, b):\n",
    "    \n",
    "    try:\n",
    "        if a == 50:\n",
    "            raise ZeroDivisionError('Dont enter 50 again')\n",
    "        return a/b\n",
    "    except:\n",
    "        print(\"Something is wrong!\")"
   ]
  },
  {
   "cell_type": "code",
   "execution_count": 3,
   "id": "7c03976e",
   "metadata": {},
   "outputs": [
    {
     "name": "stdout",
     "output_type": "stream",
     "text": [
      "Something is wrong!\n",
      "None\n"
     ]
    }
   ],
   "source": [
    "print(divider(50, 0))"
   ]
  },
  {
   "cell_type": "code",
   "execution_count": 1,
   "id": "9e50abbe",
   "metadata": {},
   "outputs": [
    {
     "ename": "OSError",
     "evalue": "Dont input 50",
     "output_type": "error",
     "traceback": [
      "\u001b[1;31m---------------------------------------------------------------------------\u001b[0m",
      "\u001b[1;31mOSError\u001b[0m                                   Traceback (most recent call last)",
      "Cell \u001b[1;32mIn[1], line 3\u001b[0m\n\u001b[0;32m      1\u001b[0m a \u001b[38;5;241m=\u001b[39m \u001b[38;5;241m50\u001b[39m \n\u001b[0;32m      2\u001b[0m \u001b[38;5;28;01mif\u001b[39;00m a \u001b[38;5;241m==\u001b[39m \u001b[38;5;241m50\u001b[39m:\n\u001b[1;32m----> 3\u001b[0m     \u001b[38;5;28;01mraise\u001b[39;00m \u001b[38;5;167;01mEnvironmentError\u001b[39;00m(\u001b[38;5;124m'\u001b[39m\u001b[38;5;124mDont input 50\u001b[39m\u001b[38;5;124m'\u001b[39m)\n",
      "\u001b[1;31mOSError\u001b[0m: Dont input 50"
     ]
    }
   ],
   "source": [
    "a = 50 \n",
    "if a == 50:\n",
    "    raise EnvironmentError('Dont input 50')"
   ]
  },
  {
   "cell_type": "code",
   "execution_count": 162,
   "id": "7573e1c0",
   "metadata": {},
   "outputs": [],
   "source": [
    "# try and except\n",
    "def divider(a, b):\n",
    "    \n",
    "#     if a == 50:\n",
    "#         raise TypeError('Custom message')\n",
    "    assert b != 0\n",
    "    return a/b"
   ]
  },
  {
   "cell_type": "code",
   "execution_count": 164,
   "id": "ab53f47b",
   "metadata": {},
   "outputs": [
    {
     "data": {
      "text/plain": [
       "5.0"
      ]
     },
     "execution_count": 164,
     "metadata": {},
     "output_type": "execute_result"
    }
   ],
   "source": [
    "divider(50, 10)"
   ]
  },
  {
   "cell_type": "code",
   "execution_count": 165,
   "id": "b0a4a4f1",
   "metadata": {},
   "outputs": [
    {
     "name": "stdout",
     "output_type": "stream",
     "text": [
      "{\n",
      "    \"0\": {\n",
      "        \"BTcode\": \"1111111\",\n",
      "        \"questions\": [\n",
      "            \"round-off onto the spr\n"
     ]
    }
   ],
   "source": [
    "with open('/Users/codingblocks/Downloads/BTcode.json', 'r') as file:\n",
    "    print(file.read(100))"
   ]
  },
  {
   "cell_type": "code",
   "execution_count": 166,
   "id": "ad192050",
   "metadata": {},
   "outputs": [],
   "source": [
    "import json"
   ]
  },
  {
   "cell_type": "code",
   "execution_count": 168,
   "id": "8ce41341",
   "metadata": {},
   "outputs": [
    {
     "name": "stdout",
     "output_type": "stream",
     "text": [
      "{'0': {'BTcode': '1111111', 'questions': ['round-off onto the springboard?', 'turning entry after round-off (turning in first flight phase)?', 'Facing the coming direction when handstand on vault (0.5 turn in first flight phase)?', 'Body keep stretched  during salto (stretched salto)?', 'Salto with turn?', 'Facing vault table after landing?', 'Salto with 1.5 turn?'], 'code': '6.00'}, '1': {'BTcode': '1111110', 'questions': ['round-off onto the springboard?', 'turning entry after round-off (turning in first flight phase)?', 'Facing the coming direction when handstand on vault (0.5 turn in first flight phase)?', 'Body keep stretched  during salto (stretched salto)?', 'Salto with turn?', 'Facing vault table after landing?', 'Salto with 1.5 turn?'], 'code': '5.20'}, '2': {'BTcode': '1111101', 'questions': ['round-off onto the springboard?', 'turning entry after round-off (turning in first flight phase)?', 'Facing the coming direction when handstand on vault (0.5 turn in first flight phase)?', 'Body keep stretched  during salto (stretched salto)?', 'Salto with turn?', 'Facing vault table after landing?', 'Salto with 1 turn?'], 'code': '5.60'}, '3': {'BTcode': '1111100', 'questions': ['round-off onto the springboard?', 'turning entry after round-off (turning in first flight phase)?', 'Facing the coming direction when handstand on vault (0.5 turn in first flight phase)?', 'Body keep stretched  during salto (stretched salto)?', 'Salto with turn?', 'Facing vault table after landing?', 'Salto with 1 turn?'], 'code': '6.40'}, '4': {'BTcode': '11110', 'questions': ['round-off onto the springboard?', 'turning entry after round-off (turning in first flight phase)?', 'Facing the coming direction when handstand on vault (0.5 turn in first flight phase)?', 'Body keep stretched  during salto (stretched salto)?', 'Salto with turn?'], 'code': '4.80'}, '5': {'BTcode': '111011', 'questions': ['round-off onto the springboard?', 'turning entry after round-off (turning in first flight phase)?', 'Facing the coming direction when handstand on vault (0.5 turn in first flight phase)?', 'Body keep stretched  during salto (stretched salto)?', 'Salto piked  (body bent forward at the waist with the legs kept stretched )?', '0.5 turn with body being stretched before salto?'], 'code': '4.80'}, '6': {'BTcode': '11101011', 'questions': ['round-off onto the springboard?', 'turning entry after round-off (turning in first flight phase)?', 'Facing the coming direction when handstand on vault (0.5 turn in first flight phase)?', 'Body keep stretched  during salto (stretched salto)?', 'Salto piked  (body bent forward at the waist with the legs kept stretched )?', '0.5 turn with body being stretched before salto?', 'Facing vault table after landing?', 'Salto with 1.5 turn?'], 'code': '5.60'}, '7': {'BTcode': '11101010', 'questions': ['round-off onto the springboard?', 'turning entry after round-off (turning in first flight phase)?', 'Facing the coming direction when handstand on vault (0.5 turn in first flight phase)?', 'Body keep stretched  during salto (stretched salto)?', 'Salto piked  (body bent forward at the waist with the legs kept stretched )?', '0.5 turn with body being stretched before salto?', 'Facing vault table after landing?', 'Salto with 1.5 turn?'], 'code': '4.80'}, '8': {'BTcode': '11101001', 'questions': ['round-off onto the springboard?', 'turning entry after round-off (turning in first flight phase)?', 'Facing the coming direction when handstand on vault (0.5 turn in first flight phase)?', 'Body keep stretched  during salto (stretched salto)?', 'Salto piked  (body bent forward at the waist with the legs kept stretched )?', '0.5 turn with body being stretched before salto?', 'Facing vault table after landing?', 'Salto with turn?'], 'code': '5.20'}, '9': {'BTcode': '11101000', 'questions': ['round-off onto the springboard?', 'turning entry after round-off (turning in first flight phase)?', 'Facing the coming direction when handstand on vault (0.5 turn in first flight phase)?', 'Body keep stretched  during salto (stretched salto)?', 'Salto piked  (body bent forward at the waist with the legs kept stretched )?', '0.5 turn with body being stretched before salto?', 'Facing vault table after landing?', 'Salto with turn?'], 'code': '4.40'}, '10': {'BTcode': '11100111', 'questions': ['round-off onto the springboard?', 'turning entry after round-off (turning in first flight phase)?', 'Facing the coming direction when handstand on vault (0.5 turn in first flight phase)?', 'Body keep stretched  during salto (stretched salto)?', 'Salto piked  (body bent forward at the waist with the legs kept stretched )?', 'Salto with turn?', 'Facing vault table after landing?', '1.5 turn?'], 'code': '5.40'}, '11': {'BTcode': '11100110', 'questions': ['round-off onto the springboard?', 'turning entry after round-off (turning in first flight phase)?', 'Facing the coming direction when handstand on vault (0.5 turn in first flight phase)?', 'Body keep stretched  during salto (stretched salto)?', 'Salto piked  (body bent forward at the waist with the legs kept stretched )?', 'Salto with turn?', 'Facing vault table after landing?', '1.5 turn?'], 'code': '4.60'}, '12': {'BTcode': '1110010', 'questions': ['round-off onto the springboard?', 'turning entry after round-off (turning in first flight phase)?', 'Facing the coming direction when handstand on vault (0.5 turn in first flight phase)?', 'Body keep stretched  during salto (stretched salto)?', 'Salto piked  (body bent forward at the waist with the legs kept stretched )?', 'Salto with turn?', 'Facing vault table after landing?'], 'code': '5.00'}, '13': {'BTcode': '111000', 'questions': ['round-off onto the springboard?', 'turning entry after round-off (turning in first flight phase)?', 'Facing the coming direction when handstand on vault (0.5 turn in first flight phase)?', 'Body keep stretched  during salto (stretched salto)?', 'Salto piked  (body bent forward at the waist with the legs kept stretched )?', 'Salto with turn?'], 'code': '4.20'}, '14': {'BTcode': '11011', 'questions': ['round-off onto the springboard?', 'turning entry after round-off (turning in first flight phase)?', 'Facing the coming direction when handstand on vault (0.5 turn in first flight phase)?', 'Body keep stretched during salto (stretched salto)?', 'Salto with turn?'], 'code': '5.40'}, '15': {'BTcode': '11010', 'questions': ['round-off onto the springboard?', 'turning entry after round-off (turning in first flight phase)?', 'Facing the coming direction when handstand on vault (0.5 turn in first flight phase)?', 'Body keep stretched during salto (stretched salto)?', 'Salto with turn?'], 'code': '4.60'}, '16': {'BTcode': '11001', 'questions': ['round-off onto the springboard?', 'turning entry after round-off (turning in first flight phase)?', 'Facing the coming direction when handstand on vault (0.5 turn in first flight phase)?', 'Body keep stretched during salto (stretched salto)?', 'Pike salto (body bent forward at the waist with the legs kept stretched )?'], 'code': '4.20'}, '17': {'BTcode': '110001', 'questions': ['round-off onto the springboard?', 'turning entry after round-off (turning in first flight phase)?', 'Facing the coming direction when handstand on vault (0.5 turn in first flight phase)?', 'Body keep stretched during salto (stretched salto)?', 'Pike salto (body bent forward at the waist with the legs kept stretched )?', 'Salto with turn?'], 'code': '4.60'}, '18': {'BTcode': '110000', 'questions': ['round-off onto the springboard?', 'turning entry after round-off (turning in first flight phase)?', 'Facing the coming direction when handstand on vault (0.5 turn in first flight phase)?', 'Body keep stretched during salto (stretched salto)?', 'Pike salto (body bent forward at the waist with the legs kept stretched )?', 'Salto with turn?'], 'code': '4.00'}, '19': {'BTcode': '101111', 'questions': ['round-off onto the springboard?', 'turning entry after round-off (turning in first flight phase)?', 'Body keep stretched  during salto (stretched salto)?', 'Salto with turn?', 'Facing vault table after landing?', '2 turn?'], 'code': '5.40'}, '20': {'BTcode': '101110', 'questions': ['round-off onto the springboard?', 'turning entry after round-off (turning in first flight phase)?', 'Body keep stretched  during salto (stretched salto)?', 'Salto with turn?', 'Facing vault table after landing?', '2 turn?'], 'code': '4.60'}, '21': {'BTcode': '101101', 'questions': ['round-off onto the springboard?', 'turning entry after round-off (turning in first flight phase)?', 'Body keep stretched  during salto (stretched salto)?', 'Salto with turn?', 'Facing vault table after landing?', '1.5 turn?'], 'code': '5.00'}, '22': {'BTcode': '1011001', 'questions': ['round-off onto the springboard?', 'turning entry after round-off (turning in first flight phase)?', 'Body keep stretched  during salto (stretched salto)?', 'Salto with turn?', 'Facing vault table after landing?', '1.5 turn?', '0.5 turn?'], 'code': '4.20'}, '23': {'BTcode': '1011000', 'questions': ['round-off onto the springboard?', 'turning entry after round-off (turning in first flight phase)?', 'Body keep stretched  during salto (stretched salto)?', 'Salto with turn?', 'Facing vault table after landing?', '1.5 turn?', '0.5 turn?'], 'code': '5.80'}, '24': {'BTcode': '1010', 'questions': ['round-off onto the springboard?', 'turning entry after round-off (turning in first flight phase)?', 'Body keep stretched  during salto (stretched salto)?', 'Salto with turn?'], 'code': '4.00'}, '25': {'BTcode': '1001', 'questions': ['round-off onto the springboard?', 'turning entry after round-off (turning in first flight phase)?', 'Body keep stretched  during salto (stretched salto)?', 'Pike salto (body bent forward at the waist with the legs kept stretched )?'], 'code': '3.50'}, '26': {'BTcode': '100011', 'questions': ['round-off onto the springboard?', 'turning entry after round-off (turning in first flight phase)?', 'Body keep stretched  during salto (stretched salto)?', 'Pike salto (body bent forward at the waist with the legs kept stretched )?', 'Salto with turn?', 'Facing vault table after landing?'], 'code': '3.90'}, '27': {'BTcode': '1000101', 'questions': ['round-off onto the springboard?', 'turning entry after round-off (turning in first flight phase)?', 'Body keep stretched  during salto (stretched salto)?', 'Pike salto (body bent forward at the waist with the legs kept stretched )?', 'Salto with turn?', 'Facing vault table after landing?', '1.5 turn?'], 'code': '4.20'}, '28': {'BTcode': '1000100', 'questions': ['round-off onto the springboard?', 'turning entry after round-off (turning in first flight phase)?', 'Body keep stretched  during salto (stretched salto)?', 'Pike salto (body bent forward at the waist with the legs kept stretched )?', 'Salto with turn?', 'Facing vault table after landing?', '1.5 turn?'], 'code': '3.60'}, '29': {'BTcode': '10000', 'questions': ['round-off onto the springboard?', 'turning entry after round-off (turning in first flight phase)?', 'Body keep stretched  during salto (stretched salto)?', 'Pike salto (body bent forward at the waist with the legs kept stretched )?', 'Salto with turn?'], 'code': '3.30'}, '30': {'BTcode': '011111', 'questions': ['round-off onto the springboard?', 'Tsukahara (front handspring with 0.5 or 0.25 turn in pre-flight) ?', 'Body keep stretched  during salto (stretched salto)?', 'Salto with turn?', 'Facing vault table after landing?', '2 turn?'], 'code': '5.60'}, '31': {'BTcode': '011110', 'questions': ['round-off onto the springboard?', 'Tsukahara (front handspring with 0.5 or 0.25 turn in pre-flight) ?', 'Body keep stretched  during salto (stretched salto)?', 'Salto with turn?', 'Facing vault table after landing?', '2 turn?'], 'code': '4.80'}, '32': {'BTcode': '011101', 'questions': ['round-off onto the springboard?', 'Tsukahara (front handspring with 0.5 or 0.25 turn in pre-flight) ?', 'Body keep stretched  during salto (stretched salto)?', 'Salto with turn?', 'Facing vault table after landing?', '1.5 turn?'], 'code': '5.20'}, '33': {'BTcode': '0111001', 'questions': ['round-off onto the springboard?', 'Tsukahara (front handspring with 0.5 or 0.25 turn in pre-flight) ?', 'Body keep stretched  during salto (stretched salto)?', 'Salto with turn?', 'Facing vault table after landing?', '1.5 turn?', '0.5 turn?'], 'code': '4.40'}, '34': {'BTcode': '0111000', 'questions': ['round-off onto the springboard?', 'Tsukahara (front handspring with 0.5 or 0.25 turn in pre-flight) ?', 'Body keep stretched  during salto (stretched salto)?', 'Salto with turn?', 'Facing vault table after landing?', '1.5 turn?', '0.5 turn?'], 'code': '6.00'}, '35': {'BTcode': '01101', 'questions': ['round-off onto the springboard?', 'Tsukahara (front handspring with 0.5 or 0.25 turn in pre-flight) ?', 'Body keep stretched  during salto (stretched salto)?', 'Salto with turn?', 'Salto?'], 'code': '4.20'}, '36': {'BTcode': '01100', 'questions': ['round-off onto the springboard?', 'Tsukahara (front handspring with 0.5 or 0.25 turn in pre-flight) ?', 'Body keep stretched  during salto (stretched salto)?', 'Salto with turn?', 'Salto?'], 'code': '3.20'}, '37': {'BTcode': '0101', 'questions': ['round-off onto the springboard?', 'Tsukahara (front handspring with 0.5 or 0.25 turn in pre-flight) ?', 'Body keep stretched  during salto (stretched salto)?', 'Pike salto (body bent forward at the waist with the legs kept stretched )?'], 'code': '3.80'}, '38': {'BTcode': '010011', 'questions': ['round-off onto the springboard?', 'Tsukahara (front handspring with 0.5 or 0.25 turn in pre-flight) ?', 'Body keep stretched  during salto (stretched salto)?', 'Pike salto (body bent forward at the waist with the legs kept stretched )?', 'Salto with turn?', 'Facing vault table after landing?'], 'code': '4.10'}, '39': {'BTcode': '0100101', 'questions': ['round-off onto the springboard?', 'Tsukahara (front handspring with 0.5 or 0.25 turn in pre-flight) ?', 'Body keep stretched  during salto (stretched salto)?', 'Pike salto (body bent forward at the waist with the legs kept stretched )?', 'Salto with turn?', 'Facing vault table after landing?', '1.5 turn?'], 'code': '4.40'}, '40': {'BTcode': '0100100', 'questions': ['round-off onto the springboard?', 'Tsukahara (front handspring with 0.5 or 0.25 turn in pre-flight) ?', 'Body keep stretched  during salto (stretched salto)?', 'Pike salto (body bent forward at the waist with the legs kept stretched )?', 'Salto with turn?', 'Facing vault table after landing?', '1.5 turn?'], 'code': '3.80'}, '41': {'BTcode': '01000', 'questions': ['round-off onto the springboard?', 'Tsukahara (front handspring with 0.5 or 0.25 turn in pre-flight) ?', 'Body keep stretched  during salto (stretched salto)?', 'Pike salto (body bent forward at the waist with the legs kept stretched )?', 'Salto with turn?'], 'code': '3.50'}, '42': {'BTcode': '001101', 'questions': ['round-off onto the springboard?', 'Tsukahara (front handspring with 0.5 or 0.25 turn in pre-flight) ?', 'Twisting body before touching the vault table?', 'Facing the opposite of the coming direction when handstand on vault?', 'With salto?', 'With turn?'], 'code': '2.80'}, '43': {'BTcode': '001001', 'questions': ['round-off onto the springboard?', 'Tsukahara (front handspring with 0.5 or 0.25 turn in pre-flight) ?', 'Twisting body before touching the vault table?', 'Facing the opposite of the coming direction when handstand on vault?', 'With salto?', 'With turn?'], 'code': '4.00'}, '44': {'BTcode': '001000', 'questions': ['round-off onto the springboard?', 'Tsukahara (front handspring with 0.5 or 0.25 turn in pre-flight) ?', 'Twisting body before touching the vault table?', 'Facing the opposite of the coming direction when handstand on vault?', 'With salto?', 'With turn?'], 'code': '3.60'}, '45': {'BTcode': '00011111', 'questions': ['round-off onto the springboard?', 'Tsukahara (front handspring with 0.5 or 0.25 turn in pre-flight) ?', 'Twisting body before touching the vault table?', 'Salto off?', 'body keep stretched  during salto (stretched salto)?', 'Salto with turn?', 'Facing vault table after landing?', '1.5 turn?'], 'code': '5.80'}, '46': {'BTcode': '00011110', 'questions': ['round-off onto the springboard?', 'Tsukahara (front handspring with 0.5 or 0.25 turn in pre-flight) ?', 'Twisting body before touching the vault table?', 'Salto off?', 'body keep stretched  during salto (stretched salto)?', 'Salto with turn?', 'Facing vault table after landing?', '1.5 turn?'], 'code': '5.00'}, '47': {'BTcode': '0001110', 'questions': ['round-off onto the springboard?', 'Tsukahara (front handspring with 0.5 or 0.25 turn in pre-flight) ?', 'Twisting body before touching the vault table?', 'Salto off?', 'body keep stretched  during salto (stretched salto)?', 'Salto with turn?', 'Facing vault table after landing?'], 'code': '5.40'}, '48': {'BTcode': '000110', 'questions': ['round-off onto the springboard?', 'Tsukahara (front handspring with 0.5 or 0.25 turn in pre-flight) ?', 'Twisting body before touching the vault table?', 'Salto off?', 'body keep stretched  during salto (stretched salto)?', 'Salto with turn?'], 'code': '4.60'}, '49': {'BTcode': '00010111', 'questions': ['round-off onto the springboard?', 'Tsukahara (front handspring with 0.5 or 0.25 turn in pre-flight) ?', 'Twisting body before touching the vault table?', 'Salto off?', 'body keep stretched  during salto (stretched salto)?', 'Pike salto (body bent forward at the waist with the legs kept stretched )?', 'Salto with turn?', '0.5 turn with body being stretched before salto?'], 'code': '4.60'}, '50': {'BTcode': '0001011011', 'questions': ['round-off onto the springboard?', 'Tsukahara (front handspring with 0.5 or 0.25 turn in pre-flight) ?', 'Twisting body before touching the vault table?', 'Salto off?', 'body keep stretched  during salto (stretched salto)?', 'Pike salto (body bent forward at the waist with the legs kept stretched )?', 'Salto with turn?', '0.5 turn with body being stretched before salto?', 'Facing vault table after landing?', '1.5 turn?'], 'code': '5.40'}, '51': {'BTcode': '0001011010', 'questions': ['round-off onto the springboard?', 'Tsukahara (front handspring with 0.5 or 0.25 turn in pre-flight) ?', 'Twisting body before touching the vault table?', 'Salto off?', 'body keep stretched  during salto (stretched salto)?', 'Pike salto (body bent forward at the waist with the legs kept stretched )?', 'Salto with turn?', '0.5 turn with body being stretched before salto?', 'Facing vault table after landing?', '1.5 turn?'], 'code': '4.60'}, '52': {'BTcode': '000101100', 'questions': ['round-off onto the springboard?', 'Tsukahara (front handspring with 0.5 or 0.25 turn in pre-flight) ?', 'Twisting body before touching the vault table?', 'Salto off?', 'body keep stretched  during salto (stretched salto)?', 'Pike salto (body bent forward at the waist with the legs kept stretched )?', 'Salto with turn?', '0.5 turn with body being stretched before salto?', 'Facing vault table after landing?'], 'code': '5.00'}, '53': {'BTcode': '0001010', 'questions': ['round-off onto the springboard?', 'Tsukahara (front handspring with 0.5 or 0.25 turn in pre-flight) ?', 'Twisting body before touching the vault table?', 'Salto off?', 'body keep stretched  during salto (stretched salto)?', 'Pike salto (body bent forward at the waist with the legs kept stretched )?', 'Salto with turn?'], 'code': '4.20'}, '54': {'BTcode': '00010011', 'questions': ['round-off onto the springboard?', 'Tsukahara (front handspring with 0.5 or 0.25 turn in pre-flight) ?', 'Twisting body before touching the vault table?', 'Salto off?', 'body keep stretched  during salto (stretched salto)?', 'Pike salto (body bent forward at the waist with the legs kept stretched )?', 'Salto with turn?', '0.5 turn with body being stretched before salto?'], 'code': '4.40'}, '55': {'BTcode': '0001001011', 'questions': ['round-off onto the springboard?', 'Tsukahara (front handspring with 0.5 or 0.25 turn in pre-flight) ?', 'Twisting body before touching the vault table?', 'Salto off?', 'body keep stretched  during salto (stretched salto)?', 'Pike salto (body bent forward at the waist with the legs kept stretched )?', 'Salto with turn?', '0.5 turn with body being stretched before salto?', 'Facing vault table after landing?', '1.5 turn?'], 'code': '5.20'}, '56': {'BTcode': '0001001010', 'questions': ['round-off onto the springboard?', 'Tsukahara (front handspring with 0.5 or 0.25 turn in pre-flight) ?', 'Twisting body before touching the vault table?', 'Salto off?', 'body keep stretched  during salto (stretched salto)?', 'Pike salto (body bent forward at the waist with the legs kept stretched )?', 'Salto with turn?', '0.5 turn with body being stretched before salto?', 'Facing vault table after landing?', '1.5 turn?'], 'code': '4.40'}, '57': {'BTcode': '000100100', 'questions': ['round-off onto the springboard?', 'Tsukahara (front handspring with 0.5 or 0.25 turn in pre-flight) ?', 'Twisting body before touching the vault table?', 'Salto off?', 'body keep stretched  during salto (stretched salto)?', 'Pike salto (body bent forward at the waist with the legs kept stretched )?', 'Salto with turn?', '0.5 turn with body being stretched before salto?', 'Facing vault table after landing?'], 'code': '4.80'}, '58': {'BTcode': '00010001', 'questions': ['round-off onto the springboard?', 'Tsukahara (front handspring with 0.5 or 0.25 turn in pre-flight) ?', 'Twisting body before touching the vault table?', 'Salto off?', 'body keep stretched  during salto (stretched salto)?', 'Pike salto (body bent forward at the waist with the legs kept stretched )?', 'Salto with turn?', 'Double salto tucked?'], 'code': '6.40'}, '59': {'BTcode': '00010000', 'questions': ['round-off onto the springboard?', 'Tsukahara (front handspring with 0.5 or 0.25 turn in pre-flight) ?', 'Twisting body before touching the vault table?', 'Salto off?', 'body keep stretched  during salto (stretched salto)?', 'Pike salto (body bent forward at the waist with the legs kept stretched )?', 'Salto with turn?', 'Double salto tucked?'], 'code': '4.00'}, '60': {'BTcode': '0000111', 'questions': ['round-off onto the springboard?', 'Tsukahara (front handspring with 0.5 or 0.25 turn in pre-flight) ?', 'Twisting body before touching the vault table?', 'Salto off?', 'body keep stretched  during flight?', 'With turn?', 'Facing vault table after landing?'], 'code': '3.60'}, '61': {'BTcode': '00001101', 'questions': ['round-off onto the springboard?', 'Tsukahara (front handspring with 0.5 or 0.25 turn in pre-flight) ?', 'Twisting body before touching the vault table?', 'Salto off?', 'body keep stretched  during flight?', 'With turn?', 'Facing vault table after landing?', '2 turn?'], 'code': '4.00'}, '62': {'BTcode': '00001100', 'questions': ['round-off onto the springboard?', 'Tsukahara (front handspring with 0.5 or 0.25 turn in pre-flight) ?', 'Twisting body before touching the vault table?', 'Salto off?', 'body keep stretched  during flight?', 'With turn?', 'Facing vault table after landing?', '2 turn?'], 'code': '3.00'}, '63': {'BTcode': '000010', 'questions': ['round-off onto the springboard?', 'Tsukahara (front handspring with 0.5 or 0.25 turn in pre-flight) ?', 'Twisting body before touching the vault table?', 'Salto off?', 'body keep stretched  during flight?', 'With turn?'], 'code': '2.00'}, '64': {'BTcode': '0000011', 'questions': ['round-off onto the springboard?', 'Tsukahara (front handspring with 0.5 or 0.25 turn in pre-flight) ?', 'Twisting body before touching the vault table?', 'Salto off?', 'body keep stretched  during flight?', 'With turn?', 'Facing vault table after landing?'], 'code': '2.80'}, '65': {'BTcode': '0000010', 'questions': ['round-off onto the springboard?', 'Tsukahara (front handspring with 0.5 or 0.25 turn in pre-flight) ?', 'Twisting body before touching the vault table?', 'Salto off?', 'body keep stretched  during flight?', 'With turn?', 'Facing vault table after landing?'], 'code': '3.20'}, '66': {'BTcode': '000000', 'questions': ['round-off onto the springboard?', 'Tsukahara (front handspring with 0.5 or 0.25 turn in pre-flight) ?', 'Twisting body before touching the vault table?', 'Salto off?', 'body keep stretched  during flight?', 'With turn?'], 'code': '2.40'}, '67': {'BTcode': '1111111', 'questions': ['180 degree separation of thighs?', 'Are both legs straight when seperated?', 'Cross split?', 'Leap (do not jump with both feet) ?', 'With turn?', 'Switch leap?', '0.5 turn (facing different directions when take off and after landing) ?'], 'code': '1.304'}, '68': {'BTcode': '1111110', 'questions': ['180 degree separation of thighs?', 'Are both legs straight when seperated?', 'Cross split?', 'Leap (do not jump with both feet) ?', 'With turn?', 'Switch leap?', '0.5 turn (facing different directions when take off and after landing) ?'], 'code': '1.404'}, '69': {'BTcode': '11111011', 'questions': ['180 degree separation of thighs?', 'Are both legs straight when seperated?', 'Cross split?', 'Leap (do not jump with both feet) ?', 'With turn?', 'Switch leap?', '0.5 turn?', 'Is back leg above horizontal when splitting legs?'], 'code': '1.202'}, '70': {'BTcode': '11111010', 'questions': ['180 degree separation of thighs?', 'Are both legs straight when seperated?', 'Cross split?', 'Leap (do not jump with both feet) ?', 'With turn?', 'Switch leap?', '0.5 turn?', 'Is back leg above horizontal when splitting legs?'], 'code': '1.201'}, '71': {'BTcode': '111110011', 'questions': ['180 degree separation of thighs?', 'Are both legs straight when seperated?', 'Cross split?', 'Leap (do not jump with both feet) ?', 'With turn?', 'Switch leap?', '0.5 turn?', '1 turn?', 'land in split sit position?'], 'code': '1.302'}, '72': {'BTcode': '111110010', 'questions': ['180 degree separation of thighs?', 'Are both legs straight when seperated?', 'Cross split?', 'Leap (do not jump with both feet) ?', 'With turn?', 'Switch leap?', '0.5 turn?', '1 turn?', 'land in split sit position?'], 'code': '1.301'}, '73': {'BTcode': '11111000', 'questions': ['180 degree separation of thighs?', 'Are both legs straight when seperated?', 'Cross split?', 'Leap (do not jump with both feet) ?', 'With turn?', 'Switch leap?', '0.5 turn?', '1 turn?'], 'code': '1.401'}, '74': {'BTcode': '111101', 'questions': ['180 degree separation of thighs?', 'Are both legs straight when seperated?', 'Cross split?', 'Leap (do not jump with both feet) ?', 'With turn?', 'Leap with leg change?'], 'code': '1.205'}, '75': {'BTcode': '111100', 'questions': ['180 degree separation of thighs?', 'Are both legs straight when seperated?', 'Cross split?', 'Leap (do not jump with both feet) ?', 'With turn?', 'Leap with leg change?'], 'code': '1.101'}, '76': {'BTcode': '11101', 'questions': ['180 degree separation of thighs?', 'Are both legs straight when seperated?', 'Cross split?', 'Leap (do not jump with both feet) ?', 'Tuck jump before separation of legs?'], 'code': '1.103'}, '77': {'BTcode': '1110011', 'questions': ['180 degree separation of thighs?', 'Are both legs straight when seperated?', 'Cross split?', 'Leap (do not jump with both feet) ?', 'Tuck jump before separation of legs?', 'With turn?', '1 turn?'], 'code': '1.307'}, '78': {'BTcode': '11100101', 'questions': ['180 degree separation of thighs?', 'Are both legs straight when seperated?', 'Cross split?', 'Leap (do not jump with both feet) ?', 'Tuck jump before separation of legs?', 'With turn?', '1 turn?', '0.5 turn?'], 'code': '1.207'}, '79': {'BTcode': '11100100', 'questions': ['180 degree separation of thighs?', 'Are both legs straight when seperated?', 'Cross split?', 'Leap (do not jump with both feet) ?', 'Tuck jump before separation of legs?', 'With turn?', '1 turn?', '0.5 turn?'], 'code': '1.407'}, '80': {'BTcode': '1110001', 'questions': ['180 degree separation of thighs?', 'Are both legs straight when seperated?', 'Cross split?', 'Leap (do not jump with both feet) ?', 'Tuck jump before separation of legs?', 'With turn?', 'Legs are not parallel to the floor when separation?'], 'code': '1.109'}, '81': {'BTcode': '1110000', 'questions': ['180 degree separation of thighs?', 'Are both legs straight when seperated?', 'Cross split?', 'Leap (do not jump with both feet) ?', 'Tuck jump before separation of legs?', 'With turn?', 'Legs are not parallel to the floor when separation?'], 'code': '1.109'}, '82': {'BTcode': '1101111', 'questions': ['180 degree separation of thighs?', 'Are both legs straight when seperated?', 'Cross split?', 'Leap (do not jump with both feet) ?', 'With turn?', 'Switch leap?', '1 turn?'], 'code': '1.404'}, '83': {'BTcode': '1101110', 'questions': ['180 degree separation of thighs?', 'Are both legs straight when seperated?', 'Cross split?', 'Leap (do not jump with both feet) ?', 'With turn?', 'Switch leap?', '1 turn?'], 'code': '1.304'}, '84': {'BTcode': '1101101', 'questions': ['180 degree separation of thighs?', 'Are both legs straight when seperated?', 'Cross split?', 'Leap (do not jump with both feet) ?', 'With turn?', 'Switch leap?', '1 turn?'], 'code': '1.301'}, '85': {'BTcode': '110101', 'questions': ['180 degree separation of thighs?', 'Are both legs straight when seperated?', 'Cross split?', 'Leap (do not jump with both feet) ?', 'With turn?', 'Switch leap?'], 'code': '1.204'}, '86': {'BTcode': '110100', 'questions': ['180 degree separation of thighs?', 'Are both legs straight when seperated?', 'Cross split?', 'Leap (do not jump with both feet) ?', 'With turn?', 'Switch leap?'], 'code': '1.104'}, '87': {'BTcode': '1100111', 'questions': ['180 degree separation of thighs?', 'Are both legs straight when seperated?', 'Cross split?', 'Leap (do not jump with both feet) ?', 'With turn?', '1 turn?', 'land in front lying support?'], 'code': '1.208'}, '88': {'BTcode': '1100110', 'questions': ['180 degree separation of thighs?', 'Are both legs straight when seperated?', 'Cross split?', 'Leap (do not jump with both feet) ?', 'With turn?', '1 turn?', 'land in front lying support?'], 'code': '1.307'}, '89': {'BTcode': '11001011', 'questions': ['180 degree separation of thighs?', 'Are both legs straight when seperated?', 'Cross split?', 'Leap (do not jump with both feet) ?', 'With turn?', '1 turn?', '0.5 turn?', 'land in front lying support?'], 'code': '1.108'}, '90': {'BTcode': '11001010', 'questions': ['180 degree separation of thighs?', 'Are both legs straight when seperated?', 'Cross split?', 'Leap (do not jump with both feet) ?', 'With turn?', '1 turn?', '0.5 turn?', 'land in front lying support?'], 'code': '1.207'}, '91': {'BTcode': '1100100', 'questions': ['180 degree separation of thighs?', 'Are both legs straight when seperated?', 'Cross split?', 'Leap (do not jump with both feet) ?', 'With turn?', '1 turn?', '0.5 turn?'], 'code': '1.407'}, '92': {'BTcode': '110001', 'questions': ['180 degree separation of thighs?', 'Are both legs straight when seperated?', 'Cross split?', 'Leap (do not jump with both feet) ?', 'With turn?', 'Land in front lying support?'], 'code': '1.108'}, '93': {'BTcode': '110000', 'questions': ['180 degree separation of thighs?', 'Are both legs straight when seperated?', 'Cross split?', 'Leap (do not jump with both feet) ?', 'With turn?', 'Land in front lying support?'], 'code': '1.107'}, '94': {'BTcode': '1011', 'questions': ['180 degree separation of thighs?', 'Are both legs straight when seperated?', 'Ring position (rear foot at head height, body arched and head dropped backward)?', 'Front leg bent?'], 'code': '1.209'}, '95': {'BTcode': '1010111', 'questions': ['180 degree separation of thighs?', 'Are both legs straight when seperated?', 'Ring position (rear foot at head height, body arched and head dropped backward)?', 'Front leg bent?', 'leap?', 'With leg change?', 'With turn?'], 'code': '1.405'}, '96': {'BTcode': '1010110', 'questions': ['180 degree separation of thighs?', 'Are both legs straight when seperated?', 'Ring position (rear foot at head height, body arched and head dropped backward)?', 'Front leg bent?', 'leap?', 'With leg change?', 'With turn?'], 'code': '1.305'}, '97': {'BTcode': '1010101', 'questions': ['180 degree separation of thighs?', 'Are both legs straight when seperated?', 'Ring position (rear foot at head height, body arched and head dropped backward)?', 'Front leg bent?', 'leap?', 'With leg change?', 'With turn?'], 'code': '1.409'}, '98': {'BTcode': '1010100', 'questions': ['180 degree separation of thighs?', 'Are both legs straight when seperated?', 'Ring position (rear foot at head height, body arched and head dropped backward)?', 'Front leg bent?', 'leap?', 'With leg change?', 'With turn?'], 'code': '1.309'}, '99': {'BTcode': '101001', 'questions': ['180 degree separation of thighs?', 'Are both legs straight when seperated?', 'Ring position (rear foot at head height, body arched and head dropped backward)?', 'Front leg bent?', 'leap?', 'Front leg below horizontal?'], 'code': '1.209'}, '100': {'BTcode': '10100011', 'questions': ['180 degree separation of thighs?', 'Are both legs straight when seperated?', 'Ring position (rear foot at head height, body arched and head dropped backward)?', 'Front leg bent?', 'leap?', 'Front leg below horizontal?', 'Yes with turn?', '0.5 turn?'], 'code': '1.309'}, '101': {'BTcode': '10100010', 'questions': ['180 degree separation of thighs?', 'Are both legs straight when seperated?', 'Ring position (rear foot at head height, body arched and head dropped backward)?', 'Front leg bent?', 'leap?', 'Front leg below horizontal?', 'Yes with turn?', '0.5 turn?'], 'code': '1.409'}, '102': {'BTcode': '1010000', 'questions': ['180 degree separation of thighs?', 'Are both legs straight when seperated?', 'Ring position (rear foot at head height, body arched and head dropped backward)?', 'Front leg bent?', 'leap?', 'Front leg below horizontal?', 'Yes with turn?'], 'code': '1.209'}, '103': {'BTcode': '10011', 'questions': ['180 degree separation of thighs?', 'Are both legs straight when seperated?', 'Ring position (rear foot at head height, body arched and head dropped backward)?', 'jump?', 'With turn?'], 'code': '1.109'}, '104': {'BTcode': '10010', 'questions': ['180 degree separation of thighs?', 'Are both legs straight when seperated?', 'Ring position (rear foot at head height, body arched and head dropped backward)?', 'jump?', 'With turn?'], 'code': '1.109'}, '105': {'BTcode': '0111', 'questions': ['180 degree separation of thighs?', 'Both legs stay together in flight phase?', 'Tucked?', 'Land in front lying support?'], 'code': '1.313'}, '106': {'BTcode': '01101', 'questions': ['180 degree separation of thighs?', 'Both legs stay together in flight phase?', 'Tucked?', 'Land in front lying support?', '1 turn?'], 'code': '1.213'}, '107': {'BTcode': '01100', 'questions': ['180 degree separation of thighs?', 'Both legs stay together in flight phase?', 'Tucked?', 'Land in front lying support?', '1 turn?'], 'code': '1.313'}, '108': {'BTcode': '01011', 'questions': ['180 degree separation of thighs?', 'Both legs stay together in flight phase?', 'Tucked?', 'Streched?', '1 turn?'], 'code': '1.210'}, '109': {'BTcode': '01010', 'questions': ['180 degree separation of thighs?', 'Both legs stay together in flight phase?', 'Tucked?', 'Streched?', '1 turn?'], 'code': '1.310'}, '110': {'BTcode': '010011', 'questions': ['180 degree separation of thighs?', 'Both legs stay together in flight phase?', 'Tucked?', 'Streched?', 'Piked?', 'With turn?'], 'code': '1.306'}, '111': {'BTcode': '010010', 'questions': ['180 degree separation of thighs?', 'Both legs stay together in flight phase?', 'Tucked?', 'Streched?', 'Piked?', 'With turn?'], 'code': '1.106'}, '112': {'BTcode': '01000', 'questions': ['180 degree separation of thighs?', 'Both legs stay together in flight phase?', 'Tucked?', 'Streched?', 'Piked?'], 'code': '1.206'}, '113': {'BTcode': '00111', 'questions': ['180 degree separation of thighs?', 'Both legs stay together in flight phase?', 'To wolf position (one leg bent and the other extended straight, forward above horizontal with knees together)?', 'With turn?', 'land in front lying support?'], 'code': '1.214'}, '114': {'BTcode': '001101', 'questions': ['180 degree separation of thighs?', 'Both legs stay together in flight phase?', 'To wolf position (one leg bent and the other extended straight, forward above horizontal with knees together)?', 'With turn?', 'land in front lying support?', '1 turn?'], 'code': '1.214'}, '115': {'BTcode': '001100', 'questions': ['180 degree separation of thighs?', 'Both legs stay together in flight phase?', 'To wolf position (one leg bent and the other extended straight, forward above horizontal with knees together)?', 'With turn?', 'land in front lying support?', '1 turn?'], 'code': '1.414'}, '116': {'BTcode': '00101', 'questions': ['180 degree separation of thighs?', 'Both legs stay together in flight phase?', 'To wolf position (one leg bent and the other extended straight, forward above horizontal with knees together)?', 'With turn?', 'Legs switched?'], 'code': '1.105'}, '117': {'BTcode': '00100', 'questions': ['180 degree separation of thighs?', 'Both legs stay together in flight phase?', 'To wolf position (one leg bent and the other extended straight, forward above horizontal with knees together)?', 'With turn?', 'Legs switched?'], 'code': '1.114'}, '118': {'BTcode': '0001111', 'questions': ['180 degree separation of thighs?', 'Both legs stay together in flight phase?', 'To wolf position (one leg bent and the other extended straight, forward above horizontal with knees together)?', 'Land in front lying support?', 'Take off with two feet?', 'With turn?', '0.5 turn?'], 'code': '1.108'}, '119': {'BTcode': '0001110', 'questions': ['180 degree separation of thighs?', 'Both legs stay together in flight phase?', 'To wolf position (one leg bent and the other extended straight, forward above horizontal with knees together)?', 'Land in front lying support?', 'Take off with two feet?', 'With turn?', '0.5 turn?'], 'code': '1.208'}, '120': {'BTcode': '000110', 'questions': ['180 degree separation of thighs?', 'Both legs stay together in flight phase?', 'To wolf position (one leg bent and the other extended straight, forward above horizontal with knees together)?', 'Land in front lying support?', 'Take off with two feet?', 'With turn?'], 'code': '1.108'}, '121': {'BTcode': '000101', 'questions': ['180 degree separation of thighs?', 'Both legs stay together in flight phase?', 'To wolf position (one leg bent and the other extended straight, forward above horizontal with knees together)?', 'Land in front lying support?', 'Take off with two feet?', '1 turn?'], 'code': '1.108'}, '122': {'BTcode': '000100', 'questions': ['180 degree separation of thighs?', 'Both legs stay together in flight phase?', 'To wolf position (one leg bent and the other extended straight, forward above horizontal with knees together)?', 'Land in front lying support?', 'Take off with two feet?', '1 turn?'], 'code': '1.208'}, '123': {'BTcode': '0000111', 'questions': ['180 degree separation of thighs?', 'Both legs stay together in flight phase?', 'To wolf position (one leg bent and the other extended straight, forward above horizontal with knees together)?', 'Land in front lying support?', 'Cat leap (Leap with alternate leg change)?', 'With turn?', '1 turn?'], 'code': '1.211'}, '124': {'BTcode': '0000110', 'questions': ['180 degree separation of thighs?', 'Both legs stay together in flight phase?', 'To wolf position (one leg bent and the other extended straight, forward above horizontal with knees together)?', 'Land in front lying support?', 'Cat leap (Leap with alternate leg change)?', 'With turn?', '1 turn?'], 'code': '1.311'}, '125': {'BTcode': '000010', 'questions': ['180 degree separation of thighs?', 'Both legs stay together in flight phase?', 'To wolf position (one leg bent and the other extended straight, forward above horizontal with knees together)?', 'Land in front lying support?', 'Cat leap (Leap with alternate leg change)?', 'With turn?'], 'code': '1.111'}, '126': {'BTcode': '0000011', 'questions': ['180 degree separation of thighs?', 'Both legs stay together in flight phase?', 'To wolf position (one leg bent and the other extended straight, forward above horizontal with knees together)?', 'Land in front lying support?', 'Cat leap (Leap with alternate leg change)?', 'Hop?', 'Land in arabesque?'], 'code': '1.112'}, '127': {'BTcode': '00000101', 'questions': ['180 degree separation of thighs?', 'Both legs stay together in flight phase?', 'To wolf position (one leg bent and the other extended straight, forward above horizontal with knees together)?', 'Land in front lying support?', 'Cat leap (Leap with alternate leg change)?', 'Hop?', 'Land in arabesque?', '0.5 turn?'], 'code': '1.212'}, '128': {'BTcode': '00000100', 'questions': ['180 degree separation of thighs?', 'Both legs stay together in flight phase?', 'To wolf position (one leg bent and the other extended straight, forward above horizontal with knees together)?', 'Land in front lying support?', 'Cat leap (Leap with alternate leg change)?', 'Hop?', 'Land in arabesque?', '0.5 turn?'], 'code': '1.312'}, '129': {'BTcode': '00000011', 'questions': ['180 degree separation of thighs?', 'Both legs stay together in flight phase?', 'To wolf position (one leg bent and the other extended straight, forward above horizontal with knees together)?', 'Land in front lying support?', 'Cat leap (Leap with alternate leg change)?', 'Hop?', 'Butterfly (torso parallel to floor, slightly arched, legs straddled and feet above hip height during flight)?', 'Butterfly forward?'], 'code': '1.203'}, '130': {'BTcode': '00000010', 'questions': ['180 degree separation of thighs?', 'Both legs stay together in flight phase?', 'To wolf position (one leg bent and the other extended straight, forward above horizontal with knees together)?', 'Land in front lying support?', 'Cat leap (Leap with alternate leg change)?', 'Hop?', 'Butterfly (torso parallel to floor, slightly arched, legs straddled and feet above hip height during flight)?', 'Butterfly forward?'], 'code': '1.203'}, '131': {'BTcode': '111', 'questions': ['Heel over head?', 'Illusion (torso pivots down)?', '1 turn?'], 'code': '2.205'}, '132': {'BTcode': '1101', 'questions': ['Heel over head?', 'Illusion (torso pivots down)?', '1 turn?', '2 turn?'], 'code': '02.300'}, '133': {'BTcode': '101', 'questions': ['Heel over head?', 'Illusion (torso pivots down)?', '3 turn or more?'], 'code': '2.503'}, '134': {'BTcode': '1001', 'questions': ['Heel over head?', 'Illusion (torso pivots down)?', '3 turn or more?', '2 turn?'], 'code': '2.403'}, '135': {'BTcode': '1000', 'questions': ['Heel over head?', 'Illusion (torso pivots down)?', '3 turn or more?', '2 turn?'], 'code': '2.203'}, '136': {'BTcode': '0111', 'questions': ['Heel over head?', 'Turn in tuck stand or on back?', 'Turn in tuck stand?', '3 turn?'], 'code': '2.406'}, '137': {'BTcode': '011011', 'questions': ['Heel over head?', 'Turn in tuck stand or on back?', 'Turn in tuck stand?', '3 turn?', '2 turn?', 'Free leg straight?'], 'code': '2.406'}, '138': {'BTcode': '011010', 'questions': ['Heel over head?', 'Turn in tuck stand or on back?', 'Turn in tuck stand?', '3 turn?', '2 turn?', 'Free leg straight?'], 'code': '2.206'}, '139': {'BTcode': '01100', 'questions': ['Heel over head?', 'Turn in tuck stand or on back?', 'Turn in tuck stand?', '3 turn?', '2 turn?'], 'code': '2.106'}, '140': {'BTcode': '0101', 'questions': ['Heel over head?', 'Turn in tuck stand or on back?', 'Turn in tuck stand?', '2 turn or more?'], 'code': '2.207'}, '141': {'BTcode': '0100', 'questions': ['Heel over head?', 'Turn in tuck stand or on back?', 'Turn in tuck stand?', '2 turn or more?'], 'code': '2.107'}, '142': {'BTcode': '0011', 'questions': ['Heel over head?', 'Turn in tuck stand or on back?', 'Free leg extended backward?', 'Is free leg held upward and backward by hand?'], 'code': '2.200'}, '143': {'BTcode': '00101', 'questions': ['Heel over head?', 'Turn in tuck stand or on back?', 'Free leg extended backward?', 'Is free leg held upward and backward by hand?', '2 turn?'], 'code': '2.404'}, '144': {'BTcode': '00100', 'questions': ['Heel over head?', 'Turn in tuck stand or on back?', 'Free leg extended backward?', 'Is free leg held upward and backward by hand?', '2 turn?'], 'code': '2.204'}, '145': {'BTcode': '000111', 'questions': ['Heel over head?', 'Turn in tuck stand or on back?', 'Free leg extended backward?', 'Free leg below horizontal?', '3 turn or more?', '4 turn?'], 'code': '2.501'}, '146': {'BTcode': '000110', 'questions': ['Heel over head?', 'Turn in tuck stand or on back?', 'Free leg extended backward?', 'Free leg below horizontal?', '3 turn or more?', '4 turn?'], 'code': '2.301'}, '147': {'BTcode': '000101', 'questions': ['Heel over head?', 'Turn in tuck stand or on back?', 'Free leg extended backward?', 'Free leg below horizontal?', '3 turn or more?', '2 turn?'], 'code': '2.201'}, '148': {'BTcode': '000100', 'questions': ['Heel over head?', 'Turn in tuck stand or on back?', 'Free leg extended backward?', 'Free leg below horizontal?', '3 turn or more?', '2 turn?'], 'code': '2.101'}, '149': {'BTcode': '00001', 'questions': ['Heel over head?', 'Turn in tuck stand or on back?', 'Free leg extended backward?', 'Free leg below horizontal?', '2 turn or more?'], 'code': '2.402'}, '150': {'BTcode': '00000', 'questions': ['Heel over head?', 'Turn in tuck stand or on back?', 'Free leg extended backward?', 'Free leg below horizontal?', '2 turn or more?'], 'code': '2.202'}, '151': {'BTcode': '1', 'questions': ['tucked (legs are bent during flight)?'], 'code': '4.105'}, '152': {'BTcode': '01', 'questions': ['tucked (legs are bent during flight)?', 'Piked?'], 'code': '4.105'}, '153': {'BTcode': '001', 'questions': ['tucked (legs are bent during flight)?', 'Piked?', 'Aerial round-off?'], 'code': '4.104'}, '154': {'BTcode': '000', 'questions': ['tucked (legs are bent during flight)?', 'Piked?', 'Aerial round-off?'], 'code': '4.104'}, '155': {'BTcode': '1111', 'questions': ['Tuck salto?', 'Arabian (take-off backward with 0.5 twist before salto)?', 'Double salto?', 'Salto with 0.5 twist?'], 'code': '4.505'}, '156': {'BTcode': '1110', 'questions': ['Tuck salto?', 'Arabian (take-off backward with 0.5 twist before salto)?', 'Double salto?', 'Salto with 0.5 twist?'], 'code': '4.505'}, '157': {'BTcode': '110', 'questions': ['Tuck salto?', 'Arabian (take-off backward with 0.5 twist before salto)?', 'Double salto?'], 'code': '4.205'}, '158': {'BTcode': '1011', 'questions': ['Tuck salto?', 'Arabian (take-off backward with 0.5 twist before salto)?', 'Double salto?', 'Salto with 0.5 twist (so that facing different directions before takeoff and after landing) ?'], 'code': '4.601'}, '159': {'BTcode': '1010', 'questions': ['Tuck salto?', 'Arabian (take-off backward with 0.5 twist before salto)?', 'Double salto?', 'Salto with 0.5 twist (so that facing different directions before takeoff and after landing) ?'], 'code': '4.501'}, '160': {'BTcode': '10011', 'questions': ['Tuck salto?', 'Arabian (take-off backward with 0.5 twist before salto)?', 'Double salto?', 'Salto with twist?', 'Salto with 1 twist?'], 'code': '4.201'}, '161': {'BTcode': '100101', 'questions': ['Tuck salto?', 'Arabian (take-off backward with 0.5 twist before salto)?', 'Double salto?', 'Salto with twist?', 'Salto with 1 twist?', 'Salto with 1.5 twist?'], 'code': '4.301'}, '162': {'BTcode': '100100', 'questions': ['Tuck salto?', 'Arabian (take-off backward with 0.5 twist before salto)?', 'Double salto?', 'Salto with twist?', 'Salto with 1 twist?', 'Salto with 1.5 twist?'], 'code': '4.201'}, '163': {'BTcode': '1000', 'questions': ['Tuck salto?', 'Arabian (take-off backward with 0.5 twist before salto)?', 'Double salto?', 'Salto with twist?'], 'code': '4.101'}, '164': {'BTcode': '0111', 'questions': ['Tuck salto?', 'Pike salto?', 'Arabian (take-off backward with 0.5 twist before salto)?', 'Double salto?'], 'code': '4.605'}, '165': {'BTcode': '0110', 'questions': ['Tuck salto?', 'Pike salto?', 'Arabian (take-off backward with 0.5 twist before salto)?', 'Double salto?'], 'code': '4.205'}, '166': {'BTcode': '0101', 'questions': ['Tuck salto?', 'Pike salto?', 'Arabian (take-off backward with 0.5 twist before salto)?', 'Double salto?'], 'code': '4.601'}, '167': {'BTcode': '01001', 'questions': ['Tuck salto?', 'Pike salto?', 'Arabian (take-off backward with 0.5 twist before salto)?', 'Double salto?', 'Salto with 0.5 twist?'], 'code': '4.201'}, '168': {'BTcode': '01000', 'questions': ['Tuck salto?', 'Pike salto?', 'Arabian (take-off backward with 0.5 twist before salto)?', 'Double salto?', 'Salto with 0.5 twist?'], 'code': '4.101'}, '169': {'BTcode': '001', 'questions': ['Tuck salto?', 'Pike salto?', 'Walkover?'], 'code': '4.103'}, '170': {'BTcode': '00011', 'questions': ['Tuck salto?', 'Pike salto?', 'Walkover?', 'Arabian (take-off backward with 0.5 twist before salto)?', 'Double salto?'], 'code': '4.805'}, '171': {'BTcode': '0000111', 'questions': ['Tuck salto?', 'Pike salto?', 'Walkover?', 'Arabian (take-off backward with 0.5 twist before salto)?', 'Salto with twist?', 'Salto with integer twist (facing the same direction before takeoff and after landing)?', 'Salto with 2 twist?'], 'code': '4.402'}, '172': {'BTcode': '0000110', 'questions': ['Tuck salto?', 'Pike salto?', 'Walkover?', 'Arabian (take-off backward with 0.5 twist before salto)?', 'Salto with twist?', 'Salto with integer twist (facing the same direction before takeoff and after landing)?', 'Salto with 2 twist?'], 'code': '4.302'}, '173': {'BTcode': '0000101', 'questions': ['Tuck salto?', 'Pike salto?', 'Walkover?', 'Arabian (take-off backward with 0.5 twist before salto)?', 'Salto with twist?', 'Salto with integer twist (facing the same direction before takeoff and after landing)?', 'Salto with 2.5 twist?'], 'code': '4.502'}, '174': {'BTcode': '00001001', 'questions': ['Tuck salto?', 'Pike salto?', 'Walkover?', 'Arabian (take-off backward with 0.5 twist before salto)?', 'Salto with twist?', 'Salto with integer twist (facing the same direction before takeoff and after landing)?', 'Salto with 2.5 twist?', 'Salto with 1.5 twist?'], 'code': '4.302'}, '175': {'BTcode': '00001000', 'questions': ['Tuck salto?', 'Pike salto?', 'Walkover?', 'Arabian (take-off backward with 0.5 twist before salto)?', 'Salto with twist?', 'Salto with integer twist (facing the same direction before takeoff and after landing)?', 'Salto with 2.5 twist?', 'Salto with 1.5 twist?'], 'code': '4.202'}, '176': {'BTcode': '000001', 'questions': ['Tuck salto?', 'Pike salto?', 'Walkover?', 'Arabian (take-off backward with 0.5 twist before salto)?', 'Salto with twist?', 'feet land successively?'], 'code': '4.202'}, '177': {'BTcode': '000000', 'questions': ['Tuck salto?', 'Pike salto?', 'Walkover?', 'Arabian (take-off backward with 0.5 twist before salto)?', 'Salto with twist?', 'feet land successively?'], 'code': '4.202'}, '178': {'BTcode': '11111', 'questions': ['Salto backward stretched?', 'Double salto?', 'Salto with twist?', 'Salto with integer twist (facing the same direction before takeoff and after landing)?', 'Salto with 2 twist?'], 'code': '5.903'}, '179': {'BTcode': '11110', 'questions': ['Salto backward stretched?', 'Double salto?', 'Salto with twist?', 'Salto with integer twist (facing the same direction before takeoff and after landing)?', 'Salto with 2 twist?'], 'code': '5.803'}, '180': {'BTcode': '1110', 'questions': ['Salto backward stretched?', 'Double salto?', 'Salto with twist?', 'Salto with integer twist (facing the same direction before takeoff and after landing)?'], 'code': '5.703'}, '181': {'BTcode': '110', 'questions': ['Salto backward stretched?', 'Double salto?', 'Salto with twist?'], 'code': '5.603'}, '182': {'BTcode': '10111', 'questions': ['Salto backward stretched?', 'Double salto?', 'Salto with integer twist (facing the same direction before takeoff and after landing)?', '2 or more twist?', '3 or more twist?'], 'code': '5.501'}, '183': {'BTcode': '10110', 'questions': ['Salto backward stretched?', 'Double salto?', 'Salto with integer twist (facing the same direction before takeoff and after landing)?', '2 or more twist?', '3 or more twist?'], 'code': '5.301'}, '184': {'BTcode': '10101', 'questions': ['Salto backward stretched?', 'Double salto?', 'Salto with integer twist (facing the same direction before takeoff and after landing)?', '2 or more twist?', '1 twist?'], 'code': '5.201'}, '185': {'BTcode': '10100', 'questions': ['Salto backward stretched?', 'Double salto?', 'Salto with integer twist (facing the same direction before takeoff and after landing)?', '2 or more twist?', '1 twist?'], 'code': '5.101'}, '186': {'BTcode': '1001', 'questions': ['Salto backward stretched?', 'Double salto?', 'Salto with integer twist (facing the same direction before takeoff and after landing)?', '3.5 or more twist?'], 'code': '5.601'}, '187': {'BTcode': '10001', 'questions': ['Salto backward stretched?', 'Double salto?', 'Salto with integer twist (facing the same direction before takeoff and after landing)?', '3.5 or more twist?', '2.5 twist?'], 'code': '5.401'}, '188': {'BTcode': '100001', 'questions': ['Salto backward stretched?', 'Double salto?', 'Salto with integer twist (facing the same direction before takeoff and after landing)?', '3.5 or more twist?', '2.5 twist?', '1.5 twist?'], 'code': '5.301'}, '189': {'BTcode': '100000', 'questions': ['Salto backward stretched?', 'Double salto?', 'Salto with integer twist (facing the same direction before takeoff and after landing)?', '3.5 or more twist?', '2.5 twist?', '1.5 twist?'], 'code': '5.201'}, '190': {'BTcode': '011111', 'questions': ['Salto backward stretched?', 'Salto backward tucked?', 'Double salto?', 'Salto with twist?', 'Salto with integer twist (facing the same direction before takeoff and after landing)?', '3 twist?'], 'code': '5.902'}, '191': {'BTcode': '0111101', 'questions': ['Salto backward stretched?', 'Salto backward tucked?', 'Double salto?', 'Salto with twist?', 'Salto with integer twist (facing the same direction before takeoff and after landing)?', '3 twist?', '2 twist?'], 'code': '5.802'}, '192': {'BTcode': '0111100', 'questions': ['Salto backward stretched?', 'Salto backward tucked?', 'Double salto?', 'Salto with twist?', 'Salto with integer twist (facing the same direction before takeoff and after landing)?', '3 twist?', '2 twist?'], 'code': '5.502'}, '193': {'BTcode': '011101', 'questions': ['Salto backward stretched?', 'Salto backward tucked?', 'Double salto?', 'Salto with twist?', 'Salto with integer twist (facing the same direction before takeoff and after landing)?', '2.5 twist?'], 'code': '5.802'}, '194': {'BTcode': '011100', 'questions': ['Salto backward stretched?', 'Salto backward tucked?', 'Double salto?', 'Salto with twist?', 'Salto with integer twist (facing the same direction before takeoff and after landing)?', '2.5 twist?'], 'code': '5.702'}, '195': {'BTcode': '0110', 'questions': ['Salto backward stretched?', 'Salto backward tucked?', 'Double salto?', 'Salto with twist?'], 'code': '5.402'}, '196': {'BTcode': '0101', 'questions': ['Salto backward stretched?', 'Salto backward tucked?', 'Double salto?', 'Salto with twist?'], 'code': '5.201'}, '197': {'BTcode': '0100', 'questions': ['Salto backward stretched?', 'Salto backward tucked?', 'Double salto?', 'Salto with twist?'], 'code': '5.101'}, '198': {'BTcode': '00111', 'questions': ['Salto backward stretched?', 'Salto backward tucked?', 'Salto backward piked?', 'Double salto?', 'Salto with twist?'], 'code': '5.502'}, '199': {'BTcode': '00110', 'questions': ['Salto backward stretched?', 'Salto backward tucked?', 'Salto backward piked?', 'Double salto?', 'Salto with twist?'], 'code': '5.402'}, '200': {'BTcode': '00100', 'questions': ['Salto backward stretched?', 'Salto backward tucked?', 'Salto backward piked?', 'Double salto?', 'Salto with twist?'], 'code': '5.101'}, '201': {'BTcode': '00011', 'questions': ['Salto backward stretched?', 'Salto backward tucked?', 'Salto backward piked?', 'With twist?', '1 twist?'], 'code': '5.304'}, '202': {'BTcode': '00010', 'questions': ['Salto backward stretched?', 'Salto backward tucked?', 'Salto backward piked?', 'With twist?', '1 twist?'], 'code': '5.204'}, '203': {'BTcode': '0000', 'questions': ['Salto backward stretched?', 'Salto backward tucked?', 'Salto backward piked?', 'With twist?'], 'code': '5.104'}, '204': {'BTcode': '111111', 'questions': ['180 degree separation of thighs?', 'Take off with two legs?', 'Are both legs straight when seperated?', 'cross split?', 'body arched and head dropped backward?', 'Take off and land in side position?'], 'code': '2.508'}, '205': {'BTcode': '111110', 'questions': ['180 degree separation of thighs?', 'Take off with two legs?', 'Are both legs straight when seperated?', 'cross split?', 'body arched and head dropped backward?', 'Take off and land in side position?'], 'code': '2.408'}, '206': {'BTcode': '1111011', 'questions': ['180 degree separation of thighs?', 'Take off with two legs?', 'Are both legs straight when seperated?', 'cross split?', 'body arched and head dropped backward?', 'Leg separation 180 on the diagonal to the floor?', 'Take off and land in side position?'], 'code': '2.208'}, '207': {'BTcode': '1111010', 'questions': ['180 degree separation of thighs?', 'Take off with two legs?', 'Are both legs straight when seperated?', 'cross split?', 'body arched and head dropped backward?', 'Leg separation 180 on the diagonal to the floor?', 'Take off and land in side position?'], 'code': '2.108'}, '208': {'BTcode': '111100111', 'questions': ['180 degree separation of thighs?', 'Take off with two legs?', 'Are both legs straight when seperated?', 'cross split?', 'body arched and head dropped backward?', 'Leg separation 180 on the diagonal to the floor?', 'With turn?', '0.5 turn?', 'Take off and land in side position?'], 'code': '2.402'}, '209': {'BTcode': '111100110', 'questions': ['180 degree separation of thighs?', 'Take off with two legs?', 'Are both legs straight when seperated?', 'cross split?', 'body arched and head dropped backward?', 'Leg separation 180 on the diagonal to the floor?', 'With turn?', '0.5 turn?', 'Take off and land in side position?'], 'code': '2.302'}, '210': {'BTcode': '111100101', 'questions': ['180 degree separation of thighs?', 'Take off with two legs?', 'Are both legs straight when seperated?', 'cross split?', 'body arched and head dropped backward?', 'Leg separation 180 on the diagonal to the floor?', 'With turn?', '0.5 turn?', 'Take off and land in side position?'], 'code': '2.502'}, '211': {'BTcode': '111100100', 'questions': ['180 degree separation of thighs?', 'Take off with two legs?', 'Are both legs straight when seperated?', 'cross split?', 'body arched and head dropped backward?', 'Leg separation 180 on the diagonal to the floor?', 'With turn?', '0.5 turn?', 'Take off and land in side position?'], 'code': '2.402'}, '212': {'BTcode': '11110001', 'questions': ['180 degree separation of thighs?', 'Take off with two legs?', 'Are both legs straight when seperated?', 'cross split?', 'body arched and head dropped backward?', 'Leg separation 180 on the diagonal to the floor?', 'With turn?', 'Take off and land in side position?'], 'code': '2.302'}, '213': {'BTcode': '11110000', 'questions': ['180 degree separation of thighs?', 'Take off with two legs?', 'Are both legs straight when seperated?', 'cross split?', 'body arched and head dropped backward?', 'Leg separation 180 on the diagonal to the floor?', 'With turn?', 'Take off and land in side position?'], 'code': '2.202'}, '214': {'BTcode': '1110111', 'questions': ['180 degree separation of thighs?', 'Take off with two legs?', 'Are both legs straight when seperated?', 'cross split?', 'With turn?', '0.5 turn?', 'Take off and land in side position?'], 'code': '2.403'}, '215': {'BTcode': '1110110', 'questions': ['180 degree separation of thighs?', 'Take off with two legs?', 'Are both legs straight when seperated?', 'cross split?', 'With turn?', '0.5 turn?', 'Take off and land in side position?'], 'code': '2.303'}, '216': {'BTcode': '1110101', 'questions': ['180 degree separation of thighs?', 'Take off with two legs?', 'Are both legs straight when seperated?', 'cross split?', 'With turn?', '0.5 turn?', 'Take off and land in side position?'], 'code': '2.503'}, '217': {'BTcode': '1110100', 'questions': ['180 degree separation of thighs?', 'Take off with two legs?', 'Are both legs straight when seperated?', 'cross split?', 'With turn?', '0.5 turn?', 'Take off and land in side position?'], 'code': '2.403'}, '218': {'BTcode': '111001', 'questions': ['180 degree separation of thighs?', 'Take off with two legs?', 'Are both legs straight when seperated?', 'cross split?', 'With turn?', 'Take off and land in side position?'], 'code': '2.303'}, '219': {'BTcode': '111000', 'questions': ['180 degree separation of thighs?', 'Take off with two legs?', 'Are both legs straight when seperated?', 'cross split?', 'With turn?', 'Take off and land in side position?'], 'code': '2.203'}, '220': {'BTcode': '1101', 'questions': ['180 degree separation of thighs?', 'Take off with two legs?', 'Are both legs straight when seperated?', 'staggering jump (front leg bent in ring position)?'], 'code': '2.208'}, '221': {'BTcode': '11001', 'questions': ['180 degree separation of thighs?', 'Take off with two legs?', 'Are both legs straight when seperated?', 'staggering jump (front leg bent in ring position)?', 'Front leg below horizontal?'], 'code': '2.208'}, '222': {'BTcode': '11000', 'questions': ['180 degree separation of thighs?', 'Take off with two legs?', 'Are both legs straight when seperated?', 'staggering jump (front leg bent in ring position)?', 'Front leg below horizontal?'], 'code': '2.408'}, '223': {'BTcode': '1011111', 'questions': ['180 degree separation of thighs?', 'Take off with two legs?', 'Are both legs straight when seperated?', 'cross split?', 'With turn?', 'switch leap?', '0.5 turn (facing different directions when take off and after landing)?'], 'code': '2.405'}, '224': {'BTcode': '1011110', 'questions': ['180 degree separation of thighs?', 'Take off with two legs?', 'Are both legs straight when seperated?', 'cross split?', 'With turn?', 'switch leap?', '0.5 turn (facing different directions when take off and after landing)?'], 'code': '2.405'}, '225': {'BTcode': '10111011', 'questions': ['180 degree separation of thighs?', 'Take off with two legs?', 'Are both legs straight when seperated?', 'cross split?', 'With turn?', 'switch leap?', '0.5 turn (facing different directions when take off and after landing)?', 'Is back leg above horizontal when splitting legs?'], 'code': '2.404'}, '226': {'BTcode': '10111010', 'questions': ['180 degree separation of thighs?', 'Take off with two legs?', 'Are both legs straight when seperated?', 'cross split?', 'With turn?', 'switch leap?', '0.5 turn (facing different directions when take off and after landing)?', 'Is back leg above horizontal when splitting legs?'], 'code': '2.301'}, '227': {'BTcode': '1011100', 'questions': ['180 degree separation of thighs?', 'Take off with two legs?', 'Are both legs straight when seperated?', 'cross split?', 'With turn?', 'switch leap?', '0.5 turn (facing different directions when take off and after landing)?'], 'code': '2.501'}, '228': {'BTcode': '101101', 'questions': ['180 degree separation of thighs?', 'Take off with two legs?', 'Are both legs straight when seperated?', 'cross split?', 'With turn?', 'switch leap?'], 'code': '2.305'}, '229': {'BTcode': '1011001', 'questions': ['180 degree separation of thighs?', 'Take off with two legs?', 'Are both legs straight when seperated?', 'cross split?', 'With turn?', 'switch leap?', 'Is the front leg bent when taking off?'], 'code': '2.101'}, '230': {'BTcode': '1011000', 'questions': ['180 degree separation of thighs?', 'Take off with two legs?', 'Are both legs straight when seperated?', 'cross split?', 'With turn?', 'switch leap?', 'Is the front leg bent when taking off?'], 'code': '2.201'}, '231': {'BTcode': '101011', 'questions': ['180 degree separation of thighs?', 'Take off with two legs?', 'Are both legs straight when seperated?', 'cross split?', '0.5 turn?', 'switch leap?'], 'code': '2.506'}, '232': {'BTcode': '101001', 'questions': ['180 degree separation of thighs?', 'Take off with two legs?', 'Are both legs straight when seperated?', 'cross split?', '0.5 turn?', 'switch leap?'], 'code': '2.306'}, '233': {'BTcode': '101000', 'questions': ['180 degree separation of thighs?', 'Take off with two legs?', 'Are both legs straight when seperated?', 'cross split?', '0.5 turn?', 'switch leap?'], 'code': '2.206'}, '234': {'BTcode': '1001', 'questions': ['180 degree separation of thighs?', 'Take off with two legs?', 'Are both legs straight when seperated?', 'Leap with change of legs?'], 'code': '2.505'}, '235': {'BTcode': '1000', 'questions': ['180 degree separation of thighs?', 'Take off with two legs?', 'Are both legs straight when seperated?', 'Leap with change of legs?'], 'code': '2.401'}, '236': {'BTcode': '01111', 'questions': ['180 degree separation of thighs?', 'Both legs stay together in flight phase?', 'Tuck?', '1 turn?', 'Take off and land in side position?'], 'code': '2.411'}, '237': {'BTcode': '01110', 'questions': ['180 degree separation of thighs?', 'Both legs stay together in flight phase?', 'Tuck?', '1 turn?', 'Take off and land in side position?'], 'code': '2.311'}, '238': {'BTcode': '011011', 'questions': ['180 degree separation of thighs?', 'Both legs stay together in flight phase?', 'Tuck?', '1 turn?', '1.5 turn?', 'Take off and land in side position?'], 'code': '2.411'}, '239': {'BTcode': '011010', 'questions': ['180 degree separation of thighs?', 'Both legs stay together in flight phase?', 'Tuck?', '1 turn?', '1.5 turn?', 'Take off and land in side position?'], 'code': '2.411'}, '240': {'BTcode': '0110011', 'questions': ['180 degree separation of thighs?', 'Both legs stay together in flight phase?', 'Tuck?', '1 turn?', '1.5 turn?', '0.5 turn?', 'Take off and land in side position?'], 'code': '2.311'}, '241': {'BTcode': '0110010', 'questions': ['180 degree separation of thighs?', 'Both legs stay together in flight phase?', 'Tuck?', '1 turn?', '1.5 turn?', '0.5 turn?', 'Take off and land in side position?'], 'code': '2.211'}, '242': {'BTcode': '011000', 'questions': ['180 degree separation of thighs?', 'Both legs stay together in flight phase?', 'Tuck?', '1 turn?', '1.5 turn?', '0.5 turn?'], 'code': '2.211'}, '243': {'BTcode': '010111', 'questions': ['180 degree separation of thighs?', 'Both legs stay together in flight phase?', 'Tuck?', 'Pike jump?', '0.5 turn?', 'Take off and land in side position?'], 'code': '2.307'}, '244': {'BTcode': '010110', 'questions': ['180 degree separation of thighs?', 'Both legs stay together in flight phase?', 'Tuck?', 'Pike jump?', '0.5 turn?', 'Take off and land in side position?'], 'code': '2.207'}, '245': {'BTcode': '0101011', 'questions': ['180 degree separation of thighs?', 'Both legs stay together in flight phase?', 'Tuck?', 'Pike jump?', '0.5 turn?', '1 turn?', 'Take off and land in side position?'], 'code': '2.507'}, '246': {'BTcode': '0101010', 'questions': ['180 degree separation of thighs?', 'Both legs stay together in flight phase?', 'Tuck?', 'Pike jump?', '0.5 turn?', '1 turn?', 'Take off and land in side position?'], 'code': '2.407'}, '247': {'BTcode': '0101001', 'questions': ['180 degree separation of thighs?', 'Both legs stay together in flight phase?', 'Tuck?', 'Pike jump?', '0.5 turn?', '1 turn?', '0.75 turn?'], 'code': '2.207'}, '248': {'BTcode': '0101000', 'questions': ['180 degree separation of thighs?', 'Both legs stay together in flight phase?', 'Tuck?', 'Pike jump?', '0.5 turn?', '1 turn?', '0.75 turn?'], 'code': '2.107'}, '249': {'BTcode': '010011', 'questions': ['180 degree separation of thighs?', 'Both legs stay together in flight phase?', 'Tuck?', 'Pike jump?', 'Stretched jump?', '1 turn?'], 'code': '2.309'}, '250': {'BTcode': '0100101', 'questions': ['180 degree separation of thighs?', 'Both legs stay together in flight phase?', 'Tuck?', 'Pike jump?', 'Stretched jump?', '1 turn?', '1.5 turn?'], 'code': '2.409'}, '251': {'BTcode': '010001', 'questions': ['180 degree separation of thighs?', 'Both legs stay together in flight phase?', 'Tuck?', 'Pike jump?', 'Stretched jump?', 'sheep jump (jump with upper back arch and head release with feet to head height)?'], 'code': '2.308'}, '252': {'BTcode': '00111', 'questions': ['180 degree separation of thighs?', 'Both legs stay together in flight phase?', 'To wolf position (hip angle at 45, knees together)?', 'With turn?', '1 turn?'], 'code': '2.412'}, '253': {'BTcode': '001101', 'questions': ['180 degree separation of thighs?', 'Both legs stay together in flight phase?', 'To wolf position (hip angle at 45, knees together)?', 'With turn?', '1 turn?', '1.5 turn?'], 'code': '2.512'}, '254': {'BTcode': '001100', 'questions': ['180 degree separation of thighs?', 'Both legs stay together in flight phase?', 'To wolf position (hip angle at 45, knees together)?', 'With turn?', '1 turn?', '1.5 turn?'], 'code': '2.212'}, '255': {'BTcode': '00101', 'questions': ['180 degree separation of thighs?', 'Both legs stay together in flight phase?', 'To wolf position (hip angle at 45, knees together)?', 'With turn?', 'Leap with leg change?'], 'code': '2.105'}, '256': {'BTcode': '00100', 'questions': ['180 degree separation of thighs?', 'Both legs stay together in flight phase?', 'To wolf position (hip angle at 45, knees together)?', 'With turn?', 'Leap with leg change?'], 'code': '2.112'}, '257': {'BTcode': '000111', 'questions': ['180 degree separation of thighs?', 'Both legs stay together in flight phase?', 'To wolf position (hip angle at 45, knees together)?', 'Cat leap (Leap with alternate leg change)?', 'With turn?', '0.5 turn?'], 'code': '2.210'}, '258': {'BTcode': '000110', 'questions': ['180 degree separation of thighs?', 'Both legs stay together in flight phase?', 'To wolf position (hip angle at 45, knees together)?', 'Cat leap (Leap with alternate leg change)?', 'With turn?', '0.5 turn?'], 'code': '2.310'}, '259': {'BTcode': '00010', 'questions': ['180 degree separation of thighs?', 'Both legs stay together in flight phase?', 'To wolf position (hip angle at 45, knees together)?', 'Cat leap (Leap with alternate leg change)?', 'With turn?'], 'code': '2.110'}, '260': {'BTcode': '00001', 'questions': ['180 degree separation of thighs?', 'Both legs stay together in flight phase?', 'To wolf position (hip angle at 45, knees together)?', 'Cat leap (Leap with alternate leg change)?', 'Land in arabesque?'], 'code': '2.204'}, '261': {'BTcode': '000001', 'questions': ['180 degree separation of thighs?', 'Both legs stay together in flight phase?', 'To wolf position (hip angle at 45, knees together)?', 'Cat leap (Leap with alternate leg change)?', 'Land in arabesque?', '0.5 turn?'], 'code': '2.209'}, '262': {'BTcode': '1111', 'questions': ['Turn with support leg straight?', 'Is free leg straight at or ever above horizontal?', 'Illusion (torso pivots down)?', '0.5 turn (facing different directions before and after turn) ?'], 'code': '3.206'}, '263': {'BTcode': '1110', 'questions': ['Turn with support leg straight?', 'Is free leg straight at or ever above horizontal?', 'Illusion (torso pivots down)?', '0.5 turn (facing different directions before and after turn) ?'], 'code': '3.406'}, '264': {'BTcode': '11011', 'questions': ['Turn with support leg straight?', 'Is free leg straight at or ever above horizontal?', 'Illusion (torso pivots down)?', 'Free leg held upward, heel over head?', '1.5 turn?'], 'code': '3.405'}, '265': {'BTcode': '11010', 'questions': ['Turn with support leg straight?', 'Is free leg straight at or ever above horizontal?', 'Illusion (torso pivots down)?', 'Free leg held upward, heel over head?', '1.5 turn?'], 'code': '3.305'}, '266': {'BTcode': '110011', 'questions': ['Turn with support leg straight?', 'Is free leg straight at or ever above horizontal?', 'Illusion (torso pivots down)?', 'Free leg held upward, heel over head?', 'Heel of free leg at horizontal?', '1.5 turn?'], 'code': '3.404'}, '267': {'BTcode': '1100101', 'questions': ['Turn with support leg straight?', 'Is free leg straight at or ever above horizontal?', 'Illusion (torso pivots down)?', 'Free leg held upward, heel over head?', 'Heel of free leg at horizontal?', '1.5 turn?', '2 turn?'], 'code': '3.504'}, '268': {'BTcode': '1100100', 'questions': ['Turn with support leg straight?', 'Is free leg straight at or ever above horizontal?', 'Illusion (torso pivots down)?', 'Free leg held upward, heel over head?', 'Heel of free leg at horizontal?', '1.5 turn?', '2 turn?'], 'code': '3.304'}, '269': {'BTcode': '10111', 'questions': ['Turn with support leg straight?', 'Is free leg straight at or ever above horizontal?', 'Free leg below horizontal?', 'Either 2 turn or 3 turn?', '3 turn?'], 'code': '3.501'}, '270': {'BTcode': '10110', 'questions': ['Turn with support leg straight?', 'Is free leg straight at or ever above horizontal?', 'Free leg below horizontal?', 'Either 2 turn or 3 turn?', '3 turn?'], 'code': '3.401'}, '271': {'BTcode': '10101', 'questions': ['Turn with support leg straight?', 'Is free leg straight at or ever above horizontal?', 'Free leg below horizontal?', 'Either 2 turn or 3 turn?', '1.5 turn?'], 'code': '3.201'}, '272': {'BTcode': '10100', 'questions': ['Turn with support leg straight?', 'Is free leg straight at or ever above horizontal?', 'Free leg below horizontal?', 'Either 2 turn or 3 turn?', '1.5 turn?'], 'code': '3.101'}, '273': {'BTcode': '1001', 'questions': ['Turn with support leg straight?', 'Is free leg straight at or ever above horizontal?', 'Free leg below horizontal?', 'Is free leg held backward with hands?'], 'code': '3.403'}, '274': {'BTcode': '10001', 'questions': ['Turn with support leg straight?', 'Is free leg straight at or ever above horizontal?', 'Free leg below horizontal?', 'Is free leg held backward with hands?', '1.5 turn?'], 'code': '3.402'}, '275': {'BTcode': '10000', 'questions': ['Turn with support leg straight?', 'Is free leg straight at or ever above horizontal?', 'Free leg below horizontal?', 'Is free leg held backward with hands?', '1.5 turn?'], 'code': '3.302'}, '276': {'BTcode': '0111', 'questions': ['Turn with support leg straight?', 'Turn in tuck stand?', '1.5 turn or 2.5 turn  (facing different directions before and after turn) ?', '2.5 turn?'], 'code': '3.408'}, '277': {'BTcode': '0110', 'questions': ['Turn with support leg straight?', 'Turn in tuck stand?', '1.5 turn or 2.5 turn  (facing different directions before and after turn) ?', '2.5 turn?'], 'code': '3.308'}, '278': {'BTcode': '0101', 'questions': ['Turn with support leg straight?', 'Turn in tuck stand?', '1.5 turn or 2.5 turn  (facing different directions before and after turn) ?', '3 turn?'], 'code': '3.408'}, '279': {'BTcode': '01001', 'questions': ['Turn with support leg straight?', 'Turn in tuck stand?', '1.5 turn or 2.5 turn  (facing different directions before and after turn) ?', '3 turn?', '2 turn?'], 'code': '3.408'}, '280': {'BTcode': '01000', 'questions': ['Turn with support leg straight?', 'Turn in tuck stand?', '1.5 turn or 2.5 turn  (facing different directions before and after turn) ?', '3 turn?', '2 turn?'], 'code': '3.208'}, '281': {'BTcode': '0011', 'questions': ['Turn with support leg straight?', 'Turn in tuck stand?', 'Turn on knee?', '1.5 turn?'], 'code': '3.207'}, '282': {'BTcode': '00101', 'questions': ['Turn with support leg straight?', 'Turn in tuck stand?', 'Turn on knee?', '1.5 turn?', '2 turn?'], 'code': '3.307'}, '283': {'BTcode': '00100', 'questions': ['Turn with support leg straight?', 'Turn in tuck stand?', 'Turn on knee?', '1.5 turn?', '2 turn?'], 'code': '3.107'}, '284': {'BTcode': '00011', 'questions': ['Turn with support leg straight?', 'Turn in tuck stand?', 'Turn on knee?', 'Turn in prone position?', '1.5 turn?'], 'code': '3.209'}, '285': {'BTcode': '00010', 'questions': ['Turn with support leg straight?', 'Turn in tuck stand?', 'Turn on knee?', 'Turn in prone position?', '1.5 turn?'], 'code': '3.209'}, '286': {'BTcode': '0000', 'questions': ['Turn with support leg straight?', 'Turn in tuck stand?', 'Turn on knee?', 'Turn in prone position?'], 'code': '3.409'}, '287': {'BTcode': '111', 'questions': ['Salto backward?', 'Tuck salto (knees and hips are bent)?', 'Gainer salto (kick one leg forward before take-off)?'], 'code': '5.313'}}\n"
     ]
    }
   ],
   "source": [
    "with open('/Users/codingblocks/Downloads/BTcode.json', 'r') as file:\n",
    "#     print(file.read())\n",
    "    text = json.load(file)\n",
    "    print(text)"
   ]
  },
  {
   "cell_type": "code",
   "execution_count": 169,
   "id": "77704e41",
   "metadata": {},
   "outputs": [
    {
     "name": "stdout",
     "output_type": "stream",
     "text": [
      "('0', {'BTcode': '1111111', 'questions': ['round-off onto the springboard?', 'turning entry after round-off (turning in first flight phase)?', 'Facing the coming direction when handstand on vault (0.5 turn in first flight phase)?', 'Body keep stretched  during salto (stretched salto)?', 'Salto with turn?', 'Facing vault table after landing?', 'Salto with 1.5 turn?'], 'code': '6.00'})\n",
      "('1', {'BTcode': '1111110', 'questions': ['round-off onto the springboard?', 'turning entry after round-off (turning in first flight phase)?', 'Facing the coming direction when handstand on vault (0.5 turn in first flight phase)?', 'Body keep stretched  during salto (stretched salto)?', 'Salto with turn?', 'Facing vault table after landing?', 'Salto with 1.5 turn?'], 'code': '5.20'})\n",
      "('2', {'BTcode': '1111101', 'questions': ['round-off onto the springboard?', 'turning entry after round-off (turning in first flight phase)?', 'Facing the coming direction when handstand on vault (0.5 turn in first flight phase)?', 'Body keep stretched  during salto (stretched salto)?', 'Salto with turn?', 'Facing vault table after landing?', 'Salto with 1 turn?'], 'code': '5.60'})\n",
      "('3', {'BTcode': '1111100', 'questions': ['round-off onto the springboard?', 'turning entry after round-off (turning in first flight phase)?', 'Facing the coming direction when handstand on vault (0.5 turn in first flight phase)?', 'Body keep stretched  during salto (stretched salto)?', 'Salto with turn?', 'Facing vault table after landing?', 'Salto with 1 turn?'], 'code': '6.40'})\n",
      "('4', {'BTcode': '11110', 'questions': ['round-off onto the springboard?', 'turning entry after round-off (turning in first flight phase)?', 'Facing the coming direction when handstand on vault (0.5 turn in first flight phase)?', 'Body keep stretched  during salto (stretched salto)?', 'Salto with turn?'], 'code': '4.80'})\n",
      "('5', {'BTcode': '111011', 'questions': ['round-off onto the springboard?', 'turning entry after round-off (turning in first flight phase)?', 'Facing the coming direction when handstand on vault (0.5 turn in first flight phase)?', 'Body keep stretched  during salto (stretched salto)?', 'Salto piked  (body bent forward at the waist with the legs kept stretched )?', '0.5 turn with body being stretched before salto?'], 'code': '4.80'})\n",
      "('6', {'BTcode': '11101011', 'questions': ['round-off onto the springboard?', 'turning entry after round-off (turning in first flight phase)?', 'Facing the coming direction when handstand on vault (0.5 turn in first flight phase)?', 'Body keep stretched  during salto (stretched salto)?', 'Salto piked  (body bent forward at the waist with the legs kept stretched )?', '0.5 turn with body being stretched before salto?', 'Facing vault table after landing?', 'Salto with 1.5 turn?'], 'code': '5.60'})\n",
      "('7', {'BTcode': '11101010', 'questions': ['round-off onto the springboard?', 'turning entry after round-off (turning in first flight phase)?', 'Facing the coming direction when handstand on vault (0.5 turn in first flight phase)?', 'Body keep stretched  during salto (stretched salto)?', 'Salto piked  (body bent forward at the waist with the legs kept stretched )?', '0.5 turn with body being stretched before salto?', 'Facing vault table after landing?', 'Salto with 1.5 turn?'], 'code': '4.80'})\n",
      "('8', {'BTcode': '11101001', 'questions': ['round-off onto the springboard?', 'turning entry after round-off (turning in first flight phase)?', 'Facing the coming direction when handstand on vault (0.5 turn in first flight phase)?', 'Body keep stretched  during salto (stretched salto)?', 'Salto piked  (body bent forward at the waist with the legs kept stretched )?', '0.5 turn with body being stretched before salto?', 'Facing vault table after landing?', 'Salto with turn?'], 'code': '5.20'})\n",
      "('9', {'BTcode': '11101000', 'questions': ['round-off onto the springboard?', 'turning entry after round-off (turning in first flight phase)?', 'Facing the coming direction when handstand on vault (0.5 turn in first flight phase)?', 'Body keep stretched  during salto (stretched salto)?', 'Salto piked  (body bent forward at the waist with the legs kept stretched )?', '0.5 turn with body being stretched before salto?', 'Facing vault table after landing?', 'Salto with turn?'], 'code': '4.40'})\n",
      "('10', {'BTcode': '11100111', 'questions': ['round-off onto the springboard?', 'turning entry after round-off (turning in first flight phase)?', 'Facing the coming direction when handstand on vault (0.5 turn in first flight phase)?', 'Body keep stretched  during salto (stretched salto)?', 'Salto piked  (body bent forward at the waist with the legs kept stretched )?', 'Salto with turn?', 'Facing vault table after landing?', '1.5 turn?'], 'code': '5.40'})\n",
      "('11', {'BTcode': '11100110', 'questions': ['round-off onto the springboard?', 'turning entry after round-off (turning in first flight phase)?', 'Facing the coming direction when handstand on vault (0.5 turn in first flight phase)?', 'Body keep stretched  during salto (stretched salto)?', 'Salto piked  (body bent forward at the waist with the legs kept stretched )?', 'Salto with turn?', 'Facing vault table after landing?', '1.5 turn?'], 'code': '4.60'})\n",
      "('12', {'BTcode': '1110010', 'questions': ['round-off onto the springboard?', 'turning entry after round-off (turning in first flight phase)?', 'Facing the coming direction when handstand on vault (0.5 turn in first flight phase)?', 'Body keep stretched  during salto (stretched salto)?', 'Salto piked  (body bent forward at the waist with the legs kept stretched )?', 'Salto with turn?', 'Facing vault table after landing?'], 'code': '5.00'})\n",
      "('13', {'BTcode': '111000', 'questions': ['round-off onto the springboard?', 'turning entry after round-off (turning in first flight phase)?', 'Facing the coming direction when handstand on vault (0.5 turn in first flight phase)?', 'Body keep stretched  during salto (stretched salto)?', 'Salto piked  (body bent forward at the waist with the legs kept stretched )?', 'Salto with turn?'], 'code': '4.20'})\n",
      "('14', {'BTcode': '11011', 'questions': ['round-off onto the springboard?', 'turning entry after round-off (turning in first flight phase)?', 'Facing the coming direction when handstand on vault (0.5 turn in first flight phase)?', 'Body keep stretched during salto (stretched salto)?', 'Salto with turn?'], 'code': '5.40'})\n",
      "('15', {'BTcode': '11010', 'questions': ['round-off onto the springboard?', 'turning entry after round-off (turning in first flight phase)?', 'Facing the coming direction when handstand on vault (0.5 turn in first flight phase)?', 'Body keep stretched during salto (stretched salto)?', 'Salto with turn?'], 'code': '4.60'})\n",
      "('16', {'BTcode': '11001', 'questions': ['round-off onto the springboard?', 'turning entry after round-off (turning in first flight phase)?', 'Facing the coming direction when handstand on vault (0.5 turn in first flight phase)?', 'Body keep stretched during salto (stretched salto)?', 'Pike salto (body bent forward at the waist with the legs kept stretched )?'], 'code': '4.20'})\n",
      "('17', {'BTcode': '110001', 'questions': ['round-off onto the springboard?', 'turning entry after round-off (turning in first flight phase)?', 'Facing the coming direction when handstand on vault (0.5 turn in first flight phase)?', 'Body keep stretched during salto (stretched salto)?', 'Pike salto (body bent forward at the waist with the legs kept stretched )?', 'Salto with turn?'], 'code': '4.60'})\n",
      "('18', {'BTcode': '110000', 'questions': ['round-off onto the springboard?', 'turning entry after round-off (turning in first flight phase)?', 'Facing the coming direction when handstand on vault (0.5 turn in first flight phase)?', 'Body keep stretched during salto (stretched salto)?', 'Pike salto (body bent forward at the waist with the legs kept stretched )?', 'Salto with turn?'], 'code': '4.00'})\n",
      "('19', {'BTcode': '101111', 'questions': ['round-off onto the springboard?', 'turning entry after round-off (turning in first flight phase)?', 'Body keep stretched  during salto (stretched salto)?', 'Salto with turn?', 'Facing vault table after landing?', '2 turn?'], 'code': '5.40'})\n",
      "('20', {'BTcode': '101110', 'questions': ['round-off onto the springboard?', 'turning entry after round-off (turning in first flight phase)?', 'Body keep stretched  during salto (stretched salto)?', 'Salto with turn?', 'Facing vault table after landing?', '2 turn?'], 'code': '4.60'})\n",
      "('21', {'BTcode': '101101', 'questions': ['round-off onto the springboard?', 'turning entry after round-off (turning in first flight phase)?', 'Body keep stretched  during salto (stretched salto)?', 'Salto with turn?', 'Facing vault table after landing?', '1.5 turn?'], 'code': '5.00'})\n",
      "('22', {'BTcode': '1011001', 'questions': ['round-off onto the springboard?', 'turning entry after round-off (turning in first flight phase)?', 'Body keep stretched  during salto (stretched salto)?', 'Salto with turn?', 'Facing vault table after landing?', '1.5 turn?', '0.5 turn?'], 'code': '4.20'})\n",
      "('23', {'BTcode': '1011000', 'questions': ['round-off onto the springboard?', 'turning entry after round-off (turning in first flight phase)?', 'Body keep stretched  during salto (stretched salto)?', 'Salto with turn?', 'Facing vault table after landing?', '1.5 turn?', '0.5 turn?'], 'code': '5.80'})\n",
      "('24', {'BTcode': '1010', 'questions': ['round-off onto the springboard?', 'turning entry after round-off (turning in first flight phase)?', 'Body keep stretched  during salto (stretched salto)?', 'Salto with turn?'], 'code': '4.00'})\n",
      "('25', {'BTcode': '1001', 'questions': ['round-off onto the springboard?', 'turning entry after round-off (turning in first flight phase)?', 'Body keep stretched  during salto (stretched salto)?', 'Pike salto (body bent forward at the waist with the legs kept stretched )?'], 'code': '3.50'})\n",
      "('26', {'BTcode': '100011', 'questions': ['round-off onto the springboard?', 'turning entry after round-off (turning in first flight phase)?', 'Body keep stretched  during salto (stretched salto)?', 'Pike salto (body bent forward at the waist with the legs kept stretched )?', 'Salto with turn?', 'Facing vault table after landing?'], 'code': '3.90'})\n",
      "('27', {'BTcode': '1000101', 'questions': ['round-off onto the springboard?', 'turning entry after round-off (turning in first flight phase)?', 'Body keep stretched  during salto (stretched salto)?', 'Pike salto (body bent forward at the waist with the legs kept stretched )?', 'Salto with turn?', 'Facing vault table after landing?', '1.5 turn?'], 'code': '4.20'})\n",
      "('28', {'BTcode': '1000100', 'questions': ['round-off onto the springboard?', 'turning entry after round-off (turning in first flight phase)?', 'Body keep stretched  during salto (stretched salto)?', 'Pike salto (body bent forward at the waist with the legs kept stretched )?', 'Salto with turn?', 'Facing vault table after landing?', '1.5 turn?'], 'code': '3.60'})\n",
      "('29', {'BTcode': '10000', 'questions': ['round-off onto the springboard?', 'turning entry after round-off (turning in first flight phase)?', 'Body keep stretched  during salto (stretched salto)?', 'Pike salto (body bent forward at the waist with the legs kept stretched )?', 'Salto with turn?'], 'code': '3.30'})\n",
      "('30', {'BTcode': '011111', 'questions': ['round-off onto the springboard?', 'Tsukahara (front handspring with 0.5 or 0.25 turn in pre-flight) ?', 'Body keep stretched  during salto (stretched salto)?', 'Salto with turn?', 'Facing vault table after landing?', '2 turn?'], 'code': '5.60'})\n",
      "('31', {'BTcode': '011110', 'questions': ['round-off onto the springboard?', 'Tsukahara (front handspring with 0.5 or 0.25 turn in pre-flight) ?', 'Body keep stretched  during salto (stretched salto)?', 'Salto with turn?', 'Facing vault table after landing?', '2 turn?'], 'code': '4.80'})\n",
      "('32', {'BTcode': '011101', 'questions': ['round-off onto the springboard?', 'Tsukahara (front handspring with 0.5 or 0.25 turn in pre-flight) ?', 'Body keep stretched  during salto (stretched salto)?', 'Salto with turn?', 'Facing vault table after landing?', '1.5 turn?'], 'code': '5.20'})\n",
      "('33', {'BTcode': '0111001', 'questions': ['round-off onto the springboard?', 'Tsukahara (front handspring with 0.5 or 0.25 turn in pre-flight) ?', 'Body keep stretched  during salto (stretched salto)?', 'Salto with turn?', 'Facing vault table after landing?', '1.5 turn?', '0.5 turn?'], 'code': '4.40'})\n",
      "('34', {'BTcode': '0111000', 'questions': ['round-off onto the springboard?', 'Tsukahara (front handspring with 0.5 or 0.25 turn in pre-flight) ?', 'Body keep stretched  during salto (stretched salto)?', 'Salto with turn?', 'Facing vault table after landing?', '1.5 turn?', '0.5 turn?'], 'code': '6.00'})\n",
      "('35', {'BTcode': '01101', 'questions': ['round-off onto the springboard?', 'Tsukahara (front handspring with 0.5 or 0.25 turn in pre-flight) ?', 'Body keep stretched  during salto (stretched salto)?', 'Salto with turn?', 'Salto?'], 'code': '4.20'})\n",
      "('36', {'BTcode': '01100', 'questions': ['round-off onto the springboard?', 'Tsukahara (front handspring with 0.5 or 0.25 turn in pre-flight) ?', 'Body keep stretched  during salto (stretched salto)?', 'Salto with turn?', 'Salto?'], 'code': '3.20'})\n",
      "('37', {'BTcode': '0101', 'questions': ['round-off onto the springboard?', 'Tsukahara (front handspring with 0.5 or 0.25 turn in pre-flight) ?', 'Body keep stretched  during salto (stretched salto)?', 'Pike salto (body bent forward at the waist with the legs kept stretched )?'], 'code': '3.80'})\n",
      "('38', {'BTcode': '010011', 'questions': ['round-off onto the springboard?', 'Tsukahara (front handspring with 0.5 or 0.25 turn in pre-flight) ?', 'Body keep stretched  during salto (stretched salto)?', 'Pike salto (body bent forward at the waist with the legs kept stretched )?', 'Salto with turn?', 'Facing vault table after landing?'], 'code': '4.10'})\n",
      "('39', {'BTcode': '0100101', 'questions': ['round-off onto the springboard?', 'Tsukahara (front handspring with 0.5 or 0.25 turn in pre-flight) ?', 'Body keep stretched  during salto (stretched salto)?', 'Pike salto (body bent forward at the waist with the legs kept stretched )?', 'Salto with turn?', 'Facing vault table after landing?', '1.5 turn?'], 'code': '4.40'})\n",
      "('40', {'BTcode': '0100100', 'questions': ['round-off onto the springboard?', 'Tsukahara (front handspring with 0.5 or 0.25 turn in pre-flight) ?', 'Body keep stretched  during salto (stretched salto)?', 'Pike salto (body bent forward at the waist with the legs kept stretched )?', 'Salto with turn?', 'Facing vault table after landing?', '1.5 turn?'], 'code': '3.80'})\n",
      "('41', {'BTcode': '01000', 'questions': ['round-off onto the springboard?', 'Tsukahara (front handspring with 0.5 or 0.25 turn in pre-flight) ?', 'Body keep stretched  during salto (stretched salto)?', 'Pike salto (body bent forward at the waist with the legs kept stretched )?', 'Salto with turn?'], 'code': '3.50'})\n",
      "('42', {'BTcode': '001101', 'questions': ['round-off onto the springboard?', 'Tsukahara (front handspring with 0.5 or 0.25 turn in pre-flight) ?', 'Twisting body before touching the vault table?', 'Facing the opposite of the coming direction when handstand on vault?', 'With salto?', 'With turn?'], 'code': '2.80'})\n",
      "('43', {'BTcode': '001001', 'questions': ['round-off onto the springboard?', 'Tsukahara (front handspring with 0.5 or 0.25 turn in pre-flight) ?', 'Twisting body before touching the vault table?', 'Facing the opposite of the coming direction when handstand on vault?', 'With salto?', 'With turn?'], 'code': '4.00'})\n",
      "('44', {'BTcode': '001000', 'questions': ['round-off onto the springboard?', 'Tsukahara (front handspring with 0.5 or 0.25 turn in pre-flight) ?', 'Twisting body before touching the vault table?', 'Facing the opposite of the coming direction when handstand on vault?', 'With salto?', 'With turn?'], 'code': '3.60'})\n",
      "('45', {'BTcode': '00011111', 'questions': ['round-off onto the springboard?', 'Tsukahara (front handspring with 0.5 or 0.25 turn in pre-flight) ?', 'Twisting body before touching the vault table?', 'Salto off?', 'body keep stretched  during salto (stretched salto)?', 'Salto with turn?', 'Facing vault table after landing?', '1.5 turn?'], 'code': '5.80'})\n",
      "('46', {'BTcode': '00011110', 'questions': ['round-off onto the springboard?', 'Tsukahara (front handspring with 0.5 or 0.25 turn in pre-flight) ?', 'Twisting body before touching the vault table?', 'Salto off?', 'body keep stretched  during salto (stretched salto)?', 'Salto with turn?', 'Facing vault table after landing?', '1.5 turn?'], 'code': '5.00'})\n",
      "('47', {'BTcode': '0001110', 'questions': ['round-off onto the springboard?', 'Tsukahara (front handspring with 0.5 or 0.25 turn in pre-flight) ?', 'Twisting body before touching the vault table?', 'Salto off?', 'body keep stretched  during salto (stretched salto)?', 'Salto with turn?', 'Facing vault table after landing?'], 'code': '5.40'})\n",
      "('48', {'BTcode': '000110', 'questions': ['round-off onto the springboard?', 'Tsukahara (front handspring with 0.5 or 0.25 turn in pre-flight) ?', 'Twisting body before touching the vault table?', 'Salto off?', 'body keep stretched  during salto (stretched salto)?', 'Salto with turn?'], 'code': '4.60'})\n",
      "('49', {'BTcode': '00010111', 'questions': ['round-off onto the springboard?', 'Tsukahara (front handspring with 0.5 or 0.25 turn in pre-flight) ?', 'Twisting body before touching the vault table?', 'Salto off?', 'body keep stretched  during salto (stretched salto)?', 'Pike salto (body bent forward at the waist with the legs kept stretched )?', 'Salto with turn?', '0.5 turn with body being stretched before salto?'], 'code': '4.60'})\n",
      "('50', {'BTcode': '0001011011', 'questions': ['round-off onto the springboard?', 'Tsukahara (front handspring with 0.5 or 0.25 turn in pre-flight) ?', 'Twisting body before touching the vault table?', 'Salto off?', 'body keep stretched  during salto (stretched salto)?', 'Pike salto (body bent forward at the waist with the legs kept stretched )?', 'Salto with turn?', '0.5 turn with body being stretched before salto?', 'Facing vault table after landing?', '1.5 turn?'], 'code': '5.40'})\n",
      "('51', {'BTcode': '0001011010', 'questions': ['round-off onto the springboard?', 'Tsukahara (front handspring with 0.5 or 0.25 turn in pre-flight) ?', 'Twisting body before touching the vault table?', 'Salto off?', 'body keep stretched  during salto (stretched salto)?', 'Pike salto (body bent forward at the waist with the legs kept stretched )?', 'Salto with turn?', '0.5 turn with body being stretched before salto?', 'Facing vault table after landing?', '1.5 turn?'], 'code': '4.60'})\n",
      "('52', {'BTcode': '000101100', 'questions': ['round-off onto the springboard?', 'Tsukahara (front handspring with 0.5 or 0.25 turn in pre-flight) ?', 'Twisting body before touching the vault table?', 'Salto off?', 'body keep stretched  during salto (stretched salto)?', 'Pike salto (body bent forward at the waist with the legs kept stretched )?', 'Salto with turn?', '0.5 turn with body being stretched before salto?', 'Facing vault table after landing?'], 'code': '5.00'})\n",
      "('53', {'BTcode': '0001010', 'questions': ['round-off onto the springboard?', 'Tsukahara (front handspring with 0.5 or 0.25 turn in pre-flight) ?', 'Twisting body before touching the vault table?', 'Salto off?', 'body keep stretched  during salto (stretched salto)?', 'Pike salto (body bent forward at the waist with the legs kept stretched )?', 'Salto with turn?'], 'code': '4.20'})\n",
      "('54', {'BTcode': '00010011', 'questions': ['round-off onto the springboard?', 'Tsukahara (front handspring with 0.5 or 0.25 turn in pre-flight) ?', 'Twisting body before touching the vault table?', 'Salto off?', 'body keep stretched  during salto (stretched salto)?', 'Pike salto (body bent forward at the waist with the legs kept stretched )?', 'Salto with turn?', '0.5 turn with body being stretched before salto?'], 'code': '4.40'})\n",
      "('55', {'BTcode': '0001001011', 'questions': ['round-off onto the springboard?', 'Tsukahara (front handspring with 0.5 or 0.25 turn in pre-flight) ?', 'Twisting body before touching the vault table?', 'Salto off?', 'body keep stretched  during salto (stretched salto)?', 'Pike salto (body bent forward at the waist with the legs kept stretched )?', 'Salto with turn?', '0.5 turn with body being stretched before salto?', 'Facing vault table after landing?', '1.5 turn?'], 'code': '5.20'})\n",
      "('56', {'BTcode': '0001001010', 'questions': ['round-off onto the springboard?', 'Tsukahara (front handspring with 0.5 or 0.25 turn in pre-flight) ?', 'Twisting body before touching the vault table?', 'Salto off?', 'body keep stretched  during salto (stretched salto)?', 'Pike salto (body bent forward at the waist with the legs kept stretched )?', 'Salto with turn?', '0.5 turn with body being stretched before salto?', 'Facing vault table after landing?', '1.5 turn?'], 'code': '4.40'})\n",
      "('57', {'BTcode': '000100100', 'questions': ['round-off onto the springboard?', 'Tsukahara (front handspring with 0.5 or 0.25 turn in pre-flight) ?', 'Twisting body before touching the vault table?', 'Salto off?', 'body keep stretched  during salto (stretched salto)?', 'Pike salto (body bent forward at the waist with the legs kept stretched )?', 'Salto with turn?', '0.5 turn with body being stretched before salto?', 'Facing vault table after landing?'], 'code': '4.80'})\n",
      "('58', {'BTcode': '00010001', 'questions': ['round-off onto the springboard?', 'Tsukahara (front handspring with 0.5 or 0.25 turn in pre-flight) ?', 'Twisting body before touching the vault table?', 'Salto off?', 'body keep stretched  during salto (stretched salto)?', 'Pike salto (body bent forward at the waist with the legs kept stretched )?', 'Salto with turn?', 'Double salto tucked?'], 'code': '6.40'})\n",
      "('59', {'BTcode': '00010000', 'questions': ['round-off onto the springboard?', 'Tsukahara (front handspring with 0.5 or 0.25 turn in pre-flight) ?', 'Twisting body before touching the vault table?', 'Salto off?', 'body keep stretched  during salto (stretched salto)?', 'Pike salto (body bent forward at the waist with the legs kept stretched )?', 'Salto with turn?', 'Double salto tucked?'], 'code': '4.00'})\n",
      "('60', {'BTcode': '0000111', 'questions': ['round-off onto the springboard?', 'Tsukahara (front handspring with 0.5 or 0.25 turn in pre-flight) ?', 'Twisting body before touching the vault table?', 'Salto off?', 'body keep stretched  during flight?', 'With turn?', 'Facing vault table after landing?'], 'code': '3.60'})\n",
      "('61', {'BTcode': '00001101', 'questions': ['round-off onto the springboard?', 'Tsukahara (front handspring with 0.5 or 0.25 turn in pre-flight) ?', 'Twisting body before touching the vault table?', 'Salto off?', 'body keep stretched  during flight?', 'With turn?', 'Facing vault table after landing?', '2 turn?'], 'code': '4.00'})\n",
      "('62', {'BTcode': '00001100', 'questions': ['round-off onto the springboard?', 'Tsukahara (front handspring with 0.5 or 0.25 turn in pre-flight) ?', 'Twisting body before touching the vault table?', 'Salto off?', 'body keep stretched  during flight?', 'With turn?', 'Facing vault table after landing?', '2 turn?'], 'code': '3.00'})\n",
      "('63', {'BTcode': '000010', 'questions': ['round-off onto the springboard?', 'Tsukahara (front handspring with 0.5 or 0.25 turn in pre-flight) ?', 'Twisting body before touching the vault table?', 'Salto off?', 'body keep stretched  during flight?', 'With turn?'], 'code': '2.00'})\n",
      "('64', {'BTcode': '0000011', 'questions': ['round-off onto the springboard?', 'Tsukahara (front handspring with 0.5 or 0.25 turn in pre-flight) ?', 'Twisting body before touching the vault table?', 'Salto off?', 'body keep stretched  during flight?', 'With turn?', 'Facing vault table after landing?'], 'code': '2.80'})\n",
      "('65', {'BTcode': '0000010', 'questions': ['round-off onto the springboard?', 'Tsukahara (front handspring with 0.5 or 0.25 turn in pre-flight) ?', 'Twisting body before touching the vault table?', 'Salto off?', 'body keep stretched  during flight?', 'With turn?', 'Facing vault table after landing?'], 'code': '3.20'})\n",
      "('66', {'BTcode': '000000', 'questions': ['round-off onto the springboard?', 'Tsukahara (front handspring with 0.5 or 0.25 turn in pre-flight) ?', 'Twisting body before touching the vault table?', 'Salto off?', 'body keep stretched  during flight?', 'With turn?'], 'code': '2.40'})\n",
      "('67', {'BTcode': '1111111', 'questions': ['180 degree separation of thighs?', 'Are both legs straight when seperated?', 'Cross split?', 'Leap (do not jump with both feet) ?', 'With turn?', 'Switch leap?', '0.5 turn (facing different directions when take off and after landing) ?'], 'code': '1.304'})\n",
      "('68', {'BTcode': '1111110', 'questions': ['180 degree separation of thighs?', 'Are both legs straight when seperated?', 'Cross split?', 'Leap (do not jump with both feet) ?', 'With turn?', 'Switch leap?', '0.5 turn (facing different directions when take off and after landing) ?'], 'code': '1.404'})\n",
      "('69', {'BTcode': '11111011', 'questions': ['180 degree separation of thighs?', 'Are both legs straight when seperated?', 'Cross split?', 'Leap (do not jump with both feet) ?', 'With turn?', 'Switch leap?', '0.5 turn?', 'Is back leg above horizontal when splitting legs?'], 'code': '1.202'})\n",
      "('70', {'BTcode': '11111010', 'questions': ['180 degree separation of thighs?', 'Are both legs straight when seperated?', 'Cross split?', 'Leap (do not jump with both feet) ?', 'With turn?', 'Switch leap?', '0.5 turn?', 'Is back leg above horizontal when splitting legs?'], 'code': '1.201'})\n",
      "('71', {'BTcode': '111110011', 'questions': ['180 degree separation of thighs?', 'Are both legs straight when seperated?', 'Cross split?', 'Leap (do not jump with both feet) ?', 'With turn?', 'Switch leap?', '0.5 turn?', '1 turn?', 'land in split sit position?'], 'code': '1.302'})\n",
      "('72', {'BTcode': '111110010', 'questions': ['180 degree separation of thighs?', 'Are both legs straight when seperated?', 'Cross split?', 'Leap (do not jump with both feet) ?', 'With turn?', 'Switch leap?', '0.5 turn?', '1 turn?', 'land in split sit position?'], 'code': '1.301'})\n",
      "('73', {'BTcode': '11111000', 'questions': ['180 degree separation of thighs?', 'Are both legs straight when seperated?', 'Cross split?', 'Leap (do not jump with both feet) ?', 'With turn?', 'Switch leap?', '0.5 turn?', '1 turn?'], 'code': '1.401'})\n",
      "('74', {'BTcode': '111101', 'questions': ['180 degree separation of thighs?', 'Are both legs straight when seperated?', 'Cross split?', 'Leap (do not jump with both feet) ?', 'With turn?', 'Leap with leg change?'], 'code': '1.205'})\n",
      "('75', {'BTcode': '111100', 'questions': ['180 degree separation of thighs?', 'Are both legs straight when seperated?', 'Cross split?', 'Leap (do not jump with both feet) ?', 'With turn?', 'Leap with leg change?'], 'code': '1.101'})\n",
      "('76', {'BTcode': '11101', 'questions': ['180 degree separation of thighs?', 'Are both legs straight when seperated?', 'Cross split?', 'Leap (do not jump with both feet) ?', 'Tuck jump before separation of legs?'], 'code': '1.103'})\n",
      "('77', {'BTcode': '1110011', 'questions': ['180 degree separation of thighs?', 'Are both legs straight when seperated?', 'Cross split?', 'Leap (do not jump with both feet) ?', 'Tuck jump before separation of legs?', 'With turn?', '1 turn?'], 'code': '1.307'})\n",
      "('78', {'BTcode': '11100101', 'questions': ['180 degree separation of thighs?', 'Are both legs straight when seperated?', 'Cross split?', 'Leap (do not jump with both feet) ?', 'Tuck jump before separation of legs?', 'With turn?', '1 turn?', '0.5 turn?'], 'code': '1.207'})\n",
      "('79', {'BTcode': '11100100', 'questions': ['180 degree separation of thighs?', 'Are both legs straight when seperated?', 'Cross split?', 'Leap (do not jump with both feet) ?', 'Tuck jump before separation of legs?', 'With turn?', '1 turn?', '0.5 turn?'], 'code': '1.407'})\n",
      "('80', {'BTcode': '1110001', 'questions': ['180 degree separation of thighs?', 'Are both legs straight when seperated?', 'Cross split?', 'Leap (do not jump with both feet) ?', 'Tuck jump before separation of legs?', 'With turn?', 'Legs are not parallel to the floor when separation?'], 'code': '1.109'})\n",
      "('81', {'BTcode': '1110000', 'questions': ['180 degree separation of thighs?', 'Are both legs straight when seperated?', 'Cross split?', 'Leap (do not jump with both feet) ?', 'Tuck jump before separation of legs?', 'With turn?', 'Legs are not parallel to the floor when separation?'], 'code': '1.109'})\n",
      "('82', {'BTcode': '1101111', 'questions': ['180 degree separation of thighs?', 'Are both legs straight when seperated?', 'Cross split?', 'Leap (do not jump with both feet) ?', 'With turn?', 'Switch leap?', '1 turn?'], 'code': '1.404'})\n",
      "('83', {'BTcode': '1101110', 'questions': ['180 degree separation of thighs?', 'Are both legs straight when seperated?', 'Cross split?', 'Leap (do not jump with both feet) ?', 'With turn?', 'Switch leap?', '1 turn?'], 'code': '1.304'})\n",
      "('84', {'BTcode': '1101101', 'questions': ['180 degree separation of thighs?', 'Are both legs straight when seperated?', 'Cross split?', 'Leap (do not jump with both feet) ?', 'With turn?', 'Switch leap?', '1 turn?'], 'code': '1.301'})\n",
      "('85', {'BTcode': '110101', 'questions': ['180 degree separation of thighs?', 'Are both legs straight when seperated?', 'Cross split?', 'Leap (do not jump with both feet) ?', 'With turn?', 'Switch leap?'], 'code': '1.204'})\n",
      "('86', {'BTcode': '110100', 'questions': ['180 degree separation of thighs?', 'Are both legs straight when seperated?', 'Cross split?', 'Leap (do not jump with both feet) ?', 'With turn?', 'Switch leap?'], 'code': '1.104'})\n",
      "('87', {'BTcode': '1100111', 'questions': ['180 degree separation of thighs?', 'Are both legs straight when seperated?', 'Cross split?', 'Leap (do not jump with both feet) ?', 'With turn?', '1 turn?', 'land in front lying support?'], 'code': '1.208'})\n",
      "('88', {'BTcode': '1100110', 'questions': ['180 degree separation of thighs?', 'Are both legs straight when seperated?', 'Cross split?', 'Leap (do not jump with both feet) ?', 'With turn?', '1 turn?', 'land in front lying support?'], 'code': '1.307'})\n",
      "('89', {'BTcode': '11001011', 'questions': ['180 degree separation of thighs?', 'Are both legs straight when seperated?', 'Cross split?', 'Leap (do not jump with both feet) ?', 'With turn?', '1 turn?', '0.5 turn?', 'land in front lying support?'], 'code': '1.108'})\n",
      "('90', {'BTcode': '11001010', 'questions': ['180 degree separation of thighs?', 'Are both legs straight when seperated?', 'Cross split?', 'Leap (do not jump with both feet) ?', 'With turn?', '1 turn?', '0.5 turn?', 'land in front lying support?'], 'code': '1.207'})\n",
      "('91', {'BTcode': '1100100', 'questions': ['180 degree separation of thighs?', 'Are both legs straight when seperated?', 'Cross split?', 'Leap (do not jump with both feet) ?', 'With turn?', '1 turn?', '0.5 turn?'], 'code': '1.407'})\n",
      "('92', {'BTcode': '110001', 'questions': ['180 degree separation of thighs?', 'Are both legs straight when seperated?', 'Cross split?', 'Leap (do not jump with both feet) ?', 'With turn?', 'Land in front lying support?'], 'code': '1.108'})\n",
      "('93', {'BTcode': '110000', 'questions': ['180 degree separation of thighs?', 'Are both legs straight when seperated?', 'Cross split?', 'Leap (do not jump with both feet) ?', 'With turn?', 'Land in front lying support?'], 'code': '1.107'})\n",
      "('94', {'BTcode': '1011', 'questions': ['180 degree separation of thighs?', 'Are both legs straight when seperated?', 'Ring position (rear foot at head height, body arched and head dropped backward)?', 'Front leg bent?'], 'code': '1.209'})\n",
      "('95', {'BTcode': '1010111', 'questions': ['180 degree separation of thighs?', 'Are both legs straight when seperated?', 'Ring position (rear foot at head height, body arched and head dropped backward)?', 'Front leg bent?', 'leap?', 'With leg change?', 'With turn?'], 'code': '1.405'})\n",
      "('96', {'BTcode': '1010110', 'questions': ['180 degree separation of thighs?', 'Are both legs straight when seperated?', 'Ring position (rear foot at head height, body arched and head dropped backward)?', 'Front leg bent?', 'leap?', 'With leg change?', 'With turn?'], 'code': '1.305'})\n",
      "('97', {'BTcode': '1010101', 'questions': ['180 degree separation of thighs?', 'Are both legs straight when seperated?', 'Ring position (rear foot at head height, body arched and head dropped backward)?', 'Front leg bent?', 'leap?', 'With leg change?', 'With turn?'], 'code': '1.409'})\n",
      "('98', {'BTcode': '1010100', 'questions': ['180 degree separation of thighs?', 'Are both legs straight when seperated?', 'Ring position (rear foot at head height, body arched and head dropped backward)?', 'Front leg bent?', 'leap?', 'With leg change?', 'With turn?'], 'code': '1.309'})\n",
      "('99', {'BTcode': '101001', 'questions': ['180 degree separation of thighs?', 'Are both legs straight when seperated?', 'Ring position (rear foot at head height, body arched and head dropped backward)?', 'Front leg bent?', 'leap?', 'Front leg below horizontal?'], 'code': '1.209'})\n",
      "('100', {'BTcode': '10100011', 'questions': ['180 degree separation of thighs?', 'Are both legs straight when seperated?', 'Ring position (rear foot at head height, body arched and head dropped backward)?', 'Front leg bent?', 'leap?', 'Front leg below horizontal?', 'Yes with turn?', '0.5 turn?'], 'code': '1.309'})\n",
      "('101', {'BTcode': '10100010', 'questions': ['180 degree separation of thighs?', 'Are both legs straight when seperated?', 'Ring position (rear foot at head height, body arched and head dropped backward)?', 'Front leg bent?', 'leap?', 'Front leg below horizontal?', 'Yes with turn?', '0.5 turn?'], 'code': '1.409'})\n",
      "('102', {'BTcode': '1010000', 'questions': ['180 degree separation of thighs?', 'Are both legs straight when seperated?', 'Ring position (rear foot at head height, body arched and head dropped backward)?', 'Front leg bent?', 'leap?', 'Front leg below horizontal?', 'Yes with turn?'], 'code': '1.209'})\n",
      "('103', {'BTcode': '10011', 'questions': ['180 degree separation of thighs?', 'Are both legs straight when seperated?', 'Ring position (rear foot at head height, body arched and head dropped backward)?', 'jump?', 'With turn?'], 'code': '1.109'})\n",
      "('104', {'BTcode': '10010', 'questions': ['180 degree separation of thighs?', 'Are both legs straight when seperated?', 'Ring position (rear foot at head height, body arched and head dropped backward)?', 'jump?', 'With turn?'], 'code': '1.109'})\n",
      "('105', {'BTcode': '0111', 'questions': ['180 degree separation of thighs?', 'Both legs stay together in flight phase?', 'Tucked?', 'Land in front lying support?'], 'code': '1.313'})\n",
      "('106', {'BTcode': '01101', 'questions': ['180 degree separation of thighs?', 'Both legs stay together in flight phase?', 'Tucked?', 'Land in front lying support?', '1 turn?'], 'code': '1.213'})\n",
      "('107', {'BTcode': '01100', 'questions': ['180 degree separation of thighs?', 'Both legs stay together in flight phase?', 'Tucked?', 'Land in front lying support?', '1 turn?'], 'code': '1.313'})\n",
      "('108', {'BTcode': '01011', 'questions': ['180 degree separation of thighs?', 'Both legs stay together in flight phase?', 'Tucked?', 'Streched?', '1 turn?'], 'code': '1.210'})\n",
      "('109', {'BTcode': '01010', 'questions': ['180 degree separation of thighs?', 'Both legs stay together in flight phase?', 'Tucked?', 'Streched?', '1 turn?'], 'code': '1.310'})\n",
      "('110', {'BTcode': '010011', 'questions': ['180 degree separation of thighs?', 'Both legs stay together in flight phase?', 'Tucked?', 'Streched?', 'Piked?', 'With turn?'], 'code': '1.306'})\n",
      "('111', {'BTcode': '010010', 'questions': ['180 degree separation of thighs?', 'Both legs stay together in flight phase?', 'Tucked?', 'Streched?', 'Piked?', 'With turn?'], 'code': '1.106'})\n",
      "('112', {'BTcode': '01000', 'questions': ['180 degree separation of thighs?', 'Both legs stay together in flight phase?', 'Tucked?', 'Streched?', 'Piked?'], 'code': '1.206'})\n",
      "('113', {'BTcode': '00111', 'questions': ['180 degree separation of thighs?', 'Both legs stay together in flight phase?', 'To wolf position (one leg bent and the other extended straight, forward above horizontal with knees together)?', 'With turn?', 'land in front lying support?'], 'code': '1.214'})\n",
      "('114', {'BTcode': '001101', 'questions': ['180 degree separation of thighs?', 'Both legs stay together in flight phase?', 'To wolf position (one leg bent and the other extended straight, forward above horizontal with knees together)?', 'With turn?', 'land in front lying support?', '1 turn?'], 'code': '1.214'})\n",
      "('115', {'BTcode': '001100', 'questions': ['180 degree separation of thighs?', 'Both legs stay together in flight phase?', 'To wolf position (one leg bent and the other extended straight, forward above horizontal with knees together)?', 'With turn?', 'land in front lying support?', '1 turn?'], 'code': '1.414'})\n",
      "('116', {'BTcode': '00101', 'questions': ['180 degree separation of thighs?', 'Both legs stay together in flight phase?', 'To wolf position (one leg bent and the other extended straight, forward above horizontal with knees together)?', 'With turn?', 'Legs switched?'], 'code': '1.105'})\n",
      "('117', {'BTcode': '00100', 'questions': ['180 degree separation of thighs?', 'Both legs stay together in flight phase?', 'To wolf position (one leg bent and the other extended straight, forward above horizontal with knees together)?', 'With turn?', 'Legs switched?'], 'code': '1.114'})\n",
      "('118', {'BTcode': '0001111', 'questions': ['180 degree separation of thighs?', 'Both legs stay together in flight phase?', 'To wolf position (one leg bent and the other extended straight, forward above horizontal with knees together)?', 'Land in front lying support?', 'Take off with two feet?', 'With turn?', '0.5 turn?'], 'code': '1.108'})\n",
      "('119', {'BTcode': '0001110', 'questions': ['180 degree separation of thighs?', 'Both legs stay together in flight phase?', 'To wolf position (one leg bent and the other extended straight, forward above horizontal with knees together)?', 'Land in front lying support?', 'Take off with two feet?', 'With turn?', '0.5 turn?'], 'code': '1.208'})\n",
      "('120', {'BTcode': '000110', 'questions': ['180 degree separation of thighs?', 'Both legs stay together in flight phase?', 'To wolf position (one leg bent and the other extended straight, forward above horizontal with knees together)?', 'Land in front lying support?', 'Take off with two feet?', 'With turn?'], 'code': '1.108'})\n",
      "('121', {'BTcode': '000101', 'questions': ['180 degree separation of thighs?', 'Both legs stay together in flight phase?', 'To wolf position (one leg bent and the other extended straight, forward above horizontal with knees together)?', 'Land in front lying support?', 'Take off with two feet?', '1 turn?'], 'code': '1.108'})\n",
      "('122', {'BTcode': '000100', 'questions': ['180 degree separation of thighs?', 'Both legs stay together in flight phase?', 'To wolf position (one leg bent and the other extended straight, forward above horizontal with knees together)?', 'Land in front lying support?', 'Take off with two feet?', '1 turn?'], 'code': '1.208'})\n",
      "('123', {'BTcode': '0000111', 'questions': ['180 degree separation of thighs?', 'Both legs stay together in flight phase?', 'To wolf position (one leg bent and the other extended straight, forward above horizontal with knees together)?', 'Land in front lying support?', 'Cat leap (Leap with alternate leg change)?', 'With turn?', '1 turn?'], 'code': '1.211'})\n",
      "('124', {'BTcode': '0000110', 'questions': ['180 degree separation of thighs?', 'Both legs stay together in flight phase?', 'To wolf position (one leg bent and the other extended straight, forward above horizontal with knees together)?', 'Land in front lying support?', 'Cat leap (Leap with alternate leg change)?', 'With turn?', '1 turn?'], 'code': '1.311'})\n",
      "('125', {'BTcode': '000010', 'questions': ['180 degree separation of thighs?', 'Both legs stay together in flight phase?', 'To wolf position (one leg bent and the other extended straight, forward above horizontal with knees together)?', 'Land in front lying support?', 'Cat leap (Leap with alternate leg change)?', 'With turn?'], 'code': '1.111'})\n",
      "('126', {'BTcode': '0000011', 'questions': ['180 degree separation of thighs?', 'Both legs stay together in flight phase?', 'To wolf position (one leg bent and the other extended straight, forward above horizontal with knees together)?', 'Land in front lying support?', 'Cat leap (Leap with alternate leg change)?', 'Hop?', 'Land in arabesque?'], 'code': '1.112'})\n",
      "('127', {'BTcode': '00000101', 'questions': ['180 degree separation of thighs?', 'Both legs stay together in flight phase?', 'To wolf position (one leg bent and the other extended straight, forward above horizontal with knees together)?', 'Land in front lying support?', 'Cat leap (Leap with alternate leg change)?', 'Hop?', 'Land in arabesque?', '0.5 turn?'], 'code': '1.212'})\n",
      "('128', {'BTcode': '00000100', 'questions': ['180 degree separation of thighs?', 'Both legs stay together in flight phase?', 'To wolf position (one leg bent and the other extended straight, forward above horizontal with knees together)?', 'Land in front lying support?', 'Cat leap (Leap with alternate leg change)?', 'Hop?', 'Land in arabesque?', '0.5 turn?'], 'code': '1.312'})\n",
      "('129', {'BTcode': '00000011', 'questions': ['180 degree separation of thighs?', 'Both legs stay together in flight phase?', 'To wolf position (one leg bent and the other extended straight, forward above horizontal with knees together)?', 'Land in front lying support?', 'Cat leap (Leap with alternate leg change)?', 'Hop?', 'Butterfly (torso parallel to floor, slightly arched, legs straddled and feet above hip height during flight)?', 'Butterfly forward?'], 'code': '1.203'})\n",
      "('130', {'BTcode': '00000010', 'questions': ['180 degree separation of thighs?', 'Both legs stay together in flight phase?', 'To wolf position (one leg bent and the other extended straight, forward above horizontal with knees together)?', 'Land in front lying support?', 'Cat leap (Leap with alternate leg change)?', 'Hop?', 'Butterfly (torso parallel to floor, slightly arched, legs straddled and feet above hip height during flight)?', 'Butterfly forward?'], 'code': '1.203'})\n",
      "('131', {'BTcode': '111', 'questions': ['Heel over head?', 'Illusion (torso pivots down)?', '1 turn?'], 'code': '2.205'})\n",
      "('132', {'BTcode': '1101', 'questions': ['Heel over head?', 'Illusion (torso pivots down)?', '1 turn?', '2 turn?'], 'code': '02.300'})\n",
      "('133', {'BTcode': '101', 'questions': ['Heel over head?', 'Illusion (torso pivots down)?', '3 turn or more?'], 'code': '2.503'})\n",
      "('134', {'BTcode': '1001', 'questions': ['Heel over head?', 'Illusion (torso pivots down)?', '3 turn or more?', '2 turn?'], 'code': '2.403'})\n",
      "('135', {'BTcode': '1000', 'questions': ['Heel over head?', 'Illusion (torso pivots down)?', '3 turn or more?', '2 turn?'], 'code': '2.203'})\n",
      "('136', {'BTcode': '0111', 'questions': ['Heel over head?', 'Turn in tuck stand or on back?', 'Turn in tuck stand?', '3 turn?'], 'code': '2.406'})\n",
      "('137', {'BTcode': '011011', 'questions': ['Heel over head?', 'Turn in tuck stand or on back?', 'Turn in tuck stand?', '3 turn?', '2 turn?', 'Free leg straight?'], 'code': '2.406'})\n",
      "('138', {'BTcode': '011010', 'questions': ['Heel over head?', 'Turn in tuck stand or on back?', 'Turn in tuck stand?', '3 turn?', '2 turn?', 'Free leg straight?'], 'code': '2.206'})\n",
      "('139', {'BTcode': '01100', 'questions': ['Heel over head?', 'Turn in tuck stand or on back?', 'Turn in tuck stand?', '3 turn?', '2 turn?'], 'code': '2.106'})\n",
      "('140', {'BTcode': '0101', 'questions': ['Heel over head?', 'Turn in tuck stand or on back?', 'Turn in tuck stand?', '2 turn or more?'], 'code': '2.207'})\n",
      "('141', {'BTcode': '0100', 'questions': ['Heel over head?', 'Turn in tuck stand or on back?', 'Turn in tuck stand?', '2 turn or more?'], 'code': '2.107'})\n",
      "('142', {'BTcode': '0011', 'questions': ['Heel over head?', 'Turn in tuck stand or on back?', 'Free leg extended backward?', 'Is free leg held upward and backward by hand?'], 'code': '2.200'})\n",
      "('143', {'BTcode': '00101', 'questions': ['Heel over head?', 'Turn in tuck stand or on back?', 'Free leg extended backward?', 'Is free leg held upward and backward by hand?', '2 turn?'], 'code': '2.404'})\n",
      "('144', {'BTcode': '00100', 'questions': ['Heel over head?', 'Turn in tuck stand or on back?', 'Free leg extended backward?', 'Is free leg held upward and backward by hand?', '2 turn?'], 'code': '2.204'})\n",
      "('145', {'BTcode': '000111', 'questions': ['Heel over head?', 'Turn in tuck stand or on back?', 'Free leg extended backward?', 'Free leg below horizontal?', '3 turn or more?', '4 turn?'], 'code': '2.501'})\n",
      "('146', {'BTcode': '000110', 'questions': ['Heel over head?', 'Turn in tuck stand or on back?', 'Free leg extended backward?', 'Free leg below horizontal?', '3 turn or more?', '4 turn?'], 'code': '2.301'})\n",
      "('147', {'BTcode': '000101', 'questions': ['Heel over head?', 'Turn in tuck stand or on back?', 'Free leg extended backward?', 'Free leg below horizontal?', '3 turn or more?', '2 turn?'], 'code': '2.201'})\n",
      "('148', {'BTcode': '000100', 'questions': ['Heel over head?', 'Turn in tuck stand or on back?', 'Free leg extended backward?', 'Free leg below horizontal?', '3 turn or more?', '2 turn?'], 'code': '2.101'})\n",
      "('149', {'BTcode': '00001', 'questions': ['Heel over head?', 'Turn in tuck stand or on back?', 'Free leg extended backward?', 'Free leg below horizontal?', '2 turn or more?'], 'code': '2.402'})\n",
      "('150', {'BTcode': '00000', 'questions': ['Heel over head?', 'Turn in tuck stand or on back?', 'Free leg extended backward?', 'Free leg below horizontal?', '2 turn or more?'], 'code': '2.202'})\n",
      "('151', {'BTcode': '1', 'questions': ['tucked (legs are bent during flight)?'], 'code': '4.105'})\n",
      "('152', {'BTcode': '01', 'questions': ['tucked (legs are bent during flight)?', 'Piked?'], 'code': '4.105'})\n",
      "('153', {'BTcode': '001', 'questions': ['tucked (legs are bent during flight)?', 'Piked?', 'Aerial round-off?'], 'code': '4.104'})\n",
      "('154', {'BTcode': '000', 'questions': ['tucked (legs are bent during flight)?', 'Piked?', 'Aerial round-off?'], 'code': '4.104'})\n",
      "('155', {'BTcode': '1111', 'questions': ['Tuck salto?', 'Arabian (take-off backward with 0.5 twist before salto)?', 'Double salto?', 'Salto with 0.5 twist?'], 'code': '4.505'})\n",
      "('156', {'BTcode': '1110', 'questions': ['Tuck salto?', 'Arabian (take-off backward with 0.5 twist before salto)?', 'Double salto?', 'Salto with 0.5 twist?'], 'code': '4.505'})\n",
      "('157', {'BTcode': '110', 'questions': ['Tuck salto?', 'Arabian (take-off backward with 0.5 twist before salto)?', 'Double salto?'], 'code': '4.205'})\n",
      "('158', {'BTcode': '1011', 'questions': ['Tuck salto?', 'Arabian (take-off backward with 0.5 twist before salto)?', 'Double salto?', 'Salto with 0.5 twist (so that facing different directions before takeoff and after landing) ?'], 'code': '4.601'})\n",
      "('159', {'BTcode': '1010', 'questions': ['Tuck salto?', 'Arabian (take-off backward with 0.5 twist before salto)?', 'Double salto?', 'Salto with 0.5 twist (so that facing different directions before takeoff and after landing) ?'], 'code': '4.501'})\n",
      "('160', {'BTcode': '10011', 'questions': ['Tuck salto?', 'Arabian (take-off backward with 0.5 twist before salto)?', 'Double salto?', 'Salto with twist?', 'Salto with 1 twist?'], 'code': '4.201'})\n",
      "('161', {'BTcode': '100101', 'questions': ['Tuck salto?', 'Arabian (take-off backward with 0.5 twist before salto)?', 'Double salto?', 'Salto with twist?', 'Salto with 1 twist?', 'Salto with 1.5 twist?'], 'code': '4.301'})\n",
      "('162', {'BTcode': '100100', 'questions': ['Tuck salto?', 'Arabian (take-off backward with 0.5 twist before salto)?', 'Double salto?', 'Salto with twist?', 'Salto with 1 twist?', 'Salto with 1.5 twist?'], 'code': '4.201'})\n",
      "('163', {'BTcode': '1000', 'questions': ['Tuck salto?', 'Arabian (take-off backward with 0.5 twist before salto)?', 'Double salto?', 'Salto with twist?'], 'code': '4.101'})\n",
      "('164', {'BTcode': '0111', 'questions': ['Tuck salto?', 'Pike salto?', 'Arabian (take-off backward with 0.5 twist before salto)?', 'Double salto?'], 'code': '4.605'})\n",
      "('165', {'BTcode': '0110', 'questions': ['Tuck salto?', 'Pike salto?', 'Arabian (take-off backward with 0.5 twist before salto)?', 'Double salto?'], 'code': '4.205'})\n",
      "('166', {'BTcode': '0101', 'questions': ['Tuck salto?', 'Pike salto?', 'Arabian (take-off backward with 0.5 twist before salto)?', 'Double salto?'], 'code': '4.601'})\n",
      "('167', {'BTcode': '01001', 'questions': ['Tuck salto?', 'Pike salto?', 'Arabian (take-off backward with 0.5 twist before salto)?', 'Double salto?', 'Salto with 0.5 twist?'], 'code': '4.201'})\n",
      "('168', {'BTcode': '01000', 'questions': ['Tuck salto?', 'Pike salto?', 'Arabian (take-off backward with 0.5 twist before salto)?', 'Double salto?', 'Salto with 0.5 twist?'], 'code': '4.101'})\n",
      "('169', {'BTcode': '001', 'questions': ['Tuck salto?', 'Pike salto?', 'Walkover?'], 'code': '4.103'})\n",
      "('170', {'BTcode': '00011', 'questions': ['Tuck salto?', 'Pike salto?', 'Walkover?', 'Arabian (take-off backward with 0.5 twist before salto)?', 'Double salto?'], 'code': '4.805'})\n",
      "('171', {'BTcode': '0000111', 'questions': ['Tuck salto?', 'Pike salto?', 'Walkover?', 'Arabian (take-off backward with 0.5 twist before salto)?', 'Salto with twist?', 'Salto with integer twist (facing the same direction before takeoff and after landing)?', 'Salto with 2 twist?'], 'code': '4.402'})\n",
      "('172', {'BTcode': '0000110', 'questions': ['Tuck salto?', 'Pike salto?', 'Walkover?', 'Arabian (take-off backward with 0.5 twist before salto)?', 'Salto with twist?', 'Salto with integer twist (facing the same direction before takeoff and after landing)?', 'Salto with 2 twist?'], 'code': '4.302'})\n",
      "('173', {'BTcode': '0000101', 'questions': ['Tuck salto?', 'Pike salto?', 'Walkover?', 'Arabian (take-off backward with 0.5 twist before salto)?', 'Salto with twist?', 'Salto with integer twist (facing the same direction before takeoff and after landing)?', 'Salto with 2.5 twist?'], 'code': '4.502'})\n",
      "('174', {'BTcode': '00001001', 'questions': ['Tuck salto?', 'Pike salto?', 'Walkover?', 'Arabian (take-off backward with 0.5 twist before salto)?', 'Salto with twist?', 'Salto with integer twist (facing the same direction before takeoff and after landing)?', 'Salto with 2.5 twist?', 'Salto with 1.5 twist?'], 'code': '4.302'})\n",
      "('175', {'BTcode': '00001000', 'questions': ['Tuck salto?', 'Pike salto?', 'Walkover?', 'Arabian (take-off backward with 0.5 twist before salto)?', 'Salto with twist?', 'Salto with integer twist (facing the same direction before takeoff and after landing)?', 'Salto with 2.5 twist?', 'Salto with 1.5 twist?'], 'code': '4.202'})\n",
      "('176', {'BTcode': '000001', 'questions': ['Tuck salto?', 'Pike salto?', 'Walkover?', 'Arabian (take-off backward with 0.5 twist before salto)?', 'Salto with twist?', 'feet land successively?'], 'code': '4.202'})\n",
      "('177', {'BTcode': '000000', 'questions': ['Tuck salto?', 'Pike salto?', 'Walkover?', 'Arabian (take-off backward with 0.5 twist before salto)?', 'Salto with twist?', 'feet land successively?'], 'code': '4.202'})\n",
      "('178', {'BTcode': '11111', 'questions': ['Salto backward stretched?', 'Double salto?', 'Salto with twist?', 'Salto with integer twist (facing the same direction before takeoff and after landing)?', 'Salto with 2 twist?'], 'code': '5.903'})\n",
      "('179', {'BTcode': '11110', 'questions': ['Salto backward stretched?', 'Double salto?', 'Salto with twist?', 'Salto with integer twist (facing the same direction before takeoff and after landing)?', 'Salto with 2 twist?'], 'code': '5.803'})\n",
      "('180', {'BTcode': '1110', 'questions': ['Salto backward stretched?', 'Double salto?', 'Salto with twist?', 'Salto with integer twist (facing the same direction before takeoff and after landing)?'], 'code': '5.703'})\n",
      "('181', {'BTcode': '110', 'questions': ['Salto backward stretched?', 'Double salto?', 'Salto with twist?'], 'code': '5.603'})\n",
      "('182', {'BTcode': '10111', 'questions': ['Salto backward stretched?', 'Double salto?', 'Salto with integer twist (facing the same direction before takeoff and after landing)?', '2 or more twist?', '3 or more twist?'], 'code': '5.501'})\n",
      "('183', {'BTcode': '10110', 'questions': ['Salto backward stretched?', 'Double salto?', 'Salto with integer twist (facing the same direction before takeoff and after landing)?', '2 or more twist?', '3 or more twist?'], 'code': '5.301'})\n",
      "('184', {'BTcode': '10101', 'questions': ['Salto backward stretched?', 'Double salto?', 'Salto with integer twist (facing the same direction before takeoff and after landing)?', '2 or more twist?', '1 twist?'], 'code': '5.201'})\n",
      "('185', {'BTcode': '10100', 'questions': ['Salto backward stretched?', 'Double salto?', 'Salto with integer twist (facing the same direction before takeoff and after landing)?', '2 or more twist?', '1 twist?'], 'code': '5.101'})\n",
      "('186', {'BTcode': '1001', 'questions': ['Salto backward stretched?', 'Double salto?', 'Salto with integer twist (facing the same direction before takeoff and after landing)?', '3.5 or more twist?'], 'code': '5.601'})\n",
      "('187', {'BTcode': '10001', 'questions': ['Salto backward stretched?', 'Double salto?', 'Salto with integer twist (facing the same direction before takeoff and after landing)?', '3.5 or more twist?', '2.5 twist?'], 'code': '5.401'})\n",
      "('188', {'BTcode': '100001', 'questions': ['Salto backward stretched?', 'Double salto?', 'Salto with integer twist (facing the same direction before takeoff and after landing)?', '3.5 or more twist?', '2.5 twist?', '1.5 twist?'], 'code': '5.301'})\n",
      "('189', {'BTcode': '100000', 'questions': ['Salto backward stretched?', 'Double salto?', 'Salto with integer twist (facing the same direction before takeoff and after landing)?', '3.5 or more twist?', '2.5 twist?', '1.5 twist?'], 'code': '5.201'})\n",
      "('190', {'BTcode': '011111', 'questions': ['Salto backward stretched?', 'Salto backward tucked?', 'Double salto?', 'Salto with twist?', 'Salto with integer twist (facing the same direction before takeoff and after landing)?', '3 twist?'], 'code': '5.902'})\n",
      "('191', {'BTcode': '0111101', 'questions': ['Salto backward stretched?', 'Salto backward tucked?', 'Double salto?', 'Salto with twist?', 'Salto with integer twist (facing the same direction before takeoff and after landing)?', '3 twist?', '2 twist?'], 'code': '5.802'})\n",
      "('192', {'BTcode': '0111100', 'questions': ['Salto backward stretched?', 'Salto backward tucked?', 'Double salto?', 'Salto with twist?', 'Salto with integer twist (facing the same direction before takeoff and after landing)?', '3 twist?', '2 twist?'], 'code': '5.502'})\n",
      "('193', {'BTcode': '011101', 'questions': ['Salto backward stretched?', 'Salto backward tucked?', 'Double salto?', 'Salto with twist?', 'Salto with integer twist (facing the same direction before takeoff and after landing)?', '2.5 twist?'], 'code': '5.802'})\n",
      "('194', {'BTcode': '011100', 'questions': ['Salto backward stretched?', 'Salto backward tucked?', 'Double salto?', 'Salto with twist?', 'Salto with integer twist (facing the same direction before takeoff and after landing)?', '2.5 twist?'], 'code': '5.702'})\n",
      "('195', {'BTcode': '0110', 'questions': ['Salto backward stretched?', 'Salto backward tucked?', 'Double salto?', 'Salto with twist?'], 'code': '5.402'})\n",
      "('196', {'BTcode': '0101', 'questions': ['Salto backward stretched?', 'Salto backward tucked?', 'Double salto?', 'Salto with twist?'], 'code': '5.201'})\n",
      "('197', {'BTcode': '0100', 'questions': ['Salto backward stretched?', 'Salto backward tucked?', 'Double salto?', 'Salto with twist?'], 'code': '5.101'})\n",
      "('198', {'BTcode': '00111', 'questions': ['Salto backward stretched?', 'Salto backward tucked?', 'Salto backward piked?', 'Double salto?', 'Salto with twist?'], 'code': '5.502'})\n",
      "('199', {'BTcode': '00110', 'questions': ['Salto backward stretched?', 'Salto backward tucked?', 'Salto backward piked?', 'Double salto?', 'Salto with twist?'], 'code': '5.402'})\n",
      "('200', {'BTcode': '00100', 'questions': ['Salto backward stretched?', 'Salto backward tucked?', 'Salto backward piked?', 'Double salto?', 'Salto with twist?'], 'code': '5.101'})\n",
      "('201', {'BTcode': '00011', 'questions': ['Salto backward stretched?', 'Salto backward tucked?', 'Salto backward piked?', 'With twist?', '1 twist?'], 'code': '5.304'})\n",
      "('202', {'BTcode': '00010', 'questions': ['Salto backward stretched?', 'Salto backward tucked?', 'Salto backward piked?', 'With twist?', '1 twist?'], 'code': '5.204'})\n",
      "('203', {'BTcode': '0000', 'questions': ['Salto backward stretched?', 'Salto backward tucked?', 'Salto backward piked?', 'With twist?'], 'code': '5.104'})\n",
      "('204', {'BTcode': '111111', 'questions': ['180 degree separation of thighs?', 'Take off with two legs?', 'Are both legs straight when seperated?', 'cross split?', 'body arched and head dropped backward?', 'Take off and land in side position?'], 'code': '2.508'})\n",
      "('205', {'BTcode': '111110', 'questions': ['180 degree separation of thighs?', 'Take off with two legs?', 'Are both legs straight when seperated?', 'cross split?', 'body arched and head dropped backward?', 'Take off and land in side position?'], 'code': '2.408'})\n",
      "('206', {'BTcode': '1111011', 'questions': ['180 degree separation of thighs?', 'Take off with two legs?', 'Are both legs straight when seperated?', 'cross split?', 'body arched and head dropped backward?', 'Leg separation 180 on the diagonal to the floor?', 'Take off and land in side position?'], 'code': '2.208'})\n",
      "('207', {'BTcode': '1111010', 'questions': ['180 degree separation of thighs?', 'Take off with two legs?', 'Are both legs straight when seperated?', 'cross split?', 'body arched and head dropped backward?', 'Leg separation 180 on the diagonal to the floor?', 'Take off and land in side position?'], 'code': '2.108'})\n",
      "('208', {'BTcode': '111100111', 'questions': ['180 degree separation of thighs?', 'Take off with two legs?', 'Are both legs straight when seperated?', 'cross split?', 'body arched and head dropped backward?', 'Leg separation 180 on the diagonal to the floor?', 'With turn?', '0.5 turn?', 'Take off and land in side position?'], 'code': '2.402'})\n",
      "('209', {'BTcode': '111100110', 'questions': ['180 degree separation of thighs?', 'Take off with two legs?', 'Are both legs straight when seperated?', 'cross split?', 'body arched and head dropped backward?', 'Leg separation 180 on the diagonal to the floor?', 'With turn?', '0.5 turn?', 'Take off and land in side position?'], 'code': '2.302'})\n",
      "('210', {'BTcode': '111100101', 'questions': ['180 degree separation of thighs?', 'Take off with two legs?', 'Are both legs straight when seperated?', 'cross split?', 'body arched and head dropped backward?', 'Leg separation 180 on the diagonal to the floor?', 'With turn?', '0.5 turn?', 'Take off and land in side position?'], 'code': '2.502'})\n",
      "('211', {'BTcode': '111100100', 'questions': ['180 degree separation of thighs?', 'Take off with two legs?', 'Are both legs straight when seperated?', 'cross split?', 'body arched and head dropped backward?', 'Leg separation 180 on the diagonal to the floor?', 'With turn?', '0.5 turn?', 'Take off and land in side position?'], 'code': '2.402'})\n",
      "('212', {'BTcode': '11110001', 'questions': ['180 degree separation of thighs?', 'Take off with two legs?', 'Are both legs straight when seperated?', 'cross split?', 'body arched and head dropped backward?', 'Leg separation 180 on the diagonal to the floor?', 'With turn?', 'Take off and land in side position?'], 'code': '2.302'})\n",
      "('213', {'BTcode': '11110000', 'questions': ['180 degree separation of thighs?', 'Take off with two legs?', 'Are both legs straight when seperated?', 'cross split?', 'body arched and head dropped backward?', 'Leg separation 180 on the diagonal to the floor?', 'With turn?', 'Take off and land in side position?'], 'code': '2.202'})\n",
      "('214', {'BTcode': '1110111', 'questions': ['180 degree separation of thighs?', 'Take off with two legs?', 'Are both legs straight when seperated?', 'cross split?', 'With turn?', '0.5 turn?', 'Take off and land in side position?'], 'code': '2.403'})\n",
      "('215', {'BTcode': '1110110', 'questions': ['180 degree separation of thighs?', 'Take off with two legs?', 'Are both legs straight when seperated?', 'cross split?', 'With turn?', '0.5 turn?', 'Take off and land in side position?'], 'code': '2.303'})\n",
      "('216', {'BTcode': '1110101', 'questions': ['180 degree separation of thighs?', 'Take off with two legs?', 'Are both legs straight when seperated?', 'cross split?', 'With turn?', '0.5 turn?', 'Take off and land in side position?'], 'code': '2.503'})\n",
      "('217', {'BTcode': '1110100', 'questions': ['180 degree separation of thighs?', 'Take off with two legs?', 'Are both legs straight when seperated?', 'cross split?', 'With turn?', '0.5 turn?', 'Take off and land in side position?'], 'code': '2.403'})\n",
      "('218', {'BTcode': '111001', 'questions': ['180 degree separation of thighs?', 'Take off with two legs?', 'Are both legs straight when seperated?', 'cross split?', 'With turn?', 'Take off and land in side position?'], 'code': '2.303'})\n",
      "('219', {'BTcode': '111000', 'questions': ['180 degree separation of thighs?', 'Take off with two legs?', 'Are both legs straight when seperated?', 'cross split?', 'With turn?', 'Take off and land in side position?'], 'code': '2.203'})\n",
      "('220', {'BTcode': '1101', 'questions': ['180 degree separation of thighs?', 'Take off with two legs?', 'Are both legs straight when seperated?', 'staggering jump (front leg bent in ring position)?'], 'code': '2.208'})\n",
      "('221', {'BTcode': '11001', 'questions': ['180 degree separation of thighs?', 'Take off with two legs?', 'Are both legs straight when seperated?', 'staggering jump (front leg bent in ring position)?', 'Front leg below horizontal?'], 'code': '2.208'})\n",
      "('222', {'BTcode': '11000', 'questions': ['180 degree separation of thighs?', 'Take off with two legs?', 'Are both legs straight when seperated?', 'staggering jump (front leg bent in ring position)?', 'Front leg below horizontal?'], 'code': '2.408'})\n",
      "('223', {'BTcode': '1011111', 'questions': ['180 degree separation of thighs?', 'Take off with two legs?', 'Are both legs straight when seperated?', 'cross split?', 'With turn?', 'switch leap?', '0.5 turn (facing different directions when take off and after landing)?'], 'code': '2.405'})\n",
      "('224', {'BTcode': '1011110', 'questions': ['180 degree separation of thighs?', 'Take off with two legs?', 'Are both legs straight when seperated?', 'cross split?', 'With turn?', 'switch leap?', '0.5 turn (facing different directions when take off and after landing)?'], 'code': '2.405'})\n",
      "('225', {'BTcode': '10111011', 'questions': ['180 degree separation of thighs?', 'Take off with two legs?', 'Are both legs straight when seperated?', 'cross split?', 'With turn?', 'switch leap?', '0.5 turn (facing different directions when take off and after landing)?', 'Is back leg above horizontal when splitting legs?'], 'code': '2.404'})\n",
      "('226', {'BTcode': '10111010', 'questions': ['180 degree separation of thighs?', 'Take off with two legs?', 'Are both legs straight when seperated?', 'cross split?', 'With turn?', 'switch leap?', '0.5 turn (facing different directions when take off and after landing)?', 'Is back leg above horizontal when splitting legs?'], 'code': '2.301'})\n",
      "('227', {'BTcode': '1011100', 'questions': ['180 degree separation of thighs?', 'Take off with two legs?', 'Are both legs straight when seperated?', 'cross split?', 'With turn?', 'switch leap?', '0.5 turn (facing different directions when take off and after landing)?'], 'code': '2.501'})\n",
      "('228', {'BTcode': '101101', 'questions': ['180 degree separation of thighs?', 'Take off with two legs?', 'Are both legs straight when seperated?', 'cross split?', 'With turn?', 'switch leap?'], 'code': '2.305'})\n",
      "('229', {'BTcode': '1011001', 'questions': ['180 degree separation of thighs?', 'Take off with two legs?', 'Are both legs straight when seperated?', 'cross split?', 'With turn?', 'switch leap?', 'Is the front leg bent when taking off?'], 'code': '2.101'})\n",
      "('230', {'BTcode': '1011000', 'questions': ['180 degree separation of thighs?', 'Take off with two legs?', 'Are both legs straight when seperated?', 'cross split?', 'With turn?', 'switch leap?', 'Is the front leg bent when taking off?'], 'code': '2.201'})\n",
      "('231', {'BTcode': '101011', 'questions': ['180 degree separation of thighs?', 'Take off with two legs?', 'Are both legs straight when seperated?', 'cross split?', '0.5 turn?', 'switch leap?'], 'code': '2.506'})\n",
      "('232', {'BTcode': '101001', 'questions': ['180 degree separation of thighs?', 'Take off with two legs?', 'Are both legs straight when seperated?', 'cross split?', '0.5 turn?', 'switch leap?'], 'code': '2.306'})\n",
      "('233', {'BTcode': '101000', 'questions': ['180 degree separation of thighs?', 'Take off with two legs?', 'Are both legs straight when seperated?', 'cross split?', '0.5 turn?', 'switch leap?'], 'code': '2.206'})\n",
      "('234', {'BTcode': '1001', 'questions': ['180 degree separation of thighs?', 'Take off with two legs?', 'Are both legs straight when seperated?', 'Leap with change of legs?'], 'code': '2.505'})\n",
      "('235', {'BTcode': '1000', 'questions': ['180 degree separation of thighs?', 'Take off with two legs?', 'Are both legs straight when seperated?', 'Leap with change of legs?'], 'code': '2.401'})\n",
      "('236', {'BTcode': '01111', 'questions': ['180 degree separation of thighs?', 'Both legs stay together in flight phase?', 'Tuck?', '1 turn?', 'Take off and land in side position?'], 'code': '2.411'})\n",
      "('237', {'BTcode': '01110', 'questions': ['180 degree separation of thighs?', 'Both legs stay together in flight phase?', 'Tuck?', '1 turn?', 'Take off and land in side position?'], 'code': '2.311'})\n",
      "('238', {'BTcode': '011011', 'questions': ['180 degree separation of thighs?', 'Both legs stay together in flight phase?', 'Tuck?', '1 turn?', '1.5 turn?', 'Take off and land in side position?'], 'code': '2.411'})\n",
      "('239', {'BTcode': '011010', 'questions': ['180 degree separation of thighs?', 'Both legs stay together in flight phase?', 'Tuck?', '1 turn?', '1.5 turn?', 'Take off and land in side position?'], 'code': '2.411'})\n",
      "('240', {'BTcode': '0110011', 'questions': ['180 degree separation of thighs?', 'Both legs stay together in flight phase?', 'Tuck?', '1 turn?', '1.5 turn?', '0.5 turn?', 'Take off and land in side position?'], 'code': '2.311'})\n",
      "('241', {'BTcode': '0110010', 'questions': ['180 degree separation of thighs?', 'Both legs stay together in flight phase?', 'Tuck?', '1 turn?', '1.5 turn?', '0.5 turn?', 'Take off and land in side position?'], 'code': '2.211'})\n",
      "('242', {'BTcode': '011000', 'questions': ['180 degree separation of thighs?', 'Both legs stay together in flight phase?', 'Tuck?', '1 turn?', '1.5 turn?', '0.5 turn?'], 'code': '2.211'})\n",
      "('243', {'BTcode': '010111', 'questions': ['180 degree separation of thighs?', 'Both legs stay together in flight phase?', 'Tuck?', 'Pike jump?', '0.5 turn?', 'Take off and land in side position?'], 'code': '2.307'})\n",
      "('244', {'BTcode': '010110', 'questions': ['180 degree separation of thighs?', 'Both legs stay together in flight phase?', 'Tuck?', 'Pike jump?', '0.5 turn?', 'Take off and land in side position?'], 'code': '2.207'})\n",
      "('245', {'BTcode': '0101011', 'questions': ['180 degree separation of thighs?', 'Both legs stay together in flight phase?', 'Tuck?', 'Pike jump?', '0.5 turn?', '1 turn?', 'Take off and land in side position?'], 'code': '2.507'})\n",
      "('246', {'BTcode': '0101010', 'questions': ['180 degree separation of thighs?', 'Both legs stay together in flight phase?', 'Tuck?', 'Pike jump?', '0.5 turn?', '1 turn?', 'Take off and land in side position?'], 'code': '2.407'})\n",
      "('247', {'BTcode': '0101001', 'questions': ['180 degree separation of thighs?', 'Both legs stay together in flight phase?', 'Tuck?', 'Pike jump?', '0.5 turn?', '1 turn?', '0.75 turn?'], 'code': '2.207'})\n",
      "('248', {'BTcode': '0101000', 'questions': ['180 degree separation of thighs?', 'Both legs stay together in flight phase?', 'Tuck?', 'Pike jump?', '0.5 turn?', '1 turn?', '0.75 turn?'], 'code': '2.107'})\n",
      "('249', {'BTcode': '010011', 'questions': ['180 degree separation of thighs?', 'Both legs stay together in flight phase?', 'Tuck?', 'Pike jump?', 'Stretched jump?', '1 turn?'], 'code': '2.309'})\n",
      "('250', {'BTcode': '0100101', 'questions': ['180 degree separation of thighs?', 'Both legs stay together in flight phase?', 'Tuck?', 'Pike jump?', 'Stretched jump?', '1 turn?', '1.5 turn?'], 'code': '2.409'})\n",
      "('251', {'BTcode': '010001', 'questions': ['180 degree separation of thighs?', 'Both legs stay together in flight phase?', 'Tuck?', 'Pike jump?', 'Stretched jump?', 'sheep jump (jump with upper back arch and head release with feet to head height)?'], 'code': '2.308'})\n",
      "('252', {'BTcode': '00111', 'questions': ['180 degree separation of thighs?', 'Both legs stay together in flight phase?', 'To wolf position (hip angle at 45, knees together)?', 'With turn?', '1 turn?'], 'code': '2.412'})\n",
      "('253', {'BTcode': '001101', 'questions': ['180 degree separation of thighs?', 'Both legs stay together in flight phase?', 'To wolf position (hip angle at 45, knees together)?', 'With turn?', '1 turn?', '1.5 turn?'], 'code': '2.512'})\n",
      "('254', {'BTcode': '001100', 'questions': ['180 degree separation of thighs?', 'Both legs stay together in flight phase?', 'To wolf position (hip angle at 45, knees together)?', 'With turn?', '1 turn?', '1.5 turn?'], 'code': '2.212'})\n",
      "('255', {'BTcode': '00101', 'questions': ['180 degree separation of thighs?', 'Both legs stay together in flight phase?', 'To wolf position (hip angle at 45, knees together)?', 'With turn?', 'Leap with leg change?'], 'code': '2.105'})\n",
      "('256', {'BTcode': '00100', 'questions': ['180 degree separation of thighs?', 'Both legs stay together in flight phase?', 'To wolf position (hip angle at 45, knees together)?', 'With turn?', 'Leap with leg change?'], 'code': '2.112'})\n",
      "('257', {'BTcode': '000111', 'questions': ['180 degree separation of thighs?', 'Both legs stay together in flight phase?', 'To wolf position (hip angle at 45, knees together)?', 'Cat leap (Leap with alternate leg change)?', 'With turn?', '0.5 turn?'], 'code': '2.210'})\n",
      "('258', {'BTcode': '000110', 'questions': ['180 degree separation of thighs?', 'Both legs stay together in flight phase?', 'To wolf position (hip angle at 45, knees together)?', 'Cat leap (Leap with alternate leg change)?', 'With turn?', '0.5 turn?'], 'code': '2.310'})\n",
      "('259', {'BTcode': '00010', 'questions': ['180 degree separation of thighs?', 'Both legs stay together in flight phase?', 'To wolf position (hip angle at 45, knees together)?', 'Cat leap (Leap with alternate leg change)?', 'With turn?'], 'code': '2.110'})\n",
      "('260', {'BTcode': '00001', 'questions': ['180 degree separation of thighs?', 'Both legs stay together in flight phase?', 'To wolf position (hip angle at 45, knees together)?', 'Cat leap (Leap with alternate leg change)?', 'Land in arabesque?'], 'code': '2.204'})\n",
      "('261', {'BTcode': '000001', 'questions': ['180 degree separation of thighs?', 'Both legs stay together in flight phase?', 'To wolf position (hip angle at 45, knees together)?', 'Cat leap (Leap with alternate leg change)?', 'Land in arabesque?', '0.5 turn?'], 'code': '2.209'})\n",
      "('262', {'BTcode': '1111', 'questions': ['Turn with support leg straight?', 'Is free leg straight at or ever above horizontal?', 'Illusion (torso pivots down)?', '0.5 turn (facing different directions before and after turn) ?'], 'code': '3.206'})\n",
      "('263', {'BTcode': '1110', 'questions': ['Turn with support leg straight?', 'Is free leg straight at or ever above horizontal?', 'Illusion (torso pivots down)?', '0.5 turn (facing different directions before and after turn) ?'], 'code': '3.406'})\n",
      "('264', {'BTcode': '11011', 'questions': ['Turn with support leg straight?', 'Is free leg straight at or ever above horizontal?', 'Illusion (torso pivots down)?', 'Free leg held upward, heel over head?', '1.5 turn?'], 'code': '3.405'})\n",
      "('265', {'BTcode': '11010', 'questions': ['Turn with support leg straight?', 'Is free leg straight at or ever above horizontal?', 'Illusion (torso pivots down)?', 'Free leg held upward, heel over head?', '1.5 turn?'], 'code': '3.305'})\n",
      "('266', {'BTcode': '110011', 'questions': ['Turn with support leg straight?', 'Is free leg straight at or ever above horizontal?', 'Illusion (torso pivots down)?', 'Free leg held upward, heel over head?', 'Heel of free leg at horizontal?', '1.5 turn?'], 'code': '3.404'})\n",
      "('267', {'BTcode': '1100101', 'questions': ['Turn with support leg straight?', 'Is free leg straight at or ever above horizontal?', 'Illusion (torso pivots down)?', 'Free leg held upward, heel over head?', 'Heel of free leg at horizontal?', '1.5 turn?', '2 turn?'], 'code': '3.504'})\n",
      "('268', {'BTcode': '1100100', 'questions': ['Turn with support leg straight?', 'Is free leg straight at or ever above horizontal?', 'Illusion (torso pivots down)?', 'Free leg held upward, heel over head?', 'Heel of free leg at horizontal?', '1.5 turn?', '2 turn?'], 'code': '3.304'})\n",
      "('269', {'BTcode': '10111', 'questions': ['Turn with support leg straight?', 'Is free leg straight at or ever above horizontal?', 'Free leg below horizontal?', 'Either 2 turn or 3 turn?', '3 turn?'], 'code': '3.501'})\n",
      "('270', {'BTcode': '10110', 'questions': ['Turn with support leg straight?', 'Is free leg straight at or ever above horizontal?', 'Free leg below horizontal?', 'Either 2 turn or 3 turn?', '3 turn?'], 'code': '3.401'})\n",
      "('271', {'BTcode': '10101', 'questions': ['Turn with support leg straight?', 'Is free leg straight at or ever above horizontal?', 'Free leg below horizontal?', 'Either 2 turn or 3 turn?', '1.5 turn?'], 'code': '3.201'})\n",
      "('272', {'BTcode': '10100', 'questions': ['Turn with support leg straight?', 'Is free leg straight at or ever above horizontal?', 'Free leg below horizontal?', 'Either 2 turn or 3 turn?', '1.5 turn?'], 'code': '3.101'})\n",
      "('273', {'BTcode': '1001', 'questions': ['Turn with support leg straight?', 'Is free leg straight at or ever above horizontal?', 'Free leg below horizontal?', 'Is free leg held backward with hands?'], 'code': '3.403'})\n",
      "('274', {'BTcode': '10001', 'questions': ['Turn with support leg straight?', 'Is free leg straight at or ever above horizontal?', 'Free leg below horizontal?', 'Is free leg held backward with hands?', '1.5 turn?'], 'code': '3.402'})\n",
      "('275', {'BTcode': '10000', 'questions': ['Turn with support leg straight?', 'Is free leg straight at or ever above horizontal?', 'Free leg below horizontal?', 'Is free leg held backward with hands?', '1.5 turn?'], 'code': '3.302'})\n",
      "('276', {'BTcode': '0111', 'questions': ['Turn with support leg straight?', 'Turn in tuck stand?', '1.5 turn or 2.5 turn  (facing different directions before and after turn) ?', '2.5 turn?'], 'code': '3.408'})\n",
      "('277', {'BTcode': '0110', 'questions': ['Turn with support leg straight?', 'Turn in tuck stand?', '1.5 turn or 2.5 turn  (facing different directions before and after turn) ?', '2.5 turn?'], 'code': '3.308'})\n",
      "('278', {'BTcode': '0101', 'questions': ['Turn with support leg straight?', 'Turn in tuck stand?', '1.5 turn or 2.5 turn  (facing different directions before and after turn) ?', '3 turn?'], 'code': '3.408'})\n",
      "('279', {'BTcode': '01001', 'questions': ['Turn with support leg straight?', 'Turn in tuck stand?', '1.5 turn or 2.5 turn  (facing different directions before and after turn) ?', '3 turn?', '2 turn?'], 'code': '3.408'})\n",
      "('280', {'BTcode': '01000', 'questions': ['Turn with support leg straight?', 'Turn in tuck stand?', '1.5 turn or 2.5 turn  (facing different directions before and after turn) ?', '3 turn?', '2 turn?'], 'code': '3.208'})\n",
      "('281', {'BTcode': '0011', 'questions': ['Turn with support leg straight?', 'Turn in tuck stand?', 'Turn on knee?', '1.5 turn?'], 'code': '3.207'})\n",
      "('282', {'BTcode': '00101', 'questions': ['Turn with support leg straight?', 'Turn in tuck stand?', 'Turn on knee?', '1.5 turn?', '2 turn?'], 'code': '3.307'})\n",
      "('283', {'BTcode': '00100', 'questions': ['Turn with support leg straight?', 'Turn in tuck stand?', 'Turn on knee?', '1.5 turn?', '2 turn?'], 'code': '3.107'})\n",
      "('284', {'BTcode': '00011', 'questions': ['Turn with support leg straight?', 'Turn in tuck stand?', 'Turn on knee?', 'Turn in prone position?', '1.5 turn?'], 'code': '3.209'})\n",
      "('285', {'BTcode': '00010', 'questions': ['Turn with support leg straight?', 'Turn in tuck stand?', 'Turn on knee?', 'Turn in prone position?', '1.5 turn?'], 'code': '3.209'})\n",
      "('286', {'BTcode': '0000', 'questions': ['Turn with support leg straight?', 'Turn in tuck stand?', 'Turn on knee?', 'Turn in prone position?'], 'code': '3.409'})\n",
      "('287', {'BTcode': '111', 'questions': ['Salto backward?', 'Tuck salto (knees and hips are bent)?', 'Gainer salto (kick one leg forward before take-off)?'], 'code': '5.313'})\n"
     ]
    }
   ],
   "source": [
    "for i in text.items():\n",
    "    print(i)"
   ]
  },
  {
   "cell_type": "code",
   "execution_count": 171,
   "id": "47389c9e",
   "metadata": {},
   "outputs": [
    {
     "data": {
      "text/plain": [
       "dict"
      ]
     },
     "execution_count": 171,
     "metadata": {},
     "output_type": "execute_result"
    }
   ],
   "source": [
    "type(text)"
   ]
  },
  {
   "cell_type": "code",
   "execution_count": 172,
   "id": "82941de4",
   "metadata": {},
   "outputs": [],
   "source": [
    "d = {\n",
    "    'a':1, \n",
    "    'b':2\n",
    "}"
   ]
  },
  {
   "cell_type": "code",
   "execution_count": 173,
   "id": "74e89f2d",
   "metadata": {},
   "outputs": [],
   "source": [
    "with open('dummy.json', 'w') as file:\n",
    "    json.dump(d, file)"
   ]
  },
  {
   "cell_type": "code",
   "execution_count": 174,
   "id": "bb7e55a7",
   "metadata": {},
   "outputs": [],
   "source": [
    "# print, id, ord"
   ]
  },
  {
   "cell_type": "code",
   "execution_count": 183,
   "id": "3f412abd",
   "metadata": {},
   "outputs": [
    {
     "data": {
      "text/plain": [
       "68"
      ]
     },
     "execution_count": 183,
     "metadata": {},
     "output_type": "execute_result"
    }
   ],
   "source": [
    "ord('D')"
   ]
  },
  {
   "cell_type": "code",
   "execution_count": 192,
   "id": "7f627b2b",
   "metadata": {},
   "outputs": [],
   "source": [
    "def summer(a, b):\n",
    "    print(a+b)\n",
    "    return (a+b), (a-b)"
   ]
  },
  {
   "cell_type": "code",
   "execution_count": 193,
   "id": "98eb9eee",
   "metadata": {},
   "outputs": [
    {
     "name": "stdout",
     "output_type": "stream",
     "text": [
      "30\n",
      "(30, -10)\n"
     ]
    }
   ],
   "source": [
    "print(summer(10, 20))"
   ]
  },
  {
   "cell_type": "code",
   "execution_count": 194,
   "id": "ccc6c606",
   "metadata": {},
   "outputs": [
    {
     "name": "stdout",
     "output_type": "stream",
     "text": [
      "30\n"
     ]
    }
   ],
   "source": [
    "s = summer(10, 20)"
   ]
  },
  {
   "cell_type": "code",
   "execution_count": 195,
   "id": "1407d78e",
   "metadata": {},
   "outputs": [
    {
     "data": {
      "text/plain": [
       "(30, -10)"
      ]
     },
     "execution_count": 195,
     "metadata": {},
     "output_type": "execute_result"
    }
   ],
   "source": [
    "s"
   ]
  },
  {
   "cell_type": "code",
   "execution_count": 196,
   "id": "836de43b",
   "metadata": {},
   "outputs": [
    {
     "name": "stdout",
     "output_type": "stream",
     "text": [
      "30\n"
     ]
    }
   ],
   "source": [
    "s, p = summer(10, 20)"
   ]
  },
  {
   "cell_type": "code",
   "execution_count": 197,
   "id": "b2d5a19f",
   "metadata": {},
   "outputs": [
    {
     "name": "stdout",
     "output_type": "stream",
     "text": [
      "30 -10\n"
     ]
    }
   ],
   "source": [
    "print(s, p)"
   ]
  },
  {
   "cell_type": "code",
   "execution_count": 199,
   "id": "fd8a6e88",
   "metadata": {},
   "outputs": [
    {
     "name": "stdout",
     "output_type": "stream",
     "text": [
      "enter first number18\n",
      "enter second number32\n",
      "GCD of 18 and 32 is 2\n",
      "LCM of 18 and 32 is 288.0\n"
     ]
    }
   ],
   "source": [
    "a = int(input(\"enter first number\"))\n",
    "b = int(input(\"enter second number\"))\n",
    "x=a\n",
    "y=b\n",
    "\n",
    "while(b!=0):\n",
    "    s = b\n",
    "    b = a%b\n",
    "    a = s\n",
    "gcd = a\n",
    "print(f\"GCD of {x} and {y} is {gcd}\")\n",
    "\n",
    "lcm = (x*y)/gcd\n",
    "print(f\"LCM of {x} and {y} is {lcm}\")"
   ]
  },
  {
   "cell_type": "code",
   "execution_count": 205,
   "id": "9da1b4ba",
   "metadata": {},
   "outputs": [],
   "source": [
    "d={}"
   ]
  },
  {
   "cell_type": "code",
   "execution_count": 206,
   "id": "68fd3d8c",
   "metadata": {},
   "outputs": [],
   "source": [
    "d[1] = 'hello'\n",
    "d[2] = 'hi'\n",
    "d[3] = 'abhijeet'"
   ]
  },
  {
   "cell_type": "code",
   "execution_count": 207,
   "id": "5533cab0",
   "metadata": {},
   "outputs": [
    {
     "data": {
      "text/plain": [
       "{1: 'hello', 2: 'hi', 3: 'abhijeet'}"
      ]
     },
     "execution_count": 207,
     "metadata": {},
     "output_type": "execute_result"
    }
   ],
   "source": [
    "d"
   ]
  },
  {
   "cell_type": "code",
   "execution_count": 208,
   "id": "7f699542",
   "metadata": {},
   "outputs": [
    {
     "data": {
      "text/plain": [
       "'abhijeet'"
      ]
     },
     "execution_count": 208,
     "metadata": {},
     "output_type": "execute_result"
    }
   ],
   "source": [
    "d[3]"
   ]
  },
  {
   "cell_type": "code",
   "execution_count": 221,
   "id": "6f1eb23a",
   "metadata": {},
   "outputs": [
    {
     "name": "stdout",
     "output_type": "stream",
     "text": [
      "ingboard?\",\n",
      "            \"turning entry after round-off (turning in first flight phase)?\",\n",
      "            \"Facing the coming direction when handstand on vault (0.5 turn in first flight phase)?\",\n",
      "            \"Body keep stretched  during salto (stretched salto)?\",\n",
      "            \"Salto with turn?\",\n",
      "            \"Facing vault table after landing?\",\n",
      "            \"Salto with 1.5 turn?\"\n",
      "        ],\n",
      "        \"code\": \"6.00\"\n",
      "    },\n",
      "    \"1\": {\n",
      "        \"BTcode\": \"1111110\",\n",
      "        \"questions\": [\n",
      "            \"round-off onto the springboard?\",\n",
      "            \"turning entry after round-off (turning in first flight phase)?\",\n",
      "            \"Facing the coming direction when handstand on vault (0.5 turn in first flight phase)?\",\n",
      "            \"Body keep stretched  during salto (stretched salto)?\",\n",
      "            \"Salto with turn?\",\n",
      "            \"Facing vault table after landing?\",\n",
      "            \"Salto with 1.5 turn?\"\n",
      "        ],\n",
      "\n"
     ]
    }
   ],
   "source": [
    "with open('/Users/codingblocks/Downloads/BTcode.json', 'r') as file:\n",
    "    text = file.read()\n",
    "#     print(type(text))\n",
    "    print(text[100:1000])\n",
    "# print(file.read(100))"
   ]
  },
  {
   "cell_type": "code",
   "execution_count": 222,
   "id": "9d0860d7",
   "metadata": {},
   "outputs": [],
   "source": [
    "import json"
   ]
  },
  {
   "cell_type": "code",
   "execution_count": 231,
   "id": "c23f404c",
   "metadata": {},
   "outputs": [
    {
     "name": "stdout",
     "output_type": "stream",
     "text": [
      "<class 'str'>\n",
      "<class 'dict'>\n"
     ]
    }
   ],
   "source": [
    "with open('BTcode.json', 'r') as file:\n",
    "    text = file.read()\n",
    "    print(type(text))\n",
    "with open('BTcode.json', 'r') as file:\n",
    "    text = json.load(file)\n",
    "    print(type(text))"
   ]
  },
  {
   "cell_type": "code",
   "execution_count": 238,
   "id": "569de73a",
   "metadata": {},
   "outputs": [
    {
     "data": {
      "text/plain": [
       "{'BTcode': '10100011',\n",
       " 'questions': ['180 degree separation of thighs?',\n",
       "  'Are both legs straight when seperated?',\n",
       "  'Ring position (rear foot at head height, body arched and head dropped backward)?',\n",
       "  'Front leg bent?',\n",
       "  'leap?',\n",
       "  'Front leg below horizontal?',\n",
       "  'Yes with turn?',\n",
       "  '0.5 turn?'],\n",
       " 'code': '1.309'}"
      ]
     },
     "execution_count": 238,
     "metadata": {},
     "output_type": "execute_result"
    }
   ],
   "source": [
    "text['100']"
   ]
  },
  {
   "cell_type": "code",
   "execution_count": 242,
   "id": "2a65451b",
   "metadata": {},
   "outputs": [
    {
     "name": "stdout",
     "output_type": "stream",
     "text": [
      "('0', {'BTcode': '1111111', 'questions': ['round-off onto the springboard?', 'turning entry after round-off (turning in first flight phase)?', 'Facing the coming direction when handstand on vault (0.5 turn in first flight phase)?', 'Body keep stretched  during salto (stretched salto)?', 'Salto with turn?', 'Facing vault table after landing?', 'Salto with 1.5 turn?'], 'code': '6.00'})\n",
      "('1', {'BTcode': '1111110', 'questions': ['round-off onto the springboard?', 'turning entry after round-off (turning in first flight phase)?', 'Facing the coming direction when handstand on vault (0.5 turn in first flight phase)?', 'Body keep stretched  during salto (stretched salto)?', 'Salto with turn?', 'Facing vault table after landing?', 'Salto with 1.5 turn?'], 'code': '5.20'})\n",
      "('2', {'BTcode': '1111101', 'questions': ['round-off onto the springboard?', 'turning entry after round-off (turning in first flight phase)?', 'Facing the coming direction when handstand on vault (0.5 turn in first flight phase)?', 'Body keep stretched  during salto (stretched salto)?', 'Salto with turn?', 'Facing vault table after landing?', 'Salto with 1 turn?'], 'code': '5.60'})\n",
      "('3', {'BTcode': '1111100', 'questions': ['round-off onto the springboard?', 'turning entry after round-off (turning in first flight phase)?', 'Facing the coming direction when handstand on vault (0.5 turn in first flight phase)?', 'Body keep stretched  during salto (stretched salto)?', 'Salto with turn?', 'Facing vault table after landing?', 'Salto with 1 turn?'], 'code': '6.40'})\n",
      "('4', {'BTcode': '11110', 'questions': ['round-off onto the springboard?', 'turning entry after round-off (turning in first flight phase)?', 'Facing the coming direction when handstand on vault (0.5 turn in first flight phase)?', 'Body keep stretched  during salto (stretched salto)?', 'Salto with turn?'], 'code': '4.80'})\n",
      "('5', {'BTcode': '111011', 'questions': ['round-off onto the springboard?', 'turning entry after round-off (turning in first flight phase)?', 'Facing the coming direction when handstand on vault (0.5 turn in first flight phase)?', 'Body keep stretched  during salto (stretched salto)?', 'Salto piked  (body bent forward at the waist with the legs kept stretched )?', '0.5 turn with body being stretched before salto?'], 'code': '4.80'})\n",
      "('6', {'BTcode': '11101011', 'questions': ['round-off onto the springboard?', 'turning entry after round-off (turning in first flight phase)?', 'Facing the coming direction when handstand on vault (0.5 turn in first flight phase)?', 'Body keep stretched  during salto (stretched salto)?', 'Salto piked  (body bent forward at the waist with the legs kept stretched )?', '0.5 turn with body being stretched before salto?', 'Facing vault table after landing?', 'Salto with 1.5 turn?'], 'code': '5.60'})\n",
      "('7', {'BTcode': '11101010', 'questions': ['round-off onto the springboard?', 'turning entry after round-off (turning in first flight phase)?', 'Facing the coming direction when handstand on vault (0.5 turn in first flight phase)?', 'Body keep stretched  during salto (stretched salto)?', 'Salto piked  (body bent forward at the waist with the legs kept stretched )?', '0.5 turn with body being stretched before salto?', 'Facing vault table after landing?', 'Salto with 1.5 turn?'], 'code': '4.80'})\n",
      "('8', {'BTcode': '11101001', 'questions': ['round-off onto the springboard?', 'turning entry after round-off (turning in first flight phase)?', 'Facing the coming direction when handstand on vault (0.5 turn in first flight phase)?', 'Body keep stretched  during salto (stretched salto)?', 'Salto piked  (body bent forward at the waist with the legs kept stretched )?', '0.5 turn with body being stretched before salto?', 'Facing vault table after landing?', 'Salto with turn?'], 'code': '5.20'})\n",
      "('9', {'BTcode': '11101000', 'questions': ['round-off onto the springboard?', 'turning entry after round-off (turning in first flight phase)?', 'Facing the coming direction when handstand on vault (0.5 turn in first flight phase)?', 'Body keep stretched  during salto (stretched salto)?', 'Salto piked  (body bent forward at the waist with the legs kept stretched )?', '0.5 turn with body being stretched before salto?', 'Facing vault table after landing?', 'Salto with turn?'], 'code': '4.40'})\n",
      "('10', {'BTcode': '11100111', 'questions': ['round-off onto the springboard?', 'turning entry after round-off (turning in first flight phase)?', 'Facing the coming direction when handstand on vault (0.5 turn in first flight phase)?', 'Body keep stretched  during salto (stretched salto)?', 'Salto piked  (body bent forward at the waist with the legs kept stretched )?', 'Salto with turn?', 'Facing vault table after landing?', '1.5 turn?'], 'code': '5.40'})\n",
      "('11', {'BTcode': '11100110', 'questions': ['round-off onto the springboard?', 'turning entry after round-off (turning in first flight phase)?', 'Facing the coming direction when handstand on vault (0.5 turn in first flight phase)?', 'Body keep stretched  during salto (stretched salto)?', 'Salto piked  (body bent forward at the waist with the legs kept stretched )?', 'Salto with turn?', 'Facing vault table after landing?', '1.5 turn?'], 'code': '4.60'})\n",
      "('12', {'BTcode': '1110010', 'questions': ['round-off onto the springboard?', 'turning entry after round-off (turning in first flight phase)?', 'Facing the coming direction when handstand on vault (0.5 turn in first flight phase)?', 'Body keep stretched  during salto (stretched salto)?', 'Salto piked  (body bent forward at the waist with the legs kept stretched )?', 'Salto with turn?', 'Facing vault table after landing?'], 'code': '5.00'})\n",
      "('13', {'BTcode': '111000', 'questions': ['round-off onto the springboard?', 'turning entry after round-off (turning in first flight phase)?', 'Facing the coming direction when handstand on vault (0.5 turn in first flight phase)?', 'Body keep stretched  during salto (stretched salto)?', 'Salto piked  (body bent forward at the waist with the legs kept stretched )?', 'Salto with turn?'], 'code': '4.20'})\n",
      "('14', {'BTcode': '11011', 'questions': ['round-off onto the springboard?', 'turning entry after round-off (turning in first flight phase)?', 'Facing the coming direction when handstand on vault (0.5 turn in first flight phase)?', 'Body keep stretched during salto (stretched salto)?', 'Salto with turn?'], 'code': '5.40'})\n",
      "('15', {'BTcode': '11010', 'questions': ['round-off onto the springboard?', 'turning entry after round-off (turning in first flight phase)?', 'Facing the coming direction when handstand on vault (0.5 turn in first flight phase)?', 'Body keep stretched during salto (stretched salto)?', 'Salto with turn?'], 'code': '4.60'})\n",
      "('16', {'BTcode': '11001', 'questions': ['round-off onto the springboard?', 'turning entry after round-off (turning in first flight phase)?', 'Facing the coming direction when handstand on vault (0.5 turn in first flight phase)?', 'Body keep stretched during salto (stretched salto)?', 'Pike salto (body bent forward at the waist with the legs kept stretched )?'], 'code': '4.20'})\n",
      "('17', {'BTcode': '110001', 'questions': ['round-off onto the springboard?', 'turning entry after round-off (turning in first flight phase)?', 'Facing the coming direction when handstand on vault (0.5 turn in first flight phase)?', 'Body keep stretched during salto (stretched salto)?', 'Pike salto (body bent forward at the waist with the legs kept stretched )?', 'Salto with turn?'], 'code': '4.60'})\n",
      "('18', {'BTcode': '110000', 'questions': ['round-off onto the springboard?', 'turning entry after round-off (turning in first flight phase)?', 'Facing the coming direction when handstand on vault (0.5 turn in first flight phase)?', 'Body keep stretched during salto (stretched salto)?', 'Pike salto (body bent forward at the waist with the legs kept stretched )?', 'Salto with turn?'], 'code': '4.00'})\n",
      "('19', {'BTcode': '101111', 'questions': ['round-off onto the springboard?', 'turning entry after round-off (turning in first flight phase)?', 'Body keep stretched  during salto (stretched salto)?', 'Salto with turn?', 'Facing vault table after landing?', '2 turn?'], 'code': '5.40'})\n",
      "('20', {'BTcode': '101110', 'questions': ['round-off onto the springboard?', 'turning entry after round-off (turning in first flight phase)?', 'Body keep stretched  during salto (stretched salto)?', 'Salto with turn?', 'Facing vault table after landing?', '2 turn?'], 'code': '4.60'})\n",
      "('21', {'BTcode': '101101', 'questions': ['round-off onto the springboard?', 'turning entry after round-off (turning in first flight phase)?', 'Body keep stretched  during salto (stretched salto)?', 'Salto with turn?', 'Facing vault table after landing?', '1.5 turn?'], 'code': '5.00'})\n",
      "('22', {'BTcode': '1011001', 'questions': ['round-off onto the springboard?', 'turning entry after round-off (turning in first flight phase)?', 'Body keep stretched  during salto (stretched salto)?', 'Salto with turn?', 'Facing vault table after landing?', '1.5 turn?', '0.5 turn?'], 'code': '4.20'})\n",
      "('23', {'BTcode': '1011000', 'questions': ['round-off onto the springboard?', 'turning entry after round-off (turning in first flight phase)?', 'Body keep stretched  during salto (stretched salto)?', 'Salto with turn?', 'Facing vault table after landing?', '1.5 turn?', '0.5 turn?'], 'code': '5.80'})\n",
      "('24', {'BTcode': '1010', 'questions': ['round-off onto the springboard?', 'turning entry after round-off (turning in first flight phase)?', 'Body keep stretched  during salto (stretched salto)?', 'Salto with turn?'], 'code': '4.00'})\n",
      "('25', {'BTcode': '1001', 'questions': ['round-off onto the springboard?', 'turning entry after round-off (turning in first flight phase)?', 'Body keep stretched  during salto (stretched salto)?', 'Pike salto (body bent forward at the waist with the legs kept stretched )?'], 'code': '3.50'})\n",
      "('26', {'BTcode': '100011', 'questions': ['round-off onto the springboard?', 'turning entry after round-off (turning in first flight phase)?', 'Body keep stretched  during salto (stretched salto)?', 'Pike salto (body bent forward at the waist with the legs kept stretched )?', 'Salto with turn?', 'Facing vault table after landing?'], 'code': '3.90'})\n",
      "('27', {'BTcode': '1000101', 'questions': ['round-off onto the springboard?', 'turning entry after round-off (turning in first flight phase)?', 'Body keep stretched  during salto (stretched salto)?', 'Pike salto (body bent forward at the waist with the legs kept stretched )?', 'Salto with turn?', 'Facing vault table after landing?', '1.5 turn?'], 'code': '4.20'})\n",
      "('28', {'BTcode': '1000100', 'questions': ['round-off onto the springboard?', 'turning entry after round-off (turning in first flight phase)?', 'Body keep stretched  during salto (stretched salto)?', 'Pike salto (body bent forward at the waist with the legs kept stretched )?', 'Salto with turn?', 'Facing vault table after landing?', '1.5 turn?'], 'code': '3.60'})\n",
      "('29', {'BTcode': '10000', 'questions': ['round-off onto the springboard?', 'turning entry after round-off (turning in first flight phase)?', 'Body keep stretched  during salto (stretched salto)?', 'Pike salto (body bent forward at the waist with the legs kept stretched )?', 'Salto with turn?'], 'code': '3.30'})\n",
      "('30', {'BTcode': '011111', 'questions': ['round-off onto the springboard?', 'Tsukahara (front handspring with 0.5 or 0.25 turn in pre-flight) ?', 'Body keep stretched  during salto (stretched salto)?', 'Salto with turn?', 'Facing vault table after landing?', '2 turn?'], 'code': '5.60'})\n",
      "('31', {'BTcode': '011110', 'questions': ['round-off onto the springboard?', 'Tsukahara (front handspring with 0.5 or 0.25 turn in pre-flight) ?', 'Body keep stretched  during salto (stretched salto)?', 'Salto with turn?', 'Facing vault table after landing?', '2 turn?'], 'code': '4.80'})\n",
      "('32', {'BTcode': '011101', 'questions': ['round-off onto the springboard?', 'Tsukahara (front handspring with 0.5 or 0.25 turn in pre-flight) ?', 'Body keep stretched  during salto (stretched salto)?', 'Salto with turn?', 'Facing vault table after landing?', '1.5 turn?'], 'code': '5.20'})\n",
      "('33', {'BTcode': '0111001', 'questions': ['round-off onto the springboard?', 'Tsukahara (front handspring with 0.5 or 0.25 turn in pre-flight) ?', 'Body keep stretched  during salto (stretched salto)?', 'Salto with turn?', 'Facing vault table after landing?', '1.5 turn?', '0.5 turn?'], 'code': '4.40'})\n",
      "('34', {'BTcode': '0111000', 'questions': ['round-off onto the springboard?', 'Tsukahara (front handspring with 0.5 or 0.25 turn in pre-flight) ?', 'Body keep stretched  during salto (stretched salto)?', 'Salto with turn?', 'Facing vault table after landing?', '1.5 turn?', '0.5 turn?'], 'code': '6.00'})\n",
      "('35', {'BTcode': '01101', 'questions': ['round-off onto the springboard?', 'Tsukahara (front handspring with 0.5 or 0.25 turn in pre-flight) ?', 'Body keep stretched  during salto (stretched salto)?', 'Salto with turn?', 'Salto?'], 'code': '4.20'})\n",
      "('36', {'BTcode': '01100', 'questions': ['round-off onto the springboard?', 'Tsukahara (front handspring with 0.5 or 0.25 turn in pre-flight) ?', 'Body keep stretched  during salto (stretched salto)?', 'Salto with turn?', 'Salto?'], 'code': '3.20'})\n",
      "('37', {'BTcode': '0101', 'questions': ['round-off onto the springboard?', 'Tsukahara (front handspring with 0.5 or 0.25 turn in pre-flight) ?', 'Body keep stretched  during salto (stretched salto)?', 'Pike salto (body bent forward at the waist with the legs kept stretched )?'], 'code': '3.80'})\n",
      "('38', {'BTcode': '010011', 'questions': ['round-off onto the springboard?', 'Tsukahara (front handspring with 0.5 or 0.25 turn in pre-flight) ?', 'Body keep stretched  during salto (stretched salto)?', 'Pike salto (body bent forward at the waist with the legs kept stretched )?', 'Salto with turn?', 'Facing vault table after landing?'], 'code': '4.10'})\n",
      "('39', {'BTcode': '0100101', 'questions': ['round-off onto the springboard?', 'Tsukahara (front handspring with 0.5 or 0.25 turn in pre-flight) ?', 'Body keep stretched  during salto (stretched salto)?', 'Pike salto (body bent forward at the waist with the legs kept stretched )?', 'Salto with turn?', 'Facing vault table after landing?', '1.5 turn?'], 'code': '4.40'})\n",
      "('40', {'BTcode': '0100100', 'questions': ['round-off onto the springboard?', 'Tsukahara (front handspring with 0.5 or 0.25 turn in pre-flight) ?', 'Body keep stretched  during salto (stretched salto)?', 'Pike salto (body bent forward at the waist with the legs kept stretched )?', 'Salto with turn?', 'Facing vault table after landing?', '1.5 turn?'], 'code': '3.80'})\n",
      "('41', {'BTcode': '01000', 'questions': ['round-off onto the springboard?', 'Tsukahara (front handspring with 0.5 or 0.25 turn in pre-flight) ?', 'Body keep stretched  during salto (stretched salto)?', 'Pike salto (body bent forward at the waist with the legs kept stretched )?', 'Salto with turn?'], 'code': '3.50'})\n",
      "('42', {'BTcode': '001101', 'questions': ['round-off onto the springboard?', 'Tsukahara (front handspring with 0.5 or 0.25 turn in pre-flight) ?', 'Twisting body before touching the vault table?', 'Facing the opposite of the coming direction when handstand on vault?', 'With salto?', 'With turn?'], 'code': '2.80'})\n",
      "('43', {'BTcode': '001001', 'questions': ['round-off onto the springboard?', 'Tsukahara (front handspring with 0.5 or 0.25 turn in pre-flight) ?', 'Twisting body before touching the vault table?', 'Facing the opposite of the coming direction when handstand on vault?', 'With salto?', 'With turn?'], 'code': '4.00'})\n",
      "('44', {'BTcode': '001000', 'questions': ['round-off onto the springboard?', 'Tsukahara (front handspring with 0.5 or 0.25 turn in pre-flight) ?', 'Twisting body before touching the vault table?', 'Facing the opposite of the coming direction when handstand on vault?', 'With salto?', 'With turn?'], 'code': '3.60'})\n",
      "('45', {'BTcode': '00011111', 'questions': ['round-off onto the springboard?', 'Tsukahara (front handspring with 0.5 or 0.25 turn in pre-flight) ?', 'Twisting body before touching the vault table?', 'Salto off?', 'body keep stretched  during salto (stretched salto)?', 'Salto with turn?', 'Facing vault table after landing?', '1.5 turn?'], 'code': '5.80'})\n",
      "('46', {'BTcode': '00011110', 'questions': ['round-off onto the springboard?', 'Tsukahara (front handspring with 0.5 or 0.25 turn in pre-flight) ?', 'Twisting body before touching the vault table?', 'Salto off?', 'body keep stretched  during salto (stretched salto)?', 'Salto with turn?', 'Facing vault table after landing?', '1.5 turn?'], 'code': '5.00'})\n",
      "('47', {'BTcode': '0001110', 'questions': ['round-off onto the springboard?', 'Tsukahara (front handspring with 0.5 or 0.25 turn in pre-flight) ?', 'Twisting body before touching the vault table?', 'Salto off?', 'body keep stretched  during salto (stretched salto)?', 'Salto with turn?', 'Facing vault table after landing?'], 'code': '5.40'})\n",
      "('48', {'BTcode': '000110', 'questions': ['round-off onto the springboard?', 'Tsukahara (front handspring with 0.5 or 0.25 turn in pre-flight) ?', 'Twisting body before touching the vault table?', 'Salto off?', 'body keep stretched  during salto (stretched salto)?', 'Salto with turn?'], 'code': '4.60'})\n",
      "('49', {'BTcode': '00010111', 'questions': ['round-off onto the springboard?', 'Tsukahara (front handspring with 0.5 or 0.25 turn in pre-flight) ?', 'Twisting body before touching the vault table?', 'Salto off?', 'body keep stretched  during salto (stretched salto)?', 'Pike salto (body bent forward at the waist with the legs kept stretched )?', 'Salto with turn?', '0.5 turn with body being stretched before salto?'], 'code': '4.60'})\n",
      "('50', {'BTcode': '0001011011', 'questions': ['round-off onto the springboard?', 'Tsukahara (front handspring with 0.5 or 0.25 turn in pre-flight) ?', 'Twisting body before touching the vault table?', 'Salto off?', 'body keep stretched  during salto (stretched salto)?', 'Pike salto (body bent forward at the waist with the legs kept stretched )?', 'Salto with turn?', '0.5 turn with body being stretched before salto?', 'Facing vault table after landing?', '1.5 turn?'], 'code': '5.40'})\n",
      "('51', {'BTcode': '0001011010', 'questions': ['round-off onto the springboard?', 'Tsukahara (front handspring with 0.5 or 0.25 turn in pre-flight) ?', 'Twisting body before touching the vault table?', 'Salto off?', 'body keep stretched  during salto (stretched salto)?', 'Pike salto (body bent forward at the waist with the legs kept stretched )?', 'Salto with turn?', '0.5 turn with body being stretched before salto?', 'Facing vault table after landing?', '1.5 turn?'], 'code': '4.60'})\n",
      "('52', {'BTcode': '000101100', 'questions': ['round-off onto the springboard?', 'Tsukahara (front handspring with 0.5 or 0.25 turn in pre-flight) ?', 'Twisting body before touching the vault table?', 'Salto off?', 'body keep stretched  during salto (stretched salto)?', 'Pike salto (body bent forward at the waist with the legs kept stretched )?', 'Salto with turn?', '0.5 turn with body being stretched before salto?', 'Facing vault table after landing?'], 'code': '5.00'})\n",
      "('53', {'BTcode': '0001010', 'questions': ['round-off onto the springboard?', 'Tsukahara (front handspring with 0.5 or 0.25 turn in pre-flight) ?', 'Twisting body before touching the vault table?', 'Salto off?', 'body keep stretched  during salto (stretched salto)?', 'Pike salto (body bent forward at the waist with the legs kept stretched )?', 'Salto with turn?'], 'code': '4.20'})\n",
      "('54', {'BTcode': '00010011', 'questions': ['round-off onto the springboard?', 'Tsukahara (front handspring with 0.5 or 0.25 turn in pre-flight) ?', 'Twisting body before touching the vault table?', 'Salto off?', 'body keep stretched  during salto (stretched salto)?', 'Pike salto (body bent forward at the waist with the legs kept stretched )?', 'Salto with turn?', '0.5 turn with body being stretched before salto?'], 'code': '4.40'})\n",
      "('55', {'BTcode': '0001001011', 'questions': ['round-off onto the springboard?', 'Tsukahara (front handspring with 0.5 or 0.25 turn in pre-flight) ?', 'Twisting body before touching the vault table?', 'Salto off?', 'body keep stretched  during salto (stretched salto)?', 'Pike salto (body bent forward at the waist with the legs kept stretched )?', 'Salto with turn?', '0.5 turn with body being stretched before salto?', 'Facing vault table after landing?', '1.5 turn?'], 'code': '5.20'})\n",
      "('56', {'BTcode': '0001001010', 'questions': ['round-off onto the springboard?', 'Tsukahara (front handspring with 0.5 or 0.25 turn in pre-flight) ?', 'Twisting body before touching the vault table?', 'Salto off?', 'body keep stretched  during salto (stretched salto)?', 'Pike salto (body bent forward at the waist with the legs kept stretched )?', 'Salto with turn?', '0.5 turn with body being stretched before salto?', 'Facing vault table after landing?', '1.5 turn?'], 'code': '4.40'})\n",
      "('57', {'BTcode': '000100100', 'questions': ['round-off onto the springboard?', 'Tsukahara (front handspring with 0.5 or 0.25 turn in pre-flight) ?', 'Twisting body before touching the vault table?', 'Salto off?', 'body keep stretched  during salto (stretched salto)?', 'Pike salto (body bent forward at the waist with the legs kept stretched )?', 'Salto with turn?', '0.5 turn with body being stretched before salto?', 'Facing vault table after landing?'], 'code': '4.80'})\n",
      "('58', {'BTcode': '00010001', 'questions': ['round-off onto the springboard?', 'Tsukahara (front handspring with 0.5 or 0.25 turn in pre-flight) ?', 'Twisting body before touching the vault table?', 'Salto off?', 'body keep stretched  during salto (stretched salto)?', 'Pike salto (body bent forward at the waist with the legs kept stretched )?', 'Salto with turn?', 'Double salto tucked?'], 'code': '6.40'})\n",
      "('59', {'BTcode': '00010000', 'questions': ['round-off onto the springboard?', 'Tsukahara (front handspring with 0.5 or 0.25 turn in pre-flight) ?', 'Twisting body before touching the vault table?', 'Salto off?', 'body keep stretched  during salto (stretched salto)?', 'Pike salto (body bent forward at the waist with the legs kept stretched )?', 'Salto with turn?', 'Double salto tucked?'], 'code': '4.00'})\n",
      "('60', {'BTcode': '0000111', 'questions': ['round-off onto the springboard?', 'Tsukahara (front handspring with 0.5 or 0.25 turn in pre-flight) ?', 'Twisting body before touching the vault table?', 'Salto off?', 'body keep stretched  during flight?', 'With turn?', 'Facing vault table after landing?'], 'code': '3.60'})\n",
      "('61', {'BTcode': '00001101', 'questions': ['round-off onto the springboard?', 'Tsukahara (front handspring with 0.5 or 0.25 turn in pre-flight) ?', 'Twisting body before touching the vault table?', 'Salto off?', 'body keep stretched  during flight?', 'With turn?', 'Facing vault table after landing?', '2 turn?'], 'code': '4.00'})\n",
      "('62', {'BTcode': '00001100', 'questions': ['round-off onto the springboard?', 'Tsukahara (front handspring with 0.5 or 0.25 turn in pre-flight) ?', 'Twisting body before touching the vault table?', 'Salto off?', 'body keep stretched  during flight?', 'With turn?', 'Facing vault table after landing?', '2 turn?'], 'code': '3.00'})\n",
      "('63', {'BTcode': '000010', 'questions': ['round-off onto the springboard?', 'Tsukahara (front handspring with 0.5 or 0.25 turn in pre-flight) ?', 'Twisting body before touching the vault table?', 'Salto off?', 'body keep stretched  during flight?', 'With turn?'], 'code': '2.00'})\n",
      "('64', {'BTcode': '0000011', 'questions': ['round-off onto the springboard?', 'Tsukahara (front handspring with 0.5 or 0.25 turn in pre-flight) ?', 'Twisting body before touching the vault table?', 'Salto off?', 'body keep stretched  during flight?', 'With turn?', 'Facing vault table after landing?'], 'code': '2.80'})\n",
      "('65', {'BTcode': '0000010', 'questions': ['round-off onto the springboard?', 'Tsukahara (front handspring with 0.5 or 0.25 turn in pre-flight) ?', 'Twisting body before touching the vault table?', 'Salto off?', 'body keep stretched  during flight?', 'With turn?', 'Facing vault table after landing?'], 'code': '3.20'})\n",
      "('66', {'BTcode': '000000', 'questions': ['round-off onto the springboard?', 'Tsukahara (front handspring with 0.5 or 0.25 turn in pre-flight) ?', 'Twisting body before touching the vault table?', 'Salto off?', 'body keep stretched  during flight?', 'With turn?'], 'code': '2.40'})\n",
      "('67', {'BTcode': '1111111', 'questions': ['180 degree separation of thighs?', 'Are both legs straight when seperated?', 'Cross split?', 'Leap (do not jump with both feet) ?', 'With turn?', 'Switch leap?', '0.5 turn (facing different directions when take off and after landing) ?'], 'code': '1.304'})\n",
      "('68', {'BTcode': '1111110', 'questions': ['180 degree separation of thighs?', 'Are both legs straight when seperated?', 'Cross split?', 'Leap (do not jump with both feet) ?', 'With turn?', 'Switch leap?', '0.5 turn (facing different directions when take off and after landing) ?'], 'code': '1.404'})\n",
      "('69', {'BTcode': '11111011', 'questions': ['180 degree separation of thighs?', 'Are both legs straight when seperated?', 'Cross split?', 'Leap (do not jump with both feet) ?', 'With turn?', 'Switch leap?', '0.5 turn?', 'Is back leg above horizontal when splitting legs?'], 'code': '1.202'})\n",
      "('70', {'BTcode': '11111010', 'questions': ['180 degree separation of thighs?', 'Are both legs straight when seperated?', 'Cross split?', 'Leap (do not jump with both feet) ?', 'With turn?', 'Switch leap?', '0.5 turn?', 'Is back leg above horizontal when splitting legs?'], 'code': '1.201'})\n",
      "('71', {'BTcode': '111110011', 'questions': ['180 degree separation of thighs?', 'Are both legs straight when seperated?', 'Cross split?', 'Leap (do not jump with both feet) ?', 'With turn?', 'Switch leap?', '0.5 turn?', '1 turn?', 'land in split sit position?'], 'code': '1.302'})\n",
      "('72', {'BTcode': '111110010', 'questions': ['180 degree separation of thighs?', 'Are both legs straight when seperated?', 'Cross split?', 'Leap (do not jump with both feet) ?', 'With turn?', 'Switch leap?', '0.5 turn?', '1 turn?', 'land in split sit position?'], 'code': '1.301'})\n",
      "('73', {'BTcode': '11111000', 'questions': ['180 degree separation of thighs?', 'Are both legs straight when seperated?', 'Cross split?', 'Leap (do not jump with both feet) ?', 'With turn?', 'Switch leap?', '0.5 turn?', '1 turn?'], 'code': '1.401'})\n",
      "('74', {'BTcode': '111101', 'questions': ['180 degree separation of thighs?', 'Are both legs straight when seperated?', 'Cross split?', 'Leap (do not jump with both feet) ?', 'With turn?', 'Leap with leg change?'], 'code': '1.205'})\n",
      "('75', {'BTcode': '111100', 'questions': ['180 degree separation of thighs?', 'Are both legs straight when seperated?', 'Cross split?', 'Leap (do not jump with both feet) ?', 'With turn?', 'Leap with leg change?'], 'code': '1.101'})\n",
      "('76', {'BTcode': '11101', 'questions': ['180 degree separation of thighs?', 'Are both legs straight when seperated?', 'Cross split?', 'Leap (do not jump with both feet) ?', 'Tuck jump before separation of legs?'], 'code': '1.103'})\n",
      "('77', {'BTcode': '1110011', 'questions': ['180 degree separation of thighs?', 'Are both legs straight when seperated?', 'Cross split?', 'Leap (do not jump with both feet) ?', 'Tuck jump before separation of legs?', 'With turn?', '1 turn?'], 'code': '1.307'})\n",
      "('78', {'BTcode': '11100101', 'questions': ['180 degree separation of thighs?', 'Are both legs straight when seperated?', 'Cross split?', 'Leap (do not jump with both feet) ?', 'Tuck jump before separation of legs?', 'With turn?', '1 turn?', '0.5 turn?'], 'code': '1.207'})\n",
      "('79', {'BTcode': '11100100', 'questions': ['180 degree separation of thighs?', 'Are both legs straight when seperated?', 'Cross split?', 'Leap (do not jump with both feet) ?', 'Tuck jump before separation of legs?', 'With turn?', '1 turn?', '0.5 turn?'], 'code': '1.407'})\n",
      "('80', {'BTcode': '1110001', 'questions': ['180 degree separation of thighs?', 'Are both legs straight when seperated?', 'Cross split?', 'Leap (do not jump with both feet) ?', 'Tuck jump before separation of legs?', 'With turn?', 'Legs are not parallel to the floor when separation?'], 'code': '1.109'})\n",
      "('81', {'BTcode': '1110000', 'questions': ['180 degree separation of thighs?', 'Are both legs straight when seperated?', 'Cross split?', 'Leap (do not jump with both feet) ?', 'Tuck jump before separation of legs?', 'With turn?', 'Legs are not parallel to the floor when separation?'], 'code': '1.109'})\n",
      "('82', {'BTcode': '1101111', 'questions': ['180 degree separation of thighs?', 'Are both legs straight when seperated?', 'Cross split?', 'Leap (do not jump with both feet) ?', 'With turn?', 'Switch leap?', '1 turn?'], 'code': '1.404'})\n",
      "('83', {'BTcode': '1101110', 'questions': ['180 degree separation of thighs?', 'Are both legs straight when seperated?', 'Cross split?', 'Leap (do not jump with both feet) ?', 'With turn?', 'Switch leap?', '1 turn?'], 'code': '1.304'})\n",
      "('84', {'BTcode': '1101101', 'questions': ['180 degree separation of thighs?', 'Are both legs straight when seperated?', 'Cross split?', 'Leap (do not jump with both feet) ?', 'With turn?', 'Switch leap?', '1 turn?'], 'code': '1.301'})\n",
      "('85', {'BTcode': '110101', 'questions': ['180 degree separation of thighs?', 'Are both legs straight when seperated?', 'Cross split?', 'Leap (do not jump with both feet) ?', 'With turn?', 'Switch leap?'], 'code': '1.204'})\n",
      "('86', {'BTcode': '110100', 'questions': ['180 degree separation of thighs?', 'Are both legs straight when seperated?', 'Cross split?', 'Leap (do not jump with both feet) ?', 'With turn?', 'Switch leap?'], 'code': '1.104'})\n",
      "('87', {'BTcode': '1100111', 'questions': ['180 degree separation of thighs?', 'Are both legs straight when seperated?', 'Cross split?', 'Leap (do not jump with both feet) ?', 'With turn?', '1 turn?', 'land in front lying support?'], 'code': '1.208'})\n",
      "('88', {'BTcode': '1100110', 'questions': ['180 degree separation of thighs?', 'Are both legs straight when seperated?', 'Cross split?', 'Leap (do not jump with both feet) ?', 'With turn?', '1 turn?', 'land in front lying support?'], 'code': '1.307'})\n",
      "('89', {'BTcode': '11001011', 'questions': ['180 degree separation of thighs?', 'Are both legs straight when seperated?', 'Cross split?', 'Leap (do not jump with both feet) ?', 'With turn?', '1 turn?', '0.5 turn?', 'land in front lying support?'], 'code': '1.108'})\n",
      "('90', {'BTcode': '11001010', 'questions': ['180 degree separation of thighs?', 'Are both legs straight when seperated?', 'Cross split?', 'Leap (do not jump with both feet) ?', 'With turn?', '1 turn?', '0.5 turn?', 'land in front lying support?'], 'code': '1.207'})\n",
      "('91', {'BTcode': '1100100', 'questions': ['180 degree separation of thighs?', 'Are both legs straight when seperated?', 'Cross split?', 'Leap (do not jump with both feet) ?', 'With turn?', '1 turn?', '0.5 turn?'], 'code': '1.407'})\n",
      "('92', {'BTcode': '110001', 'questions': ['180 degree separation of thighs?', 'Are both legs straight when seperated?', 'Cross split?', 'Leap (do not jump with both feet) ?', 'With turn?', 'Land in front lying support?'], 'code': '1.108'})\n",
      "('93', {'BTcode': '110000', 'questions': ['180 degree separation of thighs?', 'Are both legs straight when seperated?', 'Cross split?', 'Leap (do not jump with both feet) ?', 'With turn?', 'Land in front lying support?'], 'code': '1.107'})\n",
      "('94', {'BTcode': '1011', 'questions': ['180 degree separation of thighs?', 'Are both legs straight when seperated?', 'Ring position (rear foot at head height, body arched and head dropped backward)?', 'Front leg bent?'], 'code': '1.209'})\n",
      "('95', {'BTcode': '1010111', 'questions': ['180 degree separation of thighs?', 'Are both legs straight when seperated?', 'Ring position (rear foot at head height, body arched and head dropped backward)?', 'Front leg bent?', 'leap?', 'With leg change?', 'With turn?'], 'code': '1.405'})\n",
      "('96', {'BTcode': '1010110', 'questions': ['180 degree separation of thighs?', 'Are both legs straight when seperated?', 'Ring position (rear foot at head height, body arched and head dropped backward)?', 'Front leg bent?', 'leap?', 'With leg change?', 'With turn?'], 'code': '1.305'})\n",
      "('97', {'BTcode': '1010101', 'questions': ['180 degree separation of thighs?', 'Are both legs straight when seperated?', 'Ring position (rear foot at head height, body arched and head dropped backward)?', 'Front leg bent?', 'leap?', 'With leg change?', 'With turn?'], 'code': '1.409'})\n",
      "('98', {'BTcode': '1010100', 'questions': ['180 degree separation of thighs?', 'Are both legs straight when seperated?', 'Ring position (rear foot at head height, body arched and head dropped backward)?', 'Front leg bent?', 'leap?', 'With leg change?', 'With turn?'], 'code': '1.309'})\n",
      "('99', {'BTcode': '101001', 'questions': ['180 degree separation of thighs?', 'Are both legs straight when seperated?', 'Ring position (rear foot at head height, body arched and head dropped backward)?', 'Front leg bent?', 'leap?', 'Front leg below horizontal?'], 'code': '1.209'})\n",
      "('100', {'BTcode': '10100011', 'questions': ['180 degree separation of thighs?', 'Are both legs straight when seperated?', 'Ring position (rear foot at head height, body arched and head dropped backward)?', 'Front leg bent?', 'leap?', 'Front leg below horizontal?', 'Yes with turn?', '0.5 turn?'], 'code': '1.309'})\n",
      "('101', {'BTcode': '10100010', 'questions': ['180 degree separation of thighs?', 'Are both legs straight when seperated?', 'Ring position (rear foot at head height, body arched and head dropped backward)?', 'Front leg bent?', 'leap?', 'Front leg below horizontal?', 'Yes with turn?', '0.5 turn?'], 'code': '1.409'})\n",
      "('102', {'BTcode': '1010000', 'questions': ['180 degree separation of thighs?', 'Are both legs straight when seperated?', 'Ring position (rear foot at head height, body arched and head dropped backward)?', 'Front leg bent?', 'leap?', 'Front leg below horizontal?', 'Yes with turn?'], 'code': '1.209'})\n",
      "('103', {'BTcode': '10011', 'questions': ['180 degree separation of thighs?', 'Are both legs straight when seperated?', 'Ring position (rear foot at head height, body arched and head dropped backward)?', 'jump?', 'With turn?'], 'code': '1.109'})\n",
      "('104', {'BTcode': '10010', 'questions': ['180 degree separation of thighs?', 'Are both legs straight when seperated?', 'Ring position (rear foot at head height, body arched and head dropped backward)?', 'jump?', 'With turn?'], 'code': '1.109'})\n",
      "('105', {'BTcode': '0111', 'questions': ['180 degree separation of thighs?', 'Both legs stay together in flight phase?', 'Tucked?', 'Land in front lying support?'], 'code': '1.313'})\n",
      "('106', {'BTcode': '01101', 'questions': ['180 degree separation of thighs?', 'Both legs stay together in flight phase?', 'Tucked?', 'Land in front lying support?', '1 turn?'], 'code': '1.213'})\n",
      "('107', {'BTcode': '01100', 'questions': ['180 degree separation of thighs?', 'Both legs stay together in flight phase?', 'Tucked?', 'Land in front lying support?', '1 turn?'], 'code': '1.313'})\n",
      "('108', {'BTcode': '01011', 'questions': ['180 degree separation of thighs?', 'Both legs stay together in flight phase?', 'Tucked?', 'Streched?', '1 turn?'], 'code': '1.210'})\n",
      "('109', {'BTcode': '01010', 'questions': ['180 degree separation of thighs?', 'Both legs stay together in flight phase?', 'Tucked?', 'Streched?', '1 turn?'], 'code': '1.310'})\n",
      "('110', {'BTcode': '010011', 'questions': ['180 degree separation of thighs?', 'Both legs stay together in flight phase?', 'Tucked?', 'Streched?', 'Piked?', 'With turn?'], 'code': '1.306'})\n",
      "('111', {'BTcode': '010010', 'questions': ['180 degree separation of thighs?', 'Both legs stay together in flight phase?', 'Tucked?', 'Streched?', 'Piked?', 'With turn?'], 'code': '1.106'})\n",
      "('112', {'BTcode': '01000', 'questions': ['180 degree separation of thighs?', 'Both legs stay together in flight phase?', 'Tucked?', 'Streched?', 'Piked?'], 'code': '1.206'})\n",
      "('113', {'BTcode': '00111', 'questions': ['180 degree separation of thighs?', 'Both legs stay together in flight phase?', 'To wolf position (one leg bent and the other extended straight, forward above horizontal with knees together)?', 'With turn?', 'land in front lying support?'], 'code': '1.214'})\n",
      "('114', {'BTcode': '001101', 'questions': ['180 degree separation of thighs?', 'Both legs stay together in flight phase?', 'To wolf position (one leg bent and the other extended straight, forward above horizontal with knees together)?', 'With turn?', 'land in front lying support?', '1 turn?'], 'code': '1.214'})\n",
      "('115', {'BTcode': '001100', 'questions': ['180 degree separation of thighs?', 'Both legs stay together in flight phase?', 'To wolf position (one leg bent and the other extended straight, forward above horizontal with knees together)?', 'With turn?', 'land in front lying support?', '1 turn?'], 'code': '1.414'})\n",
      "('116', {'BTcode': '00101', 'questions': ['180 degree separation of thighs?', 'Both legs stay together in flight phase?', 'To wolf position (one leg bent and the other extended straight, forward above horizontal with knees together)?', 'With turn?', 'Legs switched?'], 'code': '1.105'})\n",
      "('117', {'BTcode': '00100', 'questions': ['180 degree separation of thighs?', 'Both legs stay together in flight phase?', 'To wolf position (one leg bent and the other extended straight, forward above horizontal with knees together)?', 'With turn?', 'Legs switched?'], 'code': '1.114'})\n",
      "('118', {'BTcode': '0001111', 'questions': ['180 degree separation of thighs?', 'Both legs stay together in flight phase?', 'To wolf position (one leg bent and the other extended straight, forward above horizontal with knees together)?', 'Land in front lying support?', 'Take off with two feet?', 'With turn?', '0.5 turn?'], 'code': '1.108'})\n",
      "('119', {'BTcode': '0001110', 'questions': ['180 degree separation of thighs?', 'Both legs stay together in flight phase?', 'To wolf position (one leg bent and the other extended straight, forward above horizontal with knees together)?', 'Land in front lying support?', 'Take off with two feet?', 'With turn?', '0.5 turn?'], 'code': '1.208'})\n",
      "('120', {'BTcode': '000110', 'questions': ['180 degree separation of thighs?', 'Both legs stay together in flight phase?', 'To wolf position (one leg bent and the other extended straight, forward above horizontal with knees together)?', 'Land in front lying support?', 'Take off with two feet?', 'With turn?'], 'code': '1.108'})\n",
      "('121', {'BTcode': '000101', 'questions': ['180 degree separation of thighs?', 'Both legs stay together in flight phase?', 'To wolf position (one leg bent and the other extended straight, forward above horizontal with knees together)?', 'Land in front lying support?', 'Take off with two feet?', '1 turn?'], 'code': '1.108'})\n",
      "('122', {'BTcode': '000100', 'questions': ['180 degree separation of thighs?', 'Both legs stay together in flight phase?', 'To wolf position (one leg bent and the other extended straight, forward above horizontal with knees together)?', 'Land in front lying support?', 'Take off with two feet?', '1 turn?'], 'code': '1.208'})\n",
      "('123', {'BTcode': '0000111', 'questions': ['180 degree separation of thighs?', 'Both legs stay together in flight phase?', 'To wolf position (one leg bent and the other extended straight, forward above horizontal with knees together)?', 'Land in front lying support?', 'Cat leap (Leap with alternate leg change)?', 'With turn?', '1 turn?'], 'code': '1.211'})\n",
      "('124', {'BTcode': '0000110', 'questions': ['180 degree separation of thighs?', 'Both legs stay together in flight phase?', 'To wolf position (one leg bent and the other extended straight, forward above horizontal with knees together)?', 'Land in front lying support?', 'Cat leap (Leap with alternate leg change)?', 'With turn?', '1 turn?'], 'code': '1.311'})\n",
      "('125', {'BTcode': '000010', 'questions': ['180 degree separation of thighs?', 'Both legs stay together in flight phase?', 'To wolf position (one leg bent and the other extended straight, forward above horizontal with knees together)?', 'Land in front lying support?', 'Cat leap (Leap with alternate leg change)?', 'With turn?'], 'code': '1.111'})\n",
      "('126', {'BTcode': '0000011', 'questions': ['180 degree separation of thighs?', 'Both legs stay together in flight phase?', 'To wolf position (one leg bent and the other extended straight, forward above horizontal with knees together)?', 'Land in front lying support?', 'Cat leap (Leap with alternate leg change)?', 'Hop?', 'Land in arabesque?'], 'code': '1.112'})\n",
      "('127', {'BTcode': '00000101', 'questions': ['180 degree separation of thighs?', 'Both legs stay together in flight phase?', 'To wolf position (one leg bent and the other extended straight, forward above horizontal with knees together)?', 'Land in front lying support?', 'Cat leap (Leap with alternate leg change)?', 'Hop?', 'Land in arabesque?', '0.5 turn?'], 'code': '1.212'})\n",
      "('128', {'BTcode': '00000100', 'questions': ['180 degree separation of thighs?', 'Both legs stay together in flight phase?', 'To wolf position (one leg bent and the other extended straight, forward above horizontal with knees together)?', 'Land in front lying support?', 'Cat leap (Leap with alternate leg change)?', 'Hop?', 'Land in arabesque?', '0.5 turn?'], 'code': '1.312'})\n",
      "('129', {'BTcode': '00000011', 'questions': ['180 degree separation of thighs?', 'Both legs stay together in flight phase?', 'To wolf position (one leg bent and the other extended straight, forward above horizontal with knees together)?', 'Land in front lying support?', 'Cat leap (Leap with alternate leg change)?', 'Hop?', 'Butterfly (torso parallel to floor, slightly arched, legs straddled and feet above hip height during flight)?', 'Butterfly forward?'], 'code': '1.203'})\n",
      "('130', {'BTcode': '00000010', 'questions': ['180 degree separation of thighs?', 'Both legs stay together in flight phase?', 'To wolf position (one leg bent and the other extended straight, forward above horizontal with knees together)?', 'Land in front lying support?', 'Cat leap (Leap with alternate leg change)?', 'Hop?', 'Butterfly (torso parallel to floor, slightly arched, legs straddled and feet above hip height during flight)?', 'Butterfly forward?'], 'code': '1.203'})\n",
      "('131', {'BTcode': '111', 'questions': ['Heel over head?', 'Illusion (torso pivots down)?', '1 turn?'], 'code': '2.205'})\n",
      "('132', {'BTcode': '1101', 'questions': ['Heel over head?', 'Illusion (torso pivots down)?', '1 turn?', '2 turn?'], 'code': '02.300'})\n",
      "('133', {'BTcode': '101', 'questions': ['Heel over head?', 'Illusion (torso pivots down)?', '3 turn or more?'], 'code': '2.503'})\n",
      "('134', {'BTcode': '1001', 'questions': ['Heel over head?', 'Illusion (torso pivots down)?', '3 turn or more?', '2 turn?'], 'code': '2.403'})\n",
      "('135', {'BTcode': '1000', 'questions': ['Heel over head?', 'Illusion (torso pivots down)?', '3 turn or more?', '2 turn?'], 'code': '2.203'})\n",
      "('136', {'BTcode': '0111', 'questions': ['Heel over head?', 'Turn in tuck stand or on back?', 'Turn in tuck stand?', '3 turn?'], 'code': '2.406'})\n",
      "('137', {'BTcode': '011011', 'questions': ['Heel over head?', 'Turn in tuck stand or on back?', 'Turn in tuck stand?', '3 turn?', '2 turn?', 'Free leg straight?'], 'code': '2.406'})\n",
      "('138', {'BTcode': '011010', 'questions': ['Heel over head?', 'Turn in tuck stand or on back?', 'Turn in tuck stand?', '3 turn?', '2 turn?', 'Free leg straight?'], 'code': '2.206'})\n",
      "('139', {'BTcode': '01100', 'questions': ['Heel over head?', 'Turn in tuck stand or on back?', 'Turn in tuck stand?', '3 turn?', '2 turn?'], 'code': '2.106'})\n",
      "('140', {'BTcode': '0101', 'questions': ['Heel over head?', 'Turn in tuck stand or on back?', 'Turn in tuck stand?', '2 turn or more?'], 'code': '2.207'})\n",
      "('141', {'BTcode': '0100', 'questions': ['Heel over head?', 'Turn in tuck stand or on back?', 'Turn in tuck stand?', '2 turn or more?'], 'code': '2.107'})\n",
      "('142', {'BTcode': '0011', 'questions': ['Heel over head?', 'Turn in tuck stand or on back?', 'Free leg extended backward?', 'Is free leg held upward and backward by hand?'], 'code': '2.200'})\n",
      "('143', {'BTcode': '00101', 'questions': ['Heel over head?', 'Turn in tuck stand or on back?', 'Free leg extended backward?', 'Is free leg held upward and backward by hand?', '2 turn?'], 'code': '2.404'})\n",
      "('144', {'BTcode': '00100', 'questions': ['Heel over head?', 'Turn in tuck stand or on back?', 'Free leg extended backward?', 'Is free leg held upward and backward by hand?', '2 turn?'], 'code': '2.204'})\n",
      "('145', {'BTcode': '000111', 'questions': ['Heel over head?', 'Turn in tuck stand or on back?', 'Free leg extended backward?', 'Free leg below horizontal?', '3 turn or more?', '4 turn?'], 'code': '2.501'})\n",
      "('146', {'BTcode': '000110', 'questions': ['Heel over head?', 'Turn in tuck stand or on back?', 'Free leg extended backward?', 'Free leg below horizontal?', '3 turn or more?', '4 turn?'], 'code': '2.301'})\n",
      "('147', {'BTcode': '000101', 'questions': ['Heel over head?', 'Turn in tuck stand or on back?', 'Free leg extended backward?', 'Free leg below horizontal?', '3 turn or more?', '2 turn?'], 'code': '2.201'})\n",
      "('148', {'BTcode': '000100', 'questions': ['Heel over head?', 'Turn in tuck stand or on back?', 'Free leg extended backward?', 'Free leg below horizontal?', '3 turn or more?', '2 turn?'], 'code': '2.101'})\n",
      "('149', {'BTcode': '00001', 'questions': ['Heel over head?', 'Turn in tuck stand or on back?', 'Free leg extended backward?', 'Free leg below horizontal?', '2 turn or more?'], 'code': '2.402'})\n",
      "('150', {'BTcode': '00000', 'questions': ['Heel over head?', 'Turn in tuck stand or on back?', 'Free leg extended backward?', 'Free leg below horizontal?', '2 turn or more?'], 'code': '2.202'})\n",
      "('151', {'BTcode': '1', 'questions': ['tucked (legs are bent during flight)?'], 'code': '4.105'})\n",
      "('152', {'BTcode': '01', 'questions': ['tucked (legs are bent during flight)?', 'Piked?'], 'code': '4.105'})\n",
      "('153', {'BTcode': '001', 'questions': ['tucked (legs are bent during flight)?', 'Piked?', 'Aerial round-off?'], 'code': '4.104'})\n",
      "('154', {'BTcode': '000', 'questions': ['tucked (legs are bent during flight)?', 'Piked?', 'Aerial round-off?'], 'code': '4.104'})\n",
      "('155', {'BTcode': '1111', 'questions': ['Tuck salto?', 'Arabian (take-off backward with 0.5 twist before salto)?', 'Double salto?', 'Salto with 0.5 twist?'], 'code': '4.505'})\n",
      "('156', {'BTcode': '1110', 'questions': ['Tuck salto?', 'Arabian (take-off backward with 0.5 twist before salto)?', 'Double salto?', 'Salto with 0.5 twist?'], 'code': '4.505'})\n",
      "('157', {'BTcode': '110', 'questions': ['Tuck salto?', 'Arabian (take-off backward with 0.5 twist before salto)?', 'Double salto?'], 'code': '4.205'})\n",
      "('158', {'BTcode': '1011', 'questions': ['Tuck salto?', 'Arabian (take-off backward with 0.5 twist before salto)?', 'Double salto?', 'Salto with 0.5 twist (so that facing different directions before takeoff and after landing) ?'], 'code': '4.601'})\n",
      "('159', {'BTcode': '1010', 'questions': ['Tuck salto?', 'Arabian (take-off backward with 0.5 twist before salto)?', 'Double salto?', 'Salto with 0.5 twist (so that facing different directions before takeoff and after landing) ?'], 'code': '4.501'})\n",
      "('160', {'BTcode': '10011', 'questions': ['Tuck salto?', 'Arabian (take-off backward with 0.5 twist before salto)?', 'Double salto?', 'Salto with twist?', 'Salto with 1 twist?'], 'code': '4.201'})\n",
      "('161', {'BTcode': '100101', 'questions': ['Tuck salto?', 'Arabian (take-off backward with 0.5 twist before salto)?', 'Double salto?', 'Salto with twist?', 'Salto with 1 twist?', 'Salto with 1.5 twist?'], 'code': '4.301'})\n",
      "('162', {'BTcode': '100100', 'questions': ['Tuck salto?', 'Arabian (take-off backward with 0.5 twist before salto)?', 'Double salto?', 'Salto with twist?', 'Salto with 1 twist?', 'Salto with 1.5 twist?'], 'code': '4.201'})\n",
      "('163', {'BTcode': '1000', 'questions': ['Tuck salto?', 'Arabian (take-off backward with 0.5 twist before salto)?', 'Double salto?', 'Salto with twist?'], 'code': '4.101'})\n",
      "('164', {'BTcode': '0111', 'questions': ['Tuck salto?', 'Pike salto?', 'Arabian (take-off backward with 0.5 twist before salto)?', 'Double salto?'], 'code': '4.605'})\n",
      "('165', {'BTcode': '0110', 'questions': ['Tuck salto?', 'Pike salto?', 'Arabian (take-off backward with 0.5 twist before salto)?', 'Double salto?'], 'code': '4.205'})\n",
      "('166', {'BTcode': '0101', 'questions': ['Tuck salto?', 'Pike salto?', 'Arabian (take-off backward with 0.5 twist before salto)?', 'Double salto?'], 'code': '4.601'})\n",
      "('167', {'BTcode': '01001', 'questions': ['Tuck salto?', 'Pike salto?', 'Arabian (take-off backward with 0.5 twist before salto)?', 'Double salto?', 'Salto with 0.5 twist?'], 'code': '4.201'})\n",
      "('168', {'BTcode': '01000', 'questions': ['Tuck salto?', 'Pike salto?', 'Arabian (take-off backward with 0.5 twist before salto)?', 'Double salto?', 'Salto with 0.5 twist?'], 'code': '4.101'})\n",
      "('169', {'BTcode': '001', 'questions': ['Tuck salto?', 'Pike salto?', 'Walkover?'], 'code': '4.103'})\n",
      "('170', {'BTcode': '00011', 'questions': ['Tuck salto?', 'Pike salto?', 'Walkover?', 'Arabian (take-off backward with 0.5 twist before salto)?', 'Double salto?'], 'code': '4.805'})\n",
      "('171', {'BTcode': '0000111', 'questions': ['Tuck salto?', 'Pike salto?', 'Walkover?', 'Arabian (take-off backward with 0.5 twist before salto)?', 'Salto with twist?', 'Salto with integer twist (facing the same direction before takeoff and after landing)?', 'Salto with 2 twist?'], 'code': '4.402'})\n",
      "('172', {'BTcode': '0000110', 'questions': ['Tuck salto?', 'Pike salto?', 'Walkover?', 'Arabian (take-off backward with 0.5 twist before salto)?', 'Salto with twist?', 'Salto with integer twist (facing the same direction before takeoff and after landing)?', 'Salto with 2 twist?'], 'code': '4.302'})\n",
      "('173', {'BTcode': '0000101', 'questions': ['Tuck salto?', 'Pike salto?', 'Walkover?', 'Arabian (take-off backward with 0.5 twist before salto)?', 'Salto with twist?', 'Salto with integer twist (facing the same direction before takeoff and after landing)?', 'Salto with 2.5 twist?'], 'code': '4.502'})\n",
      "('174', {'BTcode': '00001001', 'questions': ['Tuck salto?', 'Pike salto?', 'Walkover?', 'Arabian (take-off backward with 0.5 twist before salto)?', 'Salto with twist?', 'Salto with integer twist (facing the same direction before takeoff and after landing)?', 'Salto with 2.5 twist?', 'Salto with 1.5 twist?'], 'code': '4.302'})\n",
      "('175', {'BTcode': '00001000', 'questions': ['Tuck salto?', 'Pike salto?', 'Walkover?', 'Arabian (take-off backward with 0.5 twist before salto)?', 'Salto with twist?', 'Salto with integer twist (facing the same direction before takeoff and after landing)?', 'Salto with 2.5 twist?', 'Salto with 1.5 twist?'], 'code': '4.202'})\n",
      "('176', {'BTcode': '000001', 'questions': ['Tuck salto?', 'Pike salto?', 'Walkover?', 'Arabian (take-off backward with 0.5 twist before salto)?', 'Salto with twist?', 'feet land successively?'], 'code': '4.202'})\n",
      "('177', {'BTcode': '000000', 'questions': ['Tuck salto?', 'Pike salto?', 'Walkover?', 'Arabian (take-off backward with 0.5 twist before salto)?', 'Salto with twist?', 'feet land successively?'], 'code': '4.202'})\n",
      "('178', {'BTcode': '11111', 'questions': ['Salto backward stretched?', 'Double salto?', 'Salto with twist?', 'Salto with integer twist (facing the same direction before takeoff and after landing)?', 'Salto with 2 twist?'], 'code': '5.903'})\n",
      "('179', {'BTcode': '11110', 'questions': ['Salto backward stretched?', 'Double salto?', 'Salto with twist?', 'Salto with integer twist (facing the same direction before takeoff and after landing)?', 'Salto with 2 twist?'], 'code': '5.803'})\n",
      "('180', {'BTcode': '1110', 'questions': ['Salto backward stretched?', 'Double salto?', 'Salto with twist?', 'Salto with integer twist (facing the same direction before takeoff and after landing)?'], 'code': '5.703'})\n",
      "('181', {'BTcode': '110', 'questions': ['Salto backward stretched?', 'Double salto?', 'Salto with twist?'], 'code': '5.603'})\n",
      "('182', {'BTcode': '10111', 'questions': ['Salto backward stretched?', 'Double salto?', 'Salto with integer twist (facing the same direction before takeoff and after landing)?', '2 or more twist?', '3 or more twist?'], 'code': '5.501'})\n",
      "('183', {'BTcode': '10110', 'questions': ['Salto backward stretched?', 'Double salto?', 'Salto with integer twist (facing the same direction before takeoff and after landing)?', '2 or more twist?', '3 or more twist?'], 'code': '5.301'})\n",
      "('184', {'BTcode': '10101', 'questions': ['Salto backward stretched?', 'Double salto?', 'Salto with integer twist (facing the same direction before takeoff and after landing)?', '2 or more twist?', '1 twist?'], 'code': '5.201'})\n",
      "('185', {'BTcode': '10100', 'questions': ['Salto backward stretched?', 'Double salto?', 'Salto with integer twist (facing the same direction before takeoff and after landing)?', '2 or more twist?', '1 twist?'], 'code': '5.101'})\n",
      "('186', {'BTcode': '1001', 'questions': ['Salto backward stretched?', 'Double salto?', 'Salto with integer twist (facing the same direction before takeoff and after landing)?', '3.5 or more twist?'], 'code': '5.601'})\n",
      "('187', {'BTcode': '10001', 'questions': ['Salto backward stretched?', 'Double salto?', 'Salto with integer twist (facing the same direction before takeoff and after landing)?', '3.5 or more twist?', '2.5 twist?'], 'code': '5.401'})\n",
      "('188', {'BTcode': '100001', 'questions': ['Salto backward stretched?', 'Double salto?', 'Salto with integer twist (facing the same direction before takeoff and after landing)?', '3.5 or more twist?', '2.5 twist?', '1.5 twist?'], 'code': '5.301'})\n",
      "('189', {'BTcode': '100000', 'questions': ['Salto backward stretched?', 'Double salto?', 'Salto with integer twist (facing the same direction before takeoff and after landing)?', '3.5 or more twist?', '2.5 twist?', '1.5 twist?'], 'code': '5.201'})\n",
      "('190', {'BTcode': '011111', 'questions': ['Salto backward stretched?', 'Salto backward tucked?', 'Double salto?', 'Salto with twist?', 'Salto with integer twist (facing the same direction before takeoff and after landing)?', '3 twist?'], 'code': '5.902'})\n",
      "('191', {'BTcode': '0111101', 'questions': ['Salto backward stretched?', 'Salto backward tucked?', 'Double salto?', 'Salto with twist?', 'Salto with integer twist (facing the same direction before takeoff and after landing)?', '3 twist?', '2 twist?'], 'code': '5.802'})\n",
      "('192', {'BTcode': '0111100', 'questions': ['Salto backward stretched?', 'Salto backward tucked?', 'Double salto?', 'Salto with twist?', 'Salto with integer twist (facing the same direction before takeoff and after landing)?', '3 twist?', '2 twist?'], 'code': '5.502'})\n",
      "('193', {'BTcode': '011101', 'questions': ['Salto backward stretched?', 'Salto backward tucked?', 'Double salto?', 'Salto with twist?', 'Salto with integer twist (facing the same direction before takeoff and after landing)?', '2.5 twist?'], 'code': '5.802'})\n",
      "('194', {'BTcode': '011100', 'questions': ['Salto backward stretched?', 'Salto backward tucked?', 'Double salto?', 'Salto with twist?', 'Salto with integer twist (facing the same direction before takeoff and after landing)?', '2.5 twist?'], 'code': '5.702'})\n",
      "('195', {'BTcode': '0110', 'questions': ['Salto backward stretched?', 'Salto backward tucked?', 'Double salto?', 'Salto with twist?'], 'code': '5.402'})\n",
      "('196', {'BTcode': '0101', 'questions': ['Salto backward stretched?', 'Salto backward tucked?', 'Double salto?', 'Salto with twist?'], 'code': '5.201'})\n",
      "('197', {'BTcode': '0100', 'questions': ['Salto backward stretched?', 'Salto backward tucked?', 'Double salto?', 'Salto with twist?'], 'code': '5.101'})\n",
      "('198', {'BTcode': '00111', 'questions': ['Salto backward stretched?', 'Salto backward tucked?', 'Salto backward piked?', 'Double salto?', 'Salto with twist?'], 'code': '5.502'})\n",
      "('199', {'BTcode': '00110', 'questions': ['Salto backward stretched?', 'Salto backward tucked?', 'Salto backward piked?', 'Double salto?', 'Salto with twist?'], 'code': '5.402'})\n",
      "('200', {'BTcode': '00100', 'questions': ['Salto backward stretched?', 'Salto backward tucked?', 'Salto backward piked?', 'Double salto?', 'Salto with twist?'], 'code': '5.101'})\n",
      "('201', {'BTcode': '00011', 'questions': ['Salto backward stretched?', 'Salto backward tucked?', 'Salto backward piked?', 'With twist?', '1 twist?'], 'code': '5.304'})\n",
      "('202', {'BTcode': '00010', 'questions': ['Salto backward stretched?', 'Salto backward tucked?', 'Salto backward piked?', 'With twist?', '1 twist?'], 'code': '5.204'})\n",
      "('203', {'BTcode': '0000', 'questions': ['Salto backward stretched?', 'Salto backward tucked?', 'Salto backward piked?', 'With twist?'], 'code': '5.104'})\n",
      "('204', {'BTcode': '111111', 'questions': ['180 degree separation of thighs?', 'Take off with two legs?', 'Are both legs straight when seperated?', 'cross split?', 'body arched and head dropped backward?', 'Take off and land in side position?'], 'code': '2.508'})\n",
      "('205', {'BTcode': '111110', 'questions': ['180 degree separation of thighs?', 'Take off with two legs?', 'Are both legs straight when seperated?', 'cross split?', 'body arched and head dropped backward?', 'Take off and land in side position?'], 'code': '2.408'})\n",
      "('206', {'BTcode': '1111011', 'questions': ['180 degree separation of thighs?', 'Take off with two legs?', 'Are both legs straight when seperated?', 'cross split?', 'body arched and head dropped backward?', 'Leg separation 180 on the diagonal to the floor?', 'Take off and land in side position?'], 'code': '2.208'})\n",
      "('207', {'BTcode': '1111010', 'questions': ['180 degree separation of thighs?', 'Take off with two legs?', 'Are both legs straight when seperated?', 'cross split?', 'body arched and head dropped backward?', 'Leg separation 180 on the diagonal to the floor?', 'Take off and land in side position?'], 'code': '2.108'})\n",
      "('208', {'BTcode': '111100111', 'questions': ['180 degree separation of thighs?', 'Take off with two legs?', 'Are both legs straight when seperated?', 'cross split?', 'body arched and head dropped backward?', 'Leg separation 180 on the diagonal to the floor?', 'With turn?', '0.5 turn?', 'Take off and land in side position?'], 'code': '2.402'})\n",
      "('209', {'BTcode': '111100110', 'questions': ['180 degree separation of thighs?', 'Take off with two legs?', 'Are both legs straight when seperated?', 'cross split?', 'body arched and head dropped backward?', 'Leg separation 180 on the diagonal to the floor?', 'With turn?', '0.5 turn?', 'Take off and land in side position?'], 'code': '2.302'})\n",
      "('210', {'BTcode': '111100101', 'questions': ['180 degree separation of thighs?', 'Take off with two legs?', 'Are both legs straight when seperated?', 'cross split?', 'body arched and head dropped backward?', 'Leg separation 180 on the diagonal to the floor?', 'With turn?', '0.5 turn?', 'Take off and land in side position?'], 'code': '2.502'})\n",
      "('211', {'BTcode': '111100100', 'questions': ['180 degree separation of thighs?', 'Take off with two legs?', 'Are both legs straight when seperated?', 'cross split?', 'body arched and head dropped backward?', 'Leg separation 180 on the diagonal to the floor?', 'With turn?', '0.5 turn?', 'Take off and land in side position?'], 'code': '2.402'})\n",
      "('212', {'BTcode': '11110001', 'questions': ['180 degree separation of thighs?', 'Take off with two legs?', 'Are both legs straight when seperated?', 'cross split?', 'body arched and head dropped backward?', 'Leg separation 180 on the diagonal to the floor?', 'With turn?', 'Take off and land in side position?'], 'code': '2.302'})\n",
      "('213', {'BTcode': '11110000', 'questions': ['180 degree separation of thighs?', 'Take off with two legs?', 'Are both legs straight when seperated?', 'cross split?', 'body arched and head dropped backward?', 'Leg separation 180 on the diagonal to the floor?', 'With turn?', 'Take off and land in side position?'], 'code': '2.202'})\n",
      "('214', {'BTcode': '1110111', 'questions': ['180 degree separation of thighs?', 'Take off with two legs?', 'Are both legs straight when seperated?', 'cross split?', 'With turn?', '0.5 turn?', 'Take off and land in side position?'], 'code': '2.403'})\n",
      "('215', {'BTcode': '1110110', 'questions': ['180 degree separation of thighs?', 'Take off with two legs?', 'Are both legs straight when seperated?', 'cross split?', 'With turn?', '0.5 turn?', 'Take off and land in side position?'], 'code': '2.303'})\n",
      "('216', {'BTcode': '1110101', 'questions': ['180 degree separation of thighs?', 'Take off with two legs?', 'Are both legs straight when seperated?', 'cross split?', 'With turn?', '0.5 turn?', 'Take off and land in side position?'], 'code': '2.503'})\n",
      "('217', {'BTcode': '1110100', 'questions': ['180 degree separation of thighs?', 'Take off with two legs?', 'Are both legs straight when seperated?', 'cross split?', 'With turn?', '0.5 turn?', 'Take off and land in side position?'], 'code': '2.403'})\n",
      "('218', {'BTcode': '111001', 'questions': ['180 degree separation of thighs?', 'Take off with two legs?', 'Are both legs straight when seperated?', 'cross split?', 'With turn?', 'Take off and land in side position?'], 'code': '2.303'})\n",
      "('219', {'BTcode': '111000', 'questions': ['180 degree separation of thighs?', 'Take off with two legs?', 'Are both legs straight when seperated?', 'cross split?', 'With turn?', 'Take off and land in side position?'], 'code': '2.203'})\n",
      "('220', {'BTcode': '1101', 'questions': ['180 degree separation of thighs?', 'Take off with two legs?', 'Are both legs straight when seperated?', 'staggering jump (front leg bent in ring position)?'], 'code': '2.208'})\n",
      "('221', {'BTcode': '11001', 'questions': ['180 degree separation of thighs?', 'Take off with two legs?', 'Are both legs straight when seperated?', 'staggering jump (front leg bent in ring position)?', 'Front leg below horizontal?'], 'code': '2.208'})\n",
      "('222', {'BTcode': '11000', 'questions': ['180 degree separation of thighs?', 'Take off with two legs?', 'Are both legs straight when seperated?', 'staggering jump (front leg bent in ring position)?', 'Front leg below horizontal?'], 'code': '2.408'})\n",
      "('223', {'BTcode': '1011111', 'questions': ['180 degree separation of thighs?', 'Take off with two legs?', 'Are both legs straight when seperated?', 'cross split?', 'With turn?', 'switch leap?', '0.5 turn (facing different directions when take off and after landing)?'], 'code': '2.405'})\n",
      "('224', {'BTcode': '1011110', 'questions': ['180 degree separation of thighs?', 'Take off with two legs?', 'Are both legs straight when seperated?', 'cross split?', 'With turn?', 'switch leap?', '0.5 turn (facing different directions when take off and after landing)?'], 'code': '2.405'})\n",
      "('225', {'BTcode': '10111011', 'questions': ['180 degree separation of thighs?', 'Take off with two legs?', 'Are both legs straight when seperated?', 'cross split?', 'With turn?', 'switch leap?', '0.5 turn (facing different directions when take off and after landing)?', 'Is back leg above horizontal when splitting legs?'], 'code': '2.404'})\n",
      "('226', {'BTcode': '10111010', 'questions': ['180 degree separation of thighs?', 'Take off with two legs?', 'Are both legs straight when seperated?', 'cross split?', 'With turn?', 'switch leap?', '0.5 turn (facing different directions when take off and after landing)?', 'Is back leg above horizontal when splitting legs?'], 'code': '2.301'})\n",
      "('227', {'BTcode': '1011100', 'questions': ['180 degree separation of thighs?', 'Take off with two legs?', 'Are both legs straight when seperated?', 'cross split?', 'With turn?', 'switch leap?', '0.5 turn (facing different directions when take off and after landing)?'], 'code': '2.501'})\n",
      "('228', {'BTcode': '101101', 'questions': ['180 degree separation of thighs?', 'Take off with two legs?', 'Are both legs straight when seperated?', 'cross split?', 'With turn?', 'switch leap?'], 'code': '2.305'})\n",
      "('229', {'BTcode': '1011001', 'questions': ['180 degree separation of thighs?', 'Take off with two legs?', 'Are both legs straight when seperated?', 'cross split?', 'With turn?', 'switch leap?', 'Is the front leg bent when taking off?'], 'code': '2.101'})\n",
      "('230', {'BTcode': '1011000', 'questions': ['180 degree separation of thighs?', 'Take off with two legs?', 'Are both legs straight when seperated?', 'cross split?', 'With turn?', 'switch leap?', 'Is the front leg bent when taking off?'], 'code': '2.201'})\n",
      "('231', {'BTcode': '101011', 'questions': ['180 degree separation of thighs?', 'Take off with two legs?', 'Are both legs straight when seperated?', 'cross split?', '0.5 turn?', 'switch leap?'], 'code': '2.506'})\n",
      "('232', {'BTcode': '101001', 'questions': ['180 degree separation of thighs?', 'Take off with two legs?', 'Are both legs straight when seperated?', 'cross split?', '0.5 turn?', 'switch leap?'], 'code': '2.306'})\n",
      "('233', {'BTcode': '101000', 'questions': ['180 degree separation of thighs?', 'Take off with two legs?', 'Are both legs straight when seperated?', 'cross split?', '0.5 turn?', 'switch leap?'], 'code': '2.206'})\n",
      "('234', {'BTcode': '1001', 'questions': ['180 degree separation of thighs?', 'Take off with two legs?', 'Are both legs straight when seperated?', 'Leap with change of legs?'], 'code': '2.505'})\n",
      "('235', {'BTcode': '1000', 'questions': ['180 degree separation of thighs?', 'Take off with two legs?', 'Are both legs straight when seperated?', 'Leap with change of legs?'], 'code': '2.401'})\n",
      "('236', {'BTcode': '01111', 'questions': ['180 degree separation of thighs?', 'Both legs stay together in flight phase?', 'Tuck?', '1 turn?', 'Take off and land in side position?'], 'code': '2.411'})\n",
      "('237', {'BTcode': '01110', 'questions': ['180 degree separation of thighs?', 'Both legs stay together in flight phase?', 'Tuck?', '1 turn?', 'Take off and land in side position?'], 'code': '2.311'})\n",
      "('238', {'BTcode': '011011', 'questions': ['180 degree separation of thighs?', 'Both legs stay together in flight phase?', 'Tuck?', '1 turn?', '1.5 turn?', 'Take off and land in side position?'], 'code': '2.411'})\n",
      "('239', {'BTcode': '011010', 'questions': ['180 degree separation of thighs?', 'Both legs stay together in flight phase?', 'Tuck?', '1 turn?', '1.5 turn?', 'Take off and land in side position?'], 'code': '2.411'})\n",
      "('240', {'BTcode': '0110011', 'questions': ['180 degree separation of thighs?', 'Both legs stay together in flight phase?', 'Tuck?', '1 turn?', '1.5 turn?', '0.5 turn?', 'Take off and land in side position?'], 'code': '2.311'})\n",
      "('241', {'BTcode': '0110010', 'questions': ['180 degree separation of thighs?', 'Both legs stay together in flight phase?', 'Tuck?', '1 turn?', '1.5 turn?', '0.5 turn?', 'Take off and land in side position?'], 'code': '2.211'})\n",
      "('242', {'BTcode': '011000', 'questions': ['180 degree separation of thighs?', 'Both legs stay together in flight phase?', 'Tuck?', '1 turn?', '1.5 turn?', '0.5 turn?'], 'code': '2.211'})\n",
      "('243', {'BTcode': '010111', 'questions': ['180 degree separation of thighs?', 'Both legs stay together in flight phase?', 'Tuck?', 'Pike jump?', '0.5 turn?', 'Take off and land in side position?'], 'code': '2.307'})\n",
      "('244', {'BTcode': '010110', 'questions': ['180 degree separation of thighs?', 'Both legs stay together in flight phase?', 'Tuck?', 'Pike jump?', '0.5 turn?', 'Take off and land in side position?'], 'code': '2.207'})\n",
      "('245', {'BTcode': '0101011', 'questions': ['180 degree separation of thighs?', 'Both legs stay together in flight phase?', 'Tuck?', 'Pike jump?', '0.5 turn?', '1 turn?', 'Take off and land in side position?'], 'code': '2.507'})\n",
      "('246', {'BTcode': '0101010', 'questions': ['180 degree separation of thighs?', 'Both legs stay together in flight phase?', 'Tuck?', 'Pike jump?', '0.5 turn?', '1 turn?', 'Take off and land in side position?'], 'code': '2.407'})\n",
      "('247', {'BTcode': '0101001', 'questions': ['180 degree separation of thighs?', 'Both legs stay together in flight phase?', 'Tuck?', 'Pike jump?', '0.5 turn?', '1 turn?', '0.75 turn?'], 'code': '2.207'})\n",
      "('248', {'BTcode': '0101000', 'questions': ['180 degree separation of thighs?', 'Both legs stay together in flight phase?', 'Tuck?', 'Pike jump?', '0.5 turn?', '1 turn?', '0.75 turn?'], 'code': '2.107'})\n",
      "('249', {'BTcode': '010011', 'questions': ['180 degree separation of thighs?', 'Both legs stay together in flight phase?', 'Tuck?', 'Pike jump?', 'Stretched jump?', '1 turn?'], 'code': '2.309'})\n",
      "('250', {'BTcode': '0100101', 'questions': ['180 degree separation of thighs?', 'Both legs stay together in flight phase?', 'Tuck?', 'Pike jump?', 'Stretched jump?', '1 turn?', '1.5 turn?'], 'code': '2.409'})\n",
      "('251', {'BTcode': '010001', 'questions': ['180 degree separation of thighs?', 'Both legs stay together in flight phase?', 'Tuck?', 'Pike jump?', 'Stretched jump?', 'sheep jump (jump with upper back arch and head release with feet to head height)?'], 'code': '2.308'})\n",
      "('252', {'BTcode': '00111', 'questions': ['180 degree separation of thighs?', 'Both legs stay together in flight phase?', 'To wolf position (hip angle at 45, knees together)?', 'With turn?', '1 turn?'], 'code': '2.412'})\n",
      "('253', {'BTcode': '001101', 'questions': ['180 degree separation of thighs?', 'Both legs stay together in flight phase?', 'To wolf position (hip angle at 45, knees together)?', 'With turn?', '1 turn?', '1.5 turn?'], 'code': '2.512'})\n",
      "('254', {'BTcode': '001100', 'questions': ['180 degree separation of thighs?', 'Both legs stay together in flight phase?', 'To wolf position (hip angle at 45, knees together)?', 'With turn?', '1 turn?', '1.5 turn?'], 'code': '2.212'})\n",
      "('255', {'BTcode': '00101', 'questions': ['180 degree separation of thighs?', 'Both legs stay together in flight phase?', 'To wolf position (hip angle at 45, knees together)?', 'With turn?', 'Leap with leg change?'], 'code': '2.105'})\n",
      "('256', {'BTcode': '00100', 'questions': ['180 degree separation of thighs?', 'Both legs stay together in flight phase?', 'To wolf position (hip angle at 45, knees together)?', 'With turn?', 'Leap with leg change?'], 'code': '2.112'})\n",
      "('257', {'BTcode': '000111', 'questions': ['180 degree separation of thighs?', 'Both legs stay together in flight phase?', 'To wolf position (hip angle at 45, knees together)?', 'Cat leap (Leap with alternate leg change)?', 'With turn?', '0.5 turn?'], 'code': '2.210'})\n",
      "('258', {'BTcode': '000110', 'questions': ['180 degree separation of thighs?', 'Both legs stay together in flight phase?', 'To wolf position (hip angle at 45, knees together)?', 'Cat leap (Leap with alternate leg change)?', 'With turn?', '0.5 turn?'], 'code': '2.310'})\n",
      "('259', {'BTcode': '00010', 'questions': ['180 degree separation of thighs?', 'Both legs stay together in flight phase?', 'To wolf position (hip angle at 45, knees together)?', 'Cat leap (Leap with alternate leg change)?', 'With turn?'], 'code': '2.110'})\n",
      "('260', {'BTcode': '00001', 'questions': ['180 degree separation of thighs?', 'Both legs stay together in flight phase?', 'To wolf position (hip angle at 45, knees together)?', 'Cat leap (Leap with alternate leg change)?', 'Land in arabesque?'], 'code': '2.204'})\n",
      "('261', {'BTcode': '000001', 'questions': ['180 degree separation of thighs?', 'Both legs stay together in flight phase?', 'To wolf position (hip angle at 45, knees together)?', 'Cat leap (Leap with alternate leg change)?', 'Land in arabesque?', '0.5 turn?'], 'code': '2.209'})\n",
      "('262', {'BTcode': '1111', 'questions': ['Turn with support leg straight?', 'Is free leg straight at or ever above horizontal?', 'Illusion (torso pivots down)?', '0.5 turn (facing different directions before and after turn) ?'], 'code': '3.206'})\n",
      "('263', {'BTcode': '1110', 'questions': ['Turn with support leg straight?', 'Is free leg straight at or ever above horizontal?', 'Illusion (torso pivots down)?', '0.5 turn (facing different directions before and after turn) ?'], 'code': '3.406'})\n",
      "('264', {'BTcode': '11011', 'questions': ['Turn with support leg straight?', 'Is free leg straight at or ever above horizontal?', 'Illusion (torso pivots down)?', 'Free leg held upward, heel over head?', '1.5 turn?'], 'code': '3.405'})\n",
      "('265', {'BTcode': '11010', 'questions': ['Turn with support leg straight?', 'Is free leg straight at or ever above horizontal?', 'Illusion (torso pivots down)?', 'Free leg held upward, heel over head?', '1.5 turn?'], 'code': '3.305'})\n",
      "('266', {'BTcode': '110011', 'questions': ['Turn with support leg straight?', 'Is free leg straight at or ever above horizontal?', 'Illusion (torso pivots down)?', 'Free leg held upward, heel over head?', 'Heel of free leg at horizontal?', '1.5 turn?'], 'code': '3.404'})\n",
      "('267', {'BTcode': '1100101', 'questions': ['Turn with support leg straight?', 'Is free leg straight at or ever above horizontal?', 'Illusion (torso pivots down)?', 'Free leg held upward, heel over head?', 'Heel of free leg at horizontal?', '1.5 turn?', '2 turn?'], 'code': '3.504'})\n",
      "('268', {'BTcode': '1100100', 'questions': ['Turn with support leg straight?', 'Is free leg straight at or ever above horizontal?', 'Illusion (torso pivots down)?', 'Free leg held upward, heel over head?', 'Heel of free leg at horizontal?', '1.5 turn?', '2 turn?'], 'code': '3.304'})\n",
      "('269', {'BTcode': '10111', 'questions': ['Turn with support leg straight?', 'Is free leg straight at or ever above horizontal?', 'Free leg below horizontal?', 'Either 2 turn or 3 turn?', '3 turn?'], 'code': '3.501'})\n",
      "('270', {'BTcode': '10110', 'questions': ['Turn with support leg straight?', 'Is free leg straight at or ever above horizontal?', 'Free leg below horizontal?', 'Either 2 turn or 3 turn?', '3 turn?'], 'code': '3.401'})\n",
      "('271', {'BTcode': '10101', 'questions': ['Turn with support leg straight?', 'Is free leg straight at or ever above horizontal?', 'Free leg below horizontal?', 'Either 2 turn or 3 turn?', '1.5 turn?'], 'code': '3.201'})\n",
      "('272', {'BTcode': '10100', 'questions': ['Turn with support leg straight?', 'Is free leg straight at or ever above horizontal?', 'Free leg below horizontal?', 'Either 2 turn or 3 turn?', '1.5 turn?'], 'code': '3.101'})\n",
      "('273', {'BTcode': '1001', 'questions': ['Turn with support leg straight?', 'Is free leg straight at or ever above horizontal?', 'Free leg below horizontal?', 'Is free leg held backward with hands?'], 'code': '3.403'})\n",
      "('274', {'BTcode': '10001', 'questions': ['Turn with support leg straight?', 'Is free leg straight at or ever above horizontal?', 'Free leg below horizontal?', 'Is free leg held backward with hands?', '1.5 turn?'], 'code': '3.402'})\n",
      "('275', {'BTcode': '10000', 'questions': ['Turn with support leg straight?', 'Is free leg straight at or ever above horizontal?', 'Free leg below horizontal?', 'Is free leg held backward with hands?', '1.5 turn?'], 'code': '3.302'})\n",
      "('276', {'BTcode': '0111', 'questions': ['Turn with support leg straight?', 'Turn in tuck stand?', '1.5 turn or 2.5 turn  (facing different directions before and after turn) ?', '2.5 turn?'], 'code': '3.408'})\n",
      "('277', {'BTcode': '0110', 'questions': ['Turn with support leg straight?', 'Turn in tuck stand?', '1.5 turn or 2.5 turn  (facing different directions before and after turn) ?', '2.5 turn?'], 'code': '3.308'})\n",
      "('278', {'BTcode': '0101', 'questions': ['Turn with support leg straight?', 'Turn in tuck stand?', '1.5 turn or 2.5 turn  (facing different directions before and after turn) ?', '3 turn?'], 'code': '3.408'})\n",
      "('279', {'BTcode': '01001', 'questions': ['Turn with support leg straight?', 'Turn in tuck stand?', '1.5 turn or 2.5 turn  (facing different directions before and after turn) ?', '3 turn?', '2 turn?'], 'code': '3.408'})\n",
      "('280', {'BTcode': '01000', 'questions': ['Turn with support leg straight?', 'Turn in tuck stand?', '1.5 turn or 2.5 turn  (facing different directions before and after turn) ?', '3 turn?', '2 turn?'], 'code': '3.208'})\n",
      "('281', {'BTcode': '0011', 'questions': ['Turn with support leg straight?', 'Turn in tuck stand?', 'Turn on knee?', '1.5 turn?'], 'code': '3.207'})\n",
      "('282', {'BTcode': '00101', 'questions': ['Turn with support leg straight?', 'Turn in tuck stand?', 'Turn on knee?', '1.5 turn?', '2 turn?'], 'code': '3.307'})\n",
      "('283', {'BTcode': '00100', 'questions': ['Turn with support leg straight?', 'Turn in tuck stand?', 'Turn on knee?', '1.5 turn?', '2 turn?'], 'code': '3.107'})\n",
      "('284', {'BTcode': '00011', 'questions': ['Turn with support leg straight?', 'Turn in tuck stand?', 'Turn on knee?', 'Turn in prone position?', '1.5 turn?'], 'code': '3.209'})\n",
      "('285', {'BTcode': '00010', 'questions': ['Turn with support leg straight?', 'Turn in tuck stand?', 'Turn on knee?', 'Turn in prone position?', '1.5 turn?'], 'code': '3.209'})\n",
      "('286', {'BTcode': '0000', 'questions': ['Turn with support leg straight?', 'Turn in tuck stand?', 'Turn on knee?', 'Turn in prone position?'], 'code': '3.409'})\n",
      "('287', {'BTcode': '111', 'questions': ['Salto backward?', 'Tuck salto (knees and hips are bent)?', 'Gainer salto (kick one leg forward before take-off)?'], 'code': '5.313'})\n"
     ]
    }
   ],
   "source": [
    "for i in text.items():\n",
    "    print(i)"
   ]
  },
  {
   "cell_type": "code",
   "execution_count": 244,
   "id": "b357766a",
   "metadata": {},
   "outputs": [],
   "source": [
    "d[4] = {1:'Random'}"
   ]
  },
  {
   "cell_type": "code",
   "execution_count": 246,
   "id": "ae7f4588",
   "metadata": {},
   "outputs": [
    {
     "data": {
      "text/plain": [
       "dict"
      ]
     },
     "execution_count": 246,
     "metadata": {},
     "output_type": "execute_result"
    }
   ],
   "source": [
    "type(d)"
   ]
  },
  {
   "cell_type": "code",
   "execution_count": 247,
   "id": "7933e5a0",
   "metadata": {},
   "outputs": [
    {
     "data": {
      "text/plain": [
       "{1: 'hello', 2: 'hi', 3: 'abhijeet', 4: {1: 'Random'}}"
      ]
     },
     "execution_count": 247,
     "metadata": {},
     "output_type": "execute_result"
    }
   ],
   "source": [
    "d"
   ]
  },
  {
   "cell_type": "code",
   "execution_count": 250,
   "id": "080dd185",
   "metadata": {},
   "outputs": [],
   "source": [
    "a = '1234'"
   ]
  },
  {
   "cell_type": "code",
   "execution_count": 253,
   "id": "9ac4a3a0",
   "metadata": {},
   "outputs": [],
   "source": [
    "with open('dummy.json', 'w') as file:\n",
    "    json.dump(d, file)"
   ]
  },
  {
   "cell_type": "code",
   "execution_count": 255,
   "id": "c79cec3e",
   "metadata": {},
   "outputs": [],
   "source": [
    "string = json.dumps(d)"
   ]
  },
  {
   "cell_type": "code",
   "execution_count": 256,
   "id": "720fee13",
   "metadata": {},
   "outputs": [
    {
     "data": {
      "text/plain": [
       "str"
      ]
     },
     "execution_count": 256,
     "metadata": {},
     "output_type": "execute_result"
    }
   ],
   "source": [
    "type(string)"
   ]
  },
  {
   "cell_type": "code",
   "execution_count": 257,
   "id": "7c62cdc0",
   "metadata": {},
   "outputs": [
    {
     "name": "stdout",
     "output_type": "stream",
     "text": [
      "<class 'dict'>\n"
     ]
    }
   ],
   "source": [
    "with open('dummy.json', 'r') as file:\n",
    "    text = json.load(file)\n",
    "    print(type(text))"
   ]
  },
  {
   "cell_type": "code",
   "execution_count": 266,
   "id": "0e2d1cdc",
   "metadata": {},
   "outputs": [],
   "source": [
    "file = open('dummy_dummy.json', 'w')\n",
    "file.write(json.dumps(d))\n",
    "file.close()"
   ]
  },
  {
   "cell_type": "code",
   "execution_count": 278,
   "id": "a6fe9a30",
   "metadata": {},
   "outputs": [],
   "source": [
    "string = \"Supervised learning algorithms build a mathematical model of a set of data that contains both the inputs and the desired outputs.[39] The data is known as training data, and consists of a set of training examples. Each training example has one or more inputs and the desired output, also known as a supervisory signal. In the mathematical model, each training example is represented by an array or vector, sometimes called a feature vector, and the training data is represented by a matrix. Through iterative optimization of an objective function, supervised learning algorithms learn a function that can be used to predict the output associated with new inputs.[40] An optimal function will allow the algorithm to correctly determine the output for inputs that were not a part of the training data. An algorithm that improves the accuracy of its outputs or predictions over time is said to have learned to perform that task.[20]\""
   ]
  },
  {
   "cell_type": "code",
   "execution_count": 279,
   "id": "15e6c926",
   "metadata": {},
   "outputs": [],
   "source": [
    "d = {}"
   ]
  },
  {
   "cell_type": "code",
   "execution_count": 282,
   "id": "2a2abb14",
   "metadata": {},
   "outputs": [],
   "source": [
    "idx = 0\n",
    "count = 1\n",
    "for i in range(len(string)):\n",
    "    if (string[i] == '.'):\n",
    "        d[count] = string[idx:i] + '.'\n",
    "        idx = i+1\n",
    "        count+=1\n",
    "    else:\n",
    "        pass"
   ]
  },
  {
   "cell_type": "code",
   "execution_count": 283,
   "id": "07b46caf",
   "metadata": {},
   "outputs": [
    {
     "data": {
      "text/plain": [
       "{1: 'Supervised learning algorithms build a mathematical model of a set of data that contains both the inputs and the desired outputs.',\n",
       " 2: '[39] The data is known as training data, and consists of a set of training examples.',\n",
       " 3: ' Each training example has one or more inputs and the desired output, also known as a supervisory signal.',\n",
       " 4: ' In the mathematical model, each training example is represented by an array or vector, sometimes called a feature vector, and the training data is represented by a matrix.',\n",
       " 5: ' Through iterative optimization of an objective function, supervised learning algorithms learn a function that can be used to predict the output associated with new inputs.',\n",
       " 6: '[40] An optimal function will allow the algorithm to correctly determine the output for inputs that were not a part of the training data.',\n",
       " 7: ' An algorithm that improves the accuracy of its outputs or predictions over time is said to have learned to perform that task.'}"
      ]
     },
     "execution_count": 283,
     "metadata": {},
     "output_type": "execute_result"
    }
   ],
   "source": [
    "d"
   ]
  },
  {
   "cell_type": "code",
   "execution_count": 284,
   "id": "d6cba71d",
   "metadata": {},
   "outputs": [
    {
     "name": "stdout",
     "output_type": "stream",
     "text": [
      "['Supervised learning algorithms build a mathematical model of a set of data that contains both the inputs and the desired outputs', '[39] The data is known as training data, and consists of a set of training examples', ' Each training example has one or more inputs and the desired output, also known as a supervisory signal', ' In the mathematical model, each training example is represented by an array or vector, sometimes called a feature vector, and the training data is represented by a matrix', ' Through iterative optimization of an objective function, supervised learning algorithms learn a function that can be used to predict the output associated with new inputs', '[40] An optimal function will allow the algorithm to correctly determine the output for inputs that were not a part of the training data', ' An algorithm that improves the accuracy of its outputs or predictions over time is said to have learned to perform that task', '[20]']\n"
     ]
    }
   ],
   "source": [
    "print(string.split('.'))"
   ]
  },
  {
   "cell_type": "code",
   "execution_count": 285,
   "id": "2813934d",
   "metadata": {},
   "outputs": [
    {
     "name": "stdout",
     "output_type": "stream",
     "text": [
      "Supervised learning algorithms build a mathematical model of a set of data that contains both the inputs and the desired outputs\n",
      "[39] The data is known as training data, and consists of a set of training examples\n",
      " Each training example has one or more inputs and the desired output, also known as a supervisory signal\n",
      " In the mathematical model, each training example is represented by an array or vector, sometimes called a feature vector, and the training data is represented by a matrix\n",
      " Through iterative optimization of an objective function, supervised learning algorithms learn a function that can be used to predict the output associated with new inputs\n",
      "[40] An optimal function will allow the algorithm to correctly determine the output for inputs that were not a part of the training data\n",
      " An algorithm that improves the accuracy of its outputs or predictions over time is said to have learned to perform that task\n",
      "[20]\n"
     ]
    }
   ],
   "source": [
    "for i in string.split('.'):\n",
    "    print(i)"
   ]
  },
  {
   "cell_type": "code",
   "execution_count": null,
   "id": "7db320ca",
   "metadata": {},
   "outputs": [],
   "source": []
  }
 ],
 "metadata": {
  "kernelspec": {
   "display_name": "Python 3 (ipykernel)",
   "language": "python",
   "name": "python3"
  },
  "language_info": {
   "codemirror_mode": {
    "name": "ipython",
    "version": 3
   },
   "file_extension": ".py",
   "mimetype": "text/x-python",
   "name": "python",
   "nbconvert_exporter": "python",
   "pygments_lexer": "ipython3",
   "version": "3.12.7"
  }
 },
 "nbformat": 4,
 "nbformat_minor": 5
}
