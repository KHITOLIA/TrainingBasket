{
 "cells": [
  {
   "cell_type": "code",
   "execution_count": 20,
   "id": "a2df9b13-8f33-4026-9402-e642bc188ed7",
   "metadata": {},
   "outputs": [
    {
     "name": "stdout",
     "output_type": "stream",
     "text": [
      "Number is not prime\n"
     ]
    }
   ],
   "source": [
    "a = 8\n",
    "\n",
    "for i in range(2,a+1):\n",
    "\n",
    "  if a%i==0:\n",
    "\n",
    "    if a==i:\n",
    "\n",
    "      print(\"Number is prime\")\n",
    "\n",
    "    else:\n",
    "\n",
    "      print(\"Number is not prime\")\n",
    "      break\n",
    "\n",
    "  else:\n",
    "      continue\n",
    "      print(\"number is not prime\")"
   ]
  },
  {
   "cell_type": "code",
   "execution_count": null,
   "id": "86ecd47e-2af8-4ce8-b749-8937af5b4da4",
   "metadata": {
    "scrolled": true
   },
   "outputs": [],
   "source": [
    "count = 0\n",
    "n = 4\n",
    "for i in range(1, n+1):\n",
    "    if n%i != 0:\n",
    "        count = count +1\n",
    "if count > 2:\n",
    "    print(\"prime number\")\n",
    "else:\n",
    "    print(\"not a prime\")"
   ]
  },
  {
   "cell_type": "code",
   "execution_count": null,
   "id": "f6c31ff8-450a-459c-9de2-34562a65acc3",
   "metadata": {},
   "outputs": [],
   "source": [
    "def is_prime(num):\n",
    "\n",
    "  if num <= 1:\n",
    "\n",
    "    return False\n",
    "\n",
    "  for i in range(2, num):\n",
    "\n",
    "    if num % i == 0:\n",
    "\n",
    "      return False\n",
    "\n",
    "  return True\n",
    "\n",
    "num = int(input(\"Enter an integer: \"))\n",
    "\n",
    "if is_prime(num):\n",
    "\n",
    "  print(f\"{num} is a prime number\")\n",
    "\n",
    "else:\n",
    "\n",
    "  print(f\"{num} is not a prime number\")"
   ]
  },
  {
   "cell_type": "code",
   "execution_count": 24,
   "id": "543b476e-f122-4475-af56-08b0d34b79f9",
   "metadata": {},
   "outputs": [
    {
     "name": "stdout",
     "output_type": "stream",
     "text": [
      "0 1 1 2 3 5 8 13 "
     ]
    }
   ],
   "source": [
    "a = 0\n",
    "b = 1\n",
    "print(a, end=\" \")\n",
    "print(b, end=\" \")\n",
    "\n",
    "for _ in range(6):\n",
    "\n",
    "    fib = a + b\n",
    "\n",
    "    print(fib, end=\" \")\n",
    "\n",
    "    a = b\n",
    "\n",
    "    b = fib"
   ]
  },
  {
   "cell_type": "code",
   "execution_count": 26,
   "id": "6c77a1ec-a8cb-4d71-afc1-ba0d424f05d0",
   "metadata": {},
   "outputs": [
    {
     "name": "stdout",
     "output_type": "stream",
     "text": [
      "0 1 1 2 3 5 8 13 "
     ]
    }
   ],
   "source": [
    "n=8\n",
    "\n",
    "a=0\n",
    "\n",
    "b=1\n",
    "\n",
    "print(a, b , end=\" \")\n",
    "\n",
    "for i in range(0,n-2):\n",
    "\n",
    "  c=a+b\n",
    "\n",
    "  print(c, end=\" \")\n",
    "\n",
    "  a=b\n",
    "\n",
    "  b=c"
   ]
  },
  {
   "cell_type": "code",
   "execution_count": 27,
   "id": "cbf4d663-100b-4284-ad66-ba4d2cf903c2",
   "metadata": {},
   "outputs": [
    {
     "name": "stdin",
     "output_type": "stream",
     "text": [
      "Enter number of terms:  8\n"
     ]
    },
    {
     "name": "stdout",
     "output_type": "stream",
     "text": [
      "0 1 1 2 3 5 8 13 "
     ]
    }
   ],
   "source": [
    "def fibonacci(n):\n",
    "\n",
    "    a, b = 0, 1\n",
    "\n",
    "    count = 0\n",
    "\n",
    "    while count < n:\n",
    "\n",
    "        print(a, end=\" \")\n",
    "\n",
    "        a, b = b, a + b\n",
    "\n",
    "        count += 1\n",
    "\n",
    "num = int(input(\"Enter number of terms: \"))\n",
    "\n",
    "fibonacci(num)"
   ]
  },
  {
   "cell_type": "code",
   "execution_count": 30,
   "id": "d7db7691-e81e-4c3b-88d8-eddddd89313c",
   "metadata": {},
   "outputs": [
    {
     "name": "stdout",
     "output_type": "stream",
     "text": [
      "The reversed number of 7546 is: 6457\n"
     ]
    }
   ],
   "source": [
    "def rev_num(n):\n",
    "\n",
    "    reversed_num = 0\n",
    "\n",
    "    while n > 0:\n",
    "\n",
    "        digit = n % 10\n",
    "        n = n//10\n",
    "\n",
    "        reversed_num = reversed_num * 10 + digit\n",
    "\n",
    "    return reversed_num\n",
    "\n",
    "number_to_reverse = 7546\n",
    "\n",
    "reversed_result = rev_num(number_to_reverse)\n",
    "\n",
    "print(f\"The reversed number of {number_to_reverse} is: {reversed_result}\")"
   ]
  },
  {
   "cell_type": "code",
   "execution_count": 33,
   "id": "ce8135cf-92c2-4d99-91a1-1a163437d734",
   "metadata": {},
   "outputs": [],
   "source": [
    "n = 12345\n",
    "digit = 0\n",
    "while n > 0:\n",
    "    r = n%10\n",
    "    n = n//10\n",
    "    digit = digit*10 +r"
   ]
  },
  {
   "cell_type": "code",
   "execution_count": 34,
   "id": "64193acd-1737-4f1c-80a5-23952a7f9935",
   "metadata": {},
   "outputs": [
    {
     "data": {
      "text/plain": [
       "54321"
      ]
     },
     "execution_count": 34,
     "metadata": {},
     "output_type": "execute_result"
    }
   ],
   "source": [
    "digit"
   ]
  },
  {
   "cell_type": "code",
   "execution_count": null,
   "id": "04b3d145-fea4-4fe1-9679-a9ea28f0ce0f",
   "metadata": {},
   "outputs": [],
   "source": []
  }
 ],
 "metadata": {
  "kernelspec": {
   "display_name": "Python 3 (ipykernel)",
   "language": "python",
   "name": "python3"
  },
  "language_info": {
   "codemirror_mode": {
    "name": "ipython",
    "version": 3
   },
   "file_extension": ".py",
   "mimetype": "text/x-python",
   "name": "python",
   "nbconvert_exporter": "python",
   "pygments_lexer": "ipython3",
   "version": "3.12.7"
  }
 },
 "nbformat": 4,
 "nbformat_minor": 5
}
