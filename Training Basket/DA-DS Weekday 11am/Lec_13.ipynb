{
 "cells": [
  {
   "cell_type": "code",
   "execution_count": 2,
   "id": "2c009b85-3dc6-4113-9ba6-558222f17190",
   "metadata": {},
   "outputs": [
    {
     "name": "stdin",
     "output_type": "stream",
     "text": [
      "Enter a string:  hellO How High ARE you?\n"
     ]
    },
    {
     "name": "stdout",
     "output_type": "stream",
     "text": [
      "Swapped Case: HELLo hOW hIGH are YOU?\n"
     ]
    }
   ],
   "source": [
    "# Input\n",
    "\n",
    "text = input(\"Enter a string: \")\n",
    "\n",
    "# Output string\n",
    "result = \"\"\n",
    "\n",
    "for char in text:\n",
    "\n",
    "    # Check if character is uppercase\n",
    "\n",
    "    if 'A' <= char <= 'Z':\n",
    "\n",
    "        # Convert to lowercase by adding 32 to ASCII\n",
    "\n",
    "        result += chr(ord(char) + 32)\n",
    "\n",
    "    elif 'a' <= char <= 'z':\n",
    "\n",
    "        # Convert to uppercase by subtracting 32 from ASCII\n",
    "\n",
    "        result += chr(ord(char) - 32)\n",
    "\n",
    "    else:\n",
    "\n",
    "        # For spaces or special characters, keep them unchanged\n",
    "\n",
    "        result += char\n",
    "\n",
    " \n",
    "\n",
    "print(\"Swapped Case:\", result)"
   ]
  },
  {
   "cell_type": "code",
   "execution_count": 3,
   "id": "950d6d9e-9a68-4c30-b7f2-49b6315716b3",
   "metadata": {},
   "outputs": [
    {
     "name": "stdout",
     "output_type": "stream",
     "text": [
      "This Is Data Science\n"
     ]
    }
   ],
   "source": [
    "a = \"This Is Data Science\"\n",
    "\n",
    "b = \"\"\n",
    "\n",
    "for d in a:\n",
    "\n",
    "  if a.islower():\n",
    "\n",
    "    b += d.upper()\n",
    "\n",
    "  elif a.isupper():  \n",
    "\n",
    "    b += d.lower()\n",
    "\n",
    "  else:\n",
    "\n",
    "    b += d\n",
    "\n",
    "print(b)"
   ]
  },
  {
   "cell_type": "code",
   "execution_count": 4,
   "id": "d1846c38-8f99-4705-a676-77453cb3c98e",
   "metadata": {},
   "outputs": [
    {
     "data": {
      "text/plain": [
       "False"
      ]
     },
     "execution_count": 4,
     "metadata": {},
     "output_type": "execute_result"
    }
   ],
   "source": [
    "a.islower()"
   ]
  },
  {
   "cell_type": "code",
   "execution_count": 5,
   "id": "66bb14f9-689f-4667-a666-c7d38e529925",
   "metadata": {},
   "outputs": [
    {
     "data": {
      "text/plain": [
       "True"
      ]
     },
     "execution_count": 5,
     "metadata": {},
     "output_type": "execute_result"
    }
   ],
   "source": [
    "a.upper().isupper()"
   ]
  },
  {
   "cell_type": "code",
   "execution_count": 38,
   "id": "d1310cc2-f2c2-45f9-a425-c367b2dff7c1",
   "metadata": {},
   "outputs": [
    {
     "data": {
      "text/plain": [
       "3"
      ]
     },
     "execution_count": 38,
     "metadata": {},
     "output_type": "execute_result"
    }
   ],
   "source": [
    "a = 'success'\n",
    "a = a.lower()\n",
    "a.count('s')"
   ]
  },
  {
   "cell_type": "code",
   "execution_count": 8,
   "id": "542356a0-60fa-4a11-822f-7dc4a81ababf",
   "metadata": {},
   "outputs": [],
   "source": [
    "# find the max repeating character in my given string"
   ]
  },
  {
   "cell_type": "code",
   "execution_count": 39,
   "id": "c83ede91-2017-458a-b796-1c756836e867",
   "metadata": {},
   "outputs": [],
   "source": [
    "b = {}\n",
    "for i in a:\n",
    "    if i not in b:\n",
    "        b[i] = a.count(i)\n",
    "# print(sorted(b))        "
   ]
  },
  {
   "cell_type": "code",
   "execution_count": 37,
   "id": "6b16aec1-eacd-4f50-937f-e49174441c72",
   "metadata": {},
   "outputs": [
    {
     "data": {
      "text/plain": [
       "{'v': 1, 'a': 2, 'r': 1, 's': 1, 'h': 1}"
      ]
     },
     "execution_count": 37,
     "metadata": {},
     "output_type": "execute_result"
    }
   ],
   "source": [
    "b"
   ]
  },
  {
   "cell_type": "code",
   "execution_count": 24,
   "id": "dbb3a700-798c-4585-b9f9-5ea09a481e22",
   "metadata": {},
   "outputs": [
    {
     "data": {
      "text/plain": [
       "3"
      ]
     },
     "execution_count": 24,
     "metadata": {},
     "output_type": "execute_result"
    }
   ],
   "source": [
    "count_max"
   ]
  },
  {
   "cell_type": "code",
   "execution_count": 31,
   "id": "0c2adf49-af43-42a8-b10d-22b7b34d0d06",
   "metadata": {},
   "outputs": [
    {
     "name": "stdout",
     "output_type": "stream",
     "text": [
      "'s' appears 3 times\n"
     ]
    }
   ],
   "source": [
    "text = \"success\"\n",
    "\n",
    "count = 0\n",
    "\n",
    "for char in text:\n",
    "\n",
    "    if char == 's':\n",
    "\n",
    "        count += 1\n",
    "\n",
    "print(\"'s' appears\", count, \"times\")"
   ]
  },
  {
   "cell_type": "code",
   "execution_count": 33,
   "id": "aaf2e464-b6cb-48fe-a16a-f3645752cbde",
   "metadata": {},
   "outputs": [
    {
     "name": "stdin",
     "output_type": "stream",
     "text": [
      "Enter any word :  varsha\n"
     ]
    },
    {
     "name": "stdout",
     "output_type": "stream",
     "text": [
      "2\n"
     ]
    }
   ],
   "source": [
    "a=input(\"Enter any word : \")\n",
    "\n",
    "a=a.lower()\n",
    "\n",
    "b=0\n",
    "\n",
    "b_=0\n",
    "\n",
    "c=0\n",
    "\n",
    "for i in a:\n",
    "\n",
    "  b=a.count(i)\n",
    "\n",
    "  b_=b\n",
    "\n",
    "  if b>b_:\n",
    "\n",
    "    c=b\n",
    "\n",
    "  else:\n",
    "\n",
    "    c=b_\n",
    "\n",
    "print(c)"
   ]
  },
  {
   "cell_type": "code",
   "execution_count": 57,
   "id": "09823e39-f5e2-4b1a-b388-6dc0b5318a64",
   "metadata": {},
   "outputs": [
    {
     "name": "stdout",
     "output_type": "stream",
     "text": [
      "3\n"
     ]
    }
   ],
   "source": [
    "a = 'success'\n",
    "a = a.lower()\n",
    "b = {}\n",
    "for i in a:\n",
    "    if i not in b:\n",
    "        b[i] = a.count(i)  \n",
    "print(sorted(b.values(), reverse=True)[0])"
   ]
  },
  {
   "cell_type": "code",
   "execution_count": 59,
   "id": "48a69619-4c83-4dc2-843e-5e273698c681",
   "metadata": {},
   "outputs": [
    {
     "name": "stdout",
     "output_type": "stream",
     "text": [
      "Max repeating character : 3\n"
     ]
    }
   ],
   "source": [
    "print(f\"Max repeating character : {sorted(b.values(), reverse=True)[0]}\")"
   ]
  },
  {
   "cell_type": "code",
   "execution_count": 62,
   "id": "a44fba76-d5b0-4448-a95c-d9501bd01a78",
   "metadata": {},
   "outputs": [
    {
     "name": "stdout",
     "output_type": "stream",
     "text": [
      "s\n",
      "u\n",
      "c\n",
      "e\n"
     ]
    }
   ],
   "source": [
    "for i in b.keys():\n",
    "    print(i)"
   ]
  },
  {
   "cell_type": "code",
   "execution_count": 53,
   "id": "693bffe9-8753-4e06-9c53-c7c627f91992",
   "metadata": {},
   "outputs": [
    {
     "name": "stdin",
     "output_type": "stream",
     "text": [
      "Enter a string:  Khitoliya\n"
     ]
    },
    {
     "name": "stdout",
     "output_type": "stream",
     "text": [
      "Max repeating character: i\n",
      "It appears 2 times\n"
     ]
    }
   ],
   "source": [
    "text = input(\"Enter a string: \")\n",
    "\n",
    "freq = {}\n",
    "\n",
    "for ch in text:\n",
    "\n",
    "    if ch in freq:\n",
    "\n",
    "        freq[ch] += 1\n",
    "\n",
    "    else:\n",
    "\n",
    "        freq[ch] = 1\n",
    "\n",
    "max_char = \"\"\n",
    "\n",
    "max_count = 0\n",
    "\n",
    "for ch in freq:\n",
    "\n",
    "    if freq[ch] > max_count:\n",
    "\n",
    "        max_count = freq[ch]\n",
    "\n",
    "        max_char = ch\n",
    "\n",
    "print(\"Max repeating character:\", max_char)\n",
    "\n",
    "print(\"It appears\", max_count, \"times\")"
   ]
  },
  {
   "cell_type": "code",
   "execution_count": 54,
   "id": "2b1ad99d-ee66-43cc-8f13-c342cd98059d",
   "metadata": {},
   "outputs": [],
   "source": [
    "def replace(sentence):\n",
    "\n",
    "    vowels = \"aeiouAEIOU\"\n",
    "\n",
    "    result = \"\"\n",
    "\n",
    " \n",
    "\n",
    "    for char in sentence:\n",
    "\n",
    "        if char in vowels:\n",
    "\n",
    "            result += \"*\"\n",
    "\n",
    "        else:\n",
    "\n",
    "            result += char\n",
    "\n",
    " \n",
    "\n",
    "    print(result)"
   ]
  },
  {
   "cell_type": "code",
   "execution_count": 55,
   "id": "62adcd23-9be7-4c54-a143-6a1358afa1ce",
   "metadata": {},
   "outputs": [
    {
     "name": "stdout",
     "output_type": "stream",
     "text": [
      "*d*c*t**n *s k*y\n"
     ]
    }
   ],
   "source": [
    "replace(\"Education is key\")"
   ]
  },
  {
   "cell_type": "code",
   "execution_count": 64,
   "id": "ac423091-7f10-40fd-b2e2-690dc89bfa59",
   "metadata": {},
   "outputs": [
    {
     "name": "stdout",
     "output_type": "stream",
     "text": [
      "*d*c*t**n *s k*y\n"
     ]
    }
   ],
   "source": [
    "text = \"education is key\"\n",
    "\n",
    "# Vowels list\n",
    "\n",
    "vowels = ['a', 'e', 'i', 'o', 'u']\n",
    "\n",
    "result = \"\"\n",
    "\n",
    "for char in text:\n",
    "\n",
    "    if char in vowels:\n",
    "\n",
    "        result += '*'\n",
    "\n",
    "    else:\n",
    "\n",
    "        result += char\n",
    "\n",
    "print(result)"
   ]
  },
  {
   "cell_type": "code",
   "execution_count": 66,
   "id": "ad70f9bb-96b5-4a95-bb9a-927550a9593c",
   "metadata": {},
   "outputs": [
    {
     "ename": "AttributeError",
     "evalue": "'str' object has no attribute 'append'",
     "output_type": "error",
     "traceback": [
      "\u001b[1;31m---------------------------------------------------------------------------\u001b[0m",
      "\u001b[1;31mAttributeError\u001b[0m                            Traceback (most recent call last)",
      "Cell \u001b[1;32mIn[66], line 10\u001b[0m\n\u001b[0;32m      7\u001b[0m \u001b[38;5;28;01mfor\u001b[39;00m g \u001b[38;5;129;01min\u001b[39;00m b:\n\u001b[0;32m      9\u001b[0m   \u001b[38;5;28;01mif\u001b[39;00m \u001b[38;5;129;01mnot\u001b[39;00m result \u001b[38;5;129;01mor\u001b[39;00m b \u001b[38;5;241m!=\u001b[39m result[\u001b[38;5;241m-\u001b[39m\u001b[38;5;241m1\u001b[39m]:\n\u001b[1;32m---> 10\u001b[0m       result\u001b[38;5;241m.\u001b[39mappend(g) \n\u001b[0;32m     12\u001b[0m \u001b[38;5;28mprint\u001b[39m(\u001b[38;5;124m\"\u001b[39m\u001b[38;5;124m \u001b[39m\u001b[38;5;124m\"\u001b[39m\u001b[38;5;241m.\u001b[39mjoin(result))\n",
      "\u001b[1;31mAttributeError\u001b[0m: 'str' object has no attribute 'append'"
     ]
    }
   ],
   "source": [
    "a = \"this is is a test test\"\n",
    "\n",
    "b = a.split()\n",
    "\n",
    "c = []\n",
    "\n",
    "for g in b:\n",
    "\n",
    "  if not result or b != result[-1]:\n",
    "      result.append(g) \n",
    "\n",
    "print(\" \".join(result))"
   ]
  },
  {
   "cell_type": "code",
   "execution_count": 77,
   "id": "8ae69721-63fe-4f1d-b0fc-04b0e8bc73b3",
   "metadata": {},
   "outputs": [],
   "source": [
    "a = \"this is is a test test\"\n",
    "a = a.lower()\n",
    "l1 = []\n",
    "output = \"\"\n",
    "l = a.split()\n",
    "for i in l:\n",
    "    if i not in l1:\n",
    "        l1.append(i)\n",
    "        output = output + i + \" \"\n",
    "output = output[:-1]"
   ]
  },
  {
   "cell_type": "code",
   "execution_count": 78,
   "id": "36c21f02-6bf1-4c6e-8327-141f6b1f0261",
   "metadata": {},
   "outputs": [
    {
     "data": {
      "text/plain": [
       "'this is a test'"
      ]
     },
     "execution_count": 78,
     "metadata": {},
     "output_type": "execute_result"
    }
   ],
   "source": [
    "output"
   ]
  },
  {
   "cell_type": "code",
   "execution_count": 81,
   "id": "1838f095-c885-48eb-9d4c-e810bedc6ac8",
   "metadata": {},
   "outputs": [
    {
     "name": "stdout",
     "output_type": "stream",
     "text": [
      "97 + 98 + 99 = 294\n"
     ]
    }
   ],
   "source": [
    "text = \"a00bc\"\n",
    "\n",
    "total = 0\n",
    "\n",
    "ascii_values = \"\"\n",
    "\n",
    "for i in range(len(text)):\n",
    "\n",
    "    val = ord(text[i])\n",
    "\n",
    "    total += val\n",
    "\n",
    "    ascii_values += str(val)\n",
    "\n",
    "    if i != len(text) - 1:\n",
    "\n",
    "        ascii_values += \" + \"\n",
    "\n",
    "# Output\n",
    "\n",
    "print(ascii_values, \"=\", total)"
   ]
  },
  {
   "cell_type": "code",
   "execution_count": 83,
   "id": "197a1a5b-ecc9-4fc6-9fdd-6346b6921f7b",
   "metadata": {},
   "outputs": [],
   "source": [
    "st = 'hello'\n",
    "# sum of non repeating ascii values"
   ]
  },
  {
   "cell_type": "code",
   "execution_count": 84,
   "id": "6d87a140-3abf-4b6f-b4ba-63f35ed93569",
   "metadata": {},
   "outputs": [
    {
     "name": "stdout",
     "output_type": "stream",
     "text": [
      "97 = 97\n",
      "97 + 98 = 195\n",
      "97 + 98 + 99 = 294\n"
     ]
    }
   ],
   "source": [
    "a=\"abc\"\n",
    "\n",
    "ascii_list=[]\n",
    "\n",
    "total=0\n",
    "\n",
    "for adi in a:\n",
    "\n",
    "  val=ord(adi)\n",
    "\n",
    "  ascii_list.append(str(val))\n",
    "\n",
    "  total += val\n",
    "\n",
    "  print(\" + \" .join(ascii_list),\"=\",total)"
   ]
  },
  {
   "cell_type": "code",
   "execution_count": 94,
   "id": "63e8cecc-1577-4098-aaf7-24e02291ce8d",
   "metadata": {},
   "outputs": [
    {
     "name": "stdout",
     "output_type": "stream",
     "text": [
      "Sum of ascii values are : 424\n"
     ]
    }
   ],
   "source": [
    "st = 'hello'\n",
    "# sum of non repeating ascii values\n",
    "l = []\n",
    "sum = 0\n",
    "for i in st:\n",
    "    if i not in l:\n",
    "        l.append(i)\n",
    "        sum = sum + ord(i)\n",
    "print(f\"Sum of ascii values are : {sum}\")\n",
    "        \n"
   ]
  },
  {
   "cell_type": "code",
   "execution_count": 93,
   "id": "80e4c618-4983-4e6c-83b0-9d6b361c765a",
   "metadata": {},
   "outputs": [
    {
     "name": "stdout",
     "output_type": "stream",
     "text": [
      "97 + 98 + 99 + 100 = 394\n"
     ]
    }
   ],
   "source": [
    "text = \"abcbcd\"\n",
    "\n",
    "total = 0\n",
    "\n",
    "ascii_values = \"\"\n",
    "\n",
    "taken = \"\"\n",
    "\n",
    "for i in range(len(text)):\n",
    "\n",
    "    ch = text[i]\n",
    "\n",
    "    if ch not in taken:\n",
    "\n",
    "        val = ord(ch)\n",
    "\n",
    "        total += val\n",
    "\n",
    "        ascii_values += str(val)\n",
    "\n",
    "        taken += ch\n",
    "\n",
    "        if len(taken) < len(set(text)):\n",
    "\n",
    "            ascii_values += \" + \"\n",
    "\n",
    "# Output\n",
    "\n",
    "print(ascii_values, \"=\", total)"
   ]
  },
  {
   "cell_type": "code",
   "execution_count": 96,
   "id": "46f22d80-980e-41dc-8371-5d1ded3a5471",
   "metadata": {},
   "outputs": [
    {
     "name": "stdin",
     "output_type": "stream",
     "text": [
      "enter any word :  Hello\n"
     ]
    },
    {
     "name": "stdout",
     "output_type": "stream",
     "text": [
      "392\n"
     ]
    }
   ],
   "source": [
    "word=input(\"enter any word : \")\n",
    "\n",
    "word_=[]\n",
    "\n",
    "sum=0\n",
    "\n",
    "for ch in word:\n",
    "\n",
    "  if ch not in word_:\n",
    "      word_.append(ch)\n",
    "      sum+=ord(ch)\n",
    "\n",
    "print(sum)"
   ]
  },
  {
   "cell_type": "code",
   "execution_count": 99,
   "id": "75e3d1ee-5647-4ea9-a07b-81c69fbe7754",
   "metadata": {},
   "outputs": [
    {
     "name": "stdin",
     "output_type": "stream",
     "text": [
      "enter the value 6\n"
     ]
    },
    {
     "name": "stdout",
     "output_type": "stream",
     "text": [
      "1\n",
      "22\n",
      "333\n",
      "4444\n",
      "55555\n",
      "666666\n"
     ]
    }
   ],
   "source": [
    "\n",
    "n=int(input(\"enter the value\"))\n",
    "\n",
    "for i in range(1, n+1):\n",
    "\n",
    "  print(str(i)*i)"
   ]
  },
  {
   "cell_type": "code",
   "execution_count": 100,
   "id": "a951ebe4-3aab-419c-b8ab-d2757e1a8a29",
   "metadata": {},
   "outputs": [
    {
     "name": "stdout",
     "output_type": "stream",
     "text": [
      "1\n",
      "22\n",
      "333\n",
      "4444\n",
      "55555\n"
     ]
    }
   ],
   "source": [
    "n = 5  \n",
    "for i in range(1, n + 1):\n",
    "\n",
    "    for j in range(i):\n",
    "\n",
    "        print(i, end=\"\")\n",
    "\n",
    "    print()"
   ]
  },
  {
   "cell_type": "code",
   "execution_count": 101,
   "id": "15aeae6c-b84a-4212-b787-2a01c1c6230d",
   "metadata": {},
   "outputs": [],
   "source": [
    "a = 3"
   ]
  },
  {
   "cell_type": "code",
   "execution_count": 102,
   "id": "13d86fa6-45d2-440f-8290-fc2fdaab96ec",
   "metadata": {},
   "outputs": [
    {
     "name": "stdout",
     "output_type": "stream",
     "text": [
      "3\n"
     ]
    }
   ],
   "source": []
  },
  {
   "cell_type": "code",
   "execution_count": null,
   "id": "1fd4e2cf-60d2-4911-b923-926b634714c3",
   "metadata": {},
   "outputs": [],
   "source": []
  }
 ],
 "metadata": {
  "kernelspec": {
   "display_name": "Python 3 (ipykernel)",
   "language": "python",
   "name": "python3"
  },
  "language_info": {
   "codemirror_mode": {
    "name": "ipython",
    "version": 3
   },
   "file_extension": ".py",
   "mimetype": "text/x-python",
   "name": "python",
   "nbconvert_exporter": "python",
   "pygments_lexer": "ipython3",
   "version": "3.12.7"
  }
 },
 "nbformat": 4,
 "nbformat_minor": 5
}
