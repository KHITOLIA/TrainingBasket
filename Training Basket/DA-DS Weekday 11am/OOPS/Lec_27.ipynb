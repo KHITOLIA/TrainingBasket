{
 "cells": [
  {
   "cell_type": "markdown",
   "id": "02613a9c-f2cd-4b78-ab4b-ec2f8db661b0",
   "metadata": {},
   "source": [
    "# Classes"
   ]
  },
  {
   "cell_type": "code",
   "execution_count": 11,
   "id": "0c4d919a-48ad-4696-bbfb-ca0d10325946",
   "metadata": {},
   "outputs": [],
   "source": [
    "class Person:\n",
    "    # instance variable\n",
    "    def __init__(self, name, age):\n",
    "        self.p_name = name\n",
    "        self.p_age = age\n",
    "    def hello(self):\n",
    "        print(self.p_name, self.p_age)"
   ]
  },
  {
   "cell_type": "code",
   "execution_count": 12,
   "id": "b5c7bf41-1e1a-4650-b42b-843a32db2714",
   "metadata": {},
   "outputs": [],
   "source": [
    "a = Person('Aditya', 32)"
   ]
  },
  {
   "cell_type": "code",
   "execution_count": 13,
   "id": "c8724372-8d96-4b73-9f80-ae97407bb6b3",
   "metadata": {},
   "outputs": [
    {
     "name": "stdout",
     "output_type": "stream",
     "text": [
      "Aditya 32\n"
     ]
    }
   ],
   "source": [
    "a.hello()"
   ]
  },
  {
   "cell_type": "code",
   "execution_count": 18,
   "id": "5fbbb73c-6b5e-4e5a-8a60-9611e0e6b18d",
   "metadata": {},
   "outputs": [],
   "source": [
    "class Laptop:\n",
    "    def __init__(self,name, model, processor, ram):\n",
    "        self.L_name = name\n",
    "        self.L_model = model\n",
    "        self.L_proc = processor\n",
    "        self.L_ram = ram\n",
    "        print(self.L_name, self.L_model, self.L_proc, self.L_ram)"
   ]
  },
  {
   "cell_type": "code",
   "execution_count": 26,
   "id": "3522e5de-1142-433c-b279-e49dc4a20229",
   "metadata": {},
   "outputs": [
    {
     "name": "stdout",
     "output_type": "stream",
     "text": [
      "HP victus i7 32gb\n",
      "Apple Macbook pro M4 16gb\n",
      "linux abc xyz 24gb\n"
     ]
    }
   ],
   "source": [
    "l1 = Laptop('HP', 'victus', 'i7', '32gb')\n",
    "l2 = Laptop('Apple', 'Macbook pro', 'M4', '16gb')\n",
    "l3 = Laptop(\"linux\", 'abc', 'xyz', '24gb')"
   ]
  },
  {
   "cell_type": "code",
   "execution_count": 29,
   "id": "cad15c49-30ef-4142-8a5c-ec6b656aaf50",
   "metadata": {},
   "outputs": [
    {
     "data": {
      "text/plain": [
       "<__main__.Laptop at 0x1eb2cebc140>"
      ]
     },
     "execution_count": 29,
     "metadata": {},
     "output_type": "execute_result"
    }
   ],
   "source": [
    "l3"
   ]
  },
  {
   "cell_type": "code",
   "execution_count": 42,
   "id": "9cc445b9-e6b9-4f52-836c-63451482cbda",
   "metadata": {},
   "outputs": [],
   "source": [
    "class Car:\n",
    "    def __init__(self, model, mileage):\n",
    "        self.model = model\n",
    "        self.mileage = mileage\n",
    "\n",
    "    def __add__(self, other):\n",
    "        return (self.mileage) + (other.mileage)\n",
    "\n",
    "    def __eq__(self, other):\n",
    "        return int(self.mileage) == int(other.mileage)\n",
    "\n",
    "    def __str__(self):\n",
    "        return \"{} {} \".format(self.mileage, self.model)"
   ]
  },
  {
   "cell_type": "code",
   "execution_count": 43,
   "id": "7c6e2261-7a55-4443-aea5-d1dbbbea4b3b",
   "metadata": {},
   "outputs": [],
   "source": [
    "c1 = Car('BMW', 10.68)\n",
    "c2 = Car('Audi', 8.39)"
   ]
  },
  {
   "cell_type": "code",
   "execution_count": 44,
   "id": "3c1fc27f-55f3-481d-a89d-86a25244b682",
   "metadata": {},
   "outputs": [
    {
     "data": {
      "text/plain": [
       "False"
      ]
     },
     "execution_count": 44,
     "metadata": {},
     "output_type": "execute_result"
    }
   ],
   "source": [
    "c1 == c2"
   ]
  },
  {
   "cell_type": "code",
   "execution_count": 45,
   "id": "3d96af01-235b-4f01-8930-33cea2918dab",
   "metadata": {},
   "outputs": [
    {
     "name": "stdout",
     "output_type": "stream",
     "text": [
      "10.68 BMW \n"
     ]
    }
   ],
   "source": [
    "print(c1)"
   ]
  },
  {
   "cell_type": "code",
   "execution_count": 46,
   "id": "93c0bcd1-2055-4c7d-b5f1-478e205067b9",
   "metadata": {},
   "outputs": [
    {
     "name": "stdout",
     "output_type": "stream",
     "text": [
      "19.07\n"
     ]
    }
   ],
   "source": [
    "print(c1+c2)"
   ]
  },
  {
   "cell_type": "code",
   "execution_count": 47,
   "id": "b7db8e95-6517-4037-b2e2-c2094bf6c869",
   "metadata": {},
   "outputs": [
    {
     "data": {
      "text/plain": [
       "'10.68 BMW '"
      ]
     },
     "execution_count": 47,
     "metadata": {},
     "output_type": "execute_result"
    }
   ],
   "source": [
    "str(c1)"
   ]
  },
  {
   "cell_type": "code",
   "execution_count": 78,
   "id": "40529f96-dbe5-4c02-854e-9e92351ffc6c",
   "metadata": {},
   "outputs": [],
   "source": [
    "class Bike:\n",
    "    def __init__(self, b_name, b_model, b_kmpl):\n",
    "        self.name = b_name\n",
    "        self.model = b_model\n",
    "        self.kmpl = b_kmpl\n",
    "\n",
    "    def discount(self, price):\n",
    "        if price > 80000:\n",
    "            price = price*80/100\n",
    "            return price\n",
    "        else:\n",
    "            return price"
   ]
  },
  {
   "cell_type": "code",
   "execution_count": 61,
   "id": "06a941ff-20f8-4a39-8195-dcf5f7fbb139",
   "metadata": {},
   "outputs": [],
   "source": [
    "b1 = Bike('Royal Enfield','Classic', 26)"
   ]
  },
  {
   "cell_type": "code",
   "execution_count": 62,
   "id": "0ae8aeff-7d2c-4256-ac2b-9476d3352067",
   "metadata": {},
   "outputs": [
    {
     "data": {
      "text/plain": [
       "'Royal Enfield'"
      ]
     },
     "execution_count": 62,
     "metadata": {},
     "output_type": "execute_result"
    }
   ],
   "source": [
    "b1.name"
   ]
  },
  {
   "cell_type": "code",
   "execution_count": 67,
   "id": "2bdc6cac-3561-44c6-b0a9-cd08b0309e60",
   "metadata": {},
   "outputs": [
    {
     "data": {
      "text/plain": [
       "560000.0"
      ]
     },
     "execution_count": 67,
     "metadata": {},
     "output_type": "execute_result"
    }
   ],
   "source": [
    "b1.discount(700000)"
   ]
  },
  {
   "cell_type": "code",
   "execution_count": 69,
   "id": "8cf74d7b-07e5-4e4b-8a57-a2b2a355fa33",
   "metadata": {},
   "outputs": [
    {
     "data": {
      "text/plain": [
       "560000.0"
      ]
     },
     "execution_count": 69,
     "metadata": {},
     "output_type": "execute_result"
    }
   ],
   "source": [
    "700000*80/100"
   ]
  },
  {
   "cell_type": "code",
   "execution_count": 70,
   "id": "7253bc2f-9471-439c-a546-28b8bd051896",
   "metadata": {},
   "outputs": [],
   "source": [
    "# Make a class for 3dogs -> breed, trick"
   ]
  },
  {
   "cell_type": "code",
   "execution_count": 73,
   "id": "7182a83a-19ad-4a6a-a138-b0ca98fd62ae",
   "metadata": {},
   "outputs": [],
   "source": [
    "class Dogs:\n",
    "\n",
    "  def  __init__(self,name,breed):\n",
    "\n",
    "    self.name = name\n",
    "\n",
    "    self.breed = breed\n",
    "\n",
    "  def play(self):\n",
    "\n",
    "    print(self.name, self.breed)\n",
    "\n",
    "  def sleep(self):  \n",
    "\n",
    "    print(self.name,self.breed)\n",
    "\n",
    "Dogs1 = Dogs('bosco','germon')\n",
    "\n",
    "Dogs2 = Dogs('maxii','haski')"
   ]
  },
  {
   "cell_type": "code",
   "execution_count": 76,
   "id": "af1ef95b-cf9c-4ba7-9e8c-eaf4e1238fdf",
   "metadata": {},
   "outputs": [
    {
     "name": "stdout",
     "output_type": "stream",
     "text": [
      "Breed: Labrador, Trick: Fetches ball\n",
      "Breed: German Shepherd, Trick: Guards house\n",
      "Breed: Poodle, Trick: Dances on two legs\n"
     ]
    }
   ],
   "source": [
    "class Dog:\n",
    "\n",
    "    def __init__(self, breed, trick):\n",
    "\n",
    "        self.breed = breed\n",
    "\n",
    "        self.trick = trick\n",
    "\n",
    " \n",
    "\n",
    "    def show_info(self):\n",
    "\n",
    "        print(f\"Breed: {self.breed}, Trick: {self.trick}\")\n",
    "\n",
    " \n",
    "\n",
    "dog1 = Dog(\"Labrador\", \"Fetches ball\")\n",
    "\n",
    "dog2 = Dog(\"German Shepherd\", \"Guards house\")\n",
    "\n",
    "dog3 = Dog(\"Poodle\", \"Dances on two legs\")\n",
    "\n",
    " \n",
    "\n",
    "dog1.show_info()\n",
    "\n",
    "dog2.show_info()\n",
    "\n",
    "dog3.show_info()"
   ]
  },
  {
   "cell_type": "code",
   "execution_count": null,
   "id": "79179fd6-d61d-4431-8725-18c8bff5f0bf",
   "metadata": {},
   "outputs": [],
   "source": []
  }
 ],
 "metadata": {
  "kernelspec": {
   "display_name": "Python 3 (ipykernel)",
   "language": "python",
   "name": "python3"
  },
  "language_info": {
   "codemirror_mode": {
    "name": "ipython",
    "version": 3
   },
   "file_extension": ".py",
   "mimetype": "text/x-python",
   "name": "python",
   "nbconvert_exporter": "python",
   "pygments_lexer": "ipython3",
   "version": "3.12.7"
  }
 },
 "nbformat": 4,
 "nbformat_minor": 5
}
