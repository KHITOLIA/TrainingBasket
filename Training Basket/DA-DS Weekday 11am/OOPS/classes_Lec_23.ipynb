{
 "cells": [
  {
   "cell_type": "code",
   "execution_count": 3,
   "id": "d62f1b2e-7174-430a-a84f-a655e67258c5",
   "metadata": {},
   "outputs": [],
   "source": [
    "class Student:\n",
    "    mentor = 'Tushar' # attributes\n",
    "    age = 30"
   ]
  },
  {
   "cell_type": "code",
   "execution_count": 4,
   "id": "d64f2ee5-47cc-4b7d-a9b1-7af51cb3ae2d",
   "metadata": {},
   "outputs": [],
   "source": [
    "a = Student() # aditya\n",
    "b = Student() # Heemang"
   ]
  },
  {
   "cell_type": "code",
   "execution_count": 5,
   "id": "f4991ea5-68fd-4cc5-8c7b-0459f8362433",
   "metadata": {},
   "outputs": [
    {
     "data": {
      "text/plain": [
       "'Tushar'"
      ]
     },
     "execution_count": 5,
     "metadata": {},
     "output_type": "execute_result"
    }
   ],
   "source": [
    "a.mentor"
   ]
  },
  {
   "cell_type": "code",
   "execution_count": 6,
   "id": "a23df9f7-c49d-4994-9195-575754553fbc",
   "metadata": {},
   "outputs": [
    {
     "data": {
      "text/plain": [
       "'Tushar'"
      ]
     },
     "execution_count": 6,
     "metadata": {},
     "output_type": "execute_result"
    }
   ],
   "source": [
    "b.mentor"
   ]
  },
  {
   "cell_type": "code",
   "execution_count": 7,
   "id": "1a96b97b-7514-4060-8fa3-f12af208426c",
   "metadata": {},
   "outputs": [
    {
     "data": {
      "text/plain": [
       "30"
      ]
     },
     "execution_count": 7,
     "metadata": {},
     "output_type": "execute_result"
    }
   ],
   "source": [
    "a.age"
   ]
  },
  {
   "cell_type": "code",
   "execution_count": 8,
   "id": "4864041d-1567-4317-9206-8af3d03c8438",
   "metadata": {},
   "outputs": [
    {
     "data": {
      "text/plain": [
       "30"
      ]
     },
     "execution_count": 8,
     "metadata": {},
     "output_type": "execute_result"
    }
   ],
   "source": [
    "b.age"
   ]
  },
  {
   "cell_type": "code",
   "execution_count": 78,
   "id": "e7402314-a77e-4d1a-809b-881e1c5e741d",
   "metadata": {},
   "outputs": [],
   "source": [
    "class student:\n",
    "    mentor = 'Tushar'\n",
    "    std_name = None\n",
    "    def hello(self,name):\n",
    "        self.std_name = name\n",
    "        print(f\"Name of student : {self.std_name}\")"
   ]
  },
  {
   "cell_type": "code",
   "execution_count": 79,
   "id": "1e21908c-be15-411e-a362-8ec2fbca6e3b",
   "metadata": {},
   "outputs": [],
   "source": [
    "a = student()"
   ]
  },
  {
   "cell_type": "code",
   "execution_count": 81,
   "id": "c75d14ad-a63b-4ef6-9e5a-5979188c54c6",
   "metadata": {},
   "outputs": [
    {
     "name": "stdout",
     "output_type": "stream",
     "text": [
      "Name of student : varsha\n"
     ]
    }
   ],
   "source": [
    "a.hello('varsha')"
   ]
  },
  {
   "cell_type": "code",
   "execution_count": 82,
   "id": "ad094400-24db-47c1-8671-3aea8e6b3ca7",
   "metadata": {},
   "outputs": [],
   "source": [
    "class Person:\n",
    "    alive = True\n",
    "    age = 22\n",
    "    name = None\n",
    "\n",
    "    def hello(self, name_person):\n",
    "        self.name = name_person\n",
    "        print('Hello i am :', self.alive, self.age, self.name)"
   ]
  },
  {
   "cell_type": "code",
   "execution_count": 84,
   "id": "89439db4-29f8-4788-b9f1-8acde1826f08",
   "metadata": {},
   "outputs": [
    {
     "name": "stdout",
     "output_type": "stream",
     "text": [
      "Hello i am : True 22 Tushar\n"
     ]
    }
   ],
   "source": [
    "a = Person()\n",
    "a.hello('Tushar')"
   ]
  },
  {
   "cell_type": "code",
   "execution_count": 31,
   "id": "825b92c7-0441-4cf3-b9d2-6c700ba6f4fb",
   "metadata": {},
   "outputs": [],
   "source": [
    "class Person:\n",
    "    age = 22\n",
    "    name = None\n",
    "\n",
    "    def hello(self, name_p, age_p):\n",
    "        self.name = name_p\n",
    "        self.age = age_p\n",
    "        print('Hello i am :', self.name,self.age,'yr old')"
   ]
  },
  {
   "cell_type": "code",
   "execution_count": 27,
   "id": "62de7af5-5721-4db3-b9c3-ec6075f5ea55",
   "metadata": {},
   "outputs": [],
   "source": [
    "a = Person()"
   ]
  },
  {
   "cell_type": "code",
   "execution_count": 28,
   "id": "f3c75e3f-2c07-4fe7-99f6-3d9d7c85ed9e",
   "metadata": {},
   "outputs": [
    {
     "name": "stdout",
     "output_type": "stream",
     "text": [
      "Hello i am : Heemang 20 yr old\n"
     ]
    }
   ],
   "source": [
    "a.hello('Heemang', 20)"
   ]
  },
  {
   "cell_type": "code",
   "execution_count": 30,
   "id": "cc14f314-4f43-4c02-84b9-205bddc4c1ad",
   "metadata": {},
   "outputs": [
    {
     "name": "stdout",
     "output_type": "stream",
     "text": [
      "Hello i am : Aditya 21 yr old\n"
     ]
    }
   ],
   "source": [
    "b = Person()\n",
    "b.hello('Aditya', 21)"
   ]
  },
  {
   "cell_type": "code",
   "execution_count": 90,
   "id": "a6bffd59-dc10-49cd-a88f-2506721566cd",
   "metadata": {},
   "outputs": [],
   "source": [
    "class Person:\n",
    "    # instance variable \n",
    "    # age = 22\n",
    "    # name = None\n",
    "    # salary = None\n",
    "    # Dunders methods (Magic functions)\n",
    "    def __init__(self, name_p, age_p):\n",
    "        self.name = name_p\n",
    "        self.age = age_p\n",
    "        print(f\"Hello my name is {self.name} and i'm {self.age}yr old \")"
   ]
  },
  {
   "cell_type": "code",
   "execution_count": 91,
   "id": "fc6af6ce-abeb-435f-b544-6887b5bc71f4",
   "metadata": {},
   "outputs": [
    {
     "name": "stdout",
     "output_type": "stream",
     "text": [
      "Hello my name is Heemang and i'm 20yr old \n"
     ]
    }
   ],
   "source": [
    "a = Person('Heemang', 20)"
   ]
  },
  {
   "cell_type": "code",
   "execution_count": 92,
   "id": "76a096fb-a55e-4811-869a-eea38fe7c774",
   "metadata": {},
   "outputs": [
    {
     "name": "stdout",
     "output_type": "stream",
     "text": [
      "Hello my name is Aditya and i'm 21yr old \n"
     ]
    }
   ],
   "source": [
    "b = Person('Aditya', 21)"
   ]
  },
  {
   "cell_type": "code",
   "execution_count": 4,
   "id": "077db23e-d047-4467-a3c7-ee12b40a3afe",
   "metadata": {},
   "outputs": [],
   "source": [
    "l = [1,2,3,4]\n",
    "l.append(12)"
   ]
  },
  {
   "cell_type": "code",
   "execution_count": 2,
   "id": "91bfe28e-77ca-4ef2-ae08-d5f39214ce0e",
   "metadata": {},
   "outputs": [
    {
     "name": "stdout",
     "output_type": "stream",
     "text": [
      "<class 'list'>\n"
     ]
    }
   ],
   "source": [
    "print(type(l))"
   ]
  },
  {
   "cell_type": "code",
   "execution_count": 5,
   "id": "014ab062-86b2-40a4-b926-c9c51a50cc45",
   "metadata": {},
   "outputs": [],
   "source": [
    "l1 = [12,54, 23, 45]\n",
    "l1.append(23\n",
    "         )"
   ]
  },
  {
   "cell_type": "code",
   "execution_count": 8,
   "id": "b8916a7a-46aa-4942-bd42-9dafcb026c00",
   "metadata": {},
   "outputs": [],
   "source": [
    "a = [1]"
   ]
  },
  {
   "cell_type": "code",
   "execution_count": 9,
   "id": "cd93d177-b21e-4e26-9102-a7dc19c24657",
   "metadata": {},
   "outputs": [
    {
     "name": "stdout",
     "output_type": "stream",
     "text": [
      "<class 'list'>\n"
     ]
    }
   ],
   "source": [
    "print(type(a))"
   ]
  },
  {
   "cell_type": "code",
   "execution_count": 12,
   "id": "87fe4638-c2cf-431b-8e5c-57e560ff203c",
   "metadata": {},
   "outputs": [],
   "source": [
    "l1 = [12,54, 23, 45]\n",
    "l1.append(90)"
   ]
  },
  {
   "cell_type": "code",
   "execution_count": 13,
   "id": "fb8d7a74-4143-445e-9554-c866306eaa81",
   "metadata": {},
   "outputs": [
    {
     "data": {
      "text/plain": [
       "[12, 54, 23, 45, 90]"
      ]
     },
     "execution_count": 13,
     "metadata": {},
     "output_type": "execute_result"
    }
   ],
   "source": [
    "l1"
   ]
  },
  {
   "cell_type": "code",
   "execution_count": 14,
   "id": "2c96a736-c211-44ec-9d49-d7e67a95a28a",
   "metadata": {},
   "outputs": [],
   "source": [
    "l = 'training basket'"
   ]
  },
  {
   "cell_type": "code",
   "execution_count": 15,
   "id": "4111b4b7-8ca9-40e2-aa29-e3a6899d7893",
   "metadata": {},
   "outputs": [
    {
     "data": {
      "text/plain": [
       "['training', 'basket']"
      ]
     },
     "execution_count": 15,
     "metadata": {},
     "output_type": "execute_result"
    }
   ],
   "source": [
    "l.split()"
   ]
  },
  {
   "cell_type": "code",
   "execution_count": 19,
   "id": "15e69068-c3d6-4259-a679-5905984674cc",
   "metadata": {},
   "outputs": [],
   "source": [
    "a = []\n",
    "for i in range(len(l)):\n",
    "    if l[i] == ' ':\n",
    "        a.append(l[:i])\n",
    "        a.append(l[i+1:])"
   ]
  },
  {
   "cell_type": "code",
   "execution_count": 20,
   "id": "486ade86-3fdd-4904-ab6b-f79faa20dea0",
   "metadata": {},
   "outputs": [
    {
     "data": {
      "text/plain": [
       "['training', 'basket']"
      ]
     },
     "execution_count": 20,
     "metadata": {},
     "output_type": "execute_result"
    }
   ],
   "source": [
    "a"
   ]
  },
  {
   "cell_type": "code",
   "execution_count": 62,
   "id": "328bd3fb-b951-4d8c-bdcb-28540cd3f2ec",
   "metadata": {},
   "outputs": [],
   "source": [
    "l = '    hello training'"
   ]
  },
  {
   "cell_type": "code",
   "execution_count": 41,
   "id": "034a8d3c-9feb-4bae-b06c-6382ef9b2ac3",
   "metadata": {},
   "outputs": [
    {
     "data": {
      "text/plain": [
       "['hello', 'training']"
      ]
     },
     "execution_count": 41,
     "metadata": {},
     "output_type": "execute_result"
    }
   ],
   "source": [
    "l.split()"
   ]
  },
  {
   "cell_type": "code",
   "execution_count": 64,
   "id": "0c5bff96-d1de-48d3-84da-fc492f37b426",
   "metadata": {},
   "outputs": [],
   "source": [
    "a = ''\n",
    "for i in range(1):\n",
    "    pass"
   ]
  },
  {
   "cell_type": "code",
   "execution_count": 60,
   "id": "64184d84-d76c-47c3-847f-0c66ce3ddf85",
   "metadata": {},
   "outputs": [],
   "source": [
    "combined = ' '.join(l.split())"
   ]
  },
  {
   "cell_type": "code",
   "execution_count": 61,
   "id": "707b0e1d-2810-4383-9f57-3eac91ea6515",
   "metadata": {},
   "outputs": [
    {
     "data": {
      "text/plain": [
       "'hello training'"
      ]
     },
     "execution_count": 61,
     "metadata": {},
     "output_type": "execute_result"
    }
   ],
   "source": [
    "combined"
   ]
  },
  {
   "cell_type": "code",
   "execution_count": 65,
   "id": "2cfa14f0-cc0c-447f-966d-6b0e8c32f57c",
   "metadata": {},
   "outputs": [
    {
     "name": "stdin",
     "output_type": "stream",
     "text": [
      "enter  tushar\n"
     ]
    },
    {
     "data": {
      "text/plain": [
       "'tushar'"
      ]
     },
     "execution_count": 65,
     "metadata": {},
     "output_type": "execute_result"
    }
   ],
   "source": [
    "input(\"enter \")"
   ]
  },
  {
   "cell_type": "code",
   "execution_count": 71,
   "id": "781bf939-5a62-47ba-91d7-c0d6f4a10f28",
   "metadata": {},
   "outputs": [
    {
     "data": {
      "text/plain": [
       "True"
      ]
     },
     "execution_count": 71,
     "metadata": {},
     "output_type": "execute_result"
    }
   ],
   "source": [
    "isinstance('Tushar', str)"
   ]
  },
  {
   "cell_type": "code",
   "execution_count": 76,
   "id": "f27e8fbf-734c-451c-9641-4cdaf2ad9412",
   "metadata": {},
   "outputs": [],
   "source": [
    "l1.insert(3, 4)"
   ]
  },
  {
   "cell_type": "code",
   "execution_count": 77,
   "id": "d35dd814-d573-45b1-a26e-2e1898e9f5c5",
   "metadata": {},
   "outputs": [
    {
     "data": {
      "text/plain": [
       "[4, 12, 54, 4, 23, 45, 90]"
      ]
     },
     "execution_count": 77,
     "metadata": {},
     "output_type": "execute_result"
    }
   ],
   "source": [
    "l1"
   ]
  },
  {
   "cell_type": "code",
   "execution_count": null,
   "id": "961f5150-7e99-4431-93ce-061b3ffe823c",
   "metadata": {},
   "outputs": [],
   "source": []
  }
 ],
 "metadata": {
  "kernelspec": {
   "display_name": "Python 3 (ipykernel)",
   "language": "python",
   "name": "python3"
  },
  "language_info": {
   "codemirror_mode": {
    "name": "ipython",
    "version": 3
   },
   "file_extension": ".py",
   "mimetype": "text/x-python",
   "name": "python",
   "nbconvert_exporter": "python",
   "pygments_lexer": "ipython3",
   "version": "3.12.7"
  }
 },
 "nbformat": 4,
 "nbformat_minor": 5
}
