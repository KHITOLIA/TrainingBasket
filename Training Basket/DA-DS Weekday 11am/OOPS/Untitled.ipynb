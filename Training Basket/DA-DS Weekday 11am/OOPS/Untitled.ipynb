{
 "cells": [
  {
   "cell_type": "code",
   "execution_count": 23,
   "id": "cf102613-a3dc-4d43-81b3-4ba5cba6b1a3",
   "metadata": {},
   "outputs": [],
   "source": [
    "class Dog:\n",
    "   \n",
    "    def __init__(self, d_breed, d_name):\n",
    "        self.breed = d_breed\n",
    "        self.name = d_name\n",
    "        self.tricks = []\n",
    "\n",
    "    def update_tricks(self, trick):\n",
    "        self.tricks.append(trick)\n",
    "        print(self.breed, self.name, self.tricks)"
   ]
  },
  {
   "cell_type": "code",
   "execution_count": 24,
   "id": "4fb56e2d-123b-4490-8d71-6ec2e18f06fe",
   "metadata": {},
   "outputs": [],
   "source": [
    "d1 = Dog('german','bosco')"
   ]
  },
  {
   "cell_type": "code",
   "execution_count": 25,
   "id": "8d619cfa-bf30-4496-b19f-24480955e40f",
   "metadata": {},
   "outputs": [
    {
     "data": {
      "text/plain": [
       "[]"
      ]
     },
     "execution_count": 25,
     "metadata": {},
     "output_type": "execute_result"
    }
   ],
   "source": [
    "d1.tricks"
   ]
  },
  {
   "cell_type": "code",
   "execution_count": 26,
   "id": "8f93d4f1-c952-4853-a2b9-cb7c62dd71da",
   "metadata": {},
   "outputs": [
    {
     "name": "stdout",
     "output_type": "stream",
     "text": [
      "german bosco ['dance']\n"
     ]
    }
   ],
   "source": [
    "d1.update_tricks('dance')"
   ]
  },
  {
   "cell_type": "code",
   "execution_count": 27,
   "id": "a6054c0c-e9a6-44a5-ac60-ca8a3ce720c1",
   "metadata": {},
   "outputs": [
    {
     "data": {
      "text/plain": [
       "['dance']"
      ]
     },
     "execution_count": 27,
     "metadata": {},
     "output_type": "execute_result"
    }
   ],
   "source": [
    "d1.tricks"
   ]
  },
  {
   "cell_type": "code",
   "execution_count": 28,
   "id": "4dcc3367-65ee-4ffa-a010-39284d9b252f",
   "metadata": {},
   "outputs": [
    {
     "name": "stdout",
     "output_type": "stream",
     "text": [
      "german bosco ['dance', 'eat']\n"
     ]
    }
   ],
   "source": [
    "d1.update_tricks('eat')"
   ]
  },
  {
   "cell_type": "code",
   "execution_count": 29,
   "id": "8e1cb1a7-914d-4183-9497-0c9e922d68ca",
   "metadata": {},
   "outputs": [
    {
     "data": {
      "text/plain": [
       "['dance', 'eat']"
      ]
     },
     "execution_count": 29,
     "metadata": {},
     "output_type": "execute_result"
    }
   ],
   "source": [
    "d1.tricks"
   ]
  },
  {
   "cell_type": "code",
   "execution_count": 30,
   "id": "6db77a55-9f14-4f1c-8f97-23810a733244",
   "metadata": {},
   "outputs": [],
   "source": [
    "# Inheritance : "
   ]
  },
  {
   "cell_type": "code",
   "execution_count": 45,
   "id": "6cac208f-c29d-4121-ba94-ef213e2803fa",
   "metadata": {},
   "outputs": [],
   "source": [
    "class School_members:\n",
    "    def __init__(self, name, age):\n",
    "        self.name = name\n",
    "        self.age = age\n",
    "        print(f\"initialized school member : {self.name}\")\n",
    "\n",
    "    def tell(self):\n",
    "        print(f\"Name : {self.name}, Age : {self.age}\")\n",
    "\n",
    "class Teachers(School_members):\n",
    "    def __init__(self, t_name, t_age, t_salary):\n",
    "        School_members.__init__(self, t_name, t_age)\n",
    "        self.salary = t_salary\n",
    "        print(f\"Initialized Teacher : {self.name}\")\n",
    "\n",
    "    def tell(self):\n",
    "        School_members.tell(self)\n",
    "        print(f\"Salary : {self.salary}\")\n",
    "\n",
    "class Students(School_members):\n",
    "    def __init__(self, s_name, s_age, s_id):\n",
    "        School_members.__init__(self, s_name, s_age)\n",
    "        self.id = s_id\n",
    "        print(f\"Initialized Student : {self.name}\")\n",
    "\n",
    "    def tell(self):\n",
    "        School_members.tell(self)\n",
    "        print(f\"Student Id : {self.id}\")"
   ]
  },
  {
   "cell_type": "code",
   "execution_count": 46,
   "id": "781e7db2-e756-4b71-8a28-3ac7886f3ef2",
   "metadata": {},
   "outputs": [
    {
     "name": "stdout",
     "output_type": "stream",
     "text": [
      "initialized school member : abc\n"
     ]
    }
   ],
   "source": [
    "p1 = School_members('abc', 20)"
   ]
  },
  {
   "cell_type": "code",
   "execution_count": 47,
   "id": "d48ca500-7edc-403b-96f6-9591bbc97969",
   "metadata": {},
   "outputs": [
    {
     "name": "stdout",
     "output_type": "stream",
     "text": [
      "initialized school member : Tushar\n",
      "Initialized Teacher : Tushar\n",
      "Name : Tushar, Age : 30\n",
      "Salary : 500\n",
      "initialized school member : Heemang\n",
      "Initialized Student : Heemang\n",
      "Name : Heemang, Age : 19\n",
      "Student Id : 2025\n"
     ]
    }
   ],
   "source": [
    "t1 = Teachers('Tushar', 30, 500)\n",
    "t1.tell()\n",
    "s1 = Students('Heemang', 19, 2025)\n",
    "s1.tell()"
   ]
  },
  {
   "cell_type": "code",
   "execution_count": 62,
   "id": "da30b7ae-03be-4463-bbda-381fbcf4e87d",
   "metadata": {},
   "outputs": [],
   "source": [
    "# a -> B\n",
    "# C -> a\n",
    "# b -> c"
   ]
  },
  {
   "cell_type": "code",
   "execution_count": 50,
   "id": "3f1526e3-6097-4d43-8ad2-5298716cc279",
   "metadata": {},
   "outputs": [],
   "source": [
    "class Best_friend:\n",
    "    best_friends = {}\n",
    "    def __init__(self, name):\n",
    "        self.best_friends[str(name)] = []\n",
    "\n",
    "    def add_best_friend(self, name, name_best_friend):\n",
    "        self.best_friends[str(name)].append(name_best_friend)\n",
    "class Person(Best_friend):\n",
    "    def __init__(self, name, age):\n",
    "        super().__init__(name)\n",
    "        self.name = name\n",
    "        self.age = age\n",
    "    def my_best_friend(self, best_friend):\n",
    "        super().add_best_friend(self.name, best_friend)"
   ]
  },
  {
   "cell_type": "code",
   "execution_count": 51,
   "id": "2b91c1e9-b273-443d-82af-fd9dc8eba7ea",
   "metadata": {},
   "outputs": [],
   "source": [
    "a = Person('Abhijeet', 22)"
   ]
  },
  {
   "cell_type": "code",
   "execution_count": 54,
   "id": "1c46724e-c3d2-4403-a8dc-496de0cc27d5",
   "metadata": {},
   "outputs": [],
   "source": [
    "b = Person('Amir', 20)\n",
    "c = Person('Rohit', 19)"
   ]
  },
  {
   "cell_type": "code",
   "execution_count": 55,
   "id": "c7992cdd-a5e0-4c28-bf3e-0c952a3b8d55",
   "metadata": {},
   "outputs": [
    {
     "data": {
      "text/plain": [
       "'Amir'"
      ]
     },
     "execution_count": 55,
     "metadata": {},
     "output_type": "execute_result"
    }
   ],
   "source": [
    "b.name"
   ]
  },
  {
   "cell_type": "code",
   "execution_count": 56,
   "id": "d28af066-0ba5-4be8-905b-f8e5da104e0a",
   "metadata": {},
   "outputs": [],
   "source": [
    "a.my_best_friend(b.name)"
   ]
  },
  {
   "cell_type": "code",
   "execution_count": 57,
   "id": "51c15a02-5be8-46ca-a7f5-8b3e1bbc0b8c",
   "metadata": {},
   "outputs": [
    {
     "data": {
      "text/plain": [
       "{'Abhijeet': ['Amir'], 'Amir': [], 'Rohit': []}"
      ]
     },
     "execution_count": 57,
     "metadata": {},
     "output_type": "execute_result"
    }
   ],
   "source": [
    "a.best_friends"
   ]
  },
  {
   "cell_type": "code",
   "execution_count": 58,
   "id": "a131abef-e261-4ae4-b239-73ac0488b14a",
   "metadata": {},
   "outputs": [
    {
     "data": {
      "text/plain": [
       "'Abhijeet'"
      ]
     },
     "execution_count": 58,
     "metadata": {},
     "output_type": "execute_result"
    }
   ],
   "source": [
    "a.name"
   ]
  },
  {
   "cell_type": "code",
   "execution_count": 59,
   "id": "15764c0c-afa0-4c0f-abf3-791b83288a2a",
   "metadata": {},
   "outputs": [],
   "source": [
    "c.my_best_friend(a.name)"
   ]
  },
  {
   "cell_type": "code",
   "execution_count": 60,
   "id": "52d7a9ac-b3a0-47af-ae87-7989cf52267e",
   "metadata": {},
   "outputs": [
    {
     "data": {
      "text/plain": [
       "{'Abhijeet': ['Amir'], 'Amir': [], 'Rohit': ['Abhijeet']}"
      ]
     },
     "execution_count": 60,
     "metadata": {},
     "output_type": "execute_result"
    }
   ],
   "source": [
    "c.best_friends"
   ]
  },
  {
   "cell_type": "code",
   "execution_count": 63,
   "id": "9c335821-1f8a-4a00-a59f-2c0f08809bd2",
   "metadata": {},
   "outputs": [
    {
     "data": {
      "text/plain": [
       "'Rohit'"
      ]
     },
     "execution_count": 63,
     "metadata": {},
     "output_type": "execute_result"
    }
   ],
   "source": [
    "c.name"
   ]
  },
  {
   "cell_type": "code",
   "execution_count": 64,
   "id": "a06f3a46-731d-4578-9c6a-bd56c275b526",
   "metadata": {},
   "outputs": [],
   "source": [
    "b.my_best_friend(c.name)"
   ]
  },
  {
   "cell_type": "code",
   "execution_count": 66,
   "id": "1adb4cac-850d-4d9e-8320-0e47abcda581",
   "metadata": {},
   "outputs": [
    {
     "data": {
      "text/plain": [
       "{'Abhijeet': ['Amir'], 'Amir': ['Rohit'], 'Rohit': ['Abhijeet']}"
      ]
     },
     "execution_count": 66,
     "metadata": {},
     "output_type": "execute_result"
    }
   ],
   "source": [
    "b.best_friends"
   ]
  },
  {
   "cell_type": "code",
   "execution_count": 69,
   "id": "9d6464d6-ee6c-4b84-abd7-a02dc6663435",
   "metadata": {},
   "outputs": [
    {
     "data": {
      "text/plain": [
       "{'Abhijeet': ['Amir'], 'Amir': ['Rohit'], 'Rohit': ['Abhijeet']}"
      ]
     },
     "execution_count": 69,
     "metadata": {},
     "output_type": "execute_result"
    }
   ],
   "source": [
    "a.best_friends"
   ]
  },
  {
   "cell_type": "code",
   "execution_count": 71,
   "id": "79871770-1e81-4c7b-9b3e-e278cb9abb97",
   "metadata": {},
   "outputs": [
    {
     "name": "stdout",
     "output_type": "stream",
     "text": [
      "Amir\n"
     ]
    }
   ],
   "source": [
    "print(a.best_friends['Abhijeet'][0])"
   ]
  },
  {
   "cell_type": "code",
   "execution_count": null,
   "id": "9cba2c7f-5000-4043-b285-34026cf0f058",
   "metadata": {},
   "outputs": [],
   "source": []
  },
  {
   "cell_type": "code",
   "execution_count": 83,
   "id": "063405ff-2dbe-461e-aec3-73f69cd35719",
   "metadata": {},
   "outputs": [
    {
     "name": "stdout",
     "output_type": "stream",
     "text": [
      "In Class 4\n"
     ]
    }
   ],
   "source": [
    "class Class1:\n",
    "    def m(self):\n",
    "        print(\"In Class 1\")\n",
    "\n",
    "class Class2(Class1):\n",
    "    def m(self):\n",
    "        print(\"In class 2\")\n",
    "\n",
    "class Class3(Class1):\n",
    "    def m(self):\n",
    "        print(\"in Class 3\")\n",
    "\n",
    "class Class4(Class3, Class2):\n",
    "    print(\"In Class 4\")\n"
   ]
  },
  {
   "cell_type": "code",
   "execution_count": 84,
   "id": "58ecfabe-19b6-49af-b6af-448cf69510af",
   "metadata": {},
   "outputs": [
    {
     "name": "stdout",
     "output_type": "stream",
     "text": [
      "Next\n",
      "in Class 3\n"
     ]
    }
   ],
   "source": [
    "obj = Class4()\n",
    "print(\"Next\")\n",
    "obj.m()"
   ]
  },
  {
   "cell_type": "code",
   "execution_count": 85,
   "id": "b97901d9-9279-4693-aa53-287e88edd31b",
   "metadata": {},
   "outputs": [
    {
     "name": "stdout",
     "output_type": "stream",
     "text": [
      "in Class 3\n"
     ]
    }
   ],
   "source": [
    "obj.m()"
   ]
  },
  {
   "cell_type": "code",
   "execution_count": 86,
   "id": "5ac3af4f-ebed-4763-ad30-ce67208c2d07",
   "metadata": {},
   "outputs": [
    {
     "name": "stdout",
     "output_type": "stream",
     "text": [
      "In Class 1\n"
     ]
    }
   ],
   "source": [
    "a = Class1()\n",
    "a.m()"
   ]
  },
  {
   "cell_type": "code",
   "execution_count": 87,
   "id": "cdb38871-1188-4d76-a024-06ea16bd0ad2",
   "metadata": {},
   "outputs": [
    {
     "name": "stdout",
     "output_type": "stream",
     "text": [
      "In class 2\n"
     ]
    }
   ],
   "source": [
    "Class2.m(obj)"
   ]
  },
  {
   "cell_type": "code",
   "execution_count": null,
   "id": "400ed1f3-2bb5-41c8-8846-576a2e8c0af0",
   "metadata": {},
   "outputs": [],
   "source": []
  },
  {
   "cell_type": "code",
   "execution_count": null,
   "id": "02f45f5e-dcca-4641-9319-b70f0b58ff01",
   "metadata": {},
   "outputs": [],
   "source": []
  }
 ],
 "metadata": {
  "kernelspec": {
   "display_name": "Python 3 (ipykernel)",
   "language": "python",
   "name": "python3"
  },
  "language_info": {
   "codemirror_mode": {
    "name": "ipython",
    "version": 3
   },
   "file_extension": ".py",
   "mimetype": "text/x-python",
   "name": "python",
   "nbconvert_exporter": "python",
   "pygments_lexer": "ipython3",
   "version": "3.12.7"
  }
 },
 "nbformat": 4,
 "nbformat_minor": 5
}
