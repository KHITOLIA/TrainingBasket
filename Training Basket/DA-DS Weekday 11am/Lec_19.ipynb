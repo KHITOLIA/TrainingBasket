{
 "cells": [
  {
   "cell_type": "markdown",
   "id": "18869f29-4566-43a5-b44c-b04c534c2400",
   "metadata": {},
   "source": [
    "# Generators"
   ]
  },
  {
   "cell_type": "code",
   "execution_count": 1,
   "id": "3df0d99f-f482-4000-ab8b-5399857557ed",
   "metadata": {},
   "outputs": [],
   "source": [
    "def fun(n):\n",
    "    count = 0\n",
    "    while count <= n:\n",
    "        yield count\n",
    "        count += 1"
   ]
  },
  {
   "cell_type": "code",
   "execution_count": 2,
   "id": "91f4d8ee-49f4-4aa8-836c-9a4bab48cd08",
   "metadata": {},
   "outputs": [
    {
     "data": {
      "text/plain": [
       "<generator object fun at 0x000001EBE2A496C0>"
      ]
     },
     "execution_count": 2,
     "metadata": {},
     "output_type": "execute_result"
    }
   ],
   "source": [
    "fun(5)"
   ]
  },
  {
   "cell_type": "code",
   "execution_count": 13,
   "id": "d47d9104-e1c5-4c8f-9f10-77c38ebf1e05",
   "metadata": {},
   "outputs": [],
   "source": [
    "gen = fun(5)"
   ]
  },
  {
   "cell_type": "code",
   "execution_count": 11,
   "id": "6c5214ab-d080-4049-896e-6253c1c4dd96",
   "metadata": {},
   "outputs": [
    {
     "ename": "StopIteration",
     "evalue": "",
     "output_type": "error",
     "traceback": [
      "\u001b[1;31m---------------------------------------------------------------------------\u001b[0m",
      "\u001b[1;31mStopIteration\u001b[0m                             Traceback (most recent call last)",
      "Cell \u001b[1;32mIn[11], line 1\u001b[0m\n\u001b[1;32m----> 1\u001b[0m \u001b[38;5;28mnext\u001b[39m(gen)\n",
      "\u001b[1;31mStopIteration\u001b[0m: "
     ]
    }
   ],
   "source": [
    "next(gen)"
   ]
  },
  {
   "cell_type": "code",
   "execution_count": 14,
   "id": "0622f757-6d40-41e0-aa4e-280fbad396d8",
   "metadata": {},
   "outputs": [
    {
     "name": "stdout",
     "output_type": "stream",
     "text": [
      "0\n",
      "1\n",
      "2\n",
      "3\n",
      "4\n",
      "5\n"
     ]
    }
   ],
   "source": [
    "for i in gen:\n",
    "    print(i)"
   ]
  },
  {
   "cell_type": "code",
   "execution_count": 22,
   "id": "59539d65-bcb3-4837-ab05-b35f9bc79595",
   "metadata": {},
   "outputs": [],
   "source": [
    "def fun():\n",
    "    yield 1\n",
    "    yield 2\n",
    "    yield 3\n",
    "    yield 4"
   ]
  },
  {
   "cell_type": "code",
   "execution_count": 23,
   "id": "55698498-10ae-46c9-857b-6bb58a993217",
   "metadata": {},
   "outputs": [],
   "source": [
    "val = fun()"
   ]
  },
  {
   "cell_type": "code",
   "execution_count": 21,
   "id": "5f83e351-fadc-459c-a24f-e4aa591a839a",
   "metadata": {},
   "outputs": [
    {
     "ename": "StopIteration",
     "evalue": "",
     "output_type": "error",
     "traceback": [
      "\u001b[1;31m---------------------------------------------------------------------------\u001b[0m",
      "\u001b[1;31mStopIteration\u001b[0m                             Traceback (most recent call last)",
      "Cell \u001b[1;32mIn[21], line 1\u001b[0m\n\u001b[1;32m----> 1\u001b[0m \u001b[38;5;28mnext\u001b[39m(val)\n",
      "\u001b[1;31mStopIteration\u001b[0m: "
     ]
    }
   ],
   "source": [
    "next(val)"
   ]
  },
  {
   "cell_type": "code",
   "execution_count": 24,
   "id": "0535471f-fd8e-4738-b9c7-451ad0051e97",
   "metadata": {},
   "outputs": [
    {
     "data": {
      "text/plain": [
       "<generator object fun at 0x000001EBE3D98930>"
      ]
     },
     "execution_count": 24,
     "metadata": {},
     "output_type": "execute_result"
    }
   ],
   "source": [
    "val"
   ]
  },
  {
   "cell_type": "code",
   "execution_count": 25,
   "id": "48119a1e-217b-4657-b48d-82b3a0ee4ff3",
   "metadata": {},
   "outputs": [
    {
     "name": "stdout",
     "output_type": "stream",
     "text": [
      "1\n",
      "2\n",
      "3\n",
      "4\n"
     ]
    }
   ],
   "source": [
    "for i in val:\n",
    "    print(i)"
   ]
  },
  {
   "cell_type": "code",
   "execution_count": 26,
   "id": "dad8dd66-63ac-483d-90f0-919db62370bd",
   "metadata": {},
   "outputs": [],
   "source": [
    "def fun():\n",
    "    yield 's'\n",
    "    yield 'e'\n",
    "    yield '3'"
   ]
  },
  {
   "cell_type": "code",
   "execution_count": 27,
   "id": "952119cd-d47b-4298-8313-2ad633fd0fd8",
   "metadata": {},
   "outputs": [],
   "source": [
    "val = fun()"
   ]
  },
  {
   "cell_type": "code",
   "execution_count": 28,
   "id": "d2dd3ee2-f0e6-4e73-b188-ea03f1b5e992",
   "metadata": {},
   "outputs": [
    {
     "name": "stdout",
     "output_type": "stream",
     "text": [
      "s\n",
      "e\n",
      "3\n"
     ]
    }
   ],
   "source": [
    "for i in val:\n",
    "    print(i)"
   ]
  },
  {
   "cell_type": "code",
   "execution_count": 37,
   "id": "31a0f5e3-95c8-400c-95e3-cd65ccb8ab6c",
   "metadata": {},
   "outputs": [],
   "source": [
    "st = iter('Training')"
   ]
  },
  {
   "cell_type": "code",
   "execution_count": 38,
   "id": "8de44428-3d4a-47eb-a76f-da11252140d1",
   "metadata": {},
   "outputs": [
    {
     "name": "stdout",
     "output_type": "stream",
     "text": [
      "T\n",
      "r\n",
      "a\n",
      "i\n",
      "n\n",
      "i\n",
      "n\n",
      "g\n"
     ]
    }
   ],
   "source": [
    "for i in st:\n",
    "    print(i)"
   ]
  },
  {
   "cell_type": "code",
   "execution_count": 40,
   "id": "f2e93b93-a9b1-4128-9dc8-7cabe151989d",
   "metadata": {},
   "outputs": [],
   "source": [
    "for i in st:\n",
    "    print(i)"
   ]
  },
  {
   "cell_type": "markdown",
   "id": "d82508a3-3991-4515-8a6f-0e536cad197b",
   "metadata": {},
   "source": [
    "# File Handling"
   ]
  },
  {
   "cell_type": "code",
   "execution_count": 23,
   "id": "41f9a4e2-05d6-4b14-b25b-2819be167f10",
   "metadata": {},
   "outputs": [],
   "source": [
    "file = open('C:/Users/tbaka/Machine learning/python.txt', 'r')"
   ]
  },
  {
   "cell_type": "code",
   "execution_count": 45,
   "id": "f81bd192-74e9-4fe2-9e99-8b1d40bf5923",
   "metadata": {},
   "outputs": [],
   "source": [
    "# open?"
   ]
  },
  {
   "cell_type": "code",
   "execution_count": 16,
   "id": "b73ad3c4-c06c-49d0-b7da-bdef9138343a",
   "metadata": {},
   "outputs": [
    {
     "data": {
      "text/plain": [
       "<_io.TextIOWrapper name='C:/Users/tbaka/Machine learning/python.txt' mode='r' encoding='cp1252'>"
      ]
     },
     "execution_count": 16,
     "metadata": {},
     "output_type": "execute_result"
    }
   ],
   "source": [
    "file"
   ]
  },
  {
   "cell_type": "code",
   "execution_count": 17,
   "id": "a6a54e30-23b0-4fcf-be2b-74d1c4e9c069",
   "metadata": {},
   "outputs": [
    {
     "data": {
      "text/plain": [
       "'Machine learning'"
      ]
     },
     "execution_count": 17,
     "metadata": {},
     "output_type": "execute_result"
    }
   ],
   "source": [
    "file.read()"
   ]
  },
  {
   "cell_type": "code",
   "execution_count": 18,
   "id": "6db2f82e-1e70-4e38-8914-32b70fc20677",
   "metadata": {},
   "outputs": [
    {
     "data": {
      "text/plain": [
       "''"
      ]
     },
     "execution_count": 18,
     "metadata": {},
     "output_type": "execute_result"
    }
   ],
   "source": [
    "file.read()"
   ]
  },
  {
   "cell_type": "code",
   "execution_count": 19,
   "id": "44af6a01-7406-4828-a4e4-9d799e4d5521",
   "metadata": {},
   "outputs": [
    {
     "data": {
      "text/plain": [
       "''"
      ]
     },
     "execution_count": 19,
     "metadata": {},
     "output_type": "execute_result"
    }
   ],
   "source": [
    "file.read()"
   ]
  },
  {
   "cell_type": "code",
   "execution_count": 20,
   "id": "74b25e01-2bdb-4883-b0c5-9b48e4c5f38a",
   "metadata": {},
   "outputs": [
    {
     "data": {
      "text/plain": [
       "''"
      ]
     },
     "execution_count": 20,
     "metadata": {},
     "output_type": "execute_result"
    }
   ],
   "source": [
    "file.read()"
   ]
  },
  {
   "cell_type": "code",
   "execution_count": 52,
   "id": "0130b0d6-35f1-4d97-9815-ba7e7d6667a5",
   "metadata": {},
   "outputs": [
    {
     "data": {
      "text/plain": [
       "''"
      ]
     },
     "execution_count": 52,
     "metadata": {},
     "output_type": "execute_result"
    }
   ],
   "source": [
    "file.read()"
   ]
  },
  {
   "cell_type": "code",
   "execution_count": 21,
   "id": "d77a8728-279d-47a6-906d-d36d7a465d35",
   "metadata": {},
   "outputs": [],
   "source": [
    "file.close()"
   ]
  },
  {
   "cell_type": "code",
   "execution_count": 22,
   "id": "07d59993-a3e6-4b21-8247-ff562230bb0f",
   "metadata": {},
   "outputs": [
    {
     "ename": "ValueError",
     "evalue": "I/O operation on closed file.",
     "output_type": "error",
     "traceback": [
      "\u001b[1;31m---------------------------------------------------------------------------\u001b[0m",
      "\u001b[1;31mValueError\u001b[0m                                Traceback (most recent call last)",
      "Cell \u001b[1;32mIn[22], line 1\u001b[0m\n\u001b[1;32m----> 1\u001b[0m file\u001b[38;5;241m.\u001b[39mread()\n",
      "\u001b[1;31mValueError\u001b[0m: I/O operation on closed file."
     ]
    }
   ],
   "source": [
    "file.read()"
   ]
  },
  {
   "cell_type": "code",
   "execution_count": 33,
   "id": "4ccadad9-3abd-454e-bbfe-d7f9df4764af",
   "metadata": {},
   "outputs": [],
   "source": [
    "file = open('python.txt', 'r')"
   ]
  },
  {
   "cell_type": "code",
   "execution_count": 34,
   "id": "864c8809-db31-4ace-b909-7e95b3b3e777",
   "metadata": {},
   "outputs": [
    {
     "data": {
      "text/plain": [
       "'Machine learning\\nData Science\\nPython\\nData Analytics'"
      ]
     },
     "execution_count": 34,
     "metadata": {},
     "output_type": "execute_result"
    }
   ],
   "source": [
    "file.read()"
   ]
  },
  {
   "cell_type": "code",
   "execution_count": 35,
   "id": "95d3139a-e704-474e-a1b1-0784e30adb4d",
   "metadata": {},
   "outputs": [
    {
     "data": {
      "text/plain": [
       "0"
      ]
     },
     "execution_count": 35,
     "metadata": {},
     "output_type": "execute_result"
    }
   ],
   "source": [
    "file.seek(0) "
   ]
  },
  {
   "cell_type": "code",
   "execution_count": 36,
   "id": "5bb69297-69ce-49e2-a8a2-fb4095187ca2",
   "metadata": {},
   "outputs": [
    {
     "data": {
      "text/plain": [
       "'Machine learning\\nData Science\\nPython\\nData Analytics'"
      ]
     },
     "execution_count": 36,
     "metadata": {},
     "output_type": "execute_result"
    }
   ],
   "source": [
    "file.read()"
   ]
  },
  {
   "cell_type": "code",
   "execution_count": 37,
   "id": "2bedc1eb-aa79-4cb8-a169-5540d1d4c8fc",
   "metadata": {},
   "outputs": [
    {
     "data": {
      "text/plain": [
       "4"
      ]
     },
     "execution_count": 37,
     "metadata": {},
     "output_type": "execute_result"
    }
   ],
   "source": [
    "file.seek(4)"
   ]
  },
  {
   "cell_type": "code",
   "execution_count": 38,
   "id": "225f0f43-7801-4a6f-bd3d-9c7a4c4c0856",
   "metadata": {},
   "outputs": [
    {
     "data": {
      "text/plain": [
       "'ine learning\\nData Science\\nPython\\nData Analytics'"
      ]
     },
     "execution_count": 38,
     "metadata": {},
     "output_type": "execute_result"
    }
   ],
   "source": [
    "file.read()"
   ]
  },
  {
   "cell_type": "code",
   "execution_count": 39,
   "id": "2caca4c5-215c-4242-be99-254f4a9f38fe",
   "metadata": {},
   "outputs": [
    {
     "data": {
      "text/plain": [
       "''"
      ]
     },
     "execution_count": 39,
     "metadata": {},
     "output_type": "execute_result"
    }
   ],
   "source": [
    "file.read()"
   ]
  },
  {
   "cell_type": "code",
   "execution_count": 40,
   "id": "aa15f9ab-06fd-45a7-8250-6250482a2358",
   "metadata": {},
   "outputs": [
    {
     "data": {
      "text/plain": [
       "0"
      ]
     },
     "execution_count": 40,
     "metadata": {},
     "output_type": "execute_result"
    }
   ],
   "source": [
    "file.seek(0)"
   ]
  },
  {
   "cell_type": "code",
   "execution_count": 41,
   "id": "5be17b0f-ebd3-41c5-bdb8-571fa0035d1d",
   "metadata": {},
   "outputs": [
    {
     "data": {
      "text/plain": [
       "'Machine learning\\n'"
      ]
     },
     "execution_count": 41,
     "metadata": {},
     "output_type": "execute_result"
    }
   ],
   "source": [
    "file.readline()"
   ]
  },
  {
   "cell_type": "code",
   "execution_count": 42,
   "id": "3c089ca6-299c-4b3e-8059-424aee1d6c1f",
   "metadata": {},
   "outputs": [
    {
     "data": {
      "text/plain": [
       "'Data Science\\n'"
      ]
     },
     "execution_count": 42,
     "metadata": {},
     "output_type": "execute_result"
    }
   ],
   "source": [
    "file.readline()"
   ]
  },
  {
   "cell_type": "code",
   "execution_count": 43,
   "id": "e8a15d2c-e009-4a80-ad83-2db9fc4e74f7",
   "metadata": {},
   "outputs": [
    {
     "data": {
      "text/plain": [
       "'Python\\n'"
      ]
     },
     "execution_count": 43,
     "metadata": {},
     "output_type": "execute_result"
    }
   ],
   "source": [
    "file.readline()"
   ]
  },
  {
   "cell_type": "code",
   "execution_count": 45,
   "id": "358210c9-35a0-445f-9b11-42eed3dab0bf",
   "metadata": {},
   "outputs": [
    {
     "data": {
      "text/plain": [
       "0"
      ]
     },
     "execution_count": 45,
     "metadata": {},
     "output_type": "execute_result"
    }
   ],
   "source": [
    "file.seek(0)"
   ]
  },
  {
   "cell_type": "code",
   "execution_count": 46,
   "id": "a0f6be8e-d82b-49ce-b72a-b3fdccd8e3a6",
   "metadata": {},
   "outputs": [
    {
     "data": {
      "text/plain": [
       "['Machine learning\\n', 'Data Science\\n', 'Python\\n', 'Data Analytics']"
      ]
     },
     "execution_count": 46,
     "metadata": {},
     "output_type": "execute_result"
    }
   ],
   "source": [
    "file.readlines()"
   ]
  },
  {
   "cell_type": "code",
   "execution_count": 47,
   "id": "cbbc54f0-c40c-4a5c-a4d5-d95f6414e453",
   "metadata": {},
   "outputs": [
    {
     "data": {
      "text/plain": [
       "[]"
      ]
     },
     "execution_count": 47,
     "metadata": {},
     "output_type": "execute_result"
    }
   ],
   "source": [
    "file.readlines()"
   ]
  },
  {
   "cell_type": "code",
   "execution_count": 48,
   "id": "7bec0e94-f159-4a9a-a553-e5583df0d457",
   "metadata": {},
   "outputs": [],
   "source": [
    "file.close()"
   ]
  },
  {
   "cell_type": "code",
   "execution_count": 49,
   "id": "8ee0712f-f158-4828-be13-58b488d63dc3",
   "metadata": {},
   "outputs": [],
   "source": [
    "file = open('python.txt', 'w' )"
   ]
  },
  {
   "cell_type": "code",
   "execution_count": 50,
   "id": "b0cea7bf-4eaf-487d-b4fd-bc1d66a3b027",
   "metadata": {},
   "outputs": [
    {
     "data": {
      "text/plain": [
       "16"
      ]
     },
     "execution_count": 50,
     "metadata": {},
     "output_type": "execute_result"
    }
   ],
   "source": [
    "file.write('Machine learning')"
   ]
  },
  {
   "cell_type": "code",
   "execution_count": 51,
   "id": "b89ab188-7970-4df1-88ec-7f44c0390275",
   "metadata": {},
   "outputs": [],
   "source": [
    "file.close()"
   ]
  },
  {
   "cell_type": "code",
   "execution_count": 52,
   "id": "ad302a8e-8656-49f2-b7c6-b3c6d747fcff",
   "metadata": {},
   "outputs": [],
   "source": [
    "file = open('python.txt', 'r')"
   ]
  },
  {
   "cell_type": "code",
   "execution_count": 53,
   "id": "c0738b24-4e6f-45ef-bf90-6594e374848d",
   "metadata": {},
   "outputs": [
    {
     "data": {
      "text/plain": [
       "'Machine learning'"
      ]
     },
     "execution_count": 53,
     "metadata": {},
     "output_type": "execute_result"
    }
   ],
   "source": [
    "file.read()"
   ]
  },
  {
   "cell_type": "code",
   "execution_count": 55,
   "id": "13dda04c-7533-40dd-90dc-7f0320f5eaa6",
   "metadata": {},
   "outputs": [],
   "source": [
    "st = '''Data analytics is the process of examining raw data to uncover patterns, draw conclusions, and make informed decisions. It involves collecting, transforming, and organizing data to derive insights and drive decision-making. Data analytics is a broad field encompassing various techniques and tools, including data science and data engineering. '''"
   ]
  },
  {
   "cell_type": "code",
   "execution_count": 54,
   "id": "56957651-671b-4f05-a371-5542d8fe1977",
   "metadata": {},
   "outputs": [],
   "source": [
    "file = open('new_file1.txt', 'w')"
   ]
  },
  {
   "cell_type": "code",
   "execution_count": 56,
   "id": "cb463d0f-e5e0-4ed1-a19e-3f1b42789af7",
   "metadata": {},
   "outputs": [
    {
     "data": {
      "text/plain": [
       "344"
      ]
     },
     "execution_count": 56,
     "metadata": {},
     "output_type": "execute_result"
    }
   ],
   "source": [
    "file.write(st)"
   ]
  },
  {
   "cell_type": "code",
   "execution_count": 57,
   "id": "53ccc63c-760f-4d14-bfeb-987ad0cb5ac1",
   "metadata": {},
   "outputs": [],
   "source": [
    "file.close()"
   ]
  },
  {
   "cell_type": "code",
   "execution_count": 58,
   "id": "ef88afa1-9465-43ce-8505-e411a3afd046",
   "metadata": {},
   "outputs": [],
   "source": [
    "file = open('new_file.txt', 'r')"
   ]
  },
  {
   "cell_type": "code",
   "execution_count": 59,
   "id": "acd0fbfc-c397-480e-8fb6-a0143612411a",
   "metadata": {},
   "outputs": [
    {
     "data": {
      "text/plain": [
       "'Data analytics is the process of examining raw data to uncover patterns, draw conclusions, and make informed decisions. It involves collecting, transforming, and organizing data to derive insights and drive decision-making. Data analytics is a broad field encompassing various techniques and tools, including data science and data engineering.\\n'"
      ]
     },
     "execution_count": 59,
     "metadata": {},
     "output_type": "execute_result"
    }
   ],
   "source": [
    "file.read()"
   ]
  },
  {
   "cell_type": "code",
   "execution_count": 60,
   "id": "476370e3-f919-4a9b-a249-9d777d5d0f98",
   "metadata": {},
   "outputs": [],
   "source": [
    "file.close()"
   ]
  },
  {
   "cell_type": "code",
   "execution_count": null,
   "id": "e9a09201-cd84-49a0-9e29-983b4db717d7",
   "metadata": {},
   "outputs": [],
   "source": [
    "0-50,50-100, 100-150, 150-200, 200-250, 250-300, 300-EOF"
   ]
  }
 ],
 "metadata": {
  "kernelspec": {
   "display_name": "Python 3 (ipykernel)",
   "language": "python",
   "name": "python3"
  },
  "language_info": {
   "codemirror_mode": {
    "name": "ipython",
    "version": 3
   },
   "file_extension": ".py",
   "mimetype": "text/x-python",
   "name": "python",
   "nbconvert_exporter": "python",
   "pygments_lexer": "ipython3",
   "version": "3.12.7"
  }
 },
 "nbformat": 4,
 "nbformat_minor": 5
}
