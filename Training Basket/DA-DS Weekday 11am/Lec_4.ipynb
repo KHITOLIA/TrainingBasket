{
 "cells": [
  {
   "cell_type": "markdown",
   "id": "efc5c554-24ee-40af-9e02-b6ce41cc555a",
   "metadata": {},
   "source": [
    "# function questions"
   ]
  },
  {
   "cell_type": "code",
   "execution_count": 23,
   "id": "d2dcd7c0-d2da-46ab-b459-e66ef58d5872",
   "metadata": {},
   "outputs": [],
   "source": [
    "# find the square root of any number\n",
    "# find the area of circle\n",
    "# find the upper case of any character"
   ]
  },
  {
   "cell_type": "code",
   "execution_count": 17,
   "id": "a3ddb2db-8f9a-4d0f-8f0c-367a1dd2ac89",
   "metadata": {},
   "outputs": [
    {
     "name": "stdin",
     "output_type": "stream",
     "text": [
      "enter the number :  875\n"
     ]
    },
    {
     "data": {
      "text/plain": [
       "29.58039891549808"
      ]
     },
     "execution_count": 17,
     "metadata": {},
     "output_type": "execute_result"
    }
   ],
   "source": [
    "def root(x):\n",
    "    sq_root = x**0.5\n",
    "    return sq_root\n",
    "root(int(input(\"enter the number : \")))    "
   ]
  },
  {
   "cell_type": "code",
   "execution_count": 15,
   "id": "7ea8c6f3-15ba-4200-a30f-f5a34263cb05",
   "metadata": {},
   "outputs": [
    {
     "name": "stdin",
     "output_type": "stream",
     "text": [
      "enter any sqaure value to find the root: 144\n"
     ]
    },
    {
     "data": {
      "text/plain": [
       "12.0"
      ]
     },
     "execution_count": 15,
     "metadata": {},
     "output_type": "execute_result"
    }
   ],
   "source": [
    "def square_root(a):\n",
    "  b = a**0.5\n",
    "  return b\n",
    "    \n",
    "a= int(input(\"enter any sqaure value to find the root:\"))\n",
    "square_root(a)"
   ]
  },
  {
   "cell_type": "code",
   "execution_count": 24,
   "id": "1cf2d60d-a7cc-426e-a05d-23263e4d2438",
   "metadata": {},
   "outputs": [],
   "source": [
    "# def area_of_circle(r):\n",
    "#     area = "
   ]
  },
  {
   "cell_type": "code",
   "execution_count": 30,
   "id": "efd8d145-3626-4f16-8850-1a8985bcf808",
   "metadata": {},
   "outputs": [
    {
     "name": "stdin",
     "output_type": "stream",
     "text": [
      "radius:  4\n"
     ]
    },
    {
     "name": "stdout",
     "output_type": "stream",
     "text": [
      "Area of Circle =   50.24\n"
     ]
    }
   ],
   "source": [
    "def area_circle(r):\n",
    "  area = 3.14*r**2\n",
    "\n",
    "  return area\n",
    "\n",
    "\n",
    "r=int(input(\"radius: \"))\n",
    "\n",
    "print(\"Area of Circle =  \",area_circle(r))"
   ]
  },
  {
   "cell_type": "code",
   "execution_count": 34,
   "id": "d2147461-c829-4d43-9dd7-e004e622b6f6",
   "metadata": {},
   "outputs": [
    {
     "data": {
      "text/plain": [
       "97"
      ]
     },
     "execution_count": 34,
     "metadata": {},
     "output_type": "execute_result"
    }
   ],
   "source": [
    "ord('A') + 32"
   ]
  },
  {
   "cell_type": "code",
   "execution_count": 33,
   "id": "99ee48bd-f4a0-4891-9635-b311852a638a",
   "metadata": {},
   "outputs": [
    {
     "data": {
      "text/plain": [
       "32"
      ]
     },
     "execution_count": 33,
     "metadata": {},
     "output_type": "execute_result"
    }
   ],
   "source": [
    "97-65"
   ]
  },
  {
   "cell_type": "code",
   "execution_count": 35,
   "id": "7d1af2a3-dd9f-4e1f-be32-b661bf3056b5",
   "metadata": {},
   "outputs": [
    {
     "data": {
      "text/plain": [
       "97"
      ]
     },
     "execution_count": 35,
     "metadata": {},
     "output_type": "execute_result"
    }
   ],
   "source": [
    "ord('a')"
   ]
  },
  {
   "cell_type": "code",
   "execution_count": 36,
   "id": "ee0f4a78-419b-4bb0-b312-d40bf1759b5f",
   "metadata": {},
   "outputs": [
    {
     "data": {
      "text/plain": [
       "'a'"
      ]
     },
     "execution_count": 36,
     "metadata": {},
     "output_type": "execute_result"
    }
   ],
   "source": [
    "chr(97)"
   ]
  },
  {
   "cell_type": "code",
   "execution_count": 37,
   "id": "5831d1ac-961f-45ad-bac9-5cd85cb036cb",
   "metadata": {},
   "outputs": [
    {
     "name": "stdin",
     "output_type": "stream",
     "text": [
      "enter any character:  h\n"
     ]
    },
    {
     "data": {
      "text/plain": [
       "'H'"
      ]
     },
     "execution_count": 37,
     "metadata": {},
     "output_type": "execute_result"
    }
   ],
   "source": [
    "def upper_case(a):\n",
    "\n",
    "  b = chr(ord(a) - 32)\n",
    "  return b\n",
    "\n",
    "a = input(\"enter any character: \")\n",
    "upper_case(a)"
   ]
  },
  {
   "cell_type": "code",
   "execution_count": 38,
   "id": "5de20ca0-f1a1-4ab5-b927-5ded02564cee",
   "metadata": {},
   "outputs": [],
   "source": [
    "# find the quotient and reminder of any two number\n"
   ]
  },
  {
   "cell_type": "code",
   "execution_count": 39,
   "id": "640b2a0b-349e-4a1d-ae7d-858f2a1e5343",
   "metadata": {},
   "outputs": [],
   "source": [
    "def number(a, b):\n",
    "    Q = a//b\n",
    "    R = a%b\n",
    "    print(\"the Quotient of a and b \",Q)\n",
    "    print(\"the Reminder of a and b \", R)"
   ]
  },
  {
   "cell_type": "code",
   "execution_count": 41,
   "id": "ee6e7a3e-9d60-4254-89c7-abc020ee3e8a",
   "metadata": {},
   "outputs": [
    {
     "name": "stdin",
     "output_type": "stream",
     "text": [
      "enter first number : 8\n",
      "enter second number :  5\n"
     ]
    },
    {
     "name": "stdout",
     "output_type": "stream",
     "text": [
      "the Quotient of a and b  1\n",
      "the Reminder of a and b  3\n"
     ]
    }
   ],
   "source": [
    "number(int(input(\"enter first number :\")), int(input(\"enter second number : \")))"
   ]
  },
  {
   "cell_type": "code",
   "execution_count": 42,
   "id": "69b69b19-de31-4e81-a0f6-fcd4f576ef2e",
   "metadata": {},
   "outputs": [
    {
     "name": "stdin",
     "output_type": "stream",
     "text": [
      "Enter the first number:  6\n",
      "Enter the second number:  4\n"
     ]
    },
    {
     "name": "stdout",
     "output_type": "stream",
     "text": [
      "Remainder of the two numbers is:  2\n",
      "Quotient of the two numbers is:  1\n"
     ]
    }
   ],
   "source": [
    "def rem(a,b):\n",
    "\n",
    "    rem_val = a % b\n",
    "\n",
    "    return rem_val\n",
    "\n",
    "def quo(a,b):\n",
    "\n",
    "    quo_val = a // b\n",
    "\n",
    "    return quo_val\n",
    "\n",
    "a = int(input(\"Enter the first number: \"))\n",
    "\n",
    "b = int(input(\"Enter the second number: \"))\n",
    "\n",
    "print(\"Remainder of the two numbers is: \", rem(a,b))\n",
    "\n",
    "print(\"Quotient of the two numbers is: \", quo(a,b))"
   ]
  },
  {
   "cell_type": "code",
   "execution_count": 47,
   "id": "e98537e9-9377-45a7-9ce9-cbdb3b99047e",
   "metadata": {},
   "outputs": [
    {
     "name": "stdin",
     "output_type": "stream",
     "text": [
      "Enter any Divident:  78\n",
      "Enter any divisior:  65\n"
     ]
    }
   ],
   "source": [
    "def divide(a,b):\n",
    "  c = a//b\n",
    "  d = a%b\n",
    "  return c,d   \n",
    "    \n",
    "a=int(input(\"Enter any Divident: \"))\n",
    "\n",
    "b=int(input(\"Enter any divisior: \"))\n",
    "Q, R = divide(a,b)\n"
   ]
  },
  {
   "cell_type": "code",
   "execution_count": 48,
   "id": "9c4ebc4c-3d9f-403c-90ad-f5e657367d47",
   "metadata": {},
   "outputs": [
    {
     "name": "stdout",
     "output_type": "stream",
     "text": [
      "1 13\n"
     ]
    }
   ],
   "source": [
    "print(Q,R)"
   ]
  },
  {
   "cell_type": "code",
   "execution_count": 46,
   "id": "3db0e03b-d18e-45b7-978b-3e19b474d0cf",
   "metadata": {},
   "outputs": [
    {
     "data": {
      "text/plain": [
       "3"
      ]
     },
     "execution_count": 46,
     "metadata": {},
     "output_type": "execute_result"
    }
   ],
   "source": [
    "Q\n",
    "R"
   ]
  },
  {
   "cell_type": "code",
   "execution_count": 49,
   "id": "e8142610-3432-4e60-b138-b0ba68e885e1",
   "metadata": {},
   "outputs": [],
   "source": [
    "# find the average of 3 numbers"
   ]
  },
  {
   "cell_type": "code",
   "execution_count": 51,
   "id": "6c9ceefc-e68f-4afc-97a0-4bd89963c915",
   "metadata": {},
   "outputs": [
    {
     "name": "stdin",
     "output_type": "stream",
     "text": [
      "Enter the 1 number:  20\n",
      "Enter the 2 number:  10\n",
      "Enter the 3 number:  30\n"
     ]
    },
    {
     "name": "stdout",
     "output_type": "stream",
     "text": [
      "Average of 3 numbers are:  20.0\n"
     ]
    }
   ],
   "source": [
    "def average(a,b,c):\n",
    "\n",
    "  avg=(a+b+c)/3\n",
    "\n",
    "  return avg\n",
    "\n",
    "a = int(input(\"Enter the 1 number: \"))\n",
    "\n",
    "b = int(input(\"Enter the 2 number: \"))\n",
    "\n",
    "c = int(input(\"Enter the 3 number: \"))\n",
    "\n",
    "print(\"Average of 3 numbers are: \",average(a,b,c))"
   ]
  },
  {
   "cell_type": "code",
   "execution_count": 52,
   "id": "cc87ca6b-6a56-4138-b7fc-760b050eb520",
   "metadata": {},
   "outputs": [
    {
     "data": {
      "text/plain": [
       "4.0"
      ]
     },
     "execution_count": 52,
     "metadata": {},
     "output_type": "execute_result"
    }
   ],
   "source": [
    "def avg(a,b,c):\n",
    "  return (a+b+c)/3\n",
    "\n",
    "avg(2,4,6)"
   ]
  },
  {
   "cell_type": "code",
   "execution_count": 53,
   "id": "6e5c12c9-5a22-4b60-89ec-9696838f6095",
   "metadata": {},
   "outputs": [],
   "source": [
    "# (a+b+c) ka whole cube but with the use of formula"
   ]
  },
  {
   "cell_type": "markdown",
   "id": "479a1d8e-217c-4b24-9433-381f9f9b3f83",
   "metadata": {},
   "source": [
    "# conditional statements"
   ]
  },
  {
   "cell_type": "code",
   "execution_count": 54,
   "id": "c7403d21-7b86-46be-a241-0851223d662f",
   "metadata": {},
   "outputs": [],
   "source": [
    "# if\n",
    "# elif\n",
    "# else"
   ]
  },
  {
   "cell_type": "code",
   "execution_count": 62,
   "id": "9d560139-17aa-4750-adab-d8e5723d2c26",
   "metadata": {},
   "outputs": [
    {
     "name": "stdout",
     "output_type": "stream",
     "text": [
      "greet\n",
      "pass\n"
     ]
    }
   ],
   "source": [
    "a = 5\n",
    "if a < 9:\n",
    "    print('greet')\n",
    "    \n",
    "if a> 8:\n",
    "    print(\"hello\")\n",
    "    \n",
    "elif a > 10:\n",
    "    print(\"hi\")\n",
    "    \n",
    "else:\n",
    "    print(\"pass\")"
   ]
  },
  {
   "cell_type": "code",
   "execution_count": null,
   "id": "09e875dd-bd33-439d-92f1-a54e89cb52a5",
   "metadata": {},
   "outputs": [],
   "source": [
    "# find the odd and even number"
   ]
  }
 ],
 "metadata": {
  "kernelspec": {
   "display_name": "Python 3 (ipykernel)",
   "language": "python",
   "name": "python3"
  },
  "language_info": {
   "codemirror_mode": {
    "name": "ipython",
    "version": 3
   },
   "file_extension": ".py",
   "mimetype": "text/x-python",
   "name": "python",
   "nbconvert_exporter": "python",
   "pygments_lexer": "ipython3",
   "version": "3.12.7"
  }
 },
 "nbformat": 4,
 "nbformat_minor": 5
}
