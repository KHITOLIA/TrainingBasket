{
 "cells": [
  {
   "cell_type": "code",
   "execution_count": 1,
   "id": "2c52be50-2f6b-4c5c-ae41-f5687ad11662",
   "metadata": {},
   "outputs": [],
   "source": [
    "def outer(x):\n",
    "    def inner():\n",
    "        return x*x\n",
    "    return inner    "
   ]
  },
  {
   "cell_type": "code",
   "execution_count": 2,
   "id": "34e2964e-42c8-4d6d-8be1-5105fdc93930",
   "metadata": {},
   "outputs": [],
   "source": [
    "closure = outer(5)"
   ]
  },
  {
   "cell_type": "code",
   "execution_count": 4,
   "id": "3cb863dc-3a2c-4bc1-94b5-d87da88cf769",
   "metadata": {},
   "outputs": [
    {
     "data": {
      "text/plain": [
       "25"
      ]
     },
     "execution_count": 4,
     "metadata": {},
     "output_type": "execute_result"
    }
   ],
   "source": [
    "closure()"
   ]
  },
  {
   "cell_type": "code",
   "execution_count": 35,
   "id": "fd0a1e40-d7d4-430d-bcf2-39573b563e30",
   "metadata": {},
   "outputs": [],
   "source": [
    "def counter():\n",
    "    count = 0\n",
    "    def increment():\n",
    "        nonlocal count\n",
    "        count += 1\n",
    "        return count\n",
    "    return increment    "
   ]
  },
  {
   "cell_type": "code",
   "execution_count": 36,
   "id": "55f218d7-4b39-481e-806d-db190663a9da",
   "metadata": {},
   "outputs": [],
   "source": [
    "c = counter()"
   ]
  },
  {
   "cell_type": "code",
   "execution_count": 37,
   "id": "9bcaca5c-05e2-4144-bba8-72adca0bb074",
   "metadata": {},
   "outputs": [
    {
     "name": "stdout",
     "output_type": "stream",
     "text": [
      "1\n"
     ]
    }
   ],
   "source": [
    "print(c())"
   ]
  },
  {
   "cell_type": "code",
   "execution_count": 60,
   "id": "23f92856-dc4f-427f-9e5e-1b34af06ec03",
   "metadata": {},
   "outputs": [],
   "source": [
    "def multiplier(factor):\n",
    "    def multiply_by(x):\n",
    "        return x*factor\n",
    "    return multiply_by"
   ]
  },
  {
   "cell_type": "code",
   "execution_count": 61,
   "id": "825cb4b4-4fee-4e11-9e2f-0fc51f7533d8",
   "metadata": {},
   "outputs": [],
   "source": [
    "two_table = multiplier(2)"
   ]
  },
  {
   "cell_type": "code",
   "execution_count": 63,
   "id": "b357a3bb-f224-406a-9be1-79970a9ef930",
   "metadata": {},
   "outputs": [
    {
     "data": {
      "text/plain": [
       "4"
      ]
     },
     "execution_count": 63,
     "metadata": {},
     "output_type": "execute_result"
    }
   ],
   "source": [
    "two_table(2)"
   ]
  },
  {
   "cell_type": "code",
   "execution_count": 100,
   "id": "00ead0da-d568-4620-aea7-3eaf21d5b37d",
   "metadata": {},
   "outputs": [],
   "source": [
    "# n = 2\n",
    "# two_table = multiplier(n)\n",
    "# for i in range(1,11):\n",
    "#     print(two_table(i))"
   ]
  },
  {
   "cell_type": "code",
   "execution_count": 67,
   "id": "2363d01b-c03a-4f48-8501-ae8eaf60233d",
   "metadata": {},
   "outputs": [],
   "source": [
    "# @decorator_name\n",
    "# def function():\n",
    "#     pass"
   ]
  },
  {
   "cell_type": "code",
   "execution_count": 68,
   "id": "befbcb6c-1d1d-4640-af7a-1388f20be871",
   "metadata": {},
   "outputs": [],
   "source": [
    "def greet_decorator(func):\n",
    "    def wrapper():\n",
    "        print(\"hello\")\n",
    "        func()\n",
    "        print(\"Goodbye!\")\n",
    "    return wrapper    "
   ]
  },
  {
   "cell_type": "code",
   "execution_count": 69,
   "id": "d5cbee3c-bba8-46ae-af77-90cc052989eb",
   "metadata": {},
   "outputs": [],
   "source": [
    "@greet_decorator\n",
    "def say_name():\n",
    "    print(\"I'm Tushar\")"
   ]
  },
  {
   "cell_type": "code",
   "execution_count": 70,
   "id": "01dcdd96-8cf1-43f5-bf9f-304a3b363f21",
   "metadata": {},
   "outputs": [
    {
     "name": "stdout",
     "output_type": "stream",
     "text": [
      "hello\n",
      "I'm Tushar\n",
      "Goodbye!\n"
     ]
    }
   ],
   "source": [
    "say_name()"
   ]
  },
  {
   "cell_type": "code",
   "execution_count": 72,
   "id": "b4c45861-e3cb-4bb6-8f5b-3a53d3737713",
   "metadata": {},
   "outputs": [],
   "source": [
    "def logger(func):\n",
    "    def wrapper(*args, **kwargs):\n",
    "        print(f\"calling {func.__name__}\")\n",
    "        return func(*args, **kwargs)\n",
    "    return wrapper    "
   ]
  },
  {
   "cell_type": "code",
   "execution_count": 74,
   "id": "11635ce3-36c3-417b-9b97-8c49f7095214",
   "metadata": {},
   "outputs": [],
   "source": [
    "@logger\n",
    "def add(a,b):\n",
    "    return a+b\n",
    "    "
   ]
  },
  {
   "cell_type": "code",
   "execution_count": 75,
   "id": "cd02944a-f666-4a06-8041-46dc85c8beb3",
   "metadata": {},
   "outputs": [
    {
     "name": "stdout",
     "output_type": "stream",
     "text": [
      "calling add\n",
      "5\n"
     ]
    }
   ],
   "source": [
    "print(add(2, 3))"
   ]
  },
  {
   "cell_type": "code",
   "execution_count": 95,
   "id": "c940c2f5-05cf-4552-8ded-0978081810ca",
   "metadata": {},
   "outputs": [],
   "source": [
    "import time\n",
    "def timer(func):\n",
    "    def wrapper(*args, **kwargs):\n",
    "        start = time.time()\n",
    "        result = func(*args, **kwargs)\n",
    "        print(\"Executed in \", time.time() - start)\n",
    "        print(result)\n",
    "    return wrapper"
   ]
  },
  {
   "cell_type": "code",
   "execution_count": 98,
   "id": "4da52bdd-7de3-4402-b32c-8f373a58d1a6",
   "metadata": {},
   "outputs": [],
   "source": [
    "@timer\n",
    "def time_function():\n",
    "    pass"
   ]
  },
  {
   "cell_type": "code",
   "execution_count": 99,
   "id": "a8c0538a-1fd6-4a52-9983-bc6898e2461f",
   "metadata": {},
   "outputs": [
    {
     "name": "stdout",
     "output_type": "stream",
     "text": [
      "Executed in  0.0\n",
      "None\n"
     ]
    }
   ],
   "source": [
    "time_function()"
   ]
  },
  {
   "cell_type": "code",
   "execution_count": 140,
   "id": "eab69e99-6ef4-4c77-9a95-f3d365504f89",
   "metadata": {},
   "outputs": [],
   "source": [
    "nums = [23, 45, 12, 100, 50, 49, 40]\n",
    "filter_data = list(filter(str, nums))"
   ]
  },
  {
   "cell_type": "code",
   "execution_count": 141,
   "id": "01a1a890-1340-4385-be8f-6df49fb13c60",
   "metadata": {},
   "outputs": [
    {
     "data": {
      "text/plain": [
       "[23, 45, 12, 100, 50, 49, 40]"
      ]
     },
     "execution_count": 141,
     "metadata": {},
     "output_type": "execute_result"
    }
   ],
   "source": [
    "filter_data"
   ]
  },
  {
   "cell_type": "code",
   "execution_count": 105,
   "id": "2c2bafed-4207-4d98-a1ab-248128a9cd25",
   "metadata": {},
   "outputs": [
    {
     "name": "stdout",
     "output_type": "stream",
     "text": [
      "0\n",
      "1\n",
      "2\n"
     ]
    }
   ],
   "source": [
    "for i in range(3):\n",
    "    print(i)"
   ]
  },
  {
   "cell_type": "code",
   "execution_count": 108,
   "id": "46b61014-aaf9-4b20-ade8-968f817c8120",
   "metadata": {},
   "outputs": [
    {
     "name": "stdout",
     "output_type": "stream",
     "text": [
      "2\n",
      "3\n",
      "4\n",
      "5\n",
      "6\n"
     ]
    }
   ],
   "source": [
    "l = [2, 3, 4, 5, 6]\n",
    "for i in l:\n",
    "    print(i)"
   ]
  },
  {
   "cell_type": "code",
   "execution_count": 109,
   "id": "0a1118c7-1422-4386-9bfc-19d868c9aad9",
   "metadata": {},
   "outputs": [
    {
     "name": "stdout",
     "output_type": "stream",
     "text": [
      "2\n",
      "3\n",
      "4\n",
      "5\n",
      "6\n"
     ]
    }
   ],
   "source": [
    "for i in l:\n",
    "    print(i)"
   ]
  },
  {
   "cell_type": "code",
   "execution_count": 118,
   "id": "f18c1c84-2169-4422-ab77-6e4aa6aee665",
   "metadata": {},
   "outputs": [],
   "source": [
    "l = [2, 3, 4, 5, 6]\n",
    "l = iter(l)"
   ]
  },
  {
   "cell_type": "code",
   "execution_count": 117,
   "id": "c2e8aaf2-dbbd-487e-89f6-1c84a0822b57",
   "metadata": {},
   "outputs": [
    {
     "ename": "StopIteration",
     "evalue": "",
     "output_type": "error",
     "traceback": [
      "\u001b[1;31m---------------------------------------------------------------------------\u001b[0m",
      "\u001b[1;31mStopIteration\u001b[0m                             Traceback (most recent call last)",
      "Cell \u001b[1;32mIn[117], line 1\u001b[0m\n\u001b[1;32m----> 1\u001b[0m \u001b[38;5;28mprint\u001b[39m(\u001b[38;5;28mnext\u001b[39m(l))\n",
      "\u001b[1;31mStopIteration\u001b[0m: "
     ]
    }
   ],
   "source": [
    "print(next(l))"
   ]
  },
  {
   "cell_type": "code",
   "execution_count": 119,
   "id": "19ff6f91-aac2-40f8-9360-3f6bb9ef39d1",
   "metadata": {},
   "outputs": [
    {
     "name": "stdout",
     "output_type": "stream",
     "text": [
      "2\n",
      "3\n",
      "4\n",
      "5\n",
      "6\n"
     ]
    }
   ],
   "source": [
    "l = [2, 3, 4, 5, 6]\n",
    "l = iter(l)\n",
    "for i in l:\n",
    "    print(i)"
   ]
  },
  {
   "cell_type": "code",
   "execution_count": 122,
   "id": "b8c82e39-2d06-4b0b-bdc5-7cdb0c71586b",
   "metadata": {},
   "outputs": [],
   "source": [
    "for i in l:\n",
    "    print(i)"
   ]
  },
  {
   "cell_type": "code",
   "execution_count": 144,
   "id": "982f7746-07b3-42f0-a6b6-c6dde449a312",
   "metadata": {},
   "outputs": [],
   "source": [
    "words = ['hello', 'heemang', 'aditya']"
   ]
  },
  {
   "cell_type": "code",
   "execution_count": 154,
   "id": "6d06bdc3-3bdd-487e-b686-44ccfb7602a6",
   "metadata": {},
   "outputs": [],
   "source": [
    "length = list(map(len, words))"
   ]
  },
  {
   "cell_type": "code",
   "execution_count": 153,
   "id": "0caf1900-6221-4290-ac7e-5a4955924ebd",
   "metadata": {},
   "outputs": [
    {
     "data": {
      "text/plain": [
       "[5, 7, 6]"
      ]
     },
     "execution_count": 153,
     "metadata": {},
     "output_type": "execute_result"
    }
   ],
   "source": [
    "length"
   ]
  },
  {
   "cell_type": "code",
   "execution_count": 157,
   "id": "9e32a858-3538-403c-b4c2-3dcaa4a12b37",
   "metadata": {},
   "outputs": [],
   "source": [
    "# lambda\n",
    "# map\n",
    "# filter\n",
    "# iter \n",
    "# reduce"
   ]
  },
  {
   "cell_type": "code",
   "execution_count": 166,
   "id": "bfef47b0-a973-4721-a819-d9da300f4643",
   "metadata": {},
   "outputs": [],
   "source": [
    "data = ['Python', \"\", \"\",\"Ml\", 'Web dev']\n",
    "data = list(filter(lambda x : x !=\"\", data))"
   ]
  },
  {
   "cell_type": "code",
   "execution_count": 167,
   "id": "3fd1609b-e11d-46fc-886b-5b1e0e463dd1",
   "metadata": {},
   "outputs": [
    {
     "data": {
      "text/plain": [
       "['Python', 'Ml', 'Web dev']"
      ]
     },
     "execution_count": 167,
     "metadata": {},
     "output_type": "execute_result"
    }
   ],
   "source": [
    "data"
   ]
  },
  {
   "cell_type": "code",
   "execution_count": 175,
   "id": "2ba0a0a8-0994-4962-90c9-de40c70c4e14",
   "metadata": {},
   "outputs": [],
   "source": [
    "data = ['moon', 'naman', 'nitin', 'hello', 'python']\n",
    "data = list(filter(lambda x : x == x[::-1], data))\n",
    "# try with the user defined function"
   ]
  },
  {
   "cell_type": "code",
   "execution_count": 170,
   "id": "2eb62dba-bfa1-4eed-911b-3ac902681972",
   "metadata": {},
   "outputs": [
    {
     "data": {
      "text/plain": [
       "['naman', 'nitin']"
      ]
     },
     "execution_count": 170,
     "metadata": {},
     "output_type": "execute_result"
    }
   ],
   "source": [
    "data"
   ]
  },
  {
   "cell_type": "code",
   "execution_count": 173,
   "id": "8130b444-d60a-48c9-bd9c-532892f8ccf2",
   "metadata": {},
   "outputs": [],
   "source": [
    "st = 'namar'"
   ]
  },
  {
   "cell_type": "code",
   "execution_count": 174,
   "id": "2996a729-c95d-4548-b38c-53da5e18a186",
   "metadata": {},
   "outputs": [
    {
     "data": {
      "text/plain": [
       "'raman'"
      ]
     },
     "execution_count": 174,
     "metadata": {},
     "output_type": "execute_result"
    }
   ],
   "source": [
    "st[::-1]"
   ]
  },
  {
   "cell_type": "code",
   "execution_count": 176,
   "id": "b1e1dcb2-ce5a-4ae5-a964-ee75cc94dd83",
   "metadata": {},
   "outputs": [],
   "source": [
    "# Reduce : Performing cumulative operation on a sequence"
   ]
  },
  {
   "cell_type": "code",
   "execution_count": 183,
   "id": "07b70686-68d7-4a04-b108-f18c4ca14da6",
   "metadata": {},
   "outputs": [
    {
     "data": {
      "text/plain": [
       "28"
      ]
     },
     "execution_count": 183,
     "metadata": {},
     "output_type": "execute_result"
    }
   ],
   "source": [
    "from functools import reduce\n",
    "nums = [1, 2, 3, 4, 5, 6, 7]  #1234567\n",
    "total = reduce(lambda x, y : x+y, nums)\n",
    "total"
   ]
  },
  {
   "cell_type": "code",
   "execution_count": 182,
   "id": "a8cea55e-2055-4c53-a9a3-d3b57e449bab",
   "metadata": {},
   "outputs": [
    {
     "name": "stdout",
     "output_type": "stream",
     "text": [
      "Programming is awesome\n"
     ]
    }
   ],
   "source": [
    "words = ['Programming','is','awesome']\n",
    "result = reduce(lambda x, y: x +\" \"+ y, words)\n",
    "print(result)"
   ]
  },
  {
   "cell_type": "code",
   "execution_count": 191,
   "id": "e76c6be2-6511-4630-b807-8ffa6d15fb81",
   "metadata": {},
   "outputs": [
    {
     "data": {
      "text/plain": [
       "1234567"
      ]
     },
     "execution_count": 191,
     "metadata": {},
     "output_type": "execute_result"
    }
   ],
   "source": [
    "nums = [1, 2, 3, 4, 5, 6, 7]\n",
    "# nums = list(map(str, nums))\n",
    "reduce(lambda x ,y : x*10 +y, nums)\n",
    "# result = reduce(lambda x, y: x +\"\"+ y, nums)\n"
   ]
  },
  {
   "cell_type": "code",
   "execution_count": null,
   "id": "b3cbc866-9d57-4ae1-82c1-7b9fb6e6f742",
   "metadata": {},
   "outputs": [],
   "source": [
    "# closure "
   ]
  },
  {
   "cell_type": "code",
   "execution_count": 192,
   "id": "f7fe8707-371b-4a2d-b771-c77155336682",
   "metadata": {},
   "outputs": [],
   "source": [
    "def outer(x):\n",
    "    def inner():\n",
    "        return x*x\n",
    "    return inner    "
   ]
  },
  {
   "cell_type": "code",
   "execution_count": 193,
   "id": "7bb695f0-72ca-4be3-abf5-56340ccc8e60",
   "metadata": {},
   "outputs": [],
   "source": [
    "closure = outer(5)"
   ]
  },
  {
   "cell_type": "code",
   "execution_count": 195,
   "id": "a62dc325-cf34-4842-a049-50106fb8b0a5",
   "metadata": {},
   "outputs": [
    {
     "data": {
      "text/plain": [
       "25"
      ]
     },
     "execution_count": 195,
     "metadata": {},
     "output_type": "execute_result"
    }
   ],
   "source": [
    "closure()"
   ]
  },
  {
   "cell_type": "code",
   "execution_count": 196,
   "id": "a9107d71-2c57-4a82-98c1-f09e821da21a",
   "metadata": {},
   "outputs": [],
   "source": [
    "def outer_func(message):\n",
    "    def inner_func():\n",
    "        print(message)\n",
    "    return inner_func    "
   ]
  },
  {
   "cell_type": "code",
   "execution_count": 197,
   "id": "3ac4215c-987b-45fe-ae5c-31f7ce988100",
   "metadata": {},
   "outputs": [],
   "source": [
    "cls = outer_func(\"Hello, Aditya needs a closure!\")"
   ]
  },
  {
   "cell_type": "code",
   "execution_count": 198,
   "id": "e89ced24-9124-4d34-96d4-690a7f6af964",
   "metadata": {},
   "outputs": [
    {
     "name": "stdout",
     "output_type": "stream",
     "text": [
      "Hello, Aditya needs a closure!\n"
     ]
    }
   ],
   "source": [
    "cls()"
   ]
  },
  {
   "cell_type": "code",
   "execution_count": 202,
   "id": "bf68d810-a2f2-4aac-a38f-6ff2d4d887bc",
   "metadata": {},
   "outputs": [],
   "source": [
    "def counter():\n",
    "    count = 0\n",
    "    def increment():\n",
    "        nonlocal count  # helps to access the local variable from the outer function\n",
    "        count += 1\n",
    "        return count\n",
    "        \n",
    "    return increment"
   ]
  },
  {
   "cell_type": "code",
   "execution_count": 209,
   "id": "510b9e10-8b35-417e-ae72-fe805623fdfc",
   "metadata": {},
   "outputs": [],
   "source": [
    "c = counter()"
   ]
  },
  {
   "cell_type": "code",
   "execution_count": 207,
   "id": "83a8e5b1-cdfe-42d0-88bd-a6482ee4c1db",
   "metadata": {},
   "outputs": [
    {
     "name": "stdout",
     "output_type": "stream",
     "text": [
      "4\n"
     ]
    }
   ],
   "source": [
    "print(c())"
   ]
  },
  {
   "cell_type": "code",
   "execution_count": 210,
   "id": "2968e890-3403-4793-8117-d03dd4b4bce3",
   "metadata": {},
   "outputs": [
    {
     "name": "stdout",
     "output_type": "stream",
     "text": [
      "1\n",
      "2\n",
      "3\n",
      "4\n",
      "5\n",
      "6\n",
      "7\n",
      "8\n",
      "9\n",
      "10\n"
     ]
    }
   ],
   "source": [
    "for i in range(10):\n",
    "    print(c())"
   ]
  },
  {
   "cell_type": "code",
   "execution_count": 217,
   "id": "b1a8c383-bc9a-49b5-a137-402fc680ff64",
   "metadata": {},
   "outputs": [],
   "source": [
    "def multiplier(factor):\n",
    "    def multiply_by(x):\n",
    "        return factor*x\n",
    "    return multiply_by   "
   ]
  },
  {
   "cell_type": "code",
   "execution_count": 218,
   "id": "1ba6c0a3-74d4-4d96-bd17-3d356e1a96c8",
   "metadata": {},
   "outputs": [],
   "source": [
    "two_table = multiplier(2)"
   ]
  },
  {
   "cell_type": "code",
   "execution_count": 221,
   "id": "6317424e-3047-4ec1-b048-d59c5050b6ef",
   "metadata": {},
   "outputs": [
    {
     "data": {
      "text/plain": [
       "6"
      ]
     },
     "execution_count": 221,
     "metadata": {},
     "output_type": "execute_result"
    }
   ],
   "source": [
    "two_table(3)"
   ]
  },
  {
   "cell_type": "code",
   "execution_count": 222,
   "id": "ef908493-ed3f-4056-a880-86eae32dea0c",
   "metadata": {},
   "outputs": [
    {
     "name": "stdout",
     "output_type": "stream",
     "text": [
      "2\n",
      "4\n",
      "6\n",
      "8\n",
      "10\n",
      "12\n",
      "14\n",
      "16\n",
      "18\n",
      "20\n"
     ]
    }
   ],
   "source": [
    "for i in range(1,11):\n",
    "    print(two_table(i))"
   ]
  },
  {
   "cell_type": "code",
   "execution_count": 223,
   "id": "37147f13-10ca-4d23-bbe1-5966efe2addb",
   "metadata": {},
   "outputs": [],
   "source": [
    "# decorators"
   ]
  },
  {
   "cell_type": "code",
   "execution_count": 224,
   "id": "f772679a-f4a4-436f-a68f-eaef95afcfaa",
   "metadata": {},
   "outputs": [],
   "source": [
    "# @decorator_name\n",
    "# def function():\n",
    "#     pass"
   ]
  },
  {
   "cell_type": "code",
   "execution_count": 226,
   "id": "3257e842-c7e5-4821-94d2-4c9458d1d68a",
   "metadata": {},
   "outputs": [],
   "source": [
    "def greet_decorator(func):\n",
    "    def wrapper():\n",
    "        print(\"Finally \")\n",
    "        func()\n",
    "        print(\"Now Aditya gets a closure\")\n",
    "    return wrapper    "
   ]
  },
  {
   "cell_type": "code",
   "execution_count": 227,
   "id": "89633d9c-9fce-46bd-9044-958ab994339c",
   "metadata": {},
   "outputs": [],
   "source": [
    "@greet_decorator\n",
    "def say_name():\n",
    "    print(\"Hello\")"
   ]
  },
  {
   "cell_type": "code",
   "execution_count": 228,
   "id": "1e64171e-4678-41c8-8480-a6b1c16074f9",
   "metadata": {},
   "outputs": [
    {
     "name": "stdout",
     "output_type": "stream",
     "text": [
      "Finally \n",
      "Hello\n",
      "Now Aditya gets a closure\n"
     ]
    }
   ],
   "source": [
    "say_name()"
   ]
  },
  {
   "cell_type": "code",
   "execution_count": 229,
   "id": "3ca8d260-032a-42ee-ac73-e4f9d94743e6",
   "metadata": {},
   "outputs": [],
   "source": [
    "def logger(func):\n",
    "    def wrapper(a, b):\n",
    "        print(f\"calling {func.__name__}\")\n",
    "        return func(a, b)\n",
    "    return wrapper    "
   ]
  },
  {
   "cell_type": "code",
   "execution_count": 230,
   "id": "e06390fb-8492-42ea-bbd9-03182cb9eaf8",
   "metadata": {},
   "outputs": [],
   "source": [
    "@logger\n",
    "def add(c, d):\n",
    "    return c+d"
   ]
  },
  {
   "cell_type": "code",
   "execution_count": 231,
   "id": "c98790f8-d9c9-4602-a3d5-60aa5d836536",
   "metadata": {},
   "outputs": [
    {
     "name": "stdout",
     "output_type": "stream",
     "text": [
      "calling add\n"
     ]
    },
    {
     "data": {
      "text/plain": [
       "5"
      ]
     },
     "execution_count": 231,
     "metadata": {},
     "output_type": "execute_result"
    }
   ],
   "source": [
    "add(2, 3)"
   ]
  },
  {
   "cell_type": "code",
   "execution_count": null,
   "id": "44c40223-89d1-43a3-931c-670dec169b4a",
   "metadata": {},
   "outputs": [],
   "source": [
    "# make a decorator for finding the execution time for print \"Hello world\""
   ]
  }
 ],
 "metadata": {
  "kernelspec": {
   "display_name": "Python 3 (ipykernel)",
   "language": "python",
   "name": "python3"
  },
  "language_info": {
   "codemirror_mode": {
    "name": "ipython",
    "version": 3
   },
   "file_extension": ".py",
   "mimetype": "text/x-python",
   "name": "python",
   "nbconvert_exporter": "python",
   "pygments_lexer": "ipython3",
   "version": "3.12.7"
  }
 },
 "nbformat": 4,
 "nbformat_minor": 5
}
