{
 "cells": [
  {
   "cell_type": "code",
   "execution_count": 2,
   "id": "9844e6d5-5a09-40a2-a48e-f35417631eb9",
   "metadata": {},
   "outputs": [],
   "source": [
    "def divider(a, b):\n",
    "    return a/b"
   ]
  },
  {
   "cell_type": "code",
   "execution_count": 3,
   "id": "441a2af9-6e2b-446b-9c44-774b6dd8d043",
   "metadata": {},
   "outputs": [
    {
     "data": {
      "text/plain": [
       "3.0"
      ]
     },
     "execution_count": 3,
     "metadata": {},
     "output_type": "execute_result"
    }
   ],
   "source": [
    "divider(9, 3)"
   ]
  },
  {
   "cell_type": "code",
   "execution_count": 4,
   "id": "5ab1003e-e3bf-440e-8f8c-356ec08bcb03",
   "metadata": {},
   "outputs": [
    {
     "ename": "ZeroDivisionError",
     "evalue": "division by zero",
     "output_type": "error",
     "traceback": [
      "\u001b[1;31m---------------------------------------------------------------------------\u001b[0m",
      "\u001b[1;31mZeroDivisionError\u001b[0m                         Traceback (most recent call last)",
      "Cell \u001b[1;32mIn[4], line 1\u001b[0m\n\u001b[1;32m----> 1\u001b[0m divider(\u001b[38;5;241m9\u001b[39m, \u001b[38;5;241m0\u001b[39m)\n",
      "Cell \u001b[1;32mIn[2], line 2\u001b[0m, in \u001b[0;36mdivider\u001b[1;34m(a, b)\u001b[0m\n\u001b[0;32m      1\u001b[0m \u001b[38;5;28;01mdef\u001b[39;00m \u001b[38;5;21mdivider\u001b[39m(a, b):\n\u001b[1;32m----> 2\u001b[0m     \u001b[38;5;28;01mreturn\u001b[39;00m a\u001b[38;5;241m/\u001b[39mb\n",
      "\u001b[1;31mZeroDivisionError\u001b[0m: division by zero"
     ]
    }
   ],
   "source": [
    "divider(9, 0)"
   ]
  },
  {
   "cell_type": "code",
   "execution_count": 6,
   "id": "0096deae-55c3-4ea1-9a83-1a092eb67ab9",
   "metadata": {},
   "outputs": [],
   "source": [
    "def divider(a,b):\n",
    "    try:\n",
    "        return a/b\n",
    "    except ZeroDivisionError:\n",
    "        print(\"Denominator is zero\")\n",
    "        return 0"
   ]
  },
  {
   "cell_type": "code",
   "execution_count": 7,
   "id": "bfd8e71e-3485-4e24-b16b-6abf422be403",
   "metadata": {},
   "outputs": [
    {
     "data": {
      "text/plain": [
       "3.0"
      ]
     },
     "execution_count": 7,
     "metadata": {},
     "output_type": "execute_result"
    }
   ],
   "source": [
    "divider(9, 3)"
   ]
  },
  {
   "cell_type": "code",
   "execution_count": 8,
   "id": "01e78d4c-8dc2-45a5-8f89-0c4e7c6a95ab",
   "metadata": {},
   "outputs": [
    {
     "name": "stdout",
     "output_type": "stream",
     "text": [
      "Denominator is zero\n"
     ]
    },
    {
     "data": {
      "text/plain": [
       "0"
      ]
     },
     "execution_count": 8,
     "metadata": {},
     "output_type": "execute_result"
    }
   ],
   "source": [
    "divider(9, 0)"
   ]
  },
  {
   "cell_type": "code",
   "execution_count": 14,
   "id": "afa95412-5609-4447-b4bf-997bcd4a44fa",
   "metadata": {},
   "outputs": [],
   "source": [
    "def divider(a,b):\n",
    "    try:\n",
    "        return a/b\n",
    "    except ZeroDivisionError:\n",
    "        print(\"Denominator is zero\")\n",
    "    except TypeError:\n",
    "        print(\"Type error : string has been passed\")"
   ]
  },
  {
   "cell_type": "code",
   "execution_count": 15,
   "id": "3db909ec-6437-4ba2-84fb-8c218341ae93",
   "metadata": {},
   "outputs": [
    {
     "name": "stdout",
     "output_type": "stream",
     "text": [
      "Denominator is zero\n"
     ]
    }
   ],
   "source": [
    "divider(9, 0)"
   ]
  },
  {
   "cell_type": "code",
   "execution_count": 16,
   "id": "9c75716b-c49f-4482-8848-e689d93cb6e8",
   "metadata": {},
   "outputs": [],
   "source": [
    "def divider(a,b):\n",
    "    try:\n",
    "        return a/b\n",
    "    except ZeroDivisionError:\n",
    "        print(\"Denominator is zero\")\n",
    "    except TypeError:\n",
    "        print(\"Type error : string has been passed\")\n",
    "    except Exception as e:\n",
    "        print(e)"
   ]
  },
  {
   "cell_type": "code",
   "execution_count": 18,
   "id": "0b8aaf33-70e4-4997-9c0a-b8b72f30fc67",
   "metadata": {},
   "outputs": [
    {
     "name": "stdout",
     "output_type": "stream",
     "text": [
      "Type error : string has been passed\n"
     ]
    }
   ],
   "source": [
    "divider([1,2,3,4], 9)"
   ]
  },
  {
   "cell_type": "code",
   "execution_count": 21,
   "id": "73423b31-2f32-409c-a683-db4f65aec7ab",
   "metadata": {},
   "outputs": [],
   "source": [
    "def divider(a,b):\n",
    "    try:\n",
    "        return a/b\n",
    "    # except ZeroDivisionError:\n",
    "    #     print(\"Denominator is zero\")\n",
    "    # except TypeError:\n",
    "    #     print(\"Type error : string has been passed\")\n",
    "    except Exception as e:\n",
    "        print(e)"
   ]
  },
  {
   "cell_type": "code",
   "execution_count": 22,
   "id": "efe795c4-8889-42b0-beeb-4c61db22bd70",
   "metadata": {},
   "outputs": [
    {
     "name": "stdout",
     "output_type": "stream",
     "text": [
      "division by zero\n"
     ]
    }
   ],
   "source": [
    "divider(9, 0)"
   ]
  },
  {
   "cell_type": "code",
   "execution_count": 24,
   "id": "dae00d1e-b77c-4f82-a7ba-8521895ea002",
   "metadata": {},
   "outputs": [
    {
     "name": "stdout",
     "output_type": "stream",
     "text": [
      "unsupported operand type(s) for /: 'str' and 'int'\n"
     ]
    }
   ],
   "source": [
    "divider('tusahr', 3)"
   ]
  },
  {
   "cell_type": "code",
   "execution_count": 25,
   "id": "40de3dec-8495-41fc-8594-afb3b6185756",
   "metadata": {},
   "outputs": [
    {
     "ename": "TypeError",
     "evalue": "unsupported operand type(s) for /: 'str' and 'int'",
     "output_type": "error",
     "traceback": [
      "\u001b[1;31m---------------------------------------------------------------------------\u001b[0m",
      "\u001b[1;31mTypeError\u001b[0m                                 Traceback (most recent call last)",
      "Cell \u001b[1;32mIn[25], line 1\u001b[0m\n\u001b[1;32m----> 1\u001b[0m \u001b[38;5;124m'\u001b[39m\u001b[38;5;124mtusahr\u001b[39m\u001b[38;5;124m'\u001b[39m\u001b[38;5;241m/\u001b[39m\u001b[38;5;241m3\u001b[39m\n",
      "\u001b[1;31mTypeError\u001b[0m: unsupported operand type(s) for /: 'str' and 'int'"
     ]
    }
   ],
   "source": [
    "'tusahr'/3"
   ]
  },
  {
   "cell_type": "code",
   "execution_count": 26,
   "id": "d7896f2b-8a76-4dee-ac6b-612c14f9ce60",
   "metadata": {},
   "outputs": [],
   "source": [
    "def divider(a,b):\n",
    "    try:\n",
    "        return a/b\n",
    "    # except ZeroDivisionError:\n",
    "    #     print(\"Denominator is zero\")\n",
    "    # except TypeError:\n",
    "    #     print(\"Type error : string has been passed\")\n",
    "    except Exception as e:\n",
    "        print(e)\n",
    "\n",
    "    finally:\n",
    "        c = int(input('enter the number = '))\n",
    "        return a/c"
   ]
  },
  {
   "cell_type": "code",
   "execution_count": 27,
   "id": "b0348887-185f-4d61-936a-16a1bd75ad0b",
   "metadata": {},
   "outputs": [
    {
     "name": "stdin",
     "output_type": "stream",
     "text": [
      "enter the number =  3\n"
     ]
    },
    {
     "data": {
      "text/plain": [
       "3.0"
      ]
     },
     "execution_count": 27,
     "metadata": {},
     "output_type": "execute_result"
    }
   ],
   "source": [
    "divider(9, 3)"
   ]
  },
  {
   "cell_type": "code",
   "execution_count": 28,
   "id": "1c27edc3-eefe-4608-bf05-7cdec8bfa2de",
   "metadata": {},
   "outputs": [
    {
     "name": "stdout",
     "output_type": "stream",
     "text": [
      "division by zero\n"
     ]
    },
    {
     "name": "stdin",
     "output_type": "stream",
     "text": [
      "enter the number =  9\n"
     ]
    },
    {
     "data": {
      "text/plain": [
       "1.0"
      ]
     },
     "execution_count": 28,
     "metadata": {},
     "output_type": "execute_result"
    }
   ],
   "source": [
    "divider(9, 0)"
   ]
  },
  {
   "cell_type": "code",
   "execution_count": 34,
   "id": "b77cfecf-9df2-4021-9a87-dffef787dcc9",
   "metadata": {},
   "outputs": [
    {
     "name": "stdin",
     "output_type": "stream",
     "text": [
      "enter an integer =  '23'\n"
     ]
    },
    {
     "name": "stdout",
     "output_type": "stream",
     "text": [
      "number entered is not an integer\n"
     ]
    }
   ],
   "source": [
    "try:\n",
    "    num = int(input(\"enter an integer = \"))\n",
    "except ValueError:\n",
    "    print(\"number entered is not an integer\")"
   ]
  },
  {
   "cell_type": "code",
   "execution_count": 37,
   "id": "7c1511b6-0636-456a-8a39-d78eeaebb123",
   "metadata": {},
   "outputs": [
    {
     "name": "stdin",
     "output_type": "stream",
     "text": [
      "enter an integer =  34532\n"
     ]
    },
    {
     "name": "stdout",
     "output_type": "stream",
     "text": [
      "integer accepted\n"
     ]
    }
   ],
   "source": [
    "try:\n",
    "    num = int(input(\"enter an integer = \"))\n",
    "    print(\"integer accepted\")\n",
    "except ValueError:\n",
    "    print(\"number entered is not an integer\")"
   ]
  },
  {
   "cell_type": "code",
   "execution_count": 38,
   "id": "b4aeb75c-4189-4e78-8207-32ddd20c13d7",
   "metadata": {},
   "outputs": [],
   "source": [
    "# File handling : "
   ]
  },
  {
   "cell_type": "code",
   "execution_count": 48,
   "id": "f9f9435b-7a6b-4f38-a06c-eb4f3db2bdad",
   "metadata": {},
   "outputs": [],
   "source": [
    "file = open('python.txt', 'r')"
   ]
  },
  {
   "cell_type": "code",
   "execution_count": 40,
   "id": "f8a3f824-b2f3-4e93-b6ff-f9433e1c46ad",
   "metadata": {},
   "outputs": [
    {
     "data": {
      "text/plain": [
       "<_io.TextIOWrapper name='python.txt' mode='r' encoding='cp1252'>"
      ]
     },
     "execution_count": 40,
     "metadata": {},
     "output_type": "execute_result"
    }
   ],
   "source": [
    "file"
   ]
  },
  {
   "cell_type": "code",
   "execution_count": 45,
   "id": "db704562-3ec9-4577-91bd-fc77cd4374c8",
   "metadata": {},
   "outputs": [
    {
     "data": {
      "text/plain": [
       "'Machine learning Hello'"
      ]
     },
     "execution_count": 45,
     "metadata": {},
     "output_type": "execute_result"
    }
   ],
   "source": [
    "file.read()"
   ]
  },
  {
   "cell_type": "code",
   "execution_count": 46,
   "id": "80e9830e-4157-41a7-81e1-b63e0f1db7fc",
   "metadata": {},
   "outputs": [
    {
     "data": {
      "text/plain": [
       "''"
      ]
     },
     "execution_count": 46,
     "metadata": {},
     "output_type": "execute_result"
    }
   ],
   "source": [
    "file.read()"
   ]
  },
  {
   "cell_type": "code",
   "execution_count": 47,
   "id": "200e8a76-1a51-4475-8d8c-21d07800bba4",
   "metadata": {},
   "outputs": [],
   "source": [
    "file.close()"
   ]
  },
  {
   "cell_type": "code",
   "execution_count": 49,
   "id": "8a2b8740-eeee-41d2-bcd8-2e1ce2c7eaa1",
   "metadata": {},
   "outputs": [
    {
     "data": {
      "text/plain": [
       "'Machine learning Hello'"
      ]
     },
     "execution_count": 49,
     "metadata": {},
     "output_type": "execute_result"
    }
   ],
   "source": [
    "file.read()"
   ]
  },
  {
   "cell_type": "code",
   "execution_count": 50,
   "id": "4f3ec070-8b03-4ffb-a502-0586ec479c06",
   "metadata": {},
   "outputs": [
    {
     "data": {
      "text/plain": [
       "7"
      ]
     },
     "execution_count": 50,
     "metadata": {},
     "output_type": "execute_result"
    }
   ],
   "source": [
    "file.seek(7)"
   ]
  },
  {
   "cell_type": "code",
   "execution_count": 51,
   "id": "2e9126a7-843d-4309-8880-d2ea4ef04b09",
   "metadata": {},
   "outputs": [
    {
     "data": {
      "text/plain": [
       "' learning Hello'"
      ]
     },
     "execution_count": 51,
     "metadata": {},
     "output_type": "execute_result"
    }
   ],
   "source": [
    "file.read()"
   ]
  },
  {
   "cell_type": "code",
   "execution_count": 52,
   "id": "63975351-b595-499b-b4aa-28ae5361e6df",
   "metadata": {},
   "outputs": [
    {
     "data": {
      "text/plain": [
       "0"
      ]
     },
     "execution_count": 52,
     "metadata": {},
     "output_type": "execute_result"
    }
   ],
   "source": [
    "file.seek(0)"
   ]
  },
  {
   "cell_type": "code",
   "execution_count": 53,
   "id": "7e932956-f4e8-49b6-b436-ca492551754c",
   "metadata": {},
   "outputs": [
    {
     "data": {
      "text/plain": [
       "'Machine learning Hello'"
      ]
     },
     "execution_count": 53,
     "metadata": {},
     "output_type": "execute_result"
    }
   ],
   "source": [
    "file.read()"
   ]
  },
  {
   "cell_type": "code",
   "execution_count": 54,
   "id": "467880e3-86fa-4cfb-b9f9-91727b380335",
   "metadata": {},
   "outputs": [
    {
     "data": {
      "text/plain": [
       "100"
      ]
     },
     "execution_count": 54,
     "metadata": {},
     "output_type": "execute_result"
    }
   ],
   "source": [
    "file.seek(100)"
   ]
  },
  {
   "cell_type": "code",
   "execution_count": 56,
   "id": "3e56feeb-4412-4e49-8f19-9cb3c8f0742b",
   "metadata": {},
   "outputs": [
    {
     "data": {
      "text/plain": [
       "''"
      ]
     },
     "execution_count": 56,
     "metadata": {},
     "output_type": "execute_result"
    }
   ],
   "source": [
    "file.read()"
   ]
  },
  {
   "cell_type": "code",
   "execution_count": 57,
   "id": "f113d782-d3bf-4bbf-b017-25fdd7e38e9b",
   "metadata": {},
   "outputs": [
    {
     "data": {
      "text/plain": [
       "'ormers(optimus prime)'"
      ]
     },
     "execution_count": 57,
     "metadata": {},
     "output_type": "execute_result"
    }
   ],
   "source": [
    "file.read()"
   ]
  },
  {
   "cell_type": "code",
   "execution_count": 58,
   "id": "5df6d51b-6910-49aa-be30-61d96788cdad",
   "metadata": {},
   "outputs": [
    {
     "data": {
      "text/plain": [
       "0"
      ]
     },
     "execution_count": 58,
     "metadata": {},
     "output_type": "execute_result"
    }
   ],
   "source": [
    "file.seek(0)"
   ]
  },
  {
   "cell_type": "code",
   "execution_count": 59,
   "id": "a3a827e5-312f-4d94-ac09-2cb50d65b748",
   "metadata": {},
   "outputs": [
    {
     "data": {
      "text/plain": [
       "'Machine learning Hello\\nData Science \\nData Analytics\\nDeep learning\\nNatural Language processing\\nTransformers(optimus prime)'"
      ]
     },
     "execution_count": 59,
     "metadata": {},
     "output_type": "execute_result"
    }
   ],
   "source": [
    "file.read()"
   ]
  },
  {
   "cell_type": "code",
   "execution_count": 60,
   "id": "95536507-ee3d-44ff-b9ff-c1813559e620",
   "metadata": {},
   "outputs": [
    {
     "data": {
      "text/plain": [
       "0"
      ]
     },
     "execution_count": 60,
     "metadata": {},
     "output_type": "execute_result"
    }
   ],
   "source": [
    "file.seek(0)"
   ]
  },
  {
   "cell_type": "code",
   "execution_count": 61,
   "id": "e916e8b1-0c97-4383-a217-aeae0c337de2",
   "metadata": {},
   "outputs": [
    {
     "data": {
      "text/plain": [
       "'Machine learning Hello\\n'"
      ]
     },
     "execution_count": 61,
     "metadata": {},
     "output_type": "execute_result"
    }
   ],
   "source": [
    "file.readline()"
   ]
  },
  {
   "cell_type": "code",
   "execution_count": 62,
   "id": "8dad9e9f-a8e8-452f-a526-8d950544075a",
   "metadata": {},
   "outputs": [
    {
     "data": {
      "text/plain": [
       "'Data Science \\n'"
      ]
     },
     "execution_count": 62,
     "metadata": {},
     "output_type": "execute_result"
    }
   ],
   "source": [
    "\n",
    "file.readline()"
   ]
  },
  {
   "cell_type": "code",
   "execution_count": 67,
   "id": "a2a8b0bc-224d-4dc4-8adc-c148aaadab41",
   "metadata": {},
   "outputs": [
    {
     "data": {
      "text/plain": [
       "''"
      ]
     },
     "execution_count": 67,
     "metadata": {},
     "output_type": "execute_result"
    }
   ],
   "source": [
    "\n",
    "file.readline()"
   ]
  },
  {
   "cell_type": "code",
   "execution_count": 68,
   "id": "840598d3-7ae3-4cbd-9bfd-81db4b018c7c",
   "metadata": {},
   "outputs": [
    {
     "data": {
      "text/plain": [
       "0"
      ]
     },
     "execution_count": 68,
     "metadata": {},
     "output_type": "execute_result"
    }
   ],
   "source": [
    "file.seek(0)"
   ]
  },
  {
   "cell_type": "code",
   "execution_count": 69,
   "id": "195992d5-37b7-4ef4-b216-a4de983a56ec",
   "metadata": {},
   "outputs": [],
   "source": [
    "l = file.readlines()"
   ]
  },
  {
   "cell_type": "code",
   "execution_count": 70,
   "id": "a9cd524c-9711-4707-9130-58525f99d531",
   "metadata": {},
   "outputs": [
    {
     "data": {
      "text/plain": [
       "['Machine learning Hello\\n',\n",
       " 'Data Science \\n',\n",
       " 'Data Analytics\\n',\n",
       " 'Deep learning\\n',\n",
       " 'Natural Language processing\\n',\n",
       " 'Transformers(optimus prime)']"
      ]
     },
     "execution_count": 70,
     "metadata": {},
     "output_type": "execute_result"
    }
   ],
   "source": [
    "l"
   ]
  },
  {
   "cell_type": "code",
   "execution_count": 73,
   "id": "b49a2e1b-cb9d-41bc-8e7b-77395a8eafe5",
   "metadata": {},
   "outputs": [
    {
     "name": "stdout",
     "output_type": "stream",
     "text": [
      "Machine learning Hello\n",
      "\n",
      "Data Science \n",
      "\n",
      "Data Analytics\n",
      "\n",
      "Deep learning\n",
      "\n",
      "Natural Language processing\n",
      "\n",
      "Transformers(optimus prime)\n"
     ]
    }
   ],
   "source": [
    "file.seek(0)\n",
    "for i in l:\n",
    "    print(i)"
   ]
  },
  {
   "cell_type": "code",
   "execution_count": 74,
   "id": "56f3f7ad-b236-433f-bfb0-f4339eda0107",
   "metadata": {},
   "outputs": [],
   "source": [
    "file.close()"
   ]
  },
  {
   "cell_type": "code",
   "execution_count": 75,
   "id": "83425d06-4f21-4d97-908c-7870a6585ce4",
   "metadata": {},
   "outputs": [],
   "source": [
    "file = open('python.txt' ,'w')"
   ]
  },
  {
   "cell_type": "code",
   "execution_count": 76,
   "id": "91d7efc4-fd80-4880-adbb-f179521a128a",
   "metadata": {},
   "outputs": [
    {
     "data": {
      "text/plain": [
       "41"
      ]
     },
     "execution_count": 76,
     "metadata": {},
     "output_type": "execute_result"
    }
   ],
   "source": [
    "file.write('Artificial Intelligence course content : ')"
   ]
  },
  {
   "cell_type": "code",
   "execution_count": 77,
   "id": "23dad4e2-7458-4209-9a87-078114f14e32",
   "metadata": {},
   "outputs": [],
   "source": [
    "file.close()"
   ]
  },
  {
   "cell_type": "code",
   "execution_count": 78,
   "id": "df213eab-c265-405f-a8da-54852217fa06",
   "metadata": {},
   "outputs": [
    {
     "name": "stdin",
     "output_type": "stream",
     "text": [
      "enter the content :  Artificial Intelligence course content :\n",
      "enter the content :  Machine learning\n",
      "enter the content :  Deep learning\n"
     ]
    }
   ],
   "source": [
    "file = open('python.txt', 'w')\n",
    "for i in range(3):\n",
    "    a = input(\"enter the content : \")\n",
    "    file.write(a)"
   ]
  },
  {
   "cell_type": "code",
   "execution_count": 79,
   "id": "ab77c9da-f743-4781-b25f-49da6016b19a",
   "metadata": {},
   "outputs": [],
   "source": [
    "file.close()"
   ]
  },
  {
   "cell_type": "code",
   "execution_count": 80,
   "id": "eced4dbd-5a1b-41b3-9db8-835aaa8e9811",
   "metadata": {},
   "outputs": [
    {
     "data": {
      "text/plain": [
       "'Artificial Intelligence course content :Machine learningDeep learning'"
      ]
     },
     "execution_count": 80,
     "metadata": {},
     "output_type": "execute_result"
    }
   ],
   "source": [
    "file = open('python.txt', 'r')\n",
    "file.read()"
   ]
  },
  {
   "cell_type": "code",
   "execution_count": 82,
   "id": "db9873ae-e027-4fcb-8f05-f32b69e683aa",
   "metadata": {},
   "outputs": [
    {
     "name": "stdin",
     "output_type": "stream",
     "text": [
      "enter the content :    Artificial Intelligence course content :\n",
      "enter the content :  Machine learning\n",
      "enter the content :  Deep learning\n"
     ]
    }
   ],
   "source": [
    "file = open('python.txt', 'w')\n",
    "for i in range(3):\n",
    "    a = input(\"enter the content : \")\n",
    "    file.write(a + '\\n')"
   ]
  },
  {
   "cell_type": "code",
   "execution_count": 83,
   "id": "6f495786-4869-4173-950f-55207030dea0",
   "metadata": {},
   "outputs": [],
   "source": [
    "file.close()"
   ]
  },
  {
   "cell_type": "code",
   "execution_count": 84,
   "id": "ab3d6455-a320-43cd-9f6b-d184c1951a85",
   "metadata": {},
   "outputs": [
    {
     "data": {
      "text/plain": [
       "'  Artificial Intelligence course content :\\nMachine learning\\nDeep learning\\n'"
      ]
     },
     "execution_count": 84,
     "metadata": {},
     "output_type": "execute_result"
    }
   ],
   "source": [
    "file = open('python.txt', 'r')\n",
    "file.read()"
   ]
  },
  {
   "cell_type": "code",
   "execution_count": 91,
   "id": "be3997dc-edf4-4745-9a2d-00cb8f7d8b48",
   "metadata": {},
   "outputs": [
    {
     "data": {
      "text/plain": [
       "0"
      ]
     },
     "execution_count": 91,
     "metadata": {},
     "output_type": "execute_result"
    }
   ],
   "source": [
    "file.seek(0)"
   ]
  },
  {
   "cell_type": "code",
   "execution_count": 92,
   "id": "b3a5bd99-2165-4040-a724-1022fd3e3180",
   "metadata": {},
   "outputs": [
    {
     "data": {
      "text/plain": [
       "['  Artificial Intelligence course content :\\n',\n",
       " 'Machine learning\\n',\n",
       " 'Deep learning\\n']"
      ]
     },
     "execution_count": 92,
     "metadata": {},
     "output_type": "execute_result"
    }
   ],
   "source": [
    "l =  file.readlines()\n",
    "l"
   ]
  },
  {
   "cell_type": "code",
   "execution_count": 87,
   "id": "7bd61b40-bb1e-46ef-85be-efb3f06e4fda",
   "metadata": {},
   "outputs": [
    {
     "data": {
      "text/plain": [
       "['Artificial Intelligence course content :',\n",
       " 'Machine learning',\n",
       " 'Deep learning']"
      ]
     },
     "execution_count": 87,
     "metadata": {},
     "output_type": "execute_result"
    }
   ],
   "source": [
    "['Artificial Intelligence course content :', 'Machine learning', 'Deep learning']"
   ]
  },
  {
   "cell_type": "code",
   "execution_count": 96,
   "id": "8a277dae-f44e-4cad-87ad-6536b4060c23",
   "metadata": {},
   "outputs": [
    {
     "data": {
      "text/plain": [
       "'Artificial Intelligence course content :'"
      ]
     },
     "execution_count": 96,
     "metadata": {},
     "output_type": "execute_result"
    }
   ],
   "source": [
    "l[0].strip()"
   ]
  },
  {
   "cell_type": "code",
   "execution_count": 97,
   "id": "9a299841-a52f-49d3-b500-234b2e63a210",
   "metadata": {},
   "outputs": [
    {
     "data": {
      "text/plain": [
       "'Machine learning'"
      ]
     },
     "execution_count": 97,
     "metadata": {},
     "output_type": "execute_result"
    }
   ],
   "source": [
    "l[1].strip()"
   ]
  },
  {
   "cell_type": "code",
   "execution_count": 98,
   "id": "fbe7ef8d-13e0-4697-8ac3-54928cfe55dc",
   "metadata": {},
   "outputs": [
    {
     "data": {
      "text/plain": [
       "'Deep learning'"
      ]
     },
     "execution_count": 98,
     "metadata": {},
     "output_type": "execute_result"
    }
   ],
   "source": [
    "l[2].strip()"
   ]
  },
  {
   "cell_type": "code",
   "execution_count": 99,
   "id": "27581f82-60a2-409d-9f0f-09f2bd51bf50",
   "metadata": {},
   "outputs": [],
   "source": [
    "file.close()"
   ]
  },
  {
   "cell_type": "code",
   "execution_count": 100,
   "id": "b80d8720-3a4e-4af9-8c85-fe68a5d3148b",
   "metadata": {},
   "outputs": [],
   "source": [
    "with open('python.txt', 'a') as f:\n",
    "    f.write('Hello world')"
   ]
  },
  {
   "cell_type": "code",
   "execution_count": 106,
   "id": "82efa72e-80bf-4a06-bbc1-3c6bf5bab377",
   "metadata": {},
   "outputs": [],
   "source": [
    "with open('python.txt', 'r') as f:\n",
    "    text = f.read()"
   ]
  },
  {
   "cell_type": "code",
   "execution_count": 107,
   "id": "5ce8f082-1ce0-4ce5-bb2a-58fcbca0379f",
   "metadata": {},
   "outputs": [
    {
     "data": {
      "text/plain": [
       "'  Artificial Intelligence course content :\\nMachine learning\\nDeep learning\\nHello world'"
      ]
     },
     "execution_count": 107,
     "metadata": {},
     "output_type": "execute_result"
    }
   ],
   "source": [
    "text"
   ]
  },
  {
   "cell_type": "code",
   "execution_count": 108,
   "id": "7fca1148-0296-40f8-a09a-544529a7daff",
   "metadata": {},
   "outputs": [],
   "source": [
    "#json"
   ]
  },
  {
   "cell_type": "code",
   "execution_count": 109,
   "id": "57707647-aaf8-455b-8659-cefd6397eb65",
   "metadata": {},
   "outputs": [],
   "source": [
    "d = {\n",
    "    'tushar' : 'Data Science Trainer',\n",
    "    'Aditya' : 'Data Analytics Student',\n",
    "    'Heemang' : 'Data Science Student',\n",
    "    'Varsha' : 'full stack with Python',\n",
    "    'Nandini' : 'Full stack with Python'\n",
    "}"
   ]
  },
  {
   "cell_type": "code",
   "execution_count": 110,
   "id": "e0a98432-556e-45f1-9a67-092279554e49",
   "metadata": {},
   "outputs": [],
   "source": [
    "import json\n"
   ]
  },
  {
   "cell_type": "code",
   "execution_count": 112,
   "id": "f636cfcc-656e-4a9d-9ff1-71d4fb5d3e14",
   "metadata": {},
   "outputs": [],
   "source": [
    "with open('d.json', 'w') as f:\n",
    "    json.dump(d, f)"
   ]
  },
  {
   "cell_type": "code",
   "execution_count": 119,
   "id": "69e4e3fe-57a5-4f4f-8c96-06cfd1535bb1",
   "metadata": {},
   "outputs": [],
   "source": [
    "with open('d.json', 'r') as f:\n",
    "    t1 = f.read()  # bad way to treat you json file"
   ]
  },
  {
   "cell_type": "code",
   "execution_count": 116,
   "id": "f6bcfd2b-4830-4edf-b075-78b754d3d2a5",
   "metadata": {},
   "outputs": [],
   "source": [
    "with open('d.json', 'r') as file:\n",
    "    text = json.load(file)"
   ]
  },
  {
   "cell_type": "code",
   "execution_count": 118,
   "id": "9522ffdb-0f50-4cc6-a25e-eda728447b29",
   "metadata": {},
   "outputs": [
    {
     "data": {
      "text/plain": [
       "dict"
      ]
     },
     "execution_count": 118,
     "metadata": {},
     "output_type": "execute_result"
    }
   ],
   "source": [
    "type(text)"
   ]
  },
  {
   "cell_type": "code",
   "execution_count": 121,
   "id": "22eae455-4bc7-406b-975a-7345ad07ffac",
   "metadata": {},
   "outputs": [
    {
     "data": {
      "text/plain": [
       "str"
      ]
     },
     "execution_count": 121,
     "metadata": {},
     "output_type": "execute_result"
    }
   ],
   "source": [
    "type(t1)"
   ]
  },
  {
   "cell_type": "code",
   "execution_count": 130,
   "id": "adcbec9c-12d1-4683-9bf5-4d7a4e114833",
   "metadata": {},
   "outputs": [],
   "source": [
    "with open('d.json', 'w') as f:\n",
    "    t = json.dumps(d)  # it will convert the data into string format"
   ]
  },
  {
   "cell_type": "code",
   "execution_count": 132,
   "id": "c69a88d7-3a73-4da9-b492-b3cc1d7ec1f1",
   "metadata": {},
   "outputs": [
    {
     "data": {
      "text/plain": [
       "'{'"
      ]
     },
     "execution_count": 132,
     "metadata": {},
     "output_type": "execute_result"
    }
   ],
   "source": [
    "t[0]"
   ]
  },
  {
   "cell_type": "code",
   "execution_count": 133,
   "id": "8925b96a-30f4-419f-b910-23fe91ca5ecb",
   "metadata": {},
   "outputs": [],
   "source": [
    "num = 75869"
   ]
  },
  {
   "cell_type": "code",
   "execution_count": 135,
   "id": "0fbc3540-34c4-4bcb-bb48-8bace4bc592e",
   "metadata": {},
   "outputs": [],
   "source": [
    "# find the no. of digits in num"
   ]
  },
  {
   "cell_type": "code",
   "execution_count": 137,
   "id": "617fcf75-6d1a-40db-94c6-cb1be6fdb2e7",
   "metadata": {},
   "outputs": [],
   "source": [
    "# make a pattern and find the sum\n",
    "# 2+22+222+2222+22222"
   ]
  },
  {
   "cell_type": "code",
   "execution_count": 142,
   "id": "5461f2fa-f991-442c-9347-70cce09cecdd",
   "metadata": {},
   "outputs": [],
   "source": [
    "def func(a,v = 4):\n",
    "    return a + v"
   ]
  },
  {
   "cell_type": "code",
   "execution_count": 144,
   "id": "25170bf9-8b2e-487c-bdef-ba7a47c2b257",
   "metadata": {},
   "outputs": [
    {
     "data": {
      "text/plain": [
       "15"
      ]
     },
     "execution_count": 144,
     "metadata": {},
     "output_type": "execute_result"
    }
   ],
   "source": [
    "func(5, 10)"
   ]
  },
  {
   "cell_type": "code",
   "execution_count": 145,
   "id": "8f92300b-47fc-4307-bb80-16a00ae91223",
   "metadata": {},
   "outputs": [],
   "source": [
    "data = [('apple', 5), ('banana', 2), ('cherry', 8), ('date', 1)]"
   ]
  },
  {
   "cell_type": "code",
   "execution_count": 146,
   "id": "d6505982-3d96-4718-8b04-d79055f2ba8e",
   "metadata": {},
   "outputs": [],
   "source": [
    "# sort the list according to the tuple values"
   ]
  },
  {
   "cell_type": "code",
   "execution_count": 147,
   "id": "c5717410-8933-4f70-a7bb-0af0847fe938",
   "metadata": {},
   "outputs": [],
   "source": [
    "a  = 7\n",
    "b = 9\n",
    "a, b = b, a"
   ]
  },
  {
   "cell_type": "code",
   "execution_count": 148,
   "id": "dad8f08b-7ed5-46dc-aa54-77b22afd086b",
   "metadata": {},
   "outputs": [
    {
     "data": {
      "text/plain": [
       "9"
      ]
     },
     "execution_count": 148,
     "metadata": {},
     "output_type": "execute_result"
    }
   ],
   "source": [
    "a"
   ]
  },
  {
   "cell_type": "code",
   "execution_count": 149,
   "id": "807d2560-79bd-42cb-804f-5c5063b91c77",
   "metadata": {},
   "outputs": [
    {
     "data": {
      "text/plain": [
       "7"
      ]
     },
     "execution_count": 149,
     "metadata": {},
     "output_type": "execute_result"
    }
   ],
   "source": [
    "b"
   ]
  },
  {
   "cell_type": "code",
   "execution_count": 153,
   "id": "548b9af1-ca63-4102-bb86-060e626a46df",
   "metadata": {},
   "outputs": [
    {
     "name": "stdout",
     "output_type": "stream",
     "text": [
      "total number of digits is 5\n"
     ]
    }
   ],
   "source": [
    "num = 75869\n",
    "\n",
    "count = 0\n",
    "\n",
    "while num != 0:\n",
    "\n",
    "   num = num // 10 \n",
    "\n",
    "   count += 1\n",
    "\n",
    "print(f\"total number of digits is {count}\")"
   ]
  },
  {
   "cell_type": "code",
   "execution_count": 154,
   "id": "707236be-e461-4975-be3a-9eaf8bd1cab7",
   "metadata": {},
   "outputs": [
    {
     "ename": "SyntaxError",
     "evalue": "invalid syntax (4026022988.py, line 1)",
     "output_type": "error",
     "traceback": [
      "\u001b[1;36m  Cell \u001b[1;32mIn[154], line 1\u001b[1;36m\u001b[0m\n\u001b[1;33m    (2*1) + (2*10+2) +\u001b[0m\n\u001b[1;37m                       ^\u001b[0m\n\u001b[1;31mSyntaxError\u001b[0m\u001b[1;31m:\u001b[0m invalid syntax\n"
     ]
    }
   ],
   "source": [
    "(2*1) + (2*10+2) + "
   ]
  },
  {
   "cell_type": "code",
   "execution_count": 158,
   "id": "aa022adb-9a08-4fd4-aaec-06d0007acedb",
   "metadata": {},
   "outputs": [
    {
     "data": {
      "text/plain": [
       "222"
      ]
     },
     "execution_count": 158,
     "metadata": {},
     "output_type": "execute_result"
    }
   ],
   "source": [
    "2 + 2*10 + 2*100"
   ]
  },
  {
   "cell_type": "code",
   "execution_count": 159,
   "id": "19c08151-9ef0-403e-a820-6b5cce9cd0e2",
   "metadata": {},
   "outputs": [
    {
     "data": {
      "text/plain": [
       "22222"
      ]
     },
     "execution_count": 159,
     "metadata": {},
     "output_type": "execute_result"
    }
   ],
   "source": [
    "2 + 2*10 + 2*100 + 2*1000 + 2*10000"
   ]
  },
  {
   "cell_type": "code",
   "execution_count": 160,
   "id": "eda21c38-8475-4a28-911f-df9a1b822ede",
   "metadata": {},
   "outputs": [
    {
     "name": "stdout",
     "output_type": "stream",
     "text": [
      "2 + 22 + 222 + 2222 + 22222 \n",
      "Sum: 24690\n"
     ]
    }
   ],
   "source": [
    "# Pattern: 2 + 22 + 222 + 2222 + 22222\n",
    "\n",
    "n = 5  \n",
    "\n",
    "digit = 2\n",
    "\n",
    "term = 0\n",
    "\n",
    "total_sum = 0\n",
    "\n",
    "for i in range(n):\n",
    "\n",
    "    term = term * 10 + digit\n",
    "\n",
    "    print(term, end=' ')\n",
    "\n",
    "    if i < n - 1:\n",
    "\n",
    "        print('+', end=' ')\n",
    "\n",
    "    total_sum += term\n",
    "\n",
    "print(\"\\nSum:\", total_sum)"
   ]
  },
  {
   "cell_type": "code",
   "execution_count": 161,
   "id": "f98f4799-3623-441c-8d8c-a5ac42d0bf84",
   "metadata": {},
   "outputs": [
    {
     "data": {
      "text/plain": [
       "2"
      ]
     },
     "execution_count": 161,
     "metadata": {},
     "output_type": "execute_result"
    }
   ],
   "source": [
    "2"
   ]
  },
  {
   "cell_type": "code",
   "execution_count": 163,
   "id": "69afb003-e13d-4c82-b498-c1ab42c28e67",
   "metadata": {},
   "outputs": [
    {
     "data": {
      "text/plain": [
       "22"
      ]
     },
     "execution_count": 163,
     "metadata": {},
     "output_type": "execute_result"
    }
   ],
   "source": [
    "t = 2\n",
    "t = 2*10 + 2\n",
    "t"
   ]
  },
  {
   "cell_type": "code",
   "execution_count": 164,
   "id": "b050e2e0-3182-4067-9b3b-39c3a021705e",
   "metadata": {},
   "outputs": [],
   "source": [
    "t = t*10 + 2"
   ]
  },
  {
   "cell_type": "code",
   "execution_count": 165,
   "id": "75edfacd-f2c5-4c0e-991e-be0031bc8b18",
   "metadata": {},
   "outputs": [
    {
     "data": {
      "text/plain": [
       "222"
      ]
     },
     "execution_count": 165,
     "metadata": {},
     "output_type": "execute_result"
    }
   ],
   "source": [
    "t"
   ]
  },
  {
   "cell_type": "code",
   "execution_count": 166,
   "id": "1eecec11-6c7b-4df9-967b-3b57b53fc303",
   "metadata": {},
   "outputs": [
    {
     "data": {
      "text/plain": [
       "24690"
      ]
     },
     "execution_count": 166,
     "metadata": {},
     "output_type": "execute_result"
    }
   ],
   "source": [
    " 2 + 22 + 222 + 2222 + 22222"
   ]
  },
  {
   "cell_type": "code",
   "execution_count": 167,
   "id": "d55832de-b6a6-49ea-a057-53be89b937a4",
   "metadata": {},
   "outputs": [],
   "source": [
    "data = [('apple', 5), ('banana', 2), ('cherry', 8), ('date', 1)]"
   ]
  },
  {
   "cell_type": "code",
   "execution_count": 172,
   "id": "9c449636-0909-4c4c-a057-ec6e72e1eb72",
   "metadata": {},
   "outputs": [
    {
     "data": {
      "text/plain": [
       "5"
      ]
     },
     "execution_count": 172,
     "metadata": {},
     "output_type": "execute_result"
    }
   ],
   "source": [
    "data[0][1]"
   ]
  },
  {
   "cell_type": "code",
   "execution_count": 178,
   "id": "7f4afc9c-3f0f-4107-b7a5-61bb1e1ee1f8",
   "metadata": {},
   "outputs": [],
   "source": [
    "a = []\n",
    "for i in data:\n",
    "    a.append(i[1])"
   ]
  },
  {
   "cell_type": "code",
   "execution_count": 181,
   "id": "db271153-e61a-4eb8-b50e-cfa246e6f037",
   "metadata": {},
   "outputs": [],
   "source": [
    "a = sorted(a)"
   ]
  },
  {
   "cell_type": "code",
   "execution_count": 182,
   "id": "bf3e5277-2180-4010-9987-36215eb456be",
   "metadata": {},
   "outputs": [
    {
     "data": {
      "text/plain": [
       "[1, 2, 5, 8]"
      ]
     },
     "execution_count": 182,
     "metadata": {},
     "output_type": "execute_result"
    }
   ],
   "source": [
    "a"
   ]
  },
  {
   "cell_type": "code",
   "execution_count": 183,
   "id": "608524cd-3831-45f8-9ec4-d53613cbf88e",
   "metadata": {},
   "outputs": [],
   "source": [
    "b = []\n",
    "for num in a:\n",
    "    for item in data:\n",
    "        if num == item[1]:\n",
    "            b.append(item)"
   ]
  },
  {
   "cell_type": "code",
   "execution_count": 184,
   "id": "05c4b4cb-84de-4997-95a5-bf2f1385a958",
   "metadata": {},
   "outputs": [
    {
     "data": {
      "text/plain": [
       "[('date', 1), ('banana', 2), ('apple', 5), ('cherry', 8)]"
      ]
     },
     "execution_count": 184,
     "metadata": {},
     "output_type": "execute_result"
    }
   ],
   "source": [
    "b"
   ]
  },
  {
   "cell_type": "code",
   "execution_count": 189,
   "id": "a6c91c45-4673-4a35-9b01-425978c306e2",
   "metadata": {},
   "outputs": [],
   "source": [
    "data = [('apple', 5), ('banana', 2), ('cherry', 8), ('date', 1)]\n",
    "a = []\n",
    "b = []\n",
    "for i in data:\n",
    "    a.append(i[1])\n",
    "a = sorted(a)\n",
    "for num in a:\n",
    "    for item in data:\n",
    "        if num == item[1]:\n",
    "            b.append(item)"
   ]
  },
  {
   "cell_type": "code",
   "execution_count": 190,
   "id": "2da853c6-5358-4a53-a66c-7e47dfb55264",
   "metadata": {},
   "outputs": [
    {
     "data": {
      "text/plain": [
       "[('date', 1), ('banana', 2), ('apple', 5), ('cherry', 8)]"
      ]
     },
     "execution_count": 190,
     "metadata": {},
     "output_type": "execute_result"
    }
   ],
   "source": [
    "b"
   ]
  },
  {
   "cell_type": "code",
   "execution_count": null,
   "id": "8d5993e5-a816-400c-9540-74287dbd680f",
   "metadata": {},
   "outputs": [],
   "source": []
  }
 ],
 "metadata": {
  "kernelspec": {
   "display_name": "Python 3 (ipykernel)",
   "language": "python",
   "name": "python3"
  },
  "language_info": {
   "codemirror_mode": {
    "name": "ipython",
    "version": 3
   },
   "file_extension": ".py",
   "mimetype": "text/x-python",
   "name": "python",
   "nbconvert_exporter": "python",
   "pygments_lexer": "ipython3",
   "version": "3.12.7"
  }
 },
 "nbformat": 4,
 "nbformat_minor": 5
}
