{
 "cells": [
  {
   "cell_type": "code",
   "execution_count": 1,
   "id": "570a0139-6527-4942-b09c-01482a3e2e6d",
   "metadata": {},
   "outputs": [],
   "source": [
    "# Advanced Methods of Python \n",
    "# Lambda\n",
    "# filter\n",
    "# reduce\n",
    "# Map\n",
    "# iter : generator "
   ]
  },
  {
   "cell_type": "code",
   "execution_count": 2,
   "id": "0bd7c362-a5f3-41b3-9ecd-326ec8dca159",
   "metadata": {},
   "outputs": [],
   "source": [
    "# Lambda X : Expression"
   ]
  },
  {
   "cell_type": "code",
   "execution_count": 3,
   "id": "25fccf15-57de-49eb-900a-a083355c8445",
   "metadata": {},
   "outputs": [],
   "source": [
    "a = lambda x : x + 10"
   ]
  },
  {
   "cell_type": "code",
   "execution_count": 4,
   "id": "9ef7c90f-bb8d-418f-9e68-0eb83bc525f8",
   "metadata": {},
   "outputs": [
    {
     "data": {
      "text/plain": [
       "<function __main__.<lambda>(x)>"
      ]
     },
     "execution_count": 4,
     "metadata": {},
     "output_type": "execute_result"
    }
   ],
   "source": [
    "a"
   ]
  },
  {
   "cell_type": "code",
   "execution_count": 5,
   "id": "2fa1977b-e323-4464-a898-02e05cb65fde",
   "metadata": {},
   "outputs": [
    {
     "name": "stdout",
     "output_type": "stream",
     "text": [
      "11\n"
     ]
    }
   ],
   "source": [
    "print(a(1))"
   ]
  },
  {
   "cell_type": "code",
   "execution_count": 6,
   "id": "0f72243e-cb64-4f6f-883f-bd0270ac3745",
   "metadata": {},
   "outputs": [],
   "source": [
    "a = lambda x, y, z : x + y + z"
   ]
  },
  {
   "cell_type": "code",
   "execution_count": 8,
   "id": "438bcb05-cdfa-48eb-9c5d-c024c091c647",
   "metadata": {},
   "outputs": [
    {
     "data": {
      "text/plain": [
       "9"
      ]
     },
     "execution_count": 8,
     "metadata": {},
     "output_type": "execute_result"
    }
   ],
   "source": [
    "a(2, 3, 4)"
   ]
  },
  {
   "cell_type": "code",
   "execution_count": 17,
   "id": "22e8380c-9e0b-4fbb-aa8d-e8fbc26324aa",
   "metadata": {},
   "outputs": [],
   "source": [
    "def func(n):\n",
    "    return lambda a : a * n"
   ]
  },
  {
   "cell_type": "code",
   "execution_count": 19,
   "id": "3e3d5e20-cc79-4f61-95ca-95994b15d77f",
   "metadata": {},
   "outputs": [],
   "source": [
    "var = func(6)"
   ]
  },
  {
   "cell_type": "code",
   "execution_count": 20,
   "id": "1a775be2-8fbe-44df-829e-fb5fab2c7b41",
   "metadata": {},
   "outputs": [
    {
     "name": "stdout",
     "output_type": "stream",
     "text": [
      "0\n",
      "6\n",
      "12\n",
      "18\n",
      "24\n",
      "30\n",
      "36\n",
      "42\n",
      "48\n",
      "54\n"
     ]
    }
   ],
   "source": [
    "for i in range(10):\n",
    "    print(var(i))"
   ]
  },
  {
   "cell_type": "code",
   "execution_count": 21,
   "id": "1737bfc7-bcf7-4402-8e72-2c2de63aee47",
   "metadata": {},
   "outputs": [],
   "source": [
    "l = [1,2,3,4]\n",
    "digit = 1234"
   ]
  },
  {
   "cell_type": "code",
   "execution_count": 28,
   "id": "2bcaae2d-8281-403a-b093-83575d51bc84",
   "metadata": {},
   "outputs": [],
   "source": [
    "combine = lambda a_total, x : a_total * 10 + x"
   ]
  },
  {
   "cell_type": "code",
   "execution_count": 40,
   "id": "f2dfc021-a338-444f-a4bf-3db443f13266",
   "metadata": {},
   "outputs": [],
   "source": [
    "def to_number(t):\n",
    "\n",
    "    result = 0\n",
    "\n",
    "    for i in range(len(t)):\n",
    "\n",
    "        result = combine(result, t[i])\n",
    "\n",
    "    return result"
   ]
  },
  {
   "cell_type": "code",
   "execution_count": 39,
   "id": "c1196635-3eb5-4034-88a3-1dd27afec5e0",
   "metadata": {},
   "outputs": [
    {
     "data": {
      "text/plain": [
       "234"
      ]
     },
     "execution_count": 39,
     "metadata": {},
     "output_type": "execute_result"
    }
   ],
   "source": [
    "to_number(l)"
   ]
  },
  {
   "cell_type": "code",
   "execution_count": 41,
   "id": "722ef6b2-90a1-4db2-a434-f0d10d7666dc",
   "metadata": {},
   "outputs": [],
   "source": [
    "from functools import reduce\n"
   ]
  },
  {
   "cell_type": "code",
   "execution_count": 42,
   "id": "41d79f46-ba09-4f9d-838a-59ee3b6287a3",
   "metadata": {},
   "outputs": [],
   "source": [
    "result = reduce(lambda x, y : x* 10 +y, l)"
   ]
  },
  {
   "cell_type": "code",
   "execution_count": 43,
   "id": "7efe6878-0dfc-42a3-a746-10ce793e75c9",
   "metadata": {},
   "outputs": [
    {
     "data": {
      "text/plain": [
       "1234"
      ]
     },
     "execution_count": 43,
     "metadata": {},
     "output_type": "execute_result"
    }
   ],
   "source": [
    "result"
   ]
  },
  {
   "cell_type": "code",
   "execution_count": 44,
   "id": "04b9a531-8c82-457b-a65b-bee97c6de3cf",
   "metadata": {},
   "outputs": [
    {
     "data": {
      "text/plain": [
       "\u001b[1;31mDocstring:\u001b[0m\n",
       "reduce(function, iterable[, initial]) -> value\n",
       "\n",
       "Apply a function of two arguments cumulatively to the items of a sequence\n",
       "or iterable, from left to right, so as to reduce the iterable to a single\n",
       "value.  For example, reduce(lambda x, y: x+y, [1, 2, 3, 4, 5]) calculates\n",
       "((((1+2)+3)+4)+5).  If initial is present, it is placed before the items\n",
       "of the iterable in the calculation, and serves as a default when the\n",
       "iterable is empty.\n",
       "\u001b[1;31mType:\u001b[0m      builtin_function_or_method"
      ]
     },
     "metadata": {},
     "output_type": "display_data"
    }
   ],
   "source": [
    "reduce?"
   ]
  },
  {
   "cell_type": "code",
   "execution_count": 47,
   "id": "8be8b39e-e0c5-4794-af70-a7eaf43e5821",
   "metadata": {},
   "outputs": [
    {
     "data": {
      "text/plain": [
       "1235"
      ]
     },
     "execution_count": 47,
     "metadata": {},
     "output_type": "execute_result"
    }
   ],
   "source": [
    "a = [1, 2, 3, 5]\n",
    "reduce(lambda x , y : x*10 + y, a)"
   ]
  },
  {
   "cell_type": "code",
   "execution_count": 48,
   "id": "cf0ef094-1926-46c5-894a-40dfc5dfd250",
   "metadata": {},
   "outputs": [],
   "source": [
    "l = [lambda x : x*1, lambda x : x*2, lambda x : x*3]"
   ]
  },
  {
   "cell_type": "code",
   "execution_count": 54,
   "id": "0acef707-0ed2-4ee8-975e-679f9f4aaaeb",
   "metadata": {},
   "outputs": [
    {
     "data": {
      "text/plain": [
       "8"
      ]
     },
     "execution_count": 54,
     "metadata": {},
     "output_type": "execute_result"
    }
   ],
   "source": [
    "l[1](4)"
   ]
  },
  {
   "cell_type": "code",
   "execution_count": 55,
   "id": "244ca88b-b95d-4312-8291-2ce8e4deefa6",
   "metadata": {},
   "outputs": [
    {
     "data": {
      "text/plain": [
       "[<function __main__.<lambda>(x)>,\n",
       " <function __main__.<lambda>(x)>,\n",
       " <function __main__.<lambda>(x)>]"
      ]
     },
     "execution_count": 55,
     "metadata": {},
     "output_type": "execute_result"
    }
   ],
   "source": [
    "l"
   ]
  },
  {
   "cell_type": "code",
   "execution_count": 56,
   "id": "546a00b5-39eb-4b22-b1ad-b543bb07e103",
   "metadata": {},
   "outputs": [
    {
     "name": "stdout",
     "output_type": "stream",
     "text": [
      "[4, 16, 49, 64]\n"
     ]
    }
   ],
   "source": [
    "nums = [2, 4, 7, 8]\n",
    "for i in range(len(nums)):\n",
    "    nums[i] = nums[i]**2\n",
    "print(nums)"
   ]
  },
  {
   "cell_type": "code",
   "execution_count": 63,
   "id": "f13b6221-3c4b-4268-9b8d-c60e0c2231fe",
   "metadata": {},
   "outputs": [
    {
     "data": {
      "text/plain": [
       "[4, 16, 49, 64]"
      ]
     },
     "execution_count": 63,
     "metadata": {},
     "output_type": "execute_result"
    }
   ],
   "source": [
    "nums = [2, 4, 7, 8]\n",
    "\n",
    "list(map(lambda x : x**2, nums))"
   ]
  },
  {
   "cell_type": "code",
   "execution_count": 64,
   "id": "13beb2f6-37ee-46fd-9195-b5af1c10250c",
   "metadata": {},
   "outputs": [],
   "source": [
    "li = ['Tushar', 'Heemang', 'Aditya', 'Varsha']\n",
    "for i in range(len(li)):\n",
    "    li[i] = li[i].lower()"
   ]
  },
  {
   "cell_type": "code",
   "execution_count": 65,
   "id": "c8dfaaf7-1cf1-4ee8-8a72-4d3207ac39c2",
   "metadata": {},
   "outputs": [
    {
     "data": {
      "text/plain": [
       "['tushar', 'heemang', 'aditya', 'varsha']"
      ]
     },
     "execution_count": 65,
     "metadata": {},
     "output_type": "execute_result"
    }
   ],
   "source": [
    "li"
   ]
  },
  {
   "cell_type": "code",
   "execution_count": 71,
   "id": "ea7a3c94-8060-4bf4-915a-0f1eba408eeb",
   "metadata": {},
   "outputs": [
    {
     "data": {
      "text/plain": [
       "('tushar', 'heemang', 'aditya', 'varsha')"
      ]
     },
     "execution_count": 71,
     "metadata": {},
     "output_type": "execute_result"
    }
   ],
   "source": [
    "tuple(map(lambda x : x.lower(), li))"
   ]
  },
  {
   "cell_type": "code",
   "execution_count": 72,
   "id": "3dd0cf10-cbe7-4757-b382-59e9a9f85434",
   "metadata": {},
   "outputs": [],
   "source": [
    "num = [2, 3, 4, 5, 32, 4,15, 31, 6]"
   ]
  },
  {
   "cell_type": "code",
   "execution_count": 73,
   "id": "3eabe3f3-621d-474a-8169-cb86e72529d3",
   "metadata": {},
   "outputs": [
    {
     "data": {
      "text/plain": [
       "(2, 4, 32, 4, 6)"
      ]
     },
     "execution_count": 73,
     "metadata": {},
     "output_type": "execute_result"
    }
   ],
   "source": [
    "tuple(filter(lambda x : x%2 == 0, num))"
   ]
  },
  {
   "cell_type": "code",
   "execution_count": 74,
   "id": "75108e3d-b0ad-47c5-8def-f375ede524b1",
   "metadata": {},
   "outputs": [
    {
     "data": {
      "text/plain": [
       "['tushar', 'heemang', 'aditya', 'varsha']"
      ]
     },
     "execution_count": 74,
     "metadata": {},
     "output_type": "execute_result"
    }
   ],
   "source": [
    "li"
   ]
  },
  {
   "cell_type": "code",
   "execution_count": 76,
   "id": "74fb304e-31cd-4e1e-be85-6c11fa44849f",
   "metadata": {},
   "outputs": [
    {
     "data": {
      "text/plain": [
       "('tushar', 'heemang', 'aditya', 'varsha')"
      ]
     },
     "execution_count": 76,
     "metadata": {},
     "output_type": "execute_result"
    }
   ],
   "source": [
    "tuple(filter(lambda x : len(x) > 3, li))"
   ]
  },
  {
   "cell_type": "code",
   "execution_count": 81,
   "id": "56adc844-5a9d-4417-9d61-a1de97283481",
   "metadata": {},
   "outputs": [
    {
     "name": "stdout",
     "output_type": "stream",
     "text": [
      "tushar\n"
     ]
    }
   ],
   "source": [
    "for i in li:\n",
    "    print(i)\n",
    "    if i == li[0]:\n",
    "        break"
   ]
  },
  {
   "cell_type": "code",
   "execution_count": 89,
   "id": "d04a0d29-696a-4b09-be35-e1bf1e6ee1f3",
   "metadata": {},
   "outputs": [
    {
     "data": {
      "text/plain": [
       "[20, 50, 60]"
      ]
     },
     "execution_count": 89,
     "metadata": {},
     "output_type": "execute_result"
    }
   ],
   "source": [
    "my_list = [20, 50, 60]\n",
    "my_list"
   ]
  },
  {
   "cell_type": "code",
   "execution_count": 90,
   "id": "d2e11ea5-c39e-4388-82d0-6f4863d99f0f",
   "metadata": {},
   "outputs": [],
   "source": [
    "my_list = iter(my_list)"
   ]
  },
  {
   "cell_type": "code",
   "execution_count": 95,
   "id": "c6129841-db6f-4602-b426-bda877961ba6",
   "metadata": {},
   "outputs": [
    {
     "data": {
      "text/plain": [
       "60"
      ]
     },
     "execution_count": 95,
     "metadata": {},
     "output_type": "execute_result"
    }
   ],
   "source": [
    "next(my_list)"
   ]
  },
  {
   "cell_type": "code",
   "execution_count": 96,
   "id": "4bc94cd4-7e8e-44f1-8c5b-97303858d7b6",
   "metadata": {},
   "outputs": [],
   "source": [
    "def generate_numbers():\n",
    "    num = 0\n",
    "    while True:\n",
    "        yield num\n",
    "        num += 1"
   ]
  },
  {
   "cell_type": "code",
   "execution_count": 103,
   "id": "19a99161-3a13-487c-942f-c106c43cdfe9",
   "metadata": {},
   "outputs": [],
   "source": [
    "numbers = (generate_numbers())"
   ]
  },
  {
   "cell_type": "code",
   "execution_count": 104,
   "id": "4494246e-83c9-430e-b8fc-da06fa842692",
   "metadata": {},
   "outputs": [
    {
     "data": {
      "text/plain": [
       "<generator object generate_numbers at 0x000001C82747E380>"
      ]
     },
     "execution_count": 104,
     "metadata": {},
     "output_type": "execute_result"
    }
   ],
   "source": [
    "numbers"
   ]
  },
  {
   "cell_type": "code",
   "execution_count": 105,
   "id": "34928bf8-e5e3-43f1-a5d7-4e3912fe897b",
   "metadata": {},
   "outputs": [],
   "source": [
    "numbers = iter(numbers)"
   ]
  },
  {
   "cell_type": "code",
   "execution_count": 112,
   "id": "3d8c5993-4c26-44d2-88c3-a8373d95efc4",
   "metadata": {},
   "outputs": [
    {
     "data": {
      "text/plain": [
       "6"
      ]
     },
     "execution_count": 112,
     "metadata": {},
     "output_type": "execute_result"
    }
   ],
   "source": [
    "next(numbers)"
   ]
  },
  {
   "cell_type": "code",
   "execution_count": 113,
   "id": "e4fd442d-9a7a-462b-9334-76a98fe191c0",
   "metadata": {},
   "outputs": [
    {
     "name": "stdout",
     "output_type": "stream",
     "text": [
      "7\n",
      "8\n",
      "9\n",
      "10\n",
      "11\n",
      "12\n",
      "13\n",
      "14\n",
      "15\n",
      "16\n"
     ]
    }
   ],
   "source": [
    "for i in range(10):\n",
    "    print(next(numbers))"
   ]
  },
  {
   "cell_type": "code",
   "execution_count": 114,
   "id": "e9cc42e7-c61d-4d49-a9ce-fcb268f1672a",
   "metadata": {},
   "outputs": [
    {
     "data": {
      "text/plain": [
       "['tushar', 'heemang', 'aditya', 'varsha']"
      ]
     },
     "execution_count": 114,
     "metadata": {},
     "output_type": "execute_result"
    }
   ],
   "source": [
    "li"
   ]
  },
  {
   "cell_type": "code",
   "execution_count": 115,
   "id": "bb50b4a0-503c-4aa5-9698-e88cd1eeb388",
   "metadata": {},
   "outputs": [
    {
     "name": "stdout",
     "output_type": "stream",
     "text": [
      "tushar\n",
      "heemang\n",
      "aditya\n",
      "varsha\n"
     ]
    }
   ],
   "source": [
    "for i in li:\n",
    "    print(i)"
   ]
  },
  {
   "cell_type": "code",
   "execution_count": 121,
   "id": "2b6efd05-c466-458a-9662-971adc77d0c2",
   "metadata": {},
   "outputs": [],
   "source": [
    "li = iter(li)"
   ]
  },
  {
   "cell_type": "code",
   "execution_count": 122,
   "id": "e8bcf4f7-8ed7-434e-b2df-b1a3deb96a66",
   "metadata": {},
   "outputs": [],
   "source": [
    "for i in li:\n",
    "    print(i)"
   ]
  },
  {
   "cell_type": "code",
   "execution_count": 120,
   "id": "698dd1a9-a73f-4907-a366-22a167610612",
   "metadata": {},
   "outputs": [],
   "source": [
    "for i in li:\n",
    "    print(i)"
   ]
  },
  {
   "cell_type": "code",
   "execution_count": 132,
   "id": "e8e7a506-6af6-48eb-b5a5-1da43641f2ed",
   "metadata": {},
   "outputs": [],
   "source": [
    "def greet_decorator(func):\n",
    "    def wrapper():\n",
    "        print(\"Finally \")\n",
    "        func()\n",
    "        print(\"Now Aditya gets a closure\")\n",
    "    return wrapper    "
   ]
  },
  {
   "cell_type": "code",
   "execution_count": 133,
   "id": "36287345-ff08-4f5f-a531-805ba147c3a9",
   "metadata": {},
   "outputs": [],
   "source": [
    "@greet_decorator\n",
    "def add():\n",
    "    a = input(\"enter number a : \")\n",
    "    b = input(\"enter number b : \")\n",
    "    print(a+b)"
   ]
  },
  {
   "cell_type": "code",
   "execution_count": 134,
   "id": "1a81e2f7-bfcd-4bb5-b1db-aed34e66a35c",
   "metadata": {},
   "outputs": [
    {
     "name": "stdout",
     "output_type": "stream",
     "text": [
      "Finally \n"
     ]
    },
    {
     "name": "stdin",
     "output_type": "stream",
     "text": [
      "enter number a :  8\n",
      "enter number b :  1\n"
     ]
    },
    {
     "name": "stdout",
     "output_type": "stream",
     "text": [
      "81\n",
      "Now Aditya gets a closure\n"
     ]
    }
   ],
   "source": [
    "add()"
   ]
  },
  {
   "cell_type": "code",
   "execution_count": 135,
   "id": "0ed8bce1-14e4-47b8-bf8d-2f56280d3ea7",
   "metadata": {},
   "outputs": [],
   "source": [
    "from flask import Flask"
   ]
  },
  {
   "cell_type": "code",
   "execution_count": 137,
   "id": "5e5c7a21-b1d7-4985-9a1e-bd85d6bb3576",
   "metadata": {},
   "outputs": [
    {
     "name": "stdout",
     "output_type": "stream",
     "text": [
      " * Serving Flask app '__main__'\n",
      " * Debug mode: on\n"
     ]
    },
    {
     "name": "stderr",
     "output_type": "stream",
     "text": [
      "WARNING: This is a development server. Do not use it in a production deployment. Use a production WSGI server instead.\n",
      " * Running on http://127.0.0.1:5000\n",
      "Press CTRL+C to quit\n",
      " * Restarting with watchdog (windowsapi)\n"
     ]
    },
    {
     "ename": "SystemExit",
     "evalue": "1",
     "output_type": "error",
     "traceback": [
      "An exception has occurred, use %tb to see the full traceback.\n",
      "\u001b[1;31mSystemExit\u001b[0m\u001b[1;31m:\u001b[0m 1\n"
     ]
    },
    {
     "name": "stderr",
     "output_type": "stream",
     "text": [
      "C:\\Users\\tbaka\\anaconda3\\Lib\\site-packages\\IPython\\core\\interactiveshell.py:3585: UserWarning: To exit: use 'exit', 'quit', or Ctrl-D.\n",
      "  warn(\"To exit: use 'exit', 'quit', or Ctrl-D.\", stacklevel=1)\n"
     ]
    }
   ],
   "source": [
    "app = Flask(__name__)\n",
    "\n",
    "@app.route('/')\n",
    "def hello_world():\n",
    "    return 'Hello World'\n",
    "\n",
    "if __name__ == \"__main__\":\n",
    "    app.run(debug=True)\n",
    "    "
   ]
  },
  {
   "cell_type": "code",
   "execution_count": null,
   "id": "05762bdb-5fc3-4e34-ab0e-30d3e14ea8eb",
   "metadata": {},
   "outputs": [],
   "source": []
  }
 ],
 "metadata": {
  "kernelspec": {
   "display_name": "Python 3 (ipykernel)",
   "language": "python",
   "name": "python3"
  },
  "language_info": {
   "codemirror_mode": {
    "name": "ipython",
    "version": 3
   },
   "file_extension": ".py",
   "mimetype": "text/x-python",
   "name": "python",
   "nbconvert_exporter": "python",
   "pygments_lexer": "ipython3",
   "version": "3.12.7"
  }
 },
 "nbformat": 4,
 "nbformat_minor": 5
}
