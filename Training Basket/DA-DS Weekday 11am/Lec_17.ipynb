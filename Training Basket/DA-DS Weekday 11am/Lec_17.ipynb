{
 "cells": [
  {
   "cell_type": "markdown",
   "id": "acfa1a94-0266-43bf-b9f4-eadb36fe1363",
   "metadata": {},
   "source": [
    "# Advance Methods\n",
    "1. lambda\n",
    "2. map\n",
    "3. filter\n",
    "4. reduce"
   ]
  },
  {
   "cell_type": "code",
   "execution_count": 1,
   "id": "65e1f83f-dfa8-4ec8-9301-52295524fb98",
   "metadata": {},
   "outputs": [],
   "source": [
    "# l = [1, 2, 3, 4]\n",
    "# l = ['1','2','3','4']"
   ]
  },
  {
   "cell_type": "code",
   "execution_count": 2,
   "id": "5987d797-2531-4f47-a47e-a084abb9d14a",
   "metadata": {},
   "outputs": [],
   "source": [
    "l = [1,2,3,4]\n",
    "digit = 1234"
   ]
  },
  {
   "cell_type": "code",
   "execution_count": 8,
   "id": "3b08c981-be31-454d-9b91-e9d22fd8bc7b",
   "metadata": {},
   "outputs": [],
   "source": [
    "add = lambda x : x//2"
   ]
  },
  {
   "cell_type": "code",
   "execution_count": 9,
   "id": "53b5b125-816b-4874-81c2-ec1be62f65bf",
   "metadata": {},
   "outputs": [
    {
     "data": {
      "text/plain": [
       "1"
      ]
     },
     "execution_count": 9,
     "metadata": {},
     "output_type": "execute_result"
    }
   ],
   "source": [
    "add(2)"
   ]
  },
  {
   "cell_type": "code",
   "execution_count": 15,
   "id": "8a3cc3e3-6040-47db-822b-dba8e4097ca4",
   "metadata": {},
   "outputs": [],
   "source": [
    "iseven = lambda x : \"even\" if x%2 == 0 else \"odd\""
   ]
  },
  {
   "cell_type": "code",
   "execution_count": 16,
   "id": "4c858cab-a31d-4cf5-a084-1930a828764c",
   "metadata": {},
   "outputs": [
    {
     "data": {
      "text/plain": [
       "'odd'"
      ]
     },
     "execution_count": 16,
     "metadata": {},
     "output_type": "execute_result"
    }
   ],
   "source": [
    "iseven(23)"
   ]
  },
  {
   "cell_type": "code",
   "execution_count": 17,
   "id": "e454decb-65f0-49e2-af13-52cd793cf18b",
   "metadata": {},
   "outputs": [
    {
     "name": "stdout",
     "output_type": "stream",
     "text": [
      "(1, 2, 5, 6)\n"
     ]
    }
   ],
   "source": [
    "num = 1256\n",
    "\n",
    "output = tuple(map(lambda x: int(x), str(num)))\n",
    "\n",
    "print(output)"
   ]
  },
  {
   "cell_type": "code",
   "execution_count": 19,
   "id": "d76642f4-b173-445c-b9cc-8a468ab114d7",
   "metadata": {},
   "outputs": [
    {
     "data": {
      "text/plain": [
       "1256"
      ]
     },
     "execution_count": 19,
     "metadata": {},
     "output_type": "execute_result"
    }
   ],
   "source": [
    "num = 1256\n",
    "num"
   ]
  },
  {
   "cell_type": "code",
   "execution_count": 22,
   "id": "42e99730-5945-4a58-880b-7a144a27e3e6",
   "metadata": {},
   "outputs": [
    {
     "name": "stdout",
     "output_type": "stream",
     "text": [
      "1256\n",
      "<class 'int'>\n"
     ]
    }
   ],
   "source": [
    "combine = lambda a_total, x: a_total * 10 + x\n",
    "\n",
    "def to_number(t):\n",
    "\n",
    "    result = t[0]\n",
    "\n",
    "    for i in range(1, len(t)):\n",
    "\n",
    "        result = combine(result, t[i])\n",
    "\n",
    "    return result\n",
    "\n",
    "a = (1, 2, 5, 6)\n",
    "\n",
    "print(to_number(a))        \n",
    "\n",
    "print(type(to_number(a)))"
   ]
  },
  {
   "cell_type": "code",
   "execution_count": 24,
   "id": "05dce5e6-6680-4767-b1f5-4861f7b92ba9",
   "metadata": {},
   "outputs": [],
   "source": [
    "# take an input a 5 digit number and convert it into a string\n",
    "# input = 45732 integer\n",
    "# output = '45732' string"
   ]
  },
  {
   "cell_type": "code",
   "execution_count": 44,
   "id": "3f781247-e8f5-4704-b7a6-f6ddf38ae3dd",
   "metadata": {},
   "outputs": [],
   "source": [
    "def number_to_string(n):\n",
    "\n",
    "    a = n // 10000\n",
    "    b = (n // 1000) % 10\n",
    "    c = (n // 100) % 10\n",
    "    d = (n // 10) % 10\n",
    "    e = n % 10\n",
    "\n",
    "    digits = [a, b, c, d, e]\n",
    "\n",
    "    chars = map(lambda x: chr(ord('0') + x), digits)\n",
    "    print(chars)\n",
    "    result = ''\n",
    "\n",
    "    for ch in chars:\n",
    "\n",
    "        result += ch\n",
    "\n",
    "    return result"
   ]
  },
  {
   "cell_type": "code",
   "execution_count": 45,
   "id": "1be06ec3-6945-4ed7-b6b2-7563161481aa",
   "metadata": {},
   "outputs": [
    {
     "name": "stdout",
     "output_type": "stream",
     "text": [
      "<map object at 0x000001BAB6977F70>\n"
     ]
    },
    {
     "data": {
      "text/plain": [
       "'12345'"
      ]
     },
     "execution_count": 45,
     "metadata": {},
     "output_type": "execute_result"
    }
   ],
   "source": [
    "number_to_string(12345)"
   ]
  },
  {
   "cell_type": "code",
   "execution_count": 36,
   "id": "3cac70ac-bcbd-4c1c-a81e-0f9b2b4fa321",
   "metadata": {},
   "outputs": [
    {
     "name": "stdout",
     "output_type": "stream",
     "text": [
      "123 4\n",
      "12 3\n",
      "1 2\n",
      "0 1\n"
     ]
    }
   ],
   "source": [
    "num = 1234\n",
    "q = num//10\n",
    "r = num%10\n",
    "num = q\n",
    "print(q, r)\n",
    "q = num//10\n",
    "r = num%10\n",
    "num = q\n",
    "print(q, r)\n",
    "q = num//10\n",
    "r = num%10\n",
    "print(q, r)\n",
    "num = q\n",
    "q = num//10\n",
    "r = num%10\n",
    "print(q, r)"
   ]
  },
  {
   "cell_type": "code",
   "execution_count": 46,
   "id": "fa4b847d-f4f7-4e7c-b901-1c8da9bd9074",
   "metadata": {},
   "outputs": [],
   "source": [
    "st = \"Training Basket\""
   ]
  },
  {
   "cell_type": "code",
   "execution_count": 48,
   "id": "c93a6274-7d4d-4bfe-96ee-f3fead0f2ba4",
   "metadata": {},
   "outputs": [
    {
     "name": "stdout",
     "output_type": "stream",
     "text": [
      "Training Basket"
     ]
    }
   ],
   "source": [
    "for i in st:\n",
    "    print(i, end = \"\")"
   ]
  },
  {
   "cell_type": "code",
   "execution_count": 49,
   "id": "bbb57bfd-7afd-43a4-a000-979b39ff4630",
   "metadata": {},
   "outputs": [
    {
     "name": "stdout",
     "output_type": "stream",
     "text": [
      "Training Basket"
     ]
    }
   ],
   "source": [
    "st = 'Training Basket'\n",
    "\n",
    "i = 0\n",
    "\n",
    "while i < len(st):\n",
    "\n",
    "    print(st[i], end='')  \n",
    "\n",
    "    i += 1"
   ]
  },
  {
   "cell_type": "code",
   "execution_count": 53,
   "id": "752f3e5b-57f9-4d97-8d18-4ec74db95f9a",
   "metadata": {},
   "outputs": [],
   "source": [
    "st  = '''Python is a high-level, general-purpose programming language. Its design philosophy emphasizes code readability with the use of significant indentation.[33]\n",
    "Python is dynamically type-checked and garbage-collected. It supports multiple programming paradigms, including structured (particularly procedural), object-oriented and functional programming. It is often described as a \"batteries included\" language due to its comprehensive standard library'''"
   ]
  },
  {
   "cell_type": "code",
   "execution_count": 51,
   "id": "336c9ea3-1eea-4f6d-8ff7-9b400d62b591",
   "metadata": {},
   "outputs": [],
   "source": [
    "# find the number of words in a string"
   ]
  },
  {
   "cell_type": "code",
   "execution_count": 59,
   "id": "4c857fc4-70f6-4ffa-a454-a5abec258fb1",
   "metadata": {},
   "outputs": [
    {
     "name": "stdout",
     "output_type": "stream",
     "text": [
      "substrings (words): 2\n"
     ]
    }
   ],
   "source": [
    "st = \"tRAINING BASKET\"\n",
    "in_word = False\n",
    "\n",
    "count = 0\n",
    "\n",
    "for ch in st:\n",
    "\n",
    "    if ch != ' ' and not in_word:\n",
    "\n",
    "        count += 1\n",
    "\n",
    "        in_word = True\n",
    "\n",
    "    elif ch == ' ':\n",
    "\n",
    "        in_word = False\n",
    "\n",
    "print(\"substrings (words):\", count)"
   ]
  },
  {
   "cell_type": "code",
   "execution_count": null,
   "id": "525121da-b027-4c8e-bc2b-1cd40e227745",
   "metadata": {},
   "outputs": [],
   "source": []
  },
  {
   "cell_type": "code",
   "execution_count": null,
   "id": "743d2c36-731f-472b-be95-131a062854ea",
   "metadata": {},
   "outputs": [],
   "source": []
  }
 ],
 "metadata": {
  "kernelspec": {
   "display_name": "Python 3 (ipykernel)",
   "language": "python",
   "name": "python3"
  },
  "language_info": {
   "codemirror_mode": {
    "name": "ipython",
    "version": 3
   },
   "file_extension": ".py",
   "mimetype": "text/x-python",
   "name": "python",
   "nbconvert_exporter": "python",
   "pygments_lexer": "ipython3",
   "version": "3.12.7"
  }
 },
 "nbformat": 4,
 "nbformat_minor": 5
}
