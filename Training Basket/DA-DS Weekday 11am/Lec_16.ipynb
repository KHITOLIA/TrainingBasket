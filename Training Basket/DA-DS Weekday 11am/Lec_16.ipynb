{
 "cells": [
  {
   "cell_type": "code",
   "execution_count": 2,
   "id": "bcd0463b-03b1-4063-a177-73c01d4e976f",
   "metadata": {},
   "outputs": [
    {
     "name": "stdin",
     "output_type": "stream",
     "text": [
      "Enter start number:  0\n",
      "Enter end number:  10\n"
     ]
    },
    {
     "name": "stdout",
     "output_type": "stream",
     "text": [
      "Prime numbers between 0 and 10 are:\n",
      "2\n",
      "3\n",
      "5\n",
      "7\n"
     ]
    }
   ],
   "source": [
    "start = int(input(\"Enter start number: \"))\n",
    "\n",
    "end = int(input(\"Enter end number: \"))\n",
    "\n",
    "print(\"Prime numbers between\", start, \"and\", end, \"are:\")\n",
    "\n",
    "for num in range(start, end + 1):\n",
    "\n",
    "    if num < 2:\n",
    "\n",
    "        continue\n",
    "\n",
    "    is_prime = True\n",
    "\n",
    "    for i in range(2, num):\n",
    "\n",
    "        if num % i == 0:\n",
    "\n",
    "            is_prime = False\n",
    "\n",
    "            break\n",
    "\n",
    "    if is_prime:\n",
    "\n",
    "        print(num)"
   ]
  },
  {
   "cell_type": "code",
   "execution_count": 10,
   "id": "1bcf2675-3752-40a1-8f64-3399061c4890",
   "metadata": {},
   "outputs": [
    {
     "name": "stdout",
     "output_type": "stream",
     "text": [
      "2\n",
      "3\n",
      "5\n",
      "7\n"
     ]
    }
   ],
   "source": [
    "low = 2\n",
    "end = 10\n",
    "\n",
    "for i in range(low, end+1):\n",
    "    for j in range(2, i+1):\n",
    "        if i%j == 0 :\n",
    "            if j < i:\n",
    "                break\n",
    "            else:\n",
    "                print(i)"
   ]
  },
  {
   "cell_type": "code",
   "execution_count": 11,
   "id": "851e339b-dbe8-4dcc-866f-bd1ab9da2a6f",
   "metadata": {},
   "outputs": [],
   "source": [
    "text = \"The quick fox jump over the box\""
   ]
  },
  {
   "cell_type": "code",
   "execution_count": 19,
   "id": "42ca3f88-5332-4c11-b0ad-3aff9895c869",
   "metadata": {},
   "outputs": [],
   "source": [
    "d = {}\n",
    "vowels = 'aeiouAEIOU'\n",
    "for i in text:\n",
    "    if i == \" \":\n",
    "        continue\n",
    "    if i in vowels:\n",
    "        d[i] = 'v'\n",
    "    else:\n",
    "        d[i] = 'c'"
   ]
  },
  {
   "cell_type": "code",
   "execution_count": 18,
   "id": "b5d0acc5-dcd3-40e5-8d7b-02bc656ad90c",
   "metadata": {},
   "outputs": [
    {
     "data": {
      "text/plain": [
       "{'T': 'c',\n",
       " 'h': 'c',\n",
       " 'e': 'v',\n",
       " ' ': 'c',\n",
       " 'q': 'c',\n",
       " 'u': 'v',\n",
       " 'i': 'v',\n",
       " 'c': 'c',\n",
       " 'k': 'c',\n",
       " 'f': 'c',\n",
       " 'o': 'v',\n",
       " 'x': 'c',\n",
       " 'j': 'c',\n",
       " 'm': 'c',\n",
       " 'p': 'c',\n",
       " 'v': 'c',\n",
       " 'r': 'c',\n",
       " 't': 'c',\n",
       " 'b': 'c'}"
      ]
     },
     "execution_count": 18,
     "metadata": {},
     "output_type": "execute_result"
    }
   ],
   "source": [
    "d"
   ]
  },
  {
   "cell_type": "code",
   "execution_count": 20,
   "id": "6e361d24-8faa-4b53-a448-ae023f1884d8",
   "metadata": {},
   "outputs": [
    {
     "name": "stdout",
     "output_type": "stream",
     "text": [
      "Vowels: ['e', 'u', 'i', 'o', 'u', 'o', 'e', 'e', 'o']\n",
      "Consonants: ['T', 'h', 'q', 'c', 'k', 'f', 'x', 'j', 'm', 'p', 'v', 'r', 't', 'h', 'b', 'x']\n"
     ]
    }
   ],
   "source": [
    "text = \"The quick fox jump over the box\"\n",
    "\n",
    "vowels_list = ['a', 'e', 'i', 'o', 'u', 'A', 'E', 'I', 'O', 'U']\n",
    "\n",
    "result = {\n",
    "\n",
    "    'vowels': [],\n",
    "\n",
    "    'consonants': []\n",
    "\n",
    "}\n",
    "\n",
    "for ch in text:\n",
    "\n",
    "    if ('a' <= ch <= 'z') or ('A' <= ch <= 'Z'):\n",
    "\n",
    "        is_vowel = False\n",
    "\n",
    "        for v in vowels_list:\n",
    "\n",
    "            if ch == v:\n",
    "\n",
    "                is_vowel = True\n",
    "\n",
    "                break\n",
    "\n",
    "        if is_vowel:\n",
    "\n",
    "            result['vowels'].append(ch)\n",
    "\n",
    "        else:\n",
    "\n",
    "            result['consonants'].append(ch)\n",
    "\n",
    "print(\"Vowels:\", result['vowels'])\n",
    "\n",
    "print(\"Consonants:\", result['consonants'])"
   ]
  },
  {
   "cell_type": "markdown",
   "id": "8c0f4797-cdf3-4e6e-a995-c2d0e4c6aa31",
   "metadata": {},
   "source": [
    "# Advanced Functions\n",
    "1. lambda\n",
    "2. map\n",
    "3. filter\n",
    "4. reduce"
   ]
  },
  {
   "cell_type": "code",
   "execution_count": 21,
   "id": "440065b6-9526-42b9-a721-9879b2ae6595",
   "metadata": {},
   "outputs": [],
   "source": [
    "# lambda argument : expression"
   ]
  },
  {
   "cell_type": "code",
   "execution_count": 22,
   "id": "05b6b819-eef3-471f-9109-026e76a4f005",
   "metadata": {},
   "outputs": [],
   "source": [
    "add = lambda x : x+2"
   ]
  },
  {
   "cell_type": "code",
   "execution_count": 24,
   "id": "2b35538f-e9d5-495e-a325-02b98207783c",
   "metadata": {},
   "outputs": [
    {
     "data": {
      "text/plain": [
       "5"
      ]
     },
     "execution_count": 24,
     "metadata": {},
     "output_type": "execute_result"
    }
   ],
   "source": [
    "add(3)"
   ]
  },
  {
   "cell_type": "code",
   "execution_count": 25,
   "id": "96f01fc2-275b-4cc2-8cf4-0c67aac451c7",
   "metadata": {},
   "outputs": [],
   "source": [
    "add = lambda x,y : x + 2 + y"
   ]
  },
  {
   "cell_type": "code",
   "execution_count": 27,
   "id": "a04e0d5c-317c-4d4c-b255-669e58cb9e75",
   "metadata": {},
   "outputs": [
    {
     "data": {
      "text/plain": [
       "8"
      ]
     },
     "execution_count": 27,
     "metadata": {},
     "output_type": "execute_result"
    }
   ],
   "source": [
    "add(3, 3)"
   ]
  },
  {
   "cell_type": "code",
   "execution_count": 30,
   "id": "461068bb-974b-4e89-a0e6-cab1c6a5b79c",
   "metadata": {},
   "outputs": [],
   "source": [
    "iseven = lambda x : \"Even\" if x%2 == 0 else \"odd\""
   ]
  },
  {
   "cell_type": "code",
   "execution_count": 31,
   "id": "c51ac121-d945-4bda-8e97-f385a541b1e9",
   "metadata": {},
   "outputs": [
    {
     "data": {
      "text/plain": [
       "'Even'"
      ]
     },
     "execution_count": 31,
     "metadata": {},
     "output_type": "execute_result"
    }
   ],
   "source": [
    "iseven(8)"
   ]
  },
  {
   "cell_type": "code",
   "execution_count": 32,
   "id": "ac38efa4-7427-4e7b-ba2e-b826eee1c356",
   "metadata": {},
   "outputs": [
    {
     "data": {
      "text/plain": [
       "36"
      ]
     },
     "execution_count": 32,
     "metadata": {},
     "output_type": "execute_result"
    }
   ],
   "source": [
    "square = lambda x : x**2\n",
    "square(6)"
   ]
  },
  {
   "cell_type": "code",
   "execution_count": 57,
   "id": "7a313a1d-3f8b-4183-97a1-cf5844a1d5ad",
   "metadata": {},
   "outputs": [],
   "source": [
    "l = [lambda x : x*1, lambda x : x*2, lambda x : x*3]"
   ]
  },
  {
   "cell_type": "code",
   "execution_count": 44,
   "id": "cb7c3569-6cec-4d3e-a7b4-d621a4b6fd4d",
   "metadata": {},
   "outputs": [
    {
     "name": "stdout",
     "output_type": "stream",
     "text": [
      "3\n",
      "6\n",
      "9\n"
     ]
    }
   ],
   "source": [
    "for i in l:\n",
    "    print(i(3))"
   ]
  },
  {
   "cell_type": "code",
   "execution_count": 65,
   "id": "8a714be7-ff58-4b04-a56c-114e00012193",
   "metadata": {},
   "outputs": [
    {
     "name": "stdin",
     "output_type": "stream",
     "text": [
      "enter the number 6\n"
     ]
    }
   ],
   "source": [
    "l = [lambda x : x*1, lambda x : x*2, lambda x : x*3]\n",
    "a = int(input('enter the number'))\n",
    "for i in range(len(l)):\n",
    "    l[i] = l[i](a)"
   ]
  },
  {
   "cell_type": "code",
   "execution_count": 61,
   "id": "1c2c53e7-ce56-4e01-ab40-fcce75906f2a",
   "metadata": {},
   "outputs": [],
   "source": [
    "# l[0] = l[0](3)"
   ]
  },
  {
   "cell_type": "code",
   "execution_count": 66,
   "id": "4bc1f42d-819e-4e1d-83fa-881e6e89c62b",
   "metadata": {},
   "outputs": [
    {
     "data": {
      "text/plain": [
       "[6, 12, 18]"
      ]
     },
     "execution_count": 66,
     "metadata": {},
     "output_type": "execute_result"
    }
   ],
   "source": [
    "l"
   ]
  },
  {
   "cell_type": "code",
   "execution_count": 67,
   "id": "6d34c55a-b67f-4bd9-aca6-b4c72d746ad7",
   "metadata": {},
   "outputs": [],
   "source": [
    "# Map : applying a function to each item in an iterable\n",
    "# map(function, iterable)"
   ]
  },
  {
   "cell_type": "code",
   "execution_count": 69,
   "id": "4196fbf5-54a1-47ea-bea7-f83e8e4e7ae2",
   "metadata": {},
   "outputs": [],
   "source": [
    "nums = [1, 2, 3, 4]\n",
    "for i in range(len(nums)):\n",
    "    nums[i] = nums[i]**2"
   ]
  },
  {
   "cell_type": "code",
   "execution_count": 70,
   "id": "b2ffe3cc-4e06-4395-9f39-5405e9aa315e",
   "metadata": {},
   "outputs": [
    {
     "data": {
      "text/plain": [
       "[1, 4, 9, 16]"
      ]
     },
     "execution_count": 70,
     "metadata": {},
     "output_type": "execute_result"
    }
   ],
   "source": [
    "nums"
   ]
  },
  {
   "cell_type": "code",
   "execution_count": 72,
   "id": "048385ad-6a2e-47cc-92fc-e530d318ee2c",
   "metadata": {},
   "outputs": [
    {
     "data": {
      "text/plain": [
       "[1, 16, 81, 256]"
      ]
     },
     "execution_count": 72,
     "metadata": {},
     "output_type": "execute_result"
    }
   ],
   "source": [
    "list(map(lambda x : x**2, nums))"
   ]
  },
  {
   "cell_type": "code",
   "execution_count": 78,
   "id": "d155d895-7318-4e3a-87f6-75a4c40fd296",
   "metadata": {},
   "outputs": [
    {
     "data": {
      "text/plain": [
       "['Hello', 'World']"
      ]
     },
     "execution_count": 78,
     "metadata": {},
     "output_type": "execute_result"
    }
   ],
   "source": [
    "words = [\"hello\", \"world\"]\n",
    "list(map(lambda x:x.capitalize(), words))"
   ]
  },
  {
   "cell_type": "code",
   "execution_count": 84,
   "id": "cb7139dd-f01f-44b9-9ac5-7361d0885b7e",
   "metadata": {},
   "outputs": [],
   "source": [
    "a = (1, 2, 3, 4)\n",
    "b = (5, 6, 7, 8)\n",
    "c = tuple(map(lambda x,y : x +y, a,b))"
   ]
  },
  {
   "cell_type": "code",
   "execution_count": 85,
   "id": "6d2b0cc9-7348-43f9-a1b4-977025989575",
   "metadata": {},
   "outputs": [
    {
     "data": {
      "text/plain": [
       "(6, 8, 10, 12)"
      ]
     },
     "execution_count": 85,
     "metadata": {},
     "output_type": "execute_result"
    }
   ],
   "source": [
    "c"
   ]
  },
  {
   "cell_type": "code",
   "execution_count": 91,
   "id": "07ffe34b-59dc-4e74-abc5-2011b9b73eae",
   "metadata": {},
   "outputs": [],
   "source": [
    "# a = (1, 2, 5, 6)\n",
    "# # convert this a to a digit 1256"
   ]
  },
  {
   "cell_type": "code",
   "execution_count": 93,
   "id": "6638d9f8-68f2-4cf2-b471-767cbe6a71c7",
   "metadata": {},
   "outputs": [],
   "source": [
    "# filter : filtering elements based on the condition(return only true statement)\n",
    "# filter(function, iterable)"
   ]
  },
  {
   "cell_type": "code",
   "execution_count": 96,
   "id": "25bd01ef-7de4-4d8f-9009-5a3f7efa10b6",
   "metadata": {},
   "outputs": [],
   "source": [
    "num = [2, 3, 4, 5, 32, 4,15, 31, 6]\n",
    "num  = list(filter(lambda x : x%2 == 0, num))"
   ]
  },
  {
   "cell_type": "code",
   "execution_count": 98,
   "id": "5dd43db4-5011-4017-b746-d082f6c97922",
   "metadata": {},
   "outputs": [
    {
     "data": {
      "text/plain": [
       "[2, 4, 32, 4, 6]"
      ]
     },
     "execution_count": 98,
     "metadata": {},
     "output_type": "execute_result"
    }
   ],
   "source": [
    "num"
   ]
  },
  {
   "cell_type": "code",
   "execution_count": 104,
   "id": "6c5273a1-ef8f-4637-ae61-9f474717c6f2",
   "metadata": {},
   "outputs": [
    {
     "data": {
      "text/plain": [
       "['23/08/2002', 'Sharma']"
      ]
     },
     "execution_count": 104,
     "metadata": {},
     "output_type": "execute_result"
    }
   ],
   "source": [
    "words = (\"\", \"23/08/2002\", \"\", \"Sharma\")\n",
    "list(filter(lambda x : len(x) > 4, words))"
   ]
  },
  {
   "cell_type": "code",
   "execution_count": 103,
   "id": "307d3879-bb69-4c14-a1c8-c295ab17c641",
   "metadata": {},
   "outputs": [
    {
     "data": {
      "text/plain": [
       "False"
      ]
     },
     "execution_count": 103,
     "metadata": {},
     "output_type": "execute_result"
    }
   ],
   "source": [
    "'word2s'.isalpha()"
   ]
  },
  {
   "cell_type": "code",
   "execution_count": 108,
   "id": "5ab868fc-7fed-4971-bc4b-c693ef829e42",
   "metadata": {},
   "outputs": [
    {
     "data": {
      "text/plain": [
       "['23/08/2002', 'Sharma']"
      ]
     },
     "execution_count": 108,
     "metadata": {},
     "output_type": "execute_result"
    }
   ],
   "source": [
    "words = (\"\", \"23/08/2002\", \"\", \"Sharma\")\n",
    "list(filter(None, words))"
   ]
  },
  {
   "cell_type": "code",
   "execution_count": 106,
   "id": "81a8ef99-1f0f-4fa0-91ba-c90efebd24dd",
   "metadata": {},
   "outputs": [],
   "source": [
    "a = ('1', '2', '5', '6')\n",
    "# (1, 2, 5, 6)"
   ]
  },
  {
   "cell_type": "code",
   "execution_count": null,
   "id": "f557c427-43ba-4c0b-9f65-cdca2db020e7",
   "metadata": {},
   "outputs": [],
   "source": []
  }
 ],
 "metadata": {
  "kernelspec": {
   "display_name": "Python 3 (ipykernel)",
   "language": "python",
   "name": "python3"
  },
  "language_info": {
   "codemirror_mode": {
    "name": "ipython",
    "version": 3
   },
   "file_extension": ".py",
   "mimetype": "text/x-python",
   "name": "python",
   "nbconvert_exporter": "python",
   "pygments_lexer": "ipython3",
   "version": "3.12.7"
  }
 },
 "nbformat": 4,
 "nbformat_minor": 5
}
