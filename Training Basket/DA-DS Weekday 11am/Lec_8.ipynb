{
 "cells": [
  {
   "cell_type": "code",
   "execution_count": 7,
   "id": "4aebc114-b1bf-493c-8567-e152ad5a79d7",
   "metadata": {},
   "outputs": [
    {
     "name": "stdin",
     "output_type": "stream",
     "text": [
      "Enter the first number:  8\n",
      "Enter the second number:  12\n"
     ]
    },
    {
     "name": "stdout",
     "output_type": "stream",
     "text": [
      "The HCF of 8 and 12 is: 4\n",
      "The LCM of 8 and 12 is: 24\n"
     ]
    }
   ],
   "source": [
    "def find_hcf(divisor, dividend):\n",
    "\n",
    "    while(dividend != 0):\n",
    "\n",
    "        divisor, dividend = dividend, divisor % dividend\n",
    "\n",
    "    return divisor\n",
    "\n",
    "def find_lcm(a, b):\n",
    "\n",
    "    lcm = (a * b) // find_hcf(a, b)\n",
    "\n",
    "    return lcm\n",
    "\n",
    "num1 = int(input(\"Enter the first number: \"))\n",
    "\n",
    "num2 = int(input(\"Enter the second number: \"))\n",
    "\n",
    "hcf_result = find_hcf(num1, num2)\n",
    "\n",
    "lcm_result = find_lcm(num1, num2)\n",
    "\n",
    "print(f\"The HCF of {num1} and {num2} is: {hcf_result}\")\n",
    "\n",
    "print(f\"The LCM of {num1} and {num2} is: {lcm_result}\")"
   ]
  },
  {
   "cell_type": "code",
   "execution_count": 3,
   "id": "32e250eb-cb49-460d-a10d-1e0dda0af70b",
   "metadata": {},
   "outputs": [
    {
     "name": "stdin",
     "output_type": "stream",
     "text": [
      "Enter any value :  4\n",
      "Enter any value :  48\n"
     ]
    },
    {
     "name": "stdout",
     "output_type": "stream",
     "text": [
      "HCF 8\n",
      "LCM 24.0\n"
     ]
    }
   ],
   "source": [
    "a=int(input(\"Enter any value : \"))\n",
    "\n",
    "b=int(input(\"Enter any value : \"))\n",
    "\n",
    "HCF=1\n",
    "\n",
    "LCM=1\n",
    "\n",
    "for i in range(1,max(a,b)+1):\n",
    "\n",
    "  if (a%i==0) and (b%i==0):\n",
    "\n",
    "    HCF = HCF*i\n",
    "\n",
    "  else:\n",
    "\n",
    "    continue\n",
    "\n",
    "print(\"HCF\",HCF)\n",
    "\n",
    "LCM=(a*b)/HCF\n",
    "\n",
    "print(\"LCM\", LCM)"
   ]
  },
  {
   "cell_type": "code",
   "execution_count": 9,
   "id": "7c491e78-3990-4216-bd77-15ef95de7d95",
   "metadata": {},
   "outputs": [],
   "source": [
    "divisor = 8\n",
    "dividend = 12\n",
    "mult = divisor*dividend\n",
    "while(divisor>0):\n",
    "    r = dividend%divisor\n",
    "    dividend = divisor\n",
    "    divisor = r\n"
   ]
  },
  {
   "cell_type": "code",
   "execution_count": 6,
   "id": "78a0df3c-b4e8-4b51-896c-16d33b7dd4a8",
   "metadata": {},
   "outputs": [
    {
     "data": {
      "text/plain": [
       "4"
      ]
     },
     "execution_count": 6,
     "metadata": {},
     "output_type": "execute_result"
    }
   ],
   "source": [
    "dividend"
   ]
  },
  {
   "cell_type": "code",
   "execution_count": 10,
   "id": "1640979a-1302-49be-b95d-f57cf770a7f4",
   "metadata": {},
   "outputs": [],
   "source": [
    "lcm = mult/dividend"
   ]
  },
  {
   "cell_type": "code",
   "execution_count": 11,
   "id": "631823b8-6b10-47d9-895e-4115a5aba2c5",
   "metadata": {},
   "outputs": [
    {
     "data": {
      "text/plain": [
       "24.0"
      ]
     },
     "execution_count": 11,
     "metadata": {},
     "output_type": "execute_result"
    }
   ],
   "source": [
    "lcm"
   ]
  },
  {
   "cell_type": "code",
   "execution_count": 13,
   "id": "bbef083f-8c52-48f2-8fc0-0e4e20ca2f3d",
   "metadata": {},
   "outputs": [
    {
     "name": "stdout",
     "output_type": "stream",
     "text": [
      "first loop 0\n",
      "second loop 0\n",
      "second loop 1\n",
      "first loop 1\n",
      "second loop 0\n",
      "second loop 1\n",
      "first loop 2\n",
      "first loop 3\n",
      "second loop 0\n",
      "second loop 1\n"
     ]
    }
   ],
   "source": [
    "for i in range(4):\n",
    "    print(\"first loop\", i)\n",
    "    if i == 2:\n",
    "        continue\n",
    "        print(\"hello\")\n",
    "    for i in range(2):\n",
    "        print(\"second loop\",i)"
   ]
  },
  {
   "cell_type": "markdown",
   "id": "a961b020-443b-4c2d-9ca4-05296f55fad5",
   "metadata": {},
   "source": [
    "# Data Structure\n",
    "1. String\n",
    "2. list\n",
    "3. tuple\n",
    "4. Dictionary\n",
    "5. Sets"
   ]
  },
  {
   "cell_type": "code",
   "execution_count": 14,
   "id": "6408d802-3d65-4ec7-938b-5b87eca0396b",
   "metadata": {},
   "outputs": [],
   "source": [
    "a = \"hello\""
   ]
  },
  {
   "cell_type": "code",
   "execution_count": 15,
   "id": "3b417464-f7a0-4b76-8785-939e0a8a987c",
   "metadata": {},
   "outputs": [
    {
     "data": {
      "text/plain": [
       "str"
      ]
     },
     "execution_count": 15,
     "metadata": {},
     "output_type": "execute_result"
    }
   ],
   "source": [
    "type(a)"
   ]
  },
  {
   "cell_type": "code",
   "execution_count": 16,
   "id": "5725ca25-2bee-42b1-948c-caa3b99c438b",
   "metadata": {},
   "outputs": [
    {
     "name": "stdout",
     "output_type": "stream",
     "text": [
      "<class 'str'>\n"
     ]
    }
   ],
   "source": [
    "print(type(a))"
   ]
  },
  {
   "cell_type": "code",
   "execution_count": 83,
   "id": "ca505cc2-ac4f-4fd8-acdd-43d693e6265e",
   "metadata": {},
   "outputs": [],
   "source": [
    "a = \"My name is Aditya\""
   ]
  },
  {
   "cell_type": "code",
   "execution_count": 18,
   "id": "29a920d7-e1f5-4c87-9640-738deacbb2a3",
   "metadata": {},
   "outputs": [
    {
     "name": "stdout",
     "output_type": "stream",
     "text": [
      "My name is Aditya\n"
     ]
    }
   ],
   "source": [
    "print(a)"
   ]
  },
  {
   "cell_type": "code",
   "execution_count": 19,
   "id": "a8398fd5-b78d-4205-9b6a-aa5d1cd28bcf",
   "metadata": {},
   "outputs": [],
   "source": [
    "# Format method\n",
    "# f string"
   ]
  },
  {
   "cell_type": "code",
   "execution_count": 24,
   "id": "7634e1bd-d51f-4d30-9cb1-62653a0e1001",
   "metadata": {},
   "outputs": [
    {
     "name": "stdout",
     "output_type": "stream",
     "text": [
      "Hello , My name is Aditya\n"
     ]
    }
   ],
   "source": [
    "print(f\"Hello , {a}\")"
   ]
  },
  {
   "cell_type": "code",
   "execution_count": 32,
   "id": "41513fe0-bacc-4634-8161-cf36165d8a92",
   "metadata": {},
   "outputs": [
    {
     "name": "stdout",
     "output_type": "stream",
     "text": [
      "hello tushar\n"
     ]
    }
   ],
   "source": [
    "print(\"hello\"+ \" \" + \"tushar\") # concatenation "
   ]
  },
  {
   "cell_type": "code",
   "execution_count": 34,
   "id": "5b0b9864-4c1c-4273-9077-81d685e7379f",
   "metadata": {},
   "outputs": [
    {
     "name": "stdout",
     "output_type": "stream",
     "text": [
      "hello My name is Aditya\n"
     ]
    }
   ],
   "source": [
    "print(\"hello \" + a)"
   ]
  },
  {
   "cell_type": "code",
   "execution_count": 44,
   "id": "279f8d37-0ad3-4805-8dd4-88ca8f869df6",
   "metadata": {},
   "outputs": [
    {
     "name": "stdout",
     "output_type": "stream",
     "text": [
      "My name is Aditya\n"
     ]
    }
   ],
   "source": [
    "print(\"{}\".format(a))"
   ]
  },
  {
   "cell_type": "code",
   "execution_count": 37,
   "id": "aa585cb6-3e97-49b4-8e22-596f281c7de9",
   "metadata": {},
   "outputs": [
    {
     "data": {
      "text/plain": [
       "48"
      ]
     },
     "execution_count": 37,
     "metadata": {},
     "output_type": "execute_result"
    }
   ],
   "source": [
    "b"
   ]
  },
  {
   "cell_type": "code",
   "execution_count": 46,
   "id": "8f49fd37-4f2e-4be3-ad0f-05591e5e8ae3",
   "metadata": {},
   "outputs": [
    {
     "name": "stdout",
     "output_type": "stream",
     "text": [
      "hello My name is Aditya\n"
     ]
    }
   ],
   "source": [
    "print(f\"hello {a}\")"
   ]
  },
  {
   "cell_type": "code",
   "execution_count": 47,
   "id": "10add94b-5bab-4e23-80c5-508af786a9b6",
   "metadata": {},
   "outputs": [],
   "source": [
    "# find"
   ]
  },
  {
   "cell_type": "code",
   "execution_count": 50,
   "id": "38e42fdb-8a32-4789-8ecb-0ad17bafffa5",
   "metadata": {},
   "outputs": [
    {
     "data": {
      "text/plain": [
       "11"
      ]
     },
     "execution_count": 50,
     "metadata": {},
     "output_type": "execute_result"
    }
   ],
   "source": [
    "a.find(\"Aditya\")"
   ]
  },
  {
   "cell_type": "code",
   "execution_count": null,
   "id": "1286a96b-f47e-4dea-be34-5c70fe59fa03",
   "metadata": {},
   "outputs": [],
   "source": []
  },
  {
   "cell_type": "code",
   "execution_count": 65,
   "id": "85263f36-68da-475b-a7d4-31800c69344c",
   "metadata": {},
   "outputs": [],
   "source": [
    "a = \"   my  name is aditya\""
   ]
  },
  {
   "cell_type": "code",
   "execution_count": 66,
   "id": "a379bfe2-c668-4559-944f-3ae6ccb045ae",
   "metadata": {},
   "outputs": [],
   "source": [
    "a = a.strip()"
   ]
  },
  {
   "cell_type": "code",
   "execution_count": 67,
   "id": "58841d66-f596-407d-8659-235d382c8690",
   "metadata": {},
   "outputs": [
    {
     "data": {
      "text/plain": [
       "'my  name is aditya'"
      ]
     },
     "execution_count": 67,
     "metadata": {},
     "output_type": "execute_result"
    }
   ],
   "source": [
    "a"
   ]
  },
  {
   "cell_type": "code",
   "execution_count": 68,
   "id": "ef1638ab-3f09-46ad-91a2-1085a010ab47",
   "metadata": {},
   "outputs": [
    {
     "data": {
      "text/plain": [
       "['my', 'name', 'is', 'aditya']"
      ]
     },
     "execution_count": 68,
     "metadata": {},
     "output_type": "execute_result"
    }
   ],
   "source": [
    "a.split()"
   ]
  },
  {
   "cell_type": "code",
   "execution_count": 69,
   "id": "c79b2a03-6a89-4b85-82d8-565182849166",
   "metadata": {},
   "outputs": [
    {
     "data": {
      "text/plain": [
       "['my  ', 'ame is aditya']"
      ]
     },
     "execution_count": 69,
     "metadata": {},
     "output_type": "execute_result"
    }
   ],
   "source": [
    "a.split(\"n\")"
   ]
  },
  {
   "cell_type": "code",
   "execution_count": 70,
   "id": "69c3f791-f165-474f-a4a7-020f2f81c962",
   "metadata": {},
   "outputs": [
    {
     "data": {
      "text/plain": [
       "['my  n', 'me is ', 'dity', '']"
      ]
     },
     "execution_count": 70,
     "metadata": {},
     "output_type": "execute_result"
    }
   ],
   "source": [
    "a.split(\"a\")"
   ]
  },
  {
   "cell_type": "code",
   "execution_count": 73,
   "id": "b9b6db77-0656-41f4-92b7-e7d6d408cdeb",
   "metadata": {},
   "outputs": [
    {
     "data": {
      "text/plain": [
       "['my  name is ', '']"
      ]
     },
     "execution_count": 73,
     "metadata": {},
     "output_type": "execute_result"
    }
   ],
   "source": [
    "a.split(\"aditya\")"
   ]
  },
  {
   "cell_type": "code",
   "execution_count": 74,
   "id": "7a524a43-bcea-452c-b2c7-7833dd321ab7",
   "metadata": {},
   "outputs": [
    {
     "data": {
      "text/plain": [
       "'my  name is aditya'"
      ]
     },
     "execution_count": 74,
     "metadata": {},
     "output_type": "execute_result"
    }
   ],
   "source": [
    "a"
   ]
  },
  {
   "cell_type": "code",
   "execution_count": 81,
   "id": "a6bf703d-a44c-4d1e-9b08-790608e1066d",
   "metadata": {},
   "outputs": [
    {
     "data": {
      "text/plain": [
       "['', '  name is aditya']"
      ]
     },
     "execution_count": 81,
     "metadata": {},
     "output_type": "execute_result"
    }
   ],
   "source": [
    "a"
   ]
  },
  {
   "cell_type": "code",
   "execution_count": 82,
   "id": "958649b7-3eea-41c1-aff7-79f91ec602dc",
   "metadata": {},
   "outputs": [
    {
     "data": {
      "text/plain": [
       "['', '  name is aditya']"
      ]
     },
     "execution_count": 82,
     "metadata": {},
     "output_type": "execute_result"
    }
   ],
   "source": [
    "a"
   ]
  },
  {
   "cell_type": "code",
   "execution_count": 84,
   "id": "0d09b7ab-4f62-49d9-9f3c-17297912c4c0",
   "metadata": {},
   "outputs": [
    {
     "data": {
      "text/plain": [
       "'My name is Aditya'"
      ]
     },
     "execution_count": 84,
     "metadata": {},
     "output_type": "execute_result"
    }
   ],
   "source": [
    "a"
   ]
  },
  {
   "cell_type": "code",
   "execution_count": 93,
   "id": "19664365-8bfd-42b7-b3eb-3766331afff2",
   "metadata": {},
   "outputs": [
    {
     "data": {
      "text/plain": [
       "['', ' name is Aditya']"
      ]
     },
     "execution_count": 93,
     "metadata": {},
     "output_type": "execute_result"
    }
   ],
   "source": [
    "a.split(\"My\")\n",
    "# a.split(\"is\")"
   ]
  },
  {
   "cell_type": "code",
   "execution_count": 95,
   "id": "cc630684-17ae-40c5-b4dd-69eb42e4adec",
   "metadata": {},
   "outputs": [],
   "source": [
    "b = a.split(\"My\")[1]"
   ]
  },
  {
   "cell_type": "code",
   "execution_count": 97,
   "id": "fa48010d-52f1-4038-9eff-716888d8b03d",
   "metadata": {},
   "outputs": [
    {
     "data": {
      "text/plain": [
       "[' name ', ' Aditya']"
      ]
     },
     "execution_count": 97,
     "metadata": {},
     "output_type": "execute_result"
    }
   ],
   "source": [
    "b.split(\"is\")"
   ]
  },
  {
   "cell_type": "code",
   "execution_count": 98,
   "id": "6c3d8a03-0c10-45b5-8216-732ffc62c6eb",
   "metadata": {},
   "outputs": [
    {
     "data": {
      "text/plain": [
       "'MY NAME IS ADITYA'"
      ]
     },
     "execution_count": 98,
     "metadata": {},
     "output_type": "execute_result"
    }
   ],
   "source": [
    "a.upper()"
   ]
  },
  {
   "cell_type": "code",
   "execution_count": 99,
   "id": "4edae7aa-6e27-494e-a2ee-9e21a6cc4a70",
   "metadata": {},
   "outputs": [
    {
     "data": {
      "text/plain": [
       "'my name is aditya'"
      ]
     },
     "execution_count": 99,
     "metadata": {},
     "output_type": "execute_result"
    }
   ],
   "source": [
    "a.lower()"
   ]
  },
  {
   "cell_type": "code",
   "execution_count": 100,
   "id": "1b69a1c3-be07-41e8-9f26-f564e0fc631d",
   "metadata": {},
   "outputs": [],
   "source": [
    "# write a function which take an input as a string in lower case and return me the upper case value"
   ]
  },
  {
   "cell_type": "code",
   "execution_count": 101,
   "id": "b54e82b7-eae5-4e9b-ace5-83d99e33c901",
   "metadata": {},
   "outputs": [
    {
     "data": {
      "text/plain": [
       "'My name is Aditya'"
      ]
     },
     "execution_count": 101,
     "metadata": {},
     "output_type": "execute_result"
    }
   ],
   "source": [
    "a"
   ]
  },
  {
   "cell_type": "code",
   "execution_count": 106,
   "id": "769d8090-6261-431b-a5cc-d8fe998ecd38",
   "metadata": {},
   "outputs": [
    {
     "data": {
      "text/plain": [
       "1"
      ]
     },
     "execution_count": 106,
     "metadata": {},
     "output_type": "execute_result"
    }
   ],
   "source": [
    "a.count(\"name\")"
   ]
  },
  {
   "cell_type": "code",
   "execution_count": 107,
   "id": "a0c94f0e-88ac-4feb-82da-165e08c7a3b3",
   "metadata": {},
   "outputs": [],
   "source": [
    "# write a function to find the occurence of each character in your string but it will not repeat "
   ]
  },
  {
   "cell_type": "code",
   "execution_count": 110,
   "id": "ac78957b-5df2-406e-9848-af382ee337b0",
   "metadata": {},
   "outputs": [
    {
     "data": {
      "text/plain": [
       "('My ', 'n', 'ame is Aditya')"
      ]
     },
     "execution_count": 110,
     "metadata": {},
     "output_type": "execute_result"
    }
   ],
   "source": [
    "a.partition(\"n\")"
   ]
  },
  {
   "cell_type": "code",
   "execution_count": 114,
   "id": "4393dae3-f41a-4508-8756-e8b1b49bf521",
   "metadata": {},
   "outputs": [
    {
     "data": {
      "text/plain": [
       "('My ', 'name', ' is Aditya')"
      ]
     },
     "execution_count": 114,
     "metadata": {},
     "output_type": "execute_result"
    }
   ],
   "source": [
    "a.partition(\"name\")"
   ]
  },
  {
   "cell_type": "code",
   "execution_count": 116,
   "id": "94a9e6ad-cff4-450d-aafa-5c409c356ff8",
   "metadata": {},
   "outputs": [
    {
     "data": {
      "text/plain": [
       "'My name is Aditya'"
      ]
     },
     "execution_count": 116,
     "metadata": {},
     "output_type": "execute_result"
    }
   ],
   "source": [
    "a "
   ]
  },
  {
   "cell_type": "code",
   "execution_count": 121,
   "id": "22814b13-3a4f-4a1a-b2d9-933b4b159f84",
   "metadata": {},
   "outputs": [
    {
     "name": "stdout",
     "output_type": "stream",
     "text": [
      "M y   n a m e   i s   A d i t y a "
     ]
    }
   ],
   "source": [
    "for i in a:\n",
    "    print(i, end = \" \")"
   ]
  },
  {
   "cell_type": "code",
   "execution_count": 127,
   "id": "87f0c9b0-4acd-490b-a8c1-49556c58bcc7",
   "metadata": {},
   "outputs": [
    {
     "name": "stdin",
     "output_type": "stream",
     "text": [
      "enter your password :  tushar\n",
      "your password :    tushar 98 e\n"
     ]
    }
   ],
   "source": [
    "password = input(\"enter your password : \")\n",
    "while True:\n",
    "    if password == input(\"your password : \").strip().split()[0]:\n",
    "        break\n",
    "    else:\n",
    "        print(\"try again\")"
   ]
  },
  {
   "cell_type": "code",
   "execution_count": 126,
   "id": "e1842ba0-2ac5-4877-8248-352aa0acbb42",
   "metadata": {},
   "outputs": [
    {
     "name": "stdin",
     "output_type": "stream",
     "text": [
      "enter :    tushar 98 wq\n"
     ]
    },
    {
     "data": {
      "text/plain": [
       "'tushar'"
      ]
     },
     "execution_count": 126,
     "metadata": {},
     "output_type": "execute_result"
    }
   ],
   "source": [
    "input(\"enter : \").strip().split()[0]"
   ]
  },
  {
   "cell_type": "code",
   "execution_count": 128,
   "id": "d12af782-890d-4727-9878-3c3b0a07b707",
   "metadata": {},
   "outputs": [
    {
     "data": {
      "text/plain": [
       "'My name is Aditya'"
      ]
     },
     "execution_count": 128,
     "metadata": {},
     "output_type": "execute_result"
    }
   ],
   "source": [
    "a "
   ]
  },
  {
   "cell_type": "code",
   "execution_count": 131,
   "id": "380594d4-9e4a-4349-bdc2-d7c1a933c140",
   "metadata": {},
   "outputs": [
    {
     "data": {
      "text/plain": [
       "'A'"
      ]
     },
     "execution_count": 131,
     "metadata": {},
     "output_type": "execute_result"
    }
   ],
   "source": [
    "a[11]"
   ]
  },
  {
   "cell_type": "code",
   "execution_count": 132,
   "id": "c1fb6580-f587-45e0-a634-da6a035717cf",
   "metadata": {},
   "outputs": [
    {
     "data": {
      "text/plain": [
       "17"
      ]
     },
     "execution_count": 132,
     "metadata": {},
     "output_type": "execute_result"
    }
   ],
   "source": [
    "len(a)"
   ]
  },
  {
   "cell_type": "code",
   "execution_count": 133,
   "id": "ddcbf918-4b63-4ed3-be56-4aa2e775517c",
   "metadata": {},
   "outputs": [
    {
     "ename": "IndexError",
     "evalue": "string index out of range",
     "output_type": "error",
     "traceback": [
      "\u001b[1;31m---------------------------------------------------------------------------\u001b[0m",
      "\u001b[1;31mIndexError\u001b[0m                                Traceback (most recent call last)",
      "Cell \u001b[1;32mIn[133], line 1\u001b[0m\n\u001b[1;32m----> 1\u001b[0m a[\u001b[38;5;241m18\u001b[39m]\n",
      "\u001b[1;31mIndexError\u001b[0m: string index out of range"
     ]
    }
   ],
   "source": [
    "a[18]"
   ]
  },
  {
   "cell_type": "code",
   "execution_count": 134,
   "id": "16fdaf54-2b00-40f2-ad4f-c7b97cfa640c",
   "metadata": {},
   "outputs": [
    {
     "ename": "IndexError",
     "evalue": "string index out of range",
     "output_type": "error",
     "traceback": [
      "\u001b[1;31m---------------------------------------------------------------------------\u001b[0m",
      "\u001b[1;31mIndexError\u001b[0m                                Traceback (most recent call last)",
      "Cell \u001b[1;32mIn[134], line 1\u001b[0m\n\u001b[1;32m----> 1\u001b[0m a[\u001b[38;5;241m17\u001b[39m]\n",
      "\u001b[1;31mIndexError\u001b[0m: string index out of range"
     ]
    }
   ],
   "source": [
    "a[17]"
   ]
  },
  {
   "cell_type": "code",
   "execution_count": 135,
   "id": "3ea6363d-027e-419a-9674-3da848a3acdb",
   "metadata": {},
   "outputs": [
    {
     "data": {
      "text/plain": [
       "'a'"
      ]
     },
     "execution_count": 135,
     "metadata": {},
     "output_type": "execute_result"
    }
   ],
   "source": [
    "a[16]"
   ]
  },
  {
   "cell_type": "code",
   "execution_count": 136,
   "id": "cfdec53d-951b-46ef-a0c7-9e8db75c33c8",
   "metadata": {},
   "outputs": [
    {
     "data": {
      "text/plain": [
       "'name is Aditya'"
      ]
     },
     "execution_count": 136,
     "metadata": {},
     "output_type": "execute_result"
    }
   ],
   "source": [
    "a[3:]"
   ]
  },
  {
   "cell_type": "code",
   "execution_count": 137,
   "id": "cec60e3a-c0bb-402e-89e6-0ee8ba12514d",
   "metadata": {},
   "outputs": [
    {
     "data": {
      "text/plain": [
       "'My name i'"
      ]
     },
     "execution_count": 137,
     "metadata": {},
     "output_type": "execute_result"
    }
   ],
   "source": [
    "a[ : 9]"
   ]
  },
  {
   "cell_type": "code",
   "execution_count": 3,
   "id": "f0ab1448-8cc4-45d0-838e-68c32d7e00ce",
   "metadata": {},
   "outputs": [
    {
     "ename": "NameError",
     "evalue": "name 'a' is not defined",
     "output_type": "error",
     "traceback": [
      "\u001b[1;31m---------------------------------------------------------------------------\u001b[0m",
      "\u001b[1;31mNameError\u001b[0m                                 Traceback (most recent call last)",
      "Cell \u001b[1;32mIn[3], line 1\u001b[0m\n\u001b[1;32m----> 1\u001b[0m a[\u001b[38;5;241m3\u001b[39m:\u001b[38;5;241m7\u001b[39m]\n",
      "\u001b[1;31mNameError\u001b[0m: name 'a' is not defined"
     ]
    }
   ],
   "source": [
    "a[3:7]"
   ]
  },
  {
   "cell_type": "code",
   "execution_count": 7,
   "id": "38dd4bbe-af86-4ed2-a6a5-cf563bee7cab",
   "metadata": {},
   "outputs": [
    {
     "data": {
      "text/plain": [
       "\"hello everyone i am Tushar a Data Science Expert , do you really wanna know how youtube suggests you different kind of videos , shorts ,\\nhow netflix suggests you the movies and web series , how your snap filters are working , \\nhow face lock work in your mobile phone so if you want to learn how all these things work please join training basket machine learning course!\\nwhere i'll be providing you the hands on experience to learn the skills for these things \""
      ]
     },
     "execution_count": 7,
     "metadata": {},
     "output_type": "execute_result"
    }
   ],
   "source": [
    "'''hello everyone i am Tushar a Data Science Expert , do you really wanna know how youtube suggests you different kind of videos , shorts ,\n",
    "how netflix suggests you the movies and web series , how your snap filters are working , how face lock work in your mobile phone\n",
    "so if you want to learn how all these things work please join training basket machine learning course!\n",
    "where i'll be providing you the hands on experience to learn the skills for these things '''\n"
   ]
  },
  {
   "cell_type": "code",
   "execution_count": 12,
   "id": "59af14bd-5bfd-43d6-ae96-cde3d6858d57",
   "metadata": {},
   "outputs": [
    {
     "name": "stdout",
     "output_type": "stream",
     "text": [
      "\n",
      "* \n",
      "* * \n",
      "* * * \n",
      "* * * * \n",
      "* * * * * \n"
     ]
    }
   ],
   "source": [
    "for i in range(0, 6):\n",
    "    for i in range(i):\n",
    "        print(\"*\", end = \" \")\n",
    "    print()    "
   ]
  },
  {
   "cell_type": "code",
   "execution_count": 24,
   "id": "e6fa1516-b2e0-40e3-bfe7-654ab96668cb",
   "metadata": {},
   "outputs": [
    {
     "name": "stdout",
     "output_type": "stream",
     "text": [
      "\n",
      "* \n",
      "* * \n",
      "* * * \n",
      "* * * * \n",
      "* * * * * \n"
     ]
    }
   ],
   "source": [
    "for i in range(0, 6):\n",
    "    for i in range(i):\n",
    "        print(\"*\", end = \" \")\n",
    "    print()    "
   ]
  },
  {
   "cell_type": "code",
   "execution_count": null,
   "id": "fd0eec6e-137e-4267-804f-b85c7410bc56",
   "metadata": {},
   "outputs": [],
   "source": []
  }
 ],
 "metadata": {
  "kernelspec": {
   "display_name": "Python 3 (ipykernel)",
   "language": "python",
   "name": "python3"
  },
  "language_info": {
   "codemirror_mode": {
    "name": "ipython",
    "version": 3
   },
   "file_extension": ".py",
   "mimetype": "text/x-python",
   "name": "python",
   "nbconvert_exporter": "python",
   "pygments_lexer": "ipython3",
   "version": "3.12.7"
  }
 },
 "nbformat": 4,
 "nbformat_minor": 5
}
