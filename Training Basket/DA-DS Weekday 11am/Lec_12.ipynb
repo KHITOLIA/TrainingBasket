{
 "cells": [
  {
   "cell_type": "markdown",
   "id": "1fa59156-be25-4401-a0bd-c1f581df9566",
   "metadata": {},
   "source": [
    "# Sets"
   ]
  },
  {
   "cell_type": "code",
   "execution_count": 1,
   "id": "6d51fe14-9caa-4a7c-858e-4da133ace393",
   "metadata": {},
   "outputs": [],
   "source": [
    "s = {2,3,3,4,5,5}"
   ]
  },
  {
   "cell_type": "code",
   "execution_count": 2,
   "id": "79def87d-b05b-42fe-8148-95469615d575",
   "metadata": {},
   "outputs": [
    {
     "data": {
      "text/plain": [
       "{2, 3, 4, 5}"
      ]
     },
     "execution_count": 2,
     "metadata": {},
     "output_type": "execute_result"
    }
   ],
   "source": [
    "s"
   ]
  },
  {
   "cell_type": "code",
   "execution_count": 3,
   "id": "e1babcd3-d966-4c03-9d9c-1d72cbd6523c",
   "metadata": {},
   "outputs": [
    {
     "ename": "TypeError",
     "evalue": "unsupported operand type(s) for +: 'set' and 'int'",
     "output_type": "error",
     "traceback": [
      "\u001b[1;31m---------------------------------------------------------------------------\u001b[0m",
      "\u001b[1;31mTypeError\u001b[0m                                 Traceback (most recent call last)",
      "Cell \u001b[1;32mIn[3], line 1\u001b[0m\n\u001b[1;32m----> 1\u001b[0m s \u001b[38;5;241m=\u001b[39m s \u001b[38;5;241m+\u001b[39m \u001b[38;5;241m1\u001b[39m\n",
      "\u001b[1;31mTypeError\u001b[0m: unsupported operand type(s) for +: 'set' and 'int'"
     ]
    }
   ],
   "source": [
    "s = s + 1"
   ]
  },
  {
   "cell_type": "code",
   "execution_count": 6,
   "id": "8a84af96-df58-4d57-a888-e8349425b3cd",
   "metadata": {},
   "outputs": [
    {
     "data": {
      "text/plain": [
       "set"
      ]
     },
     "execution_count": 6,
     "metadata": {},
     "output_type": "execute_result"
    }
   ],
   "source": [
    "type(s)"
   ]
  },
  {
   "cell_type": "code",
   "execution_count": 7,
   "id": "63e2488e-49ad-4d0d-b7b5-39a980925a9d",
   "metadata": {},
   "outputs": [],
   "source": [
    "s1 = {2,3,4,4,5,5,5,8}\n",
    "s2 = {3, 4, 5, 6, 6, 2}"
   ]
  },
  {
   "cell_type": "code",
   "execution_count": 8,
   "id": "d010af36-a6a1-4c9f-8b03-55847a45852f",
   "metadata": {},
   "outputs": [
    {
     "data": {
      "text/plain": [
       "{2, 3, 4, 5, 8}"
      ]
     },
     "execution_count": 8,
     "metadata": {},
     "output_type": "execute_result"
    }
   ],
   "source": [
    "s1"
   ]
  },
  {
   "cell_type": "code",
   "execution_count": 9,
   "id": "7fe3bfb6-4177-40ab-b89b-1e189e798a69",
   "metadata": {},
   "outputs": [],
   "source": [
    "s1.add(9)"
   ]
  },
  {
   "cell_type": "code",
   "execution_count": 10,
   "id": "229ccbc9-13c1-471c-991c-4e2c0760da67",
   "metadata": {},
   "outputs": [
    {
     "data": {
      "text/plain": [
       "{2, 3, 4, 5, 8, 9}"
      ]
     },
     "execution_count": 10,
     "metadata": {},
     "output_type": "execute_result"
    }
   ],
   "source": [
    "s1"
   ]
  },
  {
   "cell_type": "code",
   "execution_count": 11,
   "id": "07d1e67f-3bc6-4290-a44f-e489f5fee16a",
   "metadata": {},
   "outputs": [],
   "source": [
    "s1.update([19, 81])"
   ]
  },
  {
   "cell_type": "code",
   "execution_count": 12,
   "id": "3ef9f5c2-b23c-4271-8029-f72d44f290b1",
   "metadata": {},
   "outputs": [
    {
     "data": {
      "text/plain": [
       "{2, 3, 4, 5, 8, 9, 19, 81}"
      ]
     },
     "execution_count": 12,
     "metadata": {},
     "output_type": "execute_result"
    }
   ],
   "source": [
    "s1"
   ]
  },
  {
   "cell_type": "code",
   "execution_count": 13,
   "id": "941d9f52-d461-4c19-aeb1-a52bbe6beb47",
   "metadata": {},
   "outputs": [],
   "source": [
    "s1.remove(19)"
   ]
  },
  {
   "cell_type": "code",
   "execution_count": 14,
   "id": "37eee4c6-3c32-4086-a379-8f55beacd810",
   "metadata": {},
   "outputs": [
    {
     "data": {
      "text/plain": [
       "{2, 3, 4, 5, 8, 9, 81}"
      ]
     },
     "execution_count": 14,
     "metadata": {},
     "output_type": "execute_result"
    }
   ],
   "source": [
    "s1"
   ]
  },
  {
   "cell_type": "code",
   "execution_count": 15,
   "id": "8daca5cb-f866-4ccd-9541-afcd03c18019",
   "metadata": {},
   "outputs": [],
   "source": [
    "s1.discard(2)"
   ]
  },
  {
   "cell_type": "code",
   "execution_count": 16,
   "id": "1344583e-78c8-41ea-a905-6513de954fb0",
   "metadata": {},
   "outputs": [],
   "source": [
    "# s1.discard(90)"
   ]
  },
  {
   "cell_type": "code",
   "execution_count": 17,
   "id": "66ce4d88-6b4b-4b06-8cd1-aa022b96a3bc",
   "metadata": {},
   "outputs": [
    {
     "data": {
      "text/plain": [
       "{3, 4, 5, 8, 9, 81}"
      ]
     },
     "execution_count": 17,
     "metadata": {},
     "output_type": "execute_result"
    }
   ],
   "source": [
    "s1"
   ]
  },
  {
   "cell_type": "code",
   "execution_count": 18,
   "id": "98b02600-05c5-45b4-bdfa-d151b1802929",
   "metadata": {},
   "outputs": [
    {
     "data": {
      "text/plain": [
       "81"
      ]
     },
     "execution_count": 18,
     "metadata": {},
     "output_type": "execute_result"
    }
   ],
   "source": [
    "s1.pop()"
   ]
  },
  {
   "cell_type": "code",
   "execution_count": 19,
   "id": "49a1c024-17ed-4a2f-a862-cd44c8f15e0f",
   "metadata": {},
   "outputs": [
    {
     "data": {
      "text/plain": [
       "{3, 4, 5, 8, 9}"
      ]
     },
     "execution_count": 19,
     "metadata": {},
     "output_type": "execute_result"
    }
   ],
   "source": [
    "s1"
   ]
  },
  {
   "cell_type": "code",
   "execution_count": 20,
   "id": "071ba1df-12b5-4218-ac59-7cceae059aa0",
   "metadata": {},
   "outputs": [],
   "source": [
    "s1.clear()"
   ]
  },
  {
   "cell_type": "code",
   "execution_count": 21,
   "id": "2406248e-9043-4076-ac15-7d073a2f24ed",
   "metadata": {},
   "outputs": [
    {
     "data": {
      "text/plain": [
       "set()"
      ]
     },
     "execution_count": 21,
     "metadata": {},
     "output_type": "execute_result"
    }
   ],
   "source": [
    "s1"
   ]
  },
  {
   "cell_type": "code",
   "execution_count": 22,
   "id": "70bf7fd9-7fdc-49c0-ae4e-021e19838b73",
   "metadata": {},
   "outputs": [
    {
     "data": {
      "text/plain": [
       "{2, 3, 4, 5, 6}"
      ]
     },
     "execution_count": 22,
     "metadata": {},
     "output_type": "execute_result"
    }
   ],
   "source": [
    "s2"
   ]
  },
  {
   "cell_type": "code",
   "execution_count": 23,
   "id": "4532956b-1ba7-4095-b5ef-e67d7e1cc2d2",
   "metadata": {},
   "outputs": [
    {
     "data": {
      "text/plain": [
       "2"
      ]
     },
     "execution_count": 23,
     "metadata": {},
     "output_type": "execute_result"
    }
   ],
   "source": [
    "s2.pop()"
   ]
  },
  {
   "cell_type": "code",
   "execution_count": 24,
   "id": "a97bf935-5c1e-47a5-9ea4-4f39247f7ed7",
   "metadata": {},
   "outputs": [
    {
     "data": {
      "text/plain": [
       "3"
      ]
     },
     "execution_count": 24,
     "metadata": {},
     "output_type": "execute_result"
    }
   ],
   "source": [
    "s2.pop()"
   ]
  },
  {
   "cell_type": "code",
   "execution_count": 25,
   "id": "d4094ba2-2e5c-4b5f-a0db-ed935dfc5744",
   "metadata": {},
   "outputs": [
    {
     "data": {
      "text/plain": [
       "{2, 3, 4, 5}"
      ]
     },
     "execution_count": 25,
     "metadata": {},
     "output_type": "execute_result"
    }
   ],
   "source": [
    "s"
   ]
  },
  {
   "cell_type": "code",
   "execution_count": 26,
   "id": "c47e405a-5b8f-444d-a0df-4627a041c9a1",
   "metadata": {},
   "outputs": [
    {
     "data": {
      "text/plain": [
       "2"
      ]
     },
     "execution_count": 26,
     "metadata": {},
     "output_type": "execute_result"
    }
   ],
   "source": [
    "s.pop()"
   ]
  },
  {
   "cell_type": "code",
   "execution_count": 42,
   "id": "4841ca33-5e56-4316-ac5f-14a14a9949a6",
   "metadata": {},
   "outputs": [],
   "source": [
    "s1 = {9, 8, 3,4, 8, 2, 5, 4}\n",
    "s2 = {10, 9, 4, 9, 2, 5, 4, 3}"
   ]
  },
  {
   "cell_type": "code",
   "execution_count": 41,
   "id": "02b337f2-3b05-4525-b041-ea90919427f2",
   "metadata": {},
   "outputs": [],
   "source": [
    "# s2.pop()  # either from the first or last element will be removed"
   ]
  },
  {
   "cell_type": "code",
   "execution_count": 43,
   "id": "60b3bd45-daf0-4743-ab43-6ef48fb9e6b0",
   "metadata": {},
   "outputs": [
    {
     "data": {
      "text/plain": [
       "{2, 3, 4, 5, 8, 9, 10}"
      ]
     },
     "execution_count": 43,
     "metadata": {},
     "output_type": "execute_result"
    }
   ],
   "source": [
    "s1.union(s2)"
   ]
  },
  {
   "cell_type": "code",
   "execution_count": 44,
   "id": "e9ad92fa-dc18-4207-926c-3c890b98f230",
   "metadata": {},
   "outputs": [
    {
     "data": {
      "text/plain": [
       "{2, 3, 4, 5, 9}"
      ]
     },
     "execution_count": 44,
     "metadata": {},
     "output_type": "execute_result"
    }
   ],
   "source": [
    "s1.intersection(s2)"
   ]
  },
  {
   "cell_type": "code",
   "execution_count": 45,
   "id": "49e4c422-bf46-4eb5-8f2e-5132a84a83bd",
   "metadata": {},
   "outputs": [
    {
     "data": {
      "text/plain": [
       "{8}"
      ]
     },
     "execution_count": 45,
     "metadata": {},
     "output_type": "execute_result"
    }
   ],
   "source": [
    "s1.difference(s2)   # s1 - s2\n"
   ]
  },
  {
   "cell_type": "code",
   "execution_count": 46,
   "id": "94f34af6-153c-43fb-b4f5-ff772588c8cc",
   "metadata": {},
   "outputs": [
    {
     "data": {
      "text/plain": [
       "{10}"
      ]
     },
     "execution_count": 46,
     "metadata": {},
     "output_type": "execute_result"
    }
   ],
   "source": [
    "s2.difference(s1)"
   ]
  },
  {
   "cell_type": "code",
   "execution_count": 48,
   "id": "2e376800-4452-4b12-988a-83f4e43664c6",
   "metadata": {},
   "outputs": [
    {
     "data": {
      "text/plain": [
       "{2, 3, 4, 5, 8, 9}"
      ]
     },
     "execution_count": 48,
     "metadata": {},
     "output_type": "execute_result"
    }
   ],
   "source": [
    "s1"
   ]
  },
  {
   "cell_type": "code",
   "execution_count": 49,
   "id": "f9b56849-6f45-487c-a071-b51c7d827030",
   "metadata": {},
   "outputs": [
    {
     "data": {
      "text/plain": [
       "{2, 3, 4, 5, 9, 10}"
      ]
     },
     "execution_count": 49,
     "metadata": {},
     "output_type": "execute_result"
    }
   ],
   "source": [
    "s2"
   ]
  },
  {
   "cell_type": "code",
   "execution_count": 50,
   "id": "7828475b-5437-4a18-9cd4-3ebd83e5545b",
   "metadata": {},
   "outputs": [
    {
     "data": {
      "text/plain": [
       "{8, 10}"
      ]
     },
     "execution_count": 50,
     "metadata": {},
     "output_type": "execute_result"
    }
   ],
   "source": [
    "s1.symmetric_difference(s2)"
   ]
  },
  {
   "cell_type": "code",
   "execution_count": 59,
   "id": "fe538427-e8d7-44d5-9d08-1f666acf48a7",
   "metadata": {},
   "outputs": [],
   "source": [
    "d = {\n",
    "    'a' : 29,\n",
    "    'b' : 50.8,\n",
    "    'c' : 'Training Basket',\n",
    "    'd' : True,\n",
    "    'e' : [2,3,4,8, range(8)],\n",
    "    'f' : {\n",
    "        '1' : 'AI',\n",
    "        '2' : 'ML'   \n",
    "    }\n",
    "}\n"
   ]
  },
  {
   "cell_type": "code",
   "execution_count": 53,
   "id": "7ef62929-6a5a-46ca-a625-8236dbef475b",
   "metadata": {},
   "outputs": [
    {
     "data": {
      "text/plain": [
       "['AI', 'ML']"
      ]
     },
     "execution_count": 53,
     "metadata": {},
     "output_type": "execute_result"
    }
   ],
   "source": [
    "list1 = [d['f']['1'], d['f']['2']]\n",
    "list1"
   ]
  },
  {
   "cell_type": "code",
   "execution_count": 70,
   "id": "fed00441-41f3-4483-a051-c627e31f0df8",
   "metadata": {},
   "outputs": [],
   "source": [
    "lis = []\n",
    "for i in d.values():\n",
    "    if type(i) == dict:\n",
    "        for j in i.values():\n",
    "            lis.append(j)"
   ]
  },
  {
   "cell_type": "code",
   "execution_count": 71,
   "id": "be403579-9253-41a2-8c51-6b01cb9a49fd",
   "metadata": {},
   "outputs": [
    {
     "data": {
      "text/plain": [
       "['AI', 'ML']"
      ]
     },
     "execution_count": 71,
     "metadata": {},
     "output_type": "execute_result"
    }
   ],
   "source": [
    "lis"
   ]
  },
  {
   "cell_type": "code",
   "execution_count": 74,
   "id": "bdd0852a-eb87-4a8c-97fd-bcc4aef2f263",
   "metadata": {},
   "outputs": [],
   "source": [
    "l = [2,2,2,3,3,7,7,6,5,3,4,4,5]\n",
    "# count the frequency of all each elements"
   ]
  },
  {
   "cell_type": "code",
   "execution_count": 75,
   "id": "f24d4689-6484-40e6-8d7b-d3baef1abe98",
   "metadata": {},
   "outputs": [],
   "source": [
    "l1 = []\n",
    "b = l.copy()"
   ]
  },
  {
   "cell_type": "code",
   "execution_count": 88,
   "id": "95e624b6-fa62-4735-83d9-4516224ac109",
   "metadata": {},
   "outputs": [],
   "source": [
    "frequencies = {}\n",
    "for item in l:\n",
    "    found = False\n",
    "    for key in frequencies:\n",
    "        if key == item:\n",
    "            frequencies[key] += 1\n",
    "            found = True\n",
    "            break\n",
    "\n",
    "    if not found:\n",
    "\n",
    "        frequencies[item] = 1"
   ]
  },
  {
   "cell_type": "code",
   "execution_count": 89,
   "id": "a33a2c76-5a4d-49b2-a3bc-95e4dc9995ec",
   "metadata": {},
   "outputs": [
    {
     "data": {
      "text/plain": [
       "{2: 3, 3: 3, 7: 2, 6: 1, 5: 2, 4: 2}"
      ]
     },
     "execution_count": 89,
     "metadata": {},
     "output_type": "execute_result"
    }
   ],
   "source": [
    "frequencies"
   ]
  },
  {
   "cell_type": "code",
   "execution_count": null,
   "id": "713c487f-6265-400d-a1c0-98a07bf59ca0",
   "metadata": {},
   "outputs": [],
   "source": []
  },
  {
   "cell_type": "code",
   "execution_count": 90,
   "id": "33624e53-a52e-4278-9674-1a69003b0aa7",
   "metadata": {},
   "outputs": [
    {
     "data": {
      "text/plain": [
       "[2, 2, 2, 3, 3, 7, 7, 6, 5, 3, 4, 4, 5]"
      ]
     },
     "execution_count": 90,
     "metadata": {},
     "output_type": "execute_result"
    }
   ],
   "source": [
    "l"
   ]
  },
  {
   "cell_type": "code",
   "execution_count": null,
   "id": "3586f9c1-8a5c-401d-a085-23ae9aed2cb8",
   "metadata": {},
   "outputs": [],
   "source": []
  },
  {
   "cell_type": "code",
   "execution_count": null,
   "id": "950e7d18-4286-4f0b-adef-4eade46afe4a",
   "metadata": {},
   "outputs": [],
   "source": []
  }
 ],
 "metadata": {
  "kernelspec": {
   "display_name": "Python 3 (ipykernel)",
   "language": "python",
   "name": "python3"
  },
  "language_info": {
   "codemirror_mode": {
    "name": "ipython",
    "version": 3
   },
   "file_extension": ".py",
   "mimetype": "text/x-python",
   "name": "python",
   "nbconvert_exporter": "python",
   "pygments_lexer": "ipython3",
   "version": "3.12.7"
  }
 },
 "nbformat": 4,
 "nbformat_minor": 5
}
