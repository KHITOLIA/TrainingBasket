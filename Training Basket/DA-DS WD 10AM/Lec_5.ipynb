{
 "cells": [
  {
   "cell_type": "code",
   "execution_count": 72,
   "id": "ded458c3-571d-452b-a776-3bf690b8e4dd",
   "metadata": {},
   "outputs": [
    {
     "data": {
      "text/plain": [
       "str"
      ]
     },
     "execution_count": 72,
     "metadata": {},
     "output_type": "execute_result"
    }
   ],
   "source": [
    "st = 'training basket'\n",
    "type(st)"
   ]
  },
  {
   "cell_type": "code",
   "execution_count": 13,
   "id": "5fe89a0a-fe24-4f58-9c09-cb24f52291d5",
   "metadata": {},
   "outputs": [
    {
     "data": {
      "text/plain": [
       "['tra', 'n', 'ng basket']"
      ]
     },
     "execution_count": 13,
     "metadata": {},
     "output_type": "execute_result"
    }
   ],
   "source": [
    "st = st.split('i')\n",
    "st"
   ]
  },
  {
   "cell_type": "code",
   "execution_count": 14,
   "id": "8bc15ae9-8d66-4f33-a7eb-35323597d83c",
   "metadata": {},
   "outputs": [
    {
     "data": {
      "text/plain": [
       "list"
      ]
     },
     "execution_count": 14,
     "metadata": {},
     "output_type": "execute_result"
    }
   ],
   "source": [
    "type(st)"
   ]
  },
  {
   "cell_type": "code",
   "execution_count": 15,
   "id": "c86f5bcb-6bd0-49b8-99a5-1af73a06eaac",
   "metadata": {},
   "outputs": [
    {
     "data": {
      "text/plain": [
       "['tra', 'n', 'ng basket']"
      ]
     },
     "execution_count": 15,
     "metadata": {},
     "output_type": "execute_result"
    }
   ],
   "source": [
    "st"
   ]
  },
  {
   "cell_type": "code",
   "execution_count": 17,
   "id": "58f2b01d-2abf-404d-877d-f095512c0d35",
   "metadata": {},
   "outputs": [
    {
     "data": {
      "text/plain": [
       "'training basket'"
      ]
     },
     "execution_count": 17,
     "metadata": {},
     "output_type": "execute_result"
    }
   ],
   "source": [
    "st"
   ]
  },
  {
   "cell_type": "code",
   "execution_count": 18,
   "id": "904b149a-519f-4c00-aaf4-f38a921284ce",
   "metadata": {},
   "outputs": [
    {
     "data": {
      "text/plain": [
       "'Training baskeT'"
      ]
     },
     "execution_count": 18,
     "metadata": {},
     "output_type": "execute_result"
    }
   ],
   "source": [
    "st.replace('t', 'T')"
   ]
  },
  {
   "cell_type": "code",
   "execution_count": 21,
   "id": "eed3682b-07f0-4804-b47f-290b8ab458ef",
   "metadata": {},
   "outputs": [
    {
     "data": {
      "text/plain": [
       "'training basket'"
      ]
     },
     "execution_count": 21,
     "metadata": {},
     "output_type": "execute_result"
    }
   ],
   "source": [
    "st"
   ]
  },
  {
   "cell_type": "code",
   "execution_count": 25,
   "id": "73f9c6d0-12f1-457d-87c9-ef3d638b8197",
   "metadata": {},
   "outputs": [],
   "source": [
    "st = st.replace('t','T')"
   ]
  },
  {
   "cell_type": "code",
   "execution_count": 26,
   "id": "200d5ee6-8b00-4d0e-8b42-42914b08ee11",
   "metadata": {},
   "outputs": [
    {
     "data": {
      "text/plain": [
       "'Training baskeT'"
      ]
     },
     "execution_count": 26,
     "metadata": {},
     "output_type": "execute_result"
    }
   ],
   "source": [
    "st"
   ]
  },
  {
   "cell_type": "code",
   "execution_count": 27,
   "id": "f77fff85-ba08-4436-970d-e00af756b1b3",
   "metadata": {},
   "outputs": [
    {
     "data": {
      "text/plain": [
       "'Training basket'"
      ]
     },
     "execution_count": 27,
     "metadata": {},
     "output_type": "execute_result"
    }
   ],
   "source": [
    "st.capitalize()"
   ]
  },
  {
   "cell_type": "code",
   "execution_count": 38,
   "id": "b6c83fff-8801-45e3-9601-823e5e2f64a7",
   "metadata": {},
   "outputs": [],
   "source": [
    "a = 34"
   ]
  },
  {
   "cell_type": "code",
   "execution_count": 34,
   "id": "dce5b05e-7f0e-4c4b-8393-ed0b2562b64a",
   "metadata": {},
   "outputs": [],
   "source": [
    "a = st.split()"
   ]
  },
  {
   "cell_type": "code",
   "execution_count": 39,
   "id": "23ef6195-2453-4da5-9bdf-5fe0d8e7b5d6",
   "metadata": {},
   "outputs": [
    {
     "data": {
      "text/plain": [
       "34"
      ]
     },
     "execution_count": 39,
     "metadata": {},
     "output_type": "execute_result"
    }
   ],
   "source": [
    "a"
   ]
  },
  {
   "cell_type": "code",
   "execution_count": 40,
   "id": "43f1c627-4d65-46bf-b073-802ab416b7bd",
   "metadata": {},
   "outputs": [],
   "source": [
    "b = 34"
   ]
  },
  {
   "cell_type": "code",
   "execution_count": 54,
   "id": "169c303b-513d-4eeb-a5d3-d5a8e6b2a1da",
   "metadata": {},
   "outputs": [],
   "source": [
    "st = st.capitalize()"
   ]
  },
  {
   "cell_type": "code",
   "execution_count": 64,
   "id": "3791e134-9e9d-48c1-954e-91cc7d9b723f",
   "metadata": {},
   "outputs": [
    {
     "data": {
      "text/plain": [
       "'Training bucket'"
      ]
     },
     "execution_count": 64,
     "metadata": {},
     "output_type": "execute_result"
    }
   ],
   "source": [
    "st"
   ]
  },
  {
   "cell_type": "code",
   "execution_count": 56,
   "id": "0818052a-82f2-47b2-915a-b448c4f26ebd",
   "metadata": {},
   "outputs": [
    {
     "data": {
      "text/plain": [
       "'Training bucket'"
      ]
     },
     "execution_count": 56,
     "metadata": {},
     "output_type": "execute_result"
    }
   ],
   "source": [
    "st.replace('basket', 'bucket')"
   ]
  },
  {
   "cell_type": "code",
   "execution_count": 63,
   "id": "7cc42482-6657-4e90-9656-7c2fec3bc2a7",
   "metadata": {},
   "outputs": [
    {
     "data": {
      "text/plain": [
       "'Training bucket'"
      ]
     },
     "execution_count": 63,
     "metadata": {},
     "output_type": "execute_result"
    }
   ],
   "source": [
    "st"
   ]
  },
  {
   "cell_type": "code",
   "execution_count": 65,
   "id": "0391bf0a-4cd7-477e-b14b-23c80913977c",
   "metadata": {},
   "outputs": [
    {
     "data": {
      "text/plain": [
       "'Training bucket'"
      ]
     },
     "execution_count": 65,
     "metadata": {},
     "output_type": "execute_result"
    }
   ],
   "source": [
    "st"
   ]
  },
  {
   "cell_type": "code",
   "execution_count": 66,
   "id": "79635204-0292-43c8-abde-e68de80942dd",
   "metadata": {},
   "outputs": [
    {
     "data": {
      "text/plain": [
       "'Training bucket'"
      ]
     },
     "execution_count": 66,
     "metadata": {},
     "output_type": "execute_result"
    }
   ],
   "source": [
    "st"
   ]
  },
  {
   "cell_type": "code",
   "execution_count": 67,
   "id": "f923fdc8-ff3d-403b-a89e-40846d5618a3",
   "metadata": {},
   "outputs": [
    {
     "data": {
      "text/plain": [
       "'TRAINING BUCKET'"
      ]
     },
     "execution_count": 67,
     "metadata": {},
     "output_type": "execute_result"
    }
   ],
   "source": [
    "st.upper()"
   ]
  },
  {
   "cell_type": "code",
   "execution_count": 73,
   "id": "4ae6094f-d9f8-4696-9b70-8925f9774659",
   "metadata": {},
   "outputs": [
    {
     "data": {
      "text/plain": [
       "'training basket'"
      ]
     },
     "execution_count": 73,
     "metadata": {},
     "output_type": "execute_result"
    }
   ],
   "source": [
    "st"
   ]
  },
  {
   "cell_type": "code",
   "execution_count": 71,
   "id": "a39bc091-7138-41ce-8b47-8a3a2dcd1f21",
   "metadata": {},
   "outputs": [
    {
     "data": {
      "text/plain": [
       "<function str.replace(old, new, count=-1, /)>"
      ]
     },
     "execution_count": 71,
     "metadata": {},
     "output_type": "execute_result"
    }
   ],
   "source": [
    "st"
   ]
  },
  {
   "cell_type": "code",
   "execution_count": 76,
   "id": "8e49e7f5-e0a6-47ab-953e-e962609da457",
   "metadata": {},
   "outputs": [
    {
     "data": {
      "text/plain": [
       "<function str.split(sep=None, maxsplit=-1)>"
      ]
     },
     "execution_count": 76,
     "metadata": {},
     "output_type": "execute_result"
    }
   ],
   "source": [
    "b"
   ]
  },
  {
   "cell_type": "code",
   "execution_count": 77,
   "id": "1aba3151-1fd2-4da5-82fe-af21002d5b82",
   "metadata": {},
   "outputs": [],
   "source": [
    "del b"
   ]
  },
  {
   "cell_type": "code",
   "execution_count": 78,
   "id": "12d64fb9-aada-4733-93da-c678b3f8763b",
   "metadata": {},
   "outputs": [
    {
     "ename": "NameError",
     "evalue": "name 'b' is not defined",
     "output_type": "error",
     "traceback": [
      "\u001b[1;31m---------------------------------------------------------------------------\u001b[0m",
      "\u001b[1;31mNameError\u001b[0m                                 Traceback (most recent call last)",
      "Cell \u001b[1;32mIn[78], line 1\u001b[0m\n\u001b[1;32m----> 1\u001b[0m b\n",
      "\u001b[1;31mNameError\u001b[0m: name 'b' is not defined"
     ]
    }
   ],
   "source": [
    "b"
   ]
  },
  {
   "cell_type": "code",
   "execution_count": 79,
   "id": "c5e20c5c-465f-41f3-9612-31c04729865a",
   "metadata": {},
   "outputs": [
    {
     "data": {
      "text/plain": [
       "'training basket'"
      ]
     },
     "execution_count": 79,
     "metadata": {},
     "output_type": "execute_result"
    }
   ],
   "source": [
    "st"
   ]
  },
  {
   "cell_type": "code",
   "execution_count": 80,
   "id": "a1c931b1-9bae-4b15-8890-ae8097ce26b3",
   "metadata": {},
   "outputs": [],
   "source": [
    "del st"
   ]
  },
  {
   "cell_type": "code",
   "execution_count": 81,
   "id": "48cfd352-29df-4fca-bec7-7443dca6d30d",
   "metadata": {},
   "outputs": [
    {
     "data": {
      "text/plain": [
       "34"
      ]
     },
     "execution_count": 81,
     "metadata": {},
     "output_type": "execute_result"
    }
   ],
   "source": [
    "a"
   ]
  },
  {
   "cell_type": "code",
   "execution_count": 82,
   "id": "139f815d-5544-47e0-9949-beb12b6f77be",
   "metadata": {},
   "outputs": [
    {
     "ename": "NameError",
     "evalue": "name 'b' is not defined",
     "output_type": "error",
     "traceback": [
      "\u001b[1;31m---------------------------------------------------------------------------\u001b[0m",
      "\u001b[1;31mNameError\u001b[0m                                 Traceback (most recent call last)",
      "Cell \u001b[1;32mIn[82], line 1\u001b[0m\n\u001b[1;32m----> 1\u001b[0m b\n",
      "\u001b[1;31mNameError\u001b[0m: name 'b' is not defined"
     ]
    }
   ],
   "source": [
    "b"
   ]
  },
  {
   "cell_type": "code",
   "execution_count": 83,
   "id": "250ab94a-fb28-4680-80cc-e21ac0bcf6d2",
   "metadata": {},
   "outputs": [
    {
     "ename": "NameError",
     "evalue": "name 'st' is not defined",
     "output_type": "error",
     "traceback": [
      "\u001b[1;31m---------------------------------------------------------------------------\u001b[0m",
      "\u001b[1;31mNameError\u001b[0m                                 Traceback (most recent call last)",
      "Cell \u001b[1;32mIn[83], line 1\u001b[0m\n\u001b[1;32m----> 1\u001b[0m st\n",
      "\u001b[1;31mNameError\u001b[0m: name 'st' is not defined"
     ]
    }
   ],
   "source": [
    "st"
   ]
  },
  {
   "cell_type": "code",
   "execution_count": 84,
   "id": "dbbe2a66-2f7d-479e-805a-500d40b2d79d",
   "metadata": {},
   "outputs": [
    {
     "ename": "NameError",
     "evalue": "name 'c' is not defined",
     "output_type": "error",
     "traceback": [
      "\u001b[1;31m---------------------------------------------------------------------------\u001b[0m",
      "\u001b[1;31mNameError\u001b[0m                                 Traceback (most recent call last)",
      "Cell \u001b[1;32mIn[84], line 1\u001b[0m\n\u001b[1;32m----> 1\u001b[0m c\n",
      "\u001b[1;31mNameError\u001b[0m: name 'c' is not defined"
     ]
    }
   ],
   "source": [
    "c"
   ]
  },
  {
   "cell_type": "code",
   "execution_count": 100,
   "id": "e9bd2ee1-7989-4056-82fb-a757d16eaef7",
   "metadata": {},
   "outputs": [],
   "source": [
    "st = '   training basket   '"
   ]
  },
  {
   "cell_type": "code",
   "execution_count": 101,
   "id": "dbf94664-27cb-4d70-b4bb-5ebb254b10ba",
   "metadata": {},
   "outputs": [
    {
     "data": {
      "text/plain": [
       "'   training basket   '"
      ]
     },
     "execution_count": 101,
     "metadata": {},
     "output_type": "execute_result"
    }
   ],
   "source": [
    "st"
   ]
  },
  {
   "cell_type": "code",
   "execution_count": 102,
   "id": "766e4070-560d-45c2-a2d5-56dc247eae4f",
   "metadata": {},
   "outputs": [],
   "source": [
    "st = st.strip()"
   ]
  },
  {
   "cell_type": "code",
   "execution_count": 103,
   "id": "f3493586-c671-48a8-adaa-da9f3b50d6a3",
   "metadata": {},
   "outputs": [
    {
     "data": {
      "text/plain": [
       "'training basket'"
      ]
     },
     "execution_count": 103,
     "metadata": {},
     "output_type": "execute_result"
    }
   ],
   "source": [
    "st"
   ]
  },
  {
   "cell_type": "code",
   "execution_count": 99,
   "id": "7c2df3c2-b567-40eb-a348-b632c36d0ec5",
   "metadata": {},
   "outputs": [],
   "source": [
    "st = st.split()"
   ]
  },
  {
   "cell_type": "code",
   "execution_count": 90,
   "id": "9e4e6882-eb20-4d59-9cb1-420ec0221759",
   "metadata": {},
   "outputs": [
    {
     "data": {
      "text/plain": [
       "['training', 'basket']"
      ]
     },
     "execution_count": 90,
     "metadata": {},
     "output_type": "execute_result"
    }
   ],
   "source": [
    "st"
   ]
  },
  {
   "cell_type": "code",
   "execution_count": 94,
   "id": "a50aa310-6816-4423-945a-a3b5530f5557",
   "metadata": {},
   "outputs": [
    {
     "data": {
      "text/plain": [
       "list"
      ]
     },
     "execution_count": 94,
     "metadata": {},
     "output_type": "execute_result"
    }
   ],
   "source": [
    "type(st)"
   ]
  },
  {
   "cell_type": "code",
   "execution_count": 104,
   "id": "aaad22de-7b78-473f-baa8-fa700c4ee5c2",
   "metadata": {},
   "outputs": [],
   "source": [
    "st = 'training basket'"
   ]
  },
  {
   "cell_type": "code",
   "execution_count": 105,
   "id": "f4f8485b-861a-4969-b568-f39a4015b3e6",
   "metadata": {},
   "outputs": [],
   "source": [
    "st = st.upper()"
   ]
  },
  {
   "cell_type": "code",
   "execution_count": 106,
   "id": "c922aaa9-9069-4708-a0ca-dd5ad006508a",
   "metadata": {},
   "outputs": [
    {
     "data": {
      "text/plain": [
       "'TRAINING BASKET'"
      ]
     },
     "execution_count": 106,
     "metadata": {},
     "output_type": "execute_result"
    }
   ],
   "source": [
    "st"
   ]
  },
  {
   "cell_type": "code",
   "execution_count": 108,
   "id": "aef81954-a52a-407c-9026-a1d977830e70",
   "metadata": {},
   "outputs": [],
   "source": [
    "st = st.replace(\"BASKET\", 'bukcet')"
   ]
  },
  {
   "cell_type": "code",
   "execution_count": 110,
   "id": "e78f1fa7-6753-429d-b73c-eb418a672d3e",
   "metadata": {},
   "outputs": [
    {
     "data": {
      "text/plain": [
       "'Training bukcet'"
      ]
     },
     "execution_count": 110,
     "metadata": {},
     "output_type": "execute_result"
    }
   ],
   "source": [
    "st.capitalize()"
   ]
  },
  {
   "cell_type": "code",
   "execution_count": 111,
   "id": "acd66ff2-7076-4fc4-bcc4-5e8a4f228d53",
   "metadata": {},
   "outputs": [],
   "source": [
    "sales = '$100k - $150k'"
   ]
  },
  {
   "cell_type": "code",
   "execution_count": 114,
   "id": "f8376722-b017-42b0-a43c-77c58640f20a",
   "metadata": {},
   "outputs": [],
   "source": [
    "l = sales.split(\"-\")"
   ]
  },
  {
   "cell_type": "code",
   "execution_count": 115,
   "id": "765e1cf4-d64a-4dea-bdd6-4b1c1bd5cee3",
   "metadata": {},
   "outputs": [
    {
     "data": {
      "text/plain": [
       "['$100k ', ' $150k']"
      ]
     },
     "execution_count": 115,
     "metadata": {},
     "output_type": "execute_result"
    }
   ],
   "source": [
    "l"
   ]
  },
  {
   "cell_type": "code",
   "execution_count": 124,
   "id": "cd87ca85-7713-4989-ba13-1aa2ef5a0cc3",
   "metadata": {},
   "outputs": [],
   "source": [
    "lower_limit = (int(l[0].replace('k', '').replace('$',''))*1000)*87"
   ]
  },
  {
   "cell_type": "code",
   "execution_count": 123,
   "id": "e2623791-7363-4dc5-887c-13f339d5ac97",
   "metadata": {},
   "outputs": [],
   "source": [
    "upper_limit = (int(l[1].replace('k', '').replace('$',''))*1000)*87"
   ]
  },
  {
   "cell_type": "code",
   "execution_count": 125,
   "id": "79b9edeb-9521-4ece-8ab2-6d06763a8185",
   "metadata": {},
   "outputs": [],
   "source": [
    "sales = (upper_limit + lower_limit)/2"
   ]
  },
  {
   "cell_type": "code",
   "execution_count": 126,
   "id": "c3603225-9ac6-487e-aefa-1f9f0263a786",
   "metadata": {},
   "outputs": [
    {
     "data": {
      "text/plain": [
       "10875000.0"
      ]
     },
     "execution_count": 126,
     "metadata": {},
     "output_type": "execute_result"
    }
   ],
   "source": [
    "sales"
   ]
  },
  {
   "cell_type": "code",
   "execution_count": null,
   "id": "c9739dd6-8b00-455b-9965-6446701857b5",
   "metadata": {},
   "outputs": [],
   "source": []
  }
 ],
 "metadata": {
  "kernelspec": {
   "display_name": "Python 3 (ipykernel)",
   "language": "python",
   "name": "python3"
  },
  "language_info": {
   "codemirror_mode": {
    "name": "ipython",
    "version": 3
   },
   "file_extension": ".py",
   "mimetype": "text/x-python",
   "name": "python",
   "nbconvert_exporter": "python",
   "pygments_lexer": "ipython3",
   "version": "3.12.7"
  }
 },
 "nbformat": 4,
 "nbformat_minor": 5
}
