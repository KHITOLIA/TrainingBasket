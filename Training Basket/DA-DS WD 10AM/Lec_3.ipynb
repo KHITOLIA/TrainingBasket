{
 "cells": [
  {
   "cell_type": "code",
   "execution_count": 1,
   "id": "6b11d01f-9a32-444e-a8cd-f46447b15726",
   "metadata": {},
   "outputs": [],
   "source": [
    "# Logical operator"
   ]
  },
  {
   "cell_type": "code",
   "execution_count": 2,
   "id": "8021d13e-dffd-414b-9003-44d12c4a1ded",
   "metadata": {},
   "outputs": [],
   "source": [
    "# or , and"
   ]
  },
  {
   "cell_type": "code",
   "execution_count": 3,
   "id": "2c75a495-dc6f-494b-8372-e77a4dfc7233",
   "metadata": {},
   "outputs": [],
   "source": [
    "a = 5\n",
    "b = 10"
   ]
  },
  {
   "cell_type": "code",
   "execution_count": 6,
   "id": "639e928e-c42a-404e-a083-38f9edce2a8e",
   "metadata": {},
   "outputs": [
    {
     "data": {
      "text/plain": [
       "True"
      ]
     },
     "execution_count": 6,
     "metadata": {},
     "output_type": "execute_result"
    }
   ],
   "source": [
    "a > 2 or a < b"
   ]
  },
  {
   "cell_type": "code",
   "execution_count": 10,
   "id": "04419646-d803-47a3-aba9-72cc772c8f09",
   "metadata": {},
   "outputs": [
    {
     "data": {
      "text/plain": [
       "False"
      ]
     },
     "execution_count": 10,
     "metadata": {},
     "output_type": "execute_result"
    }
   ],
   "source": [
    "a >5 or a >= b or a > 10"
   ]
  },
  {
   "cell_type": "code",
   "execution_count": 11,
   "id": "b98db416-079b-41cf-963a-568d19ba932c",
   "metadata": {},
   "outputs": [
    {
     "data": {
      "text/plain": [
       "False"
      ]
     },
     "execution_count": 11,
     "metadata": {},
     "output_type": "execute_result"
    }
   ],
   "source": [
    "a > 10 and a < 10"
   ]
  },
  {
   "cell_type": "code",
   "execution_count": 12,
   "id": "20b873cc-85b2-475e-8598-e3716c99e944",
   "metadata": {},
   "outputs": [
    {
     "data": {
      "text/plain": [
       "False"
      ]
     },
     "execution_count": 12,
     "metadata": {},
     "output_type": "execute_result"
    }
   ],
   "source": [
    "a < b and a >= 10"
   ]
  },
  {
   "cell_type": "code",
   "execution_count": 14,
   "id": "7fe54ece-4957-4942-b47d-fb062603db84",
   "metadata": {},
   "outputs": [
    {
     "data": {
      "text/plain": [
       "True"
      ]
     },
     "execution_count": 14,
     "metadata": {},
     "output_type": "execute_result"
    }
   ],
   "source": [
    "a < b and a <= 10 and b < 20-a"
   ]
  },
  {
   "cell_type": "code",
   "execution_count": 15,
   "id": "e56c0c7b-18c1-48f2-8465-05e3179eba87",
   "metadata": {},
   "outputs": [
    {
     "data": {
      "text/plain": [
       "False"
      ]
     },
     "execution_count": 15,
     "metadata": {},
     "output_type": "execute_result"
    }
   ],
   "source": [
    "b > 5 and b < a and a == b+5"
   ]
  },
  {
   "cell_type": "code",
   "execution_count": 17,
   "id": "e6405020-ed02-4afd-bac7-7db1b4cc0c5e",
   "metadata": {},
   "outputs": [
    {
     "data": {
      "text/plain": [
       "False"
      ]
     },
     "execution_count": 17,
     "metadata": {},
     "output_type": "execute_result"
    }
   ],
   "source": [
    "b > a and a > b or a > b"
   ]
  },
  {
   "cell_type": "markdown",
   "id": "7b0aa8b8-97cb-4cfa-ae83-34433a8f80fd",
   "metadata": {},
   "source": [
    "# Data Structures\n",
    "1. Strings\n",
    "2. List\n",
    "3. Tuple\n",
    "4. Dictionary\n",
    "5. Sets"
   ]
  },
  {
   "cell_type": "code",
   "execution_count": 18,
   "id": "d7fedd5a-6142-4392-9cca-3114878fc005",
   "metadata": {},
   "outputs": [],
   "source": [
    "# Strings : collection of characters"
   ]
  },
  {
   "cell_type": "code",
   "execution_count": 30,
   "id": "a55730ce-6792-49b2-8413-8c6feb683f93",
   "metadata": {},
   "outputs": [],
   "source": [
    "st1 = 'Training Basket' "
   ]
  },
  {
   "cell_type": "code",
   "execution_count": 26,
   "id": "1951291e-deb3-41a0-bcbd-bf7b230a3d06",
   "metadata": {},
   "outputs": [
    {
     "data": {
      "text/plain": [
       "'Training Basket'"
      ]
     },
     "execution_count": 26,
     "metadata": {},
     "output_type": "execute_result"
    }
   ],
   "source": [
    "st"
   ]
  },
  {
   "cell_type": "code",
   "execution_count": 34,
   "id": "5074773c-af6a-4648-a8d0-d0cea627b6c8",
   "metadata": {},
   "outputs": [
    {
     "data": {
      "text/plain": [
       "2742721098928"
      ]
     },
     "execution_count": 34,
     "metadata": {},
     "output_type": "execute_result"
    }
   ],
   "source": [
    "id(st1)"
   ]
  },
  {
   "cell_type": "code",
   "execution_count": 27,
   "id": "8937a60e-ac9d-4793-a22f-e65ad0d4a394",
   "metadata": {},
   "outputs": [
    {
     "data": {
      "text/plain": [
       "str"
      ]
     },
     "execution_count": 27,
     "metadata": {},
     "output_type": "execute_result"
    }
   ],
   "source": [
    "type(st)"
   ]
  },
  {
   "cell_type": "code",
   "execution_count": 28,
   "id": "5c65f11e-13dc-4abf-8719-6675e0a05c61",
   "metadata": {},
   "outputs": [
    {
     "name": "stdout",
     "output_type": "stream",
     "text": [
      "Training Basket\n"
     ]
    }
   ],
   "source": [
    "print('Training Basket')"
   ]
  },
  {
   "cell_type": "code",
   "execution_count": 35,
   "id": "5fd7fa7f-c345-4efd-b1fb-1183f5efe80d",
   "metadata": {},
   "outputs": [
    {
     "name": "stdout",
     "output_type": "stream",
     "text": [
      "Training Basket\n"
     ]
    }
   ],
   "source": [
    "print(st)"
   ]
  },
  {
   "cell_type": "code",
   "execution_count": 36,
   "id": "4b301796-d951-4a38-8877-a24f688b5f68",
   "metadata": {},
   "outputs": [],
   "source": [
    "badi_string = '''\n",
    "Machine Learning vs AI: Differences, Uses, & BenefitsMachine learning (ML) is a field of artificial intelligence (AI) that enables systems to learn and improve from data without being explicitly programmed. Using algorithms to find patterns in large datasets, ML systems can make predictions, decisions, and generate content, becoming more accurate with more experience and data. Applications are widespread, including recommendation engines, image recognition, fraud detection, and autonomous vehicles. \n",
    "How Machine Learning Works\n",
    "Algorithms: ML involves using statistical algorithms to learn from data.\n",
    "Training Data: Algorithms are \"trained\" on vast amounts of data to identify patterns and correlations.\n",
    "Machine Learning Models: The result of this training is a \"model\" that can then perform specific tasks, such as making predictions or classifying data.\n",
    "Improvement Over Time: The model's performance improves as it is exposed to more data and \"experiences\". \n",
    "Types of Machine Learning\n",
    "Supervised Learning:\n",
    "Models learn from labeled data (data with known correct answers) to make predictions, similar to a student studying past exams. \n",
    "Unsupervised Learning:\n",
    "Models find hidden patterns and structures in unlabeled data (data without correct answers), such as using clustering to group customers with similar behaviors. \n",
    "Reinforcement Learning:\n",
    "Models learn by trial and error, receiving rewards or penalties for their actions to learn the best way to perform a task, like a robot learning to walk. \n",
    "Examples of Machine Learning Applications\n",
    "Recommendation Systems:\n",
    "Suggesting products or content you might like based on your past activity. \n",
    "Image and Speech Recognition:\n",
    "Identifying objects in images or understanding human language. \n",
    "Fraud Detection:\n",
    "Identifying fraudulent transactions in finance. \n",
    "Autonomous Vehicles:\n",
    "Enabling cars to navigate and make decisions on the road. \n",
    "Generative AI:\n",
    "Creating new content, such as text, images, audio, or video, from user input. '''"
   ]
  },
  {
   "cell_type": "code",
   "execution_count": 37,
   "id": "0b6df0d4-8337-4f34-8d61-e811b57ff146",
   "metadata": {},
   "outputs": [
    {
     "data": {
      "text/plain": [
       "1982"
      ]
     },
     "execution_count": 37,
     "metadata": {},
     "output_type": "execute_result"
    }
   ],
   "source": [
    "len(badi_string)"
   ]
  },
  {
   "cell_type": "code",
   "execution_count": 38,
   "id": "8d33d4d7-2202-4d27-abdc-0e2aec7fbe6b",
   "metadata": {},
   "outputs": [],
   "source": [
    "name = 'ARCHIT'"
   ]
  },
  {
   "cell_type": "code",
   "execution_count": 39,
   "id": "06dc292e-36fa-4151-9689-d62410748bde",
   "metadata": {},
   "outputs": [
    {
     "data": {
      "text/plain": [
       "'C'"
      ]
     },
     "execution_count": 39,
     "metadata": {},
     "output_type": "execute_result"
    }
   ],
   "source": [
    "name[2]"
   ]
  },
  {
   "cell_type": "code",
   "execution_count": 41,
   "id": "8f2fff6a-f521-4009-97c8-4b31149a963b",
   "metadata": {},
   "outputs": [
    {
     "data": {
      "text/plain": [
       "'A'"
      ]
     },
     "execution_count": 41,
     "metadata": {},
     "output_type": "execute_result"
    }
   ],
   "source": [
    "name[0]"
   ]
  },
  {
   "cell_type": "code",
   "execution_count": 42,
   "id": "4a1b565d-54fa-4406-b20a-5626006d2036",
   "metadata": {},
   "outputs": [
    {
     "data": {
      "text/plain": [
       "'I'"
      ]
     },
     "execution_count": 42,
     "metadata": {},
     "output_type": "execute_result"
    }
   ],
   "source": [
    "name[4]"
   ]
  },
  {
   "cell_type": "code",
   "execution_count": 43,
   "id": "73be2569-ed7a-4d2e-b682-d4a8ab947bad",
   "metadata": {},
   "outputs": [
    {
     "data": {
      "text/plain": [
       "'T'"
      ]
     },
     "execution_count": 43,
     "metadata": {},
     "output_type": "execute_result"
    }
   ],
   "source": [
    "name[5]"
   ]
  },
  {
   "cell_type": "code",
   "execution_count": 44,
   "id": "db5e6555-9b5a-4d38-a842-a8f6d8514d37",
   "metadata": {},
   "outputs": [
    {
     "ename": "IndexError",
     "evalue": "string index out of range",
     "output_type": "error",
     "traceback": [
      "\u001b[1;31m---------------------------------------------------------------------------\u001b[0m",
      "\u001b[1;31mIndexError\u001b[0m                                Traceback (most recent call last)",
      "Cell \u001b[1;32mIn[44], line 1\u001b[0m\n\u001b[1;32m----> 1\u001b[0m name[\u001b[38;5;241m7\u001b[39m]\n",
      "\u001b[1;31mIndexError\u001b[0m: string index out of range"
     ]
    }
   ],
   "source": [
    "name[7]"
   ]
  },
  {
   "cell_type": "code",
   "execution_count": 46,
   "id": "87150f44-f22e-4bdd-9ab1-9f5b143a0a36",
   "metadata": {},
   "outputs": [
    {
     "data": {
      "text/plain": [
       "140731419075024"
      ]
     },
     "execution_count": 46,
     "metadata": {},
     "output_type": "execute_result"
    }
   ],
   "source": [
    "id('t')"
   ]
  },
  {
   "cell_type": "code",
   "execution_count": 47,
   "id": "f8034c85-98dd-42ea-92b4-c07b126547dc",
   "metadata": {},
   "outputs": [
    {
     "data": {
      "text/plain": [
       "140731419073488"
      ]
     },
     "execution_count": 47,
     "metadata": {},
     "output_type": "execute_result"
    }
   ],
   "source": [
    "id('T')"
   ]
  },
  {
   "cell_type": "code",
   "execution_count": 48,
   "id": "5711096c-2835-42e0-b8db-576137716bdc",
   "metadata": {},
   "outputs": [
    {
     "data": {
      "text/plain": [
       "'T'"
      ]
     },
     "execution_count": 48,
     "metadata": {},
     "output_type": "execute_result"
    }
   ],
   "source": [
    "name[-1]"
   ]
  },
  {
   "cell_type": "code",
   "execution_count": 49,
   "id": "4dca725c-752e-45e7-91f8-3816f1d12a0b",
   "metadata": {},
   "outputs": [
    {
     "data": {
      "text/plain": [
       "'H'"
      ]
     },
     "execution_count": 49,
     "metadata": {},
     "output_type": "execute_result"
    }
   ],
   "source": [
    "name[-3]"
   ]
  },
  {
   "cell_type": "code",
   "execution_count": 50,
   "id": "e32f4aa1-d56f-4f70-ad34-8ed7a943b844",
   "metadata": {},
   "outputs": [
    {
     "data": {
      "text/plain": [
       "'R'"
      ]
     },
     "execution_count": 50,
     "metadata": {},
     "output_type": "execute_result"
    }
   ],
   "source": [
    "name[-5]"
   ]
  },
  {
   "cell_type": "code",
   "execution_count": 51,
   "id": "01ab326e-8e68-4972-815f-7fcfb475946c",
   "metadata": {},
   "outputs": [
    {
     "data": {
      "text/plain": [
       "'A'"
      ]
     },
     "execution_count": 51,
     "metadata": {},
     "output_type": "execute_result"
    }
   ],
   "source": [
    "name[-6]"
   ]
  },
  {
   "cell_type": "code",
   "execution_count": 52,
   "id": "6fcb022c-cc99-448e-88b6-b32d66a0a3eb",
   "metadata": {},
   "outputs": [
    {
     "ename": "IndexError",
     "evalue": "string index out of range",
     "output_type": "error",
     "traceback": [
      "\u001b[1;31m---------------------------------------------------------------------------\u001b[0m",
      "\u001b[1;31mIndexError\u001b[0m                                Traceback (most recent call last)",
      "Cell \u001b[1;32mIn[52], line 1\u001b[0m\n\u001b[1;32m----> 1\u001b[0m name[\u001b[38;5;241m-\u001b[39m\u001b[38;5;241m8\u001b[39m]\n",
      "\u001b[1;31mIndexError\u001b[0m: string index out of range"
     ]
    }
   ],
   "source": [
    "name[-8]"
   ]
  },
  {
   "cell_type": "code",
   "execution_count": 53,
   "id": "cbb8c36b-18eb-40fd-ab0e-349ed70fb962",
   "metadata": {},
   "outputs": [],
   "source": [
    "# id()\n",
    "# len()\n",
    "# type()\n",
    "# print()"
   ]
  },
  {
   "cell_type": "code",
   "execution_count": 54,
   "id": "e673a450-9c67-4e3d-a150-e14fb2b452e6",
   "metadata": {},
   "outputs": [
    {
     "data": {
      "text/plain": [
       "2742624455952"
      ]
     },
     "execution_count": 54,
     "metadata": {},
     "output_type": "execute_result"
    }
   ],
   "source": [
    "id(len)"
   ]
  },
  {
   "cell_type": "code",
   "execution_count": 59,
   "id": "5bd841ca-0e7f-4323-98b6-4946bdc431ea",
   "metadata": {},
   "outputs": [],
   "source": [
    "st = 'TRAINING BASKET'"
   ]
  },
  {
   "cell_type": "code",
   "execution_count": 58,
   "id": "e1cc08a3-216b-49f8-93b2-b4ea9be062c9",
   "metadata": {},
   "outputs": [
    {
     "data": {
      "text/plain": [
       "'AININ'"
      ]
     },
     "execution_count": 58,
     "metadata": {},
     "output_type": "execute_result"
    }
   ],
   "source": [
    "st[ 2 : 7 ]"
   ]
  },
  {
   "cell_type": "code",
   "execution_count": 60,
   "id": "68c8ff2e-d70e-4017-8e96-24150eb235e2",
   "metadata": {},
   "outputs": [
    {
     "data": {
      "text/plain": [
       "'TRA'"
      ]
     },
     "execution_count": 60,
     "metadata": {},
     "output_type": "execute_result"
    }
   ],
   "source": [
    "st[ 0 : 3 ]"
   ]
  },
  {
   "cell_type": "code",
   "execution_count": 61,
   "id": "1c4b8733-0029-454a-bb59-a4e05990c49c",
   "metadata": {},
   "outputs": [
    {
     "data": {
      "text/plain": [
       "'TRA'"
      ]
     },
     "execution_count": 61,
     "metadata": {},
     "output_type": "execute_result"
    }
   ],
   "source": [
    "st[ : 3]"
   ]
  },
  {
   "cell_type": "code",
   "execution_count": 64,
   "id": "2c146e67-14d7-4a28-854d-7bbac03f9e90",
   "metadata": {},
   "outputs": [
    {
     "data": {
      "text/plain": [
       "'INING BASKET'"
      ]
     },
     "execution_count": 64,
     "metadata": {},
     "output_type": "execute_result"
    }
   ],
   "source": [
    "st[ 3 : ]"
   ]
  },
  {
   "cell_type": "code",
   "execution_count": 65,
   "id": "557e6460-aab3-4d54-a8fb-edaac5273cf7",
   "metadata": {},
   "outputs": [
    {
     "data": {
      "text/plain": [
       "''"
      ]
     },
     "execution_count": 65,
     "metadata": {},
     "output_type": "execute_result"
    }
   ],
   "source": [
    "st[20 : 30]"
   ]
  },
  {
   "cell_type": "code",
   "execution_count": 66,
   "id": "9986f101-6531-4956-ae58-b032929b5c0c",
   "metadata": {},
   "outputs": [
    {
     "data": {
      "text/plain": [
       "''"
      ]
     },
     "execution_count": 66,
     "metadata": {},
     "output_type": "execute_result"
    }
   ],
   "source": [
    "st[9:3]"
   ]
  },
  {
   "cell_type": "code",
   "execution_count": 71,
   "id": "47dd011b-5d6e-4af0-b88b-b4271aa6ee1d",
   "metadata": {},
   "outputs": [
    {
     "data": {
      "text/plain": [
       "'IIG'"
      ]
     },
     "execution_count": 71,
     "metadata": {},
     "output_type": "execute_result"
    }
   ],
   "source": [
    "st[3 : 9 : 2 ]"
   ]
  },
  {
   "cell_type": "code",
   "execution_count": 75,
   "id": "272b04b1-3fab-4881-8491-ae5da093e288",
   "metadata": {},
   "outputs": [
    {
     "data": {
      "text/plain": [
       "'NG BASKE'"
      ]
     },
     "execution_count": 75,
     "metadata": {},
     "output_type": "execute_result"
    }
   ],
   "source": [
    "st[-9 : -1]"
   ]
  },
  {
   "cell_type": "code",
   "execution_count": null,
   "id": "873b9eb9-9c04-4b63-b247-1a6d1758685f",
   "metadata": {},
   "outputs": [],
   "source": []
  }
 ],
 "metadata": {
  "kernelspec": {
   "display_name": "Python 3 (ipykernel)",
   "language": "python",
   "name": "python3"
  },
  "language_info": {
   "codemirror_mode": {
    "name": "ipython",
    "version": 3
   },
   "file_extension": ".py",
   "mimetype": "text/x-python",
   "name": "python",
   "nbconvert_exporter": "python",
   "pygments_lexer": "ipython3",
   "version": "3.12.7"
  }
 },
 "nbformat": 4,
 "nbformat_minor": 5
}
