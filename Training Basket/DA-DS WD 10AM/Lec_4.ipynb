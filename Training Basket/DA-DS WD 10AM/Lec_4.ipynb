{
 "cells": [
  {
   "cell_type": "code",
   "execution_count": 1,
   "id": "9c00820a-9db1-49ec-9179-7e90842cbb36",
   "metadata": {},
   "outputs": [],
   "source": [
    "st = 'wasif tyagi'"
   ]
  },
  {
   "cell_type": "code",
   "execution_count": 2,
   "id": "f89f35f8-4714-4f14-a71f-c0d0b29c31f2",
   "metadata": {},
   "outputs": [
    {
     "data": {
      "text/plain": [
       "'w'"
      ]
     },
     "execution_count": 2,
     "metadata": {},
     "output_type": "execute_result"
    }
   ],
   "source": [
    "st[0]"
   ]
  },
  {
   "cell_type": "code",
   "execution_count": 3,
   "id": "04e04df9-9262-45e3-94d2-dc8bea876058",
   "metadata": {},
   "outputs": [
    {
     "data": {
      "text/plain": [
       "'y'"
      ]
     },
     "execution_count": 3,
     "metadata": {},
     "output_type": "execute_result"
    }
   ],
   "source": [
    "st[7]"
   ]
  },
  {
   "cell_type": "code",
   "execution_count": 4,
   "id": "3fcebaf8-a743-4b7d-96f5-37586648e9fd",
   "metadata": {},
   "outputs": [
    {
     "data": {
      "text/plain": [
       "' '"
      ]
     },
     "execution_count": 4,
     "metadata": {},
     "output_type": "execute_result"
    }
   ],
   "source": [
    "st[5]"
   ]
  },
  {
   "cell_type": "code",
   "execution_count": 5,
   "id": "f877622a-290b-470c-a770-8ab1a91fcdf4",
   "metadata": {},
   "outputs": [
    {
     "data": {
      "text/plain": [
       "'wasif'"
      ]
     },
     "execution_count": 5,
     "metadata": {},
     "output_type": "execute_result"
    }
   ],
   "source": [
    "st[ : 5]"
   ]
  },
  {
   "cell_type": "code",
   "execution_count": 6,
   "id": "abd40bad-5c22-4895-84e0-9c32fcf49913",
   "metadata": {},
   "outputs": [
    {
     "data": {
      "text/plain": [
       "'if tyagi'"
      ]
     },
     "execution_count": 6,
     "metadata": {},
     "output_type": "execute_result"
    }
   ],
   "source": [
    "st[ 3 : 110]"
   ]
  },
  {
   "cell_type": "code",
   "execution_count": 7,
   "id": "12d95c4b-601a-4629-9651-04e92a72c895",
   "metadata": {},
   "outputs": [
    {
     "data": {
      "text/plain": [
       "True"
      ]
     },
     "execution_count": 7,
     "metadata": {},
     "output_type": "execute_result"
    }
   ],
   "source": [
    "'a ' + 'b' == 'a b'"
   ]
  },
  {
   "cell_type": "code",
   "execution_count": 8,
   "id": "ac3f0bbb-3a0f-4674-84b3-ff4ecd1ebd7c",
   "metadata": {},
   "outputs": [
    {
     "ename": "TypeError",
     "evalue": "unsupported operand type(s) for /: 'str' and 'str'",
     "output_type": "error",
     "traceback": [
      "\u001b[1;31m---------------------------------------------------------------------------\u001b[0m",
      "\u001b[1;31mTypeError\u001b[0m                                 Traceback (most recent call last)",
      "Cell \u001b[1;32mIn[8], line 1\u001b[0m\n\u001b[1;32m----> 1\u001b[0m \u001b[38;5;124m'\u001b[39m\u001b[38;5;124ma \u001b[39m\u001b[38;5;124m'\u001b[39m \u001b[38;5;241m/\u001b[39m \u001b[38;5;124m'\u001b[39m\u001b[38;5;124mb\u001b[39m\u001b[38;5;124m'\u001b[39m\n",
      "\u001b[1;31mTypeError\u001b[0m: unsupported operand type(s) for /: 'str' and 'str'"
     ]
    }
   ],
   "source": [
    "'a ' / 'b'"
   ]
  },
  {
   "cell_type": "code",
   "execution_count": 9,
   "id": "7093cb1e-e291-4e36-bb3c-754c8f30f08a",
   "metadata": {},
   "outputs": [],
   "source": [
    "st = 'training baske'\n",
    "# print the middle element of this string"
   ]
  },
  {
   "cell_type": "code",
   "execution_count": 10,
   "id": "abdb8495-0ede-427a-92e7-88b61db3cc44",
   "metadata": {},
   "outputs": [],
   "source": [
    "l = len(st)"
   ]
  },
  {
   "cell_type": "code",
   "execution_count": 11,
   "id": "dc662b83-1197-49b6-b1ed-bf7f1cb1f5e6",
   "metadata": {},
   "outputs": [
    {
     "data": {
      "text/plain": [
       "14"
      ]
     },
     "execution_count": 11,
     "metadata": {},
     "output_type": "execute_result"
    }
   ],
   "source": [
    "l"
   ]
  },
  {
   "cell_type": "code",
   "execution_count": 12,
   "id": "ece51822-ca10-4158-85c6-99c8f842b1b1",
   "metadata": {},
   "outputs": [
    {
     "data": {
      "text/plain": [
       "7"
      ]
     },
     "execution_count": 12,
     "metadata": {},
     "output_type": "execute_result"
    }
   ],
   "source": [
    "l//2"
   ]
  },
  {
   "cell_type": "code",
   "execution_count": 13,
   "id": "8c223426-6ac7-49d1-b915-2accd6700610",
   "metadata": {},
   "outputs": [
    {
     "name": "stdout",
     "output_type": "stream",
     "text": [
      "g  \n"
     ]
    }
   ],
   "source": [
    "print(st[l//2],st[l//2+1])"
   ]
  },
  {
   "cell_type": "code",
   "execution_count": 15,
   "id": "b5087532-4d6c-4e89-afe8-872b90a02c57",
   "metadata": {},
   "outputs": [
    {
     "data": {
      "text/plain": [
       "'i'"
      ]
     },
     "execution_count": 15,
     "metadata": {},
     "output_type": "execute_result"
    }
   ],
   "source": [
    "st[5]"
   ]
  },
  {
   "cell_type": "code",
   "execution_count": 16,
   "id": "ca9fc14f-fa63-442e-8fe5-876e185621ee",
   "metadata": {},
   "outputs": [
    {
     "data": {
      "text/plain": [
       "'g'"
      ]
     },
     "execution_count": 16,
     "metadata": {},
     "output_type": "execute_result"
    }
   ],
   "source": [
    "st[7]"
   ]
  },
  {
   "cell_type": "code",
   "execution_count": 17,
   "id": "2c0424ad-e443-4fe8-ab89-f05fb3806503",
   "metadata": {},
   "outputs": [
    {
     "data": {
      "text/plain": [
       "'ig'"
      ]
     },
     "execution_count": 17,
     "metadata": {},
     "output_type": "execute_result"
    }
   ],
   "source": [
    "st[5] + st[7]"
   ]
  },
  {
   "cell_type": "code",
   "execution_count": 18,
   "id": "539afcc4-fb72-40be-b9b3-24cefb2e658f",
   "metadata": {},
   "outputs": [
    {
     "ename": "TypeError",
     "evalue": "string indices must be integers, not 'float'",
     "output_type": "error",
     "traceback": [
      "\u001b[1;31m---------------------------------------------------------------------------\u001b[0m",
      "\u001b[1;31mTypeError\u001b[0m                                 Traceback (most recent call last)",
      "Cell \u001b[1;32mIn[18], line 1\u001b[0m\n\u001b[1;32m----> 1\u001b[0m st[l\u001b[38;5;241m/\u001b[39m\u001b[38;5;241m2\u001b[39m]\n",
      "\u001b[1;31mTypeError\u001b[0m: string indices must be integers, not 'float'"
     ]
    }
   ],
   "source": [
    "st[l/2]"
   ]
  },
  {
   "cell_type": "code",
   "execution_count": 21,
   "id": "9e8bb04c-a821-452a-a86f-35688471b249",
   "metadata": {},
   "outputs": [
    {
     "data": {
      "text/plain": [
       "7"
      ]
     },
     "execution_count": 21,
     "metadata": {},
     "output_type": "execute_result"
    }
   ],
   "source": [
    "int(l/2)"
   ]
  },
  {
   "cell_type": "code",
   "execution_count": 22,
   "id": "1a0b860b-a5cb-48ca-a90b-c2e88805e287",
   "metadata": {},
   "outputs": [],
   "source": [
    "# type casting"
   ]
  },
  {
   "cell_type": "code",
   "execution_count": 24,
   "id": "266e7344-e01c-4200-8f04-a76c2c94ec95",
   "metadata": {},
   "outputs": [],
   "source": [
    "a = 10"
   ]
  },
  {
   "cell_type": "code",
   "execution_count": 26,
   "id": "3958b197-78ee-4826-8176-df881534d28f",
   "metadata": {},
   "outputs": [
    {
     "data": {
      "text/plain": [
       "'10'"
      ]
     },
     "execution_count": 26,
     "metadata": {},
     "output_type": "execute_result"
    }
   ],
   "source": [
    "str(a)"
   ]
  },
  {
   "cell_type": "code",
   "execution_count": 27,
   "id": "bf9cbbb6-2505-4c27-a9cd-dea81b4005bf",
   "metadata": {},
   "outputs": [
    {
     "data": {
      "text/plain": [
       "int"
      ]
     },
     "execution_count": 27,
     "metadata": {},
     "output_type": "execute_result"
    }
   ],
   "source": [
    "type(a)"
   ]
  },
  {
   "cell_type": "code",
   "execution_count": 28,
   "id": "811ce4b9-3f6f-42db-b3d1-44d2d7188771",
   "metadata": {},
   "outputs": [],
   "source": [
    "a = str(a)"
   ]
  },
  {
   "cell_type": "code",
   "execution_count": 29,
   "id": "0b5f33ef-5b08-47a3-ad80-f36b3e2e636f",
   "metadata": {},
   "outputs": [
    {
     "data": {
      "text/plain": [
       "str"
      ]
     },
     "execution_count": 29,
     "metadata": {},
     "output_type": "execute_result"
    }
   ],
   "source": [
    "type(a)"
   ]
  },
  {
   "cell_type": "code",
   "execution_count": 30,
   "id": "0cea5dc3-3069-4c25-afda-fde5ac1e4354",
   "metadata": {},
   "outputs": [],
   "source": [
    "a = int(a)"
   ]
  },
  {
   "cell_type": "code",
   "execution_count": 31,
   "id": "e1cc44b6-15d1-43a9-a9a9-cb777a1c44dc",
   "metadata": {},
   "outputs": [
    {
     "data": {
      "text/plain": [
       "int"
      ]
     },
     "execution_count": 31,
     "metadata": {},
     "output_type": "execute_result"
    }
   ],
   "source": [
    "type(a)"
   ]
  },
  {
   "cell_type": "code",
   "execution_count": 38,
   "id": "6b044e76-6493-44d8-bdbb-6102e517a610",
   "metadata": {},
   "outputs": [],
   "source": [
    "a = float(a)"
   ]
  },
  {
   "cell_type": "code",
   "execution_count": 39,
   "id": "33a29a0f-45a2-4690-bf97-107507ab3d34",
   "metadata": {},
   "outputs": [
    {
     "data": {
      "text/plain": [
       "float"
      ]
     },
     "execution_count": 39,
     "metadata": {},
     "output_type": "execute_result"
    }
   ],
   "source": [
    "type(a)"
   ]
  },
  {
   "cell_type": "code",
   "execution_count": 40,
   "id": "a0a6e130-befd-4957-b17f-c844c9db59e5",
   "metadata": {},
   "outputs": [
    {
     "data": {
      "text/plain": [
       "10.0"
      ]
     },
     "execution_count": 40,
     "metadata": {},
     "output_type": "execute_result"
    }
   ],
   "source": [
    "a"
   ]
  },
  {
   "cell_type": "code",
   "execution_count": 41,
   "id": "e52530e1-5ea5-4ba4-86f1-dfbc522f25ba",
   "metadata": {},
   "outputs": [],
   "source": [
    "a = int(a)"
   ]
  },
  {
   "cell_type": "code",
   "execution_count": 43,
   "id": "36ecf648-6ab5-4dd3-90a7-26aab37cbd6e",
   "metadata": {},
   "outputs": [],
   "source": [
    "a = str(a)"
   ]
  },
  {
   "cell_type": "code",
   "execution_count": 49,
   "id": "2f6551c6-0273-47ba-9f43-780fdbf6ccea",
   "metadata": {},
   "outputs": [
    {
     "data": {
      "text/plain": [
       "'1'"
      ]
     },
     "execution_count": 49,
     "metadata": {},
     "output_type": "execute_result"
    }
   ],
   "source": [
    "a[0]"
   ]
  },
  {
   "cell_type": "code",
   "execution_count": 50,
   "id": "a1afed5c-1928-4ac4-a6a7-bae41b3de118",
   "metadata": {},
   "outputs": [],
   "source": [
    "# Method of Strings : "
   ]
  },
  {
   "cell_type": "code",
   "execution_count": 51,
   "id": "8e1a22e5-6b73-4554-aa30-59891fe211b2",
   "metadata": {},
   "outputs": [
    {
     "data": {
      "text/plain": [
       "str"
      ]
     },
     "execution_count": 51,
     "metadata": {},
     "output_type": "execute_result"
    }
   ],
   "source": [
    "type(st)"
   ]
  },
  {
   "cell_type": "code",
   "execution_count": 76,
   "id": "afb0fa30-39c6-4a6f-97b5-b09ca00144f8",
   "metadata": {},
   "outputs": [],
   "source": [
    "st = '   Training Basket  '"
   ]
  },
  {
   "cell_type": "code",
   "execution_count": 60,
   "id": "c4a62f57-d608-4a96-81fd-62710dcec61e",
   "metadata": {},
   "outputs": [
    {
     "name": "stdout",
     "output_type": "stream",
     "text": [
      "this is my 10    Training Basket  \n"
     ]
    }
   ],
   "source": [
    "# format method : \n",
    "print(\"this is my {} {}\".format(a, st))"
   ]
  },
  {
   "cell_type": "code",
   "execution_count": 61,
   "id": "4e097527-b885-49a3-bf67-71662ee40bb8",
   "metadata": {},
   "outputs": [],
   "source": [
    "# print(a)"
   ]
  },
  {
   "cell_type": "code",
   "execution_count": 62,
   "id": "a86afb13-c983-4177-a584-5323d7c4fb77",
   "metadata": {},
   "outputs": [],
   "source": [
    "# f-string"
   ]
  },
  {
   "cell_type": "code",
   "execution_count": 67,
   "id": "d839943c-67d3-4c43-9a20-0fce75dde052",
   "metadata": {},
   "outputs": [
    {
     "name": "stdout",
     "output_type": "stream",
     "text": [
      "this is my    Training Basket  /10\n"
     ]
    }
   ],
   "source": [
    "print(F\"this is my {st}/{a}\")"
   ]
  },
  {
   "cell_type": "code",
   "execution_count": 68,
   "id": "42758b78-1f4a-42e5-9313-7bddc8391e93",
   "metadata": {},
   "outputs": [],
   "source": [
    "# st.strip()"
   ]
  },
  {
   "cell_type": "code",
   "execution_count": 69,
   "id": "4a371f19-260d-4239-9ca7-fd494f86058c",
   "metadata": {},
   "outputs": [
    {
     "data": {
      "text/plain": [
       "'   Training Basket  '"
      ]
     },
     "execution_count": 69,
     "metadata": {},
     "output_type": "execute_result"
    }
   ],
   "source": [
    "st"
   ]
  },
  {
   "cell_type": "code",
   "execution_count": 70,
   "id": "ed1f1dab-41c7-411d-afaf-63e2a823b395",
   "metadata": {},
   "outputs": [
    {
     "data": {
      "text/plain": [
       "'Training Basket'"
      ]
     },
     "execution_count": 70,
     "metadata": {},
     "output_type": "execute_result"
    }
   ],
   "source": [
    "st.strip()"
   ]
  },
  {
   "cell_type": "code",
   "execution_count": 72,
   "id": "d5e262af-6316-4b8d-88ac-40e74691d430",
   "metadata": {},
   "outputs": [],
   "source": [
    "# st.strip"
   ]
  },
  {
   "cell_type": "code",
   "execution_count": 73,
   "id": "9b7468d5-c372-4988-919a-c350fea0cfad",
   "metadata": {},
   "outputs": [
    {
     "data": {
      "text/plain": [
       "'   Training Basket  '"
      ]
     },
     "execution_count": 73,
     "metadata": {},
     "output_type": "execute_result"
    }
   ],
   "source": [
    "st"
   ]
  },
  {
   "cell_type": "code",
   "execution_count": 77,
   "id": "206de128-5129-4b88-9ac4-4ff9535fd648",
   "metadata": {},
   "outputs": [],
   "source": [
    "st_1 = st.strip()"
   ]
  },
  {
   "cell_type": "code",
   "execution_count": 78,
   "id": "96b49a7b-b905-4c38-abe9-8321210e166b",
   "metadata": {},
   "outputs": [
    {
     "data": {
      "text/plain": [
       "'   Training Basket  '"
      ]
     },
     "execution_count": 78,
     "metadata": {},
     "output_type": "execute_result"
    }
   ],
   "source": [
    "st"
   ]
  },
  {
   "cell_type": "code",
   "execution_count": 79,
   "id": "117c6eb0-7ada-49f2-a080-b01bb3c8eff2",
   "metadata": {},
   "outputs": [
    {
     "data": {
      "text/plain": [
       "'Training Basket'"
      ]
     },
     "execution_count": 79,
     "metadata": {},
     "output_type": "execute_result"
    }
   ],
   "source": [
    "st_1"
   ]
  },
  {
   "cell_type": "code",
   "execution_count": 80,
   "id": "6a673b51-7186-4c6b-b131-e9a0dd2349b5",
   "metadata": {},
   "outputs": [],
   "source": [
    "st = st.strip()"
   ]
  },
  {
   "cell_type": "code",
   "execution_count": 81,
   "id": "4ec15b6d-5676-4929-92b2-c2aa32ae094f",
   "metadata": {},
   "outputs": [
    {
     "data": {
      "text/plain": [
       "'Training Basket'"
      ]
     },
     "execution_count": 81,
     "metadata": {},
     "output_type": "execute_result"
    }
   ],
   "source": [
    "st"
   ]
  },
  {
   "cell_type": "code",
   "execution_count": 82,
   "id": "c7485566-9f58-4967-883c-de2018d28606",
   "metadata": {},
   "outputs": [
    {
     "data": {
      "text/plain": [
       "True"
      ]
     },
     "execution_count": 82,
     "metadata": {},
     "output_type": "execute_result"
    }
   ],
   "source": [
    "st_1 == st"
   ]
  },
  {
   "cell_type": "code",
   "execution_count": 83,
   "id": "579a8e04-a210-4b39-a5a2-2f2c328d0c8d",
   "metadata": {},
   "outputs": [
    {
     "data": {
      "text/plain": [
       "'Training Basket'"
      ]
     },
     "execution_count": 83,
     "metadata": {},
     "output_type": "execute_result"
    }
   ],
   "source": [
    "st"
   ]
  },
  {
   "cell_type": "code",
   "execution_count": 84,
   "id": "acd8c1a3-bc7c-47cf-bc09-dbcc254ac680",
   "metadata": {},
   "outputs": [
    {
     "data": {
      "text/plain": [
       "['Training', 'Basket']"
      ]
     },
     "execution_count": 84,
     "metadata": {},
     "output_type": "execute_result"
    }
   ],
   "source": [
    "st.split()"
   ]
  },
  {
   "cell_type": "code",
   "execution_count": 85,
   "id": "0e1aea45-8b16-4828-b46a-4090c85466c2",
   "metadata": {},
   "outputs": [],
   "source": [
    "st_1 = st.split()"
   ]
  },
  {
   "cell_type": "code",
   "execution_count": 92,
   "id": "8cf0024d-a03e-47d0-a027-f581b94c92f4",
   "metadata": {},
   "outputs": [],
   "source": [
    "st = 'training basket noida electronic city'"
   ]
  },
  {
   "cell_type": "code",
   "execution_count": 93,
   "id": "db40c923-46a3-46b4-b2ca-9c3c27e3b18d",
   "metadata": {},
   "outputs": [],
   "source": [
    "st_1 = st.split()"
   ]
  },
  {
   "cell_type": "code",
   "execution_count": 94,
   "id": "3c671884-90d5-42b2-9f5d-19e022f7f4d7",
   "metadata": {},
   "outputs": [
    {
     "data": {
      "text/plain": [
       "['training', 'basket', 'noida', 'electronic', 'city']"
      ]
     },
     "execution_count": 94,
     "metadata": {},
     "output_type": "execute_result"
    }
   ],
   "source": [
    "st_1"
   ]
  },
  {
   "cell_type": "code",
   "execution_count": 98,
   "id": "6dd9f5a0-c253-4712-945a-93b9d432e93b",
   "metadata": {},
   "outputs": [
    {
     "data": {
      "text/plain": [
       "['training basket noi', 'a electronic city']"
      ]
     },
     "execution_count": 98,
     "metadata": {},
     "output_type": "execute_result"
    }
   ],
   "source": [
    "st.split(\"d\")"
   ]
  },
  {
   "cell_type": "code",
   "execution_count": 99,
   "id": "6554e52b-6653-407e-aa49-a13d294dd022",
   "metadata": {},
   "outputs": [
    {
     "data": {
      "text/plain": [
       "['tra', 'n', 'ng basket no', 'da electron', 'c c', 'ty']"
      ]
     },
     "execution_count": 99,
     "metadata": {},
     "output_type": "execute_result"
    }
   ],
   "source": [
    "st.split(\"i\")"
   ]
  },
  {
   "cell_type": "code",
   "execution_count": 100,
   "id": "d436eebd-4cba-4171-b4d8-8e2be1d8b967",
   "metadata": {},
   "outputs": [],
   "source": [
    "date = '22-09-2025'"
   ]
  },
  {
   "cell_type": "code",
   "execution_count": 105,
   "id": "4d3a564f-dcd6-40f2-9154-8bec1cdf98dc",
   "metadata": {},
   "outputs": [
    {
     "data": {
      "text/plain": [
       "['22', '09', '2025']"
      ]
     },
     "execution_count": 105,
     "metadata": {},
     "output_type": "execute_result"
    }
   ],
   "source": [
    "date.split(\"-\")"
   ]
  },
  {
   "cell_type": "code",
   "execution_count": null,
   "id": "cfd7309b-7652-4765-8e5f-1c432fd41316",
   "metadata": {},
   "outputs": [],
   "source": []
  }
 ],
 "metadata": {
  "kernelspec": {
   "display_name": "Python 3 (ipykernel)",
   "language": "python",
   "name": "python3"
  },
  "language_info": {
   "codemirror_mode": {
    "name": "ipython",
    "version": 3
   },
   "file_extension": ".py",
   "mimetype": "text/x-python",
   "name": "python",
   "nbconvert_exporter": "python",
   "pygments_lexer": "ipython3",
   "version": "3.12.7"
  }
 },
 "nbformat": 4,
 "nbformat_minor": 5
}
