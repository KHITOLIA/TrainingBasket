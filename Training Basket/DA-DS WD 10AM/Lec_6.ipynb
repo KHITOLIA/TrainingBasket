{
 "cells": [
  {
   "cell_type": "code",
   "execution_count": 2,
   "id": "99792f19-c330-4c50-b1ac-b8974c371bfd",
   "metadata": {},
   "outputs": [],
   "source": [
    "st = '   training basket   '"
   ]
  },
  {
   "cell_type": "code",
   "execution_count": 3,
   "id": "ab93ccc9-26aa-47de-8d11-6670649e3e49",
   "metadata": {},
   "outputs": [
    {
     "data": {
      "text/plain": [
       "'training basket'"
      ]
     },
     "execution_count": 3,
     "metadata": {},
     "output_type": "execute_result"
    }
   ],
   "source": [
    "st.strip()"
   ]
  },
  {
   "cell_type": "code",
   "execution_count": 4,
   "id": "f1b112e6-ae59-4d13-9ca0-771f7209ddc1",
   "metadata": {},
   "outputs": [
    {
     "data": {
      "text/plain": [
       "['training', 'basket']"
      ]
     },
     "execution_count": 4,
     "metadata": {},
     "output_type": "execute_result"
    }
   ],
   "source": [
    "st.split()"
   ]
  },
  {
   "cell_type": "code",
   "execution_count": 6,
   "id": "c58e2764-90fd-4711-b81f-2521e7526f89",
   "metadata": {},
   "outputs": [
    {
     "data": {
      "text/plain": [
       "'   TRAINING BASKET   '"
      ]
     },
     "execution_count": 6,
     "metadata": {},
     "output_type": "execute_result"
    }
   ],
   "source": [
    "st.upper()"
   ]
  },
  {
   "cell_type": "code",
   "execution_count": 7,
   "id": "11ba6f53-aee6-43fd-abdf-6524cb4d495e",
   "metadata": {},
   "outputs": [
    {
     "data": {
      "text/plain": [
       "'   training basket   '"
      ]
     },
     "execution_count": 7,
     "metadata": {},
     "output_type": "execute_result"
    }
   ],
   "source": [
    "st.lower()"
   ]
  },
  {
   "cell_type": "code",
   "execution_count": 8,
   "id": "91e3b33b-bf7d-4a6e-be52-e7f7e9ca9fb2",
   "metadata": {},
   "outputs": [
    {
     "data": {
      "text/plain": [
       "'   raining basket   '"
      ]
     },
     "execution_count": 8,
     "metadata": {},
     "output_type": "execute_result"
    }
   ],
   "source": [
    "st.replace('train', 'rain')"
   ]
  },
  {
   "cell_type": "code",
   "execution_count": 9,
   "id": "4ae7a849-5ade-41d9-9c47-af00de528446",
   "metadata": {},
   "outputs": [],
   "source": [
    "st = st.strip()"
   ]
  },
  {
   "cell_type": "code",
   "execution_count": 11,
   "id": "fc7e515c-dc05-415e-ae01-8d70346db9e8",
   "metadata": {},
   "outputs": [
    {
     "data": {
      "text/plain": [
       "'Training basket'"
      ]
     },
     "execution_count": 11,
     "metadata": {},
     "output_type": "execute_result"
    }
   ],
   "source": [
    "st.capitalize()"
   ]
  },
  {
   "cell_type": "code",
   "execution_count": 12,
   "id": "92074626-341c-48fc-b5f0-77214210febb",
   "metadata": {},
   "outputs": [
    {
     "data": {
      "text/plain": [
       "'training basket'"
      ]
     },
     "execution_count": 12,
     "metadata": {},
     "output_type": "execute_result"
    }
   ],
   "source": [
    "st"
   ]
  },
  {
   "cell_type": "code",
   "execution_count": 13,
   "id": "8eedc88e-62cc-4ea0-a180-be8404c72ef7",
   "metadata": {},
   "outputs": [
    {
     "data": {
      "text/plain": [
       "False"
      ]
     },
     "execution_count": 13,
     "metadata": {},
     "output_type": "execute_result"
    }
   ],
   "source": [
    "st.endswith(\"s\")"
   ]
  },
  {
   "cell_type": "code",
   "execution_count": 14,
   "id": "d3088da7-4cfb-4ba1-8cf8-ba216614a8ea",
   "metadata": {},
   "outputs": [
    {
     "data": {
      "text/plain": [
       "True"
      ]
     },
     "execution_count": 14,
     "metadata": {},
     "output_type": "execute_result"
    }
   ],
   "source": [
    "st.endswith('t')"
   ]
  },
  {
   "cell_type": "code",
   "execution_count": 15,
   "id": "9345dcb5-8801-441c-bc35-a7d006a78dd1",
   "metadata": {},
   "outputs": [
    {
     "data": {
      "text/plain": [
       "True"
      ]
     },
     "execution_count": 15,
     "metadata": {},
     "output_type": "execute_result"
    }
   ],
   "source": [
    "st.endswith('et')"
   ]
  },
  {
   "cell_type": "code",
   "execution_count": 17,
   "id": "7f537336-2988-4be2-9921-8f3217a67d30",
   "metadata": {},
   "outputs": [
    {
     "data": {
      "text/plain": [
       "True"
      ]
     },
     "execution_count": 17,
     "metadata": {},
     "output_type": "execute_result"
    }
   ],
   "source": [
    "st.endswith(\"ket\")"
   ]
  },
  {
   "cell_type": "code",
   "execution_count": 18,
   "id": "87caeb88-1c59-4e5f-a75d-3c184792c702",
   "metadata": {},
   "outputs": [
    {
     "data": {
      "text/plain": [
       "True"
      ]
     },
     "execution_count": 18,
     "metadata": {},
     "output_type": "execute_result"
    }
   ],
   "source": [
    "st.endswith(\"training basket\")"
   ]
  },
  {
   "cell_type": "code",
   "execution_count": 19,
   "id": "d2980db7-ba6c-4e4d-9306-5df105b3b860",
   "metadata": {},
   "outputs": [
    {
     "data": {
      "text/plain": [
       "True"
      ]
     },
     "execution_count": 19,
     "metadata": {},
     "output_type": "execute_result"
    }
   ],
   "source": [
    "st.startswith('t')"
   ]
  },
  {
   "cell_type": "code",
   "execution_count": 20,
   "id": "49a30479-3f33-4eca-a429-ec7ac796ee78",
   "metadata": {},
   "outputs": [
    {
     "data": {
      "text/plain": [
       "False"
      ]
     },
     "execution_count": 20,
     "metadata": {},
     "output_type": "execute_result"
    }
   ],
   "source": [
    "st.endswith('train')"
   ]
  },
  {
   "cell_type": "code",
   "execution_count": 21,
   "id": "99eb6f67-a1a0-4c14-9742-329ea4d6f982",
   "metadata": {},
   "outputs": [
    {
     "data": {
      "text/plain": [
       "'training basket'"
      ]
     },
     "execution_count": 21,
     "metadata": {},
     "output_type": "execute_result"
    }
   ],
   "source": [
    "st"
   ]
  },
  {
   "cell_type": "code",
   "execution_count": 22,
   "id": "4b527d27-060e-4f3e-af71-c3363649894d",
   "metadata": {},
   "outputs": [
    {
     "data": {
      "text/plain": [
       "1"
      ]
     },
     "execution_count": 22,
     "metadata": {},
     "output_type": "execute_result"
    }
   ],
   "source": [
    "st.count('b')"
   ]
  },
  {
   "cell_type": "code",
   "execution_count": 23,
   "id": "0aee9edc-9518-4aeb-b062-583410736984",
   "metadata": {},
   "outputs": [
    {
     "data": {
      "text/plain": [
       "1"
      ]
     },
     "execution_count": 23,
     "metadata": {},
     "output_type": "execute_result"
    }
   ],
   "source": [
    "st.count('ba')"
   ]
  },
  {
   "cell_type": "code",
   "execution_count": 25,
   "id": "9d133e44-bdd2-4a7b-87ef-6e6b41b5f509",
   "metadata": {},
   "outputs": [
    {
     "data": {
      "text/plain": [
       "0"
      ]
     },
     "execution_count": 25,
     "metadata": {},
     "output_type": "execute_result"
    }
   ],
   "source": [
    "st.count('kt')"
   ]
  },
  {
   "cell_type": "code",
   "execution_count": 27,
   "id": "fa9b71e9-ab42-4d86-9bd8-fa70683830ab",
   "metadata": {},
   "outputs": [
    {
     "data": {
      "text/plain": [
       "1"
      ]
     },
     "execution_count": 27,
     "metadata": {},
     "output_type": "execute_result"
    }
   ],
   "source": [
    "st.count('training basket')"
   ]
  },
  {
   "cell_type": "code",
   "execution_count": 28,
   "id": "cc45682c-4d1f-489d-b5e6-b6bdfae6b54c",
   "metadata": {},
   "outputs": [
    {
     "data": {
      "text/plain": [
       "3"
      ]
     },
     "execution_count": 28,
     "metadata": {},
     "output_type": "execute_result"
    }
   ],
   "source": [
    "st.index('i')"
   ]
  },
  {
   "cell_type": "code",
   "execution_count": 29,
   "id": "d54213de-1732-41d2-9cdd-970d6b57c34b",
   "metadata": {},
   "outputs": [
    {
     "data": {
      "text/plain": [
       "'i'"
      ]
     },
     "execution_count": 29,
     "metadata": {},
     "output_type": "execute_result"
    }
   ],
   "source": [
    "st[3]"
   ]
  },
  {
   "cell_type": "code",
   "execution_count": 30,
   "id": "c093ca48-bea7-4bb7-a4d7-84264c399c87",
   "metadata": {},
   "outputs": [
    {
     "data": {
      "text/plain": [
       "'i'"
      ]
     },
     "execution_count": 30,
     "metadata": {},
     "output_type": "execute_result"
    }
   ],
   "source": [
    "st[5]"
   ]
  },
  {
   "cell_type": "code",
   "execution_count": 31,
   "id": "f417cd01-69ed-43a1-9413-9262ab6695c8",
   "metadata": {},
   "outputs": [
    {
     "data": {
      "text/plain": [
       "9"
      ]
     },
     "execution_count": 31,
     "metadata": {},
     "output_type": "execute_result"
    }
   ],
   "source": [
    "st.index('ba')"
   ]
  },
  {
   "cell_type": "code",
   "execution_count": 32,
   "id": "6f54e1f4-bedf-4d69-bac8-884d1a9957c6",
   "metadata": {},
   "outputs": [],
   "source": [
    "st = 'TraINIng BaskET'"
   ]
  },
  {
   "cell_type": "code",
   "execution_count": 33,
   "id": "30a138e7-a09b-49a9-b729-823e55158856",
   "metadata": {},
   "outputs": [
    {
     "data": {
      "text/plain": [
       "'tRAiniNG bASKet'"
      ]
     },
     "execution_count": 33,
     "metadata": {},
     "output_type": "execute_result"
    }
   ],
   "source": [
    "st.swapcase()"
   ]
  },
  {
   "cell_type": "code",
   "execution_count": 35,
   "id": "a5d841d5-90f9-4933-b835-371136444eac",
   "metadata": {},
   "outputs": [],
   "source": [
    "st = st.lower()"
   ]
  },
  {
   "cell_type": "code",
   "execution_count": 36,
   "id": "254bcba9-ee58-46d8-ad61-3df0003799b0",
   "metadata": {},
   "outputs": [
    {
     "data": {
      "text/plain": [
       "'training basket'"
      ]
     },
     "execution_count": 36,
     "metadata": {},
     "output_type": "execute_result"
    }
   ],
   "source": [
    "st"
   ]
  },
  {
   "cell_type": "code",
   "execution_count": 37,
   "id": "7d59abf8-56c7-4cbd-980e-8bfa045ba71f",
   "metadata": {},
   "outputs": [
    {
     "data": {
      "text/plain": [
       "'training basket Noida'"
      ]
     },
     "execution_count": 37,
     "metadata": {},
     "output_type": "execute_result"
    }
   ],
   "source": [
    "st = st + ' Noida'\n",
    "st"
   ]
  },
  {
   "cell_type": "code",
   "execution_count": 39,
   "id": "8d148665-af7d-424e-a021-b067006b7794",
   "metadata": {},
   "outputs": [
    {
     "data": {
      "text/plain": [
       "('training ', 'b', 'asket Noida')"
      ]
     },
     "execution_count": 39,
     "metadata": {},
     "output_type": "execute_result"
    }
   ],
   "source": [
    "st.partition('b')"
   ]
  },
  {
   "cell_type": "code",
   "execution_count": 40,
   "id": "546a95fb-d66e-4c63-991f-1b2c66e98d19",
   "metadata": {},
   "outputs": [
    {
     "data": {
      "text/plain": [
       "'training basket Noida'"
      ]
     },
     "execution_count": 40,
     "metadata": {},
     "output_type": "execute_result"
    }
   ],
   "source": [
    "st"
   ]
  },
  {
   "cell_type": "code",
   "execution_count": 41,
   "id": "e74904d7-dcbc-4c3d-aa89-7804ffc92339",
   "metadata": {},
   "outputs": [
    {
     "data": {
      "text/plain": [
       "False"
      ]
     },
     "execution_count": 41,
     "metadata": {},
     "output_type": "execute_result"
    }
   ],
   "source": [
    "st.isalpha()"
   ]
  },
  {
   "cell_type": "code",
   "execution_count": 52,
   "id": "f9fb2e5a-8def-46eb-a335-1c0ea3a63e9c",
   "metadata": {},
   "outputs": [],
   "source": [
    "a = 'ad Aasdasd'"
   ]
  },
  {
   "cell_type": "code",
   "execution_count": 53,
   "id": "a452ed63-2bad-479b-b4af-ba6917354222",
   "metadata": {},
   "outputs": [
    {
     "data": {
      "text/plain": [
       "False"
      ]
     },
     "execution_count": 53,
     "metadata": {},
     "output_type": "execute_result"
    }
   ],
   "source": [
    "a.isalpha()"
   ]
  },
  {
   "cell_type": "code",
   "execution_count": 50,
   "id": "1a366961-ede3-45fe-b721-f0ff1e1c15b2",
   "metadata": {},
   "outputs": [
    {
     "data": {
      "text/plain": [
       "False"
      ]
     },
     "execution_count": 50,
     "metadata": {},
     "output_type": "execute_result"
    }
   ],
   "source": [
    "st.isnumeric()"
   ]
  },
  {
   "cell_type": "code",
   "execution_count": 51,
   "id": "c35131e3-4427-44ba-8b0b-346066ef8051",
   "metadata": {},
   "outputs": [
    {
     "data": {
      "text/plain": [
       "True"
      ]
     },
     "execution_count": 51,
     "metadata": {},
     "output_type": "execute_result"
    }
   ],
   "source": [
    "a = '1234'\n",
    "a.isnumeric()"
   ]
  },
  {
   "cell_type": "code",
   "execution_count": 54,
   "id": "9565b12a-d0ad-43be-adae-857b2834d111",
   "metadata": {},
   "outputs": [
    {
     "data": {
      "text/plain": [
       "'training basket Noida'"
      ]
     },
     "execution_count": 54,
     "metadata": {},
     "output_type": "execute_result"
    }
   ],
   "source": [
    "st"
   ]
  },
  {
   "cell_type": "code",
   "execution_count": 55,
   "id": "34ba47be-6c7a-4f71-ba5d-7b921e6f31a4",
   "metadata": {},
   "outputs": [
    {
     "data": {
      "text/plain": [
       "False"
      ]
     },
     "execution_count": 55,
     "metadata": {},
     "output_type": "execute_result"
    }
   ],
   "source": [
    "st.isdigit()"
   ]
  },
  {
   "cell_type": "code",
   "execution_count": 56,
   "id": "83e8ce83-08ae-45b3-a85a-eabfa7fbe890",
   "metadata": {},
   "outputs": [
    {
     "data": {
      "text/plain": [
       "True"
      ]
     },
     "execution_count": 56,
     "metadata": {},
     "output_type": "execute_result"
    }
   ],
   "source": [
    "a = '1234'\n",
    "a.isdigit()"
   ]
  },
  {
   "cell_type": "code",
   "execution_count": 57,
   "id": "70c1c13f-3027-4804-bff5-1e12176e7b87",
   "metadata": {},
   "outputs": [
    {
     "data": {
      "text/plain": [
       "True"
      ]
     },
     "execution_count": 57,
     "metadata": {},
     "output_type": "execute_result"
    }
   ],
   "source": [
    "st.isascii()"
   ]
  },
  {
   "cell_type": "code",
   "execution_count": 58,
   "id": "4d62c990-a7f6-4894-ac32-66693039460a",
   "metadata": {},
   "outputs": [
    {
     "data": {
      "text/plain": [
       "'training basket Noida'"
      ]
     },
     "execution_count": 58,
     "metadata": {},
     "output_type": "execute_result"
    }
   ],
   "source": [
    "st"
   ]
  },
  {
   "cell_type": "code",
   "execution_count": 59,
   "id": "2ca897e5-f6d1-4079-819f-a458df2c217e",
   "metadata": {},
   "outputs": [
    {
     "data": {
      "text/plain": [
       "False"
      ]
     },
     "execution_count": 59,
     "metadata": {},
     "output_type": "execute_result"
    }
   ],
   "source": [
    "st.islower()"
   ]
  },
  {
   "cell_type": "code",
   "execution_count": 60,
   "id": "399a622e-be35-4e7e-a14e-57c349c58a9d",
   "metadata": {},
   "outputs": [
    {
     "data": {
      "text/plain": [
       "False"
      ]
     },
     "execution_count": 60,
     "metadata": {},
     "output_type": "execute_result"
    }
   ],
   "source": [
    "st.isupper()"
   ]
  },
  {
   "cell_type": "code",
   "execution_count": 61,
   "id": "b4fe034d-368e-417f-9afd-24a329e08a9f",
   "metadata": {},
   "outputs": [],
   "source": [
    "a = 'TRASRRWS'"
   ]
  },
  {
   "cell_type": "code",
   "execution_count": 62,
   "id": "53812dfd-4ee0-4475-9dcd-8fccc664dea5",
   "metadata": {},
   "outputs": [
    {
     "data": {
      "text/plain": [
       "True"
      ]
     },
     "execution_count": 62,
     "metadata": {},
     "output_type": "execute_result"
    }
   ],
   "source": [
    "a.isupper()"
   ]
  },
  {
   "cell_type": "code",
   "execution_count": 65,
   "id": "85d291d2-c2c2-42bf-8a87-fe294badf683",
   "metadata": {},
   "outputs": [],
   "source": [
    "st = st.upper()"
   ]
  },
  {
   "cell_type": "code",
   "execution_count": 67,
   "id": "06739d9f-189f-498c-88bc-5c90bf08b27d",
   "metadata": {},
   "outputs": [
    {
     "data": {
      "text/plain": [
       "True"
      ]
     },
     "execution_count": 67,
     "metadata": {},
     "output_type": "execute_result"
    }
   ],
   "source": [
    "st.isupper()"
   ]
  },
  {
   "cell_type": "code",
   "execution_count": 73,
   "id": "84d0a509-9850-4e38-aa65-fdc6ce7919da",
   "metadata": {},
   "outputs": [
    {
     "data": {
      "text/plain": [
       "140731228239288"
      ]
     },
     "execution_count": 73,
     "metadata": {},
     "output_type": "execute_result"
    }
   ],
   "source": [
    "id(ord('a'))"
   ]
  },
  {
   "cell_type": "code",
   "execution_count": 72,
   "id": "6d1a87c0-7607-4bae-a5fe-ade313fc0b91",
   "metadata": {},
   "outputs": [
    {
     "data": {
      "text/plain": [
       "42"
      ]
     },
     "execution_count": 72,
     "metadata": {},
     "output_type": "execute_result"
    }
   ],
   "source": [
    "ord('*')"
   ]
  },
  {
   "cell_type": "code",
   "execution_count": 75,
   "id": "83dad892-6461-43fa-a4e5-50a6166e4a8d",
   "metadata": {},
   "outputs": [
    {
     "data": {
      "text/plain": [
       "73"
      ]
     },
     "execution_count": 75,
     "metadata": {},
     "output_type": "execute_result"
    }
   ],
   "source": [
    "ord(st[5])"
   ]
  },
  {
   "cell_type": "code",
   "execution_count": 76,
   "id": "2f355a1a-cc44-4768-a2d1-a72cb3487ace",
   "metadata": {},
   "outputs": [
    {
     "data": {
      "text/plain": [
       "97"
      ]
     },
     "execution_count": 76,
     "metadata": {},
     "output_type": "execute_result"
    }
   ],
   "source": [
    "ord('a')"
   ]
  },
  {
   "cell_type": "code",
   "execution_count": 77,
   "id": "027f29af-7f7d-453c-a7d2-738407436fdc",
   "metadata": {},
   "outputs": [
    {
     "data": {
      "text/plain": [
       "122"
      ]
     },
     "execution_count": 77,
     "metadata": {},
     "output_type": "execute_result"
    }
   ],
   "source": [
    "ord('z')"
   ]
  },
  {
   "cell_type": "code",
   "execution_count": 78,
   "id": "aa428bef-4a65-4ac3-ab6f-edf692ada19a",
   "metadata": {},
   "outputs": [
    {
     "data": {
      "text/plain": [
       "65"
      ]
     },
     "execution_count": 78,
     "metadata": {},
     "output_type": "execute_result"
    }
   ],
   "source": [
    "ord('A')"
   ]
  },
  {
   "cell_type": "code",
   "execution_count": 79,
   "id": "b88b5002-8488-430a-8bba-5afbdbe7ce22",
   "metadata": {},
   "outputs": [
    {
     "data": {
      "text/plain": [
       "90"
      ]
     },
     "execution_count": 79,
     "metadata": {},
     "output_type": "execute_result"
    }
   ],
   "source": [
    "ord('Z')"
   ]
  },
  {
   "cell_type": "code",
   "execution_count": 80,
   "id": "c9afad23-1bc3-44c6-bdf1-8473b47d23d0",
   "metadata": {},
   "outputs": [
    {
     "data": {
      "text/plain": [
       "97"
      ]
     },
     "execution_count": 80,
     "metadata": {},
     "output_type": "execute_result"
    }
   ],
   "source": [
    "ord('a')"
   ]
  },
  {
   "cell_type": "code",
   "execution_count": 81,
   "id": "6001e8b0-31b0-4c37-8d22-812889a2b166",
   "metadata": {},
   "outputs": [
    {
     "data": {
      "text/plain": [
       "65"
      ]
     },
     "execution_count": 81,
     "metadata": {},
     "output_type": "execute_result"
    }
   ],
   "source": [
    "ord('A')"
   ]
  },
  {
   "cell_type": "code",
   "execution_count": 87,
   "id": "c1650cf0-fede-4dab-9dbf-9d99ed086f3b",
   "metadata": {},
   "outputs": [
    {
     "data": {
      "text/plain": [
       "32"
      ]
     },
     "execution_count": 87,
     "metadata": {},
     "output_type": "execute_result"
    }
   ],
   "source": [
    "ord('a') - ord('A')"
   ]
  },
  {
   "cell_type": "code",
   "execution_count": 84,
   "id": "5181588e-8767-4680-830c-9e2157b2e753",
   "metadata": {},
   "outputs": [
    {
     "data": {
      "text/plain": [
       "65"
      ]
     },
     "execution_count": 84,
     "metadata": {},
     "output_type": "execute_result"
    }
   ],
   "source": [
    "ord('a') - 32"
   ]
  },
  {
   "cell_type": "code",
   "execution_count": 85,
   "id": "f3ce2b1f-0bfe-49cc-8b1b-5a90dbd1234c",
   "metadata": {},
   "outputs": [
    {
     "data": {
      "text/plain": [
       "97"
      ]
     },
     "execution_count": 85,
     "metadata": {},
     "output_type": "execute_result"
    }
   ],
   "source": [
    "ord('A') + 32"
   ]
  },
  {
   "cell_type": "code",
   "execution_count": 88,
   "id": "c119511c-fa44-45e8-90ff-44fe6efd4e20",
   "metadata": {},
   "outputs": [
    {
     "data": {
      "text/plain": [
       "'a'"
      ]
     },
     "execution_count": 88,
     "metadata": {},
     "output_type": "execute_result"
    }
   ],
   "source": [
    "chr(97)"
   ]
  },
  {
   "cell_type": "code",
   "execution_count": 89,
   "id": "b3c92a54-8fcf-42ab-9d57-9d20b9489f4e",
   "metadata": {},
   "outputs": [
    {
     "data": {
      "text/plain": [
       "'A'"
      ]
     },
     "execution_count": 89,
     "metadata": {},
     "output_type": "execute_result"
    }
   ],
   "source": [
    "chr(65)"
   ]
  },
  {
   "cell_type": "code",
   "execution_count": 90,
   "id": "35bd3bb8-ac4d-41db-8888-3a01c5f44e08",
   "metadata": {},
   "outputs": [
    {
     "data": {
      "text/plain": [
       "'C'"
      ]
     },
     "execution_count": 90,
     "metadata": {},
     "output_type": "execute_result"
    }
   ],
   "source": [
    "chr(ord('c') - 32)"
   ]
  },
  {
   "cell_type": "code",
   "execution_count": 91,
   "id": "5ab1ee6d-4f8e-4294-8a06-50c1f10d09a2",
   "metadata": {},
   "outputs": [
    {
     "data": {
      "text/plain": [
       "67"
      ]
     },
     "execution_count": 91,
     "metadata": {},
     "output_type": "execute_result"
    }
   ],
   "source": [
    "ord('c') - 32"
   ]
  },
  {
   "cell_type": "code",
   "execution_count": 97,
   "id": "3dc6a06c-9b5a-4eeb-9335-716728e62411",
   "metadata": {},
   "outputs": [
    {
     "data": {
      "text/plain": [
       "67"
      ]
     },
     "execution_count": 97,
     "metadata": {},
     "output_type": "execute_result"
    }
   ],
   "source": [
    "ord(chr(ord('c') - 32))"
   ]
  },
  {
   "cell_type": "code",
   "execution_count": 96,
   "id": "7c95c924-1d80-41fd-98c9-19ff782902eb",
   "metadata": {},
   "outputs": [
    {
     "data": {
      "text/plain": [
       "17"
      ]
     },
     "execution_count": 96,
     "metadata": {},
     "output_type": "execute_result"
    }
   ],
   "source": [
    "5 * (5 + 8 - 10) + 2"
   ]
  },
  {
   "cell_type": "code",
   "execution_count": 109,
   "id": "22be7b35-0105-49da-aac0-946c3b5c3da3",
   "metadata": {},
   "outputs": [
    {
     "name": "stdin",
     "output_type": "stream",
     "text": [
      "enter your fees :  30k\n"
     ]
    }
   ],
   "source": [
    "b = input(\"enter your fees : \")"
   ]
  },
  {
   "cell_type": "code",
   "execution_count": 111,
   "id": "08c74453-b6de-4b6c-b649-b13f45e50a52",
   "metadata": {},
   "outputs": [
    {
     "data": {
      "text/plain": [
       "'k'"
      ]
     },
     "execution_count": 111,
     "metadata": {},
     "output_type": "execute_result"
    }
   ],
   "source": [
    "b[-1]"
   ]
  },
  {
   "cell_type": "code",
   "execution_count": 114,
   "id": "45432ea7-aa58-4d3f-8434-da17a636dae2",
   "metadata": {},
   "outputs": [
    {
     "data": {
      "text/plain": [
       "30000"
      ]
     },
     "execution_count": 114,
     "metadata": {},
     "output_type": "execute_result"
    }
   ],
   "source": [
    "int(b[:-1])*1000"
   ]
  },
  {
   "cell_type": "code",
   "execution_count": 115,
   "id": "532aebf4-7e98-4870-88cf-79e5696c9f10",
   "metadata": {},
   "outputs": [
    {
     "name": "stdin",
     "output_type": "stream",
     "text": [
      "enter your first name :  Vishal \n",
      "enter your second name :  Baghel\n"
     ]
    }
   ],
   "source": [
    "first_name = input(\"enter your first name : \")\n",
    "second_name = input(\"enter your second name : \")"
   ]
  },
  {
   "cell_type": "code",
   "execution_count": 116,
   "id": "ae308271-52a5-425f-8ac3-ff92ccac4b81",
   "metadata": {},
   "outputs": [
    {
     "data": {
      "text/plain": [
       "'Vishal '"
      ]
     },
     "execution_count": 116,
     "metadata": {},
     "output_type": "execute_result"
    }
   ],
   "source": [
    "first_name"
   ]
  },
  {
   "cell_type": "code",
   "execution_count": 117,
   "id": "8a1fdf56-83c1-4a15-a6c8-cdc2d6b7e83e",
   "metadata": {},
   "outputs": [
    {
     "data": {
      "text/plain": [
       "'Baghel'"
      ]
     },
     "execution_count": 117,
     "metadata": {},
     "output_type": "execute_result"
    }
   ],
   "source": [
    "second_name"
   ]
  },
  {
   "cell_type": "code",
   "execution_count": 121,
   "id": "089038d6-e770-4b29-8528-15ee4316818e",
   "metadata": {},
   "outputs": [],
   "source": [
    "full_name = first_name + \" \" + second_name"
   ]
  },
  {
   "cell_type": "code",
   "execution_count": 119,
   "id": "44d6f230-93a1-4c6f-8a79-357e0b33aad2",
   "metadata": {},
   "outputs": [
    {
     "name": "stdout",
     "output_type": "stream",
     "text": [
      "Hello everyone my name is Vishal Baghel\n"
     ]
    }
   ],
   "source": [
    "print(f\"Hello everyone my name is {full_name}\")"
   ]
  },
  {
   "cell_type": "code",
   "execution_count": 126,
   "id": "c14a172a-599c-486b-82ea-b47e711d96ce",
   "metadata": {},
   "outputs": [
    {
     "name": "stdout",
     "output_type": "stream",
     "text": [
      "Vishal  Baghel\n"
     ]
    }
   ],
   "source": [
    "print(full_name)"
   ]
  },
  {
   "cell_type": "code",
   "execution_count": null,
   "id": "5d3481f0-b8ba-4341-9b0a-7811ce13409d",
   "metadata": {},
   "outputs": [],
   "source": []
  },
  {
   "cell_type": "code",
   "execution_count": null,
   "id": "e2a14764-cb4b-43fd-a7fc-645d4a4482ff",
   "metadata": {},
   "outputs": [],
   "source": []
  }
 ],
 "metadata": {
  "kernelspec": {
   "display_name": "Python 3 (ipykernel)",
   "language": "python",
   "name": "python3"
  },
  "language_info": {
   "codemirror_mode": {
    "name": "ipython",
    "version": 3
   },
   "file_extension": ".py",
   "mimetype": "text/x-python",
   "name": "python",
   "nbconvert_exporter": "python",
   "pygments_lexer": "ipython3",
   "version": "3.12.7"
  }
 },
 "nbformat": 4,
 "nbformat_minor": 5
}
