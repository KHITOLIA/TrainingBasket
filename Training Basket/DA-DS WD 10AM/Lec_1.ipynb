{
 "cells": [
  {
   "cell_type": "code",
   "execution_count": 17,
   "id": "2ebbeda1-e8da-4f95-8494-75856d8d2bad",
   "metadata": {},
   "outputs": [],
   "source": [
    "x = 4"
   ]
  },
  {
   "cell_type": "code",
   "execution_count": 18,
   "id": "82583b37-626f-42c7-8bf1-ea8e5aa06a70",
   "metadata": {},
   "outputs": [
    {
     "data": {
      "text/plain": [
       "4"
      ]
     },
     "execution_count": 18,
     "metadata": {},
     "output_type": "execute_result"
    }
   ],
   "source": [
    "x"
   ]
  },
  {
   "cell_type": "code",
   "execution_count": 19,
   "id": "404c367e-f92f-4815-96cd-f46034984435",
   "metadata": {},
   "outputs": [
    {
     "data": {
      "text/plain": [
       "140715634797080"
      ]
     },
     "execution_count": 19,
     "metadata": {},
     "output_type": "execute_result"
    }
   ],
   "source": [
    "id(x)"
   ]
  },
  {
   "cell_type": "code",
   "execution_count": 20,
   "id": "5ef226b4-94e5-47ed-93b5-6f496b04e476",
   "metadata": {},
   "outputs": [],
   "source": [
    "x = 5"
   ]
  },
  {
   "cell_type": "code",
   "execution_count": 21,
   "id": "215dc303-7781-44e8-b966-9ed589803c39",
   "metadata": {},
   "outputs": [
    {
     "data": {
      "text/plain": [
       "5"
      ]
     },
     "execution_count": 21,
     "metadata": {},
     "output_type": "execute_result"
    }
   ],
   "source": [
    "x"
   ]
  },
  {
   "cell_type": "code",
   "execution_count": 22,
   "id": "492c420e-26c1-4b23-a0bf-6123469d901c",
   "metadata": {},
   "outputs": [
    {
     "data": {
      "text/plain": [
       "140715634797112"
      ]
     },
     "execution_count": 22,
     "metadata": {},
     "output_type": "execute_result"
    }
   ],
   "source": [
    "id(x)"
   ]
  },
  {
   "cell_type": "code",
   "execution_count": 23,
   "id": "8d10eec3-d785-4313-b753-7a5c12497051",
   "metadata": {},
   "outputs": [
    {
     "data": {
      "text/plain": [
       "5"
      ]
     },
     "execution_count": 23,
     "metadata": {},
     "output_type": "execute_result"
    }
   ],
   "source": [
    "x"
   ]
  },
  {
   "cell_type": "code",
   "execution_count": 24,
   "id": "ae77cfa6-2b77-41db-a4bd-94af391f4658",
   "metadata": {},
   "outputs": [
    {
     "data": {
      "text/plain": [
       "int"
      ]
     },
     "execution_count": 24,
     "metadata": {},
     "output_type": "execute_result"
    }
   ],
   "source": [
    "type(x)"
   ]
  },
  {
   "cell_type": "code",
   "execution_count": 25,
   "id": "08df8e4a-2e66-4f26-af3b-f524168b4fba",
   "metadata": {},
   "outputs": [],
   "source": [
    "a = '5'"
   ]
  },
  {
   "cell_type": "code",
   "execution_count": 26,
   "id": "9b2ea78c-0967-4da9-9a28-bc518e36e27c",
   "metadata": {},
   "outputs": [
    {
     "data": {
      "text/plain": [
       "str"
      ]
     },
     "execution_count": 26,
     "metadata": {},
     "output_type": "execute_result"
    }
   ],
   "source": [
    "type(a)"
   ]
  },
  {
   "cell_type": "code",
   "execution_count": 30,
   "id": "d34fc244-5bc4-4359-8551-326c38c17bec",
   "metadata": {},
   "outputs": [],
   "source": [
    "a = '5T*/!@()'"
   ]
  },
  {
   "cell_type": "code",
   "execution_count": 31,
   "id": "79e6b18b-c1d7-406f-b530-f0523a1b44fc",
   "metadata": {},
   "outputs": [
    {
     "data": {
      "text/plain": [
       "str"
      ]
     },
     "execution_count": 31,
     "metadata": {},
     "output_type": "execute_result"
    }
   ],
   "source": [
    "type(a)"
   ]
  },
  {
   "cell_type": "code",
   "execution_count": 32,
   "id": "5670ee6a-89bc-4bc4-b20a-ab6e7596ef0b",
   "metadata": {},
   "outputs": [
    {
     "data": {
      "text/plain": [
       "'5T*/!@()'"
      ]
     },
     "execution_count": 32,
     "metadata": {},
     "output_type": "execute_result"
    }
   ],
   "source": [
    "a"
   ]
  },
  {
   "cell_type": "code",
   "execution_count": 33,
   "id": "8a18c386-d731-4e97-8a70-bb33a490796e",
   "metadata": {},
   "outputs": [
    {
     "data": {
      "text/plain": [
       "str"
      ]
     },
     "execution_count": 33,
     "metadata": {},
     "output_type": "execute_result"
    }
   ],
   "source": [
    "type(a)"
   ]
  },
  {
   "cell_type": "code",
   "execution_count": 34,
   "id": "f0400030-c554-4811-b471-f97aa544fe24",
   "metadata": {},
   "outputs": [
    {
     "data": {
      "text/plain": [
       "\u001b[1;31mInit signature:\u001b[0m \u001b[0mtype\u001b[0m\u001b[1;33m(\u001b[0m\u001b[0mself\u001b[0m\u001b[1;33m,\u001b[0m \u001b[1;33m/\u001b[0m\u001b[1;33m,\u001b[0m \u001b[1;33m*\u001b[0m\u001b[0margs\u001b[0m\u001b[1;33m,\u001b[0m \u001b[1;33m**\u001b[0m\u001b[0mkwargs\u001b[0m\u001b[1;33m)\u001b[0m\u001b[1;33m\u001b[0m\u001b[1;33m\u001b[0m\u001b[0m\n",
       "\u001b[1;31mDocstring:\u001b[0m     \n",
       "type(object) -> the object's type\n",
       "type(name, bases, dict, **kwds) -> a new type\n",
       "\u001b[1;31mType:\u001b[0m           type\n",
       "\u001b[1;31mSubclasses:\u001b[0m     ABCMeta, EnumType, _AnyMeta, NamedTupleMeta, _TypedDictMeta, _DeprecatedType, _ABC, MetaHasDescriptors, PyCStructType, UnionType, ..."
      ]
     },
     "metadata": {},
     "output_type": "display_data"
    }
   ],
   "source": [
    "type?"
   ]
  },
  {
   "cell_type": "code",
   "execution_count": 35,
   "id": "5ad79087-98bf-4171-8603-c9af69842610",
   "metadata": {},
   "outputs": [
    {
     "data": {
      "text/plain": [
       "5"
      ]
     },
     "execution_count": 35,
     "metadata": {},
     "output_type": "execute_result"
    }
   ],
   "source": [
    "x"
   ]
  },
  {
   "cell_type": "code",
   "execution_count": 36,
   "id": "26dc91c2-f14d-4d4f-872c-a312014650f5",
   "metadata": {},
   "outputs": [
    {
     "data": {
      "text/plain": [
       "int"
      ]
     },
     "execution_count": 36,
     "metadata": {},
     "output_type": "execute_result"
    }
   ],
   "source": [
    "type(x)"
   ]
  },
  {
   "cell_type": "code",
   "execution_count": 38,
   "id": "dee409e1-00c9-44fa-874a-1b8a4022dcbb",
   "metadata": {},
   "outputs": [],
   "source": [
    "c = 12"
   ]
  },
  {
   "cell_type": "code",
   "execution_count": 39,
   "id": "37c6abe6-d8a8-4b54-ad50-e23c7272694b",
   "metadata": {},
   "outputs": [
    {
     "data": {
      "text/plain": [
       "12"
      ]
     },
     "execution_count": 39,
     "metadata": {},
     "output_type": "execute_result"
    }
   ],
   "source": [
    "c"
   ]
  },
  {
   "cell_type": "code",
   "execution_count": 40,
   "id": "a580e6d7-e2da-4da4-923d-4d62008e9223",
   "metadata": {},
   "outputs": [],
   "source": [
    "c = 14"
   ]
  },
  {
   "cell_type": "code",
   "execution_count": 41,
   "id": "b6bebcfa-4f8e-428d-8f3d-123e6a468851",
   "metadata": {},
   "outputs": [
    {
     "data": {
      "text/plain": [
       "14"
      ]
     },
     "execution_count": 41,
     "metadata": {},
     "output_type": "execute_result"
    }
   ],
   "source": [
    "c"
   ]
  },
  {
   "cell_type": "code",
   "execution_count": 42,
   "id": "90f752dd-35d2-4d63-aca9-8a075348d6c4",
   "metadata": {},
   "outputs": [],
   "source": [
    "c = 14.0"
   ]
  },
  {
   "cell_type": "code",
   "execution_count": 43,
   "id": "02e3581a-bd8d-48d5-99b1-2600131163e7",
   "metadata": {},
   "outputs": [
    {
     "data": {
      "text/plain": [
       "float"
      ]
     },
     "execution_count": 43,
     "metadata": {},
     "output_type": "execute_result"
    }
   ],
   "source": [
    "type(c)"
   ]
  },
  {
   "cell_type": "code",
   "execution_count": 44,
   "id": "8336a8a2-3af1-459d-adff-09759b536f41",
   "metadata": {},
   "outputs": [],
   "source": [
    "c = 14.9"
   ]
  },
  {
   "cell_type": "code",
   "execution_count": 45,
   "id": "73eab8eb-6cbb-40f6-a289-676edcec5903",
   "metadata": {},
   "outputs": [
    {
     "data": {
      "text/plain": [
       "float"
      ]
     },
     "execution_count": 45,
     "metadata": {},
     "output_type": "execute_result"
    }
   ],
   "source": [
    "type(c)"
   ]
  },
  {
   "cell_type": "code",
   "execution_count": 46,
   "id": "8da6b952-42cf-4479-afb7-e5db9a545225",
   "metadata": {},
   "outputs": [
    {
     "data": {
      "text/plain": [
       "5"
      ]
     },
     "execution_count": 46,
     "metadata": {},
     "output_type": "execute_result"
    }
   ],
   "source": [
    "x "
   ]
  },
  {
   "cell_type": "code",
   "execution_count": 47,
   "id": "0edcdfd6-bcf7-493f-bea7-022ab05a616f",
   "metadata": {},
   "outputs": [
    {
     "data": {
      "text/plain": [
       "int"
      ]
     },
     "execution_count": 47,
     "metadata": {},
     "output_type": "execute_result"
    }
   ],
   "source": [
    "type(x)"
   ]
  },
  {
   "cell_type": "code",
   "execution_count": 48,
   "id": "940b572e-e32b-48e8-be15-07719dd35b09",
   "metadata": {},
   "outputs": [],
   "source": [
    "x = 5.5"
   ]
  },
  {
   "cell_type": "code",
   "execution_count": 49,
   "id": "4f367845-65b8-4989-a72a-f25cc5f5763c",
   "metadata": {},
   "outputs": [
    {
     "data": {
      "text/plain": [
       "float"
      ]
     },
     "execution_count": 49,
     "metadata": {},
     "output_type": "execute_result"
    }
   ],
   "source": [
    "type(x)"
   ]
  },
  {
   "cell_type": "code",
   "execution_count": 50,
   "id": "5a973934-359d-443f-9472-c0566c416682",
   "metadata": {},
   "outputs": [
    {
     "data": {
      "text/plain": [
       "str"
      ]
     },
     "execution_count": 50,
     "metadata": {},
     "output_type": "execute_result"
    }
   ],
   "source": [
    "x = '5.5'\n",
    "type(x)"
   ]
  },
  {
   "cell_type": "code",
   "execution_count": 51,
   "id": "c58d758a-6306-4238-9c64-048e5bf031b5",
   "metadata": {},
   "outputs": [],
   "source": [
    "x = False"
   ]
  },
  {
   "cell_type": "code",
   "execution_count": 52,
   "id": "0f82c6fe-76a6-424d-8d2f-9c8e0bba1bbc",
   "metadata": {},
   "outputs": [
    {
     "data": {
      "text/plain": [
       "False"
      ]
     },
     "execution_count": 52,
     "metadata": {},
     "output_type": "execute_result"
    }
   ],
   "source": [
    "x"
   ]
  },
  {
   "cell_type": "code",
   "execution_count": 53,
   "id": "c0164ed9-ff99-4a80-8fa0-dbf86c7d8cd8",
   "metadata": {},
   "outputs": [
    {
     "data": {
      "text/plain": [
       "bool"
      ]
     },
     "execution_count": 53,
     "metadata": {},
     "output_type": "execute_result"
    }
   ],
   "source": [
    "type(x)"
   ]
  },
  {
   "cell_type": "code",
   "execution_count": 54,
   "id": "2c6042ef-0323-494c-b8f8-5131c3c987f5",
   "metadata": {},
   "outputs": [
    {
     "data": {
      "text/plain": [
       "False"
      ]
     },
     "execution_count": 54,
     "metadata": {},
     "output_type": "execute_result"
    }
   ],
   "source": [
    "x"
   ]
  },
  {
   "cell_type": "code",
   "execution_count": 55,
   "id": "b1b473c6-e7ec-43ba-be2a-6b30ab8a663d",
   "metadata": {},
   "outputs": [],
   "source": [
    "x = True"
   ]
  },
  {
   "cell_type": "code",
   "execution_count": 56,
   "id": "757d6152-3a7e-48ff-b573-b4080545745b",
   "metadata": {},
   "outputs": [
    {
     "data": {
      "text/plain": [
       "bool"
      ]
     },
     "execution_count": 56,
     "metadata": {},
     "output_type": "execute_result"
    }
   ],
   "source": [
    "type(x)"
   ]
  },
  {
   "cell_type": "code",
   "execution_count": 57,
   "id": "15aedba1-8867-4b1b-84af-574476caec23",
   "metadata": {},
   "outputs": [
    {
     "ename": "SyntaxError",
     "evalue": "invalid decimal literal (3721479238.py, line 1)",
     "output_type": "error",
     "traceback": [
      "\u001b[1;36m  Cell \u001b[1;32mIn[57], line 1\u001b[1;36m\u001b[0m\n\u001b[1;33m    1x = 234\u001b[0m\n\u001b[1;37m    ^\u001b[0m\n\u001b[1;31mSyntaxError\u001b[0m\u001b[1;31m:\u001b[0m invalid decimal literal\n"
     ]
    }
   ],
   "source": [
    "1x = 234"
   ]
  },
  {
   "cell_type": "code",
   "execution_count": 58,
   "id": "0242ece2-7cca-430c-82a9-93a09179f4b8",
   "metadata": {},
   "outputs": [],
   "source": [
    "x = 234"
   ]
  },
  {
   "cell_type": "code",
   "execution_count": 59,
   "id": "501cd93f-b81f-4f1d-afbc-10832bd84c7f",
   "metadata": {},
   "outputs": [],
   "source": [
    "x1 = 234"
   ]
  },
  {
   "cell_type": "code",
   "execution_count": 60,
   "id": "1d5fb58e-bc11-4686-8e1e-4d81a77ca0f3",
   "metadata": {},
   "outputs": [],
   "source": [
    "_ = 234"
   ]
  },
  {
   "cell_type": "code",
   "execution_count": 61,
   "id": "b618649d-6f66-4dbc-8208-0dbf6aa23e8d",
   "metadata": {},
   "outputs": [
    {
     "data": {
      "text/plain": [
       "234"
      ]
     },
     "execution_count": 61,
     "metadata": {},
     "output_type": "execute_result"
    }
   ],
   "source": [
    "_"
   ]
  },
  {
   "cell_type": "code",
   "execution_count": 62,
   "id": "f4fe0029-b73c-4cd8-81f6-5592ae70495a",
   "metadata": {},
   "outputs": [
    {
     "data": {
      "text/plain": [
       "int"
      ]
     },
     "execution_count": 62,
     "metadata": {},
     "output_type": "execute_result"
    }
   ],
   "source": [
    "type(_)"
   ]
  },
  {
   "cell_type": "code",
   "execution_count": 63,
   "id": "f1dfcf98-6779-4e06-a88b-c1c52f9cef9e",
   "metadata": {},
   "outputs": [],
   "source": [
    "_x = 234"
   ]
  },
  {
   "cell_type": "code",
   "execution_count": 73,
   "id": "14da94fd-3c8a-4a28-85e3-308c5b775873",
   "metadata": {},
   "outputs": [],
   "source": [
    "surya_pratap = 'DATA ANALYTICS'"
   ]
  },
  {
   "cell_type": "code",
   "execution_count": 74,
   "id": "469b6e72-19f5-498c-be69-2efdc842529f",
   "metadata": {},
   "outputs": [],
   "source": [
    "_X2_3 = 23423"
   ]
  },
  {
   "cell_type": "code",
   "execution_count": 75,
   "id": "d20072e2-585e-4581-a490-766572e6bc22",
   "metadata": {},
   "outputs": [
    {
     "data": {
      "text/plain": [
       "int"
      ]
     },
     "execution_count": 75,
     "metadata": {},
     "output_type": "execute_result"
    }
   ],
   "source": [
    "type(_X2_3)"
   ]
  },
  {
   "cell_type": "code",
   "execution_count": 81,
   "id": "f91b5107-1ac2-43f9-9106-7bdd8dd17b3e",
   "metadata": {},
   "outputs": [],
   "source": [
    "nachiketa = 'now you got the concept'"
   ]
  },
  {
   "cell_type": "code",
   "execution_count": 77,
   "id": "dadb0d44-50f3-4ca9-a215-e7a4b809aab0",
   "metadata": {},
   "outputs": [
    {
     "data": {
      "text/plain": [
       "str"
      ]
     },
     "execution_count": 77,
     "metadata": {},
     "output_type": "execute_result"
    }
   ],
   "source": [
    "type(nachiketa)"
   ]
  },
  {
   "cell_type": "code",
   "execution_count": 78,
   "id": "13c3d318-0daa-431c-a8b2-e3a48138e6a8",
   "metadata": {},
   "outputs": [
    {
     "data": {
      "text/plain": [
       "'now you got the concept'"
      ]
     },
     "execution_count": 78,
     "metadata": {},
     "output_type": "execute_result"
    }
   ],
   "source": [
    "nachiketa"
   ]
  },
  {
   "cell_type": "code",
   "execution_count": 83,
   "id": "621e5eac-1b82-4b36-9bf5-c8619b8e2c60",
   "metadata": {},
   "outputs": [],
   "source": [
    "x = True"
   ]
  },
  {
   "cell_type": "code",
   "execution_count": 84,
   "id": "e271bf83-8000-4b05-be44-7ecceb1c5025",
   "metadata": {},
   "outputs": [
    {
     "ename": "NameError",
     "evalue": "name 'true' is not defined",
     "output_type": "error",
     "traceback": [
      "\u001b[1;31m---------------------------------------------------------------------------\u001b[0m",
      "\u001b[1;31mNameError\u001b[0m                                 Traceback (most recent call last)",
      "Cell \u001b[1;32mIn[84], line 1\u001b[0m\n\u001b[1;32m----> 1\u001b[0m x \u001b[38;5;241m=\u001b[39m true\n",
      "\u001b[1;31mNameError\u001b[0m: name 'true' is not defined"
     ]
    }
   ],
   "source": [
    "x = true"
   ]
  },
  {
   "cell_type": "code",
   "execution_count": 85,
   "id": "db0e0433-1908-4ae3-8983-6561b3019193",
   "metadata": {},
   "outputs": [
    {
     "ename": "NameError",
     "evalue": "name 'true' is not defined",
     "output_type": "error",
     "traceback": [
      "\u001b[1;31m---------------------------------------------------------------------------\u001b[0m",
      "\u001b[1;31mNameError\u001b[0m                                 Traceback (most recent call last)",
      "Cell \u001b[1;32mIn[85], line 1\u001b[0m\n\u001b[1;32m----> 1\u001b[0m true\n",
      "\u001b[1;31mNameError\u001b[0m: name 'true' is not defined"
     ]
    }
   ],
   "source": [
    "true"
   ]
  },
  {
   "cell_type": "code",
   "execution_count": 86,
   "id": "3affcfd4-ecf9-48d4-acd8-a1af096a42cc",
   "metadata": {},
   "outputs": [
    {
     "data": {
      "text/plain": [
       "14.9"
      ]
     },
     "execution_count": 86,
     "metadata": {},
     "output_type": "execute_result"
    }
   ],
   "source": [
    "c"
   ]
  },
  {
   "cell_type": "code",
   "execution_count": 87,
   "id": "4a921f8b-2955-4ca4-8814-9edb26b0f00a",
   "metadata": {},
   "outputs": [
    {
     "ename": "NameError",
     "evalue": "name 'd' is not defined",
     "output_type": "error",
     "traceback": [
      "\u001b[1;31m---------------------------------------------------------------------------\u001b[0m",
      "\u001b[1;31mNameError\u001b[0m                                 Traceback (most recent call last)",
      "Cell \u001b[1;32mIn[87], line 1\u001b[0m\n\u001b[1;32m----> 1\u001b[0m d\n",
      "\u001b[1;31mNameError\u001b[0m: name 'd' is not defined"
     ]
    }
   ],
   "source": [
    "d"
   ]
  },
  {
   "cell_type": "code",
   "execution_count": 88,
   "id": "4984d6af-fddd-4d54-ae77-5f1e1bf11883",
   "metadata": {},
   "outputs": [
    {
     "data": {
      "text/plain": [
       "'5T*/!@()'"
      ]
     },
     "execution_count": 88,
     "metadata": {},
     "output_type": "execute_result"
    }
   ],
   "source": [
    "a"
   ]
  },
  {
   "cell_type": "code",
   "execution_count": 89,
   "id": "9f99a8f6-52db-4042-92c9-082e931e5b7e",
   "metadata": {},
   "outputs": [
    {
     "data": {
      "text/plain": [
       "True"
      ]
     },
     "execution_count": 89,
     "metadata": {},
     "output_type": "execute_result"
    }
   ],
   "source": [
    "x"
   ]
  },
  {
   "cell_type": "code",
   "execution_count": 90,
   "id": "be198441-6519-4b44-9394-75265054e5c6",
   "metadata": {},
   "outputs": [
    {
     "data": {
      "text/plain": [
       "14.9"
      ]
     },
     "execution_count": 90,
     "metadata": {},
     "output_type": "execute_result"
    }
   ],
   "source": [
    "c"
   ]
  },
  {
   "cell_type": "code",
   "execution_count": 91,
   "id": "ba35e5c3-2102-404e-8116-f0047d2cca0b",
   "metadata": {},
   "outputs": [],
   "source": [
    "x = c"
   ]
  },
  {
   "cell_type": "code",
   "execution_count": 92,
   "id": "354c9f19-a35a-43cf-ade7-24d145af11f6",
   "metadata": {},
   "outputs": [
    {
     "data": {
      "text/plain": [
       "14.9"
      ]
     },
     "execution_count": 92,
     "metadata": {},
     "output_type": "execute_result"
    }
   ],
   "source": [
    "x"
   ]
  },
  {
   "cell_type": "code",
   "execution_count": 93,
   "id": "7ac98710-8a63-4d98-b50b-a8be45f5154b",
   "metadata": {},
   "outputs": [],
   "source": [
    "d = 10"
   ]
  },
  {
   "cell_type": "code",
   "execution_count": 94,
   "id": "93bebb37-2819-4bf9-a128-5118c12cb343",
   "metadata": {},
   "outputs": [],
   "source": [
    "c = d"
   ]
  },
  {
   "cell_type": "code",
   "execution_count": 95,
   "id": "93020afa-cc75-4fe4-ad45-5e95aa35860e",
   "metadata": {},
   "outputs": [
    {
     "data": {
      "text/plain": [
       "10"
      ]
     },
     "execution_count": 95,
     "metadata": {},
     "output_type": "execute_result"
    }
   ],
   "source": [
    "c"
   ]
  },
  {
   "cell_type": "code",
   "execution_count": 96,
   "id": "43a81aed-441f-49a4-a443-21d1d29134da",
   "metadata": {},
   "outputs": [
    {
     "data": {
      "text/plain": [
       "14.9"
      ]
     },
     "execution_count": 96,
     "metadata": {},
     "output_type": "execute_result"
    }
   ],
   "source": [
    "x"
   ]
  },
  {
   "cell_type": "code",
   "execution_count": 101,
   "id": "697168e6-f5ec-424b-b39b-3a81812f7bea",
   "metadata": {},
   "outputs": [
    {
     "data": {
      "text/plain": [
       "14.9"
      ]
     },
     "execution_count": 101,
     "metadata": {},
     "output_type": "execute_result"
    }
   ],
   "source": [
    "x"
   ]
  },
  {
   "cell_type": "code",
   "execution_count": 102,
   "id": "fc6beb14-4ec1-4ab2-b0a7-2d561d5cf4ec",
   "metadata": {},
   "outputs": [
    {
     "data": {
      "text/plain": [
       "10"
      ]
     },
     "execution_count": 102,
     "metadata": {},
     "output_type": "execute_result"
    }
   ],
   "source": [
    "c"
   ]
  },
  {
   "cell_type": "code",
   "execution_count": 103,
   "id": "f481e693-110c-4ab6-9147-929bd731f494",
   "metadata": {},
   "outputs": [],
   "source": [
    "d = 11"
   ]
  },
  {
   "cell_type": "code",
   "execution_count": 112,
   "id": "65e2c5f3-980d-41c0-9802-18366a176e67",
   "metadata": {},
   "outputs": [],
   "source": [
    "x = c"
   ]
  },
  {
   "cell_type": "code",
   "execution_count": 113,
   "id": "dd8d536c-13fb-45d0-9e86-40deacaea412",
   "metadata": {},
   "outputs": [],
   "source": [
    "c = d"
   ]
  },
  {
   "cell_type": "code",
   "execution_count": 114,
   "id": "262dd5ce-882f-41e3-8f82-e17f0386e845",
   "metadata": {},
   "outputs": [],
   "source": [
    "x = c"
   ]
  },
  {
   "cell_type": "code",
   "execution_count": 115,
   "id": "f4117162-1749-450b-ae7a-729f9f2c042f",
   "metadata": {},
   "outputs": [
    {
     "data": {
      "text/plain": [
       "11"
      ]
     },
     "execution_count": 115,
     "metadata": {},
     "output_type": "execute_result"
    }
   ],
   "source": [
    "x"
   ]
  },
  {
   "cell_type": "code",
   "execution_count": null,
   "id": "0b312800-0d2e-4bf3-a101-d6ba31e6147f",
   "metadata": {},
   "outputs": [],
   "source": []
  },
  {
   "cell_type": "code",
   "execution_count": 119,
   "id": "7acdf9a7-be33-4cc0-acdd-c494dbe4d3ed",
   "metadata": {},
   "outputs": [],
   "source": [
    "x = 1000\n",
    "d = x\n",
    "x = d"
   ]
  },
  {
   "cell_type": "code",
   "execution_count": 120,
   "id": "3086a635-641b-4251-83e7-153b79ef14d8",
   "metadata": {},
   "outputs": [
    {
     "data": {
      "text/plain": [
       "1000"
      ]
     },
     "execution_count": 120,
     "metadata": {},
     "output_type": "execute_result"
    }
   ],
   "source": [
    "x"
   ]
  },
  {
   "cell_type": "code",
   "execution_count": 121,
   "id": "9aa0bd47-d4de-4003-9d3c-0f2a329315fe",
   "metadata": {},
   "outputs": [
    {
     "data": {
      "text/plain": [
       "1000"
      ]
     },
     "execution_count": 121,
     "metadata": {},
     "output_type": "execute_result"
    }
   ],
   "source": [
    "d"
   ]
  },
  {
   "cell_type": "code",
   "execution_count": 109,
   "id": "4af0b426-1f15-4f2c-bf30-b4bbfc69e7d8",
   "metadata": {},
   "outputs": [
    {
     "data": {
      "text/plain": [
       "10"
      ]
     },
     "execution_count": 109,
     "metadata": {},
     "output_type": "execute_result"
    }
   ],
   "source": [
    "x"
   ]
  },
  {
   "cell_type": "code",
   "execution_count": null,
   "id": "0b422983-2897-408f-86ec-8bea88349320",
   "metadata": {},
   "outputs": [],
   "source": []
  }
 ],
 "metadata": {
  "kernelspec": {
   "display_name": "Python 3 (ipykernel)",
   "language": "python",
   "name": "python3"
  },
  "language_info": {
   "codemirror_mode": {
    "name": "ipython",
    "version": 3
   },
   "file_extension": ".py",
   "mimetype": "text/x-python",
   "name": "python",
   "nbconvert_exporter": "python",
   "pygments_lexer": "ipython3",
   "version": "3.12.7"
  }
 },
 "nbformat": 4,
 "nbformat_minor": 5
}
