{
 "cells": [
  {
   "cell_type": "code",
   "execution_count": 3,
   "id": "3b8061be-b452-4fae-97a4-34fb302bb3d9",
   "metadata": {},
   "outputs": [
    {
     "name": "stdin",
     "output_type": "stream",
     "text": [
      "enter the number =  27\n"
     ]
    },
    {
     "name": "stdout",
     "output_type": "stream",
     "text": [
      "odd number\n"
     ]
    }
   ],
   "source": [
    "n = float(input(\"enter the number = \"))\n",
    "if n%2 == 0:\n",
    "    print(\"Even Number\")\n",
    "else:\n",
    "    print(\"odd number\")"
   ]
  },
  {
   "cell_type": "code",
   "execution_count": 5,
   "id": "4c690af0-4671-4689-a543-82d4b952542f",
   "metadata": {},
   "outputs": [
    {
     "name": "stdin",
     "output_type": "stream",
     "text": [
      "enter the value of a =  90\n",
      "enter the number of b =  56\n"
     ]
    },
    {
     "name": "stdout",
     "output_type": "stream",
     "text": [
      "90.0 is greater than 56.0\n"
     ]
    }
   ],
   "source": [
    "a = float(input(\"enter the value of a = \"))\n",
    "b = float(input(\"enter the number of b = \"))\n",
    "if a>b:\n",
    "    print(f\"{a} is greater than {b}\")\n",
    "else:\n",
    "    print(f\"{b} is greater than {a}\")"
   ]
  },
  {
   "cell_type": "code",
   "execution_count": 11,
   "id": "b8e4fd06-5a86-4df2-81df-4cbad1285616",
   "metadata": {},
   "outputs": [],
   "source": [
    "# Q1 : a, b, c find the greatest of all time(GOAT)"
   ]
  },
  {
   "cell_type": "code",
   "execution_count": 8,
   "id": "eb4add96-e15a-4ff2-80d2-a0c329070a1c",
   "metadata": {},
   "outputs": [],
   "source": [
    "a , b, c = 2, 3, 4"
   ]
  },
  {
   "cell_type": "code",
   "execution_count": 9,
   "id": "21e45f77-4504-4472-ba2d-841064d24c62",
   "metadata": {},
   "outputs": [
    {
     "name": "stdout",
     "output_type": "stream",
     "text": [
      "C is GOAT\n"
     ]
    }
   ],
   "source": [
    "if a>b and a>c:\n",
    "    print(\"A is GOAT\")\n",
    "elif b>a and b>c:\n",
    "    print(\"B is GOAT\")\n",
    "else:\n",
    "    print(\"C is GOAT\")"
   ]
  },
  {
   "cell_type": "code",
   "execution_count": 12,
   "id": "d47fccfd-7b6d-43d5-a944-242be33f160b",
   "metadata": {},
   "outputs": [],
   "source": [
    "# Q2 : check whether 3 sides is making a triangle or not"
   ]
  },
  {
   "cell_type": "code",
   "execution_count": 17,
   "id": "251f35b0-5139-4147-9eac-58752c5dede2",
   "metadata": {},
   "outputs": [],
   "source": [
    "a = 3\n",
    "b = 4\n",
    "c = 5"
   ]
  },
  {
   "cell_type": "code",
   "execution_count": 20,
   "id": "a7fd2cf4-65bf-4edf-9004-33ab6d4ccf98",
   "metadata": {},
   "outputs": [
    {
     "name": "stdout",
     "output_type": "stream",
     "text": [
      "It is a triangle\n"
     ]
    }
   ],
   "source": [
    "if a+b>c and b+c>a and c+a>b:\n",
    "    print('It is a triangle')\n",
    "else:\n",
    "    print('Not a triangle')"
   ]
  },
  {
   "cell_type": "code",
   "execution_count": 19,
   "id": "4aa5a893-5172-476a-bb00-984dac11ebbb",
   "metadata": {},
   "outputs": [],
   "source": [
    "# Q3 : check a number whether it is +v even or -ve even "
   ]
  },
  {
   "cell_type": "code",
   "execution_count": 22,
   "id": "359f0b87-471b-4fc6-8ddb-17518ba73d38",
   "metadata": {},
   "outputs": [
    {
     "name": "stdin",
     "output_type": "stream",
     "text": [
      "Enter a number:  -987\n"
     ]
    },
    {
     "name": "stdout",
     "output_type": "stream",
     "text": [
      "The number is Odd.\n"
     ]
    }
   ],
   "source": [
    "num = int(input(\"Enter a number: \"))\n",
    "\n",
    "if num % 2 == 0:  \n",
    "\n",
    "    if num > 0:\n",
    "\n",
    "        print(\"number is Positive Even.\")\n",
    "\n",
    "    elif num < 0:\n",
    "\n",
    "        print(\"number is Negative Even.\")\n",
    "\n",
    "    else:\n",
    "\n",
    "        print(\"The number is Zero .\")\n",
    "\n",
    "else:\n",
    "\n",
    "    print(\"The number is Odd.\")"
   ]
  },
  {
   "cell_type": "code",
   "execution_count": 24,
   "id": "a7bff0cc-25ab-4a01-a214-8d04e0af2c08",
   "metadata": {},
   "outputs": [
    {
     "name": "stdin",
     "output_type": "stream",
     "text": [
      "enter the number =  7864\n"
     ]
    },
    {
     "name": "stdout",
     "output_type": "stream",
     "text": [
      "Positive even number\n"
     ]
    }
   ],
   "source": [
    "n = int(input(\"enter the number = \"))\n",
    "\n",
    "if n>0:\n",
    "    if n%2 == 0:\n",
    "        print(\"Positive even number\")\n",
    "    else:\n",
    "        print(\"Positive odd number\")\n",
    "else:\n",
    "    if n%2 == 0:\n",
    "        print(\"Negative even number\")\n",
    "    else:\n",
    "        print(\"Negative odd number\")"
   ]
  },
  {
   "cell_type": "code",
   "execution_count": 25,
   "id": "432a616f-3058-4bac-83fb-26feb8c2a250",
   "metadata": {},
   "outputs": [
    {
     "data": {
      "text/plain": [
       "3"
      ]
     },
     "execution_count": 25,
     "metadata": {},
     "output_type": "execute_result"
    }
   ],
   "source": [
    "a"
   ]
  },
  {
   "cell_type": "code",
   "execution_count": 26,
   "id": "4a747923-7042-4ebf-a121-f39eae20e204",
   "metadata": {},
   "outputs": [
    {
     "data": {
      "text/plain": [
       "4"
      ]
     },
     "execution_count": 26,
     "metadata": {},
     "output_type": "execute_result"
    }
   ],
   "source": [
    "b"
   ]
  },
  {
   "cell_type": "code",
   "execution_count": 27,
   "id": "5348ef07-c874-46a7-af3d-75a019c93734",
   "metadata": {},
   "outputs": [],
   "source": [
    "a, b = b, a"
   ]
  },
  {
   "cell_type": "code",
   "execution_count": 28,
   "id": "e6cfbcdf-ca44-4fd1-a71a-1b324bc4f906",
   "metadata": {},
   "outputs": [
    {
     "data": {
      "text/plain": [
       "4"
      ]
     },
     "execution_count": 28,
     "metadata": {},
     "output_type": "execute_result"
    }
   ],
   "source": [
    "a"
   ]
  },
  {
   "cell_type": "code",
   "execution_count": 29,
   "id": "a907452f-7ead-449b-8613-8b3f2192f69e",
   "metadata": {},
   "outputs": [
    {
     "data": {
      "text/plain": [
       "3"
      ]
     },
     "execution_count": 29,
     "metadata": {},
     "output_type": "execute_result"
    }
   ],
   "source": [
    "b"
   ]
  },
  {
   "cell_type": "code",
   "execution_count": 31,
   "id": "342a7b0a-5067-4853-80e0-f0ea6beed09d",
   "metadata": {},
   "outputs": [],
   "source": [
    "# Q4 : find the perimeter of a circle and if the perimeter is greater than 50 print \"it is a big circle\""
   ]
  },
  {
   "cell_type": "code",
   "execution_count": 37,
   "id": "ebdebffd-d3ec-4db5-b63d-c1a00bae5d8d",
   "metadata": {},
   "outputs": [
    {
     "name": "stdin",
     "output_type": "stream",
     "text": [
      "enter the radius of circle =  10\n"
     ]
    }
   ],
   "source": [
    "radius = float(input(\"enter the radius of circle = \"))"
   ]
  },
  {
   "cell_type": "code",
   "execution_count": 38,
   "id": "bc23e9de-f99c-4ab6-9dbf-d5f017c0f05f",
   "metadata": {},
   "outputs": [
    {
     "data": {
      "text/plain": [
       "10.0"
      ]
     },
     "execution_count": 38,
     "metadata": {},
     "output_type": "execute_result"
    }
   ],
   "source": [
    "radius"
   ]
  },
  {
   "cell_type": "code",
   "execution_count": 39,
   "id": "6380400c-c513-4b51-9361-2987106facf1",
   "metadata": {},
   "outputs": [],
   "source": [
    "perimeter = 2*3.14*radius"
   ]
  },
  {
   "cell_type": "code",
   "execution_count": 40,
   "id": "c32797a9-a0c7-46f6-bc49-a68656c66552",
   "metadata": {},
   "outputs": [
    {
     "data": {
      "text/plain": [
       "62.800000000000004"
      ]
     },
     "execution_count": 40,
     "metadata": {},
     "output_type": "execute_result"
    }
   ],
   "source": [
    "perimeter"
   ]
  },
  {
   "cell_type": "code",
   "execution_count": 44,
   "id": "5ed0417f-c506-4e9a-b4b1-e4a107fe6a67",
   "metadata": {},
   "outputs": [
    {
     "name": "stdin",
     "output_type": "stream",
     "text": [
      "enter the radius of circle =  10\n"
     ]
    },
    {
     "name": "stdout",
     "output_type": "stream",
     "text": [
      "small circle\n"
     ]
    }
   ],
   "source": [
    "radius = float(input(\"enter the radius of circle = \"))\n",
    "perimeter = 2*3.14*radius\n",
    "\n",
    "if perimeter > 500:\n",
    "    print(\"It is a Big circle\")\n",
    "else:\n",
    "    print(\"small circle\")"
   ]
  },
  {
   "cell_type": "code",
   "execution_count": 47,
   "id": "263936cd-9432-42ba-8e67-22a1706f314b",
   "metadata": {},
   "outputs": [
    {
     "name": "stdin",
     "output_type": "stream",
     "text": [
      "enter the age of a person 19\n"
     ]
    },
    {
     "name": "stdout",
     "output_type": "stream",
     "text": [
      "eligible for voting\n"
     ]
    }
   ],
   "source": [
    "age = int(input(\"enter the age of a person\"))\n",
    "if age > 18:\n",
    "    print(\"eligible for voting\")\n",
    "else:\n",
    "    print(\"Not eligible for voting\")"
   ]
  },
  {
   "cell_type": "code",
   "execution_count": 50,
   "id": "7e871862-84f5-435b-ab51-c6e95462802d",
   "metadata": {},
   "outputs": [
    {
     "name": "stdin",
     "output_type": "stream",
     "text": [
      "enter the price of a laptop =  30000\n"
     ]
    },
    {
     "name": "stdout",
     "output_type": "stream",
     "text": [
      "24000.0\n"
     ]
    }
   ],
   "source": [
    "laptop_price = float(input(\"enter the price of a laptop = \"))\n",
    "if laptop_price > 20000:\n",
    "    laptop_price = laptop_price - (laptop_price*20)/100\n",
    "    print(laptop_price)\n",
    "else:\n",
    "    print(\"No discount on this price\")"
   ]
  },
  {
   "cell_type": "code",
   "execution_count": 67,
   "id": "92f55d86-5093-4d6a-b765-e9a59441e26c",
   "metadata": {},
   "outputs": [
    {
     "name": "stdin",
     "output_type": "stream",
     "text": [
      "enter your name Tushar\n"
     ]
    },
    {
     "name": "stdout",
     "output_type": "stream",
     "text": [
      "t is not a vowel\n"
     ]
    }
   ],
   "source": [
    "name = input(\"enter your name\")[0].lower()\n",
    "vowel = 'aeiou'\n",
    "if name in vowel:\n",
    "    print(f'{name} is vowel')\n",
    "else:\n",
    "    print(f\"{name} is not a vowel\")"
   ]
  },
  {
   "cell_type": "code",
   "execution_count": 58,
   "id": "a2d23e16-52f4-4ac5-8dbd-371668880475",
   "metadata": {},
   "outputs": [],
   "source": [
    "st = 'aeiou'"
   ]
  },
  {
   "cell_type": "code",
   "execution_count": 56,
   "id": "684c094c-e304-4608-ae1e-a9fe8e3ae1e2",
   "metadata": {},
   "outputs": [],
   "source": [
    "name = 'Manisha'"
   ]
  },
  {
   "cell_type": "code",
   "execution_count": 61,
   "id": "6deaf47b-27f5-4f86-a005-2ecd12afaa6e",
   "metadata": {},
   "outputs": [
    {
     "data": {
      "text/plain": [
       "'m'"
      ]
     },
     "execution_count": 61,
     "metadata": {},
     "output_type": "execute_result"
    }
   ],
   "source": [
    "name[0].lower()"
   ]
  },
  {
   "cell_type": "code",
   "execution_count": 60,
   "id": "6ca34984-0cf9-43f1-b831-d94ae277af98",
   "metadata": {},
   "outputs": [
    {
     "data": {
      "text/plain": [
       "'aeiou'"
      ]
     },
     "execution_count": 60,
     "metadata": {},
     "output_type": "execute_result"
    }
   ],
   "source": [
    "st[0]+st[1]+st[2]+st[3]+st[4]"
   ]
  },
  {
   "cell_type": "code",
   "execution_count": 68,
   "id": "ec86deed-dbef-45a6-a4e4-3cdabd897e37",
   "metadata": {},
   "outputs": [
    {
     "name": "stdout",
     "output_type": "stream",
     "text": [
      "SAsadad\n"
     ]
    }
   ],
   "source": [
    "num = 'SAsadad'\n",
    "print(num)"
   ]
  },
  {
   "cell_type": "code",
   "execution_count": null,
   "id": "a41f7f64-4a3e-425e-94c9-595b273b4bfe",
   "metadata": {},
   "outputs": [],
   "source": []
  }
 ],
 "metadata": {
  "kernelspec": {
   "display_name": "Python 3 (ipykernel)",
   "language": "python",
   "name": "python3"
  },
  "language_info": {
   "codemirror_mode": {
    "name": "ipython",
    "version": 3
   },
   "file_extension": ".py",
   "mimetype": "text/x-python",
   "name": "python",
   "nbconvert_exporter": "python",
   "pygments_lexer": "ipython3",
   "version": "3.12.7"
  }
 },
 "nbformat": 4,
 "nbformat_minor": 5
}
