{
 "cells": [
  {
   "cell_type": "code",
   "execution_count": 10,
   "id": "5722d7a8-e892-4b70-a6ca-8daa77ab93b4",
   "metadata": {},
   "outputs": [
    {
     "name": "stdout",
     "output_type": "stream",
     "text": [
      "1\n",
      "3\n",
      "13\n",
      "39\n"
     ]
    }
   ],
   "source": [
    "n = 78\n",
    "odd_factor = 0\n",
    "for i in range(1, n+1):\n",
    "    if n%i == 0:\n",
    "        if i%2 != 0:\n",
    "            print(i)"
   ]
  },
  {
   "cell_type": "code",
   "execution_count": 18,
   "id": "2616bbcc-60db-48ac-987b-e3ce36025e51",
   "metadata": {},
   "outputs": [],
   "source": [
    "# Given a list of numbers, return True if first and last number of a list is same\n",
    "Num = [2204192] # type casting is not allowed"
   ]
  },
  {
   "cell_type": "code",
   "execution_count": 17,
   "id": "565be1d2-1cc9-4622-8d23-a98e7d1f3e1b",
   "metadata": {},
   "outputs": [
    {
     "data": {
      "text/plain": [
       "True"
      ]
     },
     "execution_count": 17,
     "metadata": {},
     "output_type": "execute_result"
    }
   ],
   "source": [
    "st = str(Num[0])\n",
    "st[0] == st[-1]"
   ]
  },
  {
   "cell_type": "code",
   "execution_count": 25,
   "id": "edd4e123-792b-441a-8005-01033ef82887",
   "metadata": {},
   "outputs": [],
   "source": [
    "num = Num[0]"
   ]
  },
  {
   "cell_type": "code",
   "execution_count": 20,
   "id": "45e8488b-dbf9-40c8-bc40-f9cc356844e4",
   "metadata": {},
   "outputs": [
    {
     "data": {
      "text/plain": [
       "2"
      ]
     },
     "execution_count": 20,
     "metadata": {},
     "output_type": "execute_result"
    }
   ],
   "source": [
    "num%10"
   ]
  },
  {
   "cell_type": "code",
   "execution_count": 26,
   "id": "ac441e9b-2088-4569-b5de-1d99b119175c",
   "metadata": {},
   "outputs": [
    {
     "data": {
      "text/plain": [
       "True"
      ]
     },
     "execution_count": 26,
     "metadata": {},
     "output_type": "execute_result"
    }
   ],
   "source": [
    "a = []\n",
    "while num > 0:\n",
    "    r = num%10\n",
    "    a.append(r)\n",
    "    num = num//10\n",
    "a[0] == a[-1]    "
   ]
  },
  {
   "cell_type": "code",
   "execution_count": 27,
   "id": "96b05303-f61a-49aa-a45b-19b9619c47c7",
   "metadata": {},
   "outputs": [],
   "source": [
    " # Print all the even numbers before 1\n",
    "l = [3 , 2 , 6 , 7, 8, 44, 66, 234, 244, 1 , 65, 78 , 22, 12]"
   ]
  },
  {
   "cell_type": "code",
   "execution_count": null,
   "id": "238eb3ee-eaf6-4956-a6b4-398b113b2b48",
   "metadata": {},
   "outputs": [],
   "source": []
  }
 ],
 "metadata": {
  "kernelspec": {
   "display_name": "Python 3 (ipykernel)",
   "language": "python",
   "name": "python3"
  },
  "language_info": {
   "codemirror_mode": {
    "name": "ipython",
    "version": 3
   },
   "file_extension": ".py",
   "mimetype": "text/x-python",
   "name": "python",
   "nbconvert_exporter": "python",
   "pygments_lexer": "ipython3",
   "version": "3.12.7"
  }
 },
 "nbformat": 4,
 "nbformat_minor": 5
}
