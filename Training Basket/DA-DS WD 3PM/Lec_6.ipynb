{
 "cells": [
  {
   "cell_type": "code",
   "execution_count": 12,
   "id": "f5a3e02e-5758-4adf-902d-7c080d88982b",
   "metadata": {},
   "outputs": [
    {
     "name": "stdin",
     "output_type": "stream",
     "text": [
      "Enter the number =  5\n"
     ]
    }
   ],
   "source": [
    "a = float(input(\"Enter the number = \"))"
   ]
  },
  {
   "cell_type": "code",
   "execution_count": 13,
   "id": "0433aecc-9e7f-4445-be06-ef5506f58a62",
   "metadata": {},
   "outputs": [
    {
     "data": {
      "text/plain": [
       "5.0"
      ]
     },
     "execution_count": 13,
     "metadata": {},
     "output_type": "execute_result"
    }
   ],
   "source": [
    "a"
   ]
  },
  {
   "cell_type": "markdown",
   "id": "8d57b4a9-b880-475c-8f40-2120b640cd64",
   "metadata": {},
   "source": [
    "# set : "
   ]
  },
  {
   "cell_type": "code",
   "execution_count": 16,
   "id": "e2631aae-8167-408f-9a98-998a014e8907",
   "metadata": {},
   "outputs": [],
   "source": [
    "s = {2, 3, 9, -1, 0, -21, 100, 2, 2, 3, 5, 5,  9}"
   ]
  },
  {
   "cell_type": "code",
   "execution_count": 17,
   "id": "64500e1c-90ad-4392-9c63-cc0ebed28ea7",
   "metadata": {},
   "outputs": [
    {
     "data": {
      "text/plain": [
       "set"
      ]
     },
     "execution_count": 17,
     "metadata": {},
     "output_type": "execute_result"
    }
   ],
   "source": [
    "type(s)"
   ]
  },
  {
   "cell_type": "code",
   "execution_count": 18,
   "id": "3c0aad33-c430-445f-a3a8-2aa313163fbb",
   "metadata": {},
   "outputs": [
    {
     "name": "stdout",
     "output_type": "stream",
     "text": [
      "<class 'set'>\n"
     ]
    }
   ],
   "source": [
    "print(type(s))"
   ]
  },
  {
   "cell_type": "code",
   "execution_count": 19,
   "id": "5fdcc50d-c388-4938-b0f7-42bf9d4448cb",
   "metadata": {},
   "outputs": [
    {
     "data": {
      "text/plain": [
       "{-21, -1, 0, 2, 3, 5, 9, 100}"
      ]
     },
     "execution_count": 19,
     "metadata": {},
     "output_type": "execute_result"
    }
   ],
   "source": [
    "s"
   ]
  },
  {
   "cell_type": "code",
   "execution_count": 20,
   "id": "7e077a7d-3773-479b-9c16-9a892a19a33d",
   "metadata": {},
   "outputs": [],
   "source": [
    "l = [2, 2, 3, 5,5, 5, 6, 6, 7, 7, 7]"
   ]
  },
  {
   "cell_type": "code",
   "execution_count": 21,
   "id": "3b0a30d5-e11a-4449-8b26-dbec7a45c9ef",
   "metadata": {},
   "outputs": [],
   "source": [
    "l = set(l)"
   ]
  },
  {
   "cell_type": "code",
   "execution_count": 22,
   "id": "fab80d9c-77da-4ed6-af41-451ffae72322",
   "metadata": {},
   "outputs": [
    {
     "data": {
      "text/plain": [
       "{2, 3, 5, 6, 7}"
      ]
     },
     "execution_count": 22,
     "metadata": {},
     "output_type": "execute_result"
    }
   ],
   "source": [
    "l"
   ]
  },
  {
   "cell_type": "code",
   "execution_count": 23,
   "id": "c2595614-91e2-4637-a5e2-8f4e57722d46",
   "metadata": {},
   "outputs": [],
   "source": [
    "s1 = {9, 10, 11, 2, 2, 2, 3, 3, 4, 5, 0,0}"
   ]
  },
  {
   "cell_type": "code",
   "execution_count": 24,
   "id": "a9dc3ec2-a109-49ea-aed4-b0cfaf23f0a0",
   "metadata": {},
   "outputs": [
    {
     "data": {
      "text/plain": [
       "{-21, -1, 0, 2, 3, 5, 9, 100}"
      ]
     },
     "execution_count": 24,
     "metadata": {},
     "output_type": "execute_result"
    }
   ],
   "source": [
    "s"
   ]
  },
  {
   "cell_type": "code",
   "execution_count": 25,
   "id": "0771f0f0-2232-409c-adb4-549bfbd21924",
   "metadata": {},
   "outputs": [
    {
     "data": {
      "text/plain": [
       "{0, 2, 3, 4, 5, 9, 10, 11}"
      ]
     },
     "execution_count": 25,
     "metadata": {},
     "output_type": "execute_result"
    }
   ],
   "source": [
    "s1"
   ]
  },
  {
   "cell_type": "code",
   "execution_count": 27,
   "id": "f75004da-150e-496e-97e7-86b418009812",
   "metadata": {},
   "outputs": [],
   "source": [
    "a = s.union(s1)"
   ]
  },
  {
   "cell_type": "code",
   "execution_count": 28,
   "id": "6f2a1ae1-e7e0-4747-9037-5bbed6dd9df5",
   "metadata": {},
   "outputs": [
    {
     "data": {
      "text/plain": [
       "{-21, -1, 0, 2, 3, 4, 5, 9, 10, 11, 100}"
      ]
     },
     "execution_count": 28,
     "metadata": {},
     "output_type": "execute_result"
    }
   ],
   "source": [
    "a"
   ]
  },
  {
   "cell_type": "code",
   "execution_count": 29,
   "id": "68c0f584-7c22-4749-895c-cf72472a6408",
   "metadata": {},
   "outputs": [],
   "source": [
    "b = s.intersection(s1)"
   ]
  },
  {
   "cell_type": "code",
   "execution_count": 30,
   "id": "85210d83-81e9-4672-8789-050ee7891681",
   "metadata": {},
   "outputs": [
    {
     "data": {
      "text/plain": [
       "{0, 2, 3, 5, 9}"
      ]
     },
     "execution_count": 30,
     "metadata": {},
     "output_type": "execute_result"
    }
   ],
   "source": [
    "b"
   ]
  },
  {
   "cell_type": "code",
   "execution_count": 31,
   "id": "795e9a48-f47d-4ce7-8427-528cd62072d8",
   "metadata": {},
   "outputs": [
    {
     "data": {
      "text/plain": [
       "{-21, -1, 100}"
      ]
     },
     "execution_count": 31,
     "metadata": {},
     "output_type": "execute_result"
    }
   ],
   "source": [
    "s-s1"
   ]
  },
  {
   "cell_type": "code",
   "execution_count": 32,
   "id": "e92299e3-dc97-4d26-b6f1-61f94279702e",
   "metadata": {},
   "outputs": [
    {
     "data": {
      "text/plain": [
       "{-21, -1, 0, 2, 3, 5, 9, 100}"
      ]
     },
     "execution_count": 32,
     "metadata": {},
     "output_type": "execute_result"
    }
   ],
   "source": [
    "s"
   ]
  },
  {
   "cell_type": "code",
   "execution_count": 33,
   "id": "184a5af4-3caf-498b-8d7b-b2ccb3c13bd0",
   "metadata": {},
   "outputs": [
    {
     "data": {
      "text/plain": [
       "{4, 10, 11}"
      ]
     },
     "execution_count": 33,
     "metadata": {},
     "output_type": "execute_result"
    }
   ],
   "source": [
    "s1-s"
   ]
  },
  {
   "cell_type": "code",
   "execution_count": 34,
   "id": "15f8c171-1e43-4d6d-9d4b-86d2a481fc8e",
   "metadata": {},
   "outputs": [
    {
     "data": {
      "text/plain": [
       "{-21, -1, 0, 2, 3, 5, 9, 100}"
      ]
     },
     "execution_count": 34,
     "metadata": {},
     "output_type": "execute_result"
    }
   ],
   "source": [
    "s"
   ]
  },
  {
   "cell_type": "code",
   "execution_count": 36,
   "id": "8352d70e-efd4-4c8d-8839-1db78b02cf51",
   "metadata": {},
   "outputs": [],
   "source": [
    "s.add('Niraj')"
   ]
  },
  {
   "cell_type": "code",
   "execution_count": 37,
   "id": "0d227bd6-8a9d-4353-9f98-4c8925c8a8f6",
   "metadata": {},
   "outputs": [
    {
     "data": {
      "text/plain": [
       "{-1, -21, 0, 100, 2, 3, 5, 9, 'Niraj'}"
      ]
     },
     "execution_count": 37,
     "metadata": {},
     "output_type": "execute_result"
    }
   ],
   "source": [
    "s"
   ]
  },
  {
   "cell_type": "code",
   "execution_count": 39,
   "id": "224eaf0a-e1b7-450e-9dae-7763bbb1a036",
   "metadata": {},
   "outputs": [],
   "source": [
    "s.update(s1)"
   ]
  },
  {
   "cell_type": "code",
   "execution_count": 40,
   "id": "981849f6-c1e8-48d7-80a4-90667bf4b720",
   "metadata": {},
   "outputs": [
    {
     "data": {
      "text/plain": [
       "{-1, -21, 0, 10, 100, 11, 2, 3, 4, 5, 9, 'Niraj'}"
      ]
     },
     "execution_count": 40,
     "metadata": {},
     "output_type": "execute_result"
    }
   ],
   "source": [
    "s"
   ]
  },
  {
   "cell_type": "code",
   "execution_count": 41,
   "id": "6beadbf7-4ac1-4608-8a6a-f1b484b55503",
   "metadata": {},
   "outputs": [
    {
     "data": {
      "text/plain": [
       "{-1, -21, 100, 'Niraj'}"
      ]
     },
     "execution_count": 41,
     "metadata": {},
     "output_type": "execute_result"
    }
   ],
   "source": [
    "s.symmetric_difference(s1)"
   ]
  },
  {
   "cell_type": "code",
   "execution_count": 42,
   "id": "005dbbe9-a5b8-413f-b764-0b2d3110cc64",
   "metadata": {},
   "outputs": [
    {
     "data": {
      "text/plain": [
       "{-1, -21, 100, 'Niraj'}"
      ]
     },
     "execution_count": 42,
     "metadata": {},
     "output_type": "execute_result"
    }
   ],
   "source": [
    "s1.symmetric_difference(s)"
   ]
  },
  {
   "cell_type": "code",
   "execution_count": 44,
   "id": "5a952296-7d48-46c1-94b5-f9a2f08fbdb6",
   "metadata": {},
   "outputs": [],
   "source": [
    "s.discard('Niraj')"
   ]
  },
  {
   "cell_type": "code",
   "execution_count": 45,
   "id": "b5d11b53-aef4-46b5-96c5-7a93968bcc00",
   "metadata": {},
   "outputs": [
    {
     "data": {
      "text/plain": [
       "{-21, -1, 0, 2, 3, 4, 5, 9, 10, 11, 100}"
      ]
     },
     "execution_count": 45,
     "metadata": {},
     "output_type": "execute_result"
    }
   ],
   "source": [
    "s"
   ]
  },
  {
   "cell_type": "code",
   "execution_count": 47,
   "id": "8a9c9302-0c56-4bf0-9c63-3e4db2cfe0cb",
   "metadata": {},
   "outputs": [],
   "source": [
    "s.clear()"
   ]
  },
  {
   "cell_type": "code",
   "execution_count": 48,
   "id": "d3df135f-bb8e-4cde-80d0-dd654e1ed9d3",
   "metadata": {},
   "outputs": [
    {
     "data": {
      "text/plain": [
       "set()"
      ]
     },
     "execution_count": 48,
     "metadata": {},
     "output_type": "execute_result"
    }
   ],
   "source": [
    "s"
   ]
  },
  {
   "cell_type": "code",
   "execution_count": 49,
   "id": "044b5a69-401d-4803-9dd4-f6d347e5ccbd",
   "metadata": {},
   "outputs": [
    {
     "data": {
      "text/plain": [
       "{0, 2, 3, 4, 5, 9, 10, 11}"
      ]
     },
     "execution_count": 49,
     "metadata": {},
     "output_type": "execute_result"
    }
   ],
   "source": [
    "s1"
   ]
  },
  {
   "cell_type": "code",
   "execution_count": 50,
   "id": "f213125d-be36-491f-9d97-be603299e5ff",
   "metadata": {},
   "outputs": [],
   "source": [
    "a = s1.copy()"
   ]
  },
  {
   "cell_type": "code",
   "execution_count": 51,
   "id": "bdc89a69-e48a-40ed-9d90-c63c4db6f234",
   "metadata": {},
   "outputs": [
    {
     "data": {
      "text/plain": [
       "{0, 2, 3, 4, 5, 9, 10, 11}"
      ]
     },
     "execution_count": 51,
     "metadata": {},
     "output_type": "execute_result"
    }
   ],
   "source": [
    "a"
   ]
  },
  {
   "cell_type": "code",
   "execution_count": 52,
   "id": "ea8c8d3c-732c-41b8-bfd2-3f404f5015d1",
   "metadata": {},
   "outputs": [
    {
     "data": {
      "text/plain": [
       "{0, 2, 3, 4, 5, 9, 10, 11}"
      ]
     },
     "execution_count": 52,
     "metadata": {},
     "output_type": "execute_result"
    }
   ],
   "source": [
    "a"
   ]
  },
  {
   "cell_type": "code",
   "execution_count": 53,
   "id": "0373a3f2-c1ac-44b7-b33b-1257016a6dc6",
   "metadata": {},
   "outputs": [
    {
     "data": {
      "text/plain": [
       "0"
      ]
     },
     "execution_count": 53,
     "metadata": {},
     "output_type": "execute_result"
    }
   ],
   "source": [
    "a.pop()"
   ]
  },
  {
   "cell_type": "code",
   "execution_count": 54,
   "id": "c3af202b-ca2a-476b-abcb-f3a5567bd563",
   "metadata": {},
   "outputs": [
    {
     "data": {
      "text/plain": [
       "{2, 3, 4, 5, 9, 10, 11}"
      ]
     },
     "execution_count": 54,
     "metadata": {},
     "output_type": "execute_result"
    }
   ],
   "source": [
    "a"
   ]
  },
  {
   "cell_type": "code",
   "execution_count": 55,
   "id": "475ff58f-7a9d-4e2c-b571-6a5cac129e83",
   "metadata": {},
   "outputs": [
    {
     "data": {
      "text/plain": [
       "2"
      ]
     },
     "execution_count": 55,
     "metadata": {},
     "output_type": "execute_result"
    }
   ],
   "source": [
    "a.pop()"
   ]
  },
  {
   "cell_type": "code",
   "execution_count": 56,
   "id": "356772d8-f6b8-4e74-996b-feedb264cae2",
   "metadata": {},
   "outputs": [
    {
     "data": {
      "text/plain": [
       "3"
      ]
     },
     "execution_count": 56,
     "metadata": {},
     "output_type": "execute_result"
    }
   ],
   "source": [
    "a.pop()"
   ]
  },
  {
   "cell_type": "code",
   "execution_count": 59,
   "id": "2f6f6204-1383-4c8c-8064-978a928646ba",
   "metadata": {},
   "outputs": [
    {
     "ename": "KeyError",
     "evalue": "'Tushar'",
     "output_type": "error",
     "traceback": [
      "\u001b[1;31m---------------------------------------------------------------------------\u001b[0m",
      "\u001b[1;31mKeyError\u001b[0m                                  Traceback (most recent call last)",
      "Cell \u001b[1;32mIn[59], line 1\u001b[0m\n\u001b[1;32m----> 1\u001b[0m a\u001b[38;5;241m.\u001b[39mremove(\u001b[38;5;124m'\u001b[39m\u001b[38;5;124mTushar\u001b[39m\u001b[38;5;124m'\u001b[39m)\n",
      "\u001b[1;31mKeyError\u001b[0m: 'Tushar'"
     ]
    }
   ],
   "source": [
    "a.remove('Tushar')"
   ]
  },
  {
   "cell_type": "code",
   "execution_count": 60,
   "id": "d6e41a84-b92a-4e4f-8368-4874d4756b15",
   "metadata": {},
   "outputs": [],
   "source": [
    "a.discard(\"Tushar\")"
   ]
  },
  {
   "cell_type": "code",
   "execution_count": 61,
   "id": "5b7479ed-22b7-472c-b93b-c5663d80af31",
   "metadata": {},
   "outputs": [],
   "source": [
    "l = [2, 3, 4, 5, 'Tushar', 'Basket', 9.3]"
   ]
  },
  {
   "cell_type": "code",
   "execution_count": 63,
   "id": "88c513de-01c0-4165-9c2d-6898680c2d27",
   "metadata": {},
   "outputs": [
    {
     "data": {
      "text/plain": [
       "9.3"
      ]
     },
     "execution_count": 63,
     "metadata": {},
     "output_type": "execute_result"
    }
   ],
   "source": [
    "l.pop()"
   ]
  },
  {
   "cell_type": "code",
   "execution_count": 64,
   "id": "3bd953a7-3fd9-4b64-947d-8918c053cfcb",
   "metadata": {},
   "outputs": [
    {
     "data": {
      "text/plain": [
       "[2, 3, 4, 5, 'Tushar', 'Basket']"
      ]
     },
     "execution_count": 64,
     "metadata": {},
     "output_type": "execute_result"
    }
   ],
   "source": [
    "l"
   ]
  },
  {
   "cell_type": "code",
   "execution_count": 65,
   "id": "49c990b4-a878-4f88-9559-1a47d4a7451e",
   "metadata": {},
   "outputs": [],
   "source": [
    "l.append(9.3)"
   ]
  },
  {
   "cell_type": "code",
   "execution_count": 66,
   "id": "f274558d-af1f-4857-b4e4-c50ad638f37e",
   "metadata": {},
   "outputs": [
    {
     "data": {
      "text/plain": [
       "[2, 3, 4, 5, 'Tushar', 'Basket', 9.3]"
      ]
     },
     "execution_count": 66,
     "metadata": {},
     "output_type": "execute_result"
    }
   ],
   "source": [
    "l"
   ]
  },
  {
   "cell_type": "code",
   "execution_count": 67,
   "id": "366fef9a-8d98-4f38-87b6-e95118f9a95b",
   "metadata": {},
   "outputs": [],
   "source": [
    "l.insert(0, 1)"
   ]
  },
  {
   "cell_type": "code",
   "execution_count": 68,
   "id": "2b11f9ad-5711-40ec-b21f-d29c5623956a",
   "metadata": {},
   "outputs": [
    {
     "data": {
      "text/plain": [
       "[1, 2, 3, 4, 5, 'Tushar', 'Basket', 9.3]"
      ]
     },
     "execution_count": 68,
     "metadata": {},
     "output_type": "execute_result"
    }
   ],
   "source": [
    "l"
   ]
  },
  {
   "cell_type": "code",
   "execution_count": 69,
   "id": "8d386c64-52f8-404f-9635-34b86d7e67dc",
   "metadata": {},
   "outputs": [],
   "source": [
    "l = []\n",
    "l.append(1)\n",
    "l.append(2)\n",
    "l.append(3)"
   ]
  },
  {
   "cell_type": "code",
   "execution_count": 70,
   "id": "e3bccfca-f0f1-4b6e-913c-4c618e17eded",
   "metadata": {},
   "outputs": [
    {
     "data": {
      "text/plain": [
       "[1, 2, 3]"
      ]
     },
     "execution_count": 70,
     "metadata": {},
     "output_type": "execute_result"
    }
   ],
   "source": [
    "l"
   ]
  },
  {
   "cell_type": "code",
   "execution_count": 71,
   "id": "9987f4f7-64ab-4cee-8b2e-c7b3637b8f9d",
   "metadata": {},
   "outputs": [],
   "source": [
    "t = (2, 'niraj', 2.3, [1, 2, 3, 4], (2, 0.9, 'True'))"
   ]
  },
  {
   "cell_type": "code",
   "execution_count": 72,
   "id": "4aa1fe0d-3c27-4877-ad7f-2fa14cfe2eea",
   "metadata": {},
   "outputs": [
    {
     "data": {
      "text/plain": [
       "(2, 'niraj', 2.3, [1, 2, 3, 4], (2, 0.9, 'True'))"
      ]
     },
     "execution_count": 72,
     "metadata": {},
     "output_type": "execute_result"
    }
   ],
   "source": [
    "t"
   ]
  },
  {
   "cell_type": "code",
   "execution_count": 73,
   "id": "e0eb8dc6-b589-4ab2-a3b9-62de2e82f2cc",
   "metadata": {},
   "outputs": [
    {
     "data": {
      "text/plain": [
       "tuple"
      ]
     },
     "execution_count": 73,
     "metadata": {},
     "output_type": "execute_result"
    }
   ],
   "source": [
    "type(t)"
   ]
  },
  {
   "cell_type": "code",
   "execution_count": 75,
   "id": "4cd9055b-f34b-4512-bc1b-8d485a010803",
   "metadata": {},
   "outputs": [
    {
     "data": {
      "text/plain": [
       "1"
      ]
     },
     "execution_count": 75,
     "metadata": {},
     "output_type": "execute_result"
    }
   ],
   "source": [
    "l[0]"
   ]
  },
  {
   "cell_type": "code",
   "execution_count": 76,
   "id": "21d3bdf6-85ec-48cf-8b74-9c376a4f6fa6",
   "metadata": {},
   "outputs": [
    {
     "data": {
      "text/plain": [
       "[1, 2, 3]"
      ]
     },
     "execution_count": 76,
     "metadata": {},
     "output_type": "execute_result"
    }
   ],
   "source": [
    "l"
   ]
  },
  {
   "cell_type": "code",
   "execution_count": 77,
   "id": "1919a350-b7cf-4929-8e2e-94b7037689a1",
   "metadata": {},
   "outputs": [],
   "source": [
    "l[0] = 31"
   ]
  },
  {
   "cell_type": "code",
   "execution_count": 78,
   "id": "f4dd8d6a-17fa-4585-aed4-b0df914e8cdc",
   "metadata": {},
   "outputs": [
    {
     "data": {
      "text/plain": [
       "[31, 2, 3]"
      ]
     },
     "execution_count": 78,
     "metadata": {},
     "output_type": "execute_result"
    }
   ],
   "source": [
    "l"
   ]
  },
  {
   "cell_type": "code",
   "execution_count": 79,
   "id": "0b5a77a8-8ee5-4b6c-adbd-e0f8acd8ae3f",
   "metadata": {},
   "outputs": [
    {
     "data": {
      "text/plain": [
       "(2, 'niraj', 2.3, [1, 2, 3, 4], (2, 0.9, 'True'))"
      ]
     },
     "execution_count": 79,
     "metadata": {},
     "output_type": "execute_result"
    }
   ],
   "source": [
    "t"
   ]
  },
  {
   "cell_type": "code",
   "execution_count": 80,
   "id": "f0a78031-1ddb-47cf-964a-7c86fbf13b6b",
   "metadata": {},
   "outputs": [
    {
     "data": {
      "text/plain": [
       "2"
      ]
     },
     "execution_count": 80,
     "metadata": {},
     "output_type": "execute_result"
    }
   ],
   "source": [
    "t[0]"
   ]
  },
  {
   "cell_type": "code",
   "execution_count": 81,
   "id": "f9bb008d-73a3-4a18-adb7-8196bd98cf5d",
   "metadata": {},
   "outputs": [
    {
     "ename": "TypeError",
     "evalue": "'tuple' object does not support item assignment",
     "output_type": "error",
     "traceback": [
      "\u001b[1;31m---------------------------------------------------------------------------\u001b[0m",
      "\u001b[1;31mTypeError\u001b[0m                                 Traceback (most recent call last)",
      "Cell \u001b[1;32mIn[81], line 1\u001b[0m\n\u001b[1;32m----> 1\u001b[0m t[\u001b[38;5;241m0\u001b[39m] \u001b[38;5;241m=\u001b[39m \u001b[38;5;241m31\u001b[39m\n",
      "\u001b[1;31mTypeError\u001b[0m: 'tuple' object does not support item assignment"
     ]
    }
   ],
   "source": [
    "t[0] = 31"
   ]
  },
  {
   "cell_type": "code",
   "execution_count": 82,
   "id": "fe9712c7-2dd8-4901-92a6-285705aa8e6c",
   "metadata": {},
   "outputs": [],
   "source": [
    "t = list(t)"
   ]
  },
  {
   "cell_type": "code",
   "execution_count": 83,
   "id": "15b40c05-409e-4024-81ee-5487bdb5913d",
   "metadata": {},
   "outputs": [],
   "source": [
    "t[0] = 31"
   ]
  },
  {
   "cell_type": "code",
   "execution_count": 84,
   "id": "b5dbec82-123e-4ce3-847e-b3a80ad03d4e",
   "metadata": {},
   "outputs": [],
   "source": [
    "t = tuple(t)"
   ]
  },
  {
   "cell_type": "code",
   "execution_count": 85,
   "id": "9c8c30c1-06ca-48dd-aa74-f3a9195d1fc4",
   "metadata": {},
   "outputs": [
    {
     "data": {
      "text/plain": [
       "(31, 'niraj', 2.3, [1, 2, 3, 4], (2, 0.9, 'True'))"
      ]
     },
     "execution_count": 85,
     "metadata": {},
     "output_type": "execute_result"
    }
   ],
   "source": [
    "t"
   ]
  },
  {
   "cell_type": "code",
   "execution_count": 86,
   "id": "177e8556-31ce-458c-91c0-a71b283de4c3",
   "metadata": {},
   "outputs": [
    {
     "data": {
      "text/plain": [
       "1"
      ]
     },
     "execution_count": 86,
     "metadata": {},
     "output_type": "execute_result"
    }
   ],
   "source": [
    "t.count('niraj')"
   ]
  },
  {
   "cell_type": "code",
   "execution_count": 87,
   "id": "f5898d79-9977-4fa1-9563-4ed5f202ab2e",
   "metadata": {},
   "outputs": [
    {
     "data": {
      "text/plain": [
       "1"
      ]
     },
     "execution_count": 87,
     "metadata": {},
     "output_type": "execute_result"
    }
   ],
   "source": [
    "t.index('niraj')"
   ]
  },
  {
   "cell_type": "markdown",
   "id": "e9d3b02b-0774-4183-93fe-31edc2f43030",
   "metadata": {},
   "source": [
    "# Conditional Statements"
   ]
  },
  {
   "cell_type": "code",
   "execution_count": 90,
   "id": "60f8b7bd-622b-409d-a71d-ba250d92c006",
   "metadata": {},
   "outputs": [],
   "source": [
    "# if, elif, else"
   ]
  },
  {
   "cell_type": "code",
   "execution_count": 104,
   "id": "0ebbe99f-d365-41ad-8598-07cd63010777",
   "metadata": {},
   "outputs": [
    {
     "name": "stdout",
     "output_type": "stream",
     "text": [
      "stop your coding\n",
      "5\n"
     ]
    }
   ],
   "source": [
    "a = 5\n",
    "\n",
    "if a < 1:\n",
    "    print(\"Hello\") \n",
    "elif a < 2:\n",
    "    print(\"Hi\")\n",
    "elif a < 4:\n",
    "    print('TB')\n",
    "else:\n",
    "    print(\"stop your coding\")\n",
    "if a > 2:\n",
    "    print(a)\n"
   ]
  },
  {
   "cell_type": "code",
   "execution_count": 106,
   "id": "7557b747-1fce-4819-892c-96688da2f0a4",
   "metadata": {},
   "outputs": [
    {
     "name": "stdout",
     "output_type": "stream",
     "text": [
      "5\n",
      "Nested if\n"
     ]
    }
   ],
   "source": [
    "if a == 5:\n",
    "    print(a)\n",
    "    if a < 10:\n",
    "        print('Nested if')\n",
    "    else:\n",
    "        print('no')\n",
    "elif a != 10:\n",
    "    print(a)\n",
    "    if a == 10:\n",
    "        print('nested if')\n",
    "    elif a > 10:\n",
    "        print(a)"
   ]
  },
  {
   "cell_type": "code",
   "execution_count": 107,
   "id": "423ef85b-175c-4c44-a1ff-7ade1dc5bf6f",
   "metadata": {},
   "outputs": [],
   "source": [
    "a = 9867\n",
    "# check is it a odd or even"
   ]
  },
  {
   "cell_type": "code",
   "execution_count": 108,
   "id": "20fcbe9d-6e80-40c5-a577-05ee02f8d030",
   "metadata": {},
   "outputs": [
    {
     "name": "stdout",
     "output_type": "stream",
     "text": [
      "odd\n"
     ]
    }
   ],
   "source": [
    "if a%2 == 0:\n",
    "    print(\"even\")\n",
    "else:\n",
    "    print(\"odd\")"
   ]
  },
  {
   "cell_type": "code",
   "execution_count": null,
   "id": "9536ac4b-4e6e-4a32-8c99-645b03618326",
   "metadata": {},
   "outputs": [],
   "source": []
  }
 ],
 "metadata": {
  "kernelspec": {
   "display_name": "Python 3 (ipykernel)",
   "language": "python",
   "name": "python3"
  },
  "language_info": {
   "codemirror_mode": {
    "name": "ipython",
    "version": 3
   },
   "file_extension": ".py",
   "mimetype": "text/x-python",
   "name": "python",
   "nbconvert_exporter": "python",
   "pygments_lexer": "ipython3",
   "version": "3.12.7"
  }
 },
 "nbformat": 4,
 "nbformat_minor": 5
}
