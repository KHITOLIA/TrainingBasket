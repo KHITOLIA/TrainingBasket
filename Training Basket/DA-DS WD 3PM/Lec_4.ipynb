{
 "cells": [
  {
   "cell_type": "code",
   "execution_count": 1,
   "id": "9c18d856-dd0b-4863-a430-959e74b41cf1",
   "metadata": {},
   "outputs": [],
   "source": [
    "# format method"
   ]
  },
  {
   "cell_type": "code",
   "execution_count": 18,
   "id": "7a261ae2-94c2-40b0-a623-7d6e4550dea8",
   "metadata": {},
   "outputs": [
    {
     "name": "stdout",
     "output_type": "stream",
     "text": [
      "hello my name is Pawan\n"
     ]
    }
   ],
   "source": [
    "a = 'Pawan'\n",
    "print(\"hello my name is {}\".format(a, st))"
   ]
  },
  {
   "cell_type": "code",
   "execution_count": 3,
   "id": "c5816484-02c7-412e-9cdf-55a5a161f3db",
   "metadata": {},
   "outputs": [],
   "source": [
    "# f string"
   ]
  },
  {
   "cell_type": "code",
   "execution_count": 19,
   "id": "084cd5a4-ea3d-4fcd-ab16-c33535657d52",
   "metadata": {},
   "outputs": [
    {
     "name": "stdout",
     "output_type": "stream",
     "text": [
      "hello my name is Pawan 1\n"
     ]
    }
   ],
   "source": [
    "b = 1\n",
    "print(F'hello my name is {a} {b}')"
   ]
  },
  {
   "cell_type": "code",
   "execution_count": 31,
   "id": "9c0b01bd-9646-4f1c-a557-45e8daaf4a4b",
   "metadata": {},
   "outputs": [],
   "source": [
    "st = 'Training Basket'"
   ]
  },
  {
   "cell_type": "code",
   "execution_count": 11,
   "id": "46329244-cadd-4c98-9cf1-2387e112eeea",
   "metadata": {},
   "outputs": [
    {
     "data": {
      "text/plain": [
       "False"
      ]
     },
     "execution_count": 11,
     "metadata": {},
     "output_type": "execute_result"
    }
   ],
   "source": [
    "st.isalpha()"
   ]
  },
  {
   "cell_type": "code",
   "execution_count": 12,
   "id": "2e50981e-4a7b-4cf4-823e-247049beba4b",
   "metadata": {},
   "outputs": [
    {
     "data": {
      "text/plain": [
       "False"
      ]
     },
     "execution_count": 12,
     "metadata": {},
     "output_type": "execute_result"
    }
   ],
   "source": [
    "st.isdigit()"
   ]
  },
  {
   "cell_type": "code",
   "execution_count": 21,
   "id": "dd7afb9f-28ed-43e2-8027-ab3d171e067e",
   "metadata": {},
   "outputs": [
    {
     "data": {
      "text/plain": [
       "False"
      ]
     },
     "execution_count": 21,
     "metadata": {},
     "output_type": "execute_result"
    }
   ],
   "source": [
    "s = '12345.'\n",
    "s.isdigit()"
   ]
  },
  {
   "cell_type": "code",
   "execution_count": 22,
   "id": "6ffc576c-5830-4dd9-b7a6-bccc856ecd85",
   "metadata": {},
   "outputs": [
    {
     "data": {
      "text/plain": [
       "'Hello'"
      ]
     },
     "execution_count": 22,
     "metadata": {},
     "output_type": "execute_result"
    }
   ],
   "source": [
    "''.join('Hello')"
   ]
  },
  {
   "cell_type": "code",
   "execution_count": 23,
   "id": "855dfc1b-ae4e-4e59-9e55-a91bf418f14f",
   "metadata": {},
   "outputs": [
    {
     "data": {
      "text/plain": [
       "'Training Basket'"
      ]
     },
     "execution_count": 23,
     "metadata": {},
     "output_type": "execute_result"
    }
   ],
   "source": [
    "st"
   ]
  },
  {
   "cell_type": "code",
   "execution_count": 24,
   "id": "1861da13-ad14-43bb-a03a-870002c2138c",
   "metadata": {},
   "outputs": [
    {
     "data": {
      "text/plain": [
       "False"
      ]
     },
     "execution_count": 24,
     "metadata": {},
     "output_type": "execute_result"
    }
   ],
   "source": [
    "st.islower()"
   ]
  },
  {
   "cell_type": "code",
   "execution_count": 26,
   "id": "d8ff9976-107f-4126-892f-2b104f5de1d4",
   "metadata": {},
   "outputs": [
    {
     "data": {
      "text/plain": [
       "False"
      ]
     },
     "execution_count": 26,
     "metadata": {},
     "output_type": "execute_result"
    }
   ],
   "source": [
    "'asfSdfas'.islower()"
   ]
  },
  {
   "cell_type": "code",
   "execution_count": 36,
   "id": "ef9677e0-e0ca-442c-8b08-2703c2f2bb99",
   "metadata": {},
   "outputs": [],
   "source": [
    "st = 'Training Basket'\n",
    "st = st + ' Noida'"
   ]
  },
  {
   "cell_type": "code",
   "execution_count": 37,
   "id": "6a514986-4a4c-42fe-99a0-e7b32f2b0522",
   "metadata": {},
   "outputs": [
    {
     "data": {
      "text/plain": [
       "'Training Basket Noida'"
      ]
     },
     "execution_count": 37,
     "metadata": {},
     "output_type": "execute_result"
    }
   ],
   "source": [
    "st"
   ]
  },
  {
   "cell_type": "code",
   "execution_count": 40,
   "id": "a10c7a8e-0d83-4ce6-bace-9e449a441720",
   "metadata": {},
   "outputs": [
    {
     "data": {
      "text/plain": [
       "['Trai', 'i', 'g Basket Noida']"
      ]
     },
     "execution_count": 40,
     "metadata": {},
     "output_type": "execute_result"
    }
   ],
   "source": [
    "st.split('n')"
   ]
  },
  {
   "cell_type": "code",
   "execution_count": 45,
   "id": "e7eb4239-dcaf-4054-afb4-121c818e8b6f",
   "metadata": {},
   "outputs": [
    {
     "data": {
      "text/plain": [
       "('Basket', ' ', 'Noida')"
      ]
     },
     "execution_count": 45,
     "metadata": {},
     "output_type": "execute_result"
    }
   ],
   "source": [
    "st.partition(' ')[2].partition(' ')"
   ]
  },
  {
   "cell_type": "code",
   "execution_count": 46,
   "id": "b3b75849-3b0e-4393-9262-a39d95025afe",
   "metadata": {},
   "outputs": [
    {
     "data": {
      "text/plain": [
       "('Training', ' ', 'Basket Noida')"
      ]
     },
     "execution_count": 46,
     "metadata": {},
     "output_type": "execute_result"
    }
   ],
   "source": [
    "st.partition(' ')"
   ]
  },
  {
   "cell_type": "code",
   "execution_count": 47,
   "id": "e4d39e4a-9d05-47a7-9d17-6a18c453b461",
   "metadata": {},
   "outputs": [
    {
     "name": "stdout",
     "output_type": "stream",
     "text": [
      "Manisha Parashar\n"
     ]
    }
   ],
   "source": [
    "firstname = \"Manisha\"\n",
    "\n",
    "lastname = \"Parashar\"\n",
    "\n",
    "fullname = firstname + \" \" + lastname\n",
    "\n",
    "print(fullname)"
   ]
  },
  {
   "cell_type": "code",
   "execution_count": 48,
   "id": "c432e5d1-07c9-449e-bcf2-077aafe7faad",
   "metadata": {},
   "outputs": [
    {
     "data": {
      "text/plain": [
       "['Manisha', 'Parashar']"
      ]
     },
     "execution_count": 48,
     "metadata": {},
     "output_type": "execute_result"
    }
   ],
   "source": [
    "fullname.split()"
   ]
  },
  {
   "cell_type": "code",
   "execution_count": 49,
   "id": "9d22cc70-9a57-498d-84d8-2349c65d8051",
   "metadata": {},
   "outputs": [
    {
     "data": {
      "text/plain": [
       "'Manisha'"
      ]
     },
     "execution_count": 49,
     "metadata": {},
     "output_type": "execute_result"
    }
   ],
   "source": [
    "firstname"
   ]
  },
  {
   "cell_type": "code",
   "execution_count": 53,
   "id": "cece45d6-8777-4969-a5ea-72df9d746222",
   "metadata": {},
   "outputs": [
    {
     "data": {
      "text/plain": [
       "'Manisha '"
      ]
     },
     "execution_count": 53,
     "metadata": {},
     "output_type": "execute_result"
    }
   ],
   "source": [
    "fullname[ :8]"
   ]
  },
  {
   "cell_type": "code",
   "execution_count": 55,
   "id": "05e46c9f-33d4-458a-92ac-3fc72f27491e",
   "metadata": {},
   "outputs": [],
   "source": [
    "# list : collection of different datatypes"
   ]
  },
  {
   "cell_type": "code",
   "execution_count": 56,
   "id": "02013d5c-67db-484c-8ba1-9b78855d0d38",
   "metadata": {},
   "outputs": [],
   "source": [
    "a = []"
   ]
  },
  {
   "cell_type": "code",
   "execution_count": 57,
   "id": "9b7c09da-815f-4562-ad56-e74bb68e0d98",
   "metadata": {},
   "outputs": [
    {
     "data": {
      "text/plain": [
       "list"
      ]
     },
     "execution_count": 57,
     "metadata": {},
     "output_type": "execute_result"
    }
   ],
   "source": [
    "type(a)"
   ]
  },
  {
   "cell_type": "code",
   "execution_count": 85,
   "id": "845e965d-1ce4-4241-a4be-aaed7c0602df",
   "metadata": {},
   "outputs": [],
   "source": [
    "a = [1, 9, 8.3, 4.3, 'Tushar', 'TB', False, [1, 2, 3, 4], type(a)]"
   ]
  },
  {
   "cell_type": "code",
   "execution_count": 70,
   "id": "e150635b-1e62-46b0-b74f-c7c53b0108dd",
   "metadata": {},
   "outputs": [
    {
     "data": {
      "text/plain": [
       "[1, 9, 8.3, 4.3, 'Tushar', 'TB', False, [1, 2, 3, 4], list]"
      ]
     },
     "execution_count": 70,
     "metadata": {},
     "output_type": "execute_result"
    }
   ],
   "source": [
    "a"
   ]
  },
  {
   "cell_type": "code",
   "execution_count": 71,
   "id": "d28a5d69-4fe1-48dd-a6d8-56fa33c44dbe",
   "metadata": {},
   "outputs": [
    {
     "data": {
      "text/plain": [
       "9"
      ]
     },
     "execution_count": 71,
     "metadata": {},
     "output_type": "execute_result"
    }
   ],
   "source": [
    "len(a)"
   ]
  },
  {
   "cell_type": "code",
   "execution_count": 72,
   "id": "6e6a9d83-9137-4478-864c-5028695c810f",
   "metadata": {},
   "outputs": [
    {
     "data": {
      "text/plain": [
       "list"
      ]
     },
     "execution_count": 72,
     "metadata": {},
     "output_type": "execute_result"
    }
   ],
   "source": [
    "a[8]"
   ]
  },
  {
   "cell_type": "code",
   "execution_count": 73,
   "id": "060f1a14-9a65-48b7-b8a5-fa3b75e4b692",
   "metadata": {},
   "outputs": [
    {
     "data": {
      "text/plain": [
       "4"
      ]
     },
     "execution_count": 73,
     "metadata": {},
     "output_type": "execute_result"
    }
   ],
   "source": [
    "a[7][3]"
   ]
  },
  {
   "cell_type": "code",
   "execution_count": 74,
   "id": "5b97b431-6e0d-43b1-9634-678a2d2caf60",
   "metadata": {},
   "outputs": [
    {
     "data": {
      "text/plain": [
       "False"
      ]
     },
     "execution_count": 74,
     "metadata": {},
     "output_type": "execute_result"
    }
   ],
   "source": [
    "a[-3]"
   ]
  },
  {
   "cell_type": "code",
   "execution_count": 75,
   "id": "12c075e8-9a0f-4b47-a62e-b5e7db9f4ef1",
   "metadata": {},
   "outputs": [
    {
     "data": {
      "text/plain": [
       "[1, 9, 8.3, 4.3, 'Tushar']"
      ]
     },
     "execution_count": 75,
     "metadata": {},
     "output_type": "execute_result"
    }
   ],
   "source": [
    "a[ : 5]"
   ]
  },
  {
   "cell_type": "code",
   "execution_count": 76,
   "id": "198f1b2a-39e4-44c1-ad2b-c6c49edd4342",
   "metadata": {},
   "outputs": [
    {
     "data": {
      "text/plain": [
       "['TB', False, [1, 2, 3, 4], list]"
      ]
     },
     "execution_count": 76,
     "metadata": {},
     "output_type": "execute_result"
    }
   ],
   "source": [
    "a[5 : ]"
   ]
  },
  {
   "cell_type": "code",
   "execution_count": 77,
   "id": "52884ade-6433-4fc5-a108-b79ee7b103cb",
   "metadata": {},
   "outputs": [
    {
     "data": {
      "text/plain": [
       "[8.3]"
      ]
     },
     "execution_count": 77,
     "metadata": {},
     "output_type": "execute_result"
    }
   ],
   "source": [
    "a[ 2 : 3 ]"
   ]
  },
  {
   "cell_type": "code",
   "execution_count": 78,
   "id": "917e3be4-a258-40c4-a68c-ad8384a8a2d8",
   "metadata": {},
   "outputs": [
    {
     "data": {
      "text/plain": [
       "[1, 9, 8.3, 4.3, 'Tushar', 'TB', False, [1, 2, 3, 4], list]"
      ]
     },
     "execution_count": 78,
     "metadata": {},
     "output_type": "execute_result"
    }
   ],
   "source": [
    "a"
   ]
  },
  {
   "cell_type": "code",
   "execution_count": 86,
   "id": "ae9e06dd-5eac-4deb-ac90-4872c283ffd9",
   "metadata": {},
   "outputs": [],
   "source": [
    "a.remove('Tushar')"
   ]
  },
  {
   "cell_type": "code",
   "execution_count": 87,
   "id": "2a9e02fb-9d4d-4bfc-af8e-87e6da29b0cf",
   "metadata": {},
   "outputs": [
    {
     "data": {
      "text/plain": [
       "[1, 9, 8.3, 4.3, 'TB', False, [1, 2, 3, 4], list]"
      ]
     },
     "execution_count": 87,
     "metadata": {},
     "output_type": "execute_result"
    }
   ],
   "source": [
    "a"
   ]
  },
  {
   "cell_type": "code",
   "execution_count": 88,
   "id": "8724cb97-b451-49a4-bfa6-b9d87cb9ff9b",
   "metadata": {},
   "outputs": [
    {
     "data": {
      "text/plain": [
       "list"
      ]
     },
     "execution_count": 88,
     "metadata": {},
     "output_type": "execute_result"
    }
   ],
   "source": [
    "a.pop()"
   ]
  },
  {
   "cell_type": "code",
   "execution_count": 89,
   "id": "cb35902e-e023-44e5-b455-8ed1e167fe9d",
   "metadata": {},
   "outputs": [
    {
     "data": {
      "text/plain": [
       "[1, 9, 8.3, 4.3, 'TB', False, [1, 2, 3, 4]]"
      ]
     },
     "execution_count": 89,
     "metadata": {},
     "output_type": "execute_result"
    }
   ],
   "source": [
    "a"
   ]
  },
  {
   "cell_type": "code",
   "execution_count": 90,
   "id": "ceccccb4-f9c7-41cc-b730-3dc5cae60226",
   "metadata": {},
   "outputs": [
    {
     "data": {
      "text/plain": [
       "1"
      ]
     },
     "execution_count": 90,
     "metadata": {},
     "output_type": "execute_result"
    }
   ],
   "source": [
    "a.pop(-(len(a)))"
   ]
  },
  {
   "cell_type": "code",
   "execution_count": 91,
   "id": "fa483f23-e019-4e14-bb88-9b77463f9a2b",
   "metadata": {},
   "outputs": [
    {
     "data": {
      "text/plain": [
       "[9, 8.3, 4.3, 'TB', False, [1, 2, 3, 4]]"
      ]
     },
     "execution_count": 91,
     "metadata": {},
     "output_type": "execute_result"
    }
   ],
   "source": [
    "a"
   ]
  },
  {
   "cell_type": "code",
   "execution_count": 92,
   "id": "a7688355-aeed-432f-8b28-d4d6a63612ee",
   "metadata": {},
   "outputs": [
    {
     "data": {
      "text/plain": [
       "'TB'"
      ]
     },
     "execution_count": 92,
     "metadata": {},
     "output_type": "execute_result"
    }
   ],
   "source": [
    "a.pop(3)"
   ]
  },
  {
   "cell_type": "code",
   "execution_count": 93,
   "id": "4bc49d02-8661-40c8-8499-86e508972602",
   "metadata": {},
   "outputs": [
    {
     "data": {
      "text/plain": [
       "[9, 8.3, 4.3, False, [1, 2, 3, 4]]"
      ]
     },
     "execution_count": 93,
     "metadata": {},
     "output_type": "execute_result"
    }
   ],
   "source": [
    "a"
   ]
  },
  {
   "cell_type": "code",
   "execution_count": 96,
   "id": "69fb4cf8-e435-4647-bb81-84327d655bbb",
   "metadata": {},
   "outputs": [
    {
     "data": {
      "text/plain": [
       "9"
      ]
     },
     "execution_count": 96,
     "metadata": {},
     "output_type": "execute_result"
    }
   ],
   "source": [
    "a.pop(-len(a))"
   ]
  },
  {
   "cell_type": "code",
   "execution_count": 97,
   "id": "c8a7f872-3971-4fa4-a857-f54c7c4f2308",
   "metadata": {},
   "outputs": [
    {
     "data": {
      "text/plain": [
       "[8.3, 4.3, False, [1, 2, 3, 4]]"
      ]
     },
     "execution_count": 97,
     "metadata": {},
     "output_type": "execute_result"
    }
   ],
   "source": [
    "a"
   ]
  },
  {
   "cell_type": "code",
   "execution_count": 98,
   "id": "d6f86152-3aa0-48ce-a138-a53d32a179c4",
   "metadata": {},
   "outputs": [],
   "source": [
    "a.append('Tushar')"
   ]
  },
  {
   "cell_type": "code",
   "execution_count": 99,
   "id": "97bd2f25-5aa6-44cb-b84c-e77fbc58bbeb",
   "metadata": {},
   "outputs": [
    {
     "data": {
      "text/plain": [
       "[8.3, 4.3, False, [1, 2, 3, 4], 'Tushar']"
      ]
     },
     "execution_count": 99,
     "metadata": {},
     "output_type": "execute_result"
    }
   ],
   "source": [
    "a"
   ]
  },
  {
   "cell_type": "code",
   "execution_count": 100,
   "id": "f7ea331e-b391-4190-938c-f7a8d40a840e",
   "metadata": {},
   "outputs": [],
   "source": [
    "a.insert(3,'TB')"
   ]
  },
  {
   "cell_type": "code",
   "execution_count": 101,
   "id": "a6456115-d95c-4e89-99ee-1f83ba90d704",
   "metadata": {},
   "outputs": [
    {
     "data": {
      "text/plain": [
       "[8.3, 4.3, False, 'TB', [1, 2, 3, 4], 'Tushar']"
      ]
     },
     "execution_count": 101,
     "metadata": {},
     "output_type": "execute_result"
    }
   ],
   "source": [
    "a"
   ]
  },
  {
   "cell_type": "code",
   "execution_count": null,
   "id": "414bbfe7-1940-4949-8bec-4ca5c7b43de5",
   "metadata": {},
   "outputs": [],
   "source": []
  }
 ],
 "metadata": {
  "kernelspec": {
   "display_name": "Python 3 (ipykernel)",
   "language": "python",
   "name": "python3"
  },
  "language_info": {
   "codemirror_mode": {
    "name": "ipython",
    "version": 3
   },
   "file_extension": ".py",
   "mimetype": "text/x-python",
   "name": "python",
   "nbconvert_exporter": "python",
   "pygments_lexer": "ipython3",
   "version": "3.12.7"
  }
 },
 "nbformat": 4,
 "nbformat_minor": 5
}
