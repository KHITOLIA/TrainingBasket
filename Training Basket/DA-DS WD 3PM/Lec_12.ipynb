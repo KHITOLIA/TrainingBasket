{
 "cells": [
  {
   "cell_type": "code",
   "execution_count": 1,
   "id": "efe881a2-154d-4ce7-87d1-2457ce7eab4f",
   "metadata": {},
   "outputs": [
    {
     "name": "stdout",
     "output_type": "stream",
     "text": [
      " programming, Vowels: 3,odd\n",
      " is, Vowels: 1,odd\n",
      " awesome, Vowels: 4,even\n"
     ]
    }
   ],
   "source": [
    "st = \"programming is awesome\"\n",
    "words = st.split()\n",
    "vowels = \"aeiou\" \n",
    "\n",
    "for word in words:\n",
    "\n",
    "    count = 0\n",
    "\n",
    "    for i in word:\n",
    "\n",
    "        if i in vowels:\n",
    "\n",
    "            count += 1\n",
    "\n",
    "    if count % 2 == 0:\n",
    "\n",
    "        print(f\" {word}, Vowels: {count},even\")\n",
    "\n",
    "    else:\n",
    "\n",
    "        print(f\" {word}, Vowels: {count},odd\")"
   ]
  },
  {
   "cell_type": "code",
   "execution_count": 2,
   "id": "8f9bd571-ca3a-4f48-b198-947af5051eea",
   "metadata": {},
   "outputs": [
    {
     "data": {
      "text/plain": [
       "'programming is awesome'"
      ]
     },
     "execution_count": 2,
     "metadata": {},
     "output_type": "execute_result"
    }
   ],
   "source": [
    "st"
   ]
  },
  {
   "cell_type": "code",
   "execution_count": 3,
   "id": "f2f6e4a7-96b6-434e-ba54-f0c4c6b83d20",
   "metadata": {},
   "outputs": [],
   "source": [
    "words = st.lower().split()"
   ]
  },
  {
   "cell_type": "code",
   "execution_count": 4,
   "id": "c3a1d6e1-85b3-421f-a7af-2e20f38c42c4",
   "metadata": {},
   "outputs": [
    {
     "data": {
      "text/plain": [
       "['programming', 'is', 'awesome']"
      ]
     },
     "execution_count": 4,
     "metadata": {},
     "output_type": "execute_result"
    }
   ],
   "source": [
    "words"
   ]
  },
  {
   "cell_type": "code",
   "execution_count": 5,
   "id": "619b49db-69d0-4f7a-a881-c91273a7de7e",
   "metadata": {},
   "outputs": [],
   "source": [
    "v = 'aeiou'\n",
    "total_score = 0\n",
    "for word in words:\n",
    "    count = 0\n",
    "    for char in word:\n",
    "        if char in v:\n",
    "            count += 1\n",
    "            \n",
    "    if count%2 == 0:\n",
    "        score = 2\n",
    "        total_score = total_score + score\n",
    "    else:\n",
    "        score = 1\n",
    "        total_score = total_score + score"
   ]
  },
  {
   "cell_type": "code",
   "execution_count": 6,
   "id": "69f1ab76-333b-43d7-9ff4-83e7db8077d0",
   "metadata": {},
   "outputs": [
    {
     "data": {
      "text/plain": [
       "4"
      ]
     },
     "execution_count": 6,
     "metadata": {},
     "output_type": "execute_result"
    }
   ],
   "source": [
    "total_score"
   ]
  },
  {
   "cell_type": "code",
   "execution_count": 17,
   "id": "1a514f21-ce7a-470d-a70c-800a0bcb8de4",
   "metadata": {},
   "outputs": [],
   "source": [
    "num = 81352"
   ]
  },
  {
   "cell_type": "code",
   "execution_count": 18,
   "id": "72321bb7-1f50-4857-b4c9-4636d10c8be3",
   "metadata": {},
   "outputs": [],
   "source": [
    "# reverse number print "
   ]
  },
  {
   "cell_type": "code",
   "execution_count": 30,
   "id": "404b7eca-e9c5-4db3-a7a6-15e0bbaf57fd",
   "metadata": {},
   "outputs": [],
   "source": [
    "l = len(str(num))"
   ]
  },
  {
   "cell_type": "code",
   "execution_count": 28,
   "id": "23f043f8-7697-4bf3-b752-52b037db777a",
   "metadata": {},
   "outputs": [],
   "source": [
    "num = 81352\n",
    "l = len(str(num))\n",
    "digit = 0\n",
    "for i in range(0, l):\n",
    "    r = num%10\n",
    "    num = num//10\n",
    "    digit = digit*10 + r"
   ]
  },
  {
   "cell_type": "code",
   "execution_count": 29,
   "id": "0b480602-24a2-4b3d-a494-67106899538a",
   "metadata": {},
   "outputs": [
    {
     "data": {
      "text/plain": [
       "25318"
      ]
     },
     "execution_count": 29,
     "metadata": {},
     "output_type": "execute_result"
    }
   ],
   "source": [
    "digit"
   ]
  },
  {
   "cell_type": "code",
   "execution_count": 31,
   "id": "08c87276-75b0-4f48-bb6c-603b81333253",
   "metadata": {},
   "outputs": [],
   "source": [
    "# While loop\n"
   ]
  },
  {
   "cell_type": "code",
   "execution_count": 39,
   "id": "a5827501-e6d0-4db2-903e-b2178c30b1c0",
   "metadata": {},
   "outputs": [
    {
     "name": "stdout",
     "output_type": "stream",
     "text": [
      "yes\n"
     ]
    }
   ],
   "source": [
    "a = 10\n",
    "while a > 5:\n",
    "    print(\"yes\")\n",
    "    a = a - 5"
   ]
  },
  {
   "cell_type": "code",
   "execution_count": 37,
   "id": "9468bea0-a894-45d0-bbce-6bf2a71c65f1",
   "metadata": {},
   "outputs": [
    {
     "data": {
      "text/plain": [
       "4"
      ]
     },
     "execution_count": 37,
     "metadata": {},
     "output_type": "execute_result"
    }
   ],
   "source": [
    "a"
   ]
  },
  {
   "cell_type": "code",
   "execution_count": 42,
   "id": "a155a5b2-180b-4fec-9bdd-ef228f28f4a2",
   "metadata": {},
   "outputs": [
    {
     "name": "stdout",
     "output_type": "stream",
     "text": [
      "programming is awesome"
     ]
    }
   ],
   "source": [
    "for i in st:\n",
    "    print(i, end = '')"
   ]
  },
  {
   "cell_type": "code",
   "execution_count": 43,
   "id": "7fb8406c-a346-4393-aace-ea6ad0c21110",
   "metadata": {},
   "outputs": [],
   "source": [
    "# while"
   ]
  },
  {
   "cell_type": "code",
   "execution_count": 49,
   "id": "bbf6ef4d-b736-45fc-ab17-83ea2b6fe6c2",
   "metadata": {},
   "outputs": [
    {
     "name": "stdout",
     "output_type": "stream",
     "text": [
      "programming is awesome"
     ]
    }
   ],
   "source": [
    "idx = 0\n",
    "while idx < len(st):\n",
    "    print(st[idx], end = '')\n",
    "    idx = idx + 1"
   ]
  },
  {
   "cell_type": "code",
   "execution_count": 50,
   "id": "7d0a43c9-9239-41a6-822b-d841fe974b32",
   "metadata": {},
   "outputs": [
    {
     "data": {
      "text/plain": [
       "'emosewa si gnimmargorp'"
      ]
     },
     "execution_count": 50,
     "metadata": {},
     "output_type": "execute_result"
    }
   ],
   "source": [
    "st[::-1]"
   ]
  },
  {
   "cell_type": "code",
   "execution_count": 53,
   "id": "c2c21d11-4b6f-4d6d-88fd-5c8c35f1225c",
   "metadata": {},
   "outputs": [],
   "source": [
    "s = ''\n",
    "for i in st:\n",
    "    s = i + s"
   ]
  },
  {
   "cell_type": "code",
   "execution_count": 54,
   "id": "f9f2c50b-fe89-4440-b914-bf89e16ce71b",
   "metadata": {},
   "outputs": [
    {
     "data": {
      "text/plain": [
       "'emosewa si gnimmargorp'"
      ]
     },
     "execution_count": 54,
     "metadata": {},
     "output_type": "execute_result"
    }
   ],
   "source": [
    "s"
   ]
  },
  {
   "cell_type": "code",
   "execution_count": 58,
   "id": "3e63d87e-7636-4caf-a83d-69754fb8f3ec",
   "metadata": {},
   "outputs": [
    {
     "name": "stdout",
     "output_type": "stream",
     "text": [
      "emosewa si gnimmargorp"
     ]
    }
   ],
   "source": [
    "idx = 1\n",
    "while idx <= len(st):\n",
    "    print(st[-idx], end = '')\n",
    "    idx = idx + 1"
   ]
  },
  {
   "cell_type": "code",
   "execution_count": 62,
   "id": "039763b3-2887-4cee-84cf-fac25a4acd7d",
   "metadata": {},
   "outputs": [
    {
     "data": {
      "text/plain": [
       "['awesome', 'is', 'programming']"
      ]
     },
     "execution_count": 62,
     "metadata": {},
     "output_type": "execute_result"
    }
   ],
   "source": [
    "st.split()[::-1] # aise nahi karna hai "
   ]
  },
  {
   "cell_type": "code",
   "execution_count": 63,
   "id": "960714a5-0036-48b6-aa3e-43204e8b4eed",
   "metadata": {},
   "outputs": [],
   "source": [
    "l = st.split()"
   ]
  },
  {
   "cell_type": "code",
   "execution_count": 64,
   "id": "be60be2c-561f-4305-a200-33abded4d40e",
   "metadata": {},
   "outputs": [
    {
     "data": {
      "text/plain": [
       "['programming', 'is', 'awesome']"
      ]
     },
     "execution_count": 64,
     "metadata": {},
     "output_type": "execute_result"
    }
   ],
   "source": [
    "l"
   ]
  },
  {
   "cell_type": "code",
   "execution_count": 71,
   "id": "ccd530b5-652b-4977-a04f-cff9522b28d2",
   "metadata": {},
   "outputs": [],
   "source": [
    "l = st.split()\n",
    "a = []\n",
    "for i in l:\n",
    "    a.insert(0, i)"
   ]
  },
  {
   "cell_type": "code",
   "execution_count": 73,
   "id": "5007d746-ffbc-4b59-830f-3e62418032a5",
   "metadata": {},
   "outputs": [
    {
     "data": {
      "text/plain": [
       "['awesome', 'is', 'programming']"
      ]
     },
     "execution_count": 73,
     "metadata": {},
     "output_type": "execute_result"
    }
   ],
   "source": [
    "a"
   ]
  },
  {
   "cell_type": "code",
   "execution_count": 77,
   "id": "557c6e59-ab74-4a4c-bb1f-fc8fe6f17865",
   "metadata": {},
   "outputs": [],
   "source": [
    "st = 'AABCAAADA'\n",
    "# # print AA CA AD"
   ]
  },
  {
   "cell_type": "code",
   "execution_count": 78,
   "id": "14e86e07-170a-4a79-bff9-df4e6e4144b7",
   "metadata": {},
   "outputs": [],
   "source": [
    "st = list(st)"
   ]
  },
  {
   "cell_type": "code",
   "execution_count": 79,
   "id": "b3963cab-d8ab-4fe4-b4ab-272407ac4ea9",
   "metadata": {},
   "outputs": [
    {
     "data": {
      "text/plain": [
       "['A', 'A', 'B', 'C', 'A', 'A', 'A', 'D', 'A']"
      ]
     },
     "execution_count": 79,
     "metadata": {},
     "output_type": "execute_result"
    }
   ],
   "source": [
    "st"
   ]
  },
  {
   "cell_type": "code",
   "execution_count": null,
   "id": "770f41a0-0902-4d76-bc0a-6f6ac1e2be2b",
   "metadata": {},
   "outputs": [],
   "source": []
  }
 ],
 "metadata": {
  "kernelspec": {
   "display_name": "Python 3 (ipykernel)",
   "language": "python",
   "name": "python3"
  },
  "language_info": {
   "codemirror_mode": {
    "name": "ipython",
    "version": 3
   },
   "file_extension": ".py",
   "mimetype": "text/x-python",
   "name": "python",
   "nbconvert_exporter": "python",
   "pygments_lexer": "ipython3",
   "version": "3.12.7"
  }
 },
 "nbformat": 4,
 "nbformat_minor": 5
}
