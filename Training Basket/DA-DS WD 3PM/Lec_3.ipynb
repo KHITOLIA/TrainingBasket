{
 "cells": [
  {
   "cell_type": "code",
   "execution_count": 1,
   "id": "6f4333a6-d5a3-4095-b9fc-2eb7c04aab02",
   "metadata": {},
   "outputs": [],
   "source": [
    "# Strings : collection of characters"
   ]
  },
  {
   "cell_type": "code",
   "execution_count": 2,
   "id": "397404c7-5701-47cd-a05c-0167b517e2aa",
   "metadata": {},
   "outputs": [],
   "source": [
    "s = 'Training Basket'\n",
    "# strip\n",
    "# split"
   ]
  },
  {
   "cell_type": "code",
   "execution_count": 4,
   "id": "bdee97a6-e1b8-42d0-9ee0-0c8a652b8520",
   "metadata": {},
   "outputs": [
    {
     "data": {
      "text/plain": [
       "'Training Basket'"
      ]
     },
     "execution_count": 4,
     "metadata": {},
     "output_type": "execute_result"
    }
   ],
   "source": [
    "s"
   ]
  },
  {
   "cell_type": "code",
   "execution_count": 5,
   "id": "c1e7ae91-4bdc-4509-92e9-1ac2f3670487",
   "metadata": {},
   "outputs": [
    {
     "data": {
      "text/plain": [
       "str"
      ]
     },
     "execution_count": 5,
     "metadata": {},
     "output_type": "execute_result"
    }
   ],
   "source": [
    "type(s)"
   ]
  },
  {
   "cell_type": "code",
   "execution_count": 6,
   "id": "eac0678b-2c31-4d77-b319-c763257a7685",
   "metadata": {},
   "outputs": [
    {
     "data": {
      "text/plain": [
       "2437005308976"
      ]
     },
     "execution_count": 6,
     "metadata": {},
     "output_type": "execute_result"
    }
   ],
   "source": [
    "id(s)"
   ]
  },
  {
   "cell_type": "code",
   "execution_count": 7,
   "id": "dfdb8ef3-b312-4a0e-acef-61b56a9712d7",
   "metadata": {},
   "outputs": [
    {
     "data": {
      "text/plain": [
       "2"
      ]
     },
     "execution_count": 7,
     "metadata": {},
     "output_type": "execute_result"
    }
   ],
   "source": [
    "s.count('i')"
   ]
  },
  {
   "cell_type": "code",
   "execution_count": 8,
   "id": "50a3531f-64e8-4970-b526-d5888d367c3b",
   "metadata": {},
   "outputs": [
    {
     "data": {
      "text/plain": [
       "1"
      ]
     },
     "execution_count": 8,
     "metadata": {},
     "output_type": "execute_result"
    }
   ],
   "source": [
    "s.count('t')"
   ]
  },
  {
   "cell_type": "code",
   "execution_count": 9,
   "id": "d288755e-c452-4c3e-88d9-c225d3fb776c",
   "metadata": {},
   "outputs": [
    {
     "data": {
      "text/plain": [
       "1"
      ]
     },
     "execution_count": 9,
     "metadata": {},
     "output_type": "execute_result"
    }
   ],
   "source": [
    "s.count('B')"
   ]
  },
  {
   "cell_type": "code",
   "execution_count": 10,
   "id": "7213834d-7021-4264-983a-7a2d27d3526e",
   "metadata": {},
   "outputs": [
    {
     "data": {
      "text/plain": [
       "0"
      ]
     },
     "execution_count": 10,
     "metadata": {},
     "output_type": "execute_result"
    }
   ],
   "source": [
    "s.count('b')"
   ]
  },
  {
   "cell_type": "code",
   "execution_count": 11,
   "id": "148fbdd8-5dcf-40ed-a819-28b033b0fc01",
   "metadata": {},
   "outputs": [
    {
     "data": {
      "text/plain": [
       "'Training Basket'"
      ]
     },
     "execution_count": 11,
     "metadata": {},
     "output_type": "execute_result"
    }
   ],
   "source": [
    "s"
   ]
  },
  {
   "cell_type": "code",
   "execution_count": 12,
   "id": "cbac5903-135f-4080-aaab-a18a42804715",
   "metadata": {},
   "outputs": [
    {
     "data": {
      "text/plain": [
       "1"
      ]
     },
     "execution_count": 12,
     "metadata": {},
     "output_type": "execute_result"
    }
   ],
   "source": [
    "s.count('Ba')"
   ]
  },
  {
   "cell_type": "code",
   "execution_count": 13,
   "id": "6ac263c4-4fa4-47a1-9fe4-00e3dca4b199",
   "metadata": {},
   "outputs": [
    {
     "data": {
      "text/plain": [
       "2"
      ]
     },
     "execution_count": 13,
     "metadata": {},
     "output_type": "execute_result"
    }
   ],
   "source": [
    "s.count('in')"
   ]
  },
  {
   "cell_type": "code",
   "execution_count": 15,
   "id": "7b0dfef7-632c-4c7e-891a-439a429be608",
   "metadata": {},
   "outputs": [],
   "source": [
    "s = s.replace('Basket', 'Session')"
   ]
  },
  {
   "cell_type": "code",
   "execution_count": 16,
   "id": "edf6257e-29f0-4c45-a6fd-4c21395f9222",
   "metadata": {},
   "outputs": [
    {
     "data": {
      "text/plain": [
       "'Training Session'"
      ]
     },
     "execution_count": 16,
     "metadata": {},
     "output_type": "execute_result"
    }
   ],
   "source": [
    "s"
   ]
  },
  {
   "cell_type": "code",
   "execution_count": 18,
   "id": "9f0fec8c-2db2-485c-98f5-6ce90dea328a",
   "metadata": {},
   "outputs": [],
   "source": [
    "s = s.replace('T', 't')"
   ]
  },
  {
   "cell_type": "code",
   "execution_count": 19,
   "id": "e1c2f024-d53f-42db-94e9-c6a1ce44f324",
   "metadata": {},
   "outputs": [],
   "source": [
    "s = s.replace('S', 's')"
   ]
  },
  {
   "cell_type": "code",
   "execution_count": 20,
   "id": "9b86f11e-16e9-4452-abc6-57dcef79861e",
   "metadata": {},
   "outputs": [
    {
     "data": {
      "text/plain": [
       "'training session'"
      ]
     },
     "execution_count": 20,
     "metadata": {},
     "output_type": "execute_result"
    }
   ],
   "source": [
    "s"
   ]
  },
  {
   "cell_type": "code",
   "execution_count": 21,
   "id": "ddcbad75-450c-466c-b7e1-59d3b182399f",
   "metadata": {},
   "outputs": [],
   "source": [
    "s = s.upper()"
   ]
  },
  {
   "cell_type": "code",
   "execution_count": 22,
   "id": "8734deaa-9e8a-4559-8b77-17a08bb0c92d",
   "metadata": {},
   "outputs": [
    {
     "data": {
      "text/plain": [
       "'TRAINING SESSION'"
      ]
     },
     "execution_count": 22,
     "metadata": {},
     "output_type": "execute_result"
    }
   ],
   "source": [
    "s"
   ]
  },
  {
   "cell_type": "code",
   "execution_count": 23,
   "id": "3dfe3c2a-4dcf-419c-a2e0-deb79864ce1f",
   "metadata": {},
   "outputs": [],
   "source": [
    "s = s.lower()"
   ]
  },
  {
   "cell_type": "code",
   "execution_count": 24,
   "id": "3c7c60bf-87da-40b1-a5c1-9d2be701cf0e",
   "metadata": {},
   "outputs": [
    {
     "data": {
      "text/plain": [
       "'training session'"
      ]
     },
     "execution_count": 24,
     "metadata": {},
     "output_type": "execute_result"
    }
   ],
   "source": [
    "s"
   ]
  },
  {
   "cell_type": "code",
   "execution_count": 27,
   "id": "bbc1de8a-d9af-48b2-847b-400e8e9fe9cb",
   "metadata": {},
   "outputs": [
    {
     "data": {
      "text/plain": [
       "'a'"
      ]
     },
     "execution_count": 27,
     "metadata": {},
     "output_type": "execute_result"
    }
   ],
   "source": [
    "chr(97)"
   ]
  },
  {
   "cell_type": "code",
   "execution_count": 28,
   "id": "ab7e37b8-02b4-427a-92eb-57e4dbc8109a",
   "metadata": {},
   "outputs": [],
   "source": [
    "# characters are being stored in the ASCII value"
   ]
  },
  {
   "cell_type": "code",
   "execution_count": 30,
   "id": "639cdc89-e486-4a40-a572-e0a509526b34",
   "metadata": {},
   "outputs": [
    {
     "data": {
      "text/plain": [
       "'a'"
      ]
     },
     "execution_count": 30,
     "metadata": {},
     "output_type": "execute_result"
    }
   ],
   "source": [
    "ord('a')  # give you the ascii value\n",
    "chr(97) # the character, which it belongs to"
   ]
  },
  {
   "cell_type": "code",
   "execution_count": 33,
   "id": "671e62ea-63ea-4407-9d82-d02d43c2d634",
   "metadata": {},
   "outputs": [],
   "source": [
    "ascii_value = ord('a') - 32"
   ]
  },
  {
   "cell_type": "code",
   "execution_count": 34,
   "id": "e1e93c6a-835a-484b-b1c2-ef25e2c36cc5",
   "metadata": {},
   "outputs": [
    {
     "data": {
      "text/plain": [
       "'A'"
      ]
     },
     "execution_count": 34,
     "metadata": {},
     "output_type": "execute_result"
    }
   ],
   "source": [
    "chr(ascii_value)"
   ]
  },
  {
   "cell_type": "code",
   "execution_count": 35,
   "id": "9d68ffba-9f19-4817-9a95-3ccfed72afd1",
   "metadata": {},
   "outputs": [
    {
     "data": {
      "text/plain": [
       "'A'"
      ]
     },
     "execution_count": 35,
     "metadata": {},
     "output_type": "execute_result"
    }
   ],
   "source": [
    "chr(ord('a') - 32)"
   ]
  },
  {
   "cell_type": "code",
   "execution_count": 37,
   "id": "2f0b0481-ad21-445b-9fa3-df9483cc7625",
   "metadata": {},
   "outputs": [
    {
     "data": {
      "text/plain": [
       "'training session'"
      ]
     },
     "execution_count": 37,
     "metadata": {},
     "output_type": "execute_result"
    }
   ],
   "source": [
    "# chr(), ord()\n",
    "s"
   ]
  },
  {
   "cell_type": "code",
   "execution_count": 46,
   "id": "1e41b9b7-cb91-4df7-b0c5-87dc0a0b10ed",
   "metadata": {},
   "outputs": [
    {
     "data": {
      "text/plain": [
       "'o'"
      ]
     },
     "execution_count": 46,
     "metadata": {},
     "output_type": "execute_result"
    }
   ],
   "source": [
    " s[-2]  # indexing"
   ]
  },
  {
   "cell_type": "code",
   "execution_count": 44,
   "id": "8d3355d8-bcf4-4197-b8da-bf6abbe6dbd1",
   "metadata": {},
   "outputs": [
    {
     "data": {
      "text/plain": [
       "''"
      ]
     },
     "execution_count": 44,
     "metadata": {},
     "output_type": "execute_result"
    }
   ],
   "source": [
    "s[ -1 : -100]"
   ]
  },
  {
   "cell_type": "code",
   "execution_count": 45,
   "id": "a85b52cf-6b88-4f1c-ac8d-2fd234379094",
   "metadata": {},
   "outputs": [
    {
     "data": {
      "text/plain": [
       "'ssio'"
      ]
     },
     "execution_count": 45,
     "metadata": {},
     "output_type": "execute_result"
    }
   ],
   "source": [
    "s[-5 : -1] # slicing"
   ]
  },
  {
   "cell_type": "code",
   "execution_count": 47,
   "id": "810b351e-3e9b-4c2e-a9bd-3acc80825964",
   "metadata": {},
   "outputs": [
    {
     "data": {
      "text/plain": [
       "'training session'"
      ]
     },
     "execution_count": 47,
     "metadata": {},
     "output_type": "execute_result"
    }
   ],
   "source": [
    "s"
   ]
  },
  {
   "cell_type": "code",
   "execution_count": 48,
   "id": "8f7c47e8-4a12-4e88-895e-f3170644f2df",
   "metadata": {},
   "outputs": [
    {
     "data": {
      "text/plain": [
       "False"
      ]
     },
     "execution_count": 48,
     "metadata": {},
     "output_type": "execute_result"
    }
   ],
   "source": [
    "s.isalpha()"
   ]
  },
  {
   "cell_type": "code",
   "execution_count": 55,
   "id": "31598577-bfe2-446a-a44b-2c0ba7fe7602",
   "metadata": {},
   "outputs": [],
   "source": [
    "s1 = 'trainingsession'"
   ]
  },
  {
   "cell_type": "code",
   "execution_count": 56,
   "id": "1bcd23e9-32dc-4f37-92ff-4ca2b6833fac",
   "metadata": {},
   "outputs": [
    {
     "data": {
      "text/plain": [
       "True"
      ]
     },
     "execution_count": 56,
     "metadata": {},
     "output_type": "execute_result"
    }
   ],
   "source": [
    "s1.isalpha()"
   ]
  },
  {
   "cell_type": "code",
   "execution_count": 57,
   "id": "09cf61e1-e13d-44d2-ae40-1913bd441629",
   "metadata": {},
   "outputs": [
    {
     "data": {
      "text/plain": [
       "'training session'"
      ]
     },
     "execution_count": 57,
     "metadata": {},
     "output_type": "execute_result"
    }
   ],
   "source": [
    "s"
   ]
  },
  {
   "cell_type": "code",
   "execution_count": 58,
   "id": "1f79dadc-d775-4883-8685-a9a3e6afe988",
   "metadata": {},
   "outputs": [
    {
     "data": {
      "text/plain": [
       "True"
      ]
     },
     "execution_count": 58,
     "metadata": {},
     "output_type": "execute_result"
    }
   ],
   "source": [
    "s.endswith('n')"
   ]
  },
  {
   "cell_type": "code",
   "execution_count": 59,
   "id": "927b5847-4838-46b7-9b78-7b3801c7ca35",
   "metadata": {},
   "outputs": [
    {
     "data": {
      "text/plain": [
       "True"
      ]
     },
     "execution_count": 59,
     "metadata": {},
     "output_type": "execute_result"
    }
   ],
   "source": [
    "s.endswith('ion')"
   ]
  },
  {
   "cell_type": "code",
   "execution_count": 60,
   "id": "26037aab-58a4-4259-95c5-29a2ac93b44f",
   "metadata": {},
   "outputs": [
    {
     "data": {
      "text/plain": [
       "True"
      ]
     },
     "execution_count": 60,
     "metadata": {},
     "output_type": "execute_result"
    }
   ],
   "source": [
    "s.endswith('session')"
   ]
  },
  {
   "cell_type": "code",
   "execution_count": 62,
   "id": "d654fb85-6537-402b-b011-a9a65b67e211",
   "metadata": {},
   "outputs": [],
   "source": [
    "s = s.capitalize()"
   ]
  },
  {
   "cell_type": "code",
   "execution_count": 63,
   "id": "f67dbec0-8773-48c7-bb17-bd5cfad3e750",
   "metadata": {},
   "outputs": [
    {
     "data": {
      "text/plain": [
       "3"
      ]
     },
     "execution_count": 63,
     "metadata": {},
     "output_type": "execute_result"
    }
   ],
   "source": [
    "s.find('i')"
   ]
  },
  {
   "cell_type": "code",
   "execution_count": 66,
   "id": "3e7a9703-d3a8-4005-8eeb-ec3dd5728fc0",
   "metadata": {},
   "outputs": [
    {
     "data": {
      "text/plain": [
       "'noisses gniniarT'"
      ]
     },
     "execution_count": 66,
     "metadata": {},
     "output_type": "execute_result"
    }
   ],
   "source": [
    "s[::-1] # through slicing"
   ]
  },
  {
   "cell_type": "code",
   "execution_count": 71,
   "id": "89e8a480-8011-472a-8219-e91c554a76c8",
   "metadata": {},
   "outputs": [],
   "source": [
    "# s.split()[::-1][0][::-1] + ' ' + s.split()[::-1][1][::-1]"
   ]
  },
  {
   "cell_type": "code",
   "execution_count": 73,
   "id": "d2c2f07e-13d5-4b1e-9083-2a6f70567f3a",
   "metadata": {},
   "outputs": [
    {
     "data": {
      "text/plain": [
       "'Training session'"
      ]
     },
     "execution_count": 73,
     "metadata": {},
     "output_type": "execute_result"
    }
   ],
   "source": [
    "s"
   ]
  },
  {
   "cell_type": "code",
   "execution_count": 74,
   "id": "6b0239c1-c1aa-4051-b8e8-8b10449a9144",
   "metadata": {},
   "outputs": [
    {
     "data": {
      "text/plain": [
       "'tRAINING SESSION'"
      ]
     },
     "execution_count": 74,
     "metadata": {},
     "output_type": "execute_result"
    }
   ],
   "source": [
    "s.swapcase()"
   ]
  },
  {
   "cell_type": "code",
   "execution_count": 75,
   "id": "0fac172b-1885-4ced-885d-c61ae30b4fcf",
   "metadata": {},
   "outputs": [],
   "source": [
    "# format and f string"
   ]
  },
  {
   "cell_type": "code",
   "execution_count": null,
   "id": "d131a347-d6eb-47df-8473-1eecfe64cbd1",
   "metadata": {},
   "outputs": [],
   "source": []
  }
 ],
 "metadata": {
  "kernelspec": {
   "display_name": "Python 3 (ipykernel)",
   "language": "python",
   "name": "python3"
  },
  "language_info": {
   "codemirror_mode": {
    "name": "ipython",
    "version": 3
   },
   "file_extension": ".py",
   "mimetype": "text/x-python",
   "name": "python",
   "nbconvert_exporter": "python",
   "pygments_lexer": "ipython3",
   "version": "3.12.7"
  }
 },
 "nbformat": 4,
 "nbformat_minor": 5
}
