{
 "cells": [
  {
   "cell_type": "code",
   "execution_count": 2,
   "id": "e3e71f8c-67a8-411e-b6f6-bc1c07ea34ca",
   "metadata": {},
   "outputs": [],
   "source": [
    "# Strings"
   ]
  },
  {
   "cell_type": "code",
   "execution_count": 3,
   "id": "1b51810a-fc06-47a6-b743-59b30c8faf59",
   "metadata": {},
   "outputs": [],
   "source": [
    "s = 'Training Basket'"
   ]
  },
  {
   "cell_type": "code",
   "execution_count": 5,
   "id": "0b22c776-104b-4479-b023-5598624523cc",
   "metadata": {},
   "outputs": [
    {
     "name": "stdout",
     "output_type": "stream",
     "text": [
      "<class 'str'>\n"
     ]
    }
   ],
   "source": [
    "print(type(s))"
   ]
  },
  {
   "cell_type": "code",
   "execution_count": 6,
   "id": "498f3845-7583-467a-ac7a-8d68d53940ea",
   "metadata": {},
   "outputs": [
    {
     "data": {
      "text/plain": [
       "type"
      ]
     },
     "execution_count": 6,
     "metadata": {},
     "output_type": "execute_result"
    }
   ],
   "source": [
    "type"
   ]
  },
  {
   "cell_type": "code",
   "execution_count": 7,
   "id": "12d8dea9-663e-44ff-a77b-8729cd7c5951",
   "metadata": {},
   "outputs": [
    {
     "data": {
      "text/plain": [
       "'Training Basket'"
      ]
     },
     "execution_count": 7,
     "metadata": {},
     "output_type": "execute_result"
    }
   ],
   "source": [
    "s"
   ]
  },
  {
   "cell_type": "code",
   "execution_count": 8,
   "id": "eec29d5e-ce38-442c-ad3f-5b4d5fd17f78",
   "metadata": {},
   "outputs": [
    {
     "data": {
      "text/plain": [
       "15"
      ]
     },
     "execution_count": 8,
     "metadata": {},
     "output_type": "execute_result"
    }
   ],
   "source": [
    "len(s)"
   ]
  },
  {
   "cell_type": "code",
   "execution_count": 9,
   "id": "6b3c3277-6856-4f07-aa36-76097b4eef12",
   "metadata": {},
   "outputs": [
    {
     "data": {
      "text/plain": [
       "'Training Basket'"
      ]
     },
     "execution_count": 9,
     "metadata": {},
     "output_type": "execute_result"
    }
   ],
   "source": [
    "s"
   ]
  },
  {
   "cell_type": "code",
   "execution_count": 10,
   "id": "06c84022-53ad-427b-9a5d-fcd7db6d6496",
   "metadata": {},
   "outputs": [
    {
     "data": {
      "text/plain": [
       "15"
      ]
     },
     "execution_count": 10,
     "metadata": {},
     "output_type": "execute_result"
    }
   ],
   "source": [
    "len(s)"
   ]
  },
  {
   "cell_type": "markdown",
   "id": "d8f4f071-f3cb-42d4-b1b5-1257b17c3965",
   "metadata": {},
   "source": [
    "# Strings are indexable datatype"
   ]
  },
  {
   "cell_type": "code",
   "execution_count": 11,
   "id": "ffa87de6-182a-4654-9274-faea16d0d508",
   "metadata": {},
   "outputs": [
    {
     "data": {
      "text/plain": [
       "'T'"
      ]
     },
     "execution_count": 11,
     "metadata": {},
     "output_type": "execute_result"
    }
   ],
   "source": [
    "s[0]"
   ]
  },
  {
   "cell_type": "code",
   "execution_count": 12,
   "id": "3480fcad-29c7-4472-b596-cebeabbb6546",
   "metadata": {},
   "outputs": [
    {
     "data": {
      "text/plain": [
       "'a'"
      ]
     },
     "execution_count": 12,
     "metadata": {},
     "output_type": "execute_result"
    }
   ],
   "source": [
    "s[10]"
   ]
  },
  {
   "cell_type": "code",
   "execution_count": 13,
   "id": "c43ed157-6d1a-4e85-ba2a-58f248ded3ec",
   "metadata": {},
   "outputs": [
    {
     "data": {
      "text/plain": [
       "' '"
      ]
     },
     "execution_count": 13,
     "metadata": {},
     "output_type": "execute_result"
    }
   ],
   "source": [
    "s[8]"
   ]
  },
  {
   "cell_type": "code",
   "execution_count": 14,
   "id": "48bc6194-4bd0-457a-9054-a861bb67230f",
   "metadata": {},
   "outputs": [
    {
     "ename": "IndexError",
     "evalue": "string index out of range",
     "output_type": "error",
     "traceback": [
      "\u001b[1;31m---------------------------------------------------------------------------\u001b[0m",
      "\u001b[1;31mIndexError\u001b[0m                                Traceback (most recent call last)",
      "Cell \u001b[1;32mIn[14], line 1\u001b[0m\n\u001b[1;32m----> 1\u001b[0m s[\u001b[38;5;241m19\u001b[39m]\n",
      "\u001b[1;31mIndexError\u001b[0m: string index out of range"
     ]
    }
   ],
   "source": [
    "s[19]"
   ]
  },
  {
   "cell_type": "markdown",
   "id": "3af667c8-81c9-4a01-9bae-a46d232f3de2",
   "metadata": {},
   "source": [
    "# slicing can be done in strings"
   ]
  },
  {
   "cell_type": "code",
   "execution_count": 17,
   "id": "97c66001-ae0d-4a2e-a643-d455ddb1a5c7",
   "metadata": {},
   "outputs": [
    {
     "data": {
      "text/plain": [
       "'aini'"
      ]
     },
     "execution_count": 17,
     "metadata": {},
     "output_type": "execute_result"
    }
   ],
   "source": [
    "s[2 : 6]"
   ]
  },
  {
   "cell_type": "code",
   "execution_count": 18,
   "id": "29d86857-c394-49ac-a725-42a9d4ee4cc1",
   "metadata": {},
   "outputs": [
    {
     "data": {
      "text/plain": [
       "'Training'"
      ]
     },
     "execution_count": 18,
     "metadata": {},
     "output_type": "execute_result"
    }
   ],
   "source": [
    "s[ : 8]"
   ]
  },
  {
   "cell_type": "code",
   "execution_count": 19,
   "id": "01b0b29c-282d-41a1-8bef-83d0af56e013",
   "metadata": {},
   "outputs": [
    {
     "data": {
      "text/plain": [
       "' Basket'"
      ]
     },
     "execution_count": 19,
     "metadata": {},
     "output_type": "execute_result"
    }
   ],
   "source": [
    "s[ 8 :  ]"
   ]
  },
  {
   "cell_type": "code",
   "execution_count": 20,
   "id": "ea3b72b1-d05b-4f63-853c-59852c21c451",
   "metadata": {},
   "outputs": [
    {
     "data": {
      "text/plain": [
       "' Basket'"
      ]
     },
     "execution_count": 20,
     "metadata": {},
     "output_type": "execute_result"
    }
   ],
   "source": [
    "s[ 8 : 100]"
   ]
  },
  {
   "cell_type": "code",
   "execution_count": 23,
   "id": "5707a3f0-d1ec-4ffa-b200-754115203137",
   "metadata": {},
   "outputs": [],
   "source": [
    "s = '   Tushar    '\n",
    "s = s.strip()  "
   ]
  },
  {
   "cell_type": "code",
   "execution_count": 24,
   "id": "674d804e-bff5-4e31-b656-0f855c07ac42",
   "metadata": {},
   "outputs": [
    {
     "data": {
      "text/plain": [
       "'Tushar'"
      ]
     },
     "execution_count": 24,
     "metadata": {},
     "output_type": "execute_result"
    }
   ],
   "source": [
    "s"
   ]
  },
  {
   "cell_type": "code",
   "execution_count": 25,
   "id": "a4baa5e3-d0b7-4082-bc69-a0ccaa85c8fd",
   "metadata": {},
   "outputs": [
    {
     "data": {
      "text/plain": [
       "'Tushar'"
      ]
     },
     "execution_count": 25,
     "metadata": {},
     "output_type": "execute_result"
    }
   ],
   "source": [
    "s.strip()"
   ]
  },
  {
   "cell_type": "code",
   "execution_count": 34,
   "id": "245d8b7a-faab-40d2-abc6-41ba90cdc790",
   "metadata": {},
   "outputs": [
    {
     "data": {
      "text/plain": [
       "['Training', 'Basket', 'Noida']"
      ]
     },
     "execution_count": 34,
     "metadata": {},
     "output_type": "execute_result"
    }
   ],
   "source": [
    "s = 'Training Basket Noida'\n",
    "s.split()"
   ]
  },
  {
   "cell_type": "code",
   "execution_count": 27,
   "id": "8c701cdb-613d-4de3-83d6-af09515ec9e6",
   "metadata": {},
   "outputs": [],
   "source": [
    "s = s.split()"
   ]
  },
  {
   "cell_type": "code",
   "execution_count": 32,
   "id": "612d06b0-8bbd-4150-a189-1f3284a1a671",
   "metadata": {},
   "outputs": [
    {
     "data": {
      "text/plain": [
       "['Tra', 'n', 'ng Basket']"
      ]
     },
     "execution_count": 32,
     "metadata": {},
     "output_type": "execute_result"
    }
   ],
   "source": [
    "s = 'Training Basket'\n",
    "s.split('i')"
   ]
  },
  {
   "cell_type": "code",
   "execution_count": 33,
   "id": "a3defe07-620d-4e06-b7bd-485d1cc9f0b2",
   "metadata": {},
   "outputs": [
    {
     "data": {
      "text/plain": [
       "['Tr', 'ining B', 'sket']"
      ]
     },
     "execution_count": 33,
     "metadata": {},
     "output_type": "execute_result"
    }
   ],
   "source": [
    "s.split('a')"
   ]
  },
  {
   "cell_type": "code",
   "execution_count": 37,
   "id": "a7e2222f-772f-4584-8985-0887fb3590ff",
   "metadata": {},
   "outputs": [
    {
     "data": {
      "text/plain": [
       "'Training Basket Noida'"
      ]
     },
     "execution_count": 37,
     "metadata": {},
     "output_type": "execute_result"
    }
   ],
   "source": [
    "s.split()[0] + ' ' + s.split()[1] + ' ' + s.split()[2]"
   ]
  },
  {
   "cell_type": "code",
   "execution_count": 39,
   "id": "10df0305-9378-4652-b105-d36c6f7e0fab",
   "metadata": {},
   "outputs": [
    {
     "data": {
      "text/plain": [
       "['Training ', ' Noida']"
      ]
     },
     "execution_count": 39,
     "metadata": {},
     "output_type": "execute_result"
    }
   ],
   "source": [
    "s.split('Basket')"
   ]
  },
  {
   "cell_type": "code",
   "execution_count": null,
   "id": "8a969e9b-9f93-4ad8-b5a7-11c714c5a300",
   "metadata": {},
   "outputs": [],
   "source": []
  }
 ],
 "metadata": {
  "kernelspec": {
   "display_name": "Python 3 (ipykernel)",
   "language": "python",
   "name": "python3"
  },
  "language_info": {
   "codemirror_mode": {
    "name": "ipython",
    "version": 3
   },
   "file_extension": ".py",
   "mimetype": "text/x-python",
   "name": "python",
   "nbconvert_exporter": "python",
   "pygments_lexer": "ipython3",
   "version": "3.12.7"
  }
 },
 "nbformat": 4,
 "nbformat_minor": 5
}
