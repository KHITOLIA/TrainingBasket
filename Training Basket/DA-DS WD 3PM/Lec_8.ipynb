{
 "cells": [
  {
   "cell_type": "code",
   "execution_count": 5,
   "id": "7c36aed6-0a1f-4f45-b061-a26e994cd78c",
   "metadata": {},
   "outputs": [
    {
     "name": "stdin",
     "output_type": "stream",
     "text": [
      "enter your name :  Agrim\n"
     ]
    },
    {
     "name": "stdout",
     "output_type": "stream",
     "text": [
      "r\n"
     ]
    }
   ],
   "source": [
    "name = input(\"enter your name : \")\n",
    "l = len(name)\n",
    "\n",
    "if l%2 == 0:\n",
    "    print(name[(l//2)-1], name[l//2])\n",
    "else:\n",
    "    print(name[l//2])"
   ]
  },
  {
   "cell_type": "code",
   "execution_count": 12,
   "id": "89a1abeb-0d57-4fe3-9d33-4e3ba81d9108",
   "metadata": {},
   "outputs": [
    {
     "name": "stdout",
     "output_type": "stream",
     "text": [
      "tony and his 51 is not genius\n"
     ]
    }
   ],
   "source": [
    "name_ = 'tony'\n",
    "age = 51\n",
    "a_genius = False\n",
    "if a_genius:\n",
    "    print(f'{name_} and he is {age}yr old, is a genius')\n",
    "else:\n",
    "    print(f'{name_} and his {age} is not genius')"
   ]
  },
  {
   "cell_type": "code",
   "execution_count": 13,
   "id": "38320aae-be00-47d5-85e8-83fa0c99abea",
   "metadata": {},
   "outputs": [],
   "source": [
    "s = 'training basket electronic city'"
   ]
  },
  {
   "cell_type": "code",
   "execution_count": 14,
   "id": "077839d7-856d-4261-9e69-2fe68f3a3386",
   "metadata": {},
   "outputs": [],
   "source": [
    "l = s.split()"
   ]
  },
  {
   "cell_type": "code",
   "execution_count": 15,
   "id": "3645cfbb-100b-48d8-99d0-c9cacf21c90e",
   "metadata": {},
   "outputs": [
    {
     "data": {
      "text/plain": [
       "['training', 'basket', 'electronic', 'city']"
      ]
     },
     "execution_count": 15,
     "metadata": {},
     "output_type": "execute_result"
    }
   ],
   "source": [
    "l"
   ]
  },
  {
   "cell_type": "code",
   "execution_count": 21,
   "id": "b335e750-9691-4a73-9c39-ce5ccf4555c0",
   "metadata": {},
   "outputs": [],
   "source": [
    "if len(l[0])%2 == 0:\n",
    "    score_1 = 2\n",
    "else:\n",
    "    score_1 = 1\n",
    "if len(l[1])%2 == 0:\n",
    "    score_2 = 2\n",
    "else:\n",
    "    score_2 = 1\n",
    "if len(l[2])%2 == 0:\n",
    "    score_3 = 2\n",
    "else:\n",
    "    score_3 = 1\n",
    "if len(l[3])%2 == 0:\n",
    "    score_4 = 2\n",
    "else:\n",
    "    score_4 = 1"
   ]
  },
  {
   "cell_type": "code",
   "execution_count": 25,
   "id": "bd365b01-3b61-4502-9ff8-dfb9ca352888",
   "metadata": {},
   "outputs": [],
   "source": [
    "total_score = score_1 + score_2 + score_3 + score_4"
   ]
  },
  {
   "cell_type": "code",
   "execution_count": 26,
   "id": "179e613a-cb33-4d18-9903-59096f9767c0",
   "metadata": {},
   "outputs": [
    {
     "data": {
      "text/plain": [
       "8"
      ]
     },
     "execution_count": 26,
     "metadata": {},
     "output_type": "execute_result"
    }
   ],
   "source": [
    "total_score"
   ]
  },
  {
   "cell_type": "code",
   "execution_count": null,
   "id": "d7fb62be-3454-4962-a69b-2dab44f08769",
   "metadata": {},
   "outputs": [],
   "source": []
  }
 ],
 "metadata": {
  "kernelspec": {
   "display_name": "Python 3 (ipykernel)",
   "language": "python",
   "name": "python3"
  },
  "language_info": {
   "codemirror_mode": {
    "name": "ipython",
    "version": 3
   },
   "file_extension": ".py",
   "mimetype": "text/x-python",
   "name": "python",
   "nbconvert_exporter": "python",
   "pygments_lexer": "ipython3",
   "version": "3.12.7"
  }
 },
 "nbformat": 4,
 "nbformat_minor": 5
}
