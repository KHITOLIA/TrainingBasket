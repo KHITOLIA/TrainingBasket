{
 "cells": [
  {
   "cell_type": "code",
   "execution_count": 1,
   "id": "4625513b-af62-4058-bb32-b34058aeefca",
   "metadata": {},
   "outputs": [],
   "source": [
    "def square(n):\n",
    "    return n**2"
   ]
  },
  {
   "cell_type": "code",
   "execution_count": 2,
   "id": "87c9e2e6-6463-4f6e-9674-066529545152",
   "metadata": {},
   "outputs": [],
   "source": [
    "def modify(f, x):\n",
    "    return f(x)"
   ]
  },
  {
   "cell_type": "code",
   "execution_count": 3,
   "id": "9863cee1-d3fe-4f42-87df-990186bb192b",
   "metadata": {},
   "outputs": [
    {
     "data": {
      "text/plain": [
       "4"
      ]
     },
     "execution_count": 3,
     "metadata": {},
     "output_type": "execute_result"
    }
   ],
   "source": [
    "modify(square, 2)"
   ]
  },
  {
   "cell_type": "code",
   "execution_count": 8,
   "id": "f853f5e1-a776-4436-8ad6-a32eedf96450",
   "metadata": {},
   "outputs": [],
   "source": [
    "def modify(f):\n",
    "    return f"
   ]
  },
  {
   "cell_type": "code",
   "execution_count": 9,
   "id": "91de6dee-2b82-4e94-b80f-f6192995c4af",
   "metadata": {},
   "outputs": [],
   "source": [
    "a = modify(square)"
   ]
  },
  {
   "cell_type": "code",
   "execution_count": 10,
   "id": "5c1b8f39-4a8e-44a8-b4ad-e818607e3c7b",
   "metadata": {},
   "outputs": [
    {
     "data": {
      "text/plain": [
       "9"
      ]
     },
     "execution_count": 10,
     "metadata": {},
     "output_type": "execute_result"
    }
   ],
   "source": [
    "a(3)"
   ]
  },
  {
   "cell_type": "code",
   "execution_count": 11,
   "id": "7a294771-e578-4528-8832-b31e07bb4a07",
   "metadata": {},
   "outputs": [],
   "source": [
    "def my_decorator(func):\n",
    "    def wrapper():\n",
    "        print(\"--------\")\n",
    "        func()\n",
    "        print(\"--------\")\n",
    "    return wrapper"
   ]
  },
  {
   "cell_type": "code",
   "execution_count": 13,
   "id": "3266330f-6bc7-45f7-a2cc-c57a0505d316",
   "metadata": {},
   "outputs": [],
   "source": [
    "rapper = my_decorator(square)"
   ]
  },
  {
   "cell_type": "code",
   "execution_count": 14,
   "id": "2b8f4b47-4f38-4ad5-8cb2-a5c2d3a15263",
   "metadata": {},
   "outputs": [
    {
     "name": "stdout",
     "output_type": "stream",
     "text": [
      "--------\n"
     ]
    },
    {
     "ename": "TypeError",
     "evalue": "square() missing 1 required positional argument: 'n'",
     "output_type": "error",
     "traceback": [
      "\u001b[1;31m---------------------------------------------------------------------------\u001b[0m",
      "\u001b[1;31mTypeError\u001b[0m                                 Traceback (most recent call last)",
      "Cell \u001b[1;32mIn[14], line 1\u001b[0m\n\u001b[1;32m----> 1\u001b[0m rapper()\n",
      "Cell \u001b[1;32mIn[11], line 4\u001b[0m, in \u001b[0;36mmy_decorator.<locals>.wrapper\u001b[1;34m()\u001b[0m\n\u001b[0;32m      2\u001b[0m \u001b[38;5;28;01mdef\u001b[39;00m \u001b[38;5;21mwrapper\u001b[39m():\n\u001b[0;32m      3\u001b[0m     \u001b[38;5;28mprint\u001b[39m(\u001b[38;5;124m\"\u001b[39m\u001b[38;5;124m--------\u001b[39m\u001b[38;5;124m\"\u001b[39m)\n\u001b[1;32m----> 4\u001b[0m     func()\n\u001b[0;32m      5\u001b[0m     \u001b[38;5;28mprint\u001b[39m(\u001b[38;5;124m\"\u001b[39m\u001b[38;5;124m--------\u001b[39m\u001b[38;5;124m\"\u001b[39m)\n",
      "\u001b[1;31mTypeError\u001b[0m: square() missing 1 required positional argument: 'n'"
     ]
    }
   ],
   "source": [
    "rapper()"
   ]
  },
  {
   "cell_type": "code",
   "execution_count": 22,
   "id": "fd102c12-a665-4d7c-8d3d-08e22e441604",
   "metadata": {},
   "outputs": [],
   "source": [
    "def my_decorator(func):\n",
    "    def wrapper():\n",
    "        print(\"--------\")\n",
    "        func()\n",
    "        print(\"--------\")\n",
    "    return wrapper\n",
    "    \n",
    "def hello():\n",
    "    print(\"Mukul\")\n",
    "\n",
    "def display_name():\n",
    "    print(\"Adarsh\")"
   ]
  },
  {
   "cell_type": "code",
   "execution_count": 23,
   "id": "b0fab215-09aa-470b-ba5e-79b4ed184916",
   "metadata": {},
   "outputs": [],
   "source": [
    "rapper = my_decorator(display_name)"
   ]
  },
  {
   "cell_type": "code",
   "execution_count": 24,
   "id": "fe2dc9dd-e2ff-409d-aaed-7ff469b8a532",
   "metadata": {},
   "outputs": [
    {
     "name": "stdout",
     "output_type": "stream",
     "text": [
      "--------\n",
      "Adarsh\n",
      "--------\n"
     ]
    }
   ],
   "source": [
    "rapper()"
   ]
  },
  {
   "cell_type": "code",
   "execution_count": 28,
   "id": "0b8d487f-0e1e-4e0f-bb7e-75c49b5109a3",
   "metadata": {},
   "outputs": [
    {
     "name": "stdout",
     "output_type": "stream",
     "text": [
      "--------\n",
      "mukul\n",
      "--------\n"
     ]
    }
   ],
   "source": [
    "@my_decorator\n",
    "def hello():\n",
    "    print(\"mukul\")\n",
    "hello()"
   ]
  },
  {
   "cell_type": "code",
   "execution_count": 29,
   "id": "b976474f-dba9-458d-9754-341baaf8b285",
   "metadata": {},
   "outputs": [],
   "source": [
    "import time\n"
   ]
  },
  {
   "cell_type": "code",
   "execution_count": 59,
   "id": "5f7b5350-e4b8-4138-9133-2f5d358c0c25",
   "metadata": {},
   "outputs": [],
   "source": [
    "def timer(func):\n",
    "    def wrapper(*args):\n",
    "        start = time.time()\n",
    "        func(*args)\n",
    "        print(f\"Execution time for {func.__name__} = {time.time() - start} secs\")\n",
    "    return wrapper"
   ]
  },
  {
   "cell_type": "code",
   "execution_count": 66,
   "id": "98fed02c-b13a-4434-8c27-f4e14748f30a",
   "metadata": {},
   "outputs": [],
   "source": [
    "@timer\n",
    "def hello():\n",
    "    print(\"mukul\")\n",
    "    time.sleep(3)\n",
    "\n",
    "@timer\n",
    "def square(n):\n",
    "    print(n**2)\n",
    "    time.sleep(3)\n",
    "    \n",
    "@timer\n",
    "def cube(n):\n",
    "    print(n**3)\n",
    "    time.sleep(3)"
   ]
  },
  {
   "cell_type": "code",
   "execution_count": 67,
   "id": "25a433c7-c758-4711-ad6e-90d91478af29",
   "metadata": {},
   "outputs": [
    {
     "name": "stdout",
     "output_type": "stream",
     "text": [
      "mukul\n",
      "Execution time for hello = 3.0013837814331055 secs\n"
     ]
    }
   ],
   "source": [
    "hello()"
   ]
  },
  {
   "cell_type": "code",
   "execution_count": 68,
   "id": "0f9dffb0-22b9-4309-b5dc-93e6df1bcde1",
   "metadata": {},
   "outputs": [
    {
     "name": "stdout",
     "output_type": "stream",
     "text": [
      "8100\n",
      "Execution time for square = 3.0414822101593018 secs\n"
     ]
    }
   ],
   "source": [
    "square(90)"
   ]
  },
  {
   "cell_type": "code",
   "execution_count": 69,
   "id": "2eb36dd5-c824-4d98-8c72-bb8285687605",
   "metadata": {},
   "outputs": [
    {
     "name": "stdout",
     "output_type": "stream",
     "text": [
      "8\n",
      "Execution time for cube = 3.0010297298431396 secs\n"
     ]
    }
   ],
   "source": [
    "cube(2)"
   ]
  },
  {
   "cell_type": "code",
   "execution_count": 70,
   "id": "7d71f713-6b35-4f60-9d69-894b65268f90",
   "metadata": {},
   "outputs": [],
   "source": [
    "# Exception handling"
   ]
  },
  {
   "cell_type": "code",
   "execution_count": 71,
   "id": "bf533679-1635-44a0-9acd-7ae86b414825",
   "metadata": {},
   "outputs": [],
   "source": [
    "def divider(a, b):\n",
    "    return a/b"
   ]
  },
  {
   "cell_type": "code",
   "execution_count": 72,
   "id": "ec83a958-0200-4c86-b41d-ab2fb762515c",
   "metadata": {},
   "outputs": [
    {
     "data": {
      "text/plain": [
       "3.0"
      ]
     },
     "execution_count": 72,
     "metadata": {},
     "output_type": "execute_result"
    }
   ],
   "source": [
    "divider(9, 3)"
   ]
  },
  {
   "cell_type": "code",
   "execution_count": 73,
   "id": "b4199c7c-704c-46cb-9a09-6f2fda93866a",
   "metadata": {},
   "outputs": [
    {
     "ename": "ZeroDivisionError",
     "evalue": "division by zero",
     "output_type": "error",
     "traceback": [
      "\u001b[1;31m---------------------------------------------------------------------------\u001b[0m",
      "\u001b[1;31mZeroDivisionError\u001b[0m                         Traceback (most recent call last)",
      "Cell \u001b[1;32mIn[73], line 1\u001b[0m\n\u001b[1;32m----> 1\u001b[0m divider(\u001b[38;5;241m9\u001b[39m , \u001b[38;5;241m0\u001b[39m)\n",
      "Cell \u001b[1;32mIn[71], line 2\u001b[0m, in \u001b[0;36mdivider\u001b[1;34m(a, b)\u001b[0m\n\u001b[0;32m      1\u001b[0m \u001b[38;5;28;01mdef\u001b[39;00m \u001b[38;5;21mdivider\u001b[39m(a, b):\n\u001b[1;32m----> 2\u001b[0m     \u001b[38;5;28;01mreturn\u001b[39;00m a\u001b[38;5;241m/\u001b[39mb\n",
      "\u001b[1;31mZeroDivisionError\u001b[0m: division by zero"
     ]
    }
   ],
   "source": [
    "divider(9 , 0)"
   ]
  },
  {
   "cell_type": "code",
   "execution_count": 74,
   "id": "01218262-3194-4618-8024-830ce92b161d",
   "metadata": {},
   "outputs": [],
   "source": [
    "l = [1, 2, 3, 4]"
   ]
  },
  {
   "cell_type": "code",
   "execution_count": 75,
   "id": "c227848b-a564-4203-8c14-1403b0baa5fd",
   "metadata": {},
   "outputs": [
    {
     "ename": "IndexError",
     "evalue": "list index out of range",
     "output_type": "error",
     "traceback": [
      "\u001b[1;31m---------------------------------------------------------------------------\u001b[0m",
      "\u001b[1;31mIndexError\u001b[0m                                Traceback (most recent call last)",
      "Cell \u001b[1;32mIn[75], line 1\u001b[0m\n\u001b[1;32m----> 1\u001b[0m l[\u001b[38;5;241m10\u001b[39m]\n",
      "\u001b[1;31mIndexError\u001b[0m: list index out of range"
     ]
    }
   ],
   "source": [
    "l[10]"
   ]
  },
  {
   "cell_type": "code",
   "execution_count": 86,
   "id": "b7710c11-a5c4-40cc-983d-4c8758172af9",
   "metadata": {},
   "outputs": [],
   "source": [
    "def divider(a, b):\n",
    "    try:\n",
    "        return a/b\n",
    "    except ZeroDivisionError:\n",
    "        b = int(input(\"enter the denominator = \"))\n",
    "        return a/b\n",
    "    except TypeError:\n",
    "        b = int(input(\"enter the denominator = \"))\n",
    "        return a/b"
   ]
  },
  {
   "cell_type": "code",
   "execution_count": 87,
   "id": "b93bc992-4357-41dd-a804-0fd395151f06",
   "metadata": {},
   "outputs": [
    {
     "data": {
      "text/plain": [
       "5.0"
      ]
     },
     "execution_count": 87,
     "metadata": {},
     "output_type": "execute_result"
    }
   ],
   "source": [
    "divider(10, 2)"
   ]
  },
  {
   "cell_type": "code",
   "execution_count": 88,
   "id": "4a384679-91b1-4bdc-92b7-baeb42a08284",
   "metadata": {},
   "outputs": [
    {
     "name": "stdin",
     "output_type": "stream",
     "text": [
      "enter the denominator =  5\n"
     ]
    },
    {
     "data": {
      "text/plain": [
       "2.0"
      ]
     },
     "execution_count": 88,
     "metadata": {},
     "output_type": "execute_result"
    }
   ],
   "source": [
    "divider(10, 0)"
   ]
  },
  {
   "cell_type": "code",
   "execution_count": 89,
   "id": "afd54f57-f61c-4dc0-bdba-a587d082f259",
   "metadata": {},
   "outputs": [
    {
     "name": "stdin",
     "output_type": "stream",
     "text": [
      "enter the denominator =  2\n"
     ]
    },
    {
     "data": {
      "text/plain": [
       "5.0"
      ]
     },
     "execution_count": 89,
     "metadata": {},
     "output_type": "execute_result"
    }
   ],
   "source": [
    "divider(10, '0')"
   ]
  },
  {
   "cell_type": "code",
   "execution_count": 96,
   "id": "6f7ce7ac-61b8-4da0-97d0-b9d6912e88cb",
   "metadata": {},
   "outputs": [],
   "source": [
    "def divider(a, b):\n",
    "    try:\n",
    "        return a/b\n",
    "    except Exception as e:\n",
    "        print(e)\n",
    "        b = int(input(\"enter the denominator = \"))\n",
    "        return a/b"
   ]
  },
  {
   "cell_type": "code",
   "execution_count": 97,
   "id": "8b092a22-b00d-4c8f-bf71-3613c3bfa755",
   "metadata": {},
   "outputs": [
    {
     "data": {
      "text/plain": [
       "5.0"
      ]
     },
     "execution_count": 97,
     "metadata": {},
     "output_type": "execute_result"
    }
   ],
   "source": [
    "divider(10, 2)"
   ]
  },
  {
   "cell_type": "code",
   "execution_count": 98,
   "id": "3316c91b-4c76-4f8a-bc42-eec992e2ee1f",
   "metadata": {},
   "outputs": [
    {
     "name": "stdout",
     "output_type": "stream",
     "text": [
      "division by zero\n"
     ]
    },
    {
     "name": "stdin",
     "output_type": "stream",
     "text": [
      "enter the denominator =  2\n"
     ]
    },
    {
     "data": {
      "text/plain": [
       "5.0"
      ]
     },
     "execution_count": 98,
     "metadata": {},
     "output_type": "execute_result"
    }
   ],
   "source": [
    "divider(10, 0)"
   ]
  },
  {
   "cell_type": "code",
   "execution_count": 99,
   "id": "b3d48825-98c2-45d4-9006-7af3d4ae6c5f",
   "metadata": {},
   "outputs": [
    {
     "name": "stdout",
     "output_type": "stream",
     "text": [
      "unsupported operand type(s) for /: 'int' and 'str'\n"
     ]
    },
    {
     "name": "stdin",
     "output_type": "stream",
     "text": [
      "enter the denominator =  5\n"
     ]
    },
    {
     "data": {
      "text/plain": [
       "2.0"
      ]
     },
     "execution_count": 99,
     "metadata": {},
     "output_type": "execute_result"
    }
   ],
   "source": [
    "divider(10, '0')"
   ]
  },
  {
   "cell_type": "code",
   "execution_count": 100,
   "id": "cf79750a-e0fd-4c7f-a3b3-b6e8879e0121",
   "metadata": {},
   "outputs": [],
   "source": [
    "# 10/'0'"
   ]
  },
  {
   "cell_type": "code",
   "execution_count": 101,
   "id": "5982f964-646f-4f18-acef-80b9827c7521",
   "metadata": {},
   "outputs": [],
   "source": [
    "# File handling : "
   ]
  },
  {
   "cell_type": "code",
   "execution_count": 102,
   "id": "313b966e-1877-471f-84cf-20fa01002df4",
   "metadata": {},
   "outputs": [],
   "source": [
    "# txt, json"
   ]
  },
  {
   "cell_type": "code",
   "execution_count": 116,
   "id": "68f10d14-8662-47f6-8b23-f4ee9c56b1cb",
   "metadata": {},
   "outputs": [],
   "source": [
    "file = open('ml.txt', 'r')"
   ]
  },
  {
   "cell_type": "code",
   "execution_count": 117,
   "id": "46341a13-7ffb-4106-bcdd-853a472858d8",
   "metadata": {},
   "outputs": [
    {
     "data": {
      "text/plain": [
       "<_io.TextIOWrapper name='ml.txt' mode='r' encoding='cp1252'>"
      ]
     },
     "execution_count": 117,
     "metadata": {},
     "output_type": "execute_result"
    }
   ],
   "source": [
    "file"
   ]
  },
  {
   "cell_type": "code",
   "execution_count": 118,
   "id": "730e255a-3225-414b-ab53-f9149689a21a",
   "metadata": {},
   "outputs": [
    {
     "data": {
      "text/plain": [
       "'hello world\\nmachine learning\\ndeep learning\\ngenerative ai'"
      ]
     },
     "execution_count": 118,
     "metadata": {},
     "output_type": "execute_result"
    }
   ],
   "source": [
    "file.read()"
   ]
  },
  {
   "cell_type": "code",
   "execution_count": 119,
   "id": "418a0226-ec56-4f44-8b98-a034fe08f777",
   "metadata": {},
   "outputs": [],
   "source": [
    "# open?"
   ]
  },
  {
   "cell_type": "code",
   "execution_count": 120,
   "id": "31021c1a-87c2-413f-8237-05627998110e",
   "metadata": {},
   "outputs": [
    {
     "data": {
      "text/plain": [
       "''"
      ]
     },
     "execution_count": 120,
     "metadata": {},
     "output_type": "execute_result"
    }
   ],
   "source": [
    "file.read()"
   ]
  },
  {
   "cell_type": "code",
   "execution_count": 121,
   "id": "56fd6868-74f5-445d-8be9-a8cfee42fb1d",
   "metadata": {},
   "outputs": [
    {
     "data": {
      "text/plain": [
       "0"
      ]
     },
     "execution_count": 121,
     "metadata": {},
     "output_type": "execute_result"
    }
   ],
   "source": [
    "file.seek(0)"
   ]
  },
  {
   "cell_type": "code",
   "execution_count": 122,
   "id": "38a87804-2866-4606-992d-6f416a27f745",
   "metadata": {},
   "outputs": [
    {
     "data": {
      "text/plain": [
       "'hello world\\nmachine learning\\ndeep learning\\ngenerative ai'"
      ]
     },
     "execution_count": 122,
     "metadata": {},
     "output_type": "execute_result"
    }
   ],
   "source": [
    "file.read()"
   ]
  },
  {
   "cell_type": "code",
   "execution_count": 123,
   "id": "0072544c-9dbf-4390-b66c-c6bb4df42975",
   "metadata": {},
   "outputs": [
    {
     "data": {
      "text/plain": [
       "5"
      ]
     },
     "execution_count": 123,
     "metadata": {},
     "output_type": "execute_result"
    }
   ],
   "source": [
    "file.seek(5)"
   ]
  },
  {
   "cell_type": "code",
   "execution_count": 124,
   "id": "0a44624f-0550-4897-81fc-2720708d2d43",
   "metadata": {},
   "outputs": [
    {
     "data": {
      "text/plain": [
       "' world\\nmachine learning\\ndeep learning\\ngenerative ai'"
      ]
     },
     "execution_count": 124,
     "metadata": {},
     "output_type": "execute_result"
    }
   ],
   "source": [
    "file.read()"
   ]
  },
  {
   "cell_type": "code",
   "execution_count": 125,
   "id": "9a752536-23f0-48f8-8434-00ae00c2cdc2",
   "metadata": {},
   "outputs": [
    {
     "data": {
      "text/plain": [
       "0"
      ]
     },
     "execution_count": 125,
     "metadata": {},
     "output_type": "execute_result"
    }
   ],
   "source": [
    "file.seek(0)"
   ]
  },
  {
   "cell_type": "code",
   "execution_count": 126,
   "id": "fcc4d59c-dac5-41f2-b2aa-8d236b34524f",
   "metadata": {},
   "outputs": [
    {
     "data": {
      "text/plain": [
       "'hello world\\n'"
      ]
     },
     "execution_count": 126,
     "metadata": {},
     "output_type": "execute_result"
    }
   ],
   "source": [
    "file.readline()"
   ]
  },
  {
   "cell_type": "code",
   "execution_count": 127,
   "id": "7eb4a4c6-5aee-49e5-a6d2-4953870b1427",
   "metadata": {},
   "outputs": [
    {
     "data": {
      "text/plain": [
       "'machine learning\\n'"
      ]
     },
     "execution_count": 127,
     "metadata": {},
     "output_type": "execute_result"
    }
   ],
   "source": [
    "file.readline()"
   ]
  },
  {
   "cell_type": "code",
   "execution_count": 128,
   "id": "3d9f6808-f0a3-48ec-a637-4e98c7dbafa0",
   "metadata": {},
   "outputs": [
    {
     "data": {
      "text/plain": [
       "'deep learning\\n'"
      ]
     },
     "execution_count": 128,
     "metadata": {},
     "output_type": "execute_result"
    }
   ],
   "source": [
    "file.readline()"
   ]
  },
  {
   "cell_type": "code",
   "execution_count": 129,
   "id": "54bcafbc-aa90-4b73-beb1-9117d255bfd3",
   "metadata": {},
   "outputs": [
    {
     "data": {
      "text/plain": [
       "'generative ai'"
      ]
     },
     "execution_count": 129,
     "metadata": {},
     "output_type": "execute_result"
    }
   ],
   "source": [
    "file.readline()\n"
   ]
  },
  {
   "cell_type": "code",
   "execution_count": 130,
   "id": "f2919220-f139-4dee-a590-49cfa40ff2c5",
   "metadata": {},
   "outputs": [
    {
     "data": {
      "text/plain": [
       "''"
      ]
     },
     "execution_count": 130,
     "metadata": {},
     "output_type": "execute_result"
    }
   ],
   "source": [
    "file.readline()\n"
   ]
  },
  {
   "cell_type": "code",
   "execution_count": 135,
   "id": "6a33fdee-3127-4056-be86-d899203ff8e5",
   "metadata": {},
   "outputs": [
    {
     "data": {
      "text/plain": [
       "0"
      ]
     },
     "execution_count": 135,
     "metadata": {},
     "output_type": "execute_result"
    }
   ],
   "source": [
    "file.seek(0)"
   ]
  },
  {
   "cell_type": "code",
   "execution_count": 136,
   "id": "edf1c5f0-8091-4147-adbc-0af90c08c9fb",
   "metadata": {},
   "outputs": [],
   "source": [
    "l = file.readlines()"
   ]
  },
  {
   "cell_type": "code",
   "execution_count": 137,
   "id": "041716a4-6385-4de7-85c2-2c04701b2d31",
   "metadata": {},
   "outputs": [
    {
     "data": {
      "text/plain": [
       "['hello world\\n', 'machine learning\\n', 'deep learning\\n', 'generative ai']"
      ]
     },
     "execution_count": 137,
     "metadata": {},
     "output_type": "execute_result"
    }
   ],
   "source": [
    "l"
   ]
  },
  {
   "cell_type": "code",
   "execution_count": 140,
   "id": "872e3f2c-3d92-4e7b-9f3d-f3c019548ed1",
   "metadata": {},
   "outputs": [],
   "source": [
    "for i in range(len(l)):\n",
    "    l[i] = l[i].replace('\\n', '')"
   ]
  },
  {
   "cell_type": "code",
   "execution_count": 141,
   "id": "25a495ef-0b4e-41f1-a3ec-491e8c743fa7",
   "metadata": {},
   "outputs": [
    {
     "data": {
      "text/plain": [
       "['hello world', 'machine learning', 'deep learning', 'generative ai']"
      ]
     },
     "execution_count": 141,
     "metadata": {},
     "output_type": "execute_result"
    }
   ],
   "source": [
    "l"
   ]
  },
  {
   "cell_type": "code",
   "execution_count": 142,
   "id": "7181b009-3bce-47f9-9b91-857830dc1c40",
   "metadata": {},
   "outputs": [],
   "source": [
    "file.close()"
   ]
  },
  {
   "cell_type": "code",
   "execution_count": 143,
   "id": "367e7cd8-5b55-4fc8-85f3-ee14958015f6",
   "metadata": {},
   "outputs": [],
   "source": [
    "with open('ml.txt', 'r') as file:\n",
    "    text = file.read()"
   ]
  },
  {
   "cell_type": "code",
   "execution_count": 144,
   "id": "7c52ca87-4137-495a-9e2f-41a4e9a28300",
   "metadata": {},
   "outputs": [
    {
     "data": {
      "text/plain": [
       "'hello world\\nmachine learning\\ndeep learning\\ngenerative ai'"
      ]
     },
     "execution_count": 144,
     "metadata": {},
     "output_type": "execute_result"
    }
   ],
   "source": [
    "text"
   ]
  },
  {
   "cell_type": "code",
   "execution_count": 146,
   "id": "e1c7dd30-6e89-4fe3-9443-f0d818d99c5f",
   "metadata": {},
   "outputs": [],
   "source": [
    "with open('ml.txt', 'w') as file:\n",
    "    file.write('FULL STACK DATA SCIENCE')"
   ]
  },
  {
   "cell_type": "code",
   "execution_count": 147,
   "id": "782ab8cc-8028-46e8-9cd9-2eaaa5f0181b",
   "metadata": {},
   "outputs": [],
   "source": [
    "with open('ml.txt', 'r') as file:\n",
    "    text = file.read()"
   ]
  },
  {
   "cell_type": "code",
   "execution_count": 148,
   "id": "84f14448-abef-4b8d-a1ba-09910d785bb3",
   "metadata": {},
   "outputs": [
    {
     "data": {
      "text/plain": [
       "'FULL STACK DATA SCIENCE'"
      ]
     },
     "execution_count": 148,
     "metadata": {},
     "output_type": "execute_result"
    }
   ],
   "source": [
    "text"
   ]
  },
  {
   "cell_type": "code",
   "execution_count": 149,
   "id": "e8fe3119-ebf0-4064-ac77-6e25371f5cb3",
   "metadata": {},
   "outputs": [],
   "source": [
    "with open('ml.txt', 'a') as file:\n",
    "    file.write('GENERATIVE AI APPLICATIONS')"
   ]
  },
  {
   "cell_type": "code",
   "execution_count": 150,
   "id": "225128f8-8953-4d43-acaf-2f74bad0e0d4",
   "metadata": {},
   "outputs": [],
   "source": [
    "with open('ml.txt', 'r') as file:\n",
    "    text = file.read()"
   ]
  },
  {
   "cell_type": "code",
   "execution_count": 151,
   "id": "c9cd94f0-a0ac-42f6-ae31-83ec1bfc7e5e",
   "metadata": {},
   "outputs": [
    {
     "data": {
      "text/plain": [
       "'FULL STACK DATA SCIENCEGENERATIVE AI APPLICATIONS'"
      ]
     },
     "execution_count": 151,
     "metadata": {},
     "output_type": "execute_result"
    }
   ],
   "source": [
    "text"
   ]
  },
  {
   "cell_type": "code",
   "execution_count": 153,
   "id": "45711d03-9b77-4802-a48f-d3d32865f337",
   "metadata": {},
   "outputs": [],
   "source": [
    "with open('abcd.txt', 'w') as file:\n",
    "    file.write(\"Hello this is a new file\")"
   ]
  },
  {
   "cell_type": "code",
   "execution_count": 152,
   "id": "66bb9f20-0fde-4c37-8f96-1faf0824870c",
   "metadata": {},
   "outputs": [],
   "source": [
    "#json"
   ]
  },
  {
   "cell_type": "code",
   "execution_count": 184,
   "id": "37d50a0f-93cb-470e-aeb7-c28c7c75fbc5",
   "metadata": {},
   "outputs": [],
   "source": [
    "d = {\n",
    "    'stud_1' : 'Mukul',\n",
    "    'stud_2' : 'Adarsh',\n",
    "    'stud_3' : 'Niraj',\n",
    "    'stud_4' : 'Manisha',\n",
    "}"
   ]
  },
  {
   "cell_type": "code",
   "execution_count": 185,
   "id": "209652d2-0279-4549-ae68-28f7f62c8934",
   "metadata": {},
   "outputs": [],
   "source": [
    "import json"
   ]
  },
  {
   "cell_type": "code",
   "execution_count": 186,
   "id": "36cd2fac-9b5d-4d88-9add-3ba5560ee2d7",
   "metadata": {},
   "outputs": [],
   "source": [
    "with open('abcd.json', 'w') as file:\n",
    "    json.dump(d, file)"
   ]
  },
  {
   "cell_type": "code",
   "execution_count": 187,
   "id": "62fca59a-6a68-4550-85eb-7a2c30f84ee4",
   "metadata": {},
   "outputs": [],
   "source": [
    "with open('abcd.json', 'r') as file:\n",
    "    text = json.load(file)"
   ]
  },
  {
   "cell_type": "code",
   "execution_count": 188,
   "id": "0e89d622-369b-4d21-888b-698bf98eb94f",
   "metadata": {},
   "outputs": [
    {
     "data": {
      "text/plain": [
       "{'stud_1': 'Mukul', 'stud_2': 'Adarsh', 'stud_3': 'Niraj', 'stud_4': 'Manisha'}"
      ]
     },
     "execution_count": 188,
     "metadata": {},
     "output_type": "execute_result"
    }
   ],
   "source": [
    "text"
   ]
  },
  {
   "cell_type": "code",
   "execution_count": 177,
   "id": "41b303db-4531-48b1-9885-c99b40729b9a",
   "metadata": {},
   "outputs": [],
   "source": [
    "with open('abcd.json', 'r') as file:\n",
    "    text = file.read()"
   ]
  },
  {
   "cell_type": "code",
   "execution_count": 178,
   "id": "7f73f07c-2045-4e0a-ab83-6e7ce9e4b56e",
   "metadata": {},
   "outputs": [
    {
     "data": {
      "text/plain": [
       "'{\"stud_1\": \"Mukul\", \"stud_2\": \"Adarsh\", \"stud_3\": \"Niraj\", \"stud_4\": \"Manisha\"}'"
      ]
     },
     "execution_count": 178,
     "metadata": {},
     "output_type": "execute_result"
    }
   ],
   "source": [
    "text"
   ]
  },
  {
   "cell_type": "code",
   "execution_count": 190,
   "id": "2ba0b8ed-0e66-4638-8240-bceb2745a4f5",
   "metadata": {},
   "outputs": [],
   "source": [
    "text['stud_5'] = 'agrim'"
   ]
  },
  {
   "cell_type": "code",
   "execution_count": 191,
   "id": "c9c9102a-5362-4c1b-abaf-6c010c2fb7f0",
   "metadata": {},
   "outputs": [
    {
     "data": {
      "text/plain": [
       "{'stud_1': 'Mukul',\n",
       " 'stud_2': 'Adarsh',\n",
       " 'stud_3': 'Niraj',\n",
       " 'stud_4': 'Manisha',\n",
       " 'stud_5': 'agrim'}"
      ]
     },
     "execution_count": 191,
     "metadata": {},
     "output_type": "execute_result"
    }
   ],
   "source": [
    "text"
   ]
  },
  {
   "cell_type": "code",
   "execution_count": 192,
   "id": "49e5930e-21aa-47ea-b072-6e56588ea881",
   "metadata": {},
   "outputs": [],
   "source": [
    "with open('abcd.json', 'w') as file:\n",
    "    json.dump(text, file)"
   ]
  },
  {
   "cell_type": "code",
   "execution_count": 193,
   "id": "a9b7fb42-3465-48e6-8f2d-a2db07e088e9",
   "metadata": {},
   "outputs": [
    {
     "name": "stdout",
     "output_type": "stream",
     "text": [
      "{'stud_1': 'Mukul', 'stud_2': 'Adarsh', 'stud_3': 'Niraj', 'stud_4': 'Manisha', 'stud_5': 'agrim'}\n"
     ]
    }
   ],
   "source": [
    "with open('abcd.json', 'r') as file:\n",
    "    print(json.load(file))"
   ]
  },
  {
   "cell_type": "code",
   "execution_count": null,
   "id": "d83a04a5-53df-4660-a4ae-48feeb4a143c",
   "metadata": {},
   "outputs": [],
   "source": []
  }
 ],
 "metadata": {
  "kernelspec": {
   "display_name": "Python 3 (ipykernel)",
   "language": "python",
   "name": "python3"
  },
  "language_info": {
   "codemirror_mode": {
    "name": "ipython",
    "version": 3
   },
   "file_extension": ".py",
   "mimetype": "text/x-python",
   "name": "python",
   "nbconvert_exporter": "python",
   "pygments_lexer": "ipython3",
   "version": "3.12.7"
  }
 },
 "nbformat": 4,
 "nbformat_minor": 5
}
