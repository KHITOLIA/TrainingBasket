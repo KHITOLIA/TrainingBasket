{
 "cells": [
  {
   "cell_type": "code",
   "execution_count": 7,
   "id": "28009e22-08fa-46be-a27f-1b9489d6f53d",
   "metadata": {},
   "outputs": [
    {
     "data": {
      "text/plain": [
       "'Adarsh'"
      ]
     },
     "execution_count": 7,
     "metadata": {},
     "output_type": "execute_result"
    }
   ],
   "source": [
    "def f1(name):\n",
    "    a = 10\n",
    "    b = 3\n",
    "    return name\n",
    "    \n",
    "f1('Adarsh')"
   ]
  },
  {
   "cell_type": "code",
   "execution_count": 8,
   "id": "41fa20fe-63f9-4dc6-990c-f01b4fbd00f6",
   "metadata": {},
   "outputs": [
    {
     "ename": "NameError",
     "evalue": "name 'a' is not defined",
     "output_type": "error",
     "traceback": [
      "\u001b[1;31m---------------------------------------------------------------------------\u001b[0m",
      "\u001b[1;31mNameError\u001b[0m                                 Traceback (most recent call last)",
      "Cell \u001b[1;32mIn[8], line 1\u001b[0m\n\u001b[1;32m----> 1\u001b[0m a\n",
      "\u001b[1;31mNameError\u001b[0m: name 'a' is not defined"
     ]
    }
   ],
   "source": [
    "a"
   ]
  },
  {
   "cell_type": "code",
   "execution_count": 11,
   "id": "625f11e5-9e20-4858-a844-27e41846e2ee",
   "metadata": {},
   "outputs": [],
   "source": [
    "# dir()"
   ]
  },
  {
   "cell_type": "code",
   "execution_count": 13,
   "id": "3cda53e5-0bb1-4630-9958-eb12c2acd664",
   "metadata": {},
   "outputs": [],
   "source": [
    "a = 10\n",
    "b = 4\n",
    "def f1(name):\n",
    "    a = 5\n",
    "    b = 10\n",
    "    return a, b, name"
   ]
  },
  {
   "cell_type": "code",
   "execution_count": 14,
   "id": "f99b360e-b603-419d-99d8-c49963616f9b",
   "metadata": {},
   "outputs": [
    {
     "data": {
      "text/plain": [
       "(5, 10, 'Agrim')"
      ]
     },
     "execution_count": 14,
     "metadata": {},
     "output_type": "execute_result"
    }
   ],
   "source": [
    "f1(\"Agrim\")"
   ]
  },
  {
   "cell_type": "code",
   "execution_count": 15,
   "id": "b659b9fe-70de-487e-b474-684c1f0b9eba",
   "metadata": {},
   "outputs": [
    {
     "data": {
      "text/plain": [
       "10"
      ]
     },
     "execution_count": 15,
     "metadata": {},
     "output_type": "execute_result"
    }
   ],
   "source": [
    "a"
   ]
  },
  {
   "cell_type": "code",
   "execution_count": 16,
   "id": "558a6a20-b550-4943-bad8-bb83eefc23d8",
   "metadata": {},
   "outputs": [
    {
     "data": {
      "text/plain": [
       "4"
      ]
     },
     "execution_count": 16,
     "metadata": {},
     "output_type": "execute_result"
    }
   ],
   "source": [
    "b"
   ]
  },
  {
   "cell_type": "code",
   "execution_count": 22,
   "id": "2d2b4fc0-0b53-434d-b745-c36b694a9304",
   "metadata": {},
   "outputs": [],
   "source": [
    "def outer():\n",
    "             # enclosing scope\n",
    "    def inner(name):\n",
    "        print(name)\n",
    "    return inner"
   ]
  },
  {
   "cell_type": "code",
   "execution_count": 23,
   "id": "cd1b7aaf-e880-4f05-872b-b1c7777ea66f",
   "metadata": {},
   "outputs": [],
   "source": [
    "my_name = outer()"
   ]
  },
  {
   "cell_type": "code",
   "execution_count": 25,
   "id": "aee1f1b0-bb7f-4d14-887b-2ab09dcd20b5",
   "metadata": {},
   "outputs": [
    {
     "name": "stdout",
     "output_type": "stream",
     "text": [
      "Hello\n"
     ]
    }
   ],
   "source": [
    "my_name('Hello')"
   ]
  },
  {
   "cell_type": "code",
   "execution_count": null,
   "id": "911fe2ec-1025-48b9-a77a-2c9447f5bd74",
   "metadata": {},
   "outputs": [],
   "source": []
  },
  {
   "cell_type": "code",
   "execution_count": 32,
   "id": "d4c6ed1c-5207-4b89-8ea9-777efd16f694",
   "metadata": {},
   "outputs": [
    {
     "data": {
      "text/plain": [
       "<function len(obj, /)>"
      ]
     },
     "execution_count": 32,
     "metadata": {},
     "output_type": "execute_result"
    }
   ],
   "source": [
    "len"
   ]
  },
  {
   "cell_type": "code",
   "execution_count": 29,
   "id": "d95885c6-7260-4a7a-b0c1-3a61509a2e08",
   "metadata": {},
   "outputs": [],
   "source": [
    "def len(n):\n",
    "    return n"
   ]
  },
  {
   "cell_type": "code",
   "execution_count": 31,
   "id": "1c25b4e5-0ee7-432a-80f6-76d760749b40",
   "metadata": {},
   "outputs": [],
   "source": [
    "del(len)"
   ]
  },
  {
   "cell_type": "code",
   "execution_count": 41,
   "id": "c5c5aa21-54da-4c46-95ce-1036843ef1a8",
   "metadata": {},
   "outputs": [],
   "source": [
    "def f1(first):\n",
    "    return first\n",
    "\n",
    "def f2(second):\n",
    "    return second"
   ]
  },
  {
   "cell_type": "code",
   "execution_count": 42,
   "id": "70746249-8994-4845-a574-7c767e599069",
   "metadata": {},
   "outputs": [],
   "source": [
    "firstname = f1(\"Manisha \")\n",
    "secondname = f2(\"Parashar\")"
   ]
  },
  {
   "cell_type": "code",
   "execution_count": 35,
   "id": "3ffd2b73-a6b0-4b5d-b24d-de0f060aa792",
   "metadata": {},
   "outputs": [
    {
     "data": {
      "text/plain": [
       "'Manisha '"
      ]
     },
     "execution_count": 35,
     "metadata": {},
     "output_type": "execute_result"
    }
   ],
   "source": [
    "firstname"
   ]
  },
  {
   "cell_type": "code",
   "execution_count": 36,
   "id": "02fa565b-5274-46ce-ace1-4bd27c0f6966",
   "metadata": {},
   "outputs": [
    {
     "data": {
      "text/plain": [
       "'Parashar'"
      ]
     },
     "execution_count": 36,
     "metadata": {},
     "output_type": "execute_result"
    }
   ],
   "source": [
    "secondname"
   ]
  },
  {
   "cell_type": "code",
   "execution_count": 37,
   "id": "bd13521e-970b-4da2-a67c-c759e89bf8cd",
   "metadata": {},
   "outputs": [
    {
     "name": "stdout",
     "output_type": "stream",
     "text": [
      "Manisha Parashar\n"
     ]
    }
   ],
   "source": [
    "print(firstname + secondname)"
   ]
  },
  {
   "cell_type": "code",
   "execution_count": 38,
   "id": "a1521ccb-9b41-43f9-9d92-43c53ad62e14",
   "metadata": {},
   "outputs": [],
   "source": [
    "def f1(first):\n",
    "    return first\n",
    "\n",
    "def f2(second):\n",
    "    \n",
    "    return second"
   ]
  },
  {
   "cell_type": "code",
   "execution_count": 48,
   "id": "c945e854-acd1-4e5c-bf0f-d5087e8d96a0",
   "metadata": {},
   "outputs": [
    {
     "name": "stdout",
     "output_type": "stream",
     "text": [
      "2082468347760\n",
      "2082468025520\n"
     ]
    }
   ],
   "source": [
    "firstname = f1(\"Manisha \")\n",
    "secondname = f2(\"Parashar\")\n",
    "print(id(firstname))\n",
    "print(id(secondname))\n",
    "def f3():\n",
    "    firstname = f1(\"Manisha \")\n",
    "    secondname = f2(\"parashar\")\n",
    "    print(id(firstname))\n",
    "    print(id(secondname))\n",
    "    return firstname + secondname"
   ]
  },
  {
   "cell_type": "code",
   "execution_count": 45,
   "id": "47c951e1-1e0e-44a9-96b8-8c7dad39ed95",
   "metadata": {},
   "outputs": [
    {
     "data": {
      "text/plain": [
       "'Manisha '"
      ]
     },
     "execution_count": 45,
     "metadata": {},
     "output_type": "execute_result"
    }
   ],
   "source": [
    "firstname"
   ]
  },
  {
   "cell_type": "code",
   "execution_count": 46,
   "id": "37687d3e-4658-43ed-9ee1-cd6db8c04900",
   "metadata": {},
   "outputs": [
    {
     "data": {
      "text/plain": [
       "'Parashar'"
      ]
     },
     "execution_count": 46,
     "metadata": {},
     "output_type": "execute_result"
    }
   ],
   "source": [
    "secondname"
   ]
  },
  {
   "cell_type": "code",
   "execution_count": 49,
   "id": "0e5313ff-1d5a-4825-8e51-f58f026ca7e4",
   "metadata": {},
   "outputs": [
    {
     "name": "stdout",
     "output_type": "stream",
     "text": [
      "2082467856688\n",
      "2082468409328\n"
     ]
    },
    {
     "data": {
      "text/plain": [
       "'Manisha parashar'"
      ]
     },
     "execution_count": 49,
     "metadata": {},
     "output_type": "execute_result"
    }
   ],
   "source": [
    "f3()"
   ]
  },
  {
   "cell_type": "code",
   "execution_count": 68,
   "id": "6cf02070-cce0-480e-b2da-3cbc5cca7174",
   "metadata": {},
   "outputs": [],
   "source": [
    "def sum_between(a, b):\n",
    "    '''this function will give me the sum of integer  in a given range(a, b)'''\n",
    "    sum_of_num = 0\n",
    "    for i in range(a, b+1):\n",
    "        sum_of_num = sum_of_num + i\n",
    "    return sum_of_num"
   ]
  },
  {
   "cell_type": "code",
   "execution_count": 69,
   "id": "5966399d-e3dd-425a-b9ad-0e47efe75319",
   "metadata": {},
   "outputs": [],
   "source": [
    "a = sum_between(1,5)"
   ]
  },
  {
   "cell_type": "code",
   "execution_count": 70,
   "id": "08cf4266-7e2e-4d86-8d8a-badf8369d28b",
   "metadata": {},
   "outputs": [
    {
     "data": {
      "text/plain": [
       "15"
      ]
     },
     "execution_count": 70,
     "metadata": {},
     "output_type": "execute_result"
    }
   ],
   "source": [
    "a"
   ]
  },
  {
   "cell_type": "code",
   "execution_count": 71,
   "id": "80d420e2-9236-4f4c-bd17-12440aaca21c",
   "metadata": {},
   "outputs": [
    {
     "data": {
      "text/plain": [
       "\u001b[1;31mSignature:\u001b[0m \u001b[0msum_between\u001b[0m\u001b[1;33m(\u001b[0m\u001b[0ma\u001b[0m\u001b[1;33m,\u001b[0m \u001b[0mb\u001b[0m\u001b[1;33m)\u001b[0m\u001b[1;33m\u001b[0m\u001b[1;33m\u001b[0m\u001b[0m\n",
       "\u001b[1;31mDocstring:\u001b[0m this function will give me the sum of integer  in a given range(a, b)\n",
       "\u001b[1;31mFile:\u001b[0m      c:\\users\\tbaka\\appdata\\local\\temp\\ipykernel_41776\\2942674600.py\n",
       "\u001b[1;31mType:\u001b[0m      function"
      ]
     },
     "metadata": {},
     "output_type": "display_data"
    }
   ],
   "source": [
    "sum_between?"
   ]
  },
  {
   "cell_type": "code",
   "execution_count": 72,
   "id": "a6afe8c8-50a1-4340-a9d1-f595ff717d36",
   "metadata": {},
   "outputs": [],
   "source": [
    "def square(n):\n",
    "    return n**2"
   ]
  },
  {
   "cell_type": "code",
   "execution_count": 73,
   "id": "400d8be9-f3af-4d63-89f6-56252975881e",
   "metadata": {},
   "outputs": [],
   "source": [
    "def modify(f):\n",
    "    a = int(input(\"enter the number : \"))\n",
    "    return f(a)"
   ]
  },
  {
   "cell_type": "code",
   "execution_count": 76,
   "id": "574a3db5-c7f9-4e17-90f1-9940d17ebe4a",
   "metadata": {},
   "outputs": [
    {
     "name": "stdin",
     "output_type": "stream",
     "text": [
      "enter the number :  7\n"
     ]
    },
    {
     "data": {
      "text/plain": [
       "49"
      ]
     },
     "execution_count": 76,
     "metadata": {},
     "output_type": "execute_result"
    }
   ],
   "source": [
    "modify(square)  # HOF"
   ]
  },
  {
   "cell_type": "code",
   "execution_count": 77,
   "id": "c0bf37ff-c29d-411a-8663-2891177ac590",
   "metadata": {},
   "outputs": [
    {
     "data": {
      "text/plain": [
       "724"
      ]
     },
     "execution_count": 77,
     "metadata": {},
     "output_type": "execute_result"
    }
   ],
   "source": [
    "181*4"
   ]
  },
  {
   "cell_type": "code",
   "execution_count": 78,
   "id": "96c69dc4-2ce9-4d71-9185-47b9129ddfa4",
   "metadata": {},
   "outputs": [],
   "source": [
    "import torch"
   ]
  },
  {
   "cell_type": "code",
   "execution_count": 80,
   "id": "a574f550-5eb6-4614-b0ef-8c74f6da3815",
   "metadata": {},
   "outputs": [],
   "source": [
    "for i in range(torch.cuda.device_count()):\n",
    "    print(torch.cuda.get_device_name(i))"
   ]
  },
  {
   "cell_type": "code",
   "execution_count": null,
   "id": "796207ab-3ad8-4926-a02d-e454164fcc18",
   "metadata": {},
   "outputs": [],
   "source": []
  }
 ],
 "metadata": {
  "kernelspec": {
   "display_name": "Python 3 (ipykernel)",
   "language": "python",
   "name": "python3"
  },
  "language_info": {
   "codemirror_mode": {
    "name": "ipython",
    "version": 3
   },
   "file_extension": ".py",
   "mimetype": "text/x-python",
   "name": "python",
   "nbconvert_exporter": "python",
   "pygments_lexer": "ipython3",
   "version": "3.12.7"
  }
 },
 "nbformat": 4,
 "nbformat_minor": 5
}
