{
 "cells": [
  {
   "cell_type": "code",
   "execution_count": 1,
   "id": "59241eac-32b2-44d5-97fd-0195059a294d",
   "metadata": {},
   "outputs": [],
   "source": [
    "st = '   training basket   '"
   ]
  },
  {
   "cell_type": "code",
   "execution_count": 2,
   "id": "9310daf8-fd11-4910-9080-b1257acaaa13",
   "metadata": {},
   "outputs": [
    {
     "data": {
      "text/plain": [
       "['training', 'basket']"
      ]
     },
     "execution_count": 2,
     "metadata": {},
     "output_type": "execute_result"
    }
   ],
   "source": [
    "st.strip().split()"
   ]
  },
  {
   "cell_type": "code",
   "execution_count": 3,
   "id": "3bb0f6ac-d7c4-4adb-89aa-e9ca02bef576",
   "metadata": {},
   "outputs": [],
   "source": [
    "l = [1, 2, 3, 4]"
   ]
  },
  {
   "cell_type": "code",
   "execution_count": 4,
   "id": "097fee95-d731-44a2-b39c-439f8abbf004",
   "metadata": {},
   "outputs": [],
   "source": [
    "# l = [1, 4, 9, 16]"
   ]
  },
  {
   "cell_type": "code",
   "execution_count": 5,
   "id": "ce17cc0c-f8ab-4294-9ea4-8c069edb70bf",
   "metadata": {},
   "outputs": [],
   "source": [
    "a = lambda x : x + 10"
   ]
  },
  {
   "cell_type": "code",
   "execution_count": 6,
   "id": "c47466e7-4988-4629-9a81-eb1645f452b0",
   "metadata": {},
   "outputs": [
    {
     "data": {
      "text/plain": [
       "30"
      ]
     },
     "execution_count": 6,
     "metadata": {},
     "output_type": "execute_result"
    }
   ],
   "source": [
    "a(20)"
   ]
  },
  {
   "cell_type": "code",
   "execution_count": 7,
   "id": "a8c145e0-6b1e-43ae-a0ba-fa7614f11c1c",
   "metadata": {},
   "outputs": [
    {
     "data": {
      "text/plain": [
       "11"
      ]
     },
     "execution_count": 7,
     "metadata": {},
     "output_type": "execute_result"
    }
   ],
   "source": [
    "a = lambda x , y , z : x + y +z\n",
    "a(2, 4, 5)"
   ]
  },
  {
   "cell_type": "code",
   "execution_count": 8,
   "id": "1bcf3cd3-2401-4435-a386-ba3efa59795d",
   "metadata": {},
   "outputs": [],
   "source": [
    "def func(n):\n",
    "    return lambda a : a*n"
   ]
  },
  {
   "cell_type": "code",
   "execution_count": 9,
   "id": "20fd34a7-f22a-45ac-a098-a71f07d0beda",
   "metadata": {},
   "outputs": [],
   "source": [
    "number = func(7)"
   ]
  },
  {
   "cell_type": "code",
   "execution_count": 10,
   "id": "8e10fa7e-0ca6-4519-a631-53651b6a581e",
   "metadata": {},
   "outputs": [
    {
     "data": {
      "text/plain": [
       "<function __main__.func.<locals>.<lambda>(a)>"
      ]
     },
     "execution_count": 10,
     "metadata": {},
     "output_type": "execute_result"
    }
   ],
   "source": [
    "number"
   ]
  },
  {
   "cell_type": "code",
   "execution_count": 11,
   "id": "988499ca-8505-48d2-b68e-24a897add35b",
   "metadata": {},
   "outputs": [
    {
     "name": "stdout",
     "output_type": "stream",
     "text": [
      "7\n",
      "14\n",
      "21\n",
      "28\n",
      "35\n",
      "42\n",
      "49\n",
      "56\n",
      "63\n"
     ]
    }
   ],
   "source": [
    "for i in range(1, 10):\n",
    "    print(f'{number(i)}')"
   ]
  },
  {
   "cell_type": "code",
   "execution_count": 27,
   "id": "8273009b-5dd4-4e39-9568-5811705759d6",
   "metadata": {},
   "outputs": [],
   "source": [
    "l = [1, 2, 3, 4]\n",
    "# digit = 1234"
   ]
  },
  {
   "cell_type": "code",
   "execution_count": 28,
   "id": "a6822096-75b5-4170-9e89-44faad9a96f4",
   "metadata": {},
   "outputs": [],
   "source": [
    "digit = lambda total, x : total*10 + x\n",
    "# digit(l)"
   ]
  },
  {
   "cell_type": "code",
   "execution_count": 29,
   "id": "5503ddd3-e048-4a64-a397-714b5f383b8e",
   "metadata": {},
   "outputs": [],
   "source": [
    "def Digit(l):\n",
    "    result = 0\n",
    "    for i in range(len(l)):\n",
    "        result = digit(result, l[i])\n",
    "    return result"
   ]
  },
  {
   "cell_type": "code",
   "execution_count": 30,
   "id": "657587b1-85e5-40ad-b44c-453f43f8fea4",
   "metadata": {},
   "outputs": [
    {
     "data": {
      "text/plain": [
       "1234"
      ]
     },
     "execution_count": 30,
     "metadata": {},
     "output_type": "execute_result"
    }
   ],
   "source": [
    "Digit(l)"
   ]
  },
  {
   "cell_type": "code",
   "execution_count": 61,
   "id": "047014d3-47b0-4069-b282-b417cbaab4f6",
   "metadata": {},
   "outputs": [],
   "source": [
    "l = [2, 4, 6, 8]"
   ]
  },
  {
   "cell_type": "code",
   "execution_count": 32,
   "id": "65821ec4-706f-4ce5-b71d-abf41d8dd8b8",
   "metadata": {},
   "outputs": [],
   "source": [
    "for i in range(len(l)):\n",
    "    l[i] = l[i]**2"
   ]
  },
  {
   "cell_type": "code",
   "execution_count": 33,
   "id": "20e1c596-8aa4-4bc2-a528-692ea4393eed",
   "metadata": {},
   "outputs": [
    {
     "data": {
      "text/plain": [
       "[4, 16, 36, 64]"
      ]
     },
     "execution_count": 33,
     "metadata": {},
     "output_type": "execute_result"
    }
   ],
   "source": [
    "l"
   ]
  },
  {
   "cell_type": "code",
   "execution_count": 37,
   "id": "18d43ce0-9dd0-4e25-b37f-1e999330264b",
   "metadata": {},
   "outputs": [
    {
     "data": {
      "text/plain": [
       "[4, 16, 36, 64]"
      ]
     },
     "execution_count": 37,
     "metadata": {},
     "output_type": "execute_result"
    }
   ],
   "source": [
    "list(map(lambda x : x**2, l))"
   ]
  },
  {
   "cell_type": "code",
   "execution_count": 39,
   "id": "0ccba4c5-b553-43d1-b2b9-206c41ab83d3",
   "metadata": {},
   "outputs": [],
   "source": [
    "l1 = ['Tushar', 'Pawan', 'Adarsh']\n",
    "for i in range(len(l1)):\n",
    "    l1[i] = l1[i].lower()"
   ]
  },
  {
   "cell_type": "code",
   "execution_count": 40,
   "id": "0f590cda-0e0c-423c-91dc-ce29bf06e11c",
   "metadata": {},
   "outputs": [
    {
     "data": {
      "text/plain": [
       "['tushar', 'pawan', 'adarsh']"
      ]
     },
     "execution_count": 40,
     "metadata": {},
     "output_type": "execute_result"
    }
   ],
   "source": [
    "l1"
   ]
  },
  {
   "cell_type": "code",
   "execution_count": 71,
   "id": "ecabd853-c97c-41dc-853f-4bc7e6170f15",
   "metadata": {},
   "outputs": [],
   "source": [
    "l1 = ['Tushar', 'Pawan', 'Adarsh']"
   ]
  },
  {
   "cell_type": "code",
   "execution_count": 46,
   "id": "0a1c6cdf-4056-4c35-8806-4eab18b820db",
   "metadata": {},
   "outputs": [],
   "source": [
    "l1 = list(map(lambda x : x.upper(), l1 ))"
   ]
  },
  {
   "cell_type": "code",
   "execution_count": 47,
   "id": "07d8531d-04c9-4243-bbee-63b9ba0b5a76",
   "metadata": {},
   "outputs": [
    {
     "data": {
      "text/plain": [
       "['TUSHAR', 'PAWAN', 'ADARSH']"
      ]
     },
     "execution_count": 47,
     "metadata": {},
     "output_type": "execute_result"
    }
   ],
   "source": [
    "l1"
   ]
  },
  {
   "cell_type": "code",
   "execution_count": 62,
   "id": "b36134d7-d73a-4998-8af9-009dac9b97b3",
   "metadata": {},
   "outputs": [],
   "source": [
    "def square(n):\n",
    "    return n**2"
   ]
  },
  {
   "cell_type": "code",
   "execution_count": 63,
   "id": "9a60670c-6436-4707-8db2-05dde8e6fcc3",
   "metadata": {},
   "outputs": [
    {
     "data": {
      "text/plain": [
       "[2, 4, 6, 8]"
      ]
     },
     "execution_count": 63,
     "metadata": {},
     "output_type": "execute_result"
    }
   ],
   "source": [
    "l"
   ]
  },
  {
   "cell_type": "code",
   "execution_count": 64,
   "id": "62d235a1-a424-42a1-9cf2-89d5cf68db43",
   "metadata": {},
   "outputs": [
    {
     "data": {
      "text/plain": [
       "[4, 16, 36, 64]"
      ]
     },
     "execution_count": 64,
     "metadata": {},
     "output_type": "execute_result"
    }
   ],
   "source": [
    "list(map(square, l))"
   ]
  },
  {
   "cell_type": "code",
   "execution_count": 68,
   "id": "0c3948d8-df86-43e2-91da-4b666767ae2a",
   "metadata": {},
   "outputs": [],
   "source": [
    "l = [2, 3, 4, 5, 6, 8, 45,23, 34, 90]\n"
   ]
  },
  {
   "cell_type": "code",
   "execution_count": 66,
   "id": "af4c99ef-0ab6-43da-8863-b8ea0dab8179",
   "metadata": {},
   "outputs": [],
   "source": [
    "# l = ['even', 'odd', 'even', 'odd', 'even', 'even', 'odd']"
   ]
  },
  {
   "cell_type": "code",
   "execution_count": 67,
   "id": "913899b4-ef9f-4242-9390-6e54a409cb01",
   "metadata": {},
   "outputs": [
    {
     "data": {
      "text/plain": [
       "['even', 'odd', 'even', 'odd', 'even', 'even', 'odd', 'odd', 'even', 'even']"
      ]
     },
     "execution_count": 67,
     "metadata": {},
     "output_type": "execute_result"
    }
   ],
   "source": [
    "list(map(lambda x : 'even' if x%2==0 else 'odd', l))"
   ]
  },
  {
   "cell_type": "code",
   "execution_count": 70,
   "id": "5edf1299-1ad0-4141-98c1-fc528d88119b",
   "metadata": {},
   "outputs": [
    {
     "data": {
      "text/plain": [
       "[2, 3, 4, 5, 6, 8, 23]"
      ]
     },
     "execution_count": 70,
     "metadata": {},
     "output_type": "execute_result"
    }
   ],
   "source": [
    "list(filter(lambda x : x < 30, l))"
   ]
  },
  {
   "cell_type": "code",
   "execution_count": 72,
   "id": "1fcd8c17-e836-4d48-9615-07049ed7cead",
   "metadata": {},
   "outputs": [
    {
     "data": {
      "text/plain": [
       "['Tushar', 'Pawan', 'Adarsh']"
      ]
     },
     "execution_count": 72,
     "metadata": {},
     "output_type": "execute_result"
    }
   ],
   "source": [
    "l1"
   ]
  },
  {
   "cell_type": "code",
   "execution_count": 74,
   "id": "33b87e47-3a6f-461a-9cf2-32c35c26d79e",
   "metadata": {},
   "outputs": [
    {
     "data": {
      "text/plain": [
       "['Pawan']"
      ]
     },
     "execution_count": 74,
     "metadata": {},
     "output_type": "execute_result"
    }
   ],
   "source": [
    "list(filter(lambda x : len(x) == 5,l1))"
   ]
  },
  {
   "cell_type": "code",
   "execution_count": 76,
   "id": "89d25c5b-cec3-46d3-8361-b2ffcbcecb9c",
   "metadata": {},
   "outputs": [
    {
     "data": {
      "text/plain": [
       "[2, 4, 6, 8, 34, 90]"
      ]
     },
     "execution_count": 76,
     "metadata": {},
     "output_type": "execute_result"
    }
   ],
   "source": [
    "l = [2, 3, 4, 5, 6, 8, 45,23, 34, 90]\n",
    "list(filter(lambda x : x%2 ==0, l))"
   ]
  },
  {
   "cell_type": "code",
   "execution_count": 77,
   "id": "16258b52-e6e0-41e7-b9ff-0685278013d7",
   "metadata": {},
   "outputs": [],
   "source": [
    "from functools import reduce"
   ]
  },
  {
   "cell_type": "code",
   "execution_count": 79,
   "id": "f14658c2-7114-4c94-8ace-6a62b258e3a9",
   "metadata": {},
   "outputs": [
    {
     "data": {
      "text/plain": [
       "14"
      ]
     },
     "execution_count": 79,
     "metadata": {},
     "output_type": "execute_result"
    }
   ],
   "source": [
    "reduce(lambda x, y : x+y, [2, 3, 4, 5])"
   ]
  },
  {
   "cell_type": "code",
   "execution_count": null,
   "id": "f9f9050c-dc69-4d81-ab64-2b93830d6110",
   "metadata": {},
   "outputs": [],
   "source": []
  }
 ],
 "metadata": {
  "kernelspec": {
   "display_name": "Python 3 (ipykernel)",
   "language": "python",
   "name": "python3"
  },
  "language_info": {
   "codemirror_mode": {
    "name": "ipython",
    "version": 3
   },
   "file_extension": ".py",
   "mimetype": "text/x-python",
   "name": "python",
   "nbconvert_exporter": "python",
   "pygments_lexer": "ipython3",
   "version": "3.12.7"
  }
 },
 "nbformat": 4,
 "nbformat_minor": 5
}
