{
 "cells": [
  {
   "cell_type": "code",
   "execution_count": 1,
   "id": "4894bb15-4dcd-4661-bc3a-6758ea66ef46",
   "metadata": {},
   "outputs": [
    {
     "data": {
      "text/plain": [
       "5"
      ]
     },
     "execution_count": 1,
     "metadata": {},
     "output_type": "execute_result"
    }
   ],
   "source": [
    "len([1, 2, 3, 4, 5])"
   ]
  },
  {
   "cell_type": "code",
   "execution_count": 4,
   "id": "678e7d31-2bc2-46fc-bd2e-42363e9d7ce5",
   "metadata": {},
   "outputs": [
    {
     "data": {
      "text/plain": [
       "10"
      ]
     },
     "execution_count": 4,
     "metadata": {},
     "output_type": "execute_result"
    }
   ],
   "source": [
    "len('3434534543')"
   ]
  },
  {
   "cell_type": "code",
   "execution_count": 5,
   "id": "79811c3d-559c-4ef8-8a4f-ec986323e23c",
   "metadata": {},
   "outputs": [],
   "source": [
    "def addition(a, b):\n",
    "    print(a+b)"
   ]
  },
  {
   "cell_type": "code",
   "execution_count": 6,
   "id": "3d4a5efd-20be-4ef3-82c9-9c5905069434",
   "metadata": {},
   "outputs": [
    {
     "data": {
      "text/plain": [
       "2110581361696"
      ]
     },
     "execution_count": 6,
     "metadata": {},
     "output_type": "execute_result"
    }
   ],
   "source": [
    "id(addition)"
   ]
  },
  {
   "cell_type": "code",
   "execution_count": 7,
   "id": "22a61e30-8fe4-46e5-b7be-45db04b4ccc1",
   "metadata": {},
   "outputs": [
    {
     "data": {
      "text/plain": [
       "function"
      ]
     },
     "execution_count": 7,
     "metadata": {},
     "output_type": "execute_result"
    }
   ],
   "source": [
    "type(addition)"
   ]
  },
  {
   "cell_type": "code",
   "execution_count": 8,
   "id": "62720897-716a-4789-ad0f-6e56158926cc",
   "metadata": {},
   "outputs": [
    {
     "data": {
      "text/plain": [
       "<function __main__.addition(a, b)>"
      ]
     },
     "execution_count": 8,
     "metadata": {},
     "output_type": "execute_result"
    }
   ],
   "source": [
    "addition"
   ]
  },
  {
   "cell_type": "code",
   "execution_count": 11,
   "id": "f43f4325-f8b2-46e7-b6a4-2019fabf4f84",
   "metadata": {},
   "outputs": [
    {
     "name": "stdout",
     "output_type": "stream",
     "text": [
      "4\n"
     ]
    }
   ],
   "source": [
    "addition(1, 3)"
   ]
  },
  {
   "cell_type": "code",
   "execution_count": 31,
   "id": "77fc61f9-61e5-4503-bf86-587eb2ed7b68",
   "metadata": {},
   "outputs": [],
   "source": [
    "a = 3\n",
    "b = 4\n",
    "sum_1 = a+b\n",
    "def addition(a, b=10):\n",
    "    sum_2 = a + b\n",
    "    # print(sum_2)\n",
    "    return sum_2"
   ]
  },
  {
   "cell_type": "code",
   "execution_count": 17,
   "id": "eda364ef-34d1-49e9-82cc-eec7860a2e32",
   "metadata": {},
   "outputs": [
    {
     "data": {
      "text/plain": [
       "7"
      ]
     },
     "execution_count": 17,
     "metadata": {},
     "output_type": "execute_result"
    }
   ],
   "source": [
    "sum_1"
   ]
  },
  {
   "cell_type": "code",
   "execution_count": 20,
   "id": "483b87fa-d095-4cfb-92af-05034222d81e",
   "metadata": {},
   "outputs": [
    {
     "name": "stdout",
     "output_type": "stream",
     "text": [
      "16\n"
     ]
    }
   ],
   "source": [
    "added_value = addition(7, 9)"
   ]
  },
  {
   "cell_type": "code",
   "execution_count": 22,
   "id": "ac5e0824-b29b-4196-909a-a3b47faa9552",
   "metadata": {},
   "outputs": [
    {
     "name": "stdout",
     "output_type": "stream",
     "text": [
      "None\n"
     ]
    }
   ],
   "source": [
    "print(added_value)"
   ]
  },
  {
   "cell_type": "code",
   "execution_count": 32,
   "id": "fe09cc30-fa50-431b-9f1b-7aca7253c8e9",
   "metadata": {},
   "outputs": [
    {
     "data": {
      "text/plain": [
       "17"
      ]
     },
     "execution_count": 32,
     "metadata": {},
     "output_type": "execute_result"
    }
   ],
   "source": [
    "addition(7)"
   ]
  },
  {
   "cell_type": "code",
   "execution_count": 57,
   "id": "3c2cef3f-d011-4fc4-a186-90be81123eaf",
   "metadata": {},
   "outputs": [],
   "source": [
    "a1 = 3\n",
    "b1 = 4\n",
    "sum_1 = a+b\n",
    "def addition(a, b=10):\n",
    "    \n",
    "    return a + \" \" + str(b)"
   ]
  },
  {
   "cell_type": "code",
   "execution_count": 58,
   "id": "0e382ae3-c399-48f9-91b3-c8b0232161d2",
   "metadata": {},
   "outputs": [
    {
     "name": "stdin",
     "output_type": "stream",
     "text": [
      "enter your first name :  pawan\n",
      "enter your second name :  mavi\n"
     ]
    },
    {
     "ename": "TypeError",
     "evalue": "unsupported operand type(s) for +: 'int' and 'str'",
     "output_type": "error",
     "traceback": [
      "\u001b[1;31m---------------------------------------------------------------------------\u001b[0m",
      "\u001b[1;31mTypeError\u001b[0m                                 Traceback (most recent call last)",
      "Cell \u001b[1;32mIn[58], line 3\u001b[0m\n\u001b[0;32m      1\u001b[0m a \u001b[38;5;241m=\u001b[39m \u001b[38;5;28minput\u001b[39m(\u001b[38;5;124m\"\u001b[39m\u001b[38;5;124menter your first name : \u001b[39m\u001b[38;5;124m\"\u001b[39m)\n\u001b[0;32m      2\u001b[0m b \u001b[38;5;241m=\u001b[39m \u001b[38;5;28minput\u001b[39m(\u001b[38;5;124m\"\u001b[39m\u001b[38;5;124menter your second name : \u001b[39m\u001b[38;5;124m\"\u001b[39m)\n\u001b[1;32m----> 3\u001b[0m addition(a1, b1)\n",
      "Cell \u001b[1;32mIn[57], line 6\u001b[0m, in \u001b[0;36maddition\u001b[1;34m(a, b)\u001b[0m\n\u001b[0;32m      4\u001b[0m \u001b[38;5;28;01mdef\u001b[39;00m \u001b[38;5;21maddition\u001b[39m(a, b\u001b[38;5;241m=\u001b[39m\u001b[38;5;241m10\u001b[39m):\n\u001b[1;32m----> 6\u001b[0m     \u001b[38;5;28;01mreturn\u001b[39;00m a \u001b[38;5;241m+\u001b[39m \u001b[38;5;124m\"\u001b[39m\u001b[38;5;124m \u001b[39m\u001b[38;5;124m\"\u001b[39m \u001b[38;5;241m+\u001b[39m \u001b[38;5;28mstr\u001b[39m(b)\n",
      "\u001b[1;31mTypeError\u001b[0m: unsupported operand type(s) for +: 'int' and 'str'"
     ]
    }
   ],
   "source": [
    "a = input(\"enter your first name : \")\n",
    "b = input(\"enter your second name : \")\n",
    "addition(a1, b1)\n"
   ]
  },
  {
   "cell_type": "code",
   "execution_count": 36,
   "id": "8021cedf-1a76-447e-a421-48e95d914b26",
   "metadata": {},
   "outputs": [],
   "source": [
    "l = [1, 2, 3, 4, 5]"
   ]
  },
  {
   "cell_type": "code",
   "execution_count": 37,
   "id": "500bb617-78fa-4b80-89eb-8265474d7440",
   "metadata": {},
   "outputs": [
    {
     "data": {
      "text/plain": [
       "4"
      ]
     },
     "execution_count": 37,
     "metadata": {},
     "output_type": "execute_result"
    }
   ],
   "source": [
    "l.pop(-2)"
   ]
  },
  {
   "cell_type": "code",
   "execution_count": 48,
   "id": "a430ecbb-399a-4c82-85e7-d8a443725110",
   "metadata": {},
   "outputs": [
    {
     "data": {
      "text/plain": [
       "'tushar khitoliya'"
      ]
     },
     "execution_count": 48,
     "metadata": {},
     "output_type": "execute_result"
    }
   ],
   "source": [
    "addition('tushar', 'khitoliya')"
   ]
  },
  {
   "cell_type": "code",
   "execution_count": 52,
   "id": "263a130f-0e7b-47b6-a907-1851b9ef5325",
   "metadata": {},
   "outputs": [],
   "source": [
    "a = 432\n",
    "b = 'rwerw'"
   ]
  },
  {
   "cell_type": "code",
   "execution_count": 53,
   "id": "521398cb-bdfc-4a28-87de-096657649657",
   "metadata": {},
   "outputs": [
    {
     "data": {
      "text/plain": [
       "432"
      ]
     },
     "execution_count": 53,
     "metadata": {},
     "output_type": "execute_result"
    }
   ],
   "source": [
    "a"
   ]
  },
  {
   "cell_type": "code",
   "execution_count": 54,
   "id": "e82fef39-f9af-4397-9261-0e115eb5c2d8",
   "metadata": {},
   "outputs": [
    {
     "data": {
      "text/plain": [
       "'rwerw'"
      ]
     },
     "execution_count": 54,
     "metadata": {},
     "output_type": "execute_result"
    }
   ],
   "source": [
    "b"
   ]
  },
  {
   "cell_type": "code",
   "execution_count": 59,
   "id": "33ccba39-4e84-4cd9-bf62-2aa9c505801d",
   "metadata": {},
   "outputs": [
    {
     "data": {
      "text/plain": [
       "'pawan'"
      ]
     },
     "execution_count": 59,
     "metadata": {},
     "output_type": "execute_result"
    }
   ],
   "source": [
    "a"
   ]
  },
  {
   "cell_type": "code",
   "execution_count": 61,
   "id": "93b95433-3f2c-462e-b4ba-6b1b2f3d8f63",
   "metadata": {},
   "outputs": [
    {
     "data": {
      "text/plain": [
       "'tusharkhitoliya'"
      ]
     },
     "execution_count": 61,
     "metadata": {},
     "output_type": "execute_result"
    }
   ],
   "source": [
    "sum_1"
   ]
  },
  {
   "cell_type": "code",
   "execution_count": 62,
   "id": "9490b136-ac1f-4fa9-afdf-f8a28a2e3eb4",
   "metadata": {},
   "outputs": [],
   "source": [
    "sum_1 = a+b"
   ]
  },
  {
   "cell_type": "code",
   "execution_count": 63,
   "id": "4c22950f-1c37-4002-a313-6b5df9c6897f",
   "metadata": {},
   "outputs": [
    {
     "data": {
      "text/plain": [
       "'pawanmavi'"
      ]
     },
     "execution_count": 63,
     "metadata": {},
     "output_type": "execute_result"
    }
   ],
   "source": [
    "sum_1"
   ]
  },
  {
   "cell_type": "code",
   "execution_count": 83,
   "id": "0a9d1893-2301-4369-9ede-99cd07b63f30",
   "metadata": {},
   "outputs": [],
   "source": [
    "def calculator(pawan, num2):\n",
    "    add = pawan + num2\n",
    "    sub = pawan - num2\n",
    "    mult = pawan*num2\n",
    "    div = pawan/num2\n",
    "    return add, sub, mult, div"
   ]
  },
  {
   "cell_type": "code",
   "execution_count": 71,
   "id": "e6261fd9-5225-4a68-a96d-155339a7e2d3",
   "metadata": {},
   "outputs": [],
   "source": [
    "number_1 = 10\n",
    "number_2 = 20"
   ]
  },
  {
   "cell_type": "code",
   "execution_count": 72,
   "id": "2649c23d-ebc6-4e4a-988b-31ce9874d70c",
   "metadata": {},
   "outputs": [
    {
     "data": {
      "text/plain": [
       "10"
      ]
     },
     "execution_count": 72,
     "metadata": {},
     "output_type": "execute_result"
    }
   ],
   "source": [
    "number_1"
   ]
  },
  {
   "cell_type": "code",
   "execution_count": 74,
   "id": "aa0a440c-dcfd-45dc-99bc-b4bdb8102d2b",
   "metadata": {},
   "outputs": [],
   "source": [
    "tup = calculator(number_1, number_2)"
   ]
  },
  {
   "cell_type": "code",
   "execution_count": 84,
   "id": "08ce20cd-0437-4bbb-987f-c4e2dead7299",
   "metadata": {},
   "outputs": [],
   "source": [
    "add, sub, mult, div = calculator(number_1, number_2)"
   ]
  },
  {
   "cell_type": "code",
   "execution_count": 85,
   "id": "d67e0b19-6950-4100-91a6-a8a6735496f8",
   "metadata": {},
   "outputs": [
    {
     "data": {
      "text/plain": [
       "30"
      ]
     },
     "execution_count": 85,
     "metadata": {},
     "output_type": "execute_result"
    }
   ],
   "source": [
    "add"
   ]
  },
  {
   "cell_type": "code",
   "execution_count": 86,
   "id": "226f5992-30d7-425e-80ec-ae49b6c28d60",
   "metadata": {},
   "outputs": [],
   "source": [
    "add, _, _, _ = calculator(number_1, number_2)"
   ]
  },
  {
   "cell_type": "code",
   "execution_count": 87,
   "id": "c7b6a23c-1037-41f8-8194-fa6ffef94a7f",
   "metadata": {},
   "outputs": [
    {
     "data": {
      "text/plain": [
       "30"
      ]
     },
     "execution_count": 87,
     "metadata": {},
     "output_type": "execute_result"
    }
   ],
   "source": [
    "add"
   ]
  },
  {
   "cell_type": "code",
   "execution_count": 88,
   "id": "2cb7d3bd-021d-4745-ada9-5e47f7e89802",
   "metadata": {},
   "outputs": [
    {
     "data": {
      "text/plain": [
       "0.5"
      ]
     },
     "execution_count": 88,
     "metadata": {},
     "output_type": "execute_result"
    }
   ],
   "source": [
    "_"
   ]
  },
  {
   "cell_type": "code",
   "execution_count": 89,
   "id": "e67501a0-9421-4890-ab5b-aac094ec1e56",
   "metadata": {},
   "outputs": [
    {
     "data": {
      "text/plain": [
       "30"
      ]
     },
     "execution_count": 89,
     "metadata": {},
     "output_type": "execute_result"
    }
   ],
   "source": [
    "add"
   ]
  },
  {
   "cell_type": "code",
   "execution_count": 105,
   "id": "e960fc77-6f81-4b13-9754-53a986a47bcd",
   "metadata": {},
   "outputs": [],
   "source": [
    "def calculator(num1, num2):\n",
    "\n",
    "        operator = input(\"enter the operation you want to perform : \")\n",
    "        if operator == '+':\n",
    "            return num1 + num2\n",
    "        elif operator == '-':\n",
    "            return num1 - num2\n",
    "        elif operator == '*':\n",
    "            return num1*num2\n",
    "        elif operator == '/':\n",
    "            if num2 != 0:\n",
    "                return num1/num2\n",
    "            else:\n",
    "                print(\"zero division error\")\n",
    "        elif operator == '%':\n",
    "            return num1%num2\n",
    "        elif operator == '//':\n",
    "            return num1//num2"
   ]
  },
  {
   "cell_type": "code",
   "execution_count": 107,
   "id": "6419970b-8224-43d3-91fc-b4daa7e63dff",
   "metadata": {},
   "outputs": [
    {
     "ename": "KeyboardInterrupt",
     "evalue": "Interrupted by user",
     "output_type": "error",
     "traceback": [
      "\u001b[1;31m---------------------------------------------------------------------------\u001b[0m",
      "\u001b[1;31mKeyboardInterrupt\u001b[0m                         Traceback (most recent call last)",
      "Cell \u001b[1;32mIn[107], line 2\u001b[0m\n\u001b[0;32m      1\u001b[0m \u001b[38;5;28;01mwhile\u001b[39;00m \u001b[38;5;241m4\u001b[39m:\n\u001b[1;32m----> 2\u001b[0m     \u001b[38;5;28mprint\u001b[39m(calculator(\u001b[38;5;241m10\u001b[39m, \u001b[38;5;241m100\u001b[39m))\n",
      "Cell \u001b[1;32mIn[105], line 3\u001b[0m, in \u001b[0;36mcalculator\u001b[1;34m(num1, num2)\u001b[0m\n\u001b[0;32m      1\u001b[0m \u001b[38;5;28;01mdef\u001b[39;00m \u001b[38;5;21mcalculator\u001b[39m(num1, num2):\n\u001b[1;32m----> 3\u001b[0m         operator \u001b[38;5;241m=\u001b[39m \u001b[38;5;28minput\u001b[39m(\u001b[38;5;124m\"\u001b[39m\u001b[38;5;124menter the operation you want to perform : \u001b[39m\u001b[38;5;124m\"\u001b[39m)\n\u001b[0;32m      4\u001b[0m         \u001b[38;5;28;01mif\u001b[39;00m operator \u001b[38;5;241m==\u001b[39m \u001b[38;5;124m'\u001b[39m\u001b[38;5;124m+\u001b[39m\u001b[38;5;124m'\u001b[39m:\n\u001b[0;32m      5\u001b[0m             \u001b[38;5;28;01mreturn\u001b[39;00m num1 \u001b[38;5;241m+\u001b[39m num2\n",
      "File \u001b[1;32m~\\anaconda3\\Lib\\site-packages\\ipykernel\\kernelbase.py:1262\u001b[0m, in \u001b[0;36mKernel.raw_input\u001b[1;34m(self, prompt)\u001b[0m\n\u001b[0;32m   1260\u001b[0m     msg \u001b[38;5;241m=\u001b[39m \u001b[38;5;124m\"\u001b[39m\u001b[38;5;124mraw_input was called, but this frontend does not support input requests.\u001b[39m\u001b[38;5;124m\"\u001b[39m\n\u001b[0;32m   1261\u001b[0m     \u001b[38;5;28;01mraise\u001b[39;00m StdinNotImplementedError(msg)\n\u001b[1;32m-> 1262\u001b[0m \u001b[38;5;28;01mreturn\u001b[39;00m \u001b[38;5;28mself\u001b[39m\u001b[38;5;241m.\u001b[39m_input_request(\n\u001b[0;32m   1263\u001b[0m     \u001b[38;5;28mstr\u001b[39m(prompt),\n\u001b[0;32m   1264\u001b[0m     \u001b[38;5;28mself\u001b[39m\u001b[38;5;241m.\u001b[39m_parent_ident[\u001b[38;5;124m\"\u001b[39m\u001b[38;5;124mshell\u001b[39m\u001b[38;5;124m\"\u001b[39m],\n\u001b[0;32m   1265\u001b[0m     \u001b[38;5;28mself\u001b[39m\u001b[38;5;241m.\u001b[39mget_parent(\u001b[38;5;124m\"\u001b[39m\u001b[38;5;124mshell\u001b[39m\u001b[38;5;124m\"\u001b[39m),\n\u001b[0;32m   1266\u001b[0m     password\u001b[38;5;241m=\u001b[39m\u001b[38;5;28;01mFalse\u001b[39;00m,\n\u001b[0;32m   1267\u001b[0m )\n",
      "File \u001b[1;32m~\\anaconda3\\Lib\\site-packages\\ipykernel\\kernelbase.py:1305\u001b[0m, in \u001b[0;36mKernel._input_request\u001b[1;34m(self, prompt, ident, parent, password)\u001b[0m\n\u001b[0;32m   1302\u001b[0m \u001b[38;5;28;01mexcept\u001b[39;00m \u001b[38;5;167;01mKeyboardInterrupt\u001b[39;00m:\n\u001b[0;32m   1303\u001b[0m     \u001b[38;5;66;03m# re-raise KeyboardInterrupt, to truncate traceback\u001b[39;00m\n\u001b[0;32m   1304\u001b[0m     msg \u001b[38;5;241m=\u001b[39m \u001b[38;5;124m\"\u001b[39m\u001b[38;5;124mInterrupted by user\u001b[39m\u001b[38;5;124m\"\u001b[39m\n\u001b[1;32m-> 1305\u001b[0m     \u001b[38;5;28;01mraise\u001b[39;00m \u001b[38;5;167;01mKeyboardInterrupt\u001b[39;00m(msg) \u001b[38;5;28;01mfrom\u001b[39;00m \u001b[38;5;28;01mNone\u001b[39;00m\n\u001b[0;32m   1306\u001b[0m \u001b[38;5;28;01mexcept\u001b[39;00m \u001b[38;5;167;01mException\u001b[39;00m:\n\u001b[0;32m   1307\u001b[0m     \u001b[38;5;28mself\u001b[39m\u001b[38;5;241m.\u001b[39mlog\u001b[38;5;241m.\u001b[39mwarning(\u001b[38;5;124m\"\u001b[39m\u001b[38;5;124mInvalid Message:\u001b[39m\u001b[38;5;124m\"\u001b[39m, exc_info\u001b[38;5;241m=\u001b[39m\u001b[38;5;28;01mTrue\u001b[39;00m)\n",
      "\u001b[1;31mKeyboardInterrupt\u001b[0m: Interrupted by user"
     ]
    },
    {
     "name": "stdin",
     "output_type": "stream",
     "text": [
      "enter the operation you want to perform :  +\n"
     ]
    }
   ],
   "source": [
    "while 4:\n",
    "    print(calculator(10, 100))"
   ]
  },
  {
   "cell_type": "code",
   "execution_count": null,
   "id": "71a46efe-f005-4f5b-a4ae-d66afd95071b",
   "metadata": {},
   "outputs": [],
   "source": []
  }
 ],
 "metadata": {
  "kernelspec": {
   "display_name": "Python 3 (ipykernel)",
   "language": "python",
   "name": "python3"
  },
  "language_info": {
   "codemirror_mode": {
    "name": "ipython",
    "version": 3
   },
   "file_extension": ".py",
   "mimetype": "text/x-python",
   "name": "python",
   "nbconvert_exporter": "python",
   "pygments_lexer": "ipython3",
   "version": "3.12.7"
  }
 },
 "nbformat": 4,
 "nbformat_minor": 5
}
