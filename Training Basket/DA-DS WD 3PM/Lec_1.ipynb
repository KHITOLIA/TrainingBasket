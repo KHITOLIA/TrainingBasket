{
 "cells": [
  {
   "cell_type": "markdown",
   "id": "db66d2dd-8f13-4019-86de-b4d2e2a74006",
   "metadata": {},
   "source": [
    "# Variables"
   ]
  },
  {
   "cell_type": "code",
   "execution_count": 6,
   "id": "371e8e20-73c0-4384-9c55-86f55e5150ba",
   "metadata": {},
   "outputs": [],
   "source": [
    "a = 5 # press shift + enter to run the current cell"
   ]
  },
  {
   "cell_type": "code",
   "execution_count": 7,
   "id": "be28665a-d26d-4441-b3c1-69a93044372c",
   "metadata": {},
   "outputs": [
    {
     "data": {
      "text/plain": [
       "5"
      ]
     },
     "execution_count": 7,
     "metadata": {},
     "output_type": "execute_result"
    }
   ],
   "source": [
    "a"
   ]
  },
  {
   "cell_type": "code",
   "execution_count": 8,
   "id": "a6c14d70-59c6-40f9-ba62-911573f8ecdf",
   "metadata": {},
   "outputs": [],
   "source": [
    "b = 6.8 # it contains a decimal value"
   ]
  },
  {
   "cell_type": "code",
   "execution_count": null,
   "id": "3f1d6277-7945-4f81-b3e2-61f340973fcf",
   "metadata": {},
   "outputs": [],
   "source": []
  },
  {
   "cell_type": "code",
   "execution_count": 11,
   "id": "681be312-3e7d-4f7b-b30d-dbd393c827d2",
   "metadata": {},
   "outputs": [],
   "source": [
    "d = False"
   ]
  },
  {
   "cell_type": "code",
   "execution_count": 12,
   "id": "99df114d-5807-4b58-a577-e5cef69ea428",
   "metadata": {},
   "outputs": [
    {
     "data": {
      "text/plain": [
       "6.8"
      ]
     },
     "execution_count": 12,
     "metadata": {},
     "output_type": "execute_result"
    }
   ],
   "source": [
    "b"
   ]
  },
  {
   "cell_type": "code",
   "execution_count": 13,
   "id": "30c51c6c-768e-4340-af5c-fe0406fc857a",
   "metadata": {},
   "outputs": [
    {
     "data": {
      "text/plain": [
       "'Adarsh'"
      ]
     },
     "execution_count": 13,
     "metadata": {},
     "output_type": "execute_result"
    }
   ],
   "source": [
    "c"
   ]
  },
  {
   "cell_type": "code",
   "execution_count": 14,
   "id": "7dc09b1b-c98d-417d-af45-5772a2326fea",
   "metadata": {},
   "outputs": [
    {
     "data": {
      "text/plain": [
       "False"
      ]
     },
     "execution_count": 14,
     "metadata": {},
     "output_type": "execute_result"
    }
   ],
   "source": [
    "d"
   ]
  },
  {
   "cell_type": "code",
   "execution_count": 15,
   "id": "51704931-7a80-4ca7-8959-8ce564fffd69",
   "metadata": {},
   "outputs": [
    {
     "data": {
      "text/plain": [
       "\u001b[1;31mInit signature:\u001b[0m \u001b[0mtype\u001b[0m\u001b[1;33m(\u001b[0m\u001b[0mself\u001b[0m\u001b[1;33m,\u001b[0m \u001b[1;33m/\u001b[0m\u001b[1;33m,\u001b[0m \u001b[1;33m*\u001b[0m\u001b[0margs\u001b[0m\u001b[1;33m,\u001b[0m \u001b[1;33m**\u001b[0m\u001b[0mkwargs\u001b[0m\u001b[1;33m)\u001b[0m\u001b[1;33m\u001b[0m\u001b[1;33m\u001b[0m\u001b[0m\n",
       "\u001b[1;31mDocstring:\u001b[0m     \n",
       "type(object) -> the object's type\n",
       "type(name, bases, dict, **kwds) -> a new type\n",
       "\u001b[1;31mType:\u001b[0m           type\n",
       "\u001b[1;31mSubclasses:\u001b[0m     ABCMeta, EnumType, _AnyMeta, NamedTupleMeta, _TypedDictMeta, _DeprecatedType, _ABC, MetaHasDescriptors, PyCStructType, UnionType, ..."
      ]
     },
     "metadata": {},
     "output_type": "display_data"
    }
   ],
   "source": [
    "type?"
   ]
  },
  {
   "cell_type": "code",
   "execution_count": 17,
   "id": "d53aa807-673e-4df3-84fd-c2e9dfcf9ebe",
   "metadata": {},
   "outputs": [
    {
     "data": {
      "text/plain": [
       "int"
      ]
     },
     "execution_count": 17,
     "metadata": {},
     "output_type": "execute_result"
    }
   ],
   "source": [
    "type(a)"
   ]
  },
  {
   "cell_type": "code",
   "execution_count": 18,
   "id": "3bb9c318-62b9-47c8-9dca-2a1987a0ba99",
   "metadata": {},
   "outputs": [
    {
     "data": {
      "text/plain": [
       "float"
      ]
     },
     "execution_count": 18,
     "metadata": {},
     "output_type": "execute_result"
    }
   ],
   "source": [
    "type(b)"
   ]
  },
  {
   "cell_type": "code",
   "execution_count": 19,
   "id": "00e4316e-d045-4719-8795-f062adecca78",
   "metadata": {},
   "outputs": [
    {
     "data": {
      "text/plain": [
       "str"
      ]
     },
     "execution_count": 19,
     "metadata": {},
     "output_type": "execute_result"
    }
   ],
   "source": [
    "type(c)"
   ]
  },
  {
   "cell_type": "code",
   "execution_count": 20,
   "id": "37efa3cc-d0bc-48c0-a250-68ad2c80786d",
   "metadata": {},
   "outputs": [
    {
     "data": {
      "text/plain": [
       "bool"
      ]
     },
     "execution_count": 20,
     "metadata": {},
     "output_type": "execute_result"
    }
   ],
   "source": [
    "type(d)"
   ]
  },
  {
   "cell_type": "code",
   "execution_count": 21,
   "id": "5566bd76-21fb-4a82-ace1-18548dc2a7a4",
   "metadata": {},
   "outputs": [
    {
     "name": "stdout",
     "output_type": "stream",
     "text": [
      "5\n"
     ]
    }
   ],
   "source": [
    "print(a)"
   ]
  },
  {
   "cell_type": "code",
   "execution_count": 22,
   "id": "af61337e-9aee-42bd-b698-3f97ea80ee3d",
   "metadata": {},
   "outputs": [
    {
     "name": "stdout",
     "output_type": "stream",
     "text": [
      "False\n"
     ]
    }
   ],
   "source": [
    "print(d)"
   ]
  },
  {
   "cell_type": "code",
   "execution_count": 23,
   "id": "2c9d261f-f659-4570-b8ca-59e6d585b53b",
   "metadata": {},
   "outputs": [
    {
     "name": "stdout",
     "output_type": "stream",
     "text": [
      "Adarsh\n"
     ]
    }
   ],
   "source": [
    "print(c)"
   ]
  },
  {
   "cell_type": "code",
   "execution_count": 24,
   "id": "7610b55f-9657-408d-a1d5-851948e019fc",
   "metadata": {},
   "outputs": [
    {
     "ename": "NameError",
     "evalue": "name 'e' is not defined",
     "output_type": "error",
     "traceback": [
      "\u001b[1;31m---------------------------------------------------------------------------\u001b[0m",
      "\u001b[1;31mNameError\u001b[0m                                 Traceback (most recent call last)",
      "Cell \u001b[1;32mIn[24], line 1\u001b[0m\n\u001b[1;32m----> 1\u001b[0m \u001b[38;5;28mprint\u001b[39m(e)\n",
      "\u001b[1;31mNameError\u001b[0m: name 'e' is not defined"
     ]
    }
   ],
   "source": [
    "print(e)"
   ]
  },
  {
   "cell_type": "code",
   "execution_count": 25,
   "id": "7c157b95-0a37-40b0-bf13-4241ac2f22e4",
   "metadata": {},
   "outputs": [
    {
     "data": {
      "text/plain": [
       "'this is a dog\\nmy dog name is max'"
      ]
     },
     "execution_count": 25,
     "metadata": {},
     "output_type": "execute_result"
    }
   ],
   "source": [
    "'''this is a dog\n",
    "my dog name is max'''"
   ]
  },
  {
   "cell_type": "code",
   "execution_count": 26,
   "id": "05acf181-0635-40a9-a068-dc1e9775f995",
   "metadata": {},
   "outputs": [
    {
     "name": "stdout",
     "output_type": "stream",
     "text": [
      "Tushar\n"
     ]
    }
   ],
   "source": [
    "print('Tushar')"
   ]
  },
  {
   "cell_type": "code",
   "execution_count": 27,
   "id": "10c7d7f5-776b-4eb4-b492-9b085f551e74",
   "metadata": {},
   "outputs": [],
   "source": [
    "tushar = 34"
   ]
  },
  {
   "cell_type": "code",
   "execution_count": 28,
   "id": "85cfc109-f354-4467-8907-bc4a69a8740e",
   "metadata": {},
   "outputs": [
    {
     "name": "stdout",
     "output_type": "stream",
     "text": [
      "34\n"
     ]
    }
   ],
   "source": [
    "print(tushar)"
   ]
  },
  {
   "cell_type": "code",
   "execution_count": 30,
   "id": "9dd0e4c5-9923-4f2f-b987-73edcddccd74",
   "metadata": {},
   "outputs": [
    {
     "name": "stdout",
     "output_type": "stream",
     "text": [
      "False\n"
     ]
    }
   ],
   "source": [
    "print(False)"
   ]
  },
  {
   "cell_type": "code",
   "execution_count": 31,
   "id": "c6264376-c9c4-4418-9a2d-2d68ae5f640c",
   "metadata": {},
   "outputs": [],
   "source": [
    "# in-built function : type , print"
   ]
  },
  {
   "cell_type": "code",
   "execution_count": 32,
   "id": "e27b1332-4280-484b-b09c-a8672efeea5a",
   "metadata": {},
   "outputs": [
    {
     "data": {
      "text/plain": [
       "'Adarsh'"
      ]
     },
     "execution_count": 32,
     "metadata": {},
     "output_type": "execute_result"
    }
   ],
   "source": [
    "c"
   ]
  },
  {
   "cell_type": "code",
   "execution_count": 33,
   "id": "e0446f96-13e1-425f-aeff-dbd5aaecf96a",
   "metadata": {},
   "outputs": [],
   "source": [
    "c = 'niraj'"
   ]
  },
  {
   "cell_type": "code",
   "execution_count": 34,
   "id": "054e61da-ac18-44c3-ba0c-07faac0f1bc8",
   "metadata": {},
   "outputs": [
    {
     "data": {
      "text/plain": [
       "'niraj'"
      ]
     },
     "execution_count": 34,
     "metadata": {},
     "output_type": "execute_result"
    }
   ],
   "source": [
    "c"
   ]
  },
  {
   "cell_type": "code",
   "execution_count": 35,
   "id": "f2446ee5-360e-46fb-bd51-c002676e4485",
   "metadata": {},
   "outputs": [
    {
     "data": {
      "text/plain": [
       "\u001b[1;31mSignature:\u001b[0m \u001b[0mid\u001b[0m\u001b[1;33m(\u001b[0m\u001b[0mobj\u001b[0m\u001b[1;33m,\u001b[0m \u001b[1;33m/\u001b[0m\u001b[1;33m)\u001b[0m\u001b[1;33m\u001b[0m\u001b[1;33m\u001b[0m\u001b[0m\n",
       "\u001b[1;31mDocstring:\u001b[0m\n",
       "Return the identity of an object.\n",
       "\n",
       "This is guaranteed to be unique among simultaneously existing objects.\n",
       "(CPython uses the object's memory address.)\n",
       "\u001b[1;31mType:\u001b[0m      builtin_function_or_method"
      ]
     },
     "metadata": {},
     "output_type": "display_data"
    }
   ],
   "source": [
    "id?"
   ]
  },
  {
   "cell_type": "code",
   "execution_count": 36,
   "id": "ee26aad6-7133-4430-bcda-3672f370d3cb",
   "metadata": {},
   "outputs": [
    {
     "data": {
      "text/plain": [
       "5"
      ]
     },
     "execution_count": 36,
     "metadata": {},
     "output_type": "execute_result"
    }
   ],
   "source": [
    "a"
   ]
  },
  {
   "cell_type": "code",
   "execution_count": 37,
   "id": "f6321bb2-54ba-4f47-a156-ec539d05608b",
   "metadata": {},
   "outputs": [
    {
     "data": {
      "text/plain": [
       "140726617385528"
      ]
     },
     "execution_count": 37,
     "metadata": {},
     "output_type": "execute_result"
    }
   ],
   "source": [
    "id(a)"
   ]
  },
  {
   "cell_type": "code",
   "execution_count": 38,
   "id": "f36323be-a67b-44c0-b076-c5d0a2d759cc",
   "metadata": {},
   "outputs": [
    {
     "data": {
      "text/plain": [
       "1805682127632"
      ]
     },
     "execution_count": 38,
     "metadata": {},
     "output_type": "execute_result"
    }
   ],
   "source": [
    "id(b)"
   ]
  },
  {
   "cell_type": "code",
   "execution_count": 39,
   "id": "3bdcf2ab-3194-402d-bfd8-891a5565e19e",
   "metadata": {},
   "outputs": [
    {
     "data": {
      "text/plain": [
       "'niraj'"
      ]
     },
     "execution_count": 39,
     "metadata": {},
     "output_type": "execute_result"
    }
   ],
   "source": [
    "c"
   ]
  },
  {
   "cell_type": "code",
   "execution_count": 40,
   "id": "f513bab4-25d3-4bb9-ac20-fe06d19f9659",
   "metadata": {},
   "outputs": [
    {
     "data": {
      "text/plain": [
       "1805687161360"
      ]
     },
     "execution_count": 40,
     "metadata": {},
     "output_type": "execute_result"
    }
   ],
   "source": [
    "id(c)"
   ]
  },
  {
   "cell_type": "code",
   "execution_count": 41,
   "id": "dd4eb00c-da09-416d-a450-ddbbeabe81e7",
   "metadata": {},
   "outputs": [],
   "source": [
    "c = 'adarsh'"
   ]
  },
  {
   "cell_type": "code",
   "execution_count": 42,
   "id": "002522e5-75bd-4f60-99d1-e2dff8067af8",
   "metadata": {},
   "outputs": [
    {
     "data": {
      "text/plain": [
       "1805687161936"
      ]
     },
     "execution_count": 42,
     "metadata": {},
     "output_type": "execute_result"
    }
   ],
   "source": [
    "id(c)"
   ]
  },
  {
   "cell_type": "code",
   "execution_count": 43,
   "id": "4868e654-5786-49ba-b694-8d5459b40027",
   "metadata": {},
   "outputs": [
    {
     "data": {
      "text/plain": [
       "140726616259488"
      ]
     },
     "execution_count": 43,
     "metadata": {},
     "output_type": "execute_result"
    }
   ],
   "source": [
    "id(d)"
   ]
  },
  {
   "cell_type": "code",
   "execution_count": 44,
   "id": "b91fcf20-a5a7-428f-9d87-49a784f134a3",
   "metadata": {},
   "outputs": [
    {
     "data": {
      "text/plain": [
       "140726616353312"
      ]
     },
     "execution_count": 44,
     "metadata": {},
     "output_type": "execute_result"
    }
   ],
   "source": [
    "id(type)"
   ]
  },
  {
   "cell_type": "code",
   "execution_count": 45,
   "id": "0a4787a2-93b9-438b-8cec-8c8d3157d3f5",
   "metadata": {},
   "outputs": [
    {
     "data": {
      "text/plain": [
       "1805586993120"
      ]
     },
     "execution_count": 45,
     "metadata": {},
     "output_type": "execute_result"
    }
   ],
   "source": [
    "id(print)"
   ]
  },
  {
   "cell_type": "code",
   "execution_count": 52,
   "id": "d0f2dfde-3fd2-44f4-a866-ed664ad3a04c",
   "metadata": {},
   "outputs": [
    {
     "name": "stdout",
     "output_type": "stream",
     "text": [
      "5 6.8\n"
     ]
    }
   ],
   "source": [
    "print(a,b)"
   ]
  },
  {
   "cell_type": "code",
   "execution_count": 54,
   "id": "50177be0-3218-4874-91e0-8829892f3c5d",
   "metadata": {},
   "outputs": [
    {
     "name": "stdout",
     "output_type": "stream",
     "text": [
      "adarsh 5 6.8\n"
     ]
    }
   ],
   "source": [
    "print(c, a, b)"
   ]
  },
  {
   "cell_type": "code",
   "execution_count": 55,
   "id": "486d99ed-895a-400e-a051-096ba491dd98",
   "metadata": {},
   "outputs": [
    {
     "name": "stdout",
     "output_type": "stream",
     "text": [
      "manisha 5 parashar\n"
     ]
    }
   ],
   "source": [
    "print('manisha', a, 'parashar')"
   ]
  },
  {
   "cell_type": "code",
   "execution_count": 56,
   "id": "bd906182-8873-4ecd-8771-d2d44265f8d8",
   "metadata": {},
   "outputs": [
    {
     "name": "stdout",
     "output_type": "stream",
     "text": [
      "manishaparashar\n"
     ]
    }
   ],
   "source": [
    "print('manisha' + 'parashar')"
   ]
  },
  {
   "cell_type": "code",
   "execution_count": 57,
   "id": "66615e50-5552-4787-b64f-e79960417d0c",
   "metadata": {},
   "outputs": [
    {
     "name": "stdout",
     "output_type": "stream",
     "text": [
      "manisha parashar\n"
     ]
    }
   ],
   "source": [
    "print('manisha' + ' ' +  'parashar')"
   ]
  },
  {
   "cell_type": "code",
   "execution_count": 58,
   "id": "22679bee-9e2c-421e-85a7-7553bada9391",
   "metadata": {},
   "outputs": [
    {
     "ename": "TypeError",
     "evalue": "unsupported operand type(s) for +: 'int' and 'str'",
     "output_type": "error",
     "traceback": [
      "\u001b[1;31m---------------------------------------------------------------------------\u001b[0m",
      "\u001b[1;31mTypeError\u001b[0m                                 Traceback (most recent call last)",
      "Cell \u001b[1;32mIn[58], line 1\u001b[0m\n\u001b[1;32m----> 1\u001b[0m \u001b[38;5;28mprint\u001b[39m(a \u001b[38;5;241m+\u001b[39m \u001b[38;5;124m'\u001b[39m\u001b[38;5;124mTushar\u001b[39m\u001b[38;5;124m'\u001b[39m)\n",
      "\u001b[1;31mTypeError\u001b[0m: unsupported operand type(s) for +: 'int' and 'str'"
     ]
    }
   ],
   "source": [
    "print(a + 'Tushar')"
   ]
  },
  {
   "cell_type": "code",
   "execution_count": 59,
   "id": "7e144fcf-616f-44cb-bff5-fc49a45c2426",
   "metadata": {},
   "outputs": [],
   "source": [
    "a = str(a)\n"
   ]
  },
  {
   "cell_type": "code",
   "execution_count": 60,
   "id": "c8923194-3b3a-4765-ab7e-b73d080826be",
   "metadata": {},
   "outputs": [
    {
     "data": {
      "text/plain": [
       "str"
      ]
     },
     "execution_count": 60,
     "metadata": {},
     "output_type": "execute_result"
    }
   ],
   "source": [
    "type(a)"
   ]
  },
  {
   "cell_type": "code",
   "execution_count": 61,
   "id": "d71c7c93-0831-4a38-a870-619290d60091",
   "metadata": {},
   "outputs": [
    {
     "data": {
      "text/plain": [
       "'5'"
      ]
     },
     "execution_count": 61,
     "metadata": {},
     "output_type": "execute_result"
    }
   ],
   "source": [
    "a"
   ]
  },
  {
   "cell_type": "code",
   "execution_count": 62,
   "id": "d5e00d18-448e-4cd2-b89c-3970ae281a92",
   "metadata": {},
   "outputs": [
    {
     "data": {
      "text/plain": [
       "6.8"
      ]
     },
     "execution_count": 62,
     "metadata": {},
     "output_type": "execute_result"
    }
   ],
   "source": [
    "b "
   ]
  },
  {
   "cell_type": "code",
   "execution_count": 63,
   "id": "459da297-9f27-428b-b273-5f07142692c1",
   "metadata": {},
   "outputs": [
    {
     "name": "stdout",
     "output_type": "stream",
     "text": [
      "6\n"
     ]
    }
   ],
   "source": [
    "b = int(b)\n",
    "print(b)"
   ]
  },
  {
   "cell_type": "code",
   "execution_count": 64,
   "id": "81277ef3-151a-44dd-bdf6-dcddfb1ab66a",
   "metadata": {},
   "outputs": [],
   "source": [
    "# write a code to print your full name with your age"
   ]
  },
  {
   "cell_type": "code",
   "execution_count": 67,
   "id": "7bcb02c6-9011-4007-b285-300570dc2bdc",
   "metadata": {},
   "outputs": [
    {
     "name": "stdout",
     "output_type": "stream",
     "text": [
      "Hello my name is Tushar Khitoliya 67 yr of age\n"
     ]
    }
   ],
   "source": [
    "first_name = 'Tushar'\n",
    "second_name = 'Khitoliya'\n",
    "age = 67\n",
    "print('Hello my name is', first_name, second_name, age, 'yr of age')"
   ]
  },
  {
   "cell_type": "code",
   "execution_count": 69,
   "id": "c5210a23-8688-4f2b-b804-b7ed08d443c2",
   "metadata": {},
   "outputs": [],
   "source": [
    "# type : for what type of your data\n",
    "# print : to print anything\n",
    "# id : for memory address"
   ]
  },
  {
   "cell_type": "code",
   "execution_count": 70,
   "id": "59e3995f-6e7a-4659-b018-9cfbf0c7813a",
   "metadata": {},
   "outputs": [],
   "source": [
    "# sfsdfsdfsfsdf"
   ]
  },
  {
   "cell_type": "code",
   "execution_count": 71,
   "id": "c289deff-ebea-463f-a7cf-93706f613fc5",
   "metadata": {},
   "outputs": [
    {
     "data": {
      "text/plain": [
       "\u001b[1;31mInit signature:\u001b[0m \u001b[0mtype\u001b[0m\u001b[1;33m(\u001b[0m\u001b[0mself\u001b[0m\u001b[1;33m,\u001b[0m \u001b[1;33m/\u001b[0m\u001b[1;33m,\u001b[0m \u001b[1;33m*\u001b[0m\u001b[0margs\u001b[0m\u001b[1;33m,\u001b[0m \u001b[1;33m**\u001b[0m\u001b[0mkwargs\u001b[0m\u001b[1;33m)\u001b[0m\u001b[1;33m\u001b[0m\u001b[1;33m\u001b[0m\u001b[0m\n",
       "\u001b[1;31mDocstring:\u001b[0m     \n",
       "type(object) -> the object's type\n",
       "type(name, bases, dict, **kwds) -> a new type\n",
       "\u001b[1;31mType:\u001b[0m           type\n",
       "\u001b[1;31mSubclasses:\u001b[0m     ABCMeta, EnumType, _AnyMeta, NamedTupleMeta, _TypedDictMeta, _DeprecatedType, _ABC, MetaHasDescriptors, PyCStructType, UnionType, ..."
      ]
     },
     "metadata": {},
     "output_type": "display_data"
    }
   ],
   "source": [
    "type?"
   ]
  },
  {
   "cell_type": "code",
   "execution_count": 72,
   "id": "be25aab6-0a24-4a85-ae80-856de958aa57",
   "metadata": {},
   "outputs": [
    {
     "data": {
      "text/plain": [
       "type"
      ]
     },
     "execution_count": 72,
     "metadata": {},
     "output_type": "execute_result"
    }
   ],
   "source": [
    "type # shift + tab for docstring or type?"
   ]
  },
  {
   "cell_type": "code",
   "execution_count": 73,
   "id": "a530eda0-a11e-4769-af11-f1b7cfb69e00",
   "metadata": {},
   "outputs": [
    {
     "data": {
      "text/plain": [
       "11"
      ]
     },
     "execution_count": 73,
     "metadata": {},
     "output_type": "execute_result"
    }
   ],
   "source": [
    "2 + 9"
   ]
  },
  {
   "cell_type": "code",
   "execution_count": 74,
   "id": "fde95cd4-21cb-41a4-a1ed-29fa723fad31",
   "metadata": {},
   "outputs": [
    {
     "data": {
      "text/plain": [
       "'5'"
      ]
     },
     "execution_count": 74,
     "metadata": {},
     "output_type": "execute_result"
    }
   ],
   "source": [
    "a"
   ]
  },
  {
   "cell_type": "code",
   "execution_count": 75,
   "id": "f012e992-ff02-47c3-b3fd-4e9891ac7cb9",
   "metadata": {},
   "outputs": [],
   "source": [
    "a = int(a)"
   ]
  },
  {
   "cell_type": "code",
   "execution_count": 76,
   "id": "f91d6e22-c63e-49f0-9f5e-c8de3e5ff908",
   "metadata": {},
   "outputs": [
    {
     "data": {
      "text/plain": [
       "5"
      ]
     },
     "execution_count": 76,
     "metadata": {},
     "output_type": "execute_result"
    }
   ],
   "source": [
    "a"
   ]
  },
  {
   "cell_type": "code",
   "execution_count": 77,
   "id": "8473927b-167e-44b3-8c45-d8ddc779b943",
   "metadata": {},
   "outputs": [
    {
     "data": {
      "text/plain": [
       "6"
      ]
     },
     "execution_count": 77,
     "metadata": {},
     "output_type": "execute_result"
    }
   ],
   "source": [
    "b"
   ]
  },
  {
   "cell_type": "code",
   "execution_count": 78,
   "id": "48d823f1-1f8d-49fd-a070-74276c7ae30d",
   "metadata": {},
   "outputs": [
    {
     "data": {
      "text/plain": [
       "11"
      ]
     },
     "execution_count": 78,
     "metadata": {},
     "output_type": "execute_result"
    }
   ],
   "source": [
    "5 + 6"
   ]
  },
  {
   "cell_type": "code",
   "execution_count": 79,
   "id": "f9fed5fb-7305-496c-9b10-d83c6b5bb248",
   "metadata": {},
   "outputs": [
    {
     "data": {
      "text/plain": [
       "11"
      ]
     },
     "execution_count": 79,
     "metadata": {},
     "output_type": "execute_result"
    }
   ],
   "source": [
    "a + b"
   ]
  },
  {
   "cell_type": "code",
   "execution_count": 80,
   "id": "5e41354c-58f4-42ea-9f10-50ff7f2b547a",
   "metadata": {},
   "outputs": [
    {
     "data": {
      "text/plain": [
       "11"
      ]
     },
     "execution_count": 80,
     "metadata": {},
     "output_type": "execute_result"
    }
   ],
   "source": [
    "b + a"
   ]
  },
  {
   "cell_type": "code",
   "execution_count": 81,
   "id": "b77cedb5-3c28-4487-bcb0-be5b1d0057d8",
   "metadata": {},
   "outputs": [
    {
     "name": "stdout",
     "output_type": "stream",
     "text": [
      "11\n"
     ]
    }
   ],
   "source": [
    "print(a + b)"
   ]
  },
  {
   "cell_type": "code",
   "execution_count": 82,
   "id": "0a13f4fd-cfea-4231-844f-d893fec76561",
   "metadata": {},
   "outputs": [
    {
     "ename": "TypeError",
     "evalue": "unsupported operand type(s) for +: 'int' and 'str'",
     "output_type": "error",
     "traceback": [
      "\u001b[1;31m---------------------------------------------------------------------------\u001b[0m",
      "\u001b[1;31mTypeError\u001b[0m                                 Traceback (most recent call last)",
      "Cell \u001b[1;32mIn[82], line 1\u001b[0m\n\u001b[1;32m----> 1\u001b[0m \u001b[38;5;28mprint\u001b[39m(b \u001b[38;5;241m+\u001b[39m c)\n",
      "\u001b[1;31mTypeError\u001b[0m: unsupported operand type(s) for +: 'int' and 'str'"
     ]
    }
   ],
   "source": [
    "print(b + c)"
   ]
  },
  {
   "cell_type": "markdown",
   "id": "3d71377e-46b8-4081-8567-fc5bbafd26cf",
   "metadata": {},
   "source": [
    "# Operators\n",
    "1. Arithematic \n",
    "2. Comparison\n",
    "3. Logical"
   ]
  },
  {
   "cell_type": "code",
   "execution_count": 104,
   "id": "fe559716-4f71-4acb-8877-755eb60a436f",
   "metadata": {},
   "outputs": [],
   "source": [
    "# Arithematic Operator\n",
    "a = 90\n",
    "b = 45"
   ]
  },
  {
   "cell_type": "code",
   "execution_count": 84,
   "id": "03f85f07-610c-467c-9156-f729f70a61ac",
   "metadata": {},
   "outputs": [
    {
     "data": {
      "text/plain": [
       "135"
      ]
     },
     "execution_count": 84,
     "metadata": {},
     "output_type": "execute_result"
    }
   ],
   "source": [
    "a + b"
   ]
  },
  {
   "cell_type": "code",
   "execution_count": 85,
   "id": "70e76729-d0c3-46e5-858b-ca0a19355f2e",
   "metadata": {},
   "outputs": [
    {
     "data": {
      "text/plain": [
       "45"
      ]
     },
     "execution_count": 85,
     "metadata": {},
     "output_type": "execute_result"
    }
   ],
   "source": [
    "a - b"
   ]
  },
  {
   "cell_type": "code",
   "execution_count": 86,
   "id": "0bb815e7-15dc-4fb9-9487-dc37cfd472ad",
   "metadata": {},
   "outputs": [
    {
     "data": {
      "text/plain": [
       "4050"
      ]
     },
     "execution_count": 86,
     "metadata": {},
     "output_type": "execute_result"
    }
   ],
   "source": [
    "a * b"
   ]
  },
  {
   "cell_type": "code",
   "execution_count": 87,
   "id": "4a01b4b1-6ae8-4bfb-9137-197490c69ded",
   "metadata": {},
   "outputs": [
    {
     "data": {
      "text/plain": [
       "2.0"
      ]
     },
     "execution_count": 87,
     "metadata": {},
     "output_type": "execute_result"
    }
   ],
   "source": [
    "a/b"
   ]
  },
  {
   "cell_type": "code",
   "execution_count": 88,
   "id": "5419b873-384a-4192-9cd7-e6e86bc8cb53",
   "metadata": {},
   "outputs": [
    {
     "data": {
      "text/plain": [
       "0"
      ]
     },
     "execution_count": 88,
     "metadata": {},
     "output_type": "execute_result"
    }
   ],
   "source": [
    "a%b"
   ]
  },
  {
   "cell_type": "code",
   "execution_count": 89,
   "id": "a557c91c-eae7-4674-88d0-9ea15d4d16d2",
   "metadata": {},
   "outputs": [
    {
     "data": {
      "text/plain": [
       "2"
      ]
     },
     "execution_count": 89,
     "metadata": {},
     "output_type": "execute_result"
    }
   ],
   "source": [
    "a//b"
   ]
  },
  {
   "cell_type": "code",
   "execution_count": 90,
   "id": "861c6078-cb9d-477d-a32b-6ae291bc6211",
   "metadata": {},
   "outputs": [
    {
     "data": {
      "text/plain": [
       "0"
      ]
     },
     "execution_count": 90,
     "metadata": {},
     "output_type": "execute_result"
    }
   ],
   "source": [
    "0 % 4"
   ]
  },
  {
   "cell_type": "code",
   "execution_count": 91,
   "id": "45cbb234-9393-4f68-98f6-1c096e0f93ff",
   "metadata": {},
   "outputs": [
    {
     "data": {
      "text/plain": [
       "0"
      ]
     },
     "execution_count": 91,
     "metadata": {},
     "output_type": "execute_result"
    }
   ],
   "source": [
    "0 // 4"
   ]
  },
  {
   "cell_type": "code",
   "execution_count": 92,
   "id": "46ad250e-7e19-4499-9b1a-73f9175fb594",
   "metadata": {},
   "outputs": [
    {
     "ename": "ZeroDivisionError",
     "evalue": "integer division or modulo by zero",
     "output_type": "error",
     "traceback": [
      "\u001b[1;31m---------------------------------------------------------------------------\u001b[0m",
      "\u001b[1;31mZeroDivisionError\u001b[0m                         Traceback (most recent call last)",
      "Cell \u001b[1;32mIn[92], line 1\u001b[0m\n\u001b[1;32m----> 1\u001b[0m \u001b[38;5;241m4\u001b[39m \u001b[38;5;241m/\u001b[39m\u001b[38;5;241m/\u001b[39m \u001b[38;5;241m0\u001b[39m\n",
      "\u001b[1;31mZeroDivisionError\u001b[0m: integer division or modulo by zero"
     ]
    }
   ],
   "source": [
    "4 // 0"
   ]
  },
  {
   "cell_type": "code",
   "execution_count": 93,
   "id": "7193a53f-ae79-45cf-bcd8-d2c41b1e4503",
   "metadata": {},
   "outputs": [
    {
     "data": {
      "text/plain": [
       "2"
      ]
     },
     "execution_count": 93,
     "metadata": {},
     "output_type": "execute_result"
    }
   ],
   "source": [
    "80 % 3"
   ]
  },
  {
   "cell_type": "code",
   "execution_count": 95,
   "id": "08e6df94-b519-492d-a9c4-0daf2df08e30",
   "metadata": {},
   "outputs": [],
   "source": [
    "# find modulo and reminder of 9012 and 8913 "
   ]
  },
  {
   "cell_type": "code",
   "execution_count": 96,
   "id": "f122cb9f-d3c8-42be-b11c-7b47abb79e1a",
   "metadata": {},
   "outputs": [
    {
     "data": {
      "text/plain": [
       "1"
      ]
     },
     "execution_count": 96,
     "metadata": {},
     "output_type": "execute_result"
    }
   ],
   "source": [
    "9012 // 8913"
   ]
  },
  {
   "cell_type": "code",
   "execution_count": 97,
   "id": "5635fc38-46b2-4962-b849-73203bcedef7",
   "metadata": {},
   "outputs": [
    {
     "data": {
      "text/plain": [
       "99"
      ]
     },
     "execution_count": 97,
     "metadata": {},
     "output_type": "execute_result"
    }
   ],
   "source": [
    "9012%8913"
   ]
  },
  {
   "cell_type": "code",
   "execution_count": 101,
   "id": "5fe928dd-2351-4e04-94ed-2c03fdd9481d",
   "metadata": {},
   "outputs": [
    {
     "data": {
      "text/plain": [
       "3"
      ]
     },
     "execution_count": 101,
     "metadata": {},
     "output_type": "execute_result"
    }
   ],
   "source": [
    "3%10"
   ]
  },
  {
   "cell_type": "code",
   "execution_count": 102,
   "id": "8c87b9a9-5127-4899-b049-34ea8fff9dad",
   "metadata": {},
   "outputs": [
    {
     "data": {
      "text/plain": [
       "0"
      ]
     },
     "execution_count": 102,
     "metadata": {},
     "output_type": "execute_result"
    }
   ],
   "source": [
    "3//10"
   ]
  },
  {
   "cell_type": "code",
   "execution_count": 105,
   "id": "e4ef7c75-f13e-40d5-b101-2c70abcaaab4",
   "metadata": {},
   "outputs": [],
   "source": [
    "# Comparison Operator"
   ]
  },
  {
   "cell_type": "code",
   "execution_count": 106,
   "id": "b52a3500-632e-4f49-897c-498fc3fb88a0",
   "metadata": {},
   "outputs": [
    {
     "data": {
      "text/plain": [
       "90"
      ]
     },
     "execution_count": 106,
     "metadata": {},
     "output_type": "execute_result"
    }
   ],
   "source": [
    "a"
   ]
  },
  {
   "cell_type": "code",
   "execution_count": 107,
   "id": "ddb0b2f0-36d0-4b8e-b4ab-7e26736f0db7",
   "metadata": {},
   "outputs": [
    {
     "data": {
      "text/plain": [
       "45"
      ]
     },
     "execution_count": 107,
     "metadata": {},
     "output_type": "execute_result"
    }
   ],
   "source": [
    "b"
   ]
  },
  {
   "cell_type": "code",
   "execution_count": 108,
   "id": "5d6f3fbe-04f4-4609-8796-cdc0bf033f89",
   "metadata": {},
   "outputs": [
    {
     "data": {
      "text/plain": [
       "True"
      ]
     },
     "execution_count": 108,
     "metadata": {},
     "output_type": "execute_result"
    }
   ],
   "source": [
    "a > b\n",
    "# 90 > 45"
   ]
  },
  {
   "cell_type": "code",
   "execution_count": 109,
   "id": "af6d9aa1-da32-4c64-8562-98ce675d1fcd",
   "metadata": {},
   "outputs": [
    {
     "data": {
      "text/plain": [
       "False"
      ]
     },
     "execution_count": 109,
     "metadata": {},
     "output_type": "execute_result"
    }
   ],
   "source": [
    "b > a"
   ]
  },
  {
   "cell_type": "code",
   "execution_count": 110,
   "id": "fc44d0e8-992c-4b08-9d72-d757bbd0e2eb",
   "metadata": {},
   "outputs": [
    {
     "data": {
      "text/plain": [
       "True"
      ]
     },
     "execution_count": 110,
     "metadata": {},
     "output_type": "execute_result"
    }
   ],
   "source": [
    "a == 90 "
   ]
  },
  {
   "cell_type": "code",
   "execution_count": 111,
   "id": "a67dd348-3c20-4223-be74-caa6f963ba91",
   "metadata": {},
   "outputs": [
    {
     "data": {
      "text/plain": [
       "False"
      ]
     },
     "execution_count": 111,
     "metadata": {},
     "output_type": "execute_result"
    }
   ],
   "source": [
    "a == 91"
   ]
  },
  {
   "cell_type": "code",
   "execution_count": 112,
   "id": "fa4c0fc0-c312-48dd-aba8-9c965bc7515c",
   "metadata": {},
   "outputs": [
    {
     "data": {
      "text/plain": [
       "False"
      ]
     },
     "execution_count": 112,
     "metadata": {},
     "output_type": "execute_result"
    }
   ],
   "source": [
    "a != 90"
   ]
  },
  {
   "cell_type": "code",
   "execution_count": 113,
   "id": "c577dcce-9b86-4540-ae41-fc1810b3a890",
   "metadata": {},
   "outputs": [
    {
     "data": {
      "text/plain": [
       "True"
      ]
     },
     "execution_count": 113,
     "metadata": {},
     "output_type": "execute_result"
    }
   ],
   "source": [
    "a != 91"
   ]
  },
  {
   "cell_type": "code",
   "execution_count": 114,
   "id": "440c1b1c-3c73-4bf1-8f9c-cae15dc4622e",
   "metadata": {},
   "outputs": [
    {
     "data": {
      "text/plain": [
       "True"
      ]
     },
     "execution_count": 114,
     "metadata": {},
     "output_type": "execute_result"
    }
   ],
   "source": [
    "a >= 90"
   ]
  },
  {
   "cell_type": "code",
   "execution_count": 115,
   "id": "ea88591b-c91c-47d6-8a88-22552445c68e",
   "metadata": {},
   "outputs": [
    {
     "data": {
      "text/plain": [
       "True"
      ]
     },
     "execution_count": 115,
     "metadata": {},
     "output_type": "execute_result"
    }
   ],
   "source": [
    "a <= 90"
   ]
  },
  {
   "cell_type": "code",
   "execution_count": 116,
   "id": "50f33989-4505-46c9-bf79-358469209e37",
   "metadata": {},
   "outputs": [
    {
     "data": {
      "text/plain": [
       "True"
      ]
     },
     "execution_count": 116,
     "metadata": {},
     "output_type": "execute_result"
    }
   ],
   "source": [
    "b >= a - 45"
   ]
  },
  {
   "cell_type": "code",
   "execution_count": 117,
   "id": "8ec2f3b0-be10-46aa-8816-90ac8a44682d",
   "metadata": {},
   "outputs": [],
   "source": [
    "# logical Operators"
   ]
  },
  {
   "cell_type": "code",
   "execution_count": 118,
   "id": "11225cb3-8b63-4a0b-b88b-df526b21908a",
   "metadata": {},
   "outputs": [],
   "source": [
    "a = 10\n",
    "b = 6"
   ]
  },
  {
   "cell_type": "code",
   "execution_count": 119,
   "id": "14e6ef6a-4ae2-4b06-89d0-49e30df51b62",
   "metadata": {},
   "outputs": [
    {
     "data": {
      "text/plain": [
       "True"
      ]
     },
     "execution_count": 119,
     "metadata": {},
     "output_type": "execute_result"
    }
   ],
   "source": [
    "a > 5 or b > 10"
   ]
  },
  {
   "cell_type": "code",
   "execution_count": 120,
   "id": "c4c3381a-89de-45ab-8fd1-7b4fabd98acc",
   "metadata": {},
   "outputs": [
    {
     "data": {
      "text/plain": [
       "False"
      ]
     },
     "execution_count": 120,
     "metadata": {},
     "output_type": "execute_result"
    }
   ],
   "source": [
    "a < 5 or b < 5"
   ]
  },
  {
   "cell_type": "code",
   "execution_count": 121,
   "id": "2b016ce0-9d58-480e-a101-8f67e8907a2f",
   "metadata": {},
   "outputs": [
    {
     "data": {
      "text/plain": [
       "True"
      ]
     },
     "execution_count": 121,
     "metadata": {},
     "output_type": "execute_result"
    }
   ],
   "source": [
    "a >= 10 or b <= 6"
   ]
  },
  {
   "cell_type": "code",
   "execution_count": 122,
   "id": "d729f92e-224a-43e3-8034-f484023247f6",
   "metadata": {},
   "outputs": [
    {
     "data": {
      "text/plain": [
       "True"
      ]
     },
     "execution_count": 122,
     "metadata": {},
     "output_type": "execute_result"
    }
   ],
   "source": [
    "a < 20 or b > 20"
   ]
  },
  {
   "cell_type": "code",
   "execution_count": 123,
   "id": "d411f4b0-dd0e-418e-8080-d9cb9c86b43d",
   "metadata": {},
   "outputs": [
    {
     "data": {
      "text/plain": [
       "True"
      ]
     },
     "execution_count": 123,
     "metadata": {},
     "output_type": "execute_result"
    }
   ],
   "source": [
    "a > 4 and b < 10"
   ]
  },
  {
   "cell_type": "code",
   "execution_count": 124,
   "id": "0d28278f-effe-41f5-8594-6ca8fcfc9b9c",
   "metadata": {},
   "outputs": [
    {
     "data": {
      "text/plain": [
       "False"
      ]
     },
     "execution_count": 124,
     "metadata": {},
     "output_type": "execute_result"
    }
   ],
   "source": [
    "a < 10 and b > 3"
   ]
  },
  {
   "cell_type": "code",
   "execution_count": 125,
   "id": "4781be95-e705-478b-ae30-0b78ca52099b",
   "metadata": {},
   "outputs": [
    {
     "data": {
      "text/plain": [
       "False"
      ]
     },
     "execution_count": 125,
     "metadata": {},
     "output_type": "execute_result"
    }
   ],
   "source": [
    "'tushar' == 'Tushar'"
   ]
  },
  {
   "cell_type": "code",
   "execution_count": 126,
   "id": "2199f7c7-0851-462f-8269-e9f2a0be0e78",
   "metadata": {},
   "outputs": [
    {
     "data": {
      "text/plain": [
       "True"
      ]
     },
     "execution_count": 126,
     "metadata": {},
     "output_type": "execute_result"
    }
   ],
   "source": [
    "'tushar' > 'Tushar'"
   ]
  },
  {
   "cell_type": "code",
   "execution_count": 127,
   "id": "910a1466-258f-4500-b179-e47c484427c9",
   "metadata": {},
   "outputs": [
    {
     "ename": "TypeError",
     "evalue": "'>' not supported between instances of 'str' and 'int'",
     "output_type": "error",
     "traceback": [
      "\u001b[1;31m---------------------------------------------------------------------------\u001b[0m",
      "\u001b[1;31mTypeError\u001b[0m                                 Traceback (most recent call last)",
      "Cell \u001b[1;32mIn[127], line 1\u001b[0m\n\u001b[1;32m----> 1\u001b[0m \u001b[38;5;124m'\u001b[39m\u001b[38;5;124mtushar\u001b[39m\u001b[38;5;124m'\u001b[39m \u001b[38;5;241m>\u001b[39m \u001b[38;5;241m90\u001b[39m\n",
      "\u001b[1;31mTypeError\u001b[0m: '>' not supported between instances of 'str' and 'int'"
     ]
    }
   ],
   "source": [
    "'tushar' > 90"
   ]
  },
  {
   "cell_type": "code",
   "execution_count": null,
   "id": "b20bf62b-50c5-4f53-9cc5-32d9ab826c7b",
   "metadata": {},
   "outputs": [],
   "source": []
  }
 ],
 "metadata": {
  "kernelspec": {
   "display_name": "Python 3 (ipykernel)",
   "language": "python",
   "name": "python3"
  },
  "language_info": {
   "codemirror_mode": {
    "name": "ipython",
    "version": 3
   },
   "file_extension": ".py",
   "mimetype": "text/x-python",
   "name": "python",
   "nbconvert_exporter": "python",
   "pygments_lexer": "ipython3",
   "version": "3.12.7"
  }
 },
 "nbformat": 4,
 "nbformat_minor": 5
}
