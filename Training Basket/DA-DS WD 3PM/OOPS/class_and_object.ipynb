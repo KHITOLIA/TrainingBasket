{
 "cells": [
  {
   "cell_type": "code",
   "execution_count": 1,
   "id": "0b54eed0-49a0-4956-91ac-5af51b078787",
   "metadata": {},
   "outputs": [],
   "source": [
    "a = 5"
   ]
  },
  {
   "cell_type": "code",
   "execution_count": 2,
   "id": "5b77b266-caec-4e65-aba3-ffdeccbd83b2",
   "metadata": {},
   "outputs": [
    {
     "name": "stdout",
     "output_type": "stream",
     "text": [
      "<class 'int'>\n"
     ]
    }
   ],
   "source": [
    "print(type(a))"
   ]
  },
  {
   "cell_type": "code",
   "execution_count": 7,
   "id": "20d9fde5-b6ee-4672-9b25-88b6f86ee2e3",
   "metadata": {},
   "outputs": [],
   "source": [
    "a = int()"
   ]
  },
  {
   "cell_type": "code",
   "execution_count": 8,
   "id": "d4b716d5-76be-405f-b684-7aece103c6ce",
   "metadata": {},
   "outputs": [
    {
     "data": {
      "text/plain": [
       "0"
      ]
     },
     "execution_count": 8,
     "metadata": {},
     "output_type": "execute_result"
    }
   ],
   "source": [
    "a"
   ]
  },
  {
   "cell_type": "code",
   "execution_count": 9,
   "id": "e8780f84-9479-47a6-8b22-2812ff2e5243",
   "metadata": {},
   "outputs": [],
   "source": [
    "# a."
   ]
  },
  {
   "cell_type": "code",
   "execution_count": 32,
   "id": "d8f569ea-0024-4fb2-958e-ef1e11e855d1",
   "metadata": {},
   "outputs": [],
   "source": [
    "b = 'hello'"
   ]
  },
  {
   "cell_type": "code",
   "execution_count": 31,
   "id": "e1d29a7e-4f5b-4b47-af3c-f2e091fb874f",
   "metadata": {},
   "outputs": [
    {
     "ename": "AttributeError",
     "evalue": "'str' object has no attribute 'append'",
     "output_type": "error",
     "traceback": [
      "\u001b[1;31m---------------------------------------------------------------------------\u001b[0m",
      "\u001b[1;31mAttributeError\u001b[0m                            Traceback (most recent call last)",
      "Cell \u001b[1;32mIn[31], line 1\u001b[0m\n\u001b[1;32m----> 1\u001b[0m b\u001b[38;5;241m.\u001b[39mappend(\u001b[38;5;241m4\u001b[39m)\n",
      "\u001b[1;31mAttributeError\u001b[0m: 'str' object has no attribute 'append'"
     ]
    }
   ],
   "source": [
    "b.append(4)"
   ]
  },
  {
   "cell_type": "code",
   "execution_count": 13,
   "id": "cff7371c-4015-4181-a103-bba1f9928d8d",
   "metadata": {},
   "outputs": [],
   "source": [
    "c = [1, 2, 3,4]"
   ]
  },
  {
   "cell_type": "code",
   "execution_count": 14,
   "id": "060f7ab6-93ce-4de2-ae7c-47273911a171",
   "metadata": {},
   "outputs": [],
   "source": [
    "c.append(0)"
   ]
  },
  {
   "cell_type": "code",
   "execution_count": 15,
   "id": "c4952829-52b8-4779-95e3-c6dabe996beb",
   "metadata": {},
   "outputs": [
    {
     "data": {
      "text/plain": [
       "[1, 2, 3, 4, 0]"
      ]
     },
     "execution_count": 15,
     "metadata": {},
     "output_type": "execute_result"
    }
   ],
   "source": [
    "c"
   ]
  },
  {
   "cell_type": "code",
   "execution_count": 22,
   "id": "46f9c287-9323-4a6e-b854-decb1548c64a",
   "metadata": {},
   "outputs": [],
   "source": [
    "c.append(10)"
   ]
  },
  {
   "cell_type": "code",
   "execution_count": 24,
   "id": "97d8db88-7bd3-4587-98f0-96e0944c517f",
   "metadata": {},
   "outputs": [
    {
     "data": {
      "text/plain": [
       "10"
      ]
     },
     "execution_count": 24,
     "metadata": {},
     "output_type": "execute_result"
    }
   ],
   "source": [
    "c.pop()"
   ]
  },
  {
   "cell_type": "code",
   "execution_count": 36,
   "id": "6fbaf0c4-cea1-4a9a-85b3-34a486a3c2e6",
   "metadata": {},
   "outputs": [],
   "source": [
    "z = b.split('l')"
   ]
  },
  {
   "cell_type": "code",
   "execution_count": 38,
   "id": "cdff0402-4060-48fb-bf0d-0d534309cba9",
   "metadata": {},
   "outputs": [],
   "source": [
    "z.append(10)"
   ]
  },
  {
   "cell_type": "code",
   "execution_count": 86,
   "id": "cfc67c15-85ad-4cd7-ab70-a07d8f440dfb",
   "metadata": {},
   "outputs": [
    {
     "data": {
      "text/plain": [
       "[]"
      ]
     },
     "execution_count": 86,
     "metadata": {},
     "output_type": "execute_result"
    }
   ],
   "source": [
    "# l = []\n",
    "l = list()\n",
    "l"
   ]
  },
  {
   "cell_type": "code",
   "execution_count": 12,
   "id": "98d4e071-ec34-4845-a277-bc2532dc1f26",
   "metadata": {},
   "outputs": [],
   "source": [
    "class Atm:\n",
    "    def __init__(self): # dunder method\n",
    "        # print(id(self))\n",
    "        self.pin = ''\n",
    "        self.balance = 0\n",
    "\n",
    "    \n",
    "    def menu(self):\n",
    "        user_input = input('''\n",
    "        1. Press 1. to create pin\n",
    "        2. Press 2. to change pin\n",
    "        3. Press 3. to check your balance\n",
    "        4. Press 4. to withdraw money\n",
    "        5. Press anything to stop it''')\n",
    "\n",
    "        if user_input == '1':\n",
    "            self.create_pin()\n",
    "        elif user_input == '2':\n",
    "            self.change_pin()\n",
    "        elif user_input == '3':\n",
    "            self.check_balance()\n",
    "        elif user_input == '4':\n",
    "            self.withdraw_money()\n",
    "        else:\n",
    "            pass\n",
    "\n",
    "    def create_pin(self):\n",
    "        new_pin = input(\"enter your new pin : \")\n",
    "        new_balance = int(input(\"enter your balance : \"))\n",
    "\n",
    "        self.pin = new_pin\n",
    "        self.balance = new_balance\n",
    "        self.menu()\n",
    "\n",
    "    def change_pin(self):\n",
    "        user_pin = input(\"enter your old pin : \")\n",
    "        if user_pin == self.pin:\n",
    "            print(\"please enter your new pin : \")\n",
    "            new_pin = input()\n",
    "            self.pin = new_pin\n",
    "        else:\n",
    "            print(\"bhag ja yaha se chor\")\n",
    "        self.menu()\n",
    "    \n",
    "    def check_balance(self):\n",
    "        user_pin = input(\"enter your old pin : \")\n",
    "        if user_pin == self.pin:\n",
    "            print(f\"your balance is  ₹ {self.balance}\")\n",
    "        else:\n",
    "            print(\"bhag ja yaha se chor\")\n",
    "        self.menu()\n",
    "        \n",
    "    \n",
    "    def withdraw_money(self):\n",
    "        user_pin = input(\"enter your old pin : \")\n",
    "        amount = int(input(\"enter the amount you want to withdraw : \"))\n",
    "\n",
    "        if user_pin == self.pin:\n",
    "            if self.balance >= amount:\n",
    "                self.balance = self.balance - amount\n",
    "                print(f\"your balance is  ₹ {self.balance}\")\n",
    "            else:\n",
    "                print(\"insufficient balance \")\n",
    "        else:\n",
    "            print(\"bhag ja yaha se chor\")\n",
    "        self.menu()"
   ]
  },
  {
   "cell_type": "code",
   "execution_count": 7,
   "id": "fcca3e72-36a3-4f02-b9ff-3f495feab5f1",
   "metadata": {},
   "outputs": [],
   "source": [
    "manisha = Atm()"
   ]
  },
  {
   "cell_type": "code",
   "execution_count": 8,
   "id": "87f20b94-7fc3-43c1-9be0-1b89eef9b502",
   "metadata": {},
   "outputs": [
    {
     "data": {
      "text/plain": [
       "1867406925200"
      ]
     },
     "execution_count": 8,
     "metadata": {},
     "output_type": "execute_result"
    }
   ],
   "source": [
    "id(manisha)"
   ]
  },
  {
   "cell_type": "code",
   "execution_count": 9,
   "id": "795f3d3b-7a0e-4772-8d24-a0905bb73398",
   "metadata": {},
   "outputs": [
    {
     "name": "stdin",
     "output_type": "stream",
     "text": [
      "\n",
      "        1. Press 1. to create pin\n",
      "        2. Press 2. to change pin\n",
      "        3. Press 3. to check your balance\n",
      "        4. Press 4. to withdraw money\n",
      "        5. Press anything to stop it 1\n",
      "enter your new pin :  1234\n",
      "enter your balance :  100000\n",
      "\n",
      "        1. Press 1. to create pin\n",
      "        2. Press 2. to change pin\n",
      "        3. Press 3. to check your balance\n",
      "        4. Press 4. to withdraw money\n",
      "        5. Press anything to stop it 2\n",
      "enter your old pin :  1234\n"
     ]
    },
    {
     "name": "stdout",
     "output_type": "stream",
     "text": [
      "please enter your new pin : \n"
     ]
    },
    {
     "name": "stdin",
     "output_type": "stream",
     "text": [
      " 0987\n",
      "\n",
      "        1. Press 1. to create pin\n",
      "        2. Press 2. to change pin\n",
      "        3. Press 3. to check your balance\n",
      "        4. Press 4. to withdraw money\n",
      "        5. Press anything to stop it 3\n",
      "enter your old pin :  0987\n"
     ]
    },
    {
     "name": "stdout",
     "output_type": "stream",
     "text": [
      "your balance is 100000\n"
     ]
    },
    {
     "name": "stdin",
     "output_type": "stream",
     "text": [
      "\n",
      "        1. Press 1. to create pin\n",
      "        2. Press 2. to change pin\n",
      "        3. Press 3. to check your balance\n",
      "        4. Press 4. to withdraw money\n",
      "        5. Press anything to stop it 4\n",
      "enter your old pin :  0987\n",
      "enter the amount you want to withdraw :  200000\n"
     ]
    },
    {
     "name": "stdout",
     "output_type": "stream",
     "text": [
      "insufficient balance \n"
     ]
    },
    {
     "name": "stdin",
     "output_type": "stream",
     "text": [
      "\n",
      "        1. Press 1. to create pin\n",
      "        2. Press 2. to change pin\n",
      "        3. Press 3. to check your balance\n",
      "        4. Press 4. to withdraw money\n",
      "        5. Press anything to stop it 4\n",
      "enter your old pin :  0987\n",
      "enter the amount you want to withdraw :  10000\n"
     ]
    },
    {
     "name": "stdout",
     "output_type": "stream",
     "text": [
      "your balance is 90000\n"
     ]
    },
    {
     "name": "stdin",
     "output_type": "stream",
     "text": [
      "\n",
      "        1. Press 1. to create pin\n",
      "        2. Press 2. to change pin\n",
      "        3. Press 3. to check your balance\n",
      "        4. Press 4. to withdraw money\n",
      "        5. Press anything to stop it 9\n"
     ]
    }
   ],
   "source": [
    "manisha.menu()"
   ]
  },
  {
   "cell_type": "code",
   "execution_count": 127,
   "id": "aa6c1384-989d-4250-b293-fdff2a5a3db1",
   "metadata": {},
   "outputs": [
    {
     "data": {
      "text/plain": [
       "''"
      ]
     },
     "execution_count": 127,
     "metadata": {},
     "output_type": "execute_result"
    }
   ],
   "source": [
    "manisha.pin"
   ]
  },
  {
   "cell_type": "code",
   "execution_count": 128,
   "id": "f8747f46-8152-4cb5-b712-b760c7cc8816",
   "metadata": {},
   "outputs": [
    {
     "data": {
      "text/plain": [
       "0"
      ]
     },
     "execution_count": 128,
     "metadata": {},
     "output_type": "execute_result"
    }
   ],
   "source": [
    "manisha.balance"
   ]
  },
  {
   "cell_type": "code",
   "execution_count": 11,
   "id": "46e596b0-495a-47f6-8386-4bb1d8b74094",
   "metadata": {},
   "outputs": [
    {
     "name": "stdin",
     "output_type": "stream",
     "text": [
      "enter your old pin :  \n"
     ]
    },
    {
     "name": "stdout",
     "output_type": "stream",
     "text": [
      "bhag ja yaha se chor\n"
     ]
    },
    {
     "name": "stdin",
     "output_type": "stream",
     "text": [
      "\n",
      "        1. Press 1. to create pin\n",
      "        2. Press 2. to change pin\n",
      "        3. Press 3. to check your balance\n",
      "        4. Press 4. to withdraw money\n",
      "        5. Press anything to stop it 5\n"
     ]
    }
   ],
   "source": [
    "manisha.change_pin()"
   ]
  },
  {
   "cell_type": "code",
   "execution_count": 33,
   "id": "e3e278a3-28e9-4a3a-a21b-8328d659fe15",
   "metadata": {},
   "outputs": [],
   "source": [
    "class Fraction:\n",
    "    def __init__(self, numerator, denominator):\n",
    "        self.num = numerator\n",
    "        self.den = denominator\n",
    "        print(numerator, denominator)\n",
    "\n",
    "\n",
    "    def __str__(self):\n",
    "        # print(numerator, denominator)\n",
    "        return f'{self.num}/{self.den}'\n",
    "\n",
    "    def addition(self, ):\n",
    "        pass"
   ]
  },
  {
   "cell_type": "code",
   "execution_count": 30,
   "id": "9c4ebe86-0062-4c9b-853b-d50b77fa2866",
   "metadata": {},
   "outputs": [
    {
     "name": "stdout",
     "output_type": "stream",
     "text": [
      "3 2\n"
     ]
    }
   ],
   "source": [
    "p = Fraction(3, 2)"
   ]
  },
  {
   "cell_type": "code",
   "execution_count": 31,
   "id": "b1503896-f049-4bdf-8ebf-85f06b262148",
   "metadata": {},
   "outputs": [
    {
     "data": {
      "text/plain": [
       "'3/2'"
      ]
     },
     "execution_count": 31,
     "metadata": {},
     "output_type": "execute_result"
    }
   ],
   "source": [
    "str(p)"
   ]
  },
  {
   "cell_type": "code",
   "execution_count": 32,
   "id": "a557df97-35c2-41a8-b99a-29d7c9331e9a",
   "metadata": {},
   "outputs": [
    {
     "name": "stdout",
     "output_type": "stream",
     "text": [
      "3/2\n"
     ]
    }
   ],
   "source": [
    "print(p)"
   ]
  },
  {
   "cell_type": "code",
   "execution_count": null,
   "id": "54f9dfcd-1a8a-4826-afef-49393ba6206d",
   "metadata": {},
   "outputs": [],
   "source": []
  }
 ],
 "metadata": {
  "kernelspec": {
   "display_name": "Python 3 (ipykernel)",
   "language": "python",
   "name": "python3"
  },
  "language_info": {
   "codemirror_mode": {
    "name": "ipython",
    "version": 3
   },
   "file_extension": ".py",
   "mimetype": "text/x-python",
   "name": "python",
   "nbconvert_exporter": "python",
   "pygments_lexer": "ipython3",
   "version": "3.12.7"
  }
 },
 "nbformat": 4,
 "nbformat_minor": 5
}
