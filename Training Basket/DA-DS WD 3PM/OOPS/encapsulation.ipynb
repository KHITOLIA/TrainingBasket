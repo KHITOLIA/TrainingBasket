{
 "cells": [
  {
   "cell_type": "code",
   "execution_count": 42,
   "id": "5af23080-2955-4b61-8a6e-065259505808",
   "metadata": {},
   "outputs": [],
   "source": [
    "class Fraction:\n",
    "    def __init__(self, x1, y1):\n",
    "        self.num = x1\n",
    "        self.den = y1\n",
    "        print(x1, y1)\n",
    "        # self.addition(x2, y2)\n",
    "\n",
    "\n",
    "    def __str__(self):\n",
    "        # print(numerator, denominator)\n",
    "        return f'{self.num}/{self.den}'\n",
    "\n",
    "    def addition(self,x2, y2 ):\n",
    "        num = self.num*y2 + self.den*x2\n",
    "        den = self.den * y2\n",
    "        print(f\"addition of these two numbers {(self.num, self.den)} {(x2, y2)} = {num}/{den}\")\n",
    "\n",
    "    # def __add__(self,other ):\n",
    "    #     num = self.num*other.y2 + self.den*other.x2\n",
    "    #     den = self.den * other.y2\n",
    "    #     print(f\"addition of these two numbers {(self.num, self.den)} {(other.x2, other.y2)} = {num}/{den}\")"
   ]
  },
  {
   "cell_type": "code",
   "execution_count": 43,
   "id": "03fd502f-2eb1-453b-8873-12e5c2ff22b1",
   "metadata": {},
   "outputs": [
    {
     "name": "stdout",
     "output_type": "stream",
     "text": [
      "3 2\n"
     ]
    }
   ],
   "source": [
    "a = Fraction(3, 2)"
   ]
  },
  {
   "cell_type": "code",
   "execution_count": 44,
   "id": "d0a90ac8-879c-4605-a6b2-ddfaa752aebe",
   "metadata": {},
   "outputs": [
    {
     "name": "stdout",
     "output_type": "stream",
     "text": [
      "3/2\n"
     ]
    }
   ],
   "source": [
    "print(a)"
   ]
  },
  {
   "cell_type": "code",
   "execution_count": 45,
   "id": "2066f9e1-e700-4316-a4e6-d34dfef818a0",
   "metadata": {},
   "outputs": [
    {
     "name": "stdout",
     "output_type": "stream",
     "text": [
      "4 5\n"
     ]
    }
   ],
   "source": [
    "b = Fraction(4, 5)"
   ]
  },
  {
   "cell_type": "code",
   "execution_count": 49,
   "id": "726c0337-2347-464d-9284-3e353442bbfe",
   "metadata": {},
   "outputs": [
    {
     "name": "stdout",
     "output_type": "stream",
     "text": [
      "4/5\n"
     ]
    }
   ],
   "source": [
    "print(b)"
   ]
  },
  {
   "cell_type": "code",
   "execution_count": 50,
   "id": "e376bcb4-541e-4c81-9a63-63e12bc0a49b",
   "metadata": {},
   "outputs": [
    {
     "name": "stdout",
     "output_type": "stream",
     "text": [
      "addition of these two numbers (3, 2) (4, 5) = 23/10\n"
     ]
    }
   ],
   "source": [
    "a.addition(4, 5)"
   ]
  },
  {
   "cell_type": "code",
   "execution_count": 51,
   "id": "58f2bc7a-bd50-4cd1-92df-70c3705512bd",
   "metadata": {},
   "outputs": [],
   "source": [
    "import numpy as np"
   ]
  },
  {
   "cell_type": "code",
   "execution_count": 54,
   "id": "734636b7-2297-4aaf-bade-0aca6e292fb5",
   "metadata": {},
   "outputs": [],
   "source": [
    "# a = np.array([[1, 2], \n",
    "#               [2, 3]])\n",
    "# b = np.array([[2, 3], \n",
    "#               [4, 5]])\n",
    "# a+b"
   ]
  },
  {
   "cell_type": "code",
   "execution_count": 56,
   "id": "b2f17a23-067f-483d-ac2b-76e525c7c81f",
   "metadata": {},
   "outputs": [],
   "source": [
    "# # Write OOP classes to handle the following scenarios:\n",
    "\n",
    "# 1. - A user can create and view 2D coordinates\n",
    "# 2. - A user can find out the distance between 2 coordinates\n",
    "# 3. - A user can find find the distance of a coordinate from origin\n",
    "# 4. - A user can check if a point lies on a given line\n",
    "# 5. - A user can find the distance between a given 2D point and a given line\n",
    "\n"
   ]
  },
  {
   "cell_type": "code",
   "execution_count": 82,
   "id": "d0b08098-f146-40cf-b09f-f3d69e8ae1a2",
   "metadata": {},
   "outputs": [],
   "source": [
    "class Coordinate:\n",
    "    def __init__(self):\n",
    "        self.x_cod = float(input(\"enter the x coordinate : \"))\n",
    "        self.y_cod = float(input(\"enter the y coordinate : \"))\n",
    "    def __str__(self):\n",
    "        return f\"First coordinate {(self.x_cod, self.y_cod)}\"\n",
    "\n",
    "    def distance(self):\n",
    "        p2_x_cod = float(input(\"enter the x coordinate : \"))\n",
    "        p2_y_cod = float(input(\"enter the y coordinate : \"))\n",
    "        distance_bw_p1_p2 = ((p2_x_cod - self.x_cod)**2 + (p2_y_cod - self.y_cod)**2)**0.5\n",
    "        print(f\"Distance between {(self.x_cod, self.y_cod)} {(p2_x_cod, p2_y_cod)} = {distance_bw_p1_p2}\")\n",
    "\n",
    "    # def euclidean_distance(self):\n",
    "    #     distance = (self.x_cod**2 + self.y_cod**2)**0.5\n",
    "    #     print(f\"Distance of {(self.x_cod, self.y_cod)} from origin = {distance}\")\n"
   ]
  },
  {
   "cell_type": "code",
   "execution_count": 79,
   "id": "3d621372-a266-4e1f-b4af-c19fbb1d9354",
   "metadata": {},
   "outputs": [
    {
     "name": "stdin",
     "output_type": "stream",
     "text": [
      "enter the x coordinate :  3\n",
      "enter the y coordinate :  4\n"
     ]
    }
   ],
   "source": [
    "p1 = Coordinate()"
   ]
  },
  {
   "cell_type": "code",
   "execution_count": 80,
   "id": "74e24c20-51d7-4d7d-971e-1303802f2e15",
   "metadata": {},
   "outputs": [
    {
     "name": "stdout",
     "output_type": "stream",
     "text": [
      "Distance of (3.0, 4.0) from origin = 5.0\n"
     ]
    }
   ],
   "source": [
    "p1.euclidean_distance()"
   ]
  },
  {
   "cell_type": "code",
   "execution_count": 81,
   "id": "a37e21a7-5b4d-4adf-875a-a9e1e2d24d95",
   "metadata": {},
   "outputs": [
    {
     "name": "stdin",
     "output_type": "stream",
     "text": [
      "enter the x coordinate :  0\n",
      "enter the y coordinate :  0\n"
     ]
    },
    {
     "name": "stdout",
     "output_type": "stream",
     "text": [
      "Distance between (3.0, 4.0) (0.0, 0.0) = 5.0\n"
     ]
    }
   ],
   "source": [
    "p1.distance()"
   ]
  },
  {
   "cell_type": "code",
   "execution_count": 65,
   "id": "df7d4606-7ccd-4d43-b6d8-426502f7c482",
   "metadata": {},
   "outputs": [
    {
     "data": {
      "text/plain": [
       "4.0"
      ]
     },
     "execution_count": 65,
     "metadata": {},
     "output_type": "execute_result"
    }
   ],
   "source": [
    "p1.y_cod"
   ]
  },
  {
   "cell_type": "code",
   "execution_count": 66,
   "id": "10ca4ccf-4063-45b2-9bea-354487ba71e8",
   "metadata": {},
   "outputs": [
    {
     "name": "stdout",
     "output_type": "stream",
     "text": [
      "First coordinate (3.0, 4.0)\n"
     ]
    }
   ],
   "source": [
    "print(p1)"
   ]
  },
  {
   "cell_type": "code",
   "execution_count": 67,
   "id": "609bcf7b-982a-49bb-9f66-64e7d62aaae4",
   "metadata": {},
   "outputs": [
    {
     "name": "stdin",
     "output_type": "stream",
     "text": [
      "enter the x coordinate :  7\n",
      "enter the y coordinate :  1\n"
     ]
    }
   ],
   "source": [
    "p2 = Coordinate()"
   ]
  },
  {
   "cell_type": "code",
   "execution_count": 68,
   "id": "a5bc8df9-4ac7-4048-b960-8097fd7983d1",
   "metadata": {},
   "outputs": [
    {
     "name": "stdin",
     "output_type": "stream",
     "text": [
      "enter the x coordinate :  7\n",
      "enter the y coordinate :  1\n"
     ]
    },
    {
     "name": "stdout",
     "output_type": "stream",
     "text": [
      "Distance between (7.0, 1.0) (7.0, 1.0) = 0.0\n"
     ]
    }
   ],
   "source": [
    "p2.addition()"
   ]
  },
  {
   "cell_type": "code",
   "execution_count": 83,
   "id": "f4c60afd-9958-4362-a7e3-3276e89d454d",
   "metadata": {},
   "outputs": [],
   "source": [
    "# Encapsulation"
   ]
  },
  {
   "cell_type": "code",
   "execution_count": 97,
   "id": "ae7b0be3-88b1-4604-95db-02b798b48442",
   "metadata": {},
   "outputs": [],
   "source": [
    "class Atm:\n",
    "    def __init__(self): # dunder method\n",
    "        # print(id(self))\n",
    "        self.__pin = ''\n",
    "        self.__balance = 0\n",
    "        self.menu()\n",
    "    def menu(self):\n",
    "        user_input = input('''\n",
    "        1. Press 1. to create pin\n",
    "        2. Press 2. to change pin\n",
    "        3. Press 3. to check your balance\n",
    "        4. Press 4. to withdraw money\n",
    "        5. Press anything to stop it''')\n",
    "\n",
    "        if user_input == '1':\n",
    "            self.create_pin()\n",
    "        elif user_input == '2':\n",
    "            self.change_pin()\n",
    "        elif user_input == '3':\n",
    "            self.check_balance()\n",
    "        elif user_input == '4':\n",
    "            self.withdraw_money()\n",
    "        else:\n",
    "            pass\n",
    "\n",
    "    def create_pin(self):\n",
    "        new_pin = input(\"enter your new pin : \")\n",
    "        new_balance = int(input(\"enter your balance : \"))\n",
    "\n",
    "        self.__pin = new_pin\n",
    "        self.__balance = new_balance\n",
    "        self.menu()\n",
    "\n",
    "    def change_pin(self):\n",
    "        user_pin = input(\"enter your old pin : \")\n",
    "        if user_pin == self.__pin:\n",
    "            print(\"please enter your new pin : \")\n",
    "            new_pin = input()\n",
    "            self.__pin = new_pin\n",
    "        else:\n",
    "            print(\"bhag ja yaha se chor\")\n",
    "        self.menu()\n",
    "    \n",
    "    def check_balance(self):\n",
    "        user_pin = input(\"enter your old pin : \")\n",
    "        if user_pin == self.__pin:\n",
    "            print(f\"your balance is  ₹ {self.__balance}\")\n",
    "        else:\n",
    "            print(\"bhag ja yaha se chor\")\n",
    "        self.menu()\n",
    "        \n",
    "    \n",
    "    def withdraw_money(self):\n",
    "        user_pin = input(\"enter your old pin : \")\n",
    "        amount = int(input(\"enter the amount you want to withdraw : \"))\n",
    "\n",
    "        if user_pin == self.__pin:\n",
    "            if self.__balance >= amount:\n",
    "                self.__balance = self.__balance - amount\n",
    "                print(f\"your balance is  ₹ {self.__balance}\")\n",
    "            else:\n",
    "                print(\"insufficient balance \")\n",
    "        else:\n",
    "            print(\"bhag ja yaha se chor\")\n",
    "        self.menu()"
   ]
  },
  {
   "cell_type": "code",
   "execution_count": 98,
   "id": "8bb281a4-bb0c-4965-9650-ca23368513e6",
   "metadata": {},
   "outputs": [
    {
     "name": "stdin",
     "output_type": "stream",
     "text": [
      "\n",
      "        1. Press 1. to create pin\n",
      "        2. Press 2. to change pin\n",
      "        3. Press 3. to check your balance\n",
      "        4. Press 4. to withdraw money\n",
      "        5. Press anything to stop it 1\n",
      "enter your new pin :  1234\n",
      "enter your balance :  100000\n",
      "\n",
      "        1. Press 1. to create pin\n",
      "        2. Press 2. to change pin\n",
      "        3. Press 3. to check your balance\n",
      "        4. Press 4. to withdraw money\n",
      "        5. Press anything to stop it 4\n",
      "enter your old pin :  1234\n",
      "enter the amount you want to withdraw :  356543\n"
     ]
    },
    {
     "name": "stdout",
     "output_type": "stream",
     "text": [
      "insufficient balance \n"
     ]
    },
    {
     "name": "stdin",
     "output_type": "stream",
     "text": [
      "\n",
      "        1. Press 1. to create pin\n",
      "        2. Press 2. to change pin\n",
      "        3. Press 3. to check your balance\n",
      "        4. Press 4. to withdraw money\n",
      "        5. Press anything to stop it 4\n",
      "enter your old pin :  1234\n",
      "enter the amount you want to withdraw :  5333\n"
     ]
    },
    {
     "name": "stdout",
     "output_type": "stream",
     "text": [
      "your balance is  ₹ 94667\n"
     ]
    },
    {
     "name": "stdin",
     "output_type": "stream",
     "text": [
      "\n",
      "        1. Press 1. to create pin\n",
      "        2. Press 2. to change pin\n",
      "        3. Press 3. to check your balance\n",
      "        4. Press 4. to withdraw money\n",
      "        5. Press anything to stop it 2\n",
      "enter your old pin :  1234\n"
     ]
    },
    {
     "name": "stdout",
     "output_type": "stream",
     "text": [
      "please enter your new pin : \n"
     ]
    },
    {
     "name": "stdin",
     "output_type": "stream",
     "text": [
      " 2345\n",
      "\n",
      "        1. Press 1. to create pin\n",
      "        2. Press 2. to change pin\n",
      "        3. Press 3. to check your balance\n",
      "        4. Press 4. to withdraw money\n",
      "        5. Press anything to stop it 7\n"
     ]
    }
   ],
   "source": [
    "a = Atm()"
   ]
  },
  {
   "cell_type": "code",
   "execution_count": 99,
   "id": "aff817fc-eab3-4b9d-8875-b53fe7c08177",
   "metadata": {},
   "outputs": [
    {
     "ename": "AttributeError",
     "evalue": "'Atm' object has no attribute 'pin'",
     "output_type": "error",
     "traceback": [
      "\u001b[1;31m---------------------------------------------------------------------------\u001b[0m",
      "\u001b[1;31mAttributeError\u001b[0m                            Traceback (most recent call last)",
      "Cell \u001b[1;32mIn[99], line 1\u001b[0m\n\u001b[1;32m----> 1\u001b[0m a\u001b[38;5;241m.\u001b[39mpin\n",
      "\u001b[1;31mAttributeError\u001b[0m: 'Atm' object has no attribute 'pin'"
     ]
    }
   ],
   "source": [
    "a.pin\n"
   ]
  },
  {
   "cell_type": "code",
   "execution_count": 100,
   "id": "7232a7df-11ae-48ef-baca-a45c4ca89ce0",
   "metadata": {},
   "outputs": [
    {
     "ename": "AttributeError",
     "evalue": "'Atm' object has no attribute 'balance'",
     "output_type": "error",
     "traceback": [
      "\u001b[1;31m---------------------------------------------------------------------------\u001b[0m",
      "\u001b[1;31mAttributeError\u001b[0m                            Traceback (most recent call last)",
      "Cell \u001b[1;32mIn[100], line 1\u001b[0m\n\u001b[1;32m----> 1\u001b[0m a\u001b[38;5;241m.\u001b[39mbalance\n",
      "\u001b[1;31mAttributeError\u001b[0m: 'Atm' object has no attribute 'balance'"
     ]
    }
   ],
   "source": [
    "a.balance"
   ]
  },
  {
   "cell_type": "code",
   "execution_count": 101,
   "id": "01ee5157-248a-4346-9f04-4121d42f6809",
   "metadata": {},
   "outputs": [
    {
     "data": {
      "text/plain": [
       "94667"
      ]
     },
     "execution_count": 101,
     "metadata": {},
     "output_type": "execute_result"
    }
   ],
   "source": [
    "a._Atm__balance"
   ]
  },
  {
   "cell_type": "code",
   "execution_count": 102,
   "id": "e51b3c03-cc76-49ba-961c-77bcc00a0736",
   "metadata": {},
   "outputs": [
    {
     "data": {
      "text/plain": [
       "'2345'"
      ]
     },
     "execution_count": 102,
     "metadata": {},
     "output_type": "execute_result"
    }
   ],
   "source": [
    "a._Atm__pin"
   ]
  },
  {
   "cell_type": "code",
   "execution_count": 104,
   "id": "f09c222a-bcec-4258-bf9e-e40658d7219e",
   "metadata": {},
   "outputs": [],
   "source": [
    "class Person:\n",
    "    def __init__(self, name, country):\n",
    "        self.name = name\n",
    "        self.country = country\n",
    "\n",
    "    def greet(self):\n",
    "        if self.country == 'India':\n",
    "            print(\"Namaste\", self.name)\n",
    "        else:\n",
    "            print(\"Hello\", self.name)"
   ]
  },
  {
   "cell_type": "code",
   "execution_count": 105,
   "id": "ed3c6fee-2fa6-4ede-9a69-4d4c0128ec08",
   "metadata": {},
   "outputs": [],
   "source": [
    "M = Person('Manisha', 'India')"
   ]
  },
  {
   "cell_type": "code",
   "execution_count": 106,
   "id": "0a3b1835-6383-475b-8feb-8e58b324fcaa",
   "metadata": {},
   "outputs": [
    {
     "data": {
      "text/plain": [
       "'Manisha'"
      ]
     },
     "execution_count": 106,
     "metadata": {},
     "output_type": "execute_result"
    }
   ],
   "source": [
    "M.name"
   ]
  },
  {
   "cell_type": "code",
   "execution_count": 107,
   "id": "e03e55ed-4183-4e6e-8c4b-47c4356c07dc",
   "metadata": {},
   "outputs": [
    {
     "data": {
      "text/plain": [
       "'India'"
      ]
     },
     "execution_count": 107,
     "metadata": {},
     "output_type": "execute_result"
    }
   ],
   "source": [
    "M.country"
   ]
  },
  {
   "cell_type": "code",
   "execution_count": 108,
   "id": "c682e7e8-b96f-4a0e-9972-1efa287ad82c",
   "metadata": {},
   "outputs": [],
   "source": [
    "M.gender = 'Female'"
   ]
  },
  {
   "cell_type": "code",
   "execution_count": 110,
   "id": "aa35874b-fa08-473f-8ae9-12ca49bf7158",
   "metadata": {},
   "outputs": [
    {
     "data": {
      "text/plain": [
       "'Female'"
      ]
     },
     "execution_count": 110,
     "metadata": {},
     "output_type": "execute_result"
    }
   ],
   "source": [
    "M.gender"
   ]
  },
  {
   "cell_type": "code",
   "execution_count": 112,
   "id": "3041a8f2-0cb4-48c4-846b-2cbbf9a1b51e",
   "metadata": {},
   "outputs": [],
   "source": [
    "a = Person('Agrim', 'India')"
   ]
  },
  {
   "cell_type": "code",
   "execution_count": 113,
   "id": "300bf08b-db6a-426d-b029-766be938be7f",
   "metadata": {},
   "outputs": [
    {
     "ename": "AttributeError",
     "evalue": "'Person' object has no attribute 'gender'",
     "output_type": "error",
     "traceback": [
      "\u001b[1;31m---------------------------------------------------------------------------\u001b[0m",
      "\u001b[1;31mAttributeError\u001b[0m                            Traceback (most recent call last)",
      "Cell \u001b[1;32mIn[113], line 1\u001b[0m\n\u001b[1;32m----> 1\u001b[0m a\u001b[38;5;241m.\u001b[39mgender\n",
      "\u001b[1;31mAttributeError\u001b[0m: 'Person' object has no attribute 'gender'"
     ]
    }
   ],
   "source": [
    "a.gender"
   ]
  },
  {
   "cell_type": "code",
   "execution_count": 114,
   "id": "a25c06ff-6d22-46e7-96c6-45fc05bd3d1b",
   "metadata": {},
   "outputs": [
    {
     "data": {
      "text/plain": [
       "'Female'"
      ]
     },
     "execution_count": 114,
     "metadata": {},
     "output_type": "execute_result"
    }
   ],
   "source": [
    "M.gender"
   ]
  },
  {
   "cell_type": "code",
   "execution_count": 116,
   "id": "bf27dec6-5913-4909-b946-2bbec5ba133e",
   "metadata": {},
   "outputs": [
    {
     "data": {
      "text/plain": [
       "<__main__.Person at 0x15f97d12d20>"
      ]
     },
     "execution_count": 116,
     "metadata": {},
     "output_type": "execute_result"
    }
   ],
   "source": [
    "Person('tushar', 'india')\n",
    "# a = print"
   ]
  },
  {
   "cell_type": "code",
   "execution_count": 117,
   "id": "c9857f19-849c-4670-a21d-a9157270521a",
   "metadata": {},
   "outputs": [],
   "source": [
    "class Person:\n",
    "\n",
    "    def __init__(self):\n",
    "        self.name = 'Tushar'\n",
    "        self.gender = 'male'\n",
    "    "
   ]
  },
  {
   "cell_type": "code",
   "execution_count": 118,
   "id": "ee202866-598e-4603-8485-1aeaf3f3ffee",
   "metadata": {},
   "outputs": [],
   "source": [
    "p = Person()"
   ]
  },
  {
   "cell_type": "code",
   "execution_count": 119,
   "id": "b709face-7a0a-4cd6-858d-325fc309668b",
   "metadata": {},
   "outputs": [
    {
     "data": {
      "text/plain": [
       "'Tushar'"
      ]
     },
     "execution_count": 119,
     "metadata": {},
     "output_type": "execute_result"
    }
   ],
   "source": [
    "p.name"
   ]
  },
  {
   "cell_type": "code",
   "execution_count": 120,
   "id": "4fc51453-7377-41b2-8cef-ca25d2223df6",
   "metadata": {},
   "outputs": [
    {
     "data": {
      "text/plain": [
       "'male'"
      ]
     },
     "execution_count": 120,
     "metadata": {},
     "output_type": "execute_result"
    }
   ],
   "source": [
    "p.gender"
   ]
  },
  {
   "cell_type": "code",
   "execution_count": 121,
   "id": "d9ae2e92-89de-4f71-b654-6d5d210e0d3a",
   "metadata": {},
   "outputs": [],
   "source": [
    "q = p"
   ]
  },
  {
   "cell_type": "code",
   "execution_count": 123,
   "id": "55e2bd9d-967a-4bee-aef4-93f10d6171a7",
   "metadata": {},
   "outputs": [],
   "source": [
    "q.name = 'Pawan'"
   ]
  },
  {
   "cell_type": "code",
   "execution_count": 125,
   "id": "7d7e317a-ee23-43df-9366-595c8a67973c",
   "metadata": {},
   "outputs": [
    {
     "data": {
      "text/plain": [
       "True"
      ]
     },
     "execution_count": 125,
     "metadata": {},
     "output_type": "execute_result"
    }
   ],
   "source": [
    "id(q) == id(p)\n"
   ]
  },
  {
   "cell_type": "code",
   "execution_count": 126,
   "id": "74826d3a-a385-453c-8b8d-529a65eeb623",
   "metadata": {},
   "outputs": [],
   "source": [
    "class Person:\n",
    "\n",
    "    def __init__(self, name, gender):\n",
    "        self.name = name\n",
    "        self.gender = gender\n"
   ]
  },
  {
   "cell_type": "code",
   "execution_count": 137,
   "id": "c7b40686-1767-4481-8509-530084d8e524",
   "metadata": {},
   "outputs": [],
   "source": [
    "def greet(Person):\n",
    "    print(f\"Hi my name is {Person.name} and i am a {Person.gender} \")\n",
    "    # p1 = Person(\"Mukul\", 'male')\n",
    "    return p1"
   ]
  },
  {
   "cell_type": "code",
   "execution_count": 138,
   "id": "b020708c-42e0-417d-a569-8f8b2e0db767",
   "metadata": {},
   "outputs": [],
   "source": [
    "p = Person('Tushar', 'male')"
   ]
  },
  {
   "cell_type": "code",
   "execution_count": 139,
   "id": "cbad16b4-cae9-4950-ba96-0373f0a3aa5f",
   "metadata": {},
   "outputs": [
    {
     "name": "stdout",
     "output_type": "stream",
     "text": [
      "Hi my name is Tushar and i am a male \n"
     ]
    }
   ],
   "source": [
    "x = greet(p)"
   ]
  },
  {
   "cell_type": "code",
   "execution_count": null,
   "id": "f5e54b92-5376-43f1-80c3-cc0f3352c2c9",
   "metadata": {},
   "outputs": [],
   "source": []
  }
 ],
 "metadata": {
  "kernelspec": {
   "display_name": "Python 3 (ipykernel)",
   "language": "python",
   "name": "python3"
  },
  "language_info": {
   "codemirror_mode": {
    "name": "ipython",
    "version": 3
   },
   "file_extension": ".py",
   "mimetype": "text/x-python",
   "name": "python",
   "nbconvert_exporter": "python",
   "pygments_lexer": "ipython3",
   "version": "3.12.7"
  }
 },
 "nbformat": 4,
 "nbformat_minor": 5
}
