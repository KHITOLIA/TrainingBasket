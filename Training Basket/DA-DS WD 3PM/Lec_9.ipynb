{
 "cells": [
  {
   "cell_type": "markdown",
   "id": "35ee82f8-cdf0-428d-b1b2-8e15fe586b4d",
   "metadata": {},
   "source": [
    "# Loops : to perform n no. of operations\n",
    "# for loop\n",
    "# while loop"
   ]
  },
  {
   "cell_type": "code",
   "execution_count": 14,
   "id": "40cf49bd-3da8-46ad-af95-aa1308ae36fb",
   "metadata": {},
   "outputs": [
    {
     "name": "stdout",
     "output_type": "stream",
     "text": [
      "the value of i =  9\n",
      "Tushar\n",
      "the value of i =  9\n",
      "Tushar\n",
      "the value of i =  9\n",
      "Tushar\n",
      "the value of i =  9\n",
      "Tushar\n",
      "the value of i =  9\n",
      "Tushar\n",
      "the value of i =  9\n",
      "Tushar\n",
      "the value of i =  9\n",
      "Tushar\n",
      "the value of i =  9\n",
      "Tushar\n",
      "the value of i =  9\n",
      "Tushar\n",
      "the value of i =  9\n",
      "Tushar\n"
     ]
    }
   ],
   "source": [
    "for _ in range(10):\n",
    "    print(\"the value of i = \", i)\n",
    "    print('Tushar')"
   ]
  },
  {
   "cell_type": "code",
   "execution_count": 15,
   "id": "7c6f0219-a11c-42d9-823b-3f637d5951ce",
   "metadata": {},
   "outputs": [],
   "source": [
    "st = 'Training'"
   ]
  },
  {
   "cell_type": "code",
   "execution_count": 16,
   "id": "d0a0fa7c-6075-4766-9275-cd0ba50c8dcb",
   "metadata": {},
   "outputs": [
    {
     "data": {
      "text/plain": [
       "'Training'"
      ]
     },
     "execution_count": 16,
     "metadata": {},
     "output_type": "execute_result"
    }
   ],
   "source": [
    "st"
   ]
  },
  {
   "cell_type": "code",
   "execution_count": 17,
   "id": "70008e42-8c72-4118-b1dc-e2b50c85eb29",
   "metadata": {},
   "outputs": [
    {
     "name": "stdout",
     "output_type": "stream",
     "text": [
      "T\n",
      "r\n",
      "a\n",
      "i\n",
      "n\n",
      "i\n",
      "n\n",
      "g\n"
     ]
    }
   ],
   "source": [
    "for i in st:\n",
    "    print(i)"
   ]
  },
  {
   "cell_type": "code",
   "execution_count": 19,
   "id": "d159bb5f-aa85-486f-8eef-6e685d00db5c",
   "metadata": {},
   "outputs": [],
   "source": [
    "i = 'Y'"
   ]
  },
  {
   "cell_type": "code",
   "execution_count": 20,
   "id": "d0ed2ee4-1b15-429d-a42f-625c31d7b5dd",
   "metadata": {},
   "outputs": [
    {
     "data": {
      "text/plain": [
       "'Y'"
      ]
     },
     "execution_count": 20,
     "metadata": {},
     "output_type": "execute_result"
    }
   ],
   "source": [
    "i"
   ]
  },
  {
   "cell_type": "code",
   "execution_count": 23,
   "id": "fda7ef29-c318-44b0-9f8e-771b418d0744",
   "metadata": {},
   "outputs": [
    {
     "data": {
      "text/plain": [
       "'Train'"
      ]
     },
     "execution_count": 23,
     "metadata": {},
     "output_type": "execute_result"
    }
   ],
   "source": [
    "st[:5]"
   ]
  },
  {
   "cell_type": "code",
   "execution_count": 35,
   "id": "a13a6c24-1a02-4a10-b1ae-11f916ec3414",
   "metadata": {},
   "outputs": [
    {
     "name": "stdout",
     "output_type": "stream",
     "text": [
      "i\n",
      "i\n",
      "i\n",
      "i\n",
      "i\n"
     ]
    }
   ],
   "source": [
    "for i in st[:5]:\n",
    "    print('i')"
   ]
  },
  {
   "cell_type": "code",
   "execution_count": 25,
   "id": "52850eb4-43dd-425a-b861-c15f5d8ffc6c",
   "metadata": {},
   "outputs": [
    {
     "name": "stdout",
     "output_type": "stream",
     "text": [
      "0\n",
      "1\n",
      "2\n"
     ]
    }
   ],
   "source": [
    "for i in range(3):\n",
    "    print(i)"
   ]
  },
  {
   "cell_type": "code",
   "execution_count": 27,
   "id": "71c5fe90-2519-4739-91e3-43ef13d80691",
   "metadata": {},
   "outputs": [
    {
     "name": "stdout",
     "output_type": "stream",
     "text": [
      "5\n",
      "6\n",
      "7\n",
      "8\n",
      "9\n"
     ]
    }
   ],
   "source": [
    "for i in range(5,10):\n",
    "    print(i)"
   ]
  },
  {
   "cell_type": "code",
   "execution_count": 28,
   "id": "d233dccc-21d0-4ce5-8adc-a04f822ceff5",
   "metadata": {},
   "outputs": [
    {
     "name": "stdout",
     "output_type": "stream",
     "text": [
      "5\n",
      "7\n",
      "9\n",
      "11\n",
      "13\n",
      "15\n",
      "17\n",
      "19\n"
     ]
    }
   ],
   "source": [
    "for i in range(5, 20, 2):\n",
    "    print(i)"
   ]
  },
  {
   "cell_type": "code",
   "execution_count": 33,
   "id": "8473f488-753a-430c-bf43-7d58a26cb245",
   "metadata": {},
   "outputs": [
    {
     "name": "stdout",
     "output_type": "stream",
     "text": [
      "2\n",
      "3\n",
      "4\n",
      "5\n",
      "6\n",
      "7\n",
      "8\n",
      "9\n",
      "10\n",
      "11\n",
      "12\n"
     ]
    }
   ],
   "source": [
    "for i in range(2, 13):\n",
    "    print(i)"
   ]
  },
  {
   "cell_type": "code",
   "execution_count": 52,
   "id": "736e7055-a440-417f-baca-d293b73f7d77",
   "metadata": {},
   "outputs": [
    {
     "name": "stdout",
     "output_type": "stream",
     "text": [
      "ri\n",
      "ri\n",
      "ri\n",
      "ri\n",
      "ri\n",
      "ri\n",
      "ri\n",
      "ri\n"
     ]
    }
   ],
   "source": [
    "for num in st:\n",
    "    print(st[ 1: 10:4])\n",
    "    "
   ]
  },
  {
   "cell_type": "code",
   "execution_count": 40,
   "id": "ed431c65-6ede-4f6f-9af0-8e71562eea02",
   "metadata": {},
   "outputs": [
    {
     "data": {
      "text/plain": [
       "'g'"
      ]
     },
     "execution_count": 40,
     "metadata": {},
     "output_type": "execute_result"
    }
   ],
   "source": [
    "num"
   ]
  },
  {
   "cell_type": "code",
   "execution_count": 50,
   "id": "1ba52637-96de-4550-b155-ebf788c5eec1",
   "metadata": {},
   "outputs": [
    {
     "data": {
      "text/plain": [
       "'Training'"
      ]
     },
     "execution_count": 50,
     "metadata": {},
     "output_type": "execute_result"
    }
   ],
   "source": [
    "st"
   ]
  },
  {
   "cell_type": "code",
   "execution_count": 53,
   "id": "8dc30047-e645-489f-a63e-569f8fe553e7",
   "metadata": {},
   "outputs": [
    {
     "data": {
      "text/plain": [
       "'rn'"
      ]
     },
     "execution_count": 53,
     "metadata": {},
     "output_type": "execute_result"
    }
   ],
   "source": [
    "st[1 : 5 : 3]"
   ]
  },
  {
   "cell_type": "code",
   "execution_count": 54,
   "id": "9f529ca3-a738-47b3-82c9-ce254b573f16",
   "metadata": {},
   "outputs": [
    {
     "data": {
      "text/plain": [
       "8"
      ]
     },
     "execution_count": 54,
     "metadata": {},
     "output_type": "execute_result"
    }
   ],
   "source": [
    "len(st)"
   ]
  },
  {
   "cell_type": "code",
   "execution_count": 74,
   "id": "b1a6c0fb-fbcf-4b7e-8f1c-9c4279048d1d",
   "metadata": {},
   "outputs": [
    {
     "name": "stdout",
     "output_type": "stream",
     "text": [
      "T*0\n",
      "r*1\n",
      "a*2\n",
      "i*3\n",
      "n*4\n",
      "i*5\n",
      "n*6\n",
      "g*7\n"
     ]
    }
   ],
   "source": [
    "for i in range(len(st)):\n",
    "    print(st[i], i, sep = \"*\")"
   ]
  },
  {
   "cell_type": "code",
   "execution_count": 75,
   "id": "4cf003be-a0fd-4c91-8b0d-64904f84faa9",
   "metadata": {},
   "outputs": [],
   "source": [
    "# print?"
   ]
  },
  {
   "cell_type": "code",
   "execution_count": 76,
   "id": "98dd675f-8d6e-46b3-803c-dbcdea64ac64",
   "metadata": {},
   "outputs": [
    {
     "data": {
      "text/plain": [
       "'Training'"
      ]
     },
     "execution_count": 76,
     "metadata": {},
     "output_type": "execute_result"
    }
   ],
   "source": [
    "st"
   ]
  },
  {
   "cell_type": "code",
   "execution_count": 77,
   "id": "a0e5a200-9446-48eb-8bff-005af15a81ff",
   "metadata": {},
   "outputs": [
    {
     "name": "stdout",
     "output_type": "stream",
     "text": [
      "a\n",
      "i\n",
      "i\n"
     ]
    }
   ],
   "source": [
    "vowels = \"aeiou\"\n",
    "\n",
    "for i in st:\n",
    "\n",
    "    if i in vowels:\n",
    "\n",
    "        print(i)"
   ]
  },
  {
   "cell_type": "code",
   "execution_count": 92,
   "id": "b1e2c210-900e-4b72-a05f-dd094bf88f50",
   "metadata": {},
   "outputs": [],
   "source": [
    "st = 'TRAining'\n",
    "vowel = 'aeiou'\n",
    "# vowel = ['a', 'i', 'e', 'u', 'o']"
   ]
  },
  {
   "cell_type": "code",
   "execution_count": 94,
   "id": "588bb1aa-e647-4c68-88cb-1ed4dc31a2fc",
   "metadata": {},
   "outputs": [
    {
     "name": "stdout",
     "output_type": "stream",
     "text": [
      "a\n",
      "i\n",
      "i\n"
     ]
    }
   ],
   "source": [
    "for i in st.lower():\n",
    "    if i in vowel:\n",
    "        print(i)"
   ]
  },
  {
   "cell_type": "code",
   "execution_count": null,
   "id": "73124864-60b3-4788-837e-e91977b8b4e7",
   "metadata": {},
   "outputs": [],
   "source": []
  },
  {
   "cell_type": "code",
   "execution_count": null,
   "id": "6b59810c-9d6e-4a8b-95ef-9c8db9bb3cc3",
   "metadata": {},
   "outputs": [],
   "source": []
  }
 ],
 "metadata": {
  "kernelspec": {
   "display_name": "Python 3 (ipykernel)",
   "language": "python",
   "name": "python3"
  },
  "language_info": {
   "codemirror_mode": {
    "name": "ipython",
    "version": 3
   },
   "file_extension": ".py",
   "mimetype": "text/x-python",
   "name": "python",
   "nbconvert_exporter": "python",
   "pygments_lexer": "ipython3",
   "version": "3.12.7"
  }
 },
 "nbformat": 4,
 "nbformat_minor": 5
}
