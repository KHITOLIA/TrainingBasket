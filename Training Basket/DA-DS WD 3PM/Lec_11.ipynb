{
 "cells": [
  {
   "cell_type": "code",
   "execution_count": 4,
   "id": "ae5c9af3-6228-415f-88f7-53a141b2b8af",
   "metadata": {},
   "outputs": [
    {
     "name": "stdin",
     "output_type": "stream",
     "text": [
      "enter the number 20\n"
     ]
    },
    {
     "name": "stdout",
     "output_type": "stream",
     "text": [
      "20.0 is an even number\n"
     ]
    }
   ],
   "source": [
    "num = float(input(\"enter the number\"))\n",
    "reminder = num - 2*(num//2)\n",
    "if reminder == 0:\n",
    "    print(f'{num} is an even number')\n",
    "else:\n",
    "    print(f'{num} is an odd number')"
   ]
  },
  {
   "cell_type": "code",
   "execution_count": 5,
   "id": "ec93f172-2680-4884-9312-31f0ae72bfbd",
   "metadata": {},
   "outputs": [],
   "source": [
    "l1 = [2, 3, 4, 5, 5, 7, 1]\n",
    "l2 = [2, 2, 4, 7, 1]"
   ]
  },
  {
   "cell_type": "code",
   "execution_count": 7,
   "id": "213f3b11-51db-4454-9001-e77c159f744f",
   "metadata": {},
   "outputs": [],
   "source": [
    "# write a code to find the common elements from l1 and l2"
   ]
  },
  {
   "cell_type": "code",
   "execution_count": 8,
   "id": "a28f1c62-6fc7-4433-bd7e-82b7e7da8dbb",
   "metadata": {},
   "outputs": [],
   "source": [
    "common = []\n",
    "for i in l1:\n",
    "    if i in l2:\n",
    "        common.append(i)"
   ]
  },
  {
   "cell_type": "code",
   "execution_count": 9,
   "id": "b6ee2185-601c-41fb-ad54-30fa63e47749",
   "metadata": {},
   "outputs": [
    {
     "data": {
      "text/plain": [
       "[2, 4, 7, 1]"
      ]
     },
     "execution_count": 9,
     "metadata": {},
     "output_type": "execute_result"
    }
   ],
   "source": [
    "common"
   ]
  },
  {
   "cell_type": "code",
   "execution_count": 18,
   "id": "f2132172-1fa6-4cf1-b3c8-2a91cf81225a",
   "metadata": {},
   "outputs": [
    {
     "name": "stdout",
     "output_type": "stream",
     "text": [
      "[1, 2, 4, 7]\n"
     ]
    }
   ],
   "source": [
    "newl = []\n",
    "\n",
    "for i in l1:\n",
    "    if i in l2:\n",
    "        newl.append(i)\n",
    "print(sorted(newl))"
   ]
  },
  {
   "cell_type": "code",
   "execution_count": 29,
   "id": "1d8d29bf-1087-49a3-943b-a81d5bc5e12a",
   "metadata": {},
   "outputs": [
    {
     "data": {
      "text/plain": [
       "[2, 4, 7, 1]"
      ]
     },
     "execution_count": 29,
     "metadata": {},
     "output_type": "execute_result"
    }
   ],
   "source": [
    "newl # sort this list in ascending order without using sorted function"
   ]
  },
  {
   "cell_type": "code",
   "execution_count": 30,
   "id": "121f1061-5e7a-4645-91ba-bda9e4c82b47",
   "metadata": {},
   "outputs": [],
   "source": [
    "max_ = newl[0]"
   ]
  },
  {
   "cell_type": "code",
   "execution_count": 35,
   "id": "d8926c16-5f48-4817-a079-77746bab952a",
   "metadata": {},
   "outputs": [],
   "source": [
    "l = newl"
   ]
  },
  {
   "cell_type": "code",
   "execution_count": 36,
   "id": "1483d8ef-996c-41d6-b47d-eecdffc846b1",
   "metadata": {},
   "outputs": [],
   "source": [
    "for i in range(len(l)):\n",
    "    for j in range(len(l) - 1):\n",
    "        if l[j] > l[j+1]:\n",
    "            l[j], l[j+1] = l[j+1], l[j ]"
   ]
  },
  {
   "cell_type": "code",
   "execution_count": 37,
   "id": "d8528712-2770-4880-8d4a-f30f08585509",
   "metadata": {},
   "outputs": [
    {
     "data": {
      "text/plain": [
       "[1, 2, 4, 7]"
      ]
     },
     "execution_count": 37,
     "metadata": {},
     "output_type": "execute_result"
    }
   ],
   "source": [
    "l"
   ]
  },
  {
   "cell_type": "code",
   "execution_count": 38,
   "id": "524345e3-c98e-442c-8df3-8bc91cd05873",
   "metadata": {},
   "outputs": [],
   "source": [
    "st = 'programming is awesome'"
   ]
  },
  {
   "cell_type": "code",
   "execution_count": 39,
   "id": "2b1ea9f0-ecc6-4421-82a4-6295fdc9ff6b",
   "metadata": {},
   "outputs": [],
   "source": [
    "# find the score of st"
   ]
  },
  {
   "cell_type": "code",
   "execution_count": null,
   "id": "82894c08-8424-44cb-b873-cfb35b604066",
   "metadata": {},
   "outputs": [],
   "source": []
  }
 ],
 "metadata": {
  "kernelspec": {
   "display_name": "Python 3 (ipykernel)",
   "language": "python",
   "name": "python3"
  },
  "language_info": {
   "codemirror_mode": {
    "name": "ipython",
    "version": 3
   },
   "file_extension": ".py",
   "mimetype": "text/x-python",
   "name": "python",
   "nbconvert_exporter": "python",
   "pygments_lexer": "ipython3",
   "version": "3.12.7"
  }
 },
 "nbformat": 4,
 "nbformat_minor": 5
}
