{
 "cells": [
  {
   "cell_type": "code",
   "execution_count": 3,
   "id": "48f69eb6-77c9-46ff-8b4f-491be197ddd4",
   "metadata": {},
   "outputs": [],
   "source": [
    "a = [1, 9, 8.3, 4.3, 'Tushar', 'TB', False, [1, 2, 3, 4]]"
   ]
  },
  {
   "cell_type": "code",
   "execution_count": 4,
   "id": "65e413ab-f2eb-46c2-bc1f-94adffae1013",
   "metadata": {},
   "outputs": [
    {
     "data": {
      "text/plain": [
       "[1, 9, 8.3, 4.3, 'Tushar', 'TB', False, [1, 2, 3, 4]]"
      ]
     },
     "execution_count": 4,
     "metadata": {},
     "output_type": "execute_result"
    }
   ],
   "source": [
    "a"
   ]
  },
  {
   "cell_type": "code",
   "execution_count": 5,
   "id": "9cde4450-fe19-41cf-a811-30b6aa420351",
   "metadata": {},
   "outputs": [
    {
     "data": {
      "text/plain": [
       "'Tushar'"
      ]
     },
     "execution_count": 5,
     "metadata": {},
     "output_type": "execute_result"
    }
   ],
   "source": [
    "a[4]"
   ]
  },
  {
   "cell_type": "code",
   "execution_count": 6,
   "id": "6429363b-416d-4571-a565-b88a7fb51a9e",
   "metadata": {},
   "outputs": [],
   "source": [
    "a.reverse()"
   ]
  },
  {
   "cell_type": "code",
   "execution_count": 7,
   "id": "08d48993-9910-42c4-b899-60212eb9f558",
   "metadata": {},
   "outputs": [
    {
     "data": {
      "text/plain": [
       "[[1, 2, 3, 4], False, 'TB', 'Tushar', 4.3, 8.3, 9, 1]"
      ]
     },
     "execution_count": 7,
     "metadata": {},
     "output_type": "execute_result"
    }
   ],
   "source": [
    "a"
   ]
  },
  {
   "cell_type": "code",
   "execution_count": 8,
   "id": "1b034d0a-9525-4601-8fd0-76bfad8f5469",
   "metadata": {},
   "outputs": [],
   "source": [
    "a.append('Water bottle')"
   ]
  },
  {
   "cell_type": "code",
   "execution_count": 9,
   "id": "d5454e46-04e6-44b4-86ae-e44ebef12910",
   "metadata": {},
   "outputs": [
    {
     "data": {
      "text/plain": [
       "[[1, 2, 3, 4], False, 'TB', 'Tushar', 4.3, 8.3, 9, 1, 'Water bottle']"
      ]
     },
     "execution_count": 9,
     "metadata": {},
     "output_type": "execute_result"
    }
   ],
   "source": [
    "a"
   ]
  },
  {
   "cell_type": "code",
   "execution_count": 11,
   "id": "710c0125-7c53-4aeb-846b-0ed2aeafb308",
   "metadata": {},
   "outputs": [],
   "source": [
    "a.remove(4.3)"
   ]
  },
  {
   "cell_type": "code",
   "execution_count": 12,
   "id": "1620e815-788f-4e07-980f-a85de88c33e1",
   "metadata": {},
   "outputs": [
    {
     "data": {
      "text/plain": [
       "[[1, 2, 3, 4], False, 'TB', 'Tushar', 8.3, 9, 1, 'Water bottle']"
      ]
     },
     "execution_count": 12,
     "metadata": {},
     "output_type": "execute_result"
    }
   ],
   "source": [
    "a"
   ]
  },
  {
   "cell_type": "code",
   "execution_count": 16,
   "id": "b818c228-81fa-4092-ab0d-8dd449bfb9c7",
   "metadata": {},
   "outputs": [
    {
     "data": {
      "text/plain": [
       "4"
      ]
     },
     "execution_count": 16,
     "metadata": {},
     "output_type": "execute_result"
    }
   ],
   "source": [
    "a[0][3]"
   ]
  },
  {
   "cell_type": "code",
   "execution_count": 17,
   "id": "60092e28-b1fe-455a-b3e0-6568bc2f0bf5",
   "metadata": {},
   "outputs": [
    {
     "ename": "IndexError",
     "evalue": "list index out of range",
     "output_type": "error",
     "traceback": [
      "\u001b[1;31m---------------------------------------------------------------------------\u001b[0m",
      "\u001b[1;31mIndexError\u001b[0m                                Traceback (most recent call last)",
      "Cell \u001b[1;32mIn[17], line 1\u001b[0m\n\u001b[1;32m----> 1\u001b[0m a[\u001b[38;5;241m8\u001b[39m]\n",
      "\u001b[1;31mIndexError\u001b[0m: list index out of range"
     ]
    }
   ],
   "source": [
    "a[8]"
   ]
  },
  {
   "cell_type": "code",
   "execution_count": 22,
   "id": "9f522e64-d37f-4db1-97a2-3f7786b93503",
   "metadata": {},
   "outputs": [],
   "source": [
    "b = a[ 1 : 5]"
   ]
  },
  {
   "cell_type": "code",
   "execution_count": 23,
   "id": "5b08ff3e-b7b1-475e-a2d5-c008b8fdb2e5",
   "metadata": {},
   "outputs": [],
   "source": [
    "b.append('Archit')"
   ]
  },
  {
   "cell_type": "code",
   "execution_count": 24,
   "id": "dcfe5573-d51f-428e-922b-689c085169a3",
   "metadata": {},
   "outputs": [
    {
     "data": {
      "text/plain": [
       "[False, 'TB', 'Tushar', 8.3, 'Archit']"
      ]
     },
     "execution_count": 24,
     "metadata": {},
     "output_type": "execute_result"
    }
   ],
   "source": [
    "b"
   ]
  },
  {
   "cell_type": "code",
   "execution_count": 25,
   "id": "227644e7-61d6-40b9-a347-d08fdcaa9cf4",
   "metadata": {},
   "outputs": [],
   "source": [
    "c = [2, 2, 2, 3, 4, 4, 5, 5]"
   ]
  },
  {
   "cell_type": "code",
   "execution_count": 30,
   "id": "5efc0372-7bd0-439e-91f0-3c435d239919",
   "metadata": {},
   "outputs": [],
   "source": [
    "d = []"
   ]
  },
  {
   "cell_type": "code",
   "execution_count": 31,
   "id": "253744b3-d6e6-4743-8d74-e38fc5dd4fb8",
   "metadata": {},
   "outputs": [],
   "source": [
    "d.append(2)"
   ]
  },
  {
   "cell_type": "code",
   "execution_count": 32,
   "id": "55ac9185-7180-4f71-bf22-91fac60dc6d1",
   "metadata": {},
   "outputs": [],
   "source": [
    "d.append(3)"
   ]
  },
  {
   "cell_type": "code",
   "execution_count": 33,
   "id": "560b5241-1d1e-4656-8c01-8c5db2f3ae5d",
   "metadata": {},
   "outputs": [],
   "source": [
    "d.append(4)"
   ]
  },
  {
   "cell_type": "code",
   "execution_count": 34,
   "id": "4113755d-6add-402a-a4be-8a34ebc3b40e",
   "metadata": {},
   "outputs": [],
   "source": [
    "d.append(5)"
   ]
  },
  {
   "cell_type": "code",
   "execution_count": 35,
   "id": "03c592be-8365-4ec3-9fb3-80b524ea57a5",
   "metadata": {},
   "outputs": [
    {
     "data": {
      "text/plain": [
       "[[1, 2, 3, 4], False, 'TB', 'Tushar', 8.3, 9, 1, 'Water bottle']"
      ]
     },
     "execution_count": 35,
     "metadata": {},
     "output_type": "execute_result"
    }
   ],
   "source": [
    "a"
   ]
  },
  {
   "cell_type": "code",
   "execution_count": 36,
   "id": "3e6bcf5d-e343-4d71-97f9-4d81098fe025",
   "metadata": {},
   "outputs": [
    {
     "data": {
      "text/plain": [
       "'TB'"
      ]
     },
     "execution_count": 36,
     "metadata": {},
     "output_type": "execute_result"
    }
   ],
   "source": [
    "a.pop(2) # remove the element from the end"
   ]
  },
  {
   "cell_type": "code",
   "execution_count": 37,
   "id": "cf1e55e5-fd14-4c27-9e4b-c8d23c8c5aaa",
   "metadata": {},
   "outputs": [
    {
     "data": {
      "text/plain": [
       "[[1, 2, 3, 4], False, 'Tushar', 8.3, 9, 1, 'Water bottle']"
      ]
     },
     "execution_count": 37,
     "metadata": {},
     "output_type": "execute_result"
    }
   ],
   "source": [
    "a"
   ]
  },
  {
   "cell_type": "code",
   "execution_count": 38,
   "id": "54ddb54c-a215-4fd0-9b60-83326056a799",
   "metadata": {},
   "outputs": [
    {
     "data": {
      "text/plain": [
       "'Water bottle'"
      ]
     },
     "execution_count": 38,
     "metadata": {},
     "output_type": "execute_result"
    }
   ],
   "source": [
    "a.pop()"
   ]
  },
  {
   "cell_type": "code",
   "execution_count": 42,
   "id": "7001d8f4-42ef-4768-8d45-9fc0097a2103",
   "metadata": {},
   "outputs": [],
   "source": [
    "# a.remove()"
   ]
  },
  {
   "cell_type": "code",
   "execution_count": 40,
   "id": "8fcfea11-e5f3-4bb3-9151-f40a464d23a0",
   "metadata": {},
   "outputs": [
    {
     "data": {
      "text/plain": [
       "[[1, 2, 3, 4], 'Tushar', 8.3, 9, 1]"
      ]
     },
     "execution_count": 40,
     "metadata": {},
     "output_type": "execute_result"
    }
   ],
   "source": [
    "a"
   ]
  },
  {
   "cell_type": "code",
   "execution_count": 43,
   "id": "3829fa43-13c1-46ca-91e3-0f3848d1e7b4",
   "metadata": {},
   "outputs": [],
   "source": [
    "a.insert(2, 'hi')"
   ]
  },
  {
   "cell_type": "code",
   "execution_count": 44,
   "id": "83ff5dbb-b723-4930-8642-4ef6bdb7cf21",
   "metadata": {},
   "outputs": [
    {
     "data": {
      "text/plain": [
       "[[1, 2, 3, 4], 'Tushar', 'hi', 8.3, 9, 1]"
      ]
     },
     "execution_count": 44,
     "metadata": {},
     "output_type": "execute_result"
    }
   ],
   "source": [
    "a"
   ]
  },
  {
   "cell_type": "code",
   "execution_count": 45,
   "id": "7da14f40-c38f-46fd-9934-7de5391c611e",
   "metadata": {},
   "outputs": [],
   "source": [
    "c = [2, 56, 91, 19, 20, -7, 0, -20, 5]"
   ]
  },
  {
   "cell_type": "code",
   "execution_count": 47,
   "id": "23fe5043-84b8-4a7b-a5ee-f930bb5198af",
   "metadata": {},
   "outputs": [],
   "source": [
    "c.reverse()"
   ]
  },
  {
   "cell_type": "code",
   "execution_count": 48,
   "id": "1ea66533-a4ec-4193-97b1-0c7ba3210b4d",
   "metadata": {},
   "outputs": [
    {
     "data": {
      "text/plain": [
       "[5, -20, 0, -7, 20, 19, 91, 56, 2]"
      ]
     },
     "execution_count": 48,
     "metadata": {},
     "output_type": "execute_result"
    }
   ],
   "source": [
    "c"
   ]
  },
  {
   "cell_type": "code",
   "execution_count": 49,
   "id": "911c9318-4efc-4ec6-86d5-855832364896",
   "metadata": {},
   "outputs": [
    {
     "data": {
      "text/plain": [
       "[-20, -7, 0, 2, 5, 19, 20, 56, 91]"
      ]
     },
     "execution_count": 49,
     "metadata": {},
     "output_type": "execute_result"
    }
   ],
   "source": [
    "sorted(c)"
   ]
  },
  {
   "cell_type": "code",
   "execution_count": 51,
   "id": "85e4b223-0882-4bf3-90bb-b8cc04e2e49e",
   "metadata": {},
   "outputs": [
    {
     "data": {
      "text/plain": [
       "[91, 56, 20, 19, 5, 2, 0, -7, -20]"
      ]
     },
     "execution_count": 51,
     "metadata": {},
     "output_type": "execute_result"
    }
   ],
   "source": [
    "sorted(c, reverse=True) # in the desc order"
   ]
  },
  {
   "cell_type": "code",
   "execution_count": 52,
   "id": "9f8453b4-859f-45d0-bd3d-fe2c2ddb2db6",
   "metadata": {},
   "outputs": [
    {
     "data": {
      "text/plain": [
       "True"
      ]
     },
     "execution_count": 52,
     "metadata": {},
     "output_type": "execute_result"
    }
   ],
   "source": [
    "a = 5\n",
    "a > 4 or a < 10"
   ]
  },
  {
   "cell_type": "code",
   "execution_count": 53,
   "id": "81c50f86-4a15-49d5-91a9-8f9d7123abe1",
   "metadata": {},
   "outputs": [
    {
     "data": {
      "text/plain": [
       "False"
      ]
     },
     "execution_count": 53,
     "metadata": {},
     "output_type": "execute_result"
    }
   ],
   "source": [
    "a < 4 and a > 10"
   ]
  },
  {
   "cell_type": "code",
   "execution_count": 54,
   "id": "cf40bcf3-d28f-4d75-ab81-f32712b855a5",
   "metadata": {},
   "outputs": [
    {
     "data": {
      "text/plain": [
       "True"
      ]
     },
     "execution_count": 54,
     "metadata": {},
     "output_type": "execute_result"
    }
   ],
   "source": [
    "a > 4 and a < 10"
   ]
  },
  {
   "cell_type": "code",
   "execution_count": 55,
   "id": "5f777b15-2a4f-4b33-9d25-cf863daaac33",
   "metadata": {},
   "outputs": [
    {
     "data": {
      "text/plain": [
       "5"
      ]
     },
     "execution_count": 55,
     "metadata": {},
     "output_type": "execute_result"
    }
   ],
   "source": [
    "a"
   ]
  },
  {
   "cell_type": "code",
   "execution_count": 56,
   "id": "bc64298f-3601-42f5-821f-c605df33df9e",
   "metadata": {},
   "outputs": [
    {
     "data": {
      "text/plain": [
       "True"
      ]
     },
     "execution_count": 56,
     "metadata": {},
     "output_type": "execute_result"
    }
   ],
   "source": [
    "a == 5"
   ]
  },
  {
   "cell_type": "code",
   "execution_count": 57,
   "id": "914e573a-5e48-4f9c-857d-97acb2339cf3",
   "metadata": {},
   "outputs": [
    {
     "data": {
      "text/plain": [
       "False"
      ]
     },
     "execution_count": 57,
     "metadata": {},
     "output_type": "execute_result"
    }
   ],
   "source": [
    "a == 10"
   ]
  },
  {
   "cell_type": "code",
   "execution_count": 58,
   "id": "54df8606-d659-46d6-a72a-1d79c5e09f05",
   "metadata": {},
   "outputs": [
    {
     "data": {
      "text/plain": [
       "False"
      ]
     },
     "execution_count": 58,
     "metadata": {},
     "output_type": "execute_result"
    }
   ],
   "source": [
    "a != 5"
   ]
  },
  {
   "cell_type": "code",
   "execution_count": 59,
   "id": "92eccb01-808b-4ca5-950c-fd6650638df1",
   "metadata": {},
   "outputs": [
    {
     "data": {
      "text/plain": [
       "True"
      ]
     },
     "execution_count": 59,
     "metadata": {},
     "output_type": "execute_result"
    }
   ],
   "source": [
    "a != 10"
   ]
  },
  {
   "cell_type": "code",
   "execution_count": 65,
   "id": "6f49cda1-0a1b-4c09-97f8-68360a5b9957",
   "metadata": {},
   "outputs": [],
   "source": [
    "r = [1, 2, 3, 4, 6]"
   ]
  },
  {
   "cell_type": "code",
   "execution_count": 66,
   "id": "45274d87-3725-4dfb-a546-3c9c11de6737",
   "metadata": {},
   "outputs": [],
   "source": [
    "# lists are mutable but tuples are not"
   ]
  },
  {
   "cell_type": "code",
   "execution_count": 67,
   "id": "84f416f3-1b0b-4867-bbd1-c1cb0d4be0e1",
   "metadata": {},
   "outputs": [],
   "source": [
    "# Type Casting"
   ]
  },
  {
   "cell_type": "code",
   "execution_count": 69,
   "id": "e12270e8-e76b-4797-bf25-4a6413f0cc50",
   "metadata": {},
   "outputs": [
    {
     "data": {
      "text/plain": [
       "int"
      ]
     },
     "execution_count": 69,
     "metadata": {},
     "output_type": "execute_result"
    }
   ],
   "source": [
    "a = 12345\n",
    "type(a)"
   ]
  },
  {
   "cell_type": "code",
   "execution_count": 70,
   "id": "2e745ade-d79c-4864-bea2-207fb48f3cef",
   "metadata": {},
   "outputs": [],
   "source": [
    "a = str(a)"
   ]
  },
  {
   "cell_type": "code",
   "execution_count": 72,
   "id": "bb52acae-c45a-4881-aba9-c13936abe078",
   "metadata": {},
   "outputs": [
    {
     "data": {
      "text/plain": [
       "str"
      ]
     },
     "execution_count": 72,
     "metadata": {},
     "output_type": "execute_result"
    }
   ],
   "source": [
    "type(a)"
   ]
  },
  {
   "cell_type": "code",
   "execution_count": 73,
   "id": "80d2aefc-952e-46aa-a867-dcc11478dfad",
   "metadata": {},
   "outputs": [],
   "source": [
    "a = int(a)"
   ]
  },
  {
   "cell_type": "code",
   "execution_count": 74,
   "id": "c71517a8-a6c4-46f1-843a-fca51970fa8e",
   "metadata": {},
   "outputs": [
    {
     "data": {
      "text/plain": [
       "int"
      ]
     },
     "execution_count": 74,
     "metadata": {},
     "output_type": "execute_result"
    }
   ],
   "source": [
    "type(a)"
   ]
  },
  {
   "cell_type": "code",
   "execution_count": 75,
   "id": "da5a10d8-50e4-4d4d-845b-b7b67f003b33",
   "metadata": {},
   "outputs": [],
   "source": [
    "a = 'Hello'"
   ]
  },
  {
   "cell_type": "code",
   "execution_count": 76,
   "id": "77e4a4f6-d376-4721-a843-b93c04d91207",
   "metadata": {},
   "outputs": [
    {
     "data": {
      "text/plain": [
       "str"
      ]
     },
     "execution_count": 76,
     "metadata": {},
     "output_type": "execute_result"
    }
   ],
   "source": [
    "type(a)"
   ]
  },
  {
   "cell_type": "code",
   "execution_count": 77,
   "id": "6ff533d7-cfc1-4bd0-8eb6-8e308b627f2b",
   "metadata": {},
   "outputs": [
    {
     "ename": "ValueError",
     "evalue": "invalid literal for int() with base 10: 'Hello'",
     "output_type": "error",
     "traceback": [
      "\u001b[1;31m---------------------------------------------------------------------------\u001b[0m",
      "\u001b[1;31mValueError\u001b[0m                                Traceback (most recent call last)",
      "Cell \u001b[1;32mIn[77], line 1\u001b[0m\n\u001b[1;32m----> 1\u001b[0m a \u001b[38;5;241m=\u001b[39m \u001b[38;5;28mint\u001b[39m(a)\n",
      "\u001b[1;31mValueError\u001b[0m: invalid literal for int() with base 10: 'Hello'"
     ]
    }
   ],
   "source": [
    "a = int(a)"
   ]
  },
  {
   "cell_type": "code",
   "execution_count": 78,
   "id": "f82e301f-6eb0-497c-ba7a-3a530f34b3d1",
   "metadata": {},
   "outputs": [],
   "source": [
    "a = list(a)"
   ]
  },
  {
   "cell_type": "code",
   "execution_count": 79,
   "id": "4482be1f-fdb6-4541-9399-14ad4386e8d6",
   "metadata": {},
   "outputs": [
    {
     "data": {
      "text/plain": [
       "['H', 'e', 'l', 'l', 'o']"
      ]
     },
     "execution_count": 79,
     "metadata": {},
     "output_type": "execute_result"
    }
   ],
   "source": [
    "a"
   ]
  },
  {
   "cell_type": "code",
   "execution_count": 80,
   "id": "94dea8b0-547a-41aa-b349-e77f49e2441c",
   "metadata": {},
   "outputs": [
    {
     "data": {
      "text/plain": [
       "['H', 'e', 'l', 'l', 'o']"
      ]
     },
     "execution_count": 80,
     "metadata": {},
     "output_type": "execute_result"
    }
   ],
   "source": [
    "a "
   ]
  },
  {
   "cell_type": "code",
   "execution_count": 81,
   "id": "5e7418f0-4055-4b03-b8f9-ef0aaed11f72",
   "metadata": {},
   "outputs": [],
   "source": [
    "a = tuple(a)"
   ]
  },
  {
   "cell_type": "code",
   "execution_count": 82,
   "id": "78d4c504-b140-4c6b-9981-4a05cd435513",
   "metadata": {},
   "outputs": [
    {
     "data": {
      "text/plain": [
       "tuple"
      ]
     },
     "execution_count": 82,
     "metadata": {},
     "output_type": "execute_result"
    }
   ],
   "source": [
    "type(a)"
   ]
  },
  {
   "cell_type": "code",
   "execution_count": 83,
   "id": "eaf5071c-d65c-45ea-899a-826d6afb6f47",
   "metadata": {},
   "outputs": [
    {
     "data": {
      "text/plain": [
       "('H', 'e', 'l', 'l', 'o')"
      ]
     },
     "execution_count": 83,
     "metadata": {},
     "output_type": "execute_result"
    }
   ],
   "source": [
    "a"
   ]
  },
  {
   "cell_type": "code",
   "execution_count": 84,
   "id": "e270ec87-a181-4f1f-ab2c-f0d30b34bcb1",
   "metadata": {},
   "outputs": [
    {
     "data": {
      "text/plain": [
       "'H'"
      ]
     },
     "execution_count": 84,
     "metadata": {},
     "output_type": "execute_result"
    }
   ],
   "source": [
    "a[0]"
   ]
  },
  {
   "cell_type": "code",
   "execution_count": 85,
   "id": "cf18761a-fb68-4e48-9db7-692530d1b432",
   "metadata": {},
   "outputs": [
    {
     "ename": "TypeError",
     "evalue": "'tuple' object does not support item assignment",
     "output_type": "error",
     "traceback": [
      "\u001b[1;31m---------------------------------------------------------------------------\u001b[0m",
      "\u001b[1;31mTypeError\u001b[0m                                 Traceback (most recent call last)",
      "Cell \u001b[1;32mIn[85], line 1\u001b[0m\n\u001b[1;32m----> 1\u001b[0m a[\u001b[38;5;241m0\u001b[39m] \u001b[38;5;241m=\u001b[39m \u001b[38;5;241m1\u001b[39m\n",
      "\u001b[1;31mTypeError\u001b[0m: 'tuple' object does not support item assignment"
     ]
    }
   ],
   "source": [
    "a[0] = 1"
   ]
  },
  {
   "cell_type": "code",
   "execution_count": 86,
   "id": "e4b70117-5282-49d2-99f6-ba3209699c2d",
   "metadata": {},
   "outputs": [],
   "source": [
    "r = [1, 2, 3, 4, 6]"
   ]
  },
  {
   "cell_type": "code",
   "execution_count": 88,
   "id": "3a3e2198-28c6-415c-bea7-3a573d2f298e",
   "metadata": {},
   "outputs": [],
   "source": [
    "r[0] = 10"
   ]
  },
  {
   "cell_type": "code",
   "execution_count": 89,
   "id": "752b0c00-20fa-4127-a783-dfd856e6d194",
   "metadata": {},
   "outputs": [
    {
     "data": {
      "text/plain": [
       "[10, 2, 3, 4, 6]"
      ]
     },
     "execution_count": 89,
     "metadata": {},
     "output_type": "execute_result"
    }
   ],
   "source": [
    "r"
   ]
  },
  {
   "cell_type": "code",
   "execution_count": 90,
   "id": "471cf0e1-ee71-4c23-994a-522396d358ad",
   "metadata": {},
   "outputs": [
    {
     "data": {
      "text/plain": [
       "('H', 'e', 'l', 'l', 'o')"
      ]
     },
     "execution_count": 90,
     "metadata": {},
     "output_type": "execute_result"
    }
   ],
   "source": [
    "a"
   ]
  },
  {
   "cell_type": "code",
   "execution_count": 91,
   "id": "582a1277-5e25-42db-afd7-2ff1b17fa00c",
   "metadata": {},
   "outputs": [],
   "source": [
    "a = list(a)"
   ]
  },
  {
   "cell_type": "code",
   "execution_count": 92,
   "id": "5e463680-9424-46b7-a3e9-d873877542b2",
   "metadata": {},
   "outputs": [
    {
     "data": {
      "text/plain": [
       "['H', 'e', 'l', 'l', 'o']"
      ]
     },
     "execution_count": 92,
     "metadata": {},
     "output_type": "execute_result"
    }
   ],
   "source": [
    "a"
   ]
  },
  {
   "cell_type": "code",
   "execution_count": 93,
   "id": "42da0d6f-550b-4e15-ac8d-f279e75daaa2",
   "metadata": {},
   "outputs": [],
   "source": [
    "a.append('t')"
   ]
  },
  {
   "cell_type": "code",
   "execution_count": 94,
   "id": "7a193da4-a16e-4a24-b80f-28d7263bd0b6",
   "metadata": {},
   "outputs": [
    {
     "data": {
      "text/plain": [
       "['H', 'e', 'l', 'l', 'o', 't']"
      ]
     },
     "execution_count": 94,
     "metadata": {},
     "output_type": "execute_result"
    }
   ],
   "source": [
    "a"
   ]
  },
  {
   "cell_type": "code",
   "execution_count": 95,
   "id": "26042600-7e23-451e-ad93-82e954b23333",
   "metadata": {},
   "outputs": [],
   "source": [
    "a = tuple(a)"
   ]
  },
  {
   "cell_type": "code",
   "execution_count": 96,
   "id": "aeb59e4d-bd32-47dd-a4df-547ce79e267d",
   "metadata": {},
   "outputs": [
    {
     "data": {
      "text/plain": [
       "('H', 'e', 'l', 'l', 'o', 't')"
      ]
     },
     "execution_count": 96,
     "metadata": {},
     "output_type": "execute_result"
    }
   ],
   "source": [
    "a"
   ]
  },
  {
   "cell_type": "code",
   "execution_count": 97,
   "id": "d3e29cd4-4111-40a3-a8da-c505bb4f522f",
   "metadata": {},
   "outputs": [
    {
     "data": {
      "text/plain": [
       "('H', 'e', 'l', 'l', 'o', 't')"
      ]
     },
     "execution_count": 97,
     "metadata": {},
     "output_type": "execute_result"
    }
   ],
   "source": [
    "a"
   ]
  },
  {
   "cell_type": "code",
   "execution_count": 101,
   "id": "7acfff27-4cb9-4e83-81d4-7b19441eb5dd",
   "metadata": {},
   "outputs": [],
   "source": [
    "tup = a + (1, )"
   ]
  },
  {
   "cell_type": "code",
   "execution_count": 102,
   "id": "486b4d37-6fb5-43c6-ac77-0df885b57b7f",
   "metadata": {},
   "outputs": [
    {
     "data": {
      "text/plain": [
       "('H', 'e', 'l', 'l', 'o', 't', 1)"
      ]
     },
     "execution_count": 102,
     "metadata": {},
     "output_type": "execute_result"
    }
   ],
   "source": [
    "tup"
   ]
  },
  {
   "cell_type": "code",
   "execution_count": 105,
   "id": "44ee725e-85ce-4c9b-a00c-5890714811f7",
   "metadata": {},
   "outputs": [
    {
     "data": {
      "text/plain": [
       "('H', 'e', 'l', 'l', 'o', 't', 1)"
      ]
     },
     "execution_count": 105,
     "metadata": {},
     "output_type": "execute_result"
    }
   ],
   "source": [
    "tup"
   ]
  },
  {
   "cell_type": "code",
   "execution_count": 108,
   "id": "3d787fb6-c7c3-4865-8b7b-2d0f043f49d4",
   "metadata": {},
   "outputs": [
    {
     "data": {
      "text/plain": [
       "0"
      ]
     },
     "execution_count": 108,
     "metadata": {},
     "output_type": "execute_result"
    }
   ],
   "source": [
    "tup.index('H')"
   ]
  },
  {
   "cell_type": "code",
   "execution_count": 109,
   "id": "e8556ddd-07e9-4772-8f34-6ad415c943fa",
   "metadata": {},
   "outputs": [
    {
     "data": {
      "text/plain": [
       "1"
      ]
     },
     "execution_count": 109,
     "metadata": {},
     "output_type": "execute_result"
    }
   ],
   "source": [
    "tup.count('o')"
   ]
  },
  {
   "cell_type": "code",
   "execution_count": 110,
   "id": "338eb0c1-1668-45a1-9c34-5fc3b6dfb68e",
   "metadata": {},
   "outputs": [],
   "source": [
    "d = {}"
   ]
  },
  {
   "cell_type": "code",
   "execution_count": 111,
   "id": "ab24f9fb-b8fe-4ce3-b334-5cb10df20673",
   "metadata": {},
   "outputs": [
    {
     "data": {
      "text/plain": [
       "dict"
      ]
     },
     "execution_count": 111,
     "metadata": {},
     "output_type": "execute_result"
    }
   ],
   "source": [
    "type(d)"
   ]
  },
  {
   "cell_type": "code",
   "execution_count": 112,
   "id": "ca404d2b-59d2-4b71-83d2-5fcb765e4091",
   "metadata": {},
   "outputs": [
    {
     "name": "stdout",
     "output_type": "stream",
     "text": [
      "{}\n"
     ]
    }
   ],
   "source": [
    "print(d)"
   ]
  },
  {
   "cell_type": "code",
   "execution_count": 113,
   "id": "6d9cb319-4df2-498e-83d9-fe32b3855523",
   "metadata": {},
   "outputs": [],
   "source": [
    "d = {\n",
    "    1 : 'D-A',\n",
    "    2 : 'T-B',\n",
    "    'D-S' : 6,\n",
    "    'e' : 34.9,\n",
    "    'f' : [1, 2, 3, 4],\n",
    "    'g' : ('Tushar', 'GEN-AI'),\n",
    "    'h' : {'AI' : 'ML',\n",
    "          'noida' : '62'}\n",
    "}"
   ]
  },
  {
   "cell_type": "code",
   "execution_count": 114,
   "id": "e3afc5da-62a2-4e57-babb-3c65c2a5d3fd",
   "metadata": {},
   "outputs": [
    {
     "data": {
      "text/plain": [
       "dict"
      ]
     },
     "execution_count": 114,
     "metadata": {},
     "output_type": "execute_result"
    }
   ],
   "source": [
    "type(d)"
   ]
  },
  {
   "cell_type": "code",
   "execution_count": 115,
   "id": "32e4dde2-327b-4586-932f-8d7f3af7abff",
   "metadata": {},
   "outputs": [
    {
     "data": {
      "text/plain": [
       "{1: 'D-A',\n",
       " 2: 'T-B',\n",
       " 'D-S': 6,\n",
       " 'e': 34.9,\n",
       " 'f': [1, 2, 3, 4],\n",
       " 'g': ('Tushar', 'GEN-AI'),\n",
       " 'h': {'AI': 'ML', 'noida': '62'}}"
      ]
     },
     "execution_count": 115,
     "metadata": {},
     "output_type": "execute_result"
    }
   ],
   "source": [
    "d"
   ]
  },
  {
   "cell_type": "code",
   "execution_count": 117,
   "id": "d79128fd-345f-4af8-9489-7e6a067097d3",
   "metadata": {},
   "outputs": [
    {
     "data": {
      "text/plain": [
       "4"
      ]
     },
     "execution_count": 117,
     "metadata": {},
     "output_type": "execute_result"
    }
   ],
   "source": [
    "d['f'][3]"
   ]
  },
  {
   "cell_type": "code",
   "execution_count": 122,
   "id": "f95dcf1e-bee8-4fc0-90e3-20411b4f3590",
   "metadata": {},
   "outputs": [
    {
     "data": {
      "text/plain": [
       "'62'"
      ]
     },
     "execution_count": 122,
     "metadata": {},
     "output_type": "execute_result"
    }
   ],
   "source": [
    "d['h']['noida']"
   ]
  },
  {
   "cell_type": "code",
   "execution_count": 125,
   "id": "c3358a91-769c-45b1-9d1a-3a32be8e318a",
   "metadata": {},
   "outputs": [
    {
     "data": {
      "text/plain": [
       "34.9"
      ]
     },
     "execution_count": 125,
     "metadata": {},
     "output_type": "execute_result"
    }
   ],
   "source": [
    "d['e']"
   ]
  },
  {
   "cell_type": "code",
   "execution_count": 126,
   "id": "a83d75fd-167f-4e8b-95b8-1db202813715",
   "metadata": {},
   "outputs": [
    {
     "data": {
      "text/plain": [
       "{1: 'D-A',\n",
       " 2: 'T-B',\n",
       " 'D-S': 6,\n",
       " 'e': 34.9,\n",
       " 'f': [1, 2, 3, 4],\n",
       " 'g': ('Tushar', 'GEN-AI'),\n",
       " 'h': {'AI': 'ML', 'noida': '62'}}"
      ]
     },
     "execution_count": 126,
     "metadata": {},
     "output_type": "execute_result"
    }
   ],
   "source": [
    "d"
   ]
  },
  {
   "cell_type": "code",
   "execution_count": 127,
   "id": "011b1feb-da27-4edd-8cfa-45c6e18bbdd9",
   "metadata": {},
   "outputs": [
    {
     "data": {
      "text/plain": [
       "dict_keys([1, 2, 'D-S', 'e', 'f', 'g', 'h'])"
      ]
     },
     "execution_count": 127,
     "metadata": {},
     "output_type": "execute_result"
    }
   ],
   "source": [
    "d.keys()"
   ]
  },
  {
   "cell_type": "code",
   "execution_count": 128,
   "id": "5d08b5f5-08b5-49e1-b619-a16bd34182f1",
   "metadata": {},
   "outputs": [
    {
     "data": {
      "text/plain": [
       "dict_values(['D-A', 'T-B', 6, 34.9, [1, 2, 3, 4], ('Tushar', 'GEN-AI'), {'AI': 'ML', 'noida': '62'}])"
      ]
     },
     "execution_count": 128,
     "metadata": {},
     "output_type": "execute_result"
    }
   ],
   "source": [
    "d.values()"
   ]
  },
  {
   "cell_type": "code",
   "execution_count": 129,
   "id": "40490f43-1c6a-4f90-9a0b-57f80b667ff3",
   "metadata": {},
   "outputs": [
    {
     "data": {
      "text/plain": [
       "dict_items([(1, 'D-A'), (2, 'T-B'), ('D-S', 6), ('e', 34.9), ('f', [1, 2, 3, 4]), ('g', ('Tushar', 'GEN-AI')), ('h', {'AI': 'ML', 'noida': '62'})])"
      ]
     },
     "execution_count": 129,
     "metadata": {},
     "output_type": "execute_result"
    }
   ],
   "source": [
    "d.items()"
   ]
  },
  {
   "cell_type": "code",
   "execution_count": 130,
   "id": "afbf37f3-4c97-4735-8fc2-5ad66b9b98b1",
   "metadata": {},
   "outputs": [
    {
     "data": {
      "text/plain": [
       "{'AI': 'ML', 'noida': '62'}"
      ]
     },
     "execution_count": 130,
     "metadata": {},
     "output_type": "execute_result"
    }
   ],
   "source": [
    "d.get('h')"
   ]
  },
  {
   "cell_type": "code",
   "execution_count": 131,
   "id": "9ebbccf0-1cb2-4c1c-a367-be6fdc65b7ea",
   "metadata": {},
   "outputs": [
    {
     "data": {
      "text/plain": [
       "{'AI': 'ML', 'noida': '62'}"
      ]
     },
     "execution_count": 131,
     "metadata": {},
     "output_type": "execute_result"
    }
   ],
   "source": [
    "d['h']"
   ]
  },
  {
   "cell_type": "code",
   "execution_count": null,
   "id": "3a7d2c8f-775e-4856-96ff-fba78cded170",
   "metadata": {},
   "outputs": [],
   "source": []
  }
 ],
 "metadata": {
  "kernelspec": {
   "display_name": "Python 3 (ipykernel)",
   "language": "python",
   "name": "python3"
  },
  "language_info": {
   "codemirror_mode": {
    "name": "ipython",
    "version": 3
   },
   "file_extension": ".py",
   "mimetype": "text/x-python",
   "name": "python",
   "nbconvert_exporter": "python",
   "pygments_lexer": "ipython3",
   "version": "3.12.7"
  }
 },
 "nbformat": 4,
 "nbformat_minor": 5
}
