{
 "cells": [
  {
   "cell_type": "code",
   "execution_count": 1,
   "id": "64daf5c3-b3a7-4d97-bec5-324824cb76d5",
   "metadata": {},
   "outputs": [
    {
     "name": "stdout",
     "output_type": "stream",
     "text": [
      "1 2 3 4 5 6 7 8 9 10 11 12 13 14 15 16 17 18 19 "
     ]
    }
   ],
   "source": [
    "for i in range(1, 20):\n",
    "    print(i, end = ' ')"
   ]
  },
  {
   "cell_type": "code",
   "execution_count": 2,
   "id": "a45911b2-9e2a-4162-8c39-e2192aae9d65",
   "metadata": {},
   "outputs": [
    {
     "name": "stdin",
     "output_type": "stream",
     "text": [
      "enter the starting point =  2\n",
      "enter the ending point =  10\n"
     ]
    },
    {
     "name": "stdout",
     "output_type": "stream",
     "text": [
      "44\n"
     ]
    }
   ],
   "source": [
    "sum_ = 0\n",
    "a = int(input(\"enter the starting point = \"))\n",
    "b = int(input(\"enter the ending point = \"))\n",
    "for i in range(a, b):\n",
    "    sum_ = sum_ + i\n",
    "print(sum_)"
   ]
  },
  {
   "cell_type": "code",
   "execution_count": 3,
   "id": "1e68d933-8cb2-4390-90f8-30989ecf48f6",
   "metadata": {},
   "outputs": [
    {
     "name": "stdin",
     "output_type": "stream",
     "text": [
      "enter the string =  Tusharf\n"
     ]
    },
    {
     "name": "stdout",
     "output_type": "stream",
     "text": [
      "h\n"
     ]
    }
   ],
   "source": [
    "st = input(\"enter the string = \")\n",
    "if len(st)%2 == 0:\n",
    "    print(st[(len(st)//2) - 1 ], st[len(st)//2], sep = '*')\n",
    "else:\n",
    "    print(st[len(st)//2])"
   ]
  },
  {
   "cell_type": "code",
   "execution_count": 4,
   "id": "872bd88a-1173-43ee-a7bc-1b7b7d34eaab",
   "metadata": {},
   "outputs": [
    {
     "name": "stdout",
     "output_type": "stream",
     "text": [
      "47\n"
     ]
    }
   ],
   "source": [
    "l = [2, 7, 5, 6, 9, 8, 10]\n",
    "sum_ = 0\n",
    "for i in l:\n",
    "    sum_ = sum_ + i\n",
    "print(sum_)"
   ]
  },
  {
   "cell_type": "code",
   "execution_count": 5,
   "id": "a91f95c4-1dc9-4d3c-b8bc-cd376ba52918",
   "metadata": {},
   "outputs": [],
   "source": [
    "l1 = [5, 7, 7, 5, 10, 1, 3, 3, 2, 2, 10, 7]"
   ]
  },
  {
   "cell_type": "code",
   "execution_count": 6,
   "id": "89632c8d-f555-4828-8cba-01d03b656341",
   "metadata": {},
   "outputs": [],
   "source": [
    "# s = [5, 7, 10, 1, 3, 2]"
   ]
  },
  {
   "cell_type": "code",
   "execution_count": 7,
   "id": "464605aa-8eaa-4968-a9fe-47f21e520579",
   "metadata": {},
   "outputs": [],
   "source": [
    "l2 = []\n",
    "for num in l1:\n",
    "    if num not in l2:\n",
    "        l2.append(num)"
   ]
  },
  {
   "cell_type": "code",
   "execution_count": 8,
   "id": "28c269de-94ff-46a4-9125-fc8b89d9cc87",
   "metadata": {},
   "outputs": [
    {
     "data": {
      "text/plain": [
       "[5, 7, 10, 1, 3, 2]"
      ]
     },
     "execution_count": 8,
     "metadata": {},
     "output_type": "execute_result"
    }
   ],
   "source": [
    "l2"
   ]
  },
  {
   "cell_type": "code",
   "execution_count": 9,
   "id": "7d3603f5-af2d-43f8-8499-f8d4a2669c35",
   "metadata": {},
   "outputs": [],
   "source": [
    "# Q1.\n",
    "l = [2, 2, 3, 4, 5, 5, 6, 6, 6, 7,8]\n",
    "# find all the unique odd numbers and find all the unique even numbers"
   ]
  },
  {
   "cell_type": "code",
   "execution_count": 10,
   "id": "2c8033e6-bf70-4f78-b40a-f3909670c4bc",
   "metadata": {},
   "outputs": [],
   "source": [
    "even = []\n",
    "odd = []\n",
    "for num in l:\n",
    "    if num%2 == 0:\n",
    "        if num not in even:\n",
    "            even.append(num)\n",
    "    else:\n",
    "        if num not in odd:\n",
    "            odd.append(num)"
   ]
  },
  {
   "cell_type": "code",
   "execution_count": 11,
   "id": "1457b10b-a077-4369-8996-dfb36f0d492d",
   "metadata": {},
   "outputs": [
    {
     "data": {
      "text/plain": [
       "[2, 4, 6, 8]"
      ]
     },
     "execution_count": 11,
     "metadata": {},
     "output_type": "execute_result"
    }
   ],
   "source": [
    "even"
   ]
  },
  {
   "cell_type": "code",
   "execution_count": 12,
   "id": "922180ee-7b62-4230-988b-8b828325a00e",
   "metadata": {},
   "outputs": [
    {
     "data": {
      "text/plain": [
       "[3, 5, 7]"
      ]
     },
     "execution_count": 12,
     "metadata": {},
     "output_type": "execute_result"
    }
   ],
   "source": [
    "odd"
   ]
  },
  {
   "cell_type": "code",
   "execution_count": 13,
   "id": "99c533c8-74a8-4152-8783-8784baab5aeb",
   "metadata": {},
   "outputs": [],
   "source": [
    "# Q1.\n",
    "l = [2, 5, 8, 9, 7]"
   ]
  },
  {
   "cell_type": "code",
   "execution_count": 14,
   "id": "c27f7869-f005-458b-b7ed-19de8be6a8e6",
   "metadata": {},
   "outputs": [],
   "source": [
    "# number = 25897 without using type casting and slicing indexing"
   ]
  },
  {
   "cell_type": "code",
   "execution_count": 15,
   "id": "9408c2fb-1c15-42ae-8a89-33b0ecb309d5",
   "metadata": {},
   "outputs": [
    {
     "data": {
      "text/plain": [
       "25897"
      ]
     },
     "execution_count": 15,
     "metadata": {},
     "output_type": "execute_result"
    }
   ],
   "source": [
    "2*10000 + 5*1000 + 8*100 + 9*10 + 7*1"
   ]
  },
  {
   "cell_type": "code",
   "execution_count": 16,
   "id": "d0bf0178-b2fc-47ec-a638-c965dee2029d",
   "metadata": {},
   "outputs": [
    {
     "data": {
      "text/plain": [
       "25897"
      ]
     },
     "execution_count": 16,
     "metadata": {},
     "output_type": "execute_result"
    }
   ],
   "source": [
    "2*10000 + 5*(10000//10) + 8*(10000//10)//10 + 9*((10000//10)//10)//10 + 7*1"
   ]
  },
  {
   "cell_type": "code",
   "execution_count": 17,
   "id": "82b41b63-065f-49bf-b312-eea5233640bf",
   "metadata": {},
   "outputs": [
    {
     "data": {
      "text/plain": [
       "1"
      ]
     },
     "execution_count": 17,
     "metadata": {},
     "output_type": "execute_result"
    }
   ],
   "source": [
    "(((10000//10)//10)//10)//10"
   ]
  },
  {
   "cell_type": "code",
   "execution_count": 24,
   "id": "5edb63cc-13e1-404d-a122-b0a7fc969550",
   "metadata": {},
   "outputs": [
    {
     "name": "stdout",
     "output_type": "stream",
     "text": [
      "5\n"
     ]
    }
   ],
   "source": [
    "print(len(l))\n",
    "num = 10000\n",
    "number = 0\n",
    "for i in l:\n",
    "    number = number + i*num\n",
    "    num = num//10"
   ]
  },
  {
   "cell_type": "code",
   "execution_count": 23,
   "id": "22ec336a-7d8c-4f9c-bea0-d1519e77c8e2",
   "metadata": {},
   "outputs": [
    {
     "data": {
      "text/plain": [
       "25897"
      ]
     },
     "execution_count": 23,
     "metadata": {},
     "output_type": "execute_result"
    }
   ],
   "source": [
    "number"
   ]
  },
  {
   "cell_type": "code",
   "execution_count": null,
   "id": "d43c5617-9740-482d-bcf6-3531008f0109",
   "metadata": {},
   "outputs": [],
   "source": []
  }
 ],
 "metadata": {
  "kernelspec": {
   "display_name": "Python 3 (ipykernel)",
   "language": "python",
   "name": "python3"
  },
  "language_info": {
   "codemirror_mode": {
    "name": "ipython",
    "version": 3
   },
   "file_extension": ".py",
   "mimetype": "text/x-python",
   "name": "python",
   "nbconvert_exporter": "python",
   "pygments_lexer": "ipython3",
   "version": "3.12.7"
  }
 },
 "nbformat": 4,
 "nbformat_minor": 5
}
