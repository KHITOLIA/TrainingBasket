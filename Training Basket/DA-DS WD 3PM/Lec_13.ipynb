{
 "cells": [
  {
   "cell_type": "code",
   "execution_count": 1,
   "id": "4cf4569f-b131-496b-bcdd-e257a10e5dfc",
   "metadata": {},
   "outputs": [],
   "source": [
    "st = \"programming is awesome\"\n",
    "# awesome is programming"
   ]
  },
  {
   "cell_type": "code",
   "execution_count": 2,
   "id": "1d2d6181-3ac0-4c25-8b72-c109d0904320",
   "metadata": {},
   "outputs": [],
   "source": [
    "s = st.split()"
   ]
  },
  {
   "cell_type": "code",
   "execution_count": 3,
   "id": "10320731-7fb8-46ee-8cee-31c1f3e26a6f",
   "metadata": {},
   "outputs": [
    {
     "data": {
      "text/plain": [
       "['programming', 'is', 'awesome']"
      ]
     },
     "execution_count": 3,
     "metadata": {},
     "output_type": "execute_result"
    }
   ],
   "source": [
    "s"
   ]
  },
  {
   "cell_type": "code",
   "execution_count": 5,
   "id": "5c1e0f34-c669-4bd9-be3f-6db368fe8d4b",
   "metadata": {},
   "outputs": [],
   "source": [
    "a = ''\n",
    "for i in s:\n",
    "    a = i + \" \" + a"
   ]
  },
  {
   "cell_type": "code",
   "execution_count": 6,
   "id": "60f9b8e0-0e8b-42a1-96f7-b75e07c25298",
   "metadata": {},
   "outputs": [
    {
     "data": {
      "text/plain": [
       "'awesome is programming '"
      ]
     },
     "execution_count": 6,
     "metadata": {},
     "output_type": "execute_result"
    }
   ],
   "source": [
    "a"
   ]
  },
  {
   "cell_type": "code",
   "execution_count": 22,
   "id": "52e0c122-0c9e-488b-be3f-60195c37f152",
   "metadata": {},
   "outputs": [
    {
     "name": "stdout",
     "output_type": "stream",
     "text": [
      "AA CA AD "
     ]
    }
   ],
   "source": [
    "st = 'AABCAAADA'\n",
    "idx = 0\n",
    "n = 3\n",
    "for _ in range(0, 3):\n",
    "    print(st[idx : n][:2], end = ' ')\n",
    "    idx = n\n",
    "    n = n + 3"
   ]
  },
  {
   "cell_type": "code",
   "execution_count": 14,
   "id": "a894bc7d-8417-4fa6-a906-d36317922926",
   "metadata": {},
   "outputs": [
    {
     "name": "stdout",
     "output_type": "stream",
     "text": [
      "AA CA AD "
     ]
    }
   ],
   "source": [
    "l = int(len(st)/3)\n",
    "idx = 0\n",
    "n = 3\n",
    "while l > 0:\n",
    "    print(st[idx : n][:2], end = ' ')\n",
    "    idx = n\n",
    "    n = n + 3\n",
    "    l = l-1"
   ]
  },
  {
   "cell_type": "code",
   "execution_count": 23,
   "id": "245c9c00-a4d7-4e87-8e3c-7622e8a333bf",
   "metadata": {},
   "outputs": [
    {
     "name": "stdout",
     "output_type": "stream",
     "text": [
      "0 : 3\n",
      "1 : 3\n",
      "2 : 2\n",
      "3 : 2\n",
      "4 : 3\n",
      "5 : 1\n",
      "6 : 0\n",
      "7 : 2\n",
      "8 : 0\n",
      "9 : 0\n"
     ]
    }
   ],
   "source": [
    "n = 2757311000321444\n",
    "\n",
    "s = str(n)\n",
    "\n",
    "freq = {}\n",
    "\n",
    "for i in s:\n",
    "\n",
    "    if i in freq:\n",
    "\n",
    "        freq[i] += 1\n",
    "\n",
    "    else:\n",
    "\n",
    "        freq[i] = 1\n",
    "\n",
    "for i in range(10):\n",
    "\n",
    "    d = str(i)\n",
    "\n",
    "    print(d, \":\", freq.get(d, 0))"
   ]
  },
  {
   "cell_type": "code",
   "execution_count": 32,
   "id": "f0d8fa0a-e73f-497f-8a88-5e9380b50685",
   "metadata": {},
   "outputs": [
    {
     "name": "stdout",
     "output_type": "stream",
     "text": [
      "count of 2 is 2\n",
      "count of 7 is 2\n",
      "count of 5 is 1\n",
      "count of 3 is 2\n",
      "count of 1 is 3\n",
      "count of 0 is 3\n",
      "count of 4 is 3\n"
     ]
    }
   ],
   "source": [
    "n = 2757311000321444\n",
    "a = []\n",
    "n1 = str(n)\n",
    "for i in str(n):\n",
    "    if i not in a:\n",
    "        a.append(i)\n",
    "        print(f'count of {i} is {n1.count(i)}')"
   ]
  },
  {
   "cell_type": "code",
   "execution_count": 34,
   "id": "60905cc8-d8ec-4861-93df-208dcf9c1f52",
   "metadata": {},
   "outputs": [
    {
     "data": {
      "text/plain": [
       "True"
      ]
     },
     "execution_count": 34,
     "metadata": {},
     "output_type": "execute_result"
    }
   ],
   "source": [
    "n1.isdigit()"
   ]
  },
  {
   "cell_type": "code",
   "execution_count": 28,
   "id": "be985d48-00da-4c24-87a8-a90dcbc5e7eb",
   "metadata": {},
   "outputs": [
    {
     "data": {
      "text/plain": [
       "['0', '1', '2', '3', '4', '5', '7']"
      ]
     },
     "execution_count": 28,
     "metadata": {},
     "output_type": "execute_result"
    }
   ],
   "source": [
    "a"
   ]
  },
  {
   "cell_type": "code",
   "execution_count": 41,
   "id": "7e5ab9df-f963-4133-a92e-c201a218bf3a",
   "metadata": {},
   "outputs": [],
   "source": [
    "sum_ = 0\n",
    "for i in range(1, 11):\n",
    "    sum_ += i"
   ]
  },
  {
   "cell_type": "code",
   "execution_count": 42,
   "id": "a53609e0-db02-4462-a60a-03e6f394c050",
   "metadata": {},
   "outputs": [
    {
     "data": {
      "text/plain": [
       "55"
      ]
     },
     "execution_count": 42,
     "metadata": {},
     "output_type": "execute_result"
    }
   ],
   "source": [
    "sum_"
   ]
  },
  {
   "cell_type": "code",
   "execution_count": 43,
   "id": "418dda44-94a1-4dcd-8232-0a754ed1bb95",
   "metadata": {},
   "outputs": [],
   "source": [
    "n = 5\n",
    "x = 1\n",
    "for i in range(0, n):\n",
    "    x = x*(i+1)\n",
    "    "
   ]
  },
  {
   "cell_type": "code",
   "execution_count": 44,
   "id": "a38a0fbf-7c89-49ea-b90e-2d590ddbc856",
   "metadata": {},
   "outputs": [
    {
     "data": {
      "text/plain": [
       "120"
      ]
     },
     "execution_count": 44,
     "metadata": {},
     "output_type": "execute_result"
    }
   ],
   "source": [
    "x"
   ]
  },
  {
   "cell_type": "code",
   "execution_count": 45,
   "id": "a6df8c71-bd9e-43c0-a1fc-5160b0d12ce1",
   "metadata": {},
   "outputs": [],
   "source": [
    "n = 23"
   ]
  },
  {
   "cell_type": "code",
   "execution_count": 46,
   "id": "c36cff27-5821-4ef3-892c-c04575effb3c",
   "metadata": {},
   "outputs": [],
   "source": [
    "# you have to find the factors of any input number"
   ]
  },
  {
   "cell_type": "code",
   "execution_count": 47,
   "id": "4e99b574-1ec2-4197-8e8b-02c96d6a6fff",
   "metadata": {},
   "outputs": [
    {
     "name": "stdin",
     "output_type": "stream",
     "text": [
      "enter the number 10\n"
     ]
    }
   ],
   "source": [
    "num = int(input(\"enter the number\"))"
   ]
  },
  {
   "cell_type": "code",
   "execution_count": 48,
   "id": "1cdfb343-eda8-422d-8106-ce0ec422f518",
   "metadata": {},
   "outputs": [
    {
     "data": {
      "text/plain": [
       "10"
      ]
     },
     "execution_count": 48,
     "metadata": {},
     "output_type": "execute_result"
    }
   ],
   "source": [
    "num"
   ]
  },
  {
   "cell_type": "code",
   "execution_count": 49,
   "id": "0923fe92-5b77-494c-a82d-e836a906992d",
   "metadata": {},
   "outputs": [
    {
     "name": "stdout",
     "output_type": "stream",
     "text": [
      "Factor of 10 is 1 \n",
      "Factor of 10 is 2 \n",
      "Factor of 10 is 5 \n",
      "Factor of 10 is 10 \n"
     ]
    }
   ],
   "source": [
    "for i in range(1, num + 1):\n",
    "    if num%i == 0:\n",
    "        print(f\"Factor of {num} is {i} \")\n",
    "        "
   ]
  },
  {
   "cell_type": "code",
   "execution_count": 58,
   "id": "9025dc52-b67f-48cf-b9cc-f8cdd95869ea",
   "metadata": {},
   "outputs": [
    {
     "name": "stdout",
     "output_type": "stream",
     "text": [
      "23 is a prime number\n"
     ]
    }
   ],
   "source": [
    "# number prime factor \n",
    "num = 23\n",
    "factor = 0\n",
    "for i in range(1, num+1):\n",
    "    if num%i == 0:\n",
    "        factor = factor + 1\n",
    "if factor == 2:\n",
    "    print(f\"{num} is a prime number\")\n",
    "else:\n",
    "    print(f\"{num} is not a prime number\")"
   ]
  },
  {
   "cell_type": "code",
   "execution_count": 59,
   "id": "e7f1a6ac-77d8-43a5-aa0b-becf05ddb096",
   "metadata": {},
   "outputs": [
    {
     "data": {
      "text/plain": [
       "2"
      ]
     },
     "execution_count": 59,
     "metadata": {},
     "output_type": "execute_result"
    }
   ],
   "source": [
    "factor"
   ]
  },
  {
   "cell_type": "code",
   "execution_count": null,
   "id": "ae7ee968-62e0-45ae-858a-0db3d0a2e05e",
   "metadata": {},
   "outputs": [],
   "source": []
  }
 ],
 "metadata": {
  "kernelspec": {
   "display_name": "Python 3 (ipykernel)",
   "language": "python",
   "name": "python3"
  },
  "language_info": {
   "codemirror_mode": {
    "name": "ipython",
    "version": 3
   },
   "file_extension": ".py",
   "mimetype": "text/x-python",
   "name": "python",
   "nbconvert_exporter": "python",
   "pygments_lexer": "ipython3",
   "version": "3.12.7"
  }
 },
 "nbformat": 4,
 "nbformat_minor": 5
}
