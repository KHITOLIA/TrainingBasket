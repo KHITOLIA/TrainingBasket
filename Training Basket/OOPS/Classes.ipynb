{
 "cells": [
  {
   "cell_type": "code",
   "execution_count": 1,
   "id": "2a74e3b0-03d8-4e0d-a3e5-7740688166f4",
   "metadata": {},
   "outputs": [],
   "source": [
    "class Person:\n",
    "\n",
    "    # dunder method\n",
    "    def __init__(self, name, age, course):\n",
    "        self.name = name\n",
    "        self.age = age\n",
    "        self.course = course\n",
    "        "
   ]
  },
  {
   "cell_type": "code",
   "execution_count": 2,
   "id": "b352a3b0-abac-49a9-957c-ba73de52df1a",
   "metadata": {},
   "outputs": [],
   "source": [
    "p1 = Person('Tushar', 24, 'AI/ML')\n",
    "p2 = Person('Jaspreet', 21, 'Cloud Computing')"
   ]
  },
  {
   "cell_type": "code",
   "execution_count": 6,
   "id": "adb80a76-8a61-43b6-9455-19e0d9bf1c3a",
   "metadata": {},
   "outputs": [
    {
     "data": {
      "text/plain": [
       "21"
      ]
     },
     "execution_count": 6,
     "metadata": {},
     "output_type": "execute_result"
    }
   ],
   "source": [
    "p1.age # age of Tushar p1 is an object of class Person and self represent the object\n",
    "p2.age # age of jaspreet"
   ]
  },
  {
   "cell_type": "code",
   "execution_count": 7,
   "id": "00e243a2-be8f-4533-95e2-d053f3c0a863",
   "metadata": {},
   "outputs": [],
   "source": [
    "class Laptop:\n",
    "    def __init__(self, brand, model, price, ram):\n",
    "        self.brand = brand\n",
    "        self.model = model\n",
    "        self.price = price\n",
    "        self.ram = ram"
   ]
  },
  {
   "cell_type": "code",
   "execution_count": 8,
   "id": "ba9950e9-8739-4a75-8919-d6745f3310c1",
   "metadata": {},
   "outputs": [],
   "source": [
    "l1 = Laptop('HP', 'pavallion', 80000, '16gb')\n",
    "l2 = Laptop('Apple', 'M4', 155000, '24gb')"
   ]
  },
  {
   "cell_type": "code",
   "execution_count": 9,
   "id": "07486835-3f7c-4e44-9212-8e313a4e3a6e",
   "metadata": {},
   "outputs": [
    {
     "data": {
      "text/plain": [
       "'HP'"
      ]
     },
     "execution_count": 9,
     "metadata": {},
     "output_type": "execute_result"
    }
   ],
   "source": [
    "l1.brand"
   ]
  },
  {
   "cell_type": "code",
   "execution_count": 10,
   "id": "8b0908ef-e292-4a84-a48a-19be7c9b4585",
   "metadata": {},
   "outputs": [],
   "source": [
    "class Phone:\n",
    "    brand = 'Apple'\n",
    "    model = 'Iphone 16 pro max'\n",
    "    "
   ]
  },
  {
   "cell_type": "code",
   "execution_count": 15,
   "id": "de3f57cc-a321-4cb0-b835-d4595cde97d6",
   "metadata": {},
   "outputs": [],
   "source": [
    "l = Phone()"
   ]
  },
  {
   "cell_type": "code",
   "execution_count": 14,
   "id": "7870a363-549f-4c47-9567-08c122a4926b",
   "metadata": {},
   "outputs": [
    {
     "data": {
      "text/plain": [
       "'Apple'"
      ]
     },
     "execution_count": 14,
     "metadata": {},
     "output_type": "execute_result"
    }
   ],
   "source": [
    "l.brand"
   ]
  },
  {
   "cell_type": "code",
   "execution_count": 29,
   "id": "f0ed6a55-f6af-4e57-954d-8b60c00a4384",
   "metadata": {},
   "outputs": [],
   "source": [
    "class Person:\n",
    "    # dunder methods\n",
    "    def __init__(self, name, course, price):\n",
    "        # Instance variables\n",
    "        self.name = name\n",
    "        self.course = course\n",
    "        self.price = price\n",
    "\n",
    "    # instance methods\n",
    "    def full_info(self):  # this self will tell you ki konse object par konsa function lagana hai \n",
    "        return f\"{self.name} and {self.course} {self.price}\""
   ]
  },
  {
   "cell_type": "code",
   "execution_count": 30,
   "id": "97c31aba-0820-44ca-b222-0b4a9ce69f06",
   "metadata": {},
   "outputs": [],
   "source": [
    "p1 = Person('Tushar', 'AI/ML', 35000)\n",
    "p2 = Person('Jaspreet','Cloud Computing', 30000)"
   ]
  },
  {
   "cell_type": "code",
   "execution_count": 31,
   "id": "f7ee6709-e119-41f6-8ada-23ebb59b77df",
   "metadata": {},
   "outputs": [
    {
     "name": "stdout",
     "output_type": "stream",
     "text": [
      "Tushar and AI/ML 35000\n"
     ]
    }
   ],
   "source": [
    "print(p1.full_info())"
   ]
  },
  {
   "cell_type": "code",
   "execution_count": 107,
   "id": "7f707918-0158-4cee-85d0-2904a52e8f6c",
   "metadata": {},
   "outputs": [],
   "source": [
    "class Laptop:\n",
    "    def __init__(self, brand, model, price, processor):\n",
    "        self.brand = brand\n",
    "        self.model = model\n",
    "        self.price = price\n",
    "        self.processor = processor\n",
    "\n",
    "    def full_info(self):\n",
    "        print(f\"Brand : {self.brand} \\nModel : {self.model} \\nProcessor : {self.processor} \\nPrice : {self.price}/-\")\n",
    "        # return f\"brand : {self.brand} model : {self.model} \\nprocessor : {self.processor} \\nprice : {self.price}\"\n",
    "\n",
    "    def discount(self):\n",
    "        if self.price > 0 and self.price < 40000:\n",
    "            return self.price - (5/100)*self.price\n",
    "            \n",
    "        elif self.price > 40000 and self.price <= 80000:\n",
    "            return self.price - (15/100)*self.price\n",
    "\n",
    "        elif self.price > 80000:\n",
    "            return self.price - (30/100)*self.price"
   ]
  },
  {
   "cell_type": "code",
   "execution_count": 108,
   "id": "906fb1c7-875c-4acb-8244-3345b74cfee8",
   "metadata": {},
   "outputs": [],
   "source": [
    "l1 = Laptop('HP', 'pavallion', 85000, 'i7')"
   ]
  },
  {
   "cell_type": "code",
   "execution_count": 109,
   "id": "a90322b9-073a-4a24-9571-b14728945486",
   "metadata": {},
   "outputs": [
    {
     "name": "stdout",
     "output_type": "stream",
     "text": [
      "Brand : HP \n",
      "Model : pavallion \n",
      "Processor : i7 \n",
      "Price : 85000/-\n"
     ]
    }
   ],
   "source": [
    "l1.full_info()"
   ]
  },
  {
   "cell_type": "code",
   "execution_count": 110,
   "id": "ad24742c-dc75-42bc-8b1f-eb0e9a25e958",
   "metadata": {},
   "outputs": [],
   "source": [
    "l1 = Laptop('MSI', 'katana', 155000, 'i9')"
   ]
  },
  {
   "cell_type": "code",
   "execution_count": 111,
   "id": "182ac56f-f314-4a5b-89c6-96ce30f7b782",
   "metadata": {},
   "outputs": [
    {
     "name": "stdout",
     "output_type": "stream",
     "text": [
      "Brand : MSI \n",
      "Model : katana \n",
      "Processor : i9 \n",
      "Price : 1550000/-\n"
     ]
    }
   ],
   "source": [
    "l2.full_info()"
   ]
  },
  {
   "cell_type": "code",
   "execution_count": 112,
   "id": "e0f76b52-78ac-4e96-92aa-c5362d295b23",
   "metadata": {},
   "outputs": [
    {
     "name": "stdout",
     "output_type": "stream",
     "text": [
      "108500.0\n"
     ]
    }
   ],
   "source": [
    "print(l1.discount())"
   ]
  },
  {
   "cell_type": "code",
   "execution_count": 113,
   "id": "3a4c7983-b909-4f45-bdb3-16105d50e069",
   "metadata": {},
   "outputs": [
    {
     "data": {
      "text/plain": [
       "1085000.0"
      ]
     },
     "execution_count": 113,
     "metadata": {},
     "output_type": "execute_result"
    }
   ],
   "source": [
    "l2.discount()"
   ]
  },
  {
   "cell_type": "code",
   "execution_count": 130,
   "id": "ddaa92e9-15e9-4449-974e-e772edfd0c5d",
   "metadata": {},
   "outputs": [],
   "source": [
    "class Cirle:\n",
    "    # class variable\n",
    "    pi = 3.14\n",
    "    def __init__(self, radius):\n",
    "        self.radius = radius\n",
    "    def area(self):\n",
    "        return f'Area : {self.pi*(self.radius)**2}'\n",
    "\n",
    "    def perimeter(self):\n",
    "        return f'Perimeter : {2*self.pi*self.radius}'"
   ]
  },
  {
   "cell_type": "code",
   "execution_count": 131,
   "id": "7eccd46f-4346-4597-b139-73f19ba34a27",
   "metadata": {},
   "outputs": [],
   "source": [
    "c1 = Cirle(20)\n",
    "c2 = Cirle(10)"
   ]
  },
  {
   "cell_type": "code",
   "execution_count": 132,
   "id": "0bfa8ada-0081-4ec7-8526-fc4abb822e18",
   "metadata": {},
   "outputs": [
    {
     "data": {
      "text/plain": [
       "'Area : 1256.0'"
      ]
     },
     "execution_count": 132,
     "metadata": {},
     "output_type": "execute_result"
    }
   ],
   "source": [
    "c1.area()"
   ]
  },
  {
   "cell_type": "code",
   "execution_count": 133,
   "id": "42a9aaf4-618e-45d1-a8c8-31155a10dc20",
   "metadata": {},
   "outputs": [
    {
     "data": {
      "text/plain": [
       "'Area : 314.0'"
      ]
     },
     "execution_count": 133,
     "metadata": {},
     "output_type": "execute_result"
    }
   ],
   "source": [
    "c2.area()"
   ]
  },
  {
   "cell_type": "code",
   "execution_count": 136,
   "id": "d3ab0f7b-a4a5-493f-8bc8-17dc7d178ad0",
   "metadata": {},
   "outputs": [
    {
     "data": {
      "text/plain": [
       "'Perimeter : 125.60000000000001'"
      ]
     },
     "execution_count": 136,
     "metadata": {},
     "output_type": "execute_result"
    }
   ],
   "source": [
    "c1.perimeter()"
   ]
  },
  {
   "cell_type": "code",
   "execution_count": 181,
   "id": "fa18bbb8-69e7-4be5-9093-0908237e5cdd",
   "metadata": {},
   "outputs": [],
   "source": [
    "class Laptop:\n",
    "    # Class Variable\n",
    "    count_instance = 0\n",
    "    def __init__(self, brand, model, price, processor):\n",
    "        self.brand = brand\n",
    "        self.model = model\n",
    "        self.price = price\n",
    "        self.processor = processor\n",
    "        Laptop.count_instance += 1\n",
    "\n",
    "    def full_info(self):\n",
    "        print(f\"Brand : {self.brand} \\nModel : {self.model} \\nProcessor : {self.processor} \\nPrice : {self.price}/-\")\n",
    "        # return f\"brand : {self.brand} model : {self.model} \\nprocessor : {self.processor} \\nprice : {self.price}\"\n",
    "\n",
    "    def discount(self):\n",
    "        if self.price > 0 and self.price < 40000:\n",
    "            return self.price - (5/100)*self.price\n",
    "            \n",
    "        elif self.price > 40000 and self.price <= 80000:\n",
    "            return self.price - (15/100)*self.price\n",
    "\n",
    "        elif self.price > 80000:\n",
    "            return self.price - (30/100)*self.price\n",
    "    \n",
    "    @classmethod\n",
    "    def count(cls):\n",
    "        return f\"You have created {Laptop.count_instance} objects\"\n",
    "\n",
    "    @classmethod\n",
    "    def string(cls, text):\n",
    "        a,b,c,d = text.split(',')\n",
    "        return cls(a,b,c,d)"
   ]
  },
  {
   "cell_type": "code",
   "execution_count": 182,
   "id": "6ff9e0fb-7c62-4a96-b2c4-a953f961e0ce",
   "metadata": {},
   "outputs": [],
   "source": [
    "l1 = Laptop('HP', 'pavallion', 85000, 'i7')\n",
    "l2 = Laptop('dell','x11', 40000, 'i5')\n",
    "l3 = Laptop('dell','x22', 70000, 'i3')"
   ]
  },
  {
   "cell_type": "code",
   "execution_count": 183,
   "id": "039ebd9c-bda9-4762-ae87-e9f70ace6243",
   "metadata": {},
   "outputs": [
    {
     "name": "stdout",
     "output_type": "stream",
     "text": [
      "You have created 3 objects\n"
     ]
    }
   ],
   "source": [
    "print(Laptop.count())"
   ]
  },
  {
   "cell_type": "code",
   "execution_count": 190,
   "id": "a89dfb1d-ab11-4f5a-9f78-d7a5746f6beb",
   "metadata": {},
   "outputs": [],
   "source": [
    "# Simple Inheritance\n",
    "class Phone:\n",
    "    def __init__(self, brand, model, price):\n",
    "        self.brand = brand\n",
    "        self.model = model\n",
    "        self.price = price\n",
    "\n",
    "    def full_info(self):\n",
    "        print(f\"Brand : {self.brand} \\nModel : {self.model} \\nPrice : {self.price}/-\")\n",
    "\n",
    "    def discount(self):\n",
    "        if int(self.price) > 0 and int(self.price) <= 40000:\n",
    "            return self.price - (5/100)*self.price\n",
    "            \n",
    "        elif int(self.price) > 40000 and int(self.price) <= 80000:\n",
    "            return self.price - (15/100)*self.price\n",
    "\n",
    "        elif int(self.price) > 80000:\n",
    "            return self.price - (30/100)*self.price\n",
    "class Smartphone(Phone):  # right now everything has been inherited except instance variables \n",
    "    def __init__(self, brand, model, price, processor, ram):\n",
    "        super().__init__(brand, model, price)\n",
    "        self.processor = processor\n",
    "        self.ram = ram\n",
    "\n",
    "    def color(self, color): #nomral parameter\n",
    "        return f'{color} color is available'\n",
    "\n",
    "    "
   ]
  },
  {
   "cell_type": "code",
   "execution_count": 191,
   "id": "59cd7374-5b1d-4e4e-bbb9-28883f1f00e0",
   "metadata": {},
   "outputs": [],
   "source": [
    "s1 = Smartphone('one plus', 'nord 5g',30000, 'andriod 12', '8gb')\n",
    "s2 = Smartphone('apple','iphone14', 70000, 'ios', '6gb')"
   ]
  },
  {
   "cell_type": "code",
   "execution_count": 192,
   "id": "548f8cd4-2572-4c9d-8372-d16c9964dc80",
   "metadata": {},
   "outputs": [
    {
     "data": {
      "text/plain": [
       "28500.0"
      ]
     },
     "execution_count": 192,
     "metadata": {},
     "output_type": "execute_result"
    }
   ],
   "source": [
    "s1.discount()"
   ]
  },
  {
   "cell_type": "code",
   "execution_count": 194,
   "id": "68ea4f34-2c00-4ada-bf15-5f3b701285cb",
   "metadata": {},
   "outputs": [
    {
     "data": {
      "text/plain": [
       "'Blue color is available'"
      ]
     },
     "execution_count": 194,
     "metadata": {},
     "output_type": "execute_result"
    }
   ],
   "source": [
    "s1.color('Blue')"
   ]
  },
  {
   "cell_type": "code",
   "execution_count": null,
   "id": "bee9335f-5870-41fb-9ccb-558103e5b198",
   "metadata": {},
   "outputs": [],
   "source": [
    "\n"
   ]
  }
 ],
 "metadata": {
  "kernelspec": {
   "display_name": "Python 3 (ipykernel)",
   "language": "python",
   "name": "python3"
  },
  "language_info": {
   "codemirror_mode": {
    "name": "ipython",
    "version": 3
   },
   "file_extension": ".py",
   "mimetype": "text/x-python",
   "name": "python",
   "nbconvert_exporter": "python",
   "pygments_lexer": "ipython3",
   "version": "3.12.7"
  }
 },
 "nbformat": 4,
 "nbformat_minor": 5
}
