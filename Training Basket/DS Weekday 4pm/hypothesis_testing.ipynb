{
 "cells": [
  {
   "cell_type": "code",
   "execution_count": 44,
   "id": "f47d6976-e6a9-4b34-b4ee-5deb5132175a",
   "metadata": {},
   "outputs": [],
   "source": [
    "import pandas as pd\n",
    "import matplotlib.pyplot as plt\n",
    "import numpy as np\n",
    "from sklearn.datasets import load_iris"
   ]
  },
  {
   "cell_type": "markdown",
   "id": "cb455562-48b2-4981-b3e7-eaeccabce238",
   "metadata": {},
   "source": [
    "# single sample t test"
   ]
  },
  {
   "cell_type": "code",
   "execution_count": 2,
   "id": "b4b90a2f-1ea7-4bac-8f00-88ca063913e2",
   "metadata": {},
   "outputs": [],
   "source": [
    "df = load_iris()"
   ]
  },
  {
   "cell_type": "code",
   "execution_count": 5,
   "id": "2ed43bb5-ba7e-4e56-848b-1e89f214a93f",
   "metadata": {},
   "outputs": [],
   "source": [
    "x = pd.DataFrame(df.data, columns = df.feature_names)"
   ]
  },
  {
   "cell_type": "code",
   "execution_count": 6,
   "id": "a6fa2942-e419-4e68-912e-85e40ec7e2b0",
   "metadata": {},
   "outputs": [
    {
     "data": {
      "text/html": [
       "<div>\n",
       "<style scoped>\n",
       "    .dataframe tbody tr th:only-of-type {\n",
       "        vertical-align: middle;\n",
       "    }\n",
       "\n",
       "    .dataframe tbody tr th {\n",
       "        vertical-align: top;\n",
       "    }\n",
       "\n",
       "    .dataframe thead th {\n",
       "        text-align: right;\n",
       "    }\n",
       "</style>\n",
       "<table border=\"1\" class=\"dataframe\">\n",
       "  <thead>\n",
       "    <tr style=\"text-align: right;\">\n",
       "      <th></th>\n",
       "      <th>sepal length (cm)</th>\n",
       "      <th>sepal width (cm)</th>\n",
       "      <th>petal length (cm)</th>\n",
       "      <th>petal width (cm)</th>\n",
       "    </tr>\n",
       "  </thead>\n",
       "  <tbody>\n",
       "    <tr>\n",
       "      <th>0</th>\n",
       "      <td>5.1</td>\n",
       "      <td>3.5</td>\n",
       "      <td>1.4</td>\n",
       "      <td>0.2</td>\n",
       "    </tr>\n",
       "    <tr>\n",
       "      <th>1</th>\n",
       "      <td>4.9</td>\n",
       "      <td>3.0</td>\n",
       "      <td>1.4</td>\n",
       "      <td>0.2</td>\n",
       "    </tr>\n",
       "    <tr>\n",
       "      <th>2</th>\n",
       "      <td>4.7</td>\n",
       "      <td>3.2</td>\n",
       "      <td>1.3</td>\n",
       "      <td>0.2</td>\n",
       "    </tr>\n",
       "    <tr>\n",
       "      <th>3</th>\n",
       "      <td>4.6</td>\n",
       "      <td>3.1</td>\n",
       "      <td>1.5</td>\n",
       "      <td>0.2</td>\n",
       "    </tr>\n",
       "    <tr>\n",
       "      <th>4</th>\n",
       "      <td>5.0</td>\n",
       "      <td>3.6</td>\n",
       "      <td>1.4</td>\n",
       "      <td>0.2</td>\n",
       "    </tr>\n",
       "  </tbody>\n",
       "</table>\n",
       "</div>"
      ],
      "text/plain": [
       "   sepal length (cm)  sepal width (cm)  petal length (cm)  petal width (cm)\n",
       "0                5.1               3.5                1.4               0.2\n",
       "1                4.9               3.0                1.4               0.2\n",
       "2                4.7               3.2                1.3               0.2\n",
       "3                4.6               3.1                1.5               0.2\n",
       "4                5.0               3.6                1.4               0.2"
      ]
     },
     "execution_count": 6,
     "metadata": {},
     "output_type": "execute_result"
    }
   ],
   "source": [
    "x.head()"
   ]
  },
  {
   "cell_type": "code",
   "execution_count": 7,
   "id": "7c928846-053f-4399-b34e-66b1e271adf2",
   "metadata": {},
   "outputs": [],
   "source": [
    "pop = x['sepal length (cm)']"
   ]
  },
  {
   "cell_type": "code",
   "execution_count": 8,
   "id": "ffe9147e-025d-480d-a23e-3ee85f66c85b",
   "metadata": {},
   "outputs": [
    {
     "data": {
      "text/plain": [
       "0      5.1\n",
       "1      4.9\n",
       "2      4.7\n",
       "3      4.6\n",
       "4      5.0\n",
       "      ... \n",
       "145    6.7\n",
       "146    6.3\n",
       "147    6.5\n",
       "148    6.2\n",
       "149    5.9\n",
       "Name: sepal length (cm), Length: 150, dtype: float64"
      ]
     },
     "execution_count": 8,
     "metadata": {},
     "output_type": "execute_result"
    }
   ],
   "source": [
    "pop"
   ]
  },
  {
   "cell_type": "code",
   "execution_count": 9,
   "id": "21a9f965-5e4e-458f-9da4-d822ba4e02ed",
   "metadata": {},
   "outputs": [
    {
     "data": {
      "text/plain": [
       "5.843333333333334"
      ]
     },
     "execution_count": 9,
     "metadata": {},
     "output_type": "execute_result"
    }
   ],
   "source": [
    "pop.mean()"
   ]
  },
  {
   "cell_type": "code",
   "execution_count": 10,
   "id": "376cd450-65a7-4332-95fd-18fcbb430a00",
   "metadata": {},
   "outputs": [],
   "source": [
    "# H0 : mean of sepal lenght is 5\n",
    "# H1 : mean of sepal length is greater than 5"
   ]
  },
  {
   "cell_type": "code",
   "execution_count": 32,
   "id": "2a7d7937-aabc-4105-bb9c-59a7a6c9ac9f",
   "metadata": {},
   "outputs": [],
   "source": [
    "sample = pop.sample(25)"
   ]
  },
  {
   "cell_type": "code",
   "execution_count": 33,
   "id": "4cd2a00d-c674-4555-be00-f585923df5aa",
   "metadata": {},
   "outputs": [],
   "source": [
    "sample = sample.values"
   ]
  },
  {
   "cell_type": "code",
   "execution_count": 34,
   "id": "824e6cfc-80d5-4728-b482-dcf3ae487a55",
   "metadata": {},
   "outputs": [
    {
     "data": {
      "text/plain": [
       "array([6.1, 7. , 5. , 4.4, 6.6, 5. , 5.6, 5.8, 5.3, 4.6, 6.1, 6. , 5.8,\n",
       "       5. , 6.2, 5.1, 6. , 5.4, 6.3, 6.7, 6.1, 4.8, 6.7, 6.9, 5.9])"
      ]
     },
     "execution_count": 34,
     "metadata": {},
     "output_type": "execute_result"
    }
   ],
   "source": [
    "sample"
   ]
  },
  {
   "cell_type": "code",
   "execution_count": 35,
   "id": "6f8f33e4-b6b8-4d67-9a85-aa3c2e6cac51",
   "metadata": {},
   "outputs": [
    {
     "data": {
      "text/plain": [
       "(array([2., 1., 4., 2., 1., 3., 6., 1., 3., 2.]),\n",
       " array([4.4 , 4.66, 4.92, 5.18, 5.44, 5.7 , 5.96, 6.22, 6.48, 6.74, 7.  ]),\n",
       " <BarContainer object of 10 artists>)"
      ]
     },
     "execution_count": 35,
     "metadata": {},
     "output_type": "execute_result"
    },
    {
     "data": {
      "image/png": "[encoded data removed]",
      "text/plain": [
       "<Figure size 640x480 with 1 Axes>"
      ]
     },
     "metadata": {},
     "output_type": "display_data"
    }
   ],
   "source": [
    "plt.hist(sample)"
   ]
  },
  {
   "cell_type": "code",
   "execution_count": 36,
   "id": "0c637967-4ddd-4a6e-8954-5111d54e166f",
   "metadata": {},
   "outputs": [],
   "source": [
    "from scipy.stats import shapiro"
   ]
  },
  {
   "cell_type": "code",
   "execution_count": 37,
   "id": "75c6e6ce-3d97-46e4-ac65-7633845ae564",
   "metadata": {},
   "outputs": [],
   "source": [
    "sample_length = shapiro(sample)"
   ]
  },
  {
   "cell_type": "code",
   "execution_count": 38,
   "id": "b869ff41-33ec-45d1-88f0-3bcf972555f5",
   "metadata": {},
   "outputs": [
    {
     "name": "stdout",
     "output_type": "stream",
     "text": [
      "ShapiroResult(statistic=0.9645305654388434, pvalue=0.5118413592159514)\n"
     ]
    }
   ],
   "source": [
    "print(sample_length)"
   ]
  },
  {
   "cell_type": "code",
   "execution_count": 39,
   "id": "984e60da-4767-41af-b6ae-b9169f43ed52",
   "metadata": {},
   "outputs": [],
   "source": [
    "pop_mean = 5"
   ]
  },
  {
   "cell_type": "code",
   "execution_count": 40,
   "id": "12fb4ac1-3ea3-4afd-8bf0-37f2e1206c20",
   "metadata": {},
   "outputs": [],
   "source": [
    "import scipy.stats as stats"
   ]
  },
  {
   "cell_type": "code",
   "execution_count": 41,
   "id": "b2a345a3-488a-4e6c-bc54-6dc92d884081",
   "metadata": {},
   "outputs": [],
   "source": [
    "t_statistics, p_value = stats.ttest_1samp(sample_length, pop_mean)"
   ]
  },
  {
   "cell_type": "code",
   "execution_count": 42,
   "id": "c9f12ab0-2f6b-413c-b23b-6a3152592fbe",
   "metadata": {},
   "outputs": [
    {
     "name": "stdout",
     "output_type": "stream",
     "text": [
      "T-stats -18.82887411092457 and p-value 0.033779089295632406\n"
     ]
    }
   ],
   "source": [
    "print(f'T-stats {t_statistics} and p-value {p_value}')"
   ]
  },
  {
   "cell_type": "code",
   "execution_count": 43,
   "id": "f1d66c07-7898-42d3-b5b6-b32e999039a1",
   "metadata": {},
   "outputs": [
    {
     "name": "stdout",
     "output_type": "stream",
     "text": [
      "Reject null hypo\n"
     ]
    }
   ],
   "source": [
    "alpha = 0.05\n",
    "if p_value < alpha:\n",
    "    print(\"Reject null hypo\")\n",
    "else:\n",
    "    print(\"Fail to reject null hypo\")"
   ]
  },
  {
   "cell_type": "markdown",
   "id": "491518b6-dce5-4f16-a5ce-86d7e549a682",
   "metadata": {},
   "source": [
    "# independent 2 sample t test"
   ]
  },
  {
   "cell_type": "code",
   "execution_count": 48,
   "id": "f90b1b74-195b-4d46-a4e4-7ffec80ab680",
   "metadata": {},
   "outputs": [
    {
     "data": {
      "text/plain": [
       "0      5.1\n",
       "1      4.9\n",
       "2      4.7\n",
       "3      4.6\n",
       "4      5.0\n",
       "      ... \n",
       "145    6.7\n",
       "146    6.3\n",
       "147    6.5\n",
       "148    6.2\n",
       "149    5.9\n",
       "Name: sepal length (cm), Length: 150, dtype: float64"
      ]
     },
     "execution_count": 48,
     "metadata": {},
     "output_type": "execute_result"
    }
   ],
   "source": [
    "pop"
   ]
  },
  {
   "cell_type": "code",
   "execution_count": 49,
   "id": "3b67bd87-a185-4c44-979d-4447dcdfe778",
   "metadata": {},
   "outputs": [],
   "source": [
    "pop_1 = x['sepal width (cm)']"
   ]
  },
  {
   "cell_type": "code",
   "execution_count": 82,
   "id": "3f73e331-39fc-47fb-a5e7-6a47b26757d8",
   "metadata": {},
   "outputs": [
    {
     "data": {
      "text/plain": [
       "3.0573333333333337"
      ]
     },
     "execution_count": 82,
     "metadata": {},
     "output_type": "execute_result"
    }
   ],
   "source": [
    "pop_1.mean()"
   ]
  },
  {
   "cell_type": "code",
   "execution_count": 94,
   "id": "66eafcd3-6d3b-42ad-b830-6bc479a7a8db",
   "metadata": {},
   "outputs": [],
   "source": [
    "# H0 :  mean of sepal l == mean of sepal W\n",
    "# H1 :  mean of sepal l < mean of sepal W"
   ]
  },
  {
   "cell_type": "code",
   "execution_count": 95,
   "id": "751ff18c-2b8c-4f2c-90cf-87df8ad0f49e",
   "metadata": {},
   "outputs": [],
   "source": [
    "sample_sepal_length = pop.sample(25).values\n",
    "sample_sepal_width = pop_1.sample(25).values"
   ]
  },
  {
   "cell_type": "code",
   "execution_count": 96,
   "id": "3ed49dfd-e32f-43eb-a1b5-2dd928471aa0",
   "metadata": {},
   "outputs": [],
   "source": [
    "sample_SL = shapiro(sample_sepal_length)"
   ]
  },
  {
   "cell_type": "code",
   "execution_count": 97,
   "id": "f2094d82-253a-491f-8164-fb8c0b63f0c2",
   "metadata": {},
   "outputs": [],
   "source": [
    "sample_SW = shapiro(sample_sepal_width)"
   ]
  },
  {
   "cell_type": "code",
   "execution_count": 98,
   "id": "14c3726b-5ba6-4186-b283-32728204df44",
   "metadata": {},
   "outputs": [
    {
     "name": "stdout",
     "output_type": "stream",
     "text": [
      "ShapiroResult(statistic=0.9716041265267439, pvalue=0.6859426105806153) ShapiroResult(statistic=0.9680056614975288, pvalue=0.595018178818375)\n"
     ]
    }
   ],
   "source": [
    "print(sample_SL, sample_SW)"
   ]
  },
  {
   "cell_type": "code",
   "execution_count": 99,
   "id": "6502e166-0ffe-4e1d-8d61-1656fd92067d",
   "metadata": {},
   "outputs": [],
   "source": [
    "t_statistics, p_value = stats.ttest_ind(sample_SL, sample_SW)"
   ]
  },
  {
   "cell_type": "code",
   "execution_count": 100,
   "id": "3711fb3a-d67e-49ab-8934-6c92a59a98f8",
   "metadata": {},
   "outputs": [
    {
     "name": "stdout",
     "output_type": "stream",
     "text": [
      "0.2011935483438431 0.8591528699799633\n"
     ]
    }
   ],
   "source": [
    "print(t_statistics, p_value)"
   ]
  },
  {
   "cell_type": "code",
   "execution_count": 101,
   "id": "248b46f5-7aaf-4222-bb94-c697a602e1b1",
   "metadata": {},
   "outputs": [
    {
     "name": "stdout",
     "output_type": "stream",
     "text": [
      "Fail to reject null hypo\n"
     ]
    }
   ],
   "source": [
    "alpha = 0.05\n",
    "if p_value < alpha:\n",
    "    print(\"Reject null hypo\")\n",
    "else:\n",
    "    print(\"Fail to reject null hypo\")"
   ]
  },
  {
   "cell_type": "code",
   "execution_count": 102,
   "id": "abf66232-d4d0-424e-b8e6-26b2ff2a6a8e",
   "metadata": {},
   "outputs": [
    {
     "data": {
      "text/plain": [
       "5.843333333333334"
      ]
     },
     "execution_count": 102,
     "metadata": {},
     "output_type": "execute_result"
    }
   ],
   "source": [
    "pop.mean()"
   ]
  },
  {
   "cell_type": "code",
   "execution_count": 103,
   "id": "737d048d-060c-4b84-b5aa-c06c45a2fd87",
   "metadata": {},
   "outputs": [
    {
     "data": {
      "text/plain": [
       "3.0573333333333337"
      ]
     },
     "execution_count": 103,
     "metadata": {},
     "output_type": "execute_result"
    }
   ],
   "source": [
    "pop_1.mean()"
   ]
  },
  {
   "cell_type": "code",
   "execution_count": null,
   "id": "c594e8a2-da17-495a-95ac-3b1f0be47873",
   "metadata": {},
   "outputs": [],
   "source": []
  }
 ],
 "metadata": {
  "kernelspec": {
   "display_name": "Python 3 (ipykernel)",
   "language": "python",
   "name": "python3"
  },
  "language_info": {
   "codemirror_mode": {
    "name": "ipython",
    "version": 3
   },
   "file_extension": ".py",
   "mimetype": "text/x-python",
   "name": "python",
   "nbconvert_exporter": "python",
   "pygments_lexer": "ipython3",
   "version": "3.12.7"
  }
 },
 "nbformat": 4,
 "nbformat_minor": 5
}
