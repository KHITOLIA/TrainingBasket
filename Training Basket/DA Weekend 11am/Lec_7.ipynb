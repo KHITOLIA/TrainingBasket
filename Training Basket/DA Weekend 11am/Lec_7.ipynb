{
 "cells": [
  {
   "cell_type": "code",
   "execution_count": 1,
   "id": "c0cf3c77-c95d-4523-a4a8-a83f3c3565ef",
   "metadata": {},
   "outputs": [],
   "source": [
    "a = 'Hello_123'"
   ]
  },
  {
   "cell_type": "code",
   "execution_count": 2,
   "id": "c3cebf9e-31ef-4cad-bcc0-f2b84d6082d0",
   "metadata": {},
   "outputs": [
    {
     "data": {
      "text/plain": [
       "str"
      ]
     },
     "execution_count": 2,
     "metadata": {},
     "output_type": "execute_result"
    }
   ],
   "source": [
    "type(a)"
   ]
  },
  {
   "cell_type": "code",
   "execution_count": 3,
   "id": "16c607d8-8580-4c3d-a063-f01b81becd15",
   "metadata": {},
   "outputs": [
    {
     "name": "stdout",
     "output_type": "stream",
     "text": [
      "Hello_123\n"
     ]
    }
   ],
   "source": [
    "print(a)"
   ]
  },
  {
   "cell_type": "code",
   "execution_count": 4,
   "id": "e2b26942-6bd0-470f-a3c0-f8317affac97",
   "metadata": {},
   "outputs": [],
   "source": [
    "# Loops\n",
    "# for "
   ]
  },
  {
   "cell_type": "code",
   "execution_count": 7,
   "id": "22d80bae-ec39-48d9-b295-3b3bacb44e2f",
   "metadata": {},
   "outputs": [
    {
     "name": "stdout",
     "output_type": "stream",
     "text": [
      "1\n",
      "2\n",
      "3\n",
      "4\n",
      "5\n",
      "6\n",
      "7\n",
      "8\n",
      "9\n"
     ]
    }
   ],
   "source": [
    "for i in range(1,10):\n",
    "    print(i)\n",
    "    "
   ]
  },
  {
   "cell_type": "code",
   "execution_count": 9,
   "id": "c96cdfa9-4274-42bb-bc57-a70da5f7ad09",
   "metadata": {},
   "outputs": [
    {
     "name": "stdout",
     "output_type": "stream",
     "text": [
      "(4, 10)\n",
      "(4, 10)\n",
      "(4, 10)\n",
      "(4, 10)\n",
      "(4, 10)\n",
      "(4, 10)\n"
     ]
    }
   ],
   "source": [
    "a = 4\n",
    "b = 10\n",
    "for i in range(a,b):\n",
    "    print((a, b))"
   ]
  },
  {
   "cell_type": "code",
   "execution_count": 12,
   "id": "0930ece4-5fef-40e5-af3f-1c793d9b33ea",
   "metadata": {},
   "outputs": [
    {
     "name": "stdin",
     "output_type": "stream",
     "text": [
      "enter your number :  5\n"
     ]
    },
    {
     "name": "stdout",
     "output_type": "stream",
     "text": [
      "Factorial of 5 = 120\n"
     ]
    }
   ],
   "source": [
    "n = int(input(\"enter your number : \"))\n",
    "fact = 1\n",
    "for i in range(n):\n",
    "    fact = fact*(i+1)\n",
    "print(f\"Factorial of {n} = {fact}\")"
   ]
  },
  {
   "cell_type": "code",
   "execution_count": 13,
   "id": "7fdb4c43-a840-4167-a37d-5863b2204ec3",
   "metadata": {},
   "outputs": [
    {
     "name": "stdout",
     "output_type": "stream",
     "text": [
      "H\n",
      "e\n",
      "l\n",
      "l\n",
      "o\n"
     ]
    }
   ],
   "source": [
    "st = \"Hello\"\n",
    "for i in st:\n",
    "    print(i)"
   ]
  },
  {
   "cell_type": "code",
   "execution_count": 14,
   "id": "16ad55ee-0e2d-47b0-a4b6-67eb4e34ddbc",
   "metadata": {},
   "outputs": [
    {
     "name": "stdout",
     "output_type": "stream",
     "text": [
      "H\n",
      "e\n",
      "l\n",
      "l\n",
      "o\n"
     ]
    }
   ],
   "source": [
    "for i in range(5):\n",
    "    print(st[i])"
   ]
  },
  {
   "cell_type": "code",
   "execution_count": 18,
   "id": "56506a06-9c06-4d2a-b4f1-7fbb22154c41",
   "metadata": {},
   "outputs": [
    {
     "name": "stdout",
     "output_type": "stream",
     "text": [
      "0\n",
      "3\n",
      "6\n",
      "9\n",
      "12\n",
      "15\n",
      "18\n"
     ]
    }
   ],
   "source": [
    "for i in range(0, 20, 3):\n",
    "    print(i)"
   ]
  },
  {
   "cell_type": "code",
   "execution_count": 24,
   "id": "25982884-508f-4574-b175-b666b1317574",
   "metadata": {},
   "outputs": [
    {
     "name": "stdout",
     "output_type": "stream",
     "text": [
      "sum of all number from 2 to 8 = 45\n"
     ]
    }
   ],
   "source": [
    "sum = 0\n",
    "for i in range(1, 10):\n",
    "    sum = sum + i # updating the value of sum\n",
    "print(f\"sum of all number from 2 to 8 = {sum}\")"
   ]
  },
  {
   "cell_type": "code",
   "execution_count": 20,
   "id": "d78102f9-7a6d-4d82-95c9-ac90678c97c6",
   "metadata": {},
   "outputs": [
    {
     "data": {
      "text/plain": [
       "27"
      ]
     },
     "execution_count": 20,
     "metadata": {},
     "output_type": "execute_result"
    }
   ],
   "source": [
    "sum"
   ]
  },
  {
   "cell_type": "code",
   "execution_count": 26,
   "id": "dbb878f5-fe6b-4b25-8416-0a10f92c028d",
   "metadata": {},
   "outputs": [],
   "source": [
    "st = 'training basket'"
   ]
  },
  {
   "cell_type": "code",
   "execution_count": 27,
   "id": "79a5edf3-5241-44ef-9733-3c27c5d00ab6",
   "metadata": {},
   "outputs": [
    {
     "data": {
      "text/plain": [
       "'training basket'"
      ]
     },
     "execution_count": 27,
     "metadata": {},
     "output_type": "execute_result"
    }
   ],
   "source": [
    "st"
   ]
  },
  {
   "cell_type": "code",
   "execution_count": 29,
   "id": "9e91c9f1-2c30-455b-8e41-7321ad2218a2",
   "metadata": {},
   "outputs": [
    {
     "data": {
      "text/plain": [
       "97"
      ]
     },
     "execution_count": 29,
     "metadata": {},
     "output_type": "execute_result"
    }
   ],
   "source": [
    "ord('A') + 32"
   ]
  },
  {
   "cell_type": "code",
   "execution_count": 30,
   "id": "830613b1-e3ac-43cf-97a9-341f0430d2d3",
   "metadata": {},
   "outputs": [
    {
     "data": {
      "text/plain": [
       "'a'"
      ]
     },
     "execution_count": 30,
     "metadata": {},
     "output_type": "execute_result"
    }
   ],
   "source": [
    "chr(97)"
   ]
  },
  {
   "cell_type": "code",
   "execution_count": 32,
   "id": "3d489df3-8d42-49e2-bd86-43c91d941599",
   "metadata": {},
   "outputs": [
    {
     "data": {
      "text/plain": [
       "84"
      ]
     },
     "execution_count": 32,
     "metadata": {},
     "output_type": "execute_result"
    }
   ],
   "source": [
    "ord('t') - 32"
   ]
  },
  {
   "cell_type": "code",
   "execution_count": 33,
   "id": "829f0d54-1752-41bd-8936-344107c86b7d",
   "metadata": {},
   "outputs": [
    {
     "data": {
      "text/plain": [
       "'T'"
      ]
     },
     "execution_count": 33,
     "metadata": {},
     "output_type": "execute_result"
    }
   ],
   "source": [
    "chr(84)"
   ]
  },
  {
   "cell_type": "code",
   "execution_count": 34,
   "id": "cf5971ed-deca-4add-91ad-3f63b7af1b0d",
   "metadata": {},
   "outputs": [
    {
     "data": {
      "text/plain": [
       "'T'"
      ]
     },
     "execution_count": 34,
     "metadata": {},
     "output_type": "execute_result"
    }
   ],
   "source": [
    "chr(ord('t') - 32)"
   ]
  },
  {
   "cell_type": "code",
   "execution_count": 35,
   "id": "b91ca360-0fca-4925-9571-185884197414",
   "metadata": {},
   "outputs": [
    {
     "data": {
      "text/plain": [
       "'training basket'"
      ]
     },
     "execution_count": 35,
     "metadata": {},
     "output_type": "execute_result"
    }
   ],
   "source": [
    "st"
   ]
  },
  {
   "cell_type": "code",
   "execution_count": 44,
   "id": "6730a3ff-1be2-498a-a1f3-94ea1290c88f",
   "metadata": {},
   "outputs": [
    {
     "name": "stdout",
     "output_type": "stream",
     "text": [
      "T\n",
      "R\n",
      "A\n",
      "I\n",
      "N\n",
      "I\n",
      "N\n",
      "G\n",
      "\u0000\n",
      "B\n",
      "A\n",
      "S\n",
      "K\n",
      "E\n",
      "T\n"
     ]
    }
   ],
   "source": [
    "for i in st:\n",
    "    print(chr(ord(i) - 32))\n"
   ]
  },
  {
   "cell_type": "code",
   "execution_count": 43,
   "id": "a29ccfba-02da-4c06-8c00-8811ae1ed62e",
   "metadata": {},
   "outputs": [
    {
     "data": {
      "text/plain": [
       "'TRAINING\\x00BASKET'"
      ]
     },
     "execution_count": 43,
     "metadata": {},
     "output_type": "execute_result"
    }
   ],
   "source": [
    "s"
   ]
  },
  {
   "cell_type": "code",
   "execution_count": 48,
   "id": "20c7cb96-65af-4e64-afba-36a2ccc8dad2",
   "metadata": {},
   "outputs": [
    {
     "data": {
      "text/plain": [
       "72"
      ]
     },
     "execution_count": 48,
     "metadata": {},
     "output_type": "execute_result"
    }
   ],
   "source": [
    "ord('h') - 32"
   ]
  },
  {
   "cell_type": "code",
   "execution_count": 49,
   "id": "d102e06e-85aa-41b5-8ee2-6a144945378b",
   "metadata": {},
   "outputs": [
    {
     "data": {
      "text/plain": [
       "72"
      ]
     },
     "execution_count": 49,
     "metadata": {},
     "output_type": "execute_result"
    }
   ],
   "source": [
    "ord('H') "
   ]
  },
  {
   "cell_type": "code",
   "execution_count": 47,
   "id": "45be7351-6e5f-4727-8fa0-2eb556db6b2b",
   "metadata": {},
   "outputs": [
    {
     "data": {
      "text/plain": [
       "72"
      ]
     },
     "execution_count": 47,
     "metadata": {},
     "output_type": "execute_result"
    }
   ],
   "source": [
    "104 - 32"
   ]
  },
  {
   "cell_type": "code",
   "execution_count": 50,
   "id": "610abb40-b620-4125-9688-ba6cf6e32d81",
   "metadata": {},
   "outputs": [
    {
     "data": {
      "text/plain": [
       "104"
      ]
     },
     "execution_count": 50,
     "metadata": {},
     "output_type": "execute_result"
    }
   ],
   "source": [
    "ord('h')"
   ]
  },
  {
   "cell_type": "code",
   "execution_count": 51,
   "id": "a5adf4fb-f2d0-4a24-9753-6bcbac8d53fa",
   "metadata": {},
   "outputs": [
    {
     "data": {
      "text/plain": [
       "72"
      ]
     },
     "execution_count": 51,
     "metadata": {},
     "output_type": "execute_result"
    }
   ],
   "source": [
    "ord('H')"
   ]
  },
  {
   "cell_type": "code",
   "execution_count": 52,
   "id": "e5e083f3-6bb2-4c82-9ad1-f4499a9b6e82",
   "metadata": {},
   "outputs": [
    {
     "data": {
      "text/plain": [
       "72"
      ]
     },
     "execution_count": 52,
     "metadata": {},
     "output_type": "execute_result"
    }
   ],
   "source": [
    "ord('h') - 32"
   ]
  },
  {
   "cell_type": "code",
   "execution_count": 57,
   "id": "360f7edb-9935-4105-a08f-fa7a06daa2f0",
   "metadata": {},
   "outputs": [
    {
     "data": {
      "text/plain": [
       "'I'"
      ]
     },
     "execution_count": 57,
     "metadata": {},
     "output_type": "execute_result"
    }
   ],
   "source": [
    "chr( ord('') - 32 )"
   ]
  },
  {
   "cell_type": "code",
   "execution_count": 58,
   "id": "f0d9d9d3-1d65-4b9a-86b4-10877a03ba54",
   "metadata": {},
   "outputs": [
    {
     "data": {
      "text/plain": [
       "105"
      ]
     },
     "execution_count": 58,
     "metadata": {},
     "output_type": "execute_result"
    }
   ],
   "source": [
    "ord('i')"
   ]
  },
  {
   "cell_type": "code",
   "execution_count": 59,
   "id": "2378982e-1585-4473-9331-0fe63ff3b055",
   "metadata": {},
   "outputs": [
    {
     "data": {
      "text/plain": [
       "73"
      ]
     },
     "execution_count": 59,
     "metadata": {},
     "output_type": "execute_result"
    }
   ],
   "source": [
    "ord('I')"
   ]
  },
  {
   "cell_type": "code",
   "execution_count": 60,
   "id": "f981e150-fe59-4060-8cfd-fed7a3fdf22e",
   "metadata": {},
   "outputs": [
    {
     "data": {
      "text/plain": [
       "122"
      ]
     },
     "execution_count": 60,
     "metadata": {},
     "output_type": "execute_result"
    }
   ],
   "source": [
    "ord('z')"
   ]
  },
  {
   "cell_type": "code",
   "execution_count": 61,
   "id": "61f11aba-ce6c-4b4a-befa-8736919edb07",
   "metadata": {},
   "outputs": [
    {
     "data": {
      "text/plain": [
       "90"
      ]
     },
     "execution_count": 61,
     "metadata": {},
     "output_type": "execute_result"
    }
   ],
   "source": [
    "ord('Z')"
   ]
  },
  {
   "cell_type": "code",
   "execution_count": 62,
   "id": "9ebdf4f3-a38b-41ad-96c6-63fabd031f80",
   "metadata": {},
   "outputs": [],
   "source": [
    "l = [2, 3, 4, 5]"
   ]
  },
  {
   "cell_type": "code",
   "execution_count": 66,
   "id": "b28e3d73-2872-4329-bf4d-f35b9b9e1f0b",
   "metadata": {},
   "outputs": [
    {
     "data": {
      "text/plain": [
       "5"
      ]
     },
     "execution_count": 66,
     "metadata": {},
     "output_type": "execute_result"
    }
   ],
   "source": [
    "l[3]"
   ]
  },
  {
   "cell_type": "code",
   "execution_count": 67,
   "id": "539a7ea7-ff24-4c9b-ad11-61e8bd3684c6",
   "metadata": {},
   "outputs": [
    {
     "name": "stdout",
     "output_type": "stream",
     "text": [
      "2\n",
      "3\n",
      "4\n",
      "5\n"
     ]
    }
   ],
   "source": [
    "for i in l:\n",
    "    print(i)"
   ]
  },
  {
   "cell_type": "code",
   "execution_count": 68,
   "id": "bc246b4b-12ad-4c08-9865-07f1dc19b57d",
   "metadata": {},
   "outputs": [
    {
     "data": {
      "text/plain": [
       "'training basket'"
      ]
     },
     "execution_count": 68,
     "metadata": {},
     "output_type": "execute_result"
    }
   ],
   "source": [
    "st "
   ]
  },
  {
   "cell_type": "code",
   "execution_count": 73,
   "id": "f8146bbe-84d1-48c9-a392-6fba7c93c446",
   "metadata": {},
   "outputs": [
    {
     "name": "stdout",
     "output_type": "stream",
     "text": [
      "t\n",
      "a\n",
      "n\n",
      "n\n",
      " \n",
      "a\n",
      "k\n",
      "t\n"
     ]
    }
   ],
   "source": [
    "for i in range(0, len(st), 2 ):\n",
    "    print(st[i])"
   ]
  },
  {
   "cell_type": "code",
   "execution_count": 15,
   "id": "c4cb3cae-df37-4fe1-893c-79aebdf810fc",
   "metadata": {},
   "outputs": [],
   "source": [
    "st = 'Hello Training Basket'\n",
    "l = st.split()"
   ]
  },
  {
   "cell_type": "code",
   "execution_count": 16,
   "id": "a22077c4-db0a-4802-9686-0eb431983946",
   "metadata": {},
   "outputs": [
    {
     "name": "stdout",
     "output_type": "stream",
     "text": [
      "t\n",
      "e\n",
      "k\n",
      "s\n",
      "a\n",
      "B\n",
      " \n",
      "g\n",
      "n\n",
      "i\n",
      "n\n",
      "i\n",
      "a\n",
      "r\n",
      "T\n",
      " \n",
      "o\n",
      "l\n",
      "l\n",
      "e\n",
      "H\n"
     ]
    }
   ],
   "source": [
    "for i in range(len(st)):\n",
    "    print(st[-(i+1)])"
   ]
  },
  {
   "cell_type": "code",
   "execution_count": null,
   "id": "8bc4d316-81ef-422a-a48a-84c16c9611b5",
   "metadata": {},
   "outputs": [],
   "source": []
  }
 ],
 "metadata": {
  "kernelspec": {
   "display_name": "Python 3 (ipykernel)",
   "language": "python",
   "name": "python3"
  },
  "language_info": {
   "codemirror_mode": {
    "name": "ipython",
    "version": 3
   },
   "file_extension": ".py",
   "mimetype": "text/x-python",
   "name": "python",
   "nbconvert_exporter": "python",
   "pygments_lexer": "ipython3",
   "version": "3.12.7"
  }
 },
 "nbformat": 4,
 "nbformat_minor": 5
}
