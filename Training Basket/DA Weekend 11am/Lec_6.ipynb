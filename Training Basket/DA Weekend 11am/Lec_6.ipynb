{
 "cells": [
  {
   "cell_type": "markdown",
   "id": "74bdbebc-1b51-447e-9f39-3bdf4f667e9c",
   "metadata": {},
   "source": [
    "# Sets"
   ]
  },
  {
   "cell_type": "code",
   "execution_count": 1,
   "id": "84be573c-e12f-465a-9d0c-7934c753c59e",
   "metadata": {},
   "outputs": [],
   "source": [
    "s = {1,2, 3,4,4,4,5,5,5.5}"
   ]
  },
  {
   "cell_type": "code",
   "execution_count": 2,
   "id": "03da2125-0a22-44c7-b11c-a65e31a3a8bb",
   "metadata": {},
   "outputs": [
    {
     "data": {
      "text/plain": [
       "{1, 2, 3, 4, 5, 5.5}"
      ]
     },
     "execution_count": 2,
     "metadata": {},
     "output_type": "execute_result"
    }
   ],
   "source": [
    "s"
   ]
  },
  {
   "cell_type": "code",
   "execution_count": 3,
   "id": "65926a4e-d8d7-45de-92c6-4359eab1309e",
   "metadata": {},
   "outputs": [],
   "source": [
    "# Methods"
   ]
  },
  {
   "cell_type": "code",
   "execution_count": 4,
   "id": "b54ab595-9e16-4fcf-8fb4-bbac23a482fa",
   "metadata": {},
   "outputs": [
    {
     "data": {
      "text/plain": [
       "\u001b[1;31mDocstring:\u001b[0m\n",
       "Add an element to a set.\n",
       "\n",
       "This has no effect if the element is already present.\n",
       "\u001b[1;31mType:\u001b[0m      builtin_function_or_method"
      ]
     },
     "metadata": {},
     "output_type": "display_data"
    }
   ],
   "source": [
    "s.add?"
   ]
  },
  {
   "cell_type": "code",
   "execution_count": 5,
   "id": "d4181340-43a6-4f02-b08d-b2851bf688d0",
   "metadata": {},
   "outputs": [],
   "source": [
    "s.add(11)"
   ]
  },
  {
   "cell_type": "code",
   "execution_count": 6,
   "id": "99a20e1c-5aae-4ae6-9d08-31d6e47602ae",
   "metadata": {},
   "outputs": [
    {
     "data": {
      "text/plain": [
       "{1, 2, 3, 4, 5, 5.5, 11}"
      ]
     },
     "execution_count": 6,
     "metadata": {},
     "output_type": "execute_result"
    }
   ],
   "source": [
    "s"
   ]
  },
  {
   "cell_type": "code",
   "execution_count": 7,
   "id": "7eb787ac-0649-4099-9435-9e3754ef4e8c",
   "metadata": {},
   "outputs": [],
   "source": [
    "s1 = s.copy()"
   ]
  },
  {
   "cell_type": "code",
   "execution_count": 8,
   "id": "aece4f79-c2ba-4477-8a19-8742d94bbd26",
   "metadata": {},
   "outputs": [
    {
     "data": {
      "text/plain": [
       "{1, 2, 3, 4, 5, 5.5, 11}"
      ]
     },
     "execution_count": 8,
     "metadata": {},
     "output_type": "execute_result"
    }
   ],
   "source": [
    "s1"
   ]
  },
  {
   "cell_type": "code",
   "execution_count": 9,
   "id": "f6366cb6-a8c5-439a-805a-ecde4d1e59b4",
   "metadata": {},
   "outputs": [],
   "source": [
    "s1.clear()"
   ]
  },
  {
   "cell_type": "code",
   "execution_count": 10,
   "id": "34feb353-4bee-47b1-9d98-89c498054b0a",
   "metadata": {},
   "outputs": [
    {
     "data": {
      "text/plain": [
       "set()"
      ]
     },
     "execution_count": 10,
     "metadata": {},
     "output_type": "execute_result"
    }
   ],
   "source": [
    "s1"
   ]
  },
  {
   "cell_type": "code",
   "execution_count": 11,
   "id": "9b1ee6d6-1592-4e0f-b532-743093519d9d",
   "metadata": {},
   "outputs": [],
   "source": [
    "s1 = {2, 3, 4, 5}\n",
    "s2 = {3, 2, 6, 5}"
   ]
  },
  {
   "cell_type": "code",
   "execution_count": 12,
   "id": "dc9fbdac-1204-490e-b14a-bae96884a563",
   "metadata": {},
   "outputs": [
    {
     "data": {
      "text/plain": [
       "{4}"
      ]
     },
     "execution_count": 12,
     "metadata": {},
     "output_type": "execute_result"
    }
   ],
   "source": [
    "s1.difference(s2)"
   ]
  },
  {
   "cell_type": "code",
   "execution_count": 13,
   "id": "d04a8e50-cfa2-4292-aebb-5270d40a5b77",
   "metadata": {},
   "outputs": [
    {
     "data": {
      "text/plain": [
       "{1, 2, 3, 4, 5, 5.5, 11}"
      ]
     },
     "execution_count": 13,
     "metadata": {},
     "output_type": "execute_result"
    }
   ],
   "source": [
    "s"
   ]
  },
  {
   "cell_type": "code",
   "execution_count": 14,
   "id": "c24a3854-129c-44a2-8acd-a2c32452585c",
   "metadata": {},
   "outputs": [
    {
     "data": {
      "text/plain": [
       "1"
      ]
     },
     "execution_count": 14,
     "metadata": {},
     "output_type": "execute_result"
    }
   ],
   "source": [
    "s.pop()"
   ]
  },
  {
   "cell_type": "code",
   "execution_count": 15,
   "id": "87f1fa66-7e3b-477a-bed5-54f269a5d621",
   "metadata": {},
   "outputs": [
    {
     "data": {
      "text/plain": [
       "2"
      ]
     },
     "execution_count": 15,
     "metadata": {},
     "output_type": "execute_result"
    }
   ],
   "source": [
    "s.pop()"
   ]
  },
  {
   "cell_type": "code",
   "execution_count": 16,
   "id": "0f288db6-caa5-4bae-9c80-03cf2025964a",
   "metadata": {},
   "outputs": [
    {
     "data": {
      "text/plain": [
       "3"
      ]
     },
     "execution_count": 16,
     "metadata": {},
     "output_type": "execute_result"
    }
   ],
   "source": [
    "s.pop()"
   ]
  },
  {
   "cell_type": "code",
   "execution_count": 17,
   "id": "cc28827f-00a5-4feb-98b5-b7a95dff52be",
   "metadata": {},
   "outputs": [
    {
     "data": {
      "text/plain": [
       "4"
      ]
     },
     "execution_count": 17,
     "metadata": {},
     "output_type": "execute_result"
    }
   ],
   "source": [
    "s.pop()"
   ]
  },
  {
   "cell_type": "code",
   "execution_count": 18,
   "id": "e7b91ada-c282-440a-b3fc-d7e7a1092a6d",
   "metadata": {},
   "outputs": [],
   "source": [
    "s.remove(5.5)"
   ]
  },
  {
   "cell_type": "code",
   "execution_count": 19,
   "id": "01f2c3d5-2c41-4b0f-94b4-6281da29fbcd",
   "metadata": {},
   "outputs": [
    {
     "data": {
      "text/plain": [
       "{5, 11}"
      ]
     },
     "execution_count": 19,
     "metadata": {},
     "output_type": "execute_result"
    }
   ],
   "source": [
    "s"
   ]
  },
  {
   "cell_type": "code",
   "execution_count": 20,
   "id": "50052b79-762d-494a-90ca-e4a8b6232d3a",
   "metadata": {},
   "outputs": [],
   "source": [
    "s.add(12)"
   ]
  },
  {
   "cell_type": "code",
   "execution_count": 21,
   "id": "a96aaeed-ea92-45b3-8ad2-dfdccebd6489",
   "metadata": {},
   "outputs": [],
   "source": [
    "s.add(13)"
   ]
  },
  {
   "cell_type": "code",
   "execution_count": 22,
   "id": "e063ea12-edb3-4784-b6cf-1ccce561ab35",
   "metadata": {},
   "outputs": [],
   "source": [
    "s.discard(5)"
   ]
  },
  {
   "cell_type": "code",
   "execution_count": 23,
   "id": "be2471ed-8c1d-4b71-8f72-282956ab2ff1",
   "metadata": {},
   "outputs": [
    {
     "data": {
      "text/plain": [
       "{11, 12, 13}"
      ]
     },
     "execution_count": 23,
     "metadata": {},
     "output_type": "execute_result"
    }
   ],
   "source": [
    "s"
   ]
  },
  {
   "cell_type": "code",
   "execution_count": 24,
   "id": "db589c2b-08a2-491d-961d-cc7992ec2a73",
   "metadata": {},
   "outputs": [
    {
     "data": {
      "text/plain": [
       "{2, 3, 4, 5}"
      ]
     },
     "execution_count": 24,
     "metadata": {},
     "output_type": "execute_result"
    }
   ],
   "source": [
    "s1"
   ]
  },
  {
   "cell_type": "code",
   "execution_count": 25,
   "id": "35fde925-7057-491c-b32a-4fd7fe29e81c",
   "metadata": {},
   "outputs": [
    {
     "data": {
      "text/plain": [
       "{2, 3, 5, 6}"
      ]
     },
     "execution_count": 25,
     "metadata": {},
     "output_type": "execute_result"
    }
   ],
   "source": [
    "s2"
   ]
  },
  {
   "cell_type": "code",
   "execution_count": 26,
   "id": "af1ff4d9-11a7-4d02-99bb-8623ee9693d6",
   "metadata": {},
   "outputs": [
    {
     "data": {
      "text/plain": [
       "{2, 3, 4, 5, 6}"
      ]
     },
     "execution_count": 26,
     "metadata": {},
     "output_type": "execute_result"
    }
   ],
   "source": [
    "s1.union(s2)"
   ]
  },
  {
   "cell_type": "code",
   "execution_count": 27,
   "id": "38f2725c-2680-4b98-ad64-4cc98e230e25",
   "metadata": {},
   "outputs": [
    {
     "data": {
      "text/plain": [
       "{2, 3, 5}"
      ]
     },
     "execution_count": 27,
     "metadata": {},
     "output_type": "execute_result"
    }
   ],
   "source": [
    "s1.intersection(s2)"
   ]
  },
  {
   "cell_type": "code",
   "execution_count": 28,
   "id": "e172531b-2176-4fb2-9aa1-1f10805989b1",
   "metadata": {},
   "outputs": [
    {
     "data": {
      "text/plain": [
       "{4, 6}"
      ]
     },
     "execution_count": 28,
     "metadata": {},
     "output_type": "execute_result"
    }
   ],
   "source": [
    "s1.symmetric_difference(s2)"
   ]
  },
  {
   "cell_type": "markdown",
   "id": "d60e7c99-fb6b-460b-bd98-e9b378591a65",
   "metadata": {},
   "source": [
    "# Loops\n",
    "1. For\n",
    "2. While"
   ]
  },
  {
   "cell_type": "code",
   "execution_count": 29,
   "id": "0460a79c-8bb2-4abc-8844-44892c72f21f",
   "metadata": {},
   "outputs": [
    {
     "name": "stdout",
     "output_type": "stream",
     "text": [
      "0*0 1*2 2*4 3*6 4*8 "
     ]
    }
   ],
   "source": [
    "for i in range(5):\n",
    "    print(i,i*2, sep = \"*\", end = \" \")"
   ]
  },
  {
   "cell_type": "code",
   "execution_count": 30,
   "id": "6d44e2c9-f478-4776-b066-0fb323a9c7fb",
   "metadata": {},
   "outputs": [
    {
     "name": "stdout",
     "output_type": "stream",
     "text": [
      "Hello_Tushar\n"
     ]
    }
   ],
   "source": [
    "print(\"Hello\", \"Tushar\", sep = \"_\")"
   ]
  },
  {
   "cell_type": "code",
   "execution_count": 31,
   "id": "7db81966-7641-4553-8603-f3898a6fbc4c",
   "metadata": {},
   "outputs": [
    {
     "data": {
      "text/plain": [
       "\u001b[1;31mSignature:\u001b[0m \u001b[0mprint\u001b[0m\u001b[1;33m(\u001b[0m\u001b[1;33m*\u001b[0m\u001b[0margs\u001b[0m\u001b[1;33m,\u001b[0m \u001b[0msep\u001b[0m\u001b[1;33m=\u001b[0m\u001b[1;34m' '\u001b[0m\u001b[1;33m,\u001b[0m \u001b[0mend\u001b[0m\u001b[1;33m=\u001b[0m\u001b[1;34m'\\n'\u001b[0m\u001b[1;33m,\u001b[0m \u001b[0mfile\u001b[0m\u001b[1;33m=\u001b[0m\u001b[1;32mNone\u001b[0m\u001b[1;33m,\u001b[0m \u001b[0mflush\u001b[0m\u001b[1;33m=\u001b[0m\u001b[1;32mFalse\u001b[0m\u001b[1;33m)\u001b[0m\u001b[1;33m\u001b[0m\u001b[1;33m\u001b[0m\u001b[0m\n",
       "\u001b[1;31mDocstring:\u001b[0m\n",
       "Prints the values to a stream, or to sys.stdout by default.\n",
       "\n",
       "sep\n",
       "  string inserted between values, default a space.\n",
       "end\n",
       "  string appended after the last value, default a newline.\n",
       "file\n",
       "  a file-like object (stream); defaults to the current sys.stdout.\n",
       "flush\n",
       "  whether to forcibly flush the stream.\n",
       "\u001b[1;31mType:\u001b[0m      builtin_function_or_method"
      ]
     },
     "metadata": {},
     "output_type": "display_data"
    }
   ],
   "source": [
    "print?"
   ]
  },
  {
   "cell_type": "code",
   "execution_count": 32,
   "id": "4c601073-7e6b-48f9-a244-40dc39b65532",
   "metadata": {},
   "outputs": [
    {
     "name": "stdout",
     "output_type": "stream",
     "text": [
      "0\n",
      "1\n",
      "2\n",
      "3\n",
      "4\n"
     ]
    }
   ],
   "source": [
    "for i in range(5):\n",
    "    print(i)"
   ]
  },
  {
   "cell_type": "code",
   "execution_count": 33,
   "id": "7ce2830d-98d8-4571-9e1b-d205693b34b6",
   "metadata": {},
   "outputs": [
    {
     "name": "stdout",
     "output_type": "stream",
     "text": [
      "hello\n",
      "hello\n",
      "hello\n",
      "hello\n",
      "hello\n",
      "hello\n",
      "hello\n",
      "hello\n",
      "hello\n"
     ]
    }
   ],
   "source": [
    "for i in range(1, 10):\n",
    "    print(\"hello\")"
   ]
  },
  {
   "cell_type": "code",
   "execution_count": 34,
   "id": "0d194087-6627-448f-8aec-bb2d75a5c9b4",
   "metadata": {},
   "outputs": [
    {
     "name": "stdin",
     "output_type": "stream",
     "text": [
      "enter your number 34\n"
     ]
    }
   ],
   "source": [
    "a = int(input(\"enter your number\"))"
   ]
  },
  {
   "cell_type": "code",
   "execution_count": 35,
   "id": "bb4442c3-2f49-4a79-a001-e54419ce2091",
   "metadata": {},
   "outputs": [
    {
     "data": {
      "text/plain": [
       "34"
      ]
     },
     "execution_count": 35,
     "metadata": {},
     "output_type": "execute_result"
    }
   ],
   "source": [
    "a"
   ]
  },
  {
   "cell_type": "code",
   "execution_count": 36,
   "id": "471fbad1-f992-4cbf-8ea2-0d991009b920",
   "metadata": {},
   "outputs": [
    {
     "name": "stdin",
     "output_type": "stream",
     "text": [
      "enter your range :  10\n"
     ]
    }
   ],
   "source": [
    "n = int(input(\"enter your range : \"))\n",
    "a = 10\n",
    "for i in range(a, n):\n",
    "    print(\"hi\")"
   ]
  },
  {
   "cell_type": "code",
   "execution_count": 37,
   "id": "88c14a8d-dc75-4d4c-a425-eae6af007bf9",
   "metadata": {},
   "outputs": [],
   "source": [
    "st = \"This Data Analytics\""
   ]
  },
  {
   "cell_type": "code",
   "execution_count": 38,
   "id": "f4526695-9afa-4af1-8e80-2071e821a39b",
   "metadata": {},
   "outputs": [
    {
     "data": {
      "text/plain": [
       "19"
      ]
     },
     "execution_count": 38,
     "metadata": {},
     "output_type": "execute_result"
    }
   ],
   "source": [
    "len(st)"
   ]
  },
  {
   "cell_type": "code",
   "execution_count": 39,
   "id": "1e76e64f-85d4-432d-aaef-d4540976fc89",
   "metadata": {},
   "outputs": [
    {
     "name": "stdout",
     "output_type": "stream",
     "text": [
      "This Data Analytics"
     ]
    }
   ],
   "source": [
    "for i in st:\n",
    "    print(i, end = \"\")"
   ]
  },
  {
   "cell_type": "code",
   "execution_count": 40,
   "id": "c42e163d-3ec6-4eb3-9b51-5c2597a133ae",
   "metadata": {},
   "outputs": [
    {
     "name": "stdout",
     "output_type": "stream",
     "text": [
      "T\n",
      "h\n",
      "i\n",
      "s\n",
      " \n",
      "D\n",
      "a\n",
      "t\n",
      "a\n",
      " \n"
     ]
    }
   ],
   "source": [
    "for i in st[:10]:\n",
    "    print(i)"
   ]
  },
  {
   "cell_type": "code",
   "execution_count": 41,
   "id": "80156561-e914-450a-9b43-c5ad6802f003",
   "metadata": {},
   "outputs": [
    {
     "name": "stdout",
     "output_type": "stream",
     "text": [
      "1\n",
      "2\n",
      "3\n",
      "4\n",
      "5\n",
      "6\n",
      "7\n",
      "8\n",
      "9\n",
      "10\n"
     ]
    }
   ],
   "source": [
    "a = 0\n",
    "for i in range(10):\n",
    "    a = a + 1\n",
    "    print(a)"
   ]
  },
  {
   "cell_type": "code",
   "execution_count": 42,
   "id": "42997cae-bb6f-44eb-866d-4262023e170d",
   "metadata": {},
   "outputs": [
    {
     "name": "stdout",
     "output_type": "stream",
     "text": [
      "T\n",
      "h\n",
      "i\n",
      "s\n",
      " \n",
      "D\n",
      "a\n",
      "t\n",
      "a\n",
      " \n",
      "A\n",
      "n\n",
      "a\n",
      "l\n",
      "y\n",
      "t\n",
      "i\n",
      "c\n",
      "s\n"
     ]
    }
   ],
   "source": [
    "for i in range(len(st)):\n",
    "    print(st[i])"
   ]
  },
  {
   "cell_type": "code",
   "execution_count": 43,
   "id": "aaa3bc37-c4ec-47b6-aecd-55cabdd4803c",
   "metadata": {},
   "outputs": [
    {
     "data": {
      "text/plain": [
       "\u001b[1;31mInit signature:\u001b[0m \u001b[0menumerate\u001b[0m\u001b[1;33m(\u001b[0m\u001b[0miterable\u001b[0m\u001b[1;33m,\u001b[0m \u001b[0mstart\u001b[0m\u001b[1;33m=\u001b[0m\u001b[1;36m0\u001b[0m\u001b[1;33m)\u001b[0m\u001b[1;33m\u001b[0m\u001b[1;33m\u001b[0m\u001b[0m\n",
       "\u001b[1;31mDocstring:\u001b[0m     \n",
       "Return an enumerate object.\n",
       "\n",
       "  iterable\n",
       "    an object supporting iteration\n",
       "\n",
       "The enumerate object yields pairs containing a count (from start, which\n",
       "defaults to zero) and a value yielded by the iterable argument.\n",
       "\n",
       "enumerate is useful for obtaining an indexed list:\n",
       "    (0, seq[0]), (1, seq[1]), (2, seq[2]), ...\n",
       "\u001b[1;31mType:\u001b[0m           type\n",
       "\u001b[1;31mSubclasses:\u001b[0m     "
      ]
     },
     "metadata": {},
     "output_type": "display_data"
    }
   ],
   "source": [
    "enumerate?"
   ]
  },
  {
   "cell_type": "code",
   "execution_count": 44,
   "id": "8b3c087a-1580-4e7c-b21b-82842236978f",
   "metadata": {},
   "outputs": [],
   "source": [
    "l = [2, 3, 4, True, \"Tushar\", [2, 3, 4, 5]]"
   ]
  },
  {
   "cell_type": "code",
   "execution_count": 45,
   "id": "72a462e8-6a0d-404b-a920-1c53977088b5",
   "metadata": {},
   "outputs": [
    {
     "name": "stdout",
     "output_type": "stream",
     "text": [
      "2\n",
      "3\n",
      "4\n",
      "True\n",
      "Tushar\n",
      "[2, 3, 4, 5]\n"
     ]
    }
   ],
   "source": [
    "for i in l:\n",
    "    print(i)"
   ]
  },
  {
   "cell_type": "code",
   "execution_count": 46,
   "id": "52262d8a-e7e1-4ead-a304-becf9aa6a0d9",
   "metadata": {},
   "outputs": [
    {
     "name": "stdout",
     "output_type": "stream",
     "text": [
      "2\n",
      "3\n",
      "4\n",
      "True\n",
      "Tushar\n",
      "[2, 3, 4, 5]\n"
     ]
    }
   ],
   "source": [
    "for i in range(len(l)):\n",
    "    print(l[i])"
   ]
  },
  {
   "cell_type": "code",
   "execution_count": 47,
   "id": "bdea38ac-3c57-45e5-b157-b2f760a0cbfc",
   "metadata": {},
   "outputs": [
    {
     "name": "stdout",
     "output_type": "stream",
     "text": [
      "0 : 2\n",
      "1 : 3\n",
      "2 : 4\n",
      "3 : True\n",
      "4 : Tushar\n",
      "5 : [2, 3, 4, 5]\n"
     ]
    }
   ],
   "source": [
    "for i in range(len(l)):\n",
    "    print(i, \":\", l[i])"
   ]
  },
  {
   "cell_type": "code",
   "execution_count": 48,
   "id": "797aea79-21d9-4d24-95b6-e2d21781692c",
   "metadata": {},
   "outputs": [
    {
     "name": "stdout",
     "output_type": "stream",
     "text": [
      "0 : 2\n",
      "1 : 3\n",
      "2 : 4\n",
      "3 : True\n",
      "4 : Tushar\n",
      "5 : [2, 3, 4, 5]\n"
     ]
    }
   ],
   "source": [
    "for pos, item in enumerate(l):\n",
    "    print(f\"{pos} : {item}\")"
   ]
  },
  {
   "cell_type": "code",
   "execution_count": 49,
   "id": "b34c6d03-5d59-41b4-9f04-ccfbbcba2837",
   "metadata": {},
   "outputs": [],
   "source": [
    "st = \"Training Basket\""
   ]
  },
  {
   "cell_type": "code",
   "execution_count": 50,
   "id": "13276419-cdbf-449d-bf7e-cad244536c24",
   "metadata": {},
   "outputs": [
    {
     "data": {
      "text/plain": [
       "'teksaB gniniarT'"
      ]
     },
     "execution_count": 50,
     "metadata": {},
     "output_type": "execute_result"
    }
   ],
   "source": [
    "st[::-1]\n"
   ]
  },
  {
   "cell_type": "code",
   "execution_count": 51,
   "id": "bb0ee32a-ff53-41a1-991a-b67421d45a69",
   "metadata": {},
   "outputs": [],
   "source": [
    "s = \"\"\n",
    "for char in st:\n",
    "    s = char + s"
   ]
  },
  {
   "cell_type": "code",
   "execution_count": 52,
   "id": "a4a80ec6-694b-4a71-927a-bb9fb5ca374a",
   "metadata": {},
   "outputs": [
    {
     "data": {
      "text/plain": [
       "'teksaB gniniarT'"
      ]
     },
     "execution_count": 52,
     "metadata": {},
     "output_type": "execute_result"
    }
   ],
   "source": [
    "s"
   ]
  },
  {
   "cell_type": "code",
   "execution_count": 53,
   "id": "757288ec-bfa4-44f2-91bd-73c183fe99d5",
   "metadata": {},
   "outputs": [],
   "source": [
    "x = 1\n",
    "for i in range(5):\n",
    "    x = x*(i+1)"
   ]
  },
  {
   "cell_type": "code",
   "execution_count": 54,
   "id": "c9ffb552-a2fe-469d-bf44-6844ad082ccb",
   "metadata": {},
   "outputs": [
    {
     "data": {
      "text/plain": [
       "120"
      ]
     },
     "execution_count": 54,
     "metadata": {},
     "output_type": "execute_result"
    }
   ],
   "source": [
    "x"
   ]
  },
  {
   "cell_type": "code",
   "execution_count": 55,
   "id": "cf85c4b3-310b-4dd1-ab9a-186e8a575626",
   "metadata": {},
   "outputs": [
    {
     "name": "stdout",
     "output_type": "stream",
     "text": [
      "4*1 = 4\n",
      "4*2 = 8\n",
      "4*3 = 12\n",
      "4*4 = 16\n",
      "4*5 = 20\n",
      "4*6 = 24\n",
      "4*7 = 28\n",
      "4*8 = 32\n",
      "4*9 = 36\n",
      "4*10 = 40\n"
     ]
    }
   ],
   "source": [
    "n = 4\n",
    "for i in range(1, 11):\n",
    "    print(f\"{n}*{i} = {n*i}\")"
   ]
  },
  {
   "cell_type": "code",
   "execution_count": 56,
   "id": "0bdd91fb-cc0a-44ff-b65a-54245ed2c177",
   "metadata": {},
   "outputs": [
    {
     "data": {
      "text/plain": [
       "'Training Basket'"
      ]
     },
     "execution_count": 56,
     "metadata": {},
     "output_type": "execute_result"
    }
   ],
   "source": [
    "st # convert the case of B from upper to lower"
   ]
  },
  {
   "cell_type": "code",
   "execution_count": 57,
   "id": "b2a89810-4530-4fb3-9ef9-9786beff6e2e",
   "metadata": {},
   "outputs": [
    {
     "data": {
      "text/plain": [
       "'Training Batch'"
      ]
     },
     "execution_count": 57,
     "metadata": {},
     "output_type": "execute_result"
    }
   ],
   "source": [
    "st.replace(\"Basket\",\"Batch\")"
   ]
  },
  {
   "cell_type": "code",
   "execution_count": 58,
   "id": "5abb8284-7f0b-496c-b87f-8ad6a55f618f",
   "metadata": {},
   "outputs": [
    {
     "data": {
      "text/plain": [
       "'Training Basket'"
      ]
     },
     "execution_count": 58,
     "metadata": {},
     "output_type": "execute_result"
    }
   ],
   "source": [
    "st"
   ]
  },
  {
   "cell_type": "code",
   "execution_count": 71,
   "id": "2488cef6-11a2-4533-a8f1-32e5c21a5052",
   "metadata": {},
   "outputs": [],
   "source": [
    "s = \"\"\n",
    "for i in st:\n",
    "    if i.isupper():\n",
    "        i = chr(ord(i) + 32)\n",
    "        s = s + i\n",
    "    else:\n",
    "        s = s + i"
   ]
  },
  {
   "cell_type": "code",
   "execution_count": 72,
   "id": "939e40ed-91f8-4322-8b7d-b882718d3b5d",
   "metadata": {},
   "outputs": [
    {
     "data": {
      "text/plain": [
       "'t'"
      ]
     },
     "execution_count": 72,
     "metadata": {},
     "output_type": "execute_result"
    }
   ],
   "source": [
    "chr(ord('T') + 32)"
   ]
  },
  {
   "cell_type": "code",
   "execution_count": 73,
   "id": "01c37b01-35d8-4ecb-8821-91bc92261453",
   "metadata": {},
   "outputs": [
    {
     "data": {
      "text/plain": [
       "'training basket'"
      ]
     },
     "execution_count": 73,
     "metadata": {},
     "output_type": "execute_result"
    }
   ],
   "source": [
    "s"
   ]
  },
  {
   "cell_type": "code",
   "execution_count": null,
   "id": "995491d7-1f4e-40b2-a758-eb3be00226cc",
   "metadata": {},
   "outputs": [],
   "source": []
  }
 ],
 "metadata": {
  "kernelspec": {
   "display_name": "Python 3 (ipykernel)",
   "language": "python",
   "name": "python3"
  },
  "language_info": {
   "codemirror_mode": {
    "name": "ipython",
    "version": 3
   },
   "file_extension": ".py",
   "mimetype": "text/x-python",
   "name": "python",
   "nbconvert_exporter": "python",
   "pygments_lexer": "ipython3",
   "version": "3.12.7"
  }
 },
 "nbformat": 4,
 "nbformat_minor": 5
}
