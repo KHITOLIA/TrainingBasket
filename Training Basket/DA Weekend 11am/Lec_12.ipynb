{
 "cells": [
  {
   "cell_type": "code",
   "execution_count": 24,
   "id": "a2d708e8-282a-4c87-af74-57cba831d5e8",
   "metadata": {},
   "outputs": [
    {
     "name": "stdout",
     "output_type": "stream",
     "text": [
      "2\n",
      "2\n",
      "2\n",
      "2\n",
      "3\n",
      "3\n",
      "1\n",
      "1\n",
      "1\n",
      "3\n",
      "3\n",
      "3\n",
      "1\n",
      "3\n"
     ]
    }
   ],
   "source": [
    "l = [2,2,3,3,5,5,1,0,7,8,8,8,9,5]\n",
    "for i in l:\n",
    "    print(l.count(i))"
   ]
  },
  {
   "cell_type": "code",
   "execution_count": 13,
   "id": "1aee31ff-666f-4ac7-a38d-9178b84bfc9b",
   "metadata": {},
   "outputs": [
    {
     "data": {
      "text/plain": [
       "[2, 2, 3, 3, 5, 5, 1, 0, 7, 8, 8, 8, 9, 5]"
      ]
     },
     "execution_count": 13,
     "metadata": {},
     "output_type": "execute_result"
    }
   ],
   "source": [
    "l"
   ]
  },
  {
   "cell_type": "code",
   "execution_count": 19,
   "id": "56829616-a9b4-44ed-8632-a857b5030a52",
   "metadata": {},
   "outputs": [],
   "source": [
    "# list is collection of heterogenous datatypes"
   ]
  },
  {
   "cell_type": "code",
   "execution_count": 15,
   "id": "647b1704-91b9-4efc-950d-811efcffb682",
   "metadata": {},
   "outputs": [
    {
     "data": {
      "text/plain": [
       "[2, 3, 5, 1, 0, 7, 8, 9]"
      ]
     },
     "execution_count": 15,
     "metadata": {},
     "output_type": "execute_result"
    }
   ],
   "source": [
    "s"
   ]
  },
  {
   "cell_type": "code",
   "execution_count": 20,
   "id": "e143689f-d5e8-4da9-8896-2604bbf2fb81",
   "metadata": {},
   "outputs": [],
   "source": [
    "# l = [12, 'Tushar', 23.45, True, range(2), [1,2,4,5], {}]"
   ]
  },
  {
   "cell_type": "code",
   "execution_count": null,
   "id": "8723518a-8aac-4527-9c76-99278f2681c0",
   "metadata": {},
   "outputs": [],
   "source": []
  },
  {
   "cell_type": "code",
   "execution_count": 21,
   "id": "faa1c46b-8abb-48b4-bb45-82c4e46f118c",
   "metadata": {},
   "outputs": [
    {
     "data": {
      "text/plain": [
       "[2, 2, 3, 3, 5, 5, 1, 0, 7, 8, 8, 8, 9, 5]"
      ]
     },
     "execution_count": 21,
     "metadata": {},
     "output_type": "execute_result"
    }
   ],
   "source": [
    "s = []\n",
    "for i in l:\n",
    "    if i not in s:\n",
    "        s.append(i)\n",
    "l"
   ]
  },
  {
   "cell_type": "code",
   "execution_count": 22,
   "id": "da8da889-52eb-484c-b72f-4d686f85380d",
   "metadata": {},
   "outputs": [
    {
     "data": {
      "text/plain": [
       "[2, 3, 5, 1, 0, 7, 8, 9]"
      ]
     },
     "execution_count": 22,
     "metadata": {},
     "output_type": "execute_result"
    }
   ],
   "source": [
    "s"
   ]
  },
  {
   "cell_type": "code",
   "execution_count": 23,
   "id": "d53a55ce-f920-43ef-8a06-85203dd603b8",
   "metadata": {},
   "outputs": [
    {
     "name": "stdout",
     "output_type": "stream",
     "text": [
      "count of 2 = 2\n",
      "count of 3 = 2\n",
      "count of 5 = 3\n",
      "count of 1 = 1\n",
      "count of 0 = 1\n",
      "count of 7 = 1\n",
      "count of 8 = 3\n",
      "count of 9 = 1\n"
     ]
    }
   ],
   "source": [
    "for i in s:  # i = 2, i = 3, i = 5,1,0, 7, 8, 9\n",
    "    count = 0\n",
    "    for j in l:\n",
    "        if i == j:\n",
    "            count = count + 1\n",
    "    print(f'count of {i} = {count}')\n",
    "# for loop usage : when ever i want to iterate over an iterable we need an iterator"
   ]
  },
  {
   "cell_type": "code",
   "execution_count": 38,
   "id": "ad9a9d05-e12c-4261-b76d-abd015e72542",
   "metadata": {},
   "outputs": [
    {
     "name": "stdout",
     "output_type": "stream",
     "text": [
      "1\n",
      "0\n",
      "7\n",
      "9\n"
     ]
    }
   ],
   "source": [
    "for num_in_s in s:\n",
    "    num_count_in_s = 0\n",
    "    for num_in_l in l:\n",
    "       \n",
    "        if num_in_s == num_in_l:\n",
    "            num_count_in_s += 1\n",
    "    # print(f'count of {num_in_s} = {num_count_in_s}')\n",
    "    if num_count_in_s < 2:\n",
    "        print(num_in_s)\n"
   ]
  },
  {
   "cell_type": "code",
   "execution_count": null,
   "id": "c1dac9f1-ccdc-468f-a643-8f58ef3f24ac",
   "metadata": {},
   "outputs": [],
   "source": [
    "num = 7796542217"
   ]
  },
  {
   "cell_type": "code",
   "execution_count": null,
   "id": "1c0b6b57-b78e-411b-a15b-03c93c6ca389",
   "metadata": {},
   "outputs": [],
   "source": [
    "(7, 3), (9, 1), (6, 1), (5, 1), (4, 1), (2, 2), (1, 1)"
   ]
  }
 ],
 "metadata": {
  "kernelspec": {
   "display_name": "Python 3 (ipykernel)",
   "language": "python",
   "name": "python3"
  },
  "language_info": {
   "codemirror_mode": {
    "name": "ipython",
    "version": 3
   },
   "file_extension": ".py",
   "mimetype": "text/x-python",
   "name": "python",
   "nbconvert_exporter": "python",
   "pygments_lexer": "ipython3",
   "version": "3.12.7"
  }
 },
 "nbformat": 4,
 "nbformat_minor": 5
}
