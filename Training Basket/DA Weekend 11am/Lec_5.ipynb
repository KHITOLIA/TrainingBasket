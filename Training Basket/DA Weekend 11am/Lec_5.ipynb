{
 "cells": [
  {
   "cell_type": "code",
   "execution_count": 1,
   "id": "539f96f8-2b64-48ff-9266-a65d62fdc085",
   "metadata": {},
   "outputs": [],
   "source": [
    "# Tuple"
   ]
  },
  {
   "cell_type": "code",
   "execution_count": 2,
   "id": "766fb904-9a97-4d0f-b3df-fcd595bd32e4",
   "metadata": {},
   "outputs": [],
   "source": [
    "tup = (1, 2, 3)"
   ]
  },
  {
   "cell_type": "code",
   "execution_count": 3,
   "id": "3775c3f3-a162-448d-b7e7-8b19790a5940",
   "metadata": {},
   "outputs": [
    {
     "data": {
      "text/plain": [
       "tuple"
      ]
     },
     "execution_count": 3,
     "metadata": {},
     "output_type": "execute_result"
    }
   ],
   "source": [
    "type(tup)"
   ]
  },
  {
   "cell_type": "code",
   "execution_count": 4,
   "id": "b45e1d13-7392-4770-b544-e4ce740b0f73",
   "metadata": {},
   "outputs": [
    {
     "name": "stdout",
     "output_type": "stream",
     "text": [
      "<class 'tuple'>\n"
     ]
    }
   ],
   "source": [
    "print(type(tup))"
   ]
  },
  {
   "cell_type": "code",
   "execution_count": 5,
   "id": "64d0525e-8271-4d0a-8673-c04f9065750e",
   "metadata": {},
   "outputs": [
    {
     "ename": "TypeError",
     "evalue": "can only concatenate tuple (not \"int\") to tuple",
     "output_type": "error",
     "traceback": [
      "\u001b[1;31m---------------------------------------------------------------------------\u001b[0m",
      "\u001b[1;31mTypeError\u001b[0m                                 Traceback (most recent call last)",
      "Cell \u001b[1;32mIn[5], line 1\u001b[0m\n\u001b[1;32m----> 1\u001b[0m tup \u001b[38;5;241m=\u001b[39m tup \u001b[38;5;241m+\u001b[39m \u001b[38;5;241m1\u001b[39m\n",
      "\u001b[1;31mTypeError\u001b[0m: can only concatenate tuple (not \"int\") to tuple"
     ]
    }
   ],
   "source": [
    "tup = tup + 1"
   ]
  },
  {
   "cell_type": "code",
   "execution_count": 6,
   "id": "50dba005-b896-469c-8e9c-3e1dd9e609c9",
   "metadata": {},
   "outputs": [],
   "source": [
    "tup = tup + (1,)"
   ]
  },
  {
   "cell_type": "code",
   "execution_count": 7,
   "id": "eef21a09-4435-4f13-84ec-c47e22b9ef83",
   "metadata": {},
   "outputs": [
    {
     "data": {
      "text/plain": [
       "(1, 2, 3, 1)"
      ]
     },
     "execution_count": 7,
     "metadata": {},
     "output_type": "execute_result"
    }
   ],
   "source": [
    "tup"
   ]
  },
  {
   "cell_type": "code",
   "execution_count": 8,
   "id": "521d9530-f45e-4c4c-ba84-0cc04cd04f02",
   "metadata": {},
   "outputs": [
    {
     "data": {
      "text/plain": [
       "2"
      ]
     },
     "execution_count": 8,
     "metadata": {},
     "output_type": "execute_result"
    }
   ],
   "source": [
    "tup.count(1)"
   ]
  },
  {
   "cell_type": "code",
   "execution_count": 9,
   "id": "f9cea35d-2773-4ed4-a787-4151c7a083cd",
   "metadata": {},
   "outputs": [
    {
     "data": {
      "text/plain": [
       "0"
      ]
     },
     "execution_count": 9,
     "metadata": {},
     "output_type": "execute_result"
    }
   ],
   "source": [
    "tup.count(4)"
   ]
  },
  {
   "cell_type": "code",
   "execution_count": 11,
   "id": "30037f25-dc27-4f61-882a-aa24d9625c87",
   "metadata": {},
   "outputs": [
    {
     "data": {
      "text/plain": [
       "0"
      ]
     },
     "execution_count": 11,
     "metadata": {},
     "output_type": "execute_result"
    }
   ],
   "source": [
    "tup.index(1)"
   ]
  },
  {
   "cell_type": "code",
   "execution_count": 13,
   "id": "74993b1e-1c07-4e9e-869f-5d3531e43b52",
   "metadata": {},
   "outputs": [
    {
     "data": {
      "text/plain": [
       "1"
      ]
     },
     "execution_count": 13,
     "metadata": {},
     "output_type": "execute_result"
    }
   ],
   "source": [
    "tup.index(2)"
   ]
  },
  {
   "cell_type": "code",
   "execution_count": 20,
   "id": "129374cc-8466-4541-a93b-796351950284",
   "metadata": {},
   "outputs": [],
   "source": [
    "tup = list(tup) # typecasting"
   ]
  },
  {
   "cell_type": "code",
   "execution_count": 21,
   "id": "485c67f2-42d4-4c43-a8f0-d907f32981ae",
   "metadata": {},
   "outputs": [
    {
     "data": {
      "text/plain": [
       "list"
      ]
     },
     "execution_count": 21,
     "metadata": {},
     "output_type": "execute_result"
    }
   ],
   "source": [
    "type(tup)"
   ]
  },
  {
   "cell_type": "markdown",
   "id": "89750a16-18ad-4451-b5d3-dff13ee502f2",
   "metadata": {},
   "source": [
    "# add 4 elements : pos 2 , 4 , 1, last"
   ]
  },
  {
   "cell_type": "code",
   "execution_count": 24,
   "id": "bdb6693a-d903-4aa2-8563-2e1902768d13",
   "metadata": {},
   "outputs": [
    {
     "data": {
      "text/plain": [
       "[1, 3, 2, 1, 3, 2, 4, 4]"
      ]
     },
     "execution_count": 24,
     "metadata": {},
     "output_type": "execute_result"
    }
   ],
   "source": [
    "tup = (1,2,3,4)\n",
    "tup = list(tup)\n",
    "tup.insert(2,1)\n",
    "tup\n",
    "tup.insert(4,2)\n",
    "\n",
    "tup\n",
    "\n",
    "tup.insert(1,3)\n",
    "\n",
    "tup\n",
    "\n",
    "tup.append(4)\n",
    "\n",
    "tup"
   ]
  },
  {
   "cell_type": "code",
   "execution_count": 32,
   "id": "16d483e1-3129-4613-91c1-3b27851fdadb",
   "metadata": {},
   "outputs": [],
   "source": [
    "r = (\"pawan\", 2, 3,4)"
   ]
  },
  {
   "cell_type": "code",
   "execution_count": 33,
   "id": "c80df3ea-f384-41b8-b3d3-d7869768625d",
   "metadata": {},
   "outputs": [
    {
     "data": {
      "text/plain": [
       "tuple"
      ]
     },
     "execution_count": 33,
     "metadata": {},
     "output_type": "execute_result"
    }
   ],
   "source": [
    "type(r)"
   ]
  },
  {
   "cell_type": "code",
   "execution_count": 34,
   "id": "aecabc3f-b34b-4605-9a30-a46d44edd08f",
   "metadata": {},
   "outputs": [],
   "source": [
    "r = list(r)"
   ]
  },
  {
   "cell_type": "code",
   "execution_count": 35,
   "id": "75794ee8-f929-477f-9ef2-584b8d067bdd",
   "metadata": {},
   "outputs": [
    {
     "data": {
      "text/plain": [
       "list"
      ]
     },
     "execution_count": 35,
     "metadata": {},
     "output_type": "execute_result"
    }
   ],
   "source": [
    "type(r)"
   ]
  },
  {
   "cell_type": "code",
   "execution_count": 36,
   "id": "1769148b-8d79-4bf0-a18a-dcc5f0a72495",
   "metadata": {},
   "outputs": [
    {
     "data": {
      "text/plain": [
       "[1, 3, 2, 1, 3, 2, 4, 4]"
      ]
     },
     "execution_count": 36,
     "metadata": {},
     "output_type": "execute_result"
    }
   ],
   "source": [
    "tup"
   ]
  },
  {
   "cell_type": "code",
   "execution_count": 37,
   "id": "26b77d01-b52e-4a76-bda2-02346bf0f905",
   "metadata": {},
   "outputs": [],
   "source": [
    "tup.insert(4, \"pawan\")"
   ]
  },
  {
   "cell_type": "code",
   "execution_count": 38,
   "id": "879c95ee-0a88-4c1b-8474-ce62f1a6ea44",
   "metadata": {},
   "outputs": [
    {
     "data": {
      "text/plain": [
       "[1, 3, 2, 1, 'pawan', 3, 2, 4, 4]"
      ]
     },
     "execution_count": 38,
     "metadata": {},
     "output_type": "execute_result"
    }
   ],
   "source": [
    "tup"
   ]
  },
  {
   "cell_type": "code",
   "execution_count": 39,
   "id": "8f8c7f48-2c69-4626-a45a-8b51c4b4dd74",
   "metadata": {},
   "outputs": [],
   "source": [
    "tup.insert(2, 22)"
   ]
  },
  {
   "cell_type": "code",
   "execution_count": 40,
   "id": "414ed805-5d2b-40d1-8ffe-b28e0587ad03",
   "metadata": {},
   "outputs": [
    {
     "data": {
      "text/plain": [
       "[1, 3, 22, 2, 1, 'pawan', 3, 2, 4, 4]"
      ]
     },
     "execution_count": 40,
     "metadata": {},
     "output_type": "execute_result"
    }
   ],
   "source": [
    "tup"
   ]
  },
  {
   "cell_type": "code",
   "execution_count": 41,
   "id": "c452fce2-8fa0-4fe7-9c43-8043e9f9b527",
   "metadata": {},
   "outputs": [],
   "source": [
    "tup.insert(1, 90)"
   ]
  },
  {
   "cell_type": "code",
   "execution_count": 42,
   "id": "3d6af44e-f878-4fb4-8cfe-ed198a01c501",
   "metadata": {},
   "outputs": [
    {
     "data": {
      "text/plain": [
       "[1, 90, 3, 22, 2, 1, 'pawan', 3, 2, 4, 4]"
      ]
     },
     "execution_count": 42,
     "metadata": {},
     "output_type": "execute_result"
    }
   ],
   "source": [
    "tup"
   ]
  },
  {
   "cell_type": "code",
   "execution_count": 43,
   "id": "07813fa0-9224-433f-8474-b4473a30f8e8",
   "metadata": {},
   "outputs": [],
   "source": [
    "tup.append(0)"
   ]
  },
  {
   "cell_type": "code",
   "execution_count": 44,
   "id": "9c6d9693-cf8a-4e48-b80a-7152bd4fcd61",
   "metadata": {},
   "outputs": [
    {
     "data": {
      "text/plain": [
       "[1, 90, 3, 22, 2, 1, 'pawan', 3, 2, 4, 4, 0]"
      ]
     },
     "execution_count": 44,
     "metadata": {},
     "output_type": "execute_result"
    }
   ],
   "source": [
    "tup"
   ]
  },
  {
   "cell_type": "code",
   "execution_count": 48,
   "id": "6523c167-c695-4126-8e56-ef795128d94a",
   "metadata": {},
   "outputs": [],
   "source": [
    "tup = (\"data \",\"pawan \", \"science\")"
   ]
  },
  {
   "cell_type": "code",
   "execution_count": 50,
   "id": "138d90b8-0f56-4295-a349-2c793cfed6c5",
   "metadata": {},
   "outputs": [
    {
     "data": {
      "text/plain": [
       "'data science'"
      ]
     },
     "execution_count": 50,
     "metadata": {},
     "output_type": "execute_result"
    }
   ],
   "source": [
    "tup[0]+tup[2]  # join function "
   ]
  },
  {
   "cell_type": "code",
   "execution_count": 56,
   "id": "d86703d7-e4ee-45e8-a22f-5b284029b3ae",
   "metadata": {},
   "outputs": [],
   "source": [
    "a = (1, 90, 3, 22, 2, 1, 'pawan', 3, 2, 4, 4, 0)"
   ]
  },
  {
   "cell_type": "code",
   "execution_count": 57,
   "id": "5bbb2164-8178-4501-b217-bbdf965b24ca",
   "metadata": {},
   "outputs": [],
   "source": [
    "# sort my a after deleting 'pawan'"
   ]
  },
  {
   "cell_type": "code",
   "execution_count": 58,
   "id": "60ba47d3-fd87-4453-9d22-8ed964820a6f",
   "metadata": {},
   "outputs": [
    {
     "data": {
      "text/plain": [
       "[90, 22, 4, 4, 3, 3, 2, 2, 1, 1, 0]"
      ]
     },
     "execution_count": 58,
     "metadata": {},
     "output_type": "execute_result"
    }
   ],
   "source": [
    "a = list(a)\n",
    "a.remove(\"pawan\")\n",
    "sorted(a, reverse = True)"
   ]
  },
  {
   "cell_type": "code",
   "execution_count": 59,
   "id": "2fdd4fab-fb41-4990-b523-dbff8cb42825",
   "metadata": {},
   "outputs": [],
   "source": [
    "a = (\"Data \",\"MachinE\", \"ScIencE\",\"Ai\" ,\"learNing\")"
   ]
  },
  {
   "cell_type": "code",
   "execution_count": 60,
   "id": "4afd5dff-d7bc-4680-b71d-a5fb93c12cc6",
   "metadata": {},
   "outputs": [
    {
     "data": {
      "text/plain": [
       "'dA'"
      ]
     },
     "execution_count": 60,
     "metadata": {},
     "output_type": "execute_result"
    }
   ],
   "source": [
    "s = \"Da\"\n",
    "s.swapcase()"
   ]
  },
  {
   "cell_type": "code",
   "execution_count": 61,
   "id": "a3bc8d1e-c40d-48ad-abca-42761917772a",
   "metadata": {},
   "outputs": [],
   "source": [
    "# Data Science\n",
    "# machine learning\n",
    "# AI"
   ]
  },
  {
   "cell_type": "code",
   "execution_count": 77,
   "id": "c368a41a-32ac-41f8-b998-32d92e74444c",
   "metadata": {},
   "outputs": [
    {
     "data": {
      "text/plain": [
       "('Data ', 'MachinE', 'ScIencE', 'Ai', 'learNing')"
      ]
     },
     "execution_count": 77,
     "metadata": {},
     "output_type": "execute_result"
    }
   ],
   "source": [
    "a"
   ]
  },
  {
   "cell_type": "code",
   "execution_count": 78,
   "id": "d6bc4900-a047-438c-a4b8-23bd6ac16a84",
   "metadata": {},
   "outputs": [
    {
     "name": "stdout",
     "output_type": "stream",
     "text": [
      "Data ScIencE\n",
      "MachinElearNing\n"
     ]
    }
   ],
   "source": [
    "ST = a[0] + a[2]\n",
    "d = a[1] + a[4]\n",
    "print(ST)\n",
    "print(d)"
   ]
  },
  {
   "cell_type": "code",
   "execution_count": 70,
   "id": "6a10913f-6c32-4ea6-ac10-dd62d86bdb79",
   "metadata": {},
   "outputs": [
    {
     "data": {
      "text/plain": [
       "str"
      ]
     },
     "execution_count": 70,
     "metadata": {},
     "output_type": "execute_result"
    }
   ],
   "source": [
    "type(ST)"
   ]
  },
  {
   "cell_type": "code",
   "execution_count": 71,
   "id": "acf712c9-1809-4694-8a32-20d740a079d2",
   "metadata": {},
   "outputs": [
    {
     "data": {
      "text/plain": [
       "'dATA sCiENCe'"
      ]
     },
     "execution_count": 71,
     "metadata": {},
     "output_type": "execute_result"
    }
   ],
   "source": [
    "ST.swapcase()"
   ]
  },
  {
   "cell_type": "code",
   "execution_count": 73,
   "id": "383ab076-8b5c-4d51-8922-fed8c34acc64",
   "metadata": {},
   "outputs": [
    {
     "data": {
      "text/plain": [
       "'mACHINeLEARnING'"
      ]
     },
     "execution_count": 73,
     "metadata": {},
     "output_type": "execute_result"
    }
   ],
   "source": [
    "d.swapcase()"
   ]
  },
  {
   "cell_type": "code",
   "execution_count": 75,
   "id": "809a7ca5-92a4-4d39-a635-6b881e5a8e6e",
   "metadata": {},
   "outputs": [
    {
     "data": {
      "text/plain": [
       "'aI'"
      ]
     },
     "execution_count": 75,
     "metadata": {},
     "output_type": "execute_result"
    }
   ],
   "source": [
    "a[3].swapcase()"
   ]
  },
  {
   "cell_type": "code",
   "execution_count": 79,
   "id": "1c6b14db-1853-4f92-bd02-96d17319908c",
   "metadata": {},
   "outputs": [],
   "source": [
    "a = [1, 90, 3, 22, 2, 1, 'pawan', 3, 2, 4, 4, 0]"
   ]
  },
  {
   "cell_type": "code",
   "execution_count": 81,
   "id": "c1a8c281-f02f-43f2-917f-2eea6f289c22",
   "metadata": {},
   "outputs": [
    {
     "data": {
      "text/plain": [
       "6"
      ]
     },
     "execution_count": 81,
     "metadata": {},
     "output_type": "execute_result"
    }
   ],
   "source": [
    "a = [1,98,3,22,2,1,\"pawan\", 3,2,4,4,8]\n",
    "a.index(\"pawan\")"
   ]
  },
  {
   "cell_type": "code",
   "execution_count": 82,
   "id": "0813b7b2-981d-4339-9edd-b5640ca03b60",
   "metadata": {},
   "outputs": [],
   "source": [
    "# dictionary"
   ]
  },
  {
   "cell_type": "code",
   "execution_count": 84,
   "id": "74fe3f4f-83cb-47a2-b40b-a8f8b5daffc4",
   "metadata": {},
   "outputs": [],
   "source": [
    "d = {\n",
    "    'a' : 'Hello',\n",
    "    'b' : 23,\n",
    "    'c' : True,\n",
    "    'd' : 65.9,\n",
    "    'e' : [1, 2, 3, 4],\n",
    "    'f' : {\n",
    "        '1' : 'AI',\n",
    "        '2' : 'ML'\n",
    "    }\n",
    "}"
   ]
  },
  {
   "cell_type": "code",
   "execution_count": 85,
   "id": "0f08a5d4-f53d-4638-af94-8b0723b7a750",
   "metadata": {},
   "outputs": [
    {
     "data": {
      "text/plain": [
       "dict"
      ]
     },
     "execution_count": 85,
     "metadata": {},
     "output_type": "execute_result"
    }
   ],
   "source": [
    "type(d)"
   ]
  },
  {
   "cell_type": "code",
   "execution_count": 88,
   "id": "c4dc9b93-f845-40f3-ac4b-2b43c8e71d89",
   "metadata": {},
   "outputs": [
    {
     "data": {
      "text/plain": [
       "dict_items([('a', 'Hello'), ('b', 23), ('c', True), ('d', 65.9), ('e', [1, 2, 3, 4]), ('f', {'1': 'AI', '2': 'ML'})])"
      ]
     },
     "execution_count": 88,
     "metadata": {},
     "output_type": "execute_result"
    }
   ],
   "source": [
    "d.items()"
   ]
  },
  {
   "cell_type": "code",
   "execution_count": 90,
   "id": "017708e0-e8ba-4e66-af12-c5a37c558594",
   "metadata": {},
   "outputs": [
    {
     "data": {
      "text/plain": [
       "dict_keys(['a', 'b', 'c', 'd', 'e', 'f'])"
      ]
     },
     "execution_count": 90,
     "metadata": {},
     "output_type": "execute_result"
    }
   ],
   "source": [
    "d.keys()"
   ]
  },
  {
   "cell_type": "code",
   "execution_count": 91,
   "id": "a02f1902-b429-4885-b35e-a0403ba319ba",
   "metadata": {},
   "outputs": [
    {
     "data": {
      "text/plain": [
       "dict_values(['Hello', 23, True, 65.9, [1, 2, 3, 4], {'1': 'AI', '2': 'ML'}])"
      ]
     },
     "execution_count": 91,
     "metadata": {},
     "output_type": "execute_result"
    }
   ],
   "source": [
    "d.values()"
   ]
  },
  {
   "cell_type": "code",
   "execution_count": 93,
   "id": "dfbeb298-acd2-4835-9435-5243dc07b2b6",
   "metadata": {},
   "outputs": [
    {
     "data": {
      "text/plain": [
       "{'1': 'AI', '2': 'ML'}"
      ]
     },
     "execution_count": 93,
     "metadata": {},
     "output_type": "execute_result"
    }
   ],
   "source": [
    "d.get('f')"
   ]
  },
  {
   "cell_type": "code",
   "execution_count": 98,
   "id": "aa268995-8fd1-4808-8890-4ae60737fdf0",
   "metadata": {},
   "outputs": [
    {
     "data": {
      "text/plain": [
       "('Hello', 65.9)"
      ]
     },
     "execution_count": 98,
     "metadata": {},
     "output_type": "execute_result"
    }
   ],
   "source": [
    "d['a'] , d['d']"
   ]
  },
  {
   "cell_type": "code",
   "execution_count": 99,
   "id": "5f125036-9943-43f5-aa9e-d1ca579394a3",
   "metadata": {},
   "outputs": [
    {
     "data": {
      "text/plain": [
       "{'a': 'Hello',\n",
       " 'b': 23,\n",
       " 'c': True,\n",
       " 'd': 65.9,\n",
       " 'e': [1, 2, 3, 4],\n",
       " 'f': {'1': 'AI', '2': 'ML'}}"
      ]
     },
     "execution_count": 99,
     "metadata": {},
     "output_type": "execute_result"
    }
   ],
   "source": [
    "d"
   ]
  },
  {
   "cell_type": "code",
   "execution_count": 106,
   "id": "7c61c0cc-7d95-4e9a-933d-c02a33dc656d",
   "metadata": {},
   "outputs": [
    {
     "data": {
      "text/plain": [
       "4"
      ]
     },
     "execution_count": 106,
     "metadata": {},
     "output_type": "execute_result"
    }
   ],
   "source": [
    "d['e'][3]"
   ]
  },
  {
   "cell_type": "code",
   "execution_count": 108,
   "id": "64d32a36-97e3-40e1-ab1e-0025d6b3abb6",
   "metadata": {},
   "outputs": [
    {
     "data": {
      "text/plain": [
       "'ML'"
      ]
     },
     "execution_count": 108,
     "metadata": {},
     "output_type": "execute_result"
    }
   ],
   "source": [
    "d['f']['2']"
   ]
  },
  {
   "cell_type": "code",
   "execution_count": null,
   "id": "4b3e8a7b-714f-4874-a1f3-7adcd82647ce",
   "metadata": {},
   "outputs": [],
   "source": []
  }
 ],
 "metadata": {
  "kernelspec": {
   "display_name": "Python 3 (ipykernel)",
   "language": "python",
   "name": "python3"
  },
  "language_info": {
   "codemirror_mode": {
    "name": "ipython",
    "version": 3
   },
   "file_extension": ".py",
   "mimetype": "text/x-python",
   "name": "python",
   "nbconvert_exporter": "python",
   "pygments_lexer": "ipython3",
   "version": "3.12.7"
  }
 },
 "nbformat": 4,
 "nbformat_minor": 5
}
