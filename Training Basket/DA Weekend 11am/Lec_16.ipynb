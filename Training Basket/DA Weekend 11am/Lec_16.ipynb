{
 "cells": [
  {
   "cell_type": "code",
   "execution_count": 1,
   "id": "77f2db88-1412-481a-9604-5eda86ca7f22",
   "metadata": {},
   "outputs": [
    {
     "data": {
      "text/plain": [
       "['tHIS', 'Is', 'dAtA', 'sCIEnCe']"
      ]
     },
     "execution_count": 1,
     "metadata": {},
     "output_type": "execute_result"
    }
   ],
   "source": [
    "st = \"This iS DaTa ScieNcE\"\n",
    "\n",
    "a = st.split()\n",
    "\n",
    "a\n",
    "\n",
    "b = []\n",
    "\n",
    "for i in a:\n",
    "\n",
    "  if i not in b:\n",
    "\n",
    "    b.append(i.swapcase())\n",
    "\n",
    "b"
   ]
  },
  {
   "cell_type": "code",
   "execution_count": 2,
   "id": "c7d0958d-83cd-4055-9a87-1308a60c4f43",
   "metadata": {},
   "outputs": [
    {
     "data": {
      "text/plain": [
       "'tHIS Is dAtA sCIEnCe'"
      ]
     },
     "execution_count": 2,
     "metadata": {},
     "output_type": "execute_result"
    }
   ],
   "source": [
    "st.swapcase()"
   ]
  },
  {
   "cell_type": "code",
   "execution_count": 3,
   "id": "ef1243e5-535f-4b28-beda-8aed21727732",
   "metadata": {},
   "outputs": [],
   "source": [
    "# for i in st:\n",
    "#     if i.isupper()"
   ]
  },
  {
   "cell_type": "code",
   "execution_count": 14,
   "id": "e6620461-5b74-449b-b10c-623db6ba2726",
   "metadata": {},
   "outputs": [],
   "source": [
    "s = ''\n",
    "for i in st:\n",
    "    if i != ' ':\n",
    "        if i.islower():\n",
    "            # print(chr(ord(i) - 32))\n",
    "            s = s + chr(ord(i) - 32)\n",
    "        else:\n",
    "            # print(chr(ord(i) + 32))\n",
    "            s = s + chr(ord(i) + 32)"
   ]
  },
  {
   "cell_type": "code",
   "execution_count": 7,
   "id": "07780564-f655-4bcf-8b80-31a26e9edd2a",
   "metadata": {},
   "outputs": [
    {
     "data": {
      "text/plain": [
       "'I'"
      ]
     },
     "execution_count": 7,
     "metadata": {},
     "output_type": "execute_result"
    }
   ],
   "source": [
    "chr(ord('i') - 32)"
   ]
  },
  {
   "cell_type": "code",
   "execution_count": 15,
   "id": "45ecc4bf-2031-45c6-91c5-e069bb60d1be",
   "metadata": {},
   "outputs": [
    {
     "data": {
      "text/plain": [
       "'tHISIsdAtAsCIEnCe'"
      ]
     },
     "execution_count": 15,
     "metadata": {},
     "output_type": "execute_result"
    }
   ],
   "source": [
    "s"
   ]
  },
  {
   "cell_type": "code",
   "execution_count": 17,
   "id": "3f51e6f6-6c8a-48da-9c5b-3e0682769bdb",
   "metadata": {},
   "outputs": [
    {
     "name": "stdout",
     "output_type": "stream",
     "text": [
      "hello\n"
     ]
    }
   ],
   "source": [
    "print('hello')"
   ]
  },
  {
   "cell_type": "code",
   "execution_count": 18,
   "id": "10bea04a-385e-4eb3-aee6-fe95c7528a35",
   "metadata": {},
   "outputs": [],
   "source": [
    "a = print"
   ]
  },
  {
   "cell_type": "code",
   "execution_count": 19,
   "id": "97ab2209-d902-45b1-bd10-c1e4d12d4e13",
   "metadata": {},
   "outputs": [
    {
     "data": {
      "text/plain": [
       "<function print(*args, sep=' ', end='\\n', file=None, flush=False)>"
      ]
     },
     "execution_count": 19,
     "metadata": {},
     "output_type": "execute_result"
    }
   ],
   "source": [
    "a"
   ]
  },
  {
   "cell_type": "code",
   "execution_count": 20,
   "id": "527ca414-94cf-4db8-a8ab-3c47f8627d4c",
   "metadata": {},
   "outputs": [
    {
     "name": "stdout",
     "output_type": "stream",
     "text": [
      "hello\n"
     ]
    }
   ],
   "source": [
    "a(\"hello\")"
   ]
  },
  {
   "cell_type": "code",
   "execution_count": 21,
   "id": "20d70f5f-1b5f-4aff-ac2f-76e7ed3db954",
   "metadata": {},
   "outputs": [],
   "source": [
    "a = len"
   ]
  },
  {
   "cell_type": "code",
   "execution_count": 22,
   "id": "baf50b01-2dad-43c1-9f73-1063d8accbe2",
   "metadata": {},
   "outputs": [
    {
     "data": {
      "text/plain": [
       "20"
      ]
     },
     "execution_count": 22,
     "metadata": {},
     "output_type": "execute_result"
    }
   ],
   "source": [
    "a(st)"
   ]
  },
  {
   "cell_type": "code",
   "execution_count": 23,
   "id": "703b9cdb-20a8-4fd1-adc5-a13097057161",
   "metadata": {},
   "outputs": [],
   "source": [
    "a = type"
   ]
  },
  {
   "cell_type": "code",
   "execution_count": 24,
   "id": "1d29f01f-8d19-41da-bfc8-58c1bd66363c",
   "metadata": {},
   "outputs": [
    {
     "data": {
      "text/plain": [
       "str"
      ]
     },
     "execution_count": 24,
     "metadata": {},
     "output_type": "execute_result"
    }
   ],
   "source": [
    "a(st)"
   ]
  },
  {
   "cell_type": "code",
   "execution_count": 25,
   "id": "5d49299d-34f0-474a-a9a0-03dbe7e24fe5",
   "metadata": {},
   "outputs": [],
   "source": [
    "def f1(n):\n",
    "    print(n)"
   ]
  },
  {
   "cell_type": "code",
   "execution_count": 26,
   "id": "8cf32b75-7c5f-4940-aee9-5de551b4f530",
   "metadata": {},
   "outputs": [
    {
     "data": {
      "text/plain": [
       "<function __main__.f1(n)>"
      ]
     },
     "execution_count": 26,
     "metadata": {},
     "output_type": "execute_result"
    }
   ],
   "source": [
    "f1"
   ]
  },
  {
   "cell_type": "code",
   "execution_count": 28,
   "id": "f799919c-3226-44a3-8aba-f136cb4d89ff",
   "metadata": {},
   "outputs": [
    {
     "name": "stdout",
     "output_type": "stream",
     "text": [
      "Tushar\n"
     ]
    }
   ],
   "source": [
    "f1('Tushar')"
   ]
  },
  {
   "cell_type": "code",
   "execution_count": 31,
   "id": "c64ab096-91fb-4e12-83ba-5d7dd60803f7",
   "metadata": {},
   "outputs": [
    {
     "name": "stdout",
     "output_type": "stream",
     "text": [
      "Tushar\n"
     ]
    }
   ],
   "source": [
    "name = f1('Tushar')"
   ]
  },
  {
   "cell_type": "code",
   "execution_count": 34,
   "id": "9d2cb62d-90d7-4043-a381-7d751907830d",
   "metadata": {},
   "outputs": [
    {
     "name": "stdout",
     "output_type": "stream",
     "text": [
      "None\n"
     ]
    }
   ],
   "source": [
    "print(name)"
   ]
  },
  {
   "cell_type": "code",
   "execution_count": 35,
   "id": "0bfa1ef3-6dea-464f-bc3b-26b63e3b81a4",
   "metadata": {},
   "outputs": [],
   "source": [
    "def f1(n):\n",
    "    return n"
   ]
  },
  {
   "cell_type": "code",
   "execution_count": 36,
   "id": "01b00582-1ff8-44b0-b426-f42e4109de3d",
   "metadata": {},
   "outputs": [
    {
     "data": {
      "text/plain": [
       "'Tushar'"
      ]
     },
     "execution_count": 36,
     "metadata": {},
     "output_type": "execute_result"
    }
   ],
   "source": [
    "f1('Tushar')"
   ]
  },
  {
   "cell_type": "code",
   "execution_count": 37,
   "id": "df6954fd-8c97-4d29-8079-0550e346a4c4",
   "metadata": {},
   "outputs": [],
   "source": [
    "name = f1('Tushar')"
   ]
  },
  {
   "cell_type": "code",
   "execution_count": 38,
   "id": "0e6fd915-1281-4d4a-ba4c-43ee40ed51de",
   "metadata": {},
   "outputs": [
    {
     "name": "stdout",
     "output_type": "stream",
     "text": [
      "Tushar\n"
     ]
    }
   ],
   "source": [
    "print(name)"
   ]
  },
  {
   "cell_type": "code",
   "execution_count": 39,
   "id": "12545331-162e-4178-9993-9521f52eb8f5",
   "metadata": {},
   "outputs": [],
   "source": [
    "def addition(a, b):\n",
    "    add = a + b\n",
    "    return add"
   ]
  },
  {
   "cell_type": "code",
   "execution_count": 40,
   "id": "9a900436-f4b0-4233-91bf-226a49f15f24",
   "metadata": {},
   "outputs": [],
   "source": [
    "sum_ = addition(3, 2)"
   ]
  },
  {
   "cell_type": "code",
   "execution_count": 41,
   "id": "f82b683a-df8a-4e13-8422-4ee3f4e18283",
   "metadata": {},
   "outputs": [
    {
     "data": {
      "text/plain": [
       "5"
      ]
     },
     "execution_count": 41,
     "metadata": {},
     "output_type": "execute_result"
    }
   ],
   "source": [
    "sum_"
   ]
  },
  {
   "cell_type": "code",
   "execution_count": 51,
   "id": "3aa75a49-bd66-489a-8282-a8b9e0fae709",
   "metadata": {},
   "outputs": [],
   "source": [
    "def arithmetic_operations(a, b):\n",
    "    return (a+b), (a-b) , (a*b), (a/b), (a%b), (a//b)"
   ]
  },
  {
   "cell_type": "code",
   "execution_count": 62,
   "id": "269a3d6a-a9d1-4744-bc12-7bf18e15ffbd",
   "metadata": {},
   "outputs": [],
   "source": [
    "sum_, sub_ , mult, div, mod, floor = arithmetic_operations(10, 3)"
   ]
  },
  {
   "cell_type": "code",
   "execution_count": 63,
   "id": "6afa9b6d-31d6-422d-b978-9b1f56c96a63",
   "metadata": {},
   "outputs": [
    {
     "data": {
      "text/plain": [
       "13"
      ]
     },
     "execution_count": 63,
     "metadata": {},
     "output_type": "execute_result"
    }
   ],
   "source": [
    "sum_"
   ]
  },
  {
   "cell_type": "code",
   "execution_count": 64,
   "id": "72e9623c-179b-4690-961b-30b2d38e74d7",
   "metadata": {},
   "outputs": [
    {
     "data": {
      "text/plain": [
       "7"
      ]
     },
     "execution_count": 64,
     "metadata": {},
     "output_type": "execute_result"
    }
   ],
   "source": [
    "sub_"
   ]
  },
  {
   "cell_type": "code",
   "execution_count": 65,
   "id": "1396c5f2-a67d-4b2e-9f12-5ebbc63a10dd",
   "metadata": {},
   "outputs": [
    {
     "data": {
      "text/plain": [
       "3.3333333333333335"
      ]
     },
     "execution_count": 65,
     "metadata": {},
     "output_type": "execute_result"
    }
   ],
   "source": [
    "div"
   ]
  },
  {
   "cell_type": "code",
   "execution_count": 66,
   "id": "82037e94-4ebc-4b33-b201-1d0c3c1cd75a",
   "metadata": {},
   "outputs": [
    {
     "data": {
      "text/plain": [
       "30"
      ]
     },
     "execution_count": 66,
     "metadata": {},
     "output_type": "execute_result"
    }
   ],
   "source": [
    "mult"
   ]
  },
  {
   "cell_type": "code",
   "execution_count": 67,
   "id": "b25066ca-cdbe-4d6d-9829-07aeaf12bcae",
   "metadata": {},
   "outputs": [
    {
     "data": {
      "text/plain": [
       "1"
      ]
     },
     "execution_count": 67,
     "metadata": {},
     "output_type": "execute_result"
    }
   ],
   "source": [
    "mod"
   ]
  },
  {
   "cell_type": "code",
   "execution_count": 68,
   "id": "a53fdfcd-d6d3-4861-a21f-c58a0347466f",
   "metadata": {},
   "outputs": [
    {
     "data": {
      "text/plain": [
       "3"
      ]
     },
     "execution_count": 68,
     "metadata": {},
     "output_type": "execute_result"
    }
   ],
   "source": [
    "floor"
   ]
  },
  {
   "cell_type": "code",
   "execution_count": 69,
   "id": "1306094b-008f-4a77-b52f-603d0d7395f5",
   "metadata": {},
   "outputs": [
    {
     "name": "stdin",
     "output_type": "stream",
     "text": [
      "enter the number =  20\n",
      "enter the number =  4\n"
     ]
    }
   ],
   "source": [
    "a = int(input(\"enter the number = \"))\n",
    "b = int(input(\"enter the number = \"))\n",
    "sum_, sub_ , mult, div, mod, floor = arithmetic_operations(a, b)"
   ]
  },
  {
   "cell_type": "code",
   "execution_count": 70,
   "id": "32793ac9-11d8-4c40-9621-fed1ded353a7",
   "metadata": {},
   "outputs": [
    {
     "data": {
      "text/plain": [
       "24"
      ]
     },
     "execution_count": 70,
     "metadata": {},
     "output_type": "execute_result"
    }
   ],
   "source": [
    "sum_"
   ]
  },
  {
   "cell_type": "code",
   "execution_count": 71,
   "id": "257f9115-fd24-43e6-ab8f-edaa119f3db6",
   "metadata": {},
   "outputs": [
    {
     "data": {
      "text/plain": [
       "16"
      ]
     },
     "execution_count": 71,
     "metadata": {},
     "output_type": "execute_result"
    }
   ],
   "source": [
    "sub_"
   ]
  },
  {
   "cell_type": "code",
   "execution_count": 72,
   "id": "9e7c9136-d0b5-45d0-8b04-63734d688dcc",
   "metadata": {},
   "outputs": [
    {
     "data": {
      "text/plain": [
       "0"
      ]
     },
     "execution_count": 72,
     "metadata": {},
     "output_type": "execute_result"
    }
   ],
   "source": [
    "mod"
   ]
  },
  {
   "cell_type": "code",
   "execution_count": 73,
   "id": "6dc92e7b-bd92-41fa-9de8-5efffa237d6d",
   "metadata": {},
   "outputs": [
    {
     "data": {
      "text/plain": [
       "5"
      ]
     },
     "execution_count": 73,
     "metadata": {},
     "output_type": "execute_result"
    }
   ],
   "source": [
    "floor"
   ]
  },
  {
   "cell_type": "code",
   "execution_count": 74,
   "id": "b6d38339-1874-468e-93c8-b70828f129e5",
   "metadata": {},
   "outputs": [
    {
     "data": {
      "text/plain": [
       "5.0"
      ]
     },
     "execution_count": 74,
     "metadata": {},
     "output_type": "execute_result"
    }
   ],
   "source": [
    "div"
   ]
  },
  {
   "cell_type": "code",
   "execution_count": 75,
   "id": "57e8ee89-f8a1-43df-8a99-2a112c923d89",
   "metadata": {},
   "outputs": [],
   "source": [
    "def f1(first_name):\n",
    "    return first_name\n",
    "\n",
    "def f2(second_name):\n",
    "    return second_name"
   ]
  },
  {
   "cell_type": "code",
   "execution_count": 76,
   "id": "9fbc2ab9-4185-4e81-9d4d-30ea736bf0fd",
   "metadata": {},
   "outputs": [],
   "source": [
    "first = f1(\"Tushar\")"
   ]
  },
  {
   "cell_type": "code",
   "execution_count": 77,
   "id": "8b01fc3a-4b3c-4f6b-a129-e72339e6c514",
   "metadata": {},
   "outputs": [],
   "source": [
    "second = f2(\"Khitoliya\")"
   ]
  },
  {
   "cell_type": "code",
   "execution_count": 80,
   "id": "017d0142-c131-486c-aefa-8412f2ba4c90",
   "metadata": {},
   "outputs": [],
   "source": [
    "def f3(a, b):\n",
    "    return a +' ' +b"
   ]
  },
  {
   "cell_type": "code",
   "execution_count": 81,
   "id": "7c1c8b80-5366-4c7c-afbc-a549198ac5da",
   "metadata": {},
   "outputs": [
    {
     "data": {
      "text/plain": [
       "'Tushar Khitoliya'"
      ]
     },
     "execution_count": 81,
     "metadata": {},
     "output_type": "execute_result"
    }
   ],
   "source": [
    "f3(first, second)"
   ]
  },
  {
   "cell_type": "code",
   "execution_count": 82,
   "id": "e5d32515-fc4b-4200-9a99-3b902ef6ec0d",
   "metadata": {},
   "outputs": [],
   "source": [
    "def f3():\n",
    "    a = f1('Tushar')\n",
    "    b = f2(\"Khitoliya\")\n",
    "    return a + \" \" + b"
   ]
  },
  {
   "cell_type": "code",
   "execution_count": 83,
   "id": "55dfdd74-74fa-418c-8832-89f8fac4dfc1",
   "metadata": {},
   "outputs": [
    {
     "data": {
      "text/plain": [
       "'Tushar Khitoliya'"
      ]
     },
     "execution_count": 83,
     "metadata": {},
     "output_type": "execute_result"
    }
   ],
   "source": [
    "f3()"
   ]
  },
  {
   "cell_type": "code",
   "execution_count": 84,
   "id": "3230e33b-4dc9-42eb-b760-af5025ecde78",
   "metadata": {},
   "outputs": [],
   "source": [
    "def f3(f1, f2):\n",
    "    return f1 + f2"
   ]
  },
  {
   "cell_type": "code",
   "execution_count": 85,
   "id": "454709fa-37f5-4985-b73a-7b108febf1c0",
   "metadata": {},
   "outputs": [
    {
     "data": {
      "text/plain": [
       "'TusharKhitoliya'"
      ]
     },
     "execution_count": 85,
     "metadata": {},
     "output_type": "execute_result"
    }
   ],
   "source": [
    "f3(f1('Tushar'), f2(\"Khitoliya\"))"
   ]
  },
  {
   "cell_type": "code",
   "execution_count": 86,
   "id": "0b706759-ff8f-48c2-8764-c56c687c9077",
   "metadata": {},
   "outputs": [],
   "source": [
    "def calc(a, b):\n",
    "    operator = input(\"enter the operator = \")\n",
    "    if operator == '+':\n",
    "        return a+b\n",
    "    elif operator == '-':\n",
    "        return a-b\n",
    "    elif operator == '*':\n",
    "        return a*b\n",
    "    elif operator == '/':\n",
    "        return a/b\n",
    "    elif operator == '%':\n",
    "        return a%b\n",
    "    elif operator == '//':\n",
    "        return a//b\n",
    "    else:\n",
    "        print(\"Please provide me the correct operator\")\n",
    "        "
   ]
  },
  {
   "cell_type": "code",
   "execution_count": 91,
   "id": "b6834dd2-a5d8-46e7-a0f6-ad6b81a773c4",
   "metadata": {},
   "outputs": [
    {
     "name": "stdin",
     "output_type": "stream",
     "text": [
      "enter the choice =  no\n",
      "enter the operator =  -\n"
     ]
    },
    {
     "name": "stdout",
     "output_type": "stream",
     "text": [
      "17\n"
     ]
    },
    {
     "name": "stdin",
     "output_type": "stream",
     "text": [
      "enter the choice =  %\n",
      "enter the operator =  end\n"
     ]
    },
    {
     "name": "stdout",
     "output_type": "stream",
     "text": [
      "Please provide me the correct operator\n",
      "None\n"
     ]
    },
    {
     "name": "stdin",
     "output_type": "stream",
     "text": [
      "enter the choice =  end\n",
      "enter the operator =  //\n"
     ]
    },
    {
     "name": "stdout",
     "output_type": "stream",
     "text": [
      "6\n"
     ]
    }
   ],
   "source": [
    "a = 20\n",
    "b = 3\n",
    "while True:\n",
    "    choice = input(\"enter the choice = \")\n",
    "    print(calc(a, b))\n",
    "    if choice == 'end':\n",
    "        break"
   ]
  },
  {
   "cell_type": "code",
   "execution_count": 92,
   "id": "232f955b-e0b7-4755-83dc-a50783abe4f4",
   "metadata": {},
   "outputs": [],
   "source": [
    "def cube(a):\n",
    "    tsa = 6*a**2\n",
    "    vol = a**3\n",
    "    return tsa, vol"
   ]
  },
  {
   "cell_type": "code",
   "execution_count": 93,
   "id": "1921044d-8d2e-4ed7-9528-e074b06da4b0",
   "metadata": {},
   "outputs": [
    {
     "data": {
      "text/plain": [
       "(24, 8)"
      ]
     },
     "execution_count": 93,
     "metadata": {},
     "output_type": "execute_result"
    }
   ],
   "source": [
    "cube(2)"
   ]
  },
  {
   "cell_type": "code",
   "execution_count": 103,
   "id": "c8c53802-cdad-4886-979e-0eaf2adb6d0e",
   "metadata": {},
   "outputs": [],
   "source": [
    "def area(a):\n",
    "  return a**3\n",
    "\n",
    "def perimeter(b):\n",
    "\n",
    "  return 6*b**2\n",
    "\n",
    "# a = area(2)\n",
    "\n",
    "# # b = perimeter(2)\n",
    "\n",
    "# area(a)\n",
    "\n",
    "# # perimeter(2)"
   ]
  },
  {
   "cell_type": "code",
   "execution_count": 104,
   "id": "4d9aa83a-0146-4e22-9514-3eb99b2e00a5",
   "metadata": {},
   "outputs": [
    {
     "data": {
      "text/plain": [
       "8"
      ]
     },
     "execution_count": 104,
     "metadata": {},
     "output_type": "execute_result"
    }
   ],
   "source": [
    "area(2)"
   ]
  },
  {
   "cell_type": "code",
   "execution_count": 105,
   "id": "7a086c4f-8789-49c7-a887-d8f4292d41e3",
   "metadata": {},
   "outputs": [
    {
     "data": {
      "text/plain": [
       "24"
      ]
     },
     "execution_count": 105,
     "metadata": {},
     "output_type": "execute_result"
    }
   ],
   "source": [
    "perimeter(2)"
   ]
  },
  {
   "cell_type": "code",
   "execution_count": 106,
   "id": "a59336f6-d242-499c-bf7c-64d04eded4ef",
   "metadata": {},
   "outputs": [],
   "source": [
    "def memory(a):\n",
    "    return f\"memory address of {a} = {id(a)}\""
   ]
  },
  {
   "cell_type": "code",
   "execution_count": 110,
   "id": "60bd854f-0a73-42d3-a6d7-edc2efb38faf",
   "metadata": {},
   "outputs": [
    {
     "data": {
      "text/plain": [
       "'memory address of (24, 8) = 2473105398144'"
      ]
     },
     "execution_count": 110,
     "metadata": {},
     "output_type": "execute_result"
    }
   ],
   "source": [
    "memory(cube(2))"
   ]
  },
  {
   "cell_type": "code",
   "execution_count": 111,
   "id": "12096fa4-633e-4455-a11e-fb01f9b24f10",
   "metadata": {},
   "outputs": [
    {
     "data": {
      "text/plain": [
       "'AA'"
      ]
     },
     "execution_count": 111,
     "metadata": {},
     "output_type": "execute_result"
    }
   ],
   "source": [
    "st = 'AABCAAADA'\n",
    "st[0:3][:2 ]"
   ]
  },
  {
   "cell_type": "code",
   "execution_count": 113,
   "id": "ebc7996d-3ef4-45dd-9652-a29303415cd9",
   "metadata": {},
   "outputs": [
    {
     "name": "stdout",
     "output_type": "stream",
     "text": [
      "AA CA AD       "
     ]
    }
   ],
   "source": [
    "l = len(st)\n",
    "idx = 0\n",
    "n = 3\n",
    "while l > 0:\n",
    "    print(st[idx : n][ : 2], end = \" \")\n",
    "    idx = n\n",
    "    n = n + 3\n",
    "    l = l - 1"
   ]
  },
  {
   "cell_type": "code",
   "execution_count": 114,
   "id": "db3939ae-1098-4058-8939-1f3f639b07ee",
   "metadata": {},
   "outputs": [],
   "source": [
    "def sub_string(st, n = 3):\n",
    "    l = len(st)\n",
    "    idx = 0\n",
    "    while l > 0:\n",
    "        print(st[idx : n][ : 2], end = \" \")\n",
    "        idx = n\n",
    "        n = n + 3\n",
    "        l = l - 1"
   ]
  },
  {
   "cell_type": "code",
   "execution_count": 118,
   "id": "6b609a4f-c013-4795-848d-89e5c95381bf",
   "metadata": {},
   "outputs": [
    {
     "name": "stdout",
     "output_type": "stream",
     "text": [
      "AA CA AD       "
     ]
    }
   ],
   "source": [
    "sub_string(st, n = 3)"
   ]
  },
  {
   "cell_type": "code",
   "execution_count": 122,
   "id": "be9301b7-2b4c-4d44-854b-2d167d8e4862",
   "metadata": {},
   "outputs": [],
   "source": [
    "a = 12365551132311\n",
    "def count_freq(a):\n",
    "    a = str(a)\n",
    "    l = []\n",
    "    l1 = []\n",
    "    for i in a:\n",
    "        if i not in l1:\n",
    "            l.append((i, a.count(i)))\n",
    "            l1.append(i)\n",
    "    return l"
   ]
  },
  {
   "cell_type": "code",
   "execution_count": 123,
   "id": "b5ea81b2-fda1-4a9a-a024-9f734e2c4e8c",
   "metadata": {},
   "outputs": [
    {
     "data": {
      "text/plain": [
       "[('1', 5), ('2', 2), ('3', 3), ('6', 1), ('5', 3)]"
      ]
     },
     "execution_count": 123,
     "metadata": {},
     "output_type": "execute_result"
    }
   ],
   "source": [
    "count_freq(a)"
   ]
  },
  {
   "cell_type": "code",
   "execution_count": null,
   "id": "27c87b8e-a577-45c0-a547-43c585076a13",
   "metadata": {},
   "outputs": [],
   "source": []
  }
 ],
 "metadata": {
  "kernelspec": {
   "display_name": "Python 3 (ipykernel)",
   "language": "python",
   "name": "python3"
  },
  "language_info": {
   "codemirror_mode": {
    "name": "ipython",
    "version": 3
   },
   "file_extension": ".py",
   "mimetype": "text/x-python",
   "name": "python",
   "nbconvert_exporter": "python",
   "pygments_lexer": "ipython3",
   "version": "3.12.7"
  }
 },
 "nbformat": 4,
 "nbformat_minor": 5
}
