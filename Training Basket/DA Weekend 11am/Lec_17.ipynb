{
 "cells": [
  {
   "cell_type": "code",
   "execution_count": 1,
   "id": "7bb8c2f6-57e4-4839-b53c-ff042553ddc1",
   "metadata": {},
   "outputs": [
    {
     "name": "stdin",
     "output_type": "stream",
     "text": [
      "enter the value of a =  tushar\n"
     ]
    }
   ],
   "source": [
    "a = input(\"enter the value of a = \")"
   ]
  },
  {
   "cell_type": "code",
   "execution_count": 2,
   "id": "f768dc57-4f3c-452d-b1d4-e166224c9cf7",
   "metadata": {},
   "outputs": [
    {
     "data": {
      "text/plain": [
       "str"
      ]
     },
     "execution_count": 2,
     "metadata": {},
     "output_type": "execute_result"
    }
   ],
   "source": [
    "type(a)"
   ]
  },
  {
   "cell_type": "code",
   "execution_count": 3,
   "id": "bae876e4-c2ca-4222-9637-8349185d3ca4",
   "metadata": {},
   "outputs": [
    {
     "ename": "ValueError",
     "evalue": "invalid literal for int() with base 10: 'tushar'",
     "output_type": "error",
     "traceback": [
      "\u001b[1;31m---------------------------------------------------------------------------\u001b[0m",
      "\u001b[1;31mValueError\u001b[0m                                Traceback (most recent call last)",
      "Cell \u001b[1;32mIn[3], line 1\u001b[0m\n\u001b[1;32m----> 1\u001b[0m a \u001b[38;5;241m=\u001b[39m \u001b[38;5;28mint\u001b[39m(a)\n",
      "\u001b[1;31mValueError\u001b[0m: invalid literal for int() with base 10: 'tushar'"
     ]
    }
   ],
   "source": [
    "a = int(a)"
   ]
  },
  {
   "cell_type": "code",
   "execution_count": 12,
   "id": "ed1045fe-9d5e-4071-b5bd-05843c468b71",
   "metadata": {},
   "outputs": [
    {
     "name": "stdin",
     "output_type": "stream",
     "text": [
      "enter the value of a =  9\n"
     ]
    }
   ],
   "source": [
    "a = float(input(\"enter the value of a = \"))"
   ]
  },
  {
   "cell_type": "code",
   "execution_count": 9,
   "id": "1738ec17-0504-4048-9713-7e5ed1aced0c",
   "metadata": {},
   "outputs": [
    {
     "data": {
      "text/plain": [
       "int"
      ]
     },
     "execution_count": 9,
     "metadata": {},
     "output_type": "execute_result"
    }
   ],
   "source": [
    "type(a)"
   ]
  },
  {
   "cell_type": "code",
   "execution_count": 10,
   "id": "90d826b1-a94e-4bfe-bbe0-f91dc6622137",
   "metadata": {},
   "outputs": [],
   "source": [
    "a = int(a)"
   ]
  },
  {
   "cell_type": "code",
   "execution_count": 11,
   "id": "206049a8-83d5-4ed3-85de-d590d7586f81",
   "metadata": {},
   "outputs": [
    {
     "data": {
      "text/plain": [
       "23"
      ]
     },
     "execution_count": 11,
     "metadata": {},
     "output_type": "execute_result"
    }
   ],
   "source": [
    "a"
   ]
  },
  {
   "cell_type": "code",
   "execution_count": 13,
   "id": "8c95d3f0-374f-4e75-9eec-f9336ab15553",
   "metadata": {},
   "outputs": [],
   "source": [
    "l = [1, 1,2 ,4,3 ]"
   ]
  },
  {
   "cell_type": "code",
   "execution_count": 14,
   "id": "b12e5ef3-e266-4310-8199-56908fa1bef9",
   "metadata": {},
   "outputs": [],
   "source": [
    "l = str(l)"
   ]
  },
  {
   "cell_type": "code",
   "execution_count": 21,
   "id": "67c4fbe2-f34f-42e5-aede-32d6071b8178",
   "metadata": {},
   "outputs": [
    {
     "data": {
      "text/plain": [
       "'[1, 1, 2, 4, 3]'"
      ]
     },
     "execution_count": 21,
     "metadata": {},
     "output_type": "execute_result"
    }
   ],
   "source": [
    "l"
   ]
  },
  {
   "cell_type": "code",
   "execution_count": 22,
   "id": "8171f5be-6a34-4c4d-88a4-49cacae398a5",
   "metadata": {},
   "outputs": [],
   "source": [
    "s = 'training'"
   ]
  },
  {
   "cell_type": "code",
   "execution_count": 28,
   "id": "2c279e65-6836-45b3-91cb-89df79bfc7a7",
   "metadata": {},
   "outputs": [],
   "source": [
    "s = set(s)"
   ]
  },
  {
   "cell_type": "code",
   "execution_count": 29,
   "id": "1536874b-13d0-4c44-8826-0e8533d05c1f",
   "metadata": {},
   "outputs": [
    {
     "data": {
      "text/plain": [
       "{'a', 'g', 'i', 'n', 'r', 't'}"
      ]
     },
     "execution_count": 29,
     "metadata": {},
     "output_type": "execute_result"
    }
   ],
   "source": [
    "s"
   ]
  },
  {
   "cell_type": "code",
   "execution_count": 30,
   "id": "d801864c-5b43-4ed0-9e35-4742b4dbfddc",
   "metadata": {},
   "outputs": [
    {
     "name": "stdin",
     "output_type": "stream",
     "text": [
      "Enter a number:  100002\n"
     ]
    },
    {
     "ename": "TypeError",
     "evalue": "'int' object is not iterable",
     "output_type": "error",
     "traceback": [
      "\u001b[1;31m---------------------------------------------------------------------------\u001b[0m",
      "\u001b[1;31mTypeError\u001b[0m                                 Traceback (most recent call last)",
      "Cell \u001b[1;32mIn[30], line 5\u001b[0m\n\u001b[0;32m      1\u001b[0m n \u001b[38;5;241m=\u001b[39m \u001b[38;5;28mint\u001b[39m(\u001b[38;5;28minput\u001b[39m(\u001b[38;5;124m\"\u001b[39m\u001b[38;5;124mEnter a number: \u001b[39m\u001b[38;5;124m\"\u001b[39m))\n\u001b[0;32m      3\u001b[0m count \u001b[38;5;241m=\u001b[39m \u001b[38;5;241m0\u001b[39m\n\u001b[1;32m----> 5\u001b[0m \u001b[38;5;28;01mfor\u001b[39;00m i \u001b[38;5;129;01min\u001b[39;00m n:\n\u001b[0;32m      7\u001b[0m   count \u001b[38;5;241m+\u001b[39m\u001b[38;5;241m=\u001b[39m \u001b[38;5;241m1\u001b[39m\n\u001b[0;32m      9\u001b[0m count\n",
      "\u001b[1;31mTypeError\u001b[0m: 'int' object is not iterable"
     ]
    }
   ],
   "source": [
    "n = int(input(\"Enter a number: \"))\n",
    "\n",
    "count = 0\n",
    "\n",
    "for i in n:\n",
    "\n",
    "  count += 1\n",
    "\n",
    "count"
   ]
  },
  {
   "cell_type": "code",
   "execution_count": 6,
   "id": "47fbdf59-3ff0-4940-a9b9-00e32060ed0a",
   "metadata": {},
   "outputs": [
    {
     "name": "stdin",
     "output_type": "stream",
     "text": [
      "enter the number 9876532\n"
     ]
    },
    {
     "name": "stdout",
     "output_type": "stream",
     "text": [
      "7\n"
     ]
    }
   ],
   "source": [
    "count = 0\n",
    "n = int(input(\"enter the number\"))\n",
    "while n > 0:\n",
    "    n = n//10\n",
    "    count = count + 1\n",
    "print(count)"
   ]
  },
  {
   "cell_type": "code",
   "execution_count": 34,
   "id": "0cb57b6b-ec2e-4b76-b5df-00208d075f9a",
   "metadata": {},
   "outputs": [
    {
     "data": {
      "text/plain": [
       "0"
      ]
     },
     "execution_count": 34,
     "metadata": {},
     "output_type": "execute_result"
    }
   ],
   "source": [
    "count"
   ]
  },
  {
   "cell_type": "code",
   "execution_count": 26,
   "id": "f1c1b317-63ab-420c-a5e5-a179fedc460c",
   "metadata": {},
   "outputs": [],
   "source": [
    "st = '''Machine learning (ML) is a field of artificial intelligence that uses algorithms to enable systems to learn from data and improve their performance over time, without being explicitly programmed. By identifying patterns and making informed decisions based on large datasets, ML models become more accurate and effective with more experience. Key applications include predicting future outcomes, classifying information, and generating content, forming a core component of modern AI systems.'''\n",
    "# find the number of words in the given string without using split function"
   ]
  },
  {
   "cell_type": "code",
   "execution_count": 11,
   "id": "85ab879c-e2ea-40f4-af42-bc17d00a36da",
   "metadata": {},
   "outputs": [
    {
     "data": {
      "text/plain": [
       "76"
      ]
     },
     "execution_count": 11,
     "metadata": {},
     "output_type": "execute_result"
    }
   ],
   "source": [
    "st = 'Training Basket'\n",
    "for i in st:\n",
    "\n",
    "   if i in \" \":\n",
    "\n",
    "     count += 1\n",
    "\n",
    "     words = count - 1\n",
    "\n",
    "     if i == st[len(st) - 1]:\n",
    "\n",
    "       break\n",
    "\n",
    "words"
   ]
  },
  {
   "cell_type": "code",
   "execution_count": 18,
   "id": "481c399c-d323-4b19-bd03-a64889812c44",
   "metadata": {},
   "outputs": [
    {
     "data": {
      "text/plain": [
       "15"
      ]
     },
     "execution_count": 18,
     "metadata": {},
     "output_type": "execute_result"
    }
   ],
   "source": [
    "st = 'Training Basket'\n",
    "len(st)"
   ]
  },
  {
   "cell_type": "code",
   "execution_count": 31,
   "id": "64fdac30-2372-42de-b020-5a91cd0c4d69",
   "metadata": {},
   "outputs": [
    {
     "name": "stdout",
     "output_type": "stream",
     "text": [
      "number of words is 69\n"
     ]
    }
   ],
   "source": [
    "l = len(st)\n",
    "i = 0\n",
    "count = 0\n",
    "while l > 0:\n",
    "    if st[i] == ' ':\n",
    "        count = count + 1\n",
    "        \n",
    "    l = l-1\n",
    "    i = i + 1\n",
    "print(f\"number of words is {count + 1}\")"
   ]
  },
  {
   "cell_type": "code",
   "execution_count": 51,
   "id": "b461ae20-0ed6-44dc-9125-2d274d8f97b3",
   "metadata": {},
   "outputs": [],
   "source": [
    "s = [('Apple', 7), ('Orange', 10), ('Banana', 2), ('Mango', 8), ('Guava', 6)]"
   ]
  },
  {
   "cell_type": "code",
   "execution_count": 52,
   "id": "207239a6-3924-455f-99a2-6c9c0036c301",
   "metadata": {},
   "outputs": [],
   "source": [
    "for _ in range(len(s)):\n",
    "    for i in range(len(s) - 1):\n",
    "        if s[i][1] > s[i+1][1]:\n",
    "            s[i], s[i+1] = s[i+1], s[i]"
   ]
  },
  {
   "cell_type": "code",
   "execution_count": 53,
   "id": "d169bcaa-a4aa-408c-9722-f396f04c9559",
   "metadata": {},
   "outputs": [
    {
     "data": {
      "text/plain": [
       "[('Banana', 2), ('Guava', 6), ('Apple', 7), ('Mango', 8), ('Orange', 10)]"
      ]
     },
     "execution_count": 53,
     "metadata": {},
     "output_type": "execute_result"
    }
   ],
   "source": [
    "s"
   ]
  },
  {
   "cell_type": "code",
   "execution_count": null,
   "id": "0d160b87-48a6-439f-bda2-d844bd3dc7e2",
   "metadata": {},
   "outputs": [],
   "source": []
  }
 ],
 "metadata": {
  "kernelspec": {
   "display_name": "Python 3 (ipykernel)",
   "language": "python",
   "name": "python3"
  },
  "language_info": {
   "codemirror_mode": {
    "name": "ipython",
    "version": 3
   },
   "file_extension": ".py",
   "mimetype": "text/x-python",
   "name": "python",
   "nbconvert_exporter": "python",
   "pygments_lexer": "ipython3",
   "version": "3.12.7"
  }
 },
 "nbformat": 4,
 "nbformat_minor": 5
}
