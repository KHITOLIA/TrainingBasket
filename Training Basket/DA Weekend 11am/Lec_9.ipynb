{
 "cells": [
  {
   "cell_type": "markdown",
   "id": "81ad3060-1f3a-4a1d-b43b-0c689b82831d",
   "metadata": {},
   "source": [
    "# Conditional Statements"
   ]
  },
  {
   "cell_type": "code",
   "execution_count": 3,
   "id": "dc684366-914e-4fce-afef-74e3ed863818",
   "metadata": {},
   "outputs": [],
   "source": [
    "a = 10"
   ]
  },
  {
   "cell_type": "code",
   "execution_count": 4,
   "id": "69081992-f2ee-42e5-801e-f8a05582906b",
   "metadata": {},
   "outputs": [
    {
     "name": "stdout",
     "output_type": "stream",
     "text": [
      "yes\n"
     ]
    }
   ],
   "source": [
    "if a > 5:\n",
    "    print(\"yes\")"
   ]
  },
  {
   "cell_type": "code",
   "execution_count": 5,
   "id": "fcf72b0c-26a8-4f57-be73-90d1b423a35d",
   "metadata": {},
   "outputs": [
    {
     "name": "stdout",
     "output_type": "stream",
     "text": [
      "go\n"
     ]
    }
   ],
   "source": [
    "if a < 5:\n",
    "    print('Yes')\n",
    "    \n",
    "elif a > 8:\n",
    "    print('go')"
   ]
  },
  {
   "cell_type": "code",
   "execution_count": 6,
   "id": "6bf3abb6-9915-46d7-9fe0-88d328599d9e",
   "metadata": {},
   "outputs": [
    {
     "name": "stdout",
     "output_type": "stream",
     "text": [
      "go\n",
      "Tushar\n",
      "iqbal\n"
     ]
    }
   ],
   "source": [
    "if a < 5:\n",
    "    print('Yes')\n",
    "    \n",
    "elif a > 8:\n",
    "    print('go')\n",
    "\n",
    "elif a > 6:\n",
    "    print(\"chal ja\")\n",
    "\n",
    "if a >= 7:\n",
    "    print('Tushar')\n",
    "\n",
    "if a < 20:\n",
    "    print('iqbal')\n",
    "    \n",
    "elif a < 19:\n",
    "    print('hello')"
   ]
  },
  {
   "cell_type": "code",
   "execution_count": 7,
   "id": "ecb7804f-28a2-4470-9ee5-a818d8658794",
   "metadata": {},
   "outputs": [
    {
     "name": "stdout",
     "output_type": "stream",
     "text": [
      "chal gaya\n"
     ]
    }
   ],
   "source": [
    "if a < 5:\n",
    "    print('go')\n",
    "elif a == 10:\n",
    "    print(\"chal gaya\")"
   ]
  },
  {
   "cell_type": "code",
   "execution_count": 8,
   "id": "2ef9ac59-78b0-47ad-81ab-7637ca311070",
   "metadata": {},
   "outputs": [
    {
     "name": "stdout",
     "output_type": "stream",
     "text": [
      "basket\n"
     ]
    }
   ],
   "source": [
    "if a > 20:  \n",
    "    print('hi')\n",
    "elif a != 10:\n",
    "    print('hello')\n",
    "\n",
    "    if a < 7:\n",
    "        print('yes sir')\n",
    "    elif a == 20:\n",
    "        print('no sir')\n",
    "    else:\n",
    "        print('go')\n",
    "else:\n",
    "    print(\"basket\")\n",
    "\n",
    "# if a == 10:\n",
    "#     print('5')\n",
    "    \n",
    "# else:\n",
    "#     print('chal gya')"
   ]
  },
  {
   "cell_type": "code",
   "execution_count": 23,
   "id": "9566f44d-4905-4d41-8ba3-ae116c1d9d30",
   "metadata": {},
   "outputs": [
    {
     "data": {
      "text/plain": [
       "False"
      ]
     },
     "execution_count": 23,
     "metadata": {},
     "output_type": "execute_result"
    }
   ],
   "source": [
    "a == 1"
   ]
  },
  {
   "cell_type": "code",
   "execution_count": 40,
   "id": "16726756-08ee-430e-8b9a-9b7f8ce8214c",
   "metadata": {},
   "outputs": [
    {
     "data": {
      "text/plain": [
       "1"
      ]
     },
     "execution_count": 40,
     "metadata": {},
     "output_type": "execute_result"
    }
   ],
   "source": [
    "9 % 2"
   ]
  },
  {
   "cell_type": "code",
   "execution_count": 41,
   "id": "29cf843d-13ea-41b1-8a15-9f2fd5657a57",
   "metadata": {},
   "outputs": [
    {
     "data": {
      "text/plain": [
       "4.5"
      ]
     },
     "execution_count": 41,
     "metadata": {},
     "output_type": "execute_result"
    }
   ],
   "source": [
    "9 / 2"
   ]
  },
  {
   "cell_type": "code",
   "execution_count": 42,
   "id": "ad1b4f81-7011-4b0f-82f3-a70a9f5f9cc0",
   "metadata": {},
   "outputs": [
    {
     "data": {
      "text/plain": [
       "4"
      ]
     },
     "execution_count": 42,
     "metadata": {},
     "output_type": "execute_result"
    }
   ],
   "source": [
    "9 // 2"
   ]
  },
  {
   "cell_type": "code",
   "execution_count": 48,
   "id": "65fe9a43-8851-4a72-a693-bc7171624bee",
   "metadata": {},
   "outputs": [
    {
     "name": "stdin",
     "output_type": "stream",
     "text": [
      "enter the number =  897657889\n"
     ]
    }
   ],
   "source": [
    "a = int(input(\"enter the number = \"))"
   ]
  },
  {
   "cell_type": "code",
   "execution_count": 49,
   "id": "d7d90156-34e4-4542-99c6-1af8eb746346",
   "metadata": {},
   "outputs": [
    {
     "name": "stdout",
     "output_type": "stream",
     "text": [
      "odd number\n"
     ]
    }
   ],
   "source": [
    "if a%2 == 0:\n",
    "    print(\"even number\")\n",
    "else:\n",
    "    print(\"odd number\")"
   ]
  },
  {
   "cell_type": "code",
   "execution_count": 51,
   "id": "cce8a456-a60c-4c01-add9-72068277f429",
   "metadata": {},
   "outputs": [],
   "source": [
    "# take an input 3 times and check whether it is odd or even"
   ]
  },
  {
   "cell_type": "code",
   "execution_count": 54,
   "id": "6192abc2-e481-430d-9ae1-cd9df43d62a5",
   "metadata": {},
   "outputs": [
    {
     "name": "stdin",
     "output_type": "stream",
     "text": [
      "enter the number =  86\n"
     ]
    },
    {
     "name": "stdout",
     "output_type": "stream",
     "text": [
      "even number\n",
      "even number\n",
      "even number\n"
     ]
    }
   ],
   "source": [
    "a = int(input(\"enter the number = \"))\n",
    "for i in range(3):\n",
    "    if a%2 == 0:\n",
    "        print(\"even number\")\n",
    "    else:\n",
    "        print(\"odd number\")"
   ]
  },
  {
   "cell_type": "code",
   "execution_count": 1,
   "id": "33e6513a-3032-467f-84ce-cdc4be3969fe",
   "metadata": {},
   "outputs": [],
   "source": [
    "# take two different input and check which is greater "
   ]
  },
  {
   "cell_type": "code",
   "execution_count": null,
   "id": "ecfb7dbf-b096-4cfe-8117-7809ce567081",
   "metadata": {},
   "outputs": [],
   "source": [
    "10 > 9"
   ]
  }
 ],
 "metadata": {
  "kernelspec": {
   "display_name": "Python 3 (ipykernel)",
   "language": "python",
   "name": "python3"
  },
  "language_info": {
   "codemirror_mode": {
    "name": "ipython",
    "version": 3
   },
   "file_extension": ".py",
   "mimetype": "text/x-python",
   "name": "python",
   "nbconvert_exporter": "python",
   "pygments_lexer": "ipython3",
   "version": "3.12.7"
  }
 },
 "nbformat": 4,
 "nbformat_minor": 5
}
