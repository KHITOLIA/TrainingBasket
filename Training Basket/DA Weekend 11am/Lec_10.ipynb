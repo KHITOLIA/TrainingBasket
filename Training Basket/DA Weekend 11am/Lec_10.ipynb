{
 "cells": [
  {
   "cell_type": "code",
   "execution_count": 1,
   "id": "dc8fedd2-4e11-45b8-8084-2f2007da0d81",
   "metadata": {},
   "outputs": [],
   "source": [
    "# take two different input and check which is greater "
   ]
  },
  {
   "cell_type": "code",
   "execution_count": 3,
   "id": "f1e3cc21-fdc9-4121-91b7-770b931c3352",
   "metadata": {},
   "outputs": [
    {
     "name": "stdin",
     "output_type": "stream",
     "text": [
      "enter first number =  10\n",
      "enter second number =  8\n"
     ]
    },
    {
     "name": "stdout",
     "output_type": "stream",
     "text": [
      "10 is greater than 8\n"
     ]
    }
   ],
   "source": [
    "A = int(input(\"enter first number = \"))\n",
    "B = int(input(\"enter second number = \"))\n",
    "\n",
    "if A>B:\n",
    "    print(A, \"is greater than\",B)\n",
    "else:\n",
    "    print(B,\"is greater than\",A)"
   ]
  },
  {
   "cell_type": "code",
   "execution_count": 5,
   "id": "8e0ae911-031f-4ead-b855-38191a843ab8",
   "metadata": {},
   "outputs": [
    {
     "name": "stdin",
     "output_type": "stream",
     "text": [
      "What's your age ? 20\n"
     ]
    },
    {
     "name": "stdout",
     "output_type": "stream",
     "text": [
      "You can cast a vote\n"
     ]
    }
   ],
   "source": [
    "a = int(input(\"What's your age ?\"))\n",
    "\n",
    "if a>=18:\n",
    "\n",
    "  print(\"You can cast a vote\")\n",
    "\n",
    "else:\n",
    "\n",
    "  print(\"You are not eligible to cast a vote\")"
   ]
  },
  {
   "cell_type": "code",
   "execution_count": 7,
   "id": "bf64f8b8-a2f5-40b6-adc9-9cf49beba848",
   "metadata": {},
   "outputs": [
    {
     "name": "stdin",
     "output_type": "stream",
     "text": [
      "What's your age ? 20\n"
     ]
    },
    {
     "name": "stdout",
     "output_type": "stream",
     "text": [
      "You can cast a vote\n"
     ]
    }
   ],
   "source": [
    "a = int(input(\"What's your age ?\"))\n",
    "\n",
    "if a>=18:\n",
    "    print(\"You can cast a vote\")\n",
    "else:\n",
    "    print(\"You cannot cast a vote\")"
   ]
  },
  {
   "cell_type": "code",
   "execution_count": 8,
   "id": "2635f612-fb38-4d62-b241-1ce1c0d0d2b2",
   "metadata": {},
   "outputs": [],
   "source": [
    "# a,b,c = 29, 87, 13"
   ]
  },
  {
   "cell_type": "code",
   "execution_count": null,
   "id": "8d1b29c7-ca2d-4061-b8b5-24aa72eef04b",
   "metadata": {},
   "outputs": [],
   "source": [
    "a = int(input(\"Write a number: \"))\n",
    "\n",
    "b = int(input(\"Write a number: \"))\n",
    "\n",
    "c = int(input(\"Write a number: \"))\n",
    "\n",
    "if a>b and a>c:\n",
    "\n",
    "  print(\"a is the greatest\")\n",
    "\n",
    "elif b>a and b>c:\n",
    "\n",
    "  print(\"b is the greatest\")\n",
    "\n",
    "elif c>a and c>b:\n",
    "\n",
    "  print(\"c is the greatest\")"
   ]
  },
  {
   "cell_type": "code",
   "execution_count": 10,
   "id": "94651048-63e3-48a5-9f27-9c0e3943cd5d",
   "metadata": {},
   "outputs": [
    {
     "name": "stdin",
     "output_type": "stream",
     "text": [
      "first no.  29\n",
      "second no.  87\n",
      "third no.  19\n"
     ]
    }
   ],
   "source": [
    "a = int(input(\"first no. \"))\n",
    "b = int(input(\"second no. \"))\n",
    "c = int(input(\"third no. \"))"
   ]
  },
  {
   "cell_type": "code",
   "execution_count": 13,
   "id": "a690949d-8aef-45f0-bda2-9239a22e2686",
   "metadata": {},
   "outputs": [
    {
     "name": "stdout",
     "output_type": "stream",
     "text": [
      "87  bada hai\n"
     ]
    }
   ],
   "source": [
    "if a > b and a > c : \n",
    "    print(a, \" bada hai\")\n",
    "elif b > a and b > c:\n",
    "    print(b, \" bada hai\")\n",
    "else:\n",
    "    print(c, \" bada hai \")"
   ]
  },
  {
   "cell_type": "code",
   "execution_count": 17,
   "id": "77d7c759-07fa-4fe8-a0ce-60aa69c66d88",
   "metadata": {},
   "outputs": [
    {
     "name": "stdin",
     "output_type": "stream",
     "text": [
      "First side:  12\n",
      "Second side:  10\n",
      "Third side:  20\n"
     ]
    },
    {
     "name": "stdout",
     "output_type": "stream",
     "text": [
      "This forms a triangle\n"
     ]
    }
   ],
   "source": [
    "a = int(input(\"First side: \"))\n",
    "\n",
    "b = int(input(\"Second side: \"))\n",
    "\n",
    "c = int(input(\"Third side: \"))\n",
    "\n",
    "if a+b>c and b+c>a and a+c>b:\n",
    "\n",
    "  print(\"This forms a triangle\")\n",
    "\n",
    "else:\n",
    "\n",
    "  print(\"Triangle is not possible\")"
   ]
  },
  {
   "cell_type": "code",
   "execution_count": 19,
   "id": "5bf098b6-e203-4af6-8368-501bdc842145",
   "metadata": {},
   "outputs": [
    {
     "data": {
      "text/plain": [
       "100.0"
      ]
     },
     "execution_count": 19,
     "metadata": {},
     "output_type": "execute_result"
    }
   ],
   "source": [
    "p = 1000\n",
    "r = 2\n",
    "t = 5\n",
    "\n",
    "si = (p*r*t)/100\n",
    "si"
   ]
  },
  {
   "cell_type": "code",
   "execution_count": 21,
   "id": "54618e8e-5c13-4835-a57a-e5bf26498ab1",
   "metadata": {},
   "outputs": [
    {
     "name": "stdin",
     "output_type": "stream",
     "text": [
      "principal amount =  3000\n",
      "rate of interest =  7\n",
      "time period =  2.5\n"
     ]
    },
    {
     "name": "stdout",
     "output_type": "stream",
     "text": [
      "low interest value\n"
     ]
    }
   ],
   "source": [
    "p = float(input('principal amount = '))\n",
    "r = float(input('rate of interest = '))\n",
    "t = float(input('time period = '))\n",
    "si = (p*r*t)/100\n",
    "\n",
    "if si > 5000:\n",
    "    print(\"High interest value\")\n",
    "else:\n",
    "    print(\"low interest value\")"
   ]
  },
  {
   "cell_type": "code",
   "execution_count": 22,
   "id": "17854dae-3050-4317-bf65-c67d3c77eb56",
   "metadata": {},
   "outputs": [
    {
     "data": {
      "text/plain": [
       "525.0"
      ]
     },
     "execution_count": 22,
     "metadata": {},
     "output_type": "execute_result"
    }
   ],
   "source": [
    "si"
   ]
  },
  {
   "cell_type": "code",
   "execution_count": null,
   "id": "77f366e8-dfe7-4b56-b670-60a8328a93c5",
   "metadata": {},
   "outputs": [],
   "source": []
  }
 ],
 "metadata": {
  "kernelspec": {
   "display_name": "Python 3 (ipykernel)",
   "language": "python",
   "name": "python3"
  },
  "language_info": {
   "codemirror_mode": {
    "name": "ipython",
    "version": 3
   },
   "file_extension": ".py",
   "mimetype": "text/x-python",
   "name": "python",
   "nbconvert_exporter": "python",
   "pygments_lexer": "ipython3",
   "version": "3.12.7"
  }
 },
 "nbformat": 4,
 "nbformat_minor": 5
}
