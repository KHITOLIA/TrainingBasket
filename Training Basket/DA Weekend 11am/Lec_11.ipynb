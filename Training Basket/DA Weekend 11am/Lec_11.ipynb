{
 "cells": [
  {
   "cell_type": "code",
   "execution_count": 4,
   "id": "53cf4495-6843-4b5e-a3a5-261e383dc7b5",
   "metadata": {},
   "outputs": [
    {
     "name": "stdin",
     "output_type": "stream",
     "text": [
      "Enter a year:  2004\n"
     ]
    },
    {
     "name": "stdout",
     "output_type": "stream",
     "text": [
      "Leap year\n"
     ]
    }
   ],
   "source": [
    "year = int(input(\"Enter a year: \"))\n",
    "\n",
    "if year % 4 == 0:\n",
    "    print(\"Leap year\")\n",
    "\n",
    "else:\n",
    "    print(\"Not a leap year\")"
   ]
  },
  {
   "cell_type": "code",
   "execution_count": 7,
   "id": "a48c9710-b4ba-4e0f-a5d6-18a846e29737",
   "metadata": {},
   "outputs": [
    {
     "name": "stdin",
     "output_type": "stream",
     "text": [
      "Price:  10000\n"
     ]
    },
    {
     "name": "stdout",
     "output_type": "stream",
     "text": [
      "Actual price: 9000.0\n"
     ]
    }
   ],
   "source": [
    "price = int(input(\"Price: \"))\n",
    "\n",
    "Discounted_price = 0.1*(price)\n",
    "\n",
    "# actual_price = price - Discounted_price\n",
    "\n",
    "if price > 7500:\n",
    "    actual_price = price - Discounted_price\n",
    "\n",
    "    print(f\"Actual price: {actual_price}\")"
   ]
  },
  {
   "cell_type": "code",
   "execution_count": 10,
   "id": "82c1e19d-25f4-410e-a492-339d5ddf8967",
   "metadata": {},
   "outputs": [
    {
     "name": "stdin",
     "output_type": "stream",
     "text": [
      "Enter the price =  10000\n"
     ]
    },
    {
     "name": "stdout",
     "output_type": "stream",
     "text": [
      "10% discount applied. Final amount: 9000.0\n"
     ]
    }
   ],
   "source": [
    "value= int(input(\"Enter the price = \"))\n",
    "\n",
    "if value > 7500:\n",
    "\n",
    "    discount = value * 0.10\n",
    "\n",
    "    final_price = value - discount\n",
    "\n",
    "    print(f\"10% discount applied. Final amount: {final_price}\")\n",
    "\n",
    "else:\n",
    "\n",
    "    print(\"No discount applicable.\")"
   ]
  },
  {
   "cell_type": "code",
   "execution_count": 36,
   "id": "fd44f69d-0313-4f6e-927d-158f0e64b335",
   "metadata": {},
   "outputs": [],
   "source": [
    "n = 20"
   ]
  },
  {
   "cell_type": "code",
   "execution_count": 30,
   "id": "0355ad32-205f-4119-b9b1-0ab2e500fccf",
   "metadata": {},
   "outputs": [],
   "source": [
    "n = str(n)"
   ]
  },
  {
   "cell_type": "code",
   "execution_count": 31,
   "id": "90d99df8-5bfa-4905-a75b-6b9da4ed3e18",
   "metadata": {},
   "outputs": [
    {
     "data": {
      "text/plain": [
       "'7'"
      ]
     },
     "execution_count": 31,
     "metadata": {},
     "output_type": "execute_result"
    }
   ],
   "source": [
    "n[-1]"
   ]
  },
  {
   "cell_type": "code",
   "execution_count": 32,
   "id": "40037dbd-ec38-4e84-bf7f-46dfa8018db6",
   "metadata": {},
   "outputs": [
    {
     "name": "stdout",
     "output_type": "stream",
     "text": [
      "Odd\n"
     ]
    }
   ],
   "source": [
    "l = [0, 2, 4, 6, 8]\n",
    "if n[-1] in l:\n",
    "    print('Even')\n",
    "else:\n",
    "    print(\"Odd\")"
   ]
  },
  {
   "cell_type": "code",
   "execution_count": 38,
   "id": "91597744-da6a-4d91-af67-50bcb6005cc6",
   "metadata": {},
   "outputs": [
    {
     "name": "stdout",
     "output_type": "stream",
     "text": [
      "odd\n"
     ]
    }
   ],
   "source": [
    "n = 99\n",
    "if (n//2)*2==n:\n",
    "    print(\"Even\")\n",
    "else:\n",
    "    print(\"odd\")"
   ]
  },
  {
   "cell_type": "code",
   "execution_count": 45,
   "id": "da809ab2-ee4a-477e-9473-dd2fdba0bc05",
   "metadata": {},
   "outputs": [
    {
     "name": "stdout",
     "output_type": "stream",
     "text": [
      "maximum value is: 9\n"
     ]
    }
   ],
   "source": [
    "A = [2,5,1,0,7,8,9,0]\n",
    "\n",
    "maximum_value = A[0]\n",
    "\n",
    "for num in A[1:]:\n",
    "\n",
    "    if num > maximum_value:\n",
    "    \n",
    "        maximum_value= num \n",
    "    \n",
    "print(\"maximum value is:\",maximum_value)"
   ]
  },
  {
   "cell_type": "code",
   "execution_count": 46,
   "id": "267247f4-fc01-4a4b-b788-84aeff1a2bb7",
   "metadata": {},
   "outputs": [
    {
     "name": "stdout",
     "output_type": "stream",
     "text": [
      "Maximum from the list is 6\n"
     ]
    }
   ],
   "source": [
    "l = [2, 3, 5, 1, 6]\n",
    "maximum = l[0]\n",
    "for num in l:\n",
    "    if num > maximum:\n",
    "        maximum = num\n",
    "print(\"Maximum from the list is\", maximum)"
   ]
  },
  {
   "cell_type": "code",
   "execution_count": 52,
   "id": "2d371781-6f3d-4c5f-a654-a1f284eca546",
   "metadata": {},
   "outputs": [
    {
     "name": "stdout",
     "output_type": "stream",
     "text": [
      "2 5 1 0 7 8 5 "
     ]
    }
   ],
   "source": [
    "l = [2,5,1,0,7,8,9,5]\n",
    "\n",
    "l1 = [2,3,1,0,5,7,8]\n",
    "\n",
    "for i in l:\n",
    "  if i in l1:\n",
    "    print(i, end = ' ')\n"
   ]
  },
  {
   "cell_type": "code",
   "execution_count": 51,
   "id": "dce18f56-fe81-412b-badd-05ecdf5c1990",
   "metadata": {},
   "outputs": [
    {
     "name": "stdout",
     "output_type": "stream",
     "text": [
      "common element: [0, 1, 2, 3, 5, 7, 8]\n"
     ]
    }
   ],
   "source": [
    "A=[2,5,1,0,7,8,9,0]\n",
    "\n",
    "B=[2,3,1,0,5,7,8]\n",
    "\n",
    "common = list(set(A)and set(B))\n",
    "\n",
    "print(\"common element:\",common)"
   ]
  },
  {
   "cell_type": "code",
   "execution_count": 60,
   "id": "3bf437ad-f90a-46aa-a4c0-448c30b14f79",
   "metadata": {},
   "outputs": [],
   "source": [
    "l = [2,2,3,3,5,5,1,0,7,8,8,8,9,5]\n",
    "# remove all the common element from the list\n",
    "# l1 = [1, 0, 7, 9] # only non-repeating elements"
   ]
  },
  {
   "cell_type": "code",
   "execution_count": 63,
   "id": "52a028f3-f4a2-4131-b664-98dbfd4586a8",
   "metadata": {},
   "outputs": [],
   "source": [
    "s = []\n",
    "for i in l:\n",
    "    if i not in s:\n",
    "        s.append(i)"
   ]
  },
  {
   "cell_type": "code",
   "execution_count": 64,
   "id": "f9901040-6004-4593-bb0b-eece09403158",
   "metadata": {},
   "outputs": [
    {
     "data": {
      "text/plain": [
       "[2, 3, 5, 1, 0, 7, 8, 9]"
      ]
     },
     "execution_count": 64,
     "metadata": {},
     "output_type": "execute_result"
    }
   ],
   "source": [
    "s"
   ]
  },
  {
   "cell_type": "code",
   "execution_count": 68,
   "id": "e928b3d7-fe91-479b-8701-8811b3285643",
   "metadata": {},
   "outputs": [
    {
     "name": "stdout",
     "output_type": "stream",
     "text": [
      "1\n",
      "0\n",
      "7\n",
      "9\n"
     ]
    }
   ],
   "source": [
    "l = [2,2,3,3,5,5,1,0,7,8,8,8,9,5]\n",
    "for i in s:\n",
    "    count = 0\n",
    "    for j in l:\n",
    "        if j == i:\n",
    "            count = count + 1\n",
    "    # print(count)\n",
    "    if count < 2:\n",
    "        print(i)\n",
    "            \n",
    "            "
   ]
  },
  {
   "cell_type": "code",
   "execution_count": 98,
   "id": "2426dcff-c1e9-4e79-8566-597c0513337f",
   "metadata": {},
   "outputs": [
    {
     "name": "stdout",
     "output_type": "stream",
     "text": [
      "non repeating elements 1\n",
      "non repeating elements 0\n",
      "non repeating elements 7\n",
      "non repeating elements 9\n"
     ]
    }
   ],
   "source": [
    "s = []\n",
    "l = [2,2,3,3,5,5,1,0,7,8,8,8,9,5]\n",
    "\n",
    "for i in l:\n",
    "    if i not in s:\n",
    "        s.append(i)\n",
    "a = [ ]\n",
    "for num_in_s in s:\n",
    "    count = 0\n",
    "    for num_in_l in l:\n",
    "        if num_in_l == num_in_s:\n",
    "            count += 1\n",
    "    # print(f\"count of {num_in_s} is {count}\")\n",
    "    if count < 2:\n",
    "        print(f\"non repeating elements {num_in_s}\")\n",
    "        a.append(num_in_s)"
   ]
  },
  {
   "cell_type": "code",
   "execution_count": 95,
   "id": "2ab2b64e-c966-49af-86e6-b33f8cab9ad8",
   "metadata": {},
   "outputs": [
    {
     "data": {
      "text/plain": [
       "[]"
      ]
     },
     "execution_count": 95,
     "metadata": {},
     "output_type": "execute_result"
    }
   ],
   "source": [
    "a"
   ]
  },
  {
   "cell_type": "code",
   "execution_count": 89,
   "id": "18f7ee6f-9114-4419-bf7c-bdc846c57a2b",
   "metadata": {},
   "outputs": [],
   "source": [
    "l.clear()"
   ]
  },
  {
   "cell_type": "code",
   "execution_count": 90,
   "id": "b5889569-b075-45e7-8e11-a1798b6d790a",
   "metadata": {},
   "outputs": [
    {
     "data": {
      "text/plain": [
       "[]"
      ]
     },
     "execution_count": 90,
     "metadata": {},
     "output_type": "execute_result"
    }
   ],
   "source": [
    "l"
   ]
  },
  {
   "cell_type": "code",
   "execution_count": 99,
   "id": "e3b78e55-efcb-495d-85cf-682a769287f4",
   "metadata": {},
   "outputs": [
    {
     "data": {
      "text/plain": [
       "[1, 2, 3, 1, 2, 3]"
      ]
     },
     "execution_count": 99,
     "metadata": {},
     "output_type": "execute_result"
    }
   ],
   "source": [
    "[1,2,3]*2"
   ]
  },
  {
   "cell_type": "code",
   "execution_count": null,
   "id": "b2a6441f-e53f-4080-b695-f061e71628f6",
   "metadata": {},
   "outputs": [],
   "source": []
  }
 ],
 "metadata": {
  "kernelspec": {
   "display_name": "Python 3 (ipykernel)",
   "language": "python",
   "name": "python3"
  },
  "language_info": {
   "codemirror_mode": {
    "name": "ipython",
    "version": 3
   },
   "file_extension": ".py",
   "mimetype": "text/x-python",
   "name": "python",
   "nbconvert_exporter": "python",
   "pygments_lexer": "ipython3",
   "version": "3.12.7"
  }
 },
 "nbformat": 4,
 "nbformat_minor": 5
}
