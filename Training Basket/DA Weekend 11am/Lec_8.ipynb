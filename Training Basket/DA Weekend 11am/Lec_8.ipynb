{
 "cells": [
  {
   "cell_type": "code",
   "execution_count": 6,
   "id": "7a7c62cd-dc35-4638-8b4c-b8bf2547aae9",
   "metadata": {},
   "outputs": [],
   "source": [
    "a = 'Hello This is Data Analytics Class'"
   ]
  },
  {
   "cell_type": "code",
   "execution_count": 2,
   "id": "f655a2a3-113f-4bc3-a9fc-3cd3f016964b",
   "metadata": {},
   "outputs": [
    {
     "name": "stdout",
     "output_type": "stream",
     "text": [
      "H\n",
      "e\n",
      "l\n",
      "l\n",
      "o\n",
      " \n",
      "T\n",
      "h\n",
      "i\n",
      "s\n",
      " \n",
      "i\n",
      "s\n",
      " \n",
      "D\n",
      "a\n",
      "t\n",
      "a\n",
      " \n",
      "A\n",
      "n\n",
      "a\n",
      "l\n",
      "y\n",
      "t\n",
      "i\n",
      "c\n",
      "s\n",
      " \n",
      "C\n",
      "l\n",
      "a\n",
      "s\n",
      "s\n"
     ]
    }
   ],
   "source": [
    "for i in a:\n",
    "    print(i)"
   ]
  },
  {
   "cell_type": "code",
   "execution_count": 7,
   "id": "3675e706-953d-473b-976f-0313da25c685",
   "metadata": {},
   "outputs": [
    {
     "data": {
      "text/plain": [
       "'Hello This is Data Analytics Class'"
      ]
     },
     "execution_count": 7,
     "metadata": {},
     "output_type": "execute_result"
    }
   ],
   "source": [
    "a"
   ]
  },
  {
   "cell_type": "code",
   "execution_count": 9,
   "id": "2ec6e34a-f21e-4a3c-ad2e-9db21dbea198",
   "metadata": {},
   "outputs": [
    {
     "name": "stdout",
     "output_type": "stream",
     "text": [
      "Hello This is Data Analytics Class"
     ]
    }
   ],
   "source": [
    "for i in a:\n",
    "    print(i,end = '')"
   ]
  },
  {
   "cell_type": "code",
   "execution_count": 14,
   "id": "4cca490a-4394-4aa7-92e6-2277ea76d7b0",
   "metadata": {},
   "outputs": [
    {
     "name": "stdout",
     "output_type": "stream",
     "text": [
      "s\n",
      "s\n",
      "a\n",
      "l\n",
      "C\n",
      " \n",
      "s\n",
      "c\n",
      "i\n",
      "t\n",
      "y\n",
      "l\n",
      "a\n",
      "n\n",
      "A\n",
      " \n",
      "a\n",
      "t\n",
      "a\n",
      "D\n",
      " \n",
      "s\n",
      "i\n",
      " \n",
      "s\n",
      "i\n",
      "h\n",
      "T\n",
      " \n",
      "o\n",
      "l\n",
      "l\n",
      "e\n",
      "H\n"
     ]
    }
   ],
   "source": [
    "i = -1\n",
    "for char in a:\n",
    "    print(a[i])\n",
    "    i = i-1"
   ]
  },
  {
   "cell_type": "code",
   "execution_count": 16,
   "id": "7c3ecbe0-37a3-4942-bd22-3fa19b3ba31f",
   "metadata": {},
   "outputs": [
    {
     "name": "stdout",
     "output_type": "stream",
     "text": [
      "s\n",
      "s\n",
      "a\n",
      "l\n",
      "C\n",
      " \n",
      "s\n",
      "c\n",
      "i\n",
      "t\n",
      "y\n",
      "l\n",
      "a\n",
      "n\n",
      "A\n",
      " \n",
      "a\n",
      "t\n",
      "a\n",
      "D\n",
      " \n",
      "s\n",
      "i\n",
      " \n",
      "s\n",
      "i\n",
      "h\n",
      "T\n",
      " \n",
      "o\n",
      "l\n",
      "l\n",
      "e\n",
      "H\n"
     ]
    }
   ],
   "source": [
    "for i in range(len(a)):\n",
    "    print(a[-(i+1)])"
   ]
  },
  {
   "cell_type": "code",
   "execution_count": 18,
   "id": "2c0ec040-d22f-4898-b09a-0ec349dc3353",
   "metadata": {},
   "outputs": [
    {
     "name": "stdout",
     "output_type": "stream",
     "text": [
      "H\n",
      "e\n",
      "l\n",
      "l\n",
      "o\n"
     ]
    }
   ],
   "source": [
    "st = 'Hello'\n",
    "for i in st:\n",
    "    print(i)"
   ]
  },
  {
   "cell_type": "code",
   "execution_count": 20,
   "id": "1561a679-519c-4c27-be7d-90612f27cdec",
   "metadata": {},
   "outputs": [
    {
     "name": "stdout",
     "output_type": "stream",
     "text": [
      "o\n",
      "l\n",
      "l\n",
      "e\n",
      "H\n"
     ]
    }
   ],
   "source": [
    "for i in range(len(st)):\n",
    "    print(st[-(i+1)])"
   ]
  },
  {
   "cell_type": "code",
   "execution_count": 21,
   "id": "beab87dd-1a7d-4442-a0c0-611e04015b04",
   "metadata": {},
   "outputs": [
    {
     "data": {
      "text/plain": [
       "'Hello This is Data Analytics Class'"
      ]
     },
     "execution_count": 21,
     "metadata": {},
     "output_type": "execute_result"
    }
   ],
   "source": [
    "a"
   ]
  },
  {
   "cell_type": "code",
   "execution_count": 22,
   "id": "ea506ddd-0c2b-4d21-8e2a-3fc3426c8c96",
   "metadata": {},
   "outputs": [
    {
     "data": {
      "text/plain": [
       "'olleH'"
      ]
     },
     "execution_count": 22,
     "metadata": {},
     "output_type": "execute_result"
    }
   ],
   "source": [
    "st[::-1]"
   ]
  },
  {
   "cell_type": "code",
   "execution_count": 39,
   "id": "0c2b7c2b-11a7-4e27-8aea-367f43bd07b0",
   "metadata": {},
   "outputs": [],
   "source": [
    "s = \"\"\n",
    "for i in st:\n",
    "    s = i + s # concatenate the characters"
   ]
  },
  {
   "cell_type": "code",
   "execution_count": 40,
   "id": "f8b8dc05-662c-423f-a2a3-ad3bc99ec399",
   "metadata": {},
   "outputs": [
    {
     "data": {
      "text/plain": [
       "'olleH'"
      ]
     },
     "execution_count": 40,
     "metadata": {},
     "output_type": "execute_result"
    }
   ],
   "source": [
    "s"
   ]
  },
  {
   "cell_type": "code",
   "execution_count": 38,
   "id": "5d3aea1b-3c91-41a1-ae47-fd51dd18c0ba",
   "metadata": {},
   "outputs": [
    {
     "data": {
      "text/plain": [
       "'hello*tushar'"
      ]
     },
     "execution_count": 38,
     "metadata": {},
     "output_type": "execute_result"
    }
   ],
   "source": [
    "'hello' + \"*\"+ 'tushar'"
   ]
  },
  {
   "cell_type": "code",
   "execution_count": 43,
   "id": "426a54b3-94c7-4ecf-adb5-d57bd3475388",
   "metadata": {},
   "outputs": [
    {
     "data": {
      "text/plain": [
       "'Hello This is Data Analytics Class'"
      ]
     },
     "execution_count": 43,
     "metadata": {},
     "output_type": "execute_result"
    }
   ],
   "source": [
    "a"
   ]
  },
  {
   "cell_type": "code",
   "execution_count": 44,
   "id": "7db9edbd-b0b9-4ad9-bf9a-a1547d7da208",
   "metadata": {},
   "outputs": [],
   "source": [
    "# output : class Analytics Data is This Hello"
   ]
  },
  {
   "cell_type": "code",
   "execution_count": 45,
   "id": "d1af0c7d-d917-4ad1-85a6-9f45b2f9a164",
   "metadata": {},
   "outputs": [],
   "source": [
    "l = a.split()"
   ]
  },
  {
   "cell_type": "code",
   "execution_count": 46,
   "id": "b1d56643-63eb-46a1-b9f9-74b8d6aa9047",
   "metadata": {},
   "outputs": [
    {
     "data": {
      "text/plain": [
       "['Hello', 'This', 'is', 'Data', 'Analytics', 'Class']"
      ]
     },
     "execution_count": 46,
     "metadata": {},
     "output_type": "execute_result"
    }
   ],
   "source": [
    "l"
   ]
  },
  {
   "cell_type": "code",
   "execution_count": 50,
   "id": "2758eb61-701e-4cd5-8756-d31ba8060fa8",
   "metadata": {},
   "outputs": [
    {
     "name": "stdout",
     "output_type": "stream",
     "text": [
      "Class Analytics Data is This Hello "
     ]
    }
   ],
   "source": [
    "for i in range(len(l)):\n",
    "    print(l[-(i+1)], end = ' ')"
   ]
  },
  {
   "cell_type": "code",
   "execution_count": 55,
   "id": "51c20440-5e13-4744-8f62-fba6ba13ce72",
   "metadata": {},
   "outputs": [],
   "source": [
    "s = \"\"\n",
    "for i in a.split():\n",
    "    s = i + \" \" + s"
   ]
  },
  {
   "cell_type": "code",
   "execution_count": 54,
   "id": "8bd32dec-359b-4846-a9c6-9e410b6a9288",
   "metadata": {},
   "outputs": [
    {
     "data": {
      "text/plain": [
       "'Class Analytics Data is This Hello '"
      ]
     },
     "execution_count": 54,
     "metadata": {},
     "output_type": "execute_result"
    }
   ],
   "source": [
    "s"
   ]
  },
  {
   "cell_type": "code",
   "execution_count": 57,
   "id": "8d8022bf-8f07-430e-8778-9809f6621071",
   "metadata": {},
   "outputs": [
    {
     "name": "stdout",
     "output_type": "stream",
     "text": [
      "ssalC scitylanA ataD si sihT olleH"
     ]
    }
   ],
   "source": [
    "a.split()\n",
    "for i in range(len(a)):\n",
    "  print(a[-(i+1)], end=\"\")"
   ]
  },
  {
   "cell_type": "code",
   "execution_count": 58,
   "id": "07576d94-8ca7-48af-b245-46e9f79cc86c",
   "metadata": {},
   "outputs": [
    {
     "data": {
      "text/plain": [
       "'Hello This is Data Analytics Class'"
      ]
     },
     "execution_count": 58,
     "metadata": {},
     "output_type": "execute_result"
    }
   ],
   "source": [
    "a"
   ]
  },
  {
   "cell_type": "code",
   "execution_count": 59,
   "id": "3389d55c-50bc-46fc-84e1-05eb5e1b1411",
   "metadata": {},
   "outputs": [],
   "source": [
    "l = a.split()"
   ]
  },
  {
   "cell_type": "code",
   "execution_count": 60,
   "id": "638ff8c0-c504-4f4f-9b27-30c9bcff38ee",
   "metadata": {},
   "outputs": [
    {
     "data": {
      "text/plain": [
       "['Hello', 'This', 'is', 'Data', 'Analytics', 'Class']"
      ]
     },
     "execution_count": 60,
     "metadata": {},
     "output_type": "execute_result"
    }
   ],
   "source": [
    "l"
   ]
  },
  {
   "cell_type": "code",
   "execution_count": 64,
   "id": "5ec4ff9a-352c-49bb-bf3b-b697f3b0b596",
   "metadata": {},
   "outputs": [
    {
     "name": "stdout",
     "output_type": "stream",
     "text": [
      "olleH sihT si ataD scitylanA ssalC "
     ]
    }
   ],
   "source": [
    "for i in l:\n",
    "    print(i[::-1] , end = \" \")"
   ]
  },
  {
   "cell_type": "code",
   "execution_count": 71,
   "id": "07db9a3a-3770-4019-a823-b6515b2b1636",
   "metadata": {},
   "outputs": [
    {
     "name": "stdout",
     "output_type": "stream",
     "text": [
      "olleH sihT si ataD scitylanA ssalC "
     ]
    }
   ],
   "source": [
    "for word in l:\n",
    "    s = \"\"\n",
    "    for char in word:\n",
    "        s = char + s\n",
    "    print(s, end = \" \")"
   ]
  },
  {
   "cell_type": "code",
   "execution_count": null,
   "id": "7a1686e8-de67-4cba-a293-74637a8b70e0",
   "metadata": {},
   "outputs": [],
   "source": []
  }
 ],
 "metadata": {
  "kernelspec": {
   "display_name": "Python 3 (ipykernel)",
   "language": "python",
   "name": "python3"
  },
  "language_info": {
   "codemirror_mode": {
    "name": "ipython",
    "version": 3
   },
   "file_extension": ".py",
   "mimetype": "text/x-python",
   "name": "python",
   "nbconvert_exporter": "python",
   "pygments_lexer": "ipython3",
   "version": "3.12.7"
  }
 },
 "nbformat": 4,
 "nbformat_minor": 5
}
