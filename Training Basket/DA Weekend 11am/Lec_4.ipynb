{
 "cells": [
  {
   "cell_type": "markdown",
   "id": "e6d4a316-101f-4dc0-8d37-3c6992375d02",
   "metadata": {},
   "source": [
    "# Data Structures\n",
    "1. string\n",
    "2. list\n",
    "3. tuple\n",
    "4. dictionary\n",
    "5. set"
   ]
  },
  {
   "cell_type": "code",
   "execution_count": 55,
   "id": "8c8194e6-dbce-4110-9420-a9dd225baeee",
   "metadata": {},
   "outputs": [],
   "source": [
    "s = \"This is Data Analytics\""
   ]
  },
  {
   "cell_type": "code",
   "execution_count": 2,
   "id": "03f592bb-d273-4a59-bc1d-b7e8586b2428",
   "metadata": {},
   "outputs": [
    {
     "data": {
      "text/plain": [
       "str"
      ]
     },
     "execution_count": 2,
     "metadata": {},
     "output_type": "execute_result"
    }
   ],
   "source": [
    "type(s)"
   ]
  },
  {
   "cell_type": "code",
   "execution_count": 3,
   "id": "9005b044-2697-482f-a803-8d9aa14c1a2a",
   "metadata": {},
   "outputs": [
    {
     "name": "stdout",
     "output_type": "stream",
     "text": [
      "<class 'str'>\n"
     ]
    }
   ],
   "source": [
    "print(type(s))"
   ]
  },
  {
   "cell_type": "code",
   "execution_count": 4,
   "id": "240b04dc-b90e-468f-8e62-f992f142a6a9",
   "metadata": {},
   "outputs": [
    {
     "name": "stdout",
     "output_type": "stream",
     "text": [
      "hello This is Data Analytics\n"
     ]
    }
   ],
   "source": [
    "print(f\"hello {s}\")"
   ]
  },
  {
   "cell_type": "code",
   "execution_count": 7,
   "id": "48d44592-1d4e-43b3-aa8d-90aa998355d4",
   "metadata": {},
   "outputs": [
    {
     "name": "stdout",
     "output_type": "stream",
     "text": [
      "hello This is Data Analytics This is Data Analytics\n"
     ]
    }
   ],
   "source": [
    "print(\"hello {} {}\".format(s,s))"
   ]
  },
  {
   "cell_type": "code",
   "execution_count": 8,
   "id": "67fa10d3-1840-4bd5-8223-6f87eeaab388",
   "metadata": {},
   "outputs": [
    {
     "data": {
      "text/plain": [
       "'This is Data Analytics'"
      ]
     },
     "execution_count": 8,
     "metadata": {},
     "output_type": "execute_result"
    }
   ],
   "source": [
    "s"
   ]
  },
  {
   "cell_type": "code",
   "execution_count": 9,
   "id": "e5e75f08-056e-489e-b023-e3ed6c94c038",
   "metadata": {},
   "outputs": [
    {
     "data": {
      "text/plain": [
       "'a'"
      ]
     },
     "execution_count": 9,
     "metadata": {},
     "output_type": "execute_result"
    }
   ],
   "source": [
    "s[9]"
   ]
  },
  {
   "cell_type": "code",
   "execution_count": 10,
   "id": "c0e79aa5-a561-4ae5-9bd9-1662b046ac2d",
   "metadata": {},
   "outputs": [
    {
     "data": {
      "text/plain": [
       "'i'"
      ]
     },
     "execution_count": 10,
     "metadata": {},
     "output_type": "execute_result"
    }
   ],
   "source": [
    "s[19]"
   ]
  },
  {
   "cell_type": "code",
   "execution_count": 11,
   "id": "ee416aea-751a-4741-b883-1c7f3bbcdafe",
   "metadata": {},
   "outputs": [
    {
     "ename": "IndexError",
     "evalue": "string index out of range",
     "output_type": "error",
     "traceback": [
      "\u001b[1;31m---------------------------------------------------------------------------\u001b[0m",
      "\u001b[1;31mIndexError\u001b[0m                                Traceback (most recent call last)",
      "Cell \u001b[1;32mIn[11], line 1\u001b[0m\n\u001b[1;32m----> 1\u001b[0m s[\u001b[38;5;241m29\u001b[39m]\n",
      "\u001b[1;31mIndexError\u001b[0m: string index out of range"
     ]
    }
   ],
   "source": [
    "s[29]"
   ]
  },
  {
   "cell_type": "code",
   "execution_count": 12,
   "id": "9f2684a0-6d7e-46a0-bed1-4295a8543467",
   "metadata": {},
   "outputs": [
    {
     "data": {
      "text/plain": [
       "22"
      ]
     },
     "execution_count": 12,
     "metadata": {},
     "output_type": "execute_result"
    }
   ],
   "source": [
    "len(s)"
   ]
  },
  {
   "cell_type": "code",
   "execution_count": 13,
   "id": "fd49e40e-14ed-4781-bb87-3e509388a4e1",
   "metadata": {},
   "outputs": [
    {
     "data": {
      "text/plain": [
       "'This is Data Analytics'"
      ]
     },
     "execution_count": 13,
     "metadata": {},
     "output_type": "execute_result"
    }
   ],
   "source": [
    "s[ : ]"
   ]
  },
  {
   "cell_type": "code",
   "execution_count": 15,
   "id": "00f3bd19-510f-4835-9106-a78521bf84a9",
   "metadata": {},
   "outputs": [
    {
     "data": {
      "text/plain": [
       "'Data'"
      ]
     },
     "execution_count": 15,
     "metadata": {},
     "output_type": "execute_result"
    }
   ],
   "source": [
    "s[8 : 12]"
   ]
  },
  {
   "cell_type": "code",
   "execution_count": 16,
   "id": "4e3cf122-65e7-4ab2-846a-d9d694021f9a",
   "metadata": {},
   "outputs": [
    {
     "data": {
      "text/plain": [
       "'This is D'"
      ]
     },
     "execution_count": 16,
     "metadata": {},
     "output_type": "execute_result"
    }
   ],
   "source": [
    "s[ : 9]"
   ]
  },
  {
   "cell_type": "code",
   "execution_count": 17,
   "id": "5ca90c1d-7f1e-401c-8020-84c7a27a3611",
   "metadata": {},
   "outputs": [
    {
     "data": {
      "text/plain": [
       "'This is D'"
      ]
     },
     "execution_count": 17,
     "metadata": {},
     "output_type": "execute_result"
    }
   ],
   "source": [
    "s[0:9]"
   ]
  },
  {
   "cell_type": "code",
   "execution_count": 18,
   "id": "5d0017c8-778e-4a60-b934-416ad35e3038",
   "metadata": {},
   "outputs": [],
   "source": [
    "# string : collection of different characters"
   ]
  },
  {
   "cell_type": "code",
   "execution_count": 19,
   "id": "f705374e-c8c5-48ba-bb92-89e35e6ac13e",
   "metadata": {},
   "outputs": [
    {
     "data": {
      "text/plain": [
       "'This is Data Analytics'"
      ]
     },
     "execution_count": 19,
     "metadata": {},
     "output_type": "execute_result"
    }
   ],
   "source": [
    "s"
   ]
  },
  {
   "cell_type": "code",
   "execution_count": 23,
   "id": "f1e056b4-6f86-4fce-a4e7-20147e14aaad",
   "metadata": {},
   "outputs": [],
   "source": [
    "s = '  this is Data Analytics  '"
   ]
  },
  {
   "cell_type": "code",
   "execution_count": 24,
   "id": "d2e8decd-0874-44ea-95d9-1fa1214ed973",
   "metadata": {},
   "outputs": [
    {
     "data": {
      "text/plain": [
       "26"
      ]
     },
     "execution_count": 24,
     "metadata": {},
     "output_type": "execute_result"
    }
   ],
   "source": [
    "len(s)"
   ]
  },
  {
   "cell_type": "code",
   "execution_count": 25,
   "id": "541bc34b-81d6-47a3-80c4-99d99ef91282",
   "metadata": {},
   "outputs": [
    {
     "data": {
      "text/plain": [
       "\u001b[1;31mSignature:\u001b[0m \u001b[0ms\u001b[0m\u001b[1;33m.\u001b[0m\u001b[0mstrip\u001b[0m\u001b[1;33m(\u001b[0m\u001b[0mchars\u001b[0m\u001b[1;33m=\u001b[0m\u001b[1;32mNone\u001b[0m\u001b[1;33m,\u001b[0m \u001b[1;33m/\u001b[0m\u001b[1;33m)\u001b[0m\u001b[1;33m\u001b[0m\u001b[1;33m\u001b[0m\u001b[0m\n",
       "\u001b[1;31mDocstring:\u001b[0m\n",
       "Return a copy of the string with leading and trailing whitespace removed.\n",
       "\n",
       "If chars is given and not None, remove characters in chars instead.\n",
       "\u001b[1;31mType:\u001b[0m      builtin_function_or_method"
      ]
     },
     "metadata": {},
     "output_type": "display_data"
    }
   ],
   "source": [
    "s.strip?"
   ]
  },
  {
   "cell_type": "code",
   "execution_count": 31,
   "id": "ecc76d33-989b-4805-860c-280116398112",
   "metadata": {},
   "outputs": [],
   "source": [
    "s = s.strip()"
   ]
  },
  {
   "cell_type": "code",
   "execution_count": 32,
   "id": "eaedff68-246c-45b0-ac0a-1cd3c4a5bdd3",
   "metadata": {},
   "outputs": [
    {
     "data": {
      "text/plain": [
       "['this', 'is', 'Data', 'Analytics']"
      ]
     },
     "execution_count": 32,
     "metadata": {},
     "output_type": "execute_result"
    }
   ],
   "source": [
    "s.split()"
   ]
  },
  {
   "cell_type": "code",
   "execution_count": 33,
   "id": "db4ee0a9-1123-4096-92a4-079a997e918f",
   "metadata": {},
   "outputs": [
    {
     "data": {
      "text/plain": [
       "13"
      ]
     },
     "execution_count": 33,
     "metadata": {},
     "output_type": "execute_result"
    }
   ],
   "source": [
    "s.find('A')"
   ]
  },
  {
   "cell_type": "code",
   "execution_count": 30,
   "id": "8ad68752-b34d-4261-8c4b-a30f63025027",
   "metadata": {},
   "outputs": [
    {
     "data": {
      "text/plain": [
       "'  this is Data Analytics  '"
      ]
     },
     "execution_count": 30,
     "metadata": {},
     "output_type": "execute_result"
    }
   ],
   "source": [
    "s"
   ]
  },
  {
   "cell_type": "code",
   "execution_count": 34,
   "id": "9010c23a-b40f-42a7-a80e-4af4b527af71",
   "metadata": {},
   "outputs": [
    {
     "data": {
      "text/plain": [
       "('this is ', 'Data', ' Analytics')"
      ]
     },
     "execution_count": 34,
     "metadata": {},
     "output_type": "execute_result"
    }
   ],
   "source": [
    "s.partition(\"Data\")"
   ]
  },
  {
   "cell_type": "code",
   "execution_count": 35,
   "id": "39f1ba2a-aa41-4671-a6ef-ae43c3eecba2",
   "metadata": {},
   "outputs": [
    {
     "data": {
      "text/plain": [
       "('this is D', 'a', 'ta Analytics')"
      ]
     },
     "execution_count": 35,
     "metadata": {},
     "output_type": "execute_result"
    }
   ],
   "source": [
    "s.partition('a')"
   ]
  },
  {
   "cell_type": "code",
   "execution_count": 36,
   "id": "c0a9470a-c45a-487f-a5a5-5121a5c83d1b",
   "metadata": {},
   "outputs": [
    {
     "data": {
      "text/plain": [
       "3"
      ]
     },
     "execution_count": 36,
     "metadata": {},
     "output_type": "execute_result"
    }
   ],
   "source": [
    "s.count('a')"
   ]
  },
  {
   "cell_type": "code",
   "execution_count": 37,
   "id": "0f413777-c0c5-44b8-b2f7-047756a557bc",
   "metadata": {},
   "outputs": [
    {
     "data": {
      "text/plain": [
       "0"
      ]
     },
     "execution_count": 37,
     "metadata": {},
     "output_type": "execute_result"
    }
   ],
   "source": [
    "s.count('Z')"
   ]
  },
  {
   "cell_type": "code",
   "execution_count": 38,
   "id": "e43c4112-15b9-476b-b34b-778915aeb11a",
   "metadata": {},
   "outputs": [],
   "source": [
    "s = s.capitalize()"
   ]
  },
  {
   "cell_type": "code",
   "execution_count": 39,
   "id": "f4728a34-2506-4108-9ffb-24040d960f3e",
   "metadata": {},
   "outputs": [
    {
     "data": {
      "text/plain": [
       "'This is data analytics'"
      ]
     },
     "execution_count": 39,
     "metadata": {},
     "output_type": "execute_result"
    }
   ],
   "source": [
    "s"
   ]
  },
  {
   "cell_type": "code",
   "execution_count": 40,
   "id": "97c7cb0a-1a1f-4f2e-9592-b79056e661e6",
   "metadata": {},
   "outputs": [
    {
     "data": {
      "text/plain": [
       "'THIS IS DATA ANALYTICS'"
      ]
     },
     "execution_count": 40,
     "metadata": {},
     "output_type": "execute_result"
    }
   ],
   "source": [
    "s.upper()"
   ]
  },
  {
   "cell_type": "code",
   "execution_count": 41,
   "id": "7891fefb-ee6f-4ba4-83c4-4fe7fad7736b",
   "metadata": {},
   "outputs": [
    {
     "data": {
      "text/plain": [
       "'this is data analytics'"
      ]
     },
     "execution_count": 41,
     "metadata": {},
     "output_type": "execute_result"
    }
   ],
   "source": [
    "s.lower()"
   ]
  },
  {
   "cell_type": "code",
   "execution_count": 42,
   "id": "52bbe2b6-bcee-48d6-848b-a5291f9064c9",
   "metadata": {},
   "outputs": [
    {
     "data": {
      "text/plain": [
       "False"
      ]
     },
     "execution_count": 42,
     "metadata": {},
     "output_type": "execute_result"
    }
   ],
   "source": [
    "s.endswith('data')"
   ]
  },
  {
   "cell_type": "code",
   "execution_count": 43,
   "id": "26e325a7-cc5f-4fe9-a60d-ea2ba3ee6c45",
   "metadata": {},
   "outputs": [
    {
     "data": {
      "text/plain": [
       "True"
      ]
     },
     "execution_count": 43,
     "metadata": {},
     "output_type": "execute_result"
    }
   ],
   "source": [
    "s.endswith('s')"
   ]
  },
  {
   "cell_type": "code",
   "execution_count": 44,
   "id": "d2d3ce9b-f134-4e09-808d-e0f7389c635a",
   "metadata": {},
   "outputs": [
    {
     "data": {
      "text/plain": [
       "True"
      ]
     },
     "execution_count": 44,
     "metadata": {},
     "output_type": "execute_result"
    }
   ],
   "source": [
    "s.endswith(\"cs\")"
   ]
  },
  {
   "cell_type": "code",
   "execution_count": 45,
   "id": "8e189041-7ba7-448f-8956-3847c3abf386",
   "metadata": {},
   "outputs": [
    {
     "data": {
      "text/plain": [
       "'This is data analytics'"
      ]
     },
     "execution_count": 45,
     "metadata": {},
     "output_type": "execute_result"
    }
   ],
   "source": [
    "s\n"
   ]
  },
  {
   "cell_type": "code",
   "execution_count": 46,
   "id": "8db93b79-b106-4b82-9516-fb9a274d0b68",
   "metadata": {},
   "outputs": [
    {
     "data": {
      "text/plain": [
       "'This is data Science'"
      ]
     },
     "execution_count": 46,
     "metadata": {},
     "output_type": "execute_result"
    }
   ],
   "source": [
    "s.replace(\"analytics\", \"Science\")"
   ]
  },
  {
   "cell_type": "code",
   "execution_count": 47,
   "id": "4a6531dc-af0c-43ae-b40a-7337d31397e6",
   "metadata": {},
   "outputs": [
    {
     "data": {
      "text/plain": [
       "'This is data analytics'"
      ]
     },
     "execution_count": 47,
     "metadata": {},
     "output_type": "execute_result"
    }
   ],
   "source": [
    "s.replace(\"Analytics\", \"Science\")"
   ]
  },
  {
   "cell_type": "code",
   "execution_count": 48,
   "id": "af7057e6-749d-46eb-a95a-a9d64bc14c74",
   "metadata": {},
   "outputs": [
    {
     "data": {
      "text/plain": [
       "'This is data analytics'"
      ]
     },
     "execution_count": 48,
     "metadata": {},
     "output_type": "execute_result"
    }
   ],
   "source": [
    "s"
   ]
  },
  {
   "cell_type": "code",
   "execution_count": 51,
   "id": "dd031ca8-c9b7-4a69-9aed-20a445b1536d",
   "metadata": {},
   "outputs": [
    {
     "data": {
      "text/plain": [
       "2316284730736"
      ]
     },
     "execution_count": 51,
     "metadata": {},
     "output_type": "execute_result"
    }
   ],
   "source": [
    "id(s)"
   ]
  },
  {
   "cell_type": "code",
   "execution_count": 52,
   "id": "20bb428a-290f-41ba-b49b-b22e1ac79d35",
   "metadata": {},
   "outputs": [],
   "source": [
    "s = \"this\""
   ]
  },
  {
   "cell_type": "code",
   "execution_count": 53,
   "id": "cd603ddb-c7df-47f0-a5b1-be0bc1835745",
   "metadata": {},
   "outputs": [
    {
     "data": {
      "text/plain": [
       "2316177116832"
      ]
     },
     "execution_count": 53,
     "metadata": {},
     "output_type": "execute_result"
    }
   ],
   "source": [
    "id(s)"
   ]
  },
  {
   "cell_type": "code",
   "execution_count": 54,
   "id": "20645571-176f-4f7a-9360-cbde6a488ffe",
   "metadata": {},
   "outputs": [
    {
     "data": {
      "text/plain": [
       "'this'"
      ]
     },
     "execution_count": 54,
     "metadata": {},
     "output_type": "execute_result"
    }
   ],
   "source": [
    "s"
   ]
  },
  {
   "cell_type": "code",
   "execution_count": 56,
   "id": "628968e2-a578-4a21-bb5c-cb91ebbeb04a",
   "metadata": {},
   "outputs": [
    {
     "data": {
      "text/plain": [
       "'This is Data Analytics'"
      ]
     },
     "execution_count": 56,
     "metadata": {},
     "output_type": "execute_result"
    }
   ],
   "source": [
    "s"
   ]
  },
  {
   "cell_type": "code",
   "execution_count": 57,
   "id": "bd89a9b2-b8da-4f7f-8031-186532fec47a",
   "metadata": {},
   "outputs": [
    {
     "data": {
      "text/plain": [
       "'scitylanA ataD si sihT'"
      ]
     },
     "execution_count": 57,
     "metadata": {},
     "output_type": "execute_result"
    }
   ],
   "source": [
    "s[::-1]"
   ]
  },
  {
   "cell_type": "markdown",
   "id": "0837e86c-fd74-436d-a7e3-52bcaceea968",
   "metadata": {},
   "source": [
    "# list : Collection of Heterogenous data types"
   ]
  },
  {
   "cell_type": "code",
   "execution_count": 85,
   "id": "5bd5f6e3-1c98-4961-a45d-0a1e5d11f85f",
   "metadata": {},
   "outputs": [],
   "source": [
    "l1 = [2,3, 4.8,True , range(7), \"Hello\", [1,2,3,4]]"
   ]
  },
  {
   "cell_type": "code",
   "execution_count": 62,
   "id": "8e21d3c9-c114-4e4a-9e3f-adf1aed52862",
   "metadata": {},
   "outputs": [
    {
     "data": {
      "text/plain": [
       "2316286291328"
      ]
     },
     "execution_count": 62,
     "metadata": {},
     "output_type": "execute_result"
    }
   ],
   "source": [
    "id(l1)"
   ]
  },
  {
   "cell_type": "code",
   "execution_count": 63,
   "id": "3355d3c1-849b-41dd-a111-81ec946580dc",
   "metadata": {},
   "outputs": [
    {
     "data": {
      "text/plain": [
       "list"
      ]
     },
     "execution_count": 63,
     "metadata": {},
     "output_type": "execute_result"
    }
   ],
   "source": [
    "type(l1)"
   ]
  },
  {
   "cell_type": "code",
   "execution_count": 64,
   "id": "b5d8711e-5f25-4039-8c97-778409cf0a2a",
   "metadata": {},
   "outputs": [
    {
     "data": {
      "text/plain": [
       "2"
      ]
     },
     "execution_count": 64,
     "metadata": {},
     "output_type": "execute_result"
    }
   ],
   "source": [
    "l1[0]"
   ]
  },
  {
   "cell_type": "code",
   "execution_count": 65,
   "id": "b05636ef-c9b0-4daa-ace7-83bbabfefae5",
   "metadata": {},
   "outputs": [
    {
     "ename": "IndexError",
     "evalue": "list index out of range",
     "output_type": "error",
     "traceback": [
      "\u001b[1;31m---------------------------------------------------------------------------\u001b[0m",
      "\u001b[1;31mIndexError\u001b[0m                                Traceback (most recent call last)",
      "Cell \u001b[1;32mIn[65], line 1\u001b[0m\n\u001b[1;32m----> 1\u001b[0m l1[\u001b[38;5;241m8\u001b[39m]\n",
      "\u001b[1;31mIndexError\u001b[0m: list index out of range"
     ]
    }
   ],
   "source": [
    "l1[8]"
   ]
  },
  {
   "cell_type": "code",
   "execution_count": 66,
   "id": "d5847fdd-e130-41f6-8229-2624b92a1553",
   "metadata": {},
   "outputs": [
    {
     "data": {
      "text/plain": [
       "'Hello'"
      ]
     },
     "execution_count": 66,
     "metadata": {},
     "output_type": "execute_result"
    }
   ],
   "source": [
    "l1[5]"
   ]
  },
  {
   "cell_type": "code",
   "execution_count": 69,
   "id": "c8304714-4e95-4df0-9388-da1c194e8256",
   "metadata": {},
   "outputs": [
    {
     "data": {
      "text/plain": [
       "4"
      ]
     },
     "execution_count": 69,
     "metadata": {},
     "output_type": "execute_result"
    }
   ],
   "source": [
    "l1[6][3]"
   ]
  },
  {
   "cell_type": "code",
   "execution_count": 70,
   "id": "e3234edf-79be-4f9e-9aa1-9db69c3d1ea4",
   "metadata": {},
   "outputs": [
    {
     "data": {
      "text/plain": [
       "[2, 3, 4.8, True, range(0, 7), 'Hello', [1, 2, 3, 4]]"
      ]
     },
     "execution_count": 70,
     "metadata": {},
     "output_type": "execute_result"
    }
   ],
   "source": [
    "l1[ : ]"
   ]
  },
  {
   "cell_type": "code",
   "execution_count": 71,
   "id": "06ed0f2e-bd79-4708-8f20-f0819998c817",
   "metadata": {},
   "outputs": [
    {
     "data": {
      "text/plain": [
       "[2, 3, 4.8]"
      ]
     },
     "execution_count": 71,
     "metadata": {},
     "output_type": "execute_result"
    }
   ],
   "source": [
    "l1[ : 3]"
   ]
  },
  {
   "cell_type": "code",
   "execution_count": 72,
   "id": "72810d35-cd70-4303-8720-8af920d8038c",
   "metadata": {},
   "outputs": [
    {
     "data": {
      "text/plain": [
       "[4.8, True, range(0, 7), 'Hello', [1, 2, 3, 4]]"
      ]
     },
     "execution_count": 72,
     "metadata": {},
     "output_type": "execute_result"
    }
   ],
   "source": [
    "l1[2 : 100]"
   ]
  },
  {
   "cell_type": "code",
   "execution_count": 74,
   "id": "91064f17-b04a-4494-825e-b618426f6674",
   "metadata": {},
   "outputs": [
    {
     "data": {
      "text/plain": [
       "[4.8, True, range(0, 7), 'Hello']"
      ]
     },
     "execution_count": 74,
     "metadata": {},
     "output_type": "execute_result"
    }
   ],
   "source": [
    "l1[2 : 6]"
   ]
  },
  {
   "cell_type": "code",
   "execution_count": 86,
   "id": "a8087f27-de23-473f-add9-f35fedc30c33",
   "metadata": {},
   "outputs": [],
   "source": [
    "l1.append(\"pawan\")"
   ]
  },
  {
   "cell_type": "code",
   "execution_count": 87,
   "id": "95290a66-0294-4269-9078-14756e66862a",
   "metadata": {},
   "outputs": [
    {
     "data": {
      "text/plain": [
       "[2, 3, 4.8, True, range(0, 7), 'Hello', [1, 2, 3, 4], 'pawan']"
      ]
     },
     "execution_count": 87,
     "metadata": {},
     "output_type": "execute_result"
    }
   ],
   "source": [
    "l1"
   ]
  },
  {
   "cell_type": "code",
   "execution_count": 88,
   "id": "fe166a42-5338-4247-a76c-10443f5836a3",
   "metadata": {},
   "outputs": [],
   "source": [
    "l1.insert(6, \"pawan\")"
   ]
  },
  {
   "cell_type": "code",
   "execution_count": 89,
   "id": "acc49b78-72a7-4754-8c5a-172ed078a8be",
   "metadata": {},
   "outputs": [
    {
     "data": {
      "text/plain": [
       "[2, 3, 4.8, True, range(0, 7), 'Hello', 'pawan', [1, 2, 3, 4], 'pawan']"
      ]
     },
     "execution_count": 89,
     "metadata": {},
     "output_type": "execute_result"
    }
   ],
   "source": [
    "l1"
   ]
  },
  {
   "cell_type": "code",
   "execution_count": 90,
   "id": "26557cf8-c885-413e-a936-713627e17783",
   "metadata": {},
   "outputs": [],
   "source": [
    "l1.insert(0, \"hi\")"
   ]
  },
  {
   "cell_type": "code",
   "execution_count": 91,
   "id": "c640527b-8f73-4bf5-adc9-d5bcf7ae7183",
   "metadata": {},
   "outputs": [
    {
     "data": {
      "text/plain": [
       "['hi', 2, 3, 4.8, True, range(0, 7), 'Hello', 'pawan', [1, 2, 3, 4], 'pawan']"
      ]
     },
     "execution_count": 91,
     "metadata": {},
     "output_type": "execute_result"
    }
   ],
   "source": [
    "l1"
   ]
  },
  {
   "cell_type": "code",
   "execution_count": 92,
   "id": "985dbd14-8db6-41b6-98ba-30f0966ec23a",
   "metadata": {},
   "outputs": [
    {
     "data": {
      "text/plain": [
       "'pawan'"
      ]
     },
     "execution_count": 92,
     "metadata": {},
     "output_type": "execute_result"
    }
   ],
   "source": [
    "l1.pop() # by default it will remove from the last index "
   ]
  },
  {
   "cell_type": "code",
   "execution_count": 93,
   "id": "c1da10e1-3085-4207-b8d9-f91e3e292e0a",
   "metadata": {},
   "outputs": [
    {
     "data": {
      "text/plain": [
       "['hi', 2, 3, 4.8, True, range(0, 7), 'Hello', 'pawan', [1, 2, 3, 4]]"
      ]
     },
     "execution_count": 93,
     "metadata": {},
     "output_type": "execute_result"
    }
   ],
   "source": [
    "l1"
   ]
  },
  {
   "cell_type": "code",
   "execution_count": 94,
   "id": "e8d8c98d-02ce-4175-ab53-cfffbd2b692f",
   "metadata": {},
   "outputs": [
    {
     "data": {
      "text/plain": [
       "'pawan'"
      ]
     },
     "execution_count": 94,
     "metadata": {},
     "output_type": "execute_result"
    }
   ],
   "source": [
    "l1.pop(-2)"
   ]
  },
  {
   "cell_type": "code",
   "execution_count": 95,
   "id": "59b701c6-cad9-4749-9850-f9d4646c87a7",
   "metadata": {},
   "outputs": [
    {
     "data": {
      "text/plain": [
       "['hi', 2, 3, 4.8, True, range(0, 7), 'Hello', [1, 2, 3, 4]]"
      ]
     },
     "execution_count": 95,
     "metadata": {},
     "output_type": "execute_result"
    }
   ],
   "source": [
    "l1"
   ]
  },
  {
   "cell_type": "code",
   "execution_count": 96,
   "id": "bf9e121d-1753-4d6e-ab4d-8275d1874421",
   "metadata": {},
   "outputs": [],
   "source": [
    "p = [2,3,4,5,6,6]"
   ]
  },
  {
   "cell_type": "code",
   "execution_count": 97,
   "id": "68c034d0-bb77-4dee-be08-6216eb0e4ee8",
   "metadata": {},
   "outputs": [
    {
     "data": {
      "text/plain": [
       "6"
      ]
     },
     "execution_count": 97,
     "metadata": {},
     "output_type": "execute_result"
    }
   ],
   "source": [
    "p.pop()"
   ]
  },
  {
   "cell_type": "code",
   "execution_count": 98,
   "id": "abbc7398-af39-426a-bd3f-5e1c20ba5ea6",
   "metadata": {},
   "outputs": [
    {
     "data": {
      "text/plain": [
       "[2, 3, 4, 5, 6]"
      ]
     },
     "execution_count": 98,
     "metadata": {},
     "output_type": "execute_result"
    }
   ],
   "source": [
    "p"
   ]
  },
  {
   "cell_type": "code",
   "execution_count": 99,
   "id": "c9e60334-46fa-4a65-9600-d11d5afc0b2c",
   "metadata": {},
   "outputs": [
    {
     "data": {
      "text/plain": [
       "['hi', 2, 3, 4.8, True, range(0, 7), 'Hello', [1, 2, 3, 4]]"
      ]
     },
     "execution_count": 99,
     "metadata": {},
     "output_type": "execute_result"
    }
   ],
   "source": [
    "l1"
   ]
  },
  {
   "cell_type": "code",
   "execution_count": 101,
   "id": "918731c9-33cf-48e1-be21-5ebd15d102d5",
   "metadata": {},
   "outputs": [],
   "source": [
    "l1.remove(\"Hello\")"
   ]
  },
  {
   "cell_type": "code",
   "execution_count": 102,
   "id": "a66a594c-fc78-4582-8611-981a4b5ed38b",
   "metadata": {},
   "outputs": [
    {
     "data": {
      "text/plain": [
       "['hi', 2, 3, 4.8, True, range(0, 7), [1, 2, 3, 4]]"
      ]
     },
     "execution_count": 102,
     "metadata": {},
     "output_type": "execute_result"
    }
   ],
   "source": [
    "l1"
   ]
  },
  {
   "cell_type": "code",
   "execution_count": 104,
   "id": "3d9a41aa-4582-4b78-9d1b-ba6af37560bc",
   "metadata": {},
   "outputs": [],
   "source": [
    "l1.reverse()"
   ]
  },
  {
   "cell_type": "code",
   "execution_count": 105,
   "id": "cd174344-0c2c-413f-9257-d7f7fa28606a",
   "metadata": {},
   "outputs": [
    {
     "data": {
      "text/plain": [
       "[[1, 2, 3, 4], range(0, 7), True, 4.8, 3, 2, 'hi']"
      ]
     },
     "execution_count": 105,
     "metadata": {},
     "output_type": "execute_result"
    }
   ],
   "source": [
    "l1"
   ]
  },
  {
   "cell_type": "code",
   "execution_count": 106,
   "id": "543fe2e9-e5d2-4b17-a6b5-049cb031551a",
   "metadata": {},
   "outputs": [
    {
     "data": {
      "text/plain": [
       "[1, 2, 3, 4]"
      ]
     },
     "execution_count": 106,
     "metadata": {},
     "output_type": "execute_result"
    }
   ],
   "source": [
    "l1[0]"
   ]
  },
  {
   "cell_type": "code",
   "execution_count": 111,
   "id": "ae35405a-7584-41c3-99a9-8eb0dda37eb4",
   "metadata": {},
   "outputs": [
    {
     "data": {
      "text/plain": [
       "[4, 3, 2, 1]"
      ]
     },
     "execution_count": 111,
     "metadata": {},
     "output_type": "execute_result"
    }
   ],
   "source": [
    "sorted(l1[0], reverse=True)"
   ]
  },
  {
   "cell_type": "code",
   "execution_count": 109,
   "id": "606af0d3-539a-48e8-90e8-a819bcbc8bde",
   "metadata": {},
   "outputs": [
    {
     "data": {
      "text/plain": [
       "[1, 2, 3, 4]"
      ]
     },
     "execution_count": 109,
     "metadata": {},
     "output_type": "execute_result"
    }
   ],
   "source": [
    "sorted(l1[0], reverse=False)"
   ]
  },
  {
   "cell_type": "code",
   "execution_count": null,
   "id": "b8f041bc-2152-4661-b5fc-52b56f37cb07",
   "metadata": {},
   "outputs": [],
   "source": []
  }
 ],
 "metadata": {
  "kernelspec": {
   "display_name": "Python 3 (ipykernel)",
   "language": "python",
   "name": "python3"
  },
  "language_info": {
   "codemirror_mode": {
    "name": "ipython",
    "version": 3
   },
   "file_extension": ".py",
   "mimetype": "text/x-python",
   "name": "python",
   "nbconvert_exporter": "python",
   "pygments_lexer": "ipython3",
   "version": "3.12.7"
  }
 },
 "nbformat": 4,
 "nbformat_minor": 5
}
