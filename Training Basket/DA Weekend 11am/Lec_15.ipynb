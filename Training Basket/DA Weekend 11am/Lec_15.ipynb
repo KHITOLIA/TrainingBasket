{
 "cells": [
  {
   "cell_type": "code",
   "execution_count": 1,
   "id": "074625fa-d293-459d-9450-7f83f7ffa75e",
   "metadata": {},
   "outputs": [],
   "source": [
    "ab = 3\n",
    "bc = 4\n",
    "ac = (ab**2 + bc**2)**0.5"
   ]
  },
  {
   "cell_type": "code",
   "execution_count": 2,
   "id": "0a380381-a1bd-49f5-b8ae-cc4dead0c576",
   "metadata": {},
   "outputs": [
    {
     "data": {
      "text/plain": [
       "5.0"
      ]
     },
     "execution_count": 2,
     "metadata": {},
     "output_type": "execute_result"
    }
   ],
   "source": [
    "ac"
   ]
  },
  {
   "cell_type": "code",
   "execution_count": 3,
   "id": "4d867861-a1c2-422f-af7f-d5556ca00857",
   "metadata": {},
   "outputs": [],
   "source": [
    "bm = ac/2"
   ]
  },
  {
   "cell_type": "code",
   "execution_count": 4,
   "id": "07f29128-3041-4626-a558-125d09dde1e7",
   "metadata": {},
   "outputs": [],
   "source": [
    "bd = bc/2"
   ]
  },
  {
   "cell_type": "code",
   "execution_count": 5,
   "id": "98848e72-c6a6-4ce6-99f6-d104e17d567e",
   "metadata": {},
   "outputs": [],
   "source": [
    "cos_0 = bd/bm"
   ]
  },
  {
   "cell_type": "code",
   "execution_count": 6,
   "id": "0c14a6f2-dc38-41d1-9a11-409e363d05a3",
   "metadata": {},
   "outputs": [],
   "source": [
    "import math"
   ]
  },
  {
   "cell_type": "code",
   "execution_count": 7,
   "id": "cac40dbf-2f51-4872-9579-e45aa6ad189b",
   "metadata": {},
   "outputs": [],
   "source": [
    "radian_cos_0 = math.acos(cos_0)"
   ]
  },
  {
   "cell_type": "code",
   "execution_count": 8,
   "id": "c6142e6e-e39d-415c-b380-db3852dca460",
   "metadata": {},
   "outputs": [
    {
     "data": {
      "text/plain": [
       "0.6435011087932843"
      ]
     },
     "execution_count": 8,
     "metadata": {},
     "output_type": "execute_result"
    }
   ],
   "source": [
    "radian_cos_0"
   ]
  },
  {
   "cell_type": "code",
   "execution_count": 9,
   "id": "7b26f541-a817-42f2-847d-8f5ca278ddff",
   "metadata": {},
   "outputs": [
    {
     "data": {
      "text/plain": [
       "36.86989764584401"
      ]
     },
     "execution_count": 9,
     "metadata": {},
     "output_type": "execute_result"
    }
   ],
   "source": [
    "math.degrees(radian_cos_0)"
   ]
  },
  {
   "cell_type": "code",
   "execution_count": null,
   "id": "a543b35f-b97b-4b8d-b03c-b226942e5ecb",
   "metadata": {},
   "outputs": [],
   "source": []
  },
  {
   "cell_type": "code",
   "execution_count": 77,
   "id": "dbc76130-1990-4d9b-a719-a08a29fbcf07",
   "metadata": {
    "scrolled": true
   },
   "outputs": [
    {
     "data": {
      "text/plain": [
       "'AA'"
      ]
     },
     "execution_count": 77,
     "metadata": {},
     "output_type": "execute_result"
    }
   ],
   "source": [
    "st = 'AABCAAADA'\n",
    "st[0:3][:2 ]"
   ]
  },
  {
   "cell_type": "code",
   "execution_count": 78,
   "id": "83301d7b-2c5f-41cb-8f4c-5379476e6e0b",
   "metadata": {},
   "outputs": [],
   "source": [
    "l = int(len(st)/3)"
   ]
  },
  {
   "cell_type": "code",
   "execution_count": 79,
   "id": "87b7fab5-5faf-4c3b-a053-e379b549ec44",
   "metadata": {},
   "outputs": [
    {
     "data": {
      "text/plain": [
       "3"
      ]
     },
     "execution_count": 79,
     "metadata": {},
     "output_type": "execute_result"
    }
   ],
   "source": [
    "l"
   ]
  },
  {
   "cell_type": "code",
   "execution_count": 80,
   "id": "f0e3976b-d6c1-44fe-8419-c1a38b058c64",
   "metadata": {},
   "outputs": [
    {
     "name": "stdout",
     "output_type": "stream",
     "text": [
      "AA CA AD "
     ]
    }
   ],
   "source": [
    "idx = 0\n",
    "n = 3\n",
    "while l > 0:\n",
    "    print(st[idx : n][ : 2], end = \" \")\n",
    "    idx = n\n",
    "    n = n + 3\n",
    "    l = l - 1"
   ]
  },
  {
   "cell_type": "code",
   "execution_count": 81,
   "id": "8416d9ec-8d7f-4cec-a9ca-124205bda3b7",
   "metadata": {},
   "outputs": [],
   "source": [
    "a = 12365551132311"
   ]
  },
  {
   "cell_type": "code",
   "execution_count": 82,
   "id": "21e91462-f904-487f-b94e-32595ff48f8e",
   "metadata": {},
   "outputs": [],
   "source": [
    "a = str(a)"
   ]
  },
  {
   "cell_type": "code",
   "execution_count": 84,
   "id": "a4f136ea-c310-4acd-949f-e525d99a5408",
   "metadata": {},
   "outputs": [],
   "source": [
    "l = []\n",
    "l1 = []\n",
    "for i in a:\n",
    "    if i not in l1:\n",
    "        l.append((i, a.count(i)))\n",
    "        l1.append(i)"
   ]
  },
  {
   "cell_type": "code",
   "execution_count": 85,
   "id": "e0febdea-5384-4680-a548-9cbeb30bcc6f",
   "metadata": {},
   "outputs": [
    {
     "data": {
      "text/plain": [
       "[('1', 5), ('2', 2), ('3', 3), ('6', 1), ('5', 3)]"
      ]
     },
     "execution_count": 85,
     "metadata": {},
     "output_type": "execute_result"
    }
   ],
   "source": [
    "l"
   ]
  },
  {
   "cell_type": "code",
   "execution_count": 86,
   "id": "aeb45f5a-a1c3-47a9-9e2e-13c48c9c4a66",
   "metadata": {},
   "outputs": [
    {
     "data": {
      "text/plain": [
       "['1', '2', '3', '6', '5']"
      ]
     },
     "execution_count": 86,
     "metadata": {},
     "output_type": "execute_result"
    }
   ],
   "source": [
    "l1"
   ]
  },
  {
   "cell_type": "code",
   "execution_count": 87,
   "id": "3ce63af0-949d-4794-962b-b8d60525e722",
   "metadata": {},
   "outputs": [],
   "source": [
    "st = 'This iS DaTa ScieNcE'\n",
    "# write a code to swap their cases"
   ]
  },
  {
   "cell_type": "code",
   "execution_count": null,
   "id": "d0b6329c-69ef-4df2-85f1-1f5e23dedc15",
   "metadata": {},
   "outputs": [],
   "source": []
  }
 ],
 "metadata": {
  "kernelspec": {
   "display_name": "Python 3 (ipykernel)",
   "language": "python",
   "name": "python3"
  },
  "language_info": {
   "codemirror_mode": {
    "name": "ipython",
    "version": 3
   },
   "file_extension": ".py",
   "mimetype": "text/x-python",
   "name": "python",
   "nbconvert_exporter": "python",
   "pygments_lexer": "ipython3",
   "version": "3.12.7"
  }
 },
 "nbformat": 4,
 "nbformat_minor": 5
}
