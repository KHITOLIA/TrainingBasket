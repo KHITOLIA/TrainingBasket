{
 "cells": [
  {
   "cell_type": "markdown",
   "id": "58491fb1-923f-4d68-82f4-80511601c0d7",
   "metadata": {},
   "source": [
    "# Data Structures\n",
    "1. Strings\n",
    "2. List\n",
    "3. Tuple\n",
    "4. Dictionary\n",
    "5. Set"
   ]
  },
  {
   "cell_type": "code",
   "execution_count": 5,
   "id": "1e97515c-3365-48cc-b1b5-5b102bea4a98",
   "metadata": {},
   "outputs": [
    {
     "name": "stdout",
     "output_type": "stream",
     "text": [
      "hello, Tushar I have 7 apple and 9 bananas\n"
     ]
    }
   ],
   "source": [
    "name = 'Tushar'\n",
    "apple = 7\n",
    "banana = 9\n",
    "print(\"hello,\", name, \"I have\", apple, \"apple and\", banana, \"bananas\")"
   ]
  },
  {
   "cell_type": "code",
   "execution_count": 14,
   "id": "607171af-c6a2-4569-8083-b4dacca98326",
   "metadata": {},
   "outputs": [
    {
     "name": "stdout",
     "output_type": "stream",
     "text": [
      "hello,Tushar i have 7 apple and 9 bananas\n"
     ]
    }
   ],
   "source": [
    "print(\"hello,\" + name + \" i have \" + str(apple) + \" apple and \" + str(banana) + \" bananas\")"
   ]
  },
  {
   "cell_type": "code",
   "execution_count": 15,
   "id": "1ae64b14-c5cb-4ac4-885b-17ad0fb377e9",
   "metadata": {},
   "outputs": [],
   "source": [
    "st = \"This is Data Analytics\""
   ]
  },
  {
   "cell_type": "code",
   "execution_count": 17,
   "id": "d2727c53-e85d-44a0-88c6-2f793d8e4201",
   "metadata": {},
   "outputs": [
    {
     "name": "stdout",
     "output_type": "stream",
     "text": [
      "<class 'str'>\n"
     ]
    }
   ],
   "source": [
    "print(type(st))"
   ]
  },
  {
   "cell_type": "code",
   "execution_count": 18,
   "id": "7248f395-eefb-4ad1-a3a3-784536ea80c3",
   "metadata": {},
   "outputs": [
    {
     "data": {
      "text/plain": [
       "'s'"
      ]
     },
     "execution_count": 18,
     "metadata": {},
     "output_type": "execute_result"
    }
   ],
   "source": [
    "st[6]"
   ]
  },
  {
   "cell_type": "code",
   "execution_count": 19,
   "id": "4c6d18bb-657b-4386-876d-f777a34075f2",
   "metadata": {},
   "outputs": [
    {
     "data": {
      "text/plain": [
       "'T'"
      ]
     },
     "execution_count": 19,
     "metadata": {},
     "output_type": "execute_result"
    }
   ],
   "source": [
    "st[0]"
   ]
  },
  {
   "cell_type": "code",
   "execution_count": 20,
   "id": "a68318b7-5368-4da8-8d85-c8600df45f9e",
   "metadata": {},
   "outputs": [
    {
     "ename": "IndexError",
     "evalue": "string index out of range",
     "output_type": "error",
     "traceback": [
      "\u001b[1;31m---------------------------------------------------------------------------\u001b[0m",
      "\u001b[1;31mIndexError\u001b[0m                                Traceback (most recent call last)",
      "Cell \u001b[1;32mIn[20], line 1\u001b[0m\n\u001b[1;32m----> 1\u001b[0m st[\u001b[38;5;241m100\u001b[39m]\n",
      "\u001b[1;31mIndexError\u001b[0m: string index out of range"
     ]
    }
   ],
   "source": [
    "st[100]"
   ]
  },
  {
   "cell_type": "code",
   "execution_count": 21,
   "id": "a95467c0-32db-4f17-8650-c2edaa21b0fd",
   "metadata": {},
   "outputs": [
    {
     "data": {
      "text/plain": [
       "'s'"
      ]
     },
     "execution_count": 21,
     "metadata": {},
     "output_type": "execute_result"
    }
   ],
   "source": [
    "st[-1]"
   ]
  },
  {
   "cell_type": "code",
   "execution_count": 22,
   "id": "88a090e9-a59c-46ad-a112-9bd04e8961ed",
   "metadata": {},
   "outputs": [
    {
     "data": {
      "text/plain": [
       "'a'"
      ]
     },
     "execution_count": 22,
     "metadata": {},
     "output_type": "execute_result"
    }
   ],
   "source": [
    "st[-7]"
   ]
  },
  {
   "cell_type": "code",
   "execution_count": 23,
   "id": "c35312d1-b018-407c-8ee8-08f0c027b054",
   "metadata": {},
   "outputs": [],
   "source": [
    "t = \"your age is 49\""
   ]
  },
  {
   "cell_type": "code",
   "execution_count": 24,
   "id": "dace3ea5-c479-4101-b343-92fec86c083a",
   "metadata": {},
   "outputs": [
    {
     "data": {
      "text/plain": [
       "'9'"
      ]
     },
     "execution_count": 24,
     "metadata": {},
     "output_type": "execute_result"
    }
   ],
   "source": [
    "t[-1]"
   ]
  },
  {
   "cell_type": "code",
   "execution_count": 25,
   "id": "8b8a3f73-4792-4707-93be-ddc34fa789d6",
   "metadata": {},
   "outputs": [
    {
     "data": {
      "text/plain": [
       "'This is Data Analytics'"
      ]
     },
     "execution_count": 25,
     "metadata": {},
     "output_type": "execute_result"
    }
   ],
   "source": [
    "st"
   ]
  },
  {
   "cell_type": "code",
   "execution_count": 26,
   "id": "852fa063-0112-4aa0-b113-0d1d202a251f",
   "metadata": {},
   "outputs": [
    {
     "data": {
      "text/plain": [
       "'Dat'"
      ]
     },
     "execution_count": 26,
     "metadata": {},
     "output_type": "execute_result"
    }
   ],
   "source": [
    "st[8:11]"
   ]
  },
  {
   "cell_type": "code",
   "execution_count": 27,
   "id": "4af90155-0094-4e7c-b014-8d6173fb69d9",
   "metadata": {},
   "outputs": [
    {
     "data": {
      "text/plain": [
       "'Data'"
      ]
     },
     "execution_count": 27,
     "metadata": {},
     "output_type": "execute_result"
    }
   ],
   "source": [
    "st[8:12]"
   ]
  },
  {
   "cell_type": "code",
   "execution_count": 30,
   "id": "60722cef-475a-4ea9-8f7f-6f19148662fe",
   "metadata": {},
   "outputs": [
    {
     "data": {
      "text/plain": [
       "'Data Analytics'"
      ]
     },
     "execution_count": 30,
     "metadata": {},
     "output_type": "execute_result"
    }
   ],
   "source": [
    "st[8:100]"
   ]
  },
  {
   "cell_type": "code",
   "execution_count": 31,
   "id": "51d57373-9769-46c1-b50b-c1cbe1a82cbb",
   "metadata": {},
   "outputs": [
    {
     "data": {
      "text/plain": [
       "'This is Data Analytics'"
      ]
     },
     "execution_count": 31,
     "metadata": {},
     "output_type": "execute_result"
    }
   ],
   "source": [
    "st[ : ]"
   ]
  },
  {
   "cell_type": "code",
   "execution_count": 32,
   "id": "14849a58-3c18-4af5-899f-92cf384bce48",
   "metadata": {},
   "outputs": [
    {
     "data": {
      "text/plain": [
       "'ata Analyt'"
      ]
     },
     "execution_count": 32,
     "metadata": {},
     "output_type": "execute_result"
    }
   ],
   "source": [
    "st[9 : 19]"
   ]
  },
  {
   "cell_type": "code",
   "execution_count": 36,
   "id": "2b49c595-08e5-4afc-a408-f24d87b08e01",
   "metadata": {},
   "outputs": [
    {
     "name": "stdout",
     "output_type": "stream",
     "text": [
      "hello my name is Tushar Khitoliya\n"
     ]
    }
   ],
   "source": [
    "# Format method\n",
    "first_name = 'Tushar'\n",
    "last_name = \"Khitoliya\"\n",
    "print(\"hello my name is {} {}\".format(first_name, last_name))"
   ]
  },
  {
   "cell_type": "code",
   "execution_count": 37,
   "id": "ca2b4951-4109-4c5f-8e64-a4ab4b129a0b",
   "metadata": {},
   "outputs": [],
   "source": [
    "# F string"
   ]
  },
  {
   "cell_type": "code",
   "execution_count": 38,
   "id": "2cb8694c-6c74-4f51-99bc-91d1ea33939c",
   "metadata": {},
   "outputs": [
    {
     "name": "stdout",
     "output_type": "stream",
     "text": [
      "Hello my name is Tushar Khitoliya\n"
     ]
    }
   ],
   "source": [
    "print(f\"Hello my name is {first_name} {last_name}\")"
   ]
  },
  {
   "cell_type": "code",
   "execution_count": 39,
   "id": "704f648c-9600-47f0-b83b-15426382690e",
   "metadata": {},
   "outputs": [
    {
     "name": "stdout",
     "output_type": "stream",
     "text": [
      "hello i have 7 apples and 9 bananas\n"
     ]
    }
   ],
   "source": [
    "print(f\"hello i have {apple} apples and {banana} bananas\")"
   ]
  },
  {
   "cell_type": "code",
   "execution_count": 45,
   "id": "9f73c9f4-6e35-4982-b893-816f064beb12",
   "metadata": {},
   "outputs": [],
   "source": [
    "st = 'This is Data Analytics'"
   ]
  },
  {
   "cell_type": "code",
   "execution_count": 46,
   "id": "8160716c-e422-4183-a1af-df277ee689c5",
   "metadata": {},
   "outputs": [
    {
     "data": {
      "text/plain": [
       "22"
      ]
     },
     "execution_count": 46,
     "metadata": {},
     "output_type": "execute_result"
    }
   ],
   "source": [
    "len(st)"
   ]
  },
  {
   "cell_type": "code",
   "execution_count": 51,
   "id": "8ed84659-f73d-4536-ab8a-babc5075f41f",
   "metadata": {},
   "outputs": [],
   "source": [
    "t = \"    This is Data Analytics   \""
   ]
  },
  {
   "cell_type": "code",
   "execution_count": 52,
   "id": "ea1da5c5-6607-4882-80f0-4907f6b8f66b",
   "metadata": {},
   "outputs": [
    {
     "data": {
      "text/plain": [
       "29"
      ]
     },
     "execution_count": 52,
     "metadata": {},
     "output_type": "execute_result"
    }
   ],
   "source": [
    "len(t)"
   ]
  },
  {
   "cell_type": "code",
   "execution_count": 53,
   "id": "91df4d08-3d0d-4a5e-b128-0672593a2f18",
   "metadata": {},
   "outputs": [
    {
     "data": {
      "text/plain": [
       "'This is Data Analytics'"
      ]
     },
     "execution_count": 53,
     "metadata": {},
     "output_type": "execute_result"
    }
   ],
   "source": [
    "t.strip()"
   ]
  },
  {
   "cell_type": "code",
   "execution_count": 57,
   "id": "626ff8dd-a6b1-44e4-a6e5-356bd3bc02ab",
   "metadata": {},
   "outputs": [],
   "source": [
    "t = t.strip()"
   ]
  },
  {
   "cell_type": "code",
   "execution_count": 58,
   "id": "36e6cad9-1eac-4fde-a24a-184bc3291079",
   "metadata": {},
   "outputs": [
    {
     "data": {
      "text/plain": [
       "'This is Data Analytics'"
      ]
     },
     "execution_count": 58,
     "metadata": {},
     "output_type": "execute_result"
    }
   ],
   "source": [
    "t"
   ]
  },
  {
   "cell_type": "code",
   "execution_count": 59,
   "id": "44126f05-064d-46b3-88d2-ea7c679f044d",
   "metadata": {},
   "outputs": [
    {
     "data": {
      "text/plain": [
       "['This', 'is', 'Data', 'Analytics']"
      ]
     },
     "execution_count": 59,
     "metadata": {},
     "output_type": "execute_result"
    }
   ],
   "source": [
    "t.split()"
   ]
  },
  {
   "cell_type": "code",
   "execution_count": 60,
   "id": "863c327f-24d8-481a-91e6-cb8a9bf939a4",
   "metadata": {},
   "outputs": [
    {
     "data": {
      "text/plain": [
       "['This is ', 'ata Analytics']"
      ]
     },
     "execution_count": 60,
     "metadata": {},
     "output_type": "execute_result"
    }
   ],
   "source": [
    "t.split(\"D\")"
   ]
  },
  {
   "cell_type": "code",
   "execution_count": 61,
   "id": "a2471578-cfa4-4822-b45f-54b739c9d52f",
   "metadata": {},
   "outputs": [
    {
     "data": {
      "text/plain": [
       "['This is ', 'ta Analytics']"
      ]
     },
     "execution_count": 61,
     "metadata": {},
     "output_type": "execute_result"
    }
   ],
   "source": [
    "t.split(\"Da\")"
   ]
  },
  {
   "cell_type": "code",
   "execution_count": 62,
   "id": "4b8c94ba-d743-4f36-8f80-c2583f3ee756",
   "metadata": {},
   "outputs": [
    {
     "data": {
      "text/plain": [
       "['This is ', ' Analytics']"
      ]
     },
     "execution_count": 62,
     "metadata": {},
     "output_type": "execute_result"
    }
   ],
   "source": [
    "t.split(\"Data\")"
   ]
  },
  {
   "cell_type": "code",
   "execution_count": 68,
   "id": "130ca095-7ece-4afb-a147-ec3205c343f4",
   "metadata": {},
   "outputs": [
    {
     "data": {
      "text/plain": [
       "3"
      ]
     },
     "execution_count": 68,
     "metadata": {},
     "output_type": "execute_result"
    }
   ],
   "source": [
    "t.count(\"i\")"
   ]
  },
  {
   "cell_type": "code",
   "execution_count": 70,
   "id": "a1c7da49-6923-44a1-a03a-4bc785ded4b9",
   "metadata": {},
   "outputs": [
    {
     "data": {
      "text/plain": [
       "2"
      ]
     },
     "execution_count": 70,
     "metadata": {},
     "output_type": "execute_result"
    }
   ],
   "source": [
    "t.count(\"t\")"
   ]
  },
  {
   "cell_type": "code",
   "execution_count": 71,
   "id": "c0759ea6-bc73-4abb-b7a7-3f7216494f48",
   "metadata": {},
   "outputs": [
    {
     "data": {
      "text/plain": [
       "3"
      ]
     },
     "execution_count": 71,
     "metadata": {},
     "output_type": "execute_result"
    }
   ],
   "source": [
    "t.count(\"a\")"
   ]
  },
  {
   "cell_type": "code",
   "execution_count": 72,
   "id": "6ac2bc58-4f30-460d-ab1b-ff77cf87e1d7",
   "metadata": {},
   "outputs": [
    {
     "data": {
      "text/plain": [
       "1"
      ]
     },
     "execution_count": 72,
     "metadata": {},
     "output_type": "execute_result"
    }
   ],
   "source": [
    "t.count(\"Data\")"
   ]
  },
  {
   "cell_type": "code",
   "execution_count": 81,
   "id": "441dba4a-cda0-47f3-b494-34c93774681c",
   "metadata": {},
   "outputs": [
    {
     "name": "stdout",
     "output_type": "stream",
     "text": [
      "1\n"
     ]
    }
   ],
   "source": [
    "print(t.count(\"Da\"))"
   ]
  },
  {
   "cell_type": "code",
   "execution_count": 80,
   "id": "61b99ea0-d9e1-4990-93ac-56f440ea43d9",
   "metadata": {},
   "outputs": [
    {
     "name": "stdout",
     "output_type": "stream",
     "text": [
      "3\n"
     ]
    }
   ],
   "source": [
    "print(t.count(\"is\"))"
   ]
  },
  {
   "cell_type": "code",
   "execution_count": 76,
   "id": "55e6d373-2ddc-4399-a1cf-60e72c3a2a27",
   "metadata": {},
   "outputs": [],
   "source": [
    "t = t.replace(\"Analytics\", \"Analysis\")"
   ]
  },
  {
   "cell_type": "code",
   "execution_count": 77,
   "id": "bf3041ed-db8b-4af8-903c-1e50b5ba105e",
   "metadata": {},
   "outputs": [
    {
     "data": {
      "text/plain": [
       "'This is Data Analysis'"
      ]
     },
     "execution_count": 77,
     "metadata": {},
     "output_type": "execute_result"
    }
   ],
   "source": [
    "t"
   ]
  },
  {
   "cell_type": "code",
   "execution_count": 88,
   "id": "613149eb-2c8f-4878-b348-8b28909accfd",
   "metadata": {},
   "outputs": [
    {
     "data": {
      "text/plain": [
       "['This', 'is', 'Data', 'Analysis']"
      ]
     },
     "execution_count": 88,
     "metadata": {},
     "output_type": "execute_result"
    }
   ],
   "source": [
    "t.split()"
   ]
  },
  {
   "cell_type": "code",
   "execution_count": 89,
   "id": "a912b0a0-e0dd-409c-8470-8425c7981256",
   "metadata": {},
   "outputs": [
    {
     "data": {
      "text/plain": [
       "'This is Data Analysis'"
      ]
     },
     "execution_count": 89,
     "metadata": {},
     "output_type": "execute_result"
    }
   ],
   "source": [
    "t"
   ]
  },
  {
   "cell_type": "code",
   "execution_count": 96,
   "id": "8a5db8f3-31d4-47ef-bf64-b3a31e71a4d6",
   "metadata": {},
   "outputs": [
    {
     "data": {
      "text/plain": [
       "'T'"
      ]
     },
     "execution_count": 96,
     "metadata": {},
     "output_type": "execute_result"
    }
   ],
   "source": [
    "t.lower().upper()[0]"
   ]
  },
  {
   "cell_type": "code",
   "execution_count": 91,
   "id": "7736dabf-0184-48ca-9948-c6ca9a5d388b",
   "metadata": {},
   "outputs": [
    {
     "data": {
      "text/plain": [
       "'THIS IS DATA ANALYSIS'"
      ]
     },
     "execution_count": 91,
     "metadata": {},
     "output_type": "execute_result"
    }
   ],
   "source": [
    "t.upper()"
   ]
  },
  {
   "cell_type": "code",
   "execution_count": 98,
   "id": "07a3ff70-c12d-4672-b8f0-fcf2be41bf2f",
   "metadata": {},
   "outputs": [
    {
     "data": {
      "text/plain": [
       "'This is data analysis'"
      ]
     },
     "execution_count": 98,
     "metadata": {},
     "output_type": "execute_result"
    }
   ],
   "source": [
    "t.capitalize()"
   ]
  },
  {
   "cell_type": "code",
   "execution_count": 99,
   "id": "d008ea87-880c-4782-bafa-d64462d1c590",
   "metadata": {},
   "outputs": [
    {
     "data": {
      "text/plain": [
       "8"
      ]
     },
     "execution_count": 99,
     "metadata": {},
     "output_type": "execute_result"
    }
   ],
   "source": [
    "t.find(\"Data\")"
   ]
  },
  {
   "cell_type": "code",
   "execution_count": 100,
   "id": "c582c197-cc9e-4921-aed0-6355bf93411e",
   "metadata": {},
   "outputs": [
    {
     "data": {
      "text/plain": [
       "'_'"
      ]
     },
     "execution_count": 100,
     "metadata": {},
     "output_type": "execute_result"
    }
   ],
   "source": [
    "chr(95)"
   ]
  },
  {
   "cell_type": "code",
   "execution_count": 101,
   "id": "3d701462-9b3f-4d24-8022-53d434034221",
   "metadata": {},
   "outputs": [
    {
     "data": {
      "text/plain": [
       "95"
      ]
     },
     "execution_count": 101,
     "metadata": {},
     "output_type": "execute_result"
    }
   ],
   "source": [
    "ord(_)"
   ]
  },
  {
   "cell_type": "code",
   "execution_count": 105,
   "id": "5f8f6f49-219d-42a7-9f60-de76ce6cdd98",
   "metadata": {},
   "outputs": [
    {
     "data": {
      "text/plain": [
       "97"
      ]
     },
     "execution_count": 105,
     "metadata": {},
     "output_type": "execute_result"
    }
   ],
   "source": [
    "ord('A') + 32"
   ]
  },
  {
   "cell_type": "code",
   "execution_count": 104,
   "id": "15f278d1-e46b-453c-b4fd-5190275d3891",
   "metadata": {},
   "outputs": [
    {
     "data": {
      "text/plain": [
       "'A'"
      ]
     },
     "execution_count": 104,
     "metadata": {},
     "output_type": "execute_result"
    }
   ],
   "source": [
    "chr(65)"
   ]
  },
  {
   "cell_type": "code",
   "execution_count": 106,
   "id": "9dd846b3-cf57-444e-bc22-4f33c662ff5a",
   "metadata": {},
   "outputs": [
    {
     "data": {
      "text/plain": [
       "'a'"
      ]
     },
     "execution_count": 106,
     "metadata": {},
     "output_type": "execute_result"
    }
   ],
   "source": [
    "chr(97)"
   ]
  },
  {
   "cell_type": "code",
   "execution_count": 107,
   "id": "858197af-f45c-4104-a44a-569f6aa76d24",
   "metadata": {},
   "outputs": [
    {
     "data": {
      "text/plain": [
       "'This is Data Analysis'"
      ]
     },
     "execution_count": 107,
     "metadata": {},
     "output_type": "execute_result"
    }
   ],
   "source": [
    "t"
   ]
  },
  {
   "cell_type": "code",
   "execution_count": 108,
   "id": "b72d362e-d9f0-44b0-a3f0-3c4d04eb04b8",
   "metadata": {},
   "outputs": [
    {
     "data": {
      "text/plain": [
       "2297969144560"
      ]
     },
     "execution_count": 108,
     "metadata": {},
     "output_type": "execute_result"
    }
   ],
   "source": [
    "id(t)"
   ]
  },
  {
   "cell_type": "code",
   "execution_count": 109,
   "id": "226dc83d-e089-4eb2-9087-f49c1896ab88",
   "metadata": {},
   "outputs": [
    {
     "data": {
      "text/plain": [
       "False"
      ]
     },
     "execution_count": 109,
     "metadata": {},
     "output_type": "execute_result"
    }
   ],
   "source": [
    "t.endswith(\"z\")"
   ]
  },
  {
   "cell_type": "code",
   "execution_count": 110,
   "id": "1ead0ea1-f77b-4ac7-8b80-eec4b58cbe3d",
   "metadata": {},
   "outputs": [
    {
     "data": {
      "text/plain": [
       "True"
      ]
     },
     "execution_count": 110,
     "metadata": {},
     "output_type": "execute_result"
    }
   ],
   "source": [
    "t.endswith('s')"
   ]
  },
  {
   "cell_type": "code",
   "execution_count": 111,
   "id": "b82a4daa-8f94-49e0-8428-381b7052c49b",
   "metadata": {},
   "outputs": [
    {
     "data": {
      "text/plain": [
       "False"
      ]
     },
     "execution_count": 111,
     "metadata": {},
     "output_type": "execute_result"
    }
   ],
   "source": [
    "t.endswith(\"Data\")"
   ]
  },
  {
   "cell_type": "code",
   "execution_count": 112,
   "id": "1c6ef8b1-da60-4fce-9ba6-a88845ba9def",
   "metadata": {},
   "outputs": [
    {
     "data": {
      "text/plain": [
       "True"
      ]
     },
     "execution_count": 112,
     "metadata": {},
     "output_type": "execute_result"
    }
   ],
   "source": [
    "t.endswith(\"sis\")"
   ]
  },
  {
   "cell_type": "code",
   "execution_count": 113,
   "id": "89c6883f-8431-45a9-99a7-19f97f189726",
   "metadata": {},
   "outputs": [
    {
     "data": {
      "text/plain": [
       "True"
      ]
     },
     "execution_count": 113,
     "metadata": {},
     "output_type": "execute_result"
    }
   ],
   "source": [
    "t.endswith(\"Analysis\")"
   ]
  },
  {
   "cell_type": "code",
   "execution_count": 116,
   "id": "63c39520-4aec-4d41-a54e-99e2d171d0ce",
   "metadata": {},
   "outputs": [
    {
     "data": {
      "text/plain": [
       "'sisylanA ataD si sihT'"
      ]
     },
     "execution_count": 116,
     "metadata": {},
     "output_type": "execute_result"
    }
   ],
   "source": [
    "t[::-1] # reverse of a string"
   ]
  },
  {
   "cell_type": "code",
   "execution_count": 117,
   "id": "783c6408-090a-4ff4-9420-894fb2ef3e5b",
   "metadata": {},
   "outputs": [
    {
     "data": {
      "text/plain": [
       "'This is Data Analysis'"
      ]
     },
     "execution_count": 117,
     "metadata": {},
     "output_type": "execute_result"
    }
   ],
   "source": [
    "t"
   ]
  },
  {
   "cell_type": "code",
   "execution_count": 123,
   "id": "25741774-ce47-42c8-a950-ed5c921e86c4",
   "metadata": {},
   "outputs": [
    {
     "data": {
      "text/plain": [
       "('This is ', 'Da', 'ta Analysis')"
      ]
     },
     "execution_count": 123,
     "metadata": {},
     "output_type": "execute_result"
    }
   ],
   "source": [
    "t.partition(\"Da\")"
   ]
  },
  {
   "cell_type": "code",
   "execution_count": 120,
   "id": "902cbd48-d65b-4040-a49b-37ec162ab10c",
   "metadata": {},
   "outputs": [
    {
     "data": {
      "text/plain": [
       "['This', 'is', 'Data', 'Analysis']"
      ]
     },
     "execution_count": 120,
     "metadata": {},
     "output_type": "execute_result"
    }
   ],
   "source": [
    "t.split()"
   ]
  },
  {
   "cell_type": "code",
   "execution_count": null,
   "id": "dbdfdc2e-cb01-4a89-badb-ee4ae28518fa",
   "metadata": {},
   "outputs": [],
   "source": []
  }
 ],
 "metadata": {
  "kernelspec": {
   "display_name": "Python 3 (ipykernel)",
   "language": "python",
   "name": "python3"
  },
  "language_info": {
   "codemirror_mode": {
    "name": "ipython",
    "version": 3
   },
   "file_extension": ".py",
   "mimetype": "text/x-python",
   "name": "python",
   "nbconvert_exporter": "python",
   "pygments_lexer": "ipython3",
   "version": "3.12.7"
  }
 },
 "nbformat": 4,
 "nbformat_minor": 5
}
