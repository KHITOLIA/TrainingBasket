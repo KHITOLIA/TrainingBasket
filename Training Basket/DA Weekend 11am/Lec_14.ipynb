{
 "cells": [
  {
   "cell_type": "code",
   "execution_count": 36,
   "id": "8a49169a-93dc-42bf-b2c4-7cfbc4bda5d8",
   "metadata": {},
   "outputs": [],
   "source": [
    "st = 'Training Basket'\n",
    "st = st.lower()"
   ]
  },
  {
   "cell_type": "code",
   "execution_count": 37,
   "id": "eeff34d9-6bcb-4e75-889f-0cba6aac647c",
   "metadata": {},
   "outputs": [],
   "source": [
    "l = st.split()"
   ]
  },
  {
   "cell_type": "code",
   "execution_count": 38,
   "id": "c733aa42-9979-45f0-931a-046d06dc2f04",
   "metadata": {},
   "outputs": [
    {
     "data": {
      "text/plain": [
       "['training', 'basket']"
      ]
     },
     "execution_count": 38,
     "metadata": {},
     "output_type": "execute_result"
    }
   ],
   "source": [
    "l"
   ]
  },
  {
   "cell_type": "code",
   "execution_count": 40,
   "id": "3307ea6f-c275-4046-88d5-3d759c0f771e",
   "metadata": {},
   "outputs": [
    {
     "name": "stdout",
     "output_type": "stream",
     "text": [
      "Score of training basket : 3\n"
     ]
    }
   ],
   "source": [
    "vowel = 'aeiou'\n",
    "total_score = 0\n",
    "for word in l:\n",
    "    no_vowels = 0\n",
    "    for char in word:\n",
    "        if char in vowel:\n",
    "            no_vowels += 1\n",
    "    if no_vowels%2 == 0:\n",
    "        score = 2\n",
    "    else:\n",
    "        score = 1\n",
    "    total_score = total_score + score\n",
    "print(f\"Score of {st} : {total_score}\")"
   ]
  },
  {
   "cell_type": "code",
   "execution_count": null,
   "id": "37ffe99b-7dd6-4866-b2cc-357519b779f3",
   "metadata": {},
   "outputs": [],
   "source": []
  },
  {
   "cell_type": "code",
   "execution_count": null,
   "id": "1d476d0d-f266-4c46-befe-c5953adf6bd4",
   "metadata": {},
   "outputs": [],
   "source": []
  }
 ],
 "metadata": {
  "kernelspec": {
   "display_name": "Python 3 (ipykernel)",
   "language": "python",
   "name": "python3"
  },
  "language_info": {
   "codemirror_mode": {
    "name": "ipython",
    "version": 3
   },
   "file_extension": ".py",
   "mimetype": "text/x-python",
   "name": "python",
   "nbconvert_exporter": "python",
   "pygments_lexer": "ipython3",
   "version": "3.12.7"
  }
 },
 "nbformat": 4,
 "nbformat_minor": 5
}
