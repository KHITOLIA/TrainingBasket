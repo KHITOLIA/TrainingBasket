{
 "cells": [
  {
   "cell_type": "code",
   "execution_count": 2,
   "id": "75b51c52-e119-48cf-8b81-bc0d2a3d2d6c",
   "metadata": {},
   "outputs": [
    {
     "name": "stdout",
     "output_type": "stream",
     "text": [
      "T\n",
      "r\n",
      "a\n",
      "i\n",
      "n\n",
      "i\n",
      "n\n",
      "g\n",
      " \n",
      "B\n",
      "a\n",
      "s\n",
      "k\n",
      "e\n",
      "t\n"
     ]
    }
   ],
   "source": [
    "st = 'Training Basket'\n",
    "idx = 0\n",
    "while True:\n",
    "    print(st[idx])\n",
    "    idx = idx + 1\n",
    "    if idx == len(st):\n",
    "        break"
   ]
  },
  {
   "cell_type": "code",
   "execution_count": 3,
   "id": "4c8b1062-ecf7-4041-8b6a-b2e7c60dcc50",
   "metadata": {},
   "outputs": [
    {
     "data": {
      "text/plain": [
       "True"
      ]
     },
     "execution_count": 3,
     "metadata": {},
     "output_type": "execute_result"
    }
   ],
   "source": [
    "a = 7\n",
    "a == 7"
   ]
  },
  {
   "cell_type": "code",
   "execution_count": 4,
   "id": "fcc83d78-7de3-4f56-9050-355f1fa20d91",
   "metadata": {},
   "outputs": [],
   "source": [
    "# Find first 50 prime numbers"
   ]
  },
  {
   "cell_type": "code",
   "execution_count": 7,
   "id": "122b7e4f-ddd8-43ac-9aaf-4a5b8c90e2ad",
   "metadata": {},
   "outputs": [
    {
     "name": "stdout",
     "output_type": "stream",
     "text": [
      "2 is a prime number\n",
      "3 is a prime number\n",
      "5 is a prime number\n",
      "7 is a prime number\n",
      "11 is a prime number\n",
      "13 is a prime number\n",
      "17 is a prime number\n",
      "19 is a prime number\n",
      "23 is a prime number\n",
      "29 is a prime number\n"
     ]
    }
   ],
   "source": [
    "count = 0\n",
    "n = 2\n",
    "while True:\n",
    "    factor = 0\n",
    "    for i in range(1, n+1):\n",
    "        if n%i == 0:\n",
    "            factor = factor + 1\n",
    "    if factor == 2:\n",
    "        print(f'{n} is a prime number')\n",
    "        count = count + 1\n",
    "    n = n +1\n",
    "    if count == 10:\n",
    "        break"
   ]
  },
  {
   "cell_type": "code",
   "execution_count": 13,
   "id": "4f98e0ba-6c6c-436f-8c80-013282e515b2",
   "metadata": {},
   "outputs": [
    {
     "name": "stdout",
     "output_type": "stream",
     "text": [
      "0\n",
      "1\n",
      "2\n",
      "Code goes back to the intial loop\n",
      "3\n",
      "4\n"
     ]
    }
   ],
   "source": [
    "for i in range(5):\n",
    "    print(i)\n",
    "    if i == 2:\n",
    "        print(\"Code goes back to the intial loop\")\n",
    "        continue\n",
    "        print(\"Hello\")"
   ]
  },
  {
   "cell_type": "code",
   "execution_count": 21,
   "id": "25962a5a-7aed-40f5-a6ce-345400bc6fed",
   "metadata": {},
   "outputs": [
    {
     "name": "stdout",
     "output_type": "stream",
     "text": [
      "value of i 0\n",
      "code goes back \n",
      "value of j 1\n",
      "value of j 2\n",
      "value of j 3\n",
      "value of i 1\n",
      "value of j 0\n",
      "code goes back \n",
      "value of j 2\n",
      "value of j 3\n",
      "value of i 2\n",
      "value of j 0\n",
      "value of j 1\n",
      "code goes back \n",
      "value of j 3\n"
     ]
    }
   ],
   "source": [
    "for i in range(3):\n",
    "    print(f\"value of i {i}\")\n",
    "    for j in range(4):\n",
    "        if j == i:\n",
    "            print(\"code goes back \")\n",
    "            continue\n",
    "        print(f\"value of j {j}\")\n",
    "        "
   ]
  },
  {
   "cell_type": "code",
   "execution_count": 23,
   "id": "119bd31c-196a-4c8f-bb56-3abd80986d4f",
   "metadata": {},
   "outputs": [
    {
     "name": "stdin",
     "output_type": "stream",
     "text": [
      "enter the number =  24\n"
     ]
    },
    {
     "name": "stdout",
     "output_type": "stream",
     "text": [
      "24\n"
     ]
    },
    {
     "name": "stdin",
     "output_type": "stream",
     "text": [
      "enter the number =  4\n",
      "enter the number =  4\n",
      "enter the number =  4\n",
      "enter the number =  10\n"
     ]
    },
    {
     "name": "stdout",
     "output_type": "stream",
     "text": [
      "10\n"
     ]
    },
    {
     "name": "stdin",
     "output_type": "stream",
     "text": [
      "enter the number =  19\n"
     ]
    },
    {
     "name": "stdout",
     "output_type": "stream",
     "text": [
      "19\n"
     ]
    },
    {
     "name": "stdin",
     "output_type": "stream",
     "text": [
      "enter the number =  23\n"
     ]
    },
    {
     "name": "stdout",
     "output_type": "stream",
     "text": [
      "23\n"
     ]
    },
    {
     "name": "stdin",
     "output_type": "stream",
     "text": [
      "enter the number =  4\n",
      "enter the number =  4\n",
      "enter the number =  4\n"
     ]
    }
   ],
   "source": [
    "for i in range(10):\n",
    "    a = int(input(\"enter the number = \"))\n",
    "    if a == 4:\n",
    "        continue\n",
    "    print(a)"
   ]
  },
  {
   "cell_type": "code",
   "execution_count": 24,
   "id": "0d85648b-d036-443d-9d6d-ffa1e675f153",
   "metadata": {},
   "outputs": [],
   "source": [
    "def first_100_prime():\n",
    "    count = 0\n",
    "    n = 2\n",
    "    while True:\n",
    "        factor = 0\n",
    "        for i in range(1, n+1):\n",
    "            if n%i == 0:\n",
    "                factor = factor + 1\n",
    "        if factor == 2:\n",
    "            print(f'{n} is a prime number')\n",
    "            count = count + 1\n",
    "        n = n +1\n",
    "        if count == 10:\n",
    "            break\n",
    "    return n"
   ]
  },
  {
   "cell_type": "code",
   "execution_count": 25,
   "id": "9dc4bb7e-6049-44a0-b34a-f4f912683985",
   "metadata": {},
   "outputs": [
    {
     "name": "stdout",
     "output_type": "stream",
     "text": [
      "2 is a prime number\n",
      "3 is a prime number\n",
      "5 is a prime number\n",
      "7 is a prime number\n",
      "11 is a prime number\n",
      "13 is a prime number\n",
      "17 is a prime number\n",
      "19 is a prime number\n",
      "23 is a prime number\n",
      "29 is a prime number\n"
     ]
    }
   ],
   "source": [
    "a = first_100_prime()"
   ]
  },
  {
   "cell_type": "code",
   "execution_count": null,
   "id": "1225d581-9584-4376-9c2b-a71d8ae0b4c2",
   "metadata": {},
   "outputs": [],
   "source": [
    "st = 'programming is awesome'"
   ]
  }
 ],
 "metadata": {
  "kernelspec": {
   "display_name": "Python 3 (ipykernel)",
   "language": "python",
   "name": "python3"
  },
  "language_info": {
   "codemirror_mode": {
    "name": "ipython",
    "version": 3
   },
   "file_extension": ".py",
   "mimetype": "text/x-python",
   "name": "python",
   "nbconvert_exporter": "python",
   "pygments_lexer": "ipython3",
   "version": "3.12.7"
  }
 },
 "nbformat": 4,
 "nbformat_minor": 5
}
