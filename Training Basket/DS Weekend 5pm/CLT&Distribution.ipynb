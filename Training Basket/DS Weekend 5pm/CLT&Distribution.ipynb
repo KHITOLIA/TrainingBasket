{
 "cells": [
  {
   "cell_type": "code",
   "execution_count": 2,
   "id": "b676f18b-bb1e-42cc-81f7-5ec3f3756278",
   "metadata": {},
   "outputs": [],
   "source": [
    "import numpy as np\n",
    "import pandas as pd\n",
    "import matplotlib.pyplot as plt"
   ]
  },
  {
   "cell_type": "code",
   "execution_count": 38,
   "id": "8558a711-9373-4e12-b6b3-da903ca3be32",
   "metadata": {},
   "outputs": [],
   "source": [
    "lambda_scale = 2\n",
    "num_sample = 1000\n",
    "sample_size = 100\n",
    "\n",
    "poisson_dist = np.random.poisson(lambda_scale, size = (num_sample, sample_size))"
   ]
  },
  {
   "cell_type": "code",
   "execution_count": 39,
   "id": "6a77553a-4db1-434c-b050-43aabd86159f",
   "metadata": {},
   "outputs": [
    {
     "data": {
      "text/plain": [
       "array([[3, 1, 0, ..., 1, 1, 0],\n",
       "       [2, 1, 1, ..., 2, 2, 2],\n",
       "       [3, 1, 0, ..., 0, 1, 1],\n",
       "       ...,\n",
       "       [1, 2, 3, ..., 6, 3, 3],\n",
       "       [3, 4, 0, ..., 0, 4, 0],\n",
       "       [3, 3, 1, ..., 1, 1, 2]])"
      ]
     },
     "execution_count": 39,
     "metadata": {},
     "output_type": "execute_result"
    }
   ],
   "source": [
    "poisson_dist"
   ]
  },
  {
   "cell_type": "code",
   "execution_count": 40,
   "id": "1159f0dc-ca44-49c3-9288-6d8509334de7",
   "metadata": {},
   "outputs": [
    {
     "data": {
      "text/plain": [
       "(1000, 100)"
      ]
     },
     "execution_count": 40,
     "metadata": {},
     "output_type": "execute_result"
    }
   ],
   "source": [
    "poisson_dist.shape"
   ]
  },
  {
   "cell_type": "code",
   "execution_count": 41,
   "id": "eed63ec2-8455-4e8e-8d0a-2383eb31f92a",
   "metadata": {},
   "outputs": [],
   "source": [
    "poisson_means = np.mean(poisson_dist, axis = 1)"
   ]
  },
  {
   "cell_type": "code",
   "execution_count": 42,
   "id": "5b137bff-98e7-4952-9b86-26fee00d7a23",
   "metadata": {},
   "outputs": [
    {
     "data": {
      "text/plain": [
       "array([1.69, 1.85, 2.08, 2.03, 2.09, 2.08, 1.97, 2.03, 1.85, 2.07, 1.98,\n",
       "       1.94, 2.04, 2.01, 2.12, 1.95, 1.99, 1.89, 1.83, 1.81, 1.85, 2.08,\n",
       "       1.91, 1.93, 2.08, 1.82, 2.22, 1.86, 2.18, 1.95, 1.98, 2.01, 2.02,\n",
       "       2.  , 1.89, 1.88, 1.83, 1.81, 1.87, 2.11, 2.27, 2.02, 1.99, 2.09,\n",
       "       2.09, 1.74, 1.85, 1.79, 1.81, 2.21, 2.22, 2.05, 1.97, 1.97, 2.07,\n",
       "       2.2 , 1.91, 2.02, 1.97, 1.82, 1.74, 1.96, 2.13, 1.92, 1.95, 2.06,\n",
       "       1.95, 1.86, 2.07, 1.84, 1.96, 1.96, 1.99, 1.94, 1.8 , 2.04, 2.11,\n",
       "       2.21, 2.06, 1.84, 1.99, 2.23, 1.95, 2.02, 2.02, 2.15, 2.14, 2.23,\n",
       "       1.94, 2.11, 2.05, 2.02, 2.1 , 1.88, 1.91, 1.77, 1.69, 1.83, 1.99,\n",
       "       2.3 , 2.12, 1.91, 1.79, 1.96, 1.87, 2.27, 1.95, 1.95, 1.81, 2.18,\n",
       "       1.99, 1.88, 1.82, 1.62, 2.02, 1.95, 2.05, 2.04, 2.05, 2.2 , 2.07,\n",
       "       1.93, 1.87, 1.93, 1.98, 1.87, 1.87, 1.8 , 1.95, 1.77, 1.8 , 1.99,\n",
       "       1.96, 2.06, 1.93, 1.8 , 2.18, 2.05, 1.8 , 1.95, 2.05, 2.06, 2.11,\n",
       "       2.01, 2.22, 1.87, 1.87, 1.93, 1.94, 1.74, 1.98, 1.76, 1.89, 2.02,\n",
       "       2.11, 2.05, 1.88, 2.01, 1.84, 1.9 , 1.79, 2.08, 1.99, 2.02, 2.04,\n",
       "       2.16, 1.92, 1.87, 1.93, 1.97, 1.94, 2.08, 1.53, 2.08, 1.96, 1.78,\n",
       "       1.98, 2.12, 1.9 , 1.92, 1.99, 1.72, 1.73, 1.88, 2.29, 2.04, 2.09,\n",
       "       2.24, 1.91, 1.98, 2.11, 1.99, 2.15, 1.9 , 2.  , 2.15, 1.88, 1.78,\n",
       "       2.27, 1.97, 2.02, 1.88, 2.18, 1.93, 2.24, 2.12, 2.36, 1.92, 1.94,\n",
       "       1.99, 1.75, 2.02, 2.19, 1.75, 2.01, 1.86, 1.83, 2.03, 1.96, 1.69,\n",
       "       1.98, 1.86, 2.07, 2.11, 1.97, 1.91, 1.91, 1.85, 2.14, 1.84, 2.01,\n",
       "       2.08, 1.97, 2.01, 1.77, 2.11, 1.91, 1.96, 2.2 , 1.86, 1.91, 1.83,\n",
       "       1.93, 1.71, 1.97, 1.87, 2.24, 1.88, 1.98, 2.35, 1.96, 2.31, 1.94,\n",
       "       2.25, 2.11, 1.76, 2.1 , 1.96, 2.2 , 1.84, 2.04, 1.64, 1.9 , 1.96,\n",
       "       1.97, 1.89, 2.14, 1.93, 1.91, 2.01, 2.07, 1.96, 1.84, 1.96, 1.93,\n",
       "       2.1 , 2.18, 1.91, 1.75, 1.84, 1.99, 2.06, 2.02, 2.08, 2.13, 2.08,\n",
       "       1.99, 1.96, 2.07, 1.86, 1.99, 1.93, 2.22, 2.01, 2.16, 2.19, 2.18,\n",
       "       1.95, 1.87, 2.06, 2.27, 1.97, 2.07, 1.95, 1.93, 2.03, 2.17, 1.99,\n",
       "       1.72, 1.97, 2.22, 1.91, 2.06, 2.24, 2.14, 2.01, 1.98, 2.17, 2.03,\n",
       "       2.08, 1.99, 2.11, 2.12, 1.85, 1.83, 1.94, 2.04, 2.14, 2.15, 2.1 ,\n",
       "       1.91, 1.96, 1.99, 2.03, 2.12, 1.88, 1.9 , 2.13, 2.14, 1.87, 1.99,\n",
       "       1.89, 2.17, 1.98, 1.98, 2.13, 2.07, 1.9 , 1.81, 2.04, 2.02, 2.16,\n",
       "       1.83, 1.85, 2.16, 1.97, 2.13, 2.13, 1.95, 2.08, 1.95, 1.9 , 2.07,\n",
       "       1.9 , 1.98, 2.1 , 2.05, 2.31, 1.89, 2.07, 1.94, 1.8 , 1.94, 1.97,\n",
       "       2.02, 2.34, 1.96, 2.1 , 1.89, 1.93, 1.69, 1.9 , 2.35, 1.85, 2.15,\n",
       "       2.19, 1.96, 1.87, 1.96, 2.21, 2.19, 2.19, 1.89, 1.96, 2.09, 2.05,\n",
       "       2.12, 1.91, 1.74, 1.99, 2.14, 2.05, 2.07, 1.77, 2.14, 1.87, 2.25,\n",
       "       1.72, 1.85, 1.82, 1.79, 2.02, 1.89, 2.04, 1.95, 1.91, 1.93, 1.96,\n",
       "       2.06, 1.94, 2.08, 1.85, 1.97, 1.95, 1.98, 2.03, 1.7 , 2.07, 1.83,\n",
       "       2.29, 2.15, 2.35, 2.18, 1.91, 2.17, 2.01, 1.89, 1.99, 1.89, 2.04,\n",
       "       1.72, 2.03, 2.04, 1.88, 1.67, 2.04, 2.22, 2.1 , 1.75, 2.3 , 2.03,\n",
       "       2.  , 2.17, 2.05, 2.19, 1.96, 1.87, 1.9 , 1.74, 2.  , 1.78, 2.02,\n",
       "       2.12, 1.95, 2.  , 1.86, 2.07, 1.82, 2.  , 2.2 , 2.09, 2.26, 1.96,\n",
       "       1.78, 2.05, 2.13, 2.04, 2.03, 1.91, 2.  , 2.07, 2.06, 1.91, 1.92,\n",
       "       1.88, 1.75, 2.  , 1.79, 1.67, 1.97, 1.88, 2.11, 2.01, 2.04, 1.82,\n",
       "       1.92, 2.01, 1.66, 2.13, 2.  , 1.92, 1.85, 1.79, 2.25, 1.88, 1.89,\n",
       "       1.91, 1.73, 2.05, 1.87, 1.84, 1.9 , 1.69, 2.15, 1.79, 2.05, 2.1 ,\n",
       "       1.89, 1.85, 1.99, 1.94, 2.02, 1.92, 1.84, 1.89, 1.99, 1.67, 2.01,\n",
       "       2.05, 1.88, 1.99, 2.  , 2.07, 2.  , 2.02, 1.85, 2.  , 1.97, 2.28,\n",
       "       1.81, 1.91, 2.19, 2.02, 1.79, 2.34, 1.94, 1.74, 1.98, 1.76, 1.87,\n",
       "       1.88, 1.87, 2.06, 1.82, 1.88, 1.77, 2.04, 1.98, 2.17, 2.05, 2.14,\n",
       "       1.78, 1.94, 2.29, 1.93, 1.96, 2.17, 2.05, 2.12, 1.96, 1.81, 2.11,\n",
       "       2.09, 2.04, 2.08, 1.74, 2.03, 2.08, 1.84, 2.  , 1.92, 2.3 , 2.03,\n",
       "       1.9 , 1.74, 1.94, 2.09, 2.01, 1.99, 1.78, 2.29, 1.95, 1.84, 2.07,\n",
       "       2.16, 2.29, 2.12, 2.15, 1.99, 2.01, 2.08, 2.31, 2.  , 1.91, 2.05,\n",
       "       1.99, 1.86, 1.97, 2.13, 1.84, 2.1 , 1.75, 1.88, 2.14, 2.13, 2.02,\n",
       "       2.06, 1.81, 2.02, 2.  , 2.03, 1.78, 2.1 , 2.11, 2.02, 1.83, 1.87,\n",
       "       2.08, 2.16, 2.06, 2.14, 1.84, 2.31, 2.11, 2.11, 2.01, 2.06, 1.97,\n",
       "       2.09, 2.09, 1.91, 2.19, 2.09, 2.05, 2.04, 1.99, 1.93, 1.88, 2.1 ,\n",
       "       2.23, 1.93, 2.03, 1.85, 1.82, 2.05, 1.93, 2.06, 2.07, 2.12, 2.06,\n",
       "       1.93, 2.25, 2.11, 1.72, 2.01, 2.01, 1.77, 2.02, 1.98, 2.18, 1.9 ,\n",
       "       2.05, 2.04, 2.16, 1.96, 1.77, 1.7 , 1.95, 1.85, 2.19, 2.16, 2.13,\n",
       "       1.9 , 2.07, 2.15, 2.04, 2.1 , 2.16, 2.15, 1.94, 1.91, 1.95, 1.95,\n",
       "       1.88, 1.77, 2.21, 2.01, 1.87, 2.04, 2.07, 2.  , 2.08, 2.02, 1.99,\n",
       "       2.22, 2.14, 2.  , 2.26, 2.29, 2.07, 1.81, 2.14, 1.99, 1.98, 1.9 ,\n",
       "       2.11, 2.07, 2.07, 2.1 , 2.07, 2.15, 2.09, 2.21, 1.57, 1.97, 2.2 ,\n",
       "       1.89, 1.89, 1.88, 1.92, 1.78, 2.08, 1.91, 1.96, 1.92, 2.21, 1.88,\n",
       "       2.03, 2.07, 1.93, 1.71, 1.7 , 1.94, 2.14, 2.02, 2.27, 2.04, 1.87,\n",
       "       2.16, 2.19, 2.29, 1.95, 1.76, 2.14, 1.9 , 1.98, 1.97, 2.17, 2.03,\n",
       "       1.79, 2.14, 1.88, 2.04, 1.94, 2.29, 2.16, 1.9 , 2.07, 1.84, 2.15,\n",
       "       2.13, 1.76, 2.19, 1.9 , 2.24, 1.96, 1.93, 1.95, 2.04, 1.93, 1.97,\n",
       "       1.89, 2.13, 2.05, 1.9 , 1.9 , 1.72, 1.79, 2.29, 2.05, 1.93, 1.85,\n",
       "       2.03, 1.97, 2.05, 1.87, 2.12, 1.97, 1.79, 2.  , 2.1 , 1.86, 2.24,\n",
       "       2.04, 1.94, 1.9 , 1.86, 2.02, 1.93, 1.91, 1.91, 1.87, 2.06, 2.01,\n",
       "       2.14, 1.76, 2.04, 2.12, 1.9 , 2.06, 1.57, 1.99, 1.93, 1.8 , 2.08,\n",
       "       1.99, 1.95, 2.2 , 2.1 , 1.97, 2.08, 2.13, 1.79, 2.11, 2.16, 1.98,\n",
       "       2.19, 1.84, 2.  , 1.94, 2.03, 2.03, 1.94, 2.06, 2.07, 1.94, 2.07,\n",
       "       2.19, 2.  , 2.06, 2.09, 2.32, 1.97, 1.89, 1.91, 1.83, 2.12, 1.89,\n",
       "       2.19, 1.92, 2.  , 1.78, 2.09, 2.11, 2.08, 1.93, 1.98, 2.12, 1.84,\n",
       "       2.09, 2.04, 2.04, 1.96, 2.04, 1.78, 2.11, 2.26, 1.64, 1.95, 2.02,\n",
       "       2.12, 1.98, 2.29, 1.95, 2.14, 1.93, 1.93, 2.11, 2.04, 2.14, 2.17,\n",
       "       2.  , 2.16, 1.71, 1.98, 2.06, 1.82, 2.08, 2.12, 2.  , 1.97, 2.21,\n",
       "       2.05, 1.98, 2.17, 2.25, 2.08, 2.24, 1.83, 1.96, 2.15, 1.97, 2.21,\n",
       "       1.84, 2.04, 1.9 , 2.17, 2.08, 1.81, 1.78, 1.96, 2.13, 2.05, 2.09,\n",
       "       2.06, 2.04, 1.76, 1.84, 1.93, 2.05, 1.95, 2.07, 2.29, 1.91, 1.95,\n",
       "       1.91, 1.97, 1.96, 2.27, 1.97, 2.13, 2.1 , 2.14, 2.05, 1.9 , 1.98,\n",
       "       1.98, 1.76, 1.96, 1.83, 1.92, 2.09, 2.06, 2.04, 2.2 , 1.98, 1.77,\n",
       "       2.21, 2.3 , 2.07, 2.01, 2.01, 2.15, 1.77, 2.07, 2.25, 2.15, 1.96,\n",
       "       1.89, 2.26, 1.88, 1.98, 1.83, 2.  , 2.11, 1.71, 2.1 , 1.96, 2.07,\n",
       "       2.04, 1.87, 2.24, 2.1 , 1.82, 1.93, 2.29, 1.9 , 2.09, 2.23, 1.93,\n",
       "       2.18, 2.04, 1.94, 2.04, 1.87, 1.9 , 2.05, 2.  , 1.91, 2.07])"
      ]
     },
     "execution_count": 42,
     "metadata": {},
     "output_type": "execute_result"
    }
   ],
   "source": [
    "(poisson_means)"
   ]
  },
  {
   "cell_type": "code",
   "execution_count": 43,
   "id": "984eb4a2-483f-4247-8eb9-cc97d93a0d3e",
   "metadata": {},
   "outputs": [
    {
     "data": {
      "text/plain": [
       "<seaborn.axisgrid.FacetGrid at 0x18de8bdb7d0>"
      ]
     },
     "execution_count": 43,
     "metadata": {},
     "output_type": "execute_result"
    },
    {
     "data": {
      "image/png": "[encoded data removed]",
      "text/plain": [
       "<Figure size 500x500 with 1 Axes>"
      ]
     },
     "metadata": {},
     "output_type": "display_data"
    }
   ],
   "source": [
    "import seaborn as sns\n",
    "sns.displot(poisson_means)"
   ]
  },
  {
   "cell_type": "code",
   "execution_count": 44,
   "id": "ec2e5c77-133a-4c41-8ee9-17599558a8d2",
   "metadata": {},
   "outputs": [
    {
     "data": {
      "text/plain": [
       "<Axes: ylabel='Density'>"
      ]
     },
     "execution_count": 44,
     "metadata": {},
     "output_type": "execute_result"
    },
    {
     "data": {
      "image/png": "[encoded data removed]",
      "text/plain": [
       "<Figure size 640x480 with 1 Axes>"
      ]
     },
     "metadata": {},
     "output_type": "display_data"
    }
   ],
   "source": [
    "sns.kdeplot(poisson_means)"
   ]
  },
  {
   "cell_type": "code",
   "execution_count": 45,
   "id": "3a410b69-20f3-4c48-8871-2f6770f92ef1",
   "metadata": {},
   "outputs": [
    {
     "data": {
      "text/plain": [
       "1.9949"
      ]
     },
     "execution_count": 45,
     "metadata": {},
     "output_type": "execute_result"
    }
   ],
   "source": [
    "poisson_dist.mean()"
   ]
  },
  {
   "cell_type": "code",
   "execution_count": 46,
   "id": "3345fc93-c8de-4ce7-b609-2c3c628a9a1b",
   "metadata": {},
   "outputs": [
    {
     "data": {
      "text/plain": [
       "1.9949"
      ]
     },
     "execution_count": 46,
     "metadata": {},
     "output_type": "execute_result"
    }
   ],
   "source": [
    "poisson_means.mean()"
   ]
  },
  {
   "cell_type": "code",
   "execution_count": 47,
   "id": "dc20e484-1e56-44f3-9133-fd367846efe6",
   "metadata": {},
   "outputs": [],
   "source": [
    "# Uniform Distribution "
   ]
  },
  {
   "cell_type": "code",
   "execution_count": 67,
   "id": "c45abb18-3263-49fa-a292-828ccfd1403a",
   "metadata": {},
   "outputs": [],
   "source": [
    "a = 5\n",
    "b = 20\n",
    "uniform_dist = np.random.uniform(a, b, size = (num_samples, sample_size))"
   ]
  },
  {
   "cell_type": "code",
   "execution_count": 68,
   "id": "982ac4d1-7ba6-4340-b849-e9bd1f700417",
   "metadata": {},
   "outputs": [
    {
     "data": {
      "text/plain": [
       "100"
      ]
     },
     "execution_count": 68,
     "metadata": {},
     "output_type": "execute_result"
    }
   ],
   "source": [
    "len(uniform_dist[0])"
   ]
  },
  {
   "cell_type": "code",
   "execution_count": 69,
   "id": "9ae0d5ce-8db7-4899-8aa2-9bb4a5e5bd5b",
   "metadata": {},
   "outputs": [],
   "source": [
    "uniform_mean = np.mean(uniform_dist, axis = 1)"
   ]
  },
  {
   "cell_type": "code",
   "execution_count": 70,
   "id": "767cc5d8-882f-44c7-a17a-5e3c2984da36",
   "metadata": {},
   "outputs": [
    {
     "data": {
      "text/plain": [
       "<Axes: ylabel='Density'>"
      ]
     },
     "execution_count": 70,
     "metadata": {},
     "output_type": "execute_result"
    },
    {
     "data": {
      "image/png": "[encoded data removed]",
      "text/plain": [
       "<Figure size 640x480 with 1 Axes>"
      ]
     },
     "metadata": {},
     "output_type": "display_data"
    }
   ],
   "source": [
    "sns.kdeplot(uniform_mean, c = 'r')"
   ]
  },
  {
   "cell_type": "code",
   "execution_count": 71,
   "id": "0cce16eb-4a65-44c1-a2c7-8f6e75613b32",
   "metadata": {},
   "outputs": [
    {
     "data": {
      "text/plain": [
       "12.464302879121606"
      ]
     },
     "execution_count": 71,
     "metadata": {},
     "output_type": "execute_result"
    }
   ],
   "source": [
    "uniform_dist.mean()"
   ]
  },
  {
   "cell_type": "code",
   "execution_count": 72,
   "id": "b13f307f-b1a5-4cd7-8d09-6d37b18738dc",
   "metadata": {},
   "outputs": [
    {
     "data": {
      "text/plain": [
       "12.464302879121606"
      ]
     },
     "execution_count": 72,
     "metadata": {},
     "output_type": "execute_result"
    }
   ],
   "source": [
    "uniform_mean.mean()"
   ]
  },
  {
   "cell_type": "code",
   "execution_count": 75,
   "id": "e1bac845-e0c0-429a-9b01-4b0e712c6b22",
   "metadata": {},
   "outputs": [],
   "source": [
    "expo_dist = np.random.exponential(scale = 5, size = (num_sample, sample_size))"
   ]
  },
  {
   "cell_type": "code",
   "execution_count": 76,
   "id": "72bdd8dd-3708-42c5-b8a3-757491274192",
   "metadata": {},
   "outputs": [],
   "source": [
    "expo_mean = np.mean(expo_dist, axis = 1)"
   ]
  },
  {
   "cell_type": "code",
   "execution_count": 77,
   "id": "14daa519-5838-43b2-8eae-fbe0f6f2070d",
   "metadata": {},
   "outputs": [
    {
     "data": {
      "text/plain": [
       "<Axes: ylabel='Density'>"
      ]
     },
     "execution_count": 77,
     "metadata": {},
     "output_type": "execute_result"
    },
    {
     "data": {
      "image/png": "[encoded data removed]",
      "text/plain": [
       "<Figure size 640x480 with 1 Axes>"
      ]
     },
     "metadata": {},
     "output_type": "display_data"
    }
   ],
   "source": [
    "sns.kdeplot(expo_mean)"
   ]
  },
  {
   "cell_type": "code",
   "execution_count": 82,
   "id": "9050a1f5-7987-4273-a39b-f71b076a4238",
   "metadata": {},
   "outputs": [
    {
     "data": {
      "text/plain": [
       "0.029531660283231176"
      ]
     },
     "execution_count": 82,
     "metadata": {},
     "output_type": "execute_result"
    }
   ],
   "source": [
    "expo_mean.mean() - np.median(expo_mean)"
   ]
  },
  {
   "cell_type": "code",
   "execution_count": 84,
   "id": "b2b6e6a0-faf5-4547-88d3-bc862343c8eb",
   "metadata": {},
   "outputs": [
    {
     "data": {
      "text/plain": [
       "True"
      ]
     },
     "execution_count": 84,
     "metadata": {},
     "output_type": "execute_result"
    }
   ],
   "source": [
    "expo_dist.mean() == expo_mean.mean()"
   ]
  },
  {
   "cell_type": "code",
   "execution_count": 85,
   "id": "d1cb773a-f29b-421f-8aef-1cb30e6a87a1",
   "metadata": {},
   "outputs": [],
   "source": [
    "# Sample Dataset case study : \n"
   ]
  },
  {
   "cell_type": "code",
   "execution_count": 86,
   "id": "c6910b3a-aafd-4d8d-b687-434e42fd798b",
   "metadata": {},
   "outputs": [],
   "source": [
    "from sklearn.datasets import load_wine"
   ]
  },
  {
   "cell_type": "code",
   "execution_count": 87,
   "id": "385a7f83-0a11-4d0f-8f08-8b91cce41440",
   "metadata": {},
   "outputs": [],
   "source": [
    "data = load_wine()"
   ]
  },
  {
   "cell_type": "code",
   "execution_count": 90,
   "id": "cf61b94b-a3ce-4de4-93ea-3c217aa61769",
   "metadata": {},
   "outputs": [
    {
     "data": {
      "text/plain": [
       "{'data': array([[1.423e+01, 1.710e+00, 2.430e+00, ..., 1.040e+00, 3.920e+00,\n",
       "         1.065e+03],\n",
       "        [1.320e+01, 1.780e+00, 2.140e+00, ..., 1.050e+00, 3.400e+00,\n",
       "         1.050e+03],\n",
       "        [1.316e+01, 2.360e+00, 2.670e+00, ..., 1.030e+00, 3.170e+00,\n",
       "         1.185e+03],\n",
       "        ...,\n",
       "        [1.327e+01, 4.280e+00, 2.260e+00, ..., 5.900e-01, 1.560e+00,\n",
       "         8.350e+02],\n",
       "        [1.317e+01, 2.590e+00, 2.370e+00, ..., 6.000e-01, 1.620e+00,\n",
       "         8.400e+02],\n",
       "        [1.413e+01, 4.100e+00, 2.740e+00, ..., 6.100e-01, 1.600e+00,\n",
       "         5.600e+02]]),\n",
       " 'target': array([0, 0, 0, 0, 0, 0, 0, 0, 0, 0, 0, 0, 0, 0, 0, 0, 0, 0, 0, 0, 0, 0,\n",
       "        0, 0, 0, 0, 0, 0, 0, 0, 0, 0, 0, 0, 0, 0, 0, 0, 0, 0, 0, 0, 0, 0,\n",
       "        0, 0, 0, 0, 0, 0, 0, 0, 0, 0, 0, 0, 0, 0, 0, 1, 1, 1, 1, 1, 1, 1,\n",
       "        1, 1, 1, 1, 1, 1, 1, 1, 1, 1, 1, 1, 1, 1, 1, 1, 1, 1, 1, 1, 1, 1,\n",
       "        1, 1, 1, 1, 1, 1, 1, 1, 1, 1, 1, 1, 1, 1, 1, 1, 1, 1, 1, 1, 1, 1,\n",
       "        1, 1, 1, 1, 1, 1, 1, 1, 1, 1, 1, 1, 1, 1, 1, 1, 1, 1, 1, 1, 2, 2,\n",
       "        2, 2, 2, 2, 2, 2, 2, 2, 2, 2, 2, 2, 2, 2, 2, 2, 2, 2, 2, 2, 2, 2,\n",
       "        2, 2, 2, 2, 2, 2, 2, 2, 2, 2, 2, 2, 2, 2, 2, 2, 2, 2, 2, 2, 2, 2,\n",
       "        2, 2]),\n",
       " 'frame': None,\n",
       " 'target_names': array(['class_0', 'class_1', 'class_2'], dtype='<U7'),\n",
       " 'DESCR': '.. _wine_dataset:\\n\\nWine recognition dataset\\n------------------------\\n\\n**Data Set Characteristics:**\\n\\n:Number of Instances: 178\\n:Number of Attributes: 13 numeric, predictive attributes and the class\\n:Attribute Information:\\n    - Alcohol\\n    - Malic acid\\n    - Ash\\n    - Alcalinity of ash\\n    - Magnesium\\n    - Total phenols\\n    - Flavanoids\\n    - Nonflavanoid phenols\\n    - Proanthocyanins\\n    - Color intensity\\n    - Hue\\n    - OD280/OD315 of diluted wines\\n    - Proline\\n    - class:\\n        - class_0\\n        - class_1\\n        - class_2\\n\\n:Summary Statistics:\\n\\n============================= ==== ===== ======= =====\\n                                Min   Max   Mean     SD\\n============================= ==== ===== ======= =====\\nAlcohol:                      11.0  14.8    13.0   0.8\\nMalic Acid:                   0.74  5.80    2.34  1.12\\nAsh:                          1.36  3.23    2.36  0.27\\nAlcalinity of Ash:            10.6  30.0    19.5   3.3\\nMagnesium:                    70.0 162.0    99.7  14.3\\nTotal Phenols:                0.98  3.88    2.29  0.63\\nFlavanoids:                   0.34  5.08    2.03  1.00\\nNonflavanoid Phenols:         0.13  0.66    0.36  0.12\\nProanthocyanins:              0.41  3.58    1.59  0.57\\nColour Intensity:              1.3  13.0     5.1   2.3\\nHue:                          0.48  1.71    0.96  0.23\\nOD280/OD315 of diluted wines: 1.27  4.00    2.61  0.71\\nProline:                       278  1680     746   315\\n============================= ==== ===== ======= =====\\n\\n:Missing Attribute Values: None\\n:Class Distribution: class_0 (59), class_1 (71), class_2 (48)\\n:Creator: R.A. Fisher\\n:Donor: Michael Marshall (MARSHALL%PLU@io.arc.nasa.gov)\\n:Date: July, 1988\\n\\nThis is a copy of UCI ML Wine recognition datasets.\\nhttps://archive.ics.uci.edu/ml/machine-learning-databases/wine/wine.data\\n\\nThe data is the results of a chemical analysis of wines grown in the same\\nregion in Italy by three different cultivators. There are thirteen different\\nmeasurements taken for different constituents found in the three types of\\nwine.\\n\\nOriginal Owners:\\n\\nForina, M. et al, PARVUS -\\nAn Extendible Package for Data Exploration, Classification and Correlation.\\nInstitute of Pharmaceutical and Food Analysis and Technologies,\\nVia Brigata Salerno, 16147 Genoa, Italy.\\n\\nCitation:\\n\\nLichman, M. (2013). UCI Machine Learning Repository\\n[https://archive.ics.uci.edu/ml]. Irvine, CA: University of California,\\nSchool of Information and Computer Science.\\n\\n.. dropdown:: References\\n\\n    (1) S. Aeberhard, D. Coomans and O. de Vel,\\n    Comparison of Classifiers in High Dimensional Settings,\\n    Tech. Rep. no. 92-02, (1992), Dept. of Computer Science and Dept. of\\n    Mathematics and Statistics, James Cook University of North Queensland.\\n    (Also submitted to Technometrics).\\n\\n    The data was used with many others for comparing various\\n    classifiers. The classes are separable, though only RDA\\n    has achieved 100% correct classification.\\n    (RDA : 100%, QDA 99.4%, LDA 98.9%, 1NN 96.1% (z-transformed data))\\n    (All results using the leave-one-out technique)\\n\\n    (2) S. Aeberhard, D. Coomans and O. de Vel,\\n    \"THE CLASSIFICATION PERFORMANCE OF RDA\"\\n    Tech. Rep. no. 92-01, (1992), Dept. of Computer Science and Dept. of\\n    Mathematics and Statistics, James Cook University of North Queensland.\\n    (Also submitted to Journal of Chemometrics).\\n',\n",
       " 'feature_names': ['alcohol',\n",
       "  'malic_acid',\n",
       "  'ash',\n",
       "  'alcalinity_of_ash',\n",
       "  'magnesium',\n",
       "  'total_phenols',\n",
       "  'flavanoids',\n",
       "  'nonflavanoid_phenols',\n",
       "  'proanthocyanins',\n",
       "  'color_intensity',\n",
       "  'hue',\n",
       "  'od280/od315_of_diluted_wines',\n",
       "  'proline']}"
      ]
     },
     "execution_count": 90,
     "metadata": {},
     "output_type": "execute_result"
    }
   ],
   "source": [
    "data"
   ]
  },
  {
   "cell_type": "code",
   "execution_count": 91,
   "id": "9a0eee5c-8399-43a8-ad33-54174965b4b8",
   "metadata": {},
   "outputs": [],
   "source": [
    "df = pd.DataFrame(data.data, columns = data.feature_names)"
   ]
  },
  {
   "cell_type": "code",
   "execution_count": 92,
   "id": "50c2aa35-8401-4647-8d67-9a7ca7580c68",
   "metadata": {},
   "outputs": [
    {
     "data": {
      "text/html": [
       "<div>\n",
       "<style scoped>\n",
       "    .dataframe tbody tr th:only-of-type {\n",
       "        vertical-align: middle;\n",
       "    }\n",
       "\n",
       "    .dataframe tbody tr th {\n",
       "        vertical-align: top;\n",
       "    }\n",
       "\n",
       "    .dataframe thead th {\n",
       "        text-align: right;\n",
       "    }\n",
       "</style>\n",
       "<table border=\"1\" class=\"dataframe\">\n",
       "  <thead>\n",
       "    <tr style=\"text-align: right;\">\n",
       "      <th></th>\n",
       "      <th>alcohol</th>\n",
       "      <th>malic_acid</th>\n",
       "      <th>ash</th>\n",
       "      <th>alcalinity_of_ash</th>\n",
       "      <th>magnesium</th>\n",
       "      <th>total_phenols</th>\n",
       "      <th>flavanoids</th>\n",
       "      <th>nonflavanoid_phenols</th>\n",
       "      <th>proanthocyanins</th>\n",
       "      <th>color_intensity</th>\n",
       "      <th>hue</th>\n",
       "      <th>od280/od315_of_diluted_wines</th>\n",
       "      <th>proline</th>\n",
       "    </tr>\n",
       "  </thead>\n",
       "  <tbody>\n",
       "    <tr>\n",
       "      <th>0</th>\n",
       "      <td>14.23</td>\n",
       "      <td>1.71</td>\n",
       "      <td>2.43</td>\n",
       "      <td>15.6</td>\n",
       "      <td>127.0</td>\n",
       "      <td>2.80</td>\n",
       "      <td>3.06</td>\n",
       "      <td>0.28</td>\n",
       "      <td>2.29</td>\n",
       "      <td>5.64</td>\n",
       "      <td>1.04</td>\n",
       "      <td>3.92</td>\n",
       "      <td>1065.0</td>\n",
       "    </tr>\n",
       "    <tr>\n",
       "      <th>1</th>\n",
       "      <td>13.20</td>\n",
       "      <td>1.78</td>\n",
       "      <td>2.14</td>\n",
       "      <td>11.2</td>\n",
       "      <td>100.0</td>\n",
       "      <td>2.65</td>\n",
       "      <td>2.76</td>\n",
       "      <td>0.26</td>\n",
       "      <td>1.28</td>\n",
       "      <td>4.38</td>\n",
       "      <td>1.05</td>\n",
       "      <td>3.40</td>\n",
       "      <td>1050.0</td>\n",
       "    </tr>\n",
       "    <tr>\n",
       "      <th>2</th>\n",
       "      <td>13.16</td>\n",
       "      <td>2.36</td>\n",
       "      <td>2.67</td>\n",
       "      <td>18.6</td>\n",
       "      <td>101.0</td>\n",
       "      <td>2.80</td>\n",
       "      <td>3.24</td>\n",
       "      <td>0.30</td>\n",
       "      <td>2.81</td>\n",
       "      <td>5.68</td>\n",
       "      <td>1.03</td>\n",
       "      <td>3.17</td>\n",
       "      <td>1185.0</td>\n",
       "    </tr>\n",
       "    <tr>\n",
       "      <th>3</th>\n",
       "      <td>14.37</td>\n",
       "      <td>1.95</td>\n",
       "      <td>2.50</td>\n",
       "      <td>16.8</td>\n",
       "      <td>113.0</td>\n",
       "      <td>3.85</td>\n",
       "      <td>3.49</td>\n",
       "      <td>0.24</td>\n",
       "      <td>2.18</td>\n",
       "      <td>7.80</td>\n",
       "      <td>0.86</td>\n",
       "      <td>3.45</td>\n",
       "      <td>1480.0</td>\n",
       "    </tr>\n",
       "    <tr>\n",
       "      <th>4</th>\n",
       "      <td>13.24</td>\n",
       "      <td>2.59</td>\n",
       "      <td>2.87</td>\n",
       "      <td>21.0</td>\n",
       "      <td>118.0</td>\n",
       "      <td>2.80</td>\n",
       "      <td>2.69</td>\n",
       "      <td>0.39</td>\n",
       "      <td>1.82</td>\n",
       "      <td>4.32</td>\n",
       "      <td>1.04</td>\n",
       "      <td>2.93</td>\n",
       "      <td>735.0</td>\n",
       "    </tr>\n",
       "  </tbody>\n",
       "</table>\n",
       "</div>"
      ],
      "text/plain": [
       "   alcohol  malic_acid   ash  alcalinity_of_ash  magnesium  total_phenols  \\\n",
       "0    14.23        1.71  2.43               15.6      127.0           2.80   \n",
       "1    13.20        1.78  2.14               11.2      100.0           2.65   \n",
       "2    13.16        2.36  2.67               18.6      101.0           2.80   \n",
       "3    14.37        1.95  2.50               16.8      113.0           3.85   \n",
       "4    13.24        2.59  2.87               21.0      118.0           2.80   \n",
       "\n",
       "   flavanoids  nonflavanoid_phenols  proanthocyanins  color_intensity   hue  \\\n",
       "0        3.06                  0.28             2.29             5.64  1.04   \n",
       "1        2.76                  0.26             1.28             4.38  1.05   \n",
       "2        3.24                  0.30             2.81             5.68  1.03   \n",
       "3        3.49                  0.24             2.18             7.80  0.86   \n",
       "4        2.69                  0.39             1.82             4.32  1.04   \n",
       "\n",
       "   od280/od315_of_diluted_wines  proline  \n",
       "0                          3.92   1065.0  \n",
       "1                          3.40   1050.0  \n",
       "2                          3.17   1185.0  \n",
       "3                          3.45   1480.0  \n",
       "4                          2.93    735.0  "
      ]
     },
     "execution_count": 92,
     "metadata": {},
     "output_type": "execute_result"
    }
   ],
   "source": [
    "df.head()"
   ]
  },
  {
   "cell_type": "code",
   "execution_count": 96,
   "id": "1cda568a-ecee-4877-a63b-1951ab595829",
   "metadata": {},
   "outputs": [],
   "source": [
    "x, y = load_wine(return_X_y=True)"
   ]
  },
  {
   "cell_type": "code",
   "execution_count": 97,
   "id": "7a4c195c-b8ef-4364-9c41-e283a09c9dd7",
   "metadata": {},
   "outputs": [
    {
     "data": {
      "text/plain": [
       "array([[1.423e+01, 1.710e+00, 2.430e+00, ..., 1.040e+00, 3.920e+00,\n",
       "        1.065e+03],\n",
       "       [1.320e+01, 1.780e+00, 2.140e+00, ..., 1.050e+00, 3.400e+00,\n",
       "        1.050e+03],\n",
       "       [1.316e+01, 2.360e+00, 2.670e+00, ..., 1.030e+00, 3.170e+00,\n",
       "        1.185e+03],\n",
       "       ...,\n",
       "       [1.327e+01, 4.280e+00, 2.260e+00, ..., 5.900e-01, 1.560e+00,\n",
       "        8.350e+02],\n",
       "       [1.317e+01, 2.590e+00, 2.370e+00, ..., 6.000e-01, 1.620e+00,\n",
       "        8.400e+02],\n",
       "       [1.413e+01, 4.100e+00, 2.740e+00, ..., 6.100e-01, 1.600e+00,\n",
       "        5.600e+02]])"
      ]
     },
     "execution_count": 97,
     "metadata": {},
     "output_type": "execute_result"
    }
   ],
   "source": [
    "x"
   ]
  },
  {
   "cell_type": "code",
   "execution_count": 98,
   "id": "c8b5d4d6-7bf0-4940-a046-668fb5a1c574",
   "metadata": {},
   "outputs": [
    {
     "data": {
      "text/plain": [
       "array([0, 0, 0, 0, 0, 0, 0, 0, 0, 0, 0, 0, 0, 0, 0, 0, 0, 0, 0, 0, 0, 0,\n",
       "       0, 0, 0, 0, 0, 0, 0, 0, 0, 0, 0, 0, 0, 0, 0, 0, 0, 0, 0, 0, 0, 0,\n",
       "       0, 0, 0, 0, 0, 0, 0, 0, 0, 0, 0, 0, 0, 0, 0, 1, 1, 1, 1, 1, 1, 1,\n",
       "       1, 1, 1, 1, 1, 1, 1, 1, 1, 1, 1, 1, 1, 1, 1, 1, 1, 1, 1, 1, 1, 1,\n",
       "       1, 1, 1, 1, 1, 1, 1, 1, 1, 1, 1, 1, 1, 1, 1, 1, 1, 1, 1, 1, 1, 1,\n",
       "       1, 1, 1, 1, 1, 1, 1, 1, 1, 1, 1, 1, 1, 1, 1, 1, 1, 1, 1, 1, 2, 2,\n",
       "       2, 2, 2, 2, 2, 2, 2, 2, 2, 2, 2, 2, 2, 2, 2, 2, 2, 2, 2, 2, 2, 2,\n",
       "       2, 2, 2, 2, 2, 2, 2, 2, 2, 2, 2, 2, 2, 2, 2, 2, 2, 2, 2, 2, 2, 2,\n",
       "       2, 2])"
      ]
     },
     "execution_count": 98,
     "metadata": {},
     "output_type": "execute_result"
    }
   ],
   "source": [
    "y"
   ]
  },
  {
   "cell_type": "code",
   "execution_count": 99,
   "id": "37568e0d-cabc-4ef0-80ee-0206c49b200f",
   "metadata": {},
   "outputs": [
    {
     "data": {
      "text/html": [
       "<div>\n",
       "<style scoped>\n",
       "    .dataframe tbody tr th:only-of-type {\n",
       "        vertical-align: middle;\n",
       "    }\n",
       "\n",
       "    .dataframe tbody tr th {\n",
       "        vertical-align: top;\n",
       "    }\n",
       "\n",
       "    .dataframe thead th {\n",
       "        text-align: right;\n",
       "    }\n",
       "</style>\n",
       "<table border=\"1\" class=\"dataframe\">\n",
       "  <thead>\n",
       "    <tr style=\"text-align: right;\">\n",
       "      <th></th>\n",
       "      <th>alcohol</th>\n",
       "      <th>malic_acid</th>\n",
       "      <th>ash</th>\n",
       "      <th>alcalinity_of_ash</th>\n",
       "      <th>magnesium</th>\n",
       "      <th>total_phenols</th>\n",
       "      <th>flavanoids</th>\n",
       "      <th>nonflavanoid_phenols</th>\n",
       "      <th>proanthocyanins</th>\n",
       "      <th>color_intensity</th>\n",
       "      <th>hue</th>\n",
       "      <th>od280/od315_of_diluted_wines</th>\n",
       "      <th>proline</th>\n",
       "    </tr>\n",
       "  </thead>\n",
       "  <tbody>\n",
       "    <tr>\n",
       "      <th>0</th>\n",
       "      <td>14.23</td>\n",
       "      <td>1.71</td>\n",
       "      <td>2.43</td>\n",
       "      <td>15.6</td>\n",
       "      <td>127.0</td>\n",
       "      <td>2.80</td>\n",
       "      <td>3.06</td>\n",
       "      <td>0.28</td>\n",
       "      <td>2.29</td>\n",
       "      <td>5.64</td>\n",
       "      <td>1.04</td>\n",
       "      <td>3.92</td>\n",
       "      <td>1065.0</td>\n",
       "    </tr>\n",
       "    <tr>\n",
       "      <th>1</th>\n",
       "      <td>13.20</td>\n",
       "      <td>1.78</td>\n",
       "      <td>2.14</td>\n",
       "      <td>11.2</td>\n",
       "      <td>100.0</td>\n",
       "      <td>2.65</td>\n",
       "      <td>2.76</td>\n",
       "      <td>0.26</td>\n",
       "      <td>1.28</td>\n",
       "      <td>4.38</td>\n",
       "      <td>1.05</td>\n",
       "      <td>3.40</td>\n",
       "      <td>1050.0</td>\n",
       "    </tr>\n",
       "    <tr>\n",
       "      <th>2</th>\n",
       "      <td>13.16</td>\n",
       "      <td>2.36</td>\n",
       "      <td>2.67</td>\n",
       "      <td>18.6</td>\n",
       "      <td>101.0</td>\n",
       "      <td>2.80</td>\n",
       "      <td>3.24</td>\n",
       "      <td>0.30</td>\n",
       "      <td>2.81</td>\n",
       "      <td>5.68</td>\n",
       "      <td>1.03</td>\n",
       "      <td>3.17</td>\n",
       "      <td>1185.0</td>\n",
       "    </tr>\n",
       "    <tr>\n",
       "      <th>3</th>\n",
       "      <td>14.37</td>\n",
       "      <td>1.95</td>\n",
       "      <td>2.50</td>\n",
       "      <td>16.8</td>\n",
       "      <td>113.0</td>\n",
       "      <td>3.85</td>\n",
       "      <td>3.49</td>\n",
       "      <td>0.24</td>\n",
       "      <td>2.18</td>\n",
       "      <td>7.80</td>\n",
       "      <td>0.86</td>\n",
       "      <td>3.45</td>\n",
       "      <td>1480.0</td>\n",
       "    </tr>\n",
       "    <tr>\n",
       "      <th>4</th>\n",
       "      <td>13.24</td>\n",
       "      <td>2.59</td>\n",
       "      <td>2.87</td>\n",
       "      <td>21.0</td>\n",
       "      <td>118.0</td>\n",
       "      <td>2.80</td>\n",
       "      <td>2.69</td>\n",
       "      <td>0.39</td>\n",
       "      <td>1.82</td>\n",
       "      <td>4.32</td>\n",
       "      <td>1.04</td>\n",
       "      <td>2.93</td>\n",
       "      <td>735.0</td>\n",
       "    </tr>\n",
       "  </tbody>\n",
       "</table>\n",
       "</div>"
      ],
      "text/plain": [
       "   alcohol  malic_acid   ash  alcalinity_of_ash  magnesium  total_phenols  \\\n",
       "0    14.23        1.71  2.43               15.6      127.0           2.80   \n",
       "1    13.20        1.78  2.14               11.2      100.0           2.65   \n",
       "2    13.16        2.36  2.67               18.6      101.0           2.80   \n",
       "3    14.37        1.95  2.50               16.8      113.0           3.85   \n",
       "4    13.24        2.59  2.87               21.0      118.0           2.80   \n",
       "\n",
       "   flavanoids  nonflavanoid_phenols  proanthocyanins  color_intensity   hue  \\\n",
       "0        3.06                  0.28             2.29             5.64  1.04   \n",
       "1        2.76                  0.26             1.28             4.38  1.05   \n",
       "2        3.24                  0.30             2.81             5.68  1.03   \n",
       "3        3.49                  0.24             2.18             7.80  0.86   \n",
       "4        2.69                  0.39             1.82             4.32  1.04   \n",
       "\n",
       "   od280/od315_of_diluted_wines  proline  \n",
       "0                          3.92   1065.0  \n",
       "1                          3.40   1050.0  \n",
       "2                          3.17   1185.0  \n",
       "3                          3.45   1480.0  \n",
       "4                          2.93    735.0  "
      ]
     },
     "execution_count": 99,
     "metadata": {},
     "output_type": "execute_result"
    }
   ],
   "source": [
    "df.head()"
   ]
  },
  {
   "cell_type": "code",
   "execution_count": 100,
   "id": "26708aea-8bbb-4cc2-8cd9-2c7f226b2ddb",
   "metadata": {},
   "outputs": [
    {
     "data": {
      "text/plain": [
       "<Axes: xlabel='color_intensity', ylabel='Density'>"
      ]
     },
     "execution_count": 100,
     "metadata": {},
     "output_type": "execute_result"
    },
    {
     "data": {
      "image/png": "[encoded data removed]",
      "text/plain": [
       "<Figure size 640x480 with 1 Axes>"
      ]
     },
     "metadata": {},
     "output_type": "display_data"
    }
   ],
   "source": [
    "sns.kdeplot(df['color_intensity'])"
   ]
  },
  {
   "cell_type": "code",
   "execution_count": 101,
   "id": "b9317082-3e3a-43b3-a70f-e39dd0c31dd3",
   "metadata": {},
   "outputs": [
    {
     "data": {
      "text/plain": [
       "0.8685847909572548"
      ]
     },
     "execution_count": 101,
     "metadata": {},
     "output_type": "execute_result"
    }
   ],
   "source": [
    "df['color_intensity'].skew()"
   ]
  },
  {
   "cell_type": "code",
   "execution_count": 133,
   "id": "6b2d8b46-0883-47e4-be4a-6ccaabaa84f5",
   "metadata": {},
   "outputs": [
    {
     "data": {
      "text/plain": [
       "5.058089882022472"
      ]
     },
     "execution_count": 133,
     "metadata": {},
     "output_type": "execute_result"
    }
   ],
   "source": [
    "df['color_intensity'].mean() - np.median(df['color_intensity'])\n",
    "df['color_intensity'].mean() "
   ]
  },
  {
   "cell_type": "code",
   "execution_count": 140,
   "id": "98ce76ac-746a-431b-b22a-fb79dad1d840",
   "metadata": {},
   "outputs": [],
   "source": [
    "sample_size = 90\n",
    "num_samples = 100"
   ]
  },
  {
   "cell_type": "code",
   "execution_count": 141,
   "id": "735b8601-d6b3-448d-9bf5-cd1ef5dd8354",
   "metadata": {},
   "outputs": [],
   "source": [
    "color_intensity = []\n",
    "for i in range(num_samples):\n",
    "    color_intensity.append((df['color_intensity'].sample(sample_size)).mean())"
   ]
  },
  {
   "cell_type": "code",
   "execution_count": 142,
   "id": "d3da9d1d-b0e9-4623-b0f4-db0477066d9b",
   "metadata": {},
   "outputs": [
    {
     "data": {
      "text/plain": [
       "100"
      ]
     },
     "execution_count": 142,
     "metadata": {},
     "output_type": "execute_result"
    }
   ],
   "source": [
    "len(color_intensity)"
   ]
  },
  {
   "cell_type": "code",
   "execution_count": 143,
   "id": "bde3a408-c0ad-4b4d-a8fc-66827ebac0a6",
   "metadata": {},
   "outputs": [
    {
     "data": {
      "text/plain": [
       "<Axes: ylabel='Density'>"
      ]
     },
     "execution_count": 143,
     "metadata": {},
     "output_type": "execute_result"
    },
    {
     "data": {
      "image/png": "[encoded data removed]",
      "text/plain": [
       "<Figure size 640x480 with 1 Axes>"
      ]
     },
     "metadata": {},
     "output_type": "display_data"
    }
   ],
   "source": [
    "sns.kdeplot(color_intensity)"
   ]
  },
  {
   "cell_type": "code",
   "execution_count": 148,
   "id": "0f061806-47ba-40f0-85a9-dc3d6e5ed8b3",
   "metadata": {},
   "outputs": [],
   "source": [
    "point_estimate = np.mean(color_intensity) # => point estimate"
   ]
  },
  {
   "cell_type": "code",
   "execution_count": 149,
   "id": "a409f375-b5d4-4708-91b9-8a3ac7459760",
   "metadata": {},
   "outputs": [
    {
     "data": {
      "text/plain": [
       "5.058089882022472"
      ]
     },
     "execution_count": 149,
     "metadata": {},
     "output_type": "execute_result"
    }
   ],
   "source": [
    "5.058089882022472"
   ]
  },
  {
   "cell_type": "code",
   "execution_count": 161,
   "id": "753386e3-d47f-417d-a39b-98b5559293b3",
   "metadata": {},
   "outputs": [],
   "source": [
    "# c_i = point_estimate + margin_of_error"
   ]
  },
  {
   "cell_type": "code",
   "execution_count": 156,
   "id": "5877efe4-93af-4dbb-aa21-159cc45f22fc",
   "metadata": {},
   "outputs": [],
   "source": [
    "z_95 = 2.576"
   ]
  },
  {
   "cell_type": "code",
   "execution_count": 157,
   "id": "28ef5e42-d675-48e4-a98e-8b72b2cedd02",
   "metadata": {},
   "outputs": [],
   "source": [
    "margin_error = z_95*(np.std(df['color_intensity']) / np.sqrt(num_samples))"
   ]
  },
  {
   "cell_type": "code",
   "execution_count": 158,
   "id": "31ce2127-2250-449a-84eb-6ec576d65d07",
   "metadata": {},
   "outputs": [],
   "source": [
    "lower_limit = point_estimate - margin_error\n",
    "upper_limit = point_estimate + margin_error\n"
   ]
  },
  {
   "cell_type": "code",
   "execution_count": 159,
   "id": "60772f64-eaec-4ca5-b6ca-de7f86084979",
   "metadata": {},
   "outputs": [
    {
     "name": "stdout",
     "output_type": "stream",
     "text": [
      "Confidenc interval will be : 4.447793862671955 - 5.638815015994713\n"
     ]
    }
   ],
   "source": [
    "print(f'Confidenc interval will be : {lower_limit} - {upper_limit}')"
   ]
  },
  {
   "cell_type": "code",
   "execution_count": 160,
   "id": "90d8818d-7156-4944-9965-417eba006065",
   "metadata": {},
   "outputs": [
    {
     "data": {
      "text/plain": [
       "5.058089882022472"
      ]
     },
     "execution_count": 160,
     "metadata": {},
     "output_type": "execute_result"
    }
   ],
   "source": [
    "5.058089882022472"
   ]
  },
  {
   "cell_type": "code",
   "execution_count": 164,
   "id": "f735c0fd-73fd-448a-b756-d63f472908e2",
   "metadata": {},
   "outputs": [],
   "source": [
    "# apply clt on magnesium column and find the confidence interval  c_level = 95%"
   ]
  },
  {
   "cell_type": "code",
   "execution_count": 163,
   "id": "55837d43-3383-4c9a-b1b7-f54866428e0d",
   "metadata": {},
   "outputs": [],
   "source": [
    "z_95 = 1.96"
   ]
  },
  {
   "cell_type": "code",
   "execution_count": null,
   "id": "bfbb1f22-e066-4ace-9f02-bf5892b1c020",
   "metadata": {},
   "outputs": [],
   "source": []
  }
 ],
 "metadata": {
  "kernelspec": {
   "display_name": "Python 3 (ipykernel)",
   "language": "python",
   "name": "python3"
  },
  "language_info": {
   "codemirror_mode": {
    "name": "ipython",
    "version": 3
   },
   "file_extension": ".py",
   "mimetype": "text/x-python",
   "name": "python",
   "nbconvert_exporter": "python",
   "pygments_lexer": "ipython3",
   "version": "3.12.7"
  }
 },
 "nbformat": 4,
 "nbformat_minor": 5
}
