{
 "cells": [
  {
   "cell_type": "code",
   "execution_count": 1,
   "id": "fab8f94a-7c99-4d28-bc02-7359c64e65c6",
   "metadata": {},
   "outputs": [],
   "source": [
    "a = 'Tushar'\n"
   ]
  },
  {
   "cell_type": "code",
   "execution_count": 2,
   "id": "78207b66-5ea8-4fc8-94d3-a4a5862ccd97",
   "metadata": {},
   "outputs": [
    {
     "name": "stdout",
     "output_type": "stream",
     "text": [
      "My name is Tushar\n"
     ]
    }
   ],
   "source": [
    "print(f\"My name is {a}\")"
   ]
  },
  {
   "cell_type": "code",
   "execution_count": 3,
   "id": "489b00f4-354b-4f63-9e39-06445c2ee6ef",
   "metadata": {},
   "outputs": [],
   "source": [
    "st = 'Dogs are loyal to humans'"
   ]
  },
  {
   "cell_type": "code",
   "execution_count": 5,
   "id": "666b317c-2a8e-43fe-8f7c-33173e5aaeab",
   "metadata": {},
   "outputs": [
    {
     "data": {
      "text/plain": [
       "2"
      ]
     },
     "execution_count": 5,
     "metadata": {},
     "output_type": "execute_result"
    }
   ],
   "source": [
    "st.count('s')"
   ]
  },
  {
   "cell_type": "code",
   "execution_count": 6,
   "id": "06ddd5d7-7a5d-45d5-afef-0dd678141f11",
   "metadata": {},
   "outputs": [
    {
     "data": {
      "text/plain": [
       "0"
      ]
     },
     "execution_count": 6,
     "metadata": {},
     "output_type": "execute_result"
    }
   ],
   "source": [
    "st.count('T')"
   ]
  },
  {
   "cell_type": "code",
   "execution_count": 7,
   "id": "bdaa2e75-ea66-4629-b51e-b3a1feca4d7e",
   "metadata": {},
   "outputs": [
    {
     "data": {
      "text/plain": [
       "'DogD are loyal to humanD'"
      ]
     },
     "execution_count": 7,
     "metadata": {},
     "output_type": "execute_result"
    }
   ],
   "source": [
    "st.replace('s', 'D')"
   ]
  },
  {
   "cell_type": "code",
   "execution_count": 8,
   "id": "bae2ea8c-154b-4a5d-99ae-60397565ce3d",
   "metadata": {},
   "outputs": [
    {
     "data": {
      "text/plain": [
       "'T are loyal to humans'"
      ]
     },
     "execution_count": 8,
     "metadata": {},
     "output_type": "execute_result"
    }
   ],
   "source": [
    "st.replace('Dogs','T' )"
   ]
  },
  {
   "cell_type": "code",
   "execution_count": 11,
   "id": "293e4422-2859-47c7-a168-5e3a5dfb1a7f",
   "metadata": {},
   "outputs": [
    {
     "data": {
      "text/plain": [
       "97"
      ]
     },
     "execution_count": 11,
     "metadata": {},
     "output_type": "execute_result"
    }
   ],
   "source": [
    "ord('a') "
   ]
  },
  {
   "cell_type": "code",
   "execution_count": 15,
   "id": "27491c95-eb8e-4e85-a211-fcf7f937682a",
   "metadata": {},
   "outputs": [
    {
     "data": {
      "text/plain": [
       "'a'"
      ]
     },
     "execution_count": 15,
     "metadata": {},
     "output_type": "execute_result"
    }
   ],
   "source": [
    "chr(ord('A') + 32)"
   ]
  },
  {
   "cell_type": "code",
   "execution_count": 13,
   "id": "514e2ca5-3633-47dc-9446-7968f39fc027",
   "metadata": {},
   "outputs": [
    {
     "data": {
      "text/plain": [
       "32"
      ]
     },
     "execution_count": 13,
     "metadata": {},
     "output_type": "execute_result"
    }
   ],
   "source": [
    "97-65"
   ]
  },
  {
   "cell_type": "code",
   "execution_count": 18,
   "id": "24453d5d-def9-4e9c-8289-edad9c855ab0",
   "metadata": {},
   "outputs": [
    {
     "data": {
      "text/plain": [
       "'DOGS ARE LOYAL TO HUMANS'"
      ]
     },
     "execution_count": 18,
     "metadata": {},
     "output_type": "execute_result"
    }
   ],
   "source": [
    "st.upper()"
   ]
  },
  {
   "cell_type": "code",
   "execution_count": 19,
   "id": "34748b7e-6a03-4488-9c8e-534412fcccf3",
   "metadata": {},
   "outputs": [
    {
     "data": {
      "text/plain": [
       "'dogs are loyal to humans'"
      ]
     },
     "execution_count": 19,
     "metadata": {},
     "output_type": "execute_result"
    }
   ],
   "source": [
    "st.lower()"
   ]
  },
  {
   "cell_type": "code",
   "execution_count": 20,
   "id": "9fbe2465-29e2-46bf-b0fd-666a5ac6567d",
   "metadata": {},
   "outputs": [],
   "source": [
    "# write a program to change the case of a string : dogs are loyal to humans"
   ]
  },
  {
   "cell_type": "code",
   "execution_count": 22,
   "id": "842fd2eb-3126-4e6e-b9af-96f7cc3c6b60",
   "metadata": {},
   "outputs": [],
   "source": [
    "# slicing of string"
   ]
  },
  {
   "cell_type": "code",
   "execution_count": 23,
   "id": "4935e7e5-1de6-4c5d-8bca-f50e292bfc35",
   "metadata": {},
   "outputs": [
    {
     "data": {
      "text/plain": [
       "'Dogs are loyal to humans'"
      ]
     },
     "execution_count": 23,
     "metadata": {},
     "output_type": "execute_result"
    }
   ],
   "source": [
    "st"
   ]
  },
  {
   "cell_type": "code",
   "execution_count": 24,
   "id": "95b7ffd1-091d-4586-a030-0319c3f3954d",
   "metadata": {},
   "outputs": [
    {
     "data": {
      "text/plain": [
       "'D'"
      ]
     },
     "execution_count": 24,
     "metadata": {},
     "output_type": "execute_result"
    }
   ],
   "source": [
    "st[0]"
   ]
  },
  {
   "cell_type": "code",
   "execution_count": 29,
   "id": "13bae504-eeda-48eb-89d7-b98b45e88b60",
   "metadata": {},
   "outputs": [
    {
     "data": {
      "text/plain": [
       "'Dogs'"
      ]
     },
     "execution_count": 29,
     "metadata": {},
     "output_type": "execute_result"
    }
   ],
   "source": [
    "st[ :4]"
   ]
  },
  {
   "cell_type": "code",
   "execution_count": 30,
   "id": "8064a6e6-9aad-4237-adf0-5d389e43f736",
   "metadata": {},
   "outputs": [
    {
     "data": {
      "text/plain": [
       "' are loyal to humans'"
      ]
     },
     "execution_count": 30,
     "metadata": {},
     "output_type": "execute_result"
    }
   ],
   "source": [
    "st[4:]"
   ]
  },
  {
   "cell_type": "code",
   "execution_count": 31,
   "id": "74543fa3-dac5-41ca-bc27-941777d6d35e",
   "metadata": {},
   "outputs": [
    {
     "data": {
      "text/plain": [
       "'Dogs are loyal to humans'"
      ]
     },
     "execution_count": 31,
     "metadata": {},
     "output_type": "execute_result"
    }
   ],
   "source": [
    "st"
   ]
  },
  {
   "cell_type": "code",
   "execution_count": 32,
   "id": "9a7f1291-6d66-44ea-a162-33c2efa77582",
   "metadata": {},
   "outputs": [
    {
     "data": {
      "text/plain": [
       "False"
      ]
     },
     "execution_count": 32,
     "metadata": {},
     "output_type": "execute_result"
    }
   ],
   "source": [
    "st.isalpha()"
   ]
  },
  {
   "cell_type": "code",
   "execution_count": 34,
   "id": "678547aa-f7a0-4a9c-9c5e-b8360dd5ae75",
   "metadata": {},
   "outputs": [
    {
     "data": {
      "text/plain": [
       "True"
      ]
     },
     "execution_count": 34,
     "metadata": {},
     "output_type": "execute_result"
    }
   ],
   "source": [
    "'A'.isalpha()"
   ]
  },
  {
   "cell_type": "code",
   "execution_count": 40,
   "id": "59b6cc2f-24dc-4101-a84f-8e080155bd2f",
   "metadata": {},
   "outputs": [
    {
     "data": {
      "text/plain": [
       "True"
      ]
     },
     "execution_count": 40,
     "metadata": {},
     "output_type": "execute_result"
    }
   ],
   "source": [
    "st.endswith('Dogs are loyal to humans')"
   ]
  },
  {
   "cell_type": "code",
   "execution_count": 41,
   "id": "e9878ccd-6933-4d5f-b3c6-2f46139b94ee",
   "metadata": {},
   "outputs": [],
   "source": [
    "st = st.lower()"
   ]
  },
  {
   "cell_type": "code",
   "execution_count": 42,
   "id": "de91d5c4-c3e6-41fc-8efc-36d3a2648dbc",
   "metadata": {},
   "outputs": [
    {
     "data": {
      "text/plain": [
       "'dogs are loyal to humans'"
      ]
     },
     "execution_count": 42,
     "metadata": {},
     "output_type": "execute_result"
    }
   ],
   "source": [
    "st"
   ]
  },
  {
   "cell_type": "code",
   "execution_count": 43,
   "id": "934adf94-9a25-4d19-a62b-298da590caf1",
   "metadata": {},
   "outputs": [
    {
     "data": {
      "text/plain": [
       "'Dogs are loyal to humans'"
      ]
     },
     "execution_count": 43,
     "metadata": {},
     "output_type": "execute_result"
    }
   ],
   "source": [
    "st.capitalize()"
   ]
  },
  {
   "cell_type": "code",
   "execution_count": 46,
   "id": "e1abc2ae-e6d7-4ac5-a5db-8c6759a0f704",
   "metadata": {},
   "outputs": [
    {
     "data": {
      "text/plain": [
       "10"
      ]
     },
     "execution_count": 46,
     "metadata": {},
     "output_type": "execute_result"
    }
   ],
   "source": [
    "st.find('loyal')"
   ]
  },
  {
   "cell_type": "code",
   "execution_count": 49,
   "id": "929ad570-8b47-4c4f-b01e-1e4793006f37",
   "metadata": {},
   "outputs": [
    {
     "data": {
      "text/plain": [
       "'snamuh ot layol era sgod'"
      ]
     },
     "execution_count": 49,
     "metadata": {},
     "output_type": "execute_result"
    }
   ],
   "source": [
    "st[::-1]"
   ]
  },
  {
   "cell_type": "markdown",
   "id": "298c4880-78c8-4f0c-989d-5cc9873786c0",
   "metadata": {},
   "source": [
    "# List"
   ]
  },
  {
   "cell_type": "code",
   "execution_count": 70,
   "id": "c8c1297e-8a99-4527-85d8-7cdead6c25f2",
   "metadata": {},
   "outputs": [],
   "source": [
    "l = ['Tushar', 1,2,3.4, True, range(0, 5),[1,2,4,4.5]]"
   ]
  },
  {
   "cell_type": "code",
   "execution_count": 52,
   "id": "3b0df1c8-028c-47f5-ad75-5c53d09625bd",
   "metadata": {},
   "outputs": [
    {
     "data": {
      "text/plain": [
       "list"
      ]
     },
     "execution_count": 52,
     "metadata": {},
     "output_type": "execute_result"
    }
   ],
   "source": [
    "type(l)"
   ]
  },
  {
   "cell_type": "code",
   "execution_count": 53,
   "id": "70971b80-40c8-49d2-b43b-134472026d10",
   "metadata": {},
   "outputs": [
    {
     "data": {
      "text/plain": [
       "'Tushar'"
      ]
     },
     "execution_count": 53,
     "metadata": {},
     "output_type": "execute_result"
    }
   ],
   "source": [
    "l[0]"
   ]
  },
  {
   "cell_type": "code",
   "execution_count": 56,
   "id": "b87ab20d-d4dc-4ad4-b760-cd1952292225",
   "metadata": {},
   "outputs": [
    {
     "data": {
      "text/plain": [
       "True"
      ]
     },
     "execution_count": 56,
     "metadata": {},
     "output_type": "execute_result"
    }
   ],
   "source": [
    "l[4]"
   ]
  },
  {
   "cell_type": "code",
   "execution_count": 59,
   "id": "6f6048d6-cd04-445a-baf7-5c140f18b2da",
   "metadata": {},
   "outputs": [
    {
     "data": {
      "text/plain": [
       "4"
      ]
     },
     "execution_count": 59,
     "metadata": {},
     "output_type": "execute_result"
    }
   ],
   "source": [
    "l[6][2]"
   ]
  },
  {
   "cell_type": "code",
   "execution_count": 60,
   "id": "9242fdf3-34c8-4591-9d56-4db0b245a191",
   "metadata": {},
   "outputs": [],
   "source": [
    "# function "
   ]
  },
  {
   "cell_type": "code",
   "execution_count": 61,
   "id": "a2aa56eb-4272-469b-900a-9e4cb590f024",
   "metadata": {},
   "outputs": [],
   "source": [
    "# 56"
   ]
  },
  {
   "cell_type": "code",
   "execution_count": 66,
   "id": "4aa04aa7-a314-4a9c-be6f-2ed1b96b989c",
   "metadata": {},
   "outputs": [
    {
     "data": {
      "text/plain": [
       "['Tushar', 1, 2, 3.4, True, range(0, 5), [1, 2, 4, 4.5]]"
      ]
     },
     "execution_count": 66,
     "metadata": {},
     "output_type": "execute_result"
    }
   ],
   "source": [
    "l"
   ]
  },
  {
   "cell_type": "code",
   "execution_count": 71,
   "id": "8a2af1b2-3d87-4544-9387-caee3ab2bdb0",
   "metadata": {},
   "outputs": [],
   "source": [
    "l.append(56)  # add it in the last "
   ]
  },
  {
   "cell_type": "code",
   "execution_count": 72,
   "id": "0a2045da-f434-40dd-a243-c69132293b6a",
   "metadata": {},
   "outputs": [
    {
     "data": {
      "text/plain": [
       "['Tushar', 1, 2, 3.4, True, range(0, 5), [1, 2, 4, 4.5], 56]"
      ]
     },
     "execution_count": 72,
     "metadata": {},
     "output_type": "execute_result"
    }
   ],
   "source": [
    "l"
   ]
  },
  {
   "cell_type": "code",
   "execution_count": 74,
   "id": "3fbf5c57-656b-4950-af00-a87079fc1c70",
   "metadata": {},
   "outputs": [],
   "source": [
    "l.insert(1, 'Khitoliya')"
   ]
  },
  {
   "cell_type": "code",
   "execution_count": 75,
   "id": "79a3c8be-a5ec-4603-9edb-4ae1f5a9afdd",
   "metadata": {},
   "outputs": [
    {
     "data": {
      "text/plain": [
       "['Tushar', 'Khitoliya', 1, 2, 3.4, True, range(0, 5), [1, 2, 4, 4.5], 56]"
      ]
     },
     "execution_count": 75,
     "metadata": {},
     "output_type": "execute_result"
    }
   ],
   "source": [
    "l"
   ]
  },
  {
   "cell_type": "code",
   "execution_count": 77,
   "id": "8ca37d30-d73a-4a94-b87e-48076338d20c",
   "metadata": {},
   "outputs": [
    {
     "data": {
      "text/plain": [
       "56"
      ]
     },
     "execution_count": 77,
     "metadata": {},
     "output_type": "execute_result"
    }
   ],
   "source": [
    "l.pop()"
   ]
  },
  {
   "cell_type": "code",
   "execution_count": 78,
   "id": "d90631a5-b27c-4cc3-9526-ee2601c7e887",
   "metadata": {},
   "outputs": [
    {
     "data": {
      "text/plain": [
       "['Tushar', 'Khitoliya', 1, 2, 3.4, True, range(0, 5), [1, 2, 4, 4.5]]"
      ]
     },
     "execution_count": 78,
     "metadata": {},
     "output_type": "execute_result"
    }
   ],
   "source": [
    "l"
   ]
  },
  {
   "cell_type": "code",
   "execution_count": 79,
   "id": "97c647f3-3de8-449d-bdb9-3c61f463ac57",
   "metadata": {},
   "outputs": [
    {
     "data": {
      "text/plain": [
       "True"
      ]
     },
     "execution_count": 79,
     "metadata": {},
     "output_type": "execute_result"
    }
   ],
   "source": [
    "l.pop(-3)"
   ]
  },
  {
   "cell_type": "code",
   "execution_count": 80,
   "id": "7d1d0932-5516-49f2-b1c3-9c97210b6d3a",
   "metadata": {},
   "outputs": [
    {
     "data": {
      "text/plain": [
       "['Tushar', 'Khitoliya', 1, 2, 3.4, range(0, 5), [1, 2, 4, 4.5]]"
      ]
     },
     "execution_count": 80,
     "metadata": {},
     "output_type": "execute_result"
    }
   ],
   "source": [
    "l"
   ]
  },
  {
   "cell_type": "code",
   "execution_count": 82,
   "id": "087427f1-7ed0-4b0c-9ae6-c75178c94c3b",
   "metadata": {},
   "outputs": [
    {
     "data": {
      "text/plain": [
       "range(0, 5)"
      ]
     },
     "execution_count": 82,
     "metadata": {},
     "output_type": "execute_result"
    }
   ],
   "source": [
    "l.pop(4)"
   ]
  },
  {
   "cell_type": "code",
   "execution_count": 83,
   "id": "ca215412-db95-4358-89a8-61d38071b14b",
   "metadata": {},
   "outputs": [
    {
     "data": {
      "text/plain": [
       "['Tushar', 'Khitoliya', 1, 2, [1, 2, 4, 4.5]]"
      ]
     },
     "execution_count": 83,
     "metadata": {},
     "output_type": "execute_result"
    }
   ],
   "source": [
    "l"
   ]
  },
  {
   "cell_type": "code",
   "execution_count": 86,
   "id": "d3e5d917-24dd-418e-9929-ab63f56d9153",
   "metadata": {},
   "outputs": [],
   "source": [
    "l.remove(2)"
   ]
  },
  {
   "cell_type": "code",
   "execution_count": 87,
   "id": "3fef00e4-9fdc-408d-8515-aa1148e61fb6",
   "metadata": {},
   "outputs": [
    {
     "data": {
      "text/plain": [
       "['Tushar', 'Khitoliya', 1, [1, 2, 4, 4.5]]"
      ]
     },
     "execution_count": 87,
     "metadata": {},
     "output_type": "execute_result"
    }
   ],
   "source": [
    "l"
   ]
  },
  {
   "cell_type": "code",
   "execution_count": 88,
   "id": "7008efe7-734a-40bc-b215-eaa0615b7e68",
   "metadata": {},
   "outputs": [],
   "source": [
    "l.append(1)"
   ]
  },
  {
   "cell_type": "code",
   "execution_count": 89,
   "id": "3ba4725c-44f1-4637-aa03-25a0cbe90be2",
   "metadata": {},
   "outputs": [
    {
     "data": {
      "text/plain": [
       "['Tushar', 'Khitoliya', 1, [1, 2, 4, 4.5], 1]"
      ]
     },
     "execution_count": 89,
     "metadata": {},
     "output_type": "execute_result"
    }
   ],
   "source": [
    "l"
   ]
  },
  {
   "cell_type": "code",
   "execution_count": 90,
   "id": "0f66affe-5e84-4aea-9359-ec50b751e0b2",
   "metadata": {},
   "outputs": [],
   "source": [
    "l.remove(1)"
   ]
  },
  {
   "cell_type": "code",
   "execution_count": 91,
   "id": "f928f3f2-3148-43b5-8558-23262620bf52",
   "metadata": {},
   "outputs": [
    {
     "data": {
      "text/plain": [
       "['Tushar', 'Khitoliya', [1, 2, 4, 4.5], 1]"
      ]
     },
     "execution_count": 91,
     "metadata": {},
     "output_type": "execute_result"
    }
   ],
   "source": [
    "l"
   ]
  },
  {
   "cell_type": "code",
   "execution_count": 92,
   "id": "40f3c11a-06ff-4bbd-b9c7-cb626b3c70f4",
   "metadata": {},
   "outputs": [],
   "source": [
    "# write a progam to reverse the list : "
   ]
  },
  {
   "cell_type": "code",
   "execution_count": 98,
   "id": "13fea0bb-b258-4da5-a42b-cd09ebb0fd5c",
   "metadata": {},
   "outputs": [
    {
     "data": {
      "text/plain": [
       "[4.5, 4, 2, 1]"
      ]
     },
     "execution_count": 98,
     "metadata": {},
     "output_type": "execute_result"
    }
   ],
   "source": [
    "sorted(l[2], reverse=True)"
   ]
  },
  {
   "cell_type": "code",
   "execution_count": 99,
   "id": "10467edd-f155-4151-892e-703d3c5a7aa4",
   "metadata": {},
   "outputs": [],
   "source": [
    "# Tuple "
   ]
  },
  {
   "cell_type": "code",
   "execution_count": 108,
   "id": "656f9fa7-f602-4128-b641-cfb87c7062f3",
   "metadata": {},
   "outputs": [],
   "source": [
    "tup = (2, 3,'tushar', [1,2,3])"
   ]
  },
  {
   "cell_type": "code",
   "execution_count": 109,
   "id": "6e873c89-403b-409c-bca9-ff046acc69f1",
   "metadata": {},
   "outputs": [],
   "source": [
    "tup = tup + (1,)"
   ]
  },
  {
   "cell_type": "code",
   "execution_count": 110,
   "id": "0d9d937a-250e-4b0b-b292-12bb5a725317",
   "metadata": {},
   "outputs": [
    {
     "data": {
      "text/plain": [
       "(2, 3, 'tushar', [1, 2, 3], 1)"
      ]
     },
     "execution_count": 110,
     "metadata": {},
     "output_type": "execute_result"
    }
   ],
   "source": [
    "tup"
   ]
  },
  {
   "cell_type": "code",
   "execution_count": 111,
   "id": "e6666b6a-aef5-4ba7-80f9-9601e3f0fd1a",
   "metadata": {},
   "outputs": [],
   "source": [
    "tup = list(tup)"
   ]
  },
  {
   "cell_type": "code",
   "execution_count": 112,
   "id": "48e9633e-e719-4e26-b580-7fb4690e4f69",
   "metadata": {},
   "outputs": [
    {
     "data": {
      "text/plain": [
       "list"
      ]
     },
     "execution_count": 112,
     "metadata": {},
     "output_type": "execute_result"
    }
   ],
   "source": [
    "type(tup)"
   ]
  },
  {
   "cell_type": "code",
   "execution_count": 113,
   "id": "19ac36ca-f9ba-47f6-b7eb-e5bcaacd02b9",
   "metadata": {},
   "outputs": [],
   "source": [
    "tup.append('Hi')"
   ]
  },
  {
   "cell_type": "code",
   "execution_count": 114,
   "id": "2fa392f3-2925-4bf1-9739-a9f127cbcee2",
   "metadata": {},
   "outputs": [
    {
     "data": {
      "text/plain": [
       "[2, 3, 'tushar', [1, 2, 3], 1, 'Hi']"
      ]
     },
     "execution_count": 114,
     "metadata": {},
     "output_type": "execute_result"
    }
   ],
   "source": [
    "tup"
   ]
  },
  {
   "cell_type": "code",
   "execution_count": 116,
   "id": "3048c96b-3c62-4282-91e3-ae43d62e7ad4",
   "metadata": {},
   "outputs": [
    {
     "data": {
      "text/plain": [
       "(2, 3, 'tushar', [1, 2, 3], 1, 'Hi')"
      ]
     },
     "execution_count": 116,
     "metadata": {},
     "output_type": "execute_result"
    }
   ],
   "source": [
    "tup = tuple(tup)\n",
    "tup"
   ]
  },
  {
   "cell_type": "code",
   "execution_count": 107,
   "id": "392e6df2-cd96-4734-92fa-501d7db8f55a",
   "metadata": {},
   "outputs": [],
   "source": [
    "# Dictionary "
   ]
  },
  {
   "cell_type": "code",
   "execution_count": 117,
   "id": "929a3e78-bba0-4949-9d8b-97a2934a26e0",
   "metadata": {},
   "outputs": [],
   "source": [
    "# pair : value"
   ]
  },
  {
   "cell_type": "code",
   "execution_count": 118,
   "id": "ea72da0e-79c8-44c1-b905-bf3129dd3fd9",
   "metadata": {},
   "outputs": [],
   "source": [
    "d = {\n",
    "    'a' : 'first alphabet',\n",
    "    'b' : 'Second alphabet',\n",
    "    'c' : 45,\n",
    "    'd' : {\n",
    "        'Tushar' : 'Data Science',\n",
    "        'Indu' : 'Data Science'\n",
    "    },\n",
    "    'e' : [1,2,3,4]\n",
    "}"
   ]
  },
  {
   "cell_type": "code",
   "execution_count": 119,
   "id": "8c4ade9b-76a0-43e1-9bb9-6543f3875618",
   "metadata": {},
   "outputs": [
    {
     "data": {
      "text/plain": [
       "dict"
      ]
     },
     "execution_count": 119,
     "metadata": {},
     "output_type": "execute_result"
    }
   ],
   "source": [
    "type(d)"
   ]
  },
  {
   "cell_type": "code",
   "execution_count": 121,
   "id": "430eec97-94d6-4ccf-bf41-fc40cf90a754",
   "metadata": {},
   "outputs": [
    {
     "data": {
      "text/plain": [
       "dict_items([('a', 'first alphabet'), ('b', 'Second alphabet'), ('c', 45), ('d', {'Tushar': 'Data Science', 'Indu': 'Data Science'}), ('e', [1, 2, 3, 4])])"
      ]
     },
     "execution_count": 121,
     "metadata": {},
     "output_type": "execute_result"
    }
   ],
   "source": [
    "d.items()"
   ]
  },
  {
   "cell_type": "code",
   "execution_count": 122,
   "id": "2f5f3bea-7acc-428d-8034-7493e62042d9",
   "metadata": {},
   "outputs": [
    {
     "name": "stdout",
     "output_type": "stream",
     "text": [
      "('a', 'first alphabet')\n",
      "('b', 'Second alphabet')\n",
      "('c', 45)\n",
      "('d', {'Tushar': 'Data Science', 'Indu': 'Data Science'})\n",
      "('e', [1, 2, 3, 4])\n"
     ]
    }
   ],
   "source": [
    "for i in d.items():\n",
    "    print(i)"
   ]
  },
  {
   "cell_type": "code",
   "execution_count": 126,
   "id": "6ff22772-3d2b-4b8c-b2c6-d35573e1d5a6",
   "metadata": {},
   "outputs": [
    {
     "name": "stdout",
     "output_type": "stream",
     "text": [
      "a\n",
      "b\n",
      "c\n",
      "d\n",
      "e\n"
     ]
    }
   ],
   "source": [
    "for i in d.items():\n",
    "    print(i[0])  # to fetch all the keys"
   ]
  },
  {
   "cell_type": "code",
   "execution_count": 127,
   "id": "8ff6897f-432a-4cd9-893d-043becfe7e30",
   "metadata": {},
   "outputs": [
    {
     "name": "stdout",
     "output_type": "stream",
     "text": [
      "first alphabet\n",
      "Second alphabet\n",
      "45\n",
      "{'Tushar': 'Data Science', 'Indu': 'Data Science'}\n",
      "[1, 2, 3, 4]\n"
     ]
    }
   ],
   "source": [
    "for i in d.items():\n",
    "    print(i[1])  # to fetch their respective values"
   ]
  },
  {
   "cell_type": "code",
   "execution_count": 129,
   "id": "831601cd-b63a-4777-a370-10ca504882a8",
   "metadata": {},
   "outputs": [
    {
     "name": "stdout",
     "output_type": "stream",
     "text": [
      "a\n",
      "b\n",
      "c\n",
      "d\n",
      "e\n"
     ]
    }
   ],
   "source": [
    "for i in d.keys():\n",
    "    print(i)"
   ]
  },
  {
   "cell_type": "code",
   "execution_count": 131,
   "id": "f7fad8c8-ccf7-4795-9591-1ee201b946bb",
   "metadata": {},
   "outputs": [
    {
     "data": {
      "text/plain": [
       "dict_values(['first alphabet', 'Second alphabet', 45, {'Tushar': 'Data Science', 'Indu': 'Data Science'}, [1, 2, 3, 4]])"
      ]
     },
     "execution_count": 131,
     "metadata": {},
     "output_type": "execute_result"
    }
   ],
   "source": [
    "d.values()"
   ]
  },
  {
   "cell_type": "code",
   "execution_count": 132,
   "id": "47dea1c7-7344-48b8-8b60-27d8da511732",
   "metadata": {},
   "outputs": [
    {
     "name": "stdout",
     "output_type": "stream",
     "text": [
      "first alphabet\n",
      "Second alphabet\n",
      "45\n",
      "{'Tushar': 'Data Science', 'Indu': 'Data Science'}\n",
      "[1, 2, 3, 4]\n"
     ]
    }
   ],
   "source": [
    "for i in d.values():\n",
    "    print(i)"
   ]
  },
  {
   "cell_type": "code",
   "execution_count": 133,
   "id": "e94c77a0-5d9a-4acb-83de-d8b8e0dc48e8",
   "metadata": {},
   "outputs": [
    {
     "data": {
      "text/plain": [
       "'first alphabet'"
      ]
     },
     "execution_count": 133,
     "metadata": {},
     "output_type": "execute_result"
    }
   ],
   "source": [
    "d.get('a')"
   ]
  },
  {
   "cell_type": "code",
   "execution_count": 134,
   "id": "b9b358af-caa4-43b4-9af6-9760150a5dbe",
   "metadata": {},
   "outputs": [
    {
     "data": {
      "text/plain": [
       "{'a': 'first alphabet',\n",
       " 'b': 'Second alphabet',\n",
       " 'c': 45,\n",
       " 'd': {'Tushar': 'Data Science', 'Indu': 'Data Science'},\n",
       " 'e': [1, 2, 3, 4]}"
      ]
     },
     "execution_count": 134,
     "metadata": {},
     "output_type": "execute_result"
    }
   ],
   "source": [
    "d"
   ]
  },
  {
   "cell_type": "code",
   "execution_count": 144,
   "id": "5928f258-00b7-47b1-99fe-54282c7796b1",
   "metadata": {},
   "outputs": [
    {
     "data": {
      "text/plain": [
       "True"
      ]
     },
     "execution_count": 144,
     "metadata": {},
     "output_type": "execute_result"
    }
   ],
   "source": [
    "isinstance(d['e'], list)"
   ]
  },
  {
   "cell_type": "code",
   "execution_count": 139,
   "id": "b1ac104d-4f6d-4e44-ab4a-19800e6d1f60",
   "metadata": {},
   "outputs": [
    {
     "data": {
      "text/plain": [
       "{'Tushar': 'Data Science', 'Indu': 'Data Science'}"
      ]
     },
     "execution_count": 139,
     "metadata": {},
     "output_type": "execute_result"
    }
   ],
   "source": [
    "d['d']"
   ]
  },
  {
   "cell_type": "code",
   "execution_count": 143,
   "id": "d3e83616-1d90-4598-b645-cf93e3be81ef",
   "metadata": {},
   "outputs": [],
   "source": [
    "# print the value which is only dict and list"
   ]
  },
  {
   "cell_type": "code",
   "execution_count": 141,
   "id": "444c1652-f9dc-40ef-80d3-e6ab2c0e2abb",
   "metadata": {},
   "outputs": [
    {
     "name": "stdout",
     "output_type": "stream",
     "text": [
      "first alphabet\n",
      "Second alphabet\n",
      "45\n",
      "{'Tushar': 'Data Science', 'Indu': 'Data Science'}\n",
      "[1, 2, 3, 4]\n"
     ]
    }
   ],
   "source": [
    "for i in d.values():\n",
    "    print(i)"
   ]
  },
  {
   "cell_type": "code",
   "execution_count": 145,
   "id": "833898ba-def8-43ee-b30a-2ff03d93b385",
   "metadata": {},
   "outputs": [],
   "source": [
    "# CLass"
   ]
  },
  {
   "cell_type": "code",
   "execution_count": 153,
   "id": "1789875f-019c-4496-8b5e-c9d9c7a5736e",
   "metadata": {},
   "outputs": [],
   "source": [
    "class student:\n",
    "    mentor = 'Tushar'  # attributes\n",
    "    age = 34"
   ]
  },
  {
   "cell_type": "code",
   "execution_count": 154,
   "id": "d01e5d60-4250-41d8-b718-24c5a94c5b0c",
   "metadata": {},
   "outputs": [
    {
     "data": {
      "text/plain": [
       "__main__.student"
      ]
     },
     "execution_count": 154,
     "metadata": {},
     "output_type": "execute_result"
    }
   ],
   "source": [
    "student"
   ]
  },
  {
   "cell_type": "code",
   "execution_count": 155,
   "id": "afac6cb8-c52d-4218-b0ea-9ce5f98ba7e2",
   "metadata": {},
   "outputs": [],
   "source": [
    "a = student()"
   ]
  },
  {
   "cell_type": "code",
   "execution_count": 156,
   "id": "9287f352-1816-4ae1-a05e-2587fc500b61",
   "metadata": {},
   "outputs": [
    {
     "data": {
      "text/plain": [
       "<__main__.student at 0x1b98d140710>"
      ]
     },
     "execution_count": 156,
     "metadata": {},
     "output_type": "execute_result"
    }
   ],
   "source": [
    "a   # Rachit "
   ]
  },
  {
   "cell_type": "code",
   "execution_count": 157,
   "id": "5bf5791e-a823-433c-b5d1-61404fa5c1e6",
   "metadata": {},
   "outputs": [
    {
     "data": {
      "text/plain": [
       "'Tushar'"
      ]
     },
     "execution_count": 157,
     "metadata": {},
     "output_type": "execute_result"
    }
   ],
   "source": [
    "a.mentor"
   ]
  },
  {
   "cell_type": "code",
   "execution_count": 152,
   "id": "878c1003-d1e0-4d4e-9e26-a1c73448d423",
   "metadata": {},
   "outputs": [
    {
     "data": {
      "text/plain": [
       "34"
      ]
     },
     "execution_count": 152,
     "metadata": {},
     "output_type": "execute_result"
    }
   ],
   "source": [
    "a.age"
   ]
  },
  {
   "cell_type": "code",
   "execution_count": 190,
   "id": "64cd6765-61a5-4891-927e-0fb11dc8b751",
   "metadata": {},
   "outputs": [],
   "source": [
    "class student:\n",
    "    mentor = 'Tushar'\n",
    "    age = 34\n",
    "    \n",
    "    def hello(self,name_, age_):\n",
    "        self.age = age_\n",
    "        self.name = name_\n",
    "        print(f\"my name is {self.name} and i am {self.age}yr old\")"
   ]
  },
  {
   "cell_type": "code",
   "execution_count": 191,
   "id": "6334341c-e7c7-48ea-abf8-3b93cead49c5",
   "metadata": {},
   "outputs": [],
   "source": [
    "a = student()"
   ]
  },
  {
   "cell_type": "code",
   "execution_count": 192,
   "id": "80551543-6617-4382-8056-f3393ec5131d",
   "metadata": {},
   "outputs": [
    {
     "data": {
      "text/plain": [
       "'Tushar'"
      ]
     },
     "execution_count": 192,
     "metadata": {},
     "output_type": "execute_result"
    }
   ],
   "source": [
    "a.mentor"
   ]
  },
  {
   "cell_type": "code",
   "execution_count": 193,
   "id": "e7a98dba-dd85-4ac9-bb99-a638c1e90560",
   "metadata": {},
   "outputs": [
    {
     "data": {
      "text/plain": [
       "34"
      ]
     },
     "execution_count": 193,
     "metadata": {},
     "output_type": "execute_result"
    }
   ],
   "source": [
    "a.age"
   ]
  },
  {
   "cell_type": "code",
   "execution_count": 194,
   "id": "3735b04c-6226-49f4-b695-b9772c295944",
   "metadata": {},
   "outputs": [
    {
     "name": "stdout",
     "output_type": "stream",
     "text": [
      "my name is Rachit and i am 25yr old\n"
     ]
    }
   ],
   "source": [
    "a.hello('Rachit', 25)"
   ]
  },
  {
   "cell_type": "code",
   "execution_count": 201,
   "id": "74bcd6d0-3e6d-429f-99fd-fb23b4c90e15",
   "metadata": {},
   "outputs": [],
   "source": [
    "class student:\n",
    "    mentor = 'Tushar'\n",
    "    age = 34\n",
    "    name = None\n",
    "    \n",
    "    def __init__(self, name_person, age_person,mentor):\n",
    "        self.name = name_person\n",
    "        self.age = age_person\n",
    "        self.mentor = mentor\n",
    "        print(f\"my name is {self.name} and i am {self.age}yr old my mentor is {self.mentor}\")\n",
    "    \n",
    "\n",
    "    # def hello(self,name_, age_):\n",
    "    #     self.age = age_\n",
    "    #     self.name = name_\n",
    "    #     print(f\"my name is {self.name} and i am {self.age}yr old\")"
   ]
  },
  {
   "cell_type": "code",
   "execution_count": 204,
   "id": "663ccbc3-8fcd-4565-bfa2-b309adab55b7",
   "metadata": {},
   "outputs": [
    {
     "name": "stdout",
     "output_type": "stream",
     "text": [
      "my name is rachit and i am 25yr old my mentor is Rachit\n"
     ]
    }
   ],
   "source": [
    "a = student('rachit', 25, 'Rachit')"
   ]
  },
  {
   "cell_type": "code",
   "execution_count": 205,
   "id": "5bb3e2e6-8989-4ca4-9eb6-85e2c6820f8b",
   "metadata": {},
   "outputs": [
    {
     "name": "stdout",
     "output_type": "stream",
     "text": [
      "my name is Indu and i am 34yr old my mentor is XYZ\n"
     ]
    }
   ],
   "source": [
    "b = student('Indu', 34, 'XYZ')"
   ]
  },
  {
   "cell_type": "code",
   "execution_count": 206,
   "id": "3e1f84bd-4b67-4adc-9379-ca32f081ba78",
   "metadata": {},
   "outputs": [],
   "source": [
    "class car:\n",
    "    def __init__(self, model, mileage):\n",
    "        self.model = model\n",
    "        self.mileage = mileage\n",
    "        print(self.model, self.mileage)\n",
    "\n",
    "    def __add__(self, other):\n",
    "        return int(self.mileage) + int(other.mileage)\n",
    "\n",
    "    def __eq__(self, other):\n",
    "        return str(self.mileage) == str(other.mileage)\n",
    "\n",
    "    def __str__(self):\n",
    "        return \"{} {}\".format(self.model, self.mileage)"
   ]
  },
  {
   "cell_type": "code",
   "execution_count": 210,
   "id": "2b326372-dd05-4e92-baff-9cb44113947e",
   "metadata": {},
   "outputs": [
    {
     "name": "stdout",
     "output_type": "stream",
     "text": [
      "BMW 10\n",
      "Audi 8\n",
      "False\n"
     ]
    }
   ],
   "source": [
    "c1 = car('BMW', 10)\n",
    "c2 = car('Audi', 8)\n",
    "print(c1 == c2)"
   ]
  },
  {
   "cell_type": "code",
   "execution_count": 211,
   "id": "8332039c-81fd-401f-b6a0-81444600c1b0",
   "metadata": {},
   "outputs": [
    {
     "data": {
      "text/plain": [
       "'Audi 8'"
      ]
     },
     "execution_count": 211,
     "metadata": {},
     "output_type": "execute_result"
    }
   ],
   "source": [
    "str(c2)"
   ]
  },
  {
   "cell_type": "markdown",
   "id": "9326766b-434e-4e21-bdcc-d63e46bafdca",
   "metadata": {},
   "source": [
    "# Numpy : Whenever we want to do some mathematical operations or calculation"
   ]
  },
  {
   "cell_type": "code",
   "execution_count": 213,
   "id": "c6f54840-25e7-4405-97a9-fa4b2afbd380",
   "metadata": {},
   "outputs": [],
   "source": [
    "# !pip install numpy"
   ]
  },
  {
   "cell_type": "code",
   "execution_count": 216,
   "id": "5efd3402-1578-4fcf-83fd-7c2c002f7592",
   "metadata": {},
   "outputs": [],
   "source": [
    "import numpy as np"
   ]
  },
  {
   "cell_type": "code",
   "execution_count": 220,
   "id": "863fe7a7-01cf-496f-b736-4c5ee687a09a",
   "metadata": {},
   "outputs": [],
   "source": [
    "a = np.array([1,\n",
    "              2,\n",
    "              3,\n",
    "              4,\n",
    "              5])\n",
    "b = np.array([[1, 2, 3, 4, 5]])"
   ]
  },
  {
   "cell_type": "code",
   "execution_count": 218,
   "id": "1fdba17c-e02a-40ff-8706-c9b556cd56bc",
   "metadata": {},
   "outputs": [
    {
     "data": {
      "text/plain": [
       "numpy.ndarray"
      ]
     },
     "execution_count": 218,
     "metadata": {},
     "output_type": "execute_result"
    }
   ],
   "source": [
    "type(a)"
   ]
  },
  {
   "cell_type": "code",
   "execution_count": 219,
   "id": "4f8910ae-8255-488f-9a84-49e9582ea4d0",
   "metadata": {},
   "outputs": [
    {
     "data": {
      "text/plain": [
       "(5,)"
      ]
     },
     "execution_count": 219,
     "metadata": {},
     "output_type": "execute_result"
    }
   ],
   "source": [
    "a.shape"
   ]
  },
  {
   "cell_type": "code",
   "execution_count": 221,
   "id": "37ceb382-420a-4d54-b3e3-899c83ee3418",
   "metadata": {},
   "outputs": [
    {
     "data": {
      "text/plain": [
       "(1, 5)"
      ]
     },
     "execution_count": 221,
     "metadata": {},
     "output_type": "execute_result"
    }
   ],
   "source": [
    "b.shape"
   ]
  },
  {
   "cell_type": "code",
   "execution_count": 222,
   "id": "bcb8e177-c2af-445f-8e02-6952d2c78286",
   "metadata": {},
   "outputs": [],
   "source": [
    "a = np.array([[1], \n",
    "              [2], \n",
    "              [3], \n",
    "              [4], \n",
    "              [5]])"
   ]
  },
  {
   "cell_type": "code",
   "execution_count": 223,
   "id": "1ff0e9fd-44ba-464a-b0b7-497492f8c7c8",
   "metadata": {},
   "outputs": [
    {
     "data": {
      "text/plain": [
       "(5, 1)"
      ]
     },
     "execution_count": 223,
     "metadata": {},
     "output_type": "execute_result"
    }
   ],
   "source": [
    "a.shape"
   ]
  },
  {
   "cell_type": "code",
   "execution_count": 233,
   "id": "6b6d1bbf-fa8f-47ce-be6e-fc455a14330a",
   "metadata": {},
   "outputs": [],
   "source": [
    "a = np.zeros((4, 13) ,dtype = int)"
   ]
  },
  {
   "cell_type": "code",
   "execution_count": 234,
   "id": "4686e37b-3913-4ca8-865e-e3ee9db74723",
   "metadata": {},
   "outputs": [
    {
     "data": {
      "text/plain": [
       "array([[0, 0, 0, 0, 0, 0, 0, 0, 0, 0, 0, 0, 0],\n",
       "       [0, 0, 0, 0, 0, 0, 0, 0, 0, 0, 0, 0, 0],\n",
       "       [0, 0, 0, 0, 0, 0, 0, 0, 0, 0, 0, 0, 0],\n",
       "       [0, 0, 0, 0, 0, 0, 0, 0, 0, 0, 0, 0, 0]])"
      ]
     },
     "execution_count": 234,
     "metadata": {},
     "output_type": "execute_result"
    }
   ],
   "source": [
    "a"
   ]
  },
  {
   "cell_type": "code",
   "execution_count": 235,
   "id": "f551e302-5637-4dd7-8e85-c07f1ec074d6",
   "metadata": {},
   "outputs": [],
   "source": [
    "a = np.ones((6, 2))"
   ]
  },
  {
   "cell_type": "code",
   "execution_count": 236,
   "id": "09057e30-a476-47c3-8d8e-45f4bfa5d90d",
   "metadata": {},
   "outputs": [
    {
     "data": {
      "text/plain": [
       "array([[1., 1.],\n",
       "       [1., 1.],\n",
       "       [1., 1.],\n",
       "       [1., 1.],\n",
       "       [1., 1.],\n",
       "       [1., 1.]])"
      ]
     },
     "execution_count": 236,
     "metadata": {},
     "output_type": "execute_result"
    }
   ],
   "source": [
    "a"
   ]
  },
  {
   "cell_type": "code",
   "execution_count": 244,
   "id": "681e963f-2ea5-4672-a1b8-c927ffbea1ee",
   "metadata": {},
   "outputs": [],
   "source": [
    "a = np.full((2,4), 5,  dtype = float)"
   ]
  },
  {
   "cell_type": "code",
   "execution_count": 245,
   "id": "1ba8a51c-7ff5-45dc-bac9-990cfad388b4",
   "metadata": {},
   "outputs": [
    {
     "data": {
      "text/plain": [
       "array([[5., 5., 5., 5.],\n",
       "       [5., 5., 5., 5.]])"
      ]
     },
     "execution_count": 245,
     "metadata": {},
     "output_type": "execute_result"
    }
   ],
   "source": [
    "a"
   ]
  },
  {
   "cell_type": "code",
   "execution_count": 247,
   "id": "3ff75fb6-6de0-411d-8c35-c81a15f9b54e",
   "metadata": {},
   "outputs": [],
   "source": [
    "a = np.eye(4)"
   ]
  },
  {
   "cell_type": "code",
   "execution_count": 248,
   "id": "87f113a5-c6b2-4266-bc54-52de29a45146",
   "metadata": {},
   "outputs": [
    {
     "data": {
      "text/plain": [
       "array([[1., 0., 0., 0.],\n",
       "       [0., 1., 0., 0.],\n",
       "       [0., 0., 1., 0.],\n",
       "       [0., 0., 0., 1.]])"
      ]
     },
     "execution_count": 248,
     "metadata": {},
     "output_type": "execute_result"
    }
   ],
   "source": [
    "a"
   ]
  },
  {
   "cell_type": "code",
   "execution_count": 249,
   "id": "d498cc1a-d015-4ca7-ba70-85d6c568f216",
   "metadata": {},
   "outputs": [],
   "source": [
    "# random values of any size or shape of matrix"
   ]
  },
  {
   "cell_type": "code",
   "execution_count": 268,
   "id": "db835663-f64e-497a-988b-dafbdaba52d0",
   "metadata": {},
   "outputs": [],
   "source": [
    "a = np.random.random((5,4)) # [0 1)"
   ]
  },
  {
   "cell_type": "code",
   "execution_count": 269,
   "id": "d2d93eab-e620-430c-8282-049b72c4f458",
   "metadata": {},
   "outputs": [
    {
     "data": {
      "text/plain": [
       "array([[0.10856878, 0.04661071, 0.97873869, 0.75271645],\n",
       "       [0.23878341, 0.38536439, 0.42220848, 0.19479423],\n",
       "       [0.42592917, 0.68269873, 0.88942215, 0.07469963],\n",
       "       [0.52467116, 0.52076652, 0.1437887 , 0.19347521],\n",
       "       [0.27602032, 0.85740833, 0.83093406, 0.9944588 ]])"
      ]
     },
     "execution_count": 269,
     "metadata": {},
     "output_type": "execute_result"
    }
   ],
   "source": [
    "a"
   ]
  },
  {
   "cell_type": "code",
   "execution_count": 270,
   "id": "d3ed951e-de60-4a29-b3f9-2740aa41cba5",
   "metadata": {},
   "outputs": [
    {
     "data": {
      "text/plain": [
       "array([[0.10856878, 0.04661071, 0.97873869, 0.75271645],\n",
       "       [0.23878341, 0.38536439, 0.42220848, 0.19479423]])"
      ]
     },
     "execution_count": 270,
     "metadata": {},
     "output_type": "execute_result"
    }
   ],
   "source": [
    "a[:2]"
   ]
  },
  {
   "cell_type": "code",
   "execution_count": 271,
   "id": "4bedbd06-6b6d-4d56-99d6-1932fd995ca5",
   "metadata": {},
   "outputs": [
    {
     "data": {
      "text/plain": [
       "array([[0.10856878, 0.04661071],\n",
       "       [0.23878341, 0.38536439]])"
      ]
     },
     "execution_count": 271,
     "metadata": {},
     "output_type": "execute_result"
    }
   ],
   "source": [
    "a[:2, :2]"
   ]
  },
  {
   "cell_type": "code",
   "execution_count": 272,
   "id": "66977e05-2be1-4364-b2a2-82e50c2e73ff",
   "metadata": {},
   "outputs": [
    {
     "data": {
      "text/plain": [
       "array([0.52076652, 0.85740833])"
      ]
     },
     "execution_count": 272,
     "metadata": {},
     "output_type": "execute_result"
    }
   ],
   "source": [
    "a[3:, 1]"
   ]
  },
  {
   "cell_type": "code",
   "execution_count": null,
   "id": "90be2c82-db7a-4535-8707-c2fd6afabd13",
   "metadata": {},
   "outputs": [],
   "source": []
  }
 ],
 "metadata": {
  "kernelspec": {
   "display_name": "Python 3 (ipykernel)",
   "language": "python",
   "name": "python3"
  },
  "language_info": {
   "codemirror_mode": {
    "name": "ipython",
    "version": 3
   },
   "file_extension": ".py",
   "mimetype": "text/x-python",
   "name": "python",
   "nbconvert_exporter": "python",
   "pygments_lexer": "ipython3",
   "version": "3.12.7"
  }
 },
 "nbformat": 4,
 "nbformat_minor": 5
}
