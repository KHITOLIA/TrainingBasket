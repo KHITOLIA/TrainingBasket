{
 "cells": [
  {
   "cell_type": "code",
   "execution_count": 3,
   "id": "ba50abc5-113e-4cc0-8582-7e41aa0e0088",
   "metadata": {},
   "outputs": [],
   "source": [
    "def intro():\n",
    "    name = \"Tushar\"\n",
    "    # print\n",
    "    return \"Hello \" + name"
   ]
  },
  {
   "cell_type": "code",
   "execution_count": 4,
   "id": "9e5fd62e-6b14-4202-bdd5-6c7c9ddc17ff",
   "metadata": {},
   "outputs": [
    {
     "data": {
      "text/plain": [
       "'Hello Tushar'"
      ]
     },
     "execution_count": 4,
     "metadata": {},
     "output_type": "execute_result"
    }
   ],
   "source": [
    "intro()"
   ]
  },
  {
   "cell_type": "code",
   "execution_count": 5,
   "id": "d7dfe850-170a-4c47-9ee4-3d8ee438c9e1",
   "metadata": {},
   "outputs": [],
   "source": [
    "def intro():\n",
    "    name = input(\"Modi ji : \")\n",
    "    return name"
   ]
  },
  {
   "cell_type": "code",
   "execution_count": 6,
   "id": "eb15affd-8f37-4f7a-a594-5baa5ea3f1b9",
   "metadata": {},
   "outputs": [
    {
     "name": "stdin",
     "output_type": "stream",
     "text": [
      "Modi ji :  Hello, I am a btech graduate from Nit Delhi \n"
     ]
    },
    {
     "data": {
      "text/plain": [
       "'Hello, I am a btech graduate from Nit Delhi '"
      ]
     },
     "execution_count": 6,
     "metadata": {},
     "output_type": "execute_result"
    }
   ],
   "source": [
    "intro()"
   ]
  },
  {
   "cell_type": "code",
   "execution_count": 13,
   "id": "2596cd2b-e8e8-48a3-ae69-e0801a260f02",
   "metadata": {},
   "outputs": [],
   "source": [
    "def addition(a, b):\n",
    "    shivam = a+b\n",
    "    return shivam"
   ]
  },
  {
   "cell_type": "code",
   "execution_count": 14,
   "id": "ac8b4139-d660-4a18-a8c4-ed9e79f3af23",
   "metadata": {},
   "outputs": [
    {
     "data": {
      "text/plain": [
       "5"
      ]
     },
     "execution_count": 14,
     "metadata": {},
     "output_type": "execute_result"
    }
   ],
   "source": [
    "addition(2, 3)"
   ]
  },
  {
   "cell_type": "code",
   "execution_count": 22,
   "id": "98ff4ae5-e4af-4cbc-a6c5-e355406ce07e",
   "metadata": {},
   "outputs": [],
   "source": [
    "def peri(a,b):\n",
    "    perimeter = 2*(a+b)\n",
    "    print(\"Perimerter of a rectangle =\",perimeter)\n",
    "    return perimeter"
   ]
  },
  {
   "cell_type": "code",
   "execution_count": 23,
   "id": "13230356-6a45-4d8c-9ad0-5b4d41b20f27",
   "metadata": {},
   "outputs": [
    {
     "name": "stdout",
     "output_type": "stream",
     "text": [
      "Perimerter of a rectangle = 18\n"
     ]
    },
    {
     "data": {
      "text/plain": [
       "18"
      ]
     },
     "execution_count": 23,
     "metadata": {},
     "output_type": "execute_result"
    }
   ],
   "source": [
    "peri(4, 5)"
   ]
  },
  {
   "cell_type": "code",
   "execution_count": 24,
   "id": "4eef453f-7603-4c25-b628-c63baeb70ad5",
   "metadata": {},
   "outputs": [
    {
     "name": "stdout",
     "output_type": "stream",
     "text": [
      "Perimerter of a rectangle = 14\n"
     ]
    }
   ],
   "source": [
    "lb = peri(3, 4)"
   ]
  },
  {
   "cell_type": "code",
   "execution_count": 25,
   "id": "0fa025a7-603b-4306-b142-c332d2c23ad5",
   "metadata": {},
   "outputs": [
    {
     "data": {
      "text/plain": [
       "14"
      ]
     },
     "execution_count": 25,
     "metadata": {},
     "output_type": "execute_result"
    }
   ],
   "source": [
    "lb"
   ]
  },
  {
   "cell_type": "markdown",
   "id": "77ebb3a6-ce9e-45aa-a2c9-b19ba14e4b96",
   "metadata": {},
   "source": [
    "1. Area of triangle\n",
    "2. area of circle\n",
    "3. perimeter of circle\n",
    "4. volume of cube\n",
    "5. volume of cuboid"
   ]
  },
  {
   "cell_type": "code",
   "execution_count": null,
   "id": "3821034f-cdbf-460a-8cad-64598b5cb766",
   "metadata": {},
   "outputs": [],
   "source": []
  }
 ],
 "metadata": {
  "kernelspec": {
   "display_name": "Python 3 (ipykernel)",
   "language": "python",
   "name": "python3"
  },
  "language_info": {
   "codemirror_mode": {
    "name": "ipython",
    "version": 3
   },
   "file_extension": ".py",
   "mimetype": "text/x-python",
   "name": "python",
   "nbconvert_exporter": "python",
   "pygments_lexer": "ipython3",
   "version": "3.12.7"
  }
 },
 "nbformat": 4,
 "nbformat_minor": 5
}
