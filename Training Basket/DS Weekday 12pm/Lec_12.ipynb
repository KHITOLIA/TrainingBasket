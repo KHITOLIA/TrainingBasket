{
 "cells": [
  {
   "cell_type": "code",
   "execution_count": 5,
   "id": "43e5dcc1-cccb-4a7e-b53e-1d5e027a0a13",
   "metadata": {},
   "outputs": [],
   "source": [
    "l = [10, 8, 9, 7, 6, 5 ,4 ] "
   ]
  },
  {
   "cell_type": "code",
   "execution_count": 10,
   "id": "3950af83-0e8c-4443-878a-2d26b3f7e6ca",
   "metadata": {},
   "outputs": [
    {
     "name": "stdout",
     "output_type": "stream",
     "text": [
      "the factor of  10 is =  2\n",
      "the factor of  10 is =  5\n",
      "the factor of  10 is =  10\n",
      "\n",
      "the factor of  8 is =  2\n",
      "the factor of  8 is =  4\n",
      "the factor of  8 is =  8\n",
      "\n",
      "the factor of  9 is =  3\n",
      "the factor of  9 is =  9\n",
      "\n",
      "the factor of  7 is =  7\n",
      "\n",
      "the factor of  6 is =  2\n",
      "the factor of  6 is =  3\n",
      "the factor of  6 is =  6\n",
      "\n",
      "the factor of  5 is =  5\n",
      "\n",
      "the factor of  4 is =  2\n",
      "the factor of  4 is =  4\n",
      "\n"
     ]
    }
   ],
   "source": [
    "for num in l:\n",
    "    for j in range(2, num + 1):\n",
    "        if num%j == 0:\n",
    "            print('the factor of ', num ,\"is = \", j)\n",
    "    print()"
   ]
  },
  {
   "cell_type": "code",
   "execution_count": 11,
   "id": "e8de9a02-a7b2-4f60-9a05-93518609b94d",
   "metadata": {},
   "outputs": [],
   "source": [
    "l = [17, 19, 27, 10, 23]\n",
    "# print all the prime numbers from the above list"
   ]
  },
  {
   "cell_type": "code",
   "execution_count": 12,
   "id": "b3cc348e-583f-499b-a285-2a3d0bd61e0a",
   "metadata": {},
   "outputs": [
    {
     "name": "stdout",
     "output_type": "stream",
     "text": [
      "yes\n"
     ]
    }
   ],
   "source": [
    "a = 10\n",
    "if a > 7:\n",
    "    if a < 20:\n",
    "        print(\"yes\")"
   ]
  },
  {
   "cell_type": "code",
   "execution_count": 15,
   "id": "c83203bc-f53a-4a2a-8fe2-c43f9a1681a0",
   "metadata": {},
   "outputs": [
    {
     "name": "stdout",
     "output_type": "stream",
     "text": [
      "17 is a prime number\n",
      "19 is a prime number\n",
      "27 is not a prime number\n",
      "10 is not a prime number\n",
      "23 is a prime number\n"
     ]
    }
   ],
   "source": [
    "l = [17,19,27,10,23]\n",
    "\n",
    "for i in l:\n",
    "    count = 0    \n",
    "    for n in range(1,i+1):\n",
    "\n",
    "        if i%n == 0:\n",
    "\n",
    "          count = count + 1\n",
    "\n",
    "    if count > 2:\n",
    "        print(f\"{i} is not a prime number\")\n",
    "\n",
    "    else:\n",
    "        print(f\"{i} is a prime number\")"
   ]
  },
  {
   "cell_type": "code",
   "execution_count": 16,
   "id": "58dc6fc6-ca84-4dd5-a491-9c93cc7bfdb2",
   "metadata": {},
   "outputs": [
    {
     "name": "stdout",
     "output_type": "stream",
     "text": [
      "17\n",
      "19\n",
      "23\n"
     ]
    }
   ],
   "source": [
    "lst = [17, 19, 27, 10, 23]\n",
    "\n",
    " \n",
    "\n",
    "for num in lst:\n",
    "\n",
    "    if num > 1:\n",
    "\n",
    "        fact = 0\n",
    "\n",
    "        for i in range(2, num):  \n",
    "\n",
    "            if num % i == 0:\n",
    "\n",
    "                fact += 1\n",
    "\n",
    "        if fact == 0:\n",
    "\n",
    "            print(num)"
   ]
  },
  {
   "cell_type": "code",
   "execution_count": 19,
   "id": "1cd300f2-103c-4cc2-b8a4-32ad6cc78093",
   "metadata": {},
   "outputs": [],
   "source": [
    "# l = [17, 19, 27, 10, 23]\n",
    "\n",
    "# for maha in l:\n",
    "\n",
    "#     factor = 0\n",
    "\n",
    "#     for i in range(1, maha+1):\n",
    "\n",
    "#       if maha % i==0:\n",
    "\n",
    "#     factor = factor + 1\n",
    "\n",
    "#    if factor > 2:\n",
    "\n",
    "#     print(\"prime number\")\n",
    "\n",
    "#    else:\n",
    "\n",
    "#     print(\"not prime number\")"
   ]
  },
  {
   "cell_type": "code",
   "execution_count": 20,
   "id": "09fa84aa-8b2b-467d-950d-d99c7b779059",
   "metadata": {},
   "outputs": [
    {
     "data": {
      "text/plain": [
       "[17, 19, 27, 10, 23]"
      ]
     },
     "execution_count": 20,
     "metadata": {},
     "output_type": "execute_result"
    }
   ],
   "source": [
    "l"
   ]
  },
  {
   "cell_type": "code",
   "execution_count": 26,
   "id": "8acbfb8b-8419-47ed-a147-d20a3c936ad8",
   "metadata": {},
   "outputs": [
    {
     "name": "stdout",
     "output_type": "stream",
     "text": [
      "Prime number is 17\n",
      "Prime number is 19\n",
      "Prime number is 23\n"
     ]
    }
   ],
   "source": [
    "for num in l:\n",
    "    factor = 0\n",
    "    for i in range(1, num + 1):\n",
    "        if num%i == 0:\n",
    "            factor += 1\n",
    "    \n",
    "    if factor == 2:\n",
    "        print(\"Prime number is\",num)"
   ]
  },
  {
   "cell_type": "code",
   "execution_count": 27,
   "id": "239f09d8-0657-43ea-859d-97a5cbee8c69",
   "metadata": {},
   "outputs": [],
   "source": [
    "st = 'Training Basket'"
   ]
  },
  {
   "cell_type": "code",
   "execution_count": 28,
   "id": "230a8fe4-1ca6-41f9-8081-4f30e4416653",
   "metadata": {},
   "outputs": [
    {
     "data": {
      "text/plain": [
       "'Training'"
      ]
     },
     "execution_count": 28,
     "metadata": {},
     "output_type": "execute_result"
    }
   ],
   "source": [
    "st[ : 8]"
   ]
  },
  {
   "cell_type": "code",
   "execution_count": 29,
   "id": "e3a50b43-c1d1-4fab-804a-26ee25da4b4c",
   "metadata": {},
   "outputs": [
    {
     "data": {
      "text/plain": [
       "'Training Basket'"
      ]
     },
     "execution_count": 29,
     "metadata": {},
     "output_type": "execute_result"
    }
   ],
   "source": [
    "st[ : ]"
   ]
  },
  {
   "cell_type": "code",
   "execution_count": 31,
   "id": "eee108ac-d648-4816-9351-0de9377a39f4",
   "metadata": {},
   "outputs": [
    {
     "data": {
      "text/plain": [
       "'teksaB gniniarT'"
      ]
     },
     "execution_count": 31,
     "metadata": {},
     "output_type": "execute_result"
    }
   ],
   "source": [
    "st[::-1] # reverse the string"
   ]
  },
  {
   "cell_type": "code",
   "execution_count": 32,
   "id": "a9730762-b7b6-471a-afb1-320b7c306219",
   "metadata": {},
   "outputs": [],
   "source": [
    "# make a function that will return the reverse string"
   ]
  },
  {
   "cell_type": "code",
   "execution_count": 38,
   "id": "80203a58-682c-4b49-9d26-f5cee833649f",
   "metadata": {},
   "outputs": [],
   "source": [
    "def reverss(a=''):\n",
    "\n",
    "  for i in range(0,len(a),-1):\n",
    "\n",
    "    print(a[i],end=\"\")\n",
    "\n",
    "reverss(a = 'kanhaiya sharma')"
   ]
  },
  {
   "cell_type": "code",
   "execution_count": 43,
   "id": "81172bb4-a9eb-4cfe-b2fb-74ef9aa75f15",
   "metadata": {},
   "outputs": [],
   "source": [
    "def reverse(a):\n",
    "    st = ''\n",
    "    for i in a:\n",
    "        st = i + st     # ('T' + ''), ('u' + 'T') = ('uT') ,('s' + 'uT') \n",
    "    return st"
   ]
  },
  {
   "cell_type": "code",
   "execution_count": 61,
   "id": "09096fcf-ad20-40f9-bbd9-8f8ae693b198",
   "metadata": {},
   "outputs": [
    {
     "data": {
      "text/plain": [
       "'ayilotihk rahsuT'"
      ]
     },
     "execution_count": 61,
     "metadata": {},
     "output_type": "execute_result"
    }
   ],
   "source": [
    "reverse('Tushar khitoliya')"
   ]
  },
  {
   "cell_type": "code",
   "execution_count": 45,
   "id": "a8457fa2-15f0-4264-8cd8-9d56b435f71e",
   "metadata": {},
   "outputs": [],
   "source": [
    "# while Loop"
   ]
  },
  {
   "cell_type": "code",
   "execution_count": 49,
   "id": "c221bbe6-1502-4bf7-a92b-fb965c289539",
   "metadata": {},
   "outputs": [
    {
     "name": "stdout",
     "output_type": "stream",
     "text": [
      "5\n",
      "6\n",
      "7\n",
      "8\n",
      "9\n",
      "10\n"
     ]
    }
   ],
   "source": [
    "a = 5\n",
    "while a <= 10:\n",
    "    print(a)\n",
    "    a = a + 1"
   ]
  },
  {
   "cell_type": "code",
   "execution_count": 51,
   "id": "884f0ffb-caff-4672-8c6e-f493c90b0c47",
   "metadata": {},
   "outputs": [],
   "source": [
    "# while True:\n",
    "#     a = int(input(\"enter the value = \"))"
   ]
  },
  {
   "cell_type": "code",
   "execution_count": 52,
   "id": "bddf1bbf-8db7-417d-ad47-04c035adbf54",
   "metadata": {},
   "outputs": [
    {
     "data": {
      "text/plain": [
       "'Training Basket'"
      ]
     },
     "execution_count": 52,
     "metadata": {},
     "output_type": "execute_result"
    }
   ],
   "source": [
    "st"
   ]
  },
  {
   "cell_type": "code",
   "execution_count": 54,
   "id": "213f19c8-8ef7-42f2-ad09-c1a72123eabe",
   "metadata": {},
   "outputs": [
    {
     "name": "stdout",
     "output_type": "stream",
     "text": [
      "Training Basket"
     ]
    }
   ],
   "source": [
    "for i in st:\n",
    "    print(i, end = '')"
   ]
  },
  {
   "cell_type": "code",
   "execution_count": 56,
   "id": "4d16d7d0-8185-4680-bbf1-16043657941f",
   "metadata": {},
   "outputs": [
    {
     "name": "stdout",
     "output_type": "stream",
     "text": [
      "kanhaiya sharma "
     ]
    }
   ],
   "source": [
    "a = 'kanhaiya sharma '\n",
    "\n",
    "i=0\n",
    "\n",
    "while i < len(a):\n",
    "\n",
    "  print(a[i], end = '')\n",
    "\n",
    "  i +=1"
   ]
  },
  {
   "cell_type": "code",
   "execution_count": 57,
   "id": "8cf22b2f-342d-4e57-9ae0-c53e458de16c",
   "metadata": {},
   "outputs": [
    {
     "data": {
      "text/plain": [
       "'Training Basket'"
      ]
     },
     "execution_count": 57,
     "metadata": {},
     "output_type": "execute_result"
    }
   ],
   "source": [
    "st"
   ]
  },
  {
   "cell_type": "code",
   "execution_count": 59,
   "id": "41d3574b-8f5e-469d-9fec-ec022d4f9a60",
   "metadata": {},
   "outputs": [
    {
     "name": "stdout",
     "output_type": "stream",
     "text": [
      "Training Basket"
     ]
    }
   ],
   "source": [
    "i = 0\n",
    "l = len(st)\n",
    "while l > 0 :\n",
    "    print(st[i] , end = '')\n",
    "    l = l - 1\n",
    "    i = i + 1"
   ]
  },
  {
   "cell_type": "code",
   "execution_count": 62,
   "id": "5d83e7c4-f8f6-4904-bd5e-8c22495ff654",
   "metadata": {},
   "outputs": [],
   "source": [
    "# a = 'kanhaiya sharma '\n",
    "\n",
    "# i=0\n",
    "\n",
    "# while len(a) > 0:\n",
    "\n",
    "#   print(a[i],end=\"\")\n",
    "\n",
    "#   i -=1"
   ]
  },
  {
   "cell_type": "code",
   "execution_count": 63,
   "id": "9d552db7-9f50-4e10-8470-4930e84e77e8",
   "metadata": {},
   "outputs": [
    {
     "data": {
      "text/plain": [
       "'Training Basket'"
      ]
     },
     "execution_count": 63,
     "metadata": {},
     "output_type": "execute_result"
    }
   ],
   "source": [
    "st"
   ]
  },
  {
   "cell_type": "code",
   "execution_count": 66,
   "id": "c94c0e1c-b46b-4ed5-9640-c57da3dd5a20",
   "metadata": {},
   "outputs": [
    {
     "name": "stdout",
     "output_type": "stream",
     "text": [
      "teksaB gniniarT"
     ]
    }
   ],
   "source": [
    "i = 1\n",
    "l = len(st)\n",
    "while l > 0:\n",
    "    print(st[-i], end = '')\n",
    "    i = i + 1\n",
    "    l = l - 1"
   ]
  },
  {
   "cell_type": "code",
   "execution_count": 67,
   "id": "64773484-a44d-426d-83d5-3a2548acaa18",
   "metadata": {},
   "outputs": [
    {
     "name": "stdout",
     "output_type": "stream",
     "text": [
      "Coding, Chef!\n"
     ]
    }
   ],
   "source": [
    "print(\"Coding, Chef!\")"
   ]
  },
  {
   "cell_type": "code",
   "execution_count": 68,
   "id": "36621e92-c5d8-4b97-83e3-6761ce591ff2",
   "metadata": {},
   "outputs": [],
   "source": [
    "# Write a program to output the squares (using multiplication) of numbers from 1 to 5 \n",
    "# on separate lines."
   ]
  },
  {
   "cell_type": "code",
   "execution_count": 70,
   "id": "4100d2df-720a-44e5-bbb0-55b88b252696",
   "metadata": {},
   "outputs": [
    {
     "name": "stdout",
     "output_type": "stream",
     "text": [
      "square of  0 = 0\n",
      "square of  1 = 1\n",
      "square of  2 = 4\n",
      "square of  3 = 9\n",
      "square of  4 = 16\n",
      "square of  5 = 25\n"
     ]
    }
   ],
   "source": [
    "for i in range(6):\n",
    "    print('square of ', i, \"=\", i**2)"
   ]
  },
  {
   "cell_type": "code",
   "execution_count": null,
   "id": "7166bc8b-8d2d-44ee-a07d-64fb576c8a07",
   "metadata": {},
   "outputs": [],
   "source": []
  }
 ],
 "metadata": {
  "kernelspec": {
   "display_name": "Python 3 (ipykernel)",
   "language": "python",
   "name": "python3"
  },
  "language_info": {
   "codemirror_mode": {
    "name": "ipython",
    "version": 3
   },
   "file_extension": ".py",
   "mimetype": "text/x-python",
   "name": "python",
   "nbconvert_exporter": "python",
   "pygments_lexer": "ipython3",
   "version": "3.12.7"
  }
 },
 "nbformat": 4,
 "nbformat_minor": 5
}
