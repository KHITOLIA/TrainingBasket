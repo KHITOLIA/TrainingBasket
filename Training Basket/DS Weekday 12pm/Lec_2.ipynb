{
 "cells": [
  {
   "cell_type": "markdown",
   "id": "9bbaf1d9-7ee7-4b12-a855-226e254a653b",
   "metadata": {},
   "source": [
    "# LOGICAL OPERATORS\n",
    "1. OR\n",
    "2. AND"
   ]
  },
  {
   "cell_type": "code",
   "execution_count": 10,
   "id": "f6110268-7734-4829-a745-a9a87cde1a6a",
   "metadata": {},
   "outputs": [
    {
     "data": {
      "text/plain": [
       "False"
      ]
     },
     "execution_count": 10,
     "metadata": {},
     "output_type": "execute_result"
    }
   ],
   "source": [
    "a = 5 \n",
    "a > 6"
   ]
  },
  {
   "cell_type": "code",
   "execution_count": 11,
   "id": "000775e3-c8f1-4baf-be59-0c3c87fcff55",
   "metadata": {},
   "outputs": [
    {
     "data": {
      "text/plain": [
       "True"
      ]
     },
     "execution_count": 11,
     "metadata": {},
     "output_type": "execute_result"
    }
   ],
   "source": [
    "a < 10"
   ]
  },
  {
   "cell_type": "code",
   "execution_count": 12,
   "id": "e0826b83-e3b9-4236-ac8a-7d4dcf44336b",
   "metadata": {},
   "outputs": [
    {
     "data": {
      "text/plain": [
       "False"
      ]
     },
     "execution_count": 12,
     "metadata": {},
     "output_type": "execute_result"
    }
   ],
   "source": [
    "a == 10"
   ]
  },
  {
   "cell_type": "code",
   "execution_count": 15,
   "id": "923124c0-67ad-404e-bdb4-8faccb3dbd2c",
   "metadata": {},
   "outputs": [
    {
     "data": {
      "text/plain": [
       "True"
      ]
     },
     "execution_count": 15,
     "metadata": {},
     "output_type": "execute_result"
    }
   ],
   "source": [
    "a != 10"
   ]
  },
  {
   "cell_type": "code",
   "execution_count": 18,
   "id": "bb90fb45-6255-46a8-b580-008c6e034038",
   "metadata": {},
   "outputs": [
    {
     "data": {
      "text/plain": [
       "False"
      ]
     },
     "execution_count": 18,
     "metadata": {},
     "output_type": "execute_result"
    }
   ],
   "source": [
    "a == 7 "
   ]
  },
  {
   "cell_type": "code",
   "execution_count": 20,
   "id": "ffdf1860-350e-4574-9bf1-44ddd1597313",
   "metadata": {},
   "outputs": [
    {
     "data": {
      "text/plain": [
       "False"
      ]
     },
     "execution_count": 20,
     "metadata": {},
     "output_type": "execute_result"
    }
   ],
   "source": [
    "a >= 9"
   ]
  },
  {
   "cell_type": "code",
   "execution_count": 22,
   "id": "47edba2b-f929-4af4-8ef0-cc50fd00e161",
   "metadata": {},
   "outputs": [
    {
     "data": {
      "text/plain": [
       "True"
      ]
     },
     "execution_count": 22,
     "metadata": {},
     "output_type": "execute_result"
    }
   ],
   "source": [
    "a > 2 or a < 4 or a > 3"
   ]
  },
  {
   "cell_type": "code",
   "execution_count": 23,
   "id": "7942106f-9d60-4993-8b5f-6c59bb63b550",
   "metadata": {},
   "outputs": [
    {
     "data": {
      "text/plain": [
       "False"
      ]
     },
     "execution_count": 23,
     "metadata": {},
     "output_type": "execute_result"
    }
   ],
   "source": [
    "a < 3 and a > 3"
   ]
  },
  {
   "cell_type": "code",
   "execution_count": 24,
   "id": "9e47b814-fa37-43ca-bd0d-ec4b8752cc08",
   "metadata": {},
   "outputs": [
    {
     "data": {
      "text/plain": [
       "True"
      ]
     },
     "execution_count": 24,
     "metadata": {},
     "output_type": "execute_result"
    }
   ],
   "source": [
    "a > 3 and a < 10"
   ]
  },
  {
   "cell_type": "code",
   "execution_count": 26,
   "id": "64ab4640-050c-4e79-bb7b-ad608cd89053",
   "metadata": {},
   "outputs": [
    {
     "data": {
      "text/plain": [
       "5"
      ]
     },
     "execution_count": 26,
     "metadata": {},
     "output_type": "execute_result"
    }
   ],
   "source": [
    "a"
   ]
  },
  {
   "cell_type": "code",
   "execution_count": 27,
   "id": "0402c7ca-e7b9-4169-a79f-2bb9d9eb1c98",
   "metadata": {},
   "outputs": [
    {
     "data": {
      "text/plain": [
       "140720018041400"
      ]
     },
     "execution_count": 27,
     "metadata": {},
     "output_type": "execute_result"
    }
   ],
   "source": [
    "id(a)"
   ]
  },
  {
   "cell_type": "code",
   "execution_count": 28,
   "id": "809be29c-167c-4330-a319-e22766900166",
   "metadata": {},
   "outputs": [],
   "source": [
    "a = 6"
   ]
  },
  {
   "cell_type": "code",
   "execution_count": 31,
   "id": "530898c7-3f6d-41f4-9f52-5dfa87306774",
   "metadata": {},
   "outputs": [
    {
     "data": {
      "text/plain": [
       "140720018041432"
      ]
     },
     "execution_count": 31,
     "metadata": {},
     "output_type": "execute_result"
    }
   ],
   "source": [
    "id(a)"
   ]
  },
  {
   "cell_type": "code",
   "execution_count": 32,
   "id": "d213bdf5-3907-49ff-8cf1-0c2e24528787",
   "metadata": {},
   "outputs": [
    {
     "data": {
      "text/plain": [
       "'a'"
      ]
     },
     "execution_count": 32,
     "metadata": {},
     "output_type": "execute_result"
    }
   ],
   "source": [
    "'a'"
   ]
  },
  {
   "cell_type": "code",
   "execution_count": 50,
   "id": "38a82467-3e7b-4ec4-afe4-8b94d8964956",
   "metadata": {},
   "outputs": [
    {
     "data": {
      "text/plain": [
       "'z'"
      ]
     },
     "execution_count": 50,
     "metadata": {},
     "output_type": "execute_result"
    }
   ],
   "source": [
    "# ord('z')\n",
    "chr(ord('Z') + 32)"
   ]
  },
  {
   "cell_type": "code",
   "execution_count": 52,
   "id": "dbeb453b-f718-4fd4-9516-f6a13e126c57",
   "metadata": {},
   "outputs": [
    {
     "data": {
      "text/plain": [
       "97"
      ]
     },
     "execution_count": 52,
     "metadata": {},
     "output_type": "execute_result"
    }
   ],
   "source": [
    "ord('a')"
   ]
  },
  {
   "cell_type": "code",
   "execution_count": 55,
   "id": "a446d253-9298-4dbe-b006-109bc4052328",
   "metadata": {},
   "outputs": [
    {
     "data": {
      "text/plain": [
       "'a'"
      ]
     },
     "execution_count": 55,
     "metadata": {},
     "output_type": "execute_result"
    }
   ],
   "source": [
    "chr(ord(\"A\") + 32)"
   ]
  },
  {
   "cell_type": "code",
   "execution_count": 66,
   "id": "a272da0f-e196-4a32-a84b-bc34bb06e574",
   "metadata": {},
   "outputs": [],
   "source": [
    "global_ = 'Tushar'\n",
    "def hello():\n",
    "    ab = 'Vikash'\n",
    "    local = \"Shivam\"\n",
    "    print(ab)\n",
    "    print(id(ab))"
   ]
  },
  {
   "cell_type": "code",
   "execution_count": 67,
   "id": "6ff61f5d-1009-47fb-a2aa-07485028a737",
   "metadata": {},
   "outputs": [
    {
     "data": {
      "text/plain": [
       "'Tushar'"
      ]
     },
     "execution_count": 67,
     "metadata": {},
     "output_type": "execute_result"
    }
   ],
   "source": [
    "global_"
   ]
  },
  {
   "cell_type": "code",
   "execution_count": 71,
   "id": "14308721-367f-43d6-9cee-1abe90bc4deb",
   "metadata": {},
   "outputs": [
    {
     "name": "stdout",
     "output_type": "stream",
     "text": [
      "Vikash\n",
      "2216385503584\n"
     ]
    },
    {
     "data": {
      "text/plain": [
       "(2216385618752, None)"
      ]
     },
     "execution_count": 71,
     "metadata": {},
     "output_type": "execute_result"
    }
   ],
   "source": [
    "id(hello), hello()"
   ]
  },
  {
   "cell_type": "code",
   "execution_count": 72,
   "id": "fc386052-8c95-4bd2-840e-80a036e37faa",
   "metadata": {},
   "outputs": [],
   "source": [
    "def addition(a,b):\n",
    "    print(a+b)"
   ]
  },
  {
   "cell_type": "code",
   "execution_count": 80,
   "id": "7ddea4a7-69bf-49f8-ab34-62a5a1bdd834",
   "metadata": {},
   "outputs": [
    {
     "name": "stdout",
     "output_type": "stream",
     "text": [
      "5\n"
     ]
    }
   ],
   "source": [
    "addition(2,3)"
   ]
  },
  {
   "cell_type": "code",
   "execution_count": 81,
   "id": "f7186dd2-856c-47f3-8c3e-f46f9e9647f9",
   "metadata": {},
   "outputs": [
    {
     "name": "stdout",
     "output_type": "stream",
     "text": [
      "5\n",
      "None\n"
     ]
    }
   ],
   "source": [
    "print(addition(2, 3))"
   ]
  },
  {
   "cell_type": "code",
   "execution_count": 119,
   "id": "08c9f8f1-0eec-45f6-add1-cf617477f743",
   "metadata": {},
   "outputs": [],
   "source": [
    "def calc(a, b):\n",
    "\n",
    "    print((a+b), (a-b), (a*b), (a/b))"
   ]
  },
  {
   "cell_type": "code",
   "execution_count": 83,
   "id": "377ea0b3-00b7-4a9f-856e-a8a25a79ddb6",
   "metadata": {},
   "outputs": [
    {
     "name": "stdout",
     "output_type": "stream",
     "text": [
      "12 4 32 2.0\n"
     ]
    }
   ],
   "source": [
    "calc(8, 4)"
   ]
  },
  {
   "cell_type": "code",
   "execution_count": 84,
   "id": "6bb4b60b-725e-44d2-83e6-e28e8169782a",
   "metadata": {},
   "outputs": [
    {
     "name": "stdout",
     "output_type": "stream",
     "text": [
      "Vikash\n",
      "2216385503584\n"
     ]
    }
   ],
   "source": [
    "hello()"
   ]
  },
  {
   "cell_type": "code",
   "execution_count": 85,
   "id": "f106d9d6-2228-4272-b030-87faa58535dc",
   "metadata": {},
   "outputs": [
    {
     "name": "stdout",
     "output_type": "stream",
     "text": [
      "Vikash\n",
      "2216385503584\n"
     ]
    }
   ],
   "source": [
    "memory_address = hello()"
   ]
  },
  {
   "cell_type": "code",
   "execution_count": 89,
   "id": "cc91a178-3031-47ea-a424-0a92b2312b7b",
   "metadata": {},
   "outputs": [
    {
     "name": "stdout",
     "output_type": "stream",
     "text": [
      "None\n"
     ]
    }
   ],
   "source": [
    "print(memory_address)"
   ]
  },
  {
   "cell_type": "code",
   "execution_count": 95,
   "id": "45419b45-386c-4457-bdfb-a6c56af412e8",
   "metadata": {},
   "outputs": [],
   "source": [
    "def memory(a):\n",
    "    print(chr(a))\n",
    "    return id(a)"
   ]
  },
  {
   "cell_type": "code",
   "execution_count": 98,
   "id": "d02975e8-e435-47cd-a08b-641dcead481b",
   "metadata": {},
   "outputs": [
    {
     "name": "stdout",
     "output_type": "stream",
     "text": [
      "z\n"
     ]
    },
    {
     "data": {
      "text/plain": [
       "140720018045144"
      ]
     },
     "execution_count": 98,
     "metadata": {},
     "output_type": "execute_result"
    }
   ],
   "source": [
    "memory(122)"
   ]
  },
  {
   "cell_type": "code",
   "execution_count": 101,
   "id": "2ab88502-41b8-44ec-a2ed-69ae785b6453",
   "metadata": {},
   "outputs": [
    {
     "name": "stdout",
     "output_type": "stream",
     "text": [
      "\u0016\n"
     ]
    }
   ],
   "source": [
    "address = memory(22)"
   ]
  },
  {
   "cell_type": "code",
   "execution_count": 102,
   "id": "9abdeb5a-3ee7-4366-a698-a2bcd86ff5c4",
   "metadata": {},
   "outputs": [
    {
     "data": {
      "text/plain": [
       "140720018041944"
      ]
     },
     "execution_count": 102,
     "metadata": {},
     "output_type": "execute_result"
    }
   ],
   "source": [
    "address"
   ]
  },
  {
   "cell_type": "code",
   "execution_count": 111,
   "id": "d8b8df89-4afb-4b14-97c4-f5469544e01f",
   "metadata": {},
   "outputs": [],
   "source": [
    "def calc(a,b):\n",
    "    return a+b , a-b, a*b"
   ]
  },
  {
   "cell_type": "code",
   "execution_count": 114,
   "id": "eab3de29-339e-4268-b20d-9741c8d87ab4",
   "metadata": {},
   "outputs": [],
   "source": [
    "sum_, sub_, mult = calc(3, 2)"
   ]
  },
  {
   "cell_type": "code",
   "execution_count": 115,
   "id": "8999323b-d90b-499e-916b-a95c9edb52e2",
   "metadata": {},
   "outputs": [
    {
     "data": {
      "text/plain": [
       "6"
      ]
     },
     "execution_count": 115,
     "metadata": {},
     "output_type": "execute_result"
    }
   ],
   "source": [
    "mult"
   ]
  },
  {
   "cell_type": "code",
   "execution_count": 116,
   "id": "2e33d46d-c1e1-4b83-b2d6-019238626fb0",
   "metadata": {},
   "outputs": [
    {
     "data": {
      "text/plain": [
       "1"
      ]
     },
     "execution_count": 116,
     "metadata": {},
     "output_type": "execute_result"
    }
   ],
   "source": [
    "sub_"
   ]
  },
  {
   "cell_type": "code",
   "execution_count": 117,
   "id": "ae379b72-99aa-4f88-8288-fd41edf309f7",
   "metadata": {},
   "outputs": [
    {
     "data": {
      "text/plain": [
       "5"
      ]
     },
     "execution_count": 117,
     "metadata": {},
     "output_type": "execute_result"
    }
   ],
   "source": [
    "sum_"
   ]
  },
  {
   "cell_type": "code",
   "execution_count": 125,
   "id": "16cd0d21-b65a-478c-8791-592df0f9353f",
   "metadata": {},
   "outputs": [
    {
     "data": {
      "text/plain": [
       "'Tushar khitoliya'"
      ]
     },
     "execution_count": 125,
     "metadata": {},
     "output_type": "execute_result"
    }
   ],
   "source": [
    "'Tushar khitoliya'"
   ]
  },
  {
   "cell_type": "code",
   "execution_count": 140,
   "id": "ef91705c-e6da-4874-9fc1-69d9340d42a7",
   "metadata": {},
   "outputs": [],
   "source": [
    "def name(a, b):\n",
    "    print(a + b, a, b ,sep = \" * \")"
   ]
  },
  {
   "cell_type": "code",
   "execution_count": 141,
   "id": "6f94f80d-922f-444b-ac2d-61ec37b13a89",
   "metadata": {},
   "outputs": [
    {
     "name": "stdout",
     "output_type": "stream",
     "text": [
      "Tusharkhitoliya * Tushar * khitoliya\n"
     ]
    }
   ],
   "source": [
    "name(\"Tushar\", \"khitoliya\")"
   ]
  },
  {
   "cell_type": "markdown",
   "id": "45646315-b981-46a2-8e63-1ed2203f17f7",
   "metadata": {},
   "source": [
    "# Advanced functions\n",
    "1. lambda\n",
    "2. map\n",
    "3. filter\n",
    "4. reduce\n",
    "5. closures\n",
    "6. decorators\n",
    "7. generators"
   ]
  },
  {
   "cell_type": "code",
   "execution_count": 143,
   "id": "0cee065a-0ebf-4652-8a9b-27380f11fbeb",
   "metadata": {},
   "outputs": [],
   "source": [
    "# lambda arguments : expression\n"
   ]
  },
  {
   "cell_type": "code",
   "execution_count": 144,
   "id": "3146bb7b-cdd9-4387-9c37-bc79477397b5",
   "metadata": {},
   "outputs": [],
   "source": [
    "iseven = lambda x : \"even\" if x%2 == 0 else \"odd\""
   ]
  },
  {
   "cell_type": "code",
   "execution_count": 146,
   "id": "a6f2bf1f-9d89-4abe-9911-a51e8a874ae0",
   "metadata": {},
   "outputs": [
    {
     "data": {
      "text/plain": [
       "'even'"
      ]
     },
     "execution_count": 146,
     "metadata": {},
     "output_type": "execute_result"
    }
   ],
   "source": [
    "iseven(24)"
   ]
  },
  {
   "cell_type": "code",
   "execution_count": 155,
   "id": "63ae2a38-b02e-494c-9cc4-dd0594716be5",
   "metadata": {},
   "outputs": [],
   "source": [
    "def custom_expression(op):\n",
    "    return lambda x, y : op(x, y)"
   ]
  },
  {
   "cell_type": "code",
   "execution_count": 156,
   "id": "a6e84dc5-9e58-40d2-bebd-f2c0d311bb13",
   "metadata": {},
   "outputs": [],
   "source": [
    "add = custom_expression(lambda a, b : a+b)"
   ]
  },
  {
   "cell_type": "code",
   "execution_count": 158,
   "id": "51b562e4-7ec9-491c-ab8a-cc14d6b172d8",
   "metadata": {},
   "outputs": [
    {
     "data": {
      "text/plain": [
       "7"
      ]
     },
     "execution_count": 158,
     "metadata": {},
     "output_type": "execute_result"
    }
   ],
   "source": [
    "add(3, 4)"
   ]
  },
  {
   "cell_type": "code",
   "execution_count": 160,
   "id": "aa1c3a6b-6a97-48ac-a568-cd67438b3553",
   "metadata": {},
   "outputs": [
    {
     "data": {
      "text/plain": [
       "9"
      ]
     },
     "execution_count": 160,
     "metadata": {},
     "output_type": "execute_result"
    }
   ],
   "source": [
    "add = lambda x,y : x + y\n",
    "add(4, 5)"
   ]
  },
  {
   "cell_type": "code",
   "execution_count": 161,
   "id": "603e0224-1dea-40e7-8fed-e261563d66f9",
   "metadata": {},
   "outputs": [
    {
     "data": {
      "text/plain": [
       "4"
      ]
     },
     "execution_count": 161,
     "metadata": {},
     "output_type": "execute_result"
    }
   ],
   "source": [
    "square = lambda x : x**2\n",
    "square(2)"
   ]
  },
  {
   "cell_type": "code",
   "execution_count": 162,
   "id": "6bc12734-fbfe-41c3-ba0a-4343dfb1ff72",
   "metadata": {},
   "outputs": [
    {
     "data": {
      "text/plain": [
       "12"
      ]
     },
     "execution_count": 162,
     "metadata": {},
     "output_type": "execute_result"
    }
   ],
   "source": [
    "triple = lambda x : x*3\n",
    "triple(4)"
   ]
  },
  {
   "cell_type": "code",
   "execution_count": 166,
   "id": "8564cd80-6b4c-4b9e-aeee-a41da5e8b61e",
   "metadata": {},
   "outputs": [],
   "source": [
    "l = [lambda x : x+2, lambda x : x*2, lambda x: x**2]"
   ]
  },
  {
   "cell_type": "code",
   "execution_count": 171,
   "id": "c80fcf7a-d535-41df-9838-44fa7c420b0a",
   "metadata": {},
   "outputs": [
    {
     "name": "stdout",
     "output_type": "stream",
     "text": [
      "5\n",
      "6\n",
      "9\n"
     ]
    }
   ],
   "source": [
    "for i in l:\n",
    "    print(i(3))"
   ]
  },
  {
   "cell_type": "code",
   "execution_count": 173,
   "id": "494af638-8bf8-4837-a98d-f15a88c6d4b6",
   "metadata": {},
   "outputs": [
    {
     "data": {
      "text/plain": [
       "'pass'"
      ]
     },
     "execution_count": 173,
     "metadata": {},
     "output_type": "execute_result"
    }
   ],
   "source": [
    "grade = lambda x : \"pass\" if x > 30 else \"fail\"\n",
    "grade(50)"
   ]
  },
  {
   "cell_type": "code",
   "execution_count": 175,
   "id": "15e6d55f-0b47-4832-bdbc-76337d136b7a",
   "metadata": {},
   "outputs": [],
   "source": [
    "# Maps : applying a function to each item in an iterable\n",
    "# map(function, iterable)"
   ]
  },
  {
   "cell_type": "code",
   "execution_count": 177,
   "id": "22701e30-ad6f-4341-aeda-7caba850b6cb",
   "metadata": {},
   "outputs": [],
   "source": [
    "nums = [1, 2, 3, 4]\n",
    "for i in range(len(nums)):\n",
    "    nums[i] = nums[i]**2"
   ]
  },
  {
   "cell_type": "code",
   "execution_count": 178,
   "id": "b233ffe1-8b4d-46d0-b0c1-f126fd027ed8",
   "metadata": {},
   "outputs": [
    {
     "data": {
      "text/plain": [
       "[1, 4, 9, 16]"
      ]
     },
     "execution_count": 178,
     "metadata": {},
     "output_type": "execute_result"
    }
   ],
   "source": [
    "nums"
   ]
  },
  {
   "cell_type": "code",
   "execution_count": 181,
   "id": "c36720ef-e555-4872-b5b1-2efb2edd6d65",
   "metadata": {},
   "outputs": [],
   "source": [
    "nums = [1, 2, 3, 4]\n",
    "squares = list(map(lambda x : x**2, nums))"
   ]
  },
  {
   "cell_type": "code",
   "execution_count": 182,
   "id": "084d0fb5-86a3-4351-8173-833f3f27bba3",
   "metadata": {},
   "outputs": [
    {
     "data": {
      "text/plain": [
       "[1, 4, 9, 16]"
      ]
     },
     "execution_count": 182,
     "metadata": {},
     "output_type": "execute_result"
    }
   ],
   "source": [
    "squares"
   ]
  },
  {
   "cell_type": "code",
   "execution_count": 198,
   "id": "cd728ed9-bdcb-4d64-b3c0-9bae7ef48dcf",
   "metadata": {},
   "outputs": [
    {
     "data": {
      "text/plain": [
       "['HELLO', 'WORLD']"
      ]
     },
     "execution_count": 198,
     "metadata": {},
     "output_type": "execute_result"
    }
   ],
   "source": [
    "words = [\"hello\", \"world\"]\n",
    "caps = list(map(lambda x : x.upper(), words))\n",
    "caps"
   ]
  },
  {
   "cell_type": "code",
   "execution_count": 201,
   "id": "dfb78bad-6195-47e5-ba9f-de416694c9ee",
   "metadata": {},
   "outputs": [],
   "source": [
    "a = [1, 2, 3]\n",
    "b = [4, 5, 6]\n",
    "# add the list element wise\n",
    "c = list(map(lambda x, y : x + y, a, b))"
   ]
  },
  {
   "cell_type": "code",
   "execution_count": 202,
   "id": "96f9197f-fc2a-40a9-9113-e19bff689222",
   "metadata": {},
   "outputs": [
    {
     "data": {
      "text/plain": [
       "[5, 7, 9]"
      ]
     },
     "execution_count": 202,
     "metadata": {},
     "output_type": "execute_result"
    }
   ],
   "source": [
    "c"
   ]
  },
  {
   "cell_type": "code",
   "execution_count": 204,
   "id": "2627382f-d887-462d-9443-39782094856d",
   "metadata": {},
   "outputs": [],
   "source": [
    "#filter : Filtering elements based on a condition (return only True matches)\n",
    "# filter(function, iterable)"
   ]
  },
  {
   "cell_type": "code",
   "execution_count": 209,
   "id": "7d267955-3926-4005-8aea-9c4517bb6353",
   "metadata": {},
   "outputs": [
    {
     "name": "stdout",
     "output_type": "stream",
     "text": [
      "[2, 4]\n"
     ]
    }
   ],
   "source": [
    "nums = [1, 2, 3, 4]\n",
    "even = list(filter(lambda x : x%2 == 0, nums))\n",
    "print(even)"
   ]
  },
  {
   "cell_type": "code",
   "execution_count": 212,
   "id": "9fefe8ff-667c-47a3-bec0-4f70539aaad0",
   "metadata": {},
   "outputs": [],
   "source": [
    "words = [\"hi\", \"world\"]\n",
    "short_word = list(filter(lambda x : len(x) >= 5, words ))"
   ]
  },
  {
   "cell_type": "code",
   "execution_count": 213,
   "id": "d1a9bfb9-7bbe-4d56-8670-33566400cc98",
   "metadata": {},
   "outputs": [
    {
     "data": {
      "text/plain": [
       "['world']"
      ]
     },
     "execution_count": 213,
     "metadata": {},
     "output_type": "execute_result"
    }
   ],
   "source": [
    "short_word"
   ]
  },
  {
   "cell_type": "code",
   "execution_count": 218,
   "id": "74f68d7d-5443-4565-8b90-d60ead9ad21b",
   "metadata": {},
   "outputs": [],
   "source": [
    "names = [\"Alice\", \"\", \"Bob\", \"\"]\n",
    "filter_name = list(filter(None, names ))"
   ]
  },
  {
   "cell_type": "code",
   "execution_count": 219,
   "id": "77b8a78a-98c7-4f85-ace9-0384ac574157",
   "metadata": {},
   "outputs": [
    {
     "data": {
      "text/plain": [
       "['Alice', 'Bob']"
      ]
     },
     "execution_count": 219,
     "metadata": {},
     "output_type": "execute_result"
    }
   ],
   "source": [
    "filter_name"
   ]
  },
  {
   "cell_type": "code",
   "execution_count": 223,
   "id": "33eb1043-6c14-4f3f-a5f3-972a56da8352",
   "metadata": {},
   "outputs": [
    {
     "data": {
      "text/plain": [
       "[1, 2, 3, 4]"
      ]
     },
     "execution_count": 223,
     "metadata": {},
     "output_type": "execute_result"
    }
   ],
   "source": [
    "str_nums = ['1', '2', '3', '4']\n",
    "int_nums = list(map(int, str_nums))\n",
    "int_nums = list(map(lambda x : int(x), str_nums))\n",
    "int_nums"
   ]
  },
  {
   "cell_type": "code",
   "execution_count": 225,
   "id": "253dadb2-41b2-4a83-b805-af758510f96b",
   "metadata": {},
   "outputs": [],
   "source": [
    "names = ['alice', 'bob', 'charlie']\n",
    "capitalized = list(map(lambda x : x.capitalize(), names))"
   ]
  },
  {
   "cell_type": "code",
   "execution_count": 226,
   "id": "6e6fc450-38fa-4282-b853-8db5957b7891",
   "metadata": {},
   "outputs": [
    {
     "data": {
      "text/plain": [
       "['Alice', 'Bob', 'Charlie']"
      ]
     },
     "execution_count": 226,
     "metadata": {},
     "output_type": "execute_result"
    }
   ],
   "source": [
    "capitalized"
   ]
  },
  {
   "cell_type": "code",
   "execution_count": 227,
   "id": "c7d545a6-592f-409c-a688-c60f0092c165",
   "metadata": {},
   "outputs": [],
   "source": [
    "words = ['apple', 'banana', 'cherry']\n",
    "lengths = list(map(len, words))"
   ]
  },
  {
   "cell_type": "code",
   "execution_count": 229,
   "id": "d3944b82-d476-4037-af9a-99d91a5a6f3a",
   "metadata": {},
   "outputs": [
    {
     "data": {
      "text/plain": [
       "[5, 6, 6]"
      ]
     },
     "execution_count": 229,
     "metadata": {},
     "output_type": "execute_result"
    }
   ],
   "source": [
    "lengths"
   ]
  },
  {
   "cell_type": "code",
   "execution_count": 231,
   "id": "fbf977b5-d26d-46b1-be13-fbd7b3ac5b38",
   "metadata": {},
   "outputs": [
    {
     "data": {
      "text/plain": [
       "[4, 10, 18]"
      ]
     },
     "execution_count": 231,
     "metadata": {},
     "output_type": "execute_result"
    }
   ],
   "source": [
    "product = list(map(lambda x, y : x*y, a, b))\n",
    "product"
   ]
  },
  {
   "cell_type": "code",
   "execution_count": 235,
   "id": "b0271042-eaad-4c83-bd35-10c7afdd1edf",
   "metadata": {},
   "outputs": [
    {
     "data": {
      "text/plain": [
       "[15, 25, 35]"
      ]
     },
     "execution_count": 235,
     "metadata": {},
     "output_type": "execute_result"
    }
   ],
   "source": [
    "nums = [10, 20, 30]\n",
    "add_value = list(map(lambda x : x + 5, nums))\n",
    "add_value"
   ]
  },
  {
   "cell_type": "code",
   "execution_count": 240,
   "id": "0740018d-ec65-46f3-bb37-4c1879f4d3fa",
   "metadata": {},
   "outputs": [
    {
     "data": {
      "text/plain": [
       "[3, 0, 7]"
      ]
     },
     "execution_count": 240,
     "metadata": {},
     "output_type": "execute_result"
    }
   ],
   "source": [
    "nums = [-5, 3, 0, -1, 7]\n",
    "negative = list(filter(lambda x : x >= 0, nums))\n",
    "negative"
   ]
  },
  {
   "cell_type": "code",
   "execution_count": 242,
   "id": "44b9d122-2693-48f6-8ca9-c2817fc2e2a6",
   "metadata": {},
   "outputs": [
    {
     "data": {
      "text/plain": [
       "['hello', 'world']"
      ]
     },
     "execution_count": 242,
     "metadata": {},
     "output_type": "execute_result"
    }
   ],
   "source": [
    "words = ['hi', 'hello', 'world', 'yes']\n",
    "length_4 = list(filter(lambda x : len(x) > 4, words))\n",
    "length_4"
   ]
  },
  {
   "cell_type": "code",
   "execution_count": 244,
   "id": "ad7d9e37-d51c-49b7-abfb-5f439cb67962",
   "metadata": {},
   "outputs": [
    {
     "data": {
      "text/plain": [
       "['madam', 'noon']"
      ]
     },
     "execution_count": 244,
     "metadata": {},
     "output_type": "execute_result"
    }
   ],
   "source": [
    "words = ['madam', 'apple', 'noon', 'python']\n",
    "pallindrome = list(filter(lambda x : x == x[::-1],words))\n",
    "pallindrome"
   ]
  },
  {
   "cell_type": "code",
   "execution_count": 248,
   "id": "4d9b7869-b90c-4521-bd96-94d170e4b346",
   "metadata": {},
   "outputs": [
    {
     "data": {
      "text/plain": [
       "['Python', 'AI', 'ML']"
      ]
     },
     "execution_count": 248,
     "metadata": {},
     "output_type": "execute_result"
    }
   ],
   "source": [
    "data = ['Python', '', 'AI', '', 'ML']\n",
    "filter_data = list(filter(lambda x : x != \"\", data))\n",
    "filter_data"
   ]
  },
  {
   "cell_type": "code",
   "execution_count": 250,
   "id": "e0239a42-e9e1-4a20-8158-0c980973bd3f",
   "metadata": {},
   "outputs": [
    {
     "data": {
      "text/plain": [
       "[{'name': 'Alice', 'age': 25}]"
      ]
     },
     "execution_count": 250,
     "metadata": {},
     "output_type": "execute_result"
    }
   ],
   "source": [
    "people = [{'name': 'Alice', 'age': 25}, {'name': 'Bob', 'age': 17}]\n",
    "age_18_above = list(filter(lambda x : x['age'] > 18, people))\n",
    "age_18_above"
   ]
  },
  {
   "cell_type": "code",
   "execution_count": 253,
   "id": "c6b5af84-79a6-46ec-b072-8fd3ddd8a53e",
   "metadata": {},
   "outputs": [],
   "source": [
    "# Reduce : Performing cumulative operations on a sequence\n",
    "# reduce(function, iterable)"
   ]
  },
  {
   "cell_type": "code",
   "execution_count": 252,
   "id": "62fb28de-2867-4f3f-818d-3fa9d1dcfdb7",
   "metadata": {},
   "outputs": [],
   "source": [
    "from functools import reduce"
   ]
  },
  {
   "cell_type": "code",
   "execution_count": 255,
   "id": "a4724844-19ce-482d-9a9f-545cf99843b2",
   "metadata": {},
   "outputs": [
    {
     "data": {
      "text/plain": [
       "10"
      ]
     },
     "execution_count": 255,
     "metadata": {},
     "output_type": "execute_result"
    }
   ],
   "source": [
    "nums = [1, 2, 3, 4]\n",
    "total = reduce(lambda x, y : x + y, nums)\n",
    "total"
   ]
  },
  {
   "cell_type": "code",
   "execution_count": 257,
   "id": "e238abdb-c5c9-4056-9854-288a64c47b0d",
   "metadata": {},
   "outputs": [
    {
     "data": {
      "text/plain": [
       "24"
      ]
     },
     "execution_count": 257,
     "metadata": {},
     "output_type": "execute_result"
    }
   ],
   "source": [
    "mult = reduce(lambda x , y : x*y, nums)\n",
    "mult"
   ]
  },
  {
   "cell_type": "code",
   "execution_count": 260,
   "id": "129cfb80-b197-488f-a6c3-6d69dcaa394b",
   "metadata": {},
   "outputs": [
    {
     "data": {
      "text/plain": [
       "4"
      ]
     },
     "execution_count": 260,
     "metadata": {},
     "output_type": "execute_result"
    }
   ],
   "source": [
    "max_ = reduce(lambda x, y : x if x > y else y, nums)\n",
    "max_"
   ]
  },
  {
   "cell_type": "code",
   "execution_count": 263,
   "id": "3ce58382-f7b5-413e-a787-0c8f6df9dbf6",
   "metadata": {},
   "outputs": [
    {
     "data": {
      "text/plain": [
       "'Python is awesome'"
      ]
     },
     "execution_count": 263,
     "metadata": {},
     "output_type": "execute_result"
    }
   ],
   "source": [
    "words = ['Python','is', 'awesome']\n",
    "string = reduce(lambda x,y : x +\" \"+ y, words)\n",
    "string"
   ]
  },
  {
   "cell_type": "code",
   "execution_count": 265,
   "id": "7b546c82-04ca-4f7f-ab95-9eb4d764c72f",
   "metadata": {},
   "outputs": [
    {
     "data": {
      "text/plain": [
       "1234"
      ]
     },
     "execution_count": 265,
     "metadata": {},
     "output_type": "execute_result"
    }
   ],
   "source": [
    "digits = [1, 2, 3, 4]\n",
    "number = reduce(lambda x, y : x*10 + y, digits)\n",
    "number"
   ]
  },
  {
   "cell_type": "code",
   "execution_count": 268,
   "id": "3a26909d-a23f-4aff-8722-7adf3e0e33f2",
   "metadata": {},
   "outputs": [
    {
     "data": {
      "text/plain": [
       "16"
      ]
     },
     "execution_count": 268,
     "metadata": {},
     "output_type": "execute_result"
    }
   ],
   "source": [
    "import math\n",
    "nums = [48, 64, 80]\n",
    "gcd = reduce(math.gcd, nums)\n",
    "gcd"
   ]
  },
  {
   "cell_type": "code",
   "execution_count": 270,
   "id": "3bd95d2a-da3a-494c-a687-773a0bcd75e6",
   "metadata": {},
   "outputs": [
    {
     "data": {
      "text/plain": [
       "{2}"
      ]
     },
     "execution_count": 270,
     "metadata": {},
     "output_type": "execute_result"
    }
   ],
   "source": [
    "sets = [{1, 2, 3}, {2, 3, 4}, {2, 5}]\n",
    "intersection = reduce(lambda x, y : x.intersection(y), sets)\n",
    "intersection"
   ]
  },
  {
   "cell_type": "code",
   "execution_count": 277,
   "id": "f9a35dbf-7e7e-4959-8050-e52a220199db",
   "metadata": {},
   "outputs": [
    {
     "data": {
      "text/plain": [
       "'machinelearning'"
      ]
     },
     "execution_count": 277,
     "metadata": {},
     "output_type": "execute_result"
    }
   ],
   "source": [
    "words = ['python', 'ai', 'machinelearning', 'data']\n",
    "max_string = reduce(lambda x , y : x if len(x) > len(y) else y, words)\n",
    "max_string"
   ]
  },
  {
   "cell_type": "code",
   "execution_count": null,
   "id": "a87c3d94-ba3d-4580-a01d-bc9515a07219",
   "metadata": {},
   "outputs": [],
   "source": [
    "\n"
   ]
  }
 ],
 "metadata": {
  "kernelspec": {
   "display_name": "Python 3 (ipykernel)",
   "language": "python",
   "name": "python3"
  },
  "language_info": {
   "codemirror_mode": {
    "name": "ipython",
    "version": 3
   },
   "file_extension": ".py",
   "mimetype": "text/x-python",
   "name": "python",
   "nbconvert_exporter": "python",
   "pygments_lexer": "ipython3",
   "version": "3.12.7"
  }
 },
 "nbformat": 4,
 "nbformat_minor": 5
}
