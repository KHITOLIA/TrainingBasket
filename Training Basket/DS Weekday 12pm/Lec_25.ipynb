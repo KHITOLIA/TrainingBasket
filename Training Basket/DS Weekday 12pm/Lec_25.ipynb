{
 "cells": [
  {
   "cell_type": "markdown",
   "id": "eb8227dc-41e0-4e74-8bdf-7b3f7793c47d",
   "metadata": {},
   "source": [
    "# advanced methods\n",
    "1. lambda\n",
    "2. map\n",
    "3. filter\n",
    "4. reduce"
   ]
  },
  {
   "cell_type": "code",
   "execution_count": 3,
   "id": "bd2750f7-ec61-40df-8334-6383cfd61eab",
   "metadata": {},
   "outputs": [],
   "source": [
    "add = lambda x : x+2"
   ]
  },
  {
   "cell_type": "code",
   "execution_count": 4,
   "id": "fc9d53e6-e211-43df-8618-25affebd077c",
   "metadata": {},
   "outputs": [
    {
     "data": {
      "text/plain": [
       "<function __main__.<lambda>(x)>"
      ]
     },
     "execution_count": 4,
     "metadata": {},
     "output_type": "execute_result"
    }
   ],
   "source": [
    "add"
   ]
  },
  {
   "cell_type": "code",
   "execution_count": 5,
   "id": "a7d23df7-bbca-4db6-a16e-6a710e551d17",
   "metadata": {},
   "outputs": [
    {
     "data": {
      "text/plain": [
       "7"
      ]
     },
     "execution_count": 5,
     "metadata": {},
     "output_type": "execute_result"
    }
   ],
   "source": [
    "add(5)"
   ]
  },
  {
   "cell_type": "code",
   "execution_count": 6,
   "id": "8ce99604-56dd-4ce2-b928-236d0687a92e",
   "metadata": {},
   "outputs": [],
   "source": [
    "square = lambda x : x**2"
   ]
  },
  {
   "cell_type": "code",
   "execution_count": 7,
   "id": "894c567e-b5d0-418b-8ebe-23d7f4cf8608",
   "metadata": {},
   "outputs": [
    {
     "data": {
      "text/plain": [
       "4"
      ]
     },
     "execution_count": 7,
     "metadata": {},
     "output_type": "execute_result"
    }
   ],
   "source": [
    "square(2)"
   ]
  },
  {
   "cell_type": "code",
   "execution_count": 8,
   "id": "eccdb9ac-e966-42cd-9315-a1157c8bf905",
   "metadata": {},
   "outputs": [
    {
     "data": {
      "text/plain": [
       "7"
      ]
     },
     "execution_count": 8,
     "metadata": {},
     "output_type": "execute_result"
    }
   ],
   "source": [
    "add(5)"
   ]
  },
  {
   "cell_type": "code",
   "execution_count": 13,
   "id": "07f3ed61-19ea-491c-83c6-08b232ee3c8c",
   "metadata": {},
   "outputs": [],
   "source": [
    "a = lambda x : x.endswith('o') "
   ]
  },
  {
   "cell_type": "code",
   "execution_count": 14,
   "id": "ed0af504-abf3-4cd6-b550-abffc8c029b3",
   "metadata": {},
   "outputs": [
    {
     "data": {
      "text/plain": [
       "True"
      ]
     },
     "execution_count": 14,
     "metadata": {},
     "output_type": "execute_result"
    }
   ],
   "source": [
    "a('Hello')"
   ]
  },
  {
   "cell_type": "code",
   "execution_count": 22,
   "id": "82dd63d3-f3d1-44fb-ba5c-3a6a2756b75d",
   "metadata": {},
   "outputs": [],
   "source": [
    "def square(x):\n",
    "    return x**2\n",
    "# HOF\n",
    "def transform(f,l):\n",
    "    output = []\n",
    "    for i in l:\n",
    "        output.append(f(i))\n",
    "    print(output)"
   ]
  },
  {
   "cell_type": "code",
   "execution_count": 17,
   "id": "e044854d-4482-4c68-a5f7-34430c8d0177",
   "metadata": {},
   "outputs": [
    {
     "name": "stdout",
     "output_type": "stream",
     "text": [
      "[1, 4, 9, 16]\n"
     ]
    }
   ],
   "source": [
    "a = [1, 2, 3, 4]\n",
    "transform(square, a)"
   ]
  },
  {
   "cell_type": "code",
   "execution_count": 18,
   "id": "d687cecf-9bcb-4229-a17c-3095b2f1dcbc",
   "metadata": {},
   "outputs": [],
   "source": [
    "square = lambda x : x**2"
   ]
  },
  {
   "cell_type": "code",
   "execution_count": 19,
   "id": "0fe8bc60-ad20-494a-b153-1d698bf6339b",
   "metadata": {},
   "outputs": [
    {
     "data": {
      "text/plain": [
       "4"
      ]
     },
     "execution_count": 19,
     "metadata": {},
     "output_type": "execute_result"
    }
   ],
   "source": [
    "square(2)"
   ]
  },
  {
   "cell_type": "code",
   "execution_count": 23,
   "id": "e6cfeb9b-0330-4d13-a052-6aa0cc36abc5",
   "metadata": {},
   "outputs": [
    {
     "data": {
      "text/plain": [
       "[1, 4, 9, 16]"
      ]
     },
     "execution_count": 23,
     "metadata": {},
     "output_type": "execute_result"
    }
   ],
   "source": [
    "list(map(square, a))"
   ]
  },
  {
   "cell_type": "code",
   "execution_count": 24,
   "id": "e1fbd416-4696-4d15-9d87-56c071cd7586",
   "metadata": {},
   "outputs": [
    {
     "data": {
      "text/plain": [
       "[1, 2, 3, 4]"
      ]
     },
     "execution_count": 24,
     "metadata": {},
     "output_type": "execute_result"
    }
   ],
   "source": [
    "a"
   ]
  },
  {
   "cell_type": "code",
   "execution_count": 26,
   "id": "28d4f162-3f87-4ea2-bd87-673b1ec9483b",
   "metadata": {},
   "outputs": [],
   "source": [
    "a = list(map(lambda x : 'even' if x%2 == 0 else 'odd', a))"
   ]
  },
  {
   "cell_type": "code",
   "execution_count": 27,
   "id": "1834b014-8621-466f-98bf-b6d91a720a86",
   "metadata": {},
   "outputs": [
    {
     "data": {
      "text/plain": [
       "['odd', 'even', 'odd', 'even']"
      ]
     },
     "execution_count": 27,
     "metadata": {},
     "output_type": "execute_result"
    }
   ],
   "source": [
    "a"
   ]
  },
  {
   "cell_type": "code",
   "execution_count": 28,
   "id": "620156a6-f089-46c4-867b-7dbd9e7cae18",
   "metadata": {},
   "outputs": [],
   "source": [
    "users = [\n",
    "    {\n",
    "        'name' : \"Tushar\",\n",
    "        'age' : 45,\n",
    "        'gender' : 'Male'\n",
    "    },\n",
    "    {\n",
    "        'name' : 'Nidhi Pal',\n",
    "        'age' : 30,\n",
    "        'gender' : 'Female'\n",
    "    },\n",
    "    {\n",
    "        'name' : 'Kanhaiya',\n",
    "        'age' : 40,\n",
    "        'gender' : \"Male\"\n",
    "    }\n",
    "]"
   ]
  },
  {
   "cell_type": "code",
   "execution_count": 37,
   "id": "6682beb6-76f8-4380-a7e6-e5fd044ccc45",
   "metadata": {},
   "outputs": [],
   "source": [
    "name = list(map(lambda users : users['name'].upper(), users))"
   ]
  },
  {
   "cell_type": "code",
   "execution_count": 38,
   "id": "895c1751-5c6d-4bfd-8fd0-54fba0221b43",
   "metadata": {},
   "outputs": [
    {
     "data": {
      "text/plain": [
       "['TUSHAR', 'NIDHI PAL', 'KANHAIYA']"
      ]
     },
     "execution_count": 38,
     "metadata": {},
     "output_type": "execute_result"
    }
   ],
   "source": [
    "name  #convert the name into upper case using map function"
   ]
  },
  {
   "cell_type": "code",
   "execution_count": 40,
   "id": "ca2d5609-3367-463a-b81d-bc7797941c87",
   "metadata": {},
   "outputs": [],
   "source": [
    "l = [2, 3, 4, 5]\n",
    "# digit = 2345 using lambda expression"
   ]
  },
  {
   "cell_type": "code",
   "execution_count": 41,
   "id": "c044abb4-945e-4ada-b5c1-d0be6186e995",
   "metadata": {},
   "outputs": [],
   "source": [
    "combine = lambda a_total, x : a_total*10 + x"
   ]
  },
  {
   "cell_type": "code",
   "execution_count": 48,
   "id": "7e1e4ad9-f33f-4f02-8a92-bfb96b32d4fc",
   "metadata": {},
   "outputs": [
    {
     "data": {
      "text/plain": [
       "2345"
      ]
     },
     "execution_count": 48,
     "metadata": {},
     "output_type": "execute_result"
    }
   ],
   "source": [
    "combine(combine(combine(2, 3), 4), 5)"
   ]
  },
  {
   "cell_type": "code",
   "execution_count": 51,
   "id": "050ee4d2-7f70-46cb-ba93-15d701f7c71d",
   "metadata": {},
   "outputs": [
    {
     "name": "stdout",
     "output_type": "stream",
     "text": [
      "2345\n"
     ]
    }
   ],
   "source": [
    "number = 0\n",
    "for i in range(len(l)):\n",
    "    number = combine(number, l[i])\n",
    "print(number)"
   ]
  },
  {
   "cell_type": "code",
   "execution_count": 52,
   "id": "c4f740dd-b466-43e5-9f89-11f95992674d",
   "metadata": {},
   "outputs": [],
   "source": [
    "# filter(function, iterable)"
   ]
  },
  {
   "cell_type": "code",
   "execution_count": 53,
   "id": "b6516621-e180-4a88-90da-714163419e7e",
   "metadata": {},
   "outputs": [
    {
     "ename": "NameError",
     "evalue": "name 'num' is not defined",
     "output_type": "error",
     "traceback": [
      "\u001b[1;31m---------------------------------------------------------------------------\u001b[0m",
      "\u001b[1;31mNameError\u001b[0m                                 Traceback (most recent call last)",
      "Cell \u001b[1;32mIn[53], line 1\u001b[0m\n\u001b[1;32m----> 1\u001b[0m num\n",
      "\u001b[1;31mNameError\u001b[0m: name 'num' is not defined"
     ]
    }
   ],
   "source": [
    "num"
   ]
  },
  {
   "cell_type": "code",
   "execution_count": 54,
   "id": "c678298c-608f-4b6a-b539-d63dc76e8eea",
   "metadata": {},
   "outputs": [
    {
     "data": {
      "text/plain": [
       "['TUSHAR', 'NIDHI PAL', 'KANHAIYA']"
      ]
     },
     "execution_count": 54,
     "metadata": {},
     "output_type": "execute_result"
    }
   ],
   "source": [
    "name"
   ]
  },
  {
   "cell_type": "code",
   "execution_count": 56,
   "id": "04a48b45-f87a-4d6b-8864-72c29f2da2ae",
   "metadata": {},
   "outputs": [
    {
     "data": {
      "text/plain": [
       "['KANHAIYA']"
      ]
     },
     "execution_count": 56,
     "metadata": {},
     "output_type": "execute_result"
    }
   ],
   "source": [
    "list(filter(lambda x : x.endswith('A'), name))"
   ]
  },
  {
   "cell_type": "code",
   "execution_count": 57,
   "id": "a48a3730-4878-44d1-91cb-9ad6e0526463",
   "metadata": {},
   "outputs": [
    {
     "data": {
      "text/plain": [
       "[2, 3, 4, 5]"
      ]
     },
     "execution_count": 57,
     "metadata": {},
     "output_type": "execute_result"
    }
   ],
   "source": [
    "l"
   ]
  },
  {
   "cell_type": "code",
   "execution_count": 58,
   "id": "a3dbe33b-c903-41b1-aae3-91e5f9d672e3",
   "metadata": {},
   "outputs": [],
   "source": [
    "l = []\n",
    "for i in range(0, 50):\n",
    "    l.append(i)"
   ]
  },
  {
   "cell_type": "code",
   "execution_count": 63,
   "id": "43ff7f8c-0cbd-4852-b4ef-b87461c53085",
   "metadata": {},
   "outputs": [
    {
     "data": {
      "text/plain": [
       "[0, 4, 8, 12, 16, 20, 24, 28, 32, 36, 40, 44, 48]"
      ]
     },
     "execution_count": 63,
     "metadata": {},
     "output_type": "execute_result"
    }
   ],
   "source": [
    "list(filter(lambda x : x%2 == 0 and x%4 == 0, l))"
   ]
  },
  {
   "cell_type": "code",
   "execution_count": 64,
   "id": "a22b3ccf-7d3e-475c-bfb8-aa32abfc0f75",
   "metadata": {},
   "outputs": [
    {
     "data": {
      "text/plain": [
       "['TUSHAR', 'NIDHI PAL', 'KANHAIYA']"
      ]
     },
     "execution_count": 64,
     "metadata": {},
     "output_type": "execute_result"
    }
   ],
   "source": [
    "name"
   ]
  },
  {
   "cell_type": "code",
   "execution_count": 67,
   "id": "da5fa8bd-6e3e-4c51-9b94-ea0ddccd50ff",
   "metadata": {},
   "outputs": [
    {
     "data": {
      "text/plain": [
       "['NIDHI PAL', 'KANHAIYA']"
      ]
     },
     "execution_count": 67,
     "metadata": {},
     "output_type": "execute_result"
    }
   ],
   "source": [
    "list(filter(lambda x : len(x) > 6, name ))"
   ]
  },
  {
   "cell_type": "code",
   "execution_count": 69,
   "id": "484b2dfc-4b57-4029-af27-059ac49de43b",
   "metadata": {},
   "outputs": [],
   "source": [
    "# reduce(function, iterable) : "
   ]
  },
  {
   "cell_type": "code",
   "execution_count": 70,
   "id": "0711f217-e8c9-46fb-8671-cc411fec92de",
   "metadata": {},
   "outputs": [],
   "source": [
    "from functools import reduce"
   ]
  },
  {
   "cell_type": "code",
   "execution_count": 71,
   "id": "e4bfe41b-7b12-4545-8432-25842a60d037",
   "metadata": {},
   "outputs": [
    {
     "data": {
      "text/plain": [
       "[0,\n",
       " 1,\n",
       " 2,\n",
       " 3,\n",
       " 4,\n",
       " 5,\n",
       " 6,\n",
       " 7,\n",
       " 8,\n",
       " 9,\n",
       " 10,\n",
       " 11,\n",
       " 12,\n",
       " 13,\n",
       " 14,\n",
       " 15,\n",
       " 16,\n",
       " 17,\n",
       " 18,\n",
       " 19,\n",
       " 20,\n",
       " 21,\n",
       " 22,\n",
       " 23,\n",
       " 24,\n",
       " 25,\n",
       " 26,\n",
       " 27,\n",
       " 28,\n",
       " 29,\n",
       " 30,\n",
       " 31,\n",
       " 32,\n",
       " 33,\n",
       " 34,\n",
       " 35,\n",
       " 36,\n",
       " 37,\n",
       " 38,\n",
       " 39,\n",
       " 40,\n",
       " 41,\n",
       " 42,\n",
       " 43,\n",
       " 44,\n",
       " 45,\n",
       " 46,\n",
       " 47,\n",
       " 48,\n",
       " 49]"
      ]
     },
     "execution_count": 71,
     "metadata": {},
     "output_type": "execute_result"
    }
   ],
   "source": [
    "l"
   ]
  },
  {
   "cell_type": "code",
   "execution_count": 72,
   "id": "759ce501-0092-47ea-a9b5-65724e63dfb8",
   "metadata": {},
   "outputs": [
    {
     "name": "stdout",
     "output_type": "stream",
     "text": [
      "1225\n"
     ]
    }
   ],
   "source": [
    "sum_ = 0\n",
    "for i in l:\n",
    "    sum_ = sum_ + i\n",
    "print(sum_)"
   ]
  },
  {
   "cell_type": "code",
   "execution_count": 74,
   "id": "7a53f7b9-ac8f-454f-9267-0bb8789bd5fc",
   "metadata": {},
   "outputs": [
    {
     "data": {
      "text/plain": [
       "15"
      ]
     },
     "execution_count": 74,
     "metadata": {},
     "output_type": "execute_result"
    }
   ],
   "source": [
    "reduce(lambda x, y : x + y, [1, 2, 3, 4, 5])"
   ]
  },
  {
   "cell_type": "code",
   "execution_count": 78,
   "id": "03844c22-e969-4d3f-a287-af7d630c630c",
   "metadata": {},
   "outputs": [
    {
     "data": {
      "text/plain": [
       "1"
      ]
     },
     "execution_count": 78,
     "metadata": {},
     "output_type": "execute_result"
    }
   ],
   "source": [
    "reduce(lambda x, y : x if x < y else y , [1, 2, 3, 4, 5])"
   ]
  },
  {
   "cell_type": "code",
   "execution_count": null,
   "id": "6d08de7f-dde5-4eee-8b35-3e2e6607610c",
   "metadata": {},
   "outputs": [],
   "source": []
  }
 ],
 "metadata": {
  "kernelspec": {
   "display_name": "Python 3 (ipykernel)",
   "language": "python",
   "name": "python3"
  },
  "language_info": {
   "codemirror_mode": {
    "name": "ipython",
    "version": 3
   },
   "file_extension": ".py",
   "mimetype": "text/x-python",
   "name": "python",
   "nbconvert_exporter": "python",
   "pygments_lexer": "ipython3",
   "version": "3.12.7"
  }
 },
 "nbformat": 4,
 "nbformat_minor": 5
}
