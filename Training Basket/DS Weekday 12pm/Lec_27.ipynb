{
 "cells": [
  {
   "cell_type": "code",
   "execution_count": 1,
   "id": "40046d07-3eba-4a17-a3a9-6df3cda1a4d0",
   "metadata": {},
   "outputs": [],
   "source": [
    "# Exception handling"
   ]
  },
  {
   "cell_type": "code",
   "execution_count": 2,
   "id": "c9c1fa57-e8ec-4253-9b4a-16c994bb3549",
   "metadata": {},
   "outputs": [
    {
     "data": {
      "text/plain": [
       "5.0"
      ]
     },
     "execution_count": 2,
     "metadata": {},
     "output_type": "execute_result"
    }
   ],
   "source": [
    "a = 10\n",
    "b = 2\n",
    "a/b"
   ]
  },
  {
   "cell_type": "code",
   "execution_count": 4,
   "id": "9f5cc09e-2d6c-4686-968d-7f3c36c44ad2",
   "metadata": {},
   "outputs": [
    {
     "ename": "ZeroDivisionError",
     "evalue": "division by zero",
     "output_type": "error",
     "traceback": [
      "\u001b[1;31m---------------------------------------------------------------------------\u001b[0m",
      "\u001b[1;31mZeroDivisionError\u001b[0m                         Traceback (most recent call last)",
      "Cell \u001b[1;32mIn[4], line 3\u001b[0m\n\u001b[0;32m      1\u001b[0m a \u001b[38;5;241m=\u001b[39m \u001b[38;5;241m10\u001b[39m\n\u001b[0;32m      2\u001b[0m b \u001b[38;5;241m=\u001b[39m \u001b[38;5;241m0\u001b[39m\n\u001b[1;32m----> 3\u001b[0m a\u001b[38;5;241m/\u001b[39mb\n",
      "\u001b[1;31mZeroDivisionError\u001b[0m: division by zero"
     ]
    }
   ],
   "source": [
    "a = 10\n",
    "b = 0\n",
    "a/b"
   ]
  },
  {
   "cell_type": "code",
   "execution_count": 5,
   "id": "5fbd359e-d5b8-44b5-8199-6664217c2258",
   "metadata": {},
   "outputs": [
    {
     "name": "stdin",
     "output_type": "stream",
     "text": [
      "enter the number 109213rewfa\n"
     ]
    }
   ],
   "source": [
    "n = input(\"enter the number\")"
   ]
  },
  {
   "cell_type": "code",
   "execution_count": 6,
   "id": "ca458c18-6fc2-4c93-84a1-8435423a7863",
   "metadata": {},
   "outputs": [
    {
     "data": {
      "text/plain": [
       "'109213rewfa'"
      ]
     },
     "execution_count": 6,
     "metadata": {},
     "output_type": "execute_result"
    }
   ],
   "source": [
    "n"
   ]
  },
  {
   "cell_type": "code",
   "execution_count": 7,
   "id": "8cb1b8f2-480a-4e3e-a72f-edc884fe99a2",
   "metadata": {},
   "outputs": [
    {
     "name": "stdin",
     "output_type": "stream",
     "text": [
      "enter the number :  109i\n"
     ]
    },
    {
     "ename": "ValueError",
     "evalue": "invalid literal for int() with base 10: '109i'",
     "output_type": "error",
     "traceback": [
      "\u001b[1;31m---------------------------------------------------------------------------\u001b[0m",
      "\u001b[1;31mValueError\u001b[0m                                Traceback (most recent call last)",
      "Cell \u001b[1;32mIn[7], line 1\u001b[0m\n\u001b[1;32m----> 1\u001b[0m n \u001b[38;5;241m=\u001b[39m \u001b[38;5;28mint\u001b[39m(\u001b[38;5;28minput\u001b[39m(\u001b[38;5;124m\"\u001b[39m\u001b[38;5;124menter the number : \u001b[39m\u001b[38;5;124m\"\u001b[39m))\n",
      "\u001b[1;31mValueError\u001b[0m: invalid literal for int() with base 10: '109i'"
     ]
    }
   ],
   "source": [
    "n = int(input(\"enter the number : \"))"
   ]
  },
  {
   "cell_type": "code",
   "execution_count": 8,
   "id": "603d9864-f26d-4cd9-b397-9187b2f0559b",
   "metadata": {},
   "outputs": [],
   "source": [
    "n = str(n)"
   ]
  },
  {
   "cell_type": "code",
   "execution_count": 9,
   "id": "3a13c5ba-fa30-43db-ab24-b2557babece1",
   "metadata": {},
   "outputs": [
    {
     "data": {
      "text/plain": [
       "'109213rewfa'"
      ]
     },
     "execution_count": 9,
     "metadata": {},
     "output_type": "execute_result"
    }
   ],
   "source": [
    "n"
   ]
  },
  {
   "cell_type": "code",
   "execution_count": 32,
   "id": "bae31fac-bd30-45a1-8091-a23e069c9bcf",
   "metadata": {},
   "outputs": [
    {
     "ename": "TypeError",
     "evalue": "unsupported operand type(s) for /: 'int' and 'str'",
     "output_type": "error",
     "traceback": [
      "\u001b[1;31m---------------------------------------------------------------------------\u001b[0m",
      "\u001b[1;31mTypeError\u001b[0m                                 Traceback (most recent call last)",
      "Cell \u001b[1;32mIn[32], line 3\u001b[0m\n\u001b[0;32m      1\u001b[0m \u001b[38;5;28;01mdef\u001b[39;00m \u001b[38;5;21mdivider\u001b[39m(a, b):\n\u001b[0;32m      2\u001b[0m     \u001b[38;5;28;01mreturn\u001b[39;00m a\u001b[38;5;241m/\u001b[39mb\n\u001b[1;32m----> 3\u001b[0m divider(\u001b[38;5;241m10\u001b[39m, \u001b[38;5;124m'\u001b[39m\u001b[38;5;124m0\u001b[39m\u001b[38;5;124m'\u001b[39m)\n",
      "Cell \u001b[1;32mIn[32], line 2\u001b[0m, in \u001b[0;36mdivider\u001b[1;34m(a, b)\u001b[0m\n\u001b[0;32m      1\u001b[0m \u001b[38;5;28;01mdef\u001b[39;00m \u001b[38;5;21mdivider\u001b[39m(a, b):\n\u001b[1;32m----> 2\u001b[0m     \u001b[38;5;28;01mreturn\u001b[39;00m a\u001b[38;5;241m/\u001b[39mb\n",
      "\u001b[1;31mTypeError\u001b[0m: unsupported operand type(s) for /: 'int' and 'str'"
     ]
    }
   ],
   "source": [
    "def divider(a, b):\n",
    "    return a/b\n",
    "divider(10, '0')"
   ]
  },
  {
   "cell_type": "code",
   "execution_count": 14,
   "id": "847ba2a0-11a2-4f8c-ac10-de6f2d914d92",
   "metadata": {},
   "outputs": [],
   "source": [
    "def divider(a, b):\n",
    "    try:\n",
    "        print(a)\n",
    "        print(\" \")\n",
    "        print(b)\n",
    "        return a/b\n",
    "    except:\n",
    "        print('not possible')"
   ]
  },
  {
   "cell_type": "code",
   "execution_count": 15,
   "id": "c2112721-39b1-40b6-9420-7344a499cae9",
   "metadata": {},
   "outputs": [
    {
     "name": "stdout",
     "output_type": "stream",
     "text": [
      "10\n",
      " \n",
      "0\n",
      "not possible\n"
     ]
    }
   ],
   "source": [
    "divider(10, 0)"
   ]
  },
  {
   "cell_type": "code",
   "execution_count": 24,
   "id": "b2599c71-1d35-49b6-979a-a7d299a56251",
   "metadata": {},
   "outputs": [],
   "source": [
    "def divider(a, b):\n",
    "    try:\n",
    "        print(a)\n",
    "        print(\" \")\n",
    "        print(b)\n",
    "        return a/b\n",
    "    except TypeError:\n",
    "        print(\"different data type has been passed\")\n",
    "\n",
    "    except ZeroDivisionError:\n",
    "        print('not possible')\n",
    "    except NameError:\n",
    "        print(\"wrong name was defined\")"
   ]
  },
  {
   "cell_type": "code",
   "execution_count": 27,
   "id": "fff30b36-4ab8-4cb2-9cff-66e7b9bb5f3f",
   "metadata": {},
   "outputs": [
    {
     "name": "stdout",
     "output_type": "stream",
     "text": [
      "10\n",
      " \n",
      "0\n",
      "not possible\n"
     ]
    }
   ],
   "source": [
    "divider(10, 0)"
   ]
  },
  {
   "cell_type": "code",
   "execution_count": 41,
   "id": "bff5badd-cb24-4aee-ae48-3f715b21dd2c",
   "metadata": {},
   "outputs": [],
   "source": [
    "def divider(a, b):\n",
    "    try:\n",
    "        print(a)\n",
    "        print(\" \")\n",
    "        print(b)\n",
    "        return a/b\n",
    "    except Exception as e:\n",
    "        print(e)\n",
    "\n",
    "    finally:\n",
    "        b = int(input(\"enter the denominator\"))\n",
    "        return a/b"
   ]
  },
  {
   "cell_type": "code",
   "execution_count": 40,
   "id": "05e28c95-667a-43f4-a0f3-800ae59cd2fb",
   "metadata": {},
   "outputs": [
    {
     "name": "stdout",
     "output_type": "stream",
     "text": [
      "10\n",
      " \n",
      "[0]\n",
      "unsupported operand type(s) for /: 'int' and 'list'\n"
     ]
    },
    {
     "name": "stdin",
     "output_type": "stream",
     "text": [
      "enter the numerator 2\n"
     ]
    },
    {
     "data": {
      "text/plain": [
       "5.0"
      ]
     },
     "execution_count": 40,
     "metadata": {},
     "output_type": "execute_result"
    }
   ],
   "source": [
    "divider(10, [0])"
   ]
  },
  {
   "cell_type": "code",
   "execution_count": null,
   "id": "34af17ec-ae54-400f-811c-f740e142c3d3",
   "metadata": {},
   "outputs": [],
   "source": []
  }
 ],
 "metadata": {
  "kernelspec": {
   "display_name": "Python 3 (ipykernel)",
   "language": "python",
   "name": "python3"
  },
  "language_info": {
   "codemirror_mode": {
    "name": "ipython",
    "version": 3
   },
   "file_extension": ".py",
   "mimetype": "text/x-python",
   "name": "python",
   "nbconvert_exporter": "python",
   "pygments_lexer": "ipython3",
   "version": "3.12.7"
  }
 },
 "nbformat": 4,
 "nbformat_minor": 5
}
