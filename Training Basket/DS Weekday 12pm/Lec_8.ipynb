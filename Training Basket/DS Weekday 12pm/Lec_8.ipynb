{
 "cells": [
  {
   "cell_type": "code",
   "execution_count": 2,
   "id": "a2c0e654-5b58-4d85-8d6c-ac720559577c",
   "metadata": {},
   "outputs": [],
   "source": [
    "# make a function that take an input and check for password authenticator "
   ]
  },
  {
   "cell_type": "code",
   "execution_count": 3,
   "id": "67653403-f0c3-4f45-b6bf-73ea627b1a96",
   "metadata": {},
   "outputs": [
    {
     "name": "stdin",
     "output_type": "stream",
     "text": [
      "enter your password : =  tushar\n"
     ]
    },
    {
     "name": "stdout",
     "output_type": "stream",
     "text": [
      "password is incorrect\n"
     ]
    }
   ],
   "source": [
    "def password(a=input(\"enter your password : = \")):\n",
    "\n",
    "  if a == 'kanhaiya':\n",
    "\n",
    "    print(\"password is correct\")\n",
    "\n",
    "  else:\n",
    "\n",
    "    print(\"password is incorrect\")\n",
    "\n",
    "password()\n",
    "\n",
    "\n",
    "\n",
    "\n",
    "\n"
   ]
  },
  {
   "cell_type": "code",
   "execution_count": 6,
   "id": "29cdad5f-7c5a-4517-bb13-6da528535299",
   "metadata": {},
   "outputs": [],
   "source": [
    "def password():\n",
    "    a = input(\"enter your password = \")\n",
    "\n",
    "    if a == 'Tushar' : \n",
    "        print(\"Password Authenticated\")\n",
    "    else:\n",
    "        print(\"Not authenticated\")"
   ]
  },
  {
   "cell_type": "code",
   "execution_count": 9,
   "id": "988aed0c-3455-4e43-b29d-68a52af63efc",
   "metadata": {},
   "outputs": [
    {
     "name": "stdin",
     "output_type": "stream",
     "text": [
      "enter your password =  Tushar\n"
     ]
    },
    {
     "name": "stdout",
     "output_type": "stream",
     "text": [
      "Password Authenticated\n"
     ]
    }
   ],
   "source": [
    "password()"
   ]
  },
  {
   "cell_type": "code",
   "execution_count": 11,
   "id": "e33bd973-6b4c-437f-8cde-b6cdd46af0ef",
   "metadata": {},
   "outputs": [
    {
     "name": "stdin",
     "output_type": "stream",
     "text": [
      "Enter the password  Vikash\n"
     ]
    },
    {
     "data": {
      "text/plain": [
       "'Password Authenticate'"
      ]
     },
     "execution_count": 11,
     "metadata": {},
     "output_type": "execute_result"
    }
   ],
   "source": [
    "def Authent():\n",
    "\n",
    "  a = input(\"Enter the password \")\n",
    "\n",
    "  b = \"Vikash\"\n",
    "\n",
    "  if a == b:\n",
    "\n",
    "    return \"Password Authenticate\"\n",
    "\n",
    "  else:\n",
    "\n",
    "    return \"Password Not Matched\"\n",
    "\n",
    "Authent()"
   ]
  },
  {
   "cell_type": "code",
   "execution_count": 16,
   "id": "52067572-2856-4138-b516-452cbc67f610",
   "metadata": {},
   "outputs": [],
   "source": [
    "def triangle(a,b,c):\n",
    "    if a == b and a == c and b == c:\n",
    "        print(\"Equilateral Triangle\")\n",
    "    elif a == b or b == c or c == a:   \n",
    "        print(\"Isosceles Triangle\")\n",
    "    else:\n",
    "        print(\"Scalene Triangle\")\n",
    "        "
   ]
  },
  {
   "cell_type": "code",
   "execution_count": 17,
   "id": "cdc91073-df31-42af-a4a3-cdd99f52d4d1",
   "metadata": {},
   "outputs": [
    {
     "name": "stdout",
     "output_type": "stream",
     "text": [
      "Equilateral Triangle\n"
     ]
    }
   ],
   "source": [
    "triangle(4, 4, 4)"
   ]
  },
  {
   "cell_type": "code",
   "execution_count": 22,
   "id": "c3459c25-35da-4ac5-b439-7bd64ebe008d",
   "metadata": {},
   "outputs": [
    {
     "name": "stdin",
     "output_type": "stream",
     "text": [
      "enter first number 2\n",
      "enter second number 2\n",
      "enter third number 3\n"
     ]
    },
    {
     "name": "stdout",
     "output_type": "stream",
     "text": [
      "tringle is Isosceles\n"
     ]
    }
   ],
   "source": [
    "def tring(a,b,c):\n",
    "\n",
    "  \n",
    "\n",
    "  if a == b and a==c:\n",
    "\n",
    "    print(\"tringle is Equilateral\")\n",
    "\n",
    "  elif a==b and a !=c or b == c:\n",
    "\n",
    "    print(\"tringle is Isosceles\")\n",
    "\n",
    "  else:\n",
    "\n",
    "    print(\"tringle is Scalene \")\n",
    "\n",
    "tring(a = int(input(\"enter first number\")),\n",
    "\n",
    "  b = int(input(\"enter second number\")),\n",
    "\n",
    "  c = int(input(\"enter third number\")))"
   ]
  },
  {
   "cell_type": "code",
   "execution_count": 25,
   "id": "df5b8577-b571-4bff-a2f2-3d4d4aadf9fc",
   "metadata": {},
   "outputs": [],
   "source": [
    "def form_triangle():\n",
    "    a = int(input(\"enter the value of a\"))\n",
    "    \n",
    "    b = int(input(\"enter the value of b\"))\n",
    "    \n",
    "    c = int(input(\"enter the value of c\"))\n",
    "    \n",
    "    if a+b>c and b+c>a and c+a>b:\n",
    "    \n",
    "      print(\"it is a triangle\")\n",
    "    \n",
    "    else:\n",
    "    \n",
    "      print(\"triangle is not valid\")"
   ]
  },
  {
   "cell_type": "code",
   "execution_count": 26,
   "id": "7dca6d46-c9fc-4e23-b85b-c3e070fa83a3",
   "metadata": {},
   "outputs": [
    {
     "name": "stdin",
     "output_type": "stream",
     "text": [
      "enter the value of a 3\n",
      "enter the value of b 4\n",
      "enter the value of c 6\n"
     ]
    },
    {
     "name": "stdout",
     "output_type": "stream",
     "text": [
      "it is a triangle\n"
     ]
    }
   ],
   "source": [
    "form_triangle()"
   ]
  },
  {
   "cell_type": "code",
   "execution_count": 29,
   "id": "76a864b7-4483-41fd-be7a-9457a8cc2a21",
   "metadata": {},
   "outputs": [],
   "source": [
    "def voter_eligle():\n",
    "    a = int(input(\"enter the value of a\"))\n",
    "    \n",
    "    if a>18:\n",
    "    \n",
    "      print(\"you are eligible for vote\")\n",
    "    \n",
    "    else:\n",
    "    \n",
    "      print(\"you are not eligible for vote\")"
   ]
  },
  {
   "cell_type": "code",
   "execution_count": 30,
   "id": "48c7ac97-c5bb-4944-8e68-2a21702d29f7",
   "metadata": {},
   "outputs": [
    {
     "name": "stdin",
     "output_type": "stream",
     "text": [
      "enter the value of a 21\n"
     ]
    },
    {
     "name": "stdout",
     "output_type": "stream",
     "text": [
      "you are eligible for vote\n"
     ]
    }
   ],
   "source": [
    "voter_eligle()"
   ]
  },
  {
   "cell_type": "code",
   "execution_count": 31,
   "id": "a99eb7ee-eb52-4fd1-a090-a68f0b835908",
   "metadata": {},
   "outputs": [],
   "source": [
    "def number_type():\n",
    "    a = float(input(\"enter the number = \"))\n",
    "    if a == 0:\n",
    "        print(\"neither positive nor negative\")\n",
    "    elif a > 0:\n",
    "        print(\"positive number\")\n",
    "    else:\n",
    "        print(\"negative number\")"
   ]
  },
  {
   "cell_type": "code",
   "execution_count": 34,
   "id": "3a652bbb-16a4-4353-87d2-7b5b956c106e",
   "metadata": {},
   "outputs": [
    {
     "name": "stdin",
     "output_type": "stream",
     "text": [
      "enter the number =  10.342\n"
     ]
    },
    {
     "name": "stdout",
     "output_type": "stream",
     "text": [
      "positive number\n"
     ]
    }
   ],
   "source": [
    "number_type()"
   ]
  },
  {
   "cell_type": "code",
   "execution_count": 35,
   "id": "92898b16-bcc5-4f34-978b-e3becc5183c5",
   "metadata": {},
   "outputs": [
    {
     "data": {
      "text/plain": [
       "90.0"
      ]
     },
     "execution_count": 35,
     "metadata": {},
     "output_type": "execute_result"
    }
   ],
   "source": [
    "def discount(a):\n",
    "\n",
    "  b = (a *10)/100\n",
    "\n",
    "  return a-b\n",
    "\n",
    "discount(100)"
   ]
  },
  {
   "cell_type": "code",
   "execution_count": 36,
   "id": "c09ae506-1e3e-4555-8690-45f86d5d7a9e",
   "metadata": {},
   "outputs": [
    {
     "ename": "SyntaxError",
     "evalue": "invalid syntax (964882927.py, line 2)",
     "output_type": "error",
     "traceback": [
      "\u001b[1;36m  Cell \u001b[1;32mIn[36], line 2\u001b[1;36m\u001b[0m\n\u001b[1;33m    return 90%*a\u001b[0m\n\u001b[1;37m              ^\u001b[0m\n\u001b[1;31mSyntaxError\u001b[0m\u001b[1;31m:\u001b[0m invalid syntax\n"
     ]
    }
   ],
   "source": [
    "def discount_price(a):\n",
    "    return 90%*a\n",
    "\n",
    "a = float(input(\"enter the value of a\"))\n",
    "\n",
    "discount_price(a)"
   ]
  },
  {
   "cell_type": "code",
   "execution_count": 37,
   "id": "9825907b-842c-401f-8c6c-6e7100a8c651",
   "metadata": {},
   "outputs": [
    {
     "data": {
      "text/plain": [
       "10.0"
      ]
     },
     "execution_count": 37,
     "metadata": {},
     "output_type": "execute_result"
    }
   ],
   "source": [
    "# 10% of 100\n",
    "(10*100)/100"
   ]
  },
  {
   "cell_type": "code",
   "execution_count": 41,
   "id": "c2a128bf-0628-4b21-8c71-29513e1ca752",
   "metadata": {},
   "outputs": [],
   "source": [
    "def discount_price():\n",
    "    price = 1000\n",
    "    discount = 10\n",
    "    amount = price - (discount*price)/100\n",
    "    return amount"
   ]
  },
  {
   "cell_type": "code",
   "execution_count": 42,
   "id": "48498572-3993-4b75-83bd-6a00e8a96350",
   "metadata": {},
   "outputs": [
    {
     "data": {
      "text/plain": [
       "900.0"
      ]
     },
     "execution_count": 42,
     "metadata": {},
     "output_type": "execute_result"
    }
   ],
   "source": [
    "discount_price()"
   ]
  },
  {
   "cell_type": "code",
   "execution_count": null,
   "id": "b5d25c43-34a1-40f0-9a1c-fce9ee3a45a0",
   "metadata": {},
   "outputs": [],
   "source": []
  }
 ],
 "metadata": {
  "kernelspec": {
   "display_name": "Python 3 (ipykernel)",
   "language": "python",
   "name": "python3"
  },
  "language_info": {
   "codemirror_mode": {
    "name": "ipython",
    "version": 3
   },
   "file_extension": ".py",
   "mimetype": "text/x-python",
   "name": "python",
   "nbconvert_exporter": "python",
   "pygments_lexer": "ipython3",
   "version": "3.12.7"
  }
 },
 "nbformat": 4,
 "nbformat_minor": 5
}
