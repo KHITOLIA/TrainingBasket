{
 "cells": [
  {
   "cell_type": "code",
   "execution_count": 2,
   "id": "0a4d2325-8b86-4ae4-bc3a-d24361d64dab",
   "metadata": {},
   "outputs": [],
   "source": [
    "# s = [('apple', 7), ('orange', 10), ('banana', 2), ('mango', 8), ('guava', 6)] sort the list in asc"
   ]
  },
  {
   "cell_type": "code",
   "execution_count": 3,
   "id": "0afa3a16-9ded-4c95-8df3-c588c61c1ce3",
   "metadata": {},
   "outputs": [],
   "source": [
    "s = [('apple', 7), ('orange', 10), ('banana', 2), ('mango', 8), ('guava', 6)]"
   ]
  },
  {
   "cell_type": "code",
   "execution_count": 7,
   "id": "1123c296-6bad-43ea-932b-5ddb3f59d296",
   "metadata": {},
   "outputs": [],
   "source": [
    "s = [(\"apple\",7),(\"orange\",10),(\"banana\",2),(\"mango\",8),(\"guava\",6)]\n",
    "b = []\n",
    "for i in s:\n",
    "    b.append(i[1])"
   ]
  },
  {
   "cell_type": "code",
   "execution_count": 9,
   "id": "0d83485e-3cc7-4d29-ad42-a6d230dc3e0a",
   "metadata": {},
   "outputs": [],
   "source": [
    "b = sorted(b)"
   ]
  },
  {
   "cell_type": "code",
   "execution_count": 10,
   "id": "b40000d9-e491-4227-8c95-b9dcc4cdf364",
   "metadata": {},
   "outputs": [
    {
     "data": {
      "text/plain": [
       "[2, 6, 7, 8, 10]"
      ]
     },
     "execution_count": 10,
     "metadata": {},
     "output_type": "execute_result"
    }
   ],
   "source": [
    "b"
   ]
  },
  {
   "cell_type": "code",
   "execution_count": 13,
   "id": "0539b5ce-4cd8-437b-a555-6dc482cd038c",
   "metadata": {},
   "outputs": [],
   "source": [
    "a = []\n",
    "for i in b:\n",
    "    for j in s:\n",
    "        if i == j[1]:\n",
    "            a.append((j[0], i))"
   ]
  },
  {
   "cell_type": "code",
   "execution_count": 14,
   "id": "a9fbaa59-b11b-46bf-b561-32b17dc6c1d3",
   "metadata": {},
   "outputs": [
    {
     "data": {
      "text/plain": [
       "[('banana', 2), ('guava', 6), ('apple', 7), ('mango', 8), ('orange', 10)]"
      ]
     },
     "execution_count": 14,
     "metadata": {},
     "output_type": "execute_result"
    }
   ],
   "source": [
    "a"
   ]
  },
  {
   "cell_type": "code",
   "execution_count": 15,
   "id": "3133a184-bf6e-4793-9260-56130737d4ed",
   "metadata": {},
   "outputs": [],
   "source": [
    "s = a"
   ]
  },
  {
   "cell_type": "code",
   "execution_count": 16,
   "id": "b0b699a3-838d-41a0-85f2-9de0d8119828",
   "metadata": {},
   "outputs": [
    {
     "data": {
      "text/plain": [
       "[('banana', 2), ('guava', 6), ('apple', 7), ('mango', 8), ('orange', 10)]"
      ]
     },
     "execution_count": 16,
     "metadata": {},
     "output_type": "execute_result"
    }
   ],
   "source": [
    "s"
   ]
  },
  {
   "cell_type": "code",
   "execution_count": 22,
   "id": "800ec213-989e-4999-912c-78f9758f7719",
   "metadata": {},
   "outputs": [
    {
     "name": "stdout",
     "output_type": "stream",
     "text": [
      "[('banana', 2), ('guava', 6), ('apple', 7), ('mango', 8), ('orange', 10)]\n"
     ]
    }
   ],
   "source": [
    "s = [('apple', 7), ('orange', 10), ('banana', 2), ('mango', 8), ('guava', 6)]\n",
    "\n",
    "for _ in range(len(s)):\n",
    "    for i in range(len(s) - 1):\n",
    "        if s[i][1] > s[i+1][1]:\n",
    "            s[i], s[i+1] = s[i+1], s[i]\n",
    "print(s)"
   ]
  },
  {
   "cell_type": "code",
   "execution_count": null,
   "id": "0266e459-d616-41f5-b416-4ea3f6b67fa5",
   "metadata": {},
   "outputs": [],
   "source": [
    "st = 'programming is awesome'.lower()\n",
    "l = 'aeiou'\n",
    "\n",
    "for i in st:\n",
    "    vowel_count = 0\n",
    "    if i in l:\n",
    "        vowel_count += 1\n",
    "        "
   ]
  },
  {
   "cell_type": "code",
   "execution_count": 59,
   "id": "8915b1f2-193d-463e-a4b1-a60950f6032e",
   "metadata": {},
   "outputs": [],
   "source": [
    "st = 'this is training basket data science course'.lower()\n",
    "l = 'aeiou'\n",
    "l1 = st.split()"
   ]
  },
  {
   "cell_type": "code",
   "execution_count": 60,
   "id": "91f757e4-5bbb-4482-9a3c-f07b633bf130",
   "metadata": {},
   "outputs": [
    {
     "data": {
      "text/plain": [
       "['this', 'is', 'training', 'basket', 'data', 'science', 'course']"
      ]
     },
     "execution_count": 60,
     "metadata": {},
     "output_type": "execute_result"
    }
   ],
   "source": [
    "l1"
   ]
  },
  {
   "cell_type": "code",
   "execution_count": 61,
   "id": "254c00cf-1270-449f-83f1-976f32ad2b6f",
   "metadata": {},
   "outputs": [
    {
     "name": "stdout",
     "output_type": "stream",
     "text": [
      "9\n"
     ]
    }
   ],
   "source": [
    "total_score = 0\n",
    "for i in l1:\n",
    "    vowel_count = 0\n",
    "    for j in i:\n",
    "        if j in l:\n",
    "            vowel_count = vowel_count + 1\n",
    "    if vowel_count % 2 == 0:\n",
    "        score = 2\n",
    "        # print(score)\n",
    "    else:\n",
    "        score = 1\n",
    "        # print(score)\n",
    "    total_score = total_score + score\n",
    "print(total_score)"
   ]
  },
  {
   "cell_type": "code",
   "execution_count": 51,
   "id": "b86db384-2816-4356-b499-c70b70ef88a4",
   "metadata": {},
   "outputs": [
    {
     "data": {
      "text/plain": [
       "2"
      ]
     },
     "execution_count": 51,
     "metadata": {},
     "output_type": "execute_result"
    }
   ],
   "source": [
    "total_score"
   ]
  },
  {
   "cell_type": "code",
   "execution_count": null,
   "id": "e805b8b2-c11a-4cc0-bded-78388b6ad1ac",
   "metadata": {},
   "outputs": [],
   "source": []
  }
 ],
 "metadata": {
  "kernelspec": {
   "display_name": "Python 3 (ipykernel)",
   "language": "python",
   "name": "python3"
  },
  "language_info": {
   "codemirror_mode": {
    "name": "ipython",
    "version": 3
   },
   "file_extension": ".py",
   "mimetype": "text/x-python",
   "name": "python",
   "nbconvert_exporter": "python",
   "pygments_lexer": "ipython3",
   "version": "3.12.7"
  }
 },
 "nbformat": 4,
 "nbformat_minor": 5
}
