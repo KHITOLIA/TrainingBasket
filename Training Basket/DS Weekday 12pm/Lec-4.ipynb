{
 "cells": [
  {
   "cell_type": "markdown",
   "id": "629d7fba-bc0d-4f15-a8dd-7693661ff603",
   "metadata": {},
   "source": [
    "# Functions"
   ]
  },
  {
   "cell_type": "code",
   "execution_count": 9,
   "id": "9fdbc962-b586-469d-bfab-ed76aaba6aef",
   "metadata": {},
   "outputs": [
    {
     "name": "stdout",
     "output_type": "stream",
     "text": [
      "34\n"
     ]
    }
   ],
   "source": [
    "def func(n):\n",
    "    print(n)\n",
    "func(34)"
   ]
  },
  {
   "cell_type": "code",
   "execution_count": 16,
   "id": "cc61936e-4175-427c-8c8a-a989abb7df98",
   "metadata": {},
   "outputs": [],
   "source": [
    "def func1(a,b):\n",
    "    print(a)\n",
    "    print(b)\n",
    "    print(a + b)"
   ]
  },
  {
   "cell_type": "code",
   "execution_count": 17,
   "id": "88fef4a3-c80a-48e9-820a-49ae752d97a2",
   "metadata": {},
   "outputs": [
    {
     "name": "stdout",
     "output_type": "stream",
     "text": [
      "2\n",
      "4\n",
      "6\n"
     ]
    }
   ],
   "source": [
    "func1(2, 4)"
   ]
  },
  {
   "cell_type": "code",
   "execution_count": 18,
   "id": "07322493-0aee-4c1d-a3e9-d5e37feff60c",
   "metadata": {},
   "outputs": [
    {
     "name": "stdout",
     "output_type": "stream",
     "text": [
      "Nidhi\n",
      " Pal\n",
      "Nidhi Pal\n"
     ]
    }
   ],
   "source": [
    "func1(\"Nidhi\",\" Pal\")"
   ]
  },
  {
   "cell_type": "code",
   "execution_count": 46,
   "id": "919f36c0-1cdd-4127-af06-6492dcb5a97e",
   "metadata": {},
   "outputs": [],
   "source": [
    "def f1(first):\n",
    "    return first\n",
    "def f2(second):\n",
    "    return second\n",
    "def f3(a,b):\n",
    "    a = int(a)\n",
    "    b = int(b)\n",
    "    first_name = f1(a)\n",
    "    print(type(a), type(b))\n",
    "    second_name = f2(b)\n",
    "    return first_name + second_name"
   ]
  },
  {
   "cell_type": "code",
   "execution_count": 47,
   "id": "a33c7b0e-3dd3-492e-9768-e90e1e632a1a",
   "metadata": {},
   "outputs": [
    {
     "name": "stdin",
     "output_type": "stream",
     "text": [
      "enter your first name : 12\n",
      "enter your second name :  12\n"
     ]
    },
    {
     "name": "stdout",
     "output_type": "stream",
     "text": [
      "<class 'int'> <class 'int'>\n"
     ]
    },
    {
     "data": {
      "text/plain": [
       "24"
      ]
     },
     "execution_count": 47,
     "metadata": {},
     "output_type": "execute_result"
    }
   ],
   "source": [
    "a = input(\"enter your first name :\")\n",
    "b = input(\"enter your second name : \")\n",
    "f3(a,b)"
   ]
  },
  {
   "cell_type": "code",
   "execution_count": 28,
   "id": "d1674bb8-36f7-4699-aa0d-167b09368034",
   "metadata": {},
   "outputs": [
    {
     "data": {
      "text/plain": [
       "str"
      ]
     },
     "execution_count": 28,
     "metadata": {},
     "output_type": "execute_result"
    }
   ],
   "source": [
    "type(a) "
   ]
  },
  {
   "cell_type": "code",
   "execution_count": 34,
   "id": "da3f4c6b-3346-459f-b801-df7e112f461b",
   "metadata": {},
   "outputs": [
    {
     "name": "stdin",
     "output_type": "stream",
     "text": [
      "enter your input 23\n"
     ]
    },
    {
     "data": {
      "text/plain": [
       "23.0"
      ]
     },
     "execution_count": 34,
     "metadata": {},
     "output_type": "execute_result"
    }
   ],
   "source": [
    "float(input(\"enter your input\"))"
   ]
  },
  {
   "cell_type": "code",
   "execution_count": 40,
   "id": "a07531ca-d475-4754-88c3-28951fd5c241",
   "metadata": {},
   "outputs": [
    {
     "name": "stdin",
     "output_type": "stream",
     "text": [
      "enter 12\n"
     ]
    }
   ],
   "source": [
    "a = input(\"enter\")"
   ]
  },
  {
   "cell_type": "code",
   "execution_count": 44,
   "id": "b10ec2bb-5f7c-429e-889f-1dd6263e9601",
   "metadata": {},
   "outputs": [],
   "source": [
    "a = int(a)"
   ]
  },
  {
   "cell_type": "code",
   "execution_count": 45,
   "id": "4dafcaa6-3f25-4bfd-8d05-e831677d652c",
   "metadata": {},
   "outputs": [
    {
     "data": {
      "text/plain": [
       "int"
      ]
     },
     "execution_count": 45,
     "metadata": {},
     "output_type": "execute_result"
    }
   ],
   "source": [
    "type(a)"
   ]
  },
  {
   "cell_type": "code",
   "execution_count": 50,
   "id": "7f44d1f0-dba7-471c-917c-46a665247d53",
   "metadata": {},
   "outputs": [],
   "source": [
    "_1 = 23"
   ]
  },
  {
   "cell_type": "code",
   "execution_count": 52,
   "id": "9f07be35-25d3-44b0-9c42-550861541164",
   "metadata": {},
   "outputs": [
    {
     "data": {
      "text/plain": [
       "23"
      ]
     },
     "execution_count": 52,
     "metadata": {},
     "output_type": "execute_result"
    }
   ],
   "source": [
    "_1"
   ]
  },
  {
   "cell_type": "code",
   "execution_count": 53,
   "id": "df2ce3d0-db74-4ad6-9944-59bf8ceb84fa",
   "metadata": {},
   "outputs": [],
   "source": [
    "a = f1(\"Nidhi\")\n",
    "b = f2(\" Pal\")\n",
    "def f3(a,b):\n",
    "    return a + b"
   ]
  },
  {
   "cell_type": "code",
   "execution_count": 55,
   "id": "1786dee5-2984-4550-832f-5535820ed207",
   "metadata": {},
   "outputs": [
    {
     "data": {
      "text/plain": [
       "'Nidhi Pal'"
      ]
     },
     "execution_count": 55,
     "metadata": {},
     "output_type": "execute_result"
    }
   ],
   "source": [
    "f3(a,b)"
   ]
  },
  {
   "cell_type": "code",
   "execution_count": 56,
   "id": "c2661212-1c13-4f81-8a84-dd586a0cc6c3",
   "metadata": {},
   "outputs": [],
   "source": [
    "b = 'abc'"
   ]
  },
  {
   "cell_type": "code",
   "execution_count": 58,
   "id": "a8807ae3-44ee-4c8b-9f29-986134184333",
   "metadata": {},
   "outputs": [
    {
     "data": {
      "text/plain": [
       "140710807798504"
      ]
     },
     "execution_count": 58,
     "metadata": {},
     "output_type": "execute_result"
    }
   ],
   "source": [
    "id(b)"
   ]
  },
  {
   "cell_type": "code",
   "execution_count": 60,
   "id": "4fe2ed04-baf3-4e32-a410-7b9d1d279fad",
   "metadata": {},
   "outputs": [
    {
     "data": {
      "text/plain": [
       "97"
      ]
     },
     "execution_count": 60,
     "metadata": {},
     "output_type": "execute_result"
    }
   ],
   "source": [
    "ord('a')"
   ]
  },
  {
   "cell_type": "code",
   "execution_count": 61,
   "id": "c9513e42-60a1-4257-bab1-8d748ae2bc18",
   "metadata": {},
   "outputs": [
    {
     "data": {
      "text/plain": [
       "'a'"
      ]
     },
     "execution_count": 61,
     "metadata": {},
     "output_type": "execute_result"
    }
   ],
   "source": [
    "chr(97)"
   ]
  },
  {
   "cell_type": "code",
   "execution_count": 62,
   "id": "3362f4c5-f742-4728-a6cf-0a889ea3f021",
   "metadata": {},
   "outputs": [],
   "source": [
    "# make a function which will take an input return id,chr"
   ]
  },
  {
   "cell_type": "code",
   "execution_count": 68,
   "id": "9afe45fa-f87b-480e-b9b6-52f0bf4ef4c7",
   "metadata": {},
   "outputs": [],
   "source": [
    "def fun(a):\n",
    "    return id(a), chr(a)\n",
    "# fun()    "
   ]
  },
  {
   "cell_type": "code",
   "execution_count": 70,
   "id": "96da3cc6-ebd3-4823-ba87-60676446e903",
   "metadata": {},
   "outputs": [
    {
     "name": "stdin",
     "output_type": "stream",
     "text": [
      "enter 76\n"
     ]
    }
   ],
   "source": [
    "number = int(input(\"enter\"))"
   ]
  },
  {
   "cell_type": "code",
   "execution_count": 71,
   "id": "58997d50-62c9-440c-9f24-fc710256bf89",
   "metadata": {},
   "outputs": [
    {
     "data": {
      "text/plain": [
       "76"
      ]
     },
     "execution_count": 71,
     "metadata": {},
     "output_type": "execute_result"
    }
   ],
   "source": [
    "number"
   ]
  },
  {
   "cell_type": "code",
   "execution_count": 75,
   "id": "24f35896-05e3-4d1e-8cef-eae32c06bdc4",
   "metadata": {},
   "outputs": [
    {
     "data": {
      "text/plain": [
       "(140710808662808, 'L')"
      ]
     },
     "execution_count": 75,
     "metadata": {},
     "output_type": "execute_result"
    }
   ],
   "source": [
    "fun(number)"
   ]
  },
  {
   "cell_type": "code",
   "execution_count": 109,
   "id": "b664afd5-784c-4513-a132-0674243d78b3",
   "metadata": {},
   "outputs": [],
   "source": [
    "def calc():\n",
    "    a = int(input(\"enter value : \"))\n",
    "    b = int(input(\"enter value : \"))\n",
    "    return a+b, a-b, a*b, a/b"
   ]
  },
  {
   "cell_type": "code",
   "execution_count": 80,
   "id": "cad6e197-4a3c-4b83-b126-60627e13f068",
   "metadata": {},
   "outputs": [
    {
     "name": "stdin",
     "output_type": "stream",
     "text": [
      "enter value :  12\n",
      "enter value :  8\n"
     ]
    },
    {
     "data": {
      "text/plain": [
       "(20, 4, 96, 1.5)"
      ]
     },
     "execution_count": 80,
     "metadata": {},
     "output_type": "execute_result"
    }
   ],
   "source": [
    "calc()"
   ]
  },
  {
   "cell_type": "code",
   "execution_count": 110,
   "id": "20d04181-6768-4d91-8493-c86a351fc8a7",
   "metadata": {},
   "outputs": [
    {
     "name": "stdin",
     "output_type": "stream",
     "text": [
      "enter value :  12\n",
      "enter value :  8\n"
     ]
    }
   ],
   "source": [
    "add, sub, mult, div = calc()"
   ]
  },
  {
   "cell_type": "code",
   "execution_count": 111,
   "id": "5a81054c-0112-42ec-aca2-48f8e9c1bbef",
   "metadata": {},
   "outputs": [
    {
     "data": {
      "text/plain": [
       "20"
      ]
     },
     "execution_count": 111,
     "metadata": {},
     "output_type": "execute_result"
    }
   ],
   "source": [
    "add"
   ]
  },
  {
   "cell_type": "code",
   "execution_count": 112,
   "id": "594a5ebd-af79-48cd-9cb3-d1f7b198055f",
   "metadata": {},
   "outputs": [
    {
     "data": {
      "text/plain": [
       "1.5"
      ]
     },
     "execution_count": 112,
     "metadata": {},
     "output_type": "execute_result"
    }
   ],
   "source": [
    "div"
   ]
  },
  {
   "cell_type": "code",
   "execution_count": 114,
   "id": "d06f4e86-a3c1-47e6-b6be-fd85ae9ae569",
   "metadata": {},
   "outputs": [],
   "source": [
    "def calc(a,b):\n",
    "    return a+b, a-b, a*b, a/b"
   ]
  },
  {
   "cell_type": "code",
   "execution_count": 105,
   "id": "7cee98ca-3ab1-41d6-9c48-13d75098e7e5",
   "metadata": {},
   "outputs": [],
   "source": [
    "# modi_ji = int(input(\"first number : \")) \n",
    "# u = int(input(\"second number : \")) \n",
    "# calc(4, 2)"
   ]
  },
  {
   "cell_type": "code",
   "execution_count": 106,
   "id": "522cbf40-f677-4ef7-9992-e9733f7dc377",
   "metadata": {},
   "outputs": [],
   "source": [
    "# calc(4, 2)"
   ]
  },
  {
   "cell_type": "code",
   "execution_count": 102,
   "id": "570158ec-485f-4e8d-bfc9-c5dc3709e520",
   "metadata": {},
   "outputs": [
    {
     "data": {
      "text/plain": [
       "8"
      ]
     },
     "execution_count": 102,
     "metadata": {},
     "output_type": "execute_result"
    }
   ],
   "source": [
    "t"
   ]
  },
  {
   "cell_type": "code",
   "execution_count": 115,
   "id": "4e21731f-79cf-4cd3-ad8e-1d31106b8d25",
   "metadata": {},
   "outputs": [],
   "source": [
    "# Make a function that will find the average of three numbers"
   ]
  },
  {
   "cell_type": "code",
   "execution_count": null,
   "id": "3100740d-549a-4371-952b-3c7f21620dd1",
   "metadata": {},
   "outputs": [],
   "source": []
  }
 ],
 "metadata": {
  "kernelspec": {
   "display_name": "Python 3 (ipykernel)",
   "language": "python",
   "name": "python3"
  },
  "language_info": {
   "codemirror_mode": {
    "name": "ipython",
    "version": 3
   },
   "file_extension": ".py",
   "mimetype": "text/x-python",
   "name": "python",
   "nbconvert_exporter": "python",
   "pygments_lexer": "ipython3",
   "version": "3.12.7"
  }
 },
 "nbformat": 4,
 "nbformat_minor": 5
}
