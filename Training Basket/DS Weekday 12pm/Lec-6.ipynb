{
 "cells": [
  {
   "cell_type": "code",
   "execution_count": 1,
   "id": "3c3838e0-021e-4e29-9d2e-f964ccbac844",
   "metadata": {},
   "outputs": [
    {
     "name": "stdin",
     "output_type": "stream",
     "text": [
      "Enter the value 8\n",
      "Enter the value 2\n"
     ]
    },
    {
     "name": "stdout",
     "output_type": "stream",
     "text": [
      "Quotient and Remainder of the two number: (4.0, 0)\n"
     ]
    }
   ],
   "source": [
    "def lulu():\n",
    "\n",
    "  a = int(input(\"Enter the value\"))\n",
    "\n",
    "  b = int(input(\"Enter the value\"))\n",
    "\n",
    "  formula = a/b,a%b\n",
    "\n",
    "  return formula\n",
    "\n",
    "formula = lulu()\n",
    "\n",
    "print(\"Quotient and Remainder of the two number:\",formula)\n",
    "\n",
    "\n",
    "\n",
    "\n"
   ]
  },
  {
   "cell_type": "code",
   "execution_count": 2,
   "id": "ed2d41a1-b388-488b-872f-034bed71b335",
   "metadata": {},
   "outputs": [
    {
     "name": "stdin",
     "output_type": "stream",
     "text": [
      "Enter your first number :  8\n",
      "Enter your first number : 2\n"
     ]
    },
    {
     "data": {
      "text/plain": [
       "(0, 4)"
      ]
     },
     "execution_count": 2,
     "metadata": {},
     "output_type": "execute_result"
    }
   ],
   "source": [
    "def remender(a,b):\n",
    "\n",
    "  return a%b , a//b\n",
    "\n",
    "remender( int(input(\"Enter your first number : \")) , int(input(\"Enter your first number :\" )))"
   ]
  },
  {
   "cell_type": "code",
   "execution_count": 15,
   "id": "014271ed-8594-461c-b3a1-5103b7959e97",
   "metadata": {},
   "outputs": [],
   "source": [
    "def QR(a,b):\n",
    "    reminder = a%b\n",
    "    qoutiont = a//b\n",
    "    return reminder, qoutiont"
   ]
  },
  {
   "cell_type": "code",
   "execution_count": 4,
   "id": "60ede4e8-28c6-4d76-b432-b310d6755166",
   "metadata": {},
   "outputs": [
    {
     "name": "stdin",
     "output_type": "stream",
     "text": [
      "enter your dividend =  22\n",
      "enter your divisor =  2\n"
     ]
    }
   ],
   "source": [
    "a = int(input(\"enter your dividend = \"))\n",
    "b = int(input(\"enter your divisor = \"))"
   ]
  },
  {
   "cell_type": "code",
   "execution_count": 5,
   "id": "481d5539-6d3c-433d-94ee-f25983b852e1",
   "metadata": {},
   "outputs": [
    {
     "data": {
      "text/plain": [
       "(22, 2)"
      ]
     },
     "execution_count": 5,
     "metadata": {},
     "output_type": "execute_result"
    }
   ],
   "source": [
    "a,b"
   ]
  },
  {
   "cell_type": "code",
   "execution_count": 14,
   "id": "466b13dd-a88a-4333-ae3d-e0e650fac36d",
   "metadata": {},
   "outputs": [],
   "source": [
    "reminder , qoutiont = QR(a, b)"
   ]
  },
  {
   "cell_type": "code",
   "execution_count": 11,
   "id": "d842723c-74b4-425c-968e-370f1f427eb7",
   "metadata": {},
   "outputs": [
    {
     "data": {
      "text/plain": [
       "0"
      ]
     },
     "execution_count": 11,
     "metadata": {},
     "output_type": "execute_result"
    }
   ],
   "source": [
    "r"
   ]
  },
  {
   "cell_type": "code",
   "execution_count": 9,
   "id": "d4b913cf-4db9-4908-b011-4726a8bd9fac",
   "metadata": {},
   "outputs": [
    {
     "data": {
      "text/plain": [
       "11"
      ]
     },
     "execution_count": 9,
     "metadata": {},
     "output_type": "execute_result"
    }
   ],
   "source": [
    "qoutiont"
   ]
  },
  {
   "cell_type": "code",
   "execution_count": 13,
   "id": "b7a641a0-e175-4de6-bfdf-6a893a2e2a66",
   "metadata": {},
   "outputs": [
    {
     "data": {
      "text/plain": [
       "(2, 1)"
      ]
     },
     "execution_count": 13,
     "metadata": {},
     "output_type": "execute_result"
    }
   ],
   "source": [
    "def func(a,b):\n",
    "\n",
    "  return (a%b),(a//b)\n",
    "\n",
    "func(5,3)"
   ]
  },
  {
   "cell_type": "code",
   "execution_count": 16,
   "id": "d235e470-4927-4427-9da1-12888f87bbcb",
   "metadata": {},
   "outputs": [],
   "source": [
    "reminder , qoutiont = QR(b, a)"
   ]
  },
  {
   "cell_type": "code",
   "execution_count": 17,
   "id": "03695584-43ca-432e-bd05-523f03382f7b",
   "metadata": {},
   "outputs": [
    {
     "data": {
      "text/plain": [
       "2"
      ]
     },
     "execution_count": 17,
     "metadata": {},
     "output_type": "execute_result"
    }
   ],
   "source": [
    "reminder"
   ]
  },
  {
   "cell_type": "code",
   "execution_count": 18,
   "id": "004abe7c-f292-4d29-a11e-3bde579719e9",
   "metadata": {},
   "outputs": [
    {
     "data": {
      "text/plain": [
       "0"
      ]
     },
     "execution_count": 18,
     "metadata": {},
     "output_type": "execute_result"
    }
   ],
   "source": [
    "qoutiont"
   ]
  },
  {
   "cell_type": "code",
   "execution_count": 19,
   "id": "5ed5d93e-8a7f-4477-a849-722cddd5eeec",
   "metadata": {},
   "outputs": [],
   "source": [
    "# make a function that will return me the value of a check is that value lie between 20-50"
   ]
  },
  {
   "cell_type": "code",
   "execution_count": 20,
   "id": "4644fd4c-0513-4f52-889a-a80d5e345291",
   "metadata": {},
   "outputs": [
    {
     "name": "stdin",
     "output_type": "stream",
     "text": [
      "enter your choice number :  76\n"
     ]
    },
    {
     "name": "stdout",
     "output_type": "stream",
     "text": [
      "False\n"
     ]
    }
   ],
   "source": [
    "def between(a):\n",
    "\n",
    "  print(a>=20 and a<=50)\n",
    "\n",
    "between(int(input(\"enter your choice number : \")))"
   ]
  },
  {
   "cell_type": "code",
   "execution_count": 21,
   "id": "20398437-c844-4112-b8f3-4d79eb23fbac",
   "metadata": {},
   "outputs": [
    {
     "name": "stdin",
     "output_type": "stream",
     "text": [
      "enter the value 51\n"
     ]
    },
    {
     "data": {
      "text/plain": [
       "False"
      ]
     },
     "execution_count": 21,
     "metadata": {},
     "output_type": "execute_result"
    }
   ],
   "source": [
    "def chicago():\n",
    "\n",
    "  a = int(input(\"enter the value\"))\n",
    "\n",
    "  return 20<a and a<50\n",
    "\n",
    "chicago()"
   ]
  },
  {
   "cell_type": "code",
   "execution_count": 23,
   "id": "417e5b3f-3b6b-4cd7-8c98-15d06d96b8a1",
   "metadata": {},
   "outputs": [
    {
     "data": {
      "text/plain": [
       "True"
      ]
     },
     "execution_count": 23,
     "metadata": {},
     "output_type": "execute_result"
    }
   ],
   "source": [
    "def func(a):\n",
    "\n",
    "  return 20<a<50\n",
    "\n",
    "func(30)"
   ]
  },
  {
   "cell_type": "code",
   "execution_count": 24,
   "id": "91278700-1844-4caa-ae0b-542c00bae2e0",
   "metadata": {},
   "outputs": [],
   "source": [
    "def check(a):\n",
    "    l = a>20 and a<50\n",
    "    return l"
   ]
  },
  {
   "cell_type": "code",
   "execution_count": 26,
   "id": "7f70de7f-397e-4a08-a3e6-d6d80b150cfb",
   "metadata": {},
   "outputs": [
    {
     "data": {
      "text/plain": [
       "True"
      ]
     },
     "execution_count": 26,
     "metadata": {},
     "output_type": "execute_result"
    }
   ],
   "source": [
    "check(26)"
   ]
  },
  {
   "cell_type": "code",
   "execution_count": null,
   "id": "1771fe4b-9cf8-44d9-aa45-7bc88869c66c",
   "metadata": {},
   "outputs": [],
   "source": []
  }
 ],
 "metadata": {
  "kernelspec": {
   "display_name": "Python 3 (ipykernel)",
   "language": "python",
   "name": "python3"
  },
  "language_info": {
   "codemirror_mode": {
    "name": "ipython",
    "version": 3
   },
   "file_extension": ".py",
   "mimetype": "text/x-python",
   "name": "python",
   "nbconvert_exporter": "python",
   "pygments_lexer": "ipython3",
   "version": "3.12.7"
  }
 },
 "nbformat": 4,
 "nbformat_minor": 5
}
