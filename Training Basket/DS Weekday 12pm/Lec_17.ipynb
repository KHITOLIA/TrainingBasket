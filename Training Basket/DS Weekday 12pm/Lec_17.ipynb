{
 "cells": [
  {
   "cell_type": "code",
   "execution_count": 1,
   "id": "27cefc94-836d-4a98-bab1-51f85d994335",
   "metadata": {},
   "outputs": [],
   "source": [
    "# list : collection of heterogenous datatypes"
   ]
  },
  {
   "cell_type": "code",
   "execution_count": 2,
   "id": "e0666452-e8b8-4a64-b2ca-e6ba8e71f8ee",
   "metadata": {},
   "outputs": [],
   "source": [
    "l = [1, 3.4, True, 'Training Basket', [2, 3, 4, 5], range(5)]"
   ]
  },
  {
   "cell_type": "code",
   "execution_count": 3,
   "id": "7a9a2fb1-3913-46be-81f7-0c339ee433d9",
   "metadata": {},
   "outputs": [
    {
     "data": {
      "text/plain": [
       "list"
      ]
     },
     "execution_count": 3,
     "metadata": {},
     "output_type": "execute_result"
    }
   ],
   "source": [
    "type(l)"
   ]
  },
  {
   "cell_type": "code",
   "execution_count": 4,
   "id": "3bcc3ddf-9e77-46b7-95e5-6617f58266cf",
   "metadata": {},
   "outputs": [
    {
     "data": {
      "text/plain": [
       "'h'"
      ]
     },
     "execution_count": 4,
     "metadata": {},
     "output_type": "execute_result"
    }
   ],
   "source": [
    "st = 'hello'\n",
    "st[0]"
   ]
  },
  {
   "cell_type": "code",
   "execution_count": 5,
   "id": "6697f030-4b8d-4c29-93b9-1d45b98e4854",
   "metadata": {},
   "outputs": [
    {
     "data": {
      "text/plain": [
       "[2, 3, 4, 5]"
      ]
     },
     "execution_count": 5,
     "metadata": {},
     "output_type": "execute_result"
    }
   ],
   "source": [
    "l[4]"
   ]
  },
  {
   "cell_type": "code",
   "execution_count": 6,
   "id": "81e8f2c2-8e6a-4029-b225-c7b8b0ec4cd7",
   "metadata": {},
   "outputs": [
    {
     "data": {
      "text/plain": [
       "1"
      ]
     },
     "execution_count": 6,
     "metadata": {},
     "output_type": "execute_result"
    }
   ],
   "source": [
    "l[0]"
   ]
  },
  {
   "cell_type": "code",
   "execution_count": 7,
   "id": "36c85518-f7d3-4d07-a82e-792b0b0b6e5c",
   "metadata": {},
   "outputs": [
    {
     "data": {
      "text/plain": [
       "True"
      ]
     },
     "execution_count": 7,
     "metadata": {},
     "output_type": "execute_result"
    }
   ],
   "source": [
    "l[2]"
   ]
  },
  {
   "cell_type": "code",
   "execution_count": 10,
   "id": "83158ed0-b47e-4b11-bb96-978bbdda7264",
   "metadata": {},
   "outputs": [
    {
     "data": {
      "text/plain": [
       "range(0, 5)"
      ]
     },
     "execution_count": 10,
     "metadata": {},
     "output_type": "execute_result"
    }
   ],
   "source": [
    "l[5]"
   ]
  },
  {
   "cell_type": "code",
   "execution_count": 11,
   "id": "e8937723-e6b6-495c-bf5f-73727760797d",
   "metadata": {},
   "outputs": [
    {
     "data": {
      "text/plain": [
       "5"
      ]
     },
     "execution_count": 11,
     "metadata": {},
     "output_type": "execute_result"
    }
   ],
   "source": [
    "len(st)"
   ]
  },
  {
   "cell_type": "code",
   "execution_count": 12,
   "id": "e31e38dd-0a31-4dd3-86ea-a3619ca290f6",
   "metadata": {},
   "outputs": [
    {
     "data": {
      "text/plain": [
       "6"
      ]
     },
     "execution_count": 12,
     "metadata": {},
     "output_type": "execute_result"
    }
   ],
   "source": [
    "len(l)"
   ]
  },
  {
   "cell_type": "code",
   "execution_count": 13,
   "id": "a8bd4712-9eda-47d4-8761-5516a3e68f64",
   "metadata": {},
   "outputs": [
    {
     "name": "stdout",
     "output_type": "stream",
     "text": [
      "h\n",
      "e\n",
      "l\n",
      "l\n",
      "o\n"
     ]
    }
   ],
   "source": [
    "for i in st:\n",
    "    print(i\n",
    "         )"
   ]
  },
  {
   "cell_type": "code",
   "execution_count": 14,
   "id": "39c46bcf-93eb-43eb-a94e-6081fa9f44cb",
   "metadata": {},
   "outputs": [
    {
     "name": "stdout",
     "output_type": "stream",
     "text": [
      "1\n",
      "3.4\n",
      "True\n",
      "Training Basket\n",
      "[2, 3, 4, 5]\n",
      "range(0, 5)\n"
     ]
    }
   ],
   "source": [
    "for i in l:\n",
    "    print(i)"
   ]
  },
  {
   "cell_type": "code",
   "execution_count": 19,
   "id": "675d719c-ebc0-4c03-ab44-35d49624425e",
   "metadata": {},
   "outputs": [
    {
     "name": "stdout",
     "output_type": "stream",
     "text": [
      "T\n",
      "r\n",
      "a\n",
      "i\n",
      "n\n",
      "i\n",
      "n\n",
      "g\n",
      " \n",
      "B\n",
      "a\n",
      "s\n",
      "k\n",
      "e\n",
      "t\n"
     ]
    }
   ],
   "source": [
    "for i in l[3]:\n",
    "    print(i)"
   ]
  },
  {
   "cell_type": "code",
   "execution_count": 20,
   "id": "7f0bab89-88fa-4f7b-9c2a-d4ec803a717a",
   "metadata": {},
   "outputs": [],
   "source": [
    "l.append(0)"
   ]
  },
  {
   "cell_type": "code",
   "execution_count": 21,
   "id": "670b2a43-fa50-4c27-a3ec-ee028311c3bf",
   "metadata": {},
   "outputs": [
    {
     "data": {
      "text/plain": [
       "[1, 3.4, True, 'Training Basket', [2, 3, 4, 5], range(0, 5), 0]"
      ]
     },
     "execution_count": 21,
     "metadata": {},
     "output_type": "execute_result"
    }
   ],
   "source": [
    "l"
   ]
  },
  {
   "cell_type": "code",
   "execution_count": 22,
   "id": "ca683ea0-ca54-4df6-b162-0d3d7707225e",
   "metadata": {},
   "outputs": [],
   "source": [
    "l.append('Naveen')"
   ]
  },
  {
   "cell_type": "code",
   "execution_count": 23,
   "id": "5c424007-3532-4df2-a32d-ee6635b3f43c",
   "metadata": {},
   "outputs": [
    {
     "data": {
      "text/plain": [
       "[1, 3.4, True, 'Training Basket', [2, 3, 4, 5], range(0, 5), 0, 'Naveen']"
      ]
     },
     "execution_count": 23,
     "metadata": {},
     "output_type": "execute_result"
    }
   ],
   "source": [
    "l"
   ]
  },
  {
   "cell_type": "code",
   "execution_count": 24,
   "id": "cda05fa8-4416-4aee-b4fd-6fe5fadb860c",
   "metadata": {},
   "outputs": [],
   "source": [
    "l.insert(2, 10)"
   ]
  },
  {
   "cell_type": "code",
   "execution_count": 25,
   "id": "ed89f545-9240-4191-89c7-5ab2b0886dc4",
   "metadata": {},
   "outputs": [
    {
     "data": {
      "text/plain": [
       "[1, 3.4, 10, True, 'Training Basket', [2, 3, 4, 5], range(0, 5), 0, 'Naveen']"
      ]
     },
     "execution_count": 25,
     "metadata": {},
     "output_type": "execute_result"
    }
   ],
   "source": [
    "l"
   ]
  },
  {
   "cell_type": "code",
   "execution_count": 26,
   "id": "bf6173c9-df39-4b37-9951-4f19b1e9ef68",
   "metadata": {},
   "outputs": [
    {
     "data": {
      "text/plain": [
       "[1, 3.4, 10, True, 'Training Basket', [2, 3, 4, 5], range(0, 5), 0, 'Naveen']"
      ]
     },
     "execution_count": 26,
     "metadata": {},
     "output_type": "execute_result"
    }
   ],
   "source": [
    "l"
   ]
  },
  {
   "cell_type": "code",
   "execution_count": 27,
   "id": "343dc532-d172-4895-9360-7cf749feea3f",
   "metadata": {},
   "outputs": [
    {
     "data": {
      "text/plain": [
       "['Naveen', 0, range(0, 5), [2, 3, 4, 5], 'Training Basket', True, 10, 3.4, 1]"
      ]
     },
     "execution_count": 27,
     "metadata": {},
     "output_type": "execute_result"
    }
   ],
   "source": [
    "l[::-1]"
   ]
  },
  {
   "cell_type": "code",
   "execution_count": 28,
   "id": "4f6d8b1b-6c9d-47c8-ac65-2bdd2b984b6a",
   "metadata": {},
   "outputs": [],
   "source": [
    "a = []\n",
    "for i in l:\n",
    "    a.insert(0, i)"
   ]
  },
  {
   "cell_type": "code",
   "execution_count": 29,
   "id": "bd07753c-77bf-4683-998c-b1256960b99b",
   "metadata": {},
   "outputs": [
    {
     "data": {
      "text/plain": [
       "['Naveen', 0, range(0, 5), [2, 3, 4, 5], 'Training Basket', True, 10, 3.4, 1]"
      ]
     },
     "execution_count": 29,
     "metadata": {},
     "output_type": "execute_result"
    }
   ],
   "source": [
    "a"
   ]
  },
  {
   "cell_type": "code",
   "execution_count": 30,
   "id": "6fcd6ba2-bc80-498d-8d56-9190509c3b8e",
   "metadata": {},
   "outputs": [
    {
     "data": {
      "text/plain": [
       "['Naveen', 0, range(0, 5), [2, 3, 4, 5], 'Training Basket', True, 10, 3.4, 1]"
      ]
     },
     "execution_count": 30,
     "metadata": {},
     "output_type": "execute_result"
    }
   ],
   "source": [
    "a"
   ]
  },
  {
   "cell_type": "code",
   "execution_count": 31,
   "id": "101054d9-2a24-40d1-8ebb-f3cc13453a46",
   "metadata": {},
   "outputs": [
    {
     "data": {
      "text/plain": [
       "1"
      ]
     },
     "execution_count": 31,
     "metadata": {},
     "output_type": "execute_result"
    }
   ],
   "source": [
    "a.pop()"
   ]
  },
  {
   "cell_type": "code",
   "execution_count": 32,
   "id": "129414f3-effc-48b7-a490-c9c3df987441",
   "metadata": {},
   "outputs": [
    {
     "data": {
      "text/plain": [
       "['Naveen', 0, range(0, 5), [2, 3, 4, 5], 'Training Basket', True, 10, 3.4]"
      ]
     },
     "execution_count": 32,
     "metadata": {},
     "output_type": "execute_result"
    }
   ],
   "source": [
    "a"
   ]
  },
  {
   "cell_type": "code",
   "execution_count": 33,
   "id": "a0c34d0f-d3ac-4f30-8dc1-9e862bce0973",
   "metadata": {},
   "outputs": [
    {
     "data": {
      "text/plain": [
       "3.4"
      ]
     },
     "execution_count": 33,
     "metadata": {},
     "output_type": "execute_result"
    }
   ],
   "source": [
    "a.pop()"
   ]
  },
  {
   "cell_type": "code",
   "execution_count": 34,
   "id": "d2294e78-9aa7-4624-93df-6196a28d1af3",
   "metadata": {},
   "outputs": [
    {
     "data": {
      "text/plain": [
       "'Training Basket'"
      ]
     },
     "execution_count": 34,
     "metadata": {},
     "output_type": "execute_result"
    }
   ],
   "source": [
    "a.pop(4)"
   ]
  },
  {
   "cell_type": "code",
   "execution_count": 35,
   "id": "a59e8d1c-1ad6-45e8-8f1c-31eff41c2581",
   "metadata": {},
   "outputs": [
    {
     "data": {
      "text/plain": [
       "['Naveen', 0, range(0, 5), [2, 3, 4, 5], True, 10]"
      ]
     },
     "execution_count": 35,
     "metadata": {},
     "output_type": "execute_result"
    }
   ],
   "source": [
    "a"
   ]
  },
  {
   "cell_type": "code",
   "execution_count": 36,
   "id": "c7c4654c-a13c-4ed1-9e57-8520b7952193",
   "metadata": {},
   "outputs": [],
   "source": [
    "a.remove(True)"
   ]
  },
  {
   "cell_type": "code",
   "execution_count": 37,
   "id": "85d5ff45-fbc1-451b-ab0e-e1b228ef886a",
   "metadata": {},
   "outputs": [
    {
     "data": {
      "text/plain": [
       "['Naveen', 0, range(0, 5), [2, 3, 4, 5], 10]"
      ]
     },
     "execution_count": 37,
     "metadata": {},
     "output_type": "execute_result"
    }
   ],
   "source": [
    "a"
   ]
  },
  {
   "cell_type": "code",
   "execution_count": 38,
   "id": "9dbc27d8-3958-4ac0-95b7-75d8c3459265",
   "metadata": {},
   "outputs": [],
   "source": [
    "a.append(0)"
   ]
  },
  {
   "cell_type": "code",
   "execution_count": 39,
   "id": "2c4bdd25-1f59-469c-96f9-be54563a27b8",
   "metadata": {},
   "outputs": [
    {
     "data": {
      "text/plain": [
       "['Naveen', 0, range(0, 5), [2, 3, 4, 5], 10, 0]"
      ]
     },
     "execution_count": 39,
     "metadata": {},
     "output_type": "execute_result"
    }
   ],
   "source": [
    "a"
   ]
  },
  {
   "cell_type": "code",
   "execution_count": 40,
   "id": "58008f71-6b1b-4ba2-88ad-05e2b669e600",
   "metadata": {},
   "outputs": [],
   "source": [
    "a.remove(0)"
   ]
  },
  {
   "cell_type": "code",
   "execution_count": 41,
   "id": "4f6d81f4-2c91-4c02-86fb-8fa81bfbd433",
   "metadata": {},
   "outputs": [
    {
     "data": {
      "text/plain": [
       "['Naveen', range(0, 5), [2, 3, 4, 5], 10, 0]"
      ]
     },
     "execution_count": 41,
     "metadata": {},
     "output_type": "execute_result"
    }
   ],
   "source": [
    "a"
   ]
  },
  {
   "cell_type": "code",
   "execution_count": 42,
   "id": "fa847f08-8996-4199-89e0-a342da8e19bc",
   "metadata": {},
   "outputs": [],
   "source": [
    "a = str(a)"
   ]
  },
  {
   "cell_type": "code",
   "execution_count": 44,
   "id": "be57e4d6-fcc3-474e-be50-f9d60ae6e378",
   "metadata": {},
   "outputs": [
    {
     "data": {
      "text/plain": [
       "'['"
      ]
     },
     "execution_count": 44,
     "metadata": {},
     "output_type": "execute_result"
    }
   ],
   "source": [
    "a[0]"
   ]
  },
  {
   "cell_type": "code",
   "execution_count": 45,
   "id": "242ea62b-06ca-4c20-8f21-baf88c843c29",
   "metadata": {},
   "outputs": [],
   "source": [
    "a = list(a)"
   ]
  },
  {
   "cell_type": "code",
   "execution_count": 51,
   "id": "5b181112-8c85-4a63-b454-e647efeb6e01",
   "metadata": {},
   "outputs": [
    {
     "data": {
      "text/plain": [
       "[1, 3.4, 10, True, 'Training Basket', [2, 3, 4, 5], range(0, 5), 0, 'Naveen']"
      ]
     },
     "execution_count": 51,
     "metadata": {},
     "output_type": "execute_result"
    }
   ],
   "source": [
    "l"
   ]
  },
  {
   "cell_type": "code",
   "execution_count": 52,
   "id": "1a5fa3d4-230d-49cc-8c08-393f7294a3a9",
   "metadata": {},
   "outputs": [],
   "source": [
    "l.reverse()"
   ]
  },
  {
   "cell_type": "code",
   "execution_count": 53,
   "id": "f3a29a31-a4f0-474c-9b1f-098a92c43a52",
   "metadata": {},
   "outputs": [
    {
     "data": {
      "text/plain": [
       "['Naveen', 0, range(0, 5), [2, 3, 4, 5], 'Training Basket', True, 10, 3.4, 1]"
      ]
     },
     "execution_count": 53,
     "metadata": {},
     "output_type": "execute_result"
    }
   ],
   "source": [
    "l"
   ]
  },
  {
   "cell_type": "code",
   "execution_count": 54,
   "id": "4fa7dd30-a79e-4095-a922-2ade13b2d0fb",
   "metadata": {},
   "outputs": [
    {
     "ename": "TypeError",
     "evalue": "'<' not supported between instances of 'str' and 'float'",
     "output_type": "error",
     "traceback": [
      "\u001b[1;31m---------------------------------------------------------------------------\u001b[0m",
      "\u001b[1;31mTypeError\u001b[0m                                 Traceback (most recent call last)",
      "Cell \u001b[1;32mIn[54], line 1\u001b[0m\n\u001b[1;32m----> 1\u001b[0m \u001b[38;5;28msorted\u001b[39m(l ,reverse \u001b[38;5;241m=\u001b[39m \u001b[38;5;28;01mTrue\u001b[39;00m)\n",
      "\u001b[1;31mTypeError\u001b[0m: '<' not supported between instances of 'str' and 'float'"
     ]
    }
   ],
   "source": [
    "sorted(l ,reverse = True)"
   ]
  },
  {
   "cell_type": "code",
   "execution_count": 55,
   "id": "8f301085-33ba-4f32-919f-cc11175327cb",
   "metadata": {},
   "outputs": [],
   "source": [
    "a = [22, 34, 54, 12, 90]"
   ]
  },
  {
   "cell_type": "code",
   "execution_count": 56,
   "id": "5f215b30-2db1-4b9c-8723-03a65701da79",
   "metadata": {},
   "outputs": [],
   "source": [
    "# find the maximum number from the list"
   ]
  },
  {
   "cell_type": "code",
   "execution_count": 57,
   "id": "f7f30016-c8d2-47c6-8a8e-c4f677d66892",
   "metadata": {},
   "outputs": [
    {
     "data": {
      "text/plain": [
       "['Naveen', 0, range(0, 5), [2, 3, 4, 5], 'Training Basket', True, 10, 3.4, 1]"
      ]
     },
     "execution_count": 57,
     "metadata": {},
     "output_type": "execute_result"
    }
   ],
   "source": [
    "l"
   ]
  },
  {
   "cell_type": "code",
   "execution_count": 59,
   "id": "0d1b417d-b5c1-474b-af0b-0c58c770a45c",
   "metadata": {},
   "outputs": [],
   "source": [
    "l[0] = 'Tushar'"
   ]
  },
  {
   "cell_type": "code",
   "execution_count": 60,
   "id": "8c174b34-4081-42ef-a370-764cb705c296",
   "metadata": {},
   "outputs": [
    {
     "data": {
      "text/plain": [
       "['Tushar', 0, range(0, 5), [2, 3, 4, 5], 'Training Basket', True, 10, 3.4, 1]"
      ]
     },
     "execution_count": 60,
     "metadata": {},
     "output_type": "execute_result"
    }
   ],
   "source": [
    "l"
   ]
  },
  {
   "cell_type": "code",
   "execution_count": 61,
   "id": "1e792ecb-7b80-4c42-b96b-44f87ef692ea",
   "metadata": {},
   "outputs": [],
   "source": [
    "max_ = a[0]"
   ]
  },
  {
   "cell_type": "code",
   "execution_count": 63,
   "id": "d7d2894c-5568-4fb3-9cfd-433efdb9735a",
   "metadata": {},
   "outputs": [
    {
     "data": {
      "text/plain": [
       "[22, 34, 54, 12, 90]"
      ]
     },
     "execution_count": 63,
     "metadata": {},
     "output_type": "execute_result"
    }
   ],
   "source": [
    "[22, 34, 54, 12, 90]"
   ]
  },
  {
   "cell_type": "code",
   "execution_count": 71,
   "id": "808ca40e-1587-4ea4-a80f-421eb2437ab2",
   "metadata": {},
   "outputs": [],
   "source": [
    "max_ = a[0]\n",
    "for i in range(1,len(a)):\n",
    "    if max_ < a[i]:\n",
    "        max_ = a[i]"
   ]
  },
  {
   "cell_type": "code",
   "execution_count": 72,
   "id": "3fb339c5-6bda-4685-816f-a10296b103bb",
   "metadata": {},
   "outputs": [
    {
     "data": {
      "text/plain": [
       "90"
      ]
     },
     "execution_count": 72,
     "metadata": {},
     "output_type": "execute_result"
    }
   ],
   "source": [
    "max_"
   ]
  },
  {
   "cell_type": "code",
   "execution_count": 74,
   "id": "b57bc5da-5366-4268-a8dc-845d47831125",
   "metadata": {},
   "outputs": [],
   "source": [
    "a = [2, 2, 2, 3, 4, 4, 5, 5, 5, 6, 6,6]\n",
    "b = [1, 3, 4,  6, 7, 10]"
   ]
  },
  {
   "cell_type": "code",
   "execution_count": 75,
   "id": "1c671c85-7519-46bc-8fd8-831e53fb0c27",
   "metadata": {},
   "outputs": [
    {
     "name": "stdout",
     "output_type": "stream",
     "text": [
      "dublicate number [2, 3, 4, 5, 6]\n"
     ]
    }
   ],
   "source": [
    "a = [2,2,2,3,4,4,5,5,6,6,6]\n",
    "\n",
    "mishra = []\n",
    "\n",
    "for ram in a:\n",
    "\n",
    "    if ram not in mishra:\n",
    "\n",
    "        mishra.append(ram)\n",
    "\n",
    "print(\"dublicate number\", mishra)"
   ]
  },
  {
   "cell_type": "code",
   "execution_count": 76,
   "id": "241c623a-a5f6-4641-a283-a2166a1820f2",
   "metadata": {},
   "outputs": [
    {
     "name": "stdout",
     "output_type": "stream",
     "text": [
      "3\n",
      "4\n",
      "4\n",
      "6\n",
      "6\n",
      "6\n"
     ]
    }
   ],
   "source": [
    "a = [2,2,2,3,4,4,5,5,5,6,6,6]\n",
    "\n",
    "b = [1,3,4,6,7,10]\n",
    "\n",
    "for i in a:\n",
    "\n",
    "  for j in b:\n",
    "\n",
    "    if i == j:\n",
    "\n",
    "      print(i)"
   ]
  },
  {
   "cell_type": "code",
   "execution_count": 78,
   "id": "c5d63927-2fde-44f7-ba5c-930ae58e3ac7",
   "metadata": {},
   "outputs": [],
   "source": [
    "# a : count the frequency of each item"
   ]
  },
  {
   "cell_type": "code",
   "execution_count": 79,
   "id": "e02afca0-8514-4e36-97c3-bafd50502221",
   "metadata": {},
   "outputs": [
    {
     "data": {
      "text/plain": [
       "[2, 2, 2, 3, 4, 4, 5, 5, 5, 6, 6, 6]"
      ]
     },
     "execution_count": 79,
     "metadata": {},
     "output_type": "execute_result"
    }
   ],
   "source": [
    "a"
   ]
  },
  {
   "cell_type": "code",
   "execution_count": null,
   "id": "44834077-d89a-4b54-8241-b30f10a62615",
   "metadata": {},
   "outputs": [],
   "source": []
  },
  {
   "cell_type": "code",
   "execution_count": null,
   "id": "2eddfd9c-1541-413a-a23e-6f108c6d68ca",
   "metadata": {},
   "outputs": [],
   "source": []
  }
 ],
 "metadata": {
  "kernelspec": {
   "display_name": "Python 3 (ipykernel)",
   "language": "python",
   "name": "python3"
  },
  "language_info": {
   "codemirror_mode": {
    "name": "ipython",
    "version": 3
   },
   "file_extension": ".py",
   "mimetype": "text/x-python",
   "name": "python",
   "nbconvert_exporter": "python",
   "pygments_lexer": "ipython3",
   "version": "3.12.7"
  }
 },
 "nbformat": 4,
 "nbformat_minor": 5
}
