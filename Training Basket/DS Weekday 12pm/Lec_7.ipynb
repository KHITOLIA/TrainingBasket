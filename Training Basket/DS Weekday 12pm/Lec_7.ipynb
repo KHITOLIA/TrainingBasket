{
 "cells": [
  {
   "cell_type": "code",
   "execution_count": 1,
   "id": "dbc9b437-e887-47fd-a97b-ddcf853bcf72",
   "metadata": {},
   "outputs": [],
   "source": [
    "a = 10"
   ]
  },
  {
   "cell_type": "code",
   "execution_count": 4,
   "id": "47109a2c-aa01-433f-803d-64643bcf9ff6",
   "metadata": {},
   "outputs": [],
   "source": [
    "if a > 20:\n",
    "    print(\"Hello\")"
   ]
  },
  {
   "cell_type": "code",
   "execution_count": 5,
   "id": "fb8180c0-30ad-4623-8440-adb5d47b8125",
   "metadata": {},
   "outputs": [
    {
     "name": "stdout",
     "output_type": "stream",
     "text": [
      "Hello\n"
     ]
    }
   ],
   "source": [
    "if a < 20:\n",
    "    print(\"Hello\")"
   ]
  },
  {
   "cell_type": "code",
   "execution_count": 6,
   "id": "314ee1ed-d271-4437-b9d7-51faac2f664d",
   "metadata": {},
   "outputs": [
    {
     "name": "stdout",
     "output_type": "stream",
     "text": [
      "Shivam\n"
     ]
    }
   ],
   "source": [
    "if a > 4 or a < 20:\n",
    "    print('Shivam')"
   ]
  },
  {
   "cell_type": "code",
   "execution_count": 9,
   "id": "fd786b0b-9cbd-4fb3-b77e-98ec2ea0466d",
   "metadata": {},
   "outputs": [
    {
     "name": "stdout",
     "output_type": "stream",
     "text": [
      "Shivam\n"
     ]
    }
   ],
   "source": [
    "if a > 4 and a > 20 or a > 1:\n",
    "    print('Shivam')"
   ]
  },
  {
   "cell_type": "code",
   "execution_count": 13,
   "id": "18509c4e-d62b-4c54-b0c6-312b4d809438",
   "metadata": {},
   "outputs": [
    {
     "name": "stdout",
     "output_type": "stream",
     "text": [
      "hello\n",
      "hi\n"
     ]
    }
   ],
   "source": [
    "if a < 12:\n",
    "    print('hello')\n",
    "    if a > 20:\n",
    "        print(\"go\")\n",
    "    elif a > 5:\n",
    "        print('hi')"
   ]
  },
  {
   "cell_type": "code",
   "execution_count": 18,
   "id": "50454d3e-63e1-4b60-ad47-8a59922a354c",
   "metadata": {},
   "outputs": [
    {
     "name": "stdout",
     "output_type": "stream",
     "text": [
      "Noida\n",
      "chal gya\n"
     ]
    }
   ],
   "source": [
    "if a == 20:\n",
    "    print('basket')\n",
    "elif a != 10:\n",
    "    print(\"training\")\n",
    "elif a > 5:\n",
    "    print(\"Noida\")\n",
    "if a < 7:\n",
    "    print(\"let\")\n",
    "elif a < 20:\n",
    "    print(\"chal gya\")\n"
   ]
  },
  {
   "cell_type": "code",
   "execution_count": 24,
   "id": "93c5ac90-f565-4fd7-89e9-ebeaa2a87a72",
   "metadata": {},
   "outputs": [
    {
     "name": "stdout",
     "output_type": "stream",
     "text": [
      "sector 2\n",
      "hi\n"
     ]
    }
   ],
   "source": [
    "if a > 20:\n",
    "    print(\"good\")\n",
    "elif a < 0:\n",
    "    print(\"awesome\")\n",
    "if a < 7:\n",
    "    print(\"hello\")\n",
    "else:\n",
    "    print(\"sector 2\")   \n",
    "if a != 10:\n",
    "    print(\"10\")\n",
    "else:\n",
    "    print(\"hi\")"
   ]
  },
  {
   "cell_type": "markdown",
   "id": "cfc68418-8de4-4e0a-92e7-2e86d68c1e9f",
   "metadata": {},
   "source": [
    "# Take an input and check whether it is odd or even"
   ]
  },
  {
   "cell_type": "code",
   "execution_count": 25,
   "id": "192e6d75-759f-4828-a86d-5da1f0378750",
   "metadata": {},
   "outputs": [
    {
     "name": "stdin",
     "output_type": "stream",
     "text": [
      "enter the number =  10\n"
     ]
    }
   ],
   "source": [
    "a = float(input(\"enter the number = \"))"
   ]
  },
  {
   "cell_type": "code",
   "execution_count": 26,
   "id": "a162aed2-4102-4297-87b4-80cdd5ab6640",
   "metadata": {},
   "outputs": [
    {
     "data": {
      "text/plain": [
       "10.0"
      ]
     },
     "execution_count": 26,
     "metadata": {},
     "output_type": "execute_result"
    }
   ],
   "source": [
    "a"
   ]
  },
  {
   "cell_type": "code",
   "execution_count": 30,
   "id": "b10c9dcf-ae7d-45ed-9044-f35a7df36c5e",
   "metadata": {},
   "outputs": [
    {
     "name": "stdin",
     "output_type": "stream",
     "text": [
      "enter the number =  98\n"
     ]
    },
    {
     "name": "stdout",
     "output_type": "stream",
     "text": [
      "even\n"
     ]
    }
   ],
   "source": [
    "a = float(input(\"enter the number = \"))\n",
    "if a%2 == 0:\n",
    "    print('even')\n",
    "else:\n",
    "    print('odd')"
   ]
  },
  {
   "cell_type": "code",
   "execution_count": 33,
   "id": "336087a6-6942-4ff6-90a9-9236679c244b",
   "metadata": {},
   "outputs": [],
   "source": [
    "# Take two inputs and check which is greater "
   ]
  },
  {
   "cell_type": "code",
   "execution_count": 34,
   "id": "362b6f2d-2861-49e6-bbb4-884d3c877135",
   "metadata": {},
   "outputs": [
    {
     "name": "stdin",
     "output_type": "stream",
     "text": [
      "enter your first number =  5\n",
      "enter your second number =  10\n"
     ]
    }
   ],
   "source": [
    "a = int(input(\"enter your first number = \"))\n",
    "b = int(input(\"enter your second number = \"))"
   ]
  },
  {
   "cell_type": "code",
   "execution_count": 35,
   "id": "f6f43d18-261f-42b1-a09f-e079a8018156",
   "metadata": {},
   "outputs": [
    {
     "name": "stdout",
     "output_type": "stream",
     "text": [
      "second number is greatest\n"
     ]
    }
   ],
   "source": [
    "if a > b:\n",
    "    print(\"first number is greatest\")\n",
    "else:\n",
    "    print(\"second number is greatest\")"
   ]
  },
  {
   "cell_type": "code",
   "execution_count": 37,
   "id": "8b99a6ab-0448-4dff-9305-6e113f300a7e",
   "metadata": {},
   "outputs": [
    {
     "name": "stdin",
     "output_type": "stream",
     "text": [
      "enter your first number =  10\n",
      "enter your second number =  20\n"
     ]
    },
    {
     "name": "stdout",
     "output_type": "stream",
     "text": [
      "20 is greater than 10\n"
     ]
    }
   ],
   "source": [
    "a = int(input(\"enter your first number = \"))\n",
    "b = int(input(\"enter your second number = \"))\n",
    "\n",
    "if a > b:\n",
    "    print(a, \"is greater than\", b)\n",
    "elif a == b:\n",
    "    print(a, \"is equal to\",b)\n",
    "else:\n",
    "    print(b, \"is greater than\", a)"
   ]
  },
  {
   "cell_type": "code",
   "execution_count": 39,
   "id": "ec931303-ed3b-461d-9ca7-44908d1ea07e",
   "metadata": {},
   "outputs": [
    {
     "name": "stdout",
     "output_type": "stream",
     "text": [
      "b is greatest of them\n"
     ]
    }
   ],
   "source": [
    "a = 10\n",
    "b = 191\n",
    "c = 20\n",
    "if a > b and a > c:\n",
    "    print(\"a is greatest of them\")\n",
    "elif b > a and b > c:\n",
    "    print(\"b is greatest of them\")\n",
    "else:\n",
    "    print(\"c is greatest\")"
   ]
  },
  {
   "cell_type": "code",
   "execution_count": 40,
   "id": "a9470a9d-79d3-4257-9da3-0871cd2feba3",
   "metadata": {},
   "outputs": [
    {
     "data": {
      "text/plain": [
       "[1, 2, 3, 1, 2, 3]"
      ]
     },
     "execution_count": 40,
     "metadata": {},
     "output_type": "execute_result"
    }
   ],
   "source": [
    "[1,2,3]*2"
   ]
  },
  {
   "cell_type": "code",
   "execution_count": 42,
   "id": "095a9443-574e-496f-ac45-958b79c2c8d2",
   "metadata": {},
   "outputs": [
    {
     "data": {
      "text/plain": [
       "'A'"
      ]
     },
     "execution_count": 42,
     "metadata": {},
     "output_type": "execute_result"
    }
   ],
   "source": [
    "chr(65)"
   ]
  },
  {
   "cell_type": "code",
   "execution_count": null,
   "id": "7ab64895-89d0-4f9d-b256-a2c8558b20ec",
   "metadata": {},
   "outputs": [],
   "source": []
  }
 ],
 "metadata": {
  "kernelspec": {
   "display_name": "Python 3 (ipykernel)",
   "language": "python",
   "name": "python3"
  },
  "language_info": {
   "codemirror_mode": {
    "name": "ipython",
    "version": 3
   },
   "file_extension": ".py",
   "mimetype": "text/x-python",
   "name": "python",
   "nbconvert_exporter": "python",
   "pygments_lexer": "ipython3",
   "version": "3.12.7"
  }
 },
 "nbformat": 4,
 "nbformat_minor": 5
}
