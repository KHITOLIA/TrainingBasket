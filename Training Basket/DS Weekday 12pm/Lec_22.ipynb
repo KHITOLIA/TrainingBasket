{
 "cells": [
  {
   "cell_type": "code",
   "execution_count": 1,
   "id": "f9bb4f9c-3ce8-4f45-b32a-ff8dd17e5943",
   "metadata": {},
   "outputs": [],
   "source": [
    "file = open('python.txt', 'r')"
   ]
  },
  {
   "cell_type": "code",
   "execution_count": 2,
   "id": "b05eab92-ab19-49e0-a8c3-1af52f1b723d",
   "metadata": {},
   "outputs": [
    {
     "data": {
      "text/plain": [
       "'Hello world\\nMachine learning\\nDeep learning\\nTraining Basket\\nData science and Data analytics course'"
      ]
     },
     "execution_count": 2,
     "metadata": {},
     "output_type": "execute_result"
    }
   ],
   "source": [
    "file.read()"
   ]
  },
  {
   "cell_type": "code",
   "execution_count": 3,
   "id": "9b5e5518-a353-40a9-950b-d6b7a94a12d6",
   "metadata": {},
   "outputs": [
    {
     "data": {
      "text/plain": [
       "''"
      ]
     },
     "execution_count": 3,
     "metadata": {},
     "output_type": "execute_result"
    }
   ],
   "source": [
    "file.read()"
   ]
  },
  {
   "cell_type": "code",
   "execution_count": 4,
   "id": "d689ba95-430f-44a0-b513-18dd926470ce",
   "metadata": {},
   "outputs": [
    {
     "data": {
      "text/plain": [
       "0"
      ]
     },
     "execution_count": 4,
     "metadata": {},
     "output_type": "execute_result"
    }
   ],
   "source": [
    "file.seek(0)"
   ]
  },
  {
   "cell_type": "code",
   "execution_count": 5,
   "id": "79aa6c79-1214-4d43-ac6d-3779e7ccaf54",
   "metadata": {},
   "outputs": [
    {
     "data": {
      "text/plain": [
       "'Hello world\\nMachine learning\\nDeep learning\\nTraining Basket\\nData science and Data analytics course'"
      ]
     },
     "execution_count": 5,
     "metadata": {},
     "output_type": "execute_result"
    }
   ],
   "source": [
    "file.read()"
   ]
  },
  {
   "cell_type": "code",
   "execution_count": 6,
   "id": "08de2a51-3c8a-4b29-bc7e-dc41460b8a3a",
   "metadata": {},
   "outputs": [
    {
     "data": {
      "text/plain": [
       "5"
      ]
     },
     "execution_count": 6,
     "metadata": {},
     "output_type": "execute_result"
    }
   ],
   "source": [
    "file.seek(5)"
   ]
  },
  {
   "cell_type": "code",
   "execution_count": 7,
   "id": "f307779a-d269-43b9-8bec-9131f4f4f214",
   "metadata": {},
   "outputs": [
    {
     "data": {
      "text/plain": [
       "' world\\nMachine learning\\nDeep learning\\nTraining Basket\\nData science and Data analytics course'"
      ]
     },
     "execution_count": 7,
     "metadata": {},
     "output_type": "execute_result"
    }
   ],
   "source": [
    "file.read()"
   ]
  },
  {
   "cell_type": "code",
   "execution_count": 8,
   "id": "e0f42cb6-02d7-40ba-b3bc-5104b28b25b6",
   "metadata": {},
   "outputs": [
    {
     "data": {
      "text/plain": [
       "0"
      ]
     },
     "execution_count": 8,
     "metadata": {},
     "output_type": "execute_result"
    }
   ],
   "source": [
    "file.seek(0)"
   ]
  },
  {
   "cell_type": "code",
   "execution_count": 13,
   "id": "935372cc-caa9-43ec-8437-f0604339d896",
   "metadata": {},
   "outputs": [
    {
     "data": {
      "text/plain": [
       "'Data science and Data analytics course'"
      ]
     },
     "execution_count": 13,
     "metadata": {},
     "output_type": "execute_result"
    }
   ],
   "source": [
    "file.readline()"
   ]
  },
  {
   "cell_type": "code",
   "execution_count": 14,
   "id": "dd1acdd0-5c24-42c0-b395-fa301e2fa9e6",
   "metadata": {},
   "outputs": [
    {
     "data": {
      "text/plain": [
       "0"
      ]
     },
     "execution_count": 14,
     "metadata": {},
     "output_type": "execute_result"
    }
   ],
   "source": [
    "file.seek(0)"
   ]
  },
  {
   "cell_type": "code",
   "execution_count": 15,
   "id": "28242548-2ebf-408b-8dbf-64fe6f287c93",
   "metadata": {},
   "outputs": [],
   "source": [
    "l = file.readlines()"
   ]
  },
  {
   "cell_type": "code",
   "execution_count": 16,
   "id": "7d48aa2e-834a-4b9f-9f3c-4e8a804bdc53",
   "metadata": {},
   "outputs": [
    {
     "data": {
      "text/plain": [
       "['Hello world\\n',\n",
       " 'Machine learning\\n',\n",
       " 'Deep learning\\n',\n",
       " 'Training Basket\\n',\n",
       " 'Data science and Data analytics course']"
      ]
     },
     "execution_count": 16,
     "metadata": {},
     "output_type": "execute_result"
    }
   ],
   "source": [
    "l"
   ]
  },
  {
   "cell_type": "code",
   "execution_count": 17,
   "id": "78e205ea-53fb-44ac-a319-f6666acd8dd3",
   "metadata": {},
   "outputs": [
    {
     "data": {
      "text/plain": [
       "''"
      ]
     },
     "execution_count": 17,
     "metadata": {},
     "output_type": "execute_result"
    }
   ],
   "source": [
    "file.read()"
   ]
  },
  {
   "cell_type": "code",
   "execution_count": 18,
   "id": "c4012bb2-7b12-433b-8f40-02aaad91a32c",
   "metadata": {},
   "outputs": [
    {
     "name": "stdout",
     "output_type": "stream",
     "text": [
      "Hello world\n",
      "\n",
      "Machine learning\n",
      "\n",
      "Deep learning\n",
      "\n",
      "Training Basket\n",
      "\n",
      "Data science and Data analytics course\n"
     ]
    }
   ],
   "source": [
    "for i in l:\n",
    "    print(i)"
   ]
  },
  {
   "cell_type": "code",
   "execution_count": 19,
   "id": "b8bb00a0-e2eb-481a-a25e-ac12382bd17f",
   "metadata": {},
   "outputs": [],
   "source": [
    "file.close()"
   ]
  },
  {
   "cell_type": "code",
   "execution_count": 32,
   "id": "85f6a45f-cf10-4463-b5c7-ec9d93c32081",
   "metadata": {},
   "outputs": [],
   "source": [
    "file = open('python.txt', 'w')"
   ]
  },
  {
   "cell_type": "code",
   "execution_count": 33,
   "id": "b092d65f-356c-4c5f-bf6d-c9668d1062e6",
   "metadata": {},
   "outputs": [
    {
     "data": {
      "text/plain": [
       "15"
      ]
     },
     "execution_count": 33,
     "metadata": {},
     "output_type": "execute_result"
    }
   ],
   "source": [
    "file.write('Training Basket')"
   ]
  },
  {
   "cell_type": "code",
   "execution_count": 34,
   "id": "6331a0f9-1f7b-4b4a-aa65-2c50af4176aa",
   "metadata": {},
   "outputs": [
    {
     "data": {
      "text/plain": [
       "6"
      ]
     },
     "execution_count": 34,
     "metadata": {},
     "output_type": "execute_result"
    }
   ],
   "source": [
    "file.write(\" Noida\")"
   ]
  },
  {
   "cell_type": "code",
   "execution_count": 35,
   "id": "c40592dc-3a4d-479b-b7ec-f84a784b692b",
   "metadata": {},
   "outputs": [],
   "source": [
    "file.close()"
   ]
  },
  {
   "cell_type": "code",
   "execution_count": 36,
   "id": "6ed28473-e891-425d-a09f-edaf3545d932",
   "metadata": {},
   "outputs": [],
   "source": [
    "file = open('python.txt', 'a')"
   ]
  },
  {
   "cell_type": "code",
   "execution_count": 37,
   "id": "2cd8e039-a510-4c0e-9024-60ad424ae2d9",
   "metadata": {},
   "outputs": [
    {
     "data": {
      "text/plain": [
       "16"
      ]
     },
     "execution_count": 37,
     "metadata": {},
     "output_type": "execute_result"
    }
   ],
   "source": [
    "file.write('Tushar khitoliya')"
   ]
  },
  {
   "cell_type": "code",
   "execution_count": 39,
   "id": "1a8f6ff8-d030-4725-89c4-a4df991b134e",
   "metadata": {},
   "outputs": [],
   "source": [
    "file.close()"
   ]
  },
  {
   "cell_type": "code",
   "execution_count": 40,
   "id": "a5ecde26-93a0-438e-9c4b-b98c9cd7cdcb",
   "metadata": {},
   "outputs": [],
   "source": [
    "file = open('ml.txt', 'w')"
   ]
  },
  {
   "cell_type": "code",
   "execution_count": 41,
   "id": "2c251fca-c31f-4937-ae8d-826a298a2aba",
   "metadata": {},
   "outputs": [
    {
     "data": {
      "text/plain": [
       "16"
      ]
     },
     "execution_count": 41,
     "metadata": {},
     "output_type": "execute_result"
    }
   ],
   "source": [
    "file.write('Machine learning')"
   ]
  },
  {
   "cell_type": "code",
   "execution_count": 42,
   "id": "3428b211-6e6a-43fd-ba6c-dc5ce18f3a1a",
   "metadata": {},
   "outputs": [],
   "source": [
    "file.close()"
   ]
  },
  {
   "cell_type": "code",
   "execution_count": 44,
   "id": "d676c8ea-ab12-4a0f-84f0-d5bdfd1581b3",
   "metadata": {},
   "outputs": [
    {
     "data": {
      "text/plain": [
       "1"
      ]
     },
     "execution_count": 44,
     "metadata": {},
     "output_type": "execute_result"
    }
   ],
   "source": [
    "file = open('ml.txt', 'w')\n",
    "file.write('Training Basket')\n",
    "file.write('\\n')"
   ]
  },
  {
   "cell_type": "code",
   "execution_count": 45,
   "id": "1f1115f2-c9f3-42a4-84ee-4ef19d3533d0",
   "metadata": {},
   "outputs": [],
   "source": [
    "file.close()"
   ]
  },
  {
   "cell_type": "code",
   "execution_count": 46,
   "id": "f9c6cf16-f4b8-402c-8cf0-f26d7b2b8364",
   "metadata": {},
   "outputs": [
    {
     "name": "stdout",
     "output_type": "stream",
     "text": [
      "3\n"
     ]
    }
   ],
   "source": [
    "count_full_stop = 0\n",
    "for i in st:\n",
    "    if i == '.':\n",
    "        count_full_stop += 1\n",
    "print(count_full_stop)"
   ]
  },
  {
   "cell_type": "code",
   "execution_count": 65,
   "id": "d9964b07-ca2e-4fcd-8787-58095d5d15dc",
   "metadata": {},
   "outputs": [],
   "source": [
    "st = \"\"\"Machine learning (ML) is a field of Artificial Intelligence (AI) that enables computer systems to learn from data and improve their performance on tasks over time without being explicitly programmed for every situation. \n",
    "By using statistical algorithms to identify patterns and make predictions, ML models can automate decision-making and generate content by analyzing vast datasets.\n",
    "Common applications include recommendation engines, fraud detection, and image classification, with performance directly correlating to the amount and quality of the data used for training.\"\"\""
   ]
  },
  {
   "cell_type": "code",
   "execution_count": 69,
   "id": "923883f9-bbee-4d50-a3e9-1a65b2f81086",
   "metadata": {},
   "outputs": [],
   "source": [
    "file = open('ml.txt', 'w')\n",
    "idx = 0\n",
    "for i in range(len(st)):\n",
    "\n",
    "    if st[i] == '.':\n",
    "        file.write(st[idx : i+1])\n",
    "        idx = i + 1\n",
    "    "
   ]
  },
  {
   "cell_type": "code",
   "execution_count": 70,
   "id": "f5a0ea44-accc-4147-bd22-20967be7fef6",
   "metadata": {},
   "outputs": [],
   "source": [
    "file.close()"
   ]
  },
  {
   "cell_type": "code",
   "execution_count": 71,
   "id": "9bdd1b5a-f75c-4b87-bee4-10fc351bddb4",
   "metadata": {},
   "outputs": [
    {
     "data": {
      "text/plain": [
       "['Machine learning (ML) is a field of Artificial Intelligence (AI) that enables computer systems to learn from data and improve their performance on tasks over time without being explicitly programmed for every situation. \\n',\n",
       " 'By using statistical algorithms to identify patterns and make predictions, ML models can automate decision-making and generate content by analyzing vast datasets.\\n',\n",
       " 'Common applications include recommendation engines, fraud detection, and image classification, with performance directly correlating to the amount and quality of the data used for training.']"
      ]
     },
     "execution_count": 71,
     "metadata": {},
     "output_type": "execute_result"
    }
   ],
   "source": [
    "file = open('ml.txt', 'r')\n",
    "file.readlines()"
   ]
  },
  {
   "cell_type": "code",
   "execution_count": null,
   "id": "9c35d64e-58a8-43cf-98de-7ccc00bf9b6a",
   "metadata": {},
   "outputs": [],
   "source": []
  }
 ],
 "metadata": {
  "kernelspec": {
   "display_name": "Python 3 (ipykernel)",
   "language": "python",
   "name": "python3"
  },
  "language_info": {
   "codemirror_mode": {
    "name": "ipython",
    "version": 3
   },
   "file_extension": ".py",
   "mimetype": "text/x-python",
   "name": "python",
   "nbconvert_exporter": "python",
   "pygments_lexer": "ipython3",
   "version": "3.12.7"
  }
 },
 "nbformat": 4,
 "nbformat_minor": 5
}
