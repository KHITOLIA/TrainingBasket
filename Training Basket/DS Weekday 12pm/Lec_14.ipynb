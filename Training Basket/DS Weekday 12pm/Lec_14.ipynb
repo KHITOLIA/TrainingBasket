{
 "cells": [
  {
   "cell_type": "code",
   "execution_count": 8,
   "id": "646fca72-edf6-4ff9-8421-097a9c99115b",
   "metadata": {},
   "outputs": [
    {
     "name": "stdout",
     "output_type": "stream",
     "text": [
      "8752"
     ]
    }
   ],
   "source": [
    "n = 2578\n",
    "s = str(n)\n",
    "sum_ = 0\n",
    "for i in range(len(s)):\n",
    "    r = n%10\n",
    "    n = n//10\n",
    "    sum_ = sum_ + r\n",
    "    print(r, end = '')"
   ]
  },
  {
   "cell_type": "code",
   "execution_count": 3,
   "id": "dc20cdfb-f765-4f76-bb5f-03cd05f0e6a2",
   "metadata": {},
   "outputs": [
    {
     "name": "stdout",
     "output_type": "stream",
     "text": [
      "4321\n"
     ]
    }
   ],
   "source": [
    "a = 1234\n",
    "\n",
    "b = 0\n",
    "\n",
    "while a > 0:\n",
    "\n",
    "  c = a % 10\n",
    "\n",
    "  b = b * 10 + c\n",
    "\n",
    "  a = a // 10\n",
    "\n",
    "print(b)"
   ]
  },
  {
   "cell_type": "code",
   "execution_count": 6,
   "id": "13f870fc-7de3-4e1f-a6c6-f63de6daa324",
   "metadata": {},
   "outputs": [
    {
     "data": {
      "text/plain": [
       "20"
      ]
     },
     "execution_count": 6,
     "metadata": {},
     "output_type": "execute_result"
    }
   ],
   "source": [
    "digit"
   ]
  },
  {
   "cell_type": "code",
   "execution_count": 9,
   "id": "2a8defec-62f3-453c-a635-9788fd061b24",
   "metadata": {},
   "outputs": [
    {
     "data": {
      "text/plain": [
       "22"
      ]
     },
     "execution_count": 9,
     "metadata": {},
     "output_type": "execute_result"
    }
   ],
   "source": [
    "sum_"
   ]
  },
  {
   "cell_type": "code",
   "execution_count": 10,
   "id": "bb91cfbd-e07c-49e8-b1a0-5a766f084cf2",
   "metadata": {},
   "outputs": [
    {
     "data": {
      "text/plain": [
       "22"
      ]
     },
     "execution_count": 10,
     "metadata": {},
     "output_type": "execute_result"
    }
   ],
   "source": [
    "2 + 5 + 7 + 8"
   ]
  },
  {
   "cell_type": "code",
   "execution_count": 15,
   "id": "1d12a8a3-7c27-4271-97a7-6839cd033bf3",
   "metadata": {},
   "outputs": [],
   "source": [
    "# num = 489\n",
    "\n",
    "# ghj = 0\n",
    "\n",
    "# while num> 0:\n",
    "\n",
    "#     k = num%10\n",
    "\n",
    "#     j = num//10\n",
    "    \n",
    "#     num = num*10+k\n",
    "#     print(k)"
   ]
  },
  {
   "cell_type": "code",
   "execution_count": 16,
   "id": "162df05d-0bc4-4d7c-8652-587599a7a139",
   "metadata": {},
   "outputs": [],
   "source": [
    "num = num*10"
   ]
  },
  {
   "cell_type": "code",
   "execution_count": 17,
   "id": "3f87fc19-2839-4328-aa2a-53acbe1fa83c",
   "metadata": {},
   "outputs": [],
   "source": [
    "l = [1, 4, 7, 9, 6]\n",
    "# find the sum of all the elements"
   ]
  },
  {
   "cell_type": "code",
   "execution_count": 18,
   "id": "ab8c06d7-b701-45ec-9bdf-23ec36179f41",
   "metadata": {},
   "outputs": [
    {
     "name": "stdout",
     "output_type": "stream",
     "text": [
      "27\n"
     ]
    }
   ],
   "source": [
    "a = [1,4,7,9,6]\n",
    "\n",
    "count = 0\n",
    "\n",
    "for i in range(len(a)):\n",
    "\n",
    "  count = count + a[i]\n",
    "\n",
    "print(count)\n",
    "\n"
   ]
  },
  {
   "cell_type": "code",
   "execution_count": 20,
   "id": "e71e9887-93d6-4e5a-b353-5f39e5e81c6f",
   "metadata": {},
   "outputs": [
    {
     "name": "stdout",
     "output_type": "stream",
     "text": [
      "27\n"
     ]
    }
   ],
   "source": [
    "a = [1,4,7,9,6]\n",
    "sum_ = 0\n",
    "for i in range(len(a)):\n",
    "    sum_ = sum_ + a[i]\n",
    "print(sum_)"
   ]
  },
  {
   "cell_type": "code",
   "execution_count": 22,
   "id": "a920443a-6dc3-4a43-9820-cb45a36c2584",
   "metadata": {},
   "outputs": [
    {
     "name": "stdout",
     "output_type": "stream",
     "text": [
      "27\n"
     ]
    }
   ],
   "source": [
    "l = len(a)\n",
    "sum_ = 0\n",
    "i = 0\n",
    "while l>0:\n",
    "    sum_ = sum_ + a[i]\n",
    "    i = i + 1\n",
    "    l = l - 1\n",
    "print(sum_)"
   ]
  },
  {
   "cell_type": "code",
   "execution_count": 24,
   "id": "36119300-e135-4d58-9c45-caa79dee0483",
   "metadata": {},
   "outputs": [],
   "source": [
    "n = 1223399123376\n",
    "# find the count of each unique number"
   ]
  },
  {
   "cell_type": "code",
   "execution_count": null,
   "id": "238ab0ec-1cfd-4524-97b3-a3dbf5f8e322",
   "metadata": {},
   "outputs": [],
   "source": []
  }
 ],
 "metadata": {
  "kernelspec": {
   "display_name": "Python 3 (ipykernel)",
   "language": "python",
   "name": "python3"
  },
  "language_info": {
   "codemirror_mode": {
    "name": "ipython",
    "version": 3
   },
   "file_extension": ".py",
   "mimetype": "text/x-python",
   "name": "python",
   "nbconvert_exporter": "python",
   "pygments_lexer": "ipython3",
   "version": "3.12.7"
  }
 },
 "nbformat": 4,
 "nbformat_minor": 5
}
