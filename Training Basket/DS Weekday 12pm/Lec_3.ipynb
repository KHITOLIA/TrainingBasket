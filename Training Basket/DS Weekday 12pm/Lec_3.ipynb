{
 "cells": [
  {
   "cell_type": "code",
   "execution_count": 4,
   "id": "2af990b5-d50e-4264-8294-98f543a3b145",
   "metadata": {},
   "outputs": [
    {
     "data": {
      "text/plain": [
       "97"
      ]
     },
     "execution_count": 4,
     "metadata": {},
     "output_type": "execute_result"
    }
   ],
   "source": [
    "ord(\"a\")"
   ]
  },
  {
   "cell_type": "code",
   "execution_count": 5,
   "id": "7abf7f6f-e678-4912-a415-3819852d2150",
   "metadata": {},
   "outputs": [
    {
     "data": {
      "text/plain": [
       "'a'"
      ]
     },
     "execution_count": 5,
     "metadata": {},
     "output_type": "execute_result"
    }
   ],
   "source": [
    "chr(97)"
   ]
  },
  {
   "cell_type": "code",
   "execution_count": 11,
   "id": "b1c90a91-2418-47a8-be75-ca6af0259702",
   "metadata": {},
   "outputs": [],
   "source": [
    "def name(a,b):\n",
    "    c = \"hello\"\n",
    "    return  a + b"
   ]
  },
  {
   "cell_type": "code",
   "execution_count": 7,
   "id": "2938b7f6-5985-49f0-9082-9b03a8a09074",
   "metadata": {},
   "outputs": [
    {
     "data": {
      "text/plain": [
       "'helloTusharKhitoliya'"
      ]
     },
     "execution_count": 7,
     "metadata": {},
     "output_type": "execute_result"
    }
   ],
   "source": [
    "name(\"Tushar\", \"Khitoliya\")"
   ]
  },
  {
   "cell_type": "code",
   "execution_count": 12,
   "id": "203334d8-22a0-4c05-9808-3bef7dc212da",
   "metadata": {},
   "outputs": [
    {
     "data": {
      "text/plain": [
       "5"
      ]
     },
     "execution_count": 12,
     "metadata": {},
     "output_type": "execute_result"
    }
   ],
   "source": [
    "name(2, 3)"
   ]
  },
  {
   "cell_type": "code",
   "execution_count": 14,
   "id": "80520307-507c-4568-b472-6649193e594e",
   "metadata": {},
   "outputs": [],
   "source": [
    "my_name = name(\"tushar \", \"Khitoliya\")"
   ]
  },
  {
   "cell_type": "code",
   "execution_count": 15,
   "id": "3cf319a7-bcf2-4ba3-b5fd-07af9498911e",
   "metadata": {},
   "outputs": [
    {
     "data": {
      "text/plain": [
       "'tushar Khitoliya'"
      ]
     },
     "execution_count": 15,
     "metadata": {},
     "output_type": "execute_result"
    }
   ],
   "source": [
    "my_name"
   ]
  },
  {
   "cell_type": "code",
   "execution_count": 23,
   "id": "98e85530-0656-445a-887b-089772a08cc4",
   "metadata": {},
   "outputs": [
    {
     "data": {
      "text/plain": [
       "'Tushar khitoliya'"
      ]
     },
     "execution_count": 23,
     "metadata": {},
     "output_type": "execute_result"
    }
   ],
   "source": [
    "def f1(first):\n",
    "    return first\n",
    "def f2(second):\n",
    "    return second\n",
    "def full_name():\n",
    "    a = f1(\"Tushar \")\n",
    "    b = f2(\"khitoliya\")\n",
    "    return a + b\n",
    "first_name = f1(\"Tushar \")\n",
    "second_name = f2(\"Khitoliya\")\n",
    "\n",
    "full_name()"
   ]
  },
  {
   "cell_type": "code",
   "execution_count": 21,
   "id": "151376ba-2dbd-4761-9860-ac7f4b574182",
   "metadata": {},
   "outputs": [
    {
     "data": {
      "text/plain": [
       "'Tushar Khitoliya'"
      ]
     },
     "execution_count": 21,
     "metadata": {},
     "output_type": "execute_result"
    }
   ],
   "source": [
    "full_name"
   ]
  },
  {
   "cell_type": "code",
   "execution_count": 24,
   "id": "51c6277e-472a-4286-88f0-f662e0a22c54",
   "metadata": {},
   "outputs": [
    {
     "data": {
      "text/plain": [
       "'Tushar '"
      ]
     },
     "execution_count": 24,
     "metadata": {},
     "output_type": "execute_result"
    }
   ],
   "source": [
    "first_name"
   ]
  },
  {
   "cell_type": "code",
   "execution_count": 25,
   "id": "df527d4c-3b05-4673-af26-39cd6bae350e",
   "metadata": {},
   "outputs": [],
   "source": [
    "def memory(a):\n",
    "    return id(a)"
   ]
  },
  {
   "cell_type": "code",
   "execution_count": 27,
   "id": "c05c749d-d3b3-4e6f-a2f0-d6facbfe9cc1",
   "metadata": {},
   "outputs": [
    {
     "data": {
      "text/plain": [
       "140720018104928"
      ]
     },
     "execution_count": 27,
     "metadata": {},
     "output_type": "execute_result"
    }
   ],
   "source": [
    "memory('w')"
   ]
  },
  {
   "cell_type": "code",
   "execution_count": 28,
   "id": "8d53c752-d714-48de-97f6-a004e90cfa3e",
   "metadata": {},
   "outputs": [
    {
     "data": {
      "text/plain": [
       "2502742231936"
      ]
     },
     "execution_count": 28,
     "metadata": {},
     "output_type": "execute_result"
    }
   ],
   "source": [
    "id(memory)"
   ]
  },
  {
   "cell_type": "code",
   "execution_count": 29,
   "id": "c31880e4-b784-4dcf-bf0b-0ad75ceb2cd2",
   "metadata": {},
   "outputs": [
    {
     "data": {
      "text/plain": [
       "140720018041304"
      ]
     },
     "execution_count": 29,
     "metadata": {},
     "output_type": "execute_result"
    }
   ],
   "source": [
    "memory(2)"
   ]
  },
  {
   "cell_type": "code",
   "execution_count": 31,
   "id": "8b156773-b99b-4f1d-b0d4-e94ed2cd8f2a",
   "metadata": {},
   "outputs": [],
   "source": [
    "# make a function that will return me the \n",
    "# sum of two numbers and address of their sum"
   ]
  },
  {
   "cell_type": "code",
   "execution_count": 38,
   "id": "63465667-5b27-4a9b-b9f2-a9b07536c254",
   "metadata": {},
   "outputs": [],
   "source": [
    "def xyz():\n",
    "    a = 3\n",
    "    b = 4\n",
    "    sum = a+b\n",
    "    return sum, id(sum)"
   ]
  },
  {
   "cell_type": "code",
   "execution_count": 40,
   "id": "cba1908c-befe-4350-a206-ad613727f926",
   "metadata": {},
   "outputs": [],
   "source": [
    "addition_value, address = xyz()"
   ]
  },
  {
   "cell_type": "code",
   "execution_count": 41,
   "id": "8623b7b9-7717-40e1-84c3-57cb3e6ba00e",
   "metadata": {},
   "outputs": [
    {
     "data": {
      "text/plain": [
       "7"
      ]
     },
     "execution_count": 41,
     "metadata": {},
     "output_type": "execute_result"
    }
   ],
   "source": [
    "addition_value\n"
   ]
  },
  {
   "cell_type": "code",
   "execution_count": 42,
   "id": "9d8bff01-10a5-4268-ac3f-b729c10e14d0",
   "metadata": {},
   "outputs": [
    {
     "data": {
      "text/plain": [
       "140720018041464"
      ]
     },
     "execution_count": 42,
     "metadata": {},
     "output_type": "execute_result"
    }
   ],
   "source": [
    "address"
   ]
  },
  {
   "cell_type": "code",
   "execution_count": 48,
   "id": "1f3e84f9-a4f2-4704-bf69-53d4da5512b8",
   "metadata": {},
   "outputs": [],
   "source": [
    "def narendra_modi(a):\n",
    "    return chr(a)"
   ]
  },
  {
   "cell_type": "code",
   "execution_count": 49,
   "id": "b053a0b9-e596-4994-a5b3-4d2e9c8ca5ac",
   "metadata": {},
   "outputs": [
    {
     "data": {
      "text/plain": [
       "'a'"
      ]
     },
     "execution_count": 49,
     "metadata": {},
     "output_type": "execute_result"
    }
   ],
   "source": [
    "narendra_modi(97)"
   ]
  },
  {
   "cell_type": "code",
   "execution_count": 60,
   "id": "a3d3781e-29e0-4bdc-bb0c-4a1621c0f1a3",
   "metadata": {},
   "outputs": [
    {
     "name": "stdout",
     "output_type": "stream",
     "text": [
      "Tushar\n"
     ]
    },
    {
     "data": {
      "text/plain": [
       "(int, str, 2502744539376, 140720018041528)"
      ]
     },
     "execution_count": 60,
     "metadata": {},
     "output_type": "execute_result"
    }
   ],
   "source": [
    "def abc(a):\n",
    "    name = \"Tushar\"\n",
    "    print(name)\n",
    "    return type(a), type(name), id(name),id(a)\n",
    "\n",
    "abc(9)    "
   ]
  },
  {
   "cell_type": "code",
   "execution_count": null,
   "id": "271c2e6a-a3ae-4601-9515-d51c3cb65620",
   "metadata": {},
   "outputs": [],
   "source": []
  },
  {
   "cell_type": "code",
   "execution_count": null,
   "id": "c7396ee6-0a7e-41e6-ad23-3e09e367c24b",
   "metadata": {},
   "outputs": [],
   "source": []
  }
 ],
 "metadata": {
  "kernelspec": {
   "display_name": "Python 3 (ipykernel)",
   "language": "python",
   "name": "python3"
  },
  "language_info": {
   "codemirror_mode": {
    "name": "ipython",
    "version": 3
   },
   "file_extension": ".py",
   "mimetype": "text/x-python",
   "name": "python",
   "nbconvert_exporter": "python",
   "pygments_lexer": "ipython3",
   "version": "3.12.7"
  }
 },
 "nbformat": 4,
 "nbformat_minor": 5
}
