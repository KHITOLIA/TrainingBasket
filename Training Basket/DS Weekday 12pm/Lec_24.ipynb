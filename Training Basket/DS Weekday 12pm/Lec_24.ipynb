{
 "cells": [
  {
   "cell_type": "code",
   "execution_count": 1,
   "id": "144dd790-c0a4-42e8-aa94-dd3d8b93c7cf",
   "metadata": {},
   "outputs": [
    {
     "name": "stdout",
     "output_type": "stream",
     "text": [
      "7429\n"
     ]
    }
   ],
   "source": [
    "list1 = [7 , 4 , 2 , 9]\n",
    "\n",
    "a = []\n",
    "\n",
    "for i in list1:\n",
    "\n",
    "  a.append(str(i))\n",
    "\n",
    "count = \"\"\n",
    "\n",
    "for j in range(len(a)):\n",
    "\n",
    "  count = count + a[j]\n",
    "\n",
    "print(count)"
   ]
  },
  {
   "cell_type": "code",
   "execution_count": 2,
   "id": "fb771c12-e5c8-43a7-8b80-24a57f31a7d7",
   "metadata": {},
   "outputs": [
    {
     "data": {
      "text/plain": [
       "7429"
      ]
     },
     "execution_count": 2,
     "metadata": {},
     "output_type": "execute_result"
    }
   ],
   "source": [
    "7 * 1000 + 4 * 100 + 2*10 + 9 * 1"
   ]
  },
  {
   "cell_type": "code",
   "execution_count": 4,
   "id": "5dedc1b7-fd4e-452c-b070-376e4bba3ca6",
   "metadata": {},
   "outputs": [
    {
     "data": {
      "text/plain": [
       "100.0"
      ]
     },
     "execution_count": 4,
     "metadata": {},
     "output_type": "execute_result"
    }
   ],
   "source": [
    "1000/10"
   ]
  },
  {
   "cell_type": "code",
   "execution_count": 11,
   "id": "eb530635-3ed8-4f53-a5e2-2ecc8979a745",
   "metadata": {},
   "outputs": [],
   "source": [
    "digit = 0\n",
    "num = 1000\n",
    "for i in list1:\n",
    "    digit = digit + i*num\n",
    "    num = int(num/10)"
   ]
  },
  {
   "cell_type": "code",
   "execution_count": 13,
   "id": "f2c0022a-f938-4172-919c-1dd8bba1970a",
   "metadata": {},
   "outputs": [
    {
     "data": {
      "text/plain": [
       "7429"
      ]
     },
     "execution_count": 13,
     "metadata": {},
     "output_type": "execute_result"
    }
   ],
   "source": [
    "digit"
   ]
  },
  {
   "cell_type": "code",
   "execution_count": 14,
   "id": "0227d345-0b72-4f95-ab15-fd5a4e0a9f11",
   "metadata": {},
   "outputs": [
    {
     "name": "stdout",
     "output_type": "stream",
     "text": [
      "[3, 9, 5, 7, 3, 9]\n",
      "[5, 7]\n",
      "[4, 6, 6, 8, 4]\n",
      "[5, 7, 8]\n"
     ]
    }
   ],
   "source": [
    "num1 = [4,3,8,6,9,4,5,7,3,6,9]\n",
    "\n",
    "num2 = [4,6,1,7,9,5,6,8,3,4]\n",
    "\n",
    "num3 = []\n",
    "\n",
    "for i in num1:\n",
    "\n",
    "  if i % 2 != 0:\n",
    "\n",
    "    num3.append(i)\n",
    "\n",
    "print(num3)\n",
    "\n",
    "a = []\n",
    "\n",
    "for j in num3:\n",
    "\n",
    "  if num3.count(j) != 2 not in num3:\n",
    "\n",
    "    a.append(j)\n",
    "\n",
    "print(a)\n",
    "\n",
    "num4 = []\n",
    "\n",
    "for i in num2:\n",
    "\n",
    "  if i % 2 == 0:\n",
    "\n",
    "    num4.append(i)\n",
    "\n",
    "print(num4)\n",
    "\n",
    "for j in num4:\n",
    "\n",
    "  if num4.count(j) != 2 not in num4:\n",
    "\n",
    "    a.append(j)\n",
    "\n",
    "print(a)"
   ]
  },
  {
   "cell_type": "code",
   "execution_count": 36,
   "id": "80aab530-b19e-4f53-9f12-408994f5c890",
   "metadata": {},
   "outputs": [],
   "source": [
    "n1 = []\n",
    "for i in num1:\n",
    "    if i not in n1:\n",
    "        if i%2 != 0:\n",
    "            n1.append(i)\n",
    "n2 = []\n",
    "for i in num2:\n",
    "    if i not in n2:\n",
    "        if i%2 == 0:\n",
    "            n2.append(i)    "
   ]
  },
  {
   "cell_type": "code",
   "execution_count": 39,
   "id": "153948e8-ccd9-4a99-87ff-5e74b5907f12",
   "metadata": {},
   "outputs": [
    {
     "data": {
      "text/plain": [
       "[3, 9, 5, 7]"
      ]
     },
     "execution_count": 39,
     "metadata": {},
     "output_type": "execute_result"
    }
   ],
   "source": [
    "n1"
   ]
  },
  {
   "cell_type": "code",
   "execution_count": 40,
   "id": "986eb96b-1341-496d-b494-a85bdb1a14a0",
   "metadata": {},
   "outputs": [
    {
     "data": {
      "text/plain": [
       "[4, 6, 8]"
      ]
     },
     "execution_count": 40,
     "metadata": {},
     "output_type": "execute_result"
    }
   ],
   "source": [
    "n2"
   ]
  },
  {
   "cell_type": "code",
   "execution_count": 42,
   "id": "e6cf2181-5cc6-415e-bb46-37626d4bd916",
   "metadata": {},
   "outputs": [],
   "source": [
    "l = n1 + n2"
   ]
  },
  {
   "cell_type": "code",
   "execution_count": 43,
   "id": "f8f2b2f9-a669-4756-8d03-4e38b478116d",
   "metadata": {},
   "outputs": [
    {
     "data": {
      "text/plain": [
       "[3, 9, 5, 7, 4, 6, 8]"
      ]
     },
     "execution_count": 43,
     "metadata": {},
     "output_type": "execute_result"
    }
   ],
   "source": [
    "l"
   ]
  },
  {
   "cell_type": "code",
   "execution_count": 44,
   "id": "97b4b726-1ffa-4525-9349-c5902d3c7c77",
   "metadata": {},
   "outputs": [],
   "source": [
    "# Advanced methods"
   ]
  },
  {
   "cell_type": "code",
   "execution_count": 47,
   "id": "00744b1c-ee96-47be-89f3-a5c0387a00b6",
   "metadata": {},
   "outputs": [],
   "source": [
    "# iteration is a general form of taking each item of something, one after another. anytime you use a loop, explicit or implicit to go over a group of items that is iteration"
   ]
  },
  {
   "cell_type": "code",
   "execution_count": 46,
   "id": "0fb8514a-f62f-444a-a1e4-314f9f068929",
   "metadata": {},
   "outputs": [
    {
     "name": "stdout",
     "output_type": "stream",
     "text": [
      "3\n",
      "9\n",
      "5\n",
      "7\n",
      "4\n",
      "6\n",
      "8\n"
     ]
    }
   ],
   "source": [
    "for i in l:\n",
    "    print(i)"
   ]
  },
  {
   "cell_type": "code",
   "execution_count": 48,
   "id": "e400dd46-a828-44d5-8c93-04ea75d4e585",
   "metadata": {},
   "outputs": [
    {
     "name": "stdout",
     "output_type": "stream",
     "text": [
      "3\n",
      "9\n",
      "5\n",
      "7\n",
      "4\n",
      "6\n",
      "8\n"
     ]
    }
   ],
   "source": [
    "for iterator in l:\n",
    "    print(iterator)"
   ]
  },
  {
   "cell_type": "code",
   "execution_count": 151,
   "id": "d262ee0f-f221-40db-abc6-5374e0304e32",
   "metadata": {},
   "outputs": [],
   "source": [
    "l = [x for x in range(0, 10)]"
   ]
  },
  {
   "cell_type": "code",
   "execution_count": 60,
   "id": "d46f0493-9847-4818-ac98-48bb09894fad",
   "metadata": {},
   "outputs": [
    {
     "data": {
      "text/plain": [
       "list"
      ]
     },
     "execution_count": 60,
     "metadata": {},
     "output_type": "execute_result"
    }
   ],
   "source": [
    "type(l)"
   ]
  },
  {
   "cell_type": "code",
   "execution_count": 61,
   "id": "db82c586-d0de-4367-9080-61ac5a072db9",
   "metadata": {},
   "outputs": [],
   "source": [
    "import sys"
   ]
  },
  {
   "cell_type": "code",
   "execution_count": 62,
   "id": "eaeab548-4355-49b5-b7e8-730ae466e383",
   "metadata": {},
   "outputs": [
    {
     "data": {
      "text/plain": [
       "0.1796875"
      ]
     },
     "execution_count": 62,
     "metadata": {},
     "output_type": "execute_result"
    }
   ],
   "source": [
    "sys.getsizeof(l)/1024"
   ]
  },
  {
   "cell_type": "code",
   "execution_count": 76,
   "id": "1badcbf6-1456-40e6-9b32-01165834c525",
   "metadata": {},
   "outputs": [],
   "source": [
    "l1 = iter(l)"
   ]
  },
  {
   "cell_type": "code",
   "execution_count": 64,
   "id": "73a5a525-1cc2-4185-8d62-781e0ee23d21",
   "metadata": {},
   "outputs": [
    {
     "data": {
      "text/plain": [
       "<list_iterator at 0x1c8b934fa90>"
      ]
     },
     "execution_count": 64,
     "metadata": {},
     "output_type": "execute_result"
    }
   ],
   "source": [
    "l1"
   ]
  },
  {
   "cell_type": "code",
   "execution_count": 65,
   "id": "dc203038-83cb-4518-b4df-f55edd9f834d",
   "metadata": {},
   "outputs": [
    {
     "data": {
      "text/plain": [
       "0.046875"
      ]
     },
     "execution_count": 65,
     "metadata": {},
     "output_type": "execute_result"
    }
   ],
   "source": [
    "sys.getsizeof(l1)/1024"
   ]
  },
  {
   "cell_type": "code",
   "execution_count": 66,
   "id": "24c3679e-f77b-4daa-8c37-334f6a849108",
   "metadata": {},
   "outputs": [
    {
     "data": {
      "text/plain": [
       "[0, 1, 2, 3, 4, 5, 6, 7, 8, 9]"
      ]
     },
     "execution_count": 66,
     "metadata": {},
     "output_type": "execute_result"
    }
   ],
   "source": [
    "l"
   ]
  },
  {
   "cell_type": "code",
   "execution_count": 67,
   "id": "f8420509-b82e-467e-bdc2-73e8be8e26fb",
   "metadata": {},
   "outputs": [
    {
     "name": "stdout",
     "output_type": "stream",
     "text": [
      "0\n",
      "1\n",
      "2\n",
      "3\n",
      "4\n",
      "5\n",
      "6\n",
      "7\n",
      "8\n",
      "9\n"
     ]
    }
   ],
   "source": [
    "for i in l:\n",
    "    print(i)"
   ]
  },
  {
   "cell_type": "code",
   "execution_count": 68,
   "id": "33b21cf7-ef86-41bd-a183-41176d929166",
   "metadata": {},
   "outputs": [
    {
     "name": "stdout",
     "output_type": "stream",
     "text": [
      "0\n",
      "1\n",
      "2\n",
      "3\n",
      "4\n",
      "5\n",
      "6\n",
      "7\n",
      "8\n",
      "9\n"
     ]
    }
   ],
   "source": [
    "for i in l:\n",
    "    print(i)"
   ]
  },
  {
   "cell_type": "code",
   "execution_count": 77,
   "id": "787aa42b-759f-4a95-8ac5-8e7c752f9057",
   "metadata": {},
   "outputs": [
    {
     "name": "stdout",
     "output_type": "stream",
     "text": [
      "0\n",
      "1\n",
      "2\n",
      "3\n",
      "4\n",
      "5\n",
      "6\n",
      "7\n",
      "8\n",
      "9\n"
     ]
    }
   ],
   "source": [
    "for i in l1:\n",
    "    print(i)"
   ]
  },
  {
   "cell_type": "code",
   "execution_count": 78,
   "id": "8e1c6621-d6c5-4292-836e-7a58a048ab16",
   "metadata": {},
   "outputs": [],
   "source": [
    "for i in l1:\n",
    "    print(i)"
   ]
  },
  {
   "cell_type": "code",
   "execution_count": 80,
   "id": "4179cf69-4f2a-47fd-8a15-bca5724e5538",
   "metadata": {},
   "outputs": [],
   "source": [
    "# every iterator is also an iterable\n",
    "# but not all iterables are iterator"
   ]
  },
  {
   "cell_type": "code",
   "execution_count": 82,
   "id": "dacbcf05-d361-4b6d-ac77-59b8c75a68c6",
   "metadata": {},
   "outputs": [],
   "source": [
    "# every iterable has an iter function\n",
    "# every iterator has both iter and next function"
   ]
  },
  {
   "cell_type": "code",
   "execution_count": 83,
   "id": "8f1d053a-e95d-466e-b51d-58b6de2c1c74",
   "metadata": {},
   "outputs": [
    {
     "data": {
      "text/plain": [
       "[0, 1, 2, 3, 4, 5, 6, 7, 8, 9]"
      ]
     },
     "execution_count": 83,
     "metadata": {},
     "output_type": "execute_result"
    }
   ],
   "source": [
    "l"
   ]
  },
  {
   "cell_type": "code",
   "execution_count": 84,
   "id": "1905d4b7-1a49-4ccd-974e-f03342300156",
   "metadata": {},
   "outputs": [
    {
     "data": {
      "text/plain": [
       "<list_iterator at 0x1c8b8e95fc0>"
      ]
     },
     "execution_count": 84,
     "metadata": {},
     "output_type": "execute_result"
    }
   ],
   "source": [
    "iter(l)"
   ]
  },
  {
   "cell_type": "code",
   "execution_count": 86,
   "id": "d8e71102-07eb-4dcc-a345-5880291a1e87",
   "metadata": {},
   "outputs": [],
   "source": [
    "l1 = iter(l)"
   ]
  },
  {
   "cell_type": "code",
   "execution_count": 99,
   "id": "b469f0b2-1b7a-4d2e-bed0-11b70067f9bb",
   "metadata": {},
   "outputs": [
    {
     "ename": "StopIteration",
     "evalue": "",
     "output_type": "error",
     "traceback": [
      "\u001b[1;31m---------------------------------------------------------------------------\u001b[0m",
      "\u001b[1;31mStopIteration\u001b[0m                             Traceback (most recent call last)",
      "Cell \u001b[1;32mIn[99], line 1\u001b[0m\n\u001b[1;32m----> 1\u001b[0m \u001b[38;5;28mnext\u001b[39m(l1)\n",
      "\u001b[1;31mStopIteration\u001b[0m: "
     ]
    }
   ],
   "source": [
    "next(l1)"
   ]
  },
  {
   "cell_type": "code",
   "execution_count": 101,
   "id": "a2ae34f7-8c1a-4eda-bbe1-ccd13c360f5d",
   "metadata": {},
   "outputs": [],
   "source": [
    "s = 'Kanhaiya'"
   ]
  },
  {
   "cell_type": "code",
   "execution_count": 102,
   "id": "efc3d32d-ea45-4de1-a103-1fc26231c8f1",
   "metadata": {},
   "outputs": [
    {
     "name": "stdout",
     "output_type": "stream",
     "text": [
      "K\n",
      "a\n",
      "n\n",
      "h\n",
      "a\n",
      "i\n",
      "y\n",
      "a\n"
     ]
    }
   ],
   "source": [
    "for i in s:\n",
    "    print(i\n",
    "    )"
   ]
  },
  {
   "cell_type": "code",
   "execution_count": 103,
   "id": "9a8618fd-e4f6-4b6a-8787-aed485f2cbfb",
   "metadata": {},
   "outputs": [
    {
     "data": {
      "text/plain": [
       "['__add__',\n",
       " '__class__',\n",
       " '__contains__',\n",
       " '__delattr__',\n",
       " '__dir__',\n",
       " '__doc__',\n",
       " '__eq__',\n",
       " '__format__',\n",
       " '__ge__',\n",
       " '__getattribute__',\n",
       " '__getitem__',\n",
       " '__getnewargs__',\n",
       " '__getstate__',\n",
       " '__gt__',\n",
       " '__hash__',\n",
       " '__init__',\n",
       " '__init_subclass__',\n",
       " '__iter__',\n",
       " '__le__',\n",
       " '__len__',\n",
       " '__lt__',\n",
       " '__mod__',\n",
       " '__mul__',\n",
       " '__ne__',\n",
       " '__new__',\n",
       " '__reduce__',\n",
       " '__reduce_ex__',\n",
       " '__repr__',\n",
       " '__rmod__',\n",
       " '__rmul__',\n",
       " '__setattr__',\n",
       " '__sizeof__',\n",
       " '__str__',\n",
       " '__subclasshook__',\n",
       " 'capitalize',\n",
       " 'casefold',\n",
       " 'center',\n",
       " 'count',\n",
       " 'encode',\n",
       " 'endswith',\n",
       " 'expandtabs',\n",
       " 'find',\n",
       " 'format',\n",
       " 'format_map',\n",
       " 'index',\n",
       " 'isalnum',\n",
       " 'isalpha',\n",
       " 'isascii',\n",
       " 'isdecimal',\n",
       " 'isdigit',\n",
       " 'isidentifier',\n",
       " 'islower',\n",
       " 'isnumeric',\n",
       " 'isprintable',\n",
       " 'isspace',\n",
       " 'istitle',\n",
       " 'isupper',\n",
       " 'join',\n",
       " 'ljust',\n",
       " 'lower',\n",
       " 'lstrip',\n",
       " 'maketrans',\n",
       " 'partition',\n",
       " 'removeprefix',\n",
       " 'removesuffix',\n",
       " 'replace',\n",
       " 'rfind',\n",
       " 'rindex',\n",
       " 'rjust',\n",
       " 'rpartition',\n",
       " 'rsplit',\n",
       " 'rstrip',\n",
       " 'split',\n",
       " 'splitlines',\n",
       " 'startswith',\n",
       " 'strip',\n",
       " 'swapcase',\n",
       " 'title',\n",
       " 'translate',\n",
       " 'upper',\n",
       " 'zfill']"
      ]
     },
     "execution_count": 103,
     "metadata": {},
     "output_type": "execute_result"
    }
   ],
   "source": [
    "dir(s)"
   ]
  },
  {
   "cell_type": "code",
   "execution_count": 115,
   "id": "2acfdc69-40fb-42b6-889e-15ff98ccac93",
   "metadata": {},
   "outputs": [],
   "source": [
    "s1 = iter(s)"
   ]
  },
  {
   "cell_type": "code",
   "execution_count": 114,
   "id": "4442c04e-f023-4415-b0ff-d947197907ec",
   "metadata": {},
   "outputs": [
    {
     "data": {
      "text/plain": [
       "'a'"
      ]
     },
     "execution_count": 114,
     "metadata": {},
     "output_type": "execute_result"
    }
   ],
   "source": [
    "next(s1)"
   ]
  },
  {
   "cell_type": "code",
   "execution_count": 117,
   "id": "787aa871-c6f7-43f9-b7b7-ae2d402386f9",
   "metadata": {},
   "outputs": [
    {
     "ename": "StopIteration",
     "evalue": "",
     "output_type": "error",
     "traceback": [
      "\u001b[1;31m---------------------------------------------------------------------------\u001b[0m",
      "\u001b[1;31mStopIteration\u001b[0m                             Traceback (most recent call last)",
      "Cell \u001b[1;32mIn[117], line 2\u001b[0m\n\u001b[0;32m      1\u001b[0m \u001b[38;5;28;01mfor\u001b[39;00m i \u001b[38;5;129;01min\u001b[39;00m \u001b[38;5;28mrange\u001b[39m(\u001b[38;5;28mlen\u001b[39m(s)):\n\u001b[1;32m----> 2\u001b[0m     \u001b[38;5;28mprint\u001b[39m(\u001b[38;5;28mnext\u001b[39m(s1))\n",
      "\u001b[1;31mStopIteration\u001b[0m: "
     ]
    }
   ],
   "source": [
    "for i in range(len(s)):\n",
    "    print(next(s1))"
   ]
  },
  {
   "cell_type": "code",
   "execution_count": 125,
   "id": "da428a52-3e15-43ef-aa5f-9be127b2c9ab",
   "metadata": {},
   "outputs": [],
   "source": [
    "num = [1, 2, 3, 4]\n",
    "\n",
    "iter_num = iter(num)"
   ]
  },
  {
   "cell_type": "code",
   "execution_count": 119,
   "id": "e6c70285-f551-49d1-9f3c-31b7d82b2000",
   "metadata": {},
   "outputs": [
    {
     "data": {
      "text/plain": [
       "<list_iterator at 0x1c8b934fe50>"
      ]
     },
     "execution_count": 119,
     "metadata": {},
     "output_type": "execute_result"
    }
   ],
   "source": [
    "iter_num"
   ]
  },
  {
   "cell_type": "code",
   "execution_count": 126,
   "id": "f4565b7e-4c50-4604-8649-c449dbcd20f8",
   "metadata": {},
   "outputs": [
    {
     "data": {
      "text/plain": [
       "3"
      ]
     },
     "execution_count": 126,
     "metadata": {},
     "output_type": "execute_result"
    }
   ],
   "source": [
    "next(iter_num)\n",
    "next(iter_num)\n",
    "next(iter_num)"
   ]
  },
  {
   "cell_type": "code",
   "execution_count": 132,
   "id": "aa48584b-6160-4e5e-a365-a998c8dc7d05",
   "metadata": {},
   "outputs": [],
   "source": [
    "def my_own_loop(iterable):\n",
    "    iterator = iter(iterable)\n",
    "    while True:\n",
    "        try:\n",
    "            print(next(iterator))\n",
    "        except StopIteration:\n",
    "            break"
   ]
  },
  {
   "cell_type": "code",
   "execution_count": 135,
   "id": "1e35dc69-7353-4db1-b7b0-bf7669bf2a5a",
   "metadata": {},
   "outputs": [
    {
     "name": "stdout",
     "output_type": "stream",
     "text": [
      "2\n",
      "3\n",
      "4\n",
      "5\n",
      "5\n"
     ]
    }
   ],
   "source": [
    "a = [1, 2, 3]\n",
    "b = (2, 3, 4, 5, 5)\n",
    "my_own_loop(b)"
   ]
  },
  {
   "cell_type": "markdown",
   "id": "7d84b497-af1b-4b06-9a28-4c47d154695f",
   "metadata": {},
   "source": [
    "# # Advance Methods\n",
    "1. lambda"
   ]
  },
  {
   "cell_type": "code",
   "execution_count": 150,
   "id": "8ed242c7-50b5-42bf-a5fb-300409ab6afd",
   "metadata": {},
   "outputs": [
    {
     "data": {
      "text/plain": [
       "<function __main__.<lambda>(x)>"
      ]
     },
     "execution_count": 150,
     "metadata": {},
     "output_type": "execute_result"
    }
   ],
   "source": [
    "l"
   ]
  },
  {
   "cell_type": "code",
   "execution_count": 152,
   "id": "5d837c9f-c187-404c-9d0f-fe9c2a2869de",
   "metadata": {},
   "outputs": [
    {
     "data": {
      "text/plain": [
       "[0, 1, 2, 3, 4, 5, 6, 7, 8, 9]"
      ]
     },
     "execution_count": 152,
     "metadata": {},
     "output_type": "execute_result"
    }
   ],
   "source": [
    "l"
   ]
  },
  {
   "cell_type": "code",
   "execution_count": 158,
   "id": "d13e447a-8c14-4821-8f1c-1d4043e05121",
   "metadata": {},
   "outputs": [],
   "source": [
    "add = lambda x : x**2"
   ]
  },
  {
   "cell_type": "code",
   "execution_count": 162,
   "id": "02d5dc2a-0878-4ffd-9e7f-3a77305eaf0e",
   "metadata": {},
   "outputs": [
    {
     "data": {
      "text/plain": [
       "16"
      ]
     },
     "execution_count": 162,
     "metadata": {},
     "output_type": "execute_result"
    }
   ],
   "source": [
    "add(l[4])"
   ]
  },
  {
   "cell_type": "code",
   "execution_count": 163,
   "id": "59d6ec16-814e-44ee-9c0c-3218ec6b733c",
   "metadata": {},
   "outputs": [],
   "source": [
    "iseven = lambda x : \"even\" if x%2 == 0 else \"odd\""
   ]
  },
  {
   "cell_type": "code",
   "execution_count": 165,
   "id": "b0045064-cff1-497e-9f8c-ca457f0116ba",
   "metadata": {},
   "outputs": [
    {
     "data": {
      "text/plain": [
       "'odd'"
      ]
     },
     "execution_count": 165,
     "metadata": {},
     "output_type": "execute_result"
    }
   ],
   "source": [
    "iseven(21)"
   ]
  },
  {
   "cell_type": "code",
   "execution_count": 167,
   "id": "b39ae3be-514f-423a-b762-5112c893a320",
   "metadata": {},
   "outputs": [],
   "source": [
    "y = lambda m, x, c : m*x + c"
   ]
  },
  {
   "cell_type": "code",
   "execution_count": 168,
   "id": "4e492ea8-da43-492b-b869-0da376d1aba0",
   "metadata": {},
   "outputs": [
    {
     "data": {
      "text/plain": [
       "6"
      ]
     },
     "execution_count": 168,
     "metadata": {},
     "output_type": "execute_result"
    }
   ],
   "source": [
    "y(1, 4, 2)"
   ]
  },
  {
   "cell_type": "code",
   "execution_count": 170,
   "id": "f5824f58-90e8-4526-8d42-b2c4a5fbe4bc",
   "metadata": {},
   "outputs": [
    {
     "data": {
      "text/plain": [
       "9"
      ]
     },
     "execution_count": 170,
     "metadata": {},
     "output_type": "execute_result"
    }
   ],
   "source": [
    "y(1, 7, 2)"
   ]
  },
  {
   "cell_type": "code",
   "execution_count": 171,
   "id": "26b1c84e-1ef4-4c8e-98e0-7dd903c8ac10",
   "metadata": {},
   "outputs": [],
   "source": [
    "l = [lambda x : x*1, lambda x : x**2, lambda x : x**3]"
   ]
  },
  {
   "cell_type": "code",
   "execution_count": 173,
   "id": "29bb2f6a-b73e-4063-8883-c307da251d82",
   "metadata": {},
   "outputs": [
    {
     "name": "stdout",
     "output_type": "stream",
     "text": [
      "3\n",
      "9\n",
      "27\n"
     ]
    }
   ],
   "source": [
    "for i in l:\n",
    "    print(i(3))"
   ]
  },
  {
   "cell_type": "code",
   "execution_count": 174,
   "id": "af829b6f-1548-4e31-b210-11c1d8e76b38",
   "metadata": {},
   "outputs": [],
   "source": [
    "l1 = [1,2, 3, 4, 5, 6, 7, 8 , 9 , 10]"
   ]
  },
  {
   "cell_type": "code",
   "execution_count": 177,
   "id": "b31e58e3-8834-404c-a965-fad861851c22",
   "metadata": {},
   "outputs": [],
   "source": [
    "l1 = list(map(lambda x : x**2, l1))"
   ]
  },
  {
   "cell_type": "code",
   "execution_count": 178,
   "id": "a3b45e37-fdf0-49d3-921e-2467110ad94c",
   "metadata": {},
   "outputs": [
    {
     "data": {
      "text/plain": [
       "[1, 4, 9, 16, 25, 36, 49, 64, 81, 100]"
      ]
     },
     "execution_count": 178,
     "metadata": {},
     "output_type": "execute_result"
    }
   ],
   "source": [
    "l1"
   ]
  },
  {
   "cell_type": "code",
   "execution_count": 179,
   "id": "945d963f-0e40-408c-94f9-f1c2c36ddd1d",
   "metadata": {},
   "outputs": [],
   "source": [
    "l = ['Kanhaiya', 'Data Science', 'Flask', 'OOPS']\n",
    "l = list(map(lambda x : x.lower(), l))"
   ]
  },
  {
   "cell_type": "code",
   "execution_count": 180,
   "id": "6cf4c31d-2bf0-4974-ac11-53bfb046d6a0",
   "metadata": {},
   "outputs": [
    {
     "data": {
      "text/plain": [
       "['kanhaiya', 'data science', 'flask', 'oops']"
      ]
     },
     "execution_count": 180,
     "metadata": {},
     "output_type": "execute_result"
    }
   ],
   "source": [
    "l"
   ]
  },
  {
   "cell_type": "code",
   "execution_count": 182,
   "id": "6e4ffcec-17f7-414a-8bbf-5ee357aa839f",
   "metadata": {},
   "outputs": [
    {
     "data": {
      "text/plain": [
       "True"
      ]
     },
     "execution_count": 182,
     "metadata": {},
     "output_type": "execute_result"
    }
   ],
   "source": [
    "a = lambda x : 'a' in x\n",
    "a('helloa')"
   ]
  },
  {
   "cell_type": "code",
   "execution_count": 184,
   "id": "3d706199-80ce-4331-8245-95adc26efe77",
   "metadata": {},
   "outputs": [],
   "source": [
    "# Higher Order Functions : That function which takes functions as their input and sometimes return the function as well"
   ]
  },
  {
   "cell_type": "code",
   "execution_count": 187,
   "id": "854aaa44-72d1-4303-b2dd-fe3482a86c38",
   "metadata": {},
   "outputs": [
    {
     "name": "stdout",
     "output_type": "stream",
     "text": [
      "[1, 4, 9, 16, 25]\n"
     ]
    }
   ],
   "source": [
    "def square(x):\n",
    "    return x**2\n",
    "\n",
    "# HOf\n",
    "def transform(f, l):\n",
    "    output = []\n",
    "    for i in l:\n",
    "        output.append(f(i))\n",
    "    print(output)\n",
    "l = [1, 2, 3, 4, 5]\n",
    "transform(square, l)"
   ]
  },
  {
   "cell_type": "code",
   "execution_count": 188,
   "id": "543aab2d-f792-44c3-8309-4fe0334ef026",
   "metadata": {},
   "outputs": [],
   "source": [
    "users = [\n",
    "    {\n",
    "        'name':'Rahul',\n",
    "        'age':45,\n",
    "        'gender':'male'\n",
    "    },\n",
    "    {\n",
    "        'name':'Nitish',\n",
    "        'age':33,\n",
    "        'gender':'male'\n",
    "    },\n",
    "    {\n",
    "        'name':'Ankita',\n",
    "        'age':50,\n",
    "        'gender':'female'\n",
    "    }\n",
    "]"
   ]
  },
  {
   "cell_type": "code",
   "execution_count": 192,
   "id": "7abf43bb-1290-4980-b3de-d61edf8da668",
   "metadata": {},
   "outputs": [
    {
     "data": {
      "text/plain": [
       "['male', 'male', 'female']"
      ]
     },
     "execution_count": 192,
     "metadata": {},
     "output_type": "execute_result"
    }
   ],
   "source": [
    "list(map(lambda users : users['gender'], users))"
   ]
  },
  {
   "cell_type": "code",
   "execution_count": 193,
   "id": "8c5187f8-81f4-4985-a306-0869d0a58f8a",
   "metadata": {},
   "outputs": [
    {
     "data": {
      "text/plain": [
       "[6, 7, 8]"
      ]
     },
     "execution_count": 193,
     "metadata": {},
     "output_type": "execute_result"
    }
   ],
   "source": [
    "l = [2, 3, 4, 5, 6, 7, 8]\n",
    "list(filter(lambda x : x>5, l))"
   ]
  },
  {
   "cell_type": "code",
   "execution_count": 195,
   "id": "1604707d-b597-4e2d-8fc3-3e3f5eeefbba",
   "metadata": {},
   "outputs": [
    {
     "data": {
      "text/plain": [
       "['guava']"
      ]
     },
     "execution_count": 195,
     "metadata": {},
     "output_type": "execute_result"
    }
   ],
   "source": [
    "fruits = ['apple','guava','cherry']\n",
    "\n",
    "list(filter(lambda x : x.endswith('a'), fruits))"
   ]
  },
  {
   "cell_type": "code",
   "execution_count": 196,
   "id": "fffd5015-dd13-4028-b6e9-d3ca58360131",
   "metadata": {},
   "outputs": [
    {
     "data": {
      "text/plain": [
       "21"
      ]
     },
     "execution_count": 196,
     "metadata": {},
     "output_type": "execute_result"
    }
   ],
   "source": [
    "from functools import reduce\n",
    "\n",
    "reduce(lambda x, y : x + y, [1, 2,3 , 4,5 , 6])"
   ]
  },
  {
   "cell_type": "code",
   "execution_count": 198,
   "id": "df79dfca-2e71-4718-9ca4-a9b9b3597441",
   "metadata": {},
   "outputs": [
    {
     "data": {
      "text/plain": [
       "56"
      ]
     },
     "execution_count": 198,
     "metadata": {},
     "output_type": "execute_result"
    }
   ],
   "source": [
    "reduce(lambda x, y : x if x>y else y, [1, 2, 3, 4, 56, 6, 7])"
   ]
  },
  {
   "cell_type": "code",
   "execution_count": 1,
   "id": "1d1388f7-57fb-4eb6-8d57-156b44be4279",
   "metadata": {},
   "outputs": [
    {
     "name": "stdout",
     "output_type": "stream",
     "text": [
      "2\n",
      "3\n",
      "4\n",
      "5\n"
     ]
    }
   ],
   "source": [
    "num = [2, 3, 4, 5]\n",
    "for i in num:\n",
    "    print(i)"
   ]
  },
  {
   "cell_type": "code",
   "execution_count": 2,
   "id": "0c883335-8f3e-4641-85bc-b4911fe0a9d7",
   "metadata": {},
   "outputs": [
    {
     "data": {
      "text/plain": [
       "5"
      ]
     },
     "execution_count": 2,
     "metadata": {},
     "output_type": "execute_result"
    }
   ],
   "source": [
    "i"
   ]
  },
  {
   "cell_type": "code",
   "execution_count": 3,
   "id": "ec04c1fb-4b70-4ffc-99f0-f117dc147fe9",
   "metadata": {},
   "outputs": [
    {
     "name": "stdout",
     "output_type": "stream",
     "text": [
      "2\n",
      "3\n",
      "4\n",
      "5\n"
     ]
    }
   ],
   "source": [
    "for i in num:\n",
    "    print(i)"
   ]
  },
  {
   "cell_type": "code",
   "execution_count": 4,
   "id": "d280d0b1-3b18-4975-ad61-406f5ab83499",
   "metadata": {},
   "outputs": [
    {
     "name": "stdout",
     "output_type": "stream",
     "text": [
      "2\n",
      "3\n",
      "4\n",
      "5\n"
     ]
    }
   ],
   "source": [
    "for i in num:\n",
    "    print(i)"
   ]
  },
  {
   "cell_type": "code",
   "execution_count": 5,
   "id": "e76ff758-22be-4c54-91f5-add83b16fb0d",
   "metadata": {},
   "outputs": [
    {
     "name": "stdout",
     "output_type": "stream",
     "text": [
      "2\n",
      "3\n",
      "4\n",
      "5\n"
     ]
    }
   ],
   "source": [
    "for i in num:\n",
    "    print(i)"
   ]
  },
  {
   "cell_type": "code",
   "execution_count": 22,
   "id": "c9b3c79b-92e2-4032-8889-190792f7473b",
   "metadata": {},
   "outputs": [],
   "source": [
    "num1 = iter(num)"
   ]
  },
  {
   "cell_type": "code",
   "execution_count": 13,
   "id": "ed304182-3f99-4653-9234-04c86bcbc5d8",
   "metadata": {},
   "outputs": [
    {
     "ename": "StopIteration",
     "evalue": "",
     "output_type": "error",
     "traceback": [
      "\u001b[1;31m---------------------------------------------------------------------------\u001b[0m",
      "\u001b[1;31mStopIteration\u001b[0m                             Traceback (most recent call last)",
      "Cell \u001b[1;32mIn[13], line 1\u001b[0m\n\u001b[1;32m----> 1\u001b[0m \u001b[38;5;28mnext\u001b[39m(num1)\n",
      "\u001b[1;31mStopIteration\u001b[0m: "
     ]
    }
   ],
   "source": [
    "next(num1)"
   ]
  },
  {
   "cell_type": "code",
   "execution_count": 9,
   "id": "2505d6e6-ba92-471e-81e8-9b75dcc3b9d4",
   "metadata": {},
   "outputs": [
    {
     "data": {
      "text/plain": [
       "[2, 3, 4, 5]"
      ]
     },
     "execution_count": 9,
     "metadata": {},
     "output_type": "execute_result"
    }
   ],
   "source": [
    "num"
   ]
  },
  {
   "cell_type": "code",
   "execution_count": 23,
   "id": "23c421ba-3e41-44b9-90d1-f463c120dc4e",
   "metadata": {},
   "outputs": [
    {
     "name": "stdout",
     "output_type": "stream",
     "text": [
      "2\n",
      "3\n",
      "4\n",
      "5\n"
     ]
    }
   ],
   "source": [
    "for i in num1:\n",
    "    print(i)"
   ]
  },
  {
   "cell_type": "code",
   "execution_count": 24,
   "id": "09f5d526-28da-492f-b941-16eabb20fae3",
   "metadata": {},
   "outputs": [],
   "source": [
    "for i in num1:\n",
    "    print(i)"
   ]
  },
  {
   "cell_type": "code",
   "execution_count": 25,
   "id": "d48cacef-632f-4d20-855e-3249a8618e23",
   "metadata": {},
   "outputs": [
    {
     "data": {
      "text/plain": [
       "[2, 3, 4, 5]"
      ]
     },
     "execution_count": 25,
     "metadata": {},
     "output_type": "execute_result"
    }
   ],
   "source": [
    "num"
   ]
  },
  {
   "cell_type": "code",
   "execution_count": 27,
   "id": "9e6efb7e-b3e6-4136-a3fc-650b6a2efa7a",
   "metadata": {},
   "outputs": [
    {
     "name": "stdout",
     "output_type": "stream",
     "text": [
      "__iter__: yes we can make it as an iterator\n"
     ]
    }
   ],
   "source": [
    "for function in dir(num):\n",
    "    if function == '__iter__':\n",
    "        print(f'{function}: yes we can make it as an iterator')"
   ]
  },
  {
   "cell_type": "code",
   "execution_count": 32,
   "id": "faa12d8f-ccd0-43a6-9b42-24362db34c36",
   "metadata": {},
   "outputs": [],
   "source": [
    "num1 = iter(num)"
   ]
  },
  {
   "cell_type": "code",
   "execution_count": 37,
   "id": "01271577-57ed-4697-940a-eccdfdd717c6",
   "metadata": {},
   "outputs": [
    {
     "ename": "StopIteration",
     "evalue": "",
     "output_type": "error",
     "traceback": [
      "\u001b[1;31m---------------------------------------------------------------------------\u001b[0m",
      "\u001b[1;31mStopIteration\u001b[0m                             Traceback (most recent call last)",
      "Cell \u001b[1;32mIn[37], line 1\u001b[0m\n\u001b[1;32m----> 1\u001b[0m \u001b[38;5;28mnext\u001b[39m(num1)\n",
      "\u001b[1;31mStopIteration\u001b[0m: "
     ]
    }
   ],
   "source": [
    "next(num1)"
   ]
  },
  {
   "cell_type": "code",
   "execution_count": 38,
   "id": "62c1915a-368d-44c8-863d-645680216373",
   "metadata": {},
   "outputs": [
    {
     "data": {
      "text/plain": [
       "[2, 3, 4, 5]"
      ]
     },
     "execution_count": 38,
     "metadata": {},
     "output_type": "execute_result"
    }
   ],
   "source": [
    "num"
   ]
  },
  {
   "cell_type": "code",
   "execution_count": 39,
   "id": "e105d5a2-a928-4048-afc7-391b7aa64ff6",
   "metadata": {},
   "outputs": [
    {
     "data": {
      "text/plain": [
       "<list_iterator at 0x1d8296e5ae0>"
      ]
     },
     "execution_count": 39,
     "metadata": {},
     "output_type": "execute_result"
    }
   ],
   "source": [
    "num1"
   ]
  },
  {
   "cell_type": "code",
   "execution_count": 41,
   "id": "b97f70c1-4698-42e3-b198-ddf2f9b5f3b6",
   "metadata": {},
   "outputs": [
    {
     "data": {
      "text/plain": [
       "0.0859375"
      ]
     },
     "execution_count": 41,
     "metadata": {},
     "output_type": "execute_result"
    }
   ],
   "source": [
    "import sys\n",
    "sys.getsizeof(num)/1024"
   ]
  },
  {
   "cell_type": "code",
   "execution_count": 43,
   "id": "6d953eec-37ae-45af-9aa0-d4e5bdc62083",
   "metadata": {},
   "outputs": [
    {
     "data": {
      "text/plain": [
       "0.046875"
      ]
     },
     "execution_count": 43,
     "metadata": {},
     "output_type": "execute_result"
    }
   ],
   "source": [
    "sys.getsizeof(num1)/1024"
   ]
  },
  {
   "cell_type": "code",
   "execution_count": null,
   "id": "81505734-71bc-434c-910c-c84564b70ac4",
   "metadata": {},
   "outputs": [],
   "source": []
  },
  {
   "cell_type": "code",
   "execution_count": null,
   "id": "e41ac7a1-c9e2-4cc3-9f73-6d8d2cef911b",
   "metadata": {},
   "outputs": [],
   "source": []
  }
 ],
 "metadata": {
  "kernelspec": {
   "display_name": "Python 3 (ipykernel)",
   "language": "python",
   "name": "python3"
  },
  "language_info": {
   "codemirror_mode": {
    "name": "ipython",
    "version": 3
   },
   "file_extension": ".py",
   "mimetype": "text/x-python",
   "name": "python",
   "nbconvert_exporter": "python",
   "pygments_lexer": "ipython3",
   "version": "3.12.7"
  }
 },
 "nbformat": 4,
 "nbformat_minor": 5
}
