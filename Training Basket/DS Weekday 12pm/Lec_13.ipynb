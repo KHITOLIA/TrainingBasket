{
 "cells": [
  {
   "cell_type": "code",
   "execution_count": 2,
   "id": "1ec5596c-209d-4248-b26d-a7f78482aff7",
   "metadata": {},
   "outputs": [],
   "source": [
    "# find all the prime numbers from 0 to 10"
   ]
  },
  {
   "cell_type": "code",
   "execution_count": 12,
   "id": "594e17b1-d551-4f88-af9a-caf79228a3e7",
   "metadata": {},
   "outputs": [
    {
     "name": "stdout",
     "output_type": "stream",
     "text": [
      "2\n",
      "3\n",
      "5\n",
      "7\n"
     ]
    }
   ],
   "source": [
    "for num in range(2, 11):\n",
    "    fact = 0 \n",
    "    for j in range(1, num + 1):\n",
    "        if num%j == 0:\n",
    "            fact += 1\n",
    "    if fact == 2:\n",
    "        print(num)"
   ]
  },
  {
   "cell_type": "code",
   "execution_count": 13,
   "id": "ddad913c-0cae-41b8-a1be-bd53f4bbb281",
   "metadata": {},
   "outputs": [
    {
     "name": "stdout",
     "output_type": "stream",
     "text": [
      "2 this is a prime number\n",
      "3 this is a prime number\n",
      "5 this is a prime number\n",
      "7 this is a prime number\n",
      "11 this is a prime number\n",
      "13 this is a prime number\n",
      "17 this is a prime number\n",
      "19 this is a prime number\n",
      "23 this is a prime number\n",
      "29 this is a prime number\n",
      "31 this is a prime number\n",
      "37 this is a prime number\n",
      "41 this is a prime number\n",
      "43 this is a prime number\n",
      "47 this is a prime number\n"
     ]
    }
   ],
   "source": [
    "for i in range(1,51):\n",
    "\n",
    "  count = 0\n",
    "\n",
    "  for j in range(1,51):\n",
    "\n",
    "    \n",
    "\n",
    "    if i%j == 0:\n",
    "\n",
    "      count = count +1\n",
    "\n",
    "  if count == 2:\n",
    "\n",
    "    print(i,\"this is a prime number\")"
   ]
  },
  {
   "cell_type": "code",
   "execution_count": 14,
   "id": "80151df0-0e51-44c8-828a-d3b8285ee98e",
   "metadata": {},
   "outputs": [
    {
     "name": "stdout",
     "output_type": "stream",
     "text": [
      "2\n",
      "3\n",
      "5\n",
      "7\n"
     ]
    }
   ],
   "source": [
    "def fi_prime(n):\n",
    "\n",
    "    if n < 2:\n",
    "\n",
    "        return False\n",
    "\n",
    "    for i in range(2, n):\n",
    "\n",
    "        if n % i == 0:\n",
    "\n",
    "            return False\n",
    "\n",
    "    return True\n",
    "\n",
    "for i in range(1, 10):\n",
    "\n",
    "    if fi_prime(i):\n",
    "\n",
    "        print(i)"
   ]
  },
  {
   "cell_type": "code",
   "execution_count": 15,
   "id": "ce6656b4-c23c-4985-a193-a5ab1b759c3c",
   "metadata": {},
   "outputs": [],
   "source": [
    "# take three side of a triangle and check whether it is right angled triangle or not\n"
   ]
  },
  {
   "cell_type": "code",
   "execution_count": 16,
   "id": "a8a400bc-6b60-4958-abcd-35d46238e209",
   "metadata": {},
   "outputs": [],
   "source": [
    "st = 'Training'"
   ]
  },
  {
   "cell_type": "code",
   "execution_count": 17,
   "id": "296e7210-636a-4674-846c-786f526a2c60",
   "metadata": {},
   "outputs": [],
   "source": [
    "s = ''\n",
    "for i in st:\n",
    "    s = i + s"
   ]
  },
  {
   "cell_type": "code",
   "execution_count": 18,
   "id": "b2efe518-2587-49d9-ab69-5b203dc5b655",
   "metadata": {},
   "outputs": [
    {
     "data": {
      "text/plain": [
       "'gniniarT'"
      ]
     },
     "execution_count": 18,
     "metadata": {},
     "output_type": "execute_result"
    }
   ],
   "source": [
    "s"
   ]
  },
  {
   "cell_type": "code",
   "execution_count": 19,
   "id": "a95a02e1-3aa6-453e-96c5-9adb6b4fac95",
   "metadata": {},
   "outputs": [],
   "source": [
    "# while"
   ]
  },
  {
   "cell_type": "code",
   "execution_count": 20,
   "id": "5c126ae6-3769-48aa-9e7c-a75f6976ca61",
   "metadata": {},
   "outputs": [
    {
     "name": "stdout",
     "output_type": "stream",
     "text": [
      "It is NOT a right-angled triangle.\n"
     ]
    }
   ],
   "source": [
    "a = 3\n",
    "\n",
    "b = 4\n",
    "\n",
    "c = 1\n",
    "\n",
    "if a**2 == b**2 + c**2:\n",
    "\n",
    "    print(\"It is a right-angled triangle.\")\n",
    "\n",
    "elif b**2 == a**2 + c**2:\n",
    "\n",
    "    print(\"It is a right-angled triangle.\")\n",
    "\n",
    "elif c**2 == a**2 + b**2:\n",
    "\n",
    "    print(\"It is a right-angled triangle.\")\n",
    "\n",
    "else:\n",
    "\n",
    "    print(\"It is NOT a right-angled triangle.\")"
   ]
  },
  {
   "cell_type": "code",
   "execution_count": 22,
   "id": "15e0693d-a060-423d-bdd3-3f97834864f6",
   "metadata": {},
   "outputs": [
    {
     "data": {
      "text/plain": [
       "True"
      ]
     },
     "execution_count": 22,
     "metadata": {},
     "output_type": "execute_result"
    }
   ],
   "source": [
    "a + b > c"
   ]
  },
  {
   "cell_type": "code",
   "execution_count": 23,
   "id": "8ac9548f-3570-403e-92ab-4487275ac0d7",
   "metadata": {},
   "outputs": [
    {
     "data": {
      "text/plain": [
       "True"
      ]
     },
     "execution_count": 23,
     "metadata": {},
     "output_type": "execute_result"
    }
   ],
   "source": [
    "b + a > c"
   ]
  },
  {
   "cell_type": "code",
   "execution_count": 24,
   "id": "81abd98e-dc17-4d42-bacb-0882e903a946",
   "metadata": {},
   "outputs": [
    {
     "data": {
      "text/plain": [
       "False"
      ]
     },
     "execution_count": 24,
     "metadata": {},
     "output_type": "execute_result"
    }
   ],
   "source": [
    "c + a > b"
   ]
  },
  {
   "cell_type": "code",
   "execution_count": 25,
   "id": "0f11f009-e79a-442d-a0d9-3179f9054789",
   "metadata": {},
   "outputs": [
    {
     "data": {
      "text/plain": [
       "'Training'"
      ]
     },
     "execution_count": 25,
     "metadata": {},
     "output_type": "execute_result"
    }
   ],
   "source": [
    "st"
   ]
  },
  {
   "cell_type": "code",
   "execution_count": 31,
   "id": "74fbc15f-ae49-45da-9a06-64ff84275225",
   "metadata": {},
   "outputs": [
    {
     "name": "stdout",
     "output_type": "stream",
     "text": [
      "g\n",
      "n\n",
      "i\n",
      "n\n",
      "i\n",
      "a\n",
      "r\n",
      "T\n"
     ]
    }
   ],
   "source": [
    "i = -1\n",
    "l = len(st)\n",
    "while l > 0:\n",
    "    print(st[i])\n",
    "    l = l - 1\n",
    "    i = i - 1"
   ]
  },
  {
   "cell_type": "code",
   "execution_count": 32,
   "id": "3cbb9f73-f0fe-4a4c-9ad9-379e91c7f2c0",
   "metadata": {},
   "outputs": [
    {
     "name": "stdout",
     "output_type": "stream",
     "text": [
      "gniniart"
     ]
    }
   ],
   "source": [
    "st = \"training\"\n",
    "\n",
    "i=1\n",
    "\n",
    "while i <= len(st):\n",
    "\n",
    "  print(st[-i],end=\"\") \n",
    "\n",
    "  i = i+1"
   ]
  },
  {
   "cell_type": "code",
   "execution_count": 42,
   "id": "3c712e7a-9241-472f-990d-f29551c04a69",
   "metadata": {},
   "outputs": [],
   "source": [
    "# 2345 -> 5432\n",
    "# 2345 -> 2+3+4+5  6823 -> 6+8+2+3"
   ]
  },
  {
   "cell_type": "code",
   "execution_count": 38,
   "id": "761876f2-92ee-47fd-86b7-b57fc4082068",
   "metadata": {},
   "outputs": [
    {
     "name": "stdout",
     "output_type": "stream",
     "text": [
      "2578\n"
     ]
    }
   ],
   "source": [
    "num = 8752\n",
    "\n",
    "num_str = str(num)           \n",
    "\n",
    "rev_str = num_str[::-1]     \n",
    "\n",
    "rev_num = int(rev_str)      \n",
    "\n",
    " \n",
    "\n",
    "print(rev_num)"
   ]
  },
  {
   "cell_type": "code",
   "execution_count": 40,
   "id": "b424678b-f6f9-4f9f-b64a-a795bee0a8e4",
   "metadata": {},
   "outputs": [
    {
     "name": "stdout",
     "output_type": "stream",
     "text": [
      "8532"
     ]
    },
    {
     "ename": "IndexError",
     "evalue": "string index out of range",
     "output_type": "error",
     "traceback": [
      "\u001b[1;31m---------------------------------------------------------------------------\u001b[0m",
      "\u001b[1;31mIndexError\u001b[0m                                Traceback (most recent call last)",
      "Cell \u001b[1;32mIn[40], line 7\u001b[0m\n\u001b[0;32m      3\u001b[0m i \u001b[38;5;241m=\u001b[39m \u001b[38;5;241m1\u001b[39m\n\u001b[0;32m      5\u001b[0m \u001b[38;5;28;01mwhile\u001b[39;00m i \u001b[38;5;241m<\u001b[39m\u001b[38;5;241m=\u001b[39m \u001b[38;5;28mlen\u001b[39m(st):\n\u001b[1;32m----> 7\u001b[0m   \u001b[38;5;28mprint\u001b[39m(\u001b[38;5;28mint\u001b[39m(num[\u001b[38;5;241m-\u001b[39mi]),end\u001b[38;5;241m=\u001b[39m\u001b[38;5;124m\"\u001b[39m\u001b[38;5;124m\"\u001b[39m)\n\u001b[0;32m      9\u001b[0m   i \u001b[38;5;241m=\u001b[39m i\u001b[38;5;241m+\u001b[39m\u001b[38;5;241m1\u001b[39m\n",
      "\u001b[1;31mIndexError\u001b[0m: string index out of range"
     ]
    }
   ],
   "source": [
    "num = \"2358\"\n",
    "\n",
    "i = 1\n",
    "\n",
    "while i <= len(st):\n",
    "\n",
    "  print(int(num[-i]),end=\"\")\n",
    "\n",
    "  i = i+1"
   ]
  },
  {
   "cell_type": "code",
   "execution_count": 41,
   "id": "2d1d0ea1-a784-4275-9444-323235823828",
   "metadata": {},
   "outputs": [
    {
     "data": {
      "text/plain": [
       "'2358'"
      ]
     },
     "execution_count": 41,
     "metadata": {},
     "output_type": "execute_result"
    }
   ],
   "source": [
    "num"
   ]
  },
  {
   "cell_type": "code",
   "execution_count": null,
   "id": "521ecc54-0dea-47d2-bbdf-4dc015d5d7dc",
   "metadata": {},
   "outputs": [],
   "source": []
  }
 ],
 "metadata": {
  "kernelspec": {
   "display_name": "Python 3 (ipykernel)",
   "language": "python",
   "name": "python3"
  },
  "language_info": {
   "codemirror_mode": {
    "name": "ipython",
    "version": 3
   },
   "file_extension": ".py",
   "mimetype": "text/x-python",
   "name": "python",
   "nbconvert_exporter": "python",
   "pygments_lexer": "ipython3",
   "version": "3.12.7"
  }
 },
 "nbformat": 4,
 "nbformat_minor": 5
}
