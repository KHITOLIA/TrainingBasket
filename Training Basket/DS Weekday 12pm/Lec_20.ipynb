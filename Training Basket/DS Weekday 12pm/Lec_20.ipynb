{
 "cells": [
  {
   "cell_type": "code",
   "execution_count": 2,
   "id": "ae17f7ac-c64b-4138-87b8-6a0fe197bbf6",
   "metadata": {},
   "outputs": [
    {
     "name": "stdout",
     "output_type": "stream",
     "text": [
      "AA CA AD "
     ]
    }
   ],
   "source": [
    "st = 'AABCAAADA'\n",
    "l = len(st)/3\n",
    "idx = 0\n",
    "n = 3\n",
    "while l>0:\n",
    "    print(st[idx : n][:2], end = ' ')\n",
    "    idx = n\n",
    "    n = n + 3\n",
    "    l = l - 1"
   ]
  },
  {
   "cell_type": "code",
   "execution_count": 1,
   "id": "cc7bed43-94d5-4e84-9bd2-55adff122db5",
   "metadata": {},
   "outputs": [],
   "source": [
    "# 1. ABC  is a right triangle,  at .B\n",
    "# Therefore, .\n",
    "# M Point  is the midpoint of hypotenuse .\n",
    "# You are given the lengths  and .\n",
    "# Your task is to find angle in degrees.\n",
    "\n"
   ]
  },
  {
   "cell_type": "code",
   "execution_count": 58,
   "id": "cf983b02-c2d1-489c-90d5-ac8452568047",
   "metadata": {},
   "outputs": [],
   "source": [
    "import math"
   ]
  },
  {
   "cell_type": "code",
   "execution_count": 14,
   "id": "8739372b-fe29-41d9-a28c-b616cb09c3f1",
   "metadata": {},
   "outputs": [],
   "source": [
    "ab = 3\n",
    "bc = 4\n",
    "ac = (ab**2 + bc**2)**0.5\n",
    "mb = ac/2\n",
    "bd = bc/2\n",
    "cos_0 = bc/mb"
   ]
  },
  {
   "cell_type": "code",
   "execution_count": 4,
   "id": "a5cb0d2b-12c9-4f5d-a513-3db55fced0e8",
   "metadata": {},
   "outputs": [
    {
     "data": {
      "text/plain": [
       "0.8"
      ]
     },
     "execution_count": 4,
     "metadata": {},
     "output_type": "execute_result"
    }
   ],
   "source": [
    "cos_0"
   ]
  },
  {
   "cell_type": "code",
   "execution_count": 60,
   "id": "75057158-d7ee-4cac-a168-665627ef11bc",
   "metadata": {},
   "outputs": [],
   "source": [
    "# radian_cos_0 = math.acos(cos_0) # to find the inverse of any angle"
   ]
  },
  {
   "cell_type": "code",
   "execution_count": 61,
   "id": "7f3342d7-55b2-4837-bcf3-5d9b7260792b",
   "metadata": {},
   "outputs": [
    {
     "data": {
      "text/plain": [
       "0.6435011087932843"
      ]
     },
     "execution_count": 61,
     "metadata": {},
     "output_type": "execute_result"
    }
   ],
   "source": [
    "radian_cos_0"
   ]
  },
  {
   "cell_type": "code",
   "execution_count": 12,
   "id": "24d1aaab-70c3-4977-ad19-639061705966",
   "metadata": {},
   "outputs": [],
   "source": [
    "angle_mbc = math.degrees(radian_cos_0)"
   ]
  },
  {
   "cell_type": "code",
   "execution_count": 13,
   "id": "593fdf05-c8ae-4feb-827b-dab792c36a4b",
   "metadata": {},
   "outputs": [
    {
     "data": {
      "text/plain": [
       "36.86989764584401"
      ]
     },
     "execution_count": 13,
     "metadata": {},
     "output_type": "execute_result"
    }
   ],
   "source": [
    "angle_mbc"
   ]
  },
  {
   "cell_type": "code",
   "execution_count": 39,
   "id": "46474d69-13dd-4430-b899-c68f60109f9e",
   "metadata": {},
   "outputs": [],
   "source": [
    "def angle_mbc(ab, bc):\n",
    "    ac = (ab**2 + bc**2)**0.5\n",
    "    mb = ac/2\n",
    "    bd = bc/2\n",
    "    cos_0 = (bc/2)/(ac/2)\n",
    "    radian_cos0 = math.acos(cos_0)\n",
    "    return math.degrees(radian_cos0)"
   ]
  },
  {
   "cell_type": "code",
   "execution_count": 40,
   "id": "538adc9d-8042-43ef-ad49-1702fcb9f7cb",
   "metadata": {},
   "outputs": [],
   "source": [
    "angle_mbc = angle_mbc(3, 4)"
   ]
  },
  {
   "cell_type": "code",
   "execution_count": 41,
   "id": "3c7f6d51-2a95-4085-9a24-ea65ac67c6d1",
   "metadata": {},
   "outputs": [
    {
     "data": {
      "text/plain": [
       "36.86989764584401"
      ]
     },
     "execution_count": 41,
     "metadata": {},
     "output_type": "execute_result"
    }
   ],
   "source": [
    "angle_mbc"
   ]
  },
  {
   "cell_type": "code",
   "execution_count": 55,
   "id": "a51cd374-1eeb-4f90-b81a-d4f36637d3db",
   "metadata": {},
   "outputs": [],
   "source": [
    "a = 1222311 \n",
    "# output = (1,3),(2, 3),(3, 1) \n",
    "digit = []\n",
    "a = str(a)\n",
    "for i in a:\n",
    "    if i not in digit:\n",
    "        digit.append((i))\n",
    "for i in range(len(digit)):\n",
    "    digit[i] = (digit[i], a.count(digit[i]))"
   ]
  },
  {
   "cell_type": "code",
   "execution_count": 56,
   "id": "38c829c7-99ce-4758-b7e2-12d2af0949a9",
   "metadata": {},
   "outputs": [
    {
     "data": {
      "text/plain": [
       "[('1', 3), ('2', 3), ('3', 1)]"
      ]
     },
     "execution_count": 56,
     "metadata": {},
     "output_type": "execute_result"
    }
   ],
   "source": [
    "digit"
   ]
  },
  {
   "cell_type": "code",
   "execution_count": 52,
   "id": "be1da789-9288-4e15-9825-c343c6066b53",
   "metadata": {},
   "outputs": [],
   "source": [
    "for i in range(len(digit)):\n",
    "    digit[i] = (digit[i], a.count(digit[i]))"
   ]
  },
  {
   "cell_type": "code",
   "execution_count": 53,
   "id": "6e6585c1-c0c6-4565-b38a-7227cb04629f",
   "metadata": {},
   "outputs": [
    {
     "data": {
      "text/plain": [
       "[('1', 3), ('2', 3), ('3', 1)]"
      ]
     },
     "execution_count": 53,
     "metadata": {},
     "output_type": "execute_result"
    }
   ],
   "source": [
    "digit"
   ]
  },
  {
   "cell_type": "code",
   "execution_count": 63,
   "id": "5fa435c2-88c9-4c77-a93a-53c706399507",
   "metadata": {},
   "outputs": [
    {
     "name": "stdout",
     "output_type": "stream",
     "text": [
      "1  \n",
      "1 2  \n",
      "1 2 3  \n",
      "1 2 3 4  \n",
      "1 2 3 4 5  \n"
     ]
    }
   ],
   "source": [
    "for i in range(1,6):\n",
    "\n",
    "  # count = \" \"\n",
    "\n",
    "  for j in range(1,6):\n",
    "\n",
    "    if i >= j:\n",
    "\n",
    "      count == j\n",
    "\n",
    "      print(j,end=\" \")\n",
    "\n",
    "  print(count)"
   ]
  },
  {
   "cell_type": "code",
   "execution_count": 64,
   "id": "f807df1a-aaff-4a48-a851-5d5dc96fab51",
   "metadata": {},
   "outputs": [
    {
     "name": "stdout",
     "output_type": "stream",
     "text": [
      "1 \n",
      "2 2 \n",
      "3 3 3 \n",
      "4 4 4 4 \n",
      "5 5 5 5 5 \n"
     ]
    }
   ],
   "source": [
    "for i in range(1, 6):\n",
    "    for j in range(1, i+1):\n",
    "        print(i, end = \" \")\n",
    "    print()"
   ]
  },
  {
   "cell_type": "code",
   "execution_count": 66,
   "id": "2552efe1-4682-45b7-beec-2c8a7761a6c3",
   "metadata": {},
   "outputs": [],
   "source": [
    "st = \"programming is awesome\".lower()\n",
    "l = st.split()\n",
    "s = 'aeiou'"
   ]
  },
  {
   "cell_type": "code",
   "execution_count": 74,
   "id": "410d329c-8d58-4b33-94a7-c6f28fd5a0a8",
   "metadata": {},
   "outputs": [
    {
     "name": "stdout",
     "output_type": "stream",
     "text": [
      "score of programming : 1\n",
      "score of is : 1\n",
      "score of awesome : 2\n"
     ]
    }
   ],
   "source": [
    "total_score = 0\n",
    "for i in l:\n",
    "\n",
    "    vowel_count = 0\n",
    "    for char in i:\n",
    "        if char in s:\n",
    "            vowel_count += 1\n",
    "            \n",
    "    if vowel_count % 2 == 0:\n",
    "        score = 2\n",
    "    else:\n",
    "        score = 1\n",
    "    print(f\"score of {i} : {score}\")\n",
    "    total_score = total_score + score"
   ]
  },
  {
   "cell_type": "code",
   "execution_count": 75,
   "id": "7bfc7a80-18e4-4f8f-aefc-6dd9dc33260f",
   "metadata": {},
   "outputs": [
    {
     "name": "stdout",
     "output_type": "stream",
     "text": [
      "4\n"
     ]
    }
   ],
   "source": [
    "print(total_score)"
   ]
  },
  {
   "cell_type": "code",
   "execution_count": 78,
   "id": "b5f024a0-6497-4465-8ee3-82dc5a3c1a38",
   "metadata": {},
   "outputs": [],
   "source": [
    "s = 'abc'\n",
    "acii_sum = 0\n",
    "for i in s:\n",
    "   acii_sum = acii_sum +  ord(i)"
   ]
  },
  {
   "cell_type": "code",
   "execution_count": 79,
   "id": "9cba5883-76c4-4042-8624-fb284af6a2c7",
   "metadata": {},
   "outputs": [
    {
     "data": {
      "text/plain": [
       "294"
      ]
     },
     "execution_count": 79,
     "metadata": {},
     "output_type": "execute_result"
    }
   ],
   "source": [
    "acii_sum"
   ]
  },
  {
   "cell_type": "code",
   "execution_count": 6,
   "id": "7e2ef5e7-b2e1-49ae-ae5a-eef5760d24ae",
   "metadata": {},
   "outputs": [],
   "source": [
    "input_ = \"This Is Data Science\" "
   ]
  },
  {
   "cell_type": "code",
   "execution_count": 2,
   "id": "489be242-c32f-4b0f-8995-1ea47040710f",
   "metadata": {},
   "outputs": [
    {
     "data": {
      "text/plain": [
       "False"
      ]
     },
     "execution_count": 2,
     "metadata": {},
     "output_type": "execute_result"
    }
   ],
   "source": [
    "'T'.islower()"
   ]
  },
  {
   "cell_type": "code",
   "execution_count": 11,
   "id": "bb4072b3-6ec0-431e-a3c1-4d01b17679d9",
   "metadata": {},
   "outputs": [],
   "source": [
    "s = ''\n",
    "for i in range(len(input_)):\n",
    "    if input_[i].islower():\n",
    "        s = s + input_[i].upper()\n",
    "    else:\n",
    "        s = s + input_[i].lower()"
   ]
  },
  {
   "cell_type": "code",
   "execution_count": 100,
   "id": "414bb961-e57f-4f41-85f5-f912f8239963",
   "metadata": {},
   "outputs": [
    {
     "data": {
      "text/plain": [
       "'tHIS iS dATA sCIENCE'"
      ]
     },
     "execution_count": 100,
     "metadata": {},
     "output_type": "execute_result"
    }
   ],
   "source": [
    "input_.swapcase()"
   ]
  },
  {
   "cell_type": "code",
   "execution_count": 13,
   "id": "8e374a1b-82de-46d5-8a71-8e571f9fadb4",
   "metadata": {},
   "outputs": [
    {
     "data": {
      "text/plain": [
       "'This Is Data Science'"
      ]
     },
     "execution_count": 13,
     "metadata": {},
     "output_type": "execute_result"
    }
   ],
   "source": [
    "input_"
   ]
  },
  {
   "cell_type": "code",
   "execution_count": 12,
   "id": "abbbef2b-a60f-4fa2-93da-e9c156da428f",
   "metadata": {},
   "outputs": [
    {
     "data": {
      "text/plain": [
       "'tHIS iS dATA sCIENCE'"
      ]
     },
     "execution_count": 12,
     "metadata": {},
     "output_type": "execute_result"
    }
   ],
   "source": [
    "s"
   ]
  },
  {
   "cell_type": "code",
   "execution_count": null,
   "id": "170a49de-6f64-422a-a8b9-3d9d5f3780c4",
   "metadata": {},
   "outputs": [],
   "source": []
  },
  {
   "cell_type": "code",
   "execution_count": null,
   "id": "cd78c61f-5286-44fe-954d-c56bb398d272",
   "metadata": {},
   "outputs": [],
   "source": []
  }
 ],
 "metadata": {
  "kernelspec": {
   "display_name": "Python 3 (ipykernel)",
   "language": "python",
   "name": "python3"
  },
  "language_info": {
   "codemirror_mode": {
    "name": "ipython",
    "version": 3
   },
   "file_extension": ".py",
   "mimetype": "text/x-python",
   "name": "python",
   "nbconvert_exporter": "python",
   "pygments_lexer": "ipython3",
   "version": "3.12.7"
  }
 },
 "nbformat": 4,
 "nbformat_minor": 5
}
