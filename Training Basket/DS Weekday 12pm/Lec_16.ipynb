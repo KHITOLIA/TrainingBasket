{
 "cells": [
  {
   "cell_type": "code",
   "execution_count": 1,
   "id": "9b30878e-5820-407b-abb2-c0b1bca56af8",
   "metadata": {},
   "outputs": [],
   "source": [
    "# break and continue"
   ]
  },
  {
   "cell_type": "code",
   "execution_count": 3,
   "id": "d6efc390-12c9-430a-a874-bd938ab63c5c",
   "metadata": {},
   "outputs": [
    {
     "name": "stdout",
     "output_type": "stream",
     "text": [
      "0\n",
      "1\n",
      "2\n"
     ]
    }
   ],
   "source": [
    "for i in range(5):\n",
    "    print(i)\n",
    "    if i == 2:\n",
    "        break"
   ]
  },
  {
   "cell_type": "code",
   "execution_count": 6,
   "id": "c099387b-176f-409d-b09d-588597cceada",
   "metadata": {},
   "outputs": [
    {
     "name": "stdout",
     "output_type": "stream",
     "text": [
      "t\n",
      "r\n",
      "a\n",
      "i\n",
      "n\n",
      "i\n",
      "n\n",
      "g\n",
      " \n"
     ]
    }
   ],
   "source": [
    "st = 'training Basket'\n",
    "for i in range(len(st)):\n",
    "    print(st[i])\n",
    "    if st[i] == ' ':\n",
    "        break"
   ]
  },
  {
   "cell_type": "code",
   "execution_count": 11,
   "id": "8fd9fb75-ca0d-4ea3-b934-b18751267ff7",
   "metadata": {},
   "outputs": [
    {
     "ename": "SyntaxError",
     "evalue": "'break' outside loop (2504938748.py, line 7)",
     "output_type": "error",
     "traceback": [
      "\u001b[1;36m  Cell \u001b[1;32mIn[11], line 7\u001b[1;36m\u001b[0m\n\u001b[1;33m    break\u001b[0m\n\u001b[1;37m    ^\u001b[0m\n\u001b[1;31mSyntaxError\u001b[0m\u001b[1;31m:\u001b[0m 'break' outside loop\n"
     ]
    }
   ],
   "source": [
    "a = 10\n",
    "if a > 5: \n",
    "    print('hello')\n",
    "elif a > 10:\n",
    "    print(\"hi\")\n",
    "    if a == 10:\n",
    "        break"
   ]
  },
  {
   "cell_type": "code",
   "execution_count": 13,
   "id": "85356a92-aadf-40e7-9a13-001c465cca7e",
   "metadata": {},
   "outputs": [
    {
     "name": "stdin",
     "output_type": "stream",
     "text": [
      "enter your password sdfsdf\n"
     ]
    },
    {
     "name": "stdout",
     "output_type": "stream",
     "text": [
      "Try again\n"
     ]
    },
    {
     "name": "stdin",
     "output_type": "stream",
     "text": [
      "enter your password sdfsdf\n"
     ]
    },
    {
     "name": "stdout",
     "output_type": "stream",
     "text": [
      "Try again\n"
     ]
    },
    {
     "name": "stdin",
     "output_type": "stream",
     "text": [
      "enter your password TushaR\n"
     ]
    },
    {
     "name": "stdout",
     "output_type": "stream",
     "text": [
      "Try again\n"
     ]
    },
    {
     "name": "stdin",
     "output_type": "stream",
     "text": [
      "enter your password Tushar\n"
     ]
    },
    {
     "name": "stdout",
     "output_type": "stream",
     "text": [
      "Authenticated\n"
     ]
    }
   ],
   "source": [
    "while True:\n",
    "    a = input(\"enter your password\")\n",
    "    if a == 'Tushar':\n",
    "        print(\"Authenticated\")\n",
    "        break\n",
    "    else:\n",
    "        print(\"Try again\")"
   ]
  },
  {
   "cell_type": "code",
   "execution_count": 21,
   "id": "ea0aaf59-a16e-447d-82ff-2aa30e435870",
   "metadata": {},
   "outputs": [
    {
     "name": "stdout",
     "output_type": "stream",
     "text": [
      "0\n",
      "0 0\n",
      "0 1\n",
      "0 2\n",
      "1\n",
      "1 0\n",
      "1 1\n",
      "1 2\n",
      "2\n"
     ]
    }
   ],
   "source": [
    "for i in range(5):\n",
    "    print(i)\n",
    "    if i == 2:\n",
    "        break\n",
    "        print(\"loop has been broken here\")\n",
    "        \n",
    "    for j in range(3):\n",
    "        # if j  == 2:\n",
    "        #     break\n",
    "        print(i, j)"
   ]
  },
  {
   "cell_type": "code",
   "execution_count": 23,
   "id": "ae322276-3306-4f3a-a3a4-16f697353e66",
   "metadata": {},
   "outputs": [
    {
     "name": "stdout",
     "output_type": "stream",
     "text": [
      "the value of i 0\n",
      "code goes to the intial loop\n",
      "the value of j 1\n",
      "the value of j 2\n",
      "the value of i 1\n",
      "the value of j 0\n",
      "code goes to the intial loop\n",
      "the value of j 2\n",
      "the value of i 2\n",
      "the value of j 0\n",
      "the value of j 1\n",
      "code goes to the intial loop\n",
      "the value of i 3\n",
      "the value of j 0\n",
      "the value of j 1\n",
      "the value of j 2\n",
      "the value of i 4\n",
      "the value of j 0\n",
      "the value of j 1\n",
      "the value of j 2\n"
     ]
    }
   ],
   "source": [
    "for i in range(5):\n",
    "    print(\"the value of i\", i)\n",
    "    for j in range(3):\n",
    "        if j == i:\n",
    "            print(\"code goes to the intial loop\")\n",
    "            continue\n",
    "        print(\"the value of j\", j)\n",
    "        "
   ]
  },
  {
   "cell_type": "code",
   "execution_count": 25,
   "id": "103b0b4a-995a-4b8c-bfaa-43f55ba8acea",
   "metadata": {},
   "outputs": [],
   "source": [
    "# String : collection of characters\n"
   ]
  },
  {
   "cell_type": "code",
   "execution_count": 26,
   "id": "c575fbe9-4aba-451d-8e83-dbe90bf90151",
   "metadata": {},
   "outputs": [
    {
     "name": "stdout",
     "output_type": "stream",
     "text": [
      "Tushar\n"
     ]
    }
   ],
   "source": [
    "st = 'Tushar'\n",
    "print(st)"
   ]
  },
  {
   "cell_type": "code",
   "execution_count": 27,
   "id": "50c79c3b-8202-4ada-a5cb-767fb632137f",
   "metadata": {},
   "outputs": [
    {
     "name": "stdout",
     "output_type": "stream",
     "text": [
      "hello my name is Tushar\n"
     ]
    }
   ],
   "source": [
    "print('hello my name is {}'.format(st))"
   ]
  },
  {
   "cell_type": "code",
   "execution_count": 32,
   "id": "95164104-44e9-4d6f-9cce-ee222dc1becc",
   "metadata": {},
   "outputs": [
    {
     "name": "stdin",
     "output_type": "stream",
     "text": [
      "enter your name =  nidhi\n"
     ]
    },
    {
     "name": "stdout",
     "output_type": "stream",
     "text": [
      "nidhi is doing great\n"
     ]
    }
   ],
   "source": [
    "# Format string\n",
    "print(\"{} is doing great\".format(input(\"enter your name = \")))"
   ]
  },
  {
   "cell_type": "code",
   "execution_count": 33,
   "id": "92abcca0-b96f-491e-9d2d-0f5565c6d46d",
   "metadata": {},
   "outputs": [
    {
     "name": "stdin",
     "output_type": "stream",
     "text": [
      "enter your surname =  Khitoliya\n"
     ]
    },
    {
     "name": "stdout",
     "output_type": "stream",
     "text": [
      "hello my name is Tushar Khitoliya\n"
     ]
    }
   ],
   "source": [
    "# Fstring\n",
    "print(f\"hello my name is {st} {input(\"enter your surname = \")}\")"
   ]
  },
  {
   "cell_type": "code",
   "execution_count": 44,
   "id": "766895bb-15be-4a9b-bb13-8a98a4d745b4",
   "metadata": {},
   "outputs": [],
   "source": [
    "st = '   Tushar_9876543210    '\n",
    "st = st.strip()"
   ]
  },
  {
   "cell_type": "code",
   "execution_count": 42,
   "id": "76b7dd68-632a-4f0a-8695-e722ab971fe4",
   "metadata": {},
   "outputs": [
    {
     "data": {
      "text/plain": [
       "'   Tushar_9876543210    '"
      ]
     },
     "execution_count": 42,
     "metadata": {},
     "output_type": "execute_result"
    }
   ],
   "source": [
    "st"
   ]
  },
  {
   "cell_type": "code",
   "execution_count": 48,
   "id": "25771c23-8b36-4f57-9922-4af7de906701",
   "metadata": {},
   "outputs": [
    {
     "data": {
      "text/plain": [
       "['Tushar', '_9876543210']"
      ]
     },
     "execution_count": 48,
     "metadata": {},
     "output_type": "execute_result"
    }
   ],
   "source": [
    "st = '   Tushar   _9876543210    '\n",
    "st.split()"
   ]
  },
  {
   "cell_type": "code",
   "execution_count": 111,
   "id": "7e32c544-fce7-47a0-9441-6b02e5f23e0d",
   "metadata": {},
   "outputs": [
    {
     "data": {
      "text/plain": [
       "['Hello', 'world']"
      ]
     },
     "execution_count": 111,
     "metadata": {},
     "output_type": "execute_result"
    }
   ],
   "source": [
    "t = 'Hello world'\n",
    "t.split()"
   ]
  },
  {
   "cell_type": "code",
   "execution_count": 53,
   "id": "fbd72979-ae17-4dca-95bf-70027fb106a5",
   "metadata": {},
   "outputs": [
    {
     "data": {
      "text/plain": [
       "['Hello    worl', '']"
      ]
     },
     "execution_count": 53,
     "metadata": {},
     "output_type": "execute_result"
    }
   ],
   "source": [
    "t.split('d')"
   ]
  },
  {
   "cell_type": "code",
   "execution_count": 54,
   "id": "3cbd2ca1-cecd-4aa1-b47c-eb2d1aa5e0be",
   "metadata": {},
   "outputs": [],
   "source": [
    "t = t.split()"
   ]
  },
  {
   "cell_type": "code",
   "execution_count": 55,
   "id": "2d12e4af-b685-4f06-9fe1-4b0c90599651",
   "metadata": {},
   "outputs": [
    {
     "data": {
      "text/plain": [
       "['Hello', 'world']"
      ]
     },
     "execution_count": 55,
     "metadata": {},
     "output_type": "execute_result"
    }
   ],
   "source": [
    "t"
   ]
  },
  {
   "cell_type": "code",
   "execution_count": 57,
   "id": "fa5e8270-8428-47f9-97e9-6050d9f4c346",
   "metadata": {},
   "outputs": [],
   "source": [
    "t = 'Hello world'"
   ]
  },
  {
   "cell_type": "code",
   "execution_count": 63,
   "id": "35a31317-0081-43e9-b1a3-3e9f1877c7d8",
   "metadata": {},
   "outputs": [
    {
     "data": {
      "text/plain": [
       "'Hello world'"
      ]
     },
     "execution_count": 63,
     "metadata": {},
     "output_type": "execute_result"
    }
   ],
   "source": [
    "t.replace('tushar', 'W')"
   ]
  },
  {
   "cell_type": "code",
   "execution_count": 68,
   "id": "09556d7e-7707-43d3-9cda-fce310e8ce92",
   "metadata": {},
   "outputs": [
    {
     "data": {
      "text/plain": [
       "1"
      ]
     },
     "execution_count": 68,
     "metadata": {},
     "output_type": "execute_result"
    }
   ],
   "source": [
    "t.count('wo')"
   ]
  },
  {
   "cell_type": "code",
   "execution_count": 69,
   "id": "eb6c1d54-20ac-4375-bfff-a29973b5bfaf",
   "metadata": {},
   "outputs": [
    {
     "data": {
      "text/plain": [
       "'HELLO WORLD'"
      ]
     },
     "execution_count": 69,
     "metadata": {},
     "output_type": "execute_result"
    }
   ],
   "source": [
    "t.upper()"
   ]
  },
  {
   "cell_type": "code",
   "execution_count": 70,
   "id": "60e3f740-83b1-4b2b-8623-3a8b3b2b6249",
   "metadata": {},
   "outputs": [
    {
     "data": {
      "text/plain": [
       "'hello world'"
      ]
     },
     "execution_count": 70,
     "metadata": {},
     "output_type": "execute_result"
    }
   ],
   "source": [
    "t.lower()"
   ]
  },
  {
   "cell_type": "code",
   "execution_count": 71,
   "id": "824f85c1-13a0-4d90-9aba-1c8360120b1a",
   "metadata": {},
   "outputs": [],
   "source": [
    "t = t.lower()"
   ]
  },
  {
   "cell_type": "code",
   "execution_count": 78,
   "id": "67c2e2bc-9405-42fb-aaf3-03a738afe5d8",
   "metadata": {},
   "outputs": [
    {
     "data": {
      "text/plain": [
       "'A'"
      ]
     },
     "execution_count": 78,
     "metadata": {},
     "output_type": "execute_result"
    }
   ],
   "source": [
    "chr(97 - 32) "
   ]
  },
  {
   "cell_type": "code",
   "execution_count": 79,
   "id": "8f84eb67-4b59-4401-beac-7d65c2866bb9",
   "metadata": {},
   "outputs": [
    {
     "data": {
      "text/plain": [
       "65"
      ]
     },
     "execution_count": 79,
     "metadata": {},
     "output_type": "execute_result"
    }
   ],
   "source": [
    "97 - 32"
   ]
  },
  {
   "cell_type": "code",
   "execution_count": 80,
   "id": "09eefd9f-a9c5-4724-a2fc-7eb695baf218",
   "metadata": {},
   "outputs": [
    {
     "data": {
      "text/plain": [
       "'A'"
      ]
     },
     "execution_count": 80,
     "metadata": {},
     "output_type": "execute_result"
    }
   ],
   "source": [
    "chr(65)"
   ]
  },
  {
   "cell_type": "code",
   "execution_count": 81,
   "id": "550eb03c-04bd-4931-9650-e504a5761d23",
   "metadata": {},
   "outputs": [
    {
     "data": {
      "text/plain": [
       "'a'"
      ]
     },
     "execution_count": 81,
     "metadata": {},
     "output_type": "execute_result"
    }
   ],
   "source": [
    "chr(97)"
   ]
  },
  {
   "cell_type": "code",
   "execution_count": 82,
   "id": "a4664774-5a45-45b2-9c45-6724577a3fa6",
   "metadata": {},
   "outputs": [
    {
     "data": {
      "text/plain": [
       "'Hello world'"
      ]
     },
     "execution_count": 82,
     "metadata": {},
     "output_type": "execute_result"
    }
   ],
   "source": [
    "t.capitalize()"
   ]
  },
  {
   "cell_type": "code",
   "execution_count": 83,
   "id": "afdb1534-6c9b-4914-a793-d10e6dc4b993",
   "metadata": {},
   "outputs": [
    {
     "data": {
      "text/plain": [
       "'hello world'"
      ]
     },
     "execution_count": 83,
     "metadata": {},
     "output_type": "execute_result"
    }
   ],
   "source": [
    "t"
   ]
  },
  {
   "cell_type": "code",
   "execution_count": 108,
   "id": "1e78125f-499c-4e30-840d-883561b5281f",
   "metadata": {},
   "outputs": [
    {
     "data": {
      "text/plain": [
       "'hello world'"
      ]
     },
     "execution_count": 108,
     "metadata": {},
     "output_type": "execute_result"
    }
   ],
   "source": [
    "t"
   ]
  },
  {
   "cell_type": "code",
   "execution_count": 110,
   "id": "14920e5b-dfa1-418c-ad3e-bd988fdbc2f1",
   "metadata": {},
   "outputs": [
    {
     "data": {
      "text/plain": [
       "'Hello world'"
      ]
     },
     "execution_count": 110,
     "metadata": {},
     "output_type": "execute_result"
    }
   ],
   "source": [
    "t.replace('h',chr(ord('h') - 32))"
   ]
  },
  {
   "cell_type": "code",
   "execution_count": 112,
   "id": "21799c33-cbe0-4a6f-a91b-83a407501e2c",
   "metadata": {},
   "outputs": [
    {
     "data": {
      "text/plain": [
       "False"
      ]
     },
     "execution_count": 112,
     "metadata": {},
     "output_type": "execute_result"
    }
   ],
   "source": [
    "t.isdigit()"
   ]
  },
  {
   "cell_type": "code",
   "execution_count": 114,
   "id": "78cd907d-9100-4bff-ba8d-5caf7d9530ef",
   "metadata": {},
   "outputs": [
    {
     "data": {
      "text/plain": [
       "False"
      ]
     },
     "execution_count": 114,
     "metadata": {},
     "output_type": "execute_result"
    }
   ],
   "source": [
    "' 3455'.isdigit()"
   ]
  },
  {
   "cell_type": "code",
   "execution_count": 117,
   "id": "e4f71ffd-0798-4846-bf1a-8a7bb816e1a5",
   "metadata": {},
   "outputs": [
    {
     "data": {
      "text/plain": [
       "False"
      ]
     },
     "execution_count": 117,
     "metadata": {},
     "output_type": "execute_result"
    }
   ],
   "source": [
    "t.isalpha()"
   ]
  },
  {
   "cell_type": "code",
   "execution_count": 118,
   "id": "520dd4ae-f611-4859-aa1e-9b2f4baf8475",
   "metadata": {},
   "outputs": [
    {
     "data": {
      "text/plain": [
       "'Hello world'"
      ]
     },
     "execution_count": 118,
     "metadata": {},
     "output_type": "execute_result"
    }
   ],
   "source": [
    "t"
   ]
  },
  {
   "cell_type": "code",
   "execution_count": 120,
   "id": "75cc6a99-f98c-4e21-a00f-c8c3ad32d3cf",
   "metadata": {},
   "outputs": [
    {
     "data": {
      "text/plain": [
       "False"
      ]
     },
     "execution_count": 120,
     "metadata": {},
     "output_type": "execute_result"
    }
   ],
   "source": [
    "' hellowolrd'.isalpha()"
   ]
  },
  {
   "cell_type": "code",
   "execution_count": 121,
   "id": "810a6171-fad2-416e-9d19-96784d7d49bd",
   "metadata": {},
   "outputs": [
    {
     "data": {
      "text/plain": [
       "'Hello world'"
      ]
     },
     "execution_count": 121,
     "metadata": {},
     "output_type": "execute_result"
    }
   ],
   "source": [
    "t"
   ]
  },
  {
   "cell_type": "code",
   "execution_count": 122,
   "id": "ffdb5bc5-de7a-4a93-b399-387da98f836a",
   "metadata": {},
   "outputs": [
    {
     "data": {
      "text/plain": [
       "True"
      ]
     },
     "execution_count": 122,
     "metadata": {},
     "output_type": "execute_result"
    }
   ],
   "source": [
    "t.endswith('d')"
   ]
  },
  {
   "cell_type": "code",
   "execution_count": 123,
   "id": "9a3d54bf-9dfc-4407-b574-97e05dc5e377",
   "metadata": {},
   "outputs": [
    {
     "data": {
      "text/plain": [
       "True"
      ]
     },
     "execution_count": 123,
     "metadata": {},
     "output_type": "execute_result"
    }
   ],
   "source": [
    "t.endswith('ld')"
   ]
  },
  {
   "cell_type": "code",
   "execution_count": 124,
   "id": "cde04912-7d4e-4b75-af81-73667f4ebdc7",
   "metadata": {},
   "outputs": [
    {
     "data": {
      "text/plain": [
       "True"
      ]
     },
     "execution_count": 124,
     "metadata": {},
     "output_type": "execute_result"
    }
   ],
   "source": [
    "t.endswith(\"world\")"
   ]
  },
  {
   "cell_type": "code",
   "execution_count": 127,
   "id": "2b8ee733-21f5-42cc-b274-2d2cd737d640",
   "metadata": {},
   "outputs": [
    {
     "data": {
      "text/plain": [
       "True"
      ]
     },
     "execution_count": 127,
     "metadata": {},
     "output_type": "execute_result"
    }
   ],
   "source": [
    "t.endswith(\"Hello world\")"
   ]
  },
  {
   "cell_type": "code",
   "execution_count": 129,
   "id": "30d9b9b3-8f15-4ee1-b938-b226cb4a6529",
   "metadata": {},
   "outputs": [
    {
     "data": {
      "text/plain": [
       "6"
      ]
     },
     "execution_count": 129,
     "metadata": {},
     "output_type": "execute_result"
    }
   ],
   "source": [
    "t.find('world')"
   ]
  },
  {
   "cell_type": "code",
   "execution_count": 130,
   "id": "8e973003-e37f-47fe-b243-54f985018d89",
   "metadata": {},
   "outputs": [
    {
     "data": {
      "text/plain": [
       "2"
      ]
     },
     "execution_count": 130,
     "metadata": {},
     "output_type": "execute_result"
    }
   ],
   "source": [
    "t.find('l')"
   ]
  },
  {
   "cell_type": "code",
   "execution_count": 136,
   "id": "09755dfe-d218-415c-a01a-f8ebb25ce1d0",
   "metadata": {},
   "outputs": [],
   "source": [
    "a = ['Tushar', 'Khitoliya']\n",
    "combine = ' '.join(a)"
   ]
  },
  {
   "cell_type": "code",
   "execution_count": 137,
   "id": "e5f74c89-e7a0-43e5-ad1e-fd0b09ca19cb",
   "metadata": {},
   "outputs": [
    {
     "data": {
      "text/plain": [
       "'Tushar Khitoliya'"
      ]
     },
     "execution_count": 137,
     "metadata": {},
     "output_type": "execute_result"
    }
   ],
   "source": [
    "combine"
   ]
  },
  {
   "cell_type": "code",
   "execution_count": 138,
   "id": "46ce7e3e-291d-42f7-b2a7-180d6446041b",
   "metadata": {},
   "outputs": [
    {
     "data": {
      "text/plain": [
       "3"
      ]
     },
     "execution_count": 138,
     "metadata": {},
     "output_type": "execute_result"
    }
   ],
   "source": [
    "st = 'we need to go to school today'\n",
    "st.count('t')"
   ]
  },
  {
   "cell_type": "code",
   "execution_count": 139,
   "id": "194b0a95-aea8-4030-af7a-495ef930bac3",
   "metadata": {},
   "outputs": [
    {
     "data": {
      "text/plain": [
       "3"
      ]
     },
     "execution_count": 139,
     "metadata": {},
     "output_type": "execute_result"
    }
   ],
   "source": [
    "st.count('to')"
   ]
  },
  {
   "cell_type": "code",
   "execution_count": 140,
   "id": "33535bb2-156f-4555-aea5-8293eede62d7",
   "metadata": {},
   "outputs": [
    {
     "data": {
      "text/plain": [
       "'we need to go to school today'"
      ]
     },
     "execution_count": 140,
     "metadata": {},
     "output_type": "execute_result"
    }
   ],
   "source": [
    "st"
   ]
  },
  {
   "cell_type": "code",
   "execution_count": 141,
   "id": "6d2b27a8-e844-4b98-8174-5f4105766506",
   "metadata": {},
   "outputs": [
    {
     "data": {
      "text/plain": [
       "'WE NEED TO GO TO SCHOOL TODAY'"
      ]
     },
     "execution_count": 141,
     "metadata": {},
     "output_type": "execute_result"
    }
   ],
   "source": [
    "st.upper()"
   ]
  },
  {
   "cell_type": "code",
   "execution_count": 142,
   "id": "6454c89d-bd23-48d5-bbf0-fcc2638916e7",
   "metadata": {},
   "outputs": [],
   "source": [
    "# Q1 : change the string to upper case"
   ]
  },
  {
   "cell_type": "code",
   "execution_count": 146,
   "id": "31c3b528-eac9-4662-b846-e48cb44006da",
   "metadata": {},
   "outputs": [
    {
     "name": "stdout",
     "output_type": "stream",
     "text": [
      "MY\u0000NAME\u0000IS\u0000KANHAIYA\u0000SHARMA"
     ]
    }
   ],
   "source": [
    "a = \"my name is kanhaiya sharma\"\n",
    "\n",
    "for i in range(len(a)):\n",
    "    print(chr(ord(a[i])-32),end=\"\")"
   ]
  },
  {
   "cell_type": "code",
   "execution_count": 151,
   "id": "f8df968c-4c8d-4a76-aeac-1cde5937da5e",
   "metadata": {},
   "outputs": [
    {
     "name": "stdout",
     "output_type": "stream",
     "text": [
      "MY\u0000NAME\u0000IS\u0000KANHAIYA\u0000SHARMA"
     ]
    }
   ],
   "source": [
    "for i in range(len(a)):\n",
    "    print(chr(ord(a[i]) - 32), end = '')"
   ]
  },
  {
   "cell_type": "code",
   "execution_count": 153,
   "id": "57b3ac5f-4ece-4cf2-ba31-b463ace12fcc",
   "metadata": {},
   "outputs": [
    {
     "name": "stdout",
     "output_type": "stream",
     "text": [
      "M Y \u0000 N A M E \u0000 I S \u0000 K A N H A I Y A \u0000 S H A R M A "
     ]
    }
   ],
   "source": [
    "a = \"my name is kanhaiya sharma\"\n",
    "\n",
    "for i in range(len(a)):\n",
    "\n",
    "  print(chr(ord(a[i])-32),end=\" \")"
   ]
  },
  {
   "cell_type": "code",
   "execution_count": 154,
   "id": "32ebaf21-9a12-4172-aea3-ceccd2f3a1e5",
   "metadata": {},
   "outputs": [
    {
     "data": {
      "text/plain": [
       "['my', 'name', 'is', 'kanhaiya', 'sharma']"
      ]
     },
     "execution_count": 154,
     "metadata": {},
     "output_type": "execute_result"
    }
   ],
   "source": [
    "a.split()"
   ]
  },
  {
   "cell_type": "code",
   "execution_count": 157,
   "id": "4e2af2e6-5c8c-4f27-8583-f6ffc5f6f721",
   "metadata": {},
   "outputs": [],
   "source": [
    "l = a.split()"
   ]
  },
  {
   "cell_type": "code",
   "execution_count": 158,
   "id": "0eec4794-47e4-46f5-bd54-c99aed9005f4",
   "metadata": {},
   "outputs": [
    {
     "data": {
      "text/plain": [
       "['my', 'name', 'is', 'kanhaiya', 'sharma']"
      ]
     },
     "execution_count": 158,
     "metadata": {},
     "output_type": "execute_result"
    }
   ],
   "source": [
    "l"
   ]
  },
  {
   "cell_type": "code",
   "execution_count": 177,
   "id": "3e9b5fef-f9db-453d-9919-a996f25e73b0",
   "metadata": {},
   "outputs": [
    {
     "name": "stdout",
     "output_type": "stream",
     "text": [
      "MY NAME IS KANHAIYA SHARMA "
     ]
    }
   ],
   "source": [
    "for i in range(len(l)):\n",
    "    b = ''\n",
    "    for char in l[i]:\n",
    "        b = b + chr(ord(char) - 32)\n",
    "    print(b, end = ' ')"
   ]
  },
  {
   "cell_type": "code",
   "execution_count": 183,
   "id": "b66c728e-a180-4962-8b82-a59a109db9c8",
   "metadata": {},
   "outputs": [],
   "source": [
    "st = 'The quick fox jumps over the box'\n",
    "# find the occurence of each character avoid repeating"
   ]
  },
  {
   "cell_type": "code",
   "execution_count": 196,
   "id": "c9033a7c-e1f5-4d65-b277-4d3f80f0d422",
   "metadata": {},
   "outputs": [],
   "source": [
    "# 1 Split string in groups of n consecutive characters\n",
    "\n",
    "# Input : str = \"training basket\", n = 3\n",
    "# Output : ['tra', 'ini', 'ng ', 'bas', 'ket']\n",
    "# # Split String on vowels\n",
    "\n",
    "# 2 Split the string from vowels\n",
    "# input : test_str = 'GFGaBstuforigeeks' \n",
    "# Output : ['GFG', 'Bst', 'f', 'r', 'g', 'ks']\n",
    "# # Explanation : a, e, o, u, i are vowels and split happens on that.\n",
    "\n",
    "# 3 Print the middle character of a string\n",
    "# st = 'Training Basket'\n",
    "\n",
    "# 4 Count Number of Vowels in Given String - Python\n",
    "# s = \"Python Programming\"\n"
   ]
  },
  {
   "cell_type": "code",
   "execution_count": 194,
   "id": "0672021a-0b8e-4b2e-85cd-279b5ef8c68d",
   "metadata": {},
   "outputs": [],
   "source": [
    "st = 'Training Basket'\n",
    "n = 3\n",
    "iterations = int(len(st)/n)\n",
    "j = 0\n",
    "l1 = []\n",
    "for i in range(iterations):\n",
    "    l1.append(st[j:n])\n",
    "    j = n\n",
    "    n = n + 3"
   ]
  },
  {
   "cell_type": "code",
   "execution_count": 195,
   "id": "9696a2b4-e090-4422-a653-e5d3bc1df05e",
   "metadata": {},
   "outputs": [
    {
     "data": {
      "text/plain": [
       "['Tra', 'ini', 'ng ', 'Bas', 'ket']"
      ]
     },
     "execution_count": 195,
     "metadata": {},
     "output_type": "execute_result"
    }
   ],
   "source": [
    "l1"
   ]
  },
  {
   "cell_type": "code",
   "execution_count": 193,
   "id": "849f60b7-0873-4123-9ee6-73db20ce3890",
   "metadata": {},
   "outputs": [
    {
     "data": {
      "text/plain": [
       "5.0"
      ]
     },
     "execution_count": 193,
     "metadata": {},
     "output_type": "execute_result"
    }
   ],
   "source": [
    "len(st)/3"
   ]
  },
  {
   "cell_type": "code",
   "execution_count": 1,
   "id": "689ff066-e4d5-45eb-8d40-1b581a7fbbf1",
   "metadata": {},
   "outputs": [],
   "source": [
    "a = 'aeiouAEIOU'\n",
    "s = \"Python Programming\""
   ]
  },
  {
   "cell_type": "code",
   "execution_count": 6,
   "id": "664d0923-bd82-4d01-b327-097b8106bbac",
   "metadata": {},
   "outputs": [],
   "source": [
    "# s = [('Apple',7), ('Orange',10), ('Banana',2), ('Mano',8), ('Guava',6)]\n",
    "\n",
    "# for _ in range(len(s)):\n",
    "#     for i in range(len(s)-1):\n",
    "#         if s[i][1] > s[i+1][1]:\n",
    "#             s[i], s[i+1] = s[i+1], s[i]\n",
    "\n",
    "# print(s)"
   ]
  },
  {
   "cell_type": "code",
   "execution_count": 7,
   "id": "ed447b35-b673-4cd0-9724-d438a5675476",
   "metadata": {},
   "outputs": [],
   "source": [
    "# for loop"
   ]
  },
  {
   "cell_type": "code",
   "execution_count": 8,
   "id": "ca0d0e2d-4724-4e9f-9c00-6de5268a2573",
   "metadata": {},
   "outputs": [
    {
     "name": "stdout",
     "output_type": "stream",
     "text": [
      "hello\n",
      "hello\n",
      "hello\n",
      "hello\n",
      "hello\n"
     ]
    }
   ],
   "source": [
    "for i in range(5):\n",
    "    print('hello')"
   ]
  },
  {
   "cell_type": "code",
   "execution_count": 9,
   "id": "3e1b185b-edda-4d25-95cb-3f28df94031e",
   "metadata": {},
   "outputs": [
    {
     "name": "stdout",
     "output_type": "stream",
     "text": [
      "1\n",
      "3\n",
      "5\n",
      "7\n",
      "9\n",
      "11\n",
      "13\n",
      "15\n",
      "17\n",
      "19\n"
     ]
    }
   ],
   "source": [
    "for i in range(1, 20, 2):\n",
    "    print(i)"
   ]
  },
  {
   "cell_type": "code",
   "execution_count": 10,
   "id": "69e7932e-0c75-40a0-bf69-2bf8b69ff634",
   "metadata": {},
   "outputs": [],
   "source": [
    "# 1, 20"
   ]
  },
  {
   "cell_type": "code",
   "execution_count": 15,
   "id": "0ec6bd51-f62c-46b4-9dd8-e2c2e8607ffd",
   "metadata": {},
   "outputs": [],
   "source": [
    "sum_ = 0\n",
    "for i in range(1, 21):\n",
    "    sum_ = sum_ + i \n"
   ]
  },
  {
   "cell_type": "code",
   "execution_count": 16,
   "id": "027deec1-1955-4ec4-8a8f-8cf5fe4771c7",
   "metadata": {},
   "outputs": [
    {
     "data": {
      "text/plain": [
       "210"
      ]
     },
     "execution_count": 16,
     "metadata": {},
     "output_type": "execute_result"
    }
   ],
   "source": [
    "sum_"
   ]
  },
  {
   "cell_type": "code",
   "execution_count": 18,
   "id": "4624e6f8-25db-40d0-9d7e-893d472b17a6",
   "metadata": {},
   "outputs": [
    {
     "data": {
      "text/plain": [
       "14"
      ]
     },
     "execution_count": 18,
     "metadata": {},
     "output_type": "execute_result"
    }
   ],
   "source": [
    "s = 'data analytics'\n",
    "len(s)"
   ]
  },
  {
   "cell_type": "code",
   "execution_count": 21,
   "id": "7a056dfa-3122-4c8f-9981-dcafbc99dbb4",
   "metadata": {},
   "outputs": [
    {
     "name": "stdout",
     "output_type": "stream",
     "text": [
      "d\n",
      "a\n",
      "t\n",
      "a\n",
      " \n",
      "a\n",
      "n\n",
      "a\n",
      "l\n",
      "y\n",
      "t\n",
      "i\n",
      "c\n",
      "s\n"
     ]
    }
   ],
   "source": [
    "for i in range(14):\n",
    "    print(s[i])"
   ]
  },
  {
   "cell_type": "code",
   "execution_count": 22,
   "id": "e99feeb3-0cdd-41cc-a938-35f3c64375b2",
   "metadata": {},
   "outputs": [
    {
     "name": "stdout",
     "output_type": "stream",
     "text": [
      "d\n",
      "a\n",
      "t\n",
      "a\n",
      " \n",
      "a\n",
      "n\n",
      "a\n",
      "l\n",
      "y\n",
      "t\n",
      "i\n",
      "c\n",
      "s\n"
     ]
    }
   ],
   "source": [
    "for i in s:\n",
    "    print(i)"
   ]
  },
  {
   "cell_type": "code",
   "execution_count": null,
   "id": "58f4ec32-76df-4228-9c54-6390da2028fe",
   "metadata": {},
   "outputs": [],
   "source": []
  }
 ],
 "metadata": {
  "kernelspec": {
   "display_name": "Python 3 (ipykernel)",
   "language": "python",
   "name": "python3"
  },
  "language_info": {
   "codemirror_mode": {
    "name": "ipython",
    "version": 3
   },
   "file_extension": ".py",
   "mimetype": "text/x-python",
   "name": "python",
   "nbconvert_exporter": "python",
   "pygments_lexer": "ipython3",
   "version": "3.12.7"
  }
 },
 "nbformat": 4,
 "nbformat_minor": 5
}
