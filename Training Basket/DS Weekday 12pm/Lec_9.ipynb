{
 "cells": [
  {
   "cell_type": "code",
   "execution_count": 3,
   "id": "68d11096-19d7-4fd2-a59f-26d6b149769d",
   "metadata": {},
   "outputs": [
    {
     "name": "stdin",
     "output_type": "stream",
     "text": [
      "Enter the value: A\n"
     ]
    },
    {
     "data": {
      "text/plain": [
       "'It is vowel'"
      ]
     },
     "execution_count": 3,
     "metadata": {},
     "output_type": "execute_result"
    }
   ],
   "source": [
    "def check_vowels():\n",
    "\n",
    "  a = input(\"Enter the value:\").lower()\n",
    "\n",
    "  if a == \"a\" or a == \"e\" or a == \"i\" or a == \"o\" or a == \"u\":\n",
    "\n",
    "    return \"It is vowel\"\n",
    "\n",
    "  else:\n",
    "\n",
    "    return \"It is not vowel\"\n",
    "\n",
    "check_vowels()"
   ]
  },
  {
   "cell_type": "code",
   "execution_count": 4,
   "id": "10f61855-e0b5-4145-9a3c-fe7c3467477d",
   "metadata": {},
   "outputs": [],
   "source": [
    "def vowel():\n",
    "\n",
    "  a=input(\"enter a number\")\n",
    "\n",
    "  if a is vowel:\n",
    "\n",
    "    print(\"a is vowel\")\n",
    "\n",
    "  else:\n",
    "\n",
    "    print(\"not vowel\")"
   ]
  },
  {
   "cell_type": "code",
   "execution_count": 5,
   "id": "b47f04fa-920c-418b-87c9-daa9ee77523d",
   "metadata": {},
   "outputs": [
    {
     "name": "stdin",
     "output_type": "stream",
     "text": [
      "enter a number e\n"
     ]
    },
    {
     "name": "stdout",
     "output_type": "stream",
     "text": [
      "not vowel\n"
     ]
    }
   ],
   "source": [
    "vowel()"
   ]
  },
  {
   "cell_type": "code",
   "execution_count": 8,
   "id": "a3f61c7b-77ec-450b-aa08-343cdbf8dfb4",
   "metadata": {},
   "outputs": [
    {
     "name": "stdin",
     "output_type": "stream",
     "text": [
      "enter the character =  i\n"
     ]
    },
    {
     "name": "stdout",
     "output_type": "stream",
     "text": [
      "yes\n"
     ]
    }
   ],
   "source": [
    "a = 'aeiouAEIOU'\n",
    "b = input(\"enter the character = \")\n",
    "if b in a:\n",
    "    print('yes')\n",
    "else:\n",
    "    print(\"No\")"
   ]
  },
  {
   "cell_type": "code",
   "execution_count": 19,
   "id": "837a2b6d-0bcd-41c2-a99d-c5b3ecf4a6b6",
   "metadata": {},
   "outputs": [],
   "source": [
    "def vowel():\n",
    "    a = input(\"enter the character = \")\n",
    "    b = 'aeiouAEIOU'\n",
    "    print(a)\n",
    "    if a in b:\n",
    "        return a + ' is a vowel'\n",
    "    else:\n",
    "        return a + ' is not a vowel'"
   ]
  },
  {
   "cell_type": "code",
   "execution_count": 20,
   "id": "487cdce4-3364-46fd-ac31-2c02f919f892",
   "metadata": {},
   "outputs": [
    {
     "name": "stdin",
     "output_type": "stream",
     "text": [
      "enter the character =  t\n"
     ]
    },
    {
     "name": "stdout",
     "output_type": "stream",
     "text": [
      "t\n"
     ]
    },
    {
     "data": {
      "text/plain": [
       "'t is not a vowel'"
      ]
     },
     "execution_count": 20,
     "metadata": {},
     "output_type": "execute_result"
    }
   ],
   "source": [
    "vowel()"
   ]
  },
  {
   "cell_type": "code",
   "execution_count": 18,
   "id": "71e06d77-a625-47ec-a3c2-29be256c1374",
   "metadata": {},
   "outputs": [],
   "source": [
    "def letter(p):\n",
    "\n",
    "  p = (input(\"enter the value of a\"))\n",
    "\n",
    "if (a,e,i,o,u):\n",
    "\n",
    "  print(\"it is vowel\")\n",
    "\n",
    "else:\n",
    "\n",
    "  (\"it is consonant\")\n",
    "\n",
    "  letter(p)"
   ]
  },
  {
   "cell_type": "code",
   "execution_count": 24,
   "id": "3cdc5009-662d-48d1-8404-e26fa8ecdd9d",
   "metadata": {},
   "outputs": [
    {
     "name": "stdin",
     "output_type": "stream",
     "text": [
      "Enter the marks: 76\n"
     ]
    },
    {
     "data": {
      "text/plain": [
       "'D'"
      ]
     },
     "execution_count": 24,
     "metadata": {},
     "output_type": "execute_result"
    }
   ],
   "source": [
    "def grade_system():\n",
    "\n",
    "  marks = float(input(\"Enter the marks:\"))\n",
    "\n",
    "  if marks >= 90:\n",
    "\n",
    "    return \"A\"\n",
    "\n",
    "  elif marks >= 80:\n",
    "\n",
    "    return \"B\"\n",
    "\n",
    "  elif marks >=60:\n",
    "      return \"D\"\n",
    "      \n",
    "  elif marks >= 70:\n",
    "\n",
    "    return \"C\"\n",
    "\n",
    "  elif marks >=50:\n",
    "\n",
    "    return \"E\"  \n",
    "\n",
    "grade_system()"
   ]
  },
  {
   "cell_type": "code",
   "execution_count": 25,
   "id": "6ef98fda-79c8-4a1b-a3d7-3ceb45ced00a",
   "metadata": {},
   "outputs": [],
   "source": [
    "def grade_system():\n",
    "    marks = float(input(\"enter your marks = \"))\n",
    "    if marks >= 90 and marks <= 100:\n",
    "        print(\"Grade A\")\n",
    "    elif marks >= 80 and marks <= 90:\n",
    "        print(\"Grade B\")\n",
    "    elif marks >= 70 and marks <= 80:\n",
    "        print(\"Grade C\")\n",
    "    else:\n",
    "        print(\"Fail\")"
   ]
  },
  {
   "cell_type": "code",
   "execution_count": 30,
   "id": "d656c83f-561e-4baf-897a-6326798b6705",
   "metadata": {},
   "outputs": [
    {
     "name": "stdin",
     "output_type": "stream",
     "text": [
      "enter your marks =  1000\n"
     ]
    },
    {
     "name": "stdout",
     "output_type": "stream",
     "text": [
      "Fail\n"
     ]
    }
   ],
   "source": [
    "grade_system()"
   ]
  },
  {
   "cell_type": "code",
   "execution_count": 40,
   "id": "6319c347-efe4-4e87-93a6-99ed32e919df",
   "metadata": {},
   "outputs": [
    {
     "name": "stdout",
     "output_type": "stream",
     "text": [
      "fail\n"
     ]
    },
    {
     "name": "stdin",
     "output_type": "stream",
     "text": [
      "enter the value of a 65\n"
     ]
    }
   ],
   "source": [
    "def grade():\n",
    "\n",
    "  a = int(input(\"enter the value of a\"))\n",
    "\n",
    "\n",
    "if 100<a>90:\n",
    "\n",
    "  print(\"grade A\")\n",
    "\n",
    "elif 90<a>80:\n",
    "\n",
    "  print(\"grade B\")\n",
    "\n",
    "elif 80<a>70:\n",
    "\n",
    "  print(\"grade C\")\n",
    "\n",
    "elif 70<a>60:\n",
    "\n",
    "  print(\"grade D\")\n",
    "\n",
    "elif 60<a>50:\n",
    "\n",
    "  print(\"grade E\")\n",
    "\n",
    "else:\n",
    "\n",
    "  print(\"fail\")\n",
    "\n",
    "grade()"
   ]
  },
  {
   "cell_type": "code",
   "execution_count": 32,
   "id": "740731b2-acf8-4137-9ad7-868b49574409",
   "metadata": {},
   "outputs": [
    {
     "data": {
      "text/plain": [
       "False"
      ]
     },
     "execution_count": 32,
     "metadata": {},
     "output_type": "execute_result"
    }
   ],
   "source": [
    "a = 10\n",
    "100<a>10"
   ]
  },
  {
   "cell_type": "code",
   "execution_count": 33,
   "id": "c316f081-1783-4522-a5b7-de0725a3b12c",
   "metadata": {},
   "outputs": [
    {
     "name": "stdout",
     "output_type": "stream",
     "text": [
      "Grade E\n"
     ]
    }
   ],
   "source": [
    "marks = 57\n",
    "\n",
    "if marks >= 50 and marks <= 60:\n",
    "    print(\"Grade E\")\n",
    "else:\n",
    "    print(\"Fail\")"
   ]
  },
  {
   "cell_type": "code",
   "execution_count": null,
   "id": "b629d95c-5a2b-4d97-905b-bb067967681e",
   "metadata": {},
   "outputs": [],
   "source": [
    "def grade():\n",
    "\n",
    "  m=int(input(\"enter a number\"))\n",
    "\n",
    "  if m>90 and m<100 :\n",
    "\n",
    "    print(\"grade A  \")\n",
    "\n",
    "  elif m<80 or m>90:\n",
    "\n",
    "    print(\"grade B\")\n",
    "\n",
    "  elif m < 70 or m > 80:\n",
    "\n",
    "    print(\"grade c\")\n",
    "\n",
    "  elif m < 60 or m > 70:\n",
    "\n",
    "    print(\"grade D\")\n",
    "\n",
    "  elif m < 50 or m > 60:\n",
    "\n",
    "    print(\"grade E\")\n",
    "\n",
    "  else:\n",
    "\n",
    "    print(\"faile\")"
   ]
  },
  {
   "cell_type": "code",
   "execution_count": 34,
   "id": "81bbd078-d59a-42ab-bc6a-f341b23a7573",
   "metadata": {},
   "outputs": [
    {
     "data": {
      "text/plain": [
       "9"
      ]
     },
     "execution_count": 34,
     "metadata": {},
     "output_type": "execute_result"
    }
   ],
   "source": [
    "def calc(a,b):\n",
    "\n",
    "  return (a+b),(a-b),(a*b),(a/b)\n",
    "\n",
    "add,diff,multi,divide = calc(4,5)\n",
    "\n",
    "add"
   ]
  },
  {
   "cell_type": "code",
   "execution_count": 35,
   "id": "89469f1a-3219-4da3-9a20-1287497f68ae",
   "metadata": {},
   "outputs": [
    {
     "name": "stdin",
     "output_type": "stream",
     "text": [
      "Enter the first number 10\n",
      "Enter the second number 5\n",
      "Enter the choice:add/sub/multi/div add\n"
     ]
    },
    {
     "name": "stdout",
     "output_type": "stream",
     "text": [
      "Addition: 15\n"
     ]
    }
   ],
   "source": [
    "def calc():\n",
    "\n",
    "  a = int(input(\"Enter the first number\"))\n",
    "\n",
    "  b = int(input(\"Enter the second number\"))\n",
    "\n",
    "  return  a+b , a-b , a*b , a/b\n",
    "\n",
    "add,sub,multi,div = calc()\n",
    "\n",
    "choice = input(\"Enter the choice:add/sub/multi/div\").lower()\n",
    "\n",
    "if choice == \"add\":\n",
    "\n",
    "  print(\"Addition:\",add)\n",
    "\n",
    "elif choice == \"sub\":\n",
    "\n",
    "  print(\"Subtraction\",sub)\n",
    "\n",
    "elif  choice == \"multi\":\n",
    "\n",
    "  print(\"Multiplication\",multi)\n",
    "\n",
    "elif choice == \"div\":\n",
    "\n",
    "  print(\"Division\",div)"
   ]
  },
  {
   "cell_type": "code",
   "execution_count": 37,
   "id": "748c98a4-3fa0-4da9-9048-4593074f8bd9",
   "metadata": {},
   "outputs": [],
   "source": [
    "def calc():\n",
    "    a = int(input(\"enter first number = \"))\n",
    "    b = int(input(\"enter second number = \"))\n",
    "    operation = input(\"enter the operator = \")\n",
    "    if operation == '+':\n",
    "        return a+b\n",
    "    elif operation == '-':\n",
    "        return a-b\n",
    "    elif operation == '*':\n",
    "        return a*b\n",
    "    else:\n",
    "        return a/b"
   ]
  },
  {
   "cell_type": "code",
   "execution_count": 38,
   "id": "2be93583-3103-4d9f-a30d-996d99db9fb1",
   "metadata": {},
   "outputs": [
    {
     "name": "stdin",
     "output_type": "stream",
     "text": [
      "enter first number =  10\n",
      "enter second number =  5\n",
      "enter the operator =  *\n"
     ]
    },
    {
     "data": {
      "text/plain": [
       "50"
      ]
     },
     "execution_count": 38,
     "metadata": {},
     "output_type": "execute_result"
    }
   ],
   "source": [
    "calc()"
   ]
  },
  {
   "cell_type": "code",
   "execution_count": 39,
   "id": "4f182969-b6d0-4dad-9e82-8fad7a2c7a2e",
   "metadata": {},
   "outputs": [
    {
     "name": "stdin",
     "output_type": "stream",
     "text": [
      "Enter the first number 10\n",
      "Enter the second number 5\n",
      "Enter the choice:add/sub/mult/div add\n"
     ]
    },
    {
     "data": {
      "text/plain": [
       "15"
      ]
     },
     "execution_count": 39,
     "metadata": {},
     "output_type": "execute_result"
    }
   ],
   "source": [
    "def calc():\n",
    "\n",
    "  a = int(input(\"Enter the first number\"))\n",
    "\n",
    "  b = int(input(\"Enter the second number\"))\n",
    "\n",
    "  choice = input(\"Enter the choice:add/sub/mult/div\").lower()\n",
    "\n",
    "  if choice == \"add\":\n",
    "\n",
    "    return a+b\n",
    "\n",
    "  elif choice == \"sub\":\n",
    "\n",
    "    return a-b\n",
    "\n",
    "  elif choice == \"mult\":\n",
    "\n",
    "    return a*b\n",
    "\n",
    "  elif choice == \"div\":\n",
    "\n",
    "    return a/b\n",
    "\n",
    "  else:\n",
    "\n",
    "    return \"Invalid choice\"\n",
    "\n",
    "calc()"
   ]
  },
  {
   "cell_type": "code",
   "execution_count": null,
   "id": "bb93c97b-511c-4eb4-8311-890489747491",
   "metadata": {},
   "outputs": [],
   "source": []
  }
 ],
 "metadata": {
  "kernelspec": {
   "display_name": "Python 3 (ipykernel)",
   "language": "python",
   "name": "python3"
  },
  "language_info": {
   "codemirror_mode": {
    "name": "ipython",
    "version": 3
   },
   "file_extension": ".py",
   "mimetype": "text/x-python",
   "name": "python",
   "nbconvert_exporter": "python",
   "pygments_lexer": "ipython3",
   "version": "3.12.7"
  }
 },
 "nbformat": 4,
 "nbformat_minor": 5
}
