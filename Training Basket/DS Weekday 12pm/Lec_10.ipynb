{
 "cells": [
  {
   "cell_type": "markdown",
   "id": "096c9099-f167-4669-8779-eee86c32f074",
   "metadata": {},
   "source": [
    "# For loop"
   ]
  },
  {
   "cell_type": "code",
   "execution_count": 3,
   "id": "361646e7-199e-4282-87a7-40475209c99a",
   "metadata": {},
   "outputs": [
    {
     "name": "stdout",
     "output_type": "stream",
     "text": [
      "Hello\n",
      "Hello\n",
      "Hello\n",
      "Hello\n",
      "Hello\n"
     ]
    }
   ],
   "source": [
    "for i in range(5):\n",
    "    print(\"Hello\")"
   ]
  },
  {
   "cell_type": "code",
   "execution_count": 4,
   "id": "73b15dc0-5798-459e-84fb-d2fa3eb307dd",
   "metadata": {},
   "outputs": [
    {
     "name": "stdout",
     "output_type": "stream",
     "text": [
      "0\n",
      "1\n",
      "2\n",
      "3\n",
      "4\n"
     ]
    }
   ],
   "source": [
    "for i in range(5):\n",
    "    print(i)"
   ]
  },
  {
   "cell_type": "code",
   "execution_count": 7,
   "id": "fe59b738-7e26-4d12-b6b1-1b96a8bb5d01",
   "metadata": {},
   "outputs": [
    {
     "name": "stdout",
     "output_type": "stream",
     "text": [
      "4\n",
      "3\n",
      "2\n"
     ]
    }
   ],
   "source": [
    "for i in range(4, 1, -1):\n",
    "    print(i)"
   ]
  },
  {
   "cell_type": "code",
   "execution_count": 9,
   "id": "bb7d8ae4-49c3-469d-bf55-d096ddf46c92",
   "metadata": {},
   "outputs": [
    {
     "name": "stdout",
     "output_type": "stream",
     "text": [
      "0\n",
      "2\n",
      "4\n",
      "6\n",
      "8\n",
      "10\n",
      "12\n",
      "14\n",
      "16\n",
      "18\n",
      "20\n"
     ]
    }
   ],
   "source": [
    "for i in range(0,21,2):\n",
    "    print(i)"
   ]
  },
  {
   "cell_type": "code",
   "execution_count": 12,
   "id": "c9ad2016-c25d-4c37-bf44-520fd65966be",
   "metadata": {},
   "outputs": [
    {
     "name": "stdout",
     "output_type": "stream",
     "text": [
      "0\n",
      "1\n",
      "2\n",
      "3\n",
      "4\n"
     ]
    }
   ],
   "source": [
    "for vikash in range(5):\n",
    "    print(vikash)"
   ]
  },
  {
   "cell_type": "code",
   "execution_count": 20,
   "id": "00f45a20-d614-408b-b471-4902dff5227e",
   "metadata": {},
   "outputs": [],
   "source": [
    "st = 'Basket'"
   ]
  },
  {
   "cell_type": "code",
   "execution_count": 19,
   "id": "a045755e-848d-4bd0-8ddb-2e384d9ec480",
   "metadata": {},
   "outputs": [
    {
     "name": "stdout",
     "output_type": "stream",
     "text": [
      "Training Basket"
     ]
    }
   ],
   "source": [
    "for char in st:\n",
    "    print(char, end = '')"
   ]
  },
  {
   "cell_type": "code",
   "execution_count": 21,
   "id": "f642f50b-8909-48aa-909c-0e949371f085",
   "metadata": {},
   "outputs": [
    {
     "data": {
      "text/plain": [
       "6"
      ]
     },
     "execution_count": 21,
     "metadata": {},
     "output_type": "execute_result"
    }
   ],
   "source": [
    "len(st)"
   ]
  },
  {
   "cell_type": "code",
   "execution_count": 24,
   "id": "b11daa4b-d83f-4c70-858b-d7a0f567d681",
   "metadata": {},
   "outputs": [
    {
     "name": "stdout",
     "output_type": "stream",
     "text": [
      "Basket\n",
      "Basket\n",
      "Basket\n",
      "Basket\n",
      "Basket\n",
      "Basket\n"
     ]
    }
   ],
   "source": [
    "for i in range(len(st)):\n",
    "    print(st)"
   ]
  },
  {
   "cell_type": "code",
   "execution_count": 25,
   "id": "e9ec17a0-1d25-4b13-970e-0205a0a024e2",
   "metadata": {},
   "outputs": [],
   "source": [
    "# let range(1, 10) and you have to find the sum of all values in between them "
   ]
  },
  {
   "cell_type": "code",
   "execution_count": 30,
   "id": "54627b2a-b022-4ea6-8682-15996ec87928",
   "metadata": {},
   "outputs": [
    {
     "name": "stdout",
     "output_type": "stream",
     "text": [
      "10\n"
     ]
    }
   ],
   "source": [
    "sum_ = 0\n",
    "for i in range(1, 5):\n",
    "    sum_ = sum_ + i\n",
    "print(sum_)"
   ]
  },
  {
   "cell_type": "code",
   "execution_count": 31,
   "id": "f7be94d4-e3f6-42cb-b12b-a95016b5e103",
   "metadata": {},
   "outputs": [],
   "source": [
    "def sum_range(a,b):\n",
    "    sum_ = 0\n",
    "    for i in range(a, b):\n",
    "        sum_ = sum_ + i\n",
    "    return sum_"
   ]
  },
  {
   "cell_type": "code",
   "execution_count": 32,
   "id": "08a0fd93-83dd-491a-9d1e-e20d91782322",
   "metadata": {},
   "outputs": [
    {
     "name": "stdin",
     "output_type": "stream",
     "text": [
      "Enter the starting point =  10\n",
      "Enter the ending point =  20\n"
     ]
    },
    {
     "data": {
      "text/plain": [
       "145"
      ]
     },
     "execution_count": 32,
     "metadata": {},
     "output_type": "execute_result"
    }
   ],
   "source": [
    "a = int(input('Enter the starting point = '))\n",
    "b = int(input('Enter the ending point = '))\n",
    "sum_range(a, b)"
   ]
  },
  {
   "cell_type": "code",
   "execution_count": 38,
   "id": "6d9a2875-3c82-46b0-b39d-dc9d8fdad19c",
   "metadata": {},
   "outputs": [
    {
     "name": "stdout",
     "output_type": "stream",
     "text": [
      "105\n"
     ]
    }
   ],
   "source": [
    "sum = 0\n",
    "\n",
    "for i in range(10,21):\n",
    "\n",
    "  if i>=15:\n",
    "\n",
    "    sum = sum + i\n",
    "\n",
    "print(sum)"
   ]
  },
  {
   "cell_type": "code",
   "execution_count": 39,
   "id": "68b79906-5dd5-49f9-bf1f-fae8e57e2b41",
   "metadata": {},
   "outputs": [
    {
     "data": {
      "text/plain": [
       "105"
      ]
     },
     "execution_count": 39,
     "metadata": {},
     "output_type": "execute_result"
    }
   ],
   "source": [
    "15+16+17+18+19+20"
   ]
  },
  {
   "cell_type": "code",
   "execution_count": 40,
   "id": "4b591fe1-9186-47ba-bb5b-be1877e3d626",
   "metadata": {},
   "outputs": [],
   "source": [
    "def fact(n):\n",
    "    factorial = 1\n",
    "    for i in range(1,n+1):\n",
    "        factorial = factorial * i\n",
    "    return factorial"
   ]
  },
  {
   "cell_type": "code",
   "execution_count": 41,
   "id": "991b26d9-6088-4025-9415-b8c9d4fc1dfa",
   "metadata": {},
   "outputs": [
    {
     "data": {
      "text/plain": [
       "120"
      ]
     },
     "execution_count": 41,
     "metadata": {},
     "output_type": "execute_result"
    }
   ],
   "source": [
    "fact(5)"
   ]
  },
  {
   "cell_type": "code",
   "execution_count": 42,
   "id": "d286f533-714a-4a7f-b042-4d0198cab132",
   "metadata": {},
   "outputs": [
    {
     "data": {
      "text/plain": [
       "'Basket'"
      ]
     },
     "execution_count": 42,
     "metadata": {},
     "output_type": "execute_result"
    }
   ],
   "source": [
    "st"
   ]
  },
  {
   "cell_type": "code",
   "execution_count": 44,
   "id": "c66e8f85-0487-4e16-8263-f22365217fd7",
   "metadata": {},
   "outputs": [
    {
     "data": {
      "text/plain": [
       "'a'"
      ]
     },
     "execution_count": 44,
     "metadata": {},
     "output_type": "execute_result"
    }
   ],
   "source": [
    "st[1]"
   ]
  },
  {
   "cell_type": "code",
   "execution_count": 45,
   "id": "53c56d26-200a-41a9-b706-4377fc050104",
   "metadata": {},
   "outputs": [
    {
     "data": {
      "text/plain": [
       "'t'"
      ]
     },
     "execution_count": 45,
     "metadata": {},
     "output_type": "execute_result"
    }
   ],
   "source": [
    "st[-1]"
   ]
  },
  {
   "cell_type": "code",
   "execution_count": 46,
   "id": "5a6a8e1b-a790-43b9-a580-b569cb2e0182",
   "metadata": {},
   "outputs": [
    {
     "data": {
      "text/plain": [
       "'k'"
      ]
     },
     "execution_count": 46,
     "metadata": {},
     "output_type": "execute_result"
    }
   ],
   "source": [
    "st[3]"
   ]
  },
  {
   "cell_type": "code",
   "execution_count": 47,
   "id": "b92ef94b-3853-4ef8-b531-02927b4a6a12",
   "metadata": {},
   "outputs": [
    {
     "data": {
      "text/plain": [
       "'t'"
      ]
     },
     "execution_count": 47,
     "metadata": {},
     "output_type": "execute_result"
    }
   ],
   "source": [
    "st[5]"
   ]
  },
  {
   "cell_type": "code",
   "execution_count": 48,
   "id": "f598984c-29b0-43b7-998d-e47e142d663f",
   "metadata": {},
   "outputs": [
    {
     "ename": "IndexError",
     "evalue": "string index out of range",
     "output_type": "error",
     "traceback": [
      "\u001b[1;31m---------------------------------------------------------------------------\u001b[0m",
      "\u001b[1;31mIndexError\u001b[0m                                Traceback (most recent call last)",
      "Cell \u001b[1;32mIn[48], line 1\u001b[0m\n\u001b[1;32m----> 1\u001b[0m st[\u001b[38;5;241m6\u001b[39m]\n",
      "\u001b[1;31mIndexError\u001b[0m: string index out of range"
     ]
    }
   ],
   "source": [
    "st[6]"
   ]
  },
  {
   "cell_type": "code",
   "execution_count": 49,
   "id": "df9f1806-70a8-4958-b0b7-6731d82ae829",
   "metadata": {},
   "outputs": [
    {
     "data": {
      "text/plain": [
       "'Basket'"
      ]
     },
     "execution_count": 49,
     "metadata": {},
     "output_type": "execute_result"
    }
   ],
   "source": [
    "st"
   ]
  },
  {
   "cell_type": "code",
   "execution_count": 54,
   "id": "d7531949-df9f-4e15-b92b-6f3815ab46cb",
   "metadata": {},
   "outputs": [
    {
     "data": {
      "text/plain": [
       "'sket'"
      ]
     },
     "execution_count": 54,
     "metadata": {},
     "output_type": "execute_result"
    }
   ],
   "source": [
    "st[ 2 : ]"
   ]
  },
  {
   "cell_type": "code",
   "execution_count": 55,
   "id": "1fc7a2f3-5fe9-48af-848b-32424e494959",
   "metadata": {},
   "outputs": [],
   "source": [
    "st = 'Training Basket'"
   ]
  },
  {
   "cell_type": "code",
   "execution_count": 56,
   "id": "08185e9b-a06a-4ef6-96be-95078a4d3f81",
   "metadata": {},
   "outputs": [
    {
     "data": {
      "text/plain": [
       "'Training '"
      ]
     },
     "execution_count": 56,
     "metadata": {},
     "output_type": "execute_result"
    }
   ],
   "source": [
    "st[ : 9]"
   ]
  },
  {
   "cell_type": "code",
   "execution_count": 61,
   "id": "468fd598-1c2a-43fa-bdc5-8c7010e7d433",
   "metadata": {},
   "outputs": [],
   "source": [
    "st = 'Nidhi Pal'"
   ]
  },
  {
   "cell_type": "code",
   "execution_count": 59,
   "id": "67428246-c07d-420b-ae11-297a986f2899",
   "metadata": {},
   "outputs": [
    {
     "name": "stdout",
     "output_type": "stream",
     "text": [
      "Tann akt\n"
     ]
    }
   ],
   "source": [
    "st = 'Training Basket'\n",
    "print(st[0:15:2])"
   ]
  },
  {
   "cell_type": "code",
   "execution_count": 62,
   "id": "8e15b5c0-fa1e-4de8-82a0-430cd58be013",
   "metadata": {},
   "outputs": [
    {
     "data": {
      "text/plain": [
       "'Nidhi Pal'"
      ]
     },
     "execution_count": 62,
     "metadata": {},
     "output_type": "execute_result"
    }
   ],
   "source": [
    "st"
   ]
  },
  {
   "cell_type": "code",
   "execution_count": 63,
   "id": "11b595e3-61c8-4d76-aa4b-7026ce3b0826",
   "metadata": {},
   "outputs": [
    {
     "name": "stdout",
     "output_type": "stream",
     "text": [
      "N\n",
      "d\n",
      "i\n",
      "P\n",
      "l\n"
     ]
    }
   ],
   "source": [
    "for i in range(0,len(st), 2):\n",
    "    print(st[i])"
   ]
  },
  {
   "cell_type": "code",
   "execution_count": null,
   "id": "8c68408e-7b7f-4979-a55d-34be62d0cc81",
   "metadata": {},
   "outputs": [],
   "source": []
  }
 ],
 "metadata": {
  "kernelspec": {
   "display_name": "Python 3 (ipykernel)",
   "language": "python",
   "name": "python3"
  },
  "language_info": {
   "codemirror_mode": {
    "name": "ipython",
    "version": 3
   },
   "file_extension": ".py",
   "mimetype": "text/x-python",
   "name": "python",
   "nbconvert_exporter": "python",
   "pygments_lexer": "ipython3",
   "version": "3.12.7"
  }
 },
 "nbformat": 4,
 "nbformat_minor": 5
}
