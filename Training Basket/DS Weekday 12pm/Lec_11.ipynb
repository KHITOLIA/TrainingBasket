{
 "cells": [
  {
   "cell_type": "code",
   "execution_count": 1,
   "id": "3c8f7588-e8fd-4c8e-bddc-0b13d2ce9512",
   "metadata": {},
   "outputs": [],
   "source": [
    "# For loop"
   ]
  },
  {
   "cell_type": "code",
   "execution_count": 2,
   "id": "97a47695-74aa-4518-acc8-a125f7bb955c",
   "metadata": {},
   "outputs": [
    {
     "name": "stdout",
     "output_type": "stream",
     "text": [
      "T\n",
      "r\n",
      "a\n",
      "i\n",
      "n\n",
      "i\n",
      "n\n",
      "g\n",
      " \n",
      "B\n",
      "a\n",
      "s\n",
      "k\n",
      "e\n",
      "t\n"
     ]
    }
   ],
   "source": [
    "st = 'Training Basket'\n",
    "for i in st:\n",
    "    print(i)"
   ]
  },
  {
   "cell_type": "code",
   "execution_count": 3,
   "id": "58e819b6-e2b0-4f9f-86c4-455779b06990",
   "metadata": {},
   "outputs": [
    {
     "name": "stdout",
     "output_type": "stream",
     "text": [
      "T\n",
      "r\n",
      "a\n",
      "i\n",
      "n\n",
      "i\n",
      "n\n",
      "g\n",
      " \n",
      "B\n",
      "a\n",
      "s\n",
      "k\n",
      "e\n",
      "t\n"
     ]
    }
   ],
   "source": [
    "for i in range(len(st)):\n",
    "    print(st[i])"
   ]
  },
  {
   "cell_type": "code",
   "execution_count": 4,
   "id": "85075442-3b73-4064-a9f3-07ba71c383ea",
   "metadata": {},
   "outputs": [
    {
     "name": "stdout",
     "output_type": "stream",
     "text": [
      "T\n",
      "a\n",
      "n\n",
      "n\n",
      " \n",
      "a\n",
      "k\n",
      "t\n"
     ]
    }
   ],
   "source": [
    "for i in range(0, len(st), 2):\n",
    "    print(st[i])"
   ]
  },
  {
   "cell_type": "code",
   "execution_count": 5,
   "id": "8e6299ec-2d0c-4b1b-b9d0-9318669c9bab",
   "metadata": {},
   "outputs": [
    {
     "name": "stdout",
     "output_type": "stream",
     "text": [
      "1\n",
      "2\n",
      "4\n",
      "5\n",
      "5\n"
     ]
    }
   ],
   "source": [
    "l = [1, 2, 4, 5, 5]\n",
    "for i in l:\n",
    "    print(i)"
   ]
  },
  {
   "cell_type": "code",
   "execution_count": 18,
   "id": "493f0f1c-5674-4efc-aca7-c823b13bea45",
   "metadata": {},
   "outputs": [
    {
     "name": "stdout",
     "output_type": "stream",
     "text": [
      "odd\n"
     ]
    }
   ],
   "source": [
    "a = 47\n",
    "\n",
    "g = a//2\n",
    "\n",
    "if g==0:\n",
    "    print(\"even\")\n",
    "else:\n",
    "    print(\"odd\")"
   ]
  },
  {
   "cell_type": "code",
   "execution_count": 7,
   "id": "8746954e-e5b4-4d11-993a-2976c8b64b2c",
   "metadata": {},
   "outputs": [
    {
     "data": {
      "text/plain": [
       "23.5"
      ]
     },
     "execution_count": 7,
     "metadata": {},
     "output_type": "execute_result"
    }
   ],
   "source": [
    "47/2"
   ]
  },
  {
   "cell_type": "code",
   "execution_count": 16,
   "id": "5e5bb156-d3b6-4b05-96e4-478f13c1a8fe",
   "metadata": {},
   "outputs": [
    {
     "data": {
      "text/plain": [
       "False"
      ]
     },
     "execution_count": 16,
     "metadata": {},
     "output_type": "execute_result"
    }
   ],
   "source": [
    "def even_odd(n):\n",
    "\n",
    "    return n & 1 == 1\n",
    "\n",
    "even_odd(290)"
   ]
  },
  {
   "cell_type": "code",
   "execution_count": 10,
   "id": "d587d751-9efd-427e-9205-91569ecb2d86",
   "metadata": {},
   "outputs": [
    {
     "name": "stdin",
     "output_type": "stream",
     "text": [
      "enter one number =  10\n"
     ]
    },
    {
     "name": "stdout",
     "output_type": "stream",
     "text": [
      "odd number\n",
      "odd number\n",
      "odd number\n",
      "odd number\n",
      "odd number\n",
      "even number\n"
     ]
    }
   ],
   "source": [
    "a = int(input(\"enter one number = \"))\n",
    "for i in range(0,a+1,2):\n",
    "  if i ==a :\n",
    "    print(\"even number\")\n",
    "  else:\n",
    "    print(\"odd number\")"
   ]
  },
  {
   "cell_type": "code",
   "execution_count": 11,
   "id": "141b4d71-789d-42f8-aa7f-fb5e3a6395b7",
   "metadata": {},
   "outputs": [],
   "source": [
    "def odd_even(a):\n",
    "    r = a - 2*(a//2)\n",
    "    if r == 0:\n",
    "        print(\"Even\")\n",
    "    else:\n",
    "        print(\"odd\")"
   ]
  },
  {
   "cell_type": "code",
   "execution_count": 17,
   "id": "93c3b60c-0e32-4ef5-9b36-e79bbfd9d5a5",
   "metadata": {},
   "outputs": [
    {
     "name": "stdout",
     "output_type": "stream",
     "text": [
      "Even\n"
     ]
    }
   ],
   "source": [
    "odd_even(290)"
   ]
  },
  {
   "cell_type": "code",
   "execution_count": null,
   "id": "5663efaa-ad5d-454a-bb66-83c2bd79c477",
   "metadata": {},
   "outputs": [],
   "source": [
    "2*(n//2) == n"
   ]
  },
  {
   "cell_type": "code",
   "execution_count": 21,
   "id": "d38a330c-1bda-481b-b270-bf7f15d05b8d",
   "metadata": {},
   "outputs": [
    {
     "data": {
      "text/plain": [
       "True"
      ]
     },
     "execution_count": 21,
     "metadata": {},
     "output_type": "execute_result"
    }
   ],
   "source": [
    "2*(28//2) == 28"
   ]
  },
  {
   "cell_type": "code",
   "execution_count": 22,
   "id": "1b6d932d-128c-414f-bcc0-80f93bb05479",
   "metadata": {},
   "outputs": [
    {
     "name": "stdout",
     "output_type": "stream",
     "text": [
      "4*1=4\n",
      "4*2=8\n",
      "4*3=12\n",
      "4*4=16\n",
      "4*5=20\n",
      "4*6=24\n",
      "4*7=28\n",
      "4*8=32\n",
      "4*9=36\n",
      "4*10=40\n"
     ]
    }
   ],
   "source": [
    "for i in range(1,11):\n",
    "\n",
    "  print(f\"4*{i}={4*i}\")"
   ]
  },
  {
   "cell_type": "code",
   "execution_count": 23,
   "id": "9ad344ea-94b1-461e-abb7-92c62307ec06",
   "metadata": {
    "scrolled": true
   },
   "outputs": [
    {
     "name": "stdout",
     "output_type": "stream",
     "text": [
      "4 * 1  =  4\n",
      "4 * 2  =  8\n",
      "4 * 3  =  12\n",
      "4 * 4  =  16\n",
      "4 * 5  =  20\n",
      "4 * 6  =  24\n",
      "4 * 7  =  28\n",
      "4 * 8  =  32\n",
      "4 * 9  =  36\n",
      "4 * 10  =  40\n"
     ]
    }
   ],
   "source": [
    "n = 4\n",
    "for i in range(1, 11):\n",
    "    print(n,\"*\",i, \" = \", n*i)"
   ]
  },
  {
   "cell_type": "code",
   "execution_count": 24,
   "id": "1d15b236-5840-44bc-81a7-daae18914c95",
   "metadata": {},
   "outputs": [
    {
     "name": "stdout",
     "output_type": "stream",
     "text": [
      "Prime number\n",
      "Prime number\n",
      "Prime number\n",
      "Prime number\n",
      "Prime number\n",
      "Prime number\n",
      "Prime number\n",
      "Prime number\n",
      "Prime number\n",
      "Prime number\n",
      "Prime number\n",
      "Prime number\n",
      "Prime number\n",
      "Prime number\n",
      "Prime number\n",
      "Prime number\n",
      "Prime number\n",
      "Prime number\n",
      "Prime number\n",
      "Prime number\n",
      "Prime number\n"
     ]
    }
   ],
   "source": [
    "n = 23\n",
    "for i in range(2, n):\n",
    "    if n%i == 0:\n",
    "        print(\"not a prime number\")\n",
    "    else:\n",
    "        print(\"Prime number\")"
   ]
  },
  {
   "cell_type": "code",
   "execution_count": 25,
   "id": "6810f6c3-4d67-446b-a0f7-185c0918e775",
   "metadata": {},
   "outputs": [],
   "source": [
    "# n = 23\n",
    "# factor = 0\n",
    "# for i in range(n+1):\n",
    "#     if n == 0:\n",
    "#         print(\"it is zero\")\n",
    "#     elif n%i == 0:\n",
    "#         count = count + 1\n",
    "    "
   ]
  },
  {
   "cell_type": "code",
   "execution_count": 31,
   "id": "72f7d1a5-dd15-4ffb-b784-c6361e841abe",
   "metadata": {},
   "outputs": [
    {
     "name": "stdin",
     "output_type": "stream",
     "text": [
      "enter the number =  79\n"
     ]
    },
    {
     "name": "stdout",
     "output_type": "stream",
     "text": [
      "Prime number\n"
     ]
    }
   ],
   "source": [
    "n = int(input(\"enter the number = \"))\n",
    "factor = 0\n",
    "for i in range(1, n+1):\n",
    "    if n%i == 0:\n",
    "        factor = factor + 1\n",
    "if factor > 2:\n",
    "    print(\"not a prime number\")\n",
    "else:\n",
    "    print(\"Prime number\")"
   ]
  },
  {
   "cell_type": "code",
   "execution_count": 32,
   "id": "35b664a8-ed2d-4e5f-bf07-0c182bdc157a",
   "metadata": {},
   "outputs": [
    {
     "data": {
      "text/plain": [
       "2"
      ]
     },
     "execution_count": 32,
     "metadata": {},
     "output_type": "execute_result"
    }
   ],
   "source": [
    "factor"
   ]
  },
  {
   "cell_type": "code",
   "execution_count": null,
   "id": "68452276-5321-4e6f-abed-4d97d57d3ab1",
   "metadata": {},
   "outputs": [],
   "source": [
    "l = [10, 8, 9, 7, 6, 5 ,4 ]  # find the factors of each element in the given list\n",
    "\n",
    "\n",
    "# factor of 10 = 2*5\n",
    "# factor of 8 = 2*2*2"
   ]
  }
 ],
 "metadata": {
  "kernelspec": {
   "display_name": "Python 3 (ipykernel)",
   "language": "python",
   "name": "python3"
  },
  "language_info": {
   "codemirror_mode": {
    "name": "ipython",
    "version": 3
   },
   "file_extension": ".py",
   "mimetype": "text/x-python",
   "name": "python",
   "nbconvert_exporter": "python",
   "pygments_lexer": "ipython3",
   "version": "3.12.7"
  }
 },
 "nbformat": 4,
 "nbformat_minor": 5
}
