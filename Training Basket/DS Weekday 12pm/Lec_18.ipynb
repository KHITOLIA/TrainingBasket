{
 "cells": [
  {
   "cell_type": "code",
   "execution_count": 1,
   "id": "df71cb8a-00fe-4af0-bf1f-e3d569a5f821",
   "metadata": {},
   "outputs": [],
   "source": [
    "a = [2,2,2,3,4,4,5,5,5,6,6,6]\n",
    "s = []\n",
    "for i in a:\n",
    "    if i not in s:\n",
    "        s.append(i)"
   ]
  },
  {
   "cell_type": "code",
   "execution_count": 2,
   "id": "d4a3df83-4fdd-4030-acef-88a86e6c229d",
   "metadata": {},
   "outputs": [
    {
     "data": {
      "text/plain": [
       "[2, 3, 4, 5, 6]"
      ]
     },
     "execution_count": 2,
     "metadata": {},
     "output_type": "execute_result"
    }
   ],
   "source": [
    "s"
   ]
  },
  {
   "cell_type": "code",
   "execution_count": 5,
   "id": "e3bb3048-a5fd-4f43-8a50-0227d41219a4",
   "metadata": {},
   "outputs": [
    {
     "name": "stdout",
     "output_type": "stream",
     "text": [
      "count of 2 : 3\n",
      "count of 3 : 1\n",
      "count of 4 : 2\n",
      "count of 5 : 3\n",
      "count of 6 : 3\n"
     ]
    }
   ],
   "source": [
    "for i in s:\n",
    "    count = 0\n",
    "    for j in a:\n",
    "        if i == j:\n",
    "            count += 1\n",
    "    print(f\"count of {i} : {count}\")"
   ]
  },
  {
   "cell_type": "code",
   "execution_count": 7,
   "id": "1d0c4b26-61d4-4dee-a509-dd894edb1461",
   "metadata": {},
   "outputs": [],
   "source": [
    "# FIND THE HCF OF 48 AND 26\n",
    "# hcf * lcm = 48 * 26"
   ]
  },
  {
   "cell_type": "code",
   "execution_count": 8,
   "id": "be15db65-0fb0-4f05-a4d1-221cd557dd19",
   "metadata": {},
   "outputs": [],
   "source": [
    "# Tuple : Immutuable datatype\n",
    "# collection of different datatypes"
   ]
  },
  {
   "cell_type": "code",
   "execution_count": 12,
   "id": "2847b359-11a3-458c-9dce-b467da841a35",
   "metadata": {},
   "outputs": [],
   "source": [
    "a = (2, 3, 4.5, True, 'Abc', [2, 3, 4, 5], (1, 2, 3))"
   ]
  },
  {
   "cell_type": "code",
   "execution_count": 13,
   "id": "697c0fa3-cf64-4caf-a3f8-133aa7e22997",
   "metadata": {},
   "outputs": [
    {
     "data": {
      "text/plain": [
       "tuple"
      ]
     },
     "execution_count": 13,
     "metadata": {},
     "output_type": "execute_result"
    }
   ],
   "source": [
    "type(a)"
   ]
  },
  {
   "cell_type": "code",
   "execution_count": 14,
   "id": "b44519e1-a50f-492b-80de-2d7202dee264",
   "metadata": {},
   "outputs": [
    {
     "data": {
      "text/plain": [
       "[2, 3, 4, 5, 6]"
      ]
     },
     "execution_count": 14,
     "metadata": {},
     "output_type": "execute_result"
    }
   ],
   "source": [
    "s"
   ]
  },
  {
   "cell_type": "code",
   "execution_count": 15,
   "id": "2af48bb6-0ca6-4d47-966d-7b0b05185ab7",
   "metadata": {},
   "outputs": [
    {
     "data": {
      "text/plain": [
       "2"
      ]
     },
     "execution_count": 15,
     "metadata": {},
     "output_type": "execute_result"
    }
   ],
   "source": [
    "s[0]"
   ]
  },
  {
   "cell_type": "code",
   "execution_count": 16,
   "id": "a5f25825-6433-4d33-a5c3-8bdd4f20e0cb",
   "metadata": {},
   "outputs": [
    {
     "data": {
      "text/plain": [
       "2"
      ]
     },
     "execution_count": 16,
     "metadata": {},
     "output_type": "execute_result"
    }
   ],
   "source": [
    "a[0]"
   ]
  },
  {
   "cell_type": "code",
   "execution_count": 17,
   "id": "ac7815bf-cfa1-4eee-bcf8-8721e17d58f6",
   "metadata": {},
   "outputs": [
    {
     "data": {
      "text/plain": [
       "1"
      ]
     },
     "execution_count": 17,
     "metadata": {},
     "output_type": "execute_result"
    }
   ],
   "source": [
    "a.count(2)"
   ]
  },
  {
   "cell_type": "code",
   "execution_count": 19,
   "id": "ea35ec43-2932-45ab-8c5f-c2b5fd475e35",
   "metadata": {},
   "outputs": [],
   "source": [
    "a = list(a)"
   ]
  },
  {
   "cell_type": "code",
   "execution_count": 20,
   "id": "59aa53a3-460b-4656-9938-b88c0fb046ed",
   "metadata": {},
   "outputs": [
    {
     "data": {
      "text/plain": [
       "list"
      ]
     },
     "execution_count": 20,
     "metadata": {},
     "output_type": "execute_result"
    }
   ],
   "source": [
    "type(a)"
   ]
  },
  {
   "cell_type": "code",
   "execution_count": 21,
   "id": "4df96eb2-0869-412a-a3ed-4810c896ae61",
   "metadata": {},
   "outputs": [],
   "source": [
    "a = tuple(a)"
   ]
  },
  {
   "cell_type": "code",
   "execution_count": 23,
   "id": "dd970840-a650-449d-8dfa-4915d55a0c8e",
   "metadata": {},
   "outputs": [
    {
     "data": {
      "text/plain": [
       "tuple"
      ]
     },
     "execution_count": 23,
     "metadata": {},
     "output_type": "execute_result"
    }
   ],
   "source": [
    "type(a)"
   ]
  },
  {
   "cell_type": "code",
   "execution_count": 41,
   "id": "69f8870a-cf4f-4bff-9cd2-770482ed872c",
   "metadata": {},
   "outputs": [
    {
     "name": "stdin",
     "output_type": "stream",
     "text": [
      "enter the fees =  50000\n"
     ]
    }
   ],
   "source": [
    "# Dictionary : key value pair \n",
    "\n",
    "d = {\n",
    "    'course' : 'Data Science',\n",
    "    'duration' : 8,\n",
    "    'fees' : int(input('enter the fees = ')),\n",
    "    'trainer' : 'Tushar',\n",
    "    'timing' : '1-2:30',\n",
    "    'student_name' : ['Kanhaiya', 'naveen', 'shivam'],   \n",
    "}"
   ]
  },
  {
   "cell_type": "code",
   "execution_count": 27,
   "id": "3c519675-380a-421a-8a96-1be3a6470579",
   "metadata": {},
   "outputs": [
    {
     "data": {
      "text/plain": [
       "dict"
      ]
     },
     "execution_count": 27,
     "metadata": {},
     "output_type": "execute_result"
    }
   ],
   "source": [
    "type(d)"
   ]
  },
  {
   "cell_type": "code",
   "execution_count": 28,
   "id": "dba749e0-f7f2-4572-b2c3-151c4189645c",
   "metadata": {},
   "outputs": [
    {
     "data": {
      "text/plain": [
       "dict_keys(['course', 'duration', 'fees', 'trainer', 'timing', 'student_name'])"
      ]
     },
     "execution_count": 28,
     "metadata": {},
     "output_type": "execute_result"
    }
   ],
   "source": [
    "d.keys()"
   ]
  },
  {
   "cell_type": "code",
   "execution_count": 29,
   "id": "896ae5a0-2dfb-4e23-a0c6-bb90d5b383ba",
   "metadata": {},
   "outputs": [
    {
     "data": {
      "text/plain": [
       "dict_values(['Data Science', 8, 35000.5, 'Tushar', '1-2:30', ['Kanhaiya', 'naveen', 'shivam']])"
      ]
     },
     "execution_count": 29,
     "metadata": {},
     "output_type": "execute_result"
    }
   ],
   "source": [
    "d.values()"
   ]
  },
  {
   "cell_type": "code",
   "execution_count": 33,
   "id": "7a5a3752-f034-47f7-80fc-387c4750ce24",
   "metadata": {},
   "outputs": [
    {
     "name": "stdout",
     "output_type": "stream",
     "text": [
      "Data Science\n",
      "8\n",
      "35000.5\n",
      "Tushar\n",
      "1-2:30\n",
      "['Kanhaiya', 'naveen', 'shivam']\n"
     ]
    }
   ],
   "source": [
    "for i in d.items():\n",
    "    print(i[1])"
   ]
  },
  {
   "cell_type": "code",
   "execution_count": 34,
   "id": "8e8fe2ae-d9b8-4d38-a528-ee6a4ecf616e",
   "metadata": {},
   "outputs": [
    {
     "data": {
      "text/plain": [
       "'Data Science'"
      ]
     },
     "execution_count": 34,
     "metadata": {},
     "output_type": "execute_result"
    }
   ],
   "source": [
    "d.get('course')"
   ]
  },
  {
   "cell_type": "code",
   "execution_count": 35,
   "id": "31bf497d-6af2-49ca-88be-53dd91e57802",
   "metadata": {},
   "outputs": [
    {
     "data": {
      "text/plain": [
       "['Kanhaiya', 'naveen', 'shivam']"
      ]
     },
     "execution_count": 35,
     "metadata": {},
     "output_type": "execute_result"
    }
   ],
   "source": [
    "d['student_name']"
   ]
  },
  {
   "cell_type": "code",
   "execution_count": 37,
   "id": "644c9ce3-2d75-4978-95d4-ea1b0f877021",
   "metadata": {},
   "outputs": [
    {
     "data": {
      "text/plain": [
       "40000"
      ]
     },
     "execution_count": 37,
     "metadata": {},
     "output_type": "execute_result"
    }
   ],
   "source": [
    "d['fees']"
   ]
  },
  {
   "cell_type": "code",
   "execution_count": 40,
   "id": "e1a671a7-a329-4350-8947-4f431b05f009",
   "metadata": {},
   "outputs": [
    {
     "name": "stdin",
     "output_type": "stream",
     "text": [
      "enter the fees =  50000\n"
     ]
    },
    {
     "name": "stdout",
     "output_type": "stream",
     "text": [
      "50000\n",
      "{'course': 'Data Science', 'duration': 8, 'trainer': 'Tushar', 'timing': '1-2:30', 'student_name': ['Kanhaiya', 'naveen', 'shivam'], 'fees': 45000.0}\n"
     ]
    }
   ],
   "source": [
    "d = {\n",
    "\n",
    "    'course' : 'Data Science',\n",
    "\n",
    "    'duration' : 8,\n",
    "\n",
    "    'trainer' : 'Tushar',\n",
    "\n",
    "    'timing' : '1-2:30',\n",
    "\n",
    "    'student_name' : ['Kanhaiya', 'naveen', 'shivam'],   \n",
    "\n",
    "}\n",
    "\n",
    "a = int(input('enter the fees = '))\n",
    "\n",
    "if a >= 30000:\n",
    "\n",
    "  d['fees'] = a-((a*10)/100)\n",
    "\n",
    "  print(a)\n",
    "\n",
    "print(d)"
   ]
  },
  {
   "cell_type": "code",
   "execution_count": 42,
   "id": "9836fdde-a1f8-4bfb-b96a-147ab95fe70c",
   "metadata": {},
   "outputs": [
    {
     "data": {
      "text/plain": [
       "{'course': 'Data Science',\n",
       " 'duration': 8,\n",
       " 'fees': 50000,\n",
       " 'trainer': 'Tushar',\n",
       " 'timing': '1-2:30',\n",
       " 'student_name': ['Kanhaiya', 'naveen', 'shivam']}"
      ]
     },
     "execution_count": 42,
     "metadata": {},
     "output_type": "execute_result"
    }
   ],
   "source": [
    "d"
   ]
  },
  {
   "cell_type": "code",
   "execution_count": 44,
   "id": "90984dad-f3dd-4b43-9cfa-2e7aad04d012",
   "metadata": {},
   "outputs": [],
   "source": [
    "# Set : collection of unique elements"
   ]
  },
  {
   "cell_type": "code",
   "execution_count": 45,
   "id": "0f289431-b176-4cbb-8b69-dfe9d8369be2",
   "metadata": {},
   "outputs": [],
   "source": [
    "s = {2, 2, 3, 4, 5,4,4, 4, 5, 6}"
   ]
  },
  {
   "cell_type": "code",
   "execution_count": 47,
   "id": "04184272-90d8-47cf-b4d7-191140da3577",
   "metadata": {},
   "outputs": [
    {
     "data": {
      "text/plain": [
       "{2, 3, 4, 5, 6}"
      ]
     },
     "execution_count": 47,
     "metadata": {},
     "output_type": "execute_result"
    }
   ],
   "source": [
    "s"
   ]
  },
  {
   "cell_type": "code",
   "execution_count": 48,
   "id": "5bff1d1a-5dd7-4bcb-ada5-90090f8d8bd2",
   "metadata": {},
   "outputs": [],
   "source": [
    "s1 = {3, 5, 2, 23, 99}"
   ]
  },
  {
   "cell_type": "code",
   "execution_count": 49,
   "id": "23587ef5-4c2b-4fdf-a57b-d6f3f0b43d8d",
   "metadata": {},
   "outputs": [
    {
     "data": {
      "text/plain": [
       "{2, 3, 4, 5, 6, 23, 99}"
      ]
     },
     "execution_count": 49,
     "metadata": {},
     "output_type": "execute_result"
    }
   ],
   "source": [
    "s.union(s1)"
   ]
  },
  {
   "cell_type": "code",
   "execution_count": 50,
   "id": "8fef6d9f-4f12-40ab-b203-a13c6342df5b",
   "metadata": {},
   "outputs": [
    {
     "data": {
      "text/plain": [
       "{2, 3, 5}"
      ]
     },
     "execution_count": 50,
     "metadata": {},
     "output_type": "execute_result"
    }
   ],
   "source": [
    "s.intersection(s1)"
   ]
  },
  {
   "cell_type": "code",
   "execution_count": 51,
   "id": "a4bbe1a2-bcf9-4d05-b7c3-9b00c4198102",
   "metadata": {},
   "outputs": [],
   "source": [
    "s = [('apple', 7), ('orange', 10), ('banana', 2), ('mango', 8), ('guava', 6)]"
   ]
  },
  {
   "cell_type": "code",
   "execution_count": 52,
   "id": "218148bd-9ccb-4da4-bcbc-dfa866123a7b",
   "metadata": {},
   "outputs": [],
   "source": [
    "# sort the list according to the no of fruits"
   ]
  },
  {
   "cell_type": "code",
   "execution_count": 53,
   "id": "2de8d38b-e2fd-42b9-8761-b09fd4989752",
   "metadata": {},
   "outputs": [],
   "source": [
    "# s = [('banana', 2), ('guava', 6)]"
   ]
  },
  {
   "cell_type": "code",
   "execution_count": 54,
   "id": "8b683a0f-1ba3-45e2-aa53-a5f74eb3c14e",
   "metadata": {},
   "outputs": [],
   "source": [
    "# 1 Split string in groups of n consecutive characters\n",
    "\n",
    "# Input : str = \"training basket\", n = 3\n",
    "# Output : ['tra', 'ini', 'ng ', 'bas', 'ket']\n",
    "# # Split String on vowels\n",
    "\n",
    "# 2 Split the string from vowels\n",
    "# input : test_str = 'GFGaBstuforigeeks' \n",
    "# Output : ['GFG', 'Bst', 'f', 'r', 'g', 'ks']\n",
    "# # Explanation : a, e, o, u, i are vowels and split happens on that.\n",
    "\n",
    "# 3 Print the middle character of a string\n",
    "# st = 'Training Basket'\n",
    "\n",
    "# 4 Count Number of Vowels in Given String - Python\n",
    "# s = \"Python Programming\"\n"
   ]
  },
  {
   "cell_type": "code",
   "execution_count": 73,
   "id": "87d2abd9-f323-4801-aaa3-9a48e5e8396b",
   "metadata": {},
   "outputs": [],
   "source": [
    "s = 'GFGaBstuforigeeks'.lower()\n",
    "v = ['a', 'e', 'i', 'o', 'u']"
   ]
  },
  {
   "cell_type": "code",
   "execution_count": 74,
   "id": "ec980310-bbce-4383-aecc-fb9170a781ba",
   "metadata": {},
   "outputs": [
    {
     "name": "stdout",
     "output_type": "stream",
     "text": [
      "a\n",
      "e\n",
      "i\n",
      "o\n",
      "u\n"
     ]
    }
   ],
   "source": [
    "idx = 0\n",
    "for i in v:\n",
    "    print(i)\n",
    "    for j in range(len(s)):\n",
    "        if i == test_str[j]:        \n",
    "            a = test_str[idx : j]"
   ]
  },
  {
   "cell_type": "code",
   "execution_count": 105,
   "id": "887a2598-c202-4b71-8156-604ac10fe215",
   "metadata": {},
   "outputs": [
    {
     "name": "stdout",
     "output_type": "stream",
     "text": [
      "GFG"
     ]
    },
    {
     "ename": "TypeError",
     "evalue": "'str' object does not support item assignment",
     "output_type": "error",
     "traceback": [
      "\u001b[1;31m---------------------------------------------------------------------------\u001b[0m",
      "\u001b[1;31mTypeError\u001b[0m                                 Traceback (most recent call last)",
      "Cell \u001b[1;32mIn[105], line 6\u001b[0m\n\u001b[0;32m      3\u001b[0m \u001b[38;5;28;01mfor\u001b[39;00m i \u001b[38;5;129;01min\u001b[39;00m \u001b[38;5;28mrange\u001b[39m(\u001b[38;5;28mlen\u001b[39m(st)):\n\u001b[0;32m      5\u001b[0m   \u001b[38;5;28;01mif\u001b[39;00m st[i] \u001b[38;5;241m==\u001b[39m \u001b[38;5;124m'\u001b[39m\u001b[38;5;124ma\u001b[39m\u001b[38;5;124m'\u001b[39m \u001b[38;5;129;01mor\u001b[39;00m st[i] \u001b[38;5;241m==\u001b[39m \u001b[38;5;124m'\u001b[39m\u001b[38;5;124me\u001b[39m\u001b[38;5;124m'\u001b[39m \u001b[38;5;129;01mor\u001b[39;00m st[i] \u001b[38;5;241m==\u001b[39m \u001b[38;5;124m'\u001b[39m\u001b[38;5;124mi\u001b[39m\u001b[38;5;124m'\u001b[39m \u001b[38;5;129;01mor\u001b[39;00m st[i] \u001b[38;5;241m==\u001b[39m\u001b[38;5;124m'\u001b[39m\u001b[38;5;124mo\u001b[39m\u001b[38;5;124m'\u001b[39m \u001b[38;5;129;01mor\u001b[39;00m st[i] \u001b[38;5;241m==\u001b[39m \u001b[38;5;124m'\u001b[39m\u001b[38;5;124mu\u001b[39m\u001b[38;5;124m'\u001b[39m:\n\u001b[1;32m----> 6\u001b[0m       st[i] \u001b[38;5;241m=\u001b[39m \u001b[38;5;124m'\u001b[39m\u001b[38;5;124m'\u001b[39m\n\u001b[0;32m      7\u001b[0m       \u001b[38;5;28;01mcontinue\u001b[39;00m\n\u001b[0;32m      9\u001b[0m   \u001b[38;5;28;01melse\u001b[39;00m:\n",
      "\u001b[1;31mTypeError\u001b[0m: 'str' object does not support item assignment"
     ]
    }
   ],
   "source": [
    "st = \"GFGaBstuforigeeks\"\n",
    "s = ''\n",
    "for i in range(len(st)):\n",
    "\n",
    "  if st[i] == 'a' or st[i] == 'e' or st[i] == 'i' or st[i] =='o' or st[i] == 'u':\n",
    "      st[i] = ''\n",
    "      continue\n",
    "\n",
    "  else:\n",
    "\n",
    "\n",
    "      print(st[i],end='')"
   ]
  },
  {
   "cell_type": "code",
   "execution_count": 84,
   "id": "0677a8cb-c459-4d23-917d-68c80daf2938",
   "metadata": {},
   "outputs": [
    {
     "data": {
      "text/plain": [
       "'GFGaBstuforigeeks'"
      ]
     },
     "execution_count": 84,
     "metadata": {},
     "output_type": "execute_result"
    }
   ],
   "source": [
    "st"
   ]
  },
  {
   "cell_type": "code",
   "execution_count": 85,
   "id": "17478f07-4483-44da-accd-82a1a0667fed",
   "metadata": {},
   "outputs": [
    {
     "data": {
      "text/plain": [
       "['a', 'e', 'i', 'o', 'u']"
      ]
     },
     "execution_count": 85,
     "metadata": {},
     "output_type": "execute_result"
    }
   ],
   "source": [
    "v"
   ]
  },
  {
   "cell_type": "code",
   "execution_count": 88,
   "id": "bcbd09b0-cee5-48d3-b862-cf8ac80f04b6",
   "metadata": {},
   "outputs": [],
   "source": [
    "for i in v:\n",
    "    st = st.replace(i, ' ')"
   ]
  },
  {
   "cell_type": "code",
   "execution_count": 90,
   "id": "6fbf26c2-7683-4f7c-9da8-603bfcf4aaa6",
   "metadata": {},
   "outputs": [
    {
     "data": {
      "text/plain": [
       "['GFG', 'Bst', 'f', 'r', 'g', 'ks']"
      ]
     },
     "execution_count": 90,
     "metadata": {},
     "output_type": "execute_result"
    }
   ],
   "source": [
    "st.split()"
   ]
  },
  {
   "cell_type": "code",
   "execution_count": 92,
   "id": "f16d1c6a-6103-485b-8ab0-9c95d4971c1a",
   "metadata": {},
   "outputs": [],
   "source": [
    "s = 'GFGaBstuforigeeks'"
   ]
  },
  {
   "cell_type": "code",
   "execution_count": 98,
   "id": "3e12a001-4b17-4ce2-9b8b-2ad7f6040185",
   "metadata": {},
   "outputs": [
    {
     "data": {
      "text/plain": [
       "'GFG'"
      ]
     },
     "execution_count": 98,
     "metadata": {},
     "output_type": "execute_result"
    }
   ],
   "source": [
    "s.split('a')[0]"
   ]
  },
  {
   "cell_type": "code",
   "execution_count": 101,
   "id": "aa5f3074-c8a3-4a4d-8115-81958fc4a7f4",
   "metadata": {},
   "outputs": [
    {
     "data": {
      "text/plain": [
       "'Bst'"
      ]
     },
     "execution_count": 101,
     "metadata": {},
     "output_type": "execute_result"
    }
   ],
   "source": [
    "s.split('a')[1].split('u')[0]"
   ]
  },
  {
   "cell_type": "code",
   "execution_count": 104,
   "id": "f954a43e-add8-4173-98fc-ea549a0095f8",
   "metadata": {},
   "outputs": [
    {
     "data": {
      "text/plain": [
       "'f'"
      ]
     },
     "execution_count": 104,
     "metadata": {},
     "output_type": "execute_result"
    }
   ],
   "source": [
    "s.split('a')[1].split('u')[1].split('o')[0]"
   ]
  },
  {
   "cell_type": "code",
   "execution_count": null,
   "id": "bd3dbc7a-83e3-4a0a-9af3-353fb0003095",
   "metadata": {},
   "outputs": [],
   "source": []
  }
 ],
 "metadata": {
  "kernelspec": {
   "display_name": "Python 3 (ipykernel)",
   "language": "python",
   "name": "python3"
  },
  "language_info": {
   "codemirror_mode": {
    "name": "ipython",
    "version": 3
   },
   "file_extension": ".py",
   "mimetype": "text/x-python",
   "name": "python",
   "nbconvert_exporter": "python",
   "pygments_lexer": "ipython3",
   "version": "3.12.7"
  }
 },
 "nbformat": 4,
 "nbformat_minor": 5
}
