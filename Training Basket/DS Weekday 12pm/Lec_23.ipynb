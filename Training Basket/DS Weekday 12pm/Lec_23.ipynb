{
 "cells": [
  {
   "cell_type": "code",
   "execution_count": 1,
   "id": "0be2de6b-6d15-4da8-8488-2aef262ee557",
   "metadata": {},
   "outputs": [],
   "source": [
    "# json"
   ]
  },
  {
   "cell_type": "code",
   "execution_count": 2,
   "id": "1039649e-869b-4452-87c7-6c5e0aa7a2f4",
   "metadata": {},
   "outputs": [],
   "source": [
    "d = {\n",
    "    'a' : \"Tushar\",\n",
    "    'b' : 'Kanhaiya',\n",
    "    'c' : 8,\n",
    "    'd' : 50000\n",
    "}"
   ]
  },
  {
   "cell_type": "code",
   "execution_count": 3,
   "id": "f8455850-7bf2-4743-bb8f-2643768006cf",
   "metadata": {},
   "outputs": [],
   "source": [
    "import json"
   ]
  },
  {
   "cell_type": "code",
   "execution_count": 8,
   "id": "212661ab-3e2a-4ec1-aed8-6557ee8e6104",
   "metadata": {},
   "outputs": [],
   "source": [
    "with open('ml.json', 'w') as file:\n",
    "    json.dump(d, file)"
   ]
  },
  {
   "cell_type": "code",
   "execution_count": 9,
   "id": "806a4e82-d21c-4f6a-a272-c9a52de23255",
   "metadata": {},
   "outputs": [],
   "source": [
    "with open('ml.json', 'r') as file:\n",
    "    text = file.read()"
   ]
  },
  {
   "cell_type": "code",
   "execution_count": 11,
   "id": "64abe966-a077-4e6e-8ad0-a18375028923",
   "metadata": {},
   "outputs": [
    {
     "data": {
      "text/plain": [
       "str"
      ]
     },
     "execution_count": 11,
     "metadata": {},
     "output_type": "execute_result"
    }
   ],
   "source": [
    "type(text)"
   ]
  },
  {
   "cell_type": "code",
   "execution_count": 14,
   "id": "2e82be78-e9f0-44a5-8b95-058de0957a68",
   "metadata": {},
   "outputs": [],
   "source": [
    "with open('ml.json', 'r') as file:\n",
    "    # text = file.read()  it will make my data as in string format\n",
    "    text = json.load(file) # it will make my data as in dict format"
   ]
  },
  {
   "cell_type": "code",
   "execution_count": 16,
   "id": "3a36e47f-7481-41b2-8020-1bdf93f110fc",
   "metadata": {},
   "outputs": [
    {
     "name": "stdout",
     "output_type": "stream",
     "text": [
      "<class 'dict'>\n"
     ]
    }
   ],
   "source": [
    "print(type(text))"
   ]
  },
  {
   "cell_type": "code",
   "execution_count": 18,
   "id": "6ce9fae2-cfc1-4dd9-a690-25ef001df966",
   "metadata": {},
   "outputs": [],
   "source": [
    "with open('ml.json', 'w') as file:\n",
    "    text = json.dump('a',file)"
   ]
  },
  {
   "cell_type": "code",
   "execution_count": 19,
   "id": "37ccce4e-b3a5-4f7b-9af0-9debed9176c0",
   "metadata": {},
   "outputs": [],
   "source": [
    "with open('ml.json', 'r') as file:\n",
    "    # text = file.read()  it will make my data as in string format\n",
    "    text = json.load(file)"
   ]
  },
  {
   "cell_type": "code",
   "execution_count": 21,
   "id": "c56c6505-b6de-46a8-b89b-2e593562d30f",
   "metadata": {},
   "outputs": [
    {
     "data": {
      "text/plain": [
       "str"
      ]
     },
     "execution_count": 21,
     "metadata": {},
     "output_type": "execute_result"
    }
   ],
   "source": [
    "type(text)"
   ]
  },
  {
   "cell_type": "code",
   "execution_count": 22,
   "id": "d773c540-c7ed-4c66-b450-8599e086ad16",
   "metadata": {},
   "outputs": [],
   "source": [
    "st = \"\"\"Machine learning (ML) is a subfield of artificial intelligence (AI) \n",
    "that uses algorithms to enable computer systems to learn from data without being explicitly programmed.\n",
    "By analyzing large datasets, ML models identify patterns, make predictions, and \n",
    "improve their performance over time through a process called training. The goal of ML is \"generalization,\" where a trained model applies\n",
    "its learned patterns to new, \n",
    "unseen data to perform tasks like forecasting, classification, and \n",
    "generating content.\"\"\""
   ]
  },
  {
   "cell_type": "code",
   "execution_count": 34,
   "id": "0e131a07-1839-4831-962c-d81549608195",
   "metadata": {},
   "outputs": [],
   "source": [
    "d = {}\n",
    "idx = 0\n",
    "count = 1\n",
    "for i in range(len(st)):\n",
    "    if st[i] == '.':\n",
    "        d[count] = st[idx : i + 1]\n",
    "        idx = i + 1\n",
    "        count += 1\n",
    "with open('ml.json', 'w') as file:\n",
    "    json.dump(d, file)"
   ]
  },
  {
   "cell_type": "code",
   "execution_count": 38,
   "id": "2bd7f837-67e5-4efa-9933-a7ac3484795e",
   "metadata": {},
   "outputs": [
    {
     "name": "stdout",
     "output_type": "stream",
     "text": [
      "{'1': 'Machine learning (ML) is a subfield of artificial intelligence (AI) \\nthat uses algorithms to enable computer systems to learn from data without being explicitly programmed.', '2': '\\nBy analyzing large datasets, ML models identify patterns, make predictions, and \\nimprove their performance over time through a process called training.', '3': ' The goal of ML is \"generalization,\" where a trained model applies\\nits learned patterns to new, \\nunseen data to perform tasks like forecasting, classification, and \\ngenerating content.'}\n"
     ]
    }
   ],
   "source": [
    "with open('ml.json', 'r') as file:\n",
    "    print(json.load(file))"
   ]
  },
  {
   "cell_type": "code",
   "execution_count": 37,
   "id": "ea94a470-62f5-4516-bbf7-33c51881500d",
   "metadata": {},
   "outputs": [
    {
     "data": {
      "text/plain": [
       "{'1': 'Machine learning (ML) is a subfield of artificial intelligence (AI) \\nthat uses algorithms to enable computer systems to learn from data without being explicitly programmed.',\n",
       " '2': '\\nBy analyzing large datasets, ML models identify patterns, make predictions, and \\nimprove their performance over time through a process called training.',\n",
       " '3': ' The goal of ML is \"generalization,\" where a trained model applies\\nits learned patterns to new, \\nunseen data to perform tasks like forecasting, classification, and \\ngenerating content.'}"
      ]
     },
     "execution_count": 37,
     "metadata": {},
     "output_type": "execute_result"
    }
   ],
   "source": [
    "text"
   ]
  },
  {
   "cell_type": "code",
   "execution_count": null,
   "id": "56d42987-b124-4971-8933-083eff9e6f82",
   "metadata": {},
   "outputs": [],
   "source": []
  }
 ],
 "metadata": {
  "kernelspec": {
   "display_name": "Python 3 (ipykernel)",
   "language": "python",
   "name": "python3"
  },
  "language_info": {
   "codemirror_mode": {
    "name": "ipython",
    "version": 3
   },
   "file_extension": ".py",
   "mimetype": "text/x-python",
   "name": "python",
   "nbconvert_exporter": "python",
   "pygments_lexer": "ipython3",
   "version": "3.12.7"
  }
 },
 "nbformat": 4,
 "nbformat_minor": 5
}
