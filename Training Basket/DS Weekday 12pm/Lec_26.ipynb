{
 "cells": [
  {
   "cell_type": "code",
   "execution_count": 1,
   "id": "8958556e-5f44-425f-9962-cbd4a96f5226",
   "metadata": {},
   "outputs": [],
   "source": [
    "# Decorators"
   ]
  },
  {
   "cell_type": "code",
   "execution_count": 2,
   "id": "90b4aab3-fddf-4a95-9e03-f52fbbb33ddd",
   "metadata": {},
   "outputs": [],
   "source": [
    "def square(num):\n",
    "    return num**2\n"
   ]
  },
  {
   "cell_type": "code",
   "execution_count": 3,
   "id": "4a6fb8c4-1ab7-4636-a24e-718c54a0bae2",
   "metadata": {},
   "outputs": [],
   "source": [
    "def modify(f, num):\n",
    "    print(f)\n",
    "    return f(num)"
   ]
  },
  {
   "cell_type": "code",
   "execution_count": 4,
   "id": "18322ce1-78b7-40e6-8b75-cf2bcaa9fee2",
   "metadata": {},
   "outputs": [
    {
     "ename": "TypeError",
     "evalue": "modify() missing 1 required positional argument: 'num'",
     "output_type": "error",
     "traceback": [
      "\u001b[1;31m---------------------------------------------------------------------------\u001b[0m",
      "\u001b[1;31mTypeError\u001b[0m                                 Traceback (most recent call last)",
      "Cell \u001b[1;32mIn[4], line 2\u001b[0m\n\u001b[0;32m      1\u001b[0m a \u001b[38;5;241m=\u001b[39m square(\u001b[38;5;241m4\u001b[39m)\n\u001b[1;32m----> 2\u001b[0m modify(a)\n",
      "\u001b[1;31mTypeError\u001b[0m: modify() missing 1 required positional argument: 'num'"
     ]
    }
   ],
   "source": [
    "a = square(4)\n",
    "modify(a)\n",
    "# modify(square)"
   ]
  },
  {
   "cell_type": "code",
   "execution_count": 5,
   "id": "68c00d60-eb6e-474e-b215-b96a5b15bd56",
   "metadata": {},
   "outputs": [],
   "source": [
    "a = square(4)"
   ]
  },
  {
   "cell_type": "code",
   "execution_count": 6,
   "id": "7e0bc9ef-f690-4291-aee1-d656075d1e94",
   "metadata": {},
   "outputs": [
    {
     "data": {
      "text/plain": [
       "16"
      ]
     },
     "execution_count": 6,
     "metadata": {},
     "output_type": "execute_result"
    }
   ],
   "source": [
    "a"
   ]
  },
  {
   "cell_type": "code",
   "execution_count": 7,
   "id": "d00e9fca-b1f2-45f7-9de7-bae9f7491801",
   "metadata": {},
   "outputs": [
    {
     "name": "stdout",
     "output_type": "stream",
     "text": [
      "<function square at 0x000001F3A1904F40>\n"
     ]
    },
    {
     "data": {
      "text/plain": [
       "4"
      ]
     },
     "execution_count": 7,
     "metadata": {},
     "output_type": "execute_result"
    }
   ],
   "source": [
    "modify(square, 2)"
   ]
  },
  {
   "cell_type": "code",
   "execution_count": 8,
   "id": "9cb64ff2-153d-4d18-b54d-4bf404c051f6",
   "metadata": {},
   "outputs": [
    {
     "name": "stdout",
     "output_type": "stream",
     "text": [
      "T\n"
     ]
    }
   ],
   "source": [
    "print('T')"
   ]
  },
  {
   "cell_type": "code",
   "execution_count": 9,
   "id": "971a3b50-9cdb-44ae-bf77-e86c7604fff7",
   "metadata": {},
   "outputs": [
    {
     "name": "stdout",
     "output_type": "stream",
     "text": [
      "<function square at 0x000001F3A1904F40>\n"
     ]
    }
   ],
   "source": [
    "a = modify(square, 4)"
   ]
  },
  {
   "cell_type": "code",
   "execution_count": 10,
   "id": "232098df-f22b-418b-9a47-71e025ba6ceb",
   "metadata": {},
   "outputs": [
    {
     "data": {
      "text/plain": [
       "16"
      ]
     },
     "execution_count": 10,
     "metadata": {},
     "output_type": "execute_result"
    }
   ],
   "source": [
    "a"
   ]
  },
  {
   "cell_type": "code",
   "execution_count": 11,
   "id": "6d5925ee-300a-4c7a-adca-05502dbfad7e",
   "metadata": {},
   "outputs": [],
   "source": [
    "def square(num):\n",
    "    return num**2\n",
    "    \n",
    "def modify(f):\n",
    "    return f"
   ]
  },
  {
   "cell_type": "code",
   "execution_count": 12,
   "id": "796e4afb-dbe4-4b9d-aab5-63c080f4c07c",
   "metadata": {},
   "outputs": [],
   "source": [
    "a = modify(square)"
   ]
  },
  {
   "cell_type": "code",
   "execution_count": 13,
   "id": "f18765b2-b182-4dbc-9962-6ed16e347cb0",
   "metadata": {},
   "outputs": [
    {
     "data": {
      "text/plain": [
       "16"
      ]
     },
     "execution_count": 13,
     "metadata": {},
     "output_type": "execute_result"
    }
   ],
   "source": [
    "a(4)"
   ]
  },
  {
   "cell_type": "code",
   "execution_count": 14,
   "id": "7a6a5443-77b2-48a8-9067-1116faaf3388",
   "metadata": {},
   "outputs": [],
   "source": [
    "a= print"
   ]
  },
  {
   "cell_type": "code",
   "execution_count": 15,
   "id": "712c02d2-019e-4f3d-b528-cfd0feda5312",
   "metadata": {},
   "outputs": [
    {
     "name": "stdout",
     "output_type": "stream",
     "text": [
      "hello\n"
     ]
    }
   ],
   "source": [
    "a(\"hello\")"
   ]
  },
  {
   "cell_type": "code",
   "execution_count": 16,
   "id": "815ff228-ca86-4f42-b850-5adc44bc1b13",
   "metadata": {},
   "outputs": [],
   "source": [
    "# simple decorator"
   ]
  },
  {
   "cell_type": "code",
   "execution_count": 17,
   "id": "d0e7711f-025c-4f43-a93e-5fdb191b4bcb",
   "metadata": {},
   "outputs": [],
   "source": [
    "def my_decorator(func):\n",
    "    def wrapper():\n",
    "        print(\"**************\")\n",
    "        func()\n",
    "        print(\"**************\")\n",
    "    return wrapper"
   ]
  },
  {
   "cell_type": "code",
   "execution_count": 18,
   "id": "c5dd8153-3181-49f8-8c0c-ba63c9a0b6e6",
   "metadata": {},
   "outputs": [],
   "source": [
    "def hello():\n",
    "    print('hello')"
   ]
  },
  {
   "cell_type": "code",
   "execution_count": 19,
   "id": "5e91d5e5-a658-4d89-8426-281153b2602c",
   "metadata": {},
   "outputs": [],
   "source": [
    "a = my_decorator(hello)"
   ]
  },
  {
   "cell_type": "code",
   "execution_count": 20,
   "id": "d8b122b1-401f-4490-ac0c-709eececf04e",
   "metadata": {},
   "outputs": [
    {
     "name": "stdout",
     "output_type": "stream",
     "text": [
      "**************\n",
      "hello\n",
      "**************\n"
     ]
    }
   ],
   "source": [
    "a()"
   ]
  },
  {
   "cell_type": "code",
   "execution_count": 21,
   "id": "406beee6-4326-41b4-95e2-b7f26a6301cb",
   "metadata": {},
   "outputs": [],
   "source": [
    "def display():\n",
    "    print(\"good morning!\")"
   ]
  },
  {
   "cell_type": "code",
   "execution_count": 22,
   "id": "b6342027-1a98-41a1-a70d-8ffc9e3fcbdf",
   "metadata": {},
   "outputs": [
    {
     "name": "stdout",
     "output_type": "stream",
     "text": [
      "**************\n",
      "good morning!\n",
      "**************\n"
     ]
    }
   ],
   "source": [
    "b = my_decorator(display)\n",
    "b()"
   ]
  },
  {
   "cell_type": "code",
   "execution_count": 23,
   "id": "7a05995d-9350-4119-8420-a2a2f3633ba3",
   "metadata": {},
   "outputs": [
    {
     "name": "stdout",
     "output_type": "stream",
     "text": [
      "**************\n",
      "Hello\n",
      "**************\n"
     ]
    }
   ],
   "source": [
    "@my_decorator\n",
    "def hello():\n",
    "    print('Hello')\n",
    "hello()"
   ]
  },
  {
   "cell_type": "code",
   "execution_count": 24,
   "id": "07b4862d-4c8a-4f8f-913b-d325fdcb5963",
   "metadata": {},
   "outputs": [],
   "source": [
    "import time"
   ]
  },
  {
   "cell_type": "code",
   "execution_count": 25,
   "id": "a3bff2df-a575-49c6-a8f9-9554afb72cfe",
   "metadata": {},
   "outputs": [],
   "source": [
    "def timer(func):\n",
    "    def wrapper(*args):\n",
    "        start = time.time()\n",
    "        func(*args)\n",
    "        print(f'Time taken by {func.__name__} {time.time() - start}')\n",
    "    return wrapper"
   ]
  },
  {
   "cell_type": "code",
   "execution_count": 26,
   "id": "21267cf6-dd73-431e-83d0-6d3c9785a357",
   "metadata": {},
   "outputs": [
    {
     "name": "stdout",
     "output_type": "stream",
     "text": [
      "Home page\n",
      "Time taken by home 0.0015170574188232422\n"
     ]
    }
   ],
   "source": [
    "@timer\n",
    "def square(num):\n",
    "    time.sleep(3)\n",
    "    print(num**2)\n",
    "\n",
    "@timer\n",
    "def home():\n",
    "    print(\"Home page\")\n",
    "home()"
   ]
  },
  {
   "cell_type": "code",
   "execution_count": 27,
   "id": "0dbcf649-7151-4ba8-8511-7fd3deb00595",
   "metadata": {},
   "outputs": [
    {
     "name": "stdout",
     "output_type": "stream",
     "text": [
      "9\n",
      "Time taken by square 3.000967502593994\n"
     ]
    }
   ],
   "source": [
    "square(3)"
   ]
  },
  {
   "cell_type": "code",
   "execution_count": 28,
   "id": "eb6fab6a-8e81-4414-90cd-7f1a07ad0065",
   "metadata": {},
   "outputs": [],
   "source": [
    "def add():\n",
    "    a = 4\n",
    "    b = 3\n",
    "    global c \n",
    "    c = 1\n",
    "    print(a + b)"
   ]
  },
  {
   "cell_type": "code",
   "execution_count": 29,
   "id": "d79166ff-abfd-4d2a-abe1-3e4de39273c0",
   "metadata": {},
   "outputs": [
    {
     "name": "stdout",
     "output_type": "stream",
     "text": [
      "7\n"
     ]
    }
   ],
   "source": [
    "add()"
   ]
  },
  {
   "cell_type": "code",
   "execution_count": 30,
   "id": "f66c3ae2-c4e8-4075-b141-00af19d4249f",
   "metadata": {},
   "outputs": [
    {
     "data": {
      "text/plain": [
       "<function __main__.my_decorator.<locals>.wrapper()>"
      ]
     },
     "execution_count": 30,
     "metadata": {},
     "output_type": "execute_result"
    }
   ],
   "source": [
    "a"
   ]
  },
  {
   "cell_type": "code",
   "execution_count": 31,
   "id": "37b095d8-0d8c-45e6-a156-6e22de7c2f39",
   "metadata": {},
   "outputs": [
    {
     "data": {
      "text/plain": [
       "1"
      ]
     },
     "execution_count": 31,
     "metadata": {},
     "output_type": "execute_result"
    }
   ],
   "source": [
    "c"
   ]
  },
  {
   "cell_type": "code",
   "execution_count": 32,
   "id": "6a15aee2-01a7-47ed-b9c8-8150810243f3",
   "metadata": {},
   "outputs": [],
   "source": [
    "def outer():\n",
    "    a = 9\n",
    "    def inner():\n",
    "        a = 10\n",
    "        print(a)\n",
    "    return inner"
   ]
  },
  {
   "cell_type": "code",
   "execution_count": 33,
   "id": "3b39d4b2-5e53-4c18-aef7-c37c3f312bd7",
   "metadata": {},
   "outputs": [],
   "source": [
    "z = outer()"
   ]
  },
  {
   "cell_type": "code",
   "execution_count": 34,
   "id": "4b832578-7a23-498e-9297-4a7735dc96fb",
   "metadata": {},
   "outputs": [
    {
     "name": "stdout",
     "output_type": "stream",
     "text": [
      "10\n"
     ]
    }
   ],
   "source": [
    "z()"
   ]
  },
  {
   "cell_type": "code",
   "execution_count": 35,
   "id": "b0276c3d-2927-4738-bc3d-88e066e4dd04",
   "metadata": {},
   "outputs": [],
   "source": [
    "a = 10\n",
    "def add():\n",
    "    global a\n",
    "    a = 4\n",
    "    b = 3\n",
    "    print(a + b)"
   ]
  },
  {
   "cell_type": "code",
   "execution_count": 36,
   "id": "6df20838-30eb-43ad-9863-6297965e66f1",
   "metadata": {},
   "outputs": [
    {
     "name": "stdout",
     "output_type": "stream",
     "text": [
      "7\n"
     ]
    }
   ],
   "source": [
    "add()"
   ]
  },
  {
   "cell_type": "code",
   "execution_count": 37,
   "id": "e941ba0d-3f90-48ee-9942-f9f7db7c13cd",
   "metadata": {},
   "outputs": [
    {
     "data": {
      "text/plain": [
       "4"
      ]
     },
     "execution_count": 37,
     "metadata": {},
     "output_type": "execute_result"
    }
   ],
   "source": [
    "a"
   ]
  },
  {
   "cell_type": "code",
   "execution_count": 38,
   "id": "e0d29ddc-0eed-45e2-a538-c6e6336e0067",
   "metadata": {},
   "outputs": [],
   "source": [
    "# using filter method filter the string where you have to access the vowels only"
   ]
  },
  {
   "cell_type": "code",
   "execution_count": 39,
   "id": "d2e357b2-52a0-489f-8333-ac71d4323b3a",
   "metadata": {},
   "outputs": [],
   "source": [
    "s = 'Training Basket'"
   ]
  },
  {
   "cell_type": "code",
   "execution_count": 41,
   "id": "62cd45a8-2ce0-493c-8488-0d07c866b579",
   "metadata": {},
   "outputs": [
    {
     "data": {
      "text/plain": [
       "['a', 'i', 'i', 'a', 'e']"
      ]
     },
     "execution_count": 41,
     "metadata": {},
     "output_type": "execute_result"
    }
   ],
   "source": [
    "st = 'aeiou'\n",
    "list(filter(lambda x : x in st , s))"
   ]
  },
  {
   "cell_type": "code",
   "execution_count": 42,
   "id": "9a8d5c97-82b9-4710-81dc-5873a253624b",
   "metadata": {},
   "outputs": [
    {
     "name": "stdout",
     "output_type": "stream",
     "text": [
      "Vowels only: aiiae\n"
     ]
    }
   ],
   "source": [
    "text = \"Training Basket\"\n",
    "\n",
    "vowels = ['a', 'e', 'i', 'o', 'u', 'A', 'E', 'I', 'O', 'U']\n",
    "\n",
    "def is_vowel(ch):\n",
    "\n",
    "    for v in vowels: \n",
    "\n",
    "        if ch == v:\n",
    "\n",
    "            return True\n",
    "\n",
    "    return False\n",
    "\n",
    "filtered = filter(is_vowel, text)\n",
    "\n",
    "result = \"\"\n",
    "\n",
    "for ch in filtered:    \n",
    "\n",
    "    result = result + ch\n",
    "\n",
    "print(\"Vowels only:\", result)"
   ]
  },
  {
   "cell_type": "code",
   "execution_count": null,
   "id": "4c9f2004-925c-4b1d-8f99-10b645da287c",
   "metadata": {},
   "outputs": [],
   "source": []
  }
 ],
 "metadata": {
  "kernelspec": {
   "display_name": "Python 3 (ipykernel)",
   "language": "python",
   "name": "python3"
  },
  "language_info": {
   "codemirror_mode": {
    "name": "ipython",
    "version": 3
   },
   "file_extension": ".py",
   "mimetype": "text/x-python",
   "name": "python",
   "nbconvert_exporter": "python",
   "pygments_lexer": "ipython3",
   "version": "3.12.7"
  }
 },
 "nbformat": 4,
 "nbformat_minor": 5
}
