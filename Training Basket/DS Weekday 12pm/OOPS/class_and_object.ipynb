{
 "cells": [
  {
   "cell_type": "code",
   "execution_count": 2,
   "id": "28b90af8-af7f-49c8-9c3c-0c392e38079d",
   "metadata": {},
   "outputs": [],
   "source": [
    "def add():\n",
    "    print(1+2)\n",
    "\n",
    "def sub():\n",
    "    add()\n",
    "    print(1-2)"
   ]
  },
  {
   "cell_type": "code",
   "execution_count": 3,
   "id": "ec7b90b2-4252-41b2-b51b-39459136b124",
   "metadata": {},
   "outputs": [
    {
     "name": "stdout",
     "output_type": "stream",
     "text": [
      "3\n",
      "-1\n"
     ]
    }
   ],
   "source": [
    "sub()"
   ]
  },
  {
   "cell_type": "code",
   "execution_count": 4,
   "id": "0e585eef-2e06-4bd3-a1a1-3cefbb627aae",
   "metadata": {},
   "outputs": [],
   "source": [
    "l = 'tushar'"
   ]
  },
  {
   "cell_type": "code",
   "execution_count": 5,
   "id": "969656e2-73e2-4e30-998a-c364cbf1575e",
   "metadata": {},
   "outputs": [
    {
     "name": "stdout",
     "output_type": "stream",
     "text": [
      "<class 'str'>\n"
     ]
    }
   ],
   "source": [
    "print(type(l))"
   ]
  },
  {
   "cell_type": "code",
   "execution_count": 6,
   "id": "9a56a45a-d927-4523-8822-8f0b5617078f",
   "metadata": {},
   "outputs": [
    {
     "name": "stdout",
     "output_type": "stream",
     "text": [
      "<class 'list'>\n"
     ]
    }
   ],
   "source": [
    "a = [1, 2]\n",
    "print(type(a))"
   ]
  },
  {
   "cell_type": "code",
   "execution_count": 8,
   "id": "2f0ed63c-90ff-4589-be1e-82aea3472af2",
   "metadata": {},
   "outputs": [
    {
     "name": "stdout",
     "output_type": "stream",
     "text": [
      "<class 'dict'>\n"
     ]
    }
   ],
   "source": [
    "b = {'a':123}\n",
    "print(type(b))"
   ]
  },
  {
   "cell_type": "code",
   "execution_count": 9,
   "id": "67a358f4-8289-417e-99cc-227ee02ee006",
   "metadata": {},
   "outputs": [
    {
     "name": "stdout",
     "output_type": "stream",
     "text": [
      "<class 'tuple'>\n"
     ]
    }
   ],
   "source": [
    "t = (1, 2)\n",
    "print(type(t))"
   ]
  },
  {
   "cell_type": "code",
   "execution_count": 11,
   "id": "e55c66a3-aeee-4a04-b0ca-42198db3abe2",
   "metadata": {},
   "outputs": [
    {
     "data": {
      "text/plain": [
       "'tushar'"
      ]
     },
     "execution_count": 11,
     "metadata": {},
     "output_type": "execute_result"
    }
   ],
   "source": [
    "l.lower()"
   ]
  },
  {
   "cell_type": "code",
   "execution_count": 13,
   "id": "562fb22b-4c8e-409a-a22a-d4ec421df165",
   "metadata": {},
   "outputs": [
    {
     "ename": "AttributeError",
     "evalue": "'str' object has no attribute 'add'",
     "output_type": "error",
     "traceback": [
      "\u001b[1;31m---------------------------------------------------------------------------\u001b[0m",
      "\u001b[1;31mAttributeError\u001b[0m                            Traceback (most recent call last)",
      "Cell \u001b[1;32mIn[13], line 1\u001b[0m\n\u001b[1;32m----> 1\u001b[0m l\u001b[38;5;241m.\u001b[39madd()\n",
      "\u001b[1;31mAttributeError\u001b[0m: 'str' object has no attribute 'add'"
     ]
    }
   ],
   "source": [
    "l.add()"
   ]
  },
  {
   "cell_type": "code",
   "execution_count": 14,
   "id": "9df79a3a-ca17-4399-a595-67a65daa3f9d",
   "metadata": {},
   "outputs": [
    {
     "data": {
      "text/plain": [
       "'TUSHAR'"
      ]
     },
     "execution_count": 14,
     "metadata": {},
     "output_type": "execute_result"
    }
   ],
   "source": [
    "l.lower().upper()"
   ]
  },
  {
   "cell_type": "code",
   "execution_count": 15,
   "id": "2397c0f4-0532-46f1-b5a5-5080d023fbe2",
   "metadata": {},
   "outputs": [],
   "source": [
    "l = []"
   ]
  },
  {
   "cell_type": "code",
   "execution_count": 16,
   "id": "79578f4b-9777-42d7-9370-fde6eda5fbbe",
   "metadata": {},
   "outputs": [
    {
     "data": {
      "text/plain": [
       "list"
      ]
     },
     "execution_count": 16,
     "metadata": {},
     "output_type": "execute_result"
    }
   ],
   "source": [
    "type(l)"
   ]
  },
  {
   "cell_type": "code",
   "execution_count": 17,
   "id": "582a471f-cc9e-437e-93a5-c882e351fc73",
   "metadata": {},
   "outputs": [],
   "source": [
    "# a = list()"
   ]
  },
  {
   "cell_type": "code",
   "execution_count": 18,
   "id": "503f365b-0909-4926-ba2a-7c05e5974820",
   "metadata": {},
   "outputs": [],
   "source": [
    "class Person:\n",
    "    a = 'tushar'\n",
    "    b = 'aditya'\n",
    "    "
   ]
  },
  {
   "cell_type": "code",
   "execution_count": 19,
   "id": "44ec052f-2fe8-43d3-a839-c7b7b2b90aa2",
   "metadata": {},
   "outputs": [],
   "source": [
    "Person_obj = Person()"
   ]
  },
  {
   "cell_type": "code",
   "execution_count": 20,
   "id": "81ffe1bd-5833-4f42-868a-d603aff9fa37",
   "metadata": {},
   "outputs": [
    {
     "name": "stdout",
     "output_type": "stream",
     "text": [
      "<class '__main__.Person'>\n"
     ]
    }
   ],
   "source": [
    "print(type(Person_obj))"
   ]
  },
  {
   "cell_type": "code",
   "execution_count": 21,
   "id": "4c775468-a83c-496c-85f7-7d8238e24d76",
   "metadata": {},
   "outputs": [],
   "source": [
    "a = list()"
   ]
  },
  {
   "cell_type": "code",
   "execution_count": 22,
   "id": "806a5cbd-9cd7-4132-90e6-00f117d17d00",
   "metadata": {},
   "outputs": [
    {
     "data": {
      "text/plain": [
       "[]"
      ]
     },
     "execution_count": 22,
     "metadata": {},
     "output_type": "execute_result"
    }
   ],
   "source": [
    "a"
   ]
  },
  {
   "cell_type": "code",
   "execution_count": 39,
   "id": "096d6411-3961-4063-be6a-eacff10c9ce4",
   "metadata": {},
   "outputs": [],
   "source": [
    "class Atm:\n",
    "    def __init__(self):  # constructor\n",
    "        print(id(self))\n",
    "        self.pin = '' # attribute\n",
    "        self.balance = 0 \n",
    "        # self.menu()\n",
    "    \n",
    "    def menu(self):\n",
    "        user_input = input(\"\"\"\n",
    "        How cani help your sir\n",
    "        1. press 1 to create your pin\n",
    "        2. press 2 to change your pin\n",
    "        3. press 3 to check balance\n",
    "        4. press 4 to withdraw money\n",
    "        5. anything else to exit\"\"\")\n",
    "\n",
    "        if user_input == '1':\n",
    "            pass\n",
    "        elif user_input == '2':\n",
    "            pass\n",
    "        elif user_input == '3':\n",
    "            pass\n",
    "        elif user_input == '4':\n",
    "            pass\n",
    "        else:\n",
    "            pass\n",
    "            "
   ]
  },
  {
   "cell_type": "code",
   "execution_count": 40,
   "id": "a541bb18-f6b9-43c1-b493-59a0eb48dd93",
   "metadata": {},
   "outputs": [
    {
     "name": "stdout",
     "output_type": "stream",
     "text": [
      "1623449887584\n"
     ]
    }
   ],
   "source": [
    "naveen = Atm()"
   ]
  },
  {
   "cell_type": "code",
   "execution_count": 42,
   "id": "447906de-191d-4383-81a1-f4047d5fd13e",
   "metadata": {},
   "outputs": [
    {
     "data": {
      "text/plain": [
       "1623449887584"
      ]
     },
     "execution_count": 42,
     "metadata": {},
     "output_type": "execute_result"
    }
   ],
   "source": [
    "id(naveen)"
   ]
  },
  {
   "cell_type": "code",
   "execution_count": null,
   "id": "6e460076-6563-41df-953a-a093b0a9f536",
   "metadata": {},
   "outputs": [],
   "source": []
  }
 ],
 "metadata": {
  "kernelspec": {
   "display_name": "Python 3 (ipykernel)",
   "language": "python",
   "name": "python3"
  },
  "language_info": {
   "codemirror_mode": {
    "name": "ipython",
    "version": 3
   },
   "file_extension": ".py",
   "mimetype": "text/x-python",
   "name": "python",
   "nbconvert_exporter": "python",
   "pygments_lexer": "ipython3",
   "version": "3.12.7"
  }
 },
 "nbformat": 4,
 "nbformat_minor": 5
}
