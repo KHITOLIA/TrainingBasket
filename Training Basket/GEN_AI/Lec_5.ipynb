{
 "cells": [
  {
   "cell_type": "code",
   "execution_count": 16,
   "id": "d839c196-ac07-4cb8-bcab-39e419eb08cc",
   "metadata": {},
   "outputs": [],
   "source": [
    "st = '    Training    Basket    '"
   ]
  },
  {
   "cell_type": "code",
   "execution_count": 2,
   "id": "4bfdcfcd-0bfe-4e1a-9150-bd262eb1c61a",
   "metadata": {},
   "outputs": [],
   "source": [
    "starting = 0\n",
    "ending = len(st) - 1\n",
    "\n",
    "for i in range(len(st)):\n",
    "    if st[i] != ' ':\n",
    "        starting  = i\n",
    "        break\n",
    "        "
   ]
  },
  {
   "cell_type": "code",
   "execution_count": 3,
   "id": "14ba07d3-2036-4db9-b4df-1fbe6f07a507",
   "metadata": {},
   "outputs": [
    {
     "data": {
      "text/plain": [
       "4"
      ]
     },
     "execution_count": 3,
     "metadata": {},
     "output_type": "execute_result"
    }
   ],
   "source": [
    "starting"
   ]
  },
  {
   "cell_type": "code",
   "execution_count": 5,
   "id": "56892417-a257-4ba3-9a16-272d03bcfa49",
   "metadata": {},
   "outputs": [],
   "source": [
    "for i in range(ending, -1, -1):\n",
    "    if st[i] != ' ':\n",
    "        ending = i\n",
    "        break"
   ]
  },
  {
   "cell_type": "code",
   "execution_count": 6,
   "id": "5d307ac0-67b6-4fdd-a0dc-dde65904481f",
   "metadata": {},
   "outputs": [
    {
     "data": {
      "text/plain": [
       "21"
      ]
     },
     "execution_count": 6,
     "metadata": {},
     "output_type": "execute_result"
    }
   ],
   "source": [
    "ending"
   ]
  },
  {
   "cell_type": "code",
   "execution_count": 7,
   "id": "9f09784f-d4b5-4249-90f0-492cea64107e",
   "metadata": {},
   "outputs": [
    {
     "data": {
      "text/plain": [
       "'Training    Basket'"
      ]
     },
     "execution_count": 7,
     "metadata": {},
     "output_type": "execute_result"
    }
   ],
   "source": [
    "st[starting : ending + 1]"
   ]
  },
  {
   "cell_type": "code",
   "execution_count": 8,
   "id": "8252b5f2-8bbe-4425-8425-9773fc274512",
   "metadata": {},
   "outputs": [],
   "source": [
    "s = '    etrwetrsefsdf     adfsdf sdfsdf   '.strip()"
   ]
  },
  {
   "cell_type": "code",
   "execution_count": 9,
   "id": "38b40c10-517b-4c72-a33e-4b772104b874",
   "metadata": {},
   "outputs": [
    {
     "data": {
      "text/plain": [
       "'etrwetrsefsdf     adfsdf sdfsdf'"
      ]
     },
     "execution_count": 9,
     "metadata": {},
     "output_type": "execute_result"
    }
   ],
   "source": [
    "s"
   ]
  },
  {
   "cell_type": "code",
   "execution_count": 11,
   "id": "b5e661e2-c6f2-4f88-906f-cc7a102a2c5a",
   "metadata": {},
   "outputs": [],
   "source": [
    "s = s.split()"
   ]
  },
  {
   "cell_type": "code",
   "execution_count": 12,
   "id": "693e71f1-230e-4e1a-82f6-c25c1d6fe94d",
   "metadata": {},
   "outputs": [
    {
     "data": {
      "text/plain": [
       "['etrwetrsefsdf', 'adfsdf', 'sdfsdf']"
      ]
     },
     "execution_count": 12,
     "metadata": {},
     "output_type": "execute_result"
    }
   ],
   "source": [
    "s"
   ]
  },
  {
   "cell_type": "code",
   "execution_count": 45,
   "id": "34f286f2-3856-49ee-be6b-ab0926c2c5a5",
   "metadata": {},
   "outputs": [],
   "source": [
    "st = '   Manish      yadav'"
   ]
  },
  {
   "cell_type": "code",
   "execution_count": 46,
   "id": "18952f5d-87d1-42dc-ad96-d4daa5cf02bf",
   "metadata": {},
   "outputs": [
    {
     "data": {
      "text/plain": [
       "'Manish      yadav'"
      ]
     },
     "execution_count": 46,
     "metadata": {},
     "output_type": "execute_result"
    }
   ],
   "source": [
    "st = st.strip()\n",
    "st"
   ]
  },
  {
   "cell_type": "code",
   "execution_count": 47,
   "id": "02fdf8a8-53d0-4c1c-9afb-23973121af47",
   "metadata": {},
   "outputs": [
    {
     "data": {
      "text/plain": [
       "'Manish      yadav '"
      ]
     },
     "execution_count": 47,
     "metadata": {},
     "output_type": "execute_result"
    }
   ],
   "source": [
    "st = st + ' '\n",
    "st"
   ]
  },
  {
   "cell_type": "code",
   "execution_count": 48,
   "id": "168c1619-818c-44c9-ad3c-cde2667e3c35",
   "metadata": {},
   "outputs": [
    {
     "data": {
      "text/plain": [
       "['Manish', '', '', '', '', '', 'yadav']"
      ]
     },
     "execution_count": 48,
     "metadata": {},
     "output_type": "execute_result"
    }
   ],
   "source": [
    "a = []\n",
    "idx = 0\n",
    "for i in range(len(st)):\n",
    "    if st[i] == ' ':\n",
    "        a.append(st[idx : i])\n",
    "        idx = i + 1\n",
    "a"
   ]
  },
  {
   "cell_type": "code",
   "execution_count": 49,
   "id": "5aa327d3-534e-49a8-a328-a6d47ef8e72d",
   "metadata": {},
   "outputs": [],
   "source": [
    "b = []\n",
    "for i in a:\n",
    "    if i != '':\n",
    "        b.append(i)"
   ]
  },
  {
   "cell_type": "code",
   "execution_count": 50,
   "id": "37eb82b3-0b42-4824-bbb8-7c445bea1492",
   "metadata": {},
   "outputs": [
    {
     "data": {
      "text/plain": [
       "['Manish', 'yadav']"
      ]
     },
     "execution_count": 50,
     "metadata": {},
     "output_type": "execute_result"
    }
   ],
   "source": [
    "b"
   ]
  },
  {
   "cell_type": "code",
   "execution_count": 53,
   "id": "e7956ce3-eae2-4d22-940d-6df42437862c",
   "metadata": {},
   "outputs": [],
   "source": [
    "l = [2, 3,4 , 5, 7, 7] \n",
    "number = ''\n",
    "for i in l:\n",
    "    number = number + str(i)\n",
    "number = int(number)"
   ]
  },
  {
   "cell_type": "code",
   "execution_count": 54,
   "id": "b162b9e4-274d-4094-8d78-d5cf4e1a0d89",
   "metadata": {},
   "outputs": [
    {
     "data": {
      "text/plain": [
       "234577"
      ]
     },
     "execution_count": 54,
     "metadata": {},
     "output_type": "execute_result"
    }
   ],
   "source": [
    "number"
   ]
  },
  {
   "cell_type": "code",
   "execution_count": 55,
   "id": "5c5b06f3-b4cb-4a81-81cb-a76711138124",
   "metadata": {},
   "outputs": [],
   "source": [
    "s = 'AABCAAADA'"
   ]
  },
  {
   "cell_type": "code",
   "execution_count": 64,
   "id": "97da03ac-078d-43fb-947e-c10ac226889f",
   "metadata": {},
   "outputs": [
    {
     "name": "stdout",
     "output_type": "stream",
     "text": [
      "AACAAD"
     ]
    }
   ],
   "source": [
    "idx = 0\n",
    "n = 3\n",
    "for i in range(int(len(s)/3)):\n",
    "    print(s[idx : n][0:2], end = '')\n",
    "    idx = n\n",
    "    n = n + 3"
   ]
  },
  {
   "cell_type": "code",
   "execution_count": 65,
   "id": "2545c106-07ce-433f-83dd-727d369aad83",
   "metadata": {},
   "outputs": [],
   "source": [
    "l = [2, 4, 6, 7]\n",
    "number = 0\n",
    "for i in l:\n",
    "    number = number * 10 + i"
   ]
  },
  {
   "cell_type": "code",
   "execution_count": 67,
   "id": "a0a8ec48-756c-44dc-8c80-34d894a1b62c",
   "metadata": {},
   "outputs": [
    {
     "data": {
      "text/plain": [
       "int"
      ]
     },
     "execution_count": 67,
     "metadata": {},
     "output_type": "execute_result"
    }
   ],
   "source": [
    "type(number)"
   ]
  },
  {
   "cell_type": "code",
   "execution_count": 71,
   "id": "0c325eb5-e6db-4d1f-9914-d283f6f21234",
   "metadata": {},
   "outputs": [
    {
     "data": {
      "text/plain": [
       "True"
      ]
     },
     "execution_count": 71,
     "metadata": {},
     "output_type": "execute_result"
    }
   ],
   "source": [
    "'T'.isupper()"
   ]
  },
  {
   "cell_type": "code",
   "execution_count": 79,
   "id": "5e7d6155-297e-40a0-a056-810a085f9533",
   "metadata": {},
   "outputs": [
    {
     "name": "stdout",
     "output_type": "stream",
     "text": [
      "yess\n"
     ]
    }
   ],
   "source": [
    "s = 'A'.lower()\n",
    "s1 = ['a', 'e', 'i', 'o', 'u']\n",
    "if s in s1:\n",
    "    print('yess')\n",
    "else:\n",
    "    print(\"No\")"
   ]
  },
  {
   "cell_type": "code",
   "execution_count": 97,
   "id": "29f7a64c-ff3b-4ba6-b31a-e2d1aaa5852f",
   "metadata": {},
   "outputs": [],
   "source": [
    "st = 'Training Basket'"
   ]
  },
  {
   "cell_type": "code",
   "execution_count": 93,
   "id": "5b3e7e1e-00f8-4029-a700-7b4f52cbaf08",
   "metadata": {},
   "outputs": [],
   "source": [
    "st = st.split()"
   ]
  },
  {
   "cell_type": "code",
   "execution_count": 94,
   "id": "c15ca6af-330d-46d6-8c13-0cf70e6f2f0f",
   "metadata": {},
   "outputs": [],
   "source": [
    "s1 = 'aeiou'\n",
    "total_score = 0\n",
    "for word in st:\n",
    "    vowel_count = 0\n",
    "    for char in word:\n",
    "        if char in s1:\n",
    "            vowel_count = vowel_count + 1\n",
    "    if vowel_count %2 == 0:\n",
    "        score = 2\n",
    "    else:\n",
    "        score = 1\n",
    "    total_score = total_score + score"
   ]
  },
  {
   "cell_type": "code",
   "execution_count": 95,
   "id": "4fa38304-3cf6-4012-9452-9529091ed0ce",
   "metadata": {},
   "outputs": [
    {
     "data": {
      "text/plain": [
       "3"
      ]
     },
     "execution_count": 95,
     "metadata": {},
     "output_type": "execute_result"
    }
   ],
   "source": [
    "total_score"
   ]
  },
  {
   "cell_type": "code",
   "execution_count": 99,
   "id": "5c60c516-5460-4cdc-9a2a-6265441d5a0a",
   "metadata": {},
   "outputs": [],
   "source": [
    "st = st.upper()"
   ]
  },
  {
   "cell_type": "code",
   "execution_count": 100,
   "id": "d26da638-e0db-41fa-8af6-096760b17e21",
   "metadata": {},
   "outputs": [
    {
     "data": {
      "text/plain": [
       "'TRAINING BASKET'"
      ]
     },
     "execution_count": 100,
     "metadata": {},
     "output_type": "execute_result"
    }
   ],
   "source": [
    "st"
   ]
  },
  {
   "cell_type": "code",
   "execution_count": 114,
   "id": "eaa8a3e5-a8f4-4f8a-8bb8-18caa44b27cb",
   "metadata": {},
   "outputs": [],
   "source": [
    "s = ''\n",
    "for i in st:\n",
    "    if i == ' ':\n",
    "        s = s + ' '\n",
    "    else:\n",
    "        s = s + chr(ord(i) + 32)"
   ]
  },
  {
   "cell_type": "code",
   "execution_count": 115,
   "id": "330719b9-d250-4c03-9405-12ef4791a4c6",
   "metadata": {},
   "outputs": [
    {
     "data": {
      "text/plain": [
       "'training basket'"
      ]
     },
     "execution_count": 115,
     "metadata": {},
     "output_type": "execute_result"
    }
   ],
   "source": [
    "s"
   ]
  },
  {
   "cell_type": "code",
   "execution_count": 116,
   "id": "0a6c629a-c1cb-4a62-bba6-a215419c1418",
   "metadata": {},
   "outputs": [
    {
     "data": {
      "text/plain": [
       "[2, 4, 6, 7]"
      ]
     },
     "execution_count": 116,
     "metadata": {},
     "output_type": "execute_result"
    }
   ],
   "source": [
    "l"
   ]
  },
  {
   "cell_type": "code",
   "execution_count": 117,
   "id": "1f8f5018-a5f0-4845-ae8b-1701fc81d5bf",
   "metadata": {},
   "outputs": [
    {
     "data": {
      "text/plain": [
       "[7, 6, 4, 2]"
      ]
     },
     "execution_count": 117,
     "metadata": {},
     "output_type": "execute_result"
    }
   ],
   "source": [
    "l[::-1]"
   ]
  },
  {
   "cell_type": "code",
   "execution_count": 118,
   "id": "f7aa1357-313b-45b4-87b6-079bb21515f4",
   "metadata": {},
   "outputs": [
    {
     "name": "stdout",
     "output_type": "stream",
     "text": [
      "7\n",
      "6\n",
      "4\n",
      "2\n"
     ]
    }
   ],
   "source": [
    "for i in range(len(l) - 1, -1, -1):\n",
    "    print(l[i])"
   ]
  },
  {
   "cell_type": "code",
   "execution_count": 119,
   "id": "ae199a66-d31c-47b9-9a29-4fe6eb5de7e0",
   "metadata": {},
   "outputs": [],
   "source": [
    "a = []\n",
    "for i in l:\n",
    "    a.insert(0, i)"
   ]
  },
  {
   "cell_type": "code",
   "execution_count": 120,
   "id": "35994679-61af-42fb-a930-c69cd8f038bd",
   "metadata": {},
   "outputs": [
    {
     "data": {
      "text/plain": [
       "[7, 6, 4, 2]"
      ]
     },
     "execution_count": 120,
     "metadata": {},
     "output_type": "execute_result"
    }
   ],
   "source": [
    "a"
   ]
  },
  {
   "cell_type": "code",
   "execution_count": 121,
   "id": "7f7afcb5-0ad7-43c8-a5b0-279cfbfae4c5",
   "metadata": {},
   "outputs": [
    {
     "data": {
      "text/plain": [
       "[2, 4, 6, 7]"
      ]
     },
     "execution_count": 121,
     "metadata": {},
     "output_type": "execute_result"
    }
   ],
   "source": [
    "l"
   ]
  },
  {
   "cell_type": "code",
   "execution_count": 122,
   "id": "10d78f81-2509-4c18-ad6e-c71bd7f09727",
   "metadata": {},
   "outputs": [],
   "source": [
    "l.append(5)"
   ]
  },
  {
   "cell_type": "code",
   "execution_count": 123,
   "id": "7934e40c-c7ff-48dd-8bdf-cf3f741739a0",
   "metadata": {},
   "outputs": [],
   "source": [
    "num = 3578"
   ]
  },
  {
   "cell_type": "code",
   "execution_count": 125,
   "id": "8f50b3ac-cbdb-4a2b-b556-636322530b6f",
   "metadata": {},
   "outputs": [],
   "source": [
    "a = num%10"
   ]
  },
  {
   "cell_type": "code",
   "execution_count": 127,
   "id": "c96768c1-e4e4-4bef-b893-a6e6f8a604c8",
   "metadata": {},
   "outputs": [],
   "source": [
    "b = a*10 + (num//10)%10"
   ]
  },
  {
   "cell_type": "code",
   "execution_count": 128,
   "id": "ed3c3e44-e5d0-40d7-b18f-3c6df0bec019",
   "metadata": {},
   "outputs": [
    {
     "data": {
      "text/plain": [
       "875"
      ]
     },
     "execution_count": 128,
     "metadata": {},
     "output_type": "execute_result"
    }
   ],
   "source": [
    "b*10 + ((num//10)//10)%10"
   ]
  },
  {
   "cell_type": "code",
   "execution_count": 129,
   "id": "0216d18e-e328-4899-9ae9-c5fc9a838ccc",
   "metadata": {},
   "outputs": [],
   "source": [
    "n = 348812123884440"
   ]
  },
  {
   "cell_type": "code",
   "execution_count": 130,
   "id": "1d2b2f94-d8e7-4dfc-b733-6ba156585784",
   "metadata": {},
   "outputs": [],
   "source": [
    "l = [('0', 1), ('1', 2), ('2', 2), ('3', 2), ('4', 4), ('8', 4)]"
   ]
  },
  {
   "cell_type": "code",
   "execution_count": null,
   "id": "d0b26c25-1c83-4457-a1a9-65fa417d1487",
   "metadata": {},
   "outputs": [],
   "source": []
  }
 ],
 "metadata": {
  "kernelspec": {
   "display_name": "Python 3 (ipykernel)",
   "language": "python",
   "name": "python3"
  },
  "language_info": {
   "codemirror_mode": {
    "name": "ipython",
    "version": 3
   },
   "file_extension": ".py",
   "mimetype": "text/x-python",
   "name": "python",
   "nbconvert_exporter": "python",
   "pygments_lexer": "ipython3",
   "version": "3.12.7"
  }
 },
 "nbformat": 4,
 "nbformat_minor": 5
}
