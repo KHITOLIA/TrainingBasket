{
 "cells": [
  {
   "cell_type": "code",
   "execution_count": 1,
   "id": "5a59f4b3-02c8-4e32-a97d-b3a0c42db000",
   "metadata": {},
   "outputs": [
    {
     "name": "stdout",
     "output_type": "stream",
     "text": [
      "hello\n",
      "hello\n",
      "hello\n",
      "hello\n",
      "hello\n"
     ]
    }
   ],
   "source": [
    "a = 10\n",
    "while a > 5:\n",
    "    print('hello')\n",
    "    a = a - 1"
   ]
  },
  {
   "cell_type": "code",
   "execution_count": 5,
   "id": "01158474-fd5a-43a6-89a6-153709341a7a",
   "metadata": {},
   "outputs": [],
   "source": [
    "s = 'trAiniNg Basket'"
   ]
  },
  {
   "cell_type": "code",
   "execution_count": 6,
   "id": "f70f705a-2465-4349-9d0c-4fc62de37c47",
   "metadata": {},
   "outputs": [
    {
     "data": {
      "text/plain": [
       "'TRAINING BASKET'"
      ]
     },
     "execution_count": 6,
     "metadata": {},
     "output_type": "execute_result"
    }
   ],
   "source": [
    "s.upper()"
   ]
  },
  {
   "cell_type": "code",
   "execution_count": 7,
   "id": "6448c3a7-de43-43d5-9e83-de6a342215b7",
   "metadata": {},
   "outputs": [
    {
     "data": {
      "text/plain": [
       "'training basket'"
      ]
     },
     "execution_count": 7,
     "metadata": {},
     "output_type": "execute_result"
    }
   ],
   "source": [
    "s.lower()\n"
   ]
  },
  {
   "cell_type": "code",
   "execution_count": 8,
   "id": "57625bcf-0e5d-4efb-8d71-76aeb1e4452c",
   "metadata": {},
   "outputs": [
    {
     "data": {
      "text/plain": [
       "'TRaINInG bASKET'"
      ]
     },
     "execution_count": 8,
     "metadata": {},
     "output_type": "execute_result"
    }
   ],
   "source": [
    "s.swapcase()"
   ]
  },
  {
   "cell_type": "code",
   "execution_count": 9,
   "id": "894a7c85-681c-414e-99af-9ebcd903d70c",
   "metadata": {},
   "outputs": [
    {
     "data": {
      "text/plain": [
       "65"
      ]
     },
     "execution_count": 9,
     "metadata": {},
     "output_type": "execute_result"
    }
   ],
   "source": [
    "ord('A')"
   ]
  },
  {
   "cell_type": "code",
   "execution_count": 10,
   "id": "ac59074e-e809-4ba9-b667-4ac6d964c836",
   "metadata": {},
   "outputs": [
    {
     "data": {
      "text/plain": [
       "'A'"
      ]
     },
     "execution_count": 10,
     "metadata": {},
     "output_type": "execute_result"
    }
   ],
   "source": [
    "chr(65)"
   ]
  },
  {
   "cell_type": "code",
   "execution_count": 18,
   "id": "7587a764-a65c-4db5-b947-2f565d647148",
   "metadata": {},
   "outputs": [],
   "source": [
    "st = '''Machine learning (ML) is a field of Artificial Intelligence (AI). that enables computer systems to learn from data and improve their performance on tasks over time without being explicitly programmed for every instruction. It involves using algorithms to find patterns in large datasets, which allows systems to make predictions or decisions based on those patterns. Key applications include tasks like image analysis, predictive forecasting, and powering virtual assistants like Siri or Alexa. '''"
   ]
  },
  {
   "cell_type": "code",
   "execution_count": 23,
   "id": "d8f19520-59c4-4f7e-9fb3-dc7f99c4501f",
   "metadata": {},
   "outputs": [],
   "source": [
    "st = 'Training Basket'"
   ]
  },
  {
   "cell_type": "code",
   "execution_count": 14,
   "id": "176c1646-f653-4eaf-be8b-341e993d35b4",
   "metadata": {},
   "outputs": [
    {
     "data": {
      "text/plain": [
       "2"
      ]
     },
     "execution_count": 14,
     "metadata": {},
     "output_type": "execute_result"
    }
   ],
   "source": [
    "len(st.split())"
   ]
  },
  {
   "cell_type": "code",
   "execution_count": 19,
   "id": "452270c2-9d82-4e58-b878-77cce8f023c2",
   "metadata": {},
   "outputs": [
    {
     "name": "stdout",
     "output_type": "stream",
     "text": [
      "total number of words 73\n"
     ]
    }
   ],
   "source": [
    "space_count = 1\n",
    "for i in range(len(st)):\n",
    "    if st[i] == ' ':\n",
    "        space_count = space_count + 1\n",
    "print(f\"total number of words {space_count}\")"
   ]
  },
  {
   "cell_type": "code",
   "execution_count": 24,
   "id": "825fd084-5a10-469e-bf1f-57b939ce232c",
   "metadata": {},
   "outputs": [],
   "source": [
    "l = st.split()"
   ]
  },
  {
   "cell_type": "code",
   "execution_count": 25,
   "id": "a9dc79dd-3ce8-4009-8b2d-dbfb923032db",
   "metadata": {},
   "outputs": [
    {
     "name": "stdout",
     "output_type": "stream",
     "text": [
      "vowel count of Training = 3\n",
      "vowel count of Basket = 2\n"
     ]
    }
   ],
   "source": [
    "v = 'aeiou'\n",
    "for word in l:\n",
    "    vowel_count = 0\n",
    "    for char in word.lower():\n",
    "        if char in v:\n",
    "            vowel_count = vowel_count + 1\n",
    "    print(f'vowel count of {word} = {vowel_count}')"
   ]
  },
  {
   "cell_type": "code",
   "execution_count": 37,
   "id": "8f4f6743-d99a-482f-84ce-56a582e30182",
   "metadata": {},
   "outputs": [],
   "source": [
    "st = 'hello.world.training basket'"
   ]
  },
  {
   "cell_type": "code",
   "execution_count": 38,
   "id": "5a79629a-8ecc-4901-8698-17acd3ffdbbe",
   "metadata": {},
   "outputs": [
    {
     "name": "stdout",
     "output_type": "stream",
     "text": [
      "hello\n",
      ".world\n"
     ]
    },
    {
     "ename": "IndexError",
     "evalue": "string index out of range",
     "output_type": "error",
     "traceback": [
      "\u001b[1;31m---------------------------------------------------------------------------\u001b[0m",
      "\u001b[1;31mIndexError\u001b[0m                                Traceback (most recent call last)",
      "Cell \u001b[1;32mIn[38], line 4\u001b[0m\n\u001b[0;32m      2\u001b[0m i \u001b[38;5;241m=\u001b[39m \u001b[38;5;241m0\u001b[39m\n\u001b[0;32m      3\u001b[0m \u001b[38;5;28;01mwhile\u001b[39;00m idx \u001b[38;5;241m<\u001b[39m\u001b[38;5;241m=\u001b[39m \u001b[38;5;28mlen\u001b[39m(st):\n\u001b[1;32m----> 4\u001b[0m     \u001b[38;5;28;01mif\u001b[39;00m st[i] \u001b[38;5;241m==\u001b[39m \u001b[38;5;124m'\u001b[39m\u001b[38;5;124m.\u001b[39m\u001b[38;5;124m'\u001b[39m:\n\u001b[0;32m      5\u001b[0m         \u001b[38;5;28mprint\u001b[39m(st[idx : i])\n\u001b[0;32m      6\u001b[0m         idx \u001b[38;5;241m=\u001b[39m i\n",
      "\u001b[1;31mIndexError\u001b[0m: string index out of range"
     ]
    }
   ],
   "source": [
    "idx = 0\n",
    "i = 0\n",
    "while idx <= len(st):\n",
    "    if st[i] == '.':\n",
    "        print(st[idx : i])\n",
    "        idx = i\n",
    "    i = i + 1"
   ]
  },
  {
   "cell_type": "code",
   "execution_count": 39,
   "id": "8c77dc69-c05a-4f09-89f1-99d3b57d0355",
   "metadata": {},
   "outputs": [
    {
     "name": "stdout",
     "output_type": "stream",
     "text": [
      "hello.\n",
      ".world.\n"
     ]
    }
   ],
   "source": [
    "idx = 0\n",
    "for i in range(len(st)):\n",
    "    if st[i] == '.':\n",
    "        print(st[idx : i +1])\n",
    "        idx = i"
   ]
  },
  {
   "cell_type": "code",
   "execution_count": 40,
   "id": "74058a99-41fa-4243-9785-ff0ad68da59d",
   "metadata": {},
   "outputs": [],
   "source": [
    "s = 'aaattoooopppll'"
   ]
  },
  {
   "cell_type": "code",
   "execution_count": null,
   "id": "2853d17e-e416-400d-9713-c7d8021a26b7",
   "metadata": {},
   "outputs": [],
   "source": [
    "s = 'a3t2o4p3l2'"
   ]
  }
 ],
 "metadata": {
  "kernelspec": {
   "display_name": "Python 3 (ipykernel)",
   "language": "python",
   "name": "python3"
  },
  "language_info": {
   "codemirror_mode": {
    "name": "ipython",
    "version": 3
   },
   "file_extension": ".py",
   "mimetype": "text/x-python",
   "name": "python",
   "nbconvert_exporter": "python",
   "pygments_lexer": "ipython3",
   "version": "3.12.7"
  }
 },
 "nbformat": 4,
 "nbformat_minor": 5
}
