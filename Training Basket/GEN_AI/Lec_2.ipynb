{
 "cells": [
  {
   "cell_type": "code",
   "execution_count": 2,
   "id": "ef18ee36-756d-41aa-9702-c93439049f7d",
   "metadata": {},
   "outputs": [
    {
     "data": {
      "text/plain": [
       "['Training ', 'asket']"
      ]
     },
     "execution_count": 2,
     "metadata": {},
     "output_type": "execute_result"
    }
   ],
   "source": [
    "st = 'Training Basket'\n",
    "st.split('B')"
   ]
  },
  {
   "cell_type": "code",
   "execution_count": 4,
   "id": "10263364-ac9d-446a-856d-7f4a353ba2d6",
   "metadata": {},
   "outputs": [],
   "source": [
    "st = st.replace('B', 'b')"
   ]
  },
  {
   "cell_type": "code",
   "execution_count": 5,
   "id": "064adba3-eca0-4614-8a3a-9007b0c1a704",
   "metadata": {},
   "outputs": [
    {
     "data": {
      "text/plain": [
       "'Training basket'"
      ]
     },
     "execution_count": 5,
     "metadata": {},
     "output_type": "execute_result"
    }
   ],
   "source": [
    "st"
   ]
  },
  {
   "cell_type": "code",
   "execution_count": 6,
   "id": "ff88eacd-5e07-48dc-9335-a438c9c5b432",
   "metadata": {},
   "outputs": [],
   "source": [
    "st = st.upper()"
   ]
  },
  {
   "cell_type": "code",
   "execution_count": 7,
   "id": "4d27f0fd-02eb-4dcc-8a4c-a86849164638",
   "metadata": {},
   "outputs": [
    {
     "data": {
      "text/plain": [
       "'TRAINING BASKET'"
      ]
     },
     "execution_count": 7,
     "metadata": {},
     "output_type": "execute_result"
    }
   ],
   "source": [
    "st"
   ]
  },
  {
   "cell_type": "code",
   "execution_count": 14,
   "id": "656a457c-e1d4-4145-a8a7-197b8d42748e",
   "metadata": {},
   "outputs": [
    {
     "data": {
      "text/plain": [
       "['TRAINING', 'BASKET']"
      ]
     },
     "execution_count": 14,
     "metadata": {},
     "output_type": "execute_result"
    }
   ],
   "source": [
    "st.split()"
   ]
  },
  {
   "cell_type": "code",
   "execution_count": 16,
   "id": "101711f5-3166-442d-b4d6-270552de714e",
   "metadata": {},
   "outputs": [],
   "source": [
    "st = st.lower()"
   ]
  },
  {
   "cell_type": "code",
   "execution_count": 18,
   "id": "91dafa5f-a27c-42a3-950e-a00b431f1695",
   "metadata": {},
   "outputs": [],
   "source": [
    "st = st.replace('t', 'T')\n",
    "st = st.replace('a', 'A')\n",
    "st = st.replace('s', 'S')\n",
    "st = st.replace('e', 'E')\n",
    "st = st.replace('i', 'I')\n"
   ]
  },
  {
   "cell_type": "code",
   "execution_count": 19,
   "id": "d64596d0-3f38-4e1e-8ef0-c5bf2d7576d5",
   "metadata": {},
   "outputs": [
    {
     "data": {
      "text/plain": [
       "'TrAInIng bASkET'"
      ]
     },
     "execution_count": 19,
     "metadata": {},
     "output_type": "execute_result"
    }
   ],
   "source": [
    "st"
   ]
  },
  {
   "cell_type": "code",
   "execution_count": 21,
   "id": "7745c6f3-17a7-43ac-8380-43b1bf99340d",
   "metadata": {},
   "outputs": [],
   "source": [
    "st = st.swapcase()"
   ]
  },
  {
   "cell_type": "code",
   "execution_count": 22,
   "id": "3cd1382c-fee8-419e-82f5-65a679e313fc",
   "metadata": {},
   "outputs": [
    {
     "data": {
      "text/plain": [
       "'tRaiNiNG BasKet'"
      ]
     },
     "execution_count": 22,
     "metadata": {},
     "output_type": "execute_result"
    }
   ],
   "source": [
    "st"
   ]
  },
  {
   "cell_type": "code",
   "execution_count": 23,
   "id": "39195932-9f60-4d12-8e7d-791a1dc867e4",
   "metadata": {},
   "outputs": [
    {
     "data": {
      "text/plain": [
       "2"
      ]
     },
     "execution_count": 23,
     "metadata": {},
     "output_type": "execute_result"
    }
   ],
   "source": [
    "st.count('i')"
   ]
  },
  {
   "cell_type": "code",
   "execution_count": 24,
   "id": "6caf6cb6-179c-4c27-81b1-a62079aa57ea",
   "metadata": {},
   "outputs": [
    {
     "data": {
      "text/plain": [
       "0"
      ]
     },
     "execution_count": 24,
     "metadata": {},
     "output_type": "execute_result"
    }
   ],
   "source": [
    "st.count('z')"
   ]
  },
  {
   "cell_type": "code",
   "execution_count": 25,
   "id": "f606b501-e7bb-4ab2-8546-0e39d379241f",
   "metadata": {},
   "outputs": [],
   "source": [
    "st = st.capitalize()"
   ]
  },
  {
   "cell_type": "code",
   "execution_count": 26,
   "id": "c346ffac-c905-4a38-92c4-0293184d251e",
   "metadata": {},
   "outputs": [
    {
     "data": {
      "text/plain": [
       "'Training basket'"
      ]
     },
     "execution_count": 26,
     "metadata": {},
     "output_type": "execute_result"
    }
   ],
   "source": [
    "st"
   ]
  },
  {
   "cell_type": "code",
   "execution_count": 29,
   "id": "e7a7d3bc-55b6-4668-913a-d674cb36ef27",
   "metadata": {},
   "outputs": [
    {
     "data": {
      "text/plain": [
       "True"
      ]
     },
     "execution_count": 29,
     "metadata": {},
     "output_type": "execute_result"
    }
   ],
   "source": [
    "s = '123423432'\n",
    "s.isdigit()"
   ]
  },
  {
   "cell_type": "code",
   "execution_count": 30,
   "id": "f532b762-5347-44d7-8ba6-4f06100c992d",
   "metadata": {},
   "outputs": [
    {
     "data": {
      "text/plain": [
       "False"
      ]
     },
     "execution_count": 30,
     "metadata": {},
     "output_type": "execute_result"
    }
   ],
   "source": [
    "st.isupper()"
   ]
  },
  {
   "cell_type": "code",
   "execution_count": 31,
   "id": "963953fd-d34a-4125-bf12-d19bbbabfca5",
   "metadata": {},
   "outputs": [
    {
     "data": {
      "text/plain": [
       "False"
      ]
     },
     "execution_count": 31,
     "metadata": {},
     "output_type": "execute_result"
    }
   ],
   "source": [
    "st.islower()"
   ]
  },
  {
   "cell_type": "code",
   "execution_count": 32,
   "id": "ab2ccea7-ade0-481f-a655-eac860045ee3",
   "metadata": {},
   "outputs": [
    {
     "data": {
      "text/plain": [
       "True"
      ]
     },
     "execution_count": 32,
     "metadata": {},
     "output_type": "execute_result"
    }
   ],
   "source": [
    "st.endswith('t')"
   ]
  },
  {
   "cell_type": "code",
   "execution_count": 33,
   "id": "cbc6d6a5-0901-47ea-bbc2-2a9d7041ec31",
   "metadata": {},
   "outputs": [
    {
     "data": {
      "text/plain": [
       "True"
      ]
     },
     "execution_count": 33,
     "metadata": {},
     "output_type": "execute_result"
    }
   ],
   "source": [
    "st.endswith('et')"
   ]
  },
  {
   "cell_type": "code",
   "execution_count": 35,
   "id": "cc2821b7-894b-4db4-8aee-9d21b451d492",
   "metadata": {},
   "outputs": [
    {
     "data": {
      "text/plain": [
       "True"
      ]
     },
     "execution_count": 35,
     "metadata": {},
     "output_type": "execute_result"
    }
   ],
   "source": [
    "st.endswith('basket')"
   ]
  },
  {
   "cell_type": "code",
   "execution_count": 37,
   "id": "52eee65d-48f8-4e13-94d9-5748c6ebfbb5",
   "metadata": {},
   "outputs": [],
   "source": [
    "# list : "
   ]
  },
  {
   "cell_type": "code",
   "execution_count": 38,
   "id": "483fc5b2-2bf6-4cc2-ac40-da4daa3053b1",
   "metadata": {},
   "outputs": [],
   "source": [
    "l = [1, 7.8, 3, True, 'Training', 'Basket', [1, 2, 3, 4, 5], range(5), type(st)]"
   ]
  },
  {
   "cell_type": "code",
   "execution_count": 39,
   "id": "ca8478fe-ef29-4731-9e1d-dabedb0f6a59",
   "metadata": {},
   "outputs": [
    {
     "data": {
      "text/plain": [
       "list"
      ]
     },
     "execution_count": 39,
     "metadata": {},
     "output_type": "execute_result"
    }
   ],
   "source": [
    "type(l)"
   ]
  },
  {
   "cell_type": "code",
   "execution_count": 40,
   "id": "d8b45200-cafb-40c6-9dee-ca622d146a7b",
   "metadata": {},
   "outputs": [
    {
     "data": {
      "text/plain": [
       "1"
      ]
     },
     "execution_count": 40,
     "metadata": {},
     "output_type": "execute_result"
    }
   ],
   "source": [
    "l[0]"
   ]
  },
  {
   "cell_type": "code",
   "execution_count": 45,
   "id": "b6bd748c-f241-4fb6-9fc2-b122f815c842",
   "metadata": {},
   "outputs": [
    {
     "data": {
      "text/plain": [
       "'teksaBgniniarT'"
      ]
     },
     "execution_count": 45,
     "metadata": {},
     "output_type": "execute_result"
    }
   ],
   "source": [
    "l[-4][::-1] + l[-5][::-1]"
   ]
  },
  {
   "cell_type": "code",
   "execution_count": 48,
   "id": "c3f05233-be71-46d0-bccd-fd31ccf90760",
   "metadata": {},
   "outputs": [],
   "source": [
    "l = l[::-1]"
   ]
  },
  {
   "cell_type": "code",
   "execution_count": 49,
   "id": "39f68599-ddda-40cc-93a8-ee66c744cbce",
   "metadata": {},
   "outputs": [
    {
     "data": {
      "text/plain": [
       "[str, range(0, 5), [1, 2, 3, 4, 5], 'Basket', 'Training', True, 3, 7.8, 1]"
      ]
     },
     "execution_count": 49,
     "metadata": {},
     "output_type": "execute_result"
    }
   ],
   "source": [
    "l"
   ]
  },
  {
   "cell_type": "code",
   "execution_count": 51,
   "id": "93e754e0-fc11-4449-bfc8-6994b4ae4939",
   "metadata": {},
   "outputs": [
    {
     "data": {
      "text/plain": [
       "1"
      ]
     },
     "execution_count": 51,
     "metadata": {},
     "output_type": "execute_result"
    }
   ],
   "source": [
    "l.pop()"
   ]
  },
  {
   "cell_type": "code",
   "execution_count": 52,
   "id": "9a36f30a-1641-45b0-be4c-9d9a6df7a70e",
   "metadata": {},
   "outputs": [
    {
     "data": {
      "text/plain": [
       "[str, range(0, 5), [1, 2, 3, 4, 5], 'Basket', 'Training', True, 3, 7.8]"
      ]
     },
     "execution_count": 52,
     "metadata": {},
     "output_type": "execute_result"
    }
   ],
   "source": [
    "l"
   ]
  },
  {
   "cell_type": "code",
   "execution_count": 53,
   "id": "0ac6ebe6-81fe-4713-b57b-76b98e9df1b7",
   "metadata": {},
   "outputs": [
    {
     "data": {
      "text/plain": [
       "True"
      ]
     },
     "execution_count": 53,
     "metadata": {},
     "output_type": "execute_result"
    }
   ],
   "source": [
    "l.pop(-3)"
   ]
  },
  {
   "cell_type": "code",
   "execution_count": 54,
   "id": "cfcb8dc4-5c81-472d-a576-02e6f31546e9",
   "metadata": {},
   "outputs": [
    {
     "data": {
      "text/plain": [
       "[str, range(0, 5), [1, 2, 3, 4, 5], 'Basket', 'Training', 3, 7.8]"
      ]
     },
     "execution_count": 54,
     "metadata": {},
     "output_type": "execute_result"
    }
   ],
   "source": [
    "l"
   ]
  },
  {
   "cell_type": "code",
   "execution_count": 55,
   "id": "63657ad0-db45-43c1-993e-8a53d84b0c7a",
   "metadata": {},
   "outputs": [],
   "source": [
    "l.remove(3)"
   ]
  },
  {
   "cell_type": "code",
   "execution_count": 56,
   "id": "aa7e0263-a687-40ff-b795-7fbe5e9545cc",
   "metadata": {},
   "outputs": [
    {
     "data": {
      "text/plain": [
       "[str, range(0, 5), [1, 2, 3, 4, 5], 'Basket', 'Training', 7.8]"
      ]
     },
     "execution_count": 56,
     "metadata": {},
     "output_type": "execute_result"
    }
   ],
   "source": [
    "l"
   ]
  },
  {
   "cell_type": "code",
   "execution_count": 57,
   "id": "eb9de1cd-839d-4aa4-8fef-4b89e76eb1a6",
   "metadata": {},
   "outputs": [],
   "source": [
    "l.append('soup')"
   ]
  },
  {
   "cell_type": "code",
   "execution_count": 58,
   "id": "515987c5-f96b-4863-ac59-58563353f260",
   "metadata": {},
   "outputs": [
    {
     "data": {
      "text/plain": [
       "[str, range(0, 5), [1, 2, 3, 4, 5], 'Basket', 'Training', 7.8, 'soup']"
      ]
     },
     "execution_count": 58,
     "metadata": {},
     "output_type": "execute_result"
    }
   ],
   "source": [
    "l"
   ]
  },
  {
   "cell_type": "code",
   "execution_count": 59,
   "id": "add985cb-4e6f-4223-bf7d-d7b710330294",
   "metadata": {},
   "outputs": [],
   "source": [
    "l.insert(2, 'vansh')"
   ]
  },
  {
   "cell_type": "code",
   "execution_count": 60,
   "id": "e88b315e-f270-4ceb-9d6c-a408605876e6",
   "metadata": {},
   "outputs": [
    {
     "data": {
      "text/plain": [
       "[str, range(0, 5), 'vansh', [1, 2, 3, 4, 5], 'Basket', 'Training', 7.8, 'soup']"
      ]
     },
     "execution_count": 60,
     "metadata": {},
     "output_type": "execute_result"
    }
   ],
   "source": [
    "l"
   ]
  },
  {
   "cell_type": "code",
   "execution_count": 64,
   "id": "19010770-df5e-41f7-91c6-7493b37924fd",
   "metadata": {},
   "outputs": [],
   "source": [
    "b = l.copy()"
   ]
  },
  {
   "cell_type": "code",
   "execution_count": 65,
   "id": "ef1f5f07-3988-4a08-8496-f1ddf61d46de",
   "metadata": {},
   "outputs": [
    {
     "data": {
      "text/plain": [
       "[str, range(0, 5), 'vansh', [1, 2, 3, 4, 5], 'Basket', 'Training', 7.8, 'soup']"
      ]
     },
     "execution_count": 65,
     "metadata": {},
     "output_type": "execute_result"
    }
   ],
   "source": [
    "b"
   ]
  },
  {
   "cell_type": "code",
   "execution_count": 66,
   "id": "5c00658e-8b0b-45af-8ee2-97d6fca9246e",
   "metadata": {},
   "outputs": [],
   "source": [
    "a = [1, 2, 3, 4, 5]"
   ]
  },
  {
   "cell_type": "code",
   "execution_count": 67,
   "id": "6344f90a-7a75-471b-8b9b-8765b3c49286",
   "metadata": {},
   "outputs": [],
   "source": [
    "a.extend(l)"
   ]
  },
  {
   "cell_type": "code",
   "execution_count": 68,
   "id": "1ee2a266-22ca-4c08-a0a6-03fe308b7ef3",
   "metadata": {},
   "outputs": [
    {
     "data": {
      "text/plain": [
       "[1,\n",
       " 2,\n",
       " 3,\n",
       " 4,\n",
       " 5,\n",
       " str,\n",
       " range(0, 5),\n",
       " 'vansh',\n",
       " [1, 2, 3, 4, 5],\n",
       " 'Basket',\n",
       " 'Training',\n",
       " 7.8,\n",
       " 'soup']"
      ]
     },
     "execution_count": 68,
     "metadata": {},
     "output_type": "execute_result"
    }
   ],
   "source": [
    "a"
   ]
  },
  {
   "cell_type": "code",
   "execution_count": 69,
   "id": "e0e48754-9fee-4074-b7df-d6980881c735",
   "metadata": {},
   "outputs": [
    {
     "data": {
      "text/plain": [
       "[1,\n",
       " 2,\n",
       " 3,\n",
       " 4,\n",
       " 5,\n",
       " str,\n",
       " range(0, 5),\n",
       " 'vansh',\n",
       " [1, 2, 3, 4, 5],\n",
       " 'Basket',\n",
       " 'Training',\n",
       " 7.8,\n",
       " 'soup']"
      ]
     },
     "execution_count": 69,
     "metadata": {},
     "output_type": "execute_result"
    }
   ],
   "source": [
    "a "
   ]
  },
  {
   "cell_type": "code",
   "execution_count": 70,
   "id": "2b85a10b-682e-499c-bf55-2e7bb269e9be",
   "metadata": {},
   "outputs": [
    {
     "data": {
      "text/plain": [
       "[str, range(0, 5), 'vansh', [1, 2, 3, 4, 5], 'Basket', 'Training', 7.8, 'soup']"
      ]
     },
     "execution_count": 70,
     "metadata": {},
     "output_type": "execute_result"
    }
   ],
   "source": [
    "l"
   ]
  },
  {
   "cell_type": "code",
   "execution_count": 71,
   "id": "0140d30e-b069-4b0f-9490-9b7014b50816",
   "metadata": {},
   "outputs": [
    {
     "ename": "TypeError",
     "evalue": "'<' not supported between instances of 'range' and 'type'",
     "output_type": "error",
     "traceback": [
      "\u001b[1;31m---------------------------------------------------------------------------\u001b[0m",
      "\u001b[1;31mTypeError\u001b[0m                                 Traceback (most recent call last)",
      "Cell \u001b[1;32mIn[71], line 1\u001b[0m\n\u001b[1;32m----> 1\u001b[0m l\u001b[38;5;241m.\u001b[39msort()\n",
      "\u001b[1;31mTypeError\u001b[0m: '<' not supported between instances of 'range' and 'type'"
     ]
    }
   ],
   "source": [
    "l.sort()"
   ]
  },
  {
   "cell_type": "code",
   "execution_count": 74,
   "id": "75b465a4-fbfd-47e3-9160-b80dfa338733",
   "metadata": {},
   "outputs": [
    {
     "data": {
      "text/plain": [
       "[1, 2, 3, 4, 5]"
      ]
     },
     "execution_count": 74,
     "metadata": {},
     "output_type": "execute_result"
    }
   ],
   "source": [
    "sorted(l[3])"
   ]
  },
  {
   "cell_type": "code",
   "execution_count": 75,
   "id": "e6ba9ce0-89e3-4a6b-a68c-cabbb3ac6ef9",
   "metadata": {},
   "outputs": [],
   "source": [
    "c = [2, 4, 6,2, 13, 4, 69, 76, -1]"
   ]
  },
  {
   "cell_type": "code",
   "execution_count": 76,
   "id": "45d98905-1387-4491-9e1c-5ca4badcbc03",
   "metadata": {},
   "outputs": [
    {
     "data": {
      "text/plain": [
       "[-1, 2, 2, 4, 4, 6, 13, 69, 76]"
      ]
     },
     "execution_count": 76,
     "metadata": {},
     "output_type": "execute_result"
    }
   ],
   "source": [
    "sorted(c)"
   ]
  },
  {
   "cell_type": "code",
   "execution_count": 79,
   "id": "6300e803-61f0-4d3d-b851-89e3800a31d6",
   "metadata": {},
   "outputs": [
    {
     "data": {
      "text/plain": [
       "0"
      ]
     },
     "execution_count": 79,
     "metadata": {},
     "output_type": "execute_result"
    }
   ],
   "source": [
    "c.index(2)"
   ]
  },
  {
   "cell_type": "code",
   "execution_count": 80,
   "id": "c2cb6471-04a3-4346-8232-63f146b2c800",
   "metadata": {},
   "outputs": [],
   "source": [
    "l1 = [1, 2, 3, 4 ,5]\n",
    "l2 = [ 2, 3, 4, 5]"
   ]
  },
  {
   "cell_type": "code",
   "execution_count": 82,
   "id": "6198ce3c-3134-4ffb-85d1-7861b1bd77a6",
   "metadata": {},
   "outputs": [],
   "source": [
    "l1.extend(l2)"
   ]
  },
  {
   "cell_type": "code",
   "execution_count": 83,
   "id": "5a6182a0-3f7e-437c-9062-3b6a6c4d2e9c",
   "metadata": {},
   "outputs": [
    {
     "data": {
      "text/plain": [
       "[1, 2, 3, 4, 5, 2, 3, 4, 5]"
      ]
     },
     "execution_count": 83,
     "metadata": {},
     "output_type": "execute_result"
    }
   ],
   "source": [
    "l1"
   ]
  },
  {
   "cell_type": "code",
   "execution_count": 84,
   "id": "73dd0511-10ec-4e63-adea-f166cb2b5578",
   "metadata": {},
   "outputs": [
    {
     "data": {
      "text/plain": [
       "[str, range(0, 5), 'vansh', [1, 2, 3, 4, 5], 'Basket', 'Training', 7.8, 'soup']"
      ]
     },
     "execution_count": 84,
     "metadata": {},
     "output_type": "execute_result"
    }
   ],
   "source": [
    "l"
   ]
  },
  {
   "cell_type": "code",
   "execution_count": 87,
   "id": "8b01c6ad-7792-4042-b620-21e8a75c2e4b",
   "metadata": {},
   "outputs": [],
   "source": [
    "l[2] = 'anirudh'"
   ]
  },
  {
   "cell_type": "code",
   "execution_count": 90,
   "id": "a4967bb1-e5ab-4e45-ac42-599c183d3b20",
   "metadata": {},
   "outputs": [],
   "source": [
    "# Tuples : collection of heterogenous datatypes but they are immutable"
   ]
  },
  {
   "cell_type": "code",
   "execution_count": 91,
   "id": "ef7d2a1a-d625-40a4-987c-05d319fdf45b",
   "metadata": {},
   "outputs": [],
   "source": [
    "t = (1, 7.8, 3, True, 'Training', 'Basket', [1, 2, 3, 4, 5], range(5), type(st))"
   ]
  },
  {
   "cell_type": "code",
   "execution_count": 92,
   "id": "f82ba6b4-53c8-4a53-9d16-30b4541f5826",
   "metadata": {},
   "outputs": [
    {
     "data": {
      "text/plain": [
       "(1, 7.8, 3, True, 'Training', 'Basket', [1, 2, 3, 4, 5], range(0, 5), str)"
      ]
     },
     "execution_count": 92,
     "metadata": {},
     "output_type": "execute_result"
    }
   ],
   "source": [
    "t"
   ]
  },
  {
   "cell_type": "code",
   "execution_count": 93,
   "id": "bf932b6c-b417-4098-8a1f-be80ce099d6f",
   "metadata": {},
   "outputs": [
    {
     "data": {
      "text/plain": [
       "1"
      ]
     },
     "execution_count": 93,
     "metadata": {},
     "output_type": "execute_result"
    }
   ],
   "source": [
    "t[0]"
   ]
  },
  {
   "cell_type": "code",
   "execution_count": 94,
   "id": "292077bc-d165-4c6d-8737-a9e8f113cbe4",
   "metadata": {},
   "outputs": [
    {
     "data": {
      "text/plain": [
       "(3, True, 'Training', 'Basket')"
      ]
     },
     "execution_count": 94,
     "metadata": {},
     "output_type": "execute_result"
    }
   ],
   "source": [
    "t[2:6]"
   ]
  },
  {
   "cell_type": "code",
   "execution_count": 96,
   "id": "95e60cf8-df0c-404e-ba48-f378c36f45b3",
   "metadata": {},
   "outputs": [],
   "source": [
    "l[3] = 'Tushar'"
   ]
  },
  {
   "cell_type": "code",
   "execution_count": 97,
   "id": "596e87dd-e998-4108-9265-e22110955efe",
   "metadata": {},
   "outputs": [
    {
     "ename": "TypeError",
     "evalue": "'tuple' object does not support item assignment",
     "output_type": "error",
     "traceback": [
      "\u001b[1;31m---------------------------------------------------------------------------\u001b[0m",
      "\u001b[1;31mTypeError\u001b[0m                                 Traceback (most recent call last)",
      "Cell \u001b[1;32mIn[97], line 1\u001b[0m\n\u001b[1;32m----> 1\u001b[0m t[\u001b[38;5;241m3\u001b[39m] \u001b[38;5;241m=\u001b[39m \u001b[38;5;124m'\u001b[39m\u001b[38;5;124masdaf\u001b[39m\u001b[38;5;124m'\u001b[39m\n",
      "\u001b[1;31mTypeError\u001b[0m: 'tuple' object does not support item assignment"
     ]
    }
   ],
   "source": [
    "t[3] = 'asdaf'"
   ]
  },
  {
   "cell_type": "code",
   "execution_count": 98,
   "id": "29285bb8-2f60-4796-8d51-4c19666facd6",
   "metadata": {},
   "outputs": [
    {
     "data": {
      "text/plain": [
       "tuple"
      ]
     },
     "execution_count": 98,
     "metadata": {},
     "output_type": "execute_result"
    }
   ],
   "source": [
    "type(t)"
   ]
  },
  {
   "cell_type": "code",
   "execution_count": 99,
   "id": "e082b5c1-6411-41be-a1b2-5076ac890c6a",
   "metadata": {},
   "outputs": [],
   "source": [
    "t = list(t)"
   ]
  },
  {
   "cell_type": "code",
   "execution_count": 100,
   "id": "d793acda-729a-43a6-a4de-13d691a9574c",
   "metadata": {},
   "outputs": [
    {
     "data": {
      "text/plain": [
       "list"
      ]
     },
     "execution_count": 100,
     "metadata": {},
     "output_type": "execute_result"
    }
   ],
   "source": [
    "type(t)"
   ]
  },
  {
   "cell_type": "code",
   "execution_count": 101,
   "id": "0f775fb8-bf81-4823-848e-25fd605820b4",
   "metadata": {},
   "outputs": [
    {
     "data": {
      "text/plain": [
       "[1, 7.8, 3, True, 'Training', 'Basket', [1, 2, 3, 4, 5], range(0, 5), str]"
      ]
     },
     "execution_count": 101,
     "metadata": {},
     "output_type": "execute_result"
    }
   ],
   "source": [
    "t"
   ]
  },
  {
   "cell_type": "code",
   "execution_count": 104,
   "id": "74b2bb64-f551-4ffa-9e4f-c65a808655d5",
   "metadata": {},
   "outputs": [
    {
     "name": "stdin",
     "output_type": "stream",
     "text": [
      "Enter the number =  1234\n"
     ]
    }
   ],
   "source": [
    "a = int(input(\"Enter the number = \"))"
   ]
  },
  {
   "cell_type": "code",
   "execution_count": 106,
   "id": "4a2b4210-bbb8-4a3b-955e-f49be51527c0",
   "metadata": {},
   "outputs": [
    {
     "data": {
      "text/plain": [
       "int"
      ]
     },
     "execution_count": 106,
     "metadata": {},
     "output_type": "execute_result"
    }
   ],
   "source": [
    "type(a)"
   ]
  },
  {
   "cell_type": "code",
   "execution_count": 107,
   "id": "d18be176-a5d7-4abf-86fa-47e571a4ab2d",
   "metadata": {},
   "outputs": [
    {
     "data": {
      "text/plain": [
       "'Training basket'"
      ]
     },
     "execution_count": 107,
     "metadata": {},
     "output_type": "execute_result"
    }
   ],
   "source": [
    "st"
   ]
  },
  {
   "cell_type": "code",
   "execution_count": 108,
   "id": "27ebdfd7-8739-4e3e-8c5a-75a2270ade95",
   "metadata": {},
   "outputs": [
    {
     "data": {
      "text/plain": [
       "['T', 'r', 'a', 'i', 'n', 'i', 'n', 'g', ' ', 'b', 'a', 's', 'k', 'e', 't']"
      ]
     },
     "execution_count": 108,
     "metadata": {},
     "output_type": "execute_result"
    }
   ],
   "source": [
    "list(st)"
   ]
  },
  {
   "cell_type": "code",
   "execution_count": 109,
   "id": "58b3638c-4be0-439d-9f20-0f792963f977",
   "metadata": {},
   "outputs": [
    {
     "data": {
      "text/plain": [
       "('T', 'r', 'a', 'i', 'n', 'i', 'n', 'g', ' ', 'b', 'a', 's', 'k', 'e', 't')"
      ]
     },
     "execution_count": 109,
     "metadata": {},
     "output_type": "execute_result"
    }
   ],
   "source": [
    "tuple(st)"
   ]
  },
  {
   "cell_type": "code",
   "execution_count": 110,
   "id": "89a6bdc0-440d-4b42-b7f7-0cd334df288e",
   "metadata": {},
   "outputs": [
    {
     "ename": "ValueError",
     "evalue": "invalid literal for int() with base 10: 'Training basket'",
     "output_type": "error",
     "traceback": [
      "\u001b[1;31m---------------------------------------------------------------------------\u001b[0m",
      "\u001b[1;31mValueError\u001b[0m                                Traceback (most recent call last)",
      "Cell \u001b[1;32mIn[110], line 1\u001b[0m\n\u001b[1;32m----> 1\u001b[0m \u001b[38;5;28mint\u001b[39m(st)\n",
      "\u001b[1;31mValueError\u001b[0m: invalid literal for int() with base 10: 'Training basket'"
     ]
    }
   ],
   "source": [
    "int(st)"
   ]
  },
  {
   "cell_type": "code",
   "execution_count": 112,
   "id": "38293652-b26d-40bd-b0c3-554b7d8dbcae",
   "metadata": {},
   "outputs": [],
   "source": [
    "t = tuple(t)"
   ]
  },
  {
   "cell_type": "code",
   "execution_count": 113,
   "id": "ea3e37f7-7f89-486e-b50d-ade0f83d4106",
   "metadata": {},
   "outputs": [
    {
     "data": {
      "text/plain": [
       "(1, 7.8, 3, True, 'Training', 'Basket', [1, 2, 3, 4, 5], range(0, 5), str)"
      ]
     },
     "execution_count": 113,
     "metadata": {},
     "output_type": "execute_result"
    }
   ],
   "source": [
    "t"
   ]
  },
  {
   "cell_type": "code",
   "execution_count": 114,
   "id": "337334b4-20f9-4db2-821d-118bc6542ac6",
   "metadata": {},
   "outputs": [
    {
     "data": {
      "text/plain": [
       "4"
      ]
     },
     "execution_count": 114,
     "metadata": {},
     "output_type": "execute_result"
    }
   ],
   "source": [
    "t.index('Training')"
   ]
  },
  {
   "cell_type": "code",
   "execution_count": 118,
   "id": "f1ebac06-dce0-4e34-bad6-18913c769002",
   "metadata": {},
   "outputs": [
    {
     "data": {
      "text/plain": [
       "0"
      ]
     },
     "execution_count": 118,
     "metadata": {},
     "output_type": "execute_result"
    }
   ],
   "source": [
    "t.count(0)"
   ]
  },
  {
   "cell_type": "code",
   "execution_count": 119,
   "id": "3214c54c-05fc-430a-b285-95569a68f205",
   "metadata": {},
   "outputs": [
    {
     "data": {
      "text/plain": [
       "[str, range(0, 5), 'anirudh', 'Tushar', 'Basket', 'Training', 7.8, 'soup']"
      ]
     },
     "execution_count": 119,
     "metadata": {},
     "output_type": "execute_result"
    }
   ],
   "source": [
    "l "
   ]
  },
  {
   "cell_type": "code",
   "execution_count": 120,
   "id": "12f39e26-8274-469e-b286-8d26769aa6b9",
   "metadata": {},
   "outputs": [],
   "source": [
    "a = []\n",
    "a.append(\"Tushar\")"
   ]
  },
  {
   "cell_type": "code",
   "execution_count": 121,
   "id": "431998b4-a607-479c-9b29-9ec636eb8892",
   "metadata": {},
   "outputs": [
    {
     "data": {
      "text/plain": [
       "['Tushar']"
      ]
     },
     "execution_count": 121,
     "metadata": {},
     "output_type": "execute_result"
    }
   ],
   "source": [
    "a"
   ]
  },
  {
   "cell_type": "code",
   "execution_count": 122,
   "id": "6db1a423-b043-46e5-b203-986c299f79c1",
   "metadata": {},
   "outputs": [],
   "source": [
    "a.append('Gen-ai')"
   ]
  },
  {
   "cell_type": "code",
   "execution_count": 123,
   "id": "8a453fcc-a943-4d25-8c4e-680a0472a3db",
   "metadata": {},
   "outputs": [
    {
     "data": {
      "text/plain": [
       "['Tushar', 'Gen-ai']"
      ]
     },
     "execution_count": 123,
     "metadata": {},
     "output_type": "execute_result"
    }
   ],
   "source": [
    "a"
   ]
  },
  {
   "cell_type": "code",
   "execution_count": 124,
   "id": "6a970053-dd34-4034-8bbe-8bfc642d7e82",
   "metadata": {},
   "outputs": [],
   "source": [
    "a = []\n",
    "a.insert(0, 'Tushar')\n"
   ]
  },
  {
   "cell_type": "code",
   "execution_count": 125,
   "id": "2288adbf-b0da-4404-a210-ad2cb09287d3",
   "metadata": {},
   "outputs": [
    {
     "data": {
      "text/plain": [
       "['Tushar']"
      ]
     },
     "execution_count": 125,
     "metadata": {},
     "output_type": "execute_result"
    }
   ],
   "source": [
    "a"
   ]
  },
  {
   "cell_type": "code",
   "execution_count": 126,
   "id": "832cf7c2-9f0a-44e3-80a3-36928dce0af8",
   "metadata": {},
   "outputs": [],
   "source": [
    "a.insert(0, 'Gen-ai')"
   ]
  },
  {
   "cell_type": "code",
   "execution_count": 127,
   "id": "5d779de9-5298-4c78-a177-1ccc4b5bae99",
   "metadata": {},
   "outputs": [
    {
     "data": {
      "text/plain": [
       "['Gen-ai', 'Tushar']"
      ]
     },
     "execution_count": 127,
     "metadata": {},
     "output_type": "execute_result"
    }
   ],
   "source": [
    "a"
   ]
  },
  {
   "cell_type": "code",
   "execution_count": 128,
   "id": "29b4debc-49e1-4a71-989d-314f37f59f5c",
   "metadata": {},
   "outputs": [],
   "source": [
    "# Dict : "
   ]
  },
  {
   "cell_type": "code",
   "execution_count": 129,
   "id": "5f184270-a62a-457d-a19b-e7dcaca89467",
   "metadata": {},
   "outputs": [],
   "source": [
    "d = {}"
   ]
  },
  {
   "cell_type": "code",
   "execution_count": 130,
   "id": "bdbb2baf-5f3e-4502-8546-2bb9d3d31ff2",
   "metadata": {},
   "outputs": [
    {
     "data": {
      "text/plain": [
       "dict"
      ]
     },
     "execution_count": 130,
     "metadata": {},
     "output_type": "execute_result"
    }
   ],
   "source": [
    "type(d)"
   ]
  },
  {
   "cell_type": "code",
   "execution_count": 131,
   "id": "76b3a394-1899-4a9e-81af-f6ac79dfab79",
   "metadata": {},
   "outputs": [],
   "source": [
    "d['a'] = 1"
   ]
  },
  {
   "cell_type": "code",
   "execution_count": 132,
   "id": "23997896-c617-4433-ad76-e39da34be58c",
   "metadata": {},
   "outputs": [
    {
     "data": {
      "text/plain": [
       "{'a': 1}"
      ]
     },
     "execution_count": 132,
     "metadata": {},
     "output_type": "execute_result"
    }
   ],
   "source": [
    "d"
   ]
  },
  {
   "cell_type": "code",
   "execution_count": 134,
   "id": "86a39a87-eb1b-47cd-a464-cf2b58af5eab",
   "metadata": {},
   "outputs": [],
   "source": [
    "d = {\n",
    "    'a' : 1,\n",
    "    'b' : 2.3,\n",
    "    'c' : True,\n",
    "    1 : 'Training',\n",
    "}"
   ]
  },
  {
   "cell_type": "code",
   "execution_count": 135,
   "id": "088342b2-c7f0-418e-b970-1aa0cb012385",
   "metadata": {},
   "outputs": [
    {
     "data": {
      "text/plain": [
       "1"
      ]
     },
     "execution_count": 135,
     "metadata": {},
     "output_type": "execute_result"
    }
   ],
   "source": [
    "d['a']"
   ]
  },
  {
   "cell_type": "code",
   "execution_count": 136,
   "id": "a2111058-5825-445b-8d01-203213bc0ed6",
   "metadata": {},
   "outputs": [
    {
     "data": {
      "text/plain": [
       "2.3"
      ]
     },
     "execution_count": 136,
     "metadata": {},
     "output_type": "execute_result"
    }
   ],
   "source": [
    "d['b']"
   ]
  },
  {
   "cell_type": "code",
   "execution_count": 137,
   "id": "7b71a04d-31d4-46ba-977c-f86cae7e3021",
   "metadata": {},
   "outputs": [
    {
     "data": {
      "text/plain": [
       "'Training'"
      ]
     },
     "execution_count": 137,
     "metadata": {},
     "output_type": "execute_result"
    }
   ],
   "source": [
    "d[1]"
   ]
  },
  {
   "cell_type": "code",
   "execution_count": 138,
   "id": "939459fd-f97d-45e8-9839-8ea807252bc3",
   "metadata": {},
   "outputs": [
    {
     "data": {
      "text/plain": [
       "True"
      ]
     },
     "execution_count": 138,
     "metadata": {},
     "output_type": "execute_result"
    }
   ],
   "source": [
    "d['c']"
   ]
  },
  {
   "cell_type": "code",
   "execution_count": 139,
   "id": "7d41d56f-b358-4de9-a4aa-bda1a2a42a4b",
   "metadata": {},
   "outputs": [],
   "source": [
    "d['dict'] = {'Ai' : 'ML',\n",
    "            'Gen-ai' : 'Python'}"
   ]
  },
  {
   "cell_type": "code",
   "execution_count": 140,
   "id": "f0df76c8-664c-4e04-851c-458b39d99eda",
   "metadata": {},
   "outputs": [
    {
     "data": {
      "text/plain": [
       "{'a': 1,\n",
       " 'b': 2.3,\n",
       " 'c': True,\n",
       " 1: 'Training',\n",
       " 'dict': {'Ai': 'ML', 'Gen-ai': 'Python'}}"
      ]
     },
     "execution_count": 140,
     "metadata": {},
     "output_type": "execute_result"
    }
   ],
   "source": [
    "d"
   ]
  },
  {
   "cell_type": "code",
   "execution_count": 142,
   "id": "0f4e70da-3ab0-45ce-81a8-9296ab3aba96",
   "metadata": {},
   "outputs": [
    {
     "data": {
      "text/plain": [
       "'Python'"
      ]
     },
     "execution_count": 142,
     "metadata": {},
     "output_type": "execute_result"
    }
   ],
   "source": [
    "d['dict']['Gen-ai']"
   ]
  },
  {
   "cell_type": "code",
   "execution_count": 143,
   "id": "82f7c464-bf15-48eb-a822-ccb2167180b8",
   "metadata": {},
   "outputs": [
    {
     "data": {
      "text/plain": [
       "dict_keys(['a', 'b', 'c', 1, 'dict'])"
      ]
     },
     "execution_count": 143,
     "metadata": {},
     "output_type": "execute_result"
    }
   ],
   "source": [
    "d.keys()"
   ]
  },
  {
   "cell_type": "code",
   "execution_count": 144,
   "id": "f54a9780-bf11-422e-960d-ed6de01725b6",
   "metadata": {},
   "outputs": [
    {
     "data": {
      "text/plain": [
       "dict_values([1, 2.3, True, 'Training', {'Ai': 'ML', 'Gen-ai': 'Python'}])"
      ]
     },
     "execution_count": 144,
     "metadata": {},
     "output_type": "execute_result"
    }
   ],
   "source": [
    "d.values()"
   ]
  },
  {
   "cell_type": "code",
   "execution_count": 145,
   "id": "943d201a-39db-4e09-bcb4-c9b6c26cf5aa",
   "metadata": {},
   "outputs": [
    {
     "data": {
      "text/plain": [
       "dict_items([('a', 1), ('b', 2.3), ('c', True), (1, 'Training'), ('dict', {'Ai': 'ML', 'Gen-ai': 'Python'})])"
      ]
     },
     "execution_count": 145,
     "metadata": {},
     "output_type": "execute_result"
    }
   ],
   "source": [
    "d.items()"
   ]
  },
  {
   "cell_type": "code",
   "execution_count": 147,
   "id": "53c2acd2-4992-494a-843c-3f893231a308",
   "metadata": {},
   "outputs": [
    {
     "data": {
      "text/plain": [
       "{'Ai': 'ML', 'Gen-ai': 'Python'}"
      ]
     },
     "execution_count": 147,
     "metadata": {},
     "output_type": "execute_result"
    }
   ],
   "source": [
    "d.get('dict')"
   ]
  },
  {
   "cell_type": "code",
   "execution_count": 148,
   "id": "20cf5e87-097a-4f3d-b44b-1c978285bc32",
   "metadata": {},
   "outputs": [
    {
     "data": {
      "text/plain": [
       "5"
      ]
     },
     "execution_count": 148,
     "metadata": {},
     "output_type": "execute_result"
    }
   ],
   "source": [
    "len(d)"
   ]
  },
  {
   "cell_type": "code",
   "execution_count": 151,
   "id": "74b3da57-437d-45b4-9aa7-a3e5b10a60ba",
   "metadata": {},
   "outputs": [],
   "source": [
    "d['abc'] = {'t' : '123','u': 345}"
   ]
  },
  {
   "cell_type": "code",
   "execution_count": 152,
   "id": "0dc479ee-3121-4e26-baf2-a860d1d484ed",
   "metadata": {},
   "outputs": [
    {
     "data": {
      "text/plain": [
       "{'a': 1,\n",
       " 'b': 2.3,\n",
       " 'c': True,\n",
       " 1: 'Training',\n",
       " 'dict': {'Ai': 'ML', 'Gen-ai': 'Python'},\n",
       " 'abc': {'t': '123', 'u': 345}}"
      ]
     },
     "execution_count": 152,
     "metadata": {},
     "output_type": "execute_result"
    }
   ],
   "source": [
    "d"
   ]
  },
  {
   "cell_type": "code",
   "execution_count": 153,
   "id": "52d15c33-149a-4610-8407-340b1cdbb220",
   "metadata": {},
   "outputs": [
    {
     "data": {
      "text/plain": [
       "dict_keys(['a', 'b', 'c', 1, 'dict', 'abc'])"
      ]
     },
     "execution_count": 153,
     "metadata": {},
     "output_type": "execute_result"
    }
   ],
   "source": [
    "d.keys()"
   ]
  },
  {
   "cell_type": "code",
   "execution_count": 155,
   "id": "17f5b4e1-480e-4f1d-ad24-96192d93df03",
   "metadata": {},
   "outputs": [
    {
     "name": "stdout",
     "output_type": "stream",
     "text": [
      "<class 'dict'>\n"
     ]
    }
   ],
   "source": [
    "print(type(d))"
   ]
  },
  {
   "cell_type": "code",
   "execution_count": 156,
   "id": "eb59791e-7413-4d54-ad84-7d1759d5d5eb",
   "metadata": {},
   "outputs": [],
   "source": [
    "d[len] = {}"
   ]
  },
  {
   "cell_type": "code",
   "execution_count": 157,
   "id": "2e6b1777-42a7-4c43-88d5-d2ea7f223b8c",
   "metadata": {},
   "outputs": [
    {
     "data": {
      "text/plain": [
       "dict_keys(['a', 'b', 'c', 1, 'dict', 'abc', <built-in function len>])"
      ]
     },
     "execution_count": 157,
     "metadata": {},
     "output_type": "execute_result"
    }
   ],
   "source": [
    "d.keys()"
   ]
  },
  {
   "cell_type": "code",
   "execution_count": 160,
   "id": "096900d5-a6a7-4fc1-ba06-ed2b8c6ef424",
   "metadata": {},
   "outputs": [
    {
     "data": {
      "text/plain": [
       "1"
      ]
     },
     "execution_count": 160,
     "metadata": {},
     "output_type": "execute_result"
    }
   ],
   "source": [
    "d.pop('a')"
   ]
  },
  {
   "cell_type": "code",
   "execution_count": 161,
   "id": "33a92a1b-8529-4555-aede-fc8153b0b7b6",
   "metadata": {},
   "outputs": [
    {
     "data": {
      "text/plain": [
       "{'b': 2.3,\n",
       " 'c': True,\n",
       " 1: 'Training',\n",
       " 'dict': {'Ai': 'ML', 'Gen-ai': 'Python'},\n",
       " 'abc': {'t': '123', 'u': 345},\n",
       " <function len(obj, /)>: {}}"
      ]
     },
     "execution_count": 161,
     "metadata": {},
     "output_type": "execute_result"
    }
   ],
   "source": [
    "d"
   ]
  },
  {
   "cell_type": "code",
   "execution_count": 163,
   "id": "1724e145-7d67-4853-aea3-4d8826b31b2d",
   "metadata": {},
   "outputs": [
    {
     "data": {
      "text/plain": [
       "(<function len(obj, /)>, {})"
      ]
     },
     "execution_count": 163,
     "metadata": {},
     "output_type": "execute_result"
    }
   ],
   "source": [
    "d.popitem()"
   ]
  },
  {
   "cell_type": "code",
   "execution_count": 164,
   "id": "39cf8276-afcf-4c89-8c3b-e01640a7aaab",
   "metadata": {},
   "outputs": [
    {
     "data": {
      "text/plain": [
       "{'b': 2.3,\n",
       " 'c': True,\n",
       " 1: 'Training',\n",
       " 'dict': {'Ai': 'ML', 'Gen-ai': 'Python'},\n",
       " 'abc': {'t': '123', 'u': 345}}"
      ]
     },
     "execution_count": 164,
     "metadata": {},
     "output_type": "execute_result"
    }
   ],
   "source": [
    "d"
   ]
  },
  {
   "cell_type": "code",
   "execution_count": 165,
   "id": "b9f42abe-1562-4955-b634-2136b57681dc",
   "metadata": {},
   "outputs": [],
   "source": [
    "d.clear()"
   ]
  },
  {
   "cell_type": "code",
   "execution_count": 166,
   "id": "62db75a0-5ffb-4bfb-9eb1-427d75005ea0",
   "metadata": {},
   "outputs": [
    {
     "data": {
      "text/plain": [
       "{}"
      ]
     },
     "execution_count": 166,
     "metadata": {},
     "output_type": "execute_result"
    }
   ],
   "source": [
    "d"
   ]
  },
  {
   "cell_type": "code",
   "execution_count": null,
   "id": "346bc3bf-a262-4fff-9c5d-8e4c9977e210",
   "metadata": {},
   "outputs": [],
   "source": []
  }
 ],
 "metadata": {
  "kernelspec": {
   "display_name": "Python 3 (ipykernel)",
   "language": "python",
   "name": "python3"
  },
  "language_info": {
   "codemirror_mode": {
    "name": "ipython",
    "version": 3
   },
   "file_extension": ".py",
   "mimetype": "text/x-python",
   "name": "python",
   "nbconvert_exporter": "python",
   "pygments_lexer": "ipython3",
   "version": "3.12.7"
  }
 },
 "nbformat": 4,
 "nbformat_minor": 5
}
