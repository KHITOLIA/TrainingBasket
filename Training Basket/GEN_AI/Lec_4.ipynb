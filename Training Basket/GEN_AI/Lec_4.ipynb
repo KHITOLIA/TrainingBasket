{
 "cells": [
  {
   "cell_type": "code",
   "execution_count": 4,
   "id": "de71a9fa-1a85-4064-a1de-9c69e68504fd",
   "metadata": {},
   "outputs": [
    {
     "name": "stdin",
     "output_type": "stream",
     "text": [
      "enter the principal amount =  100000\n",
      "enter the rate of interest % =  5\n",
      "enter the time period (years) =  6\n"
     ]
    },
    {
     "name": "stdout",
     "output_type": "stream",
     "text": [
      "29400.000000000004\n"
     ]
    }
   ],
   "source": [
    "principal = float(input(\"enter the principal amount = \"))\n",
    "rate = float(input(\"enter the rate of interest % = \"))\n",
    "time = float(input(\"enter the time period (years) = \"))\n",
    "\n",
    "SI = (principal*rate*time)/100\n",
    "\n",
    "if SI > 10000:\n",
    "    rate = rate - (2*rate)/100\n",
    "    SI = (principal*rate*time)/100\n",
    "    print(SI)\n",
    "else:\n",
    "    print(f'High Interest Value = {SI}')"
   ]
  },
  {
   "cell_type": "code",
   "execution_count": 5,
   "id": "1362997e-d75d-4a36-be71-f22212f7a876",
   "metadata": {},
   "outputs": [
    {
     "name": "stdin",
     "output_type": "stream",
     "text": [
      "enter the operand =  %\n",
      "Enter the Frist number 0\n",
      "Enter the second number 10\n"
     ]
    },
    {
     "name": "stdout",
     "output_type": "stream",
     "text": [
      "0.0\n"
     ]
    }
   ],
   "source": [
    "operand = input(\"enter the operand = \")\n",
    "num_1 = float(input(\"Enter the Frist number\"))\n",
    "num_2 = float(input(\"Enter the second number\"))\n",
    "if operand == '+':\n",
    "    print(num_1 + num_2)\n",
    "elif operand == '-':\n",
    "    print(num_1 - num_2)\n",
    "elif operand == '*':\n",
    "    print(num_1 * num_2)\n",
    "elif operand == '/':\n",
    "    print(num_1 / num_2)\n",
    "elif operand == '%':\n",
    "    print(num_1 % num_2)\n",
    "elif operand == '//':\n",
    "    print(num_1 // num_2)"
   ]
  },
  {
   "cell_type": "code",
   "execution_count": 8,
   "id": "ecf6ad3b-8b2b-43d2-adbf-7cb11bfd8248",
   "metadata": {},
   "outputs": [
    {
     "name": "stdin",
     "output_type": "stream",
     "text": [
      "enter your marks =  87\n"
     ]
    },
    {
     "name": "stdout",
     "output_type": "stream",
     "text": [
      "Grade B\n"
     ]
    }
   ],
   "source": [
    "marks = float(input(\"enter your marks = \"))\n",
    "if marks > 90 and marks <= 100:\n",
    "    print(\"Grade A\")\n",
    "elif marks > 70 and marks <= 80:\n",
    "    print(\"Grade c\")\n",
    "elif marks > 80 and marks <= 90:\n",
    "    print(\"Grade B\")\n",
    "elif marks > 60 and marks <= 70:\n",
    "    print(\"Grade D\")\n",
    "else:\n",
    "    print(\"fail hogya bhai tu\")"
   ]
  },
  {
   "cell_type": "markdown",
   "id": "1589b8e1-1230-4055-9cf0-64ec9bf3dd5c",
   "metadata": {},
   "source": [
    "# Loops : to perform set of instruction n no of times\n",
    "1. For loop\n",
    "2. While loop"
   ]
  },
  {
   "cell_type": "code",
   "execution_count": 11,
   "id": "94db2acc-7533-48ac-ad24-ed32cff41cfa",
   "metadata": {},
   "outputs": [
    {
     "name": "stdout",
     "output_type": "stream",
     "text": [
      "0\n",
      "1\n",
      "2\n",
      "3\n"
     ]
    }
   ],
   "source": [
    "for i in range(4):\n",
    "    print(i)"
   ]
  },
  {
   "cell_type": "code",
   "execution_count": 12,
   "id": "792baf30-d2ed-40bf-ba09-b3503e5e82b8",
   "metadata": {},
   "outputs": [
    {
     "name": "stdout",
     "output_type": "stream",
     "text": [
      "Vansh\n",
      "Vansh\n",
      "Vansh\n",
      "Vansh\n"
     ]
    }
   ],
   "source": [
    "for i in range(4):\n",
    "    print(\"Vansh\")"
   ]
  },
  {
   "cell_type": "code",
   "execution_count": 22,
   "id": "0433cc48-9224-42c7-9d34-19c5dad3f5f0",
   "metadata": {},
   "outputs": [
    {
     "name": "stdout",
     "output_type": "stream",
     "text": [
      "3 0 87.0\n",
      "3 1 87.0\n",
      "3 2 87.0\n",
      "3 3 87.0\n"
     ]
    }
   ],
   "source": [
    "for num in range(4):\n",
    "    print(i, num,marks, sep = ' ', end = '\\n')"
   ]
  },
  {
   "cell_type": "code",
   "execution_count": 14,
   "id": "7c2cd0bf-3b42-4ad0-9b61-242e1c06ed00",
   "metadata": {},
   "outputs": [
    {
     "data": {
      "text/plain": [
       "True"
      ]
     },
     "execution_count": 14,
     "metadata": {},
     "output_type": "execute_result"
    }
   ],
   "source": [
    "num == i"
   ]
  },
  {
   "cell_type": "code",
   "execution_count": 26,
   "id": "95cfbfd8-a81d-4f6d-bc03-5ffbb3e16e47",
   "metadata": {},
   "outputs": [
    {
     "name": "stdout",
     "output_type": "stream",
     "text": [
      "1"
     ]
    }
   ],
   "source": [
    "for num in range(1, 5, 8):\n",
    "    print(num, end = '')"
   ]
  },
  {
   "cell_type": "code",
   "execution_count": 28,
   "id": "72c6217f-9340-4a9e-a3a0-73ce1cae7364",
   "metadata": {},
   "outputs": [],
   "source": [
    "l = [2, 3, 8, 4, 6]"
   ]
  },
  {
   "cell_type": "code",
   "execution_count": 31,
   "id": "b6cefacb-f381-49cd-b81b-52bba3a286f0",
   "metadata": {},
   "outputs": [
    {
     "name": "stdout",
     "output_type": "stream",
     "text": [
      "2\n",
      "3\n",
      "8\n",
      "4\n",
      "6\n"
     ]
    }
   ],
   "source": [
    "for i in l:\n",
    "    print(i)"
   ]
  },
  {
   "cell_type": "code",
   "execution_count": 32,
   "id": "e99a1412-2449-4f5a-91f8-dee5a0808e13",
   "metadata": {},
   "outputs": [
    {
     "name": "stdout",
     "output_type": "stream",
     "text": [
      "2\n",
      "3\n",
      "8\n",
      "4\n",
      "6\n"
     ]
    }
   ],
   "source": [
    "for i in range(len(l)):\n",
    "    print(l[i])"
   ]
  },
  {
   "cell_type": "code",
   "execution_count": 33,
   "id": "00b435f9-ab45-4613-9285-5007f2fea12c",
   "metadata": {},
   "outputs": [
    {
     "name": "stdout",
     "output_type": "stream",
     "text": [
      "3\n"
     ]
    }
   ],
   "source": [
    "for i in range(len(l)):\n",
    "    if l[i] == 3:\n",
    "        print(l[i])\n",
    "        break"
   ]
  },
  {
   "cell_type": "code",
   "execution_count": 35,
   "id": "f5962fc7-f6d9-4693-8a7f-fca4ad65194f",
   "metadata": {},
   "outputs": [
    {
     "name": "stdout",
     "output_type": "stream",
     "text": [
      "Training Basket"
     ]
    }
   ],
   "source": [
    "st = 'Training Basket'\n",
    "for char in st:\n",
    "    print(char, end = '')"
   ]
  },
  {
   "cell_type": "code",
   "execution_count": 36,
   "id": "ad75eae9-50a7-44ec-8773-f24454689f32",
   "metadata": {},
   "outputs": [
    {
     "name": "stdout",
     "output_type": "stream",
     "text": [
      "T\n",
      "r\n",
      "a\n",
      "i\n",
      "n\n",
      "i\n",
      "n\n",
      "g\n",
      " \n",
      "B\n",
      "a\n",
      "s\n",
      "k\n",
      "e\n",
      "t\n"
     ]
    }
   ],
   "source": [
    "for i in range(len(st)):\n",
    "    print(st[i])"
   ]
  },
  {
   "cell_type": "code",
   "execution_count": 6,
   "id": "1e8a6101-684a-4b00-a56e-1281c8072192",
   "metadata": {},
   "outputs": [],
   "source": [
    "st = '   Training Basket  '"
   ]
  },
  {
   "cell_type": "code",
   "execution_count": 77,
   "id": "72ada561-2523-4dbf-badc-466110fa83b4",
   "metadata": {},
   "outputs": [
    {
     "data": {
      "text/plain": [
       "'Training   Basket'"
      ]
     },
     "execution_count": 77,
     "metadata": {},
     "output_type": "execute_result"
    }
   ],
   "source": [
    "st.strip() # Write the backend code for strip and split"
   ]
  },
  {
   "cell_type": "code",
   "execution_count": 78,
   "id": "feac3b98-625a-49ce-9f73-58ce558299a9",
   "metadata": {},
   "outputs": [
    {
     "data": {
      "text/plain": [
       "'   Training   Basket  '"
      ]
     },
     "execution_count": 78,
     "metadata": {},
     "output_type": "execute_result"
    }
   ],
   "source": [
    "st"
   ]
  },
  {
   "cell_type": "code",
   "execution_count": 79,
   "id": "77bc436a-6e52-4ab5-93a6-ef5605403d56",
   "metadata": {},
   "outputs": [
    {
     "data": {
      "text/plain": [
       "['Training', 'Basket']"
      ]
     },
     "execution_count": 79,
     "metadata": {},
     "output_type": "execute_result"
    }
   ],
   "source": [
    "st.split()"
   ]
  },
  {
   "cell_type": "code",
   "execution_count": 4,
   "id": "fe21642a-5e20-4700-a357-20de4ba43a95",
   "metadata": {},
   "outputs": [],
   "source": [
    "def stripped(string):\n",
    "    starting = 0\n",
    "    ending = len(string) - 1\n",
    "    for i in range(len(string)):\n",
    "        if string[i] != ' ':\n",
    "            starting = i\n",
    "            break\n",
    "    for j in range(len(string)-1, -1, -1):\n",
    "        if string[j] != ' ':\n",
    "            ending = j\n",
    "            break\n",
    "    return string[starting : ending + 1]"
   ]
  },
  {
   "cell_type": "code",
   "execution_count": 7,
   "id": "7f4ffb2f-aede-468a-8d0d-8253f748cd94",
   "metadata": {},
   "outputs": [],
   "source": [
    "st = stripped(st)"
   ]
  },
  {
   "cell_type": "code",
   "execution_count": 8,
   "id": "51eaff93-58cd-4ffa-a39d-1160e630ed56",
   "metadata": {},
   "outputs": [
    {
     "data": {
      "text/plain": [
       "'Training Basket'"
      ]
     },
     "execution_count": 8,
     "metadata": {},
     "output_type": "execute_result"
    }
   ],
   "source": [
    "st"
   ]
  },
  {
   "cell_type": "code",
   "execution_count": 62,
   "id": "42b1ff31-703f-4168-aa61-dde0a6c9e000",
   "metadata": {},
   "outputs": [],
   "source": [
    "st = st + ' '"
   ]
  },
  {
   "cell_type": "code",
   "execution_count": 9,
   "id": "cd99712c-cd57-448e-84f9-235e97691c96",
   "metadata": {},
   "outputs": [],
   "source": [
    "def spliting(st):\n",
    "    st = stripped(st)\n",
    "    st = st + ' '\n",
    "    a = []\n",
    "    idx = 0\n",
    "    for i in range(len(st)):\n",
    "        if st[i] == ' ':\n",
    "            a.append(st[idx : i])\n",
    "            idx = i+1\n",
    "    b = []\n",
    "    for i in a:\n",
    "        if i != '':\n",
    "            b.append(i)\n",
    "    return b"
   ]
  },
  {
   "cell_type": "code",
   "execution_count": 10,
   "id": "9272d65f-e3e3-4d5e-a6ab-f355ddbdbc68",
   "metadata": {},
   "outputs": [
    {
     "name": "stdout",
     "output_type": "stream",
     "text": [
      "['Training', 'Basket', 'Session']\n"
     ]
    }
   ],
   "source": [
    "print(spliting(\"  Training      Basket        Session  \"))"
   ]
  },
  {
   "cell_type": "code",
   "execution_count": null,
   "id": "56bc3345-21ce-435a-9cfd-8ec758d75c6b",
   "metadata": {},
   "outputs": [],
   "source": []
  }
 ],
 "metadata": {
  "kernelspec": {
   "display_name": "Python 3 (ipykernel)",
   "language": "python",
   "name": "python3"
  },
  "language_info": {
   "codemirror_mode": {
    "name": "ipython",
    "version": 3
   },
   "file_extension": ".py",
   "mimetype": "text/x-python",
   "name": "python",
   "nbconvert_exporter": "python",
   "pygments_lexer": "ipython3",
   "version": "3.12.7"
  }
 },
 "nbformat": 4,
 "nbformat_minor": 5
}
