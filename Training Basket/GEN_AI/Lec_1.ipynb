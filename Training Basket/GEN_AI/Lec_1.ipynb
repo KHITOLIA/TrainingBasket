{
 "cells": [
  {
   "cell_type": "markdown",
   "id": "c00f1746-784b-433e-aeb6-ae24a917342a",
   "metadata": {},
   "source": [
    "# Variables : "
   ]
  },
  {
   "cell_type": "code",
   "execution_count": 1,
   "id": "ced08d84-7d2d-4c15-9d5a-591e8d658b57",
   "metadata": {},
   "outputs": [],
   "source": [
    "a = 5"
   ]
  },
  {
   "cell_type": "code",
   "execution_count": 2,
   "id": "f775f2a4-daec-4b77-8048-cc82128e1551",
   "metadata": {},
   "outputs": [],
   "source": [
    "b = 7.8"
   ]
  },
  {
   "cell_type": "code",
   "execution_count": 3,
   "id": "72c75b2c-90c3-4b70-aa81-adaf0f0d4268",
   "metadata": {},
   "outputs": [],
   "source": [
    "c = 'Anirudh'"
   ]
  },
  {
   "cell_type": "code",
   "execution_count": 4,
   "id": "9242130e-8e99-4bb6-8b03-01c1f600455e",
   "metadata": {},
   "outputs": [],
   "source": [
    "d = True"
   ]
  },
  {
   "cell_type": "code",
   "execution_count": 55,
   "id": "5195c0e8-5ddb-4511-9364-b126ab59db35",
   "metadata": {},
   "outputs": [],
   "source": [
    "a = 5\n",
    "b = 7.8\n",
    "c = 'Anirudh'\n",
    "d = True"
   ]
  },
  {
   "cell_type": "code",
   "execution_count": 5,
   "id": "2de26d2a-342e-4d16-bccb-c55998195cee",
   "metadata": {},
   "outputs": [
    {
     "data": {
      "text/plain": [
       "140734588660280"
      ]
     },
     "execution_count": 5,
     "metadata": {},
     "output_type": "execute_result"
    }
   ],
   "source": [
    "id(a)"
   ]
  },
  {
   "cell_type": "code",
   "execution_count": 21,
   "id": "1d2da442-f3e5-4b14-8b39-d95c95a489e2",
   "metadata": {},
   "outputs": [
    {
     "name": "stdout",
     "output_type": "stream",
     "text": [
      "ArchitAnirudh\n"
     ]
    }
   ],
   "source": [
    "# print(a,b,c,d, sep= \"*\")\n",
    "print(\"Archit\" + c )"
   ]
  },
  {
   "cell_type": "code",
   "execution_count": 29,
   "id": "70c94333-e70e-4fc0-a130-b33ed58ae818",
   "metadata": {},
   "outputs": [
    {
     "name": "stdout",
     "output_type": "stream",
     "text": [
      "HelloWorld\n"
     ]
    }
   ],
   "source": [
    "z = \"Hello\" + \"World\"\n",
    "print(z)"
   ]
  },
  {
   "cell_type": "code",
   "execution_count": 34,
   "id": "653a0c3c-e24c-4973-8f29-5b619805c1a2",
   "metadata": {},
   "outputs": [
    {
     "name": "stdout",
     "output_type": "stream",
     "text": [
      "Hello  World\n"
     ]
    }
   ],
   "source": [
    "print(\"Hello \" +\" World\")"
   ]
  },
  {
   "cell_type": "code",
   "execution_count": 37,
   "id": "af3e7fdb-366f-4017-8e1b-4c5bd320a1d4",
   "metadata": {},
   "outputs": [
    {
     "data": {
      "text/plain": [
       "116"
      ]
     },
     "execution_count": 37,
     "metadata": {},
     "output_type": "execute_result"
    }
   ],
   "source": [
    "ord('t')"
   ]
  },
  {
   "cell_type": "code",
   "execution_count": 38,
   "id": "e373bfe5-a092-4f4b-9b3a-e64528ecf5fd",
   "metadata": {},
   "outputs": [
    {
     "data": {
      "text/plain": [
       "97"
      ]
     },
     "execution_count": 38,
     "metadata": {},
     "output_type": "execute_result"
    }
   ],
   "source": [
    "ord('a')"
   ]
  },
  {
   "cell_type": "code",
   "execution_count": 39,
   "id": "90c69e29-13fa-49c1-80db-2805a0d60895",
   "metadata": {},
   "outputs": [
    {
     "data": {
      "text/plain": [
       "98"
      ]
     },
     "execution_count": 39,
     "metadata": {},
     "output_type": "execute_result"
    }
   ],
   "source": [
    "ord('b')"
   ]
  },
  {
   "cell_type": "code",
   "execution_count": 40,
   "id": "f7493b68-c0c8-4415-9466-156963395c1f",
   "metadata": {},
   "outputs": [
    {
     "data": {
      "text/plain": [
       "122"
      ]
     },
     "execution_count": 40,
     "metadata": {},
     "output_type": "execute_result"
    }
   ],
   "source": [
    "ord('z')"
   ]
  },
  {
   "cell_type": "code",
   "execution_count": 41,
   "id": "dd0ea8a1-c199-431f-b5d7-f566854321c0",
   "metadata": {},
   "outputs": [
    {
     "data": {
      "text/plain": [
       "65"
      ]
     },
     "execution_count": 41,
     "metadata": {},
     "output_type": "execute_result"
    }
   ],
   "source": [
    "ord('A')"
   ]
  },
  {
   "cell_type": "code",
   "execution_count": 42,
   "id": "bf874baf-e910-4fc6-b877-85fbb2d1ac3d",
   "metadata": {},
   "outputs": [
    {
     "data": {
      "text/plain": [
       "90"
      ]
     },
     "execution_count": 42,
     "metadata": {},
     "output_type": "execute_result"
    }
   ],
   "source": [
    "ord('Z')"
   ]
  },
  {
   "cell_type": "code",
   "execution_count": 49,
   "id": "0b28b935-83ec-48f5-a29c-0ed73783970d",
   "metadata": {},
   "outputs": [
    {
     "data": {
      "text/plain": [
       "'A'"
      ]
     },
     "execution_count": 49,
     "metadata": {},
     "output_type": "execute_result"
    }
   ],
   "source": [
    "chr(ord('a') - 32)"
   ]
  },
  {
   "cell_type": "code",
   "execution_count": 53,
   "id": "fbfd8eed-8a9f-45ce-8ac3-ec4bb1ff402c",
   "metadata": {},
   "outputs": [
    {
     "data": {
      "text/plain": [
       "'A'"
      ]
     },
     "execution_count": 53,
     "metadata": {},
     "output_type": "execute_result"
    }
   ],
   "source": [
    "chr(ord('a') - 32)"
   ]
  },
  {
   "cell_type": "code",
   "execution_count": 21,
   "id": "3055ba3c-d7af-4f7d-941b-541a850a94d2",
   "metadata": {},
   "outputs": [
    {
     "data": {
      "text/plain": [
       "140728488700632"
      ]
     },
     "execution_count": 21,
     "metadata": {},
     "output_type": "execute_result"
    }
   ],
   "source": [
    "id(a)"
   ]
  },
  {
   "cell_type": "code",
   "execution_count": 25,
   "id": "ac05ca3b-24bd-480c-b6bd-a21ed06ddab1",
   "metadata": {},
   "outputs": [
    {
     "name": "stdout",
     "output_type": "stream",
     "text": [
      "<class 'int'>\n"
     ]
    }
   ],
   "source": [
    "print(type(a))"
   ]
  },
  {
   "cell_type": "code",
   "execution_count": 26,
   "id": "2359efce-2c81-400f-b6a3-b836496f6939",
   "metadata": {},
   "outputs": [
    {
     "data": {
      "text/plain": [
       "str"
      ]
     },
     "execution_count": 26,
     "metadata": {},
     "output_type": "execute_result"
    }
   ],
   "source": [
    "type(c)"
   ]
  },
  {
   "cell_type": "code",
   "execution_count": 27,
   "id": "f1a70a8e-c5b3-4292-b949-ab331135005b",
   "metadata": {},
   "outputs": [
    {
     "data": {
      "text/plain": [
       "float"
      ]
     },
     "execution_count": 27,
     "metadata": {},
     "output_type": "execute_result"
    }
   ],
   "source": [
    "type(b)"
   ]
  },
  {
   "cell_type": "code",
   "execution_count": 28,
   "id": "628e6fdf-fbd4-41f4-a0bf-3930075f3477",
   "metadata": {},
   "outputs": [
    {
     "data": {
      "text/plain": [
       "bool"
      ]
     },
     "execution_count": 28,
     "metadata": {},
     "output_type": "execute_result"
    }
   ],
   "source": [
    "type(d)"
   ]
  },
  {
   "cell_type": "code",
   "execution_count": 29,
   "id": "699a860f-8995-4f51-9761-4217989009c9",
   "metadata": {},
   "outputs": [
    {
     "data": {
      "text/plain": [
       "17.8"
      ]
     },
     "execution_count": 29,
     "metadata": {},
     "output_type": "execute_result"
    }
   ],
   "source": [
    "a + b"
   ]
  },
  {
   "cell_type": "code",
   "execution_count": 30,
   "id": "25390302-d4b6-4aea-8efc-7ebbb4acaa9d",
   "metadata": {},
   "outputs": [
    {
     "name": "stdout",
     "output_type": "stream",
     "text": [
      "10\n"
     ]
    }
   ],
   "source": [
    "print(a)"
   ]
  },
  {
   "cell_type": "code",
   "execution_count": 43,
   "id": "f53fc96d-cf5f-4e35-ad19-da6a692abb33",
   "metadata": {},
   "outputs": [
    {
     "name": "stdout",
     "output_type": "stream",
     "text": [
      "Hello my name is Mr.AnirudhMr.GEN-AI*"
     ]
    }
   ],
   "source": [
    "print('Hello my name is ', c, 'GEN-AI',sep = 'Mr.',  end = '*')"
   ]
  },
  {
   "cell_type": "code",
   "execution_count": 33,
   "id": "a6a60ca2-1724-41e4-91cd-65e293cd7976",
   "metadata": {},
   "outputs": [
    {
     "data": {
      "text/plain": [
       "\u001b[1;31mSignature:\u001b[0m \u001b[0mprint\u001b[0m\u001b[1;33m(\u001b[0m\u001b[1;33m*\u001b[0m\u001b[0margs\u001b[0m\u001b[1;33m,\u001b[0m \u001b[0msep\u001b[0m\u001b[1;33m=\u001b[0m\u001b[1;34m' '\u001b[0m\u001b[1;33m,\u001b[0m \u001b[0mend\u001b[0m\u001b[1;33m=\u001b[0m\u001b[1;34m'\\n'\u001b[0m\u001b[1;33m,\u001b[0m \u001b[0mfile\u001b[0m\u001b[1;33m=\u001b[0m\u001b[1;32mNone\u001b[0m\u001b[1;33m,\u001b[0m \u001b[0mflush\u001b[0m\u001b[1;33m=\u001b[0m\u001b[1;32mFalse\u001b[0m\u001b[1;33m)\u001b[0m\u001b[1;33m\u001b[0m\u001b[1;33m\u001b[0m\u001b[0m\n",
       "\u001b[1;31mDocstring:\u001b[0m\n",
       "Prints the values to a stream, or to sys.stdout by default.\n",
       "\n",
       "sep\n",
       "  string inserted between values, default a space.\n",
       "end\n",
       "  string appended after the last value, default a newline.\n",
       "file\n",
       "  a file-like object (stream); defaults to the current sys.stdout.\n",
       "flush\n",
       "  whether to forcibly flush the stream.\n",
       "\u001b[1;31mType:\u001b[0m      builtin_function_or_method"
      ]
     },
     "metadata": {},
     "output_type": "display_data"
    }
   ],
   "source": [
    "print?"
   ]
  },
  {
   "cell_type": "code",
   "execution_count": 45,
   "id": "6ae053ed-7517-46b3-a0ec-b7247d8dfa28",
   "metadata": {},
   "outputs": [],
   "source": [
    "# print('Hello my name is' + \" \" + c )  # concatenation\n",
    "# asdasfasf\n",
    "# sdfsdf\n",
    "# sdfggfhhff\n",
    "# control + slash"
   ]
  },
  {
   "cell_type": "code",
   "execution_count": 56,
   "id": "ca14c1c2-b460-4c98-a2bf-8ecf0fc3378a",
   "metadata": {},
   "outputs": [
    {
     "name": "stdout",
     "output_type": "stream",
     "text": [
      "12.8\n"
     ]
    }
   ],
   "source": [
    "print(a + b)"
   ]
  },
  {
   "cell_type": "code",
   "execution_count": 57,
   "id": "3cf56c14-11ac-4e2a-ac16-87732a3c59d1",
   "metadata": {},
   "outputs": [
    {
     "name": "stdout",
     "output_type": "stream",
     "text": [
      "-2.8\n"
     ]
    }
   ],
   "source": [
    "print(a - b)"
   ]
  },
  {
   "cell_type": "code",
   "execution_count": 58,
   "id": "5f6f0767-e02f-4680-b099-b6ddd86ed4e5",
   "metadata": {},
   "outputs": [
    {
     "name": "stdout",
     "output_type": "stream",
     "text": [
      "39.0\n"
     ]
    }
   ],
   "source": [
    "print(a * b)"
   ]
  },
  {
   "cell_type": "code",
   "execution_count": 59,
   "id": "2d34f424-a2f9-472b-9f17-67f87c04632c",
   "metadata": {},
   "outputs": [
    {
     "name": "stdout",
     "output_type": "stream",
     "text": [
      "0.6410256410256411\n"
     ]
    }
   ],
   "source": [
    "print(a/b)"
   ]
  },
  {
   "cell_type": "code",
   "execution_count": 61,
   "id": "4c7ee28d-8a90-4a65-ae59-22bb8fe476ed",
   "metadata": {},
   "outputs": [
    {
     "name": "stdout",
     "output_type": "stream",
     "text": [
      "0.0\n"
     ]
    }
   ],
   "source": [
    "print(a // b)"
   ]
  },
  {
   "cell_type": "code",
   "execution_count": 62,
   "id": "87b978aa-b022-440c-8e05-4c3e677d5a27",
   "metadata": {},
   "outputs": [
    {
     "name": "stdout",
     "output_type": "stream",
     "text": [
      "5.0\n"
     ]
    }
   ],
   "source": [
    "print(a%b)"
   ]
  },
  {
   "cell_type": "code",
   "execution_count": null,
   "id": "f211383d-7caa-4f11-b5a7-f15774f8003a",
   "metadata": {},
   "outputs": [],
   "source": []
  },
  {
   "cell_type": "code",
   "execution_count": 56,
   "id": "1de85857-13e9-412b-a333-c577f7cb338b",
   "metadata": {},
   "outputs": [],
   "source": [
    "# Comparison and Logical\n"
   ]
  },
  {
   "cell_type": "code",
   "execution_count": 57,
   "id": "b12048e8-03ce-4e49-93ed-f508dc7b7b1c",
   "metadata": {},
   "outputs": [
    {
     "data": {
      "text/plain": [
       "False"
      ]
     },
     "execution_count": 57,
     "metadata": {},
     "output_type": "execute_result"
    }
   ],
   "source": [
    "a > 10 or a < 5"
   ]
  },
  {
   "cell_type": "code",
   "execution_count": 58,
   "id": "07d5d6bb-d37c-41be-ab43-cf94c5d68bd7",
   "metadata": {},
   "outputs": [
    {
     "data": {
      "text/plain": [
       "True"
      ]
     },
     "execution_count": 58,
     "metadata": {},
     "output_type": "execute_result"
    }
   ],
   "source": [
    "a == 10 and a < 20"
   ]
  },
  {
   "cell_type": "code",
   "execution_count": 59,
   "id": "0815118d-1cd7-4d1a-95bb-62a9e0961c46",
   "metadata": {},
   "outputs": [
    {
     "data": {
      "text/plain": [
       "False"
      ]
     },
     "execution_count": 59,
     "metadata": {},
     "output_type": "execute_result"
    }
   ],
   "source": [
    "a != 10 and a != b"
   ]
  },
  {
   "cell_type": "code",
   "execution_count": 63,
   "id": "84982333-8893-49e7-953b-d567c249d7ce",
   "metadata": {},
   "outputs": [],
   "source": [
    "# Strings : collection of characters"
   ]
  },
  {
   "cell_type": "code",
   "execution_count": 64,
   "id": "ef892d04-86a2-463a-a788-92f2bc9731f7",
   "metadata": {},
   "outputs": [],
   "source": [
    "st = '   Training Basket   '"
   ]
  },
  {
   "cell_type": "code",
   "execution_count": 65,
   "id": "369fd3d5-0ec3-4a27-9934-be259e7c696b",
   "metadata": {},
   "outputs": [
    {
     "data": {
      "text/plain": [
       "21"
      ]
     },
     "execution_count": 65,
     "metadata": {},
     "output_type": "execute_result"
    }
   ],
   "source": [
    "len(st)"
   ]
  },
  {
   "cell_type": "code",
   "execution_count": 66,
   "id": "ecec7bc5-16ce-4595-9ded-a72fcb91e25a",
   "metadata": {},
   "outputs": [
    {
     "name": "stdout",
     "output_type": "stream",
     "text": [
      "Training Basket\n"
     ]
    }
   ],
   "source": [
    "print(st.strip())"
   ]
  },
  {
   "cell_type": "code",
   "execution_count": 67,
   "id": "27119ea8-a0da-4dcf-81dc-8d5fa4cba88c",
   "metadata": {},
   "outputs": [],
   "source": [
    "st = st.strip()"
   ]
  },
  {
   "cell_type": "code",
   "execution_count": 68,
   "id": "17882885-5fb6-49a0-8957-23a67c0ad300",
   "metadata": {},
   "outputs": [
    {
     "data": {
      "text/plain": [
       "'Training Basket'"
      ]
     },
     "execution_count": 68,
     "metadata": {},
     "output_type": "execute_result"
    }
   ],
   "source": [
    "st"
   ]
  },
  {
   "cell_type": "code",
   "execution_count": 69,
   "id": "e9d7b8e2-0eab-4c0f-b239-4dbd875f3095",
   "metadata": {},
   "outputs": [
    {
     "data": {
      "text/plain": [
       "15"
      ]
     },
     "execution_count": 69,
     "metadata": {},
     "output_type": "execute_result"
    }
   ],
   "source": [
    "len(st)"
   ]
  },
  {
   "cell_type": "code",
   "execution_count": 84,
   "id": "a089083e-c06a-447b-ada5-ed8b69fe5c31",
   "metadata": {},
   "outputs": [
    {
     "data": {
      "text/plain": [
       "'g'"
      ]
     },
     "execution_count": 84,
     "metadata": {},
     "output_type": "execute_result"
    }
   ],
   "source": [
    "st[7]"
   ]
  },
  {
   "cell_type": "code",
   "execution_count": 86,
   "id": "97858297-c686-4718-a5a7-d0f628eec26d",
   "metadata": {},
   "outputs": [
    {
     "name": "stdout",
     "output_type": "stream",
     "text": [
      " \n"
     ]
    }
   ],
   "source": [
    "print(st[8])"
   ]
  },
  {
   "cell_type": "code",
   "execution_count": 87,
   "id": "41472f0a-5e02-4fb6-a719-27cfcf335b26",
   "metadata": {},
   "outputs": [
    {
     "data": {
      "text/plain": [
       "'a'"
      ]
     },
     "execution_count": 87,
     "metadata": {},
     "output_type": "execute_result"
    }
   ],
   "source": [
    "st[10]"
   ]
  },
  {
   "cell_type": "code",
   "execution_count": 88,
   "id": "e8ce1f56-8c48-4e1c-a1a5-6d9d27b83398",
   "metadata": {},
   "outputs": [
    {
     "data": {
      "text/plain": [
       "'Tt'"
      ]
     },
     "execution_count": 88,
     "metadata": {},
     "output_type": "execute_result"
    }
   ],
   "source": [
    "st[0] + st[14]"
   ]
  },
  {
   "cell_type": "code",
   "execution_count": 89,
   "id": "52699e94-e4d4-4d2e-8cdd-727b2ef1fbc9",
   "metadata": {},
   "outputs": [
    {
     "ename": "TypeError",
     "evalue": "unsupported operand type(s) for -: 'str' and 'str'",
     "output_type": "error",
     "traceback": [
      "\u001b[1;31m---------------------------------------------------------------------------\u001b[0m",
      "\u001b[1;31mTypeError\u001b[0m                                 Traceback (most recent call last)",
      "Cell \u001b[1;32mIn[89], line 1\u001b[0m\n\u001b[1;32m----> 1\u001b[0m st[\u001b[38;5;241m0\u001b[39m] \u001b[38;5;241m-\u001b[39m st[\u001b[38;5;241m14\u001b[39m]\n",
      "\u001b[1;31mTypeError\u001b[0m: unsupported operand type(s) for -: 'str' and 'str'"
     ]
    }
   ],
   "source": [
    "st[0] - st[14]"
   ]
  },
  {
   "cell_type": "code",
   "execution_count": 90,
   "id": "1ba079c0-b0fa-4854-a0d6-721aa59cbd71",
   "metadata": {},
   "outputs": [
    {
     "data": {
      "text/plain": [
       "'rain'"
      ]
     },
     "execution_count": 90,
     "metadata": {},
     "output_type": "execute_result"
    }
   ],
   "source": [
    "st[ 1 : 5 ]"
   ]
  },
  {
   "cell_type": "code",
   "execution_count": 91,
   "id": "bb4003a6-f112-45d9-9f75-9b1575b52924",
   "metadata": {},
   "outputs": [
    {
     "data": {
      "text/plain": [
       "'t'"
      ]
     },
     "execution_count": 91,
     "metadata": {},
     "output_type": "execute_result"
    }
   ],
   "source": [
    "st[ -1 : ]"
   ]
  },
  {
   "cell_type": "code",
   "execution_count": 95,
   "id": "0b3f0ec4-ebaa-4a7c-9ecc-8e734390c702",
   "metadata": {},
   "outputs": [
    {
     "data": {
      "text/plain": [
       "'aske'"
      ]
     },
     "execution_count": 95,
     "metadata": {},
     "output_type": "execute_result"
    }
   ],
   "source": [
    "st[ -5 : -1 ]"
   ]
  },
  {
   "cell_type": "code",
   "execution_count": 97,
   "id": "5bd87a86-55ff-42ed-a59e-c30d268dfb81",
   "metadata": {},
   "outputs": [
    {
     "data": {
      "text/plain": [
       "'teksaB gniniarT'"
      ]
     },
     "execution_count": 97,
     "metadata": {},
     "output_type": "execute_result"
    }
   ],
   "source": [
    "st[ :: -1] # reversing your string"
   ]
  },
  {
   "cell_type": "code",
   "execution_count": 70,
   "id": "4aa02d7c-1743-4f7b-8e89-02ecccd0498a",
   "metadata": {},
   "outputs": [],
   "source": [
    "st = st + ' Noida'"
   ]
  },
  {
   "cell_type": "code",
   "execution_count": 71,
   "id": "3d748f60-4027-4946-ae85-9583dccf65f2",
   "metadata": {},
   "outputs": [
    {
     "data": {
      "text/plain": [
       "'Training Basket Noida'"
      ]
     },
     "execution_count": 71,
     "metadata": {},
     "output_type": "execute_result"
    }
   ],
   "source": [
    "st"
   ]
  },
  {
   "cell_type": "code",
   "execution_count": 72,
   "id": "d99fde0a-e7ef-4fd6-b3d5-f586b9d5eab4",
   "metadata": {},
   "outputs": [
    {
     "data": {
      "text/plain": [
       "['Training', 'Basket', 'Noida']"
      ]
     },
     "execution_count": 72,
     "metadata": {},
     "output_type": "execute_result"
    }
   ],
   "source": [
    "st.split()"
   ]
  },
  {
   "cell_type": "code",
   "execution_count": 74,
   "id": "e4aca8bf-9232-47aa-994c-e17734769b3d",
   "metadata": {},
   "outputs": [
    {
     "data": {
      "text/plain": [
       "['Training ', 'sket Noida']"
      ]
     },
     "execution_count": 74,
     "metadata": {},
     "output_type": "execute_result"
    }
   ],
   "source": [
    "st.split('Ba')"
   ]
  },
  {
   "cell_type": "code",
   "execution_count": 75,
   "id": "e7742005-e741-44e9-980f-e4b465be0596",
   "metadata": {},
   "outputs": [
    {
     "data": {
      "text/plain": [
       "['Tra', 'n', 'ng Basket No', 'da']"
      ]
     },
     "execution_count": 75,
     "metadata": {},
     "output_type": "execute_result"
    }
   ],
   "source": [
    "st.split('i')"
   ]
  },
  {
   "cell_type": "code",
   "execution_count": 76,
   "id": "dd94f098-f382-4660-836e-fe7c3f21323b",
   "metadata": {},
   "outputs": [
    {
     "data": {
      "text/plain": [
       "'Tushar'"
      ]
     },
     "execution_count": 76,
     "metadata": {},
     "output_type": "execute_result"
    }
   ],
   "source": [
    "'   Tushar'.strip()"
   ]
  },
  {
   "cell_type": "code",
   "execution_count": 109,
   "id": "1a568f2c-d124-47af-be2e-4a473a50fd73",
   "metadata": {},
   "outputs": [],
   "source": [
    "# Format string : \n",
    "# F- string : "
   ]
  },
  {
   "cell_type": "code",
   "execution_count": 77,
   "id": "19a885c8-964a-425a-a554-b00de7d58259",
   "metadata": {},
   "outputs": [
    {
     "name": "stdout",
     "output_type": "stream",
     "text": [
      "Hello my name is Anirudh Training Basket Noida\n"
     ]
    }
   ],
   "source": [
    "print(\"Hello my name is {} {}\".format(c, st))"
   ]
  },
  {
   "cell_type": "code",
   "execution_count": 79,
   "id": "5d060019-848b-48ca-bc34-8668a3dceea5",
   "metadata": {},
   "outputs": [
    {
     "name": "stdout",
     "output_type": "stream",
     "text": [
      "Hello my name is ('Anirudh', 5) Training Basket Noida\n"
     ]
    }
   ],
   "source": [
    "print(F'Hello my name is {c, a} {st}')"
   ]
  },
  {
   "cell_type": "code",
   "execution_count": 117,
   "id": "1cd7e269-2e8f-4586-b7ba-0dff141b5892",
   "metadata": {},
   "outputs": [
    {
     "data": {
      "text/plain": [
       "'Training Basket Noida'"
      ]
     },
     "execution_count": 117,
     "metadata": {},
     "output_type": "execute_result"
    }
   ],
   "source": [
    "st "
   ]
  },
  {
   "cell_type": "code",
   "execution_count": 123,
   "id": "66ff12d2-3b82-42ec-9df2-0e35ff573512",
   "metadata": {},
   "outputs": [
    {
     "data": {
      "text/plain": [
       "2"
      ]
     },
     "execution_count": 123,
     "metadata": {},
     "output_type": "execute_result"
    }
   ],
   "source": [
    "st.count('in')"
   ]
  },
  {
   "cell_type": "code",
   "execution_count": 124,
   "id": "32f64557-5c38-4762-9b89-8e84b0f8db3f",
   "metadata": {},
   "outputs": [
    {
     "data": {
      "text/plain": [
       "2"
      ]
     },
     "execution_count": 124,
     "metadata": {},
     "output_type": "execute_result"
    }
   ],
   "source": [
    "st.count('n')"
   ]
  },
  {
   "cell_type": "code",
   "execution_count": 80,
   "id": "a766bf58-d0fc-48fd-b962-1e5f131faedc",
   "metadata": {},
   "outputs": [],
   "source": [
    "st = st.replace('Basket', 'Session')"
   ]
  },
  {
   "cell_type": "code",
   "execution_count": 81,
   "id": "bc3ad168-a405-4d5b-9da5-42d3133bf48d",
   "metadata": {},
   "outputs": [
    {
     "data": {
      "text/plain": [
       "'Training Session Noida'"
      ]
     },
     "execution_count": 81,
     "metadata": {},
     "output_type": "execute_result"
    }
   ],
   "source": [
    "st"
   ]
  },
  {
   "cell_type": "code",
   "execution_count": 131,
   "id": "ab272936-8898-4f81-8157-a2bd9e321dd5",
   "metadata": {},
   "outputs": [],
   "source": [
    "st = st.upper()"
   ]
  },
  {
   "cell_type": "code",
   "execution_count": 132,
   "id": "4ac9e265-e0cc-454b-b030-815746fd2b55",
   "metadata": {},
   "outputs": [
    {
     "data": {
      "text/plain": [
       "'training session noida'"
      ]
     },
     "execution_count": 132,
     "metadata": {},
     "output_type": "execute_result"
    }
   ],
   "source": [
    "st.lower()"
   ]
  },
  {
   "cell_type": "code",
   "execution_count": 133,
   "id": "a38cd7da-b529-4107-bcac-03d95834b780",
   "metadata": {},
   "outputs": [],
   "source": [
    "st = 'Training Session Noida'"
   ]
  },
  {
   "cell_type": "code",
   "execution_count": 136,
   "id": "2e85d5a1-02b1-489f-988c-4ec3f03c8d65",
   "metadata": {},
   "outputs": [],
   "source": [
    "st = st.swapcase()"
   ]
  },
  {
   "cell_type": "code",
   "execution_count": 137,
   "id": "4d38db0c-b108-477e-8c77-1ee99332b2d6",
   "metadata": {},
   "outputs": [
    {
     "data": {
      "text/plain": [
       "'tRAINING sESSION nOIDA'"
      ]
     },
     "execution_count": 137,
     "metadata": {},
     "output_type": "execute_result"
    }
   ],
   "source": [
    "st"
   ]
  },
  {
   "cell_type": "code",
   "execution_count": 138,
   "id": "9923161b-cc91-4d3c-9cbf-eba8bda2cfce",
   "metadata": {},
   "outputs": [
    {
     "data": {
      "text/plain": [
       "'Training session noida'"
      ]
     },
     "execution_count": 138,
     "metadata": {},
     "output_type": "execute_result"
    }
   ],
   "source": [
    "st.capitalize()"
   ]
  },
  {
   "cell_type": "code",
   "execution_count": 144,
   "id": "cdf0db68-a050-46d4-9645-8800c875fe00",
   "metadata": {},
   "outputs": [
    {
     "data": {
      "text/plain": [
       "\u001b[1;31mDocstring:\u001b[0m\n",
       "S.find(sub[, start[, end]]) -> int\n",
       "\n",
       "Return the lowest index in S where substring sub is found,\n",
       "such that sub is contained within S[start:end].  Optional\n",
       "arguments start and end are interpreted as in slice notation.\n",
       "\n",
       "Return -1 on failure.\n",
       "\u001b[1;31mType:\u001b[0m      builtin_function_or_method"
      ]
     },
     "metadata": {},
     "output_type": "display_data"
    }
   ],
   "source": [
    "st.find?"
   ]
  },
  {
   "cell_type": "code",
   "execution_count": 145,
   "id": "74d4cf33-4665-4ca5-9eb4-1b54406f9fb1",
   "metadata": {},
   "outputs": [],
   "source": [
    "st = st.swapcase()"
   ]
  },
  {
   "cell_type": "code",
   "execution_count": 146,
   "id": "4107ae63-c785-49ea-80fe-7ef4e5d0be39",
   "metadata": {},
   "outputs": [
    {
     "data": {
      "text/plain": [
       "'Training Session Noida'"
      ]
     },
     "execution_count": 146,
     "metadata": {},
     "output_type": "execute_result"
    }
   ],
   "source": [
    "st"
   ]
  },
  {
   "cell_type": "code",
   "execution_count": 147,
   "id": "e98b8698-7abb-45d5-8f3e-5dd190aecd76",
   "metadata": {},
   "outputs": [
    {
     "data": {
      "text/plain": [
       "4"
      ]
     },
     "execution_count": 147,
     "metadata": {},
     "output_type": "execute_result"
    }
   ],
   "source": [
    "st.find('n')"
   ]
  },
  {
   "cell_type": "code",
   "execution_count": 148,
   "id": "b7f05251-1007-4d21-b8fd-4912f246bd0f",
   "metadata": {},
   "outputs": [
    {
     "data": {
      "text/plain": [
       "False"
      ]
     },
     "execution_count": 148,
     "metadata": {},
     "output_type": "execute_result"
    }
   ],
   "source": [
    "st.isdigit()"
   ]
  },
  {
   "cell_type": "code",
   "execution_count": 149,
   "id": "4b93f438-52f3-44a2-8779-852fef734540",
   "metadata": {},
   "outputs": [
    {
     "data": {
      "text/plain": [
       "False"
      ]
     },
     "execution_count": 149,
     "metadata": {},
     "output_type": "execute_result"
    }
   ],
   "source": [
    "st.isalpha()"
   ]
  },
  {
   "cell_type": "code",
   "execution_count": 150,
   "id": "501c9c61-3336-4573-bb4c-cf99930fc469",
   "metadata": {},
   "outputs": [
    {
     "data": {
      "text/plain": [
       "'Training Session Noida'"
      ]
     },
     "execution_count": 150,
     "metadata": {},
     "output_type": "execute_result"
    }
   ],
   "source": [
    "st"
   ]
  },
  {
   "cell_type": "code",
   "execution_count": 151,
   "id": "ad7b991b-f82c-401e-88e7-4e2d54367d4f",
   "metadata": {},
   "outputs": [
    {
     "data": {
      "text/plain": [
       "True"
      ]
     },
     "execution_count": 151,
     "metadata": {},
     "output_type": "execute_result"
    }
   ],
   "source": [
    "'TrainingSessionNoida'.isalpha()"
   ]
  },
  {
   "cell_type": "code",
   "execution_count": 155,
   "id": "7c8404e5-740c-4aaa-9333-0ab9f99c19ae",
   "metadata": {},
   "outputs": [
    {
     "data": {
      "text/plain": [
       "True"
      ]
     },
     "execution_count": 155,
     "metadata": {},
     "output_type": "execute_result"
    }
   ],
   "source": [
    "'345234234235'.isdigit()"
   ]
  },
  {
   "cell_type": "code",
   "execution_count": 156,
   "id": "4ea60e5c-e6ff-4cc7-82f2-62d7d6436dd3",
   "metadata": {},
   "outputs": [
    {
     "data": {
      "text/plain": [
       "True"
      ]
     },
     "execution_count": 156,
     "metadata": {},
     "output_type": "execute_result"
    }
   ],
   "source": [
    "st.endswith('a')"
   ]
  },
  {
   "cell_type": "code",
   "execution_count": 157,
   "id": "bbba020b-4e2c-441b-8ec0-9cafdc1a98c5",
   "metadata": {},
   "outputs": [
    {
     "data": {
      "text/plain": [
       "True"
      ]
     },
     "execution_count": 157,
     "metadata": {},
     "output_type": "execute_result"
    }
   ],
   "source": [
    "st.endswith('da')"
   ]
  },
  {
   "cell_type": "code",
   "execution_count": 158,
   "id": "bc69bad5-65c8-436f-8dda-5d487eaa67b4",
   "metadata": {},
   "outputs": [
    {
     "data": {
      "text/plain": [
       "False"
      ]
     },
     "execution_count": 158,
     "metadata": {},
     "output_type": "execute_result"
    }
   ],
   "source": [
    "st.endswith('Session')"
   ]
  },
  {
   "cell_type": "code",
   "execution_count": 160,
   "id": "545a7a2a-8e5b-4693-bef7-e9595554b94c",
   "metadata": {},
   "outputs": [
    {
     "data": {
      "text/plain": [
       "('Training', ' ', 'Session Noida')"
      ]
     },
     "execution_count": 160,
     "metadata": {},
     "output_type": "execute_result"
    }
   ],
   "source": [
    "st.partition(' ')"
   ]
  },
  {
   "cell_type": "code",
   "execution_count": 161,
   "id": "922212c2-a00d-493d-a52d-d9c845b0e5ba",
   "metadata": {},
   "outputs": [
    {
     "data": {
      "text/plain": [
       "['Training', 'Session', 'Noida']"
      ]
     },
     "execution_count": 161,
     "metadata": {},
     "output_type": "execute_result"
    }
   ],
   "source": [
    "st.split()"
   ]
  },
  {
   "cell_type": "code",
   "execution_count": 166,
   "id": "88f0be80-ce3f-497c-9c5a-c5e9309fe14b",
   "metadata": {},
   "outputs": [
    {
     "data": {
      "text/plain": [
       "'Hello'"
      ]
     },
     "execution_count": 166,
     "metadata": {},
     "output_type": "execute_result"
    }
   ],
   "source": [
    "''.join('Hello')"
   ]
  },
  {
   "cell_type": "code",
   "execution_count": null,
   "id": "3e1a5402-0847-4e69-b919-26bb84dd1211",
   "metadata": {},
   "outputs": [],
   "source": []
  },
  {
   "cell_type": "code",
   "execution_count": 53,
   "id": "68fb600a-6929-4778-acee-029f3b8a1d3d",
   "metadata": {},
   "outputs": [
    {
     "name": "stdout",
     "output_type": "stream",
     "text": [
      "2.2\n"
     ]
    }
   ],
   "source": [
    "print(a % b)"
   ]
  }
 ],
 "metadata": {
  "kernelspec": {
   "display_name": "Python 3 (ipykernel)",
   "language": "python",
   "name": "python3"
  },
  "language_info": {
   "codemirror_mode": {
    "name": "ipython",
    "version": 3
   },
   "file_extension": ".py",
   "mimetype": "text/x-python",
   "name": "python",
   "nbconvert_exporter": "python",
   "pygments_lexer": "ipython3",
   "version": "3.12.7"
  }
 },
 "nbformat": 4,
 "nbformat_minor": 5
}
