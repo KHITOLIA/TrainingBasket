{
 "cells": [
  {
   "cell_type": "markdown",
   "id": "9f415069-6a8d-48cd-bc87-764e831d4c04",
   "metadata": {},
   "source": [
    "# Sets : collection of unique elements"
   ]
  },
  {
   "cell_type": "code",
   "execution_count": 3,
   "id": "bfb4e4ed-0d19-4bf6-b44e-50e43a08bd12",
   "metadata": {},
   "outputs": [],
   "source": [
    "s = {}"
   ]
  },
  {
   "cell_type": "code",
   "execution_count": 4,
   "id": "79a47c3a-c909-4882-8452-a926d130610a",
   "metadata": {},
   "outputs": [
    {
     "data": {
      "text/plain": [
       "dict"
      ]
     },
     "execution_count": 4,
     "metadata": {},
     "output_type": "execute_result"
    }
   ],
   "source": [
    "type(s)"
   ]
  },
  {
   "cell_type": "code",
   "execution_count": 7,
   "id": "8215c4e1-1c88-4edd-88c5-a76373dcac0e",
   "metadata": {},
   "outputs": [],
   "source": [
    "s = {1, 2, 4.5, 'Vansh',1, 1, 2, 2, 3, 3, 3, 4, 4, 5.5, 4.5}"
   ]
  },
  {
   "cell_type": "code",
   "execution_count": 8,
   "id": "37cbdb3e-c2b5-4968-8adf-4466a1ec4a58",
   "metadata": {},
   "outputs": [
    {
     "data": {
      "text/plain": [
       "{1, 2, 3, 4, 4.5, 5.5, 'Vansh'}"
      ]
     },
     "execution_count": 8,
     "metadata": {},
     "output_type": "execute_result"
    }
   ],
   "source": [
    "s"
   ]
  },
  {
   "cell_type": "code",
   "execution_count": 11,
   "id": "fcee8c27-36fe-414d-ae15-f161a25022b4",
   "metadata": {},
   "outputs": [
    {
     "data": {
      "text/plain": [
       "{1, 2, 3, 4, 4.5, 5.5, 'Vansh'}"
      ]
     },
     "execution_count": 11,
     "metadata": {},
     "output_type": "execute_result"
    }
   ],
   "source": [
    "s"
   ]
  },
  {
   "cell_type": "code",
   "execution_count": 23,
   "id": "20957d24-f11f-4c87-a9b1-9f24387890e0",
   "metadata": {},
   "outputs": [],
   "source": [
    "s1 = {1, 2, 3, 4, 3, 4, 5, 6, 6, 6, 7}"
   ]
  },
  {
   "cell_type": "code",
   "execution_count": 13,
   "id": "569e1e0f-673e-4866-a4c8-a8549895c13b",
   "metadata": {},
   "outputs": [],
   "source": [
    "s2 = {2, 2, 2, 3, 3, 4, 1, 1, 5, 6, 6, 9}"
   ]
  },
  {
   "cell_type": "code",
   "execution_count": 14,
   "id": "10a2a8f7-d5a8-4c96-9246-d8fc40bb9ae1",
   "metadata": {},
   "outputs": [],
   "source": [
    "s1.add(6)"
   ]
  },
  {
   "cell_type": "code",
   "execution_count": 15,
   "id": "e92ce76b-95dd-49b7-9e30-691f0ff06420",
   "metadata": {},
   "outputs": [
    {
     "data": {
      "text/plain": [
       "{1, 2, 3, 4, 5, 6, 7}"
      ]
     },
     "execution_count": 15,
     "metadata": {},
     "output_type": "execute_result"
    }
   ],
   "source": [
    "s1"
   ]
  },
  {
   "cell_type": "code",
   "execution_count": 16,
   "id": "b789a252-843d-4b7c-8975-6898389b64b8",
   "metadata": {},
   "outputs": [],
   "source": [
    "s1.add(10)"
   ]
  },
  {
   "cell_type": "code",
   "execution_count": 17,
   "id": "45a3cd82-7bab-49a9-8e43-d77615e92c54",
   "metadata": {},
   "outputs": [
    {
     "data": {
      "text/plain": [
       "{1, 2, 3, 4, 5, 6, 7, 10}"
      ]
     },
     "execution_count": 17,
     "metadata": {},
     "output_type": "execute_result"
    }
   ],
   "source": [
    "s1"
   ]
  },
  {
   "cell_type": "code",
   "execution_count": 18,
   "id": "b642fccf-3b04-40ef-b7bb-d4ed512677e9",
   "metadata": {},
   "outputs": [
    {
     "data": {
      "text/plain": [
       "8"
      ]
     },
     "execution_count": 18,
     "metadata": {},
     "output_type": "execute_result"
    }
   ],
   "source": [
    "len(s1)"
   ]
  },
  {
   "cell_type": "code",
   "execution_count": 19,
   "id": "1c8c3a3d-d331-426b-8132-7d8602c747ec",
   "metadata": {},
   "outputs": [],
   "source": [
    "s1.clear()"
   ]
  },
  {
   "cell_type": "code",
   "execution_count": 20,
   "id": "db3b7f20-1c1f-4dff-b89d-4dfff0d26426",
   "metadata": {},
   "outputs": [
    {
     "data": {
      "text/plain": [
       "set()"
      ]
     },
     "execution_count": 20,
     "metadata": {},
     "output_type": "execute_result"
    }
   ],
   "source": [
    "s1"
   ]
  },
  {
   "cell_type": "code",
   "execution_count": 21,
   "id": "298e30c1-85a6-482c-92e2-352653da1631",
   "metadata": {},
   "outputs": [
    {
     "data": {
      "text/plain": [
       "set"
      ]
     },
     "execution_count": 21,
     "metadata": {},
     "output_type": "execute_result"
    }
   ],
   "source": [
    "type(s1)"
   ]
  },
  {
   "cell_type": "code",
   "execution_count": 22,
   "id": "750e5242-db71-4190-ade9-19ef4c0acc24",
   "metadata": {},
   "outputs": [],
   "source": [
    "s1 = {}"
   ]
  },
  {
   "cell_type": "code",
   "execution_count": 24,
   "id": "45e59893-539d-4ebb-8b65-e486fa962c71",
   "metadata": {},
   "outputs": [
    {
     "data": {
      "text/plain": [
       "set"
      ]
     },
     "execution_count": 24,
     "metadata": {},
     "output_type": "execute_result"
    }
   ],
   "source": [
    "type(s1)"
   ]
  },
  {
   "cell_type": "code",
   "execution_count": 25,
   "id": "2825dbac-6cd8-4ef9-bcbb-852469e883d0",
   "metadata": {},
   "outputs": [],
   "source": [
    "s3 = s1.copy()"
   ]
  },
  {
   "cell_type": "code",
   "execution_count": 26,
   "id": "1f5f2d57-8316-4101-8ef5-65845c0e098c",
   "metadata": {},
   "outputs": [
    {
     "data": {
      "text/plain": [
       "{1, 2, 3, 4, 5, 6, 7}"
      ]
     },
     "execution_count": 26,
     "metadata": {},
     "output_type": "execute_result"
    }
   ],
   "source": [
    "s1"
   ]
  },
  {
   "cell_type": "code",
   "execution_count": 27,
   "id": "7cd9d5f0-9cd5-4757-8558-cae62a92beab",
   "metadata": {},
   "outputs": [
    {
     "data": {
      "text/plain": [
       "{7}"
      ]
     },
     "execution_count": 27,
     "metadata": {},
     "output_type": "execute_result"
    }
   ],
   "source": [
    "s1.difference(s2)"
   ]
  },
  {
   "cell_type": "code",
   "execution_count": 28,
   "id": "50fa78aa-66a5-4d4f-9b57-f03df09c24b2",
   "metadata": {},
   "outputs": [
    {
     "data": {
      "text/plain": [
       "{7}"
      ]
     },
     "execution_count": 28,
     "metadata": {},
     "output_type": "execute_result"
    }
   ],
   "source": [
    "s1-s2"
   ]
  },
  {
   "cell_type": "code",
   "execution_count": 32,
   "id": "51dbae0c-850c-4252-abf6-f6a4c2bc65a8",
   "metadata": {},
   "outputs": [
    {
     "data": {
      "text/plain": [
       "False"
      ]
     },
     "execution_count": 32,
     "metadata": {},
     "output_type": "execute_result"
    }
   ],
   "source": [
    "s1.difference(s2) == s2 - s2.intersection(s1)"
   ]
  },
  {
   "cell_type": "code",
   "execution_count": 33,
   "id": "6163657a-254e-4627-b16d-cab37db24488",
   "metadata": {},
   "outputs": [],
   "source": [
    "s1.discard(3)"
   ]
  },
  {
   "cell_type": "code",
   "execution_count": 34,
   "id": "23aae6a3-5b7f-4cad-84a8-a52027f25539",
   "metadata": {},
   "outputs": [
    {
     "data": {
      "text/plain": [
       "{1, 2, 4, 5, 6, 7}"
      ]
     },
     "execution_count": 34,
     "metadata": {},
     "output_type": "execute_result"
    }
   ],
   "source": [
    "s1"
   ]
  },
  {
   "cell_type": "code",
   "execution_count": 35,
   "id": "648e1a1d-3928-44bf-8226-4cc11b072e75",
   "metadata": {},
   "outputs": [],
   "source": [
    "s1.remove(1)"
   ]
  },
  {
   "cell_type": "code",
   "execution_count": 36,
   "id": "4c2a4900-8479-4d46-b44f-1b788cce75f0",
   "metadata": {},
   "outputs": [
    {
     "data": {
      "text/plain": [
       "{2, 4, 5, 6, 7}"
      ]
     },
     "execution_count": 36,
     "metadata": {},
     "output_type": "execute_result"
    }
   ],
   "source": [
    "s1"
   ]
  },
  {
   "cell_type": "code",
   "execution_count": 37,
   "id": "18739d44-047f-41db-86fa-84bc82d43853",
   "metadata": {},
   "outputs": [],
   "source": [
    "s1.discard(20)"
   ]
  },
  {
   "cell_type": "code",
   "execution_count": 38,
   "id": "67121a87-d61a-4e51-b3c2-06fcb8bd5a5f",
   "metadata": {},
   "outputs": [
    {
     "ename": "KeyError",
     "evalue": "20",
     "output_type": "error",
     "traceback": [
      "\u001b[1;31m---------------------------------------------------------------------------\u001b[0m",
      "\u001b[1;31mKeyError\u001b[0m                                  Traceback (most recent call last)",
      "Cell \u001b[1;32mIn[38], line 1\u001b[0m\n\u001b[1;32m----> 1\u001b[0m s1\u001b[38;5;241m.\u001b[39mremove(\u001b[38;5;241m20\u001b[39m)\n",
      "\u001b[1;31mKeyError\u001b[0m: 20"
     ]
    }
   ],
   "source": [
    "s1.remove(20)"
   ]
  },
  {
   "cell_type": "code",
   "execution_count": 39,
   "id": "02f2b594-5bc2-43ec-9b60-a16a43a5a96b",
   "metadata": {},
   "outputs": [
    {
     "data": {
      "text/plain": [
       "{2, 4, 5, 6, 7}"
      ]
     },
     "execution_count": 39,
     "metadata": {},
     "output_type": "execute_result"
    }
   ],
   "source": [
    "s1"
   ]
  },
  {
   "cell_type": "code",
   "execution_count": 40,
   "id": "ce87d848-bfdb-458a-944a-ad08b883fac7",
   "metadata": {},
   "outputs": [
    {
     "data": {
      "text/plain": [
       "{1, 2, 3, 4, 5, 6, 9}"
      ]
     },
     "execution_count": 40,
     "metadata": {},
     "output_type": "execute_result"
    }
   ],
   "source": [
    "s2"
   ]
  },
  {
   "cell_type": "code",
   "execution_count": 41,
   "id": "8f78effb-b08c-40ee-bfd0-8a7b2bc32c1a",
   "metadata": {},
   "outputs": [
    {
     "data": {
      "text/plain": [
       "{1, 2, 3, 4, 5, 6, 7, 9}"
      ]
     },
     "execution_count": 41,
     "metadata": {},
     "output_type": "execute_result"
    }
   ],
   "source": [
    "s1.union(s2)"
   ]
  },
  {
   "cell_type": "code",
   "execution_count": 42,
   "id": "68db6080-032f-4449-b978-406f02681d5e",
   "metadata": {},
   "outputs": [
    {
     "data": {
      "text/plain": [
       "{1, 2, 3, 4, 5, 6, 7, 9}"
      ]
     },
     "execution_count": 42,
     "metadata": {},
     "output_type": "execute_result"
    }
   ],
   "source": [
    "s2.union(s1)"
   ]
  },
  {
   "cell_type": "code",
   "execution_count": 43,
   "id": "764331b1-382e-40db-956e-6104522d9ebf",
   "metadata": {},
   "outputs": [
    {
     "data": {
      "text/plain": [
       "{1, 3, 7, 9}"
      ]
     },
     "execution_count": 43,
     "metadata": {},
     "output_type": "execute_result"
    }
   ],
   "source": [
    "s1.symmetric_difference(s2)"
   ]
  },
  {
   "cell_type": "code",
   "execution_count": 44,
   "id": "2559d66b-3410-4f18-b01a-bd79857f34f1",
   "metadata": {},
   "outputs": [
    {
     "data": {
      "text/plain": [
       "{7}"
      ]
     },
     "execution_count": 44,
     "metadata": {},
     "output_type": "execute_result"
    }
   ],
   "source": [
    "s1-s2"
   ]
  },
  {
   "cell_type": "code",
   "execution_count": 45,
   "id": "ef0bf747-385c-4d8f-9fac-8bb3f9432bd3",
   "metadata": {},
   "outputs": [
    {
     "data": {
      "text/plain": [
       "{2, 4, 5, 6, 7}"
      ]
     },
     "execution_count": 45,
     "metadata": {},
     "output_type": "execute_result"
    }
   ],
   "source": [
    "s1"
   ]
  },
  {
   "cell_type": "code",
   "execution_count": 46,
   "id": "30b02089-d202-4141-b107-a05014451c45",
   "metadata": {},
   "outputs": [
    {
     "data": {
      "text/plain": [
       "{1, 2, 3, 4, 5, 6, 9}"
      ]
     },
     "execution_count": 46,
     "metadata": {},
     "output_type": "execute_result"
    }
   ],
   "source": [
    "s2"
   ]
  },
  {
   "cell_type": "code",
   "execution_count": 48,
   "id": "9e386ca7-3467-4c8f-9033-d6ff28c49812",
   "metadata": {},
   "outputs": [
    {
     "data": {
      "text/plain": [
       "{2, 4, 5, 6, 7}"
      ]
     },
     "execution_count": 48,
     "metadata": {},
     "output_type": "execute_result"
    }
   ],
   "source": [
    "s1"
   ]
  },
  {
   "cell_type": "code",
   "execution_count": 49,
   "id": "eecb8543-6843-47bb-85c1-bc1ee3d9b879",
   "metadata": {},
   "outputs": [
    {
     "data": {
      "text/plain": [
       "set"
      ]
     },
     "execution_count": 49,
     "metadata": {},
     "output_type": "execute_result"
    }
   ],
   "source": [
    "type(s1)"
   ]
  },
  {
   "cell_type": "code",
   "execution_count": 50,
   "id": "44b9f8d0-adfb-432f-961a-0e1ee116b8bf",
   "metadata": {},
   "outputs": [],
   "source": [
    "s1 = list(s1)"
   ]
  },
  {
   "cell_type": "code",
   "execution_count": 51,
   "id": "c75dc788-202e-49bf-b006-41d233f3c150",
   "metadata": {},
   "outputs": [
    {
     "data": {
      "text/plain": [
       "list"
      ]
     },
     "execution_count": 51,
     "metadata": {},
     "output_type": "execute_result"
    }
   ],
   "source": [
    "type(s1)"
   ]
  },
  {
   "cell_type": "code",
   "execution_count": 52,
   "id": "54ee4690-1080-4323-9f23-013fdfdbef2d",
   "metadata": {},
   "outputs": [
    {
     "data": {
      "text/plain": [
       "[2, 4, 5, 6, 7]"
      ]
     },
     "execution_count": 52,
     "metadata": {},
     "output_type": "execute_result"
    }
   ],
   "source": [
    "s1"
   ]
  },
  {
   "cell_type": "code",
   "execution_count": 53,
   "id": "c223af48-17ea-44ab-931c-9147473c92f4",
   "metadata": {},
   "outputs": [
    {
     "data": {
      "text/plain": [
       "5"
      ]
     },
     "execution_count": 53,
     "metadata": {},
     "output_type": "execute_result"
    }
   ],
   "source": [
    "s1[2]"
   ]
  },
  {
   "cell_type": "code",
   "execution_count": 54,
   "id": "4c7059dd-851b-48b2-9f71-f5183964e0d4",
   "metadata": {},
   "outputs": [],
   "source": [
    "s1 = tuple(s1)"
   ]
  },
  {
   "cell_type": "code",
   "execution_count": 55,
   "id": "56af4e49-e6a3-45e7-8621-3610f57396b5",
   "metadata": {},
   "outputs": [
    {
     "data": {
      "text/plain": [
       "tuple"
      ]
     },
     "execution_count": 55,
     "metadata": {},
     "output_type": "execute_result"
    }
   ],
   "source": [
    "type(s1)"
   ]
  },
  {
   "cell_type": "code",
   "execution_count": 56,
   "id": "815f03d2-751c-40b9-80cd-9821c1ff1f05",
   "metadata": {},
   "outputs": [
    {
     "data": {
      "text/plain": [
       "6"
      ]
     },
     "execution_count": 56,
     "metadata": {},
     "output_type": "execute_result"
    }
   ],
   "source": [
    "s1[3]"
   ]
  },
  {
   "cell_type": "code",
   "execution_count": 58,
   "id": "c8005d85-eb36-4360-887c-9feb7e707fb7",
   "metadata": {},
   "outputs": [
    {
     "data": {
      "text/plain": [
       "'23'"
      ]
     },
     "execution_count": 58,
     "metadata": {},
     "output_type": "execute_result"
    }
   ],
   "source": [
    "a = 23\n",
    "a = str(a)\n",
    "a"
   ]
  },
  {
   "cell_type": "code",
   "execution_count": 59,
   "id": "76d0dad0-c8b4-4233-b589-1bcf19eeae01",
   "metadata": {},
   "outputs": [],
   "source": [
    "a = int(a)"
   ]
  },
  {
   "cell_type": "code",
   "execution_count": 60,
   "id": "67f9c41c-dcef-4bc5-bc8b-4e1a9802ff9c",
   "metadata": {},
   "outputs": [
    {
     "data": {
      "text/plain": [
       "23"
      ]
     },
     "execution_count": 60,
     "metadata": {},
     "output_type": "execute_result"
    }
   ],
   "source": [
    "a"
   ]
  },
  {
   "cell_type": "code",
   "execution_count": 61,
   "id": "4029e350-fd5f-4c61-9532-eccd8e43817a",
   "metadata": {},
   "outputs": [],
   "source": [
    "a = 'Anirudh'"
   ]
  },
  {
   "cell_type": "code",
   "execution_count": 62,
   "id": "6c56a3fb-3883-4ee1-9f84-cf472640f46c",
   "metadata": {},
   "outputs": [
    {
     "ename": "ValueError",
     "evalue": "invalid literal for int() with base 10: 'Anirudh'",
     "output_type": "error",
     "traceback": [
      "\u001b[1;31m---------------------------------------------------------------------------\u001b[0m",
      "\u001b[1;31mValueError\u001b[0m                                Traceback (most recent call last)",
      "Cell \u001b[1;32mIn[62], line 1\u001b[0m\n\u001b[1;32m----> 1\u001b[0m a \u001b[38;5;241m=\u001b[39m \u001b[38;5;28mint\u001b[39m(a)\n",
      "\u001b[1;31mValueError\u001b[0m: invalid literal for int() with base 10: 'Anirudh'"
     ]
    }
   ],
   "source": [
    "a = int(a)"
   ]
  },
  {
   "cell_type": "code",
   "execution_count": 64,
   "id": "2cfaf58b-0568-4abf-8c18-7ddc36d5710d",
   "metadata": {},
   "outputs": [],
   "source": [
    "# int\n",
    "# float\n",
    "# str\n",
    "# list\n",
    "# tuple\n",
    "# dict\n",
    "# set"
   ]
  },
  {
   "cell_type": "code",
   "execution_count": 74,
   "id": "5776e4a2-f64f-4e07-8523-3cdbafda8f8e",
   "metadata": {},
   "outputs": [
    {
     "name": "stdin",
     "output_type": "stream",
     "text": [
      "enter the number =  8.0\n"
     ]
    }
   ],
   "source": [
    "a = float(input(\"enter the number = \"))"
   ]
  },
  {
   "cell_type": "code",
   "execution_count": 69,
   "id": "4fb645b3-5b10-4673-a6d3-5f61c8d60bde",
   "metadata": {},
   "outputs": [
    {
     "data": {
      "text/plain": [
       "3489"
      ]
     },
     "execution_count": 69,
     "metadata": {},
     "output_type": "execute_result"
    }
   ],
   "source": [
    "a"
   ]
  },
  {
   "cell_type": "code",
   "execution_count": 70,
   "id": "e2061f2f-fa87-49c9-a7e8-a4f01484e781",
   "metadata": {},
   "outputs": [
    {
     "data": {
      "text/plain": [
       "int"
      ]
     },
     "execution_count": 70,
     "metadata": {},
     "output_type": "execute_result"
    }
   ],
   "source": [
    "type(a)"
   ]
  },
  {
   "cell_type": "markdown",
   "id": "30018ed9-f42a-429f-b9b7-91f4a293180c",
   "metadata": {},
   "source": [
    "# Conditional Statements : \n",
    "1. If\n",
    "2. Elif\n",
    "3. Else"
   ]
  },
  {
   "cell_type": "code",
   "execution_count": 77,
   "id": "7019df11-66b1-4e00-86f2-8127ccc7d4aa",
   "metadata": {},
   "outputs": [
    {
     "name": "stdin",
     "output_type": "stream",
     "text": [
      "enter the value of a =  6\n"
     ]
    }
   ],
   "source": [
    "a = int(input(\"enter the value of a = \"))"
   ]
  },
  {
   "cell_type": "code",
   "execution_count": 78,
   "id": "7bdbc1e3-bb8b-4dfe-9541-12f54df70c10",
   "metadata": {},
   "outputs": [
    {
     "name": "stdout",
     "output_type": "stream",
     "text": [
      "Hi\n"
     ]
    }
   ],
   "source": [
    "if a > 20:\n",
    "    print(\"Hello\")\n",
    "elif a < 10:\n",
    "    print(\"Hi\")"
   ]
  },
  {
   "cell_type": "code",
   "execution_count": 79,
   "id": "e7712313-eec6-4c58-a6c7-d2abc09ecba3",
   "metadata": {},
   "outputs": [
    {
     "name": "stdout",
     "output_type": "stream",
     "text": [
      "Go\n"
     ]
    }
   ],
   "source": [
    "if a > 20:\n",
    "    print(\"Hello\")\n",
    "elif a > 10:\n",
    "    print(\"Hi\")\n",
    "else:\n",
    "    print('Go')"
   ]
  },
  {
   "cell_type": "code",
   "execution_count": 82,
   "id": "ac0adef9-0ec3-4d03-be09-6ead8e10cc4c",
   "metadata": {},
   "outputs": [
    {
     "name": "stdout",
     "output_type": "stream",
     "text": [
      "tushar\n",
      "chal gya\n"
     ]
    }
   ],
   "source": [
    "if a > 20:\n",
    "    print(\"Hello\")\n",
    "    \n",
    "elif a > 10:\n",
    "    print(\"Hi\")\n",
    "\n",
    "if a > 3:\n",
    "    print('tushar')\n",
    "    \n",
    "if a < 3:\n",
    "    print(\"anirudh\")\n",
    "    \n",
    "elif a > 2:\n",
    "    print(\"chal gya\")\n",
    "    \n",
    "else:\n",
    "    print('Go')"
   ]
  },
  {
   "cell_type": "code",
   "execution_count": 83,
   "id": "5cbaafdd-f9e9-4fb8-a463-5fd05b0ca629",
   "metadata": {},
   "outputs": [],
   "source": [
    "# check whether a number is even or odd"
   ]
  },
  {
   "cell_type": "code",
   "execution_count": 84,
   "id": "6707931f-5aff-43f7-92e9-4d251b284aed",
   "metadata": {},
   "outputs": [
    {
     "name": "stdin",
     "output_type": "stream",
     "text": [
      "enter the number= 98\n"
     ]
    },
    {
     "name": "stdout",
     "output_type": "stream",
     "text": [
      "even\n"
     ]
    }
   ],
   "source": [
    "a=int(input(\"enter the number=\"))\n",
    "\n",
    "if (a%2==0):\n",
    "\n",
    "    print(\"even\")\n",
    "\n",
    "else:\n",
    "\n",
    "    print(\"odd\")"
   ]
  },
  {
   "cell_type": "code",
   "execution_count": 86,
   "id": "56d7c0c8-7196-42f0-90aa-68513cfee18b",
   "metadata": {},
   "outputs": [
    {
     "name": "stdin",
     "output_type": "stream",
     "text": [
      "enter number 98\n"
     ]
    },
    {
     "name": "stdout",
     "output_type": "stream",
     "text": [
      "even number\n"
     ]
    }
   ],
   "source": [
    "n = int(input(\"enter number\"))\n",
    "\n",
    "if n%2==0:\n",
    "\n",
    "    print(\"even number\");\n",
    "\n",
    "else:\n",
    "\n",
    "    print(\"odd\")"
   ]
  },
  {
   "cell_type": "code",
   "execution_count": 94,
   "id": "9a41f534-a272-4e8c-a6ab-6ba2ed297c23",
   "metadata": {},
   "outputs": [],
   "source": [
    "a = 10\n",
    "b = 30\n",
    "#find the maximum number"
   ]
  },
  {
   "cell_type": "code",
   "execution_count": 95,
   "id": "bd851872-b6b6-497b-aa11-780cb37b58af",
   "metadata": {},
   "outputs": [
    {
     "name": "stdout",
     "output_type": "stream",
     "text": [
      "30 is greater than 10\n"
     ]
    }
   ],
   "source": [
    "if a > b:\n",
    "    print(f'{a} is greater than {b}')\n",
    "else:\n",
    "    print(f'{b} is greater than {a}')"
   ]
  },
  {
   "cell_type": "code",
   "execution_count": 102,
   "id": "ca8a798f-5725-4a30-91b3-ff659b34ee2f",
   "metadata": {},
   "outputs": [],
   "source": [
    "# a, b, c find the greatest of all"
   ]
  },
  {
   "cell_type": "code",
   "execution_count": 103,
   "id": "c59078e6-db77-4b00-8876-0443de981d6c",
   "metadata": {},
   "outputs": [
    {
     "name": "stdin",
     "output_type": "stream",
     "text": [
      "enter number: 2\n",
      "enter number: 10\n",
      "enter number: 1\n"
     ]
    },
    {
     "name": "stdout",
     "output_type": "stream",
     "text": [
      "b is greater\n"
     ]
    }
   ],
   "source": [
    "a = int(input(\"enter number:\"))\n",
    "\n",
    "b = int(input(\"enter number:\"))\n",
    "\n",
    "c = int(input(\"enter number:\"))\n",
    "\n",
    "if(a>b and a>c):\n",
    "\n",
    "    print(\"a is greater\")\n",
    "\n",
    "elif(b>a and b>c):\n",
    "\n",
    "    print(\"b is greater\")\n",
    "\n",
    "else:\n",
    "\n",
    "    print(\"c is greater\")"
   ]
  },
  {
   "cell_type": "code",
   "execution_count": 106,
   "id": "2c226758-96d2-4602-919e-cce893fd4436",
   "metadata": {},
   "outputs": [
    {
     "name": "stdin",
     "output_type": "stream",
     "text": [
      "enter the price of laptop: 70000\n"
     ]
    },
    {
     "name": "stdout",
     "output_type": "stream",
     "text": [
      "discounted price is: 56000.0\n"
     ]
    }
   ],
   "source": [
    "price = float(input(\"enter the price of laptop:\"))\n",
    "\n",
    "if price>40000:\n",
    "\n",
    "    price  = price - price*20/100\n",
    "\n",
    "    print(\"discounted price is:\",price)\n",
    "\n",
    "else:\n",
    "    print(\"laptop price is:\",price)"
   ]
  },
  {
   "cell_type": "code",
   "execution_count": null,
   "id": "edb517fa-9ff5-4db2-b753-257d62149caf",
   "metadata": {},
   "outputs": [],
   "source": []
  }
 ],
 "metadata": {
  "kernelspec": {
   "display_name": "Python 3 (ipykernel)",
   "language": "python",
   "name": "python3"
  },
  "language_info": {
   "codemirror_mode": {
    "name": "ipython",
    "version": 3
   },
   "file_extension": ".py",
   "mimetype": "text/x-python",
   "name": "python",
   "nbconvert_exporter": "python",
   "pygments_lexer": "ipython3",
   "version": "3.12.7"
  }
 },
 "nbformat": 4,
 "nbformat_minor": 5
}
