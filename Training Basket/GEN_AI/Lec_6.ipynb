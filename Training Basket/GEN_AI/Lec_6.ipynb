{
 "cells": [
  {
   "cell_type": "code",
   "execution_count": 1,
   "id": "a2a89cb2-6a5a-4026-9518-43d46d28fea1",
   "metadata": {},
   "outputs": [],
   "source": [
    "a = 9879 \n",
    "# check whether a number is prime or not "
   ]
  },
  {
   "cell_type": "code",
   "execution_count": 2,
   "id": "6b8fd1ad-90a7-4574-97ba-d2337bdbfa26",
   "metadata": {},
   "outputs": [],
   "source": [
    "# find all the prime numbers from 1-50"
   ]
  },
  {
   "cell_type": "code",
   "execution_count": 3,
   "id": "09bfe957-0a6f-4aa0-b9c4-0b932699910d",
   "metadata": {},
   "outputs": [],
   "source": [
    "# find first 100 prime numbers"
   ]
  },
  {
   "cell_type": "code",
   "execution_count": 15,
   "id": "b7481c6d-9f09-41f9-a108-8877a35ccc5f",
   "metadata": {},
   "outputs": [
    {
     "name": "stdin",
     "output_type": "stream",
     "text": [
      "enter the number :  23\n"
     ]
    },
    {
     "name": "stdout",
     "output_type": "stream",
     "text": [
      "Prime number\n"
     ]
    }
   ],
   "source": [
    "n = int(input(\"enter the number : \"))\n",
    "count = 0\n",
    "for i in range(1, n+1):\n",
    "    if n%i == 0:\n",
    "        count += 1\n",
    "if count == 2:\n",
    "    print('Prime number')\n",
    "else:\n",
    "    print('Not a prime number')"
   ]
  },
  {
   "cell_type": "code",
   "execution_count": 8,
   "id": "952616b6-e96e-4812-be15-c6c60b89af1d",
   "metadata": {},
   "outputs": [
    {
     "data": {
      "text/plain": [
       "2"
      ]
     },
     "execution_count": 8,
     "metadata": {},
     "output_type": "execute_result"
    }
   ],
   "source": [
    "count"
   ]
  },
  {
   "cell_type": "code",
   "execution_count": 51,
   "id": "e8ba2259-d8d0-4f34-94ae-2a245013a257",
   "metadata": {},
   "outputs": [
    {
     "name": "stdout",
     "output_type": "stream",
     "text": [
      "2\n",
      "3\n",
      "5\n",
      "7\n",
      "11\n",
      "13\n",
      "17\n",
      "19\n",
      "23\n",
      "29\n",
      "31\n",
      "37\n",
      "41\n",
      "43\n",
      "47\n"
     ]
    }
   ],
   "source": [
    "for num in range(2, 51):\n",
    "    count = 0\n",
    "    for i in range(1, num + 1):\n",
    "        if num%i == 0:\n",
    "            count = count + 1\n",
    "    if count== 2:\n",
    "        print(num)\n",
    "            "
   ]
  },
  {
   "cell_type": "code",
   "execution_count": 22,
   "id": "2f23a7fa-2c64-497d-b562-1fd57ce732f4",
   "metadata": {},
   "outputs": [
    {
     "name": "stdout",
     "output_type": "stream",
     "text": [
      "Hello\n",
      "Hello\n",
      "Hello\n",
      "Hello\n",
      "Hello\n"
     ]
    }
   ],
   "source": [
    "# While loop\n",
    "a = 10\n",
    "while a > 5:\n",
    "    print('Hello')\n",
    "    a = a-1"
   ]
  },
  {
   "cell_type": "code",
   "execution_count": 23,
   "id": "d4a1196c-f6f7-4d7a-bc0e-0a4ad040e973",
   "metadata": {},
   "outputs": [],
   "source": [
    "st = 'Training Basket'"
   ]
  },
  {
   "cell_type": "code",
   "execution_count": 26,
   "id": "032a1aa2-1d65-4690-b119-e5b8eaa4661e",
   "metadata": {},
   "outputs": [
    {
     "name": "stdout",
     "output_type": "stream",
     "text": [
      "Training Basket"
     ]
    }
   ],
   "source": [
    "for i in st:\n",
    "    print(i, end = '')"
   ]
  },
  {
   "cell_type": "code",
   "execution_count": 40,
   "id": "bba67e46-af80-4c67-ab05-4f075542c93a",
   "metadata": {},
   "outputs": [
    {
     "name": "stdout",
     "output_type": "stream",
     "text": [
      "t\n",
      "e\n",
      "k\n",
      "s\n",
      "a\n",
      "B\n",
      " \n",
      "g\n",
      "n\n",
      "i\n",
      "n\n",
      "i\n",
      "a\n",
      "r\n",
      "T\n"
     ]
    }
   ],
   "source": [
    "idx = 1\n",
    "while idx <= len(st):\n",
    "    print(st[-idx])\n",
    "    idx = idx + 1"
   ]
  },
  {
   "cell_type": "code",
   "execution_count": 32,
   "id": "f5a07109-aee3-4697-b4e3-2df435517393",
   "metadata": {},
   "outputs": [
    {
     "data": {
      "text/plain": [
       "15"
      ]
     },
     "execution_count": 32,
     "metadata": {},
     "output_type": "execute_result"
    }
   ],
   "source": [
    "len(st)"
   ]
  },
  {
   "cell_type": "code",
   "execution_count": 37,
   "id": "50c8ca4c-de07-40f8-860d-a87d9caa6ada",
   "metadata": {},
   "outputs": [
    {
     "data": {
      "text/plain": [
       "'k'"
      ]
     },
     "execution_count": 37,
     "metadata": {},
     "output_type": "execute_result"
    }
   ],
   "source": [
    "st[-3]"
   ]
  },
  {
   "cell_type": "code",
   "execution_count": 41,
   "id": "645d1f7f-9497-4f14-8004-b4c6cec5cfdd",
   "metadata": {},
   "outputs": [],
   "source": [
    "st = 'The quick fox jumps over the box'"
   ]
  },
  {
   "cell_type": "code",
   "execution_count": 42,
   "id": "eb3259b5-4caa-4e9e-bf23-44ccd385c49f",
   "metadata": {},
   "outputs": [],
   "source": [
    "# find the occurence of all characters in st and do not repeat the elements"
   ]
  },
  {
   "cell_type": "code",
   "execution_count": 46,
   "id": "f3be84fd-6b1c-47c0-a4ea-d7a6c22efac0",
   "metadata": {},
   "outputs": [
    {
     "name": "stdout",
     "output_type": "stream",
     "text": [
      "no of occurence of t is 2\n",
      "no of occurence of h is 2\n",
      "no of occurence of e is 3\n",
      "no of occurence of   is 6\n",
      "no of occurence of q is 1\n",
      "no of occurence of u is 2\n",
      "no of occurence of i is 1\n",
      "no of occurence of c is 1\n",
      "no of occurence of k is 1\n",
      "no of occurence of f is 1\n",
      "no of occurence of o is 3\n",
      "no of occurence of x is 2\n",
      "no of occurence of j is 1\n",
      "no of occurence of m is 1\n",
      "no of occurence of p is 1\n",
      "no of occurence of s is 1\n",
      "no of occurence of v is 1\n",
      "no of occurence of r is 1\n",
      "no of occurence of b is 1\n"
     ]
    }
   ],
   "source": [
    "st = st.lower()\n",
    "a = []\n",
    "for i in st:\n",
    "    if i not in a:\n",
    "        a.append(i)\n",
    "        print(f'no of occurence of {i} is {st.count(i)}')"
   ]
  },
  {
   "cell_type": "code",
   "execution_count": 49,
   "id": "cf03e012-1be6-43b2-bef6-38d6b7e39b2c",
   "metadata": {},
   "outputs": [
    {
     "name": "stdout",
     "output_type": "stream",
     "text": [
      "t\n",
      "h\n",
      "e\n",
      " \n",
      "q\n",
      "u\n",
      "i\n",
      "c\n",
      "k\n",
      " \n",
      "f\n",
      "o\n",
      "x\n",
      " \n",
      "j\n",
      "u\n",
      "m\n"
     ]
    }
   ],
   "source": [
    "half = int(len(st)/2)\n",
    "for i in range(len(st)):\n",
    "    print(st[i])\n",
    "    if i == half:\n",
    "        break\n",
    "    else:\n",
    "        continue\n",
    "        print('hello')"
   ]
  },
  {
   "cell_type": "code",
   "execution_count": 56,
   "id": "0d65d562-dc52-4d3c-807d-be72b01b99ae",
   "metadata": {},
   "outputs": [],
   "source": [
    "# find first 100 prime number using while loop"
   ]
  },
  {
   "cell_type": "code",
   "execution_count": null,
   "id": "4a8a4616-a312-4af8-aa99-1aabc7cf1fcf",
   "metadata": {},
   "outputs": [],
   "source": []
  },
  {
   "cell_type": "code",
   "execution_count": null,
   "id": "00e294bf-9f0e-4c2c-a073-7ca2b10b919c",
   "metadata": {},
   "outputs": [],
   "source": []
  }
 ],
 "metadata": {
  "kernelspec": {
   "display_name": "Python 3 (ipykernel)",
   "language": "python",
   "name": "python3"
  },
  "language_info": {
   "codemirror_mode": {
    "name": "ipython",
    "version": 3
   },
   "file_extension": ".py",
   "mimetype": "text/x-python",
   "name": "python",
   "nbconvert_exporter": "python",
   "pygments_lexer": "ipython3",
   "version": "3.12.7"
  }
 },
 "nbformat": 4,
 "nbformat_minor": 5
}
