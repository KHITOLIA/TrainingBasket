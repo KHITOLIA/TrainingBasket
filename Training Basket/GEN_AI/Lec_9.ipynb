{
 "cells": [
  {
   "cell_type": "code",
   "execution_count": 1,
   "id": "4fb80bf3-e16d-41f6-9c2a-88625b3e75f3",
   "metadata": {},
   "outputs": [
    {
     "name": "stdout",
     "output_type": "stream",
     "text": [
      "0\n",
      "1\n",
      "2\n",
      "3\n",
      "4\n"
     ]
    }
   ],
   "source": [
    "for i in range(5):\n",
    "    print(i)"
   ]
  },
  {
   "cell_type": "code",
   "execution_count": 2,
   "id": "c0e96ef2-7e1e-439c-8c83-65f3b7e8ef4b",
   "metadata": {},
   "outputs": [
    {
     "name": "stdout",
     "output_type": "stream",
     "text": [
      "4\n",
      "4\n",
      "4\n",
      "4\n",
      "4\n"
     ]
    }
   ],
   "source": [
    "for j in range(5):\n",
    "    print(i)"
   ]
  },
  {
   "cell_type": "code",
   "execution_count": 3,
   "id": "8b0fc69b-0d97-4476-91de-4a9f09201fae",
   "metadata": {},
   "outputs": [
    {
     "name": "stdout",
     "output_type": "stream",
     "text": [
      "0\n",
      "1\n",
      "2\n",
      "3\n",
      "4\n"
     ]
    }
   ],
   "source": [
    "for i in range(5):\n",
    "    print(i)"
   ]
  },
  {
   "cell_type": "code",
   "execution_count": 4,
   "id": "8938e19e-d8af-40a6-b2ef-f779a1169695",
   "metadata": {},
   "outputs": [],
   "source": [
    "l = [1, 2, 3, 4]"
   ]
  },
  {
   "cell_type": "code",
   "execution_count": 5,
   "id": "27e7affc-a905-4a41-bf5b-1e444f63a1cd",
   "metadata": {},
   "outputs": [
    {
     "data": {
      "text/plain": [
       "['__add__',\n",
       " '__class__',\n",
       " '__class_getitem__',\n",
       " '__contains__',\n",
       " '__delattr__',\n",
       " '__delitem__',\n",
       " '__dir__',\n",
       " '__doc__',\n",
       " '__eq__',\n",
       " '__format__',\n",
       " '__ge__',\n",
       " '__getattribute__',\n",
       " '__getitem__',\n",
       " '__getstate__',\n",
       " '__gt__',\n",
       " '__hash__',\n",
       " '__iadd__',\n",
       " '__imul__',\n",
       " '__init__',\n",
       " '__init_subclass__',\n",
       " '__iter__',\n",
       " '__le__',\n",
       " '__len__',\n",
       " '__lt__',\n",
       " '__mul__',\n",
       " '__ne__',\n",
       " '__new__',\n",
       " '__reduce__',\n",
       " '__reduce_ex__',\n",
       " '__repr__',\n",
       " '__reversed__',\n",
       " '__rmul__',\n",
       " '__setattr__',\n",
       " '__setitem__',\n",
       " '__sizeof__',\n",
       " '__str__',\n",
       " '__subclasshook__',\n",
       " 'append',\n",
       " 'clear',\n",
       " 'copy',\n",
       " 'count',\n",
       " 'extend',\n",
       " 'index',\n",
       " 'insert',\n",
       " 'pop',\n",
       " 'remove',\n",
       " 'reverse',\n",
       " 'sort']"
      ]
     },
     "execution_count": 5,
     "metadata": {},
     "output_type": "execute_result"
    }
   ],
   "source": [
    "dir(l)"
   ]
  },
  {
   "cell_type": "code",
   "execution_count": 6,
   "id": "bf835dd0-17a9-4976-a00e-61bd74fa91b8",
   "metadata": {},
   "outputs": [],
   "source": [
    "l_iter = iter(l)"
   ]
  },
  {
   "cell_type": "code",
   "execution_count": 7,
   "id": "047d6cbf-d1ec-4522-8e63-f001400abe37",
   "metadata": {},
   "outputs": [
    {
     "data": {
      "text/plain": [
       "[1, 2, 3, 4]"
      ]
     },
     "execution_count": 7,
     "metadata": {},
     "output_type": "execute_result"
    }
   ],
   "source": [
    "l"
   ]
  },
  {
   "cell_type": "code",
   "execution_count": 8,
   "id": "184a63b1-5f6d-4e59-a725-691dd7b5338e",
   "metadata": {},
   "outputs": [
    {
     "data": {
      "text/plain": [
       "list"
      ]
     },
     "execution_count": 8,
     "metadata": {},
     "output_type": "execute_result"
    }
   ],
   "source": [
    "type(l)"
   ]
  },
  {
   "cell_type": "code",
   "execution_count": 9,
   "id": "9cd05961-5789-48cc-900d-7d1f13923d84",
   "metadata": {},
   "outputs": [
    {
     "data": {
      "text/plain": [
       "list_iterator"
      ]
     },
     "execution_count": 9,
     "metadata": {},
     "output_type": "execute_result"
    }
   ],
   "source": [
    "type(l_iter)"
   ]
  },
  {
   "cell_type": "code",
   "execution_count": 10,
   "id": "8b9106bb-d0b4-4800-80c0-d41643d9c2f4",
   "metadata": {},
   "outputs": [
    {
     "name": "stdout",
     "output_type": "stream",
     "text": [
      "1\n",
      "2\n",
      "3\n",
      "4\n"
     ]
    }
   ],
   "source": [
    "for i in l:\n",
    "    print(i)"
   ]
  },
  {
   "cell_type": "code",
   "execution_count": 11,
   "id": "f5ec2127-2aed-4b8f-8609-e8a6ca0535dc",
   "metadata": {},
   "outputs": [
    {
     "name": "stdout",
     "output_type": "stream",
     "text": [
      "1\n",
      "2\n",
      "3\n",
      "4\n"
     ]
    }
   ],
   "source": [
    "for i in l:\n",
    "    print(i)"
   ]
  },
  {
   "cell_type": "code",
   "execution_count": 12,
   "id": "79585afc-c90f-4603-819c-1b304c4fe5f7",
   "metadata": {},
   "outputs": [
    {
     "name": "stdout",
     "output_type": "stream",
     "text": [
      "1\n",
      "2\n",
      "3\n",
      "4\n"
     ]
    }
   ],
   "source": [
    "for i in l:\n",
    "    print(i)"
   ]
  },
  {
   "cell_type": "code",
   "execution_count": 13,
   "id": "e1f85036-1bc8-4590-a293-16bbfc4630e4",
   "metadata": {},
   "outputs": [
    {
     "name": "stdout",
     "output_type": "stream",
     "text": [
      "1\n",
      "2\n",
      "3\n",
      "4\n"
     ]
    }
   ],
   "source": [
    "for i in l_iter:\n",
    "    print(i)"
   ]
  },
  {
   "cell_type": "code",
   "execution_count": 14,
   "id": "44e3062c-2295-4691-80d1-7e561fda85af",
   "metadata": {},
   "outputs": [],
   "source": [
    "for i in l_iter:\n",
    "    print(i)"
   ]
  },
  {
   "cell_type": "code",
   "execution_count": 15,
   "id": "ec41724d-e5c6-4fe5-b2bf-58d5ca3a4cf8",
   "metadata": {},
   "outputs": [
    {
     "data": {
      "text/plain": [
       "0.0859375"
      ]
     },
     "execution_count": 15,
     "metadata": {},
     "output_type": "execute_result"
    }
   ],
   "source": [
    "import sys\n",
    "sys.getsizeof(l)/1024"
   ]
  },
  {
   "cell_type": "code",
   "execution_count": 16,
   "id": "4835473e-b38f-4a0e-8a05-b96f987ec4b9",
   "metadata": {},
   "outputs": [
    {
     "data": {
      "text/plain": [
       "0.046875"
      ]
     },
     "execution_count": 16,
     "metadata": {},
     "output_type": "execute_result"
    }
   ],
   "source": [
    "sys.getsizeof(l_iter)/1024"
   ]
  },
  {
   "cell_type": "code",
   "execution_count": 17,
   "id": "da974aab-18f0-482e-a10c-141e14246fc6",
   "metadata": {},
   "outputs": [
    {
     "ename": "StopIteration",
     "evalue": "",
     "output_type": "error",
     "traceback": [
      "\u001b[1;31m---------------------------------------------------------------------------\u001b[0m",
      "\u001b[1;31mStopIteration\u001b[0m                             Traceback (most recent call last)",
      "Cell \u001b[1;32mIn[17], line 1\u001b[0m\n\u001b[1;32m----> 1\u001b[0m \u001b[38;5;28mnext\u001b[39m(l_iter)\n",
      "\u001b[1;31mStopIteration\u001b[0m: "
     ]
    }
   ],
   "source": [
    "next(l_iter)"
   ]
  },
  {
   "cell_type": "code",
   "execution_count": null,
   "id": "f1426161-6c7d-4051-86fe-222acad9992c",
   "metadata": {},
   "outputs": [],
   "source": [
    "l = [1, 2, 3]\n",
    "def square(n):\n",
    "    return n**2"
   ]
  },
  {
   "cell_type": "code",
   "execution_count": null,
   "id": "e9aa4ec0-2c01-4962-a34f-25c494f6d29a",
   "metadata": {},
   "outputs": [],
   "source": [
    "def modify(f, l):\n",
    "    for i in l:\n",
    "        i = f(i)\n",
    "        print(i)"
   ]
  },
  {
   "cell_type": "code",
   "execution_count": null,
   "id": "0f15df8e-fd79-45a6-b7b4-59f57e698f9a",
   "metadata": {},
   "outputs": [],
   "source": [
    "modify(square, l)"
   ]
  },
  {
   "cell_type": "markdown",
   "id": "55be0297-77f0-461f-b08e-2c45d32f36ec",
   "metadata": {},
   "source": [
    "# Advance methods\n",
    "1. lambda\n",
    "2. map\n",
    "3. filter\n",
    "4. reduce"
   ]
  },
  {
   "cell_type": "code",
   "execution_count": null,
   "id": "fafe6371-f361-4690-aea8-50de193b1b8d",
   "metadata": {},
   "outputs": [],
   "source": [
    "sq = lambda x : x**2"
   ]
  },
  {
   "cell_type": "code",
   "execution_count": null,
   "id": "524c6f22-5fca-4144-8772-cda559953ac2",
   "metadata": {},
   "outputs": [],
   "source": [
    "sq(2)"
   ]
  },
  {
   "cell_type": "code",
   "execution_count": null,
   "id": "1048c3b2-4daa-4320-a60a-a4f21489ff9b",
   "metadata": {},
   "outputs": [],
   "source": [
    "a = print"
   ]
  },
  {
   "cell_type": "code",
   "execution_count": null,
   "id": "f0358fea-aee8-420c-87dc-922d333d3c08",
   "metadata": {},
   "outputs": [],
   "source": [
    "a('hello')"
   ]
  },
  {
   "cell_type": "code",
   "execution_count": null,
   "id": "40c4d9d3-8097-4696-800f-e44646f30e3e",
   "metadata": {},
   "outputs": [],
   "source": [
    "modify(lambda x : x**2, l)"
   ]
  },
  {
   "cell_type": "code",
   "execution_count": null,
   "id": "280bad47-5fcd-4f17-a15c-843d1b5602e8",
   "metadata": {},
   "outputs": [],
   "source": [
    "tuple(map(lambda x : x**2, l))"
   ]
  },
  {
   "cell_type": "code",
   "execution_count": null,
   "id": "1442d691-f48a-4cae-ae01-4dea35fd4a5e",
   "metadata": {},
   "outputs": [],
   "source": [
    "add = lambda x, y, z : x+y+z"
   ]
  },
  {
   "cell_type": "code",
   "execution_count": null,
   "id": "1fb7fc3a-1cfd-4550-9629-d5bf3e1aa48c",
   "metadata": {},
   "outputs": [],
   "source": [
    "add(2,1,  3)"
   ]
  },
  {
   "cell_type": "code",
   "execution_count": null,
   "id": "400529ae-2ca5-4de8-b05d-08dc0cff9c5f",
   "metadata": {},
   "outputs": [],
   "source": [
    "iseven = lambda x : 'even' if x%2 == 0 else 'odd'"
   ]
  },
  {
   "cell_type": "code",
   "execution_count": null,
   "id": "4deb1597-9afe-453f-9abc-c8b219f01641",
   "metadata": {},
   "outputs": [],
   "source": [
    "iseven(20)"
   ]
  },
  {
   "cell_type": "code",
   "execution_count": null,
   "id": "f753d65d-2c0b-483e-ae10-88d6b41c8887",
   "metadata": {},
   "outputs": [],
   "source": [
    "l = [1, 2, 3, 4]\n",
    "number = 1234"
   ]
  },
  {
   "cell_type": "code",
   "execution_count": null,
   "id": "fdbbba97-622c-4a88-b4e6-c814feeae29e",
   "metadata": {},
   "outputs": [],
   "source": [
    "sum_ = lambda x : print(x, end = ' ')"
   ]
  },
  {
   "cell_type": "code",
   "execution_count": null,
   "id": "a17a946c-26bf-4241-8079-dd8f9cacb028",
   "metadata": {},
   "outputs": [],
   "source": [
    "sum_(l)"
   ]
  },
  {
   "cell_type": "code",
   "execution_count": null,
   "id": "8bd5c2f1-1cf4-45a2-a20d-887772f689a0",
   "metadata": {},
   "outputs": [],
   "source": [
    "combine = lambda total, x : total*10 + x"
   ]
  },
  {
   "cell_type": "code",
   "execution_count": null,
   "id": "23da5fd7-879f-4363-977a-f7450015ba06",
   "metadata": {},
   "outputs": [],
   "source": [
    "combine(combine(combine(1, 2), 3), 4)"
   ]
  },
  {
   "cell_type": "code",
   "execution_count": null,
   "id": "7b66b49d-db1e-42ad-ba16-91407707ee01",
   "metadata": {},
   "outputs": [],
   "source": [
    "names = ['vansh', 'manish', 'anirudh', 'tushar']"
   ]
  },
  {
   "cell_type": "code",
   "execution_count": null,
   "id": "38b4a494-8298-4c29-868a-7e0ea878f018",
   "metadata": {},
   "outputs": [],
   "source": [
    "names = list(map(lambda x : x[0], names))"
   ]
  },
  {
   "cell_type": "code",
   "execution_count": null,
   "id": "5fad930b-42e6-40d5-bdbd-43f3fe3671c9",
   "metadata": {},
   "outputs": [],
   "source": [
    "names"
   ]
  },
  {
   "cell_type": "code",
   "execution_count": null,
   "id": "63831c81-8a21-4d82-bbac-1fdd12b41267",
   "metadata": {},
   "outputs": [],
   "source": [
    "l"
   ]
  },
  {
   "cell_type": "code",
   "execution_count": null,
   "id": "d3ef404a-47c4-4ea8-b4c9-121beb067a3c",
   "metadata": {},
   "outputs": [],
   "source": [
    "list(map(lambda x : 'even' if x%2 == 0 else 'odd', l))"
   ]
  },
  {
   "cell_type": "code",
   "execution_count": null,
   "id": "07b98bc2-24c5-40ea-a16f-f866b52adf01",
   "metadata": {},
   "outputs": [],
   "source": [
    "l"
   ]
  },
  {
   "cell_type": "code",
   "execution_count": null,
   "id": "dbb155cd-a89c-4519-9094-b57295461c49",
   "metadata": {},
   "outputs": [],
   "source": [
    "list(filter(lambda x : x%2 == 0, l))"
   ]
  },
  {
   "cell_type": "code",
   "execution_count": null,
   "id": "7e884908-c17e-4dde-bb32-34c6adc8b721",
   "metadata": {},
   "outputs": [],
   "source": [
    "names"
   ]
  },
  {
   "cell_type": "code",
   "execution_count": null,
   "id": "72370e08-d955-45a9-9411-d3d05c596197",
   "metadata": {},
   "outputs": [],
   "source": [
    "list(filter(lambda x : len(x) >= 5, names))"
   ]
  },
  {
   "cell_type": "code",
   "execution_count": null,
   "id": "df6cc7a1-bc7f-4f69-9a8f-a92c3d9c9ed5",
   "metadata": {},
   "outputs": [],
   "source": []
  },
  {
   "cell_type": "code",
   "execution_count": null,
   "id": "56e3ad0d-9124-4fab-b089-35cd78138b79",
   "metadata": {},
   "outputs": [],
   "source": [
    "l"
   ]
  },
  {
   "cell_type": "code",
   "execution_count": null,
   "id": "96e5555e-d43e-4663-8862-fdbbae131530",
   "metadata": {},
   "outputs": [],
   "source": [
    "reduce(lambda x, y : x*10 + y, l)"
   ]
  },
  {
   "cell_type": "code",
   "execution_count": null,
   "id": "990f611f-1c48-4121-b313-eafd0754559b",
   "metadata": {},
   "outputs": [],
   "source": [
    "# Generator"
   ]
  },
  {
   "cell_type": "code",
   "execution_count": null,
   "id": "4111a4bd-94fd-4e07-a042-f04edb6f408d",
   "metadata": {},
   "outputs": [],
   "source": [
    "def values():\n",
    "    yield 1\n",
    "    yield 2\n",
    "    yield 3"
   ]
  },
  {
   "cell_type": "code",
   "execution_count": null,
   "id": "f2e2ae19-85f9-4d59-a7f9-1c439f337cea",
   "metadata": {},
   "outputs": [],
   "source": [
    "def numbers():\n",
    "    return 1, 2, 3"
   ]
  },
  {
   "cell_type": "code",
   "execution_count": null,
   "id": "acd8d078-329a-4770-b6a6-7f4e728b7819",
   "metadata": {},
   "outputs": [],
   "source": [
    "gen = values()"
   ]
  },
  {
   "cell_type": "code",
   "execution_count": null,
   "id": "a0bb957d-7079-4b34-a506-a22fdbdc0ae2",
   "metadata": {},
   "outputs": [],
   "source": [
    "gen"
   ]
  },
  {
   "cell_type": "code",
   "execution_count": null,
   "id": "56278174-7209-4759-bd41-2ddb6b0cd6f4",
   "metadata": {},
   "outputs": [],
   "source": [
    "number = numbers()"
   ]
  },
  {
   "cell_type": "code",
   "execution_count": null,
   "id": "123322d4-0695-4b4d-9e7d-574398972c0d",
   "metadata": {},
   "outputs": [],
   "source": [
    "number"
   ]
  },
  {
   "cell_type": "code",
   "execution_count": null,
   "id": "bbd8a9f6-c6c6-4463-ae65-4c7c0384559f",
   "metadata": {},
   "outputs": [],
   "source": [
    "next(gen)"
   ]
  },
  {
   "cell_type": "code",
   "execution_count": null,
   "id": "8c1c828b-7299-479e-bb69-096e9b027586",
   "metadata": {},
   "outputs": [],
   "source": [
    "for i in gen:\n",
    "    print(i)"
   ]
  },
  {
   "cell_type": "code",
   "execution_count": null,
   "id": "287e4cca-5b2b-45fa-bb6e-db9e45fe142b",
   "metadata": {},
   "outputs": [],
   "source": [
    "def square(n):\n",
    "    for i in range(1, 11):\n",
    "        yield n*i"
   ]
  },
  {
   "cell_type": "code",
   "execution_count": null,
   "id": "185ec263-5395-431d-99de-6f31c3ea4afc",
   "metadata": {},
   "outputs": [],
   "source": [
    "gen = square(2)"
   ]
  },
  {
   "cell_type": "code",
   "execution_count": null,
   "id": "ca7be179-5d85-4173-a0b4-c3fec26222ce",
   "metadata": {},
   "outputs": [],
   "source": [
    "gen"
   ]
  },
  {
   "cell_type": "code",
   "execution_count": null,
   "id": "debc8fbd-4d8a-43cc-8e79-f92fa15350a0",
   "metadata": {},
   "outputs": [],
   "source": [
    "next(gen)"
   ]
  },
  {
   "cell_type": "code",
   "execution_count": null,
   "id": "18a28ef1-06e9-48c2-a6c1-ef273d9ba109",
   "metadata": {},
   "outputs": [],
   "source": [
    "for i in gen:\n",
    "    print(i)"
   ]
  },
  {
   "cell_type": "code",
   "execution_count": null,
   "id": "85c40627-0280-4cfa-ab76-2190e2a175d6",
   "metadata": {},
   "outputs": [],
   "source": [
    "l = [i**2 for i in range(10)]  # list compression"
   ]
  },
  {
   "cell_type": "code",
   "execution_count": null,
   "id": "41aa9de5-7b85-4d28-a1ef-3eb71e70b172",
   "metadata": {},
   "outputs": [],
   "source": [
    "l"
   ]
  },
  {
   "cell_type": "code",
   "execution_count": null,
   "id": "7e06c269-7e9e-4db6-bee2-0977530bba94",
   "metadata": {},
   "outputs": [],
   "source": [
    "gen = (i**2 for i in range(10))"
   ]
  },
  {
   "cell_type": "code",
   "execution_count": null,
   "id": "3c26ba87-001d-4c23-b526-6994607ef53c",
   "metadata": {},
   "outputs": [],
   "source": [
    "gen"
   ]
  },
  {
   "cell_type": "code",
   "execution_count": null,
   "id": "571db0d0-ccf3-4297-9b90-54e9e801d2af",
   "metadata": {},
   "outputs": [],
   "source": [
    "next(gen)"
   ]
  },
  {
   "cell_type": "code",
   "execution_count": null,
   "id": "6e6a2e6f-4bfe-46f1-9f8a-aa6c13aea73b",
   "metadata": {},
   "outputs": [],
   "source": [
    "for i in gen:\n",
    "    print(i)"
   ]
  },
  {
   "cell_type": "code",
   "execution_count": null,
   "id": "09107bac-af27-4ed6-87e0-50f6e71cbc95",
   "metadata": {},
   "outputs": [],
   "source": [
    "# Decorators"
   ]
  },
  {
   "cell_type": "code",
   "execution_count": null,
   "id": "ca9099d8-faea-475d-8957-52202bfe6035",
   "metadata": {},
   "outputs": [],
   "source": [
    "def square(n):\n",
    "    return n**2"
   ]
  },
  {
   "cell_type": "code",
   "execution_count": null,
   "id": "983f5688-0e4b-4ffe-87d1-38dc1f168f85",
   "metadata": {},
   "outputs": [],
   "source": [
    "def modify(f, n):\n",
    "    return f(n)"
   ]
  },
  {
   "cell_type": "code",
   "execution_count": null,
   "id": "c4d046cd-e7e0-4090-afab-67e50c91f3ad",
   "metadata": {},
   "outputs": [],
   "source": [
    "a = modify(square, 3)"
   ]
  },
  {
   "cell_type": "code",
   "execution_count": null,
   "id": "3cf8c369-e979-4530-810b-8b2871bdde14",
   "metadata": {},
   "outputs": [],
   "source": [
    "a"
   ]
  },
  {
   "cell_type": "code",
   "execution_count": 26,
   "id": "dec16732-9f6c-43e3-89e1-0dfd60dffc3d",
   "metadata": {},
   "outputs": [],
   "source": [
    "def my_decorator(func):\n",
    "    def wrapper(*n):\n",
    "        print(\"----------\")\n",
    "        a = func(*n)\n",
    "        print(a)\n",
    "        print(\"----------\")\n",
    "    return wrapper"
   ]
  },
  {
   "cell_type": "code",
   "execution_count": 27,
   "id": "8c1de0d2-0749-4b7f-9977-e85e14235cfe",
   "metadata": {},
   "outputs": [
    {
     "name": "stdout",
     "output_type": "stream",
     "text": [
      "----------\n",
      "vansh\n",
      "None\n",
      "----------\n"
     ]
    }
   ],
   "source": [
    "@my_decorator\n",
    "def hello():\n",
    "    print(\"vansh\")\n",
    "hello()"
   ]
  },
  {
   "cell_type": "code",
   "execution_count": 28,
   "id": "954f1d7a-b5a2-49d4-87ae-4bcaa17f8706",
   "metadata": {},
   "outputs": [
    {
     "name": "stdout",
     "output_type": "stream",
     "text": [
      "----------\n",
      "4\n",
      "----------\n"
     ]
    }
   ],
   "source": [
    "@my_decorator\n",
    "def square(n):\n",
    "     return (n**2)\n",
    "square(2)"
   ]
  },
  {
   "cell_type": "code",
   "execution_count": null,
   "id": "f92aed4f-5692-4ef6-8da0-f647c310d17a",
   "metadata": {},
   "outputs": [],
   "source": []
  },
  {
   "cell_type": "code",
   "execution_count": null,
   "id": "d7dcd01e-5b95-45af-badd-44d3ec0347a8",
   "metadata": {},
   "outputs": [],
   "source": []
  }
 ],
 "metadata": {
  "kernelspec": {
   "display_name": "Python 3 (ipykernel)",
   "language": "python",
   "name": "python3"
  },
  "language_info": {
   "codemirror_mode": {
    "name": "ipython",
    "version": 3
   },
   "file_extension": ".py",
   "mimetype": "text/x-python",
   "name": "python",
   "nbconvert_exporter": "python",
   "pygments_lexer": "ipython3",
   "version": "3.12.7"
  }
 },
 "nbformat": 4,
 "nbformat_minor": 5
}
