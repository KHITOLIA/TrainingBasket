{
 "cells": [
  {
   "cell_type": "code",
   "execution_count": 1,
   "id": "ddc97422-2b90-4249-84ac-e9529d43dd17",
   "metadata": {},
   "outputs": [],
   "source": [
    "l = [1, 2, 3, 4]"
   ]
  },
  {
   "cell_type": "code",
   "execution_count": 2,
   "id": "eedd94d5-4154-4d47-8239-46b87a83f1fa",
   "metadata": {},
   "outputs": [
    {
     "data": {
      "text/plain": [
       "4"
      ]
     },
     "execution_count": 2,
     "metadata": {},
     "output_type": "execute_result"
    }
   ],
   "source": [
    "l.pop()"
   ]
  },
  {
   "cell_type": "code",
   "execution_count": 4,
   "id": "7c23e9be-e0e7-452e-81ba-fceb13115fc5",
   "metadata": {},
   "outputs": [
    {
     "data": {
      "text/plain": [
       "31"
      ]
     },
     "execution_count": 4,
     "metadata": {},
     "output_type": "execute_result"
    }
   ],
   "source": [
    "a = 11\n",
    "b = 20\n",
    "a + b"
   ]
  },
  {
   "cell_type": "code",
   "execution_count": 5,
   "id": "0d0b66c9-8c9f-4851-88d8-bed60b4c96d8",
   "metadata": {},
   "outputs": [],
   "source": [
    "def add(a, b):\n",
    "    print(a + b)"
   ]
  },
  {
   "cell_type": "code",
   "execution_count": 6,
   "id": "1934dce9-ee29-4163-be0b-90c1fdb51ec0",
   "metadata": {},
   "outputs": [
    {
     "name": "stdout",
     "output_type": "stream",
     "text": [
      "hello world\n"
     ]
    }
   ],
   "source": [
    "print(\"hello world\")"
   ]
  },
  {
   "cell_type": "code",
   "execution_count": 9,
   "id": "4045b7e2-2d42-4c24-9e01-48152600a350",
   "metadata": {},
   "outputs": [
    {
     "name": "stdout",
     "output_type": "stream",
     "text": [
      "hello *World*"
     ]
    }
   ],
   "source": [
    "print('hello ','World', sep = '*', end = '*' )"
   ]
  },
  {
   "cell_type": "code",
   "execution_count": 25,
   "id": "adde932d-9f2c-41c3-8e72-23630cb51dcc",
   "metadata": {},
   "outputs": [],
   "source": [
    "def add(a, b):\n",
    "    print(a + b)"
   ]
  },
  {
   "cell_type": "code",
   "execution_count": 11,
   "id": "ee348015-ea95-4644-9374-2282b027acd7",
   "metadata": {},
   "outputs": [
    {
     "data": {
      "text/plain": [
       "1340322096096"
      ]
     },
     "execution_count": 11,
     "metadata": {},
     "output_type": "execute_result"
    }
   ],
   "source": [
    "id(add)"
   ]
  },
  {
   "cell_type": "code",
   "execution_count": 12,
   "id": "71648a59-3fad-4d5c-a3dd-d9096621d10c",
   "metadata": {},
   "outputs": [],
   "source": [
    "a = print"
   ]
  },
  {
   "cell_type": "code",
   "execution_count": 13,
   "id": "459d96ab-2555-449d-a4d9-efdff627c73c",
   "metadata": {},
   "outputs": [
    {
     "name": "stdout",
     "output_type": "stream",
     "text": [
      "Hello world\n"
     ]
    }
   ],
   "source": [
    "a(\"Hello world\")"
   ]
  },
  {
   "cell_type": "code",
   "execution_count": 14,
   "id": "5713d57d-9206-4370-8c1b-ce054c2fb826",
   "metadata": {},
   "outputs": [
    {
     "data": {
      "text/plain": [
       "<function print(*args, sep=' ', end='\\n', file=None, flush=False)>"
      ]
     },
     "execution_count": 14,
     "metadata": {},
     "output_type": "execute_result"
    }
   ],
   "source": [
    "a"
   ]
  },
  {
   "cell_type": "code",
   "execution_count": 15,
   "id": "1767e1f7-2bda-47a6-a702-4477167b2e54",
   "metadata": {},
   "outputs": [
    {
     "data": {
      "text/plain": [
       "<function print(*args, sep=' ', end='\\n', file=None, flush=False)>"
      ]
     },
     "execution_count": 15,
     "metadata": {},
     "output_type": "execute_result"
    }
   ],
   "source": [
    "print"
   ]
  },
  {
   "cell_type": "code",
   "execution_count": 16,
   "id": "4164be4e-f7a4-4a14-a628-3fd639503d9c",
   "metadata": {},
   "outputs": [
    {
     "data": {
      "text/plain": [
       "<function __main__.add(a, b)>"
      ]
     },
     "execution_count": 16,
     "metadata": {},
     "output_type": "execute_result"
    }
   ],
   "source": [
    "add"
   ]
  },
  {
   "cell_type": "code",
   "execution_count": 19,
   "id": "1b30b725-7637-47c2-ad43-06f502c153c4",
   "metadata": {},
   "outputs": [
    {
     "ename": "TypeError",
     "evalue": "add() takes 2 positional arguments but 3 were given",
     "output_type": "error",
     "traceback": [
      "\u001b[1;31m---------------------------------------------------------------------------\u001b[0m",
      "\u001b[1;31mTypeError\u001b[0m                                 Traceback (most recent call last)",
      "Cell \u001b[1;32mIn[19], line 1\u001b[0m\n\u001b[1;32m----> 1\u001b[0m add(\u001b[38;5;241m2\u001b[39m, \u001b[38;5;241m3\u001b[39m, \u001b[38;5;241m34\u001b[39m)\n",
      "\u001b[1;31mTypeError\u001b[0m: add() takes 2 positional arguments but 3 were given"
     ]
    }
   ],
   "source": [
    "add(2, 3, 34)"
   ]
  },
  {
   "cell_type": "code",
   "execution_count": 20,
   "id": "42d391d2-d747-496d-9f46-ffc70e4ee37e",
   "metadata": {},
   "outputs": [
    {
     "name": "stdout",
     "output_type": "stream",
     "text": [
      "10\n"
     ]
    }
   ],
   "source": [
    "add(9, 1)"
   ]
  },
  {
   "cell_type": "code",
   "execution_count": 26,
   "id": "2366691e-a195-4b6a-b090-f4f03b8c58e0",
   "metadata": {},
   "outputs": [
    {
     "name": "stdout",
     "output_type": "stream",
     "text": [
      "10\n"
     ]
    }
   ],
   "source": [
    "a = add(9, 1)"
   ]
  },
  {
   "cell_type": "code",
   "execution_count": 22,
   "id": "2d0fca3e-a72e-4310-b2fa-d744e4ec21c4",
   "metadata": {},
   "outputs": [
    {
     "name": "stdout",
     "output_type": "stream",
     "text": [
      "None\n"
     ]
    }
   ],
   "source": [
    "print(a)"
   ]
  },
  {
   "cell_type": "code",
   "execution_count": 34,
   "id": "3cf027ba-6d64-45e7-a578-3674cee17a8a",
   "metadata": {},
   "outputs": [],
   "source": [
    "def add(a, b):\n",
    "    \n",
    "    return a+b"
   ]
  },
  {
   "cell_type": "code",
   "execution_count": 32,
   "id": "fe29c5d4-33fa-4003-a827-e4e9195f9044",
   "metadata": {},
   "outputs": [],
   "source": [
    "a = add(9, 1)"
   ]
  },
  {
   "cell_type": "code",
   "execution_count": 33,
   "id": "6615567c-81bd-4de8-96f2-f19b6f5553b8",
   "metadata": {},
   "outputs": [
    {
     "data": {
      "text/plain": [
       "10"
      ]
     },
     "execution_count": 33,
     "metadata": {},
     "output_type": "execute_result"
    }
   ],
   "source": [
    "a"
   ]
  },
  {
   "cell_type": "code",
   "execution_count": 43,
   "id": "bca73209-b45b-4dfa-860d-dcaf0c1ee746",
   "metadata": {},
   "outputs": [],
   "source": [
    "\n",
    "num1 = 20\n",
    "num2 = 30\n",
    "def add(a, b):\n",
    "    print(a)\n",
    "    print(b)\n",
    "    print(a+b)"
   ]
  },
  {
   "cell_type": "code",
   "execution_count": 38,
   "id": "c58f527e-d884-4d63-9295-b52ab50b2801",
   "metadata": {},
   "outputs": [
    {
     "name": "stdout",
     "output_type": "stream",
     "text": [
      "10\n",
      "20\n",
      "30\n"
     ]
    }
   ],
   "source": [
    "add(a, b)"
   ]
  },
  {
   "cell_type": "code",
   "execution_count": 40,
   "id": "d0604d1c-0b48-4f6d-9cc5-ec662e2fd2a2",
   "metadata": {},
   "outputs": [
    {
     "name": "stdout",
     "output_type": "stream",
     "text": [
      "20\n",
      "30\n",
      "50\n"
     ]
    }
   ],
   "source": [
    "add(num1, num2)"
   ]
  },
  {
   "cell_type": "code",
   "execution_count": 51,
   "id": "a54b9300-70ec-42b3-a433-e49251e6ca21",
   "metadata": {},
   "outputs": [],
   "source": [
    "a = 100\n",
    "b = 200\n",
    "def add():\n",
    "    a = 10\n",
    "    b = 20\n",
    "    print(a + b)"
   ]
  },
  {
   "cell_type": "code",
   "execution_count": 48,
   "id": "e85f29bd-423d-4674-82cf-e0c5653e3128",
   "metadata": {},
   "outputs": [
    {
     "name": "stdout",
     "output_type": "stream",
     "text": [
      "300\n"
     ]
    }
   ],
   "source": [
    "add()"
   ]
  },
  {
   "cell_type": "code",
   "execution_count": 49,
   "id": "a89ea836-f753-4d89-8fed-ff179015c963",
   "metadata": {},
   "outputs": [
    {
     "data": {
      "text/plain": [
       "100"
      ]
     },
     "execution_count": 49,
     "metadata": {},
     "output_type": "execute_result"
    }
   ],
   "source": [
    "a"
   ]
  },
  {
   "cell_type": "code",
   "execution_count": 50,
   "id": "dfca2f05-c345-4e67-9fa8-f330c87a2274",
   "metadata": {},
   "outputs": [
    {
     "ename": "NameError",
     "evalue": "name 'a_1' is not defined",
     "output_type": "error",
     "traceback": [
      "\u001b[1;31m---------------------------------------------------------------------------\u001b[0m",
      "\u001b[1;31mNameError\u001b[0m                                 Traceback (most recent call last)",
      "Cell \u001b[1;32mIn[50], line 1\u001b[0m\n\u001b[1;32m----> 1\u001b[0m a_1\n",
      "\u001b[1;31mNameError\u001b[0m: name 'a_1' is not defined"
     ]
    }
   ],
   "source": [
    "a_1"
   ]
  },
  {
   "cell_type": "code",
   "execution_count": 71,
   "id": "4910a877-b2a0-4046-af3f-a4e5a3c74b10",
   "metadata": {},
   "outputs": [],
   "source": [
    "def add(x, y):\n",
    "    \n",
    "    def sub(a, b):\n",
    "        \n",
    "        print(a+b)\n",
    "    return x+y, x-y, x*y, x/y"
   ]
  },
  {
   "cell_type": "code",
   "execution_count": 70,
   "id": "be74314b-fbe8-4f12-ac40-71cd7d409666",
   "metadata": {},
   "outputs": [
    {
     "data": {
      "text/plain": [
       "(8, -2, 15, 0.6)"
      ]
     },
     "execution_count": 70,
     "metadata": {},
     "output_type": "execute_result"
    }
   ],
   "source": [
    "add(3, 5)"
   ]
  },
  {
   "cell_type": "code",
   "execution_count": 66,
   "id": "9761d50b-8a60-4035-8d63-099aeceea9a0",
   "metadata": {},
   "outputs": [],
   "source": [
    "addition, _, _, _ = add(3, 5)"
   ]
  },
  {
   "cell_type": "code",
   "execution_count": 67,
   "id": "95a6df97-0518-4b92-90cb-dfaedb54cbe2",
   "metadata": {},
   "outputs": [
    {
     "data": {
      "text/plain": [
       "8"
      ]
     },
     "execution_count": 67,
     "metadata": {},
     "output_type": "execute_result"
    }
   ],
   "source": [
    "addition"
   ]
  },
  {
   "cell_type": "code",
   "execution_count": 68,
   "id": "c322c5e7-3093-491b-aa13-31a28d0a1ac3",
   "metadata": {},
   "outputs": [
    {
     "data": {
      "text/plain": [
       "0.6"
      ]
     },
     "execution_count": 68,
     "metadata": {},
     "output_type": "execute_result"
    }
   ],
   "source": [
    "_"
   ]
  },
  {
   "cell_type": "code",
   "execution_count": 76,
   "id": "98b3e7da-2a6f-4b8e-8dc5-540130ace5fd",
   "metadata": {},
   "outputs": [],
   "source": [
    "a_1 = 8"
   ]
  },
  {
   "cell_type": "code",
   "execution_count": 77,
   "id": "d89e97cb-778e-414d-ade4-6aa603db6b0d",
   "metadata": {},
   "outputs": [],
   "source": [
    "b_1 = 10"
   ]
  },
  {
   "cell_type": "code",
   "execution_count": 78,
   "id": "18605bef-6f9f-4c41-9f18-6b7fbf0b63d6",
   "metadata": {},
   "outputs": [],
   "source": [
    "def archit(a, b):\n",
    "    print(a+b)"
   ]
  },
  {
   "cell_type": "code",
   "execution_count": 79,
   "id": "84fa3a38-33ba-4244-b2bf-33116a9210f8",
   "metadata": {},
   "outputs": [
    {
     "name": "stdout",
     "output_type": "stream",
     "text": [
      "18\n"
     ]
    }
   ],
   "source": [
    "archit(a_1, b_1)"
   ]
  },
  {
   "cell_type": "code",
   "execution_count": 85,
   "id": "240b932a-9afe-4a1a-8abe-cbed3534c94b",
   "metadata": {},
   "outputs": [
    {
     "name": "stdout",
     "output_type": "stream",
     "text": [
      "Manish Yadav\n"
     ]
    }
   ],
   "source": [
    "def firstname(n):\n",
    "    return n\n",
    "def lastname(b):\n",
    "    return b\n",
    "\n",
    "a = firstname('Manish')\n",
    "b = lastname(\"yadav\")\n",
    "print(a+\" \"+c)"
   ]
  },
  {
   "cell_type": "code",
   "execution_count": 88,
   "id": "411f361a-e4e8-42f9-a559-3399a622c9cd",
   "metadata": {},
   "outputs": [],
   "source": [
    "def f1(first):\n",
    "    return first\n",
    "\n",
    "def f2(second):\n",
    "    return second\n",
    "\n",
    "firstname = f1('Anirudh')\n",
    "secondname = f2(' chaudhary')"
   ]
  },
  {
   "cell_type": "code",
   "execution_count": 89,
   "id": "3273c744-edf4-42bf-afe5-e8c29569b708",
   "metadata": {},
   "outputs": [
    {
     "name": "stdout",
     "output_type": "stream",
     "text": [
      "Anirudh chaudhary\n"
     ]
    }
   ],
   "source": [
    "print(firstname +secondname)"
   ]
  },
  {
   "cell_type": "code",
   "execution_count": 90,
   "id": "f4be9465-5843-44bf-8bde-b533e6a71659",
   "metadata": {},
   "outputs": [],
   "source": [
    "def fullname():\n",
    "    a = f1('Anirudh')\n",
    "    b =f2(' chaudhary')\n",
    "    return a+b"
   ]
  },
  {
   "cell_type": "code",
   "execution_count": 91,
   "id": "99c27eec-7c41-4e7c-b758-6d3fe594764f",
   "metadata": {},
   "outputs": [
    {
     "data": {
      "text/plain": [
       "'Anirudh chaudhary'"
      ]
     },
     "execution_count": 91,
     "metadata": {},
     "output_type": "execute_result"
    }
   ],
   "source": [
    "fullname()"
   ]
  },
  {
   "cell_type": "code",
   "execution_count": 95,
   "id": "618acfdf-4f95-45bc-a927-736dcd623d19",
   "metadata": {},
   "outputs": [],
   "source": [
    "def fullname(f1, f2):\n",
    "    \n",
    "    return f1('anirudh') + f2(' chaudhary')"
   ]
  },
  {
   "cell_type": "code",
   "execution_count": 96,
   "id": "968bb531-fbbf-40fb-b528-edd79341ce4a",
   "metadata": {},
   "outputs": [
    {
     "data": {
      "text/plain": [
       "'anirudh chaudhary'"
      ]
     },
     "execution_count": 96,
     "metadata": {},
     "output_type": "execute_result"
    }
   ],
   "source": [
    "fullname(f1, f2)"
   ]
  },
  {
   "cell_type": "code",
   "execution_count": 99,
   "id": "6546082f-b1ab-4977-a563-f9217ed07fd3",
   "metadata": {},
   "outputs": [],
   "source": [
    "st = 'programming is awesome'\n",
    "st = st.split()\n",
    "s1 = 'aeiou'\n",
    "total_score = 0\n",
    "for word in st:\n",
    "    vowel_count = 0\n",
    "    for char in word:\n",
    "        if char in s1:\n",
    "            vowel_count = vowel_count + 1\n",
    "    if vowel_count %2 == 0:\n",
    "        score = 2\n",
    "    else:\n",
    "        score = 1\n",
    "    total_score = total_score + score"
   ]
  },
  {
   "cell_type": "code",
   "execution_count": 100,
   "id": "26ada672-c0e1-44f0-bf7c-c6f4b96175e2",
   "metadata": {},
   "outputs": [
    {
     "data": {
      "text/plain": [
       "4"
      ]
     },
     "execution_count": 100,
     "metadata": {},
     "output_type": "execute_result"
    }
   ],
   "source": [
    "total_score"
   ]
  },
  {
   "cell_type": "code",
   "execution_count": 101,
   "id": "9b7da62a-c757-4605-9d18-57ae98b37ac3",
   "metadata": {},
   "outputs": [],
   "source": [
    "def score_string(st):\n",
    "    st = st.split()\n",
    "    s1 = 'aeiou'\n",
    "    total_score = 0\n",
    "    for word in st:\n",
    "        vowel_count = 0\n",
    "        for char in word:\n",
    "            if char in s1:\n",
    "                vowel_count = vowel_count + 1\n",
    "        if vowel_count %2 == 0:\n",
    "            score = 2\n",
    "        else:\n",
    "            score = 1\n",
    "        total_score = total_score + score\n",
    "    return total_score"
   ]
  },
  {
   "cell_type": "code",
   "execution_count": 104,
   "id": "b404e414-e307-43fe-a10b-a41ed30ba7fc",
   "metadata": {},
   "outputs": [],
   "source": [
    "score = score_string('Programming is not so diffuclt ?')"
   ]
  },
  {
   "cell_type": "code",
   "execution_count": 105,
   "id": "2e9d0210-5f3b-42fc-9f70-3e922a8f6f2c",
   "metadata": {},
   "outputs": [
    {
     "data": {
      "text/plain": [
       "8"
      ]
     },
     "execution_count": 105,
     "metadata": {},
     "output_type": "execute_result"
    }
   ],
   "source": [
    "score"
   ]
  },
  {
   "cell_type": "code",
   "execution_count": 110,
   "id": "4399c19a-a4b8-4bf2-90b6-5841a785217f",
   "metadata": {},
   "outputs": [
    {
     "name": "stdout",
     "output_type": "stream",
     "text": [
      "10\n"
     ]
    }
   ],
   "source": [
    "a = 10\n",
    "while True:\n",
    "    print(a)\n",
    "    if a == 9:\n",
    "        continue\n",
    "    else:\n",
    "        break\n",
    "    a = a - 1"
   ]
  },
  {
   "cell_type": "code",
   "execution_count": 111,
   "id": "a491fa26-c04b-4030-b236-34927913cc5c",
   "metadata": {},
   "outputs": [
    {
     "data": {
      "text/plain": [
       "10"
      ]
     },
     "execution_count": 111,
     "metadata": {},
     "output_type": "execute_result"
    }
   ],
   "source": [
    "a"
   ]
  },
  {
   "cell_type": "code",
   "execution_count": 112,
   "id": "4d703de1-fd20-4f07-b311-a8c96edf7bea",
   "metadata": {},
   "outputs": [
    {
     "name": "stdout",
     "output_type": "stream",
     "text": [
      "Scikit-learn Cosine Similarity: 0.9746318461970762\n"
     ]
    }
   ],
   "source": [
    "from sklearn.metrics.pairwise import cosine_similarity\n",
    "import numpy as np\n",
    "\n",
    "# Example usage\n",
    "vector_a = np.array([[1, 2, 3]]) # Reshape for sklearn\n",
    "vector_b = np.array([[4, 5, 6]]) # Reshape for sklearn\n",
    "\n",
    "similarity = cosine_similarity(vector_a, vector_b)[0][0]\n",
    "print(f\"Scikit-learn Cosine Similarity: {similarity}\")"
   ]
  },
  {
   "cell_type": "code",
   "execution_count": 114,
   "id": "6fd0a700-c4cb-4bd7-892c-7cfe95ed7322",
   "metadata": {},
   "outputs": [
    {
     "name": "stdout",
     "output_type": "stream",
     "text": [
      "[1, 2, 3] [4, 5, 6]\n",
      "NumPy Cosine Similarity: 0.9746318461970762\n"
     ]
    }
   ],
   "source": [
    "import numpy as np\n",
    "\n",
    "def cosine_similarity_numpy(vec1, vec2):\n",
    "    vec1_np = np.array(vec1)\n",
    "    vec2_np = np.array(vec2)\n",
    "    print(vec1, vec2)\n",
    "    dot_product = np.dot(vec1_np, vec2_np)\n",
    "    magnitude_vec1 = np.linalg.norm(vec1_np)\n",
    "    magnitude_vec2 = np.linalg.norm(vec2_np)\n",
    "\n",
    "    if magnitude_vec1 == 0 or magnitude_vec2 == 0:\n",
    "        return 0\n",
    "\n",
    "    return dot_product / (magnitude_vec1 * magnitude_vec2)\n",
    "\n",
    "# Example usage\n",
    "vector_a = [1, 2, 3]\n",
    "vector_b = [4, 5, 6]\n",
    "similarity = cosine_similarity_numpy(vector_a, vector_b)\n",
    "print(f\"NumPy Cosine Similarity: {similarity}\")"
   ]
  },
  {
   "cell_type": "code",
   "execution_count": 7,
   "id": "f69c9ce9-ead7-450f-b972-47a3c02a3017",
   "metadata": {},
   "outputs": [],
   "source": [
    "from langchain_huggingface.embeddings import HuggingFaceEmbeddings\n",
    "from sklearn.metrics.pairwise import cosine_similarity\n",
    "from langchain_ollama import OllamaLLM\n",
    "\n",
    "# Initialize LLM and embedding model\n",
    "llm = OllamaLLM(model=\"mistral\", temperature=0, max_token=512)\n",
    "model_name = 'sentence-transformers/all-mpnet-base-v2'\n",
    "embedding_model = HuggingFaceEmbeddings(model_name=model_name)"
   ]
  },
  {
   "cell_type": "code",
   "execution_count": 9,
   "id": "4f0e5047-de81-4fc8-b23a-1627cd10483c",
   "metadata": {},
   "outputs": [
    {
     "data": {
      "text/plain": [
       "{'question1': 'what is the difference between list and tuple in python?',\n",
       " 'question2': 'how is the list data structure different from tuples?'}"
      ]
     },
     "execution_count": 9,
     "metadata": {},
     "output_type": "execute_result"
    }
   ],
   "source": [
    "import warnings\n",
    "warnings.filterwarnings(\"ignore\") \n",
    "questions"
   ]
  },
  {
   "cell_type": "code",
   "execution_count": 11,
   "id": "41762435-aa24-4506-8f82-0751fa9e740e",
   "metadata": {},
   "outputs": [
    {
     "name": "stdout",
     "output_type": "stream",
     "text": [
      "what is the difference between list and tuple in python?\n"
     ]
    },
    {
     "name": "stdin",
     "output_type": "stream",
     "text": [
      "give me your response :  A list is an ordered, mutable collection of items enclosed in square brackets [], meaning its contents can be changed after creation, while a tuple is an ordered, immutable collection of items enclosed in parentheses (), meaning its contents cannot be modified once defined. Both store sequences of elements, can contain different data types, and allow access by index, but lists are dynamic and can grow or shrink, whereas tuples are fixed.  \n"
     ]
    },
    {
     "name": "stdout",
     "output_type": "stream",
     "text": [
      "LLm_answer :  In Python, both lists (`[]`) and tuples (`()`) are ordered collections of objects. However, lists are mutable, meaning their elements can be changed, while tuples are immutable, meaning their elements cannot be changed once assigned.\n"
     ]
    },
    {
     "ename": "TypeError",
     "evalue": "unsupported format string passed to numpy.ndarray.__format__",
     "output_type": "error",
     "traceback": [
      "\u001b[1;31m---------------------------------------------------------------------------\u001b[0m",
      "\u001b[1;31mTypeError\u001b[0m                                 Traceback (most recent call last)",
      "Cell \u001b[1;32mIn[11], line 16\u001b[0m\n\u001b[0;32m     12\u001b[0m \u001b[38;5;28mprint\u001b[39m(\u001b[38;5;124mf\u001b[39m\u001b[38;5;124m\"\u001b[39m\u001b[38;5;124mLLm_answer : \u001b[39m\u001b[38;5;132;01m{\u001b[39;00mllm_response\u001b[38;5;132;01m}\u001b[39;00m\u001b[38;5;124m\"\u001b[39m)\n\u001b[0;32m     15\u001b[0m similarity \u001b[38;5;241m=\u001b[39m cosine_similarity([llm_response_vector], [user_input_vector])\n\u001b[1;32m---> 16\u001b[0m \u001b[38;5;28mprint\u001b[39m(\u001b[38;5;124mf\u001b[39m\u001b[38;5;124m\"\u001b[39m\u001b[38;5;124msimilar answer : \u001b[39m\u001b[38;5;132;01m{\u001b[39;00msimilarity\u001b[38;5;132;01m:\u001b[39;00m\u001b[38;5;124m.4f\u001b[39m\u001b[38;5;132;01m}\u001b[39;00m\u001b[38;5;124m\"\u001b[39m)\n\u001b[0;32m     17\u001b[0m similar_answer\u001b[38;5;241m.\u001b[39mappend(similarity)\n\u001b[0;32m     19\u001b[0m \u001b[38;5;28mprint\u001b[39m(similar_answer)\n",
      "\u001b[1;31mTypeError\u001b[0m: unsupported format string passed to numpy.ndarray.__format__"
     ]
    }
   ],
   "source": [
    "# similar_answer = []\n",
    "# for _, ques in questions.items():\n",
    "q =  questions['question1']\n",
    "print(q)\n",
    "\n",
    "prompt = f\"Answer the following question in 2 lines:\\n{q}\"\n",
    "user_input = input(\"give me your response : \")\n",
    "user_input_vector = embedding_model.embed_query(user_input)\n",
    "\n",
    "llm_response = llm.invoke(prompt)\n",
    "llm_response_vector = embedding_model.embed_query(llm_response)\n",
    "print(f\"LLm_answer : {llm_response}\")\n",
    "\n",
    "\n",
    "similarity = cosine_similarity([llm_response_vector], [user_input_vector])\n",
    "print(f\"similar answer : {similarity:.4f}\")\n",
    "similar_answer.append(similarity)\n",
    "\n",
    "print(similar_answer)\n"
   ]
  },
  {
   "cell_type": "code",
   "execution_count": null,
   "id": "4f6fcae8-b74a-4b05-8699-2e2dde009d39",
   "metadata": {},
   "outputs": [],
   "source": []
  }
 ],
 "metadata": {
  "kernelspec": {
   "display_name": "Python 3 (ipykernel)",
   "language": "python",
   "name": "python3"
  },
  "language_info": {
   "codemirror_mode": {
    "name": "ipython",
    "version": 3
   },
   "file_extension": ".py",
   "mimetype": "text/x-python",
   "name": "python",
   "nbconvert_exporter": "python",
   "pygments_lexer": "ipython3",
   "version": "3.12.7"
  }
 },
 "nbformat": 4,
 "nbformat_minor": 5
}
