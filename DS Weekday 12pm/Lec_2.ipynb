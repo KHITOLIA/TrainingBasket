{
 "cells": [
  {
   "cell_type": "markdown",
   "id": "9bbaf1d9-7ee7-4b12-a855-226e254a653b",
   "metadata": {},
   "source": [
    "# LOGICAL OPERATORS\n",
    "1. OR\n",
    "2. AND"
   ]
  },
  {
   "cell_type": "code",
   "execution_count": 10,
   "id": "f6110268-7734-4829-a745-a9a87cde1a6a",
   "metadata": {},
   "outputs": [
    {
     "data": {
      "text/plain": [
       "False"
      ]
     },
     "execution_count": 10,
     "metadata": {},
     "output_type": "execute_result"
    }
   ],
   "source": [
    "a = 5 \n",
    "a > 6"
   ]
  },
  {
   "cell_type": "code",
   "execution_count": 11,
   "id": "000775e3-c8f1-4baf-be59-0c3c87fcff55",
   "metadata": {},
   "outputs": [
    {
     "data": {
      "text/plain": [
       "True"
      ]
     },
     "execution_count": 11,
     "metadata": {},
     "output_type": "execute_result"
    }
   ],
   "source": [
    "a < 10"
   ]
  },
  {
   "cell_type": "code",
   "execution_count": 12,
   "id": "e0826b83-e3b9-4236-ac8a-7d4dcf44336b",
   "metadata": {},
   "outputs": [
    {
     "data": {
      "text/plain": [
       "False"
      ]
     },
     "execution_count": 12,
     "metadata": {},
     "output_type": "execute_result"
    }
   ],
   "source": [
    "a == 10"
   ]
  },
  {
   "cell_type": "code",
   "execution_count": 15,
   "id": "923124c0-67ad-404e-bdb4-8faccb3dbd2c",
   "metadata": {},
   "outputs": [
    {
     "data": {
      "text/plain": [
       "True"
      ]
     },
     "execution_count": 15,
     "metadata": {},
     "output_type": "execute_result"
    }
   ],
   "source": [
    "a != 10"
   ]
  },
  {
   "cell_type": "code",
   "execution_count": 18,
   "id": "bb90fb45-6255-46a8-b580-008c6e034038",
   "metadata": {},
   "outputs": [
    {
     "data": {
      "text/plain": [
       "False"
      ]
     },
     "execution_count": 18,
     "metadata": {},
     "output_type": "execute_result"
    }
   ],
   "source": [
    "a == 7 "
   ]
  },
  {
   "cell_type": "code",
   "execution_count": 20,
   "id": "ffdf1860-350e-4574-9bf1-44ddd1597313",
   "metadata": {},
   "outputs": [
    {
     "data": {
      "text/plain": [
       "False"
      ]
     },
     "execution_count": 20,
     "metadata": {},
     "output_type": "execute_result"
    }
   ],
   "source": [
    "a >= 9"
   ]
  },
  {
   "cell_type": "code",
   "execution_count": 22,
   "id": "47edba2b-f929-4af4-8ef0-cc50fd00e161",
   "metadata": {},
   "outputs": [
    {
     "data": {
      "text/plain": [
       "True"
      ]
     },
     "execution_count": 22,
     "metadata": {},
     "output_type": "execute_result"
    }
   ],
   "source": [
    "a > 2 or a < 4 or a > 3"
   ]
  },
  {
   "cell_type": "code",
   "execution_count": 23,
   "id": "7942106f-9d60-4993-8b5f-6c59bb63b550",
   "metadata": {},
   "outputs": [
    {
     "data": {
      "text/plain": [
       "False"
      ]
     },
     "execution_count": 23,
     "metadata": {},
     "output_type": "execute_result"
    }
   ],
   "source": [
    "a < 3 and a > 3"
   ]
  },
  {
   "cell_type": "code",
   "execution_count": 24,
   "id": "9e47b814-fa37-43ca-bd0d-ec4b8752cc08",
   "metadata": {},
   "outputs": [
    {
     "data": {
      "text/plain": [
       "True"
      ]
     },
     "execution_count": 24,
     "metadata": {},
     "output_type": "execute_result"
    }
   ],
   "source": [
    "a > 3 and a < 10"
   ]
  },
  {
   "cell_type": "code",
   "execution_count": 26,
   "id": "64ab4640-050c-4e79-bb7b-ad608cd89053",
   "metadata": {},
   "outputs": [
    {
     "data": {
      "text/plain": [
       "5"
      ]
     },
     "execution_count": 26,
     "metadata": {},
     "output_type": "execute_result"
    }
   ],
   "source": [
    "a"
   ]
  },
  {
   "cell_type": "code",
   "execution_count": 27,
   "id": "0402c7ca-e7b9-4169-a79f-2bb9d9eb1c98",
   "metadata": {},
   "outputs": [
    {
     "data": {
      "text/plain": [
       "140720018041400"
      ]
     },
     "execution_count": 27,
     "metadata": {},
     "output_type": "execute_result"
    }
   ],
   "source": [
    "id(a)"
   ]
  },
  {
   "cell_type": "code",
   "execution_count": 28,
   "id": "809be29c-167c-4330-a319-e22766900166",
   "metadata": {},
   "outputs": [],
   "source": [
    "a = 6"
   ]
  },
  {
   "cell_type": "code",
   "execution_count": 31,
   "id": "530898c7-3f6d-41f4-9f52-5dfa87306774",
   "metadata": {},
   "outputs": [
    {
     "data": {
      "text/plain": [
       "140720018041432"
      ]
     },
     "execution_count": 31,
     "metadata": {},
     "output_type": "execute_result"
    }
   ],
   "source": [
    "id(a)"
   ]
  },
  {
   "cell_type": "code",
   "execution_count": 32,
   "id": "d213bdf5-3907-49ff-8cf1-0c2e24528787",
   "metadata": {},
   "outputs": [
    {
     "data": {
      "text/plain": [
       "'a'"
      ]
     },
     "execution_count": 32,
     "metadata": {},
     "output_type": "execute_result"
    }
   ],
   "source": [
    "'a'"
   ]
  },
  {
   "cell_type": "code",
   "execution_count": 50,
   "id": "38a82467-3e7b-4ec4-afe4-8b94d8964956",
   "metadata": {},
   "outputs": [
    {
     "data": {
      "text/plain": [
       "'z'"
      ]
     },
     "execution_count": 50,
     "metadata": {},
     "output_type": "execute_result"
    }
   ],
   "source": [
    "# ord('z')\n",
    "chr(ord('Z') + 32)"
   ]
  },
  {
   "cell_type": "code",
   "execution_count": 52,
   "id": "dbeb453b-f718-4fd4-9516-f6a13e126c57",
   "metadata": {},
   "outputs": [
    {
     "data": {
      "text/plain": [
       "97"
      ]
     },
     "execution_count": 52,
     "metadata": {},
     "output_type": "execute_result"
    }
   ],
   "source": [
    "ord('a')"
   ]
  },
  {
   "cell_type": "code",
   "execution_count": 55,
   "id": "a446d253-9298-4dbe-b006-109bc4052328",
   "metadata": {},
   "outputs": [
    {
     "data": {
      "text/plain": [
       "'a'"
      ]
     },
     "execution_count": 55,
     "metadata": {},
     "output_type": "execute_result"
    }
   ],
   "source": [
    "chr(ord(\"A\") + 32)"
   ]
  },
  {
   "cell_type": "code",
   "execution_count": 66,
   "id": "a272da0f-e196-4a32-a84b-bc34bb06e574",
   "metadata": {},
   "outputs": [],
   "source": [
    "global_ = 'Tushar'\n",
    "def hello():\n",
    "    ab = 'Vikash'\n",
    "    local = \"Shivam\"\n",
    "    print(ab)\n",
    "    print(id(ab))"
   ]
  },
  {
   "cell_type": "code",
   "execution_count": 67,
   "id": "6ff61f5d-1009-47fb-a2aa-07485028a737",
   "metadata": {},
   "outputs": [
    {
     "data": {
      "text/plain": [
       "'Tushar'"
      ]
     },
     "execution_count": 67,
     "metadata": {},
     "output_type": "execute_result"
    }
   ],
   "source": [
    "global_"
   ]
  },
  {
   "cell_type": "code",
   "execution_count": 71,
   "id": "14308721-367f-43d6-9cee-1abe90bc4deb",
   "metadata": {},
   "outputs": [
    {
     "name": "stdout",
     "output_type": "stream",
     "text": [
      "Vikash\n",
      "2216385503584\n"
     ]
    },
    {
     "data": {
      "text/plain": [
       "(2216385618752, None)"
      ]
     },
     "execution_count": 71,
     "metadata": {},
     "output_type": "execute_result"
    }
   ],
   "source": [
    "id(hello), hello()"
   ]
  },
  {
   "cell_type": "code",
   "execution_count": 72,
   "id": "fc386052-8c95-4bd2-840e-80a036e37faa",
   "metadata": {},
   "outputs": [],
   "source": [
    "def addition(a,b):\n",
    "    print(a+b)"
   ]
  },
  {
   "cell_type": "code",
   "execution_count": 80,
   "id": "7ddea4a7-69bf-49f8-ab34-62a5a1bdd834",
   "metadata": {},
   "outputs": [
    {
     "name": "stdout",
     "output_type": "stream",
     "text": [
      "5\n"
     ]
    }
   ],
   "source": [
    "addition(2,3)"
   ]
  },
  {
   "cell_type": "code",
   "execution_count": 81,
   "id": "f7186dd2-856c-47f3-8c3e-f46f9e9647f9",
   "metadata": {},
   "outputs": [
    {
     "name": "stdout",
     "output_type": "stream",
     "text": [
      "5\n",
      "None\n"
     ]
    }
   ],
   "source": [
    "print(addition(2, 3))"
   ]
  },
  {
   "cell_type": "code",
   "execution_count": 119,
   "id": "08c9f8f1-0eec-45f6-add1-cf617477f743",
   "metadata": {},
   "outputs": [],
   "source": [
    "def calc(a, b):\n",
    "\n",
    "    print((a+b), (a-b), (a*b), (a/b))"
   ]
  },
  {
   "cell_type": "code",
   "execution_count": 83,
   "id": "377ea0b3-00b7-4a9f-856e-a8a25a79ddb6",
   "metadata": {},
   "outputs": [
    {
     "name": "stdout",
     "output_type": "stream",
     "text": [
      "12 4 32 2.0\n"
     ]
    }
   ],
   "source": [
    "calc(8, 4)"
   ]
  },
  {
   "cell_type": "code",
   "execution_count": 84,
   "id": "6bb4b60b-725e-44d2-83e6-e28e8169782a",
   "metadata": {},
   "outputs": [
    {
     "name": "stdout",
     "output_type": "stream",
     "text": [
      "Vikash\n",
      "2216385503584\n"
     ]
    }
   ],
   "source": [
    "hello()"
   ]
  },
  {
   "cell_type": "code",
   "execution_count": 85,
   "id": "f106d9d6-2228-4272-b030-87faa58535dc",
   "metadata": {},
   "outputs": [
    {
     "name": "stdout",
     "output_type": "stream",
     "text": [
      "Vikash\n",
      "2216385503584\n"
     ]
    }
   ],
   "source": [
    "memory_address = hello()"
   ]
  },
  {
   "cell_type": "code",
   "execution_count": 89,
   "id": "cc91a178-3031-47ea-a424-0a92b2312b7b",
   "metadata": {},
   "outputs": [
    {
     "name": "stdout",
     "output_type": "stream",
     "text": [
      "None\n"
     ]
    }
   ],
   "source": [
    "print(memory_address)"
   ]
  },
  {
   "cell_type": "code",
   "execution_count": 95,
   "id": "45419b45-386c-4457-bdfb-a6c56af412e8",
   "metadata": {},
   "outputs": [],
   "source": [
    "def memory(a):\n",
    "    print(chr(a))\n",
    "    return id(a)"
   ]
  },
  {
   "cell_type": "code",
   "execution_count": 98,
   "id": "d02975e8-e435-47cd-a08b-641dcead481b",
   "metadata": {},
   "outputs": [
    {
     "name": "stdout",
     "output_type": "stream",
     "text": [
      "z\n"
     ]
    },
    {
     "data": {
      "text/plain": [
       "140720018045144"
      ]
     },
     "execution_count": 98,
     "metadata": {},
     "output_type": "execute_result"
    }
   ],
   "source": [
    "memory(122)"
   ]
  },
  {
   "cell_type": "code",
   "execution_count": 101,
   "id": "2ab88502-41b8-44ec-a2ed-69ae785b6453",
   "metadata": {},
   "outputs": [
    {
     "name": "stdout",
     "output_type": "stream",
     "text": [
      "\u0016\n"
     ]
    }
   ],
   "source": [
    "address = memory(22)"
   ]
  },
  {
   "cell_type": "code",
   "execution_count": 102,
   "id": "9abdeb5a-3ee7-4366-a698-a2bcd86ff5c4",
   "metadata": {},
   "outputs": [
    {
     "data": {
      "text/plain": [
       "140720018041944"
      ]
     },
     "execution_count": 102,
     "metadata": {},
     "output_type": "execute_result"
    }
   ],
   "source": [
    "address"
   ]
  },
  {
   "cell_type": "code",
   "execution_count": 111,
   "id": "d8b8df89-4afb-4b14-97c4-f5469544e01f",
   "metadata": {},
   "outputs": [],
   "source": [
    "def calc(a,b):\n",
    "    return a+b , a-b, a*b"
   ]
  },
  {
   "cell_type": "code",
   "execution_count": 114,
   "id": "eab3de29-339e-4268-b20d-9741c8d87ab4",
   "metadata": {},
   "outputs": [],
   "source": [
    "sum_, sub_, mult = calc(3, 2)"
   ]
  },
  {
   "cell_type": "code",
   "execution_count": 115,
   "id": "8999323b-d90b-499e-916b-a95c9edb52e2",
   "metadata": {},
   "outputs": [
    {
     "data": {
      "text/plain": [
       "6"
      ]
     },
     "execution_count": 115,
     "metadata": {},
     "output_type": "execute_result"
    }
   ],
   "source": [
    "mult"
   ]
  },
  {
   "cell_type": "code",
   "execution_count": 116,
   "id": "2e33d46d-c1e1-4b83-b2d6-019238626fb0",
   "metadata": {},
   "outputs": [
    {
     "data": {
      "text/plain": [
       "1"
      ]
     },
     "execution_count": 116,
     "metadata": {},
     "output_type": "execute_result"
    }
   ],
   "source": [
    "sub_"
   ]
  },
  {
   "cell_type": "code",
   "execution_count": 117,
   "id": "ae379b72-99aa-4f88-8288-fd41edf309f7",
   "metadata": {},
   "outputs": [
    {
     "data": {
      "text/plain": [
       "5"
      ]
     },
     "execution_count": 117,
     "metadata": {},
     "output_type": "execute_result"
    }
   ],
   "source": [
    "sum_"
   ]
  },
  {
   "cell_type": "code",
   "execution_count": 125,
   "id": "16cd0d21-b65a-478c-8791-592df0f9353f",
   "metadata": {},
   "outputs": [
    {
     "data": {
      "text/plain": [
       "'Tushar khitoliya'"
      ]
     },
     "execution_count": 125,
     "metadata": {},
     "output_type": "execute_result"
    }
   ],
   "source": [
    "'Tushar khitoliya'"
   ]
  },
  {
   "cell_type": "code",
   "execution_count": 140,
   "id": "ef91705c-e6da-4874-9fc1-69d9340d42a7",
   "metadata": {},
   "outputs": [],
   "source": [
    "def name(a, b):\n",
    "    print(a + b, a, b ,sep = \" * \")"
   ]
  },
  {
   "cell_type": "code",
   "execution_count": 141,
   "id": "6f94f80d-922f-444b-ac2d-61ec37b13a89",
   "metadata": {},
   "outputs": [
    {
     "name": "stdout",
     "output_type": "stream",
     "text": [
      "Tusharkhitoliya * Tushar * khitoliya\n"
     ]
    }
   ],
   "source": [
    "name(\"Tushar\", \"khitoliya\")"
   ]
  },
  {
   "cell_type": "code",
   "execution_count": null,
   "id": "55107d4e-775c-4a3b-b1a7-2ef13881e07f",
   "metadata": {},
   "outputs": [],
   "source": []
  }
 ],
 "metadata": {
  "kernelspec": {
   "display_name": "Python 3 (ipykernel)",
   "language": "python",
   "name": "python3"
  },
  "language_info": {
   "codemirror_mode": {
    "name": "ipython",
    "version": 3
   },
   "file_extension": ".py",
   "mimetype": "text/x-python",
   "name": "python",
   "nbconvert_exporter": "python",
   "pygments_lexer": "ipython3",
   "version": "3.12.7"
  }
 },
 "nbformat": 4,
 "nbformat_minor": 5
}
