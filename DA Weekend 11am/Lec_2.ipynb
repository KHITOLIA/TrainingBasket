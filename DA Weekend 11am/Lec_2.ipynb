{
 "cells": [
  {
   "cell_type": "markdown",
   "id": "0c041643-2e10-420c-86c6-f87b68e1320f",
   "metadata": {},
   "source": [
    "# Operators \n",
    "1. Arithmetic Operators\n",
    "2. Comparison Operators\n",
    "3. Logical Operators"
   ]
  },
  {
   "cell_type": "code",
   "execution_count": 3,
   "id": "852f666f-e02d-454e-967f-de76885b78bc",
   "metadata": {},
   "outputs": [],
   "source": [
    "a = 4 # assigning the value of a "
   ]
  },
  {
   "cell_type": "code",
   "execution_count": 4,
   "id": "581d0030-48bd-4e45-8b93-7d911a9bccf7",
   "metadata": {},
   "outputs": [
    {
     "data": {
      "text/plain": [
       "4"
      ]
     },
     "execution_count": 4,
     "metadata": {},
     "output_type": "execute_result"
    }
   ],
   "source": [
    "a"
   ]
  },
  {
   "cell_type": "code",
   "execution_count": 5,
   "id": "345e51d6-6e4b-4daa-b7b6-8e11c94d7694",
   "metadata": {},
   "outputs": [],
   "source": [
    "b = 6"
   ]
  },
  {
   "cell_type": "code",
   "execution_count": 6,
   "id": "0b965a9f-ed79-4984-b742-0495e4158822",
   "metadata": {},
   "outputs": [
    {
     "data": {
      "text/plain": [
       "int"
      ]
     },
     "execution_count": 6,
     "metadata": {},
     "output_type": "execute_result"
    }
   ],
   "source": [
    "type(a)"
   ]
  },
  {
   "cell_type": "code",
   "execution_count": 7,
   "id": "2aa1040c-8ab9-4638-ae2b-072c855fe02e",
   "metadata": {},
   "outputs": [
    {
     "data": {
      "text/plain": [
       "int"
      ]
     },
     "execution_count": 7,
     "metadata": {},
     "output_type": "execute_result"
    }
   ],
   "source": [
    "type(b)"
   ]
  },
  {
   "cell_type": "code",
   "execution_count": 8,
   "id": "e029ac78-59d5-430e-b6b5-f187ed88fca8",
   "metadata": {},
   "outputs": [
    {
     "name": "stdout",
     "output_type": "stream",
     "text": [
      "4\n"
     ]
    }
   ],
   "source": [
    "print(a)"
   ]
  },
  {
   "cell_type": "code",
   "execution_count": 9,
   "id": "7a51ac14-e0f9-4b3b-9b10-f7007d645d73",
   "metadata": {},
   "outputs": [
    {
     "name": "stdout",
     "output_type": "stream",
     "text": [
      "a\n"
     ]
    }
   ],
   "source": [
    "print('a')"
   ]
  },
  {
   "cell_type": "code",
   "execution_count": 10,
   "id": "b9670692-355d-4ef9-addf-2ee1c3948de9",
   "metadata": {},
   "outputs": [
    {
     "name": "stdout",
     "output_type": "stream",
     "text": [
      "6\n"
     ]
    }
   ],
   "source": [
    "print(b)"
   ]
  },
  {
   "cell_type": "code",
   "execution_count": 11,
   "id": "3fff3a7a-48b6-4d74-89bd-2ead9cbdcb52",
   "metadata": {},
   "outputs": [
    {
     "data": {
      "text/plain": [
       "10"
      ]
     },
     "execution_count": 11,
     "metadata": {},
     "output_type": "execute_result"
    }
   ],
   "source": [
    "a + b"
   ]
  },
  {
   "cell_type": "code",
   "execution_count": 12,
   "id": "5fba703c-f58f-4281-8ada-1a4bc057fe76",
   "metadata": {},
   "outputs": [
    {
     "data": {
      "text/plain": [
       "-2"
      ]
     },
     "execution_count": 12,
     "metadata": {},
     "output_type": "execute_result"
    }
   ],
   "source": [
    "a - b"
   ]
  },
  {
   "cell_type": "code",
   "execution_count": 13,
   "id": "0a07f59e-468c-4382-b683-7ca3431861f0",
   "metadata": {},
   "outputs": [
    {
     "data": {
      "text/plain": [
       "24"
      ]
     },
     "execution_count": 13,
     "metadata": {},
     "output_type": "execute_result"
    }
   ],
   "source": [
    "a*b"
   ]
  },
  {
   "cell_type": "code",
   "execution_count": 14,
   "id": "d7f56109-ca66-46c0-8975-caaa9c717613",
   "metadata": {},
   "outputs": [
    {
     "data": {
      "text/plain": [
       "1.5"
      ]
     },
     "execution_count": 14,
     "metadata": {},
     "output_type": "execute_result"
    }
   ],
   "source": [
    "b/a "
   ]
  },
  {
   "cell_type": "code",
   "execution_count": 16,
   "id": "a28a92c8-6e28-4110-8a28-3c56070d1e6f",
   "metadata": {},
   "outputs": [],
   "source": [
    "a = 49.0 "
   ]
  },
  {
   "cell_type": "code",
   "execution_count": 17,
   "id": "ecda48ac-ceb3-4599-8c38-179c3666904e",
   "metadata": {},
   "outputs": [
    {
     "data": {
      "text/plain": [
       "float"
      ]
     },
     "execution_count": 17,
     "metadata": {},
     "output_type": "execute_result"
    }
   ],
   "source": [
    "type(a)"
   ]
  },
  {
   "cell_type": "code",
   "execution_count": 18,
   "id": "4f675062-fd19-458d-88eb-9c19345d3c55",
   "metadata": {},
   "outputs": [],
   "source": [
    "b = 8.0"
   ]
  },
  {
   "cell_type": "code",
   "execution_count": 19,
   "id": "455dbebd-6d76-48da-9aea-3d2bcbe76a3e",
   "metadata": {},
   "outputs": [
    {
     "data": {
      "text/plain": [
       "1.0"
      ]
     },
     "execution_count": 19,
     "metadata": {},
     "output_type": "execute_result"
    }
   ],
   "source": [
    "a % b"
   ]
  },
  {
   "cell_type": "code",
   "execution_count": 20,
   "id": "0508b5f3-635f-42f5-b967-6959e2c23180",
   "metadata": {},
   "outputs": [
    {
     "data": {
      "text/plain": [
       "8.0"
      ]
     },
     "execution_count": 20,
     "metadata": {},
     "output_type": "execute_result"
    }
   ],
   "source": [
    "b % a"
   ]
  },
  {
   "cell_type": "code",
   "execution_count": 21,
   "id": "6d1404e7-a429-4064-9491-71017a0452c4",
   "metadata": {},
   "outputs": [
    {
     "data": {
      "text/plain": [
       "6.125"
      ]
     },
     "execution_count": 21,
     "metadata": {},
     "output_type": "execute_result"
    }
   ],
   "source": [
    "a / b"
   ]
  },
  {
   "cell_type": "code",
   "execution_count": 22,
   "id": "b3678255-47a6-4890-9db7-5c78afce3c1d",
   "metadata": {},
   "outputs": [
    {
     "data": {
      "text/plain": [
       "6.0"
      ]
     },
     "execution_count": 22,
     "metadata": {},
     "output_type": "execute_result"
    }
   ],
   "source": [
    "a // b"
   ]
  },
  {
   "cell_type": "code",
   "execution_count": 23,
   "id": "69844cb3-df3f-468e-a03b-45de65188bad",
   "metadata": {},
   "outputs": [],
   "source": [
    "# Comparison Operators"
   ]
  },
  {
   "cell_type": "code",
   "execution_count": 24,
   "id": "4e06ae87-cdbf-4650-99c1-84cef2d958d0",
   "metadata": {},
   "outputs": [
    {
     "data": {
      "text/plain": [
       "49.0"
      ]
     },
     "execution_count": 24,
     "metadata": {},
     "output_type": "execute_result"
    }
   ],
   "source": [
    "a"
   ]
  },
  {
   "cell_type": "code",
   "execution_count": 25,
   "id": "bceb0fe3-649d-4a5a-9ec7-89b9f83c353e",
   "metadata": {},
   "outputs": [
    {
     "data": {
      "text/plain": [
       "True"
      ]
     },
     "execution_count": 25,
     "metadata": {},
     "output_type": "execute_result"
    }
   ],
   "source": [
    "a > 40"
   ]
  },
  {
   "cell_type": "code",
   "execution_count": 26,
   "id": "bd719d26-cc2b-46d4-94b3-318aafe8a5c1",
   "metadata": {},
   "outputs": [
    {
     "data": {
      "text/plain": [
       "True"
      ]
     },
     "execution_count": 26,
     "metadata": {},
     "output_type": "execute_result"
    }
   ],
   "source": [
    "a < 50"
   ]
  },
  {
   "cell_type": "code",
   "execution_count": 27,
   "id": "2a03e68f-1879-441f-b247-986688e4c86c",
   "metadata": {},
   "outputs": [
    {
     "data": {
      "text/plain": [
       "False"
      ]
     },
     "execution_count": 27,
     "metadata": {},
     "output_type": "execute_result"
    }
   ],
   "source": [
    "a >= 50"
   ]
  },
  {
   "cell_type": "code",
   "execution_count": 28,
   "id": "9f2fe508-7df9-4112-afab-d06727ae0843",
   "metadata": {},
   "outputs": [
    {
     "data": {
      "text/plain": [
       "True"
      ]
     },
     "execution_count": 28,
     "metadata": {},
     "output_type": "execute_result"
    }
   ],
   "source": [
    "a <= 49"
   ]
  },
  {
   "cell_type": "code",
   "execution_count": 29,
   "id": "86e7422f-99ff-41d0-9a32-a3a216a4bf51",
   "metadata": {},
   "outputs": [
    {
     "data": {
      "text/plain": [
       "True"
      ]
     },
     "execution_count": 29,
     "metadata": {},
     "output_type": "execute_result"
    }
   ],
   "source": [
    "a == 49"
   ]
  },
  {
   "cell_type": "code",
   "execution_count": 30,
   "id": "f48abe68-be98-4200-877f-1c872848a34f",
   "metadata": {},
   "outputs": [
    {
     "data": {
      "text/plain": [
       "False"
      ]
     },
     "execution_count": 30,
     "metadata": {},
     "output_type": "execute_result"
    }
   ],
   "source": [
    "a == 90"
   ]
  },
  {
   "cell_type": "code",
   "execution_count": 33,
   "id": "846840b5-ac60-436b-8d24-5d5f4eb096fb",
   "metadata": {},
   "outputs": [
    {
     "data": {
      "text/plain": [
       "False"
      ]
     },
     "execution_count": 33,
     "metadata": {},
     "output_type": "execute_result"
    }
   ],
   "source": [
    "a != 49"
   ]
  },
  {
   "cell_type": "code",
   "execution_count": 34,
   "id": "695356d2-ff26-41ec-b86e-43d60bbbdcbf",
   "metadata": {},
   "outputs": [
    {
     "data": {
      "text/plain": [
       "True"
      ]
     },
     "execution_count": 34,
     "metadata": {},
     "output_type": "execute_result"
    }
   ],
   "source": [
    "a != 50"
   ]
  },
  {
   "cell_type": "code",
   "execution_count": 35,
   "id": "03570b06-ca2f-4d34-ac2d-d291adbb89ef",
   "metadata": {},
   "outputs": [],
   "source": [
    "# Logical Operator "
   ]
  },
  {
   "cell_type": "code",
   "execution_count": 36,
   "id": "bc27179a-a946-4864-8577-9cf9944bfd09",
   "metadata": {},
   "outputs": [],
   "source": [
    "a = 1\n",
    "b = 1"
   ]
  },
  {
   "cell_type": "code",
   "execution_count": 38,
   "id": "b6808169-24f8-4cad-b660-d6481ccb0399",
   "metadata": {},
   "outputs": [
    {
     "data": {
      "text/plain": [
       "True"
      ]
     },
     "execution_count": 38,
     "metadata": {},
     "output_type": "execute_result"
    }
   ],
   "source": [
    "a > 6 or b < 6\n",
    "# 1 > 6 or 1 < 6"
   ]
  },
  {
   "cell_type": "code",
   "execution_count": 39,
   "id": "ae91ee18-db4c-4636-8d96-f62d96bdf122",
   "metadata": {},
   "outputs": [
    {
     "data": {
      "text/plain": [
       "False"
      ]
     },
     "execution_count": 39,
     "metadata": {},
     "output_type": "execute_result"
    }
   ],
   "source": [
    "a > 6 and b < 6"
   ]
  },
  {
   "cell_type": "code",
   "execution_count": 41,
   "id": "6f6ca6f3-03d0-4607-bde5-936f538c8715",
   "metadata": {},
   "outputs": [],
   "source": [
    "# print() : simply print anything\n",
    "# type()  : datatype\n",
    "\n",
    "# operators"
   ]
  },
  {
   "cell_type": "code",
   "execution_count": 57,
   "id": "bc8c50c5-a139-4793-a103-12456c96488a",
   "metadata": {},
   "outputs": [
    {
     "name": "stdout",
     "output_type": "stream",
     "text": [
      "Sum of a and b :  30\n"
     ]
    }
   ],
   "source": [
    "a = 10\n",
    "b = 20\n",
    "print(\"Sum of a and b : \", a+b)"
   ]
  },
  {
   "cell_type": "code",
   "execution_count": 46,
   "id": "ebeba0db-144c-4b3f-b6d3-9ee389400639",
   "metadata": {},
   "outputs": [],
   "source": [
    "# print the reminder and qoutient of a and b "
   ]
  },
  {
   "cell_type": "code",
   "execution_count": 58,
   "id": "2e43bd3b-8866-476a-a736-da35bd7223c7",
   "metadata": {},
   "outputs": [
    {
     "name": "stdout",
     "output_type": "stream",
     "text": [
      "reminder of a and b =  10 \n",
      "qoutient of a and b =  0\n"
     ]
    }
   ],
   "source": [
    "print(\"reminder of a and b = \", a % b,\"\\nqoutient of a and b = \", a // b)"
   ]
  },
  {
   "cell_type": "code",
   "execution_count": null,
   "id": "c8719089-a23a-4435-86cc-e3d22fb52762",
   "metadata": {},
   "outputs": [],
   "source": []
  }
 ],
 "metadata": {
  "kernelspec": {
   "display_name": "Python 3 (ipykernel)",
   "language": "python",
   "name": "python3"
  },
  "language_info": {
   "codemirror_mode": {
    "name": "ipython",
    "version": 3
   },
   "file_extension": ".py",
   "mimetype": "text/x-python",
   "name": "python",
   "nbconvert_exporter": "python",
   "pygments_lexer": "ipython3",
   "version": "3.12.7"
  }
 },
 "nbformat": 4,
 "nbformat_minor": 5
}
